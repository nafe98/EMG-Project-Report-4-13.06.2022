{
 "cells": [
  {
   "cell_type": "markdown",
   "id": "a76f9c3f",
   "metadata": {},
   "source": [
    "# Importing Libraries"
   ]
  },
  {
   "cell_type": "code",
   "execution_count": 1,
   "id": "cb8d9727",
   "metadata": {},
   "outputs": [],
   "source": [
    "import numpy as np\n",
    "import pandas as pd\n",
    "import matplotlib.pyplot as plt\n",
    "import seaborn as sns\n",
    "from sklearn.model_selection import train_test_split\n",
    "from sklearn.metrics import confusion_matrix, f1_score, accuracy_score, classification_report"
   ]
  },
  {
   "cell_type": "markdown",
   "id": "576dc0b5",
   "metadata": {},
   "source": [
    "# Exploratory Data Analysis¶"
   ]
  },
  {
   "cell_type": "code",
   "execution_count": 2,
   "id": "c72bb47b",
   "metadata": {},
   "outputs": [
    {
     "data": {
      "text/html": [
       "<div>\n",
       "<style scoped>\n",
       "    .dataframe tbody tr th:only-of-type {\n",
       "        vertical-align: middle;\n",
       "    }\n",
       "\n",
       "    .dataframe tbody tr th {\n",
       "        vertical-align: top;\n",
       "    }\n",
       "\n",
       "    .dataframe thead th {\n",
       "        text-align: right;\n",
       "    }\n",
       "</style>\n",
       "<table border=\"1\" class=\"dataframe\">\n",
       "  <thead>\n",
       "    <tr style=\"text-align: right;\">\n",
       "      <th></th>\n",
       "      <th>Emg1</th>\n",
       "      <th>Emg2</th>\n",
       "      <th>Emg3</th>\n",
       "      <th>Emg4</th>\n",
       "      <th>Emg5</th>\n",
       "      <th>Emg6</th>\n",
       "      <th>Emg7</th>\n",
       "      <th>Emg8</th>\n",
       "      <th>Emg9</th>\n",
       "      <th>Emg10</th>\n",
       "      <th>repetition</th>\n",
       "      <th>rerepetition</th>\n",
       "      <th>stimulus</th>\n",
       "      <th>restimulus</th>\n",
       "    </tr>\n",
       "  </thead>\n",
       "  <tbody>\n",
       "    <tr>\n",
       "      <th>234831</th>\n",
       "      <td>0.7495</td>\n",
       "      <td>0.4932</td>\n",
       "      <td>0.4590</td>\n",
       "      <td>0.6763</td>\n",
       "      <td>0.0513</td>\n",
       "      <td>0.0024</td>\n",
       "      <td>0.0342</td>\n",
       "      <td>0.6714</td>\n",
       "      <td>1.2939</td>\n",
       "      <td>0.0830</td>\n",
       "      <td>9</td>\n",
       "      <td>9</td>\n",
       "      <td>16</td>\n",
       "      <td>16</td>\n",
       "    </tr>\n",
       "    <tr>\n",
       "      <th>387036</th>\n",
       "      <td>0.0732</td>\n",
       "      <td>0.0024</td>\n",
       "      <td>0.0024</td>\n",
       "      <td>0.0024</td>\n",
       "      <td>0.0024</td>\n",
       "      <td>0.0024</td>\n",
       "      <td>0.2686</td>\n",
       "      <td>0.3247</td>\n",
       "      <td>0.0024</td>\n",
       "      <td>0.2466</td>\n",
       "      <td>0</td>\n",
       "      <td>0</td>\n",
       "      <td>0</td>\n",
       "      <td>0</td>\n",
       "    </tr>\n",
       "    <tr>\n",
       "      <th>421569</th>\n",
       "      <td>0.8667</td>\n",
       "      <td>0.0342</td>\n",
       "      <td>0.0488</td>\n",
       "      <td>0.1440</td>\n",
       "      <td>0.0586</td>\n",
       "      <td>0.1245</td>\n",
       "      <td>0.6763</td>\n",
       "      <td>0.9033</td>\n",
       "      <td>0.0122</td>\n",
       "      <td>0.8472</td>\n",
       "      <td>4</td>\n",
       "      <td>4</td>\n",
       "      <td>20</td>\n",
       "      <td>20</td>\n",
       "    </tr>\n",
       "    <tr>\n",
       "      <th>27164</th>\n",
       "      <td>0.0977</td>\n",
       "      <td>0.0024</td>\n",
       "      <td>0.0024</td>\n",
       "      <td>0.0024</td>\n",
       "      <td>0.0024</td>\n",
       "      <td>0.0049</td>\n",
       "      <td>0.4614</td>\n",
       "      <td>0.3516</td>\n",
       "      <td>0.0024</td>\n",
       "      <td>0.1440</td>\n",
       "      <td>0</td>\n",
       "      <td>0</td>\n",
       "      <td>0</td>\n",
       "      <td>0</td>\n",
       "    </tr>\n",
       "    <tr>\n",
       "      <th>445718</th>\n",
       "      <td>0.7593</td>\n",
       "      <td>0.0073</td>\n",
       "      <td>0.0024</td>\n",
       "      <td>0.0171</td>\n",
       "      <td>0.0195</td>\n",
       "      <td>0.0684</td>\n",
       "      <td>0.3198</td>\n",
       "      <td>0.9546</td>\n",
       "      <td>0.0220</td>\n",
       "      <td>0.1440</td>\n",
       "      <td>1</td>\n",
       "      <td>0</td>\n",
       "      <td>22</td>\n",
       "      <td>0</td>\n",
       "    </tr>\n",
       "  </tbody>\n",
       "</table>\n",
       "</div>"
      ],
      "text/plain": [
       "          Emg1    Emg2    Emg3    Emg4    Emg5    Emg6    Emg7    Emg8  \\\n",
       "234831  0.7495  0.4932  0.4590  0.6763  0.0513  0.0024  0.0342  0.6714   \n",
       "387036  0.0732  0.0024  0.0024  0.0024  0.0024  0.0024  0.2686  0.3247   \n",
       "421569  0.8667  0.0342  0.0488  0.1440  0.0586  0.1245  0.6763  0.9033   \n",
       "27164   0.0977  0.0024  0.0024  0.0024  0.0024  0.0049  0.4614  0.3516   \n",
       "445718  0.7593  0.0073  0.0024  0.0171  0.0195  0.0684  0.3198  0.9546   \n",
       "\n",
       "          Emg9   Emg10  repetition  rerepetition  stimulus  restimulus  \n",
       "234831  1.2939  0.0830           9             9        16          16  \n",
       "387036  0.0024  0.2466           0             0         0           0  \n",
       "421569  0.0122  0.8472           4             4        20          20  \n",
       "27164   0.0024  0.1440           0             0         0           0  \n",
       "445718  0.0220  0.1440           1             0        22           0  "
      ]
     },
     "execution_count": 2,
     "metadata": {},
     "output_type": "execute_result"
    }
   ],
   "source": [
    "raw_data = pd.read_excel('Dataset 1 Patient 18.xlsx')\n",
    "raw_data.sample(5)"
   ]
  },
  {
   "cell_type": "code",
   "execution_count": 3,
   "id": "a85e933c",
   "metadata": {},
   "outputs": [
    {
     "data": {
      "text/plain": [
       "(465533, 14)"
      ]
     },
     "execution_count": 3,
     "metadata": {},
     "output_type": "execute_result"
    }
   ],
   "source": [
    "raw_data.shape"
   ]
  },
  {
   "cell_type": "code",
   "execution_count": 4,
   "id": "e05e202f",
   "metadata": {},
   "outputs": [
    {
     "data": {
      "text/plain": [
       "Index(['Emg1', 'Emg2', 'Emg3', 'Emg4', 'Emg5', 'Emg6', 'Emg7', 'Emg8', 'Emg9',\n",
       "       'Emg10', 'repetition', 'rerepetition', 'stimulus', 'restimulus'],\n",
       "      dtype='object')"
      ]
     },
     "execution_count": 4,
     "metadata": {},
     "output_type": "execute_result"
    }
   ],
   "source": [
    "raw_data.columns"
   ]
  },
  {
   "cell_type": "code",
   "execution_count": 5,
   "id": "fde113c0",
   "metadata": {},
   "outputs": [
    {
     "name": "stdout",
     "output_type": "stream",
     "text": [
      "<class 'pandas.core.frame.DataFrame'>\n",
      "RangeIndex: 465533 entries, 0 to 465532\n",
      "Data columns (total 14 columns):\n",
      " #   Column        Non-Null Count   Dtype  \n",
      "---  ------        --------------   -----  \n",
      " 0   Emg1          465533 non-null  float64\n",
      " 1   Emg2          465533 non-null  float64\n",
      " 2   Emg3          465533 non-null  float64\n",
      " 3   Emg4          465533 non-null  float64\n",
      " 4   Emg5          465533 non-null  float64\n",
      " 5   Emg6          465533 non-null  float64\n",
      " 6   Emg7          465533 non-null  float64\n",
      " 7   Emg8          465533 non-null  float64\n",
      " 8   Emg9          465533 non-null  float64\n",
      " 9   Emg10         465533 non-null  float64\n",
      " 10  repetition    465533 non-null  int64  \n",
      " 11  rerepetition  465533 non-null  int64  \n",
      " 12  stimulus      465533 non-null  int64  \n",
      " 13  restimulus    465533 non-null  int64  \n",
      "dtypes: float64(10), int64(4)\n",
      "memory usage: 49.7 MB\n"
     ]
    }
   ],
   "source": [
    "raw_data.info()"
   ]
  },
  {
   "cell_type": "code",
   "execution_count": 6,
   "id": "0ae97d58",
   "metadata": {},
   "outputs": [
    {
     "data": {
      "text/html": [
       "<div>\n",
       "<style scoped>\n",
       "    .dataframe tbody tr th:only-of-type {\n",
       "        vertical-align: middle;\n",
       "    }\n",
       "\n",
       "    .dataframe tbody tr th {\n",
       "        vertical-align: top;\n",
       "    }\n",
       "\n",
       "    .dataframe thead th {\n",
       "        text-align: right;\n",
       "    }\n",
       "</style>\n",
       "<table border=\"1\" class=\"dataframe\">\n",
       "  <thead>\n",
       "    <tr style=\"text-align: right;\">\n",
       "      <th></th>\n",
       "      <th>Emg1</th>\n",
       "      <th>Emg2</th>\n",
       "      <th>Emg3</th>\n",
       "      <th>Emg4</th>\n",
       "      <th>Emg5</th>\n",
       "      <th>Emg6</th>\n",
       "      <th>Emg7</th>\n",
       "      <th>Emg8</th>\n",
       "      <th>Emg9</th>\n",
       "      <th>Emg10</th>\n",
       "      <th>repetition</th>\n",
       "      <th>rerepetition</th>\n",
       "      <th>stimulus</th>\n",
       "      <th>restimulus</th>\n",
       "    </tr>\n",
       "  </thead>\n",
       "  <tbody>\n",
       "    <tr>\n",
       "      <th>count</th>\n",
       "      <td>465533.000000</td>\n",
       "      <td>465533.000000</td>\n",
       "      <td>465533.000000</td>\n",
       "      <td>465533.000000</td>\n",
       "      <td>465533.000000</td>\n",
       "      <td>465533.000000</td>\n",
       "      <td>465533.000000</td>\n",
       "      <td>465533.000000</td>\n",
       "      <td>465533.000000</td>\n",
       "      <td>465533.000000</td>\n",
       "      <td>465533.000000</td>\n",
       "      <td>465533.000000</td>\n",
       "      <td>465533.000000</td>\n",
       "      <td>465533.000000</td>\n",
       "    </tr>\n",
       "    <tr>\n",
       "      <th>mean</th>\n",
       "      <td>0.413167</td>\n",
       "      <td>0.117170</td>\n",
       "      <td>0.100465</td>\n",
       "      <td>0.060755</td>\n",
       "      <td>0.016404</td>\n",
       "      <td>0.034723</td>\n",
       "      <td>0.206456</td>\n",
       "      <td>0.394925</td>\n",
       "      <td>0.103675</td>\n",
       "      <td>0.206401</td>\n",
       "      <td>3.174965</td>\n",
       "      <td>2.367557</td>\n",
       "      <td>5.626065</td>\n",
       "      <td>4.255810</td>\n",
       "    </tr>\n",
       "    <tr>\n",
       "      <th>std</th>\n",
       "      <td>0.517157</td>\n",
       "      <td>0.271862</td>\n",
       "      <td>0.248185</td>\n",
       "      <td>0.184027</td>\n",
       "      <td>0.044366</td>\n",
       "      <td>0.095586</td>\n",
       "      <td>0.344918</td>\n",
       "      <td>0.450669</td>\n",
       "      <td>0.259265</td>\n",
       "      <td>0.352236</td>\n",
       "      <td>3.484753</td>\n",
       "      <td>3.325123</td>\n",
       "      <td>6.580095</td>\n",
       "      <td>6.332307</td>\n",
       "    </tr>\n",
       "    <tr>\n",
       "      <th>min</th>\n",
       "      <td>0.000000</td>\n",
       "      <td>0.000000</td>\n",
       "      <td>0.000000</td>\n",
       "      <td>0.000000</td>\n",
       "      <td>0.002400</td>\n",
       "      <td>0.000000</td>\n",
       "      <td>0.000000</td>\n",
       "      <td>0.000000</td>\n",
       "      <td>0.000000</td>\n",
       "      <td>0.000000</td>\n",
       "      <td>0.000000</td>\n",
       "      <td>0.000000</td>\n",
       "      <td>0.000000</td>\n",
       "      <td>0.000000</td>\n",
       "    </tr>\n",
       "    <tr>\n",
       "      <th>25%</th>\n",
       "      <td>0.105000</td>\n",
       "      <td>0.002400</td>\n",
       "      <td>0.002400</td>\n",
       "      <td>0.002400</td>\n",
       "      <td>0.002400</td>\n",
       "      <td>0.002400</td>\n",
       "      <td>0.024400</td>\n",
       "      <td>0.102500</td>\n",
       "      <td>0.002400</td>\n",
       "      <td>0.002400</td>\n",
       "      <td>0.000000</td>\n",
       "      <td>0.000000</td>\n",
       "      <td>0.000000</td>\n",
       "      <td>0.000000</td>\n",
       "    </tr>\n",
       "    <tr>\n",
       "      <th>50%</th>\n",
       "      <td>0.219700</td>\n",
       "      <td>0.002400</td>\n",
       "      <td>0.002400</td>\n",
       "      <td>0.002400</td>\n",
       "      <td>0.002400</td>\n",
       "      <td>0.002400</td>\n",
       "      <td>0.100100</td>\n",
       "      <td>0.261200</td>\n",
       "      <td>0.002400</td>\n",
       "      <td>0.087900</td>\n",
       "      <td>2.000000</td>\n",
       "      <td>0.000000</td>\n",
       "      <td>3.000000</td>\n",
       "      <td>0.000000</td>\n",
       "    </tr>\n",
       "    <tr>\n",
       "      <th>75%</th>\n",
       "      <td>0.507800</td>\n",
       "      <td>0.105000</td>\n",
       "      <td>0.063500</td>\n",
       "      <td>0.039100</td>\n",
       "      <td>0.004900</td>\n",
       "      <td>0.029300</td>\n",
       "      <td>0.239300</td>\n",
       "      <td>0.510300</td>\n",
       "      <td>0.065900</td>\n",
       "      <td>0.258800</td>\n",
       "      <td>6.000000</td>\n",
       "      <td>5.000000</td>\n",
       "      <td>10.000000</td>\n",
       "      <td>8.000000</td>\n",
       "    </tr>\n",
       "    <tr>\n",
       "      <th>max</th>\n",
       "      <td>4.665500</td>\n",
       "      <td>4.665500</td>\n",
       "      <td>3.601100</td>\n",
       "      <td>4.204100</td>\n",
       "      <td>0.988800</td>\n",
       "      <td>2.390100</td>\n",
       "      <td>4.663100</td>\n",
       "      <td>4.665500</td>\n",
       "      <td>3.337400</td>\n",
       "      <td>4.663100</td>\n",
       "      <td>10.000000</td>\n",
       "      <td>10.000000</td>\n",
       "      <td>23.000000</td>\n",
       "      <td>23.000000</td>\n",
       "    </tr>\n",
       "  </tbody>\n",
       "</table>\n",
       "</div>"
      ],
      "text/plain": [
       "                Emg1           Emg2           Emg3           Emg4  \\\n",
       "count  465533.000000  465533.000000  465533.000000  465533.000000   \n",
       "mean        0.413167       0.117170       0.100465       0.060755   \n",
       "std         0.517157       0.271862       0.248185       0.184027   \n",
       "min         0.000000       0.000000       0.000000       0.000000   \n",
       "25%         0.105000       0.002400       0.002400       0.002400   \n",
       "50%         0.219700       0.002400       0.002400       0.002400   \n",
       "75%         0.507800       0.105000       0.063500       0.039100   \n",
       "max         4.665500       4.665500       3.601100       4.204100   \n",
       "\n",
       "                Emg5           Emg6           Emg7           Emg8  \\\n",
       "count  465533.000000  465533.000000  465533.000000  465533.000000   \n",
       "mean        0.016404       0.034723       0.206456       0.394925   \n",
       "std         0.044366       0.095586       0.344918       0.450669   \n",
       "min         0.002400       0.000000       0.000000       0.000000   \n",
       "25%         0.002400       0.002400       0.024400       0.102500   \n",
       "50%         0.002400       0.002400       0.100100       0.261200   \n",
       "75%         0.004900       0.029300       0.239300       0.510300   \n",
       "max         0.988800       2.390100       4.663100       4.665500   \n",
       "\n",
       "                Emg9          Emg10     repetition   rerepetition  \\\n",
       "count  465533.000000  465533.000000  465533.000000  465533.000000   \n",
       "mean        0.103675       0.206401       3.174965       2.367557   \n",
       "std         0.259265       0.352236       3.484753       3.325123   \n",
       "min         0.000000       0.000000       0.000000       0.000000   \n",
       "25%         0.002400       0.002400       0.000000       0.000000   \n",
       "50%         0.002400       0.087900       2.000000       0.000000   \n",
       "75%         0.065900       0.258800       6.000000       5.000000   \n",
       "max         3.337400       4.663100      10.000000      10.000000   \n",
       "\n",
       "            stimulus     restimulus  \n",
       "count  465533.000000  465533.000000  \n",
       "mean        5.626065       4.255810  \n",
       "std         6.580095       6.332307  \n",
       "min         0.000000       0.000000  \n",
       "25%         0.000000       0.000000  \n",
       "50%         3.000000       0.000000  \n",
       "75%        10.000000       8.000000  \n",
       "max        23.000000      23.000000  "
      ]
     },
     "execution_count": 6,
     "metadata": {},
     "output_type": "execute_result"
    }
   ],
   "source": [
    "raw_data.describe(include='all')"
   ]
  },
  {
   "cell_type": "code",
   "execution_count": 7,
   "id": "071b96e6",
   "metadata": {},
   "outputs": [
    {
     "name": "stdout",
     "output_type": "stream",
     "text": [
      "Unique Dependent values and their counts :\n",
      "0     196783\n",
      "12     15549\n",
      "8      15546\n",
      "7      15542\n",
      "2      15538\n",
      "5      15535\n",
      "4      15520\n",
      "11     15516\n",
      "9      15512\n",
      "6      15499\n",
      "10     15472\n",
      "1      15463\n",
      "3      15462\n",
      "13     10372\n",
      "17     10362\n",
      "14     10353\n",
      "15     10321\n",
      "16     10282\n",
      "21      5181\n",
      "18      5170\n",
      "19      5169\n",
      "20      5132\n",
      "23      5132\n",
      "22      5122\n",
      "Name: stimulus, dtype: int64\n"
     ]
    }
   ],
   "source": [
    "print(\"Unique Dependent values and their counts :\")\n",
    "print(raw_data[\"stimulus\"].value_counts())"
   ]
  },
  {
   "cell_type": "code",
   "execution_count": 8,
   "id": "50a0f9be",
   "metadata": {},
   "outputs": [
    {
     "data": {
      "text/plain": [
       "Text(0, 0.5, 'Frequency')"
      ]
     },
     "execution_count": 8,
     "metadata": {},
     "output_type": "execute_result"
    },
    {
     "data": {
      "image/png": "[encoded data removed]",
      "text/plain": [
       "<Figure size 432x288 with 1 Axes>"
      ]
     },
     "metadata": {
      "needs_background": "light"
     },
     "output_type": "display_data"
    }
   ],
   "source": [
    "count_classes = pd.value_counts(raw_data['stimulus'], sort = True)\n",
    "\n",
    "count_classes.plot(kind = 'bar', rot=0)\n",
    "\n",
    "plt.title(\"stimulus Class Distribution\")\n",
    "\n",
    "plt.xlabel(\"Class\")\n",
    "\n",
    "plt.ylabel(\"Frequency\")"
   ]
  },
  {
   "cell_type": "markdown",
   "id": "275440c4",
   "metadata": {},
   "source": [
    "# Data Cleaning and Exploratory Data Analysis with New Data"
   ]
  },
  {
   "cell_type": "code",
   "execution_count": 9,
   "id": "e8ed6471",
   "metadata": {},
   "outputs": [],
   "source": [
    "index_names = raw_data[ (raw_data['stimulus'] != raw_data['restimulus'])].index\n",
    "raw_data.drop(index_names, inplace = True)"
   ]
  },
  {
   "cell_type": "code",
   "execution_count": 10,
   "id": "395d42c1",
   "metadata": {},
   "outputs": [],
   "source": [
    "index_names = raw_data[ (raw_data['repetition'] != raw_data['rerepetition'])].index\n",
    "raw_data.drop(index_names, inplace = True)"
   ]
  },
  {
   "cell_type": "code",
   "execution_count": 11,
   "id": "5ccb8950",
   "metadata": {},
   "outputs": [
    {
     "data": {
      "text/html": [
       "<div>\n",
       "<style scoped>\n",
       "    .dataframe tbody tr th:only-of-type {\n",
       "        vertical-align: middle;\n",
       "    }\n",
       "\n",
       "    .dataframe tbody tr th {\n",
       "        vertical-align: top;\n",
       "    }\n",
       "\n",
       "    .dataframe thead th {\n",
       "        text-align: right;\n",
       "    }\n",
       "</style>\n",
       "<table border=\"1\" class=\"dataframe\">\n",
       "  <thead>\n",
       "    <tr style=\"text-align: right;\">\n",
       "      <th></th>\n",
       "      <th>Emg1</th>\n",
       "      <th>Emg2</th>\n",
       "      <th>Emg3</th>\n",
       "      <th>Emg4</th>\n",
       "      <th>Emg5</th>\n",
       "      <th>Emg6</th>\n",
       "      <th>Emg7</th>\n",
       "      <th>Emg8</th>\n",
       "      <th>Emg9</th>\n",
       "      <th>Emg10</th>\n",
       "      <th>repetition</th>\n",
       "      <th>rerepetition</th>\n",
       "      <th>stimulus</th>\n",
       "      <th>restimulus</th>\n",
       "    </tr>\n",
       "  </thead>\n",
       "  <tbody>\n",
       "    <tr>\n",
       "      <th>41791</th>\n",
       "      <td>0.4883</td>\n",
       "      <td>0.5200</td>\n",
       "      <td>1.1816</td>\n",
       "      <td>0.1172</td>\n",
       "      <td>0.0073</td>\n",
       "      <td>0.0073</td>\n",
       "      <td>0.2905</td>\n",
       "      <td>0.8057</td>\n",
       "      <td>0.4102</td>\n",
       "      <td>0.4224</td>\n",
       "      <td>10</td>\n",
       "      <td>10</td>\n",
       "      <td>5</td>\n",
       "      <td>5</td>\n",
       "    </tr>\n",
       "    <tr>\n",
       "      <th>461139</th>\n",
       "      <td>0.8838</td>\n",
       "      <td>0.0684</td>\n",
       "      <td>0.0024</td>\n",
       "      <td>0.0024</td>\n",
       "      <td>0.0024</td>\n",
       "      <td>0.0073</td>\n",
       "      <td>0.0757</td>\n",
       "      <td>0.4297</td>\n",
       "      <td>0.0024</td>\n",
       "      <td>0.0073</td>\n",
       "      <td>0</td>\n",
       "      <td>0</td>\n",
       "      <td>0</td>\n",
       "      <td>0</td>\n",
       "    </tr>\n",
       "    <tr>\n",
       "      <th>175254</th>\n",
       "      <td>1.7065</td>\n",
       "      <td>0.7568</td>\n",
       "      <td>0.7104</td>\n",
       "      <td>0.1636</td>\n",
       "      <td>0.2588</td>\n",
       "      <td>0.2271</td>\n",
       "      <td>0.4028</td>\n",
       "      <td>0.7202</td>\n",
       "      <td>0.1978</td>\n",
       "      <td>0.5615</td>\n",
       "      <td>8</td>\n",
       "      <td>8</td>\n",
       "      <td>9</td>\n",
       "      <td>9</td>\n",
       "    </tr>\n",
       "    <tr>\n",
       "      <th>64074</th>\n",
       "      <td>0.1367</td>\n",
       "      <td>0.0024</td>\n",
       "      <td>0.0024</td>\n",
       "      <td>0.0024</td>\n",
       "      <td>0.0024</td>\n",
       "      <td>0.0024</td>\n",
       "      <td>0.0244</td>\n",
       "      <td>0.1685</td>\n",
       "      <td>0.0024</td>\n",
       "      <td>0.0171</td>\n",
       "      <td>0</td>\n",
       "      <td>0</td>\n",
       "      <td>0</td>\n",
       "      <td>0</td>\n",
       "    </tr>\n",
       "    <tr>\n",
       "      <th>433393</th>\n",
       "      <td>0.0171</td>\n",
       "      <td>0.1465</td>\n",
       "      <td>0.0024</td>\n",
       "      <td>0.0024</td>\n",
       "      <td>0.0024</td>\n",
       "      <td>0.0171</td>\n",
       "      <td>0.2197</td>\n",
       "      <td>0.0244</td>\n",
       "      <td>0.0024</td>\n",
       "      <td>0.0464</td>\n",
       "      <td>0</td>\n",
       "      <td>0</td>\n",
       "      <td>0</td>\n",
       "      <td>0</td>\n",
       "    </tr>\n",
       "  </tbody>\n",
       "</table>\n",
       "</div>"
      ],
      "text/plain": [
       "          Emg1    Emg2    Emg3    Emg4    Emg5    Emg6    Emg7    Emg8  \\\n",
       "41791   0.4883  0.5200  1.1816  0.1172  0.0073  0.0073  0.2905  0.8057   \n",
       "461139  0.8838  0.0684  0.0024  0.0024  0.0024  0.0073  0.0757  0.4297   \n",
       "175254  1.7065  0.7568  0.7104  0.1636  0.2588  0.2271  0.4028  0.7202   \n",
       "64074   0.1367  0.0024  0.0024  0.0024  0.0024  0.0024  0.0244  0.1685   \n",
       "433393  0.0171  0.1465  0.0024  0.0024  0.0024  0.0171  0.2197  0.0244   \n",
       "\n",
       "          Emg9   Emg10  repetition  rerepetition  stimulus  restimulus  \n",
       "41791   0.4102  0.4224          10            10         5           5  \n",
       "461139  0.0024  0.0073           0             0         0           0  \n",
       "175254  0.1978  0.5615           8             8         9           9  \n",
       "64074   0.0024  0.0171           0             0         0           0  \n",
       "433393  0.0024  0.0464           0             0         0           0  "
      ]
     },
     "execution_count": 11,
     "metadata": {},
     "output_type": "execute_result"
    }
   ],
   "source": [
    "raw_data.sample(5)"
   ]
  },
  {
   "cell_type": "code",
   "execution_count": 12,
   "id": "ab84cf47",
   "metadata": {},
   "outputs": [
    {
     "data": {
      "text/plain": [
       "(380921, 14)"
      ]
     },
     "execution_count": 12,
     "metadata": {},
     "output_type": "execute_result"
    }
   ],
   "source": [
    "raw_data.shape"
   ]
  },
  {
   "cell_type": "code",
   "execution_count": 13,
   "id": "fcb24936",
   "metadata": {},
   "outputs": [
    {
     "name": "stdout",
     "output_type": "stream",
     "text": [
      "<class 'pandas.core.frame.DataFrame'>\n",
      "Int64Index: 380921 entries, 0 to 465532\n",
      "Data columns (total 14 columns):\n",
      " #   Column        Non-Null Count   Dtype  \n",
      "---  ------        --------------   -----  \n",
      " 0   Emg1          380921 non-null  float64\n",
      " 1   Emg2          380921 non-null  float64\n",
      " 2   Emg3          380921 non-null  float64\n",
      " 3   Emg4          380921 non-null  float64\n",
      " 4   Emg5          380921 non-null  float64\n",
      " 5   Emg6          380921 non-null  float64\n",
      " 6   Emg7          380921 non-null  float64\n",
      " 7   Emg8          380921 non-null  float64\n",
      " 8   Emg9          380921 non-null  float64\n",
      " 9   Emg10         380921 non-null  float64\n",
      " 10  repetition    380921 non-null  int64  \n",
      " 11  rerepetition  380921 non-null  int64  \n",
      " 12  stimulus      380921 non-null  int64  \n",
      " 13  restimulus    380921 non-null  int64  \n",
      "dtypes: float64(10), int64(4)\n",
      "memory usage: 43.6 MB\n"
     ]
    }
   ],
   "source": [
    "raw_data.info()"
   ]
  },
  {
   "cell_type": "code",
   "execution_count": 14,
   "id": "8ada4ef1",
   "metadata": {},
   "outputs": [
    {
     "name": "stdout",
     "output_type": "stream",
     "text": [
      "Emg1            False\n",
      "Emg2            False\n",
      "Emg3            False\n",
      "Emg4            False\n",
      "Emg5            False\n",
      "Emg6            False\n",
      "Emg7            False\n",
      "Emg8            False\n",
      "Emg9            False\n",
      "Emg10           False\n",
      "repetition      False\n",
      "rerepetition    False\n",
      "stimulus        False\n",
      "restimulus      False\n",
      "dtype: bool\n"
     ]
    }
   ],
   "source": [
    "print(raw_data.isnull().any())"
   ]
  },
  {
   "cell_type": "code",
   "execution_count": 15,
   "id": "138ec425",
   "metadata": {},
   "outputs": [],
   "source": [
    "X = raw_data.iloc[:,0:10]\n",
    "y = raw_data.stimulus"
   ]
  },
  {
   "cell_type": "code",
   "execution_count": 16,
   "id": "9c1574d6",
   "metadata": {},
   "outputs": [],
   "source": [
    "# Splitting data for training and testing\n",
    "X_train, X_test, y_train, y_test = train_test_split(X, y, test_size = 0.2, random_state = 39)"
   ]
  },
  {
   "cell_type": "markdown",
   "id": "e657abbe",
   "metadata": {},
   "source": [
    "# Machine Learning Models"
   ]
  },
  {
   "cell_type": "markdown",
   "id": "8743ea5d",
   "metadata": {},
   "source": [
    "# Decision Tree"
   ]
  },
  {
   "cell_type": "code",
   "execution_count": 17,
   "id": "dbe7e4c1",
   "metadata": {},
   "outputs": [
    {
     "data": {
      "text/plain": [
       "DecisionTreeClassifier(criterion='entropy')"
      ]
     },
     "execution_count": 17,
     "metadata": {},
     "output_type": "execute_result"
    }
   ],
   "source": [
    "from sklearn import tree\n",
    "tree = tree.DecisionTreeClassifier(ccp_alpha= 0.0,\n",
    "              class_weight= None,\n",
    "              criterion = \"entropy\",\n",
    "              max_depth = None,\n",
    "              max_features = None,\n",
    "              max_leaf_nodes = None,\n",
    "              min_impurity_decrease = 0.0,\n",
    "              min_samples_leaf = 1,\n",
    "              min_samples_split = 2,\n",
    "              min_weight_fraction_leaf = 0.0,\n",
    "              random_state = None,\n",
    "              splitter = 'best')\n",
    "tree.fit(X_train, y_train)"
   ]
  },
  {
   "cell_type": "code",
   "execution_count": 18,
   "id": "bcb8239c",
   "metadata": {},
   "outputs": [],
   "source": [
    "y_pred1 = tree.predict(X_test)"
   ]
  },
  {
   "cell_type": "code",
   "execution_count": 19,
   "id": "95712989",
   "metadata": {},
   "outputs": [
    {
     "name": "stdout",
     "output_type": "stream",
     "text": [
      "Accuracy is: 84.10710769836582\n"
     ]
    }
   ],
   "source": [
    "from sklearn.metrics import accuracy_score\n",
    "accuracy = {accuracy_score(y_test, y_pred1)}\n",
    "print(f\"Accuracy is: {accuracy_score(y_test, y_pred1)* 100}\")"
   ]
  },
  {
   "cell_type": "code",
   "execution_count": 20,
   "id": "e1e5a0b3",
   "metadata": {},
   "outputs": [
    {
     "name": "stdout",
     "output_type": "stream",
     "text": [
      "\u001b[1mClassification report : \u001b[0m\n",
      "               precision    recall  f1-score   support\n",
      "\n",
      "           0       0.92      0.92      0.92     37921\n",
      "           1       0.80      0.80      0.80      2329\n",
      "           2       0.79      0.81      0.80      2183\n",
      "           3       0.73      0.76      0.74      2198\n",
      "           4       0.79      0.81      0.80      1991\n",
      "           5       0.77      0.78      0.78      2138\n",
      "           6       0.79      0.80      0.79      2215\n",
      "           7       0.73      0.74      0.74      2208\n",
      "           8       0.73      0.71      0.72      2271\n",
      "           9       0.70      0.71      0.71      2148\n",
      "          10       0.73      0.73      0.73      2046\n",
      "          11       0.75      0.76      0.75      2208\n",
      "          12       0.69      0.68      0.68      1979\n",
      "          13       0.80      0.78      0.79      1438\n",
      "          14       0.75      0.76      0.76      1369\n",
      "          15       0.70      0.68      0.69      1583\n",
      "          16       0.81      0.78      0.80      1564\n",
      "          17       0.81      0.79      0.80      1543\n",
      "          18       0.75      0.73      0.74       840\n",
      "          19       0.71      0.73      0.72       826\n",
      "          20       0.92      0.88      0.90       808\n",
      "          21       0.75      0.76      0.76       831\n",
      "          22       0.85      0.85      0.85       664\n",
      "          23       0.88      0.87      0.88       884\n",
      "\n",
      "    accuracy                           0.84     76185\n",
      "   macro avg       0.78      0.78      0.78     76185\n",
      "weighted avg       0.84      0.84      0.84     76185\n",
      "\n",
      "\u001b[1mConfusion Matrix : \u001b[0m\n"
     ]
    },
    {
     "data": {
      "image/png": "[encoded data removed]",
      "text/plain": [
       "<Figure size 432x288 with 2 Axes>"
      ]
     },
     "metadata": {
      "needs_background": "light"
     },
     "output_type": "display_data"
    }
   ],
   "source": [
    "print('\\033[1m' +'Classification report : '+ '\\033[0m\\n', classification_report(y_test, y_pred1))\n",
    "\n",
    "cm = confusion_matrix(y_pred1, y_test)\n",
    "print('\\033[1m' +'Confusion Matrix : '+ '\\033[0m')\n",
    "sns.heatmap(cm, cmap = 'OrRd',annot = True, fmt='d')\n",
    "plt.show()"
   ]
  },
  {
   "cell_type": "markdown",
   "id": "4ebcef17",
   "metadata": {},
   "source": [
    "# Evaluation -- Decision Tree"
   ]
  },
  {
   "cell_type": "code",
   "execution_count": 21,
   "id": "cbae2add",
   "metadata": {},
   "outputs": [
    {
     "name": "stdout",
     "output_type": "stream",
     "text": [
      "MAE: 1.2156592505086303\n",
      "MSE: 13.43901030386559\n",
      "RMSE: 3.6659255726031303\n"
     ]
    }
   ],
   "source": [
    "from sklearn import metrics\n",
    "\n",
    "print('MAE:', metrics.mean_absolute_error(y_test,y_pred1))\n",
    "print('MSE:', metrics.mean_squared_error(y_test, y_pred1))\n",
    "print('RMSE:', np.sqrt(metrics.mean_squared_error(y_test, y_pred1)))"
   ]
  },
  {
   "cell_type": "code",
   "execution_count": 22,
   "id": "f7ac1ceb",
   "metadata": {},
   "outputs": [
    {
     "name": "stdout",
     "output_type": "stream",
     "text": [
      "Precision Score :  0.8412188535696603\n",
      "Recall Score :  0.8410710769836582\n",
      "f1_score :  0.8411074310153251\n"
     ]
    }
   ],
   "source": [
    "from sklearn.metrics import precision_score\n",
    "print(\"Precision Score : \",precision_score(y_test, y_pred1, average='weighted'))\n",
    "\n",
    "\n",
    "from sklearn.metrics import recall_score\n",
    "print(\"Recall Score : \",recall_score(y_test, y_pred1,average='weighted'))\n",
    "\n",
    "\n",
    "from sklearn.metrics import f1_score\n",
    "print(\"f1_score : \",f1_score(y_test, y_pred1,average='weighted'))"
   ]
  },
  {
   "cell_type": "markdown",
   "id": "f901aeef",
   "metadata": {},
   "source": [
    "# KNeighborsClassifier"
   ]
  },
  {
   "cell_type": "code",
   "execution_count": 23,
   "id": "15fd9ac9",
   "metadata": {},
   "outputs": [
    {
     "data": {
      "text/plain": [
       "KNeighborsClassifier(algorithm='ball_tree', n_jobs=-1, n_neighbors=2, p=1,\n",
       "                     weights='distance')"
      ]
     },
     "execution_count": 23,
     "metadata": {},
     "output_type": "execute_result"
    }
   ],
   "source": [
    "from sklearn.neighbors import KNeighborsClassifier\n",
    "KNeighborsClassifier = KNeighborsClassifier(algorithm = 'ball_tree',\n",
    "                                            leaf_size = 30,\n",
    "                                            metric = 'minkowski',\n",
    "                                            metric_params= None,\n",
    "                                            n_jobs = -1,\n",
    "                                            n_neighbors = 2,\n",
    "                                            p = 1,\n",
    "                                            weights = 'distance')\n",
    "KNeighborsClassifier.fit(X_train, y_train)"
   ]
  },
  {
   "cell_type": "code",
   "execution_count": 24,
   "id": "da059a26",
   "metadata": {},
   "outputs": [],
   "source": [
    "y_pred2 = KNeighborsClassifier.predict(X_test)"
   ]
  },
  {
   "cell_type": "code",
   "execution_count": 25,
   "id": "1d358310",
   "metadata": {},
   "outputs": [
    {
     "name": "stdout",
     "output_type": "stream",
     "text": [
      "Accuracy is: 92.06799238695281\n"
     ]
    }
   ],
   "source": [
    "from sklearn.metrics import accuracy_score\n",
    "accuracy = {accuracy_score(y_test, y_pred2)}\n",
    "print(f\"Accuracy is: {accuracy_score(y_test, y_pred2)* 100}\")"
   ]
  },
  {
   "cell_type": "code",
   "execution_count": 26,
   "id": "5e0d6dfd",
   "metadata": {},
   "outputs": [
    {
     "name": "stdout",
     "output_type": "stream",
     "text": [
      "\u001b[1mClassification report : \u001b[0m\n",
      "               precision    recall  f1-score   support\n",
      "\n",
      "           0       0.93      0.96      0.94     37921\n",
      "           1       0.94      0.94      0.94      2329\n",
      "           2       0.94      0.93      0.94      2183\n",
      "           3       0.90      0.89      0.89      2198\n",
      "           4       0.95      0.93      0.94      1991\n",
      "           5       0.93      0.91      0.92      2138\n",
      "           6       0.92      0.89      0.90      2215\n",
      "           7       0.86      0.84      0.85      2208\n",
      "           8       0.90      0.87      0.88      2271\n",
      "           9       0.85      0.83      0.84      2148\n",
      "          10       0.88      0.85      0.86      2046\n",
      "          11       0.89      0.87      0.88      2208\n",
      "          12       0.90      0.89      0.90      1979\n",
      "          13       0.93      0.92      0.92      1438\n",
      "          14       0.90      0.88      0.89      1369\n",
      "          15       0.84      0.78      0.81      1583\n",
      "          16       0.94      0.90      0.92      1564\n",
      "          17       0.91      0.87      0.89      1543\n",
      "          18       0.91      0.85      0.88       840\n",
      "          19       0.87      0.84      0.86       826\n",
      "          20       0.98      0.96      0.97       808\n",
      "          21       0.96      0.93      0.95       831\n",
      "          22       0.99      0.95      0.97       664\n",
      "          23       0.97      0.95      0.96       884\n",
      "\n",
      "    accuracy                           0.92     76185\n",
      "   macro avg       0.92      0.89      0.90     76185\n",
      "weighted avg       0.92      0.92      0.92     76185\n",
      "\n",
      "\u001b[1mConfusion Matrix : \u001b[0m\n"
     ]
    },
    {
     "data": {
      "image/png": "[encoded data removed]",
      "text/plain": [
       "<Figure size 432x288 with 2 Axes>"
      ]
     },
     "metadata": {
      "needs_background": "light"
     },
     "output_type": "display_data"
    }
   ],
   "source": [
    "print('\\033[1m' +'Classification report : '+ '\\033[0m\\n', classification_report(y_test, y_pred2))\n",
    "\n",
    "cm = confusion_matrix(y_pred2, y_test)\n",
    "print('\\033[1m' +'Confusion Matrix : '+ '\\033[0m')\n",
    "sns.heatmap(cm, cmap = 'OrRd',annot = True, fmt='d')\n",
    "plt.show()"
   ]
  },
  {
   "cell_type": "markdown",
   "id": "d8d41935",
   "metadata": {},
   "source": [
    "# Evaluation -- KNeighborsClassifier"
   ]
  },
  {
   "cell_type": "code",
   "execution_count": 27,
   "id": "bd1c5fe9",
   "metadata": {},
   "outputs": [
    {
     "name": "stdout",
     "output_type": "stream",
     "text": [
      "MAE: 0.6818796350987727\n",
      "MSE: 7.929395550305178\n",
      "RMSE: 2.8159182428304232\n"
     ]
    }
   ],
   "source": [
    "from sklearn import metrics\n",
    "\n",
    "print('MAE:', metrics.mean_absolute_error(y_test,y_pred2))\n",
    "print('MSE:', metrics.mean_squared_error(y_test, y_pred2))\n",
    "print('RMSE:', np.sqrt(metrics.mean_squared_error(y_test, y_pred2)))"
   ]
  },
  {
   "cell_type": "code",
   "execution_count": 28,
   "id": "de3e3c02",
   "metadata": {},
   "outputs": [
    {
     "name": "stdout",
     "output_type": "stream",
     "text": [
      "Precision Score :  0.9203517229333545\n",
      "Recall Score :  0.9206799238695281\n",
      "f1_score :  0.9203294319265304\n"
     ]
    }
   ],
   "source": [
    "from sklearn.metrics import precision_score\n",
    "print(\"Precision Score : \",precision_score(y_test, y_pred2, average='weighted'))\n",
    "\n",
    "\n",
    "from sklearn.metrics import recall_score\n",
    "print(\"Recall Score : \",recall_score(y_test, y_pred2,average='weighted'))\n",
    "\n",
    "\n",
    "from sklearn.metrics import f1_score\n",
    "print(\"f1_score : \",f1_score(y_test, y_pred2,average='weighted'))"
   ]
  },
  {
   "cell_type": "markdown",
   "id": "5065ae39",
   "metadata": {},
   "source": [
    "# Random Forest"
   ]
  },
  {
   "cell_type": "code",
   "execution_count": 29,
   "id": "be857e35",
   "metadata": {},
   "outputs": [
    {
     "data": {
      "text/plain": [
       "RandomForestClassifier(criterion='entropy', n_estimators=400)"
      ]
     },
     "execution_count": 29,
     "metadata": {},
     "output_type": "execute_result"
    }
   ],
   "source": [
    "from sklearn.ensemble import RandomForestClassifier\n",
    "RandomForestClassifier = RandomForestClassifier(\n",
    "              bootstrap = True,\n",
    "              ccp_alpha = 0.0,\n",
    "              class_weight =  None,\n",
    "              criterion = 'entropy',\n",
    "              max_depth = None,\n",
    "              max_features = 'auto' ,\n",
    "              max_leaf_nodes = None,\n",
    "              max_samples = None,\n",
    "              min_impurity_decrease = 0.0,\n",
    "              min_samples_leaf = 1,\n",
    "              min_samples_split = 2,\n",
    "              min_weight_fraction_leaf = 0.0,\n",
    "              n_estimators = 400,\n",
    "              n_jobs = None,\n",
    "              oob_score = False,\n",
    "              random_state = None,\n",
    "              verbose = 0,\n",
    "              warm_start = False)\n",
    "RandomForestClassifier.fit(X_train, y_train)"
   ]
  },
  {
   "cell_type": "code",
   "execution_count": 30,
   "id": "544a9fa7",
   "metadata": {},
   "outputs": [],
   "source": [
    "y_pred3 = RandomForestClassifier.predict(X_test)"
   ]
  },
  {
   "cell_type": "code",
   "execution_count": 31,
   "id": "a0daf4ac",
   "metadata": {},
   "outputs": [
    {
     "name": "stdout",
     "output_type": "stream",
     "text": [
      "Accuracy is: 92.95399356828771\n"
     ]
    }
   ],
   "source": [
    "from sklearn.metrics import accuracy_score\n",
    "accuracy = {accuracy_score(y_test, y_pred3)}\n",
    "print(f\"Accuracy is: {accuracy_score(y_test, y_pred3)* 100}\")"
   ]
  },
  {
   "cell_type": "code",
   "execution_count": 32,
   "id": "17ccca6d",
   "metadata": {},
   "outputs": [
    {
     "name": "stdout",
     "output_type": "stream",
     "text": [
      "\u001b[1mClassification report : \u001b[0m\n",
      "               precision    recall  f1-score   support\n",
      "\n",
      "           0       0.91      0.99      0.95     37921\n",
      "           1       0.96      0.92      0.94      2329\n",
      "           2       0.95      0.92      0.93      2183\n",
      "           3       0.96      0.86      0.90      2198\n",
      "           4       0.97      0.90      0.93      1991\n",
      "           5       0.97      0.88      0.92      2138\n",
      "           6       0.97      0.87      0.92      2215\n",
      "           7       0.94      0.80      0.86      2208\n",
      "           8       0.95      0.83      0.89      2271\n",
      "           9       0.93      0.81      0.87      2148\n",
      "          10       0.94      0.84      0.89      2046\n",
      "          11       0.94      0.86      0.90      2208\n",
      "          12       0.95      0.87      0.91      1979\n",
      "          13       0.95      0.92      0.93      1438\n",
      "          14       0.93      0.86      0.89      1369\n",
      "          15       0.87      0.78      0.82      1583\n",
      "          16       0.96      0.90      0.93      1564\n",
      "          17       0.96      0.88      0.92      1543\n",
      "          18       0.96      0.83      0.89       840\n",
      "          19       0.95      0.84      0.89       826\n",
      "          20       0.99      0.97      0.98       808\n",
      "          21       0.98      0.92      0.95       831\n",
      "          22       0.98      0.93      0.95       664\n",
      "          23       0.97      0.94      0.95       884\n",
      "\n",
      "    accuracy                           0.93     76185\n",
      "   macro avg       0.95      0.88      0.91     76185\n",
      "weighted avg       0.93      0.93      0.93     76185\n",
      "\n",
      "\u001b[1mConfusion Matrix : \u001b[0m\n"
     ]
    },
    {
     "data": {
      "image/png": "[encoded data removed]",
      "text/plain": [
       "<Figure size 432x288 with 2 Axes>"
      ]
     },
     "metadata": {
      "needs_background": "light"
     },
     "output_type": "display_data"
    }
   ],
   "source": [
    "print('\\033[1m' +'Classification report : '+ '\\033[0m\\n', classification_report(y_test, y_pred3))\n",
    "\n",
    "cm = confusion_matrix(y_pred3, y_test)\n",
    "print('\\033[1m' +'Confusion Matrix : '+ '\\033[0m')\n",
    "sns.heatmap(cm, cmap = 'OrRd',annot = True, fmt='d')\n",
    "plt.show()"
   ]
  },
  {
   "cell_type": "markdown",
   "id": "bf149f54",
   "metadata": {},
   "source": [
    "# Evaluation -- Random Forest"
   ]
  },
  {
   "cell_type": "code",
   "execution_count": 33,
   "id": "44b863ad",
   "metadata": {},
   "outputs": [
    {
     "name": "stdout",
     "output_type": "stream",
     "text": [
      "MAE: 0.6086762486053685\n",
      "MSE: 7.129119905493208\n",
      "RMSE: 2.6700411804864\n"
     ]
    }
   ],
   "source": [
    "from sklearn import metrics\n",
    "\n",
    "print('MAE:', metrics.mean_absolute_error(y_test,y_pred3))\n",
    "print('MSE:', metrics.mean_squared_error(y_test, y_pred3))\n",
    "print('RMSE:', np.sqrt(metrics.mean_squared_error(y_test, y_pred3)))"
   ]
  },
  {
   "cell_type": "code",
   "execution_count": 34,
   "id": "f40def00",
   "metadata": {},
   "outputs": [
    {
     "name": "stdout",
     "output_type": "stream",
     "text": [
      "Precision Score :  0.931160992022364\n",
      "Recall Score :  0.9295399356828772\n",
      "f1_score :  0.92843551343582\n"
     ]
    }
   ],
   "source": [
    "from sklearn.metrics import precision_score\n",
    "print(\"Precision Score : \",precision_score(y_test, y_pred3, average='weighted'))\n",
    "\n",
    "\n",
    "from sklearn.metrics import recall_score\n",
    "print(\"Recall Score : \",recall_score(y_test, y_pred3,average='weighted'))\n",
    "\n",
    "\n",
    "from sklearn.metrics import f1_score\n",
    "print(\"f1_score : \",f1_score(y_test, y_pred3,average='weighted'))"
   ]
  },
  {
   "cell_type": "markdown",
   "id": "fc99a8db",
   "metadata": {},
   "source": [
    "# XGBoost"
   ]
  },
  {
   "cell_type": "code",
   "execution_count": 35,
   "id": "cf92a2ce",
   "metadata": {},
   "outputs": [
    {
     "name": "stderr",
     "output_type": "stream",
     "text": [
      "E:\\MachineLearning\\envs\\gpu\\lib\\site-packages\\xgboost\\compat.py:36: FutureWarning: pandas.Int64Index is deprecated and will be removed from pandas in a future version. Use pandas.Index with the appropriate dtype instead.\n",
      "  from pandas import MultiIndex, Int64Index\n",
      "E:\\MachineLearning\\envs\\gpu\\lib\\site-packages\\xgboost\\sklearn.py:1224: UserWarning: The use of label encoder in XGBClassifier is deprecated and will be removed in a future release. To remove this warning, do the following: 1) Pass option use_label_encoder=False when constructing XGBClassifier object; and 2) Encode your labels (y) as integers starting with 0, i.e. 0, 1, 2, ..., [num_class - 1].\n",
      "  warnings.warn(label_encoder_deprecation_msg, UserWarning)\n",
      "E:\\MachineLearning\\envs\\gpu\\lib\\site-packages\\xgboost\\data.py:262: FutureWarning: pandas.Int64Index is deprecated and will be removed from pandas in a future version. Use pandas.Index with the appropriate dtype instead.\n",
      "  elif isinstance(data.columns, (pd.Int64Index, pd.RangeIndex)):\n"
     ]
    },
    {
     "name": "stdout",
     "output_type": "stream",
     "text": [
      "[00:05:30] WARNING: C:/Users/Administrator/workspace/xgboost-win64_release_1.5.1/src/learner.cc:1115: Starting in XGBoost 1.3.0, the default evaluation metric used with the objective 'multi:softprob' was changed from 'merror' to 'mlogloss'. Explicitly set eval_metric if you'd like to restore the old behavior.\n"
     ]
    },
    {
     "data": {
      "text/plain": [
       "XGBClassifier(base_score=0.5, booster='gbtree', colsample_bylevel=1,\n",
       "              colsample_bynode=1, colsample_bytree=1, enable_categorical=False,\n",
       "              gamma=0, gpu_id=0, importance_type=None, importance_typen=None,\n",
       "              interaction_constraints='', learning_rate=0.5, max_delta_step=0,\n",
       "              max_depth=50, min_child_weight=1, missing=nan,\n",
       "              monotone_constraints='()', n_estimators=400, n_jobs=12,\n",
       "              num_parallel_tree=1, objective='multi:softprob',\n",
       "              predictor='gpu_predictor', random_state=0, reg_alpha=0,\n",
       "              reg_lambda=1, scale_pos_weight=None, subsample=1,\n",
       "              tree_method='exact', validate_parameters=1, verbosity=None)"
      ]
     },
     "execution_count": 35,
     "metadata": {},
     "output_type": "execute_result"
    }
   ],
   "source": [
    "from xgboost import XGBClassifier\n",
    "xgb = XGBClassifier(base_score = None,\n",
    "              booster = 'gbtree',\n",
    "              colsample_bylevel = None,\n",
    "              colsample_bynode = None,\n",
    "              colsample_bytree = None,\n",
    "              enable_categorical = False,\n",
    "              gamma = 0,\n",
    "              gpu_id = None,\n",
    "              importance_typen = None,\n",
    "              interaction_constraints = None,\n",
    "              learning_rate = 0.5,\n",
    "              max_delta_step = None,\n",
    "              max_depth = 50,\n",
    "              min_child_weight = 1,\n",
    "              monotone_constraints = None,\n",
    "              n_estimators = 400,\n",
    "              n_jobs = None,\n",
    "              num_parallel_tree = None,\n",
    "              objective = 'multi:softmax',\n",
    "              predictor = 'gpu_predictor',\n",
    "              random_state = None,\n",
    "              reg_alpha = None,\n",
    "              reg_lambda = None,\n",
    "              scale_pos_weight = None,\n",
    "              subsample = None,\n",
    "              tree_method = None,\n",
    "              use_label_encoder = True,\n",
    "              validate_parameters = None,\n",
    "              verbosity = None)\n",
    "xgb.fit(X_train, y_train)"
   ]
  },
  {
   "cell_type": "code",
   "execution_count": 36,
   "id": "122b4ba0",
   "metadata": {},
   "outputs": [],
   "source": [
    "y_pred4 = xgb.predict(X_test)"
   ]
  },
  {
   "cell_type": "code",
   "execution_count": 37,
   "id": "022138ba",
   "metadata": {},
   "outputs": [
    {
     "name": "stdout",
     "output_type": "stream",
     "text": [
      "Accuracy is: 92.27669488744503\n"
     ]
    }
   ],
   "source": [
    "from sklearn.metrics import accuracy_score\n",
    "accuracy = {accuracy_score(y_test, y_pred4)}\n",
    "print(f\"Accuracy is: {accuracy_score(y_test, y_pred4)* 100}\")"
   ]
  },
  {
   "cell_type": "code",
   "execution_count": 38,
   "id": "269a9899",
   "metadata": {},
   "outputs": [
    {
     "name": "stdout",
     "output_type": "stream",
     "text": [
      "\u001b[1mClassification report : \u001b[0m\n",
      "               precision    recall  f1-score   support\n",
      "\n",
      "           0       0.92      0.98      0.95     37921\n",
      "           1       0.93      0.91      0.92      2329\n",
      "           2       0.94      0.91      0.92      2183\n",
      "           3       0.92      0.85      0.88      2198\n",
      "           4       0.94      0.90      0.92      1991\n",
      "           5       0.94      0.88      0.91      2138\n",
      "           6       0.94      0.88      0.91      2215\n",
      "           7       0.91      0.81      0.86      2208\n",
      "           8       0.91      0.82      0.86      2271\n",
      "           9       0.90      0.82      0.85      2148\n",
      "          10       0.90      0.85      0.87      2046\n",
      "          11       0.90      0.86      0.88      2208\n",
      "          12       0.90      0.86      0.88      1979\n",
      "          13       0.91      0.90      0.91      1438\n",
      "          14       0.89      0.86      0.88      1369\n",
      "          15       0.85      0.79      0.82      1583\n",
      "          16       0.94      0.90      0.92      1564\n",
      "          17       0.94      0.87      0.91      1543\n",
      "          18       0.94      0.83      0.88       840\n",
      "          19       0.91      0.84      0.87       826\n",
      "          20       0.98      0.96      0.97       808\n",
      "          21       0.95      0.90      0.93       831\n",
      "          22       0.96      0.94      0.95       664\n",
      "          23       0.97      0.94      0.95       884\n",
      "\n",
      "    accuracy                           0.92     76185\n",
      "   macro avg       0.92      0.88      0.90     76185\n",
      "weighted avg       0.92      0.92      0.92     76185\n",
      "\n",
      "\u001b[1mConfusion Matrix : \u001b[0m\n"
     ]
    },
    {
     "data": {
      "image/png": "[encoded data removed]",
      "text/plain": [
       "<Figure size 432x288 with 2 Axes>"
      ]
     },
     "metadata": {
      "needs_background": "light"
     },
     "output_type": "display_data"
    }
   ],
   "source": [
    "print('\\033[1m' +'Classification report : '+ '\\033[0m\\n', classification_report(y_test, y_pred4))\n",
    "\n",
    "cm = confusion_matrix(y_pred4, y_test)\n",
    "print('\\033[1m' +'Confusion Matrix : '+ '\\033[0m')\n",
    "sns.heatmap(cm, cmap = 'OrRd',annot = True, fmt='d')\n",
    "plt.show()"
   ]
  },
  {
   "cell_type": "markdown",
   "id": "3031b603",
   "metadata": {},
   "source": [
    "# Evaluation -- XGBoost"
   ]
  },
  {
   "cell_type": "code",
   "execution_count": 39,
   "id": "f5efef7b",
   "metadata": {},
   "outputs": [
    {
     "name": "stdout",
     "output_type": "stream",
     "text": [
      "MAE: 0.6314103826212509\n",
      "MSE: 7.163431121611866\n",
      "RMSE: 2.676458690436276\n"
     ]
    }
   ],
   "source": [
    "from sklearn import metrics\n",
    "\n",
    "print('MAE:', metrics.mean_absolute_error(y_test,y_pred4))\n",
    "print('MSE:', metrics.mean_squared_error(y_test, y_pred4))\n",
    "print('RMSE:', np.sqrt(metrics.mean_squared_error(y_test, y_pred4)))"
   ]
  },
  {
   "cell_type": "code",
   "execution_count": 40,
   "id": "36005adc",
   "metadata": {},
   "outputs": [
    {
     "name": "stdout",
     "output_type": "stream",
     "text": [
      "Precision Score :  0.9225130000272465\n",
      "Recall Score :  0.9227669488744503\n",
      "f1_score :  0.9217775046235732\n"
     ]
    }
   ],
   "source": [
    "from sklearn.metrics import precision_score\n",
    "print(\"Precision Score : \",precision_score(y_test, y_pred4, average='weighted'))\n",
    "\n",
    "\n",
    "from sklearn.metrics import recall_score\n",
    "print(\"Recall Score : \",recall_score(y_test, y_pred4,average='weighted'))\n",
    "\n",
    "\n",
    "from sklearn.metrics import f1_score\n",
    "print(\"f1_score : \",f1_score(y_test, y_pred4,average='weighted'))"
   ]
  },
  {
   "cell_type": "markdown",
   "id": "5805a6f2",
   "metadata": {},
   "source": [
    "# ExtraTreesClassifier"
   ]
  },
  {
   "cell_type": "code",
   "execution_count": 41,
   "id": "bb5c43f7",
   "metadata": {},
   "outputs": [
    {
     "data": {
      "text/plain": [
       "ExtraTreesClassifier(criterion='entropy', n_estimators=400)"
      ]
     },
     "execution_count": 41,
     "metadata": {},
     "output_type": "execute_result"
    }
   ],
   "source": [
    "from sklearn.ensemble import ExtraTreesClassifier\n",
    "extratree = ExtraTreesClassifier(bootstrap = False,\n",
    "             ccp_alpha = 0.0,\n",
    "             class_weight = None,\n",
    "             criterion = 'entropy',\n",
    "             max_depth = None,\n",
    "             max_features = 'auto',\n",
    "             max_leaf_nodes = None,\n",
    "             max_samples = None,\n",
    "             min_impurity_decrease = 0.0,\n",
    "             min_samples_leaf = 1,\n",
    "             min_samples_split = 2,\n",
    "             min_weight_fraction_leaf = 0.0,\n",
    "             n_estimators = 400,\n",
    "             n_jobs = None,\n",
    "             oob_score = False,\n",
    "             random_state = None,\n",
    "             verbose = 0,\n",
    "             warm_start = False)\n",
    "extratree.fit(X_train, y_train)"
   ]
  },
  {
   "cell_type": "code",
   "execution_count": 42,
   "id": "71002958",
   "metadata": {},
   "outputs": [],
   "source": [
    "y_pred5 = extratree.predict(X_test)"
   ]
  },
  {
   "cell_type": "code",
   "execution_count": 43,
   "id": "b61749b4",
   "metadata": {},
   "outputs": [
    {
     "name": "stdout",
     "output_type": "stream",
     "text": [
      "Accuracy is: 93.4449038524644\n"
     ]
    }
   ],
   "source": [
    "from sklearn.metrics import accuracy_score\n",
    "accuracy = {accuracy_score(y_test, y_pred5)}\n",
    "print(f\"Accuracy is: {accuracy_score(y_test, y_pred5)* 100}\")"
   ]
  },
  {
   "cell_type": "code",
   "execution_count": 44,
   "id": "06532654",
   "metadata": {},
   "outputs": [
    {
     "name": "stdout",
     "output_type": "stream",
     "text": [
      "\u001b[1mClassification report : \u001b[0m\n",
      "               precision    recall  f1-score   support\n",
      "\n",
      "           0       0.91      0.99      0.95     37921\n",
      "           1       0.97      0.92      0.94      2329\n",
      "           2       0.97      0.92      0.95      2183\n",
      "           3       0.97      0.86      0.91      2198\n",
      "           4       0.98      0.91      0.94      1991\n",
      "           5       0.98      0.89      0.93      2138\n",
      "           6       0.98      0.88      0.92      2215\n",
      "           7       0.95      0.81      0.88      2208\n",
      "           8       0.96      0.84      0.90      2271\n",
      "           9       0.94      0.82      0.87      2148\n",
      "          10       0.96      0.85      0.90      2046\n",
      "          11       0.95      0.87      0.91      2208\n",
      "          12       0.97      0.88      0.92      1979\n",
      "          13       0.96      0.93      0.94      1438\n",
      "          14       0.95      0.87      0.91      1369\n",
      "          15       0.88      0.79      0.83      1583\n",
      "          16       0.98      0.91      0.94      1564\n",
      "          17       0.97      0.89      0.93      1543\n",
      "          18       0.98      0.84      0.90       840\n",
      "          19       0.95      0.85      0.90       826\n",
      "          20       0.99      0.97      0.98       808\n",
      "          21       0.99      0.93      0.96       831\n",
      "          22       0.99      0.94      0.97       664\n",
      "          23       0.98      0.95      0.96       884\n",
      "\n",
      "    accuracy                           0.93     76185\n",
      "   macro avg       0.96      0.89      0.92     76185\n",
      "weighted avg       0.94      0.93      0.93     76185\n",
      "\n",
      "\u001b[1mConfusion Matrix : \u001b[0m\n"
     ]
    },
    {
     "data": {
      "image/png": "[encoded data removed]",
      "text/plain": [
       "<Figure size 432x288 with 2 Axes>"
      ]
     },
     "metadata": {
      "needs_background": "light"
     },
     "output_type": "display_data"
    }
   ],
   "source": [
    "print('\\033[1m' +'Classification report : '+ '\\033[0m\\n', classification_report(y_test, y_pred5))\n",
    "\n",
    "cm = confusion_matrix(y_pred5, y_test)\n",
    "print('\\033[1m' +'Confusion Matrix : '+ '\\033[0m')\n",
    "sns.heatmap(cm, cmap = 'OrRd',annot = True, fmt='d')\n",
    "plt.show()"
   ]
  },
  {
   "cell_type": "markdown",
   "id": "2b86af64",
   "metadata": {},
   "source": [
    "# Evaluation -- ExtraTreesClassifier"
   ]
  },
  {
   "cell_type": "code",
   "execution_count": 45,
   "id": "a9e47f87",
   "metadata": {},
   "outputs": [
    {
     "name": "stdout",
     "output_type": "stream",
     "text": [
      "MAE: 0.5744962919209818\n",
      "MSE: 6.745238564021789\n",
      "RMSE: 2.597159710919178\n"
     ]
    }
   ],
   "source": [
    "from sklearn import metrics\n",
    "\n",
    "print('MAE:', metrics.mean_absolute_error(y_test,y_pred5))\n",
    "print('MSE:', metrics.mean_squared_error(y_test, y_pred5))\n",
    "print('RMSE:', np.sqrt(metrics.mean_squared_error(y_test, y_pred5)))"
   ]
  },
  {
   "cell_type": "code",
   "execution_count": 46,
   "id": "6d09ec03",
   "metadata": {},
   "outputs": [
    {
     "name": "stdout",
     "output_type": "stream",
     "text": [
      "Precision Score :  0.936737512981618\n",
      "Recall Score :  0.934449038524644\n",
      "f1_score :  0.9335325960304212\n"
     ]
    }
   ],
   "source": [
    "from sklearn.metrics import precision_score\n",
    "print(\"Precision Score : \",precision_score(y_test, y_pred5, average='weighted'))\n",
    "\n",
    "\n",
    "from sklearn.metrics import recall_score\n",
    "print(\"Recall Score : \",recall_score(y_test, y_pred5,average='weighted'))\n",
    "\n",
    "\n",
    "from sklearn.metrics import f1_score\n",
    "print(\"f1_score : \",f1_score(y_test, y_pred5,average='weighted'))"
   ]
  },
  {
   "cell_type": "code",
   "execution_count": null,
   "id": "292f2127",
   "metadata": {},
   "outputs": [],
   "source": []
  }
 ],
 "metadata": {
  "kernelspec": {
   "display_name": "Python 3 (ipykernel)",
   "language": "python",
   "name": "python3"
  },
  "language_info": {
   "codemirror_mode": {
    "name": "ipython",
    "version": 3
   },
   "file_extension": ".py",
   "mimetype": "text/x-python",
   "name": "python",
   "nbconvert_exporter": "python",
   "pygments_lexer": "ipython3",
   "version": "3.8.12"
  }
 },
 "nbformat": 4,
 "nbformat_minor": 5
}
