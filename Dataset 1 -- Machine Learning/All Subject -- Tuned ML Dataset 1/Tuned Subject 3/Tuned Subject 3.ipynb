{
 "cells": [
  {
   "cell_type": "markdown",
   "id": "a76f9c3f",
   "metadata": {},
   "source": [
    "# Importing Libraries"
   ]
  },
  {
   "cell_type": "code",
   "execution_count": 1,
   "id": "cb8d9727",
   "metadata": {},
   "outputs": [],
   "source": [
    "import numpy as np\n",
    "import pandas as pd\n",
    "import matplotlib.pyplot as plt\n",
    "import seaborn as sns\n",
    "from sklearn.model_selection import train_test_split\n",
    "from sklearn.metrics import confusion_matrix, f1_score, accuracy_score, classification_report"
   ]
  },
  {
   "cell_type": "markdown",
   "id": "576dc0b5",
   "metadata": {},
   "source": [
    "# Exploratory Data Analysis¶"
   ]
  },
  {
   "cell_type": "code",
   "execution_count": 2,
   "id": "c72bb47b",
   "metadata": {},
   "outputs": [
    {
     "data": {
      "text/html": [
       "<div>\n",
       "<style scoped>\n",
       "    .dataframe tbody tr th:only-of-type {\n",
       "        vertical-align: middle;\n",
       "    }\n",
       "\n",
       "    .dataframe tbody tr th {\n",
       "        vertical-align: top;\n",
       "    }\n",
       "\n",
       "    .dataframe thead th {\n",
       "        text-align: right;\n",
       "    }\n",
       "</style>\n",
       "<table border=\"1\" class=\"dataframe\">\n",
       "  <thead>\n",
       "    <tr style=\"text-align: right;\">\n",
       "      <th></th>\n",
       "      <th>Emg1</th>\n",
       "      <th>Emg2</th>\n",
       "      <th>Emg3</th>\n",
       "      <th>Emg4</th>\n",
       "      <th>Emg5</th>\n",
       "      <th>Emg6</th>\n",
       "      <th>Emg7</th>\n",
       "      <th>Emg8</th>\n",
       "      <th>Emg9</th>\n",
       "      <th>Emg10</th>\n",
       "      <th>repetition</th>\n",
       "      <th>rerepetition</th>\n",
       "      <th>stimulus</th>\n",
       "      <th>restimulus</th>\n",
       "    </tr>\n",
       "  </thead>\n",
       "  <tbody>\n",
       "    <tr>\n",
       "      <th>253286</th>\n",
       "      <td>0.0586</td>\n",
       "      <td>0.0024</td>\n",
       "      <td>0.0024</td>\n",
       "      <td>0.0024</td>\n",
       "      <td>0.0024</td>\n",
       "      <td>0.0024</td>\n",
       "      <td>0.3101</td>\n",
       "      <td>0.2612</td>\n",
       "      <td>0.0024</td>\n",
       "      <td>0.0024</td>\n",
       "      <td>0</td>\n",
       "      <td>0</td>\n",
       "      <td>0</td>\n",
       "      <td>0</td>\n",
       "    </tr>\n",
       "    <tr>\n",
       "      <th>231318</th>\n",
       "      <td>0.0854</td>\n",
       "      <td>0.0391</td>\n",
       "      <td>0.0024</td>\n",
       "      <td>0.0024</td>\n",
       "      <td>0.0024</td>\n",
       "      <td>0.0073</td>\n",
       "      <td>0.2197</td>\n",
       "      <td>0.1904</td>\n",
       "      <td>0.0024</td>\n",
       "      <td>0.0073</td>\n",
       "      <td>6</td>\n",
       "      <td>0</td>\n",
       "      <td>16</td>\n",
       "      <td>0</td>\n",
       "    </tr>\n",
       "    <tr>\n",
       "      <th>185507</th>\n",
       "      <td>0.0024</td>\n",
       "      <td>0.0024</td>\n",
       "      <td>0.0049</td>\n",
       "      <td>0.0024</td>\n",
       "      <td>0.0024</td>\n",
       "      <td>0.0024</td>\n",
       "      <td>0.0024</td>\n",
       "      <td>0.0415</td>\n",
       "      <td>0.0024</td>\n",
       "      <td>0.0024</td>\n",
       "      <td>0</td>\n",
       "      <td>0</td>\n",
       "      <td>0</td>\n",
       "      <td>0</td>\n",
       "    </tr>\n",
       "    <tr>\n",
       "      <th>81560</th>\n",
       "      <td>0.0024</td>\n",
       "      <td>0.0024</td>\n",
       "      <td>0.0024</td>\n",
       "      <td>0.0024</td>\n",
       "      <td>0.0024</td>\n",
       "      <td>0.0024</td>\n",
       "      <td>0.0024</td>\n",
       "      <td>0.0806</td>\n",
       "      <td>0.0024</td>\n",
       "      <td>0.0073</td>\n",
       "      <td>8</td>\n",
       "      <td>8</td>\n",
       "      <td>10</td>\n",
       "      <td>10</td>\n",
       "    </tr>\n",
       "    <tr>\n",
       "      <th>15994</th>\n",
       "      <td>0.0024</td>\n",
       "      <td>0.0024</td>\n",
       "      <td>0.0049</td>\n",
       "      <td>0.0024</td>\n",
       "      <td>0.0024</td>\n",
       "      <td>0.0024</td>\n",
       "      <td>0.0024</td>\n",
       "      <td>0.0024</td>\n",
       "      <td>0.0024</td>\n",
       "      <td>0.0024</td>\n",
       "      <td>0</td>\n",
       "      <td>0</td>\n",
       "      <td>0</td>\n",
       "      <td>0</td>\n",
       "    </tr>\n",
       "  </tbody>\n",
       "</table>\n",
       "</div>"
      ],
      "text/plain": [
       "          Emg1    Emg2    Emg3    Emg4    Emg5    Emg6    Emg7    Emg8  \\\n",
       "253286  0.0586  0.0024  0.0024  0.0024  0.0024  0.0024  0.3101  0.2612   \n",
       "231318  0.0854  0.0391  0.0024  0.0024  0.0024  0.0073  0.2197  0.1904   \n",
       "185507  0.0024  0.0024  0.0049  0.0024  0.0024  0.0024  0.0024  0.0415   \n",
       "81560   0.0024  0.0024  0.0024  0.0024  0.0024  0.0024  0.0024  0.0806   \n",
       "15994   0.0024  0.0024  0.0049  0.0024  0.0024  0.0024  0.0024  0.0024   \n",
       "\n",
       "          Emg9   Emg10  repetition  rerepetition  stimulus  restimulus  \n",
       "253286  0.0024  0.0024           0             0         0           0  \n",
       "231318  0.0024  0.0073           6             0        16           0  \n",
       "185507  0.0024  0.0024           0             0         0           0  \n",
       "81560   0.0024  0.0073           8             8        10          10  \n",
       "15994   0.0024  0.0024           0             0         0           0  "
      ]
     },
     "execution_count": 2,
     "metadata": {},
     "output_type": "execute_result"
    }
   ],
   "source": [
    "raw_data = pd.read_excel('Dataset 1 Patient 3.xlsx')\n",
    "raw_data.sample(5)"
   ]
  },
  {
   "cell_type": "code",
   "execution_count": 3,
   "id": "a85e933c",
   "metadata": {},
   "outputs": [
    {
     "data": {
      "text/plain": [
       "(467777, 14)"
      ]
     },
     "execution_count": 3,
     "metadata": {},
     "output_type": "execute_result"
    }
   ],
   "source": [
    "raw_data.shape"
   ]
  },
  {
   "cell_type": "code",
   "execution_count": 4,
   "id": "e05e202f",
   "metadata": {},
   "outputs": [
    {
     "data": {
      "text/plain": [
       "Index(['Emg1', 'Emg2', 'Emg3', 'Emg4', 'Emg5', 'Emg6', 'Emg7', 'Emg8', 'Emg9',\n",
       "       'Emg10', 'repetition', 'rerepetition', 'stimulus', 'restimulus'],\n",
       "      dtype='object')"
      ]
     },
     "execution_count": 4,
     "metadata": {},
     "output_type": "execute_result"
    }
   ],
   "source": [
    "raw_data.columns"
   ]
  },
  {
   "cell_type": "code",
   "execution_count": 5,
   "id": "fde113c0",
   "metadata": {},
   "outputs": [
    {
     "name": "stdout",
     "output_type": "stream",
     "text": [
      "<class 'pandas.core.frame.DataFrame'>\n",
      "RangeIndex: 467777 entries, 0 to 467776\n",
      "Data columns (total 14 columns):\n",
      " #   Column        Non-Null Count   Dtype  \n",
      "---  ------        --------------   -----  \n",
      " 0   Emg1          467777 non-null  float64\n",
      " 1   Emg2          467777 non-null  float64\n",
      " 2   Emg3          467777 non-null  float64\n",
      " 3   Emg4          467777 non-null  float64\n",
      " 4   Emg5          467777 non-null  float64\n",
      " 5   Emg6          467777 non-null  float64\n",
      " 6   Emg7          467777 non-null  float64\n",
      " 7   Emg8          467777 non-null  float64\n",
      " 8   Emg9          467777 non-null  float64\n",
      " 9   Emg10         467777 non-null  float64\n",
      " 10  repetition    467777 non-null  int64  \n",
      " 11  rerepetition  467777 non-null  int64  \n",
      " 12  stimulus      467777 non-null  int64  \n",
      " 13  restimulus    467777 non-null  int64  \n",
      "dtypes: float64(10), int64(4)\n",
      "memory usage: 50.0 MB\n"
     ]
    }
   ],
   "source": [
    "raw_data.info()"
   ]
  },
  {
   "cell_type": "code",
   "execution_count": 6,
   "id": "0ae97d58",
   "metadata": {},
   "outputs": [
    {
     "data": {
      "text/html": [
       "<div>\n",
       "<style scoped>\n",
       "    .dataframe tbody tr th:only-of-type {\n",
       "        vertical-align: middle;\n",
       "    }\n",
       "\n",
       "    .dataframe tbody tr th {\n",
       "        vertical-align: top;\n",
       "    }\n",
       "\n",
       "    .dataframe thead th {\n",
       "        text-align: right;\n",
       "    }\n",
       "</style>\n",
       "<table border=\"1\" class=\"dataframe\">\n",
       "  <thead>\n",
       "    <tr style=\"text-align: right;\">\n",
       "      <th></th>\n",
       "      <th>Emg1</th>\n",
       "      <th>Emg2</th>\n",
       "      <th>Emg3</th>\n",
       "      <th>Emg4</th>\n",
       "      <th>Emg5</th>\n",
       "      <th>Emg6</th>\n",
       "      <th>Emg7</th>\n",
       "      <th>Emg8</th>\n",
       "      <th>Emg9</th>\n",
       "      <th>Emg10</th>\n",
       "      <th>repetition</th>\n",
       "      <th>rerepetition</th>\n",
       "      <th>stimulus</th>\n",
       "      <th>restimulus</th>\n",
       "    </tr>\n",
       "  </thead>\n",
       "  <tbody>\n",
       "    <tr>\n",
       "      <th>count</th>\n",
       "      <td>467777.000000</td>\n",
       "      <td>467777.000000</td>\n",
       "      <td>467777.000000</td>\n",
       "      <td>467777.000000</td>\n",
       "      <td>467777.000000</td>\n",
       "      <td>467777.000000</td>\n",
       "      <td>467777.000000</td>\n",
       "      <td>467777.000000</td>\n",
       "      <td>467777.000000</td>\n",
       "      <td>467777.000000</td>\n",
       "      <td>467777.000000</td>\n",
       "      <td>467777.000000</td>\n",
       "      <td>467777.000000</td>\n",
       "      <td>467777.000000</td>\n",
       "    </tr>\n",
       "    <tr>\n",
       "      <th>mean</th>\n",
       "      <td>0.110394</td>\n",
       "      <td>0.093456</td>\n",
       "      <td>0.099184</td>\n",
       "      <td>0.046686</td>\n",
       "      <td>0.013591</td>\n",
       "      <td>0.016319</td>\n",
       "      <td>0.221623</td>\n",
       "      <td>0.281546</td>\n",
       "      <td>0.083071</td>\n",
       "      <td>0.094819</td>\n",
       "      <td>3.153227</td>\n",
       "      <td>2.207094</td>\n",
       "      <td>5.587872</td>\n",
       "      <td>3.993129</td>\n",
       "    </tr>\n",
       "    <tr>\n",
       "      <th>std</th>\n",
       "      <td>0.276184</td>\n",
       "      <td>0.220480</td>\n",
       "      <td>0.278285</td>\n",
       "      <td>0.163785</td>\n",
       "      <td>0.057752</td>\n",
       "      <td>0.039971</td>\n",
       "      <td>0.347750</td>\n",
       "      <td>0.423341</td>\n",
       "      <td>0.256250</td>\n",
       "      <td>0.181107</td>\n",
       "      <td>3.482794</td>\n",
       "      <td>3.266631</td>\n",
       "      <td>6.575499</td>\n",
       "      <td>6.231178</td>\n",
       "    </tr>\n",
       "    <tr>\n",
       "      <th>min</th>\n",
       "      <td>0.002400</td>\n",
       "      <td>0.002400</td>\n",
       "      <td>0.002400</td>\n",
       "      <td>0.002400</td>\n",
       "      <td>0.002400</td>\n",
       "      <td>0.002400</td>\n",
       "      <td>0.002400</td>\n",
       "      <td>0.002400</td>\n",
       "      <td>0.000000</td>\n",
       "      <td>0.002400</td>\n",
       "      <td>0.000000</td>\n",
       "      <td>0.000000</td>\n",
       "      <td>0.000000</td>\n",
       "      <td>0.000000</td>\n",
       "    </tr>\n",
       "    <tr>\n",
       "      <th>25%</th>\n",
       "      <td>0.002400</td>\n",
       "      <td>0.002400</td>\n",
       "      <td>0.002400</td>\n",
       "      <td>0.002400</td>\n",
       "      <td>0.002400</td>\n",
       "      <td>0.002400</td>\n",
       "      <td>0.002400</td>\n",
       "      <td>0.043900</td>\n",
       "      <td>0.002400</td>\n",
       "      <td>0.002400</td>\n",
       "      <td>0.000000</td>\n",
       "      <td>0.000000</td>\n",
       "      <td>0.000000</td>\n",
       "      <td>0.000000</td>\n",
       "    </tr>\n",
       "    <tr>\n",
       "      <th>50%</th>\n",
       "      <td>0.012200</td>\n",
       "      <td>0.002400</td>\n",
       "      <td>0.002400</td>\n",
       "      <td>0.002400</td>\n",
       "      <td>0.002400</td>\n",
       "      <td>0.002400</td>\n",
       "      <td>0.102500</td>\n",
       "      <td>0.122100</td>\n",
       "      <td>0.002400</td>\n",
       "      <td>0.017100</td>\n",
       "      <td>2.000000</td>\n",
       "      <td>0.000000</td>\n",
       "      <td>3.000000</td>\n",
       "      <td>0.000000</td>\n",
       "    </tr>\n",
       "    <tr>\n",
       "      <th>75%</th>\n",
       "      <td>0.087900</td>\n",
       "      <td>0.070800</td>\n",
       "      <td>0.017100</td>\n",
       "      <td>0.002400</td>\n",
       "      <td>0.002400</td>\n",
       "      <td>0.007300</td>\n",
       "      <td>0.295400</td>\n",
       "      <td>0.361300</td>\n",
       "      <td>0.009800</td>\n",
       "      <td>0.117200</td>\n",
       "      <td>6.000000</td>\n",
       "      <td>4.000000</td>\n",
       "      <td>10.000000</td>\n",
       "      <td>7.000000</td>\n",
       "    </tr>\n",
       "    <tr>\n",
       "      <th>max</th>\n",
       "      <td>4.665500</td>\n",
       "      <td>4.665500</td>\n",
       "      <td>4.162600</td>\n",
       "      <td>4.016100</td>\n",
       "      <td>2.270500</td>\n",
       "      <td>0.791000</td>\n",
       "      <td>4.663100</td>\n",
       "      <td>4.665500</td>\n",
       "      <td>4.523900</td>\n",
       "      <td>2.832000</td>\n",
       "      <td>10.000000</td>\n",
       "      <td>10.000000</td>\n",
       "      <td>23.000000</td>\n",
       "      <td>23.000000</td>\n",
       "    </tr>\n",
       "  </tbody>\n",
       "</table>\n",
       "</div>"
      ],
      "text/plain": [
       "                Emg1           Emg2           Emg3           Emg4  \\\n",
       "count  467777.000000  467777.000000  467777.000000  467777.000000   \n",
       "mean        0.110394       0.093456       0.099184       0.046686   \n",
       "std         0.276184       0.220480       0.278285       0.163785   \n",
       "min         0.002400       0.002400       0.002400       0.002400   \n",
       "25%         0.002400       0.002400       0.002400       0.002400   \n",
       "50%         0.012200       0.002400       0.002400       0.002400   \n",
       "75%         0.087900       0.070800       0.017100       0.002400   \n",
       "max         4.665500       4.665500       4.162600       4.016100   \n",
       "\n",
       "                Emg5           Emg6           Emg7           Emg8  \\\n",
       "count  467777.000000  467777.000000  467777.000000  467777.000000   \n",
       "mean        0.013591       0.016319       0.221623       0.281546   \n",
       "std         0.057752       0.039971       0.347750       0.423341   \n",
       "min         0.002400       0.002400       0.002400       0.002400   \n",
       "25%         0.002400       0.002400       0.002400       0.043900   \n",
       "50%         0.002400       0.002400       0.102500       0.122100   \n",
       "75%         0.002400       0.007300       0.295400       0.361300   \n",
       "max         2.270500       0.791000       4.663100       4.665500   \n",
       "\n",
       "                Emg9          Emg10     repetition   rerepetition  \\\n",
       "count  467777.000000  467777.000000  467777.000000  467777.000000   \n",
       "mean        0.083071       0.094819       3.153227       2.207094   \n",
       "std         0.256250       0.181107       3.482794       3.266631   \n",
       "min         0.000000       0.002400       0.000000       0.000000   \n",
       "25%         0.002400       0.002400       0.000000       0.000000   \n",
       "50%         0.002400       0.017100       2.000000       0.000000   \n",
       "75%         0.009800       0.117200       6.000000       4.000000   \n",
       "max         4.523900       2.832000      10.000000      10.000000   \n",
       "\n",
       "            stimulus     restimulus  \n",
       "count  467777.000000  467777.000000  \n",
       "mean        5.587872       3.993129  \n",
       "std         6.575499       6.231178  \n",
       "min         0.000000       0.000000  \n",
       "25%         0.000000       0.000000  \n",
       "50%         3.000000       0.000000  \n",
       "75%        10.000000       7.000000  \n",
       "max        23.000000      23.000000  "
      ]
     },
     "execution_count": 6,
     "metadata": {},
     "output_type": "execute_result"
    }
   ],
   "source": [
    "raw_data.describe(include='all')"
   ]
  },
  {
   "cell_type": "code",
   "execution_count": 7,
   "id": "071b96e6",
   "metadata": {},
   "outputs": [
    {
     "name": "stdout",
     "output_type": "stream",
     "text": [
      "Unique Dependent values and their counts :\n",
      "0     199613\n",
      "4      15514\n",
      "8      15513\n",
      "7      15506\n",
      "2      15493\n",
      "12     15490\n",
      "9      15468\n",
      "5      15459\n",
      "6      15456\n",
      "3      15450\n",
      "11     15450\n",
      "1      15442\n",
      "10     15430\n",
      "17     10356\n",
      "13     10343\n",
      "14     10339\n",
      "15     10297\n",
      "16     10268\n",
      "19      5181\n",
      "21      5174\n",
      "18      5169\n",
      "20      5133\n",
      "22      5129\n",
      "23      5104\n",
      "Name: stimulus, dtype: int64\n"
     ]
    }
   ],
   "source": [
    "print(\"Unique Dependent values and their counts :\")\n",
    "print(raw_data[\"stimulus\"].value_counts())"
   ]
  },
  {
   "cell_type": "code",
   "execution_count": 8,
   "id": "50a0f9be",
   "metadata": {},
   "outputs": [
    {
     "data": {
      "text/plain": [
       "Text(0, 0.5, 'Frequency')"
      ]
     },
     "execution_count": 8,
     "metadata": {},
     "output_type": "execute_result"
    },
    {
     "data": {
      "image/png": "[encoded data removed]",
      "text/plain": [
       "<Figure size 432x288 with 1 Axes>"
      ]
     },
     "metadata": {
      "needs_background": "light"
     },
     "output_type": "display_data"
    }
   ],
   "source": [
    "count_classes = pd.value_counts(raw_data['stimulus'], sort = True)\n",
    "\n",
    "count_classes.plot(kind = 'bar', rot=0)\n",
    "\n",
    "plt.title(\"stimulus Class Distribution\")\n",
    "\n",
    "plt.xlabel(\"Class\")\n",
    "\n",
    "plt.ylabel(\"Frequency\")"
   ]
  },
  {
   "cell_type": "markdown",
   "id": "275440c4",
   "metadata": {},
   "source": [
    "# Data Cleaning and Exploratory Data Analysis with New Data"
   ]
  },
  {
   "cell_type": "code",
   "execution_count": 9,
   "id": "e8ed6471",
   "metadata": {},
   "outputs": [],
   "source": [
    "index_names = raw_data[ (raw_data['stimulus'] != raw_data['restimulus'])].index\n",
    "raw_data.drop(index_names, inplace = True)"
   ]
  },
  {
   "cell_type": "code",
   "execution_count": 10,
   "id": "395d42c1",
   "metadata": {},
   "outputs": [],
   "source": [
    "index_names = raw_data[ (raw_data['repetition'] != raw_data['rerepetition'])].index\n",
    "raw_data.drop(index_names, inplace = True)"
   ]
  },
  {
   "cell_type": "code",
   "execution_count": 11,
   "id": "5ccb8950",
   "metadata": {},
   "outputs": [
    {
     "data": {
      "text/html": [
       "<div>\n",
       "<style scoped>\n",
       "    .dataframe tbody tr th:only-of-type {\n",
       "        vertical-align: middle;\n",
       "    }\n",
       "\n",
       "    .dataframe tbody tr th {\n",
       "        vertical-align: top;\n",
       "    }\n",
       "\n",
       "    .dataframe thead th {\n",
       "        text-align: right;\n",
       "    }\n",
       "</style>\n",
       "<table border=\"1\" class=\"dataframe\">\n",
       "  <thead>\n",
       "    <tr style=\"text-align: right;\">\n",
       "      <th></th>\n",
       "      <th>Emg1</th>\n",
       "      <th>Emg2</th>\n",
       "      <th>Emg3</th>\n",
       "      <th>Emg4</th>\n",
       "      <th>Emg5</th>\n",
       "      <th>Emg6</th>\n",
       "      <th>Emg7</th>\n",
       "      <th>Emg8</th>\n",
       "      <th>Emg9</th>\n",
       "      <th>Emg10</th>\n",
       "      <th>repetition</th>\n",
       "      <th>rerepetition</th>\n",
       "      <th>stimulus</th>\n",
       "      <th>restimulus</th>\n",
       "    </tr>\n",
       "  </thead>\n",
       "  <tbody>\n",
       "    <tr>\n",
       "      <th>384327</th>\n",
       "      <td>0.1831</td>\n",
       "      <td>0.0122</td>\n",
       "      <td>0.0024</td>\n",
       "      <td>0.0024</td>\n",
       "      <td>0.0024</td>\n",
       "      <td>0.0024</td>\n",
       "      <td>0.2344</td>\n",
       "      <td>0.6055</td>\n",
       "      <td>0.0024</td>\n",
       "      <td>0.3613</td>\n",
       "      <td>10</td>\n",
       "      <td>10</td>\n",
       "      <td>15</td>\n",
       "      <td>15</td>\n",
       "    </tr>\n",
       "    <tr>\n",
       "      <th>365165</th>\n",
       "      <td>0.1172</td>\n",
       "      <td>0.0024</td>\n",
       "      <td>0.0024</td>\n",
       "      <td>0.0024</td>\n",
       "      <td>0.0024</td>\n",
       "      <td>0.0098</td>\n",
       "      <td>0.2393</td>\n",
       "      <td>0.3564</td>\n",
       "      <td>0.0024</td>\n",
       "      <td>0.3540</td>\n",
       "      <td>10</td>\n",
       "      <td>10</td>\n",
       "      <td>13</td>\n",
       "      <td>13</td>\n",
       "    </tr>\n",
       "    <tr>\n",
       "      <th>454958</th>\n",
       "      <td>0.6885</td>\n",
       "      <td>0.2905</td>\n",
       "      <td>0.1416</td>\n",
       "      <td>0.1685</td>\n",
       "      <td>0.0879</td>\n",
       "      <td>0.1758</td>\n",
       "      <td>0.5664</td>\n",
       "      <td>0.7056</td>\n",
       "      <td>0.2612</td>\n",
       "      <td>0.1660</td>\n",
       "      <td>9</td>\n",
       "      <td>9</td>\n",
       "      <td>22</td>\n",
       "      <td>22</td>\n",
       "    </tr>\n",
       "    <tr>\n",
       "      <th>17414</th>\n",
       "      <td>0.3174</td>\n",
       "      <td>0.0732</td>\n",
       "      <td>0.1538</td>\n",
       "      <td>0.1294</td>\n",
       "      <td>0.0928</td>\n",
       "      <td>0.0562</td>\n",
       "      <td>0.9302</td>\n",
       "      <td>0.5688</td>\n",
       "      <td>0.3979</td>\n",
       "      <td>0.0928</td>\n",
       "      <td>1</td>\n",
       "      <td>1</td>\n",
       "      <td>3</td>\n",
       "      <td>3</td>\n",
       "    </tr>\n",
       "    <tr>\n",
       "      <th>355787</th>\n",
       "      <td>0.1123</td>\n",
       "      <td>0.0977</td>\n",
       "      <td>0.0024</td>\n",
       "      <td>0.0024</td>\n",
       "      <td>0.0024</td>\n",
       "      <td>0.0586</td>\n",
       "      <td>0.4688</td>\n",
       "      <td>0.2783</td>\n",
       "      <td>0.0024</td>\n",
       "      <td>0.0293</td>\n",
       "      <td>9</td>\n",
       "      <td>9</td>\n",
       "      <td>12</td>\n",
       "      <td>12</td>\n",
       "    </tr>\n",
       "  </tbody>\n",
       "</table>\n",
       "</div>"
      ],
      "text/plain": [
       "          Emg1    Emg2    Emg3    Emg4    Emg5    Emg6    Emg7    Emg8  \\\n",
       "384327  0.1831  0.0122  0.0024  0.0024  0.0024  0.0024  0.2344  0.6055   \n",
       "365165  0.1172  0.0024  0.0024  0.0024  0.0024  0.0098  0.2393  0.3564   \n",
       "454958  0.6885  0.2905  0.1416  0.1685  0.0879  0.1758  0.5664  0.7056   \n",
       "17414   0.3174  0.0732  0.1538  0.1294  0.0928  0.0562  0.9302  0.5688   \n",
       "355787  0.1123  0.0977  0.0024  0.0024  0.0024  0.0586  0.4688  0.2783   \n",
       "\n",
       "          Emg9   Emg10  repetition  rerepetition  stimulus  restimulus  \n",
       "384327  0.0024  0.3613          10            10        15          15  \n",
       "365165  0.0024  0.3540          10            10        13          13  \n",
       "454958  0.2612  0.1660           9             9        22          22  \n",
       "17414   0.3979  0.0928           1             1         3           3  \n",
       "355787  0.0024  0.0293           9             9        12          12  "
      ]
     },
     "execution_count": 11,
     "metadata": {},
     "output_type": "execute_result"
    }
   ],
   "source": [
    "raw_data.sample(5)"
   ]
  },
  {
   "cell_type": "code",
   "execution_count": 12,
   "id": "ab84cf47",
   "metadata": {},
   "outputs": [
    {
     "data": {
      "text/plain": [
       "(381304, 14)"
      ]
     },
     "execution_count": 12,
     "metadata": {},
     "output_type": "execute_result"
    }
   ],
   "source": [
    "raw_data.shape"
   ]
  },
  {
   "cell_type": "code",
   "execution_count": 13,
   "id": "fcb24936",
   "metadata": {},
   "outputs": [
    {
     "name": "stdout",
     "output_type": "stream",
     "text": [
      "<class 'pandas.core.frame.DataFrame'>\n",
      "Int64Index: 381304 entries, 0 to 467776\n",
      "Data columns (total 14 columns):\n",
      " #   Column        Non-Null Count   Dtype  \n",
      "---  ------        --------------   -----  \n",
      " 0   Emg1          381304 non-null  float64\n",
      " 1   Emg2          381304 non-null  float64\n",
      " 2   Emg3          381304 non-null  float64\n",
      " 3   Emg4          381304 non-null  float64\n",
      " 4   Emg5          381304 non-null  float64\n",
      " 5   Emg6          381304 non-null  float64\n",
      " 6   Emg7          381304 non-null  float64\n",
      " 7   Emg8          381304 non-null  float64\n",
      " 8   Emg9          381304 non-null  float64\n",
      " 9   Emg10         381304 non-null  float64\n",
      " 10  repetition    381304 non-null  int64  \n",
      " 11  rerepetition  381304 non-null  int64  \n",
      " 12  stimulus      381304 non-null  int64  \n",
      " 13  restimulus    381304 non-null  int64  \n",
      "dtypes: float64(10), int64(4)\n",
      "memory usage: 43.6 MB\n"
     ]
    }
   ],
   "source": [
    "raw_data.info()"
   ]
  },
  {
   "cell_type": "code",
   "execution_count": 14,
   "id": "8ada4ef1",
   "metadata": {},
   "outputs": [
    {
     "name": "stdout",
     "output_type": "stream",
     "text": [
      "Emg1            False\n",
      "Emg2            False\n",
      "Emg3            False\n",
      "Emg4            False\n",
      "Emg5            False\n",
      "Emg6            False\n",
      "Emg7            False\n",
      "Emg8            False\n",
      "Emg9            False\n",
      "Emg10           False\n",
      "repetition      False\n",
      "rerepetition    False\n",
      "stimulus        False\n",
      "restimulus      False\n",
      "dtype: bool\n"
     ]
    }
   ],
   "source": [
    "print(raw_data.isnull().any())"
   ]
  },
  {
   "cell_type": "code",
   "execution_count": 15,
   "id": "138ec425",
   "metadata": {},
   "outputs": [],
   "source": [
    "X = raw_data.iloc[:,0:10]\n",
    "y = raw_data.stimulus"
   ]
  },
  {
   "cell_type": "code",
   "execution_count": 16,
   "id": "9c1574d6",
   "metadata": {},
   "outputs": [],
   "source": [
    "# Splitting data for training and testing\n",
    "X_train, X_test, y_train, y_test = train_test_split(X, y, test_size = 0.2, random_state = 39)"
   ]
  },
  {
   "cell_type": "markdown",
   "id": "e657abbe",
   "metadata": {},
   "source": [
    "# Machine Learning Models"
   ]
  },
  {
   "cell_type": "markdown",
   "id": "8743ea5d",
   "metadata": {},
   "source": [
    "# Decision Tree"
   ]
  },
  {
   "cell_type": "code",
   "execution_count": 17,
   "id": "dbe7e4c1",
   "metadata": {},
   "outputs": [
    {
     "data": {
      "text/plain": [
       "DecisionTreeClassifier(criterion='entropy')"
      ]
     },
     "execution_count": 17,
     "metadata": {},
     "output_type": "execute_result"
    }
   ],
   "source": [
    "from sklearn import tree\n",
    "tree = tree.DecisionTreeClassifier(ccp_alpha= 0.0,\n",
    "              class_weight= None,\n",
    "              criterion = \"entropy\",\n",
    "              max_depth = None,\n",
    "              max_features = None,\n",
    "              max_leaf_nodes = None,\n",
    "              min_impurity_decrease = 0.0,\n",
    "              min_samples_leaf = 1,\n",
    "              min_samples_split = 2,\n",
    "              min_weight_fraction_leaf = 0.0,\n",
    "              random_state = None,\n",
    "              splitter = 'best')\n",
    "tree.fit(X_train, y_train)"
   ]
  },
  {
   "cell_type": "code",
   "execution_count": 18,
   "id": "bcb8239c",
   "metadata": {},
   "outputs": [],
   "source": [
    "y_pred1 = tree.predict(X_test)"
   ]
  },
  {
   "cell_type": "code",
   "execution_count": 19,
   "id": "95712989",
   "metadata": {},
   "outputs": [
    {
     "name": "stdout",
     "output_type": "stream",
     "text": [
      "Accuracy is: 83.19455553952872\n"
     ]
    }
   ],
   "source": [
    "from sklearn.metrics import accuracy_score\n",
    "accuracy = {accuracy_score(y_test, y_pred1)}\n",
    "print(f\"Accuracy is: {accuracy_score(y_test, y_pred1)* 100}\")"
   ]
  },
  {
   "cell_type": "code",
   "execution_count": 20,
   "id": "e1e5a0b3",
   "metadata": {},
   "outputs": [
    {
     "name": "stdout",
     "output_type": "stream",
     "text": [
      "\u001b[1mClassification report : \u001b[0m\n",
      "               precision    recall  f1-score   support\n",
      "\n",
      "           0       0.92      0.93      0.93     39341\n",
      "           1       0.76      0.76      0.76      2050\n",
      "           2       0.76      0.78      0.77      2158\n",
      "           3       0.66      0.64      0.65      2144\n",
      "           4       0.81      0.82      0.82      2037\n",
      "           5       0.77      0.76      0.77      2052\n",
      "           6       0.75      0.78      0.77      1952\n",
      "           7       0.65      0.64      0.64      2048\n",
      "           8       0.77      0.74      0.75      2084\n",
      "           9       0.72      0.71      0.71      1918\n",
      "          10       0.66      0.66      0.66      2029\n",
      "          11       0.79      0.79      0.79      1973\n",
      "          12       0.69      0.66      0.68      2082\n",
      "          13       0.77      0.77      0.77      1601\n",
      "          14       0.63      0.63      0.63      1305\n",
      "          15       0.55      0.56      0.56      1473\n",
      "          16       0.73      0.71      0.72      1608\n",
      "          17       0.72      0.72      0.72      1367\n",
      "          18       0.66      0.64      0.65       904\n",
      "          19       0.76      0.77      0.76       794\n",
      "          20       0.93      0.93      0.93       925\n",
      "          21       0.72      0.70      0.71       699\n",
      "          22       0.88      0.88      0.88       829\n",
      "          23       0.90      0.90      0.90       888\n",
      "\n",
      "    accuracy                           0.83     76261\n",
      "   macro avg       0.75      0.74      0.75     76261\n",
      "weighted avg       0.83      0.83      0.83     76261\n",
      "\n",
      "\u001b[1mConfusion Matrix : \u001b[0m\n"
     ]
    },
    {
     "data": {
      "image/png": "[encoded data removed]",
      "text/plain": [
       "<Figure size 432x288 with 2 Axes>"
      ]
     },
     "metadata": {
      "needs_background": "light"
     },
     "output_type": "display_data"
    }
   ],
   "source": [
    "print('\\033[1m' +'Classification report : '+ '\\033[0m\\n', classification_report(y_test, y_pred1))\n",
    "\n",
    "cm = confusion_matrix(y_pred1, y_test)\n",
    "print('\\033[1m' +'Confusion Matrix : '+ '\\033[0m')\n",
    "sns.heatmap(cm, cmap = 'OrRd',annot = True, fmt='d')\n",
    "plt.show()"
   ]
  },
  {
   "cell_type": "markdown",
   "id": "4ebcef17",
   "metadata": {},
   "source": [
    "# Evaluation -- Decision Tree"
   ]
  },
  {
   "cell_type": "code",
   "execution_count": 21,
   "id": "cbae2add",
   "metadata": {},
   "outputs": [
    {
     "name": "stdout",
     "output_type": "stream",
     "text": [
      "MAE: 1.2407914923748704\n",
      "MSE: 13.610705340868858\n",
      "RMSE: 3.6892689439601525\n"
     ]
    }
   ],
   "source": [
    "from sklearn import metrics\n",
    "\n",
    "print('MAE:', metrics.mean_absolute_error(y_test,y_pred1))\n",
    "print('MSE:', metrics.mean_squared_error(y_test, y_pred1))\n",
    "print('RMSE:', np.sqrt(metrics.mean_squared_error(y_test, y_pred1)))"
   ]
  },
  {
   "cell_type": "code",
   "execution_count": 22,
   "id": "f7ac1ceb",
   "metadata": {},
   "outputs": [
    {
     "name": "stdout",
     "output_type": "stream",
     "text": [
      "Precision Score :  0.8312223975111264\n",
      "Recall Score :  0.8319455553952873\n",
      "f1_score :  0.8315380461216301\n"
     ]
    }
   ],
   "source": [
    "from sklearn.metrics import precision_score\n",
    "print(\"Precision Score : \",precision_score(y_test, y_pred1, average='weighted'))\n",
    "\n",
    "\n",
    "from sklearn.metrics import recall_score\n",
    "print(\"Recall Score : \",recall_score(y_test, y_pred1,average='weighted'))\n",
    "\n",
    "\n",
    "from sklearn.metrics import f1_score\n",
    "print(\"f1_score : \",f1_score(y_test, y_pred1,average='weighted'))"
   ]
  },
  {
   "cell_type": "markdown",
   "id": "f901aeef",
   "metadata": {},
   "source": [
    "# KNeighborsClassifier"
   ]
  },
  {
   "cell_type": "code",
   "execution_count": 23,
   "id": "15fd9ac9",
   "metadata": {},
   "outputs": [
    {
     "data": {
      "text/plain": [
       "KNeighborsClassifier(algorithm='ball_tree', n_jobs=-1, n_neighbors=2, p=1,\n",
       "                     weights='distance')"
      ]
     },
     "execution_count": 23,
     "metadata": {},
     "output_type": "execute_result"
    }
   ],
   "source": [
    "from sklearn.neighbors import KNeighborsClassifier\n",
    "KNeighborsClassifier = KNeighborsClassifier(algorithm = 'ball_tree',\n",
    "                                            leaf_size = 30,\n",
    "                                            metric = 'minkowski',\n",
    "                                            metric_params= None,\n",
    "                                            n_jobs = -1,\n",
    "                                            n_neighbors = 2,\n",
    "                                            p = 1,\n",
    "                                            weights = 'distance')\n",
    "KNeighborsClassifier.fit(X_train, y_train)"
   ]
  },
  {
   "cell_type": "code",
   "execution_count": 24,
   "id": "da059a26",
   "metadata": {},
   "outputs": [],
   "source": [
    "y_pred2 = KNeighborsClassifier.predict(X_test)"
   ]
  },
  {
   "cell_type": "code",
   "execution_count": 25,
   "id": "1d358310",
   "metadata": {},
   "outputs": [
    {
     "name": "stdout",
     "output_type": "stream",
     "text": [
      "Accuracy is: 89.18188851444381\n"
     ]
    }
   ],
   "source": [
    "from sklearn.metrics import accuracy_score\n",
    "accuracy = {accuracy_score(y_test, y_pred2)}\n",
    "print(f\"Accuracy is: {accuracy_score(y_test, y_pred2)* 100}\")"
   ]
  },
  {
   "cell_type": "code",
   "execution_count": 26,
   "id": "5e0d6dfd",
   "metadata": {},
   "outputs": [
    {
     "name": "stdout",
     "output_type": "stream",
     "text": [
      "\u001b[1mClassification report : \u001b[0m\n",
      "               precision    recall  f1-score   support\n",
      "\n",
      "           0       0.93      0.95      0.94     39341\n",
      "           1       0.86      0.84      0.85      2050\n",
      "           2       0.86      0.84      0.85      2158\n",
      "           3       0.79      0.73      0.76      2144\n",
      "           4       0.90      0.90      0.90      2037\n",
      "           5       0.85      0.84      0.85      2052\n",
      "           6       0.90      0.89      0.89      1952\n",
      "           7       0.73      0.70      0.71      2048\n",
      "           8       0.85      0.83      0.84      2084\n",
      "           9       0.85      0.84      0.85      1918\n",
      "          10       0.82      0.79      0.80      2029\n",
      "          11       0.92      0.89      0.90      1973\n",
      "          12       0.83      0.76      0.80      2082\n",
      "          13       0.89      0.88      0.89      1601\n",
      "          14       0.77      0.74      0.76      1305\n",
      "          15       0.65      0.63      0.64      1473\n",
      "          16       0.88      0.84      0.86      1608\n",
      "          17       0.85      0.86      0.85      1367\n",
      "          18       0.82      0.79      0.80       904\n",
      "          19       0.84      0.88      0.86       794\n",
      "          20       0.99      0.98      0.99       925\n",
      "          21       0.97      0.95      0.96       699\n",
      "          22       0.99      0.97      0.98       829\n",
      "          23       0.98      0.97      0.97       888\n",
      "\n",
      "    accuracy                           0.89     76261\n",
      "   macro avg       0.86      0.85      0.85     76261\n",
      "weighted avg       0.89      0.89      0.89     76261\n",
      "\n",
      "\u001b[1mConfusion Matrix : \u001b[0m\n"
     ]
    },
    {
     "data": {
      "image/png": "[encoded data removed]",
      "text/plain": [
       "<Figure size 432x288 with 2 Axes>"
      ]
     },
     "metadata": {
      "needs_background": "light"
     },
     "output_type": "display_data"
    }
   ],
   "source": [
    "print('\\033[1m' +'Classification report : '+ '\\033[0m\\n', classification_report(y_test, y_pred2))\n",
    "\n",
    "cm = confusion_matrix(y_pred2, y_test)\n",
    "print('\\033[1m' +'Confusion Matrix : '+ '\\033[0m')\n",
    "sns.heatmap(cm, cmap = 'OrRd',annot = True, fmt='d')\n",
    "plt.show()"
   ]
  },
  {
   "cell_type": "markdown",
   "id": "d8d41935",
   "metadata": {},
   "source": [
    "# Evaluation -- KNeighborsClassifier"
   ]
  },
  {
   "cell_type": "code",
   "execution_count": 27,
   "id": "bd1c5fe9",
   "metadata": {},
   "outputs": [
    {
     "name": "stdout",
     "output_type": "stream",
     "text": [
      "MAE: 0.8127876634190477\n",
      "MSE: 8.850028192654175\n",
      "RMSE: 2.9748996945534443\n"
     ]
    }
   ],
   "source": [
    "from sklearn import metrics\n",
    "\n",
    "print('MAE:', metrics.mean_absolute_error(y_test,y_pred2))\n",
    "print('MSE:', metrics.mean_squared_error(y_test, y_pred2))\n",
    "print('RMSE:', np.sqrt(metrics.mean_squared_error(y_test, y_pred2)))"
   ]
  },
  {
   "cell_type": "code",
   "execution_count": 28,
   "id": "de3e3c02",
   "metadata": {},
   "outputs": [
    {
     "name": "stdout",
     "output_type": "stream",
     "text": [
      "Precision Score :  0.8905903317723076\n",
      "Recall Score :  0.8918188851444382\n",
      "f1_score :  0.8909983422140985\n"
     ]
    }
   ],
   "source": [
    "from sklearn.metrics import precision_score\n",
    "print(\"Precision Score : \",precision_score(y_test, y_pred2, average='weighted'))\n",
    "\n",
    "\n",
    "from sklearn.metrics import recall_score\n",
    "print(\"Recall Score : \",recall_score(y_test, y_pred2,average='weighted'))\n",
    "\n",
    "\n",
    "from sklearn.metrics import f1_score\n",
    "print(\"f1_score : \",f1_score(y_test, y_pred2,average='weighted'))"
   ]
  },
  {
   "cell_type": "markdown",
   "id": "5065ae39",
   "metadata": {},
   "source": [
    "# Random Forest"
   ]
  },
  {
   "cell_type": "code",
   "execution_count": 29,
   "id": "be857e35",
   "metadata": {},
   "outputs": [
    {
     "data": {
      "text/plain": [
       "RandomForestClassifier(criterion='entropy', n_estimators=400)"
      ]
     },
     "execution_count": 29,
     "metadata": {},
     "output_type": "execute_result"
    }
   ],
   "source": [
    "from sklearn.ensemble import RandomForestClassifier\n",
    "RandomForestClassifier = RandomForestClassifier(\n",
    "              bootstrap = True,\n",
    "              ccp_alpha = 0.0,\n",
    "              class_weight =  None,\n",
    "              criterion = 'entropy',\n",
    "              max_depth = None,\n",
    "              max_features = 'auto' ,\n",
    "              max_leaf_nodes = None,\n",
    "              max_samples = None,\n",
    "              min_impurity_decrease = 0.0,\n",
    "              min_samples_leaf = 1,\n",
    "              min_samples_split = 2,\n",
    "              min_weight_fraction_leaf = 0.0,\n",
    "              n_estimators = 400,\n",
    "              n_jobs = None,\n",
    "              oob_score = False,\n",
    "              random_state = None,\n",
    "              verbose = 0,\n",
    "              warm_start = False)\n",
    "RandomForestClassifier.fit(X_train, y_train)"
   ]
  },
  {
   "cell_type": "code",
   "execution_count": 30,
   "id": "544a9fa7",
   "metadata": {},
   "outputs": [],
   "source": [
    "y_pred3 = RandomForestClassifier.predict(X_test)"
   ]
  },
  {
   "cell_type": "code",
   "execution_count": 31,
   "id": "a0daf4ac",
   "metadata": {},
   "outputs": [
    {
     "name": "stdout",
     "output_type": "stream",
     "text": [
      "Accuracy is: 90.72920627843853\n"
     ]
    }
   ],
   "source": [
    "from sklearn.metrics import accuracy_score\n",
    "accuracy = {accuracy_score(y_test, y_pred3)}\n",
    "print(f\"Accuracy is: {accuracy_score(y_test, y_pred3)* 100}\")"
   ]
  },
  {
   "cell_type": "code",
   "execution_count": 32,
   "id": "17ccca6d",
   "metadata": {},
   "outputs": [
    {
     "name": "stdout",
     "output_type": "stream",
     "text": [
      "\u001b[1mClassification report : \u001b[0m\n",
      "               precision    recall  f1-score   support\n",
      "\n",
      "           0       0.92      0.98      0.95     39341\n",
      "           1       0.92      0.84      0.88      2050\n",
      "           2       0.92      0.84      0.88      2158\n",
      "           3       0.86      0.73      0.79      2144\n",
      "           4       0.95      0.89      0.92      2037\n",
      "           5       0.91      0.85      0.88      2052\n",
      "           6       0.94      0.86      0.90      1952\n",
      "           7       0.80      0.74      0.77      2048\n",
      "           8       0.91      0.82      0.86      2084\n",
      "           9       0.88      0.82      0.85      1918\n",
      "          10       0.90      0.78      0.84      2029\n",
      "          11       0.95      0.88      0.91      1973\n",
      "          12       0.89      0.77      0.83      2082\n",
      "          13       0.91      0.90      0.90      1601\n",
      "          14       0.82      0.74      0.78      1305\n",
      "          15       0.68      0.72      0.70      1473\n",
      "          16       0.92      0.82      0.87      1608\n",
      "          17       0.86      0.86      0.86      1367\n",
      "          18       0.87      0.78      0.82       904\n",
      "          19       0.90      0.88      0.89       794\n",
      "          20       1.00      0.98      0.99       925\n",
      "          21       0.97      0.93      0.95       699\n",
      "          22       0.98      0.97      0.97       829\n",
      "          23       0.99      0.96      0.97       888\n",
      "\n",
      "    accuracy                           0.91     76261\n",
      "   macro avg       0.90      0.85      0.87     76261\n",
      "weighted avg       0.91      0.91      0.91     76261\n",
      "\n",
      "\u001b[1mConfusion Matrix : \u001b[0m\n"
     ]
    },
    {
     "data": {
      "image/png": "[encoded data removed]",
      "text/plain": [
       "<Figure size 432x288 with 2 Axes>"
      ]
     },
     "metadata": {
      "needs_background": "light"
     },
     "output_type": "display_data"
    }
   ],
   "source": [
    "print('\\033[1m' +'Classification report : '+ '\\033[0m\\n', classification_report(y_test, y_pred3))\n",
    "\n",
    "cm = confusion_matrix(y_pred3, y_test)\n",
    "print('\\033[1m' +'Confusion Matrix : '+ '\\033[0m')\n",
    "sns.heatmap(cm, cmap = 'OrRd',annot = True, fmt='d')\n",
    "plt.show()"
   ]
  },
  {
   "cell_type": "markdown",
   "id": "bf149f54",
   "metadata": {},
   "source": [
    "# Evaluation -- Random Forest"
   ]
  },
  {
   "cell_type": "code",
   "execution_count": 33,
   "id": "44b863ad",
   "metadata": {},
   "outputs": [
    {
     "name": "stdout",
     "output_type": "stream",
     "text": [
      "MAE: 0.7150443870392468\n",
      "MSE: 7.999134551081156\n",
      "RMSE: 2.8282741294084555\n"
     ]
    }
   ],
   "source": [
    "from sklearn import metrics\n",
    "\n",
    "print('MAE:', metrics.mean_absolute_error(y_test,y_pred3))\n",
    "print('MSE:', metrics.mean_squared_error(y_test, y_pred3))\n",
    "print('RMSE:', np.sqrt(metrics.mean_squared_error(y_test, y_pred3)))"
   ]
  },
  {
   "cell_type": "code",
   "execution_count": 34,
   "id": "f40def00",
   "metadata": {},
   "outputs": [
    {
     "name": "stdout",
     "output_type": "stream",
     "text": [
      "Precision Score :  0.9067967152117171\n",
      "Recall Score :  0.9072920627843852\n",
      "f1_score :  0.9057165692340763\n"
     ]
    }
   ],
   "source": [
    "from sklearn.metrics import precision_score\n",
    "print(\"Precision Score : \",precision_score(y_test, y_pred3, average='weighted'))\n",
    "\n",
    "\n",
    "from sklearn.metrics import recall_score\n",
    "print(\"Recall Score : \",recall_score(y_test, y_pred3,average='weighted'))\n",
    "\n",
    "\n",
    "from sklearn.metrics import f1_score\n",
    "print(\"f1_score : \",f1_score(y_test, y_pred3,average='weighted'))"
   ]
  },
  {
   "cell_type": "markdown",
   "id": "fc99a8db",
   "metadata": {},
   "source": [
    "# XGBoost"
   ]
  },
  {
   "cell_type": "code",
   "execution_count": 35,
   "id": "cf92a2ce",
   "metadata": {},
   "outputs": [
    {
     "name": "stderr",
     "output_type": "stream",
     "text": [
      "E:\\MachineLearning\\envs\\gpu\\lib\\site-packages\\xgboost\\compat.py:36: FutureWarning: pandas.Int64Index is deprecated and will be removed from pandas in a future version. Use pandas.Index with the appropriate dtype instead.\n",
      "  from pandas import MultiIndex, Int64Index\n",
      "E:\\MachineLearning\\envs\\gpu\\lib\\site-packages\\xgboost\\sklearn.py:1224: UserWarning: The use of label encoder in XGBClassifier is deprecated and will be removed in a future release. To remove this warning, do the following: 1) Pass option use_label_encoder=False when constructing XGBClassifier object; and 2) Encode your labels (y) as integers starting with 0, i.e. 0, 1, 2, ..., [num_class - 1].\n",
      "  warnings.warn(label_encoder_deprecation_msg, UserWarning)\n",
      "E:\\MachineLearning\\envs\\gpu\\lib\\site-packages\\xgboost\\data.py:262: FutureWarning: pandas.Int64Index is deprecated and will be removed from pandas in a future version. Use pandas.Index with the appropriate dtype instead.\n",
      "  elif isinstance(data.columns, (pd.Int64Index, pd.RangeIndex)):\n"
     ]
    },
    {
     "name": "stdout",
     "output_type": "stream",
     "text": [
      "[12:06:40] WARNING: C:/Users/Administrator/workspace/xgboost-win64_release_1.5.1/src/learner.cc:1115: Starting in XGBoost 1.3.0, the default evaluation metric used with the objective 'multi:softprob' was changed from 'merror' to 'mlogloss'. Explicitly set eval_metric if you'd like to restore the old behavior.\n"
     ]
    },
    {
     "data": {
      "text/plain": [
       "XGBClassifier(base_score=0.5, booster='gbtree', colsample_bylevel=1,\n",
       "              colsample_bynode=1, colsample_bytree=1, enable_categorical=False,\n",
       "              gamma=0, gpu_id=0, importance_type=None, importance_typen=None,\n",
       "              interaction_constraints='', learning_rate=0.5, max_delta_step=0,\n",
       "              max_depth=50, min_child_weight=1, missing=nan,\n",
       "              monotone_constraints='()', n_estimators=400, n_jobs=12,\n",
       "              num_parallel_tree=1, objective='multi:softprob',\n",
       "              predictor='gpu_predictor', random_state=0, reg_alpha=0,\n",
       "              reg_lambda=1, scale_pos_weight=None, subsample=1,\n",
       "              tree_method='exact', validate_parameters=1, verbosity=None)"
      ]
     },
     "execution_count": 35,
     "metadata": {},
     "output_type": "execute_result"
    }
   ],
   "source": [
    "from xgboost import XGBClassifier\n",
    "xgb = XGBClassifier(base_score = None,\n",
    "              booster = 'gbtree',\n",
    "              colsample_bylevel = None,\n",
    "              colsample_bynode = None,\n",
    "              colsample_bytree = None,\n",
    "              enable_categorical = False,\n",
    "              gamma = 0,\n",
    "              gpu_id = None,\n",
    "              importance_typen = None,\n",
    "              interaction_constraints = None,\n",
    "              learning_rate = 0.5,\n",
    "              max_delta_step = None,\n",
    "              max_depth = 50,\n",
    "              min_child_weight = 1,\n",
    "              monotone_constraints = None,\n",
    "              n_estimators = 400,\n",
    "              n_jobs = None,\n",
    "              num_parallel_tree = None,\n",
    "              objective = 'multi:softmax',\n",
    "              predictor = 'gpu_predictor',\n",
    "              random_state = None,\n",
    "              reg_alpha = None,\n",
    "              reg_lambda = None,\n",
    "              scale_pos_weight = None,\n",
    "              subsample = None,\n",
    "              tree_method = None,\n",
    "              use_label_encoder = True,\n",
    "              validate_parameters = None,\n",
    "              verbosity = None)\n",
    "xgb.fit(X_train, y_train)"
   ]
  },
  {
   "cell_type": "code",
   "execution_count": 36,
   "id": "122b4ba0",
   "metadata": {},
   "outputs": [],
   "source": [
    "y_pred4 = xgb.predict(X_test)"
   ]
  },
  {
   "cell_type": "code",
   "execution_count": 37,
   "id": "022138ba",
   "metadata": {},
   "outputs": [
    {
     "name": "stdout",
     "output_type": "stream",
     "text": [
      "Accuracy is: 89.4900407810021\n"
     ]
    }
   ],
   "source": [
    "from sklearn.metrics import accuracy_score\n",
    "accuracy = {accuracy_score(y_test, y_pred4)}\n",
    "print(f\"Accuracy is: {accuracy_score(y_test, y_pred4)* 100}\")"
   ]
  },
  {
   "cell_type": "code",
   "execution_count": 38,
   "id": "269a9899",
   "metadata": {},
   "outputs": [
    {
     "name": "stdout",
     "output_type": "stream",
     "text": [
      "\u001b[1mClassification report : \u001b[0m\n",
      "               precision    recall  f1-score   support\n",
      "\n",
      "           0       0.92      0.96      0.94     39341\n",
      "           1       0.88      0.84      0.86      2050\n",
      "           2       0.87      0.86      0.86      2158\n",
      "           3       0.81      0.72      0.76      2144\n",
      "           4       0.92      0.89      0.91      2037\n",
      "           5       0.87      0.86      0.86      2052\n",
      "           6       0.90      0.87      0.88      1952\n",
      "           7       0.76      0.73      0.74      2048\n",
      "           8       0.86      0.82      0.84      2084\n",
      "           9       0.85      0.81      0.83      1918\n",
      "          10       0.84      0.77      0.80      2029\n",
      "          11       0.92      0.86      0.89      1973\n",
      "          12       0.84      0.74      0.79      2082\n",
      "          13       0.88      0.87      0.88      1601\n",
      "          14       0.79      0.73      0.76      1305\n",
      "          15       0.67      0.66      0.67      1473\n",
      "          16       0.88      0.83      0.85      1608\n",
      "          17       0.83      0.84      0.83      1367\n",
      "          18       0.80      0.76      0.78       904\n",
      "          19       0.87      0.87      0.87       794\n",
      "          20       0.98      0.98      0.98       925\n",
      "          21       0.92      0.90      0.91       699\n",
      "          22       0.97      0.95      0.96       829\n",
      "          23       0.98      0.96      0.97       888\n",
      "\n",
      "    accuracy                           0.89     76261\n",
      "   macro avg       0.87      0.84      0.85     76261\n",
      "weighted avg       0.89      0.89      0.89     76261\n",
      "\n",
      "\u001b[1mConfusion Matrix : \u001b[0m\n"
     ]
    },
    {
     "data": {
      "image/png": "[encoded data removed]",
      "text/plain": [
       "<Figure size 432x288 with 2 Axes>"
      ]
     },
     "metadata": {
      "needs_background": "light"
     },
     "output_type": "display_data"
    }
   ],
   "source": [
    "print('\\033[1m' +'Classification report : '+ '\\033[0m\\n', classification_report(y_test, y_pred4))\n",
    "\n",
    "cm = confusion_matrix(y_pred4, y_test)\n",
    "print('\\033[1m' +'Confusion Matrix : '+ '\\033[0m')\n",
    "sns.heatmap(cm, cmap = 'OrRd',annot = True, fmt='d')\n",
    "plt.show()"
   ]
  },
  {
   "cell_type": "markdown",
   "id": "3031b603",
   "metadata": {},
   "source": [
    "# Evaluation -- XGBoost"
   ]
  },
  {
   "cell_type": "code",
   "execution_count": 39,
   "id": "f5efef7b",
   "metadata": {},
   "outputs": [
    {
     "name": "stdout",
     "output_type": "stream",
     "text": [
      "MAE: 0.7963047953737822\n",
      "MSE: 8.788961592426011\n",
      "RMSE: 2.964618287811436\n"
     ]
    }
   ],
   "source": [
    "from sklearn import metrics\n",
    "\n",
    "print('MAE:', metrics.mean_absolute_error(y_test,y_pred4))\n",
    "print('MSE:', metrics.mean_squared_error(y_test, y_pred4))\n",
    "print('RMSE:', np.sqrt(metrics.mean_squared_error(y_test, y_pred4)))"
   ]
  },
  {
   "cell_type": "code",
   "execution_count": 40,
   "id": "36005adc",
   "metadata": {},
   "outputs": [
    {
     "name": "stdout",
     "output_type": "stream",
     "text": [
      "Precision Score :  0.8931894822314205\n",
      "Recall Score :  0.8949004078100209\n",
      "f1_score :  0.8934842019260953\n"
     ]
    }
   ],
   "source": [
    "from sklearn.metrics import precision_score\n",
    "print(\"Precision Score : \",precision_score(y_test, y_pred4, average='weighted'))\n",
    "\n",
    "\n",
    "from sklearn.metrics import recall_score\n",
    "print(\"Recall Score : \",recall_score(y_test, y_pred4,average='weighted'))\n",
    "\n",
    "\n",
    "from sklearn.metrics import f1_score\n",
    "print(\"f1_score : \",f1_score(y_test, y_pred4,average='weighted'))"
   ]
  },
  {
   "cell_type": "markdown",
   "id": "5805a6f2",
   "metadata": {},
   "source": [
    "# ExtraTreesClassifier"
   ]
  },
  {
   "cell_type": "code",
   "execution_count": 41,
   "id": "bb5c43f7",
   "metadata": {},
   "outputs": [
    {
     "data": {
      "text/plain": [
       "ExtraTreesClassifier(criterion='entropy', n_estimators=400)"
      ]
     },
     "execution_count": 41,
     "metadata": {},
     "output_type": "execute_result"
    }
   ],
   "source": [
    "from sklearn.ensemble import ExtraTreesClassifier\n",
    "extratree = ExtraTreesClassifier(bootstrap = False,\n",
    "             ccp_alpha = 0.0,\n",
    "             class_weight = None,\n",
    "             criterion = 'entropy',\n",
    "             max_depth = None,\n",
    "             max_features = 'auto',\n",
    "             max_leaf_nodes = None,\n",
    "             max_samples = None,\n",
    "             min_impurity_decrease = 0.0,\n",
    "             min_samples_leaf = 1,\n",
    "             min_samples_split = 2,\n",
    "             min_weight_fraction_leaf = 0.0,\n",
    "             n_estimators = 400,\n",
    "             n_jobs = None,\n",
    "             oob_score = False,\n",
    "             random_state = None,\n",
    "             verbose = 0,\n",
    "             warm_start = False)\n",
    "extratree.fit(X_train, y_train)"
   ]
  },
  {
   "cell_type": "code",
   "execution_count": 42,
   "id": "71002958",
   "metadata": {},
   "outputs": [],
   "source": [
    "y_pred5 = extratree.predict(X_test)"
   ]
  },
  {
   "cell_type": "code",
   "execution_count": 43,
   "id": "b61749b4",
   "metadata": {},
   "outputs": [
    {
     "name": "stdout",
     "output_type": "stream",
     "text": [
      "Accuracy is: 90.91147506589213\n"
     ]
    }
   ],
   "source": [
    "from sklearn.metrics import accuracy_score\n",
    "accuracy = {accuracy_score(y_test, y_pred5)}\n",
    "print(f\"Accuracy is: {accuracy_score(y_test, y_pred5)* 100}\")"
   ]
  },
  {
   "cell_type": "code",
   "execution_count": 44,
   "id": "06532654",
   "metadata": {},
   "outputs": [
    {
     "name": "stdout",
     "output_type": "stream",
     "text": [
      "\u001b[1mClassification report : \u001b[0m\n",
      "               precision    recall  f1-score   support\n",
      "\n",
      "           0       0.91      0.98      0.95     39341\n",
      "           1       0.93      0.85      0.89      2050\n",
      "           2       0.93      0.84      0.88      2158\n",
      "           3       0.87      0.73      0.80      2144\n",
      "           4       0.96      0.89      0.92      2037\n",
      "           5       0.92      0.85      0.88      2052\n",
      "           6       0.94      0.86      0.90      1952\n",
      "           7       0.80      0.73      0.76      2048\n",
      "           8       0.91      0.83      0.87      2084\n",
      "           9       0.91      0.82      0.86      1918\n",
      "          10       0.91      0.79      0.84      2029\n",
      "          11       0.96      0.88      0.92      1973\n",
      "          12       0.91      0.77      0.84      2082\n",
      "          13       0.92      0.89      0.91      1601\n",
      "          14       0.82      0.76      0.79      1305\n",
      "          15       0.68      0.71      0.69      1473\n",
      "          16       0.93      0.83      0.88      1608\n",
      "          17       0.86      0.85      0.86      1367\n",
      "          18       0.88      0.80      0.84       904\n",
      "          19       0.90      0.88      0.89       794\n",
      "          20       1.00      0.98      0.99       925\n",
      "          21       0.99      0.94      0.96       699\n",
      "          22       0.99      0.98      0.98       829\n",
      "          23       0.99      0.96      0.98       888\n",
      "\n",
      "    accuracy                           0.91     76261\n",
      "   macro avg       0.91      0.85      0.88     76261\n",
      "weighted avg       0.91      0.91      0.91     76261\n",
      "\n",
      "\u001b[1mConfusion Matrix : \u001b[0m\n"
     ]
    },
    {
     "data": {
      "image/png": "[encoded data removed]",
      "text/plain": [
       "<Figure size 432x288 with 2 Axes>"
      ]
     },
     "metadata": {
      "needs_background": "light"
     },
     "output_type": "display_data"
    }
   ],
   "source": [
    "print('\\033[1m' +'Classification report : '+ '\\033[0m\\n', classification_report(y_test, y_pred5))\n",
    "\n",
    "cm = confusion_matrix(y_pred5, y_test)\n",
    "print('\\033[1m' +'Confusion Matrix : '+ '\\033[0m')\n",
    "sns.heatmap(cm, cmap = 'OrRd',annot = True, fmt='d')\n",
    "plt.show()"
   ]
  },
  {
   "cell_type": "markdown",
   "id": "2b86af64",
   "metadata": {},
   "source": [
    "# Evaluation -- ExtraTreesClassifier"
   ]
  },
  {
   "cell_type": "code",
   "execution_count": 45,
   "id": "a9e47f87",
   "metadata": {},
   "outputs": [
    {
     "name": "stdout",
     "output_type": "stream",
     "text": [
      "MAE: 0.7109925125555657\n",
      "MSE: 7.960569622742948\n",
      "RMSE: 2.821448142841358\n"
     ]
    }
   ],
   "source": [
    "from sklearn import metrics\n",
    "\n",
    "print('MAE:', metrics.mean_absolute_error(y_test,y_pred5))\n",
    "print('MSE:', metrics.mean_squared_error(y_test, y_pred5))\n",
    "print('RMSE:', np.sqrt(metrics.mean_squared_error(y_test, y_pred5)))"
   ]
  },
  {
   "cell_type": "code",
   "execution_count": 46,
   "id": "6d09ec03",
   "metadata": {},
   "outputs": [
    {
     "name": "stdout",
     "output_type": "stream",
     "text": [
      "Precision Score :  0.9090644207398618\n",
      "Recall Score :  0.9091147506589213\n",
      "f1_score :  0.9075305118146388\n"
     ]
    }
   ],
   "source": [
    "from sklearn.metrics import precision_score\n",
    "print(\"Precision Score : \",precision_score(y_test, y_pred5, average='weighted'))\n",
    "\n",
    "\n",
    "from sklearn.metrics import recall_score\n",
    "print(\"Recall Score : \",recall_score(y_test, y_pred5,average='weighted'))\n",
    "\n",
    "\n",
    "from sklearn.metrics import f1_score\n",
    "print(\"f1_score : \",f1_score(y_test, y_pred5,average='weighted'))"
   ]
  },
  {
   "cell_type": "code",
   "execution_count": null,
   "id": "292f2127",
   "metadata": {},
   "outputs": [],
   "source": []
  }
 ],
 "metadata": {
  "kernelspec": {
   "display_name": "Python 3 (ipykernel)",
   "language": "python",
   "name": "python3"
  },
  "language_info": {
   "codemirror_mode": {
    "name": "ipython",
    "version": 3
   },
   "file_extension": ".py",
   "mimetype": "text/x-python",
   "name": "python",
   "nbconvert_exporter": "python",
   "pygments_lexer": "ipython3",
   "version": "3.8.12"
  }
 },
 "nbformat": 4,
 "nbformat_minor": 5
}
