{
 "cells": [
  {
   "cell_type": "markdown",
   "id": "a76f9c3f",
   "metadata": {},
   "source": [
    "# Importing Libraries"
   ]
  },
  {
   "cell_type": "code",
   "execution_count": 1,
   "id": "cb8d9727",
   "metadata": {},
   "outputs": [],
   "source": [
    "import numpy as np\n",
    "import pandas as pd\n",
    "import matplotlib.pyplot as plt\n",
    "import seaborn as sns\n",
    "from sklearn.model_selection import train_test_split\n",
    "from sklearn.metrics import confusion_matrix, f1_score, accuracy_score, classification_report"
   ]
  },
  {
   "cell_type": "markdown",
   "id": "576dc0b5",
   "metadata": {},
   "source": [
    "# Exploratory Data Analysis¶"
   ]
  },
  {
   "cell_type": "code",
   "execution_count": 2,
   "id": "c72bb47b",
   "metadata": {},
   "outputs": [
    {
     "data": {
      "text/html": [
       "<div>\n",
       "<style scoped>\n",
       "    .dataframe tbody tr th:only-of-type {\n",
       "        vertical-align: middle;\n",
       "    }\n",
       "\n",
       "    .dataframe tbody tr th {\n",
       "        vertical-align: top;\n",
       "    }\n",
       "\n",
       "    .dataframe thead th {\n",
       "        text-align: right;\n",
       "    }\n",
       "</style>\n",
       "<table border=\"1\" class=\"dataframe\">\n",
       "  <thead>\n",
       "    <tr style=\"text-align: right;\">\n",
       "      <th></th>\n",
       "      <th>Emg1</th>\n",
       "      <th>Emg2</th>\n",
       "      <th>Emg3</th>\n",
       "      <th>Emg4</th>\n",
       "      <th>Emg5</th>\n",
       "      <th>Emg6</th>\n",
       "      <th>Emg7</th>\n",
       "      <th>Emg8</th>\n",
       "      <th>Emg9</th>\n",
       "      <th>Emg10</th>\n",
       "      <th>repetition</th>\n",
       "      <th>rerepetition</th>\n",
       "      <th>stimulus</th>\n",
       "      <th>restimulus</th>\n",
       "    </tr>\n",
       "  </thead>\n",
       "  <tbody>\n",
       "    <tr>\n",
       "      <th>7899</th>\n",
       "      <td>0.0073</td>\n",
       "      <td>0.0269</td>\n",
       "      <td>0.0122</td>\n",
       "      <td>0.0024</td>\n",
       "      <td>0.0024</td>\n",
       "      <td>0.0024</td>\n",
       "      <td>0.1880</td>\n",
       "      <td>0.2246</td>\n",
       "      <td>0.0024</td>\n",
       "      <td>0.0415</td>\n",
       "      <td>10</td>\n",
       "      <td>0</td>\n",
       "      <td>1</td>\n",
       "      <td>0</td>\n",
       "    </tr>\n",
       "    <tr>\n",
       "      <th>376505</th>\n",
       "      <td>0.0024</td>\n",
       "      <td>0.0024</td>\n",
       "      <td>0.0024</td>\n",
       "      <td>0.0024</td>\n",
       "      <td>0.0293</td>\n",
       "      <td>0.2002</td>\n",
       "      <td>0.5200</td>\n",
       "      <td>0.2100</td>\n",
       "      <td>0.0439</td>\n",
       "      <td>0.6055</td>\n",
       "      <td>8</td>\n",
       "      <td>8</td>\n",
       "      <td>15</td>\n",
       "      <td>15</td>\n",
       "    </tr>\n",
       "    <tr>\n",
       "      <th>397479</th>\n",
       "      <td>0.0073</td>\n",
       "      <td>0.0024</td>\n",
       "      <td>0.0024</td>\n",
       "      <td>0.0024</td>\n",
       "      <td>0.0024</td>\n",
       "      <td>0.0781</td>\n",
       "      <td>0.1147</td>\n",
       "      <td>0.1172</td>\n",
       "      <td>0.0024</td>\n",
       "      <td>0.1685</td>\n",
       "      <td>0</td>\n",
       "      <td>0</td>\n",
       "      <td>0</td>\n",
       "      <td>0</td>\n",
       "    </tr>\n",
       "    <tr>\n",
       "      <th>91600</th>\n",
       "      <td>0.0024</td>\n",
       "      <td>0.6616</td>\n",
       "      <td>0.1489</td>\n",
       "      <td>0.2490</td>\n",
       "      <td>0.0562</td>\n",
       "      <td>0.0781</td>\n",
       "      <td>0.8789</td>\n",
       "      <td>0.6128</td>\n",
       "      <td>0.1196</td>\n",
       "      <td>0.3589</td>\n",
       "      <td>0</td>\n",
       "      <td>0</td>\n",
       "      <td>0</td>\n",
       "      <td>0</td>\n",
       "    </tr>\n",
       "    <tr>\n",
       "      <th>433288</th>\n",
       "      <td>0.0024</td>\n",
       "      <td>0.1904</td>\n",
       "      <td>0.1050</td>\n",
       "      <td>0.1245</td>\n",
       "      <td>0.2075</td>\n",
       "      <td>0.2515</td>\n",
       "      <td>0.6201</td>\n",
       "      <td>0.7178</td>\n",
       "      <td>0.2002</td>\n",
       "      <td>0.3320</td>\n",
       "      <td>0</td>\n",
       "      <td>0</td>\n",
       "      <td>0</td>\n",
       "      <td>0</td>\n",
       "    </tr>\n",
       "  </tbody>\n",
       "</table>\n",
       "</div>"
      ],
      "text/plain": [
       "          Emg1    Emg2    Emg3    Emg4    Emg5    Emg6    Emg7    Emg8  \\\n",
       "7899    0.0073  0.0269  0.0122  0.0024  0.0024  0.0024  0.1880  0.2246   \n",
       "376505  0.0024  0.0024  0.0024  0.0024  0.0293  0.2002  0.5200  0.2100   \n",
       "397479  0.0073  0.0024  0.0024  0.0024  0.0024  0.0781  0.1147  0.1172   \n",
       "91600   0.0024  0.6616  0.1489  0.2490  0.0562  0.0781  0.8789  0.6128   \n",
       "433288  0.0024  0.1904  0.1050  0.1245  0.2075  0.2515  0.6201  0.7178   \n",
       "\n",
       "          Emg9   Emg10  repetition  rerepetition  stimulus  restimulus  \n",
       "7899    0.0024  0.0415          10             0         1           0  \n",
       "376505  0.0439  0.6055           8             8        15          15  \n",
       "397479  0.0024  0.1685           0             0         0           0  \n",
       "91600   0.1196  0.3589           0             0         0           0  \n",
       "433288  0.2002  0.3320           0             0         0           0  "
      ]
     },
     "execution_count": 2,
     "metadata": {},
     "output_type": "execute_result"
    }
   ],
   "source": [
    "raw_data = pd.read_excel('Dataset 1 Patient 6.xlsx')\n",
    "raw_data.sample(5)"
   ]
  },
  {
   "cell_type": "code",
   "execution_count": 3,
   "id": "a85e933c",
   "metadata": {},
   "outputs": [
    {
     "data": {
      "text/plain": [
       "(453169, 14)"
      ]
     },
     "execution_count": 3,
     "metadata": {},
     "output_type": "execute_result"
    }
   ],
   "source": [
    "raw_data.shape"
   ]
  },
  {
   "cell_type": "code",
   "execution_count": 4,
   "id": "e05e202f",
   "metadata": {},
   "outputs": [
    {
     "data": {
      "text/plain": [
       "Index(['Emg1', 'Emg2', 'Emg3', 'Emg4', 'Emg5', 'Emg6', 'Emg7', 'Emg8', 'Emg9',\n",
       "       'Emg10', 'repetition', 'rerepetition', 'stimulus', 'restimulus'],\n",
       "      dtype='object')"
      ]
     },
     "execution_count": 4,
     "metadata": {},
     "output_type": "execute_result"
    }
   ],
   "source": [
    "raw_data.columns"
   ]
  },
  {
   "cell_type": "code",
   "execution_count": 5,
   "id": "fde113c0",
   "metadata": {},
   "outputs": [
    {
     "name": "stdout",
     "output_type": "stream",
     "text": [
      "<class 'pandas.core.frame.DataFrame'>\n",
      "RangeIndex: 453169 entries, 0 to 453168\n",
      "Data columns (total 14 columns):\n",
      " #   Column        Non-Null Count   Dtype  \n",
      "---  ------        --------------   -----  \n",
      " 0   Emg1          453169 non-null  float64\n",
      " 1   Emg2          453169 non-null  float64\n",
      " 2   Emg3          453169 non-null  float64\n",
      " 3   Emg4          453169 non-null  float64\n",
      " 4   Emg5          453169 non-null  float64\n",
      " 5   Emg6          453169 non-null  float64\n",
      " 6   Emg7          453169 non-null  float64\n",
      " 7   Emg8          453169 non-null  float64\n",
      " 8   Emg9          453169 non-null  float64\n",
      " 9   Emg10         453169 non-null  float64\n",
      " 10  repetition    453169 non-null  int64  \n",
      " 11  rerepetition  453169 non-null  int64  \n",
      " 12  stimulus      453169 non-null  int64  \n",
      " 13  restimulus    453169 non-null  int64  \n",
      "dtypes: float64(10), int64(4)\n",
      "memory usage: 48.4 MB\n"
     ]
    }
   ],
   "source": [
    "raw_data.info()"
   ]
  },
  {
   "cell_type": "code",
   "execution_count": 6,
   "id": "0ae97d58",
   "metadata": {},
   "outputs": [
    {
     "data": {
      "text/html": [
       "<div>\n",
       "<style scoped>\n",
       "    .dataframe tbody tr th:only-of-type {\n",
       "        vertical-align: middle;\n",
       "    }\n",
       "\n",
       "    .dataframe tbody tr th {\n",
       "        vertical-align: top;\n",
       "    }\n",
       "\n",
       "    .dataframe thead th {\n",
       "        text-align: right;\n",
       "    }\n",
       "</style>\n",
       "<table border=\"1\" class=\"dataframe\">\n",
       "  <thead>\n",
       "    <tr style=\"text-align: right;\">\n",
       "      <th></th>\n",
       "      <th>Emg1</th>\n",
       "      <th>Emg2</th>\n",
       "      <th>Emg3</th>\n",
       "      <th>Emg4</th>\n",
       "      <th>Emg5</th>\n",
       "      <th>Emg6</th>\n",
       "      <th>Emg7</th>\n",
       "      <th>Emg8</th>\n",
       "      <th>Emg9</th>\n",
       "      <th>Emg10</th>\n",
       "      <th>repetition</th>\n",
       "      <th>rerepetition</th>\n",
       "      <th>stimulus</th>\n",
       "      <th>restimulus</th>\n",
       "    </tr>\n",
       "  </thead>\n",
       "  <tbody>\n",
       "    <tr>\n",
       "      <th>count</th>\n",
       "      <td>453169.000000</td>\n",
       "      <td>453169.000000</td>\n",
       "      <td>453169.000000</td>\n",
       "      <td>453169.000000</td>\n",
       "      <td>453169.000000</td>\n",
       "      <td>453169.000000</td>\n",
       "      <td>453169.000000</td>\n",
       "      <td>453169.000000</td>\n",
       "      <td>453169.000000</td>\n",
       "      <td>453169.000000</td>\n",
       "      <td>453169.000000</td>\n",
       "      <td>453169.000000</td>\n",
       "      <td>453169.000000</td>\n",
       "      <td>453169.000000</td>\n",
       "    </tr>\n",
       "    <tr>\n",
       "      <th>mean</th>\n",
       "      <td>0.005103</td>\n",
       "      <td>0.148389</td>\n",
       "      <td>0.138062</td>\n",
       "      <td>0.102310</td>\n",
       "      <td>0.048998</td>\n",
       "      <td>0.165430</td>\n",
       "      <td>0.587269</td>\n",
       "      <td>0.442196</td>\n",
       "      <td>0.203062</td>\n",
       "      <td>0.301173</td>\n",
       "      <td>3.266322</td>\n",
       "      <td>2.535246</td>\n",
       "      <td>5.786462</td>\n",
       "      <td>4.617968</td>\n",
       "    </tr>\n",
       "    <tr>\n",
       "      <th>std</th>\n",
       "      <td>0.010483</td>\n",
       "      <td>0.261329</td>\n",
       "      <td>0.298778</td>\n",
       "      <td>0.247929</td>\n",
       "      <td>0.108016</td>\n",
       "      <td>0.347019</td>\n",
       "      <td>0.805044</td>\n",
       "      <td>0.669024</td>\n",
       "      <td>0.474586</td>\n",
       "      <td>0.421003</td>\n",
       "      <td>3.489826</td>\n",
       "      <td>3.359291</td>\n",
       "      <td>6.599539</td>\n",
       "      <td>6.446301</td>\n",
       "    </tr>\n",
       "    <tr>\n",
       "      <th>min</th>\n",
       "      <td>0.000000</td>\n",
       "      <td>0.000000</td>\n",
       "      <td>0.002400</td>\n",
       "      <td>0.000000</td>\n",
       "      <td>0.002400</td>\n",
       "      <td>0.002400</td>\n",
       "      <td>0.002400</td>\n",
       "      <td>0.002400</td>\n",
       "      <td>0.000000</td>\n",
       "      <td>0.000000</td>\n",
       "      <td>0.000000</td>\n",
       "      <td>0.000000</td>\n",
       "      <td>0.000000</td>\n",
       "      <td>0.000000</td>\n",
       "    </tr>\n",
       "    <tr>\n",
       "      <th>25%</th>\n",
       "      <td>0.002400</td>\n",
       "      <td>0.002400</td>\n",
       "      <td>0.002400</td>\n",
       "      <td>0.002400</td>\n",
       "      <td>0.002400</td>\n",
       "      <td>0.007300</td>\n",
       "      <td>0.063500</td>\n",
       "      <td>0.092800</td>\n",
       "      <td>0.002400</td>\n",
       "      <td>0.041500</td>\n",
       "      <td>0.000000</td>\n",
       "      <td>0.000000</td>\n",
       "      <td>0.000000</td>\n",
       "      <td>0.000000</td>\n",
       "    </tr>\n",
       "    <tr>\n",
       "      <th>50%</th>\n",
       "      <td>0.002400</td>\n",
       "      <td>0.009800</td>\n",
       "      <td>0.004900</td>\n",
       "      <td>0.002400</td>\n",
       "      <td>0.002400</td>\n",
       "      <td>0.056200</td>\n",
       "      <td>0.322300</td>\n",
       "      <td>0.217300</td>\n",
       "      <td>0.004900</td>\n",
       "      <td>0.148900</td>\n",
       "      <td>2.000000</td>\n",
       "      <td>0.000000</td>\n",
       "      <td>3.000000</td>\n",
       "      <td>0.000000</td>\n",
       "    </tr>\n",
       "    <tr>\n",
       "      <th>75%</th>\n",
       "      <td>0.004900</td>\n",
       "      <td>0.192900</td>\n",
       "      <td>0.139200</td>\n",
       "      <td>0.092800</td>\n",
       "      <td>0.048800</td>\n",
       "      <td>0.170900</td>\n",
       "      <td>0.759300</td>\n",
       "      <td>0.468800</td>\n",
       "      <td>0.166000</td>\n",
       "      <td>0.385700</td>\n",
       "      <td>6.000000</td>\n",
       "      <td>5.000000</td>\n",
       "      <td>11.000000</td>\n",
       "      <td>9.000000</td>\n",
       "    </tr>\n",
       "    <tr>\n",
       "      <th>max</th>\n",
       "      <td>0.903300</td>\n",
       "      <td>2.976100</td>\n",
       "      <td>4.660600</td>\n",
       "      <td>4.099100</td>\n",
       "      <td>2.482900</td>\n",
       "      <td>4.668000</td>\n",
       "      <td>4.665500</td>\n",
       "      <td>4.668000</td>\n",
       "      <td>4.663100</td>\n",
       "      <td>4.421400</td>\n",
       "      <td>10.000000</td>\n",
       "      <td>10.000000</td>\n",
       "      <td>23.000000</td>\n",
       "      <td>23.000000</td>\n",
       "    </tr>\n",
       "  </tbody>\n",
       "</table>\n",
       "</div>"
      ],
      "text/plain": [
       "                Emg1           Emg2           Emg3           Emg4  \\\n",
       "count  453169.000000  453169.000000  453169.000000  453169.000000   \n",
       "mean        0.005103       0.148389       0.138062       0.102310   \n",
       "std         0.010483       0.261329       0.298778       0.247929   \n",
       "min         0.000000       0.000000       0.002400       0.000000   \n",
       "25%         0.002400       0.002400       0.002400       0.002400   \n",
       "50%         0.002400       0.009800       0.004900       0.002400   \n",
       "75%         0.004900       0.192900       0.139200       0.092800   \n",
       "max         0.903300       2.976100       4.660600       4.099100   \n",
       "\n",
       "                Emg5           Emg6           Emg7           Emg8  \\\n",
       "count  453169.000000  453169.000000  453169.000000  453169.000000   \n",
       "mean        0.048998       0.165430       0.587269       0.442196   \n",
       "std         0.108016       0.347019       0.805044       0.669024   \n",
       "min         0.002400       0.002400       0.002400       0.002400   \n",
       "25%         0.002400       0.007300       0.063500       0.092800   \n",
       "50%         0.002400       0.056200       0.322300       0.217300   \n",
       "75%         0.048800       0.170900       0.759300       0.468800   \n",
       "max         2.482900       4.668000       4.665500       4.668000   \n",
       "\n",
       "                Emg9          Emg10     repetition   rerepetition  \\\n",
       "count  453169.000000  453169.000000  453169.000000  453169.000000   \n",
       "mean        0.203062       0.301173       3.266322       2.535246   \n",
       "std         0.474586       0.421003       3.489826       3.359291   \n",
       "min         0.000000       0.000000       0.000000       0.000000   \n",
       "25%         0.002400       0.041500       0.000000       0.000000   \n",
       "50%         0.004900       0.148900       2.000000       0.000000   \n",
       "75%         0.166000       0.385700       6.000000       5.000000   \n",
       "max         4.663100       4.421400      10.000000      10.000000   \n",
       "\n",
       "            stimulus     restimulus  \n",
       "count  453169.000000  453169.000000  \n",
       "mean        5.786462       4.617968  \n",
       "std         6.599539       6.446301  \n",
       "min         0.000000       0.000000  \n",
       "25%         0.000000       0.000000  \n",
       "50%         3.000000       0.000000  \n",
       "75%        11.000000       9.000000  \n",
       "max        23.000000      23.000000  "
      ]
     },
     "execution_count": 6,
     "metadata": {},
     "output_type": "execute_result"
    }
   ],
   "source": [
    "raw_data.describe(include='all')"
   ]
  },
  {
   "cell_type": "code",
   "execution_count": 7,
   "id": "071b96e6",
   "metadata": {},
   "outputs": [
    {
     "name": "stdout",
     "output_type": "stream",
     "text": [
      "Unique Dependent values and their counts :\n",
      "0     184003\n",
      "8      16361\n",
      "2      15525\n",
      "7      15517\n",
      "12     15513\n",
      "4      15507\n",
      "6      15497\n",
      "9      15476\n",
      "11     15470\n",
      "5      15468\n",
      "10     15443\n",
      "1      15443\n",
      "3      15441\n",
      "14     10342\n",
      "17     10337\n",
      "13     10336\n",
      "15     10295\n",
      "16     10261\n",
      "21      5173\n",
      "18      5171\n",
      "19      5171\n",
      "23      5144\n",
      "20      5138\n",
      "22      5137\n",
      "Name: stimulus, dtype: int64\n"
     ]
    }
   ],
   "source": [
    "print(\"Unique Dependent values and their counts :\")\n",
    "print(raw_data[\"stimulus\"].value_counts())"
   ]
  },
  {
   "cell_type": "code",
   "execution_count": 8,
   "id": "50a0f9be",
   "metadata": {},
   "outputs": [
    {
     "data": {
      "text/plain": [
       "Text(0, 0.5, 'Frequency')"
      ]
     },
     "execution_count": 8,
     "metadata": {},
     "output_type": "execute_result"
    },
    {
     "data": {
      "image/png": "[encoded data removed]",
      "text/plain": [
       "<Figure size 432x288 with 1 Axes>"
      ]
     },
     "metadata": {
      "needs_background": "light"
     },
     "output_type": "display_data"
    }
   ],
   "source": [
    "count_classes = pd.value_counts(raw_data['stimulus'], sort = True)\n",
    "\n",
    "count_classes.plot(kind = 'bar', rot=0)\n",
    "\n",
    "plt.title(\"stimulus Class Distribution\")\n",
    "\n",
    "plt.xlabel(\"Class\")\n",
    "\n",
    "plt.ylabel(\"Frequency\")"
   ]
  },
  {
   "cell_type": "markdown",
   "id": "275440c4",
   "metadata": {},
   "source": [
    "# Data Cleaning and Exploratory Data Analysis with New Data"
   ]
  },
  {
   "cell_type": "code",
   "execution_count": 9,
   "id": "e8ed6471",
   "metadata": {},
   "outputs": [],
   "source": [
    "index_names = raw_data[ (raw_data['stimulus'] != raw_data['restimulus'])].index\n",
    "raw_data.drop(index_names, inplace = True)"
   ]
  },
  {
   "cell_type": "code",
   "execution_count": 10,
   "id": "395d42c1",
   "metadata": {},
   "outputs": [],
   "source": [
    "index_names = raw_data[ (raw_data['repetition'] != raw_data['rerepetition'])].index\n",
    "raw_data.drop(index_names, inplace = True)"
   ]
  },
  {
   "cell_type": "code",
   "execution_count": 11,
   "id": "5ccb8950",
   "metadata": {},
   "outputs": [
    {
     "data": {
      "text/html": [
       "<div>\n",
       "<style scoped>\n",
       "    .dataframe tbody tr th:only-of-type {\n",
       "        vertical-align: middle;\n",
       "    }\n",
       "\n",
       "    .dataframe tbody tr th {\n",
       "        vertical-align: top;\n",
       "    }\n",
       "\n",
       "    .dataframe thead th {\n",
       "        text-align: right;\n",
       "    }\n",
       "</style>\n",
       "<table border=\"1\" class=\"dataframe\">\n",
       "  <thead>\n",
       "    <tr style=\"text-align: right;\">\n",
       "      <th></th>\n",
       "      <th>Emg1</th>\n",
       "      <th>Emg2</th>\n",
       "      <th>Emg3</th>\n",
       "      <th>Emg4</th>\n",
       "      <th>Emg5</th>\n",
       "      <th>Emg6</th>\n",
       "      <th>Emg7</th>\n",
       "      <th>Emg8</th>\n",
       "      <th>Emg9</th>\n",
       "      <th>Emg10</th>\n",
       "      <th>repetition</th>\n",
       "      <th>rerepetition</th>\n",
       "      <th>stimulus</th>\n",
       "      <th>restimulus</th>\n",
       "    </tr>\n",
       "  </thead>\n",
       "  <tbody>\n",
       "    <tr>\n",
       "      <th>293265</th>\n",
       "      <td>0.0122</td>\n",
       "      <td>0.0195</td>\n",
       "      <td>0.0024</td>\n",
       "      <td>0.0024</td>\n",
       "      <td>0.0024</td>\n",
       "      <td>0.0024</td>\n",
       "      <td>0.0293</td>\n",
       "      <td>0.0610</td>\n",
       "      <td>0.0024</td>\n",
       "      <td>0.0024</td>\n",
       "      <td>0</td>\n",
       "      <td>0</td>\n",
       "      <td>0</td>\n",
       "      <td>0</td>\n",
       "    </tr>\n",
       "    <tr>\n",
       "      <th>118807</th>\n",
       "      <td>0.0024</td>\n",
       "      <td>0.0806</td>\n",
       "      <td>0.0146</td>\n",
       "      <td>0.0024</td>\n",
       "      <td>0.0024</td>\n",
       "      <td>0.0122</td>\n",
       "      <td>0.6372</td>\n",
       "      <td>0.0854</td>\n",
       "      <td>0.0024</td>\n",
       "      <td>0.1172</td>\n",
       "      <td>0</td>\n",
       "      <td>0</td>\n",
       "      <td>0</td>\n",
       "      <td>0</td>\n",
       "    </tr>\n",
       "    <tr>\n",
       "      <th>84470</th>\n",
       "      <td>0.0024</td>\n",
       "      <td>0.2783</td>\n",
       "      <td>0.1245</td>\n",
       "      <td>0.0024</td>\n",
       "      <td>0.0024</td>\n",
       "      <td>0.0122</td>\n",
       "      <td>0.1245</td>\n",
       "      <td>0.4028</td>\n",
       "      <td>0.0757</td>\n",
       "      <td>0.2319</td>\n",
       "      <td>1</td>\n",
       "      <td>1</td>\n",
       "      <td>11</td>\n",
       "      <td>11</td>\n",
       "    </tr>\n",
       "    <tr>\n",
       "      <th>27784</th>\n",
       "      <td>0.0024</td>\n",
       "      <td>0.3271</td>\n",
       "      <td>0.1367</td>\n",
       "      <td>0.0928</td>\n",
       "      <td>0.0049</td>\n",
       "      <td>0.0220</td>\n",
       "      <td>0.3516</td>\n",
       "      <td>0.2441</td>\n",
       "      <td>0.0488</td>\n",
       "      <td>0.0806</td>\n",
       "      <td>0</td>\n",
       "      <td>0</td>\n",
       "      <td>0</td>\n",
       "      <td>0</td>\n",
       "    </tr>\n",
       "    <tr>\n",
       "      <th>128550</th>\n",
       "      <td>0.0024</td>\n",
       "      <td>0.1758</td>\n",
       "      <td>0.2954</td>\n",
       "      <td>0.2832</td>\n",
       "      <td>0.0537</td>\n",
       "      <td>0.0879</td>\n",
       "      <td>1.2085</td>\n",
       "      <td>0.8350</td>\n",
       "      <td>0.2783</td>\n",
       "      <td>0.8325</td>\n",
       "      <td>3</td>\n",
       "      <td>3</td>\n",
       "      <td>4</td>\n",
       "      <td>4</td>\n",
       "    </tr>\n",
       "  </tbody>\n",
       "</table>\n",
       "</div>"
      ],
      "text/plain": [
       "          Emg1    Emg2    Emg3    Emg4    Emg5    Emg6    Emg7    Emg8  \\\n",
       "293265  0.0122  0.0195  0.0024  0.0024  0.0024  0.0024  0.0293  0.0610   \n",
       "118807  0.0024  0.0806  0.0146  0.0024  0.0024  0.0122  0.6372  0.0854   \n",
       "84470   0.0024  0.2783  0.1245  0.0024  0.0024  0.0122  0.1245  0.4028   \n",
       "27784   0.0024  0.3271  0.1367  0.0928  0.0049  0.0220  0.3516  0.2441   \n",
       "128550  0.0024  0.1758  0.2954  0.2832  0.0537  0.0879  1.2085  0.8350   \n",
       "\n",
       "          Emg9   Emg10  repetition  rerepetition  stimulus  restimulus  \n",
       "293265  0.0024  0.0024           0             0         0           0  \n",
       "118807  0.0024  0.1172           0             0         0           0  \n",
       "84470   0.0757  0.2319           1             1        11          11  \n",
       "27784   0.0488  0.0806           0             0         0           0  \n",
       "128550  0.2783  0.8325           3             3         4           4  "
      ]
     },
     "execution_count": 11,
     "metadata": {},
     "output_type": "execute_result"
    }
   ],
   "source": [
    "raw_data.sample(5)"
   ]
  },
  {
   "cell_type": "code",
   "execution_count": 12,
   "id": "ab84cf47",
   "metadata": {},
   "outputs": [
    {
     "data": {
      "text/plain": [
       "(378096, 14)"
      ]
     },
     "execution_count": 12,
     "metadata": {},
     "output_type": "execute_result"
    }
   ],
   "source": [
    "raw_data.shape"
   ]
  },
  {
   "cell_type": "code",
   "execution_count": 13,
   "id": "fcb24936",
   "metadata": {},
   "outputs": [
    {
     "name": "stdout",
     "output_type": "stream",
     "text": [
      "<class 'pandas.core.frame.DataFrame'>\n",
      "Int64Index: 378096 entries, 0 to 453168\n",
      "Data columns (total 14 columns):\n",
      " #   Column        Non-Null Count   Dtype  \n",
      "---  ------        --------------   -----  \n",
      " 0   Emg1          378096 non-null  float64\n",
      " 1   Emg2          378096 non-null  float64\n",
      " 2   Emg3          378096 non-null  float64\n",
      " 3   Emg4          378096 non-null  float64\n",
      " 4   Emg5          378096 non-null  float64\n",
      " 5   Emg6          378096 non-null  float64\n",
      " 6   Emg7          378096 non-null  float64\n",
      " 7   Emg8          378096 non-null  float64\n",
      " 8   Emg9          378096 non-null  float64\n",
      " 9   Emg10         378096 non-null  float64\n",
      " 10  repetition    378096 non-null  int64  \n",
      " 11  rerepetition  378096 non-null  int64  \n",
      " 12  stimulus      378096 non-null  int64  \n",
      " 13  restimulus    378096 non-null  int64  \n",
      "dtypes: float64(10), int64(4)\n",
      "memory usage: 43.3 MB\n"
     ]
    }
   ],
   "source": [
    "raw_data.info()"
   ]
  },
  {
   "cell_type": "code",
   "execution_count": 14,
   "id": "8ada4ef1",
   "metadata": {},
   "outputs": [
    {
     "name": "stdout",
     "output_type": "stream",
     "text": [
      "Emg1            False\n",
      "Emg2            False\n",
      "Emg3            False\n",
      "Emg4            False\n",
      "Emg5            False\n",
      "Emg6            False\n",
      "Emg7            False\n",
      "Emg8            False\n",
      "Emg9            False\n",
      "Emg10           False\n",
      "repetition      False\n",
      "rerepetition    False\n",
      "stimulus        False\n",
      "restimulus      False\n",
      "dtype: bool\n"
     ]
    }
   ],
   "source": [
    "print(raw_data.isnull().any())"
   ]
  },
  {
   "cell_type": "code",
   "execution_count": 15,
   "id": "138ec425",
   "metadata": {},
   "outputs": [],
   "source": [
    "X = raw_data.iloc[:,0:10]\n",
    "y = raw_data.stimulus"
   ]
  },
  {
   "cell_type": "code",
   "execution_count": 16,
   "id": "9c1574d6",
   "metadata": {},
   "outputs": [],
   "source": [
    "# Splitting data for training and testing\n",
    "X_train, X_test, y_train, y_test = train_test_split(X, y, test_size = 0.2, random_state = 39)"
   ]
  },
  {
   "cell_type": "markdown",
   "id": "e657abbe",
   "metadata": {},
   "source": [
    "# Machine Learning Models"
   ]
  },
  {
   "cell_type": "markdown",
   "id": "8743ea5d",
   "metadata": {},
   "source": [
    "# Decision Tree"
   ]
  },
  {
   "cell_type": "code",
   "execution_count": 17,
   "id": "dbe7e4c1",
   "metadata": {},
   "outputs": [
    {
     "data": {
      "text/plain": [
       "DecisionTreeClassifier()"
      ]
     },
     "execution_count": 17,
     "metadata": {},
     "output_type": "execute_result"
    }
   ],
   "source": [
    "from sklearn import tree\n",
    "tree = tree.DecisionTreeClassifier()\n",
    "tree.fit(X_train, y_train)"
   ]
  },
  {
   "cell_type": "code",
   "execution_count": 18,
   "id": "bcb8239c",
   "metadata": {},
   "outputs": [],
   "source": [
    "y_pred1 = tree.predict(X_test)"
   ]
  },
  {
   "cell_type": "code",
   "execution_count": 19,
   "id": "95712989",
   "metadata": {},
   "outputs": [
    {
     "name": "stdout",
     "output_type": "stream",
     "text": [
      "Accuracy is: 86.72837873578419\n"
     ]
    }
   ],
   "source": [
    "from sklearn.metrics import accuracy_score\n",
    "accuracy = {accuracy_score(y_test, y_pred1)}\n",
    "print(f\"Accuracy is: {accuracy_score(y_test, y_pred1)* 100}\")"
   ]
  },
  {
   "cell_type": "code",
   "execution_count": 20,
   "id": "e1e5a0b3",
   "metadata": {},
   "outputs": [
    {
     "name": "stdout",
     "output_type": "stream",
     "text": [
      "\u001b[1mClassification report : \u001b[0m\n",
      "               precision    recall  f1-score   support\n",
      "\n",
      "           0       0.94      0.94      0.94     35440\n",
      "           1       0.86      0.87      0.86      2416\n",
      "           2       0.83      0.83      0.83      2012\n",
      "           3       0.84      0.84      0.84      2302\n",
      "           4       0.82      0.85      0.84      2120\n",
      "           5       0.82      0.83      0.82      2055\n",
      "           6       0.85      0.84      0.85      2214\n",
      "           7       0.79      0.80      0.80      2326\n",
      "           8       0.80      0.79      0.79      2403\n",
      "           9       0.77      0.77      0.77      2255\n",
      "          10       0.77      0.76      0.77      2516\n",
      "          11       0.79      0.79      0.79      2458\n",
      "          12       0.77      0.76      0.76      2411\n",
      "          13       0.80      0.80      0.80      1404\n",
      "          14       0.65      0.68      0.67      1637\n",
      "          15       0.76      0.75      0.76      1448\n",
      "          16       0.80      0.81      0.80      1536\n",
      "          17       0.83      0.85      0.84      1645\n",
      "          18       0.81      0.79      0.80       881\n",
      "          19       0.79      0.78      0.79       801\n",
      "          20       0.89      0.89      0.89       855\n",
      "          21       0.88      0.85      0.87       810\n",
      "          22       0.85      0.83      0.84       762\n",
      "          23       0.92      0.91      0.91       913\n",
      "\n",
      "    accuracy                           0.87     75620\n",
      "   macro avg       0.82      0.82      0.82     75620\n",
      "weighted avg       0.87      0.87      0.87     75620\n",
      "\n",
      "\u001b[1mConfusion Matrix : \u001b[0m\n"
     ]
    },
    {
     "data": {
      "image/png": "[encoded data removed]",
      "text/plain": [
       "<Figure size 432x288 with 2 Axes>"
      ]
     },
     "metadata": {
      "needs_background": "light"
     },
     "output_type": "display_data"
    }
   ],
   "source": [
    "print('\\033[1m' +'Classification report : '+ '\\033[0m\\n', classification_report(y_test, y_pred1))\n",
    "\n",
    "cm = confusion_matrix(y_pred1, y_test)\n",
    "print('\\033[1m' +'Confusion Matrix : '+ '\\033[0m')\n",
    "sns.heatmap(cm, cmap = 'OrRd',annot = True, fmt='d')\n",
    "plt.show()"
   ]
  },
  {
   "cell_type": "markdown",
   "id": "4ebcef17",
   "metadata": {},
   "source": [
    "# Evaluation -- Decision Tree"
   ]
  },
  {
   "cell_type": "code",
   "execution_count": 21,
   "id": "cbae2add",
   "metadata": {},
   "outputs": [
    {
     "name": "stdout",
     "output_type": "stream",
     "text": [
      "MAE: 0.9969849246231156\n",
      "MSE: 10.849510711451996\n",
      "RMSE: 3.293859546406312\n"
     ]
    }
   ],
   "source": [
    "from sklearn import metrics\n",
    "\n",
    "print('MAE:', metrics.mean_absolute_error(y_test,y_pred1))\n",
    "print('MSE:', metrics.mean_squared_error(y_test, y_pred1))\n",
    "print('RMSE:', np.sqrt(metrics.mean_squared_error(y_test, y_pred1)))"
   ]
  },
  {
   "cell_type": "code",
   "execution_count": 22,
   "id": "f7ac1ceb",
   "metadata": {},
   "outputs": [
    {
     "name": "stdout",
     "output_type": "stream",
     "text": [
      "Precision Score :  0.867534623353775\n",
      "Recall Score :  0.8672837873578418\n",
      "f1_score :  0.8673805034491227\n"
     ]
    }
   ],
   "source": [
    "from sklearn.metrics import precision_score\n",
    "print(\"Precision Score : \",precision_score(y_test, y_pred1, average='weighted'))\n",
    "\n",
    "\n",
    "from sklearn.metrics import recall_score\n",
    "print(\"Recall Score : \",recall_score(y_test, y_pred1,average='weighted'))\n",
    "\n",
    "\n",
    "from sklearn.metrics import f1_score\n",
    "print(\"f1_score : \",f1_score(y_test, y_pred1,average='weighted'))"
   ]
  },
  {
   "cell_type": "markdown",
   "id": "f901aeef",
   "metadata": {},
   "source": [
    "# KNeighborsClassifier"
   ]
  },
  {
   "cell_type": "code",
   "execution_count": 23,
   "id": "15fd9ac9",
   "metadata": {},
   "outputs": [
    {
     "data": {
      "text/plain": [
       "KNeighborsClassifier()"
      ]
     },
     "execution_count": 23,
     "metadata": {},
     "output_type": "execute_result"
    }
   ],
   "source": [
    "from sklearn.neighbors import KNeighborsClassifier\n",
    "KNeighborsClassifier = KNeighborsClassifier()\n",
    "KNeighborsClassifier.fit(X_train, y_train)"
   ]
  },
  {
   "cell_type": "code",
   "execution_count": 24,
   "id": "da059a26",
   "metadata": {},
   "outputs": [],
   "source": [
    "y_pred2 = KNeighborsClassifier.predict(X_test)"
   ]
  },
  {
   "cell_type": "code",
   "execution_count": 25,
   "id": "1d358310",
   "metadata": {},
   "outputs": [
    {
     "name": "stdout",
     "output_type": "stream",
     "text": [
      "Accuracy is: 91.11478444855858\n"
     ]
    }
   ],
   "source": [
    "from sklearn.metrics import accuracy_score\n",
    "accuracy = {accuracy_score(y_test, y_pred2)}\n",
    "print(f\"Accuracy is: {accuracy_score(y_test, y_pred2)* 100}\")"
   ]
  },
  {
   "cell_type": "code",
   "execution_count": 26,
   "id": "5e0d6dfd",
   "metadata": {},
   "outputs": [
    {
     "name": "stdout",
     "output_type": "stream",
     "text": [
      "\u001b[1mClassification report : \u001b[0m\n",
      "               precision    recall  f1-score   support\n",
      "\n",
      "           0       0.92      0.98      0.95     35440\n",
      "           1       0.92      0.93      0.92      2416\n",
      "           2       0.91      0.87      0.89      2012\n",
      "           3       0.90      0.89      0.89      2302\n",
      "           4       0.93      0.88      0.90      2120\n",
      "           5       0.92      0.85      0.88      2055\n",
      "           6       0.93      0.89      0.91      2214\n",
      "           7       0.85      0.85      0.85      2326\n",
      "           8       0.89      0.86      0.87      2403\n",
      "           9       0.90      0.82      0.86      2255\n",
      "          10       0.89      0.82      0.85      2516\n",
      "          11       0.91      0.84      0.87      2458\n",
      "          12       0.87      0.84      0.85      2411\n",
      "          13       0.89      0.86      0.87      1404\n",
      "          14       0.77      0.72      0.75      1637\n",
      "          15       0.85      0.79      0.82      1448\n",
      "          16       0.90      0.83      0.86      1536\n",
      "          17       0.92      0.86      0.89      1645\n",
      "          18       0.89      0.80      0.84       881\n",
      "          19       0.89      0.78      0.83       801\n",
      "          20       0.95      0.91      0.93       855\n",
      "          21       0.95      0.90      0.93       810\n",
      "          22       0.95      0.86      0.90       762\n",
      "          23       0.97      0.92      0.94       913\n",
      "\n",
      "    accuracy                           0.91     75620\n",
      "   macro avg       0.90      0.86      0.88     75620\n",
      "weighted avg       0.91      0.91      0.91     75620\n",
      "\n",
      "\u001b[1mConfusion Matrix : \u001b[0m\n"
     ]
    },
    {
     "data": {
      "image/png": "[encoded data removed]",
      "text/plain": [
       "<Figure size 432x288 with 2 Axes>"
      ]
     },
     "metadata": {
      "needs_background": "light"
     },
     "output_type": "display_data"
    }
   ],
   "source": [
    "print('\\033[1m' +'Classification report : '+ '\\033[0m\\n', classification_report(y_test, y_pred2))\n",
    "\n",
    "cm = confusion_matrix(y_pred2, y_test)\n",
    "print('\\033[1m' +'Confusion Matrix : '+ '\\033[0m')\n",
    "sns.heatmap(cm, cmap = 'OrRd',annot = True, fmt='d')\n",
    "plt.show()"
   ]
  },
  {
   "cell_type": "markdown",
   "id": "d8d41935",
   "metadata": {},
   "source": [
    "# Evaluation -- KNeighborsClassifier"
   ]
  },
  {
   "cell_type": "code",
   "execution_count": 27,
   "id": "bd1c5fe9",
   "metadata": {},
   "outputs": [
    {
     "name": "stdout",
     "output_type": "stream",
     "text": [
      "MAE: 0.6960592435863528\n",
      "MSE: 7.813435599047871\n",
      "RMSE: 2.7952523319099245\n"
     ]
    }
   ],
   "source": [
    "from sklearn import metrics\n",
    "\n",
    "print('MAE:', metrics.mean_absolute_error(y_test,y_pred2))\n",
    "print('MSE:', metrics.mean_squared_error(y_test, y_pred2))\n",
    "print('RMSE:', np.sqrt(metrics.mean_squared_error(y_test, y_pred2)))"
   ]
  },
  {
   "cell_type": "code",
   "execution_count": 28,
   "id": "de3e3c02",
   "metadata": {},
   "outputs": [
    {
     "name": "stdout",
     "output_type": "stream",
     "text": [
      "Precision Score :  0.9104633873020702\n",
      "Recall Score :  0.9111478444855858\n",
      "f1_score :  0.9099821304841229\n"
     ]
    }
   ],
   "source": [
    "from sklearn.metrics import precision_score\n",
    "print(\"Precision Score : \",precision_score(y_test, y_pred2, average='weighted'))\n",
    "\n",
    "\n",
    "from sklearn.metrics import recall_score\n",
    "print(\"Recall Score : \",recall_score(y_test, y_pred2,average='weighted'))\n",
    "\n",
    "\n",
    "from sklearn.metrics import f1_score\n",
    "print(\"f1_score : \",f1_score(y_test, y_pred2,average='weighted'))"
   ]
  },
  {
   "cell_type": "markdown",
   "id": "5065ae39",
   "metadata": {},
   "source": [
    "# Random Forest"
   ]
  },
  {
   "cell_type": "code",
   "execution_count": 29,
   "id": "be857e35",
   "metadata": {},
   "outputs": [
    {
     "data": {
      "text/plain": [
       "RandomForestClassifier()"
      ]
     },
     "execution_count": 29,
     "metadata": {},
     "output_type": "execute_result"
    }
   ],
   "source": [
    "from sklearn.ensemble import RandomForestClassifier\n",
    "RandomForestClassifier = RandomForestClassifier()\n",
    "RandomForestClassifier.fit(X_train, y_train)"
   ]
  },
  {
   "cell_type": "code",
   "execution_count": 30,
   "id": "544a9fa7",
   "metadata": {},
   "outputs": [],
   "source": [
    "y_pred3 = RandomForestClassifier.predict(X_test)"
   ]
  },
  {
   "cell_type": "code",
   "execution_count": 31,
   "id": "a0daf4ac",
   "metadata": {},
   "outputs": [
    {
     "name": "stdout",
     "output_type": "stream",
     "text": [
      "Accuracy is: 94.94049193335097\n"
     ]
    }
   ],
   "source": [
    "from sklearn.metrics import accuracy_score\n",
    "accuracy = {accuracy_score(y_test, y_pred3)}\n",
    "print(f\"Accuracy is: {accuracy_score(y_test, y_pred3)* 100}\")"
   ]
  },
  {
   "cell_type": "code",
   "execution_count": 32,
   "id": "17ccca6d",
   "metadata": {},
   "outputs": [
    {
     "name": "stdout",
     "output_type": "stream",
     "text": [
      "\u001b[1mClassification report : \u001b[0m\n",
      "               precision    recall  f1-score   support\n",
      "\n",
      "           0       0.94      0.99      0.96     35440\n",
      "           1       0.97      0.95      0.96      2416\n",
      "           2       0.98      0.92      0.95      2012\n",
      "           3       0.97      0.94      0.96      2302\n",
      "           4       0.98      0.92      0.95      2120\n",
      "           5       0.97      0.91      0.94      2055\n",
      "           6       0.98      0.94      0.96      2214\n",
      "           7       0.94      0.90      0.92      2326\n",
      "           8       0.96      0.90      0.93      2403\n",
      "           9       0.97      0.88      0.92      2255\n",
      "          10       0.97      0.87      0.92      2516\n",
      "          11       0.96      0.90      0.93      2458\n",
      "          12       0.94      0.91      0.92      2411\n",
      "          13       0.95      0.92      0.93      1404\n",
      "          14       0.89      0.81      0.85      1637\n",
      "          15       0.95      0.87      0.91      1448\n",
      "          16       0.97      0.93      0.95      1536\n",
      "          17       0.97      0.94      0.96      1645\n",
      "          18       0.97      0.92      0.94       881\n",
      "          19       0.97      0.88      0.92       801\n",
      "          20       0.98      0.95      0.97       855\n",
      "          21       0.99      0.96      0.97       810\n",
      "          22       0.97      0.96      0.97       762\n",
      "          23       0.99      0.97      0.98       913\n",
      "\n",
      "    accuracy                           0.95     75620\n",
      "   macro avg       0.96      0.92      0.94     75620\n",
      "weighted avg       0.95      0.95      0.95     75620\n",
      "\n",
      "\u001b[1mConfusion Matrix : \u001b[0m\n"
     ]
    },
    {
     "data": {
      "image/png": "[encoded data removed]",
      "text/plain": [
       "<Figure size 432x288 with 2 Axes>"
      ]
     },
     "metadata": {
      "needs_background": "light"
     },
     "output_type": "display_data"
    }
   ],
   "source": [
    "print('\\033[1m' +'Classification report : '+ '\\033[0m\\n', classification_report(y_test, y_pred3))\n",
    "\n",
    "cm = confusion_matrix(y_pred3, y_test)\n",
    "print('\\033[1m' +'Confusion Matrix : '+ '\\033[0m')\n",
    "sns.heatmap(cm, cmap = 'OrRd',annot = True, fmt='d')\n",
    "plt.show()"
   ]
  },
  {
   "cell_type": "markdown",
   "id": "bf149f54",
   "metadata": {},
   "source": [
    "# Evaluation -- Random Forest"
   ]
  },
  {
   "cell_type": "code",
   "execution_count": 33,
   "id": "44b863ad",
   "metadata": {},
   "outputs": [
    {
     "name": "stdout",
     "output_type": "stream",
     "text": [
      "MAE: 0.4334699814863793\n",
      "MSE: 4.993983073261042\n",
      "RMSE: 2.234722146769267\n"
     ]
    }
   ],
   "source": [
    "from sklearn import metrics\n",
    "\n",
    "print('MAE:', metrics.mean_absolute_error(y_test,y_pred3))\n",
    "print('MSE:', metrics.mean_squared_error(y_test, y_pred3))\n",
    "print('RMSE:', np.sqrt(metrics.mean_squared_error(y_test, y_pred3)))"
   ]
  },
  {
   "cell_type": "code",
   "execution_count": 34,
   "id": "f40def00",
   "metadata": {},
   "outputs": [
    {
     "name": "stdout",
     "output_type": "stream",
     "text": [
      "Precision Score :  0.9501431975299977\n",
      "Recall Score :  0.9494049193335097\n",
      "f1_score :  0.9489171985352134\n"
     ]
    }
   ],
   "source": [
    "from sklearn.metrics import precision_score\n",
    "print(\"Precision Score : \",precision_score(y_test, y_pred3, average='weighted'))\n",
    "\n",
    "\n",
    "from sklearn.metrics import recall_score\n",
    "print(\"Recall Score : \",recall_score(y_test, y_pred3,average='weighted'))\n",
    "\n",
    "\n",
    "from sklearn.metrics import f1_score\n",
    "print(\"f1_score : \",f1_score(y_test, y_pred3,average='weighted'))"
   ]
  },
  {
   "cell_type": "markdown",
   "id": "fc99a8db",
   "metadata": {},
   "source": [
    "# XGBoost"
   ]
  },
  {
   "cell_type": "code",
   "execution_count": 35,
   "id": "cf92a2ce",
   "metadata": {},
   "outputs": [
    {
     "name": "stderr",
     "output_type": "stream",
     "text": [
      "E:\\MachineLearning\\envs\\gpu\\lib\\site-packages\\xgboost\\compat.py:36: FutureWarning: pandas.Int64Index is deprecated and will be removed from pandas in a future version. Use pandas.Index with the appropriate dtype instead.\n",
      "  from pandas import MultiIndex, Int64Index\n",
      "E:\\MachineLearning\\envs\\gpu\\lib\\site-packages\\xgboost\\sklearn.py:1224: UserWarning: The use of label encoder in XGBClassifier is deprecated and will be removed in a future release. To remove this warning, do the following: 1) Pass option use_label_encoder=False when constructing XGBClassifier object; and 2) Encode your labels (y) as integers starting with 0, i.e. 0, 1, 2, ..., [num_class - 1].\n",
      "  warnings.warn(label_encoder_deprecation_msg, UserWarning)\n",
      "E:\\MachineLearning\\envs\\gpu\\lib\\site-packages\\xgboost\\data.py:262: FutureWarning: pandas.Int64Index is deprecated and will be removed from pandas in a future version. Use pandas.Index with the appropriate dtype instead.\n",
      "  elif isinstance(data.columns, (pd.Int64Index, pd.RangeIndex)):\n"
     ]
    },
    {
     "name": "stdout",
     "output_type": "stream",
     "text": [
      "[13:42:35] WARNING: C:/Users/Administrator/workspace/xgboost-win64_release_1.5.1/src/learner.cc:1115: Starting in XGBoost 1.3.0, the default evaluation metric used with the objective 'multi:softprob' was changed from 'merror' to 'mlogloss'. Explicitly set eval_metric if you'd like to restore the old behavior.\n"
     ]
    },
    {
     "data": {
      "text/plain": [
       "XGBClassifier(base_score=0.5, booster='gbtree', colsample_bylevel=1,\n",
       "              colsample_bynode=1, colsample_bytree=1, enable_categorical=False,\n",
       "              gamma=0, gpu_id=-1, importance_type=None,\n",
       "              interaction_constraints='', learning_rate=0.300000012,\n",
       "              max_delta_step=0, max_depth=6, min_child_weight=1, missing=nan,\n",
       "              monotone_constraints='()', n_estimators=100, n_jobs=12,\n",
       "              num_parallel_tree=1, objective='multi:softprob', predictor='auto',\n",
       "              random_state=0, reg_alpha=0, reg_lambda=1, scale_pos_weight=None,\n",
       "              subsample=1, tree_method='exact', validate_parameters=1,\n",
       "              verbosity=None)"
      ]
     },
     "execution_count": 35,
     "metadata": {},
     "output_type": "execute_result"
    }
   ],
   "source": [
    "from xgboost import XGBClassifier\n",
    "xgb = XGBClassifier()\n",
    "xgb.fit(X_train, y_train)"
   ]
  },
  {
   "cell_type": "code",
   "execution_count": 36,
   "id": "122b4ba0",
   "metadata": {},
   "outputs": [],
   "source": [
    "y_pred4 = xgb.predict(X_test)"
   ]
  },
  {
   "cell_type": "code",
   "execution_count": 37,
   "id": "022138ba",
   "metadata": {},
   "outputs": [
    {
     "name": "stdout",
     "output_type": "stream",
     "text": [
      "Accuracy is: 87.59984131182227\n"
     ]
    }
   ],
   "source": [
    "from sklearn.metrics import accuracy_score\n",
    "accuracy = {accuracy_score(y_test, y_pred4)}\n",
    "print(f\"Accuracy is: {accuracy_score(y_test, y_pred4)* 100}\")"
   ]
  },
  {
   "cell_type": "code",
   "execution_count": 38,
   "id": "269a9899",
   "metadata": {},
   "outputs": [
    {
     "name": "stdout",
     "output_type": "stream",
     "text": [
      "\u001b[1mClassification report : \u001b[0m\n",
      "               precision    recall  f1-score   support\n",
      "\n",
      "           0       0.89      0.97      0.93     35440\n",
      "           1       0.89      0.87      0.88      2416\n",
      "           2       0.91      0.79      0.85      2012\n",
      "           3       0.88      0.82      0.85      2302\n",
      "           4       0.94      0.84      0.88      2120\n",
      "           5       0.90      0.81      0.85      2055\n",
      "           6       0.92      0.84      0.88      2214\n",
      "           7       0.81      0.80      0.81      2326\n",
      "           8       0.80      0.73      0.76      2403\n",
      "           9       0.84      0.72      0.78      2255\n",
      "          10       0.84      0.69      0.76      2516\n",
      "          11       0.88      0.76      0.82      2458\n",
      "          12       0.78      0.70      0.73      2411\n",
      "          13       0.86      0.79      0.82      1404\n",
      "          14       0.68      0.63      0.66      1637\n",
      "          15       0.80      0.76      0.78      1448\n",
      "          16       0.85      0.78      0.81      1536\n",
      "          17       0.91      0.86      0.88      1645\n",
      "          18       0.85      0.82      0.83       881\n",
      "          19       0.91      0.83      0.87       801\n",
      "          20       0.95      0.94      0.95       855\n",
      "          21       0.96      0.91      0.93       810\n",
      "          22       0.94      0.91      0.93       762\n",
      "          23       0.97      0.95      0.96       913\n",
      "\n",
      "    accuracy                           0.88     75620\n",
      "   macro avg       0.87      0.81      0.84     75620\n",
      "weighted avg       0.87      0.88      0.87     75620\n",
      "\n",
      "\u001b[1mConfusion Matrix : \u001b[0m\n"
     ]
    },
    {
     "data": {
      "image/png": "[encoded data removed]",
      "text/plain": [
       "<Figure size 432x288 with 2 Axes>"
      ]
     },
     "metadata": {
      "needs_background": "light"
     },
     "output_type": "display_data"
    }
   ],
   "source": [
    "print('\\033[1m' +'Classification report : '+ '\\033[0m\\n', classification_report(y_test, y_pred4))\n",
    "\n",
    "cm = confusion_matrix(y_pred4, y_test)\n",
    "print('\\033[1m' +'Confusion Matrix : '+ '\\033[0m')\n",
    "sns.heatmap(cm, cmap = 'OrRd',annot = True, fmt='d')\n",
    "plt.show()"
   ]
  },
  {
   "cell_type": "markdown",
   "id": "3031b603",
   "metadata": {},
   "source": [
    "# Evaluation -- XGBoost"
   ]
  },
  {
   "cell_type": "code",
   "execution_count": 39,
   "id": "f5efef7b",
   "metadata": {},
   "outputs": [
    {
     "name": "stdout",
     "output_type": "stream",
     "text": [
      "MAE: 0.9597857709600635\n",
      "MSE: 10.474887595874108\n",
      "RMSE: 3.2364931014717317\n"
     ]
    }
   ],
   "source": [
    "from sklearn import metrics\n",
    "\n",
    "print('MAE:', metrics.mean_absolute_error(y_test,y_pred4))\n",
    "print('MSE:', metrics.mean_squared_error(y_test, y_pred4))\n",
    "print('RMSE:', np.sqrt(metrics.mean_squared_error(y_test, y_pred4)))"
   ]
  },
  {
   "cell_type": "code",
   "execution_count": 40,
   "id": "36005adc",
   "metadata": {},
   "outputs": [
    {
     "name": "stdout",
     "output_type": "stream",
     "text": [
      "Precision Score :  0.8747269378590657\n",
      "Recall Score :  0.8759984131182227\n",
      "f1_score :  0.8733713382731482\n"
     ]
    }
   ],
   "source": [
    "from sklearn.metrics import precision_score\n",
    "print(\"Precision Score : \",precision_score(y_test, y_pred4, average='weighted'))\n",
    "\n",
    "\n",
    "from sklearn.metrics import recall_score\n",
    "print(\"Recall Score : \",recall_score(y_test, y_pred4,average='weighted'))\n",
    "\n",
    "\n",
    "from sklearn.metrics import f1_score\n",
    "print(\"f1_score : \",f1_score(y_test, y_pred4,average='weighted'))"
   ]
  },
  {
   "cell_type": "markdown",
   "id": "5805a6f2",
   "metadata": {},
   "source": [
    "# ExtraTreesClassifier"
   ]
  },
  {
   "cell_type": "code",
   "execution_count": 41,
   "id": "bb5c43f7",
   "metadata": {},
   "outputs": [
    {
     "data": {
      "text/plain": [
       "ExtraTreesClassifier()"
      ]
     },
     "execution_count": 41,
     "metadata": {},
     "output_type": "execute_result"
    }
   ],
   "source": [
    "from sklearn.ensemble import ExtraTreesClassifier\n",
    "extratree = ExtraTreesClassifier()\n",
    "extratree.fit(X_train, y_train)"
   ]
  },
  {
   "cell_type": "code",
   "execution_count": 42,
   "id": "71002958",
   "metadata": {},
   "outputs": [],
   "source": [
    "y_pred5 = extratree.predict(X_test)"
   ]
  },
  {
   "cell_type": "code",
   "execution_count": 43,
   "id": "b61749b4",
   "metadata": {},
   "outputs": [
    {
     "name": "stdout",
     "output_type": "stream",
     "text": [
      "Accuracy is: 95.66913514943137\n"
     ]
    }
   ],
   "source": [
    "from sklearn.metrics import accuracy_score\n",
    "accuracy = {accuracy_score(y_test, y_pred5)}\n",
    "print(f\"Accuracy is: {accuracy_score(y_test, y_pred5)* 100}\")"
   ]
  },
  {
   "cell_type": "code",
   "execution_count": 44,
   "id": "06532654",
   "metadata": {},
   "outputs": [
    {
     "name": "stdout",
     "output_type": "stream",
     "text": [
      "\u001b[1mClassification report : \u001b[0m\n",
      "               precision    recall  f1-score   support\n",
      "\n",
      "           0       0.94      0.99      0.97     35440\n",
      "           1       0.98      0.96      0.97      2416\n",
      "           2       0.98      0.93      0.96      2012\n",
      "           3       0.98      0.95      0.96      2302\n",
      "           4       0.99      0.93      0.96      2120\n",
      "           5       0.98      0.91      0.95      2055\n",
      "           6       0.99      0.95      0.97      2214\n",
      "           7       0.94      0.91      0.93      2326\n",
      "           8       0.97      0.92      0.95      2403\n",
      "           9       0.98      0.90      0.94      2255\n",
      "          10       0.98      0.90      0.94      2516\n",
      "          11       0.97      0.91      0.94      2458\n",
      "          12       0.96      0.93      0.94      2411\n",
      "          13       0.97      0.93      0.95      1404\n",
      "          14       0.91      0.83      0.86      1637\n",
      "          15       0.94      0.88      0.91      1448\n",
      "          16       0.98      0.94      0.96      1536\n",
      "          17       0.98      0.95      0.96      1645\n",
      "          18       0.98      0.93      0.95       881\n",
      "          19       0.97      0.90      0.94       801\n",
      "          20       0.98      0.96      0.97       855\n",
      "          21       1.00      0.97      0.98       810\n",
      "          22       0.98      0.97      0.98       762\n",
      "          23       0.99      0.98      0.99       913\n",
      "\n",
      "    accuracy                           0.96     75620\n",
      "   macro avg       0.97      0.93      0.95     75620\n",
      "weighted avg       0.96      0.96      0.96     75620\n",
      "\n",
      "\u001b[1mConfusion Matrix : \u001b[0m\n"
     ]
    },
    {
     "data": {
      "image/png": "[encoded data removed]",
      "text/plain": [
       "<Figure size 432x288 with 2 Axes>"
      ]
     },
     "metadata": {
      "needs_background": "light"
     },
     "output_type": "display_data"
    }
   ],
   "source": [
    "print('\\033[1m' +'Classification report : '+ '\\033[0m\\n', classification_report(y_test, y_pred5))\n",
    "\n",
    "cm = confusion_matrix(y_pred5, y_test)\n",
    "print('\\033[1m' +'Confusion Matrix : '+ '\\033[0m')\n",
    "sns.heatmap(cm, cmap = 'OrRd',annot = True, fmt='d')\n",
    "plt.show()"
   ]
  },
  {
   "cell_type": "markdown",
   "id": "2b86af64",
   "metadata": {},
   "source": [
    "# Evaluation -- ExtraTreesClassifier"
   ]
  },
  {
   "cell_type": "code",
   "execution_count": 45,
   "id": "a9e47f87",
   "metadata": {},
   "outputs": [
    {
     "name": "stdout",
     "output_type": "stream",
     "text": [
      "MAE: 0.38313938111610685\n",
      "MSE: 4.4651018249140435\n",
      "RMSE: 2.1130787550193304\n"
     ]
    }
   ],
   "source": [
    "from sklearn import metrics\n",
    "\n",
    "print('MAE:', metrics.mean_absolute_error(y_test,y_pred5))\n",
    "print('MSE:', metrics.mean_squared_error(y_test, y_pred5))\n",
    "print('RMSE:', np.sqrt(metrics.mean_squared_error(y_test, y_pred5)))"
   ]
  },
  {
   "cell_type": "code",
   "execution_count": 46,
   "id": "6d09ec03",
   "metadata": {},
   "outputs": [
    {
     "name": "stdout",
     "output_type": "stream",
     "text": [
      "Precision Score :  0.9575360765730053\n",
      "Recall Score :  0.9566913514943137\n",
      "f1_score :  0.9563576940469297\n"
     ]
    }
   ],
   "source": [
    "from sklearn.metrics import precision_score\n",
    "print(\"Precision Score : \",precision_score(y_test, y_pred5, average='weighted'))\n",
    "\n",
    "\n",
    "from sklearn.metrics import recall_score\n",
    "print(\"Recall Score : \",recall_score(y_test, y_pred5,average='weighted'))\n",
    "\n",
    "\n",
    "from sklearn.metrics import f1_score\n",
    "print(\"f1_score : \",f1_score(y_test, y_pred5,average='weighted'))"
   ]
  },
  {
   "cell_type": "code",
   "execution_count": null,
   "id": "292f2127",
   "metadata": {},
   "outputs": [],
   "source": []
  }
 ],
 "metadata": {
  "kernelspec": {
   "display_name": "Python 3 (ipykernel)",
   "language": "python",
   "name": "python3"
  },
  "language_info": {
   "codemirror_mode": {
    "name": "ipython",
    "version": 3
   },
   "file_extension": ".py",
   "mimetype": "text/x-python",
   "name": "python",
   "nbconvert_exporter": "python",
   "pygments_lexer": "ipython3",
   "version": "3.8.12"
  }
 },
 "nbformat": 4,
 "nbformat_minor": 5
}
