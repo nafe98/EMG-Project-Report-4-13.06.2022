{
 "cells": [
  {
   "cell_type": "markdown",
   "id": "5146ed0c",
   "metadata": {},
   "source": [
    "# Importing Libraries"
   ]
  },
  {
   "cell_type": "code",
   "execution_count": 1,
   "id": "3045e9ed",
   "metadata": {},
   "outputs": [],
   "source": [
    "import numpy as np\n",
    "import pandas as pd\n",
    "import matplotlib.pyplot as plt\n",
    "import seaborn as sns\n",
    "from sklearn.model_selection import train_test_split\n",
    "from sklearn.metrics import confusion_matrix, f1_score, accuracy_score, classification_report"
   ]
  },
  {
   "cell_type": "markdown",
   "id": "42648960",
   "metadata": {},
   "source": [
    "# Exploratory Data Analysis"
   ]
  },
  {
   "cell_type": "code",
   "execution_count": 2,
   "id": "c6cab329",
   "metadata": {
    "scrolled": false
   },
   "outputs": [
    {
     "data": {
      "text/html": [
       "<div>\n",
       "<style scoped>\n",
       "    .dataframe tbody tr th:only-of-type {\n",
       "        vertical-align: middle;\n",
       "    }\n",
       "\n",
       "    .dataframe tbody tr th {\n",
       "        vertical-align: top;\n",
       "    }\n",
       "\n",
       "    .dataframe thead th {\n",
       "        text-align: right;\n",
       "    }\n",
       "</style>\n",
       "<table border=\"1\" class=\"dataframe\">\n",
       "  <thead>\n",
       "    <tr style=\"text-align: right;\">\n",
       "      <th></th>\n",
       "      <th>Emg1</th>\n",
       "      <th>Emg2</th>\n",
       "      <th>Emg3</th>\n",
       "      <th>Emg4</th>\n",
       "      <th>Emg5</th>\n",
       "      <th>Emg6</th>\n",
       "      <th>Emg7</th>\n",
       "      <th>Emg8</th>\n",
       "      <th>Emg9</th>\n",
       "      <th>Emg10</th>\n",
       "      <th>repetition</th>\n",
       "      <th>rerepetition</th>\n",
       "      <th>stimulus</th>\n",
       "      <th>restimulus</th>\n",
       "    </tr>\n",
       "  </thead>\n",
       "  <tbody>\n",
       "    <tr>\n",
       "      <th>271587</th>\n",
       "      <td>0.0024</td>\n",
       "      <td>0.0024</td>\n",
       "      <td>0.0024</td>\n",
       "      <td>0.0049</td>\n",
       "      <td>0.0220</td>\n",
       "      <td>0.2051</td>\n",
       "      <td>0.1196</td>\n",
       "      <td>0.0928</td>\n",
       "      <td>0.0024</td>\n",
       "      <td>0.0171</td>\n",
       "      <td>9</td>\n",
       "      <td>9</td>\n",
       "      <td>3</td>\n",
       "      <td>3</td>\n",
       "    </tr>\n",
       "    <tr>\n",
       "      <th>173354</th>\n",
       "      <td>0.0024</td>\n",
       "      <td>0.0024</td>\n",
       "      <td>0.0024</td>\n",
       "      <td>0.0024</td>\n",
       "      <td>0.0024</td>\n",
       "      <td>0.0024</td>\n",
       "      <td>0.1147</td>\n",
       "      <td>0.0830</td>\n",
       "      <td>0.0024</td>\n",
       "      <td>0.0488</td>\n",
       "      <td>0</td>\n",
       "      <td>0</td>\n",
       "      <td>0</td>\n",
       "      <td>0</td>\n",
       "    </tr>\n",
       "    <tr>\n",
       "      <th>442281</th>\n",
       "      <td>0.0024</td>\n",
       "      <td>0.3735</td>\n",
       "      <td>0.4175</td>\n",
       "      <td>0.0977</td>\n",
       "      <td>0.2344</td>\n",
       "      <td>0.4126</td>\n",
       "      <td>1.0352</td>\n",
       "      <td>2.8809</td>\n",
       "      <td>1.3818</td>\n",
       "      <td>0.4028</td>\n",
       "      <td>1</td>\n",
       "      <td>1</td>\n",
       "      <td>23</td>\n",
       "      <td>23</td>\n",
       "    </tr>\n",
       "    <tr>\n",
       "      <th>204351</th>\n",
       "      <td>0.0049</td>\n",
       "      <td>0.0024</td>\n",
       "      <td>0.0024</td>\n",
       "      <td>0.0024</td>\n",
       "      <td>0.0024</td>\n",
       "      <td>0.0024</td>\n",
       "      <td>0.0195</td>\n",
       "      <td>0.0879</td>\n",
       "      <td>0.0024</td>\n",
       "      <td>0.0024</td>\n",
       "      <td>0</td>\n",
       "      <td>0</td>\n",
       "      <td>0</td>\n",
       "      <td>0</td>\n",
       "    </tr>\n",
       "    <tr>\n",
       "      <th>217048</th>\n",
       "      <td>0.0073</td>\n",
       "      <td>0.0024</td>\n",
       "      <td>0.0024</td>\n",
       "      <td>0.0024</td>\n",
       "      <td>0.0024</td>\n",
       "      <td>0.0024</td>\n",
       "      <td>0.0171</td>\n",
       "      <td>0.0732</td>\n",
       "      <td>0.0024</td>\n",
       "      <td>0.0562</td>\n",
       "      <td>0</td>\n",
       "      <td>0</td>\n",
       "      <td>0</td>\n",
       "      <td>0</td>\n",
       "    </tr>\n",
       "  </tbody>\n",
       "</table>\n",
       "</div>"
      ],
      "text/plain": [
       "          Emg1    Emg2    Emg3    Emg4    Emg5    Emg6    Emg7    Emg8  \\\n",
       "271587  0.0024  0.0024  0.0024  0.0049  0.0220  0.2051  0.1196  0.0928   \n",
       "173354  0.0024  0.0024  0.0024  0.0024  0.0024  0.0024  0.1147  0.0830   \n",
       "442281  0.0024  0.3735  0.4175  0.0977  0.2344  0.4126  1.0352  2.8809   \n",
       "204351  0.0049  0.0024  0.0024  0.0024  0.0024  0.0024  0.0195  0.0879   \n",
       "217048  0.0073  0.0024  0.0024  0.0024  0.0024  0.0024  0.0171  0.0732   \n",
       "\n",
       "          Emg9   Emg10  repetition  rerepetition  stimulus  restimulus  \n",
       "271587  0.0024  0.0171           9             9         3           3  \n",
       "173354  0.0024  0.0488           0             0         0           0  \n",
       "442281  1.3818  0.4028           1             1        23          23  \n",
       "204351  0.0024  0.0024           0             0         0           0  \n",
       "217048  0.0024  0.0562           0             0         0           0  "
      ]
     },
     "execution_count": 2,
     "metadata": {},
     "output_type": "execute_result"
    }
   ],
   "source": [
    "raw_data = pd.read_excel('Dataset 1 Patient 6.xlsx')\n",
    "raw_data.sample(5)"
   ]
  },
  {
   "cell_type": "code",
   "execution_count": 3,
   "id": "8cad9bd6",
   "metadata": {},
   "outputs": [
    {
     "data": {
      "text/plain": [
       "(453169, 14)"
      ]
     },
     "execution_count": 3,
     "metadata": {},
     "output_type": "execute_result"
    }
   ],
   "source": [
    "raw_data.shape"
   ]
  },
  {
   "cell_type": "code",
   "execution_count": 4,
   "id": "d05a18f1",
   "metadata": {},
   "outputs": [
    {
     "data": {
      "text/plain": [
       "Index(['Emg1', 'Emg2', 'Emg3', 'Emg4', 'Emg5', 'Emg6', 'Emg7', 'Emg8', 'Emg9',\n",
       "       'Emg10', 'repetition', 'rerepetition', 'stimulus', 'restimulus'],\n",
       "      dtype='object')"
      ]
     },
     "execution_count": 4,
     "metadata": {},
     "output_type": "execute_result"
    }
   ],
   "source": [
    "raw_data.columns"
   ]
  },
  {
   "cell_type": "code",
   "execution_count": 5,
   "id": "259f05e6",
   "metadata": {},
   "outputs": [
    {
     "name": "stdout",
     "output_type": "stream",
     "text": [
      "<class 'pandas.core.frame.DataFrame'>\n",
      "RangeIndex: 453169 entries, 0 to 453168\n",
      "Data columns (total 14 columns):\n",
      " #   Column        Non-Null Count   Dtype  \n",
      "---  ------        --------------   -----  \n",
      " 0   Emg1          453169 non-null  float64\n",
      " 1   Emg2          453169 non-null  float64\n",
      " 2   Emg3          453169 non-null  float64\n",
      " 3   Emg4          453169 non-null  float64\n",
      " 4   Emg5          453169 non-null  float64\n",
      " 5   Emg6          453169 non-null  float64\n",
      " 6   Emg7          453169 non-null  float64\n",
      " 7   Emg8          453169 non-null  float64\n",
      " 8   Emg9          453169 non-null  float64\n",
      " 9   Emg10         453169 non-null  float64\n",
      " 10  repetition    453169 non-null  int64  \n",
      " 11  rerepetition  453169 non-null  int64  \n",
      " 12  stimulus      453169 non-null  int64  \n",
      " 13  restimulus    453169 non-null  int64  \n",
      "dtypes: float64(10), int64(4)\n",
      "memory usage: 48.4 MB\n"
     ]
    }
   ],
   "source": [
    "raw_data.info()"
   ]
  },
  {
   "cell_type": "code",
   "execution_count": 6,
   "id": "613a1cc1",
   "metadata": {},
   "outputs": [
    {
     "data": {
      "text/html": [
       "<div>\n",
       "<style scoped>\n",
       "    .dataframe tbody tr th:only-of-type {\n",
       "        vertical-align: middle;\n",
       "    }\n",
       "\n",
       "    .dataframe tbody tr th {\n",
       "        vertical-align: top;\n",
       "    }\n",
       "\n",
       "    .dataframe thead th {\n",
       "        text-align: right;\n",
       "    }\n",
       "</style>\n",
       "<table border=\"1\" class=\"dataframe\">\n",
       "  <thead>\n",
       "    <tr style=\"text-align: right;\">\n",
       "      <th></th>\n",
       "      <th>Emg1</th>\n",
       "      <th>Emg2</th>\n",
       "      <th>Emg3</th>\n",
       "      <th>Emg4</th>\n",
       "      <th>Emg5</th>\n",
       "      <th>Emg6</th>\n",
       "      <th>Emg7</th>\n",
       "      <th>Emg8</th>\n",
       "      <th>Emg9</th>\n",
       "      <th>Emg10</th>\n",
       "      <th>repetition</th>\n",
       "      <th>rerepetition</th>\n",
       "      <th>stimulus</th>\n",
       "      <th>restimulus</th>\n",
       "    </tr>\n",
       "  </thead>\n",
       "  <tbody>\n",
       "    <tr>\n",
       "      <th>count</th>\n",
       "      <td>453169.000000</td>\n",
       "      <td>453169.000000</td>\n",
       "      <td>453169.000000</td>\n",
       "      <td>453169.000000</td>\n",
       "      <td>453169.000000</td>\n",
       "      <td>453169.000000</td>\n",
       "      <td>453169.000000</td>\n",
       "      <td>453169.000000</td>\n",
       "      <td>453169.000000</td>\n",
       "      <td>453169.000000</td>\n",
       "      <td>453169.000000</td>\n",
       "      <td>453169.000000</td>\n",
       "      <td>453169.000000</td>\n",
       "      <td>453169.000000</td>\n",
       "    </tr>\n",
       "    <tr>\n",
       "      <th>mean</th>\n",
       "      <td>0.005103</td>\n",
       "      <td>0.148389</td>\n",
       "      <td>0.138062</td>\n",
       "      <td>0.102310</td>\n",
       "      <td>0.048998</td>\n",
       "      <td>0.165430</td>\n",
       "      <td>0.587269</td>\n",
       "      <td>0.442196</td>\n",
       "      <td>0.203062</td>\n",
       "      <td>0.301173</td>\n",
       "      <td>3.266322</td>\n",
       "      <td>2.535246</td>\n",
       "      <td>5.786462</td>\n",
       "      <td>4.617968</td>\n",
       "    </tr>\n",
       "    <tr>\n",
       "      <th>std</th>\n",
       "      <td>0.010483</td>\n",
       "      <td>0.261329</td>\n",
       "      <td>0.298778</td>\n",
       "      <td>0.247929</td>\n",
       "      <td>0.108016</td>\n",
       "      <td>0.347019</td>\n",
       "      <td>0.805044</td>\n",
       "      <td>0.669024</td>\n",
       "      <td>0.474586</td>\n",
       "      <td>0.421003</td>\n",
       "      <td>3.489826</td>\n",
       "      <td>3.359291</td>\n",
       "      <td>6.599539</td>\n",
       "      <td>6.446301</td>\n",
       "    </tr>\n",
       "    <tr>\n",
       "      <th>min</th>\n",
       "      <td>0.000000</td>\n",
       "      <td>0.000000</td>\n",
       "      <td>0.002400</td>\n",
       "      <td>0.000000</td>\n",
       "      <td>0.002400</td>\n",
       "      <td>0.002400</td>\n",
       "      <td>0.002400</td>\n",
       "      <td>0.002400</td>\n",
       "      <td>0.000000</td>\n",
       "      <td>0.000000</td>\n",
       "      <td>0.000000</td>\n",
       "      <td>0.000000</td>\n",
       "      <td>0.000000</td>\n",
       "      <td>0.000000</td>\n",
       "    </tr>\n",
       "    <tr>\n",
       "      <th>25%</th>\n",
       "      <td>0.002400</td>\n",
       "      <td>0.002400</td>\n",
       "      <td>0.002400</td>\n",
       "      <td>0.002400</td>\n",
       "      <td>0.002400</td>\n",
       "      <td>0.007300</td>\n",
       "      <td>0.063500</td>\n",
       "      <td>0.092800</td>\n",
       "      <td>0.002400</td>\n",
       "      <td>0.041500</td>\n",
       "      <td>0.000000</td>\n",
       "      <td>0.000000</td>\n",
       "      <td>0.000000</td>\n",
       "      <td>0.000000</td>\n",
       "    </tr>\n",
       "    <tr>\n",
       "      <th>50%</th>\n",
       "      <td>0.002400</td>\n",
       "      <td>0.009800</td>\n",
       "      <td>0.004900</td>\n",
       "      <td>0.002400</td>\n",
       "      <td>0.002400</td>\n",
       "      <td>0.056200</td>\n",
       "      <td>0.322300</td>\n",
       "      <td>0.217300</td>\n",
       "      <td>0.004900</td>\n",
       "      <td>0.148900</td>\n",
       "      <td>2.000000</td>\n",
       "      <td>0.000000</td>\n",
       "      <td>3.000000</td>\n",
       "      <td>0.000000</td>\n",
       "    </tr>\n",
       "    <tr>\n",
       "      <th>75%</th>\n",
       "      <td>0.004900</td>\n",
       "      <td>0.192900</td>\n",
       "      <td>0.139200</td>\n",
       "      <td>0.092800</td>\n",
       "      <td>0.048800</td>\n",
       "      <td>0.170900</td>\n",
       "      <td>0.759300</td>\n",
       "      <td>0.468800</td>\n",
       "      <td>0.166000</td>\n",
       "      <td>0.385700</td>\n",
       "      <td>6.000000</td>\n",
       "      <td>5.000000</td>\n",
       "      <td>11.000000</td>\n",
       "      <td>9.000000</td>\n",
       "    </tr>\n",
       "    <tr>\n",
       "      <th>max</th>\n",
       "      <td>0.903300</td>\n",
       "      <td>2.976100</td>\n",
       "      <td>4.660600</td>\n",
       "      <td>4.099100</td>\n",
       "      <td>2.482900</td>\n",
       "      <td>4.668000</td>\n",
       "      <td>4.665500</td>\n",
       "      <td>4.668000</td>\n",
       "      <td>4.663100</td>\n",
       "      <td>4.421400</td>\n",
       "      <td>10.000000</td>\n",
       "      <td>10.000000</td>\n",
       "      <td>23.000000</td>\n",
       "      <td>23.000000</td>\n",
       "    </tr>\n",
       "  </tbody>\n",
       "</table>\n",
       "</div>"
      ],
      "text/plain": [
       "                Emg1           Emg2           Emg3           Emg4  \\\n",
       "count  453169.000000  453169.000000  453169.000000  453169.000000   \n",
       "mean        0.005103       0.148389       0.138062       0.102310   \n",
       "std         0.010483       0.261329       0.298778       0.247929   \n",
       "min         0.000000       0.000000       0.002400       0.000000   \n",
       "25%         0.002400       0.002400       0.002400       0.002400   \n",
       "50%         0.002400       0.009800       0.004900       0.002400   \n",
       "75%         0.004900       0.192900       0.139200       0.092800   \n",
       "max         0.903300       2.976100       4.660600       4.099100   \n",
       "\n",
       "                Emg5           Emg6           Emg7           Emg8  \\\n",
       "count  453169.000000  453169.000000  453169.000000  453169.000000   \n",
       "mean        0.048998       0.165430       0.587269       0.442196   \n",
       "std         0.108016       0.347019       0.805044       0.669024   \n",
       "min         0.002400       0.002400       0.002400       0.002400   \n",
       "25%         0.002400       0.007300       0.063500       0.092800   \n",
       "50%         0.002400       0.056200       0.322300       0.217300   \n",
       "75%         0.048800       0.170900       0.759300       0.468800   \n",
       "max         2.482900       4.668000       4.665500       4.668000   \n",
       "\n",
       "                Emg9          Emg10     repetition   rerepetition  \\\n",
       "count  453169.000000  453169.000000  453169.000000  453169.000000   \n",
       "mean        0.203062       0.301173       3.266322       2.535246   \n",
       "std         0.474586       0.421003       3.489826       3.359291   \n",
       "min         0.000000       0.000000       0.000000       0.000000   \n",
       "25%         0.002400       0.041500       0.000000       0.000000   \n",
       "50%         0.004900       0.148900       2.000000       0.000000   \n",
       "75%         0.166000       0.385700       6.000000       5.000000   \n",
       "max         4.663100       4.421400      10.000000      10.000000   \n",
       "\n",
       "            stimulus     restimulus  \n",
       "count  453169.000000  453169.000000  \n",
       "mean        5.786462       4.617968  \n",
       "std         6.599539       6.446301  \n",
       "min         0.000000       0.000000  \n",
       "25%         0.000000       0.000000  \n",
       "50%         3.000000       0.000000  \n",
       "75%        11.000000       9.000000  \n",
       "max        23.000000      23.000000  "
      ]
     },
     "execution_count": 6,
     "metadata": {},
     "output_type": "execute_result"
    }
   ],
   "source": [
    "raw_data.describe(include='all')"
   ]
  },
  {
   "cell_type": "code",
   "execution_count": 7,
   "id": "fd128768",
   "metadata": {},
   "outputs": [
    {
     "name": "stdout",
     "output_type": "stream",
     "text": [
      "Unique Dependent values and their counts :\n",
      "0     184003\n",
      "8      16361\n",
      "2      15525\n",
      "7      15517\n",
      "12     15513\n",
      "4      15507\n",
      "6      15497\n",
      "9      15476\n",
      "11     15470\n",
      "5      15468\n",
      "10     15443\n",
      "1      15443\n",
      "3      15441\n",
      "14     10342\n",
      "17     10337\n",
      "13     10336\n",
      "15     10295\n",
      "16     10261\n",
      "21      5173\n",
      "18      5171\n",
      "19      5171\n",
      "23      5144\n",
      "20      5138\n",
      "22      5137\n",
      "Name: stimulus, dtype: int64\n"
     ]
    }
   ],
   "source": [
    "print(\"Unique Dependent values and their counts :\")\n",
    "print(raw_data[\"stimulus\"].value_counts())"
   ]
  },
  {
   "cell_type": "code",
   "execution_count": 8,
   "id": "93de5c20",
   "metadata": {},
   "outputs": [
    {
     "data": {
      "text/plain": [
       "Text(0, 0.5, 'Frequency')"
      ]
     },
     "execution_count": 8,
     "metadata": {},
     "output_type": "execute_result"
    },
    {
     "data": {
      "image/png": "[encoded data removed]",
      "text/plain": [
       "<Figure size 432x288 with 1 Axes>"
      ]
     },
     "metadata": {
      "needs_background": "light"
     },
     "output_type": "display_data"
    }
   ],
   "source": [
    "count_classes = pd.value_counts(raw_data['stimulus'], sort = True)\n",
    "\n",
    "count_classes.plot(kind = 'bar', rot=0)\n",
    "\n",
    "plt.title(\"stimulus Class Distribution\")\n",
    "\n",
    "plt.xlabel(\"Class\")\n",
    "\n",
    "plt.ylabel(\"Frequency\")"
   ]
  },
  {
   "cell_type": "markdown",
   "id": "359a141d",
   "metadata": {},
   "source": [
    "# Data Cleaning and Exploratory Data Analysis with New Data"
   ]
  },
  {
   "cell_type": "code",
   "execution_count": 9,
   "id": "34a50c05",
   "metadata": {},
   "outputs": [],
   "source": [
    "index_names = raw_data[ (raw_data['stimulus'] != raw_data['restimulus'])].index\n",
    "raw_data.drop(index_names, inplace = True)"
   ]
  },
  {
   "cell_type": "code",
   "execution_count": 10,
   "id": "78d479cc",
   "metadata": {},
   "outputs": [],
   "source": [
    "index_names = raw_data[ (raw_data['repetition'] != raw_data['rerepetition'])].index\n",
    "raw_data.drop(index_names, inplace = True)"
   ]
  },
  {
   "cell_type": "code",
   "execution_count": 11,
   "id": "8418d307",
   "metadata": {},
   "outputs": [
    {
     "data": {
      "text/html": [
       "<div>\n",
       "<style scoped>\n",
       "    .dataframe tbody tr th:only-of-type {\n",
       "        vertical-align: middle;\n",
       "    }\n",
       "\n",
       "    .dataframe tbody tr th {\n",
       "        vertical-align: top;\n",
       "    }\n",
       "\n",
       "    .dataframe thead th {\n",
       "        text-align: right;\n",
       "    }\n",
       "</style>\n",
       "<table border=\"1\" class=\"dataframe\">\n",
       "  <thead>\n",
       "    <tr style=\"text-align: right;\">\n",
       "      <th></th>\n",
       "      <th>Emg1</th>\n",
       "      <th>Emg2</th>\n",
       "      <th>Emg3</th>\n",
       "      <th>Emg4</th>\n",
       "      <th>Emg5</th>\n",
       "      <th>Emg6</th>\n",
       "      <th>Emg7</th>\n",
       "      <th>Emg8</th>\n",
       "      <th>Emg9</th>\n",
       "      <th>Emg10</th>\n",
       "      <th>repetition</th>\n",
       "      <th>rerepetition</th>\n",
       "      <th>stimulus</th>\n",
       "      <th>restimulus</th>\n",
       "    </tr>\n",
       "  </thead>\n",
       "  <tbody>\n",
       "    <tr>\n",
       "      <th>178809</th>\n",
       "      <td>0.0024</td>\n",
       "      <td>0.1514</td>\n",
       "      <td>0.0464</td>\n",
       "      <td>0.2466</td>\n",
       "      <td>0.0439</td>\n",
       "      <td>0.0464</td>\n",
       "      <td>0.6201</td>\n",
       "      <td>0.4053</td>\n",
       "      <td>0.0415</td>\n",
       "      <td>0.1807</td>\n",
       "      <td>3</td>\n",
       "      <td>3</td>\n",
       "      <td>10</td>\n",
       "      <td>10</td>\n",
       "    </tr>\n",
       "    <tr>\n",
       "      <th>207123</th>\n",
       "      <td>0.0024</td>\n",
       "      <td>0.0024</td>\n",
       "      <td>0.0024</td>\n",
       "      <td>0.0024</td>\n",
       "      <td>0.0024</td>\n",
       "      <td>0.1587</td>\n",
       "      <td>0.2954</td>\n",
       "      <td>0.1880</td>\n",
       "      <td>0.0024</td>\n",
       "      <td>0.1660</td>\n",
       "      <td>0</td>\n",
       "      <td>0</td>\n",
       "      <td>0</td>\n",
       "      <td>0</td>\n",
       "    </tr>\n",
       "    <tr>\n",
       "      <th>169942</th>\n",
       "      <td>0.0024</td>\n",
       "      <td>0.0415</td>\n",
       "      <td>0.0049</td>\n",
       "      <td>0.0024</td>\n",
       "      <td>0.0024</td>\n",
       "      <td>0.1196</td>\n",
       "      <td>0.3149</td>\n",
       "      <td>0.0928</td>\n",
       "      <td>0.0024</td>\n",
       "      <td>0.1025</td>\n",
       "      <td>2</td>\n",
       "      <td>2</td>\n",
       "      <td>9</td>\n",
       "      <td>9</td>\n",
       "    </tr>\n",
       "    <tr>\n",
       "      <th>147464</th>\n",
       "      <td>0.0049</td>\n",
       "      <td>0.0024</td>\n",
       "      <td>0.0024</td>\n",
       "      <td>0.0024</td>\n",
       "      <td>0.0024</td>\n",
       "      <td>0.0024</td>\n",
       "      <td>0.0024</td>\n",
       "      <td>0.0293</td>\n",
       "      <td>0.0024</td>\n",
       "      <td>0.0024</td>\n",
       "      <td>0</td>\n",
       "      <td>0</td>\n",
       "      <td>0</td>\n",
       "      <td>0</td>\n",
       "    </tr>\n",
       "    <tr>\n",
       "      <th>70544</th>\n",
       "      <td>0.0024</td>\n",
       "      <td>0.0415</td>\n",
       "      <td>0.0049</td>\n",
       "      <td>0.0049</td>\n",
       "      <td>0.0146</td>\n",
       "      <td>0.0635</td>\n",
       "      <td>0.2002</td>\n",
       "      <td>0.4419</td>\n",
       "      <td>0.0024</td>\n",
       "      <td>0.1196</td>\n",
       "      <td>0</td>\n",
       "      <td>0</td>\n",
       "      <td>0</td>\n",
       "      <td>0</td>\n",
       "    </tr>\n",
       "  </tbody>\n",
       "</table>\n",
       "</div>"
      ],
      "text/plain": [
       "          Emg1    Emg2    Emg3    Emg4    Emg5    Emg6    Emg7    Emg8  \\\n",
       "178809  0.0024  0.1514  0.0464  0.2466  0.0439  0.0464  0.6201  0.4053   \n",
       "207123  0.0024  0.0024  0.0024  0.0024  0.0024  0.1587  0.2954  0.1880   \n",
       "169942  0.0024  0.0415  0.0049  0.0024  0.0024  0.1196  0.3149  0.0928   \n",
       "147464  0.0049  0.0024  0.0024  0.0024  0.0024  0.0024  0.0024  0.0293   \n",
       "70544   0.0024  0.0415  0.0049  0.0049  0.0146  0.0635  0.2002  0.4419   \n",
       "\n",
       "          Emg9   Emg10  repetition  rerepetition  stimulus  restimulus  \n",
       "178809  0.0415  0.1807           3             3        10          10  \n",
       "207123  0.0024  0.1660           0             0         0           0  \n",
       "169942  0.0024  0.1025           2             2         9           9  \n",
       "147464  0.0024  0.0024           0             0         0           0  \n",
       "70544   0.0024  0.1196           0             0         0           0  "
      ]
     },
     "execution_count": 11,
     "metadata": {},
     "output_type": "execute_result"
    }
   ],
   "source": [
    "raw_data.sample(5)"
   ]
  },
  {
   "cell_type": "code",
   "execution_count": 12,
   "id": "ff5d7709",
   "metadata": {},
   "outputs": [
    {
     "data": {
      "text/plain": [
       "(378096, 14)"
      ]
     },
     "execution_count": 12,
     "metadata": {},
     "output_type": "execute_result"
    }
   ],
   "source": [
    "raw_data.shape"
   ]
  },
  {
   "cell_type": "code",
   "execution_count": 13,
   "id": "9df2c3c9",
   "metadata": {},
   "outputs": [
    {
     "name": "stdout",
     "output_type": "stream",
     "text": [
      "<class 'pandas.core.frame.DataFrame'>\n",
      "Int64Index: 378096 entries, 0 to 453168\n",
      "Data columns (total 14 columns):\n",
      " #   Column        Non-Null Count   Dtype  \n",
      "---  ------        --------------   -----  \n",
      " 0   Emg1          378096 non-null  float64\n",
      " 1   Emg2          378096 non-null  float64\n",
      " 2   Emg3          378096 non-null  float64\n",
      " 3   Emg4          378096 non-null  float64\n",
      " 4   Emg5          378096 non-null  float64\n",
      " 5   Emg6          378096 non-null  float64\n",
      " 6   Emg7          378096 non-null  float64\n",
      " 7   Emg8          378096 non-null  float64\n",
      " 8   Emg9          378096 non-null  float64\n",
      " 9   Emg10         378096 non-null  float64\n",
      " 10  repetition    378096 non-null  int64  \n",
      " 11  rerepetition  378096 non-null  int64  \n",
      " 12  stimulus      378096 non-null  int64  \n",
      " 13  restimulus    378096 non-null  int64  \n",
      "dtypes: float64(10), int64(4)\n",
      "memory usage: 43.3 MB\n"
     ]
    }
   ],
   "source": [
    "raw_data.info()"
   ]
  },
  {
   "cell_type": "code",
   "execution_count": 14,
   "id": "fbec9c31",
   "metadata": {},
   "outputs": [
    {
     "name": "stdout",
     "output_type": "stream",
     "text": [
      "Emg1            False\n",
      "Emg2            False\n",
      "Emg3            False\n",
      "Emg4            False\n",
      "Emg5            False\n",
      "Emg6            False\n",
      "Emg7            False\n",
      "Emg8            False\n",
      "Emg9            False\n",
      "Emg10           False\n",
      "repetition      False\n",
      "rerepetition    False\n",
      "stimulus        False\n",
      "restimulus      False\n",
      "dtype: bool\n"
     ]
    }
   ],
   "source": [
    "print(raw_data.isnull().any())"
   ]
  },
  {
   "cell_type": "code",
   "execution_count": 15,
   "id": "3a406dae",
   "metadata": {},
   "outputs": [],
   "source": [
    "X = raw_data.iloc[:,0:10]\n",
    "y = raw_data.stimulus"
   ]
  },
  {
   "cell_type": "code",
   "execution_count": 16,
   "id": "867f6716",
   "metadata": {},
   "outputs": [],
   "source": [
    "# Splitting data for training and testing\n",
    "X_train, X_test, y_train, y_test = train_test_split(X, y, test_size = 0.2, random_state = 39)"
   ]
  },
  {
   "cell_type": "markdown",
   "id": "bff706a6",
   "metadata": {},
   "source": [
    "# Random Forest"
   ]
  },
  {
   "cell_type": "code",
   "execution_count": 17,
   "id": "2a961733",
   "metadata": {},
   "outputs": [
    {
     "data": {
      "text/plain": [
       "RandomForestClassifier()"
      ]
     },
     "execution_count": 17,
     "metadata": {},
     "output_type": "execute_result"
    }
   ],
   "source": [
    "from sklearn.ensemble import RandomForestClassifier\n",
    "RandomForestClassifier = RandomForestClassifier()\n",
    "RandomForestClassifier.fit(X_train, y_train)"
   ]
  },
  {
   "cell_type": "code",
   "execution_count": 18,
   "id": "fb724165",
   "metadata": {},
   "outputs": [],
   "source": [
    "y_pred = RandomForestClassifier.predict(X_test)"
   ]
  },
  {
   "cell_type": "code",
   "execution_count": 19,
   "id": "d3a88351",
   "metadata": {},
   "outputs": [
    {
     "name": "stdout",
     "output_type": "stream",
     "text": [
      "Accuracy is: 94.96958476593494\n"
     ]
    }
   ],
   "source": [
    "from sklearn.metrics import accuracy_score\n",
    "accuracy = {accuracy_score(y_test, y_pred)}\n",
    "print(f\"Accuracy is: {accuracy_score(y_test, y_pred)* 100}\")"
   ]
  },
  {
   "cell_type": "code",
   "execution_count": 20,
   "id": "0f3d2581",
   "metadata": {},
   "outputs": [
    {
     "name": "stdout",
     "output_type": "stream",
     "text": [
      "\u001b[1mClassification report : \u001b[0m\n",
      "               precision    recall  f1-score   support\n",
      "\n",
      "           0       0.94      0.99      0.96     35440\n",
      "           1       0.97      0.96      0.97      2416\n",
      "           2       0.98      0.92      0.95      2012\n",
      "           3       0.97      0.93      0.95      2302\n",
      "           4       0.99      0.93      0.96      2120\n",
      "           5       0.97      0.91      0.94      2055\n",
      "           6       0.98      0.94      0.96      2214\n",
      "           7       0.93      0.90      0.92      2326\n",
      "           8       0.96      0.90      0.93      2403\n",
      "           9       0.97      0.88      0.92      2255\n",
      "          10       0.98      0.88      0.92      2516\n",
      "          11       0.97      0.91      0.93      2458\n",
      "          12       0.94      0.91      0.92      2411\n",
      "          13       0.96      0.92      0.94      1404\n",
      "          14       0.89      0.81      0.84      1637\n",
      "          15       0.94      0.88      0.91      1448\n",
      "          16       0.98      0.93      0.95      1536\n",
      "          17       0.97      0.94      0.95      1645\n",
      "          18       0.96      0.91      0.94       881\n",
      "          19       0.96      0.88      0.92       801\n",
      "          20       0.98      0.95      0.97       855\n",
      "          21       0.99      0.96      0.97       810\n",
      "          22       0.97      0.96      0.97       762\n",
      "          23       0.99      0.97      0.98       913\n",
      "\n",
      "    accuracy                           0.95     75620\n",
      "   macro avg       0.96      0.92      0.94     75620\n",
      "weighted avg       0.95      0.95      0.95     75620\n",
      "\n",
      "\u001b[1mConfusion Matrix : \u001b[0m\n"
     ]
    },
    {
     "data": {
      "image/png": "[encoded data removed]",
      "text/plain": [
       "<Figure size 432x288 with 2 Axes>"
      ]
     },
     "metadata": {
      "needs_background": "light"
     },
     "output_type": "display_data"
    }
   ],
   "source": [
    "print('\\033[1m' +'Classification report : '+ '\\033[0m\\n', classification_report(y_test, y_pred))\n",
    "\n",
    "cm = confusion_matrix(y_pred, y_test)\n",
    "print('\\033[1m' +'Confusion Matrix : '+ '\\033[0m')\n",
    "sns.heatmap(cm, cmap = 'OrRd',annot = True, fmt='d')\n",
    "plt.show()"
   ]
  },
  {
   "cell_type": "markdown",
   "id": "8c265389",
   "metadata": {},
   "source": [
    "# Evaluation"
   ]
  },
  {
   "cell_type": "code",
   "execution_count": 21,
   "id": "02906ef9",
   "metadata": {},
   "outputs": [
    {
     "name": "stdout",
     "output_type": "stream",
     "text": [
      "MAE: 0.43266331658291457\n",
      "MSE: 4.9944459137794235\n",
      "RMSE: 2.234825700984178\n"
     ]
    }
   ],
   "source": [
    "from sklearn import metrics\n",
    "\n",
    "print('MAE:', metrics.mean_absolute_error(y_test,y_pred))\n",
    "print('MSE:', metrics.mean_squared_error(y_test, y_pred))\n",
    "print('RMSE:', np.sqrt(metrics.mean_squared_error(y_test, y_pred)))"
   ]
  },
  {
   "cell_type": "code",
   "execution_count": 22,
   "id": "2d958bfd",
   "metadata": {},
   "outputs": [
    {
     "name": "stdout",
     "output_type": "stream",
     "text": [
      "Precision Score :  0.9504416105167813\n",
      "Recall Score :  0.9496958476593493\n",
      "f1_score :  0.9492240118094593\n"
     ]
    }
   ],
   "source": [
    "from sklearn.metrics import precision_score\n",
    "print(\"Precision Score : \",precision_score(y_test, y_pred, average='weighted'))\n",
    "\n",
    "\n",
    "from sklearn.metrics import recall_score\n",
    "print(\"Recall Score : \",recall_score(y_test, y_pred,average='weighted'))\n",
    "\n",
    "\n",
    "from sklearn.metrics import f1_score\n",
    "print(\"f1_score : \",f1_score(y_test, y_pred,average='weighted'))"
   ]
  },
  {
   "cell_type": "code",
   "execution_count": null,
   "id": "7b2f554b",
   "metadata": {},
   "outputs": [],
   "source": []
  }
 ],
 "metadata": {
  "kernelspec": {
   "display_name": "Python 3 (ipykernel)",
   "language": "python",
   "name": "python3"
  },
  "language_info": {
   "codemirror_mode": {
    "name": "ipython",
    "version": 3
   },
   "file_extension": ".py",
   "mimetype": "text/x-python",
   "name": "python",
   "nbconvert_exporter": "python",
   "pygments_lexer": "ipython3",
   "version": "3.8.12"
  }
 },
 "nbformat": 4,
 "nbformat_minor": 5
}
