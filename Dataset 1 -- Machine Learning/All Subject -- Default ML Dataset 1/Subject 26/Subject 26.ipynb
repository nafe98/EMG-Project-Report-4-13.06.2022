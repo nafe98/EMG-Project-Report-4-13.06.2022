{
 "cells": [
  {
   "cell_type": "markdown",
   "id": "a76f9c3f",
   "metadata": {},
   "source": [
    "# Importing Libraries"
   ]
  },
  {
   "cell_type": "code",
   "execution_count": 1,
   "id": "cb8d9727",
   "metadata": {},
   "outputs": [],
   "source": [
    "import numpy as np\n",
    "import pandas as pd\n",
    "import matplotlib.pyplot as plt\n",
    "import seaborn as sns\n",
    "from sklearn.model_selection import train_test_split\n",
    "from sklearn.metrics import confusion_matrix, f1_score, accuracy_score, classification_report"
   ]
  },
  {
   "cell_type": "markdown",
   "id": "576dc0b5",
   "metadata": {},
   "source": [
    "# Exploratory Data Analysis¶"
   ]
  },
  {
   "cell_type": "code",
   "execution_count": 2,
   "id": "c72bb47b",
   "metadata": {},
   "outputs": [
    {
     "data": {
      "text/html": [
       "<div>\n",
       "<style scoped>\n",
       "    .dataframe tbody tr th:only-of-type {\n",
       "        vertical-align: middle;\n",
       "    }\n",
       "\n",
       "    .dataframe tbody tr th {\n",
       "        vertical-align: top;\n",
       "    }\n",
       "\n",
       "    .dataframe thead th {\n",
       "        text-align: right;\n",
       "    }\n",
       "</style>\n",
       "<table border=\"1\" class=\"dataframe\">\n",
       "  <thead>\n",
       "    <tr style=\"text-align: right;\">\n",
       "      <th></th>\n",
       "      <th>Emg1</th>\n",
       "      <th>Emg2</th>\n",
       "      <th>Emg3</th>\n",
       "      <th>Emg4</th>\n",
       "      <th>Emg5</th>\n",
       "      <th>Emg6</th>\n",
       "      <th>Emg7</th>\n",
       "      <th>Emg8</th>\n",
       "      <th>Emg9</th>\n",
       "      <th>Emg10</th>\n",
       "      <th>repetition</th>\n",
       "      <th>rerepetition</th>\n",
       "      <th>stimulus</th>\n",
       "      <th>restimulus</th>\n",
       "    </tr>\n",
       "  </thead>\n",
       "  <tbody>\n",
       "    <tr>\n",
       "      <th>102652</th>\n",
       "      <td>0.1709</td>\n",
       "      <td>0.0024</td>\n",
       "      <td>0.0049</td>\n",
       "      <td>0.2002</td>\n",
       "      <td>0.0024</td>\n",
       "      <td>0.0024</td>\n",
       "      <td>0.3149</td>\n",
       "      <td>0.8643</td>\n",
       "      <td>0.0049</td>\n",
       "      <td>0.2295</td>\n",
       "      <td>0</td>\n",
       "      <td>0</td>\n",
       "      <td>0</td>\n",
       "      <td>0</td>\n",
       "    </tr>\n",
       "    <tr>\n",
       "      <th>175148</th>\n",
       "      <td>0.1196</td>\n",
       "      <td>0.1538</td>\n",
       "      <td>0.0366</td>\n",
       "      <td>0.3564</td>\n",
       "      <td>0.0342</td>\n",
       "      <td>0.0024</td>\n",
       "      <td>0.0537</td>\n",
       "      <td>0.3320</td>\n",
       "      <td>0.0049</td>\n",
       "      <td>0.1709</td>\n",
       "      <td>7</td>\n",
       "      <td>7</td>\n",
       "      <td>9</td>\n",
       "      <td>9</td>\n",
       "    </tr>\n",
       "    <tr>\n",
       "      <th>411345</th>\n",
       "      <td>0.0732</td>\n",
       "      <td>0.0024</td>\n",
       "      <td>0.0024</td>\n",
       "      <td>0.0049</td>\n",
       "      <td>0.0049</td>\n",
       "      <td>0.0073</td>\n",
       "      <td>0.2197</td>\n",
       "      <td>0.3735</td>\n",
       "      <td>0.0024</td>\n",
       "      <td>0.2026</td>\n",
       "      <td>4</td>\n",
       "      <td>0</td>\n",
       "      <td>19</td>\n",
       "      <td>0</td>\n",
       "    </tr>\n",
       "    <tr>\n",
       "      <th>220600</th>\n",
       "      <td>3.8916</td>\n",
       "      <td>1.4478</td>\n",
       "      <td>0.3516</td>\n",
       "      <td>0.1123</td>\n",
       "      <td>0.1196</td>\n",
       "      <td>0.1587</td>\n",
       "      <td>0.3735</td>\n",
       "      <td>0.5469</td>\n",
       "      <td>0.5566</td>\n",
       "      <td>0.3149</td>\n",
       "      <td>1</td>\n",
       "      <td>1</td>\n",
       "      <td>15</td>\n",
       "      <td>15</td>\n",
       "    </tr>\n",
       "    <tr>\n",
       "      <th>164855</th>\n",
       "      <td>0.1807</td>\n",
       "      <td>0.4932</td>\n",
       "      <td>0.7495</td>\n",
       "      <td>0.0806</td>\n",
       "      <td>0.0317</td>\n",
       "      <td>0.0342</td>\n",
       "      <td>1.3208</td>\n",
       "      <td>0.8789</td>\n",
       "      <td>0.2271</td>\n",
       "      <td>0.7910</td>\n",
       "      <td>5</td>\n",
       "      <td>5</td>\n",
       "      <td>8</td>\n",
       "      <td>8</td>\n",
       "    </tr>\n",
       "  </tbody>\n",
       "</table>\n",
       "</div>"
      ],
      "text/plain": [
       "          Emg1    Emg2    Emg3    Emg4    Emg5    Emg6    Emg7    Emg8  \\\n",
       "102652  0.1709  0.0024  0.0049  0.2002  0.0024  0.0024  0.3149  0.8643   \n",
       "175148  0.1196  0.1538  0.0366  0.3564  0.0342  0.0024  0.0537  0.3320   \n",
       "411345  0.0732  0.0024  0.0024  0.0049  0.0049  0.0073  0.2197  0.3735   \n",
       "220600  3.8916  1.4478  0.3516  0.1123  0.1196  0.1587  0.3735  0.5469   \n",
       "164855  0.1807  0.4932  0.7495  0.0806  0.0317  0.0342  1.3208  0.8789   \n",
       "\n",
       "          Emg9   Emg10  repetition  rerepetition  stimulus  restimulus  \n",
       "102652  0.0049  0.2295           0             0         0           0  \n",
       "175148  0.0049  0.1709           7             7         9           9  \n",
       "411345  0.0024  0.2026           4             0        19           0  \n",
       "220600  0.5566  0.3149           1             1        15          15  \n",
       "164855  0.2271  0.7910           5             5         8           8  "
      ]
     },
     "execution_count": 2,
     "metadata": {},
     "output_type": "execute_result"
    }
   ],
   "source": [
    "raw_data = pd.read_excel('Dataset 1 Patient 26.xlsx')\n",
    "raw_data.sample(5)"
   ]
  },
  {
   "cell_type": "code",
   "execution_count": 3,
   "id": "a85e933c",
   "metadata": {},
   "outputs": [
    {
     "data": {
      "text/plain": [
       "(463778, 14)"
      ]
     },
     "execution_count": 3,
     "metadata": {},
     "output_type": "execute_result"
    }
   ],
   "source": [
    "raw_data.shape"
   ]
  },
  {
   "cell_type": "code",
   "execution_count": 4,
   "id": "e05e202f",
   "metadata": {},
   "outputs": [
    {
     "data": {
      "text/plain": [
       "Index(['Emg1', 'Emg2', 'Emg3', 'Emg4', 'Emg5', 'Emg6', 'Emg7', 'Emg8', 'Emg9',\n",
       "       'Emg10', 'repetition', 'rerepetition', 'stimulus', 'restimulus'],\n",
       "      dtype='object')"
      ]
     },
     "execution_count": 4,
     "metadata": {},
     "output_type": "execute_result"
    }
   ],
   "source": [
    "raw_data.columns"
   ]
  },
  {
   "cell_type": "code",
   "execution_count": 5,
   "id": "fde113c0",
   "metadata": {},
   "outputs": [
    {
     "name": "stdout",
     "output_type": "stream",
     "text": [
      "<class 'pandas.core.frame.DataFrame'>\n",
      "RangeIndex: 463778 entries, 0 to 463777\n",
      "Data columns (total 14 columns):\n",
      " #   Column        Non-Null Count   Dtype  \n",
      "---  ------        --------------   -----  \n",
      " 0   Emg1          463778 non-null  float64\n",
      " 1   Emg2          463778 non-null  float64\n",
      " 2   Emg3          463778 non-null  float64\n",
      " 3   Emg4          463778 non-null  float64\n",
      " 4   Emg5          463778 non-null  float64\n",
      " 5   Emg6          463778 non-null  float64\n",
      " 6   Emg7          463778 non-null  float64\n",
      " 7   Emg8          463778 non-null  float64\n",
      " 8   Emg9          463778 non-null  float64\n",
      " 9   Emg10         463778 non-null  float64\n",
      " 10  repetition    463778 non-null  int64  \n",
      " 11  rerepetition  463778 non-null  int64  \n",
      " 12  stimulus      463778 non-null  int64  \n",
      " 13  restimulus    463778 non-null  int64  \n",
      "dtypes: float64(10), int64(4)\n",
      "memory usage: 49.5 MB\n"
     ]
    }
   ],
   "source": [
    "raw_data.info()"
   ]
  },
  {
   "cell_type": "code",
   "execution_count": 6,
   "id": "0ae97d58",
   "metadata": {},
   "outputs": [
    {
     "data": {
      "text/html": [
       "<div>\n",
       "<style scoped>\n",
       "    .dataframe tbody tr th:only-of-type {\n",
       "        vertical-align: middle;\n",
       "    }\n",
       "\n",
       "    .dataframe tbody tr th {\n",
       "        vertical-align: top;\n",
       "    }\n",
       "\n",
       "    .dataframe thead th {\n",
       "        text-align: right;\n",
       "    }\n",
       "</style>\n",
       "<table border=\"1\" class=\"dataframe\">\n",
       "  <thead>\n",
       "    <tr style=\"text-align: right;\">\n",
       "      <th></th>\n",
       "      <th>Emg1</th>\n",
       "      <th>Emg2</th>\n",
       "      <th>Emg3</th>\n",
       "      <th>Emg4</th>\n",
       "      <th>Emg5</th>\n",
       "      <th>Emg6</th>\n",
       "      <th>Emg7</th>\n",
       "      <th>Emg8</th>\n",
       "      <th>Emg9</th>\n",
       "      <th>Emg10</th>\n",
       "      <th>repetition</th>\n",
       "      <th>rerepetition</th>\n",
       "      <th>stimulus</th>\n",
       "      <th>restimulus</th>\n",
       "    </tr>\n",
       "  </thead>\n",
       "  <tbody>\n",
       "    <tr>\n",
       "      <th>count</th>\n",
       "      <td>463778.000000</td>\n",
       "      <td>463778.00000</td>\n",
       "      <td>463778.000000</td>\n",
       "      <td>463778.000000</td>\n",
       "      <td>463778.000000</td>\n",
       "      <td>463778.000000</td>\n",
       "      <td>463778.000000</td>\n",
       "      <td>463778.000000</td>\n",
       "      <td>463778.000000</td>\n",
       "      <td>463778.000000</td>\n",
       "      <td>463778.000000</td>\n",
       "      <td>463778.000000</td>\n",
       "      <td>463778.000000</td>\n",
       "      <td>463778.000000</td>\n",
       "    </tr>\n",
       "    <tr>\n",
       "      <th>mean</th>\n",
       "      <td>0.370431</td>\n",
       "      <td>0.09488</td>\n",
       "      <td>0.171677</td>\n",
       "      <td>0.133734</td>\n",
       "      <td>0.017742</td>\n",
       "      <td>0.039629</td>\n",
       "      <td>0.337346</td>\n",
       "      <td>0.418753</td>\n",
       "      <td>0.091687</td>\n",
       "      <td>0.227919</td>\n",
       "      <td>3.200486</td>\n",
       "      <td>2.111698</td>\n",
       "      <td>5.672708</td>\n",
       "      <td>3.792519</td>\n",
       "    </tr>\n",
       "    <tr>\n",
       "      <th>std</th>\n",
       "      <td>0.579287</td>\n",
       "      <td>0.25710</td>\n",
       "      <td>0.487344</td>\n",
       "      <td>0.359362</td>\n",
       "      <td>0.062053</td>\n",
       "      <td>0.131240</td>\n",
       "      <td>0.602700</td>\n",
       "      <td>0.643606</td>\n",
       "      <td>0.290849</td>\n",
       "      <td>0.426220</td>\n",
       "      <td>3.487157</td>\n",
       "      <td>3.228558</td>\n",
       "      <td>6.589330</td>\n",
       "      <td>6.134340</td>\n",
       "    </tr>\n",
       "    <tr>\n",
       "      <th>min</th>\n",
       "      <td>0.002400</td>\n",
       "      <td>0.00240</td>\n",
       "      <td>0.002400</td>\n",
       "      <td>0.002400</td>\n",
       "      <td>0.002400</td>\n",
       "      <td>0.002400</td>\n",
       "      <td>0.002400</td>\n",
       "      <td>0.002400</td>\n",
       "      <td>0.002400</td>\n",
       "      <td>0.002400</td>\n",
       "      <td>0.000000</td>\n",
       "      <td>0.000000</td>\n",
       "      <td>0.000000</td>\n",
       "      <td>0.000000</td>\n",
       "    </tr>\n",
       "    <tr>\n",
       "      <th>25%</th>\n",
       "      <td>0.029300</td>\n",
       "      <td>0.00240</td>\n",
       "      <td>0.004900</td>\n",
       "      <td>0.002400</td>\n",
       "      <td>0.002400</td>\n",
       "      <td>0.002400</td>\n",
       "      <td>0.036600</td>\n",
       "      <td>0.009800</td>\n",
       "      <td>0.002400</td>\n",
       "      <td>0.014600</td>\n",
       "      <td>0.000000</td>\n",
       "      <td>0.000000</td>\n",
       "      <td>0.000000</td>\n",
       "      <td>0.000000</td>\n",
       "    </tr>\n",
       "    <tr>\n",
       "      <th>50%</th>\n",
       "      <td>0.151400</td>\n",
       "      <td>0.00490</td>\n",
       "      <td>0.004900</td>\n",
       "      <td>0.004900</td>\n",
       "      <td>0.004900</td>\n",
       "      <td>0.004900</td>\n",
       "      <td>0.131800</td>\n",
       "      <td>0.117200</td>\n",
       "      <td>0.004900</td>\n",
       "      <td>0.078100</td>\n",
       "      <td>2.000000</td>\n",
       "      <td>0.000000</td>\n",
       "      <td>3.000000</td>\n",
       "      <td>0.000000</td>\n",
       "    </tr>\n",
       "    <tr>\n",
       "      <th>75%</th>\n",
       "      <td>0.388200</td>\n",
       "      <td>0.04880</td>\n",
       "      <td>0.063500</td>\n",
       "      <td>0.092800</td>\n",
       "      <td>0.004900</td>\n",
       "      <td>0.024400</td>\n",
       "      <td>0.349100</td>\n",
       "      <td>0.600600</td>\n",
       "      <td>0.048800</td>\n",
       "      <td>0.224600</td>\n",
       "      <td>6.000000</td>\n",
       "      <td>4.000000</td>\n",
       "      <td>10.000000</td>\n",
       "      <td>7.000000</td>\n",
       "    </tr>\n",
       "    <tr>\n",
       "      <th>max</th>\n",
       "      <td>4.646000</td>\n",
       "      <td>4.64360</td>\n",
       "      <td>4.641100</td>\n",
       "      <td>4.643600</td>\n",
       "      <td>1.984900</td>\n",
       "      <td>4.643600</td>\n",
       "      <td>4.643600</td>\n",
       "      <td>4.646000</td>\n",
       "      <td>4.638700</td>\n",
       "      <td>4.638700</td>\n",
       "      <td>10.000000</td>\n",
       "      <td>10.000000</td>\n",
       "      <td>23.000000</td>\n",
       "      <td>23.000000</td>\n",
       "    </tr>\n",
       "  </tbody>\n",
       "</table>\n",
       "</div>"
      ],
      "text/plain": [
       "                Emg1          Emg2           Emg3           Emg4  \\\n",
       "count  463778.000000  463778.00000  463778.000000  463778.000000   \n",
       "mean        0.370431       0.09488       0.171677       0.133734   \n",
       "std         0.579287       0.25710       0.487344       0.359362   \n",
       "min         0.002400       0.00240       0.002400       0.002400   \n",
       "25%         0.029300       0.00240       0.004900       0.002400   \n",
       "50%         0.151400       0.00490       0.004900       0.004900   \n",
       "75%         0.388200       0.04880       0.063500       0.092800   \n",
       "max         4.646000       4.64360       4.641100       4.643600   \n",
       "\n",
       "                Emg5           Emg6           Emg7           Emg8  \\\n",
       "count  463778.000000  463778.000000  463778.000000  463778.000000   \n",
       "mean        0.017742       0.039629       0.337346       0.418753   \n",
       "std         0.062053       0.131240       0.602700       0.643606   \n",
       "min         0.002400       0.002400       0.002400       0.002400   \n",
       "25%         0.002400       0.002400       0.036600       0.009800   \n",
       "50%         0.004900       0.004900       0.131800       0.117200   \n",
       "75%         0.004900       0.024400       0.349100       0.600600   \n",
       "max         1.984900       4.643600       4.643600       4.646000   \n",
       "\n",
       "                Emg9          Emg10     repetition   rerepetition  \\\n",
       "count  463778.000000  463778.000000  463778.000000  463778.000000   \n",
       "mean        0.091687       0.227919       3.200486       2.111698   \n",
       "std         0.290849       0.426220       3.487157       3.228558   \n",
       "min         0.002400       0.002400       0.000000       0.000000   \n",
       "25%         0.002400       0.014600       0.000000       0.000000   \n",
       "50%         0.004900       0.078100       2.000000       0.000000   \n",
       "75%         0.048800       0.224600       6.000000       4.000000   \n",
       "max         4.638700       4.638700      10.000000      10.000000   \n",
       "\n",
       "            stimulus     restimulus  \n",
       "count  463778.000000  463778.000000  \n",
       "mean        5.672708       3.792519  \n",
       "std         6.589330       6.134340  \n",
       "min         0.000000       0.000000  \n",
       "25%         0.000000       0.000000  \n",
       "50%         3.000000       0.000000  \n",
       "75%        10.000000       7.000000  \n",
       "max        23.000000      23.000000  "
      ]
     },
     "execution_count": 6,
     "metadata": {},
     "output_type": "execute_result"
    }
   ],
   "source": [
    "raw_data.describe(include='all')"
   ]
  },
  {
   "cell_type": "code",
   "execution_count": 7,
   "id": "071b96e6",
   "metadata": {},
   "outputs": [
    {
     "name": "stdout",
     "output_type": "stream",
     "text": [
      "Unique Dependent values and their counts :\n",
      "0     193905\n",
      "4      15609\n",
      "12     15605\n",
      "7      15602\n",
      "8      15602\n",
      "2      15599\n",
      "11     15574\n",
      "5      15570\n",
      "6      15561\n",
      "9      15554\n",
      "10     15531\n",
      "3      15530\n",
      "1      15524\n",
      "14     10407\n",
      "17     10406\n",
      "13     10402\n",
      "15     10367\n",
      "16     10334\n",
      "18      5203\n",
      "21      5202\n",
      "19      5200\n",
      "23      5166\n",
      "20      5163\n",
      "22      5162\n",
      "Name: stimulus, dtype: int64\n"
     ]
    }
   ],
   "source": [
    "print(\"Unique Dependent values and their counts :\")\n",
    "print(raw_data[\"stimulus\"].value_counts())"
   ]
  },
  {
   "cell_type": "code",
   "execution_count": 8,
   "id": "50a0f9be",
   "metadata": {},
   "outputs": [
    {
     "data": {
      "text/plain": [
       "Text(0, 0.5, 'Frequency')"
      ]
     },
     "execution_count": 8,
     "metadata": {},
     "output_type": "execute_result"
    },
    {
     "data": {
      "image/png": "[encoded data removed]",
      "text/plain": [
       "<Figure size 432x288 with 1 Axes>"
      ]
     },
     "metadata": {
      "needs_background": "light"
     },
     "output_type": "display_data"
    }
   ],
   "source": [
    "count_classes = pd.value_counts(raw_data['stimulus'], sort = True)\n",
    "\n",
    "count_classes.plot(kind = 'bar', rot=0)\n",
    "\n",
    "plt.title(\"stimulus Class Distribution\")\n",
    "\n",
    "plt.xlabel(\"Class\")\n",
    "\n",
    "plt.ylabel(\"Frequency\")"
   ]
  },
  {
   "cell_type": "markdown",
   "id": "275440c4",
   "metadata": {},
   "source": [
    "# Data Cleaning and Exploratory Data Analysis with New Data"
   ]
  },
  {
   "cell_type": "code",
   "execution_count": 9,
   "id": "e8ed6471",
   "metadata": {},
   "outputs": [],
   "source": [
    "index_names = raw_data[ (raw_data['stimulus'] != raw_data['restimulus'])].index\n",
    "raw_data.drop(index_names, inplace = True)"
   ]
  },
  {
   "cell_type": "code",
   "execution_count": 10,
   "id": "395d42c1",
   "metadata": {},
   "outputs": [],
   "source": [
    "index_names = raw_data[ (raw_data['repetition'] != raw_data['rerepetition'])].index\n",
    "raw_data.drop(index_names, inplace = True)"
   ]
  },
  {
   "cell_type": "code",
   "execution_count": 11,
   "id": "5ccb8950",
   "metadata": {},
   "outputs": [
    {
     "data": {
      "text/html": [
       "<div>\n",
       "<style scoped>\n",
       "    .dataframe tbody tr th:only-of-type {\n",
       "        vertical-align: middle;\n",
       "    }\n",
       "\n",
       "    .dataframe tbody tr th {\n",
       "        vertical-align: top;\n",
       "    }\n",
       "\n",
       "    .dataframe thead th {\n",
       "        text-align: right;\n",
       "    }\n",
       "</style>\n",
       "<table border=\"1\" class=\"dataframe\">\n",
       "  <thead>\n",
       "    <tr style=\"text-align: right;\">\n",
       "      <th></th>\n",
       "      <th>Emg1</th>\n",
       "      <th>Emg2</th>\n",
       "      <th>Emg3</th>\n",
       "      <th>Emg4</th>\n",
       "      <th>Emg5</th>\n",
       "      <th>Emg6</th>\n",
       "      <th>Emg7</th>\n",
       "      <th>Emg8</th>\n",
       "      <th>Emg9</th>\n",
       "      <th>Emg10</th>\n",
       "      <th>repetition</th>\n",
       "      <th>rerepetition</th>\n",
       "      <th>stimulus</th>\n",
       "      <th>restimulus</th>\n",
       "    </tr>\n",
       "  </thead>\n",
       "  <tbody>\n",
       "    <tr>\n",
       "      <th>13905</th>\n",
       "      <td>0.3589</td>\n",
       "      <td>0.2881</td>\n",
       "      <td>0.1660</td>\n",
       "      <td>0.0024</td>\n",
       "      <td>0.0024</td>\n",
       "      <td>0.0024</td>\n",
       "      <td>0.4834</td>\n",
       "      <td>0.2295</td>\n",
       "      <td>0.0659</td>\n",
       "      <td>0.9033</td>\n",
       "      <td>7</td>\n",
       "      <td>7</td>\n",
       "      <td>2</td>\n",
       "      <td>2</td>\n",
       "    </tr>\n",
       "    <tr>\n",
       "      <th>106172</th>\n",
       "      <td>0.0806</td>\n",
       "      <td>0.0024</td>\n",
       "      <td>0.0024</td>\n",
       "      <td>0.1416</td>\n",
       "      <td>0.0049</td>\n",
       "      <td>0.0024</td>\n",
       "      <td>0.1563</td>\n",
       "      <td>0.4028</td>\n",
       "      <td>0.0049</td>\n",
       "      <td>0.0830</td>\n",
       "      <td>0</td>\n",
       "      <td>0</td>\n",
       "      <td>0</td>\n",
       "      <td>0</td>\n",
       "    </tr>\n",
       "    <tr>\n",
       "      <th>333314</th>\n",
       "      <td>0.8618</td>\n",
       "      <td>0.2979</td>\n",
       "      <td>0.2026</td>\n",
       "      <td>0.2173</td>\n",
       "      <td>0.0122</td>\n",
       "      <td>0.0439</td>\n",
       "      <td>0.1245</td>\n",
       "      <td>1.0327</td>\n",
       "      <td>0.1196</td>\n",
       "      <td>0.0879</td>\n",
       "      <td>6</td>\n",
       "      <td>6</td>\n",
       "      <td>10</td>\n",
       "      <td>10</td>\n",
       "    </tr>\n",
       "    <tr>\n",
       "      <th>107857</th>\n",
       "      <td>0.0244</td>\n",
       "      <td>0.0024</td>\n",
       "      <td>0.0049</td>\n",
       "      <td>0.0903</td>\n",
       "      <td>0.0024</td>\n",
       "      <td>0.0024</td>\n",
       "      <td>0.2246</td>\n",
       "      <td>0.2148</td>\n",
       "      <td>0.0049</td>\n",
       "      <td>0.1392</td>\n",
       "      <td>0</td>\n",
       "      <td>0</td>\n",
       "      <td>0</td>\n",
       "      <td>0</td>\n",
       "    </tr>\n",
       "    <tr>\n",
       "      <th>394921</th>\n",
       "      <td>0.0024</td>\n",
       "      <td>0.0024</td>\n",
       "      <td>0.0024</td>\n",
       "      <td>0.0049</td>\n",
       "      <td>0.0049</td>\n",
       "      <td>0.0024</td>\n",
       "      <td>0.0195</td>\n",
       "      <td>0.0049</td>\n",
       "      <td>0.0024</td>\n",
       "      <td>0.0806</td>\n",
       "      <td>0</td>\n",
       "      <td>0</td>\n",
       "      <td>0</td>\n",
       "      <td>0</td>\n",
       "    </tr>\n",
       "  </tbody>\n",
       "</table>\n",
       "</div>"
      ],
      "text/plain": [
       "          Emg1    Emg2    Emg3    Emg4    Emg5    Emg6    Emg7    Emg8  \\\n",
       "13905   0.3589  0.2881  0.1660  0.0024  0.0024  0.0024  0.4834  0.2295   \n",
       "106172  0.0806  0.0024  0.0024  0.1416  0.0049  0.0024  0.1563  0.4028   \n",
       "333314  0.8618  0.2979  0.2026  0.2173  0.0122  0.0439  0.1245  1.0327   \n",
       "107857  0.0244  0.0024  0.0049  0.0903  0.0024  0.0024  0.2246  0.2148   \n",
       "394921  0.0024  0.0024  0.0024  0.0049  0.0049  0.0024  0.0195  0.0049   \n",
       "\n",
       "          Emg9   Emg10  repetition  rerepetition  stimulus  restimulus  \n",
       "13905   0.0659  0.9033           7             7         2           2  \n",
       "106172  0.0049  0.0830           0             0         0           0  \n",
       "333314  0.1196  0.0879           6             6        10          10  \n",
       "107857  0.0049  0.1392           0             0         0           0  \n",
       "394921  0.0024  0.0806           0             0         0           0  "
      ]
     },
     "execution_count": 11,
     "metadata": {},
     "output_type": "execute_result"
    }
   ],
   "source": [
    "raw_data.sample(5)"
   ]
  },
  {
   "cell_type": "code",
   "execution_count": 12,
   "id": "ab84cf47",
   "metadata": {},
   "outputs": [
    {
     "data": {
      "text/plain": [
       "(364904, 14)"
      ]
     },
     "execution_count": 12,
     "metadata": {},
     "output_type": "execute_result"
    }
   ],
   "source": [
    "raw_data.shape"
   ]
  },
  {
   "cell_type": "code",
   "execution_count": 13,
   "id": "fcb24936",
   "metadata": {},
   "outputs": [
    {
     "name": "stdout",
     "output_type": "stream",
     "text": [
      "<class 'pandas.core.frame.DataFrame'>\n",
      "Int64Index: 364904 entries, 0 to 463777\n",
      "Data columns (total 14 columns):\n",
      " #   Column        Non-Null Count   Dtype  \n",
      "---  ------        --------------   -----  \n",
      " 0   Emg1          364904 non-null  float64\n",
      " 1   Emg2          364904 non-null  float64\n",
      " 2   Emg3          364904 non-null  float64\n",
      " 3   Emg4          364904 non-null  float64\n",
      " 4   Emg5          364904 non-null  float64\n",
      " 5   Emg6          364904 non-null  float64\n",
      " 6   Emg7          364904 non-null  float64\n",
      " 7   Emg8          364904 non-null  float64\n",
      " 8   Emg9          364904 non-null  float64\n",
      " 9   Emg10         364904 non-null  float64\n",
      " 10  repetition    364904 non-null  int64  \n",
      " 11  rerepetition  364904 non-null  int64  \n",
      " 12  stimulus      364904 non-null  int64  \n",
      " 13  restimulus    364904 non-null  int64  \n",
      "dtypes: float64(10), int64(4)\n",
      "memory usage: 41.8 MB\n"
     ]
    }
   ],
   "source": [
    "raw_data.info()"
   ]
  },
  {
   "cell_type": "code",
   "execution_count": 14,
   "id": "8ada4ef1",
   "metadata": {},
   "outputs": [
    {
     "name": "stdout",
     "output_type": "stream",
     "text": [
      "Emg1            False\n",
      "Emg2            False\n",
      "Emg3            False\n",
      "Emg4            False\n",
      "Emg5            False\n",
      "Emg6            False\n",
      "Emg7            False\n",
      "Emg8            False\n",
      "Emg9            False\n",
      "Emg10           False\n",
      "repetition      False\n",
      "rerepetition    False\n",
      "stimulus        False\n",
      "restimulus      False\n",
      "dtype: bool\n"
     ]
    }
   ],
   "source": [
    "print(raw_data.isnull().any())"
   ]
  },
  {
   "cell_type": "code",
   "execution_count": 15,
   "id": "138ec425",
   "metadata": {},
   "outputs": [],
   "source": [
    "X = raw_data.iloc[:,0:10]\n",
    "y = raw_data.stimulus"
   ]
  },
  {
   "cell_type": "code",
   "execution_count": 16,
   "id": "9c1574d6",
   "metadata": {},
   "outputs": [],
   "source": [
    "# Splitting data for training and testing\n",
    "X_train, X_test, y_train, y_test = train_test_split(X, y, test_size = 0.2, random_state = 39)"
   ]
  },
  {
   "cell_type": "markdown",
   "id": "e657abbe",
   "metadata": {},
   "source": [
    "# Machine Learning Models"
   ]
  },
  {
   "cell_type": "markdown",
   "id": "8743ea5d",
   "metadata": {},
   "source": [
    "# Decision Tree"
   ]
  },
  {
   "cell_type": "code",
   "execution_count": 17,
   "id": "dbe7e4c1",
   "metadata": {},
   "outputs": [
    {
     "data": {
      "text/plain": [
       "DecisionTreeClassifier()"
      ]
     },
     "execution_count": 17,
     "metadata": {},
     "output_type": "execute_result"
    }
   ],
   "source": [
    "from sklearn import tree\n",
    "tree = tree.DecisionTreeClassifier()\n",
    "tree.fit(X_train, y_train)"
   ]
  },
  {
   "cell_type": "code",
   "execution_count": 18,
   "id": "bcb8239c",
   "metadata": {},
   "outputs": [],
   "source": [
    "y_pred1 = tree.predict(X_test)"
   ]
  },
  {
   "cell_type": "code",
   "execution_count": 19,
   "id": "95712989",
   "metadata": {},
   "outputs": [
    {
     "name": "stdout",
     "output_type": "stream",
     "text": [
      "Accuracy is: 87.87081569175538\n"
     ]
    }
   ],
   "source": [
    "from sklearn.metrics import accuracy_score\n",
    "accuracy = {accuracy_score(y_test, y_pred1)}\n",
    "print(f\"Accuracy is: {accuracy_score(y_test, y_pred1)* 100}\")"
   ]
  },
  {
   "cell_type": "code",
   "execution_count": 20,
   "id": "e1e5a0b3",
   "metadata": {},
   "outputs": [
    {
     "name": "stdout",
     "output_type": "stream",
     "text": [
      "\u001b[1mClassification report : \u001b[0m\n",
      "               precision    recall  f1-score   support\n",
      "\n",
      "           0       0.95      0.95      0.95     38104\n",
      "           1       0.82      0.85      0.83      2099\n",
      "           2       0.87      0.85      0.86      1914\n",
      "           3       0.84      0.84      0.84      2255\n",
      "           4       0.86      0.87      0.86      1818\n",
      "           5       0.85      0.85      0.85      1809\n",
      "           6       0.83      0.84      0.83      1892\n",
      "           7       0.81      0.82      0.81      1918\n",
      "           8       0.78      0.78      0.78      1790\n",
      "           9       0.70      0.72      0.71      2140\n",
      "          10       0.64      0.65      0.64      2007\n",
      "          11       0.77      0.76      0.77      1897\n",
      "          12       0.75      0.78      0.76      1891\n",
      "          13       0.82      0.82      0.82      1233\n",
      "          14       0.76      0.76      0.76      1292\n",
      "          15       0.81      0.80      0.81      1372\n",
      "          16       0.85      0.85      0.85      1510\n",
      "          17       0.83      0.81      0.82      1497\n",
      "          18       0.78      0.78      0.78       696\n",
      "          19       0.69      0.72      0.71       807\n",
      "          20       0.85      0.84      0.85       682\n",
      "          21       0.78      0.76      0.77       764\n",
      "          22       0.79      0.80      0.80       701\n",
      "          23       0.91      0.92      0.92       893\n",
      "\n",
      "    accuracy                           0.88     72981\n",
      "   macro avg       0.81      0.81      0.81     72981\n",
      "weighted avg       0.88      0.88      0.88     72981\n",
      "\n",
      "\u001b[1mConfusion Matrix : \u001b[0m\n"
     ]
    },
    {
     "data": {
      "image/png": "[encoded data removed]",
      "text/plain": [
       "<Figure size 432x288 with 2 Axes>"
      ]
     },
     "metadata": {
      "needs_background": "light"
     },
     "output_type": "display_data"
    }
   ],
   "source": [
    "print('\\033[1m' +'Classification report : '+ '\\033[0m\\n', classification_report(y_test, y_pred1))\n",
    "\n",
    "cm = confusion_matrix(y_pred1, y_test)\n",
    "print('\\033[1m' +'Confusion Matrix : '+ '\\033[0m')\n",
    "sns.heatmap(cm, cmap = 'OrRd',annot = True, fmt='d')\n",
    "plt.show()"
   ]
  },
  {
   "cell_type": "markdown",
   "id": "4ebcef17",
   "metadata": {},
   "source": [
    "# Evaluation -- Decision Tree"
   ]
  },
  {
   "cell_type": "code",
   "execution_count": 21,
   "id": "cbae2add",
   "metadata": {},
   "outputs": [
    {
     "name": "stdout",
     "output_type": "stream",
     "text": [
      "MAE: 0.8798728436168318\n",
      "MSE: 9.57391649881476\n",
      "RMSE: 3.0941746070341214\n"
     ]
    }
   ],
   "source": [
    "from sklearn import metrics\n",
    "\n",
    "print('MAE:', metrics.mean_absolute_error(y_test,y_pred1))\n",
    "print('MSE:', metrics.mean_squared_error(y_test, y_pred1))\n",
    "print('RMSE:', np.sqrt(metrics.mean_squared_error(y_test, y_pred1)))"
   ]
  },
  {
   "cell_type": "code",
   "execution_count": 22,
   "id": "f7ac1ceb",
   "metadata": {},
   "outputs": [
    {
     "name": "stdout",
     "output_type": "stream",
     "text": [
      "Precision Score :  0.8794757757321887\n",
      "Recall Score :  0.8787081569175539\n",
      "f1_score :  0.8790527451958174\n"
     ]
    }
   ],
   "source": [
    "from sklearn.metrics import precision_score\n",
    "print(\"Precision Score : \",precision_score(y_test, y_pred1, average='weighted'))\n",
    "\n",
    "\n",
    "from sklearn.metrics import recall_score\n",
    "print(\"Recall Score : \",recall_score(y_test, y_pred1,average='weighted'))\n",
    "\n",
    "\n",
    "from sklearn.metrics import f1_score\n",
    "print(\"f1_score : \",f1_score(y_test, y_pred1,average='weighted'))"
   ]
  },
  {
   "cell_type": "markdown",
   "id": "f901aeef",
   "metadata": {},
   "source": [
    "# KNeighborsClassifier"
   ]
  },
  {
   "cell_type": "code",
   "execution_count": 23,
   "id": "15fd9ac9",
   "metadata": {},
   "outputs": [
    {
     "data": {
      "text/plain": [
       "KNeighborsClassifier()"
      ]
     },
     "execution_count": 23,
     "metadata": {},
     "output_type": "execute_result"
    }
   ],
   "source": [
    "from sklearn.neighbors import KNeighborsClassifier\n",
    "KNeighborsClassifier = KNeighborsClassifier()\n",
    "KNeighborsClassifier.fit(X_train, y_train)"
   ]
  },
  {
   "cell_type": "code",
   "execution_count": 24,
   "id": "da059a26",
   "metadata": {},
   "outputs": [],
   "source": [
    "y_pred2 = KNeighborsClassifier.predict(X_test)"
   ]
  },
  {
   "cell_type": "code",
   "execution_count": 25,
   "id": "1d358310",
   "metadata": {},
   "outputs": [
    {
     "name": "stdout",
     "output_type": "stream",
     "text": [
      "Accuracy is: 92.33225085981283\n"
     ]
    }
   ],
   "source": [
    "from sklearn.metrics import accuracy_score\n",
    "accuracy = {accuracy_score(y_test, y_pred2)}\n",
    "print(f\"Accuracy is: {accuracy_score(y_test, y_pred2)* 100}\")"
   ]
  },
  {
   "cell_type": "code",
   "execution_count": 26,
   "id": "5e0d6dfd",
   "metadata": {},
   "outputs": [
    {
     "name": "stdout",
     "output_type": "stream",
     "text": [
      "\u001b[1mClassification report : \u001b[0m\n",
      "               precision    recall  f1-score   support\n",
      "\n",
      "           0       0.94      0.99      0.96     38104\n",
      "           1       0.90      0.90      0.90      2099\n",
      "           2       0.92      0.91      0.91      1914\n",
      "           3       0.92      0.87      0.89      2255\n",
      "           4       0.93      0.92      0.92      1818\n",
      "           5       0.90      0.90      0.90      1809\n",
      "           6       0.93      0.89      0.91      1892\n",
      "           7       0.89      0.86      0.88      1918\n",
      "           8       0.89      0.82      0.85      1790\n",
      "           9       0.86      0.77      0.81      2140\n",
      "          10       0.87      0.70      0.77      2007\n",
      "          11       0.90      0.85      0.88      1897\n",
      "          12       0.90      0.85      0.87      1891\n",
      "          13       0.93      0.90      0.91      1233\n",
      "          14       0.86      0.83      0.85      1292\n",
      "          15       0.90      0.85      0.87      1372\n",
      "          16       0.94      0.89      0.91      1510\n",
      "          17       0.92      0.86      0.89      1497\n",
      "          18       0.90      0.84      0.87       696\n",
      "          19       0.84      0.74      0.79       807\n",
      "          20       0.93      0.87      0.90       682\n",
      "          21       0.92      0.82      0.87       764\n",
      "          22       0.89      0.84      0.86       701\n",
      "          23       0.96      0.93      0.95       893\n",
      "\n",
      "    accuracy                           0.92     72981\n",
      "   macro avg       0.90      0.86      0.88     72981\n",
      "weighted avg       0.92      0.92      0.92     72981\n",
      "\n",
      "\u001b[1mConfusion Matrix : \u001b[0m\n"
     ]
    },
    {
     "data": {
      "image/png": "[encoded data removed]",
      "text/plain": [
       "<Figure size 432x288 with 2 Axes>"
      ]
     },
     "metadata": {
      "needs_background": "light"
     },
     "output_type": "display_data"
    }
   ],
   "source": [
    "print('\\033[1m' +'Classification report : '+ '\\033[0m\\n', classification_report(y_test, y_pred2))\n",
    "\n",
    "cm = confusion_matrix(y_pred2, y_test)\n",
    "print('\\033[1m' +'Confusion Matrix : '+ '\\033[0m')\n",
    "sns.heatmap(cm, cmap = 'OrRd',annot = True, fmt='d')\n",
    "plt.show()"
   ]
  },
  {
   "cell_type": "markdown",
   "id": "d8d41935",
   "metadata": {},
   "source": [
    "# Evaluation -- KNeighborsClassifier"
   ]
  },
  {
   "cell_type": "code",
   "execution_count": 27,
   "id": "bd1c5fe9",
   "metadata": {},
   "outputs": [
    {
     "name": "stdout",
     "output_type": "stream",
     "text": [
      "MAE: 0.5917978651977912\n",
      "MSE: 6.749784190405722\n",
      "RMSE: 2.5980346784455595\n"
     ]
    }
   ],
   "source": [
    "from sklearn import metrics\n",
    "\n",
    "print('MAE:', metrics.mean_absolute_error(y_test,y_pred2))\n",
    "print('MSE:', metrics.mean_squared_error(y_test, y_pred2))\n",
    "print('RMSE:', np.sqrt(metrics.mean_squared_error(y_test, y_pred2)))"
   ]
  },
  {
   "cell_type": "code",
   "execution_count": 28,
   "id": "de3e3c02",
   "metadata": {},
   "outputs": [
    {
     "name": "stdout",
     "output_type": "stream",
     "text": [
      "Precision Score :  0.9220724163795396\n",
      "Recall Score :  0.9233225085981283\n",
      "f1_score :  0.921795963545671\n"
     ]
    }
   ],
   "source": [
    "from sklearn.metrics import precision_score\n",
    "print(\"Precision Score : \",precision_score(y_test, y_pred2, average='weighted'))\n",
    "\n",
    "\n",
    "from sklearn.metrics import recall_score\n",
    "print(\"Recall Score : \",recall_score(y_test, y_pred2,average='weighted'))\n",
    "\n",
    "\n",
    "from sklearn.metrics import f1_score\n",
    "print(\"f1_score : \",f1_score(y_test, y_pred2,average='weighted'))"
   ]
  },
  {
   "cell_type": "markdown",
   "id": "5065ae39",
   "metadata": {},
   "source": [
    "# Random Forest"
   ]
  },
  {
   "cell_type": "code",
   "execution_count": 29,
   "id": "be857e35",
   "metadata": {},
   "outputs": [
    {
     "data": {
      "text/plain": [
       "RandomForestClassifier()"
      ]
     },
     "execution_count": 29,
     "metadata": {},
     "output_type": "execute_result"
    }
   ],
   "source": [
    "from sklearn.ensemble import RandomForestClassifier\n",
    "RandomForestClassifier = RandomForestClassifier()\n",
    "RandomForestClassifier.fit(X_train, y_train)"
   ]
  },
  {
   "cell_type": "code",
   "execution_count": 30,
   "id": "544a9fa7",
   "metadata": {},
   "outputs": [],
   "source": [
    "y_pred3 = RandomForestClassifier.predict(X_test)"
   ]
  },
  {
   "cell_type": "code",
   "execution_count": 31,
   "id": "a0daf4ac",
   "metadata": {},
   "outputs": [
    {
     "name": "stdout",
     "output_type": "stream",
     "text": [
      "Accuracy is: 94.76850139077294\n"
     ]
    }
   ],
   "source": [
    "from sklearn.metrics import accuracy_score\n",
    "accuracy = {accuracy_score(y_test, y_pred3)}\n",
    "print(f\"Accuracy is: {accuracy_score(y_test, y_pred3)* 100}\")"
   ]
  },
  {
   "cell_type": "code",
   "execution_count": 32,
   "id": "17ccca6d",
   "metadata": {},
   "outputs": [
    {
     "name": "stdout",
     "output_type": "stream",
     "text": [
      "\u001b[1mClassification report : \u001b[0m\n",
      "               precision    recall  f1-score   support\n",
      "\n",
      "           0       0.95      0.99      0.97     38104\n",
      "           1       0.95      0.92      0.93      2099\n",
      "           2       0.97      0.94      0.95      1914\n",
      "           3       0.96      0.89      0.92      2255\n",
      "           4       0.97      0.95      0.96      1818\n",
      "           5       0.95      0.94      0.94      1809\n",
      "           6       0.97      0.92      0.94      1892\n",
      "           7       0.95      0.90      0.92      1918\n",
      "           8       0.94      0.87      0.90      1790\n",
      "           9       0.91      0.80      0.85      2140\n",
      "          10       0.93      0.72      0.82      2007\n",
      "          11       0.94      0.89      0.91      1897\n",
      "          12       0.95      0.89      0.92      1891\n",
      "          13       0.97      0.94      0.95      1233\n",
      "          14       0.92      0.89      0.91      1292\n",
      "          15       0.95      0.92      0.94      1372\n",
      "          16       0.98      0.95      0.96      1510\n",
      "          17       0.96      0.94      0.95      1497\n",
      "          18       0.92      0.91      0.91       696\n",
      "          19       0.91      0.81      0.86       807\n",
      "          20       0.98      0.93      0.95       682\n",
      "          21       0.95      0.89      0.92       764\n",
      "          22       0.96      0.91      0.93       701\n",
      "          23       0.98      0.98      0.98       893\n",
      "\n",
      "    accuracy                           0.95     72981\n",
      "   macro avg       0.95      0.90      0.93     72981\n",
      "weighted avg       0.95      0.95      0.95     72981\n",
      "\n",
      "\u001b[1mConfusion Matrix : \u001b[0m\n"
     ]
    },
    {
     "data": {
      "image/png": "[encoded data removed]",
      "text/plain": [
       "<Figure size 432x288 with 2 Axes>"
      ]
     },
     "metadata": {
      "needs_background": "light"
     },
     "output_type": "display_data"
    }
   ],
   "source": [
    "print('\\033[1m' +'Classification report : '+ '\\033[0m\\n', classification_report(y_test, y_pred3))\n",
    "\n",
    "cm = confusion_matrix(y_pred3, y_test)\n",
    "print('\\033[1m' +'Confusion Matrix : '+ '\\033[0m')\n",
    "sns.heatmap(cm, cmap = 'OrRd',annot = True, fmt='d')\n",
    "plt.show()"
   ]
  },
  {
   "cell_type": "markdown",
   "id": "bf149f54",
   "metadata": {},
   "source": [
    "# Evaluation -- Random Forest"
   ]
  },
  {
   "cell_type": "code",
   "execution_count": 33,
   "id": "44b863ad",
   "metadata": {},
   "outputs": [
    {
     "name": "stdout",
     "output_type": "stream",
     "text": [
      "MAE: 0.4131897343144106\n",
      "MSE: 4.687809155807676\n",
      "RMSE: 2.1651349047594417\n"
     ]
    }
   ],
   "source": [
    "from sklearn import metrics\n",
    "\n",
    "print('MAE:', metrics.mean_absolute_error(y_test,y_pred3))\n",
    "print('MSE:', metrics.mean_squared_error(y_test, y_pred3))\n",
    "print('RMSE:', np.sqrt(metrics.mean_squared_error(y_test, y_pred3)))"
   ]
  },
  {
   "cell_type": "code",
   "execution_count": 34,
   "id": "f40def00",
   "metadata": {},
   "outputs": [
    {
     "name": "stdout",
     "output_type": "stream",
     "text": [
      "Precision Score :  0.9475677819399647\n",
      "Recall Score :  0.9476850139077294\n",
      "f1_score :  0.9466201400062003\n"
     ]
    }
   ],
   "source": [
    "from sklearn.metrics import precision_score\n",
    "print(\"Precision Score : \",precision_score(y_test, y_pred3, average='weighted'))\n",
    "\n",
    "\n",
    "from sklearn.metrics import recall_score\n",
    "print(\"Recall Score : \",recall_score(y_test, y_pred3,average='weighted'))\n",
    "\n",
    "\n",
    "from sklearn.metrics import f1_score\n",
    "print(\"f1_score : \",f1_score(y_test, y_pred3,average='weighted'))"
   ]
  },
  {
   "cell_type": "markdown",
   "id": "fc99a8db",
   "metadata": {},
   "source": [
    "# XGBoost"
   ]
  },
  {
   "cell_type": "code",
   "execution_count": 35,
   "id": "cf92a2ce",
   "metadata": {},
   "outputs": [
    {
     "name": "stderr",
     "output_type": "stream",
     "text": [
      "E:\\MachineLearning\\envs\\gpu\\lib\\site-packages\\xgboost\\compat.py:36: FutureWarning: pandas.Int64Index is deprecated and will be removed from pandas in a future version. Use pandas.Index with the appropriate dtype instead.\n",
      "  from pandas import MultiIndex, Int64Index\n",
      "E:\\MachineLearning\\envs\\gpu\\lib\\site-packages\\xgboost\\sklearn.py:1224: UserWarning: The use of label encoder in XGBClassifier is deprecated and will be removed in a future release. To remove this warning, do the following: 1) Pass option use_label_encoder=False when constructing XGBClassifier object; and 2) Encode your labels (y) as integers starting with 0, i.e. 0, 1, 2, ..., [num_class - 1].\n",
      "  warnings.warn(label_encoder_deprecation_msg, UserWarning)\n",
      "E:\\MachineLearning\\envs\\gpu\\lib\\site-packages\\xgboost\\data.py:262: FutureWarning: pandas.Int64Index is deprecated and will be removed from pandas in a future version. Use pandas.Index with the appropriate dtype instead.\n",
      "  elif isinstance(data.columns, (pd.Int64Index, pd.RangeIndex)):\n"
     ]
    },
    {
     "name": "stdout",
     "output_type": "stream",
     "text": [
      "[12:46:53] WARNING: C:/Users/Administrator/workspace/xgboost-win64_release_1.5.1/src/learner.cc:1115: Starting in XGBoost 1.3.0, the default evaluation metric used with the objective 'multi:softprob' was changed from 'merror' to 'mlogloss'. Explicitly set eval_metric if you'd like to restore the old behavior.\n"
     ]
    },
    {
     "data": {
      "text/plain": [
       "XGBClassifier(base_score=0.5, booster='gbtree', colsample_bylevel=1,\n",
       "              colsample_bynode=1, colsample_bytree=1, enable_categorical=False,\n",
       "              gamma=0, gpu_id=-1, importance_type=None,\n",
       "              interaction_constraints='', learning_rate=0.300000012,\n",
       "              max_delta_step=0, max_depth=6, min_child_weight=1, missing=nan,\n",
       "              monotone_constraints='()', n_estimators=100, n_jobs=12,\n",
       "              num_parallel_tree=1, objective='multi:softprob', predictor='auto',\n",
       "              random_state=0, reg_alpha=0, reg_lambda=1, scale_pos_weight=None,\n",
       "              subsample=1, tree_method='exact', validate_parameters=1,\n",
       "              verbosity=None)"
      ]
     },
     "execution_count": 35,
     "metadata": {},
     "output_type": "execute_result"
    }
   ],
   "source": [
    "from xgboost import XGBClassifier\n",
    "xgb = XGBClassifier()\n",
    "xgb.fit(X_train, y_train)"
   ]
  },
  {
   "cell_type": "code",
   "execution_count": 36,
   "id": "122b4ba0",
   "metadata": {},
   "outputs": [],
   "source": [
    "y_pred4 = xgb.predict(X_test)"
   ]
  },
  {
   "cell_type": "code",
   "execution_count": 37,
   "id": "022138ba",
   "metadata": {},
   "outputs": [
    {
     "name": "stdout",
     "output_type": "stream",
     "text": [
      "Accuracy is: 90.87570737589236\n"
     ]
    }
   ],
   "source": [
    "from sklearn.metrics import accuracy_score\n",
    "accuracy = {accuracy_score(y_test, y_pred4)}\n",
    "print(f\"Accuracy is: {accuracy_score(y_test, y_pred4)* 100}\")"
   ]
  },
  {
   "cell_type": "code",
   "execution_count": 38,
   "id": "269a9899",
   "metadata": {},
   "outputs": [
    {
     "name": "stdout",
     "output_type": "stream",
     "text": [
      "\u001b[1mClassification report : \u001b[0m\n",
      "               precision    recall  f1-score   support\n",
      "\n",
      "           0       0.93      0.99      0.96     38104\n",
      "           1       0.88      0.86      0.87      2099\n",
      "           2       0.91      0.88      0.89      1914\n",
      "           3       0.92      0.83      0.87      2255\n",
      "           4       0.90      0.89      0.90      1818\n",
      "           5       0.89      0.89      0.89      1809\n",
      "           6       0.92      0.85      0.88      1892\n",
      "           7       0.87      0.82      0.84      1918\n",
      "           8       0.85      0.79      0.82      1790\n",
      "           9       0.82      0.71      0.76      2140\n",
      "          10       0.87      0.64      0.74      2007\n",
      "          11       0.85      0.80      0.83      1897\n",
      "          12       0.83      0.78      0.80      1891\n",
      "          13       0.89      0.85      0.87      1233\n",
      "          14       0.83      0.79      0.81      1292\n",
      "          15       0.87      0.85      0.86      1372\n",
      "          16       0.90      0.88      0.89      1510\n",
      "          17       0.91      0.86      0.89      1497\n",
      "          18       0.88      0.83      0.85       696\n",
      "          19       0.79      0.73      0.76       807\n",
      "          20       0.91      0.88      0.90       682\n",
      "          21       0.88      0.79      0.83       764\n",
      "          22       0.87      0.81      0.84       701\n",
      "          23       0.96      0.97      0.96       893\n",
      "\n",
      "    accuracy                           0.91     72981\n",
      "   macro avg       0.88      0.83      0.86     72981\n",
      "weighted avg       0.91      0.91      0.91     72981\n",
      "\n",
      "\u001b[1mConfusion Matrix : \u001b[0m\n"
     ]
    },
    {
     "data": {
      "image/png": "[encoded data removed]",
      "text/plain": [
       "<Figure size 432x288 with 2 Axes>"
      ]
     },
     "metadata": {
      "needs_background": "light"
     },
     "output_type": "display_data"
    }
   ],
   "source": [
    "print('\\033[1m' +'Classification report : '+ '\\033[0m\\n', classification_report(y_test, y_pred4))\n",
    "\n",
    "cm = confusion_matrix(y_pred4, y_test)\n",
    "print('\\033[1m' +'Confusion Matrix : '+ '\\033[0m')\n",
    "sns.heatmap(cm, cmap = 'OrRd',annot = True, fmt='d')\n",
    "plt.show()"
   ]
  },
  {
   "cell_type": "markdown",
   "id": "3031b603",
   "metadata": {},
   "source": [
    "# Evaluation -- XGBoost"
   ]
  },
  {
   "cell_type": "code",
   "execution_count": 39,
   "id": "f5efef7b",
   "metadata": {},
   "outputs": [
    {
     "name": "stdout",
     "output_type": "stream",
     "text": [
      "MAE: 0.6526767240788699\n",
      "MSE: 7.161822940217317\n",
      "RMSE: 2.6761582427459922\n"
     ]
    }
   ],
   "source": [
    "from sklearn import metrics\n",
    "\n",
    "print('MAE:', metrics.mean_absolute_error(y_test,y_pred4))\n",
    "print('MSE:', metrics.mean_squared_error(y_test, y_pred4))\n",
    "print('RMSE:', np.sqrt(metrics.mean_squared_error(y_test, y_pred4)))"
   ]
  },
  {
   "cell_type": "code",
   "execution_count": 40,
   "id": "36005adc",
   "metadata": {},
   "outputs": [
    {
     "name": "stdout",
     "output_type": "stream",
     "text": [
      "Precision Score :  0.9067541933995692\n",
      "Recall Score :  0.9087570737589236\n",
      "f1_score :  0.9064788633069454\n"
     ]
    }
   ],
   "source": [
    "from sklearn.metrics import precision_score\n",
    "print(\"Precision Score : \",precision_score(y_test, y_pred4, average='weighted'))\n",
    "\n",
    "\n",
    "from sklearn.metrics import recall_score\n",
    "print(\"Recall Score : \",recall_score(y_test, y_pred4,average='weighted'))\n",
    "\n",
    "\n",
    "from sklearn.metrics import f1_score\n",
    "print(\"f1_score : \",f1_score(y_test, y_pred4,average='weighted'))"
   ]
  },
  {
   "cell_type": "markdown",
   "id": "5805a6f2",
   "metadata": {},
   "source": [
    "# ExtraTreesClassifier"
   ]
  },
  {
   "cell_type": "code",
   "execution_count": 41,
   "id": "bb5c43f7",
   "metadata": {},
   "outputs": [
    {
     "data": {
      "text/plain": [
       "ExtraTreesClassifier()"
      ]
     },
     "execution_count": 41,
     "metadata": {},
     "output_type": "execute_result"
    }
   ],
   "source": [
    "from sklearn.ensemble import ExtraTreesClassifier\n",
    "extratree = ExtraTreesClassifier()\n",
    "extratree.fit(X_train, y_train)"
   ]
  },
  {
   "cell_type": "code",
   "execution_count": 42,
   "id": "71002958",
   "metadata": {},
   "outputs": [],
   "source": [
    "y_pred5 = extratree.predict(X_test)"
   ]
  },
  {
   "cell_type": "code",
   "execution_count": 43,
   "id": "b61749b4",
   "metadata": {},
   "outputs": [
    {
     "name": "stdout",
     "output_type": "stream",
     "text": [
      "Accuracy is: 95.03706444142996\n"
     ]
    }
   ],
   "source": [
    "from sklearn.metrics import accuracy_score\n",
    "accuracy = {accuracy_score(y_test, y_pred5)}\n",
    "print(f\"Accuracy is: {accuracy_score(y_test, y_pred5)* 100}\")"
   ]
  },
  {
   "cell_type": "code",
   "execution_count": 44,
   "id": "06532654",
   "metadata": {},
   "outputs": [
    {
     "name": "stdout",
     "output_type": "stream",
     "text": [
      "\u001b[1mClassification report : \u001b[0m\n",
      "               precision    recall  f1-score   support\n",
      "\n",
      "           0       0.94      1.00      0.97     38104\n",
      "           1       0.96      0.92      0.94      2099\n",
      "           2       0.97      0.95      0.96      1914\n",
      "           3       0.97      0.89      0.93      2255\n",
      "           4       0.98      0.95      0.96      1818\n",
      "           5       0.96      0.95      0.95      1809\n",
      "           6       0.97      0.93      0.95      1892\n",
      "           7       0.96      0.90      0.93      1918\n",
      "           8       0.95      0.88      0.91      1790\n",
      "           9       0.92      0.82      0.87      2140\n",
      "          10       0.94      0.73      0.82      2007\n",
      "          11       0.95      0.90      0.92      1897\n",
      "          12       0.96      0.89      0.93      1891\n",
      "          13       0.98      0.95      0.97      1233\n",
      "          14       0.94      0.89      0.91      1292\n",
      "          15       0.96      0.93      0.94      1372\n",
      "          16       0.98      0.95      0.96      1510\n",
      "          17       0.98      0.94      0.96      1497\n",
      "          18       0.94      0.89      0.92       696\n",
      "          19       0.92      0.81      0.86       807\n",
      "          20       0.98      0.94      0.96       682\n",
      "          21       0.97      0.93      0.95       764\n",
      "          22       0.97      0.94      0.95       701\n",
      "          23       0.98      0.98      0.98       893\n",
      "\n",
      "    accuracy                           0.95     72981\n",
      "   macro avg       0.96      0.91      0.93     72981\n",
      "weighted avg       0.95      0.95      0.95     72981\n",
      "\n",
      "\u001b[1mConfusion Matrix : \u001b[0m\n"
     ]
    },
    {
     "data": {
      "image/png": "[encoded data removed]",
      "text/plain": [
       "<Figure size 432x288 with 2 Axes>"
      ]
     },
     "metadata": {
      "needs_background": "light"
     },
     "output_type": "display_data"
    }
   ],
   "source": [
    "print('\\033[1m' +'Classification report : '+ '\\033[0m\\n', classification_report(y_test, y_pred5))\n",
    "\n",
    "cm = confusion_matrix(y_pred5, y_test)\n",
    "print('\\033[1m' +'Confusion Matrix : '+ '\\033[0m')\n",
    "sns.heatmap(cm, cmap = 'OrRd',annot = True, fmt='d')\n",
    "plt.show()"
   ]
  },
  {
   "cell_type": "markdown",
   "id": "2b86af64",
   "metadata": {},
   "source": [
    "# Evaluation -- ExtraTreesClassifier"
   ]
  },
  {
   "cell_type": "code",
   "execution_count": 45,
   "id": "a9e47f87",
   "metadata": {},
   "outputs": [
    {
     "name": "stdout",
     "output_type": "stream",
     "text": [
      "MAE: 0.4085446897137611\n",
      "MSE: 4.706266014442115\n",
      "RMSE: 2.169393005990873\n"
     ]
    }
   ],
   "source": [
    "from sklearn import metrics\n",
    "\n",
    "print('MAE:', metrics.mean_absolute_error(y_test,y_pred5))\n",
    "print('MSE:', metrics.mean_squared_error(y_test, y_pred5))\n",
    "print('RMSE:', np.sqrt(metrics.mean_squared_error(y_test, y_pred5)))"
   ]
  },
  {
   "cell_type": "code",
   "execution_count": 46,
   "id": "6d09ec03",
   "metadata": {},
   "outputs": [
    {
     "name": "stdout",
     "output_type": "stream",
     "text": [
      "Precision Score :  0.9506587289899406\n",
      "Recall Score :  0.9503706444142996\n",
      "f1_score :  0.9493850853621062\n"
     ]
    }
   ],
   "source": [
    "from sklearn.metrics import precision_score\n",
    "print(\"Precision Score : \",precision_score(y_test, y_pred5, average='weighted'))\n",
    "\n",
    "\n",
    "from sklearn.metrics import recall_score\n",
    "print(\"Recall Score : \",recall_score(y_test, y_pred5,average='weighted'))\n",
    "\n",
    "\n",
    "from sklearn.metrics import f1_score\n",
    "print(\"f1_score : \",f1_score(y_test, y_pred5,average='weighted'))"
   ]
  },
  {
   "cell_type": "code",
   "execution_count": null,
   "id": "292f2127",
   "metadata": {},
   "outputs": [],
   "source": []
  }
 ],
 "metadata": {
  "kernelspec": {
   "display_name": "Python 3 (ipykernel)",
   "language": "python",
   "name": "python3"
  },
  "language_info": {
   "codemirror_mode": {
    "name": "ipython",
    "version": 3
   },
   "file_extension": ".py",
   "mimetype": "text/x-python",
   "name": "python",
   "nbconvert_exporter": "python",
   "pygments_lexer": "ipython3",
   "version": "3.8.12"
  }
 },
 "nbformat": 4,
 "nbformat_minor": 5
}
