{
 "cells": [
  {
   "cell_type": "markdown",
   "id": "5146ed0c",
   "metadata": {},
   "source": [
    "# Importing Libraries"
   ]
  },
  {
   "cell_type": "code",
   "execution_count": 1,
   "id": "3045e9ed",
   "metadata": {},
   "outputs": [],
   "source": [
    "import numpy as np\n",
    "import pandas as pd\n",
    "import matplotlib.pyplot as plt\n",
    "import seaborn as sns\n",
    "from sklearn.model_selection import train_test_split\n",
    "from sklearn.metrics import confusion_matrix, f1_score, accuracy_score, classification_report"
   ]
  },
  {
   "cell_type": "markdown",
   "id": "42648960",
   "metadata": {},
   "source": [
    "# Exploratory Data Analysis"
   ]
  },
  {
   "cell_type": "code",
   "execution_count": 2,
   "id": "c6cab329",
   "metadata": {
    "scrolled": false
   },
   "outputs": [
    {
     "data": {
      "text/html": [
       "<div>\n",
       "<style scoped>\n",
       "    .dataframe tbody tr th:only-of-type {\n",
       "        vertical-align: middle;\n",
       "    }\n",
       "\n",
       "    .dataframe tbody tr th {\n",
       "        vertical-align: top;\n",
       "    }\n",
       "\n",
       "    .dataframe thead th {\n",
       "        text-align: right;\n",
       "    }\n",
       "</style>\n",
       "<table border=\"1\" class=\"dataframe\">\n",
       "  <thead>\n",
       "    <tr style=\"text-align: right;\">\n",
       "      <th></th>\n",
       "      <th>Emg1</th>\n",
       "      <th>Emg2</th>\n",
       "      <th>Emg3</th>\n",
       "      <th>Emg4</th>\n",
       "      <th>Emg5</th>\n",
       "      <th>Emg6</th>\n",
       "      <th>Emg7</th>\n",
       "      <th>Emg8</th>\n",
       "      <th>Emg9</th>\n",
       "      <th>Emg10</th>\n",
       "      <th>repetition</th>\n",
       "      <th>rerepetition</th>\n",
       "      <th>stimulus</th>\n",
       "      <th>restimulus</th>\n",
       "    </tr>\n",
       "  </thead>\n",
       "  <tbody>\n",
       "    <tr>\n",
       "      <th>334519</th>\n",
       "      <td>0.1953</td>\n",
       "      <td>0.0024</td>\n",
       "      <td>0.0024</td>\n",
       "      <td>0.0024</td>\n",
       "      <td>0.0024</td>\n",
       "      <td>0.0464</td>\n",
       "      <td>0.0928</td>\n",
       "      <td>0.0806</td>\n",
       "      <td>0.0024</td>\n",
       "      <td>0.1074</td>\n",
       "      <td>9</td>\n",
       "      <td>0</td>\n",
       "      <td>10</td>\n",
       "      <td>0</td>\n",
       "    </tr>\n",
       "    <tr>\n",
       "      <th>72659</th>\n",
       "      <td>0.5029</td>\n",
       "      <td>0.0757</td>\n",
       "      <td>0.0024</td>\n",
       "      <td>0.0024</td>\n",
       "      <td>0.0024</td>\n",
       "      <td>0.0317</td>\n",
       "      <td>0.3589</td>\n",
       "      <td>0.3076</td>\n",
       "      <td>0.1172</td>\n",
       "      <td>0.0781</td>\n",
       "      <td>7</td>\n",
       "      <td>7</td>\n",
       "      <td>9</td>\n",
       "      <td>9</td>\n",
       "    </tr>\n",
       "    <tr>\n",
       "      <th>207438</th>\n",
       "      <td>0.0220</td>\n",
       "      <td>0.0171</td>\n",
       "      <td>0.0024</td>\n",
       "      <td>0.0024</td>\n",
       "      <td>0.0024</td>\n",
       "      <td>0.0024</td>\n",
       "      <td>0.0659</td>\n",
       "      <td>0.0586</td>\n",
       "      <td>0.0244</td>\n",
       "      <td>0.0024</td>\n",
       "      <td>0</td>\n",
       "      <td>0</td>\n",
       "      <td>0</td>\n",
       "      <td>0</td>\n",
       "    </tr>\n",
       "    <tr>\n",
       "      <th>207352</th>\n",
       "      <td>0.0342</td>\n",
       "      <td>0.0879</td>\n",
       "      <td>0.0024</td>\n",
       "      <td>0.0024</td>\n",
       "      <td>0.0024</td>\n",
       "      <td>0.0098</td>\n",
       "      <td>0.0806</td>\n",
       "      <td>0.0464</td>\n",
       "      <td>0.0537</td>\n",
       "      <td>0.0830</td>\n",
       "      <td>7</td>\n",
       "      <td>0</td>\n",
       "      <td>13</td>\n",
       "      <td>0</td>\n",
       "    </tr>\n",
       "    <tr>\n",
       "      <th>245410</th>\n",
       "      <td>0.3809</td>\n",
       "      <td>0.0073</td>\n",
       "      <td>0.0024</td>\n",
       "      <td>0.0024</td>\n",
       "      <td>0.0024</td>\n",
       "      <td>0.0171</td>\n",
       "      <td>0.0415</td>\n",
       "      <td>0.1367</td>\n",
       "      <td>0.0342</td>\n",
       "      <td>0.0366</td>\n",
       "      <td>2</td>\n",
       "      <td>2</td>\n",
       "      <td>1</td>\n",
       "      <td>1</td>\n",
       "    </tr>\n",
       "  </tbody>\n",
       "</table>\n",
       "</div>"
      ],
      "text/plain": [
       "          Emg1    Emg2    Emg3    Emg4    Emg5    Emg6    Emg7    Emg8  \\\n",
       "334519  0.1953  0.0024  0.0024  0.0024  0.0024  0.0464  0.0928  0.0806   \n",
       "72659   0.5029  0.0757  0.0024  0.0024  0.0024  0.0317  0.3589  0.3076   \n",
       "207438  0.0220  0.0171  0.0024  0.0024  0.0024  0.0024  0.0659  0.0586   \n",
       "207352  0.0342  0.0879  0.0024  0.0024  0.0024  0.0098  0.0806  0.0464   \n",
       "245410  0.3809  0.0073  0.0024  0.0024  0.0024  0.0171  0.0415  0.1367   \n",
       "\n",
       "          Emg9   Emg10  repetition  rerepetition  stimulus  restimulus  \n",
       "334519  0.0024  0.1074           9             0        10           0  \n",
       "72659   0.1172  0.0781           7             7         9           9  \n",
       "207438  0.0244  0.0024           0             0         0           0  \n",
       "207352  0.0537  0.0830           7             0        13           0  \n",
       "245410  0.0342  0.0366           2             2         1           1  "
      ]
     },
     "execution_count": 2,
     "metadata": {},
     "output_type": "execute_result"
    }
   ],
   "source": [
    "raw_data = pd.read_excel('Dataset 1 Patient 4.xlsx')\n",
    "raw_data.sample(5)"
   ]
  },
  {
   "cell_type": "code",
   "execution_count": 3,
   "id": "8cad9bd6",
   "metadata": {},
   "outputs": [
    {
     "data": {
      "text/plain": [
       "(455868, 14)"
      ]
     },
     "execution_count": 3,
     "metadata": {},
     "output_type": "execute_result"
    }
   ],
   "source": [
    "raw_data.shape"
   ]
  },
  {
   "cell_type": "code",
   "execution_count": 4,
   "id": "d05a18f1",
   "metadata": {},
   "outputs": [
    {
     "data": {
      "text/plain": [
       "Index(['Emg1', 'Emg2', 'Emg3', 'Emg4', 'Emg5', 'Emg6', 'Emg7', 'Emg8', 'Emg9',\n",
       "       'Emg10', 'repetition', 'rerepetition', 'stimulus', 'restimulus'],\n",
       "      dtype='object')"
      ]
     },
     "execution_count": 4,
     "metadata": {},
     "output_type": "execute_result"
    }
   ],
   "source": [
    "raw_data.columns"
   ]
  },
  {
   "cell_type": "code",
   "execution_count": 5,
   "id": "259f05e6",
   "metadata": {},
   "outputs": [
    {
     "name": "stdout",
     "output_type": "stream",
     "text": [
      "<class 'pandas.core.frame.DataFrame'>\n",
      "RangeIndex: 455868 entries, 0 to 455867\n",
      "Data columns (total 14 columns):\n",
      " #   Column        Non-Null Count   Dtype  \n",
      "---  ------        --------------   -----  \n",
      " 0   Emg1          455868 non-null  float64\n",
      " 1   Emg2          455868 non-null  float64\n",
      " 2   Emg3          455868 non-null  float64\n",
      " 3   Emg4          455868 non-null  float64\n",
      " 4   Emg5          455868 non-null  float64\n",
      " 5   Emg6          455868 non-null  float64\n",
      " 6   Emg7          455868 non-null  float64\n",
      " 7   Emg8          455868 non-null  float64\n",
      " 8   Emg9          455868 non-null  float64\n",
      " 9   Emg10         455868 non-null  float64\n",
      " 10  repetition    455868 non-null  int64  \n",
      " 11  rerepetition  455868 non-null  int64  \n",
      " 12  stimulus      455868 non-null  int64  \n",
      " 13  restimulus    455868 non-null  int64  \n",
      "dtypes: float64(10), int64(4)\n",
      "memory usage: 48.7 MB\n"
     ]
    }
   ],
   "source": [
    "raw_data.info()"
   ]
  },
  {
   "cell_type": "code",
   "execution_count": 6,
   "id": "613a1cc1",
   "metadata": {},
   "outputs": [
    {
     "data": {
      "text/html": [
       "<div>\n",
       "<style scoped>\n",
       "    .dataframe tbody tr th:only-of-type {\n",
       "        vertical-align: middle;\n",
       "    }\n",
       "\n",
       "    .dataframe tbody tr th {\n",
       "        vertical-align: top;\n",
       "    }\n",
       "\n",
       "    .dataframe thead th {\n",
       "        text-align: right;\n",
       "    }\n",
       "</style>\n",
       "<table border=\"1\" class=\"dataframe\">\n",
       "  <thead>\n",
       "    <tr style=\"text-align: right;\">\n",
       "      <th></th>\n",
       "      <th>Emg1</th>\n",
       "      <th>Emg2</th>\n",
       "      <th>Emg3</th>\n",
       "      <th>Emg4</th>\n",
       "      <th>Emg5</th>\n",
       "      <th>Emg6</th>\n",
       "      <th>Emg7</th>\n",
       "      <th>Emg8</th>\n",
       "      <th>Emg9</th>\n",
       "      <th>Emg10</th>\n",
       "      <th>repetition</th>\n",
       "      <th>rerepetition</th>\n",
       "      <th>stimulus</th>\n",
       "      <th>restimulus</th>\n",
       "    </tr>\n",
       "  </thead>\n",
       "  <tbody>\n",
       "    <tr>\n",
       "      <th>count</th>\n",
       "      <td>455868.000000</td>\n",
       "      <td>455868.000000</td>\n",
       "      <td>455868.000000</td>\n",
       "      <td>455868.000000</td>\n",
       "      <td>455868.000000</td>\n",
       "      <td>455868.000000</td>\n",
       "      <td>455868.000000</td>\n",
       "      <td>455868.000000</td>\n",
       "      <td>455868.000000</td>\n",
       "      <td>455868.000000</td>\n",
       "      <td>455868.000000</td>\n",
       "      <td>455868.000000</td>\n",
       "      <td>455868.000000</td>\n",
       "      <td>455868.000000</td>\n",
       "    </tr>\n",
       "    <tr>\n",
       "      <th>mean</th>\n",
       "      <td>0.332545</td>\n",
       "      <td>0.058456</td>\n",
       "      <td>0.049844</td>\n",
       "      <td>0.023382</td>\n",
       "      <td>0.009703</td>\n",
       "      <td>0.035887</td>\n",
       "      <td>0.191725</td>\n",
       "      <td>0.173032</td>\n",
       "      <td>0.070132</td>\n",
       "      <td>0.065993</td>\n",
       "      <td>3.237610</td>\n",
       "      <td>2.511964</td>\n",
       "      <td>5.738133</td>\n",
       "      <td>4.701942</td>\n",
       "    </tr>\n",
       "    <tr>\n",
       "      <th>std</th>\n",
       "      <td>0.467568</td>\n",
       "      <td>0.142487</td>\n",
       "      <td>0.139377</td>\n",
       "      <td>0.102822</td>\n",
       "      <td>0.028035</td>\n",
       "      <td>0.069141</td>\n",
       "      <td>0.267717</td>\n",
       "      <td>0.180930</td>\n",
       "      <td>0.153322</td>\n",
       "      <td>0.110593</td>\n",
       "      <td>3.490469</td>\n",
       "      <td>3.337748</td>\n",
       "      <td>6.599320</td>\n",
       "      <td>6.493878</td>\n",
       "    </tr>\n",
       "    <tr>\n",
       "      <th>min</th>\n",
       "      <td>0.002400</td>\n",
       "      <td>0.000000</td>\n",
       "      <td>0.002400</td>\n",
       "      <td>0.002400</td>\n",
       "      <td>0.002400</td>\n",
       "      <td>0.002400</td>\n",
       "      <td>0.002400</td>\n",
       "      <td>0.002400</td>\n",
       "      <td>0.002400</td>\n",
       "      <td>0.000000</td>\n",
       "      <td>0.000000</td>\n",
       "      <td>0.000000</td>\n",
       "      <td>0.000000</td>\n",
       "      <td>0.000000</td>\n",
       "    </tr>\n",
       "    <tr>\n",
       "      <th>25%</th>\n",
       "      <td>0.022000</td>\n",
       "      <td>0.002400</td>\n",
       "      <td>0.002400</td>\n",
       "      <td>0.002400</td>\n",
       "      <td>0.002400</td>\n",
       "      <td>0.002400</td>\n",
       "      <td>0.014600</td>\n",
       "      <td>0.048800</td>\n",
       "      <td>0.002400</td>\n",
       "      <td>0.002400</td>\n",
       "      <td>0.000000</td>\n",
       "      <td>0.000000</td>\n",
       "      <td>0.000000</td>\n",
       "      <td>0.000000</td>\n",
       "    </tr>\n",
       "    <tr>\n",
       "      <th>50%</th>\n",
       "      <td>0.105000</td>\n",
       "      <td>0.002400</td>\n",
       "      <td>0.002400</td>\n",
       "      <td>0.002400</td>\n",
       "      <td>0.002400</td>\n",
       "      <td>0.009800</td>\n",
       "      <td>0.117200</td>\n",
       "      <td>0.112300</td>\n",
       "      <td>0.004900</td>\n",
       "      <td>0.026900</td>\n",
       "      <td>2.000000</td>\n",
       "      <td>0.000000</td>\n",
       "      <td>3.000000</td>\n",
       "      <td>0.000000</td>\n",
       "    </tr>\n",
       "    <tr>\n",
       "      <th>75%</th>\n",
       "      <td>0.476100</td>\n",
       "      <td>0.056200</td>\n",
       "      <td>0.024400</td>\n",
       "      <td>0.002400</td>\n",
       "      <td>0.002400</td>\n",
       "      <td>0.039100</td>\n",
       "      <td>0.263700</td>\n",
       "      <td>0.239300</td>\n",
       "      <td>0.083000</td>\n",
       "      <td>0.078100</td>\n",
       "      <td>6.000000</td>\n",
       "      <td>5.000000</td>\n",
       "      <td>10.000000</td>\n",
       "      <td>9.000000</td>\n",
       "    </tr>\n",
       "    <tr>\n",
       "      <th>max</th>\n",
       "      <td>4.458000</td>\n",
       "      <td>4.514200</td>\n",
       "      <td>3.064000</td>\n",
       "      <td>3.234900</td>\n",
       "      <td>0.803200</td>\n",
       "      <td>1.042500</td>\n",
       "      <td>4.663100</td>\n",
       "      <td>2.041000</td>\n",
       "      <td>3.513200</td>\n",
       "      <td>1.562500</td>\n",
       "      <td>10.000000</td>\n",
       "      <td>10.000000</td>\n",
       "      <td>23.000000</td>\n",
       "      <td>23.000000</td>\n",
       "    </tr>\n",
       "  </tbody>\n",
       "</table>\n",
       "</div>"
      ],
      "text/plain": [
       "                Emg1           Emg2           Emg3           Emg4  \\\n",
       "count  455868.000000  455868.000000  455868.000000  455868.000000   \n",
       "mean        0.332545       0.058456       0.049844       0.023382   \n",
       "std         0.467568       0.142487       0.139377       0.102822   \n",
       "min         0.002400       0.000000       0.002400       0.002400   \n",
       "25%         0.022000       0.002400       0.002400       0.002400   \n",
       "50%         0.105000       0.002400       0.002400       0.002400   \n",
       "75%         0.476100       0.056200       0.024400       0.002400   \n",
       "max         4.458000       4.514200       3.064000       3.234900   \n",
       "\n",
       "                Emg5           Emg6           Emg7           Emg8  \\\n",
       "count  455868.000000  455868.000000  455868.000000  455868.000000   \n",
       "mean        0.009703       0.035887       0.191725       0.173032   \n",
       "std         0.028035       0.069141       0.267717       0.180930   \n",
       "min         0.002400       0.002400       0.002400       0.002400   \n",
       "25%         0.002400       0.002400       0.014600       0.048800   \n",
       "50%         0.002400       0.009800       0.117200       0.112300   \n",
       "75%         0.002400       0.039100       0.263700       0.239300   \n",
       "max         0.803200       1.042500       4.663100       2.041000   \n",
       "\n",
       "                Emg9          Emg10     repetition   rerepetition  \\\n",
       "count  455868.000000  455868.000000  455868.000000  455868.000000   \n",
       "mean        0.070132       0.065993       3.237610       2.511964   \n",
       "std         0.153322       0.110593       3.490469       3.337748   \n",
       "min         0.002400       0.000000       0.000000       0.000000   \n",
       "25%         0.002400       0.002400       0.000000       0.000000   \n",
       "50%         0.004900       0.026900       2.000000       0.000000   \n",
       "75%         0.083000       0.078100       6.000000       5.000000   \n",
       "max         3.513200       1.562500      10.000000      10.000000   \n",
       "\n",
       "            stimulus     restimulus  \n",
       "count  455868.000000  455868.000000  \n",
       "mean        5.738133       4.701942  \n",
       "std         6.599320       6.493878  \n",
       "min         0.000000       0.000000  \n",
       "25%         0.000000       0.000000  \n",
       "50%         3.000000       0.000000  \n",
       "75%        10.000000       9.000000  \n",
       "max        23.000000      23.000000  "
      ]
     },
     "execution_count": 6,
     "metadata": {},
     "output_type": "execute_result"
    }
   ],
   "source": [
    "raw_data.describe(include='all')"
   ]
  },
  {
   "cell_type": "code",
   "execution_count": 7,
   "id": "fd128768",
   "metadata": {},
   "outputs": [
    {
     "name": "stdout",
     "output_type": "stream",
     "text": [
      "Unique Dependent values and their counts :\n",
      "0     187582\n",
      "8      15555\n",
      "12     15514\n",
      "7      15504\n",
      "4      15498\n",
      "2      15497\n",
      "5      15479\n",
      "9      15471\n",
      "6      15468\n",
      "11     15465\n",
      "10     15440\n",
      "1      15430\n",
      "3      15426\n",
      "17     10355\n",
      "14     10338\n",
      "13     10335\n",
      "15     10310\n",
      "16     10267\n",
      "19      5186\n",
      "18      5170\n",
      "21      5164\n",
      "20      5142\n",
      "23      5138\n",
      "22      5134\n",
      "Name: stimulus, dtype: int64\n"
     ]
    }
   ],
   "source": [
    "print(\"Unique Dependent values and their counts :\")\n",
    "print(raw_data[\"stimulus\"].value_counts())"
   ]
  },
  {
   "cell_type": "code",
   "execution_count": 8,
   "id": "93de5c20",
   "metadata": {},
   "outputs": [
    {
     "data": {
      "text/plain": [
       "Text(0, 0.5, 'Frequency')"
      ]
     },
     "execution_count": 8,
     "metadata": {},
     "output_type": "execute_result"
    },
    {
     "data": {
      "image/png": "[encoded data removed]",
      "text/plain": [
       "<Figure size 432x288 with 1 Axes>"
      ]
     },
     "metadata": {
      "needs_background": "light"
     },
     "output_type": "display_data"
    }
   ],
   "source": [
    "count_classes = pd.value_counts(raw_data['stimulus'], sort = True)\n",
    "\n",
    "count_classes.plot(kind = 'bar', rot=0)\n",
    "\n",
    "plt.title(\"stimulus Class Distribution\")\n",
    "\n",
    "plt.xlabel(\"Class\")\n",
    "\n",
    "plt.ylabel(\"Frequency\")"
   ]
  },
  {
   "cell_type": "markdown",
   "id": "359a141d",
   "metadata": {},
   "source": [
    "# Data Cleaning and Exploratory Data Analysis with New Data"
   ]
  },
  {
   "cell_type": "code",
   "execution_count": 9,
   "id": "34a50c05",
   "metadata": {},
   "outputs": [],
   "source": [
    "index_names = raw_data[ (raw_data['stimulus'] != raw_data['restimulus'])].index\n",
    "raw_data.drop(index_names, inplace = True)"
   ]
  },
  {
   "cell_type": "code",
   "execution_count": 10,
   "id": "78d479cc",
   "metadata": {},
   "outputs": [],
   "source": [
    "index_names = raw_data[ (raw_data['repetition'] != raw_data['rerepetition'])].index\n",
    "raw_data.drop(index_names, inplace = True)"
   ]
  },
  {
   "cell_type": "code",
   "execution_count": 11,
   "id": "8418d307",
   "metadata": {},
   "outputs": [
    {
     "data": {
      "text/html": [
       "<div>\n",
       "<style scoped>\n",
       "    .dataframe tbody tr th:only-of-type {\n",
       "        vertical-align: middle;\n",
       "    }\n",
       "\n",
       "    .dataframe tbody tr th {\n",
       "        vertical-align: top;\n",
       "    }\n",
       "\n",
       "    .dataframe thead th {\n",
       "        text-align: right;\n",
       "    }\n",
       "</style>\n",
       "<table border=\"1\" class=\"dataframe\">\n",
       "  <thead>\n",
       "    <tr style=\"text-align: right;\">\n",
       "      <th></th>\n",
       "      <th>Emg1</th>\n",
       "      <th>Emg2</th>\n",
       "      <th>Emg3</th>\n",
       "      <th>Emg4</th>\n",
       "      <th>Emg5</th>\n",
       "      <th>Emg6</th>\n",
       "      <th>Emg7</th>\n",
       "      <th>Emg8</th>\n",
       "      <th>Emg9</th>\n",
       "      <th>Emg10</th>\n",
       "      <th>repetition</th>\n",
       "      <th>rerepetition</th>\n",
       "      <th>stimulus</th>\n",
       "      <th>restimulus</th>\n",
       "    </tr>\n",
       "  </thead>\n",
       "  <tbody>\n",
       "    <tr>\n",
       "      <th>264067</th>\n",
       "      <td>0.0562</td>\n",
       "      <td>0.0024</td>\n",
       "      <td>0.0024</td>\n",
       "      <td>0.0024</td>\n",
       "      <td>0.0049</td>\n",
       "      <td>0.0049</td>\n",
       "      <td>0.1855</td>\n",
       "      <td>0.1123</td>\n",
       "      <td>0.0024</td>\n",
       "      <td>0.0146</td>\n",
       "      <td>0</td>\n",
       "      <td>0</td>\n",
       "      <td>0</td>\n",
       "      <td>0</td>\n",
       "    </tr>\n",
       "    <tr>\n",
       "      <th>272057</th>\n",
       "      <td>0.0049</td>\n",
       "      <td>0.0024</td>\n",
       "      <td>0.0024</td>\n",
       "      <td>0.0024</td>\n",
       "      <td>0.0024</td>\n",
       "      <td>0.0024</td>\n",
       "      <td>0.0879</td>\n",
       "      <td>0.0757</td>\n",
       "      <td>0.0024</td>\n",
       "      <td>0.0098</td>\n",
       "      <td>0</td>\n",
       "      <td>0</td>\n",
       "      <td>0</td>\n",
       "      <td>0</td>\n",
       "    </tr>\n",
       "    <tr>\n",
       "      <th>216045</th>\n",
       "      <td>0.0024</td>\n",
       "      <td>0.0024</td>\n",
       "      <td>0.0024</td>\n",
       "      <td>0.0024</td>\n",
       "      <td>0.0024</td>\n",
       "      <td>0.0024</td>\n",
       "      <td>0.0024</td>\n",
       "      <td>0.0024</td>\n",
       "      <td>0.0024</td>\n",
       "      <td>0.0098</td>\n",
       "      <td>0</td>\n",
       "      <td>0</td>\n",
       "      <td>0</td>\n",
       "      <td>0</td>\n",
       "    </tr>\n",
       "    <tr>\n",
       "      <th>39597</th>\n",
       "      <td>0.0024</td>\n",
       "      <td>0.0024</td>\n",
       "      <td>0.0024</td>\n",
       "      <td>0.0024</td>\n",
       "      <td>0.0024</td>\n",
       "      <td>0.0073</td>\n",
       "      <td>0.3809</td>\n",
       "      <td>0.1172</td>\n",
       "      <td>0.0024</td>\n",
       "      <td>0.0220</td>\n",
       "      <td>0</td>\n",
       "      <td>0</td>\n",
       "      <td>0</td>\n",
       "      <td>0</td>\n",
       "    </tr>\n",
       "    <tr>\n",
       "      <th>252141</th>\n",
       "      <td>0.0513</td>\n",
       "      <td>0.0024</td>\n",
       "      <td>0.0024</td>\n",
       "      <td>0.0024</td>\n",
       "      <td>0.0024</td>\n",
       "      <td>0.0049</td>\n",
       "      <td>0.0806</td>\n",
       "      <td>0.0854</td>\n",
       "      <td>0.0024</td>\n",
       "      <td>0.0757</td>\n",
       "      <td>10</td>\n",
       "      <td>10</td>\n",
       "      <td>1</td>\n",
       "      <td>1</td>\n",
       "    </tr>\n",
       "  </tbody>\n",
       "</table>\n",
       "</div>"
      ],
      "text/plain": [
       "          Emg1    Emg2    Emg3    Emg4    Emg5    Emg6    Emg7    Emg8  \\\n",
       "264067  0.0562  0.0024  0.0024  0.0024  0.0049  0.0049  0.1855  0.1123   \n",
       "272057  0.0049  0.0024  0.0024  0.0024  0.0024  0.0024  0.0879  0.0757   \n",
       "216045  0.0024  0.0024  0.0024  0.0024  0.0024  0.0024  0.0024  0.0024   \n",
       "39597   0.0024  0.0024  0.0024  0.0024  0.0024  0.0073  0.3809  0.1172   \n",
       "252141  0.0513  0.0024  0.0024  0.0024  0.0024  0.0049  0.0806  0.0854   \n",
       "\n",
       "          Emg9   Emg10  repetition  rerepetition  stimulus  restimulus  \n",
       "264067  0.0024  0.0146           0             0         0           0  \n",
       "272057  0.0024  0.0098           0             0         0           0  \n",
       "216045  0.0024  0.0098           0             0         0           0  \n",
       "39597   0.0024  0.0220           0             0         0           0  \n",
       "252141  0.0024  0.0757          10            10         1           1  "
      ]
     },
     "execution_count": 11,
     "metadata": {},
     "output_type": "execute_result"
    }
   ],
   "source": [
    "raw_data.sample(5)"
   ]
  },
  {
   "cell_type": "code",
   "execution_count": 12,
   "id": "ff5d7709",
   "metadata": {},
   "outputs": [
    {
     "data": {
      "text/plain": [
       "(385177, 14)"
      ]
     },
     "execution_count": 12,
     "metadata": {},
     "output_type": "execute_result"
    }
   ],
   "source": [
    "raw_data.shape"
   ]
  },
  {
   "cell_type": "code",
   "execution_count": 13,
   "id": "9df2c3c9",
   "metadata": {},
   "outputs": [
    {
     "name": "stdout",
     "output_type": "stream",
     "text": [
      "<class 'pandas.core.frame.DataFrame'>\n",
      "Int64Index: 385177 entries, 0 to 455867\n",
      "Data columns (total 14 columns):\n",
      " #   Column        Non-Null Count   Dtype  \n",
      "---  ------        --------------   -----  \n",
      " 0   Emg1          385177 non-null  float64\n",
      " 1   Emg2          385177 non-null  float64\n",
      " 2   Emg3          385177 non-null  float64\n",
      " 3   Emg4          385177 non-null  float64\n",
      " 4   Emg5          385177 non-null  float64\n",
      " 5   Emg6          385177 non-null  float64\n",
      " 6   Emg7          385177 non-null  float64\n",
      " 7   Emg8          385177 non-null  float64\n",
      " 8   Emg9          385177 non-null  float64\n",
      " 9   Emg10         385177 non-null  float64\n",
      " 10  repetition    385177 non-null  int64  \n",
      " 11  rerepetition  385177 non-null  int64  \n",
      " 12  stimulus      385177 non-null  int64  \n",
      " 13  restimulus    385177 non-null  int64  \n",
      "dtypes: float64(10), int64(4)\n",
      "memory usage: 44.1 MB\n"
     ]
    }
   ],
   "source": [
    "raw_data.info()"
   ]
  },
  {
   "cell_type": "code",
   "execution_count": 14,
   "id": "fbec9c31",
   "metadata": {},
   "outputs": [
    {
     "name": "stdout",
     "output_type": "stream",
     "text": [
      "Emg1            False\n",
      "Emg2            False\n",
      "Emg3            False\n",
      "Emg4            False\n",
      "Emg5            False\n",
      "Emg6            False\n",
      "Emg7            False\n",
      "Emg8            False\n",
      "Emg9            False\n",
      "Emg10           False\n",
      "repetition      False\n",
      "rerepetition    False\n",
      "stimulus        False\n",
      "restimulus      False\n",
      "dtype: bool\n"
     ]
    }
   ],
   "source": [
    "print(raw_data.isnull().any())"
   ]
  },
  {
   "cell_type": "code",
   "execution_count": 15,
   "id": "3a406dae",
   "metadata": {},
   "outputs": [],
   "source": [
    "X = raw_data.iloc[:,0:10]\n",
    "y = raw_data.stimulus"
   ]
  },
  {
   "cell_type": "markdown",
   "id": "797d6a4c",
   "metadata": {},
   "source": [
    "# Standard Scaler"
   ]
  },
  {
   "cell_type": "code",
   "execution_count": 16,
   "id": "eb46d537",
   "metadata": {},
   "outputs": [],
   "source": [
    "from sklearn.preprocessing import StandardScaler\n",
    "standardscaler=StandardScaler()"
   ]
  },
  {
   "cell_type": "code",
   "execution_count": 17,
   "id": "6e891df5",
   "metadata": {},
   "outputs": [],
   "source": [
    "sc = pd.DataFrame(standardscaler.fit_transform(X))"
   ]
  },
  {
   "cell_type": "code",
   "execution_count": 18,
   "id": "28f47777",
   "metadata": {},
   "outputs": [
    {
     "data": {
      "text/html": [
       "<div>\n",
       "<style scoped>\n",
       "    .dataframe tbody tr th:only-of-type {\n",
       "        vertical-align: middle;\n",
       "    }\n",
       "\n",
       "    .dataframe tbody tr th {\n",
       "        vertical-align: top;\n",
       "    }\n",
       "\n",
       "    .dataframe thead th {\n",
       "        text-align: right;\n",
       "    }\n",
       "</style>\n",
       "<table border=\"1\" class=\"dataframe\">\n",
       "  <thead>\n",
       "    <tr style=\"text-align: right;\">\n",
       "      <th></th>\n",
       "      <th>0</th>\n",
       "      <th>1</th>\n",
       "      <th>2</th>\n",
       "      <th>3</th>\n",
       "      <th>4</th>\n",
       "      <th>5</th>\n",
       "      <th>6</th>\n",
       "      <th>7</th>\n",
       "      <th>8</th>\n",
       "      <th>9</th>\n",
       "    </tr>\n",
       "  </thead>\n",
       "  <tbody>\n",
       "    <tr>\n",
       "      <th>0</th>\n",
       "      <td>-0.747336</td>\n",
       "      <td>-0.425809</td>\n",
       "      <td>-0.369228</td>\n",
       "      <td>-0.221498</td>\n",
       "      <td>-0.282907</td>\n",
       "      <td>-0.514572</td>\n",
       "      <td>-0.209574</td>\n",
       "      <td>-0.758034</td>\n",
       "      <td>-0.476509</td>\n",
       "      <td>-0.502027</td>\n",
       "    </tr>\n",
       "    <tr>\n",
       "      <th>1</th>\n",
       "      <td>-0.747336</td>\n",
       "      <td>-0.425809</td>\n",
       "      <td>-0.369228</td>\n",
       "      <td>-0.221498</td>\n",
       "      <td>-0.282907</td>\n",
       "      <td>-0.514572</td>\n",
       "      <td>-0.140739</td>\n",
       "      <td>-0.732198</td>\n",
       "      <td>-0.476509</td>\n",
       "      <td>-0.522430</td>\n",
       "    </tr>\n",
       "    <tr>\n",
       "      <th>2</th>\n",
       "      <td>-0.747336</td>\n",
       "      <td>-0.425809</td>\n",
       "      <td>-0.369228</td>\n",
       "      <td>-0.221498</td>\n",
       "      <td>-0.282907</td>\n",
       "      <td>-0.514572</td>\n",
       "      <td>-0.140739</td>\n",
       "      <td>-0.706361</td>\n",
       "      <td>-0.476509</td>\n",
       "      <td>-0.502027</td>\n",
       "    </tr>\n",
       "    <tr>\n",
       "      <th>3</th>\n",
       "      <td>-0.747336</td>\n",
       "      <td>-0.425809</td>\n",
       "      <td>-0.369228</td>\n",
       "      <td>-0.221498</td>\n",
       "      <td>-0.282907</td>\n",
       "      <td>-0.514572</td>\n",
       "      <td>-0.183805</td>\n",
       "      <td>-0.719016</td>\n",
       "      <td>-0.476509</td>\n",
       "      <td>-0.522430</td>\n",
       "    </tr>\n",
       "    <tr>\n",
       "      <th>4</th>\n",
       "      <td>-0.747336</td>\n",
       "      <td>-0.425809</td>\n",
       "      <td>-0.369228</td>\n",
       "      <td>-0.221498</td>\n",
       "      <td>-0.282907</td>\n",
       "      <td>-0.514572</td>\n",
       "      <td>-0.209574</td>\n",
       "      <td>-0.706361</td>\n",
       "      <td>-0.476509</td>\n",
       "      <td>-0.542833</td>\n",
       "    </tr>\n",
       "    <tr>\n",
       "      <th>...</th>\n",
       "      <td>...</td>\n",
       "      <td>...</td>\n",
       "      <td>...</td>\n",
       "      <td>...</td>\n",
       "      <td>...</td>\n",
       "      <td>...</td>\n",
       "      <td>...</td>\n",
       "      <td>...</td>\n",
       "      <td>...</td>\n",
       "      <td>...</td>\n",
       "    </tr>\n",
       "    <tr>\n",
       "      <th>385172</th>\n",
       "      <td>-0.258607</td>\n",
       "      <td>-0.409455</td>\n",
       "      <td>-0.369228</td>\n",
       "      <td>-0.221498</td>\n",
       "      <td>-0.282907</td>\n",
       "      <td>-0.514572</td>\n",
       "      <td>-0.718252</td>\n",
       "      <td>0.001772</td>\n",
       "      <td>-0.476509</td>\n",
       "      <td>-0.605743</td>\n",
       "    </tr>\n",
       "    <tr>\n",
       "      <th>385173</th>\n",
       "      <td>-0.273516</td>\n",
       "      <td>-0.425809</td>\n",
       "      <td>-0.369228</td>\n",
       "      <td>-0.221498</td>\n",
       "      <td>-0.282907</td>\n",
       "      <td>-0.514572</td>\n",
       "      <td>-0.718252</td>\n",
       "      <td>-0.062556</td>\n",
       "      <td>-0.476509</td>\n",
       "      <td>-0.605743</td>\n",
       "    </tr>\n",
       "    <tr>\n",
       "      <th>385174</th>\n",
       "      <td>-0.283523</td>\n",
       "      <td>-0.425809</td>\n",
       "      <td>-0.369228</td>\n",
       "      <td>-0.221498</td>\n",
       "      <td>-0.282907</td>\n",
       "      <td>-0.514572</td>\n",
       "      <td>-0.718252</td>\n",
       "      <td>-0.114229</td>\n",
       "      <td>-0.476509</td>\n",
       "      <td>-0.605743</td>\n",
       "    </tr>\n",
       "    <tr>\n",
       "      <th>385175</th>\n",
       "      <td>-0.328454</td>\n",
       "      <td>-0.425809</td>\n",
       "      <td>-0.352536</td>\n",
       "      <td>-0.221498</td>\n",
       "      <td>-0.282907</td>\n",
       "      <td>-0.514572</td>\n",
       "      <td>-0.718252</td>\n",
       "      <td>-0.178557</td>\n",
       "      <td>-0.476509</td>\n",
       "      <td>-0.605743</td>\n",
       "    </tr>\n",
       "    <tr>\n",
       "      <th>385176</th>\n",
       "      <td>-0.373386</td>\n",
       "      <td>-0.425809</td>\n",
       "      <td>-0.369228</td>\n",
       "      <td>-0.221498</td>\n",
       "      <td>-0.200278</td>\n",
       "      <td>-0.514572</td>\n",
       "      <td>-0.718252</td>\n",
       "      <td>-0.242885</td>\n",
       "      <td>-0.476509</td>\n",
       "      <td>-0.605743</td>\n",
       "    </tr>\n",
       "  </tbody>\n",
       "</table>\n",
       "<p>385177 rows × 10 columns</p>\n",
       "</div>"
      ],
      "text/plain": [
       "               0         1         2         3         4         5         6  \\\n",
       "0      -0.747336 -0.425809 -0.369228 -0.221498 -0.282907 -0.514572 -0.209574   \n",
       "1      -0.747336 -0.425809 -0.369228 -0.221498 -0.282907 -0.514572 -0.140739   \n",
       "2      -0.747336 -0.425809 -0.369228 -0.221498 -0.282907 -0.514572 -0.140739   \n",
       "3      -0.747336 -0.425809 -0.369228 -0.221498 -0.282907 -0.514572 -0.183805   \n",
       "4      -0.747336 -0.425809 -0.369228 -0.221498 -0.282907 -0.514572 -0.209574   \n",
       "...          ...       ...       ...       ...       ...       ...       ...   \n",
       "385172 -0.258607 -0.409455 -0.369228 -0.221498 -0.282907 -0.514572 -0.718252   \n",
       "385173 -0.273516 -0.425809 -0.369228 -0.221498 -0.282907 -0.514572 -0.718252   \n",
       "385174 -0.283523 -0.425809 -0.369228 -0.221498 -0.282907 -0.514572 -0.718252   \n",
       "385175 -0.328454 -0.425809 -0.352536 -0.221498 -0.282907 -0.514572 -0.718252   \n",
       "385176 -0.373386 -0.425809 -0.369228 -0.221498 -0.200278 -0.514572 -0.718252   \n",
       "\n",
       "               7         8         9  \n",
       "0      -0.758034 -0.476509 -0.502027  \n",
       "1      -0.732198 -0.476509 -0.522430  \n",
       "2      -0.706361 -0.476509 -0.502027  \n",
       "3      -0.719016 -0.476509 -0.522430  \n",
       "4      -0.706361 -0.476509 -0.542833  \n",
       "...          ...       ...       ...  \n",
       "385172  0.001772 -0.476509 -0.605743  \n",
       "385173 -0.062556 -0.476509 -0.605743  \n",
       "385174 -0.114229 -0.476509 -0.605743  \n",
       "385175 -0.178557 -0.476509 -0.605743  \n",
       "385176 -0.242885 -0.476509 -0.605743  \n",
       "\n",
       "[385177 rows x 10 columns]"
      ]
     },
     "execution_count": 18,
     "metadata": {},
     "output_type": "execute_result"
    }
   ],
   "source": [
    "sc"
   ]
  },
  {
   "cell_type": "code",
   "execution_count": 19,
   "id": "83683085",
   "metadata": {},
   "outputs": [],
   "source": [
    "# Splitting data for training and testing\n",
    "X_train, X_test, y_train, y_test = train_test_split(sc, y, test_size = 0.2, random_state = 39)"
   ]
  },
  {
   "cell_type": "markdown",
   "id": "676e9bd7",
   "metadata": {},
   "source": [
    "# KNeighborsClassifier"
   ]
  },
  {
   "cell_type": "code",
   "execution_count": 20,
   "id": "30a0e188",
   "metadata": {},
   "outputs": [
    {
     "data": {
      "text/plain": [
       "KNeighborsClassifier()"
      ]
     },
     "execution_count": 20,
     "metadata": {},
     "output_type": "execute_result"
    }
   ],
   "source": [
    "from sklearn.neighbors import KNeighborsClassifier\n",
    "KNeighborsClassifier = KNeighborsClassifier()\n",
    "KNeighborsClassifier.fit(X_train, y_train)"
   ]
  },
  {
   "cell_type": "code",
   "execution_count": 21,
   "id": "0249d6ed",
   "metadata": {},
   "outputs": [],
   "source": [
    "y_pred = KNeighborsClassifier.predict(X_test)"
   ]
  },
  {
   "cell_type": "code",
   "execution_count": 22,
   "id": "288d1cf4",
   "metadata": {},
   "outputs": [
    {
     "name": "stdout",
     "output_type": "stream",
     "text": [
      "Accuracy is: 86.96843034425463\n"
     ]
    }
   ],
   "source": [
    "from sklearn.metrics import accuracy_score\n",
    "accuracy = {accuracy_score(y_test, y_pred)}\n",
    "print(f\"Accuracy is: {accuracy_score(y_test, y_pred)* 100}\")"
   ]
  },
  {
   "cell_type": "code",
   "execution_count": 23,
   "id": "9595f210",
   "metadata": {},
   "outputs": [
    {
     "name": "stdout",
     "output_type": "stream",
     "text": [
      "\u001b[1mClassification report : \u001b[0m\n",
      "               precision    recall  f1-score   support\n",
      "\n",
      "           0       0.88      0.98      0.92     36204\n",
      "           1       0.86      0.85      0.85      2317\n",
      "           2       0.82      0.83      0.82      1955\n",
      "           3       0.87      0.81      0.84      1962\n",
      "           4       0.87      0.80      0.83      2350\n",
      "           5       0.86      0.78      0.82      2458\n",
      "           6       0.86      0.79      0.83      2370\n",
      "           7       0.75      0.70      0.73      2108\n",
      "           8       0.88      0.80      0.84      2281\n",
      "           9       0.85      0.77      0.81      2569\n",
      "          10       0.83      0.71      0.77      2439\n",
      "          11       0.92      0.79      0.85      2220\n",
      "          12       0.86      0.61      0.71      2556\n",
      "          13       0.92      0.85      0.88      1440\n",
      "          14       0.77      0.75      0.76      1408\n",
      "          15       0.86      0.78      0.82      1651\n",
      "          16       0.89      0.79      0.84      1855\n",
      "          17       0.83      0.70      0.76      1579\n",
      "          18       0.86      0.70      0.77       917\n",
      "          19       0.82      0.64      0.72       863\n",
      "          20       0.94      0.89      0.91       882\n",
      "          21       0.91      0.80      0.85       861\n",
      "          22       0.98      0.92      0.95       913\n",
      "          23       0.97      0.93      0.95       878\n",
      "\n",
      "    accuracy                           0.87     77036\n",
      "   macro avg       0.87      0.79      0.83     77036\n",
      "weighted avg       0.87      0.87      0.87     77036\n",
      "\n",
      "\u001b[1mConfusion Matrix : \u001b[0m\n"
     ]
    },
    {
     "data": {
      "image/png": "[encoded data removed]",
      "text/plain": [
       "<Figure size 432x288 with 2 Axes>"
      ]
     },
     "metadata": {
      "needs_background": "light"
     },
     "output_type": "display_data"
    }
   ],
   "source": [
    "print('\\033[1m' +'Classification report : '+ '\\033[0m\\n', classification_report(y_test, y_pred))\n",
    "\n",
    "cm = confusion_matrix(y_pred, y_test)\n",
    "print('\\033[1m' +'Confusion Matrix : '+ '\\033[0m')\n",
    "sns.heatmap(cm, cmap = 'OrRd',annot = True, fmt='d')\n",
    "plt.show()"
   ]
  },
  {
   "cell_type": "markdown",
   "id": "12894e89",
   "metadata": {},
   "source": [
    "# Evaluation"
   ]
  },
  {
   "cell_type": "code",
   "execution_count": 24,
   "id": "67c898f1",
   "metadata": {},
   "outputs": [
    {
     "name": "stdout",
     "output_type": "stream",
     "text": [
      "MAE: 1.083441507866452\n",
      "MSE: 12.586193467988991\n",
      "RMSE: 3.547702561939063\n"
     ]
    }
   ],
   "source": [
    "from sklearn import metrics\n",
    "\n",
    "print('MAE:', metrics.mean_absolute_error(y_test,y_pred))\n",
    "print('MSE:', metrics.mean_squared_error(y_test, y_pred))\n",
    "print('RMSE:', np.sqrt(metrics.mean_squared_error(y_test, y_pred)))"
   ]
  },
  {
   "cell_type": "code",
   "execution_count": 25,
   "id": "1c13a208",
   "metadata": {},
   "outputs": [
    {
     "name": "stdout",
     "output_type": "stream",
     "text": [
      "Precision Score :  0.8689499735861164\n",
      "Recall Score :  0.8696843034425463\n",
      "f1_score :  0.866220288684256\n"
     ]
    }
   ],
   "source": [
    "from sklearn.metrics import precision_score\n",
    "print(\"Precision Score : \",precision_score(y_test, y_pred, average='weighted'))\n",
    "\n",
    "\n",
    "from sklearn.metrics import recall_score\n",
    "print(\"Recall Score : \",recall_score(y_test, y_pred,average='weighted'))\n",
    "\n",
    "\n",
    "from sklearn.metrics import f1_score\n",
    "print(\"f1_score : \",f1_score(y_test, y_pred,average='weighted'))"
   ]
  },
  {
   "cell_type": "code",
   "execution_count": null,
   "id": "a0b63d90",
   "metadata": {},
   "outputs": [],
   "source": []
  }
 ],
 "metadata": {
  "kernelspec": {
   "display_name": "Python 3 (ipykernel)",
   "language": "python",
   "name": "python3"
  },
  "language_info": {
   "codemirror_mode": {
    "name": "ipython",
    "version": 3
   },
   "file_extension": ".py",
   "mimetype": "text/x-python",
   "name": "python",
   "nbconvert_exporter": "python",
   "pygments_lexer": "ipython3",
   "version": "3.8.12"
  }
 },
 "nbformat": 4,
 "nbformat_minor": 5
}
