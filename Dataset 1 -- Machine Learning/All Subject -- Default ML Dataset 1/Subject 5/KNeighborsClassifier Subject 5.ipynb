{
 "cells": [
  {
   "cell_type": "markdown",
   "id": "5146ed0c",
   "metadata": {},
   "source": [
    "# Importing Libraries"
   ]
  },
  {
   "cell_type": "code",
   "execution_count": 1,
   "id": "3045e9ed",
   "metadata": {},
   "outputs": [],
   "source": [
    "import numpy as np\n",
    "import pandas as pd\n",
    "import matplotlib.pyplot as plt\n",
    "import seaborn as sns\n",
    "from sklearn.model_selection import train_test_split\n",
    "from sklearn.metrics import confusion_matrix, f1_score, accuracy_score, classification_report"
   ]
  },
  {
   "cell_type": "markdown",
   "id": "42648960",
   "metadata": {},
   "source": [
    "# Exploratory Data Analysis"
   ]
  },
  {
   "cell_type": "code",
   "execution_count": 2,
   "id": "c6cab329",
   "metadata": {
    "scrolled": false
   },
   "outputs": [
    {
     "data": {
      "text/html": [
       "<div>\n",
       "<style scoped>\n",
       "    .dataframe tbody tr th:only-of-type {\n",
       "        vertical-align: middle;\n",
       "    }\n",
       "\n",
       "    .dataframe tbody tr th {\n",
       "        vertical-align: top;\n",
       "    }\n",
       "\n",
       "    .dataframe thead th {\n",
       "        text-align: right;\n",
       "    }\n",
       "</style>\n",
       "<table border=\"1\" class=\"dataframe\">\n",
       "  <thead>\n",
       "    <tr style=\"text-align: right;\">\n",
       "      <th></th>\n",
       "      <th>Emg1</th>\n",
       "      <th>Emg2</th>\n",
       "      <th>Emg3</th>\n",
       "      <th>Emg4</th>\n",
       "      <th>Emg5</th>\n",
       "      <th>Emg6</th>\n",
       "      <th>Emg7</th>\n",
       "      <th>Emg8</th>\n",
       "      <th>Emg9</th>\n",
       "      <th>Emg10</th>\n",
       "      <th>repetition</th>\n",
       "      <th>rerepetition</th>\n",
       "      <th>stimulus</th>\n",
       "      <th>restimulus</th>\n",
       "    </tr>\n",
       "  </thead>\n",
       "  <tbody>\n",
       "    <tr>\n",
       "      <th>144107</th>\n",
       "      <td>0.0024</td>\n",
       "      <td>1.6187</td>\n",
       "      <td>0.5933</td>\n",
       "      <td>0.5493</td>\n",
       "      <td>0.1831</td>\n",
       "      <td>0.1660</td>\n",
       "      <td>1.1768</td>\n",
       "      <td>1.8774</td>\n",
       "      <td>0.3735</td>\n",
       "      <td>0.7959</td>\n",
       "      <td>2</td>\n",
       "      <td>2</td>\n",
       "      <td>6</td>\n",
       "      <td>6</td>\n",
       "    </tr>\n",
       "    <tr>\n",
       "      <th>345574</th>\n",
       "      <td>0.0024</td>\n",
       "      <td>0.4321</td>\n",
       "      <td>0.1660</td>\n",
       "      <td>0.3638</td>\n",
       "      <td>0.1587</td>\n",
       "      <td>0.1123</td>\n",
       "      <td>0.8545</td>\n",
       "      <td>1.0522</td>\n",
       "      <td>0.3418</td>\n",
       "      <td>0.5786</td>\n",
       "      <td>1</td>\n",
       "      <td>1</td>\n",
       "      <td>12</td>\n",
       "      <td>12</td>\n",
       "    </tr>\n",
       "    <tr>\n",
       "      <th>174921</th>\n",
       "      <td>0.0024</td>\n",
       "      <td>0.2563</td>\n",
       "      <td>0.0024</td>\n",
       "      <td>0.0024</td>\n",
       "      <td>0.0024</td>\n",
       "      <td>0.0024</td>\n",
       "      <td>0.1270</td>\n",
       "      <td>0.1904</td>\n",
       "      <td>0.0073</td>\n",
       "      <td>0.3003</td>\n",
       "      <td>0</td>\n",
       "      <td>0</td>\n",
       "      <td>0</td>\n",
       "      <td>0</td>\n",
       "    </tr>\n",
       "    <tr>\n",
       "      <th>390235</th>\n",
       "      <td>0.0024</td>\n",
       "      <td>0.1880</td>\n",
       "      <td>0.0122</td>\n",
       "      <td>0.0024</td>\n",
       "      <td>0.0024</td>\n",
       "      <td>0.0171</td>\n",
       "      <td>0.1953</td>\n",
       "      <td>0.2808</td>\n",
       "      <td>0.0073</td>\n",
       "      <td>0.2100</td>\n",
       "      <td>1</td>\n",
       "      <td>1</td>\n",
       "      <td>17</td>\n",
       "      <td>17</td>\n",
       "    </tr>\n",
       "    <tr>\n",
       "      <th>124480</th>\n",
       "      <td>0.0024</td>\n",
       "      <td>0.0024</td>\n",
       "      <td>0.0024</td>\n",
       "      <td>0.0024</td>\n",
       "      <td>0.0024</td>\n",
       "      <td>0.0024</td>\n",
       "      <td>0.0806</td>\n",
       "      <td>0.3125</td>\n",
       "      <td>0.0537</td>\n",
       "      <td>0.4468</td>\n",
       "      <td>0</td>\n",
       "      <td>0</td>\n",
       "      <td>0</td>\n",
       "      <td>0</td>\n",
       "    </tr>\n",
       "  </tbody>\n",
       "</table>\n",
       "</div>"
      ],
      "text/plain": [
       "          Emg1    Emg2    Emg3    Emg4    Emg5    Emg6    Emg7    Emg8  \\\n",
       "144107  0.0024  1.6187  0.5933  0.5493  0.1831  0.1660  1.1768  1.8774   \n",
       "345574  0.0024  0.4321  0.1660  0.3638  0.1587  0.1123  0.8545  1.0522   \n",
       "174921  0.0024  0.2563  0.0024  0.0024  0.0024  0.0024  0.1270  0.1904   \n",
       "390235  0.0024  0.1880  0.0122  0.0024  0.0024  0.0171  0.1953  0.2808   \n",
       "124480  0.0024  0.0024  0.0024  0.0024  0.0024  0.0024  0.0806  0.3125   \n",
       "\n",
       "          Emg9   Emg10  repetition  rerepetition  stimulus  restimulus  \n",
       "144107  0.3735  0.7959           2             2         6           6  \n",
       "345574  0.3418  0.5786           1             1        12          12  \n",
       "174921  0.0073  0.3003           0             0         0           0  \n",
       "390235  0.0073  0.2100           1             1        17          17  \n",
       "124480  0.0537  0.4468           0             0         0           0  "
      ]
     },
     "execution_count": 2,
     "metadata": {},
     "output_type": "execute_result"
    }
   ],
   "source": [
    "raw_data = pd.read_excel('Dataset 1 Patient 5.xlsx')\n",
    "raw_data.sample(5)"
   ]
  },
  {
   "cell_type": "code",
   "execution_count": 3,
   "id": "8cad9bd6",
   "metadata": {},
   "outputs": [
    {
     "data": {
      "text/plain": [
       "(457542, 14)"
      ]
     },
     "execution_count": 3,
     "metadata": {},
     "output_type": "execute_result"
    }
   ],
   "source": [
    "raw_data.shape"
   ]
  },
  {
   "cell_type": "code",
   "execution_count": 4,
   "id": "d05a18f1",
   "metadata": {},
   "outputs": [
    {
     "data": {
      "text/plain": [
       "Index(['Emg1', 'Emg2', 'Emg3', 'Emg4', 'Emg5', 'Emg6', 'Emg7', 'Emg8', 'Emg9',\n",
       "       'Emg10', 'repetition', 'rerepetition', 'stimulus', 'restimulus'],\n",
       "      dtype='object')"
      ]
     },
     "execution_count": 4,
     "metadata": {},
     "output_type": "execute_result"
    }
   ],
   "source": [
    "raw_data.columns"
   ]
  },
  {
   "cell_type": "code",
   "execution_count": 5,
   "id": "259f05e6",
   "metadata": {},
   "outputs": [
    {
     "name": "stdout",
     "output_type": "stream",
     "text": [
      "<class 'pandas.core.frame.DataFrame'>\n",
      "RangeIndex: 457542 entries, 0 to 457541\n",
      "Data columns (total 14 columns):\n",
      " #   Column        Non-Null Count   Dtype  \n",
      "---  ------        --------------   -----  \n",
      " 0   Emg1          457542 non-null  float64\n",
      " 1   Emg2          457542 non-null  float64\n",
      " 2   Emg3          457542 non-null  float64\n",
      " 3   Emg4          457542 non-null  float64\n",
      " 4   Emg5          457542 non-null  float64\n",
      " 5   Emg6          457542 non-null  float64\n",
      " 6   Emg7          457542 non-null  float64\n",
      " 7   Emg8          457542 non-null  float64\n",
      " 8   Emg9          457542 non-null  float64\n",
      " 9   Emg10         457542 non-null  float64\n",
      " 10  repetition    457542 non-null  int64  \n",
      " 11  rerepetition  457542 non-null  int64  \n",
      " 12  stimulus      457542 non-null  int64  \n",
      " 13  restimulus    457542 non-null  int64  \n",
      "dtypes: float64(10), int64(4)\n",
      "memory usage: 48.9 MB\n"
     ]
    }
   ],
   "source": [
    "raw_data.info()"
   ]
  },
  {
   "cell_type": "code",
   "execution_count": 6,
   "id": "613a1cc1",
   "metadata": {},
   "outputs": [
    {
     "data": {
      "text/html": [
       "<div>\n",
       "<style scoped>\n",
       "    .dataframe tbody tr th:only-of-type {\n",
       "        vertical-align: middle;\n",
       "    }\n",
       "\n",
       "    .dataframe tbody tr th {\n",
       "        vertical-align: top;\n",
       "    }\n",
       "\n",
       "    .dataframe thead th {\n",
       "        text-align: right;\n",
       "    }\n",
       "</style>\n",
       "<table border=\"1\" class=\"dataframe\">\n",
       "  <thead>\n",
       "    <tr style=\"text-align: right;\">\n",
       "      <th></th>\n",
       "      <th>Emg1</th>\n",
       "      <th>Emg2</th>\n",
       "      <th>Emg3</th>\n",
       "      <th>Emg4</th>\n",
       "      <th>Emg5</th>\n",
       "      <th>Emg6</th>\n",
       "      <th>Emg7</th>\n",
       "      <th>Emg8</th>\n",
       "      <th>Emg9</th>\n",
       "      <th>Emg10</th>\n",
       "      <th>repetition</th>\n",
       "      <th>rerepetition</th>\n",
       "      <th>stimulus</th>\n",
       "      <th>restimulus</th>\n",
       "    </tr>\n",
       "  </thead>\n",
       "  <tbody>\n",
       "    <tr>\n",
       "      <th>count</th>\n",
       "      <td>457542.000000</td>\n",
       "      <td>457542.000000</td>\n",
       "      <td>457542.000000</td>\n",
       "      <td>457542.000000</td>\n",
       "      <td>457542.000000</td>\n",
       "      <td>457542.000000</td>\n",
       "      <td>457542.000000</td>\n",
       "      <td>457542.000000</td>\n",
       "      <td>457542.000000</td>\n",
       "      <td>457542.000000</td>\n",
       "      <td>457542.000000</td>\n",
       "      <td>457542.000000</td>\n",
       "      <td>457542.000000</td>\n",
       "      <td>457542.000000</td>\n",
       "    </tr>\n",
       "    <tr>\n",
       "      <th>mean</th>\n",
       "      <td>0.003303</td>\n",
       "      <td>0.278760</td>\n",
       "      <td>0.177623</td>\n",
       "      <td>0.155209</td>\n",
       "      <td>0.042417</td>\n",
       "      <td>0.048302</td>\n",
       "      <td>0.324129</td>\n",
       "      <td>0.496742</td>\n",
       "      <td>0.163677</td>\n",
       "      <td>0.330758</td>\n",
       "      <td>3.221488</td>\n",
       "      <td>2.608939</td>\n",
       "      <td>5.708877</td>\n",
       "      <td>4.624408</td>\n",
       "    </tr>\n",
       "    <tr>\n",
       "      <th>std</th>\n",
       "      <td>0.006182</td>\n",
       "      <td>0.430364</td>\n",
       "      <td>0.444744</td>\n",
       "      <td>0.347002</td>\n",
       "      <td>0.092262</td>\n",
       "      <td>0.096046</td>\n",
       "      <td>0.482787</td>\n",
       "      <td>0.504943</td>\n",
       "      <td>0.181937</td>\n",
       "      <td>0.293560</td>\n",
       "      <td>3.489071</td>\n",
       "      <td>3.373117</td>\n",
       "      <td>6.594250</td>\n",
       "      <td>6.359818</td>\n",
       "    </tr>\n",
       "    <tr>\n",
       "      <th>min</th>\n",
       "      <td>0.000000</td>\n",
       "      <td>0.000000</td>\n",
       "      <td>0.002400</td>\n",
       "      <td>0.002400</td>\n",
       "      <td>0.002400</td>\n",
       "      <td>0.000000</td>\n",
       "      <td>0.002400</td>\n",
       "      <td>0.002400</td>\n",
       "      <td>0.000000</td>\n",
       "      <td>0.002400</td>\n",
       "      <td>0.000000</td>\n",
       "      <td>0.000000</td>\n",
       "      <td>0.000000</td>\n",
       "      <td>0.000000</td>\n",
       "    </tr>\n",
       "    <tr>\n",
       "      <th>25%</th>\n",
       "      <td>0.002400</td>\n",
       "      <td>0.012200</td>\n",
       "      <td>0.002400</td>\n",
       "      <td>0.002400</td>\n",
       "      <td>0.002400</td>\n",
       "      <td>0.002400</td>\n",
       "      <td>0.097700</td>\n",
       "      <td>0.214800</td>\n",
       "      <td>0.034200</td>\n",
       "      <td>0.173300</td>\n",
       "      <td>0.000000</td>\n",
       "      <td>0.000000</td>\n",
       "      <td>0.000000</td>\n",
       "      <td>0.000000</td>\n",
       "    </tr>\n",
       "    <tr>\n",
       "      <th>50%</th>\n",
       "      <td>0.002400</td>\n",
       "      <td>0.144000</td>\n",
       "      <td>0.026900</td>\n",
       "      <td>0.007300</td>\n",
       "      <td>0.002400</td>\n",
       "      <td>0.009800</td>\n",
       "      <td>0.175800</td>\n",
       "      <td>0.341800</td>\n",
       "      <td>0.105000</td>\n",
       "      <td>0.249000</td>\n",
       "      <td>2.000000</td>\n",
       "      <td>0.000000</td>\n",
       "      <td>3.000000</td>\n",
       "      <td>0.000000</td>\n",
       "    </tr>\n",
       "    <tr>\n",
       "      <th>75%</th>\n",
       "      <td>0.002400</td>\n",
       "      <td>0.354000</td>\n",
       "      <td>0.161100</td>\n",
       "      <td>0.170900</td>\n",
       "      <td>0.039100</td>\n",
       "      <td>0.048800</td>\n",
       "      <td>0.329600</td>\n",
       "      <td>0.585900</td>\n",
       "      <td>0.236800</td>\n",
       "      <td>0.378400</td>\n",
       "      <td>6.000000</td>\n",
       "      <td>5.000000</td>\n",
       "      <td>10.000000</td>\n",
       "      <td>9.000000</td>\n",
       "    </tr>\n",
       "    <tr>\n",
       "      <th>max</th>\n",
       "      <td>0.593300</td>\n",
       "      <td>4.665500</td>\n",
       "      <td>4.660600</td>\n",
       "      <td>4.665500</td>\n",
       "      <td>1.369600</td>\n",
       "      <td>1.420900</td>\n",
       "      <td>4.665500</td>\n",
       "      <td>4.668000</td>\n",
       "      <td>2.927200</td>\n",
       "      <td>3.752400</td>\n",
       "      <td>10.000000</td>\n",
       "      <td>10.000000</td>\n",
       "      <td>23.000000</td>\n",
       "      <td>23.000000</td>\n",
       "    </tr>\n",
       "  </tbody>\n",
       "</table>\n",
       "</div>"
      ],
      "text/plain": [
       "                Emg1           Emg2           Emg3           Emg4  \\\n",
       "count  457542.000000  457542.000000  457542.000000  457542.000000   \n",
       "mean        0.003303       0.278760       0.177623       0.155209   \n",
       "std         0.006182       0.430364       0.444744       0.347002   \n",
       "min         0.000000       0.000000       0.002400       0.002400   \n",
       "25%         0.002400       0.012200       0.002400       0.002400   \n",
       "50%         0.002400       0.144000       0.026900       0.007300   \n",
       "75%         0.002400       0.354000       0.161100       0.170900   \n",
       "max         0.593300       4.665500       4.660600       4.665500   \n",
       "\n",
       "                Emg5           Emg6           Emg7           Emg8  \\\n",
       "count  457542.000000  457542.000000  457542.000000  457542.000000   \n",
       "mean        0.042417       0.048302       0.324129       0.496742   \n",
       "std         0.092262       0.096046       0.482787       0.504943   \n",
       "min         0.002400       0.000000       0.002400       0.002400   \n",
       "25%         0.002400       0.002400       0.097700       0.214800   \n",
       "50%         0.002400       0.009800       0.175800       0.341800   \n",
       "75%         0.039100       0.048800       0.329600       0.585900   \n",
       "max         1.369600       1.420900       4.665500       4.668000   \n",
       "\n",
       "                Emg9          Emg10     repetition   rerepetition  \\\n",
       "count  457542.000000  457542.000000  457542.000000  457542.000000   \n",
       "mean        0.163677       0.330758       3.221488       2.608939   \n",
       "std         0.181937       0.293560       3.489071       3.373117   \n",
       "min         0.000000       0.002400       0.000000       0.000000   \n",
       "25%         0.034200       0.173300       0.000000       0.000000   \n",
       "50%         0.105000       0.249000       2.000000       0.000000   \n",
       "75%         0.236800       0.378400       6.000000       5.000000   \n",
       "max         2.927200       3.752400      10.000000      10.000000   \n",
       "\n",
       "            stimulus     restimulus  \n",
       "count  457542.000000  457542.000000  \n",
       "mean        5.708877       4.624408  \n",
       "std         6.594250       6.359818  \n",
       "min         0.000000       0.000000  \n",
       "25%         0.000000       0.000000  \n",
       "50%         3.000000       0.000000  \n",
       "75%        10.000000       9.000000  \n",
       "max        23.000000      23.000000  "
      ]
     },
     "execution_count": 6,
     "metadata": {},
     "output_type": "execute_result"
    }
   ],
   "source": [
    "raw_data.describe(include='all')"
   ]
  },
  {
   "cell_type": "code",
   "execution_count": 7,
   "id": "fd128768",
   "metadata": {},
   "outputs": [
    {
     "name": "stdout",
     "output_type": "stream",
     "text": [
      "Unique Dependent values and their counts :\n",
      "0     189565\n",
      "8      15503\n",
      "7      15495\n",
      "12     15495\n",
      "2      15495\n",
      "4      15488\n",
      "5      15469\n",
      "6      15461\n",
      "9      15451\n",
      "11     15451\n",
      "10     15424\n",
      "3      15422\n",
      "1      15421\n",
      "13     10331\n",
      "14     10330\n",
      "17     10321\n",
      "15     10293\n",
      "16     10254\n",
      "19      5163\n",
      "21      5163\n",
      "18      5161\n",
      "22      5135\n",
      "20      5126\n",
      "23      5125\n",
      "Name: stimulus, dtype: int64\n"
     ]
    }
   ],
   "source": [
    "print(\"Unique Dependent values and their counts :\")\n",
    "print(raw_data[\"stimulus\"].value_counts())"
   ]
  },
  {
   "cell_type": "code",
   "execution_count": 8,
   "id": "93de5c20",
   "metadata": {},
   "outputs": [
    {
     "data": {
      "text/plain": [
       "Text(0, 0.5, 'Frequency')"
      ]
     },
     "execution_count": 8,
     "metadata": {},
     "output_type": "execute_result"
    },
    {
     "data": {
      "image/png": "[encoded data removed]",
      "text/plain": [
       "<Figure size 432x288 with 1 Axes>"
      ]
     },
     "metadata": {
      "needs_background": "light"
     },
     "output_type": "display_data"
    }
   ],
   "source": [
    "count_classes = pd.value_counts(raw_data['stimulus'], sort = True)\n",
    "\n",
    "count_classes.plot(kind = 'bar', rot=0)\n",
    "\n",
    "plt.title(\"stimulus Class Distribution\")\n",
    "\n",
    "plt.xlabel(\"Class\")\n",
    "\n",
    "plt.ylabel(\"Frequency\")"
   ]
  },
  {
   "cell_type": "markdown",
   "id": "359a141d",
   "metadata": {},
   "source": [
    "# Data Cleaning and Exploratory Data Analysis with New Data"
   ]
  },
  {
   "cell_type": "code",
   "execution_count": 9,
   "id": "34a50c05",
   "metadata": {},
   "outputs": [],
   "source": [
    "index_names = raw_data[ (raw_data['stimulus'] != raw_data['restimulus'])].index\n",
    "raw_data.drop(index_names, inplace = True)"
   ]
  },
  {
   "cell_type": "code",
   "execution_count": 10,
   "id": "78d479cc",
   "metadata": {},
   "outputs": [],
   "source": [
    "index_names = raw_data[ (raw_data['repetition'] != raw_data['rerepetition'])].index\n",
    "raw_data.drop(index_names, inplace = True)"
   ]
  },
  {
   "cell_type": "code",
   "execution_count": 11,
   "id": "8418d307",
   "metadata": {},
   "outputs": [
    {
     "data": {
      "text/html": [
       "<div>\n",
       "<style scoped>\n",
       "    .dataframe tbody tr th:only-of-type {\n",
       "        vertical-align: middle;\n",
       "    }\n",
       "\n",
       "    .dataframe tbody tr th {\n",
       "        vertical-align: top;\n",
       "    }\n",
       "\n",
       "    .dataframe thead th {\n",
       "        text-align: right;\n",
       "    }\n",
       "</style>\n",
       "<table border=\"1\" class=\"dataframe\">\n",
       "  <thead>\n",
       "    <tr style=\"text-align: right;\">\n",
       "      <th></th>\n",
       "      <th>Emg1</th>\n",
       "      <th>Emg2</th>\n",
       "      <th>Emg3</th>\n",
       "      <th>Emg4</th>\n",
       "      <th>Emg5</th>\n",
       "      <th>Emg6</th>\n",
       "      <th>Emg7</th>\n",
       "      <th>Emg8</th>\n",
       "      <th>Emg9</th>\n",
       "      <th>Emg10</th>\n",
       "      <th>repetition</th>\n",
       "      <th>rerepetition</th>\n",
       "      <th>stimulus</th>\n",
       "      <th>restimulus</th>\n",
       "    </tr>\n",
       "  </thead>\n",
       "  <tbody>\n",
       "    <tr>\n",
       "      <th>354301</th>\n",
       "      <td>0.0024</td>\n",
       "      <td>0.1367</td>\n",
       "      <td>0.4370</td>\n",
       "      <td>0.2734</td>\n",
       "      <td>0.0586</td>\n",
       "      <td>0.0757</td>\n",
       "      <td>0.3467</td>\n",
       "      <td>0.4004</td>\n",
       "      <td>0.2930</td>\n",
       "      <td>0.2344</td>\n",
       "      <td>1</td>\n",
       "      <td>1</td>\n",
       "      <td>13</td>\n",
       "      <td>13</td>\n",
       "    </tr>\n",
       "    <tr>\n",
       "      <th>21888</th>\n",
       "      <td>0.0024</td>\n",
       "      <td>0.1953</td>\n",
       "      <td>0.0024</td>\n",
       "      <td>0.0024</td>\n",
       "      <td>0.0024</td>\n",
       "      <td>0.0049</td>\n",
       "      <td>0.2417</td>\n",
       "      <td>0.4443</td>\n",
       "      <td>0.0635</td>\n",
       "      <td>0.4590</td>\n",
       "      <td>0</td>\n",
       "      <td>0</td>\n",
       "      <td>0</td>\n",
       "      <td>0</td>\n",
       "    </tr>\n",
       "    <tr>\n",
       "      <th>60645</th>\n",
       "      <td>0.0024</td>\n",
       "      <td>0.0537</td>\n",
       "      <td>0.1099</td>\n",
       "      <td>0.2319</td>\n",
       "      <td>0.0049</td>\n",
       "      <td>0.0098</td>\n",
       "      <td>0.1416</td>\n",
       "      <td>0.4712</td>\n",
       "      <td>0.0854</td>\n",
       "      <td>0.1904</td>\n",
       "      <td>0</td>\n",
       "      <td>0</td>\n",
       "      <td>0</td>\n",
       "      <td>0</td>\n",
       "    </tr>\n",
       "    <tr>\n",
       "      <th>416325</th>\n",
       "      <td>0.0024</td>\n",
       "      <td>0.0024</td>\n",
       "      <td>0.0024</td>\n",
       "      <td>0.0024</td>\n",
       "      <td>0.0049</td>\n",
       "      <td>0.0049</td>\n",
       "      <td>0.0830</td>\n",
       "      <td>0.0366</td>\n",
       "      <td>0.2344</td>\n",
       "      <td>0.1733</td>\n",
       "      <td>0</td>\n",
       "      <td>0</td>\n",
       "      <td>0</td>\n",
       "      <td>0</td>\n",
       "    </tr>\n",
       "    <tr>\n",
       "      <th>199420</th>\n",
       "      <td>0.0024</td>\n",
       "      <td>0.3101</td>\n",
       "      <td>0.2075</td>\n",
       "      <td>0.9082</td>\n",
       "      <td>0.1807</td>\n",
       "      <td>0.0830</td>\n",
       "      <td>0.3198</td>\n",
       "      <td>0.6763</td>\n",
       "      <td>0.0513</td>\n",
       "      <td>0.2808</td>\n",
       "      <td>8</td>\n",
       "      <td>8</td>\n",
       "      <td>12</td>\n",
       "      <td>12</td>\n",
       "    </tr>\n",
       "  </tbody>\n",
       "</table>\n",
       "</div>"
      ],
      "text/plain": [
       "          Emg1    Emg2    Emg3    Emg4    Emg5    Emg6    Emg7    Emg8  \\\n",
       "354301  0.0024  0.1367  0.4370  0.2734  0.0586  0.0757  0.3467  0.4004   \n",
       "21888   0.0024  0.1953  0.0024  0.0024  0.0024  0.0049  0.2417  0.4443   \n",
       "60645   0.0024  0.0537  0.1099  0.2319  0.0049  0.0098  0.1416  0.4712   \n",
       "416325  0.0024  0.0024  0.0024  0.0024  0.0049  0.0049  0.0830  0.0366   \n",
       "199420  0.0024  0.3101  0.2075  0.9082  0.1807  0.0830  0.3198  0.6763   \n",
       "\n",
       "          Emg9   Emg10  repetition  rerepetition  stimulus  restimulus  \n",
       "354301  0.2930  0.2344           1             1        13          13  \n",
       "21888   0.0635  0.4590           0             0         0           0  \n",
       "60645   0.0854  0.1904           0             0         0           0  \n",
       "416325  0.2344  0.1733           0             0         0           0  \n",
       "199420  0.0513  0.2808           8             8        12          12  "
      ]
     },
     "execution_count": 11,
     "metadata": {},
     "output_type": "execute_result"
    }
   ],
   "source": [
    "raw_data.sample(5)"
   ]
  },
  {
   "cell_type": "code",
   "execution_count": 12,
   "id": "ff5d7709",
   "metadata": {},
   "outputs": [
    {
     "data": {
      "text/plain": [
       "(381505, 14)"
      ]
     },
     "execution_count": 12,
     "metadata": {},
     "output_type": "execute_result"
    }
   ],
   "source": [
    "raw_data.shape"
   ]
  },
  {
   "cell_type": "code",
   "execution_count": 13,
   "id": "9df2c3c9",
   "metadata": {},
   "outputs": [
    {
     "name": "stdout",
     "output_type": "stream",
     "text": [
      "<class 'pandas.core.frame.DataFrame'>\n",
      "Int64Index: 381505 entries, 0 to 457541\n",
      "Data columns (total 14 columns):\n",
      " #   Column        Non-Null Count   Dtype  \n",
      "---  ------        --------------   -----  \n",
      " 0   Emg1          381505 non-null  float64\n",
      " 1   Emg2          381505 non-null  float64\n",
      " 2   Emg3          381505 non-null  float64\n",
      " 3   Emg4          381505 non-null  float64\n",
      " 4   Emg5          381505 non-null  float64\n",
      " 5   Emg6          381505 non-null  float64\n",
      " 6   Emg7          381505 non-null  float64\n",
      " 7   Emg8          381505 non-null  float64\n",
      " 8   Emg9          381505 non-null  float64\n",
      " 9   Emg10         381505 non-null  float64\n",
      " 10  repetition    381505 non-null  int64  \n",
      " 11  rerepetition  381505 non-null  int64  \n",
      " 12  stimulus      381505 non-null  int64  \n",
      " 13  restimulus    381505 non-null  int64  \n",
      "dtypes: float64(10), int64(4)\n",
      "memory usage: 43.7 MB\n"
     ]
    }
   ],
   "source": [
    "raw_data.info()"
   ]
  },
  {
   "cell_type": "code",
   "execution_count": 14,
   "id": "fbec9c31",
   "metadata": {},
   "outputs": [
    {
     "name": "stdout",
     "output_type": "stream",
     "text": [
      "Emg1            False\n",
      "Emg2            False\n",
      "Emg3            False\n",
      "Emg4            False\n",
      "Emg5            False\n",
      "Emg6            False\n",
      "Emg7            False\n",
      "Emg8            False\n",
      "Emg9            False\n",
      "Emg10           False\n",
      "repetition      False\n",
      "rerepetition    False\n",
      "stimulus        False\n",
      "restimulus      False\n",
      "dtype: bool\n"
     ]
    }
   ],
   "source": [
    "print(raw_data.isnull().any())"
   ]
  },
  {
   "cell_type": "code",
   "execution_count": 15,
   "id": "3a406dae",
   "metadata": {},
   "outputs": [],
   "source": [
    "X = raw_data.iloc[:,0:10]\n",
    "y = raw_data.stimulus"
   ]
  },
  {
   "cell_type": "markdown",
   "id": "797d6a4c",
   "metadata": {},
   "source": [
    "# Standard Scaler"
   ]
  },
  {
   "cell_type": "code",
   "execution_count": 16,
   "id": "eb46d537",
   "metadata": {},
   "outputs": [],
   "source": [
    "from sklearn.preprocessing import StandardScaler\n",
    "standardscaler=StandardScaler()"
   ]
  },
  {
   "cell_type": "code",
   "execution_count": 17,
   "id": "6e891df5",
   "metadata": {},
   "outputs": [],
   "source": [
    "sc = pd.DataFrame(standardscaler.fit_transform(X))"
   ]
  },
  {
   "cell_type": "code",
   "execution_count": 18,
   "id": "28f47777",
   "metadata": {},
   "outputs": [
    {
     "data": {
      "text/html": [
       "<div>\n",
       "<style scoped>\n",
       "    .dataframe tbody tr th:only-of-type {\n",
       "        vertical-align: middle;\n",
       "    }\n",
       "\n",
       "    .dataframe tbody tr th {\n",
       "        vertical-align: top;\n",
       "    }\n",
       "\n",
       "    .dataframe thead th {\n",
       "        text-align: right;\n",
       "    }\n",
       "</style>\n",
       "<table border=\"1\" class=\"dataframe\">\n",
       "  <thead>\n",
       "    <tr style=\"text-align: right;\">\n",
       "      <th></th>\n",
       "      <th>0</th>\n",
       "      <th>1</th>\n",
       "      <th>2</th>\n",
       "      <th>3</th>\n",
       "      <th>4</th>\n",
       "      <th>5</th>\n",
       "      <th>6</th>\n",
       "      <th>7</th>\n",
       "      <th>8</th>\n",
       "      <th>9</th>\n",
       "    </tr>\n",
       "  </thead>\n",
       "  <tbody>\n",
       "    <tr>\n",
       "      <th>0</th>\n",
       "      <td>-0.142904</td>\n",
       "      <td>-0.391311</td>\n",
       "      <td>-0.394138</td>\n",
       "      <td>-0.399275</td>\n",
       "      <td>-0.301307</td>\n",
       "      <td>-0.090992</td>\n",
       "      <td>0.181893</td>\n",
       "      <td>0.058396</td>\n",
       "      <td>0.824933</td>\n",
       "      <td>0.528107</td>\n",
       "    </tr>\n",
       "    <tr>\n",
       "      <th>1</th>\n",
       "      <td>-0.142904</td>\n",
       "      <td>-0.444583</td>\n",
       "      <td>-0.409329</td>\n",
       "      <td>-0.418901</td>\n",
       "      <td>-0.301307</td>\n",
       "      <td>-0.115216</td>\n",
       "      <td>0.148934</td>\n",
       "      <td>0.003920</td>\n",
       "      <td>0.812102</td>\n",
       "      <td>0.473246</td>\n",
       "    </tr>\n",
       "    <tr>\n",
       "      <th>2</th>\n",
       "      <td>-0.142904</td>\n",
       "      <td>-0.503313</td>\n",
       "      <td>-0.424728</td>\n",
       "      <td>-0.445249</td>\n",
       "      <td>-0.325507</td>\n",
       "      <td>-0.161727</td>\n",
       "      <td>0.092459</td>\n",
       "      <td>-0.064313</td>\n",
       "      <td>0.824933</td>\n",
       "      <td>0.418384</td>\n",
       "    </tr>\n",
       "    <tr>\n",
       "      <th>3</th>\n",
       "      <td>-0.142904</td>\n",
       "      <td>-0.556585</td>\n",
       "      <td>-0.424728</td>\n",
       "      <td>-0.458422</td>\n",
       "      <td>-0.350715</td>\n",
       "      <td>-0.209206</td>\n",
       "      <td>0.050056</td>\n",
       "      <td>-0.123251</td>\n",
       "      <td>0.812102</td>\n",
       "      <td>0.324381</td>\n",
       "    </tr>\n",
       "    <tr>\n",
       "      <th>4</th>\n",
       "      <td>-0.142904</td>\n",
       "      <td>-0.599158</td>\n",
       "      <td>-0.424728</td>\n",
       "      <td>-0.464875</td>\n",
       "      <td>-0.374915</td>\n",
       "      <td>-0.233430</td>\n",
       "      <td>0.031359</td>\n",
       "      <td>-0.118603</td>\n",
       "      <td>0.851131</td>\n",
       "      <td>0.308660</td>\n",
       "    </tr>\n",
       "    <tr>\n",
       "      <th>...</th>\n",
       "      <td>...</td>\n",
       "      <td>...</td>\n",
       "      <td>...</td>\n",
       "      <td>...</td>\n",
       "      <td>...</td>\n",
       "      <td>...</td>\n",
       "      <td>...</td>\n",
       "      <td>...</td>\n",
       "      <td>...</td>\n",
       "      <td>...</td>\n",
       "    </tr>\n",
       "    <tr>\n",
       "      <th>381500</th>\n",
       "      <td>-0.142904</td>\n",
       "      <td>-0.620554</td>\n",
       "      <td>-0.424728</td>\n",
       "      <td>-0.471596</td>\n",
       "      <td>-0.473730</td>\n",
       "      <td>-0.517335</td>\n",
       "      <td>-0.354517</td>\n",
       "      <td>-0.908587</td>\n",
       "      <td>-0.375879</td>\n",
       "      <td>-0.850497</td>\n",
       "    </tr>\n",
       "    <tr>\n",
       "      <th>381501</th>\n",
       "      <td>-0.142904</td>\n",
       "      <td>-0.620554</td>\n",
       "      <td>-0.424728</td>\n",
       "      <td>-0.471596</td>\n",
       "      <td>-0.473730</td>\n",
       "      <td>-0.493111</td>\n",
       "      <td>-0.373406</td>\n",
       "      <td>-0.913049</td>\n",
       "      <td>-0.388711</td>\n",
       "      <td>-0.858196</td>\n",
       "    </tr>\n",
       "    <tr>\n",
       "      <th>381502</th>\n",
       "      <td>-0.142904</td>\n",
       "      <td>-0.631252</td>\n",
       "      <td>-0.424728</td>\n",
       "      <td>-0.471596</td>\n",
       "      <td>-0.473730</td>\n",
       "      <td>-0.445632</td>\n",
       "      <td>-0.382850</td>\n",
       "      <td>-0.913049</td>\n",
       "      <td>-0.402077</td>\n",
       "      <td>-0.850497</td>\n",
       "    </tr>\n",
       "    <tr>\n",
       "      <th>381503</th>\n",
       "      <td>-0.142904</td>\n",
       "      <td>-0.641950</td>\n",
       "      <td>-0.424728</td>\n",
       "      <td>-0.471596</td>\n",
       "      <td>-0.473730</td>\n",
       "      <td>-0.422377</td>\n",
       "      <td>-0.401547</td>\n",
       "      <td>-0.922159</td>\n",
       "      <td>-0.428274</td>\n",
       "      <td>-0.842797</td>\n",
       "    </tr>\n",
       "    <tr>\n",
       "      <th>381504</th>\n",
       "      <td>-0.142904</td>\n",
       "      <td>-0.657888</td>\n",
       "      <td>-0.424728</td>\n",
       "      <td>-0.471596</td>\n",
       "      <td>-0.473730</td>\n",
       "      <td>-0.327419</td>\n",
       "      <td>-0.415810</td>\n",
       "      <td>-0.926622</td>\n",
       "      <td>-0.441106</td>\n",
       "      <td>-0.842797</td>\n",
       "    </tr>\n",
       "  </tbody>\n",
       "</table>\n",
       "<p>381505 rows × 10 columns</p>\n",
       "</div>"
      ],
      "text/plain": [
       "               0         1         2         3         4         5         6  \\\n",
       "0      -0.142904 -0.391311 -0.394138 -0.399275 -0.301307 -0.090992  0.181893   \n",
       "1      -0.142904 -0.444583 -0.409329 -0.418901 -0.301307 -0.115216  0.148934   \n",
       "2      -0.142904 -0.503313 -0.424728 -0.445249 -0.325507 -0.161727  0.092459   \n",
       "3      -0.142904 -0.556585 -0.424728 -0.458422 -0.350715 -0.209206  0.050056   \n",
       "4      -0.142904 -0.599158 -0.424728 -0.464875 -0.374915 -0.233430  0.031359   \n",
       "...          ...       ...       ...       ...       ...       ...       ...   \n",
       "381500 -0.142904 -0.620554 -0.424728 -0.471596 -0.473730 -0.517335 -0.354517   \n",
       "381501 -0.142904 -0.620554 -0.424728 -0.471596 -0.473730 -0.493111 -0.373406   \n",
       "381502 -0.142904 -0.631252 -0.424728 -0.471596 -0.473730 -0.445632 -0.382850   \n",
       "381503 -0.142904 -0.641950 -0.424728 -0.471596 -0.473730 -0.422377 -0.401547   \n",
       "381504 -0.142904 -0.657888 -0.424728 -0.471596 -0.473730 -0.327419 -0.415810   \n",
       "\n",
       "               7         8         9  \n",
       "0       0.058396  0.824933  0.528107  \n",
       "1       0.003920  0.812102  0.473246  \n",
       "2      -0.064313  0.824933  0.418384  \n",
       "3      -0.123251  0.812102  0.324381  \n",
       "4      -0.118603  0.851131  0.308660  \n",
       "...          ...       ...       ...  \n",
       "381500 -0.908587 -0.375879 -0.850497  \n",
       "381501 -0.913049 -0.388711 -0.858196  \n",
       "381502 -0.913049 -0.402077 -0.850497  \n",
       "381503 -0.922159 -0.428274 -0.842797  \n",
       "381504 -0.926622 -0.441106 -0.842797  \n",
       "\n",
       "[381505 rows x 10 columns]"
      ]
     },
     "execution_count": 18,
     "metadata": {},
     "output_type": "execute_result"
    }
   ],
   "source": [
    "sc"
   ]
  },
  {
   "cell_type": "code",
   "execution_count": 19,
   "id": "83683085",
   "metadata": {},
   "outputs": [],
   "source": [
    "# Splitting data for training and testing\n",
    "X_train, X_test, y_train, y_test = train_test_split(sc, y, test_size = 0.2, random_state = 39)"
   ]
  },
  {
   "cell_type": "markdown",
   "id": "676e9bd7",
   "metadata": {},
   "source": [
    "# KNeighborsClassifier"
   ]
  },
  {
   "cell_type": "code",
   "execution_count": 20,
   "id": "30a0e188",
   "metadata": {},
   "outputs": [
    {
     "data": {
      "text/plain": [
       "KNeighborsClassifier()"
      ]
     },
     "execution_count": 20,
     "metadata": {},
     "output_type": "execute_result"
    }
   ],
   "source": [
    "from sklearn.neighbors import KNeighborsClassifier\n",
    "KNeighborsClassifier = KNeighborsClassifier()\n",
    "KNeighborsClassifier.fit(X_train, y_train)"
   ]
  },
  {
   "cell_type": "code",
   "execution_count": 21,
   "id": "0249d6ed",
   "metadata": {},
   "outputs": [],
   "source": [
    "y_pred = KNeighborsClassifier.predict(X_test)"
   ]
  },
  {
   "cell_type": "code",
   "execution_count": 22,
   "id": "288d1cf4",
   "metadata": {},
   "outputs": [
    {
     "name": "stdout",
     "output_type": "stream",
     "text": [
      "Accuracy is: 90.19409968414568\n"
     ]
    }
   ],
   "source": [
    "from sklearn.metrics import accuracy_score\n",
    "accuracy = {accuracy_score(y_test, y_pred)}\n",
    "print(f\"Accuracy is: {accuracy_score(y_test, y_pred)* 100}\")"
   ]
  },
  {
   "cell_type": "code",
   "execution_count": 23,
   "id": "9595f210",
   "metadata": {},
   "outputs": [
    {
     "name": "stdout",
     "output_type": "stream",
     "text": [
      "\u001b[1mClassification report : \u001b[0m\n",
      "               precision    recall  f1-score   support\n",
      "\n",
      "           0       0.90      0.97      0.93     35294\n",
      "           1       0.88      0.87      0.88      2483\n",
      "           2       0.90      0.88      0.89      2337\n",
      "           3       0.91      0.84      0.88      2284\n",
      "           4       0.89      0.84      0.87      2142\n",
      "           5       0.86      0.80      0.83      2448\n",
      "           6       0.92      0.87      0.89      2195\n",
      "           7       0.88      0.82      0.85      2517\n",
      "           8       0.89      0.79      0.84      2756\n",
      "           9       0.88      0.78      0.83      2446\n",
      "          10       0.92      0.83      0.87      2278\n",
      "          11       0.92      0.87      0.89      2523\n",
      "          12       0.91      0.87      0.89      2434\n",
      "          13       0.92      0.89      0.90      1369\n",
      "          14       0.89      0.87      0.88      1324\n",
      "          15       0.89      0.78      0.83      1375\n",
      "          16       0.91      0.87      0.89      1520\n",
      "          17       0.89      0.77      0.83      1651\n",
      "          18       0.90      0.81      0.85       748\n",
      "          19       0.88      0.85      0.87       832\n",
      "          20       0.98      0.97      0.97       877\n",
      "          21       0.94      0.84      0.88       761\n",
      "          22       0.97      0.85      0.91       781\n",
      "          23       0.98      0.92      0.95       926\n",
      "\n",
      "    accuracy                           0.90     76301\n",
      "   macro avg       0.91      0.85      0.88     76301\n",
      "weighted avg       0.90      0.90      0.90     76301\n",
      "\n",
      "\u001b[1mConfusion Matrix : \u001b[0m\n"
     ]
    },
    {
     "data": {
      "image/png": "[encoded data removed]",
      "text/plain": [
       "<Figure size 432x288 with 2 Axes>"
      ]
     },
     "metadata": {
      "needs_background": "light"
     },
     "output_type": "display_data"
    }
   ],
   "source": [
    "print('\\033[1m' +'Classification report : '+ '\\033[0m\\n', classification_report(y_test, y_pred))\n",
    "\n",
    "cm = confusion_matrix(y_pred, y_test)\n",
    "print('\\033[1m' +'Confusion Matrix : '+ '\\033[0m')\n",
    "sns.heatmap(cm, cmap = 'OrRd',annot = True, fmt='d')\n",
    "plt.show()"
   ]
  },
  {
   "cell_type": "markdown",
   "id": "12894e89",
   "metadata": {},
   "source": [
    "# Evaluation"
   ]
  },
  {
   "cell_type": "code",
   "execution_count": 24,
   "id": "67c898f1",
   "metadata": {},
   "outputs": [
    {
     "name": "stdout",
     "output_type": "stream",
     "text": [
      "MAE: 0.7774865335972005\n",
      "MSE: 9.12018191111519\n",
      "RMSE: 3.019963892352885\n"
     ]
    }
   ],
   "source": [
    "from sklearn import metrics\n",
    "\n",
    "print('MAE:', metrics.mean_absolute_error(y_test,y_pred))\n",
    "print('MSE:', metrics.mean_squared_error(y_test, y_pred))\n",
    "print('RMSE:', np.sqrt(metrics.mean_squared_error(y_test, y_pred)))"
   ]
  },
  {
   "cell_type": "code",
   "execution_count": 25,
   "id": "1c13a208",
   "metadata": {},
   "outputs": [
    {
     "name": "stdout",
     "output_type": "stream",
     "text": [
      "Precision Score :  0.9019789532781151\n",
      "Recall Score :  0.9019409968414569\n",
      "f1_score :  0.9006179148724138\n"
     ]
    }
   ],
   "source": [
    "from sklearn.metrics import precision_score\n",
    "print(\"Precision Score : \",precision_score(y_test, y_pred, average='weighted'))\n",
    "\n",
    "\n",
    "from sklearn.metrics import recall_score\n",
    "print(\"Recall Score : \",recall_score(y_test, y_pred,average='weighted'))\n",
    "\n",
    "\n",
    "from sklearn.metrics import f1_score\n",
    "print(\"f1_score : \",f1_score(y_test, y_pred,average='weighted'))"
   ]
  },
  {
   "cell_type": "code",
   "execution_count": null,
   "id": "a0b63d90",
   "metadata": {},
   "outputs": [],
   "source": []
  }
 ],
 "metadata": {
  "kernelspec": {
   "display_name": "Python 3 (ipykernel)",
   "language": "python",
   "name": "python3"
  },
  "language_info": {
   "codemirror_mode": {
    "name": "ipython",
    "version": 3
   },
   "file_extension": ".py",
   "mimetype": "text/x-python",
   "name": "python",
   "nbconvert_exporter": "python",
   "pygments_lexer": "ipython3",
   "version": "3.8.12"
  }
 },
 "nbformat": 4,
 "nbformat_minor": 5
}
