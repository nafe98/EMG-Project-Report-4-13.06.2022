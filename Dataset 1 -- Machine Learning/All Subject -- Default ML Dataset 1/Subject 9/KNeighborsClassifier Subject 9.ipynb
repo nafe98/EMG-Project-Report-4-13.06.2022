{
 "cells": [
  {
   "cell_type": "markdown",
   "id": "5146ed0c",
   "metadata": {},
   "source": [
    "# Importing Libraries"
   ]
  },
  {
   "cell_type": "code",
   "execution_count": 1,
   "id": "3045e9ed",
   "metadata": {},
   "outputs": [],
   "source": [
    "import numpy as np\n",
    "import pandas as pd\n",
    "import matplotlib.pyplot as plt\n",
    "import seaborn as sns\n",
    "from sklearn.model_selection import train_test_split\n",
    "from sklearn.metrics import confusion_matrix, f1_score, accuracy_score, classification_report"
   ]
  },
  {
   "cell_type": "markdown",
   "id": "42648960",
   "metadata": {},
   "source": [
    "# Exploratory Data Analysis"
   ]
  },
  {
   "cell_type": "code",
   "execution_count": 2,
   "id": "c6cab329",
   "metadata": {
    "scrolled": false
   },
   "outputs": [
    {
     "data": {
      "text/html": [
       "<div>\n",
       "<style scoped>\n",
       "    .dataframe tbody tr th:only-of-type {\n",
       "        vertical-align: middle;\n",
       "    }\n",
       "\n",
       "    .dataframe tbody tr th {\n",
       "        vertical-align: top;\n",
       "    }\n",
       "\n",
       "    .dataframe thead th {\n",
       "        text-align: right;\n",
       "    }\n",
       "</style>\n",
       "<table border=\"1\" class=\"dataframe\">\n",
       "  <thead>\n",
       "    <tr style=\"text-align: right;\">\n",
       "      <th></th>\n",
       "      <th>Emg1</th>\n",
       "      <th>Emg2</th>\n",
       "      <th>Emg3</th>\n",
       "      <th>Emg4</th>\n",
       "      <th>Emg5</th>\n",
       "      <th>Emg6</th>\n",
       "      <th>Emg7</th>\n",
       "      <th>Emg8</th>\n",
       "      <th>Emg9</th>\n",
       "      <th>Emg10</th>\n",
       "      <th>repetition</th>\n",
       "      <th>rerepetition</th>\n",
       "      <th>stimulus</th>\n",
       "      <th>restimulus</th>\n",
       "    </tr>\n",
       "  </thead>\n",
       "  <tbody>\n",
       "    <tr>\n",
       "      <th>105534</th>\n",
       "      <td>0.0293</td>\n",
       "      <td>0.0220</td>\n",
       "      <td>0.0024</td>\n",
       "      <td>0.0024</td>\n",
       "      <td>0.0024</td>\n",
       "      <td>0.0854</td>\n",
       "      <td>0.2515</td>\n",
       "      <td>0.1196</td>\n",
       "      <td>0.0024</td>\n",
       "      <td>0.0024</td>\n",
       "      <td>6</td>\n",
       "      <td>6</td>\n",
       "      <td>1</td>\n",
       "      <td>1</td>\n",
       "    </tr>\n",
       "    <tr>\n",
       "      <th>302370</th>\n",
       "      <td>0.0024</td>\n",
       "      <td>0.0024</td>\n",
       "      <td>0.0024</td>\n",
       "      <td>0.0073</td>\n",
       "      <td>0.0024</td>\n",
       "      <td>0.0195</td>\n",
       "      <td>0.4980</td>\n",
       "      <td>0.4199</td>\n",
       "      <td>0.0024</td>\n",
       "      <td>0.0732</td>\n",
       "      <td>10</td>\n",
       "      <td>10</td>\n",
       "      <td>6</td>\n",
       "      <td>6</td>\n",
       "    </tr>\n",
       "    <tr>\n",
       "      <th>197147</th>\n",
       "      <td>0.0269</td>\n",
       "      <td>0.0244</td>\n",
       "      <td>0.2881</td>\n",
       "      <td>0.0244</td>\n",
       "      <td>0.0049</td>\n",
       "      <td>0.0610</td>\n",
       "      <td>1.0840</td>\n",
       "      <td>0.8203</td>\n",
       "      <td>0.0073</td>\n",
       "      <td>0.1123</td>\n",
       "      <td>5</td>\n",
       "      <td>5</td>\n",
       "      <td>12</td>\n",
       "      <td>12</td>\n",
       "    </tr>\n",
       "    <tr>\n",
       "      <th>352384</th>\n",
       "      <td>0.0049</td>\n",
       "      <td>0.1294</td>\n",
       "      <td>0.1685</td>\n",
       "      <td>0.1440</td>\n",
       "      <td>0.0269</td>\n",
       "      <td>0.2441</td>\n",
       "      <td>0.1147</td>\n",
       "      <td>0.3711</td>\n",
       "      <td>0.2832</td>\n",
       "      <td>0.1050</td>\n",
       "      <td>4</td>\n",
       "      <td>4</td>\n",
       "      <td>12</td>\n",
       "      <td>12</td>\n",
       "    </tr>\n",
       "    <tr>\n",
       "      <th>396977</th>\n",
       "      <td>0.0024</td>\n",
       "      <td>0.0635</td>\n",
       "      <td>0.0684</td>\n",
       "      <td>0.0024</td>\n",
       "      <td>0.0024</td>\n",
       "      <td>0.0806</td>\n",
       "      <td>0.1636</td>\n",
       "      <td>0.4810</td>\n",
       "      <td>0.0024</td>\n",
       "      <td>0.1953</td>\n",
       "      <td>2</td>\n",
       "      <td>2</td>\n",
       "      <td>17</td>\n",
       "      <td>17</td>\n",
       "    </tr>\n",
       "  </tbody>\n",
       "</table>\n",
       "</div>"
      ],
      "text/plain": [
       "          Emg1    Emg2    Emg3    Emg4    Emg5    Emg6    Emg7    Emg8  \\\n",
       "105534  0.0293  0.0220  0.0024  0.0024  0.0024  0.0854  0.2515  0.1196   \n",
       "302370  0.0024  0.0024  0.0024  0.0073  0.0024  0.0195  0.4980  0.4199   \n",
       "197147  0.0269  0.0244  0.2881  0.0244  0.0049  0.0610  1.0840  0.8203   \n",
       "352384  0.0049  0.1294  0.1685  0.1440  0.0269  0.2441  0.1147  0.3711   \n",
       "396977  0.0024  0.0635  0.0684  0.0024  0.0024  0.0806  0.1636  0.4810   \n",
       "\n",
       "          Emg9   Emg10  repetition  rerepetition  stimulus  restimulus  \n",
       "105534  0.0024  0.0024           6             6         1           1  \n",
       "302370  0.0024  0.0732          10            10         6           6  \n",
       "197147  0.0073  0.1123           5             5        12          12  \n",
       "352384  0.2832  0.1050           4             4        12          12  \n",
       "396977  0.0024  0.1953           2             2        17          17  "
      ]
     },
     "execution_count": 2,
     "metadata": {},
     "output_type": "execute_result"
    }
   ],
   "source": [
    "raw_data = pd.read_excel('Dataset 1 Patient 9.xlsx')\n",
    "raw_data.sample(5)"
   ]
  },
  {
   "cell_type": "code",
   "execution_count": 3,
   "id": "8cad9bd6",
   "metadata": {},
   "outputs": [
    {
     "data": {
      "text/plain": [
       "(461355, 14)"
      ]
     },
     "execution_count": 3,
     "metadata": {},
     "output_type": "execute_result"
    }
   ],
   "source": [
    "raw_data.shape"
   ]
  },
  {
   "cell_type": "code",
   "execution_count": 4,
   "id": "d05a18f1",
   "metadata": {},
   "outputs": [
    {
     "data": {
      "text/plain": [
       "Index(['Emg1', 'Emg2', 'Emg3', 'Emg4', 'Emg5', 'Emg6', 'Emg7', 'Emg8', 'Emg9',\n",
       "       'Emg10', 'repetition', 'rerepetition', 'stimulus', 'restimulus'],\n",
       "      dtype='object')"
      ]
     },
     "execution_count": 4,
     "metadata": {},
     "output_type": "execute_result"
    }
   ],
   "source": [
    "raw_data.columns"
   ]
  },
  {
   "cell_type": "code",
   "execution_count": 5,
   "id": "259f05e6",
   "metadata": {},
   "outputs": [
    {
     "name": "stdout",
     "output_type": "stream",
     "text": [
      "<class 'pandas.core.frame.DataFrame'>\n",
      "RangeIndex: 461355 entries, 0 to 461354\n",
      "Data columns (total 14 columns):\n",
      " #   Column        Non-Null Count   Dtype  \n",
      "---  ------        --------------   -----  \n",
      " 0   Emg1          461355 non-null  float64\n",
      " 1   Emg2          461355 non-null  float64\n",
      " 2   Emg3          461355 non-null  float64\n",
      " 3   Emg4          461355 non-null  float64\n",
      " 4   Emg5          461355 non-null  float64\n",
      " 5   Emg6          461355 non-null  float64\n",
      " 6   Emg7          461355 non-null  float64\n",
      " 7   Emg8          461355 non-null  float64\n",
      " 8   Emg9          461355 non-null  float64\n",
      " 9   Emg10         461355 non-null  float64\n",
      " 10  repetition    461355 non-null  int64  \n",
      " 11  rerepetition  461355 non-null  int64  \n",
      " 12  stimulus      461355 non-null  int64  \n",
      " 13  restimulus    461355 non-null  int64  \n",
      "dtypes: float64(10), int64(4)\n",
      "memory usage: 49.3 MB\n"
     ]
    }
   ],
   "source": [
    "raw_data.info()"
   ]
  },
  {
   "cell_type": "code",
   "execution_count": 6,
   "id": "613a1cc1",
   "metadata": {},
   "outputs": [
    {
     "data": {
      "text/html": [
       "<div>\n",
       "<style scoped>\n",
       "    .dataframe tbody tr th:only-of-type {\n",
       "        vertical-align: middle;\n",
       "    }\n",
       "\n",
       "    .dataframe tbody tr th {\n",
       "        vertical-align: top;\n",
       "    }\n",
       "\n",
       "    .dataframe thead th {\n",
       "        text-align: right;\n",
       "    }\n",
       "</style>\n",
       "<table border=\"1\" class=\"dataframe\">\n",
       "  <thead>\n",
       "    <tr style=\"text-align: right;\">\n",
       "      <th></th>\n",
       "      <th>Emg1</th>\n",
       "      <th>Emg2</th>\n",
       "      <th>Emg3</th>\n",
       "      <th>Emg4</th>\n",
       "      <th>Emg5</th>\n",
       "      <th>Emg6</th>\n",
       "      <th>Emg7</th>\n",
       "      <th>Emg8</th>\n",
       "      <th>Emg9</th>\n",
       "      <th>Emg10</th>\n",
       "      <th>repetition</th>\n",
       "      <th>rerepetition</th>\n",
       "      <th>stimulus</th>\n",
       "      <th>restimulus</th>\n",
       "    </tr>\n",
       "  </thead>\n",
       "  <tbody>\n",
       "    <tr>\n",
       "      <th>count</th>\n",
       "      <td>461355.000000</td>\n",
       "      <td>461355.000000</td>\n",
       "      <td>461355.000000</td>\n",
       "      <td>461355.000000</td>\n",
       "      <td>461355.000000</td>\n",
       "      <td>461355.000000</td>\n",
       "      <td>461355.000000</td>\n",
       "      <td>461355.000000</td>\n",
       "      <td>461355.000000</td>\n",
       "      <td>461355.000000</td>\n",
       "      <td>461355.000000</td>\n",
       "      <td>461355.000000</td>\n",
       "      <td>461355.000000</td>\n",
       "      <td>461355.000000</td>\n",
       "    </tr>\n",
       "    <tr>\n",
       "      <th>mean</th>\n",
       "      <td>0.012592</td>\n",
       "      <td>0.063858</td>\n",
       "      <td>0.083643</td>\n",
       "      <td>0.019420</td>\n",
       "      <td>0.009869</td>\n",
       "      <td>0.067976</td>\n",
       "      <td>0.379264</td>\n",
       "      <td>0.189232</td>\n",
       "      <td>0.147708</td>\n",
       "      <td>0.108196</td>\n",
       "      <td>3.196580</td>\n",
       "      <td>2.265201</td>\n",
       "      <td>5.664542</td>\n",
       "      <td>4.039941</td>\n",
       "    </tr>\n",
       "    <tr>\n",
       "      <th>std</th>\n",
       "      <td>0.020043</td>\n",
       "      <td>0.171862</td>\n",
       "      <td>0.236912</td>\n",
       "      <td>0.058591</td>\n",
       "      <td>0.036540</td>\n",
       "      <td>0.169753</td>\n",
       "      <td>0.571609</td>\n",
       "      <td>0.326014</td>\n",
       "      <td>0.387663</td>\n",
       "      <td>0.189839</td>\n",
       "      <td>3.486926</td>\n",
       "      <td>3.265661</td>\n",
       "      <td>6.587632</td>\n",
       "      <td>6.156426</td>\n",
       "    </tr>\n",
       "    <tr>\n",
       "      <th>min</th>\n",
       "      <td>0.002400</td>\n",
       "      <td>0.000000</td>\n",
       "      <td>0.002400</td>\n",
       "      <td>0.002400</td>\n",
       "      <td>0.002400</td>\n",
       "      <td>0.000000</td>\n",
       "      <td>0.002400</td>\n",
       "      <td>0.002400</td>\n",
       "      <td>0.000000</td>\n",
       "      <td>0.002400</td>\n",
       "      <td>0.000000</td>\n",
       "      <td>0.000000</td>\n",
       "      <td>0.000000</td>\n",
       "      <td>0.000000</td>\n",
       "    </tr>\n",
       "    <tr>\n",
       "      <th>25%</th>\n",
       "      <td>0.002400</td>\n",
       "      <td>0.002400</td>\n",
       "      <td>0.002400</td>\n",
       "      <td>0.002400</td>\n",
       "      <td>0.002400</td>\n",
       "      <td>0.002400</td>\n",
       "      <td>0.068400</td>\n",
       "      <td>0.041500</td>\n",
       "      <td>0.002400</td>\n",
       "      <td>0.002400</td>\n",
       "      <td>0.000000</td>\n",
       "      <td>0.000000</td>\n",
       "      <td>0.000000</td>\n",
       "      <td>0.000000</td>\n",
       "    </tr>\n",
       "    <tr>\n",
       "      <th>50%</th>\n",
       "      <td>0.004900</td>\n",
       "      <td>0.002400</td>\n",
       "      <td>0.002400</td>\n",
       "      <td>0.002400</td>\n",
       "      <td>0.002400</td>\n",
       "      <td>0.026900</td>\n",
       "      <td>0.153800</td>\n",
       "      <td>0.083000</td>\n",
       "      <td>0.002400</td>\n",
       "      <td>0.031700</td>\n",
       "      <td>2.000000</td>\n",
       "      <td>0.000000</td>\n",
       "      <td>3.000000</td>\n",
       "      <td>0.000000</td>\n",
       "    </tr>\n",
       "    <tr>\n",
       "      <th>75%</th>\n",
       "      <td>0.019500</td>\n",
       "      <td>0.039100</td>\n",
       "      <td>0.041500</td>\n",
       "      <td>0.002400</td>\n",
       "      <td>0.002400</td>\n",
       "      <td>0.080600</td>\n",
       "      <td>0.444300</td>\n",
       "      <td>0.180700</td>\n",
       "      <td>0.073200</td>\n",
       "      <td>0.139200</td>\n",
       "      <td>6.000000</td>\n",
       "      <td>4.000000</td>\n",
       "      <td>10.000000</td>\n",
       "      <td>7.000000</td>\n",
       "    </tr>\n",
       "    <tr>\n",
       "      <th>max</th>\n",
       "      <td>1.301300</td>\n",
       "      <td>3.315400</td>\n",
       "      <td>4.660600</td>\n",
       "      <td>1.555200</td>\n",
       "      <td>1.225600</td>\n",
       "      <td>4.665500</td>\n",
       "      <td>4.665500</td>\n",
       "      <td>4.665500</td>\n",
       "      <td>4.663100</td>\n",
       "      <td>4.111300</td>\n",
       "      <td>10.000000</td>\n",
       "      <td>10.000000</td>\n",
       "      <td>23.000000</td>\n",
       "      <td>23.000000</td>\n",
       "    </tr>\n",
       "  </tbody>\n",
       "</table>\n",
       "</div>"
      ],
      "text/plain": [
       "                Emg1           Emg2           Emg3           Emg4  \\\n",
       "count  461355.000000  461355.000000  461355.000000  461355.000000   \n",
       "mean        0.012592       0.063858       0.083643       0.019420   \n",
       "std         0.020043       0.171862       0.236912       0.058591   \n",
       "min         0.002400       0.000000       0.002400       0.002400   \n",
       "25%         0.002400       0.002400       0.002400       0.002400   \n",
       "50%         0.004900       0.002400       0.002400       0.002400   \n",
       "75%         0.019500       0.039100       0.041500       0.002400   \n",
       "max         1.301300       3.315400       4.660600       1.555200   \n",
       "\n",
       "                Emg5           Emg6           Emg7           Emg8  \\\n",
       "count  461355.000000  461355.000000  461355.000000  461355.000000   \n",
       "mean        0.009869       0.067976       0.379264       0.189232   \n",
       "std         0.036540       0.169753       0.571609       0.326014   \n",
       "min         0.002400       0.000000       0.002400       0.002400   \n",
       "25%         0.002400       0.002400       0.068400       0.041500   \n",
       "50%         0.002400       0.026900       0.153800       0.083000   \n",
       "75%         0.002400       0.080600       0.444300       0.180700   \n",
       "max         1.225600       4.665500       4.665500       4.665500   \n",
       "\n",
       "                Emg9          Emg10     repetition   rerepetition  \\\n",
       "count  461355.000000  461355.000000  461355.000000  461355.000000   \n",
       "mean        0.147708       0.108196       3.196580       2.265201   \n",
       "std         0.387663       0.189839       3.486926       3.265661   \n",
       "min         0.000000       0.002400       0.000000       0.000000   \n",
       "25%         0.002400       0.002400       0.000000       0.000000   \n",
       "50%         0.002400       0.031700       2.000000       0.000000   \n",
       "75%         0.073200       0.139200       6.000000       4.000000   \n",
       "max         4.663100       4.111300      10.000000      10.000000   \n",
       "\n",
       "            stimulus     restimulus  \n",
       "count  461355.000000  461355.000000  \n",
       "mean        5.664542       4.039941  \n",
       "std         6.587632       6.156426  \n",
       "min         0.000000       0.000000  \n",
       "25%         0.000000       0.000000  \n",
       "50%         3.000000       0.000000  \n",
       "75%        10.000000       7.000000  \n",
       "max        23.000000      23.000000  "
      ]
     },
     "execution_count": 6,
     "metadata": {},
     "output_type": "execute_result"
    }
   ],
   "source": [
    "raw_data.describe(include='all')"
   ]
  },
  {
   "cell_type": "code",
   "execution_count": 7,
   "id": "fd128768",
   "metadata": {},
   "outputs": [
    {
     "name": "stdout",
     "output_type": "stream",
     "text": [
      "Unique Dependent values and their counts :\n",
      "0     193240\n",
      "7      15521\n",
      "4      15516\n",
      "12     15515\n",
      "2      15505\n",
      "8      15498\n",
      "6      15464\n",
      "9      15458\n",
      "11     15453\n",
      "5      15451\n",
      "10     15437\n",
      "3      15432\n",
      "1      15428\n",
      "14     10339\n",
      "13     10322\n",
      "17     10322\n",
      "15     10297\n",
      "16     10266\n",
      "18      5169\n",
      "21      5166\n",
      "19      5164\n",
      "20      5134\n",
      "22      5133\n",
      "23      5125\n",
      "Name: stimulus, dtype: int64\n"
     ]
    }
   ],
   "source": [
    "print(\"Unique Dependent values and their counts :\")\n",
    "print(raw_data[\"stimulus\"].value_counts())"
   ]
  },
  {
   "cell_type": "code",
   "execution_count": 8,
   "id": "93de5c20",
   "metadata": {},
   "outputs": [
    {
     "data": {
      "text/plain": [
       "Text(0, 0.5, 'Frequency')"
      ]
     },
     "execution_count": 8,
     "metadata": {},
     "output_type": "execute_result"
    },
    {
     "data": {
      "image/png": "[encoded data removed]",
      "text/plain": [
       "<Figure size 432x288 with 1 Axes>"
      ]
     },
     "metadata": {
      "needs_background": "light"
     },
     "output_type": "display_data"
    }
   ],
   "source": [
    "count_classes = pd.value_counts(raw_data['stimulus'], sort = True)\n",
    "\n",
    "count_classes.plot(kind = 'bar', rot=0)\n",
    "\n",
    "plt.title(\"stimulus Class Distribution\")\n",
    "\n",
    "plt.xlabel(\"Class\")\n",
    "\n",
    "plt.ylabel(\"Frequency\")"
   ]
  },
  {
   "cell_type": "markdown",
   "id": "359a141d",
   "metadata": {},
   "source": [
    "# Data Cleaning and Exploratory Data Analysis with New Data"
   ]
  },
  {
   "cell_type": "code",
   "execution_count": 9,
   "id": "34a50c05",
   "metadata": {},
   "outputs": [],
   "source": [
    "index_names = raw_data[ (raw_data['stimulus'] != raw_data['restimulus'])].index\n",
    "raw_data.drop(index_names, inplace = True)"
   ]
  },
  {
   "cell_type": "code",
   "execution_count": 10,
   "id": "78d479cc",
   "metadata": {},
   "outputs": [],
   "source": [
    "index_names = raw_data[ (raw_data['repetition'] != raw_data['rerepetition'])].index\n",
    "raw_data.drop(index_names, inplace = True)"
   ]
  },
  {
   "cell_type": "code",
   "execution_count": 11,
   "id": "8418d307",
   "metadata": {},
   "outputs": [
    {
     "data": {
      "text/html": [
       "<div>\n",
       "<style scoped>\n",
       "    .dataframe tbody tr th:only-of-type {\n",
       "        vertical-align: middle;\n",
       "    }\n",
       "\n",
       "    .dataframe tbody tr th {\n",
       "        vertical-align: top;\n",
       "    }\n",
       "\n",
       "    .dataframe thead th {\n",
       "        text-align: right;\n",
       "    }\n",
       "</style>\n",
       "<table border=\"1\" class=\"dataframe\">\n",
       "  <thead>\n",
       "    <tr style=\"text-align: right;\">\n",
       "      <th></th>\n",
       "      <th>Emg1</th>\n",
       "      <th>Emg2</th>\n",
       "      <th>Emg3</th>\n",
       "      <th>Emg4</th>\n",
       "      <th>Emg5</th>\n",
       "      <th>Emg6</th>\n",
       "      <th>Emg7</th>\n",
       "      <th>Emg8</th>\n",
       "      <th>Emg9</th>\n",
       "      <th>Emg10</th>\n",
       "      <th>repetition</th>\n",
       "      <th>rerepetition</th>\n",
       "      <th>stimulus</th>\n",
       "      <th>restimulus</th>\n",
       "    </tr>\n",
       "  </thead>\n",
       "  <tbody>\n",
       "    <tr>\n",
       "      <th>111114</th>\n",
       "      <td>0.0293</td>\n",
       "      <td>0.4102</td>\n",
       "      <td>0.2368</td>\n",
       "      <td>0.0024</td>\n",
       "      <td>0.0415</td>\n",
       "      <td>0.2051</td>\n",
       "      <td>0.5322</td>\n",
       "      <td>0.2002</td>\n",
       "      <td>0.8301</td>\n",
       "      <td>0.2637</td>\n",
       "      <td>0</td>\n",
       "      <td>0</td>\n",
       "      <td>0</td>\n",
       "      <td>0</td>\n",
       "    </tr>\n",
       "    <tr>\n",
       "      <th>138794</th>\n",
       "      <td>0.0269</td>\n",
       "      <td>0.0024</td>\n",
       "      <td>0.0024</td>\n",
       "      <td>0.0049</td>\n",
       "      <td>0.0024</td>\n",
       "      <td>0.0024</td>\n",
       "      <td>0.0024</td>\n",
       "      <td>0.0024</td>\n",
       "      <td>0.0024</td>\n",
       "      <td>0.0024</td>\n",
       "      <td>0</td>\n",
       "      <td>0</td>\n",
       "      <td>0</td>\n",
       "      <td>0</td>\n",
       "    </tr>\n",
       "    <tr>\n",
       "      <th>437779</th>\n",
       "      <td>0.0024</td>\n",
       "      <td>0.0610</td>\n",
       "      <td>0.0757</td>\n",
       "      <td>0.2026</td>\n",
       "      <td>0.0024</td>\n",
       "      <td>0.1050</td>\n",
       "      <td>0.2539</td>\n",
       "      <td>0.5469</td>\n",
       "      <td>0.0024</td>\n",
       "      <td>0.0732</td>\n",
       "      <td>7</td>\n",
       "      <td>7</td>\n",
       "      <td>21</td>\n",
       "      <td>21</td>\n",
       "    </tr>\n",
       "    <tr>\n",
       "      <th>34308</th>\n",
       "      <td>0.0024</td>\n",
       "      <td>0.0024</td>\n",
       "      <td>0.0024</td>\n",
       "      <td>0.0024</td>\n",
       "      <td>0.0024</td>\n",
       "      <td>0.0635</td>\n",
       "      <td>1.2769</td>\n",
       "      <td>0.0732</td>\n",
       "      <td>0.0049</td>\n",
       "      <td>0.1855</td>\n",
       "      <td>1</td>\n",
       "      <td>1</td>\n",
       "      <td>5</td>\n",
       "      <td>5</td>\n",
       "    </tr>\n",
       "    <tr>\n",
       "      <th>344100</th>\n",
       "      <td>0.0024</td>\n",
       "      <td>0.0024</td>\n",
       "      <td>0.0024</td>\n",
       "      <td>0.0024</td>\n",
       "      <td>0.0024</td>\n",
       "      <td>0.0024</td>\n",
       "      <td>0.0879</td>\n",
       "      <td>0.1318</td>\n",
       "      <td>0.0024</td>\n",
       "      <td>0.0024</td>\n",
       "      <td>0</td>\n",
       "      <td>0</td>\n",
       "      <td>0</td>\n",
       "      <td>0</td>\n",
       "    </tr>\n",
       "  </tbody>\n",
       "</table>\n",
       "</div>"
      ],
      "text/plain": [
       "          Emg1    Emg2    Emg3    Emg4    Emg5    Emg6    Emg7    Emg8  \\\n",
       "111114  0.0293  0.4102  0.2368  0.0024  0.0415  0.2051  0.5322  0.2002   \n",
       "138794  0.0269  0.0024  0.0024  0.0049  0.0024  0.0024  0.0024  0.0024   \n",
       "437779  0.0024  0.0610  0.0757  0.2026  0.0024  0.1050  0.2539  0.5469   \n",
       "34308   0.0024  0.0024  0.0024  0.0024  0.0024  0.0635  1.2769  0.0732   \n",
       "344100  0.0024  0.0024  0.0024  0.0024  0.0024  0.0024  0.0879  0.1318   \n",
       "\n",
       "          Emg9   Emg10  repetition  rerepetition  stimulus  restimulus  \n",
       "111114  0.8301  0.2637           0             0         0           0  \n",
       "138794  0.0024  0.0024           0             0         0           0  \n",
       "437779  0.0024  0.0732           7             7        21          21  \n",
       "34308   0.0049  0.1855           1             1         5           5  \n",
       "344100  0.0024  0.0024           0             0         0           0  "
      ]
     },
     "execution_count": 11,
     "metadata": {},
     "output_type": "execute_result"
    }
   ],
   "source": [
    "raw_data.sample(5)"
   ]
  },
  {
   "cell_type": "code",
   "execution_count": 12,
   "id": "ff5d7709",
   "metadata": {},
   "outputs": [
    {
     "data": {
      "text/plain": [
       "(377804, 14)"
      ]
     },
     "execution_count": 12,
     "metadata": {},
     "output_type": "execute_result"
    }
   ],
   "source": [
    "raw_data.shape"
   ]
  },
  {
   "cell_type": "code",
   "execution_count": 13,
   "id": "9df2c3c9",
   "metadata": {},
   "outputs": [
    {
     "name": "stdout",
     "output_type": "stream",
     "text": [
      "<class 'pandas.core.frame.DataFrame'>\n",
      "Int64Index: 377804 entries, 0 to 461354\n",
      "Data columns (total 14 columns):\n",
      " #   Column        Non-Null Count   Dtype  \n",
      "---  ------        --------------   -----  \n",
      " 0   Emg1          377804 non-null  float64\n",
      " 1   Emg2          377804 non-null  float64\n",
      " 2   Emg3          377804 non-null  float64\n",
      " 3   Emg4          377804 non-null  float64\n",
      " 4   Emg5          377804 non-null  float64\n",
      " 5   Emg6          377804 non-null  float64\n",
      " 6   Emg7          377804 non-null  float64\n",
      " 7   Emg8          377804 non-null  float64\n",
      " 8   Emg9          377804 non-null  float64\n",
      " 9   Emg10         377804 non-null  float64\n",
      " 10  repetition    377804 non-null  int64  \n",
      " 11  rerepetition  377804 non-null  int64  \n",
      " 12  stimulus      377804 non-null  int64  \n",
      " 13  restimulus    377804 non-null  int64  \n",
      "dtypes: float64(10), int64(4)\n",
      "memory usage: 43.2 MB\n"
     ]
    }
   ],
   "source": [
    "raw_data.info()"
   ]
  },
  {
   "cell_type": "code",
   "execution_count": 14,
   "id": "fbec9c31",
   "metadata": {},
   "outputs": [
    {
     "name": "stdout",
     "output_type": "stream",
     "text": [
      "Emg1            False\n",
      "Emg2            False\n",
      "Emg3            False\n",
      "Emg4            False\n",
      "Emg5            False\n",
      "Emg6            False\n",
      "Emg7            False\n",
      "Emg8            False\n",
      "Emg9            False\n",
      "Emg10           False\n",
      "repetition      False\n",
      "rerepetition    False\n",
      "stimulus        False\n",
      "restimulus      False\n",
      "dtype: bool\n"
     ]
    }
   ],
   "source": [
    "print(raw_data.isnull().any())"
   ]
  },
  {
   "cell_type": "code",
   "execution_count": 15,
   "id": "3a406dae",
   "metadata": {},
   "outputs": [],
   "source": [
    "X = raw_data.iloc[:,0:10]\n",
    "y = raw_data.stimulus"
   ]
  },
  {
   "cell_type": "markdown",
   "id": "797d6a4c",
   "metadata": {},
   "source": [
    "# Standard Scaler"
   ]
  },
  {
   "cell_type": "code",
   "execution_count": 16,
   "id": "eb46d537",
   "metadata": {},
   "outputs": [],
   "source": [
    "from sklearn.preprocessing import StandardScaler\n",
    "standardscaler=StandardScaler()"
   ]
  },
  {
   "cell_type": "code",
   "execution_count": 17,
   "id": "6e891df5",
   "metadata": {},
   "outputs": [],
   "source": [
    "sc = pd.DataFrame(standardscaler.fit_transform(X))"
   ]
  },
  {
   "cell_type": "code",
   "execution_count": 18,
   "id": "28f47777",
   "metadata": {},
   "outputs": [
    {
     "data": {
      "text/html": [
       "<div>\n",
       "<style scoped>\n",
       "    .dataframe tbody tr th:only-of-type {\n",
       "        vertical-align: middle;\n",
       "    }\n",
       "\n",
       "    .dataframe tbody tr th {\n",
       "        vertical-align: top;\n",
       "    }\n",
       "\n",
       "    .dataframe thead th {\n",
       "        text-align: right;\n",
       "    }\n",
       "</style>\n",
       "<table border=\"1\" class=\"dataframe\">\n",
       "  <thead>\n",
       "    <tr style=\"text-align: right;\">\n",
       "      <th></th>\n",
       "      <th>0</th>\n",
       "      <th>1</th>\n",
       "      <th>2</th>\n",
       "      <th>3</th>\n",
       "      <th>4</th>\n",
       "      <th>5</th>\n",
       "      <th>6</th>\n",
       "      <th>7</th>\n",
       "      <th>8</th>\n",
       "      <th>9</th>\n",
       "    </tr>\n",
       "  </thead>\n",
       "  <tbody>\n",
       "    <tr>\n",
       "      <th>0</th>\n",
       "      <td>-0.372199</td>\n",
       "      <td>-0.39097</td>\n",
       "      <td>-0.377686</td>\n",
       "      <td>-0.322784</td>\n",
       "      <td>-0.222079</td>\n",
       "      <td>-0.391151</td>\n",
       "      <td>-0.529671</td>\n",
       "      <td>-0.472082</td>\n",
       "      <td>-0.40822</td>\n",
       "      <td>-0.212823</td>\n",
       "    </tr>\n",
       "    <tr>\n",
       "      <th>1</th>\n",
       "      <td>-0.490319</td>\n",
       "      <td>-0.39097</td>\n",
       "      <td>-0.377686</td>\n",
       "      <td>-0.322784</td>\n",
       "      <td>-0.222079</td>\n",
       "      <td>-0.391151</td>\n",
       "      <td>-0.525779</td>\n",
       "      <td>-0.472082</td>\n",
       "      <td>-0.40822</td>\n",
       "      <td>-0.224638</td>\n",
       "    </tr>\n",
       "    <tr>\n",
       "      <th>2</th>\n",
       "      <td>-0.372199</td>\n",
       "      <td>-0.39097</td>\n",
       "      <td>-0.377686</td>\n",
       "      <td>-0.322784</td>\n",
       "      <td>-0.159883</td>\n",
       "      <td>-0.391151</td>\n",
       "      <td>-0.533726</td>\n",
       "      <td>-0.478876</td>\n",
       "      <td>-0.40822</td>\n",
       "      <td>-0.224638</td>\n",
       "    </tr>\n",
       "    <tr>\n",
       "      <th>3</th>\n",
       "      <td>-0.490319</td>\n",
       "      <td>-0.39097</td>\n",
       "      <td>-0.377686</td>\n",
       "      <td>-0.322784</td>\n",
       "      <td>-0.222079</td>\n",
       "      <td>-0.391151</td>\n",
       "      <td>-0.545565</td>\n",
       "      <td>-0.492745</td>\n",
       "      <td>-0.40822</td>\n",
       "      <td>-0.212823</td>\n",
       "    </tr>\n",
       "    <tr>\n",
       "      <th>4</th>\n",
       "      <td>-0.372199</td>\n",
       "      <td>-0.39097</td>\n",
       "      <td>-0.368013</td>\n",
       "      <td>-0.322784</td>\n",
       "      <td>-0.159883</td>\n",
       "      <td>-0.391151</td>\n",
       "      <td>-0.545565</td>\n",
       "      <td>-0.499538</td>\n",
       "      <td>-0.40822</td>\n",
       "      <td>-0.212823</td>\n",
       "    </tr>\n",
       "    <tr>\n",
       "      <th>...</th>\n",
       "      <td>...</td>\n",
       "      <td>...</td>\n",
       "      <td>...</td>\n",
       "      <td>...</td>\n",
       "      <td>...</td>\n",
       "      <td>...</td>\n",
       "      <td>...</td>\n",
       "      <td>...</td>\n",
       "      <td>...</td>\n",
       "      <td>...</td>\n",
       "    </tr>\n",
       "    <tr>\n",
       "      <th>377799</th>\n",
       "      <td>-0.490319</td>\n",
       "      <td>-0.39097</td>\n",
       "      <td>-0.377686</td>\n",
       "      <td>-0.322784</td>\n",
       "      <td>-0.222079</td>\n",
       "      <td>-0.219772</td>\n",
       "      <td>-0.549619</td>\n",
       "      <td>-0.174882</td>\n",
       "      <td>-0.40822</td>\n",
       "      <td>-0.489020</td>\n",
       "    </tr>\n",
       "    <tr>\n",
       "      <th>377800</th>\n",
       "      <td>-0.490319</td>\n",
       "      <td>-0.39097</td>\n",
       "      <td>-0.377686</td>\n",
       "      <td>-0.322784</td>\n",
       "      <td>-0.222079</td>\n",
       "      <td>-0.154023</td>\n",
       "      <td>-0.565351</td>\n",
       "      <td>-0.236870</td>\n",
       "      <td>-0.40822</td>\n",
       "      <td>-0.417140</td>\n",
       "    </tr>\n",
       "    <tr>\n",
       "      <th>377801</th>\n",
       "      <td>-0.490319</td>\n",
       "      <td>-0.39097</td>\n",
       "      <td>-0.377686</td>\n",
       "      <td>-0.322784</td>\n",
       "      <td>-0.222079</td>\n",
       "      <td>-0.114681</td>\n",
       "      <td>-0.585136</td>\n",
       "      <td>-0.278478</td>\n",
       "      <td>-0.40822</td>\n",
       "      <td>-0.393016</td>\n",
       "    </tr>\n",
       "    <tr>\n",
       "      <th>377802</th>\n",
       "      <td>-0.490319</td>\n",
       "      <td>-0.39097</td>\n",
       "      <td>-0.377686</td>\n",
       "      <td>-0.322784</td>\n",
       "      <td>-0.222079</td>\n",
       "      <td>-0.088273</td>\n",
       "      <td>-0.596976</td>\n",
       "      <td>-0.299140</td>\n",
       "      <td>-0.40822</td>\n",
       "      <td>-0.417140</td>\n",
       "    </tr>\n",
       "    <tr>\n",
       "      <th>377803</th>\n",
       "      <td>-0.490319</td>\n",
       "      <td>-0.39097</td>\n",
       "      <td>-0.377686</td>\n",
       "      <td>-0.322784</td>\n",
       "      <td>-0.222079</td>\n",
       "      <td>-0.061866</td>\n",
       "      <td>-0.612869</td>\n",
       "      <td>-0.333672</td>\n",
       "      <td>-0.40822</td>\n",
       "      <td>-0.441264</td>\n",
       "    </tr>\n",
       "  </tbody>\n",
       "</table>\n",
       "<p>377804 rows × 10 columns</p>\n",
       "</div>"
      ],
      "text/plain": [
       "               0        1         2         3         4         5         6  \\\n",
       "0      -0.372199 -0.39097 -0.377686 -0.322784 -0.222079 -0.391151 -0.529671   \n",
       "1      -0.490319 -0.39097 -0.377686 -0.322784 -0.222079 -0.391151 -0.525779   \n",
       "2      -0.372199 -0.39097 -0.377686 -0.322784 -0.159883 -0.391151 -0.533726   \n",
       "3      -0.490319 -0.39097 -0.377686 -0.322784 -0.222079 -0.391151 -0.545565   \n",
       "4      -0.372199 -0.39097 -0.368013 -0.322784 -0.159883 -0.391151 -0.545565   \n",
       "...          ...      ...       ...       ...       ...       ...       ...   \n",
       "377799 -0.490319 -0.39097 -0.377686 -0.322784 -0.222079 -0.219772 -0.549619   \n",
       "377800 -0.490319 -0.39097 -0.377686 -0.322784 -0.222079 -0.154023 -0.565351   \n",
       "377801 -0.490319 -0.39097 -0.377686 -0.322784 -0.222079 -0.114681 -0.585136   \n",
       "377802 -0.490319 -0.39097 -0.377686 -0.322784 -0.222079 -0.088273 -0.596976   \n",
       "377803 -0.490319 -0.39097 -0.377686 -0.322784 -0.222079 -0.061866 -0.612869   \n",
       "\n",
       "               7        8         9  \n",
       "0      -0.472082 -0.40822 -0.212823  \n",
       "1      -0.472082 -0.40822 -0.224638  \n",
       "2      -0.478876 -0.40822 -0.224638  \n",
       "3      -0.492745 -0.40822 -0.212823  \n",
       "4      -0.499538 -0.40822 -0.212823  \n",
       "...          ...      ...       ...  \n",
       "377799 -0.174882 -0.40822 -0.489020  \n",
       "377800 -0.236870 -0.40822 -0.417140  \n",
       "377801 -0.278478 -0.40822 -0.393016  \n",
       "377802 -0.299140 -0.40822 -0.417140  \n",
       "377803 -0.333672 -0.40822 -0.441264  \n",
       "\n",
       "[377804 rows x 10 columns]"
      ]
     },
     "execution_count": 18,
     "metadata": {},
     "output_type": "execute_result"
    }
   ],
   "source": [
    "sc"
   ]
  },
  {
   "cell_type": "code",
   "execution_count": 19,
   "id": "83683085",
   "metadata": {},
   "outputs": [],
   "source": [
    "# Splitting data for training and testing\n",
    "X_train, X_test, y_train, y_test = train_test_split(sc, y, test_size = 0.2, random_state = 39)"
   ]
  },
  {
   "cell_type": "markdown",
   "id": "676e9bd7",
   "metadata": {},
   "source": [
    "# KNeighborsClassifier"
   ]
  },
  {
   "cell_type": "code",
   "execution_count": 20,
   "id": "30a0e188",
   "metadata": {},
   "outputs": [
    {
     "data": {
      "text/plain": [
       "KNeighborsClassifier()"
      ]
     },
     "execution_count": 20,
     "metadata": {},
     "output_type": "execute_result"
    }
   ],
   "source": [
    "from sklearn.neighbors import KNeighborsClassifier\n",
    "KNeighborsClassifier = KNeighborsClassifier()\n",
    "KNeighborsClassifier.fit(X_train, y_train)"
   ]
  },
  {
   "cell_type": "code",
   "execution_count": 21,
   "id": "0249d6ed",
   "metadata": {},
   "outputs": [],
   "source": [
    "y_pred = KNeighborsClassifier.predict(X_test)"
   ]
  },
  {
   "cell_type": "code",
   "execution_count": 22,
   "id": "288d1cf4",
   "metadata": {},
   "outputs": [
    {
     "name": "stdout",
     "output_type": "stream",
     "text": [
      "Accuracy is: 89.47472902687895\n"
     ]
    }
   ],
   "source": [
    "from sklearn.metrics import accuracy_score\n",
    "accuracy = {accuracy_score(y_test, y_pred)}\n",
    "print(f\"Accuracy is: {accuracy_score(y_test, y_pred)* 100}\")"
   ]
  },
  {
   "cell_type": "code",
   "execution_count": 23,
   "id": "9595f210",
   "metadata": {},
   "outputs": [
    {
     "name": "stdout",
     "output_type": "stream",
     "text": [
      "\u001b[1mClassification report : \u001b[0m\n",
      "               precision    recall  f1-score   support\n",
      "\n",
      "           0       0.89      0.97      0.93     37852\n",
      "           1       0.90      0.84      0.87      2147\n",
      "           2       0.88      0.85      0.87      2223\n",
      "           3       0.82      0.75      0.78      2239\n",
      "           4       0.88      0.87      0.87      2138\n",
      "           5       0.88      0.74      0.80      2250\n",
      "           6       0.91      0.86      0.89      2274\n",
      "           7       0.83      0.68      0.74      1844\n",
      "           8       0.85      0.77      0.81      2300\n",
      "           9       0.95      0.87      0.91      1903\n",
      "          10       0.85      0.77      0.81      2427\n",
      "          11       0.88      0.77      0.82      2212\n",
      "          12       0.92      0.87      0.89      1986\n",
      "          13       0.92      0.81      0.86      1466\n",
      "          14       0.95      0.89      0.92      1275\n",
      "          15       0.91      0.81      0.86      1474\n",
      "          16       0.94      0.88      0.91      1566\n",
      "          17       0.91      0.85      0.88      1360\n",
      "          18       0.92      0.78      0.84       687\n",
      "          19       0.90      0.90      0.90       699\n",
      "          20       0.99      0.89      0.94       858\n",
      "          21       0.92      0.80      0.86       837\n",
      "          22       0.91      0.80      0.85       703\n",
      "          23       0.96      0.89      0.92       841\n",
      "\n",
      "    accuracy                           0.89     75561\n",
      "   macro avg       0.90      0.83      0.86     75561\n",
      "weighted avg       0.89      0.89      0.89     75561\n",
      "\n",
      "\u001b[1mConfusion Matrix : \u001b[0m\n"
     ]
    },
    {
     "data": {
      "image/png": "[encoded data removed]",
      "text/plain": [
       "<Figure size 432x288 with 2 Axes>"
      ]
     },
     "metadata": {
      "needs_background": "light"
     },
     "output_type": "display_data"
    }
   ],
   "source": [
    "print('\\033[1m' +'Classification report : '+ '\\033[0m\\n', classification_report(y_test, y_pred))\n",
    "\n",
    "cm = confusion_matrix(y_pred, y_test)\n",
    "print('\\033[1m' +'Confusion Matrix : '+ '\\033[0m')\n",
    "sns.heatmap(cm, cmap = 'OrRd',annot = True, fmt='d')\n",
    "plt.show()"
   ]
  },
  {
   "cell_type": "markdown",
   "id": "12894e89",
   "metadata": {},
   "source": [
    "# Evaluation"
   ]
  },
  {
   "cell_type": "code",
   "execution_count": 24,
   "id": "67c898f1",
   "metadata": {},
   "outputs": [
    {
     "name": "stdout",
     "output_type": "stream",
     "text": [
      "MAE: 0.7660565635711545\n",
      "MSE: 8.307619009806647\n",
      "RMSE: 2.882294053320488\n"
     ]
    }
   ],
   "source": [
    "from sklearn import metrics\n",
    "\n",
    "print('MAE:', metrics.mean_absolute_error(y_test,y_pred))\n",
    "print('MSE:', metrics.mean_squared_error(y_test, y_pred))\n",
    "print('RMSE:', np.sqrt(metrics.mean_squared_error(y_test, y_pred)))"
   ]
  },
  {
   "cell_type": "code",
   "execution_count": 25,
   "id": "1c13a208",
   "metadata": {},
   "outputs": [
    {
     "name": "stdout",
     "output_type": "stream",
     "text": [
      "Precision Score :  0.8945118763254702\n",
      "Recall Score :  0.8947472902687894\n",
      "f1_score :  0.8927061751457243\n"
     ]
    }
   ],
   "source": [
    "from sklearn.metrics import precision_score\n",
    "print(\"Precision Score : \",precision_score(y_test, y_pred, average='weighted'))\n",
    "\n",
    "\n",
    "from sklearn.metrics import recall_score\n",
    "print(\"Recall Score : \",recall_score(y_test, y_pred,average='weighted'))\n",
    "\n",
    "\n",
    "from sklearn.metrics import f1_score\n",
    "print(\"f1_score : \",f1_score(y_test, y_pred,average='weighted'))"
   ]
  },
  {
   "cell_type": "code",
   "execution_count": null,
   "id": "a0b63d90",
   "metadata": {},
   "outputs": [],
   "source": []
  }
 ],
 "metadata": {
  "kernelspec": {
   "display_name": "Python 3 (ipykernel)",
   "language": "python",
   "name": "python3"
  },
  "language_info": {
   "codemirror_mode": {
    "name": "ipython",
    "version": 3
   },
   "file_extension": ".py",
   "mimetype": "text/x-python",
   "name": "python",
   "nbconvert_exporter": "python",
   "pygments_lexer": "ipython3",
   "version": "3.8.12"
  }
 },
 "nbformat": 4,
 "nbformat_minor": 5
}
