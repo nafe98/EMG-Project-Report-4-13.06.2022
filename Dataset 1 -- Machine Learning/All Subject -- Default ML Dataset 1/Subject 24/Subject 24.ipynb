{
 "cells": [
  {
   "cell_type": "markdown",
   "id": "a76f9c3f",
   "metadata": {},
   "source": [
    "# Importing Libraries"
   ]
  },
  {
   "cell_type": "code",
   "execution_count": 1,
   "id": "cb8d9727",
   "metadata": {},
   "outputs": [],
   "source": [
    "import numpy as np\n",
    "import pandas as pd\n",
    "import matplotlib.pyplot as plt\n",
    "import seaborn as sns\n",
    "from sklearn.model_selection import train_test_split\n",
    "from sklearn.metrics import confusion_matrix, f1_score, accuracy_score, classification_report"
   ]
  },
  {
   "cell_type": "markdown",
   "id": "576dc0b5",
   "metadata": {},
   "source": [
    "# Exploratory Data Analysis¶"
   ]
  },
  {
   "cell_type": "code",
   "execution_count": 2,
   "id": "c72bb47b",
   "metadata": {},
   "outputs": [
    {
     "data": {
      "text/html": [
       "<div>\n",
       "<style scoped>\n",
       "    .dataframe tbody tr th:only-of-type {\n",
       "        vertical-align: middle;\n",
       "    }\n",
       "\n",
       "    .dataframe tbody tr th {\n",
       "        vertical-align: top;\n",
       "    }\n",
       "\n",
       "    .dataframe thead th {\n",
       "        text-align: right;\n",
       "    }\n",
       "</style>\n",
       "<table border=\"1\" class=\"dataframe\">\n",
       "  <thead>\n",
       "    <tr style=\"text-align: right;\">\n",
       "      <th></th>\n",
       "      <th>Emg1</th>\n",
       "      <th>Emg2</th>\n",
       "      <th>Emg3</th>\n",
       "      <th>Emg4</th>\n",
       "      <th>Emg5</th>\n",
       "      <th>Emg6</th>\n",
       "      <th>Emg7</th>\n",
       "      <th>Emg8</th>\n",
       "      <th>Emg9</th>\n",
       "      <th>Emg10</th>\n",
       "      <th>repetition</th>\n",
       "      <th>rerepetition</th>\n",
       "      <th>stimulus</th>\n",
       "      <th>restimulus</th>\n",
       "    </tr>\n",
       "  </thead>\n",
       "  <tbody>\n",
       "    <tr>\n",
       "      <th>222602</th>\n",
       "      <td>0.0024</td>\n",
       "      <td>0.0024</td>\n",
       "      <td>0.0049</td>\n",
       "      <td>0.0024</td>\n",
       "      <td>0.0024</td>\n",
       "      <td>0.0049</td>\n",
       "      <td>0.0049</td>\n",
       "      <td>0.0098</td>\n",
       "      <td>0.0024</td>\n",
       "      <td>0.0024</td>\n",
       "      <td>0</td>\n",
       "      <td>0</td>\n",
       "      <td>0</td>\n",
       "      <td>0</td>\n",
       "    </tr>\n",
       "    <tr>\n",
       "      <th>135089</th>\n",
       "      <td>0.8350</td>\n",
       "      <td>0.6177</td>\n",
       "      <td>0.5298</td>\n",
       "      <td>0.0073</td>\n",
       "      <td>0.0220</td>\n",
       "      <td>0.0732</td>\n",
       "      <td>0.8203</td>\n",
       "      <td>0.0415</td>\n",
       "      <td>1.5356</td>\n",
       "      <td>1.5430</td>\n",
       "      <td>10</td>\n",
       "      <td>10</td>\n",
       "      <td>4</td>\n",
       "      <td>4</td>\n",
       "    </tr>\n",
       "    <tr>\n",
       "      <th>106258</th>\n",
       "      <td>0.0317</td>\n",
       "      <td>0.0391</td>\n",
       "      <td>0.0024</td>\n",
       "      <td>0.0024</td>\n",
       "      <td>0.0024</td>\n",
       "      <td>0.0098</td>\n",
       "      <td>0.0659</td>\n",
       "      <td>0.0073</td>\n",
       "      <td>0.0024</td>\n",
       "      <td>0.0195</td>\n",
       "      <td>6</td>\n",
       "      <td>0</td>\n",
       "      <td>1</td>\n",
       "      <td>0</td>\n",
       "    </tr>\n",
       "    <tr>\n",
       "      <th>84310</th>\n",
       "      <td>0.1270</td>\n",
       "      <td>0.0024</td>\n",
       "      <td>0.0049</td>\n",
       "      <td>0.0024</td>\n",
       "      <td>0.0049</td>\n",
       "      <td>0.0024</td>\n",
       "      <td>0.0244</td>\n",
       "      <td>0.0049</td>\n",
       "      <td>0.0024</td>\n",
       "      <td>0.0024</td>\n",
       "      <td>10</td>\n",
       "      <td>0</td>\n",
       "      <td>10</td>\n",
       "      <td>0</td>\n",
       "    </tr>\n",
       "    <tr>\n",
       "      <th>358710</th>\n",
       "      <td>0.3394</td>\n",
       "      <td>0.0024</td>\n",
       "      <td>0.0024</td>\n",
       "      <td>0.0024</td>\n",
       "      <td>0.0024</td>\n",
       "      <td>0.0024</td>\n",
       "      <td>0.1611</td>\n",
       "      <td>0.0195</td>\n",
       "      <td>0.0024</td>\n",
       "      <td>0.1392</td>\n",
       "      <td>5</td>\n",
       "      <td>0</td>\n",
       "      <td>13</td>\n",
       "      <td>0</td>\n",
       "    </tr>\n",
       "  </tbody>\n",
       "</table>\n",
       "</div>"
      ],
      "text/plain": [
       "          Emg1    Emg2    Emg3    Emg4    Emg5    Emg6    Emg7    Emg8  \\\n",
       "222602  0.0024  0.0024  0.0049  0.0024  0.0024  0.0049  0.0049  0.0098   \n",
       "135089  0.8350  0.6177  0.5298  0.0073  0.0220  0.0732  0.8203  0.0415   \n",
       "106258  0.0317  0.0391  0.0024  0.0024  0.0024  0.0098  0.0659  0.0073   \n",
       "84310   0.1270  0.0024  0.0049  0.0024  0.0049  0.0024  0.0244  0.0049   \n",
       "358710  0.3394  0.0024  0.0024  0.0024  0.0024  0.0024  0.1611  0.0195   \n",
       "\n",
       "          Emg9   Emg10  repetition  rerepetition  stimulus  restimulus  \n",
       "222602  0.0024  0.0024           0             0         0           0  \n",
       "135089  1.5356  1.5430          10            10         4           4  \n",
       "106258  0.0024  0.0195           6             0         1           0  \n",
       "84310   0.0024  0.0024          10             0        10           0  \n",
       "358710  0.0024  0.1392           5             0        13           0  "
      ]
     },
     "execution_count": 2,
     "metadata": {},
     "output_type": "execute_result"
    }
   ],
   "source": [
    "raw_data = pd.read_excel('Dataset 1 Patient 24.xlsx')\n",
    "raw_data.sample(5)"
   ]
  },
  {
   "cell_type": "code",
   "execution_count": 3,
   "id": "a85e933c",
   "metadata": {},
   "outputs": [
    {
     "data": {
      "text/plain": [
       "(469559, 14)"
      ]
     },
     "execution_count": 3,
     "metadata": {},
     "output_type": "execute_result"
    }
   ],
   "source": [
    "raw_data.shape"
   ]
  },
  {
   "cell_type": "code",
   "execution_count": 4,
   "id": "e05e202f",
   "metadata": {},
   "outputs": [
    {
     "data": {
      "text/plain": [
       "Index(['Emg1', 'Emg2', 'Emg3', 'Emg4', 'Emg5', 'Emg6', 'Emg7', 'Emg8', 'Emg9',\n",
       "       'Emg10', 'repetition', 'rerepetition', 'stimulus', 'restimulus'],\n",
       "      dtype='object')"
      ]
     },
     "execution_count": 4,
     "metadata": {},
     "output_type": "execute_result"
    }
   ],
   "source": [
    "raw_data.columns"
   ]
  },
  {
   "cell_type": "code",
   "execution_count": 5,
   "id": "fde113c0",
   "metadata": {},
   "outputs": [
    {
     "name": "stdout",
     "output_type": "stream",
     "text": [
      "<class 'pandas.core.frame.DataFrame'>\n",
      "RangeIndex: 469559 entries, 0 to 469558\n",
      "Data columns (total 14 columns):\n",
      " #   Column        Non-Null Count   Dtype  \n",
      "---  ------        --------------   -----  \n",
      " 0   Emg1          469559 non-null  float64\n",
      " 1   Emg2          469559 non-null  float64\n",
      " 2   Emg3          469559 non-null  float64\n",
      " 3   Emg4          469559 non-null  float64\n",
      " 4   Emg5          469559 non-null  float64\n",
      " 5   Emg6          469559 non-null  float64\n",
      " 6   Emg7          469559 non-null  float64\n",
      " 7   Emg8          469559 non-null  float64\n",
      " 8   Emg9          469559 non-null  float64\n",
      " 9   Emg10         469559 non-null  float64\n",
      " 10  repetition    469559 non-null  int64  \n",
      " 11  rerepetition  469559 non-null  int64  \n",
      " 12  stimulus      469559 non-null  int64  \n",
      " 13  restimulus    469559 non-null  int64  \n",
      "dtypes: float64(10), int64(4)\n",
      "memory usage: 50.2 MB\n"
     ]
    }
   ],
   "source": [
    "raw_data.info()"
   ]
  },
  {
   "cell_type": "code",
   "execution_count": 6,
   "id": "0ae97d58",
   "metadata": {},
   "outputs": [
    {
     "data": {
      "text/html": [
       "<div>\n",
       "<style scoped>\n",
       "    .dataframe tbody tr th:only-of-type {\n",
       "        vertical-align: middle;\n",
       "    }\n",
       "\n",
       "    .dataframe tbody tr th {\n",
       "        vertical-align: top;\n",
       "    }\n",
       "\n",
       "    .dataframe thead th {\n",
       "        text-align: right;\n",
       "    }\n",
       "</style>\n",
       "<table border=\"1\" class=\"dataframe\">\n",
       "  <thead>\n",
       "    <tr style=\"text-align: right;\">\n",
       "      <th></th>\n",
       "      <th>Emg1</th>\n",
       "      <th>Emg2</th>\n",
       "      <th>Emg3</th>\n",
       "      <th>Emg4</th>\n",
       "      <th>Emg5</th>\n",
       "      <th>Emg6</th>\n",
       "      <th>Emg7</th>\n",
       "      <th>Emg8</th>\n",
       "      <th>Emg9</th>\n",
       "      <th>Emg10</th>\n",
       "      <th>repetition</th>\n",
       "      <th>rerepetition</th>\n",
       "      <th>stimulus</th>\n",
       "      <th>restimulus</th>\n",
       "    </tr>\n",
       "  </thead>\n",
       "  <tbody>\n",
       "    <tr>\n",
       "      <th>count</th>\n",
       "      <td>469559.000000</td>\n",
       "      <td>469559.00000</td>\n",
       "      <td>469559.000000</td>\n",
       "      <td>469559.000000</td>\n",
       "      <td>469559.000000</td>\n",
       "      <td>469559.000000</td>\n",
       "      <td>469559.000000</td>\n",
       "      <td>469559.000000</td>\n",
       "      <td>469559.000000</td>\n",
       "      <td>469559.000000</td>\n",
       "      <td>469559.000000</td>\n",
       "      <td>469559.000000</td>\n",
       "      <td>469559.000000</td>\n",
       "      <td>469559.00000</td>\n",
       "    </tr>\n",
       "    <tr>\n",
       "      <th>mean</th>\n",
       "      <td>0.528189</td>\n",
       "      <td>0.22986</td>\n",
       "      <td>0.295996</td>\n",
       "      <td>0.132394</td>\n",
       "      <td>0.049513</td>\n",
       "      <td>0.066152</td>\n",
       "      <td>0.385475</td>\n",
       "      <td>0.108756</td>\n",
       "      <td>0.282975</td>\n",
       "      <td>0.370430</td>\n",
       "      <td>3.159586</td>\n",
       "      <td>2.163741</td>\n",
       "      <td>5.601266</td>\n",
       "      <td>3.92688</td>\n",
       "    </tr>\n",
       "    <tr>\n",
       "      <th>std</th>\n",
       "      <td>0.796084</td>\n",
       "      <td>0.48866</td>\n",
       "      <td>0.740545</td>\n",
       "      <td>0.380632</td>\n",
       "      <td>0.130924</td>\n",
       "      <td>0.183762</td>\n",
       "      <td>0.633912</td>\n",
       "      <td>0.261841</td>\n",
       "      <td>0.612855</td>\n",
       "      <td>0.643215</td>\n",
       "      <td>3.483458</td>\n",
       "      <td>3.229246</td>\n",
       "      <td>6.579024</td>\n",
       "      <td>6.19468</td>\n",
       "    </tr>\n",
       "    <tr>\n",
       "      <th>min</th>\n",
       "      <td>0.002400</td>\n",
       "      <td>0.00240</td>\n",
       "      <td>0.002400</td>\n",
       "      <td>0.002400</td>\n",
       "      <td>0.002400</td>\n",
       "      <td>0.002400</td>\n",
       "      <td>0.002400</td>\n",
       "      <td>0.002400</td>\n",
       "      <td>0.002400</td>\n",
       "      <td>0.002400</td>\n",
       "      <td>0.000000</td>\n",
       "      <td>0.000000</td>\n",
       "      <td>0.000000</td>\n",
       "      <td>0.00000</td>\n",
       "    </tr>\n",
       "    <tr>\n",
       "      <th>25%</th>\n",
       "      <td>0.017100</td>\n",
       "      <td>0.00240</td>\n",
       "      <td>0.004900</td>\n",
       "      <td>0.002400</td>\n",
       "      <td>0.004900</td>\n",
       "      <td>0.002400</td>\n",
       "      <td>0.029300</td>\n",
       "      <td>0.009800</td>\n",
       "      <td>0.002400</td>\n",
       "      <td>0.004900</td>\n",
       "      <td>0.000000</td>\n",
       "      <td>0.000000</td>\n",
       "      <td>0.000000</td>\n",
       "      <td>0.00000</td>\n",
       "    </tr>\n",
       "    <tr>\n",
       "      <th>50%</th>\n",
       "      <td>0.156300</td>\n",
       "      <td>0.00980</td>\n",
       "      <td>0.004900</td>\n",
       "      <td>0.004900</td>\n",
       "      <td>0.004900</td>\n",
       "      <td>0.004900</td>\n",
       "      <td>0.134300</td>\n",
       "      <td>0.024400</td>\n",
       "      <td>0.004900</td>\n",
       "      <td>0.075700</td>\n",
       "      <td>2.000000</td>\n",
       "      <td>0.000000</td>\n",
       "      <td>3.000000</td>\n",
       "      <td>0.00000</td>\n",
       "    </tr>\n",
       "    <tr>\n",
       "      <th>75%</th>\n",
       "      <td>0.747100</td>\n",
       "      <td>0.24410</td>\n",
       "      <td>0.210000</td>\n",
       "      <td>0.107400</td>\n",
       "      <td>0.031700</td>\n",
       "      <td>0.056200</td>\n",
       "      <td>0.454100</td>\n",
       "      <td>0.073200</td>\n",
       "      <td>0.268600</td>\n",
       "      <td>0.449200</td>\n",
       "      <td>6.000000</td>\n",
       "      <td>4.000000</td>\n",
       "      <td>10.000000</td>\n",
       "      <td>7.00000</td>\n",
       "    </tr>\n",
       "    <tr>\n",
       "      <th>max</th>\n",
       "      <td>4.646000</td>\n",
       "      <td>4.64360</td>\n",
       "      <td>4.641100</td>\n",
       "      <td>4.643600</td>\n",
       "      <td>4.638700</td>\n",
       "      <td>3.815900</td>\n",
       "      <td>4.641100</td>\n",
       "      <td>4.040500</td>\n",
       "      <td>4.638700</td>\n",
       "      <td>4.641100</td>\n",
       "      <td>10.000000</td>\n",
       "      <td>10.000000</td>\n",
       "      <td>23.000000</td>\n",
       "      <td>23.00000</td>\n",
       "    </tr>\n",
       "  </tbody>\n",
       "</table>\n",
       "</div>"
      ],
      "text/plain": [
       "                Emg1          Emg2           Emg3           Emg4  \\\n",
       "count  469559.000000  469559.00000  469559.000000  469559.000000   \n",
       "mean        0.528189       0.22986       0.295996       0.132394   \n",
       "std         0.796084       0.48866       0.740545       0.380632   \n",
       "min         0.002400       0.00240       0.002400       0.002400   \n",
       "25%         0.017100       0.00240       0.004900       0.002400   \n",
       "50%         0.156300       0.00980       0.004900       0.004900   \n",
       "75%         0.747100       0.24410       0.210000       0.107400   \n",
       "max         4.646000       4.64360       4.641100       4.643600   \n",
       "\n",
       "                Emg5           Emg6           Emg7           Emg8  \\\n",
       "count  469559.000000  469559.000000  469559.000000  469559.000000   \n",
       "mean        0.049513       0.066152       0.385475       0.108756   \n",
       "std         0.130924       0.183762       0.633912       0.261841   \n",
       "min         0.002400       0.002400       0.002400       0.002400   \n",
       "25%         0.004900       0.002400       0.029300       0.009800   \n",
       "50%         0.004900       0.004900       0.134300       0.024400   \n",
       "75%         0.031700       0.056200       0.454100       0.073200   \n",
       "max         4.638700       3.815900       4.641100       4.040500   \n",
       "\n",
       "                Emg9          Emg10     repetition   rerepetition  \\\n",
       "count  469559.000000  469559.000000  469559.000000  469559.000000   \n",
       "mean        0.282975       0.370430       3.159586       2.163741   \n",
       "std         0.612855       0.643215       3.483458       3.229246   \n",
       "min         0.002400       0.002400       0.000000       0.000000   \n",
       "25%         0.002400       0.004900       0.000000       0.000000   \n",
       "50%         0.004900       0.075700       2.000000       0.000000   \n",
       "75%         0.268600       0.449200       6.000000       4.000000   \n",
       "max         4.638700       4.641100      10.000000      10.000000   \n",
       "\n",
       "            stimulus    restimulus  \n",
       "count  469559.000000  469559.00000  \n",
       "mean        5.601266       3.92688  \n",
       "std         6.579024       6.19468  \n",
       "min         0.000000       0.00000  \n",
       "25%         0.000000       0.00000  \n",
       "50%         3.000000       0.00000  \n",
       "75%        10.000000       7.00000  \n",
       "max        23.000000      23.00000  "
      ]
     },
     "execution_count": 6,
     "metadata": {},
     "output_type": "execute_result"
    }
   ],
   "source": [
    "raw_data.describe(include='all')"
   ]
  },
  {
   "cell_type": "code",
   "execution_count": 7,
   "id": "071b96e6",
   "metadata": {},
   "outputs": [
    {
     "name": "stdout",
     "output_type": "stream",
     "text": [
      "Unique Dependent values and their counts :\n",
      "0     199810\n",
      "12     15607\n",
      "7      15597\n",
      "4      15593\n",
      "8      15589\n",
      "2      15587\n",
      "11     15571\n",
      "9      15568\n",
      "5      15547\n",
      "6      15540\n",
      "3      15528\n",
      "10     15521\n",
      "1      15514\n",
      "13     10400\n",
      "17     10396\n",
      "14     10388\n",
      "15     10372\n",
      "16     10326\n",
      "21      5202\n",
      "18      5199\n",
      "19      5194\n",
      "23      5174\n",
      "20      5168\n",
      "22      5168\n",
      "Name: stimulus, dtype: int64\n"
     ]
    }
   ],
   "source": [
    "print(\"Unique Dependent values and their counts :\")\n",
    "print(raw_data[\"stimulus\"].value_counts())"
   ]
  },
  {
   "cell_type": "code",
   "execution_count": 8,
   "id": "50a0f9be",
   "metadata": {},
   "outputs": [
    {
     "data": {
      "text/plain": [
       "Text(0, 0.5, 'Frequency')"
      ]
     },
     "execution_count": 8,
     "metadata": {},
     "output_type": "execute_result"
    },
    {
     "data": {
      "image/png": "[encoded data removed]",
      "text/plain": [
       "<Figure size 432x288 with 1 Axes>"
      ]
     },
     "metadata": {
      "needs_background": "light"
     },
     "output_type": "display_data"
    }
   ],
   "source": [
    "count_classes = pd.value_counts(raw_data['stimulus'], sort = True)\n",
    "\n",
    "count_classes.plot(kind = 'bar', rot=0)\n",
    "\n",
    "plt.title(\"stimulus Class Distribution\")\n",
    "\n",
    "plt.xlabel(\"Class\")\n",
    "\n",
    "plt.ylabel(\"Frequency\")"
   ]
  },
  {
   "cell_type": "markdown",
   "id": "275440c4",
   "metadata": {},
   "source": [
    "# Data Cleaning and Exploratory Data Analysis with New Data"
   ]
  },
  {
   "cell_type": "code",
   "execution_count": 9,
   "id": "e8ed6471",
   "metadata": {},
   "outputs": [],
   "source": [
    "index_names = raw_data[ (raw_data['stimulus'] != raw_data['restimulus'])].index\n",
    "raw_data.drop(index_names, inplace = True)"
   ]
  },
  {
   "cell_type": "code",
   "execution_count": 10,
   "id": "395d42c1",
   "metadata": {},
   "outputs": [],
   "source": [
    "index_names = raw_data[ (raw_data['repetition'] != raw_data['rerepetition'])].index\n",
    "raw_data.drop(index_names, inplace = True)"
   ]
  },
  {
   "cell_type": "code",
   "execution_count": 11,
   "id": "5ccb8950",
   "metadata": {},
   "outputs": [
    {
     "data": {
      "text/html": [
       "<div>\n",
       "<style scoped>\n",
       "    .dataframe tbody tr th:only-of-type {\n",
       "        vertical-align: middle;\n",
       "    }\n",
       "\n",
       "    .dataframe tbody tr th {\n",
       "        vertical-align: top;\n",
       "    }\n",
       "\n",
       "    .dataframe thead th {\n",
       "        text-align: right;\n",
       "    }\n",
       "</style>\n",
       "<table border=\"1\" class=\"dataframe\">\n",
       "  <thead>\n",
       "    <tr style=\"text-align: right;\">\n",
       "      <th></th>\n",
       "      <th>Emg1</th>\n",
       "      <th>Emg2</th>\n",
       "      <th>Emg3</th>\n",
       "      <th>Emg4</th>\n",
       "      <th>Emg5</th>\n",
       "      <th>Emg6</th>\n",
       "      <th>Emg7</th>\n",
       "      <th>Emg8</th>\n",
       "      <th>Emg9</th>\n",
       "      <th>Emg10</th>\n",
       "      <th>repetition</th>\n",
       "      <th>rerepetition</th>\n",
       "      <th>stimulus</th>\n",
       "      <th>restimulus</th>\n",
       "    </tr>\n",
       "  </thead>\n",
       "  <tbody>\n",
       "    <tr>\n",
       "      <th>463141</th>\n",
       "      <td>1.2378</td>\n",
       "      <td>1.3184</td>\n",
       "      <td>1.1182</td>\n",
       "      <td>0.3735</td>\n",
       "      <td>0.1807</td>\n",
       "      <td>0.1733</td>\n",
       "      <td>1.0645</td>\n",
       "      <td>1.6528</td>\n",
       "      <td>0.8691</td>\n",
       "      <td>0.8301</td>\n",
       "      <td>3</td>\n",
       "      <td>3</td>\n",
       "      <td>23</td>\n",
       "      <td>23</td>\n",
       "    </tr>\n",
       "    <tr>\n",
       "      <th>394427</th>\n",
       "      <td>0.4419</td>\n",
       "      <td>0.0024</td>\n",
       "      <td>0.2295</td>\n",
       "      <td>0.0049</td>\n",
       "      <td>0.0024</td>\n",
       "      <td>0.0171</td>\n",
       "      <td>0.0708</td>\n",
       "      <td>0.0244</td>\n",
       "      <td>0.1538</td>\n",
       "      <td>0.0464</td>\n",
       "      <td>2</td>\n",
       "      <td>2</td>\n",
       "      <td>17</td>\n",
       "      <td>17</td>\n",
       "    </tr>\n",
       "    <tr>\n",
       "      <th>321060</th>\n",
       "      <td>1.4063</td>\n",
       "      <td>0.4639</td>\n",
       "      <td>3.7915</td>\n",
       "      <td>0.2490</td>\n",
       "      <td>0.1953</td>\n",
       "      <td>0.2173</td>\n",
       "      <td>1.2305</td>\n",
       "      <td>0.2002</td>\n",
       "      <td>0.2832</td>\n",
       "      <td>0.6934</td>\n",
       "      <td>3</td>\n",
       "      <td>3</td>\n",
       "      <td>9</td>\n",
       "      <td>9</td>\n",
       "    </tr>\n",
       "    <tr>\n",
       "      <th>73130</th>\n",
       "      <td>0.2808</td>\n",
       "      <td>0.0854</td>\n",
       "      <td>0.1904</td>\n",
       "      <td>0.0024</td>\n",
       "      <td>0.0024</td>\n",
       "      <td>0.0049</td>\n",
       "      <td>0.0293</td>\n",
       "      <td>0.0098</td>\n",
       "      <td>0.2368</td>\n",
       "      <td>0.2881</td>\n",
       "      <td>7</td>\n",
       "      <td>7</td>\n",
       "      <td>9</td>\n",
       "      <td>9</td>\n",
       "    </tr>\n",
       "    <tr>\n",
       "      <th>114881</th>\n",
       "      <td>1.9067</td>\n",
       "      <td>0.6616</td>\n",
       "      <td>0.8813</td>\n",
       "      <td>0.0562</td>\n",
       "      <td>0.0464</td>\n",
       "      <td>0.1465</td>\n",
       "      <td>0.9790</td>\n",
       "      <td>0.0342</td>\n",
       "      <td>2.1851</td>\n",
       "      <td>1.9946</td>\n",
       "      <td>6</td>\n",
       "      <td>6</td>\n",
       "      <td>2</td>\n",
       "      <td>2</td>\n",
       "    </tr>\n",
       "  </tbody>\n",
       "</table>\n",
       "</div>"
      ],
      "text/plain": [
       "          Emg1    Emg2    Emg3    Emg4    Emg5    Emg6    Emg7    Emg8  \\\n",
       "463141  1.2378  1.3184  1.1182  0.3735  0.1807  0.1733  1.0645  1.6528   \n",
       "394427  0.4419  0.0024  0.2295  0.0049  0.0024  0.0171  0.0708  0.0244   \n",
       "321060  1.4063  0.4639  3.7915  0.2490  0.1953  0.2173  1.2305  0.2002   \n",
       "73130   0.2808  0.0854  0.1904  0.0024  0.0024  0.0049  0.0293  0.0098   \n",
       "114881  1.9067  0.6616  0.8813  0.0562  0.0464  0.1465  0.9790  0.0342   \n",
       "\n",
       "          Emg9   Emg10  repetition  rerepetition  stimulus  restimulus  \n",
       "463141  0.8691  0.8301           3             3        23          23  \n",
       "394427  0.1538  0.0464           2             2        17          17  \n",
       "321060  0.2832  0.6934           3             3         9           9  \n",
       "73130   0.2368  0.2881           7             7         9           9  \n",
       "114881  2.1851  1.9946           6             6         2           2  "
      ]
     },
     "execution_count": 11,
     "metadata": {},
     "output_type": "execute_result"
    }
   ],
   "source": [
    "raw_data.sample(5)"
   ]
  },
  {
   "cell_type": "code",
   "execution_count": 12,
   "id": "ab84cf47",
   "metadata": {},
   "outputs": [
    {
     "data": {
      "text/plain": [
       "(375686, 14)"
      ]
     },
     "execution_count": 12,
     "metadata": {},
     "output_type": "execute_result"
    }
   ],
   "source": [
    "raw_data.shape"
   ]
  },
  {
   "cell_type": "code",
   "execution_count": 13,
   "id": "fcb24936",
   "metadata": {},
   "outputs": [
    {
     "name": "stdout",
     "output_type": "stream",
     "text": [
      "<class 'pandas.core.frame.DataFrame'>\n",
      "Int64Index: 375686 entries, 0 to 469558\n",
      "Data columns (total 14 columns):\n",
      " #   Column        Non-Null Count   Dtype  \n",
      "---  ------        --------------   -----  \n",
      " 0   Emg1          375686 non-null  float64\n",
      " 1   Emg2          375686 non-null  float64\n",
      " 2   Emg3          375686 non-null  float64\n",
      " 3   Emg4          375686 non-null  float64\n",
      " 4   Emg5          375686 non-null  float64\n",
      " 5   Emg6          375686 non-null  float64\n",
      " 6   Emg7          375686 non-null  float64\n",
      " 7   Emg8          375686 non-null  float64\n",
      " 8   Emg9          375686 non-null  float64\n",
      " 9   Emg10         375686 non-null  float64\n",
      " 10  repetition    375686 non-null  int64  \n",
      " 11  rerepetition  375686 non-null  int64  \n",
      " 12  stimulus      375686 non-null  int64  \n",
      " 13  restimulus    375686 non-null  int64  \n",
      "dtypes: float64(10), int64(4)\n",
      "memory usage: 43.0 MB\n"
     ]
    }
   ],
   "source": [
    "raw_data.info()"
   ]
  },
  {
   "cell_type": "code",
   "execution_count": 14,
   "id": "8ada4ef1",
   "metadata": {},
   "outputs": [
    {
     "name": "stdout",
     "output_type": "stream",
     "text": [
      "Emg1            False\n",
      "Emg2            False\n",
      "Emg3            False\n",
      "Emg4            False\n",
      "Emg5            False\n",
      "Emg6            False\n",
      "Emg7            False\n",
      "Emg8            False\n",
      "Emg9            False\n",
      "Emg10           False\n",
      "repetition      False\n",
      "rerepetition    False\n",
      "stimulus        False\n",
      "restimulus      False\n",
      "dtype: bool\n"
     ]
    }
   ],
   "source": [
    "print(raw_data.isnull().any())"
   ]
  },
  {
   "cell_type": "code",
   "execution_count": 15,
   "id": "138ec425",
   "metadata": {},
   "outputs": [],
   "source": [
    "X = raw_data.iloc[:,0:10]\n",
    "y = raw_data.stimulus"
   ]
  },
  {
   "cell_type": "code",
   "execution_count": 16,
   "id": "9c1574d6",
   "metadata": {},
   "outputs": [],
   "source": [
    "# Splitting data for training and testing\n",
    "X_train, X_test, y_train, y_test = train_test_split(X, y, test_size = 0.2, random_state = 39)"
   ]
  },
  {
   "cell_type": "markdown",
   "id": "e657abbe",
   "metadata": {},
   "source": [
    "# Machine Learning Models"
   ]
  },
  {
   "cell_type": "markdown",
   "id": "8743ea5d",
   "metadata": {},
   "source": [
    "# Decision Tree"
   ]
  },
  {
   "cell_type": "code",
   "execution_count": 17,
   "id": "dbe7e4c1",
   "metadata": {},
   "outputs": [
    {
     "data": {
      "text/plain": [
       "DecisionTreeClassifier()"
      ]
     },
     "execution_count": 17,
     "metadata": {},
     "output_type": "execute_result"
    }
   ],
   "source": [
    "from sklearn import tree\n",
    "tree = tree.DecisionTreeClassifier()\n",
    "tree.fit(X_train, y_train)"
   ]
  },
  {
   "cell_type": "code",
   "execution_count": 18,
   "id": "bcb8239c",
   "metadata": {},
   "outputs": [],
   "source": [
    "y_pred1 = tree.predict(X_test)"
   ]
  },
  {
   "cell_type": "code",
   "execution_count": 19,
   "id": "95712989",
   "metadata": {},
   "outputs": [
    {
     "name": "stdout",
     "output_type": "stream",
     "text": [
      "Accuracy is: 89.34360776171843\n"
     ]
    }
   ],
   "source": [
    "from sklearn.metrics import accuracy_score\n",
    "accuracy = {accuracy_score(y_test, y_pred1)}\n",
    "print(f\"Accuracy is: {accuracy_score(y_test, y_pred1)* 100}\")"
   ]
  },
  {
   "cell_type": "code",
   "execution_count": 20,
   "id": "e1e5a0b3",
   "metadata": {},
   "outputs": [
    {
     "name": "stdout",
     "output_type": "stream",
     "text": [
      "\u001b[1mClassification report : \u001b[0m\n",
      "               precision    recall  f1-score   support\n",
      "\n",
      "           0       0.96      0.96      0.96     38828\n",
      "           1       0.89      0.88      0.88      2247\n",
      "           2       0.81      0.81      0.81      1964\n",
      "           3       0.84      0.83      0.84      2266\n",
      "           4       0.80      0.82      0.81      1973\n",
      "           5       0.82      0.82      0.82      1941\n",
      "           6       0.84      0.84      0.84      2045\n",
      "           7       0.85      0.84      0.84      2179\n",
      "           8       0.80      0.83      0.81      2155\n",
      "           9       0.78      0.79      0.78      1927\n",
      "          10       0.76      0.75      0.75      1749\n",
      "          11       0.81      0.80      0.80      2132\n",
      "          12       0.75      0.73      0.74      1925\n",
      "          13       0.77      0.79      0.78      1471\n",
      "          14       0.81      0.80      0.80      1342\n",
      "          15       0.77      0.79      0.78      1338\n",
      "          16       0.84      0.85      0.85      1480\n",
      "          17       0.83      0.82      0.83      1581\n",
      "          18       0.86      0.90      0.88       655\n",
      "          19       0.79      0.82      0.81       874\n",
      "          20       0.94      0.95      0.94       788\n",
      "          21       0.76      0.76      0.76       671\n",
      "          22       0.89      0.89      0.89       680\n",
      "          23       0.91      0.89      0.90       927\n",
      "\n",
      "    accuracy                           0.89     75138\n",
      "   macro avg       0.83      0.83      0.83     75138\n",
      "weighted avg       0.89      0.89      0.89     75138\n",
      "\n",
      "\u001b[1mConfusion Matrix : \u001b[0m\n"
     ]
    },
    {
     "data": {
      "image/png": "[encoded data removed]",
      "text/plain": [
       "<Figure size 432x288 with 2 Axes>"
      ]
     },
     "metadata": {
      "needs_background": "light"
     },
     "output_type": "display_data"
    }
   ],
   "source": [
    "print('\\033[1m' +'Classification report : '+ '\\033[0m\\n', classification_report(y_test, y_pred1))\n",
    "\n",
    "cm = confusion_matrix(y_pred1, y_test)\n",
    "print('\\033[1m' +'Confusion Matrix : '+ '\\033[0m')\n",
    "sns.heatmap(cm, cmap = 'OrRd',annot = True, fmt='d')\n",
    "plt.show()"
   ]
  },
  {
   "cell_type": "markdown",
   "id": "4ebcef17",
   "metadata": {},
   "source": [
    "# Evaluation -- Decision Tree"
   ]
  },
  {
   "cell_type": "code",
   "execution_count": 21,
   "id": "cbae2add",
   "metadata": {},
   "outputs": [
    {
     "name": "stdout",
     "output_type": "stream",
     "text": [
      "MAE: 0.7803375123106817\n",
      "MSE: 8.863597646996194\n",
      "RMSE: 2.977179478465515\n"
     ]
    }
   ],
   "source": [
    "from sklearn import metrics\n",
    "\n",
    "print('MAE:', metrics.mean_absolute_error(y_test,y_pred1))\n",
    "print('MSE:', metrics.mean_squared_error(y_test, y_pred1))\n",
    "print('RMSE:', np.sqrt(metrics.mean_squared_error(y_test, y_pred1)))"
   ]
  },
  {
   "cell_type": "code",
   "execution_count": 22,
   "id": "f7ac1ceb",
   "metadata": {},
   "outputs": [
    {
     "name": "stdout",
     "output_type": "stream",
     "text": [
      "Precision Score :  0.8936917640464905\n",
      "Recall Score :  0.8934360776171844\n",
      "f1_score :  0.8935306383950116\n"
     ]
    }
   ],
   "source": [
    "from sklearn.metrics import precision_score\n",
    "print(\"Precision Score : \",precision_score(y_test, y_pred1, average='weighted'))\n",
    "\n",
    "\n",
    "from sklearn.metrics import recall_score\n",
    "print(\"Recall Score : \",recall_score(y_test, y_pred1,average='weighted'))\n",
    "\n",
    "\n",
    "from sklearn.metrics import f1_score\n",
    "print(\"f1_score : \",f1_score(y_test, y_pred1,average='weighted'))"
   ]
  },
  {
   "cell_type": "markdown",
   "id": "f901aeef",
   "metadata": {},
   "source": [
    "# KNeighborsClassifier"
   ]
  },
  {
   "cell_type": "code",
   "execution_count": 23,
   "id": "15fd9ac9",
   "metadata": {},
   "outputs": [
    {
     "data": {
      "text/plain": [
       "KNeighborsClassifier()"
      ]
     },
     "execution_count": 23,
     "metadata": {},
     "output_type": "execute_result"
    }
   ],
   "source": [
    "from sklearn.neighbors import KNeighborsClassifier\n",
    "KNeighborsClassifier = KNeighborsClassifier()\n",
    "KNeighborsClassifier.fit(X_train, y_train)"
   ]
  },
  {
   "cell_type": "code",
   "execution_count": 24,
   "id": "da059a26",
   "metadata": {},
   "outputs": [],
   "source": [
    "y_pred2 = KNeighborsClassifier.predict(X_test)"
   ]
  },
  {
   "cell_type": "code",
   "execution_count": 25,
   "id": "1d358310",
   "metadata": {},
   "outputs": [
    {
     "name": "stdout",
     "output_type": "stream",
     "text": [
      "Accuracy is: 92.89973116132983\n"
     ]
    }
   ],
   "source": [
    "from sklearn.metrics import accuracy_score\n",
    "accuracy = {accuracy_score(y_test, y_pred2)}\n",
    "print(f\"Accuracy is: {accuracy_score(y_test, y_pred2)* 100}\")"
   ]
  },
  {
   "cell_type": "code",
   "execution_count": 26,
   "id": "5e0d6dfd",
   "metadata": {},
   "outputs": [
    {
     "name": "stdout",
     "output_type": "stream",
     "text": [
      "\u001b[1mClassification report : \u001b[0m\n",
      "               precision    recall  f1-score   support\n",
      "\n",
      "           0       0.95      0.99      0.97     38828\n",
      "           1       0.93      0.92      0.92      2247\n",
      "           2       0.83      0.88      0.85      1964\n",
      "           3       0.89      0.89      0.89      2266\n",
      "           4       0.88      0.86      0.87      1973\n",
      "           5       0.88      0.86      0.87      1941\n",
      "           6       0.91      0.89      0.90      2045\n",
      "           7       0.91      0.88      0.89      2179\n",
      "           8       0.90      0.87      0.89      2155\n",
      "           9       0.88      0.85      0.86      1927\n",
      "          10       0.89      0.79      0.84      1749\n",
      "          11       0.89      0.86      0.88      2132\n",
      "          12       0.88      0.77      0.82      1925\n",
      "          13       0.91      0.81      0.86      1471\n",
      "          14       0.92      0.83      0.87      1342\n",
      "          15       0.84      0.81      0.83      1338\n",
      "          16       0.94      0.90      0.92      1480\n",
      "          17       0.93      0.85      0.89      1581\n",
      "          18       0.96      0.86      0.91       655\n",
      "          19       0.92      0.87      0.89       874\n",
      "          20       0.99      0.97      0.98       788\n",
      "          21       0.91      0.87      0.89       671\n",
      "          22       0.97      0.95      0.96       680\n",
      "          23       0.98      0.96      0.97       927\n",
      "\n",
      "    accuracy                           0.93     75138\n",
      "   macro avg       0.91      0.87      0.89     75138\n",
      "weighted avg       0.93      0.93      0.93     75138\n",
      "\n",
      "\u001b[1mConfusion Matrix : \u001b[0m\n"
     ]
    },
    {
     "data": {
      "image/png": "[encoded data removed]",
      "text/plain": [
       "<Figure size 432x288 with 2 Axes>"
      ]
     },
     "metadata": {
      "needs_background": "light"
     },
     "output_type": "display_data"
    }
   ],
   "source": [
    "print('\\033[1m' +'Classification report : '+ '\\033[0m\\n', classification_report(y_test, y_pred2))\n",
    "\n",
    "cm = confusion_matrix(y_pred2, y_test)\n",
    "print('\\033[1m' +'Confusion Matrix : '+ '\\033[0m')\n",
    "sns.heatmap(cm, cmap = 'OrRd',annot = True, fmt='d')\n",
    "plt.show()"
   ]
  },
  {
   "cell_type": "markdown",
   "id": "d8d41935",
   "metadata": {},
   "source": [
    "# Evaluation -- KNeighborsClassifier"
   ]
  },
  {
   "cell_type": "code",
   "execution_count": 27,
   "id": "bd1c5fe9",
   "metadata": {},
   "outputs": [
    {
     "name": "stdout",
     "output_type": "stream",
     "text": [
      "MAE: 0.5292794591285368\n",
      "MSE: 5.965516782453618\n",
      "RMSE: 2.442440742874557\n"
     ]
    }
   ],
   "source": [
    "from sklearn import metrics\n",
    "\n",
    "print('MAE:', metrics.mean_absolute_error(y_test,y_pred2))\n",
    "print('MSE:', metrics.mean_squared_error(y_test, y_pred2))\n",
    "print('RMSE:', np.sqrt(metrics.mean_squared_error(y_test, y_pred2)))"
   ]
  },
  {
   "cell_type": "code",
   "execution_count": 28,
   "id": "de3e3c02",
   "metadata": {},
   "outputs": [
    {
     "name": "stdout",
     "output_type": "stream",
     "text": [
      "Precision Score :  0.9281640102607451\n",
      "Recall Score :  0.9289973116132982\n",
      "f1_score :  0.9280017676493468\n"
     ]
    }
   ],
   "source": [
    "from sklearn.metrics import precision_score\n",
    "print(\"Precision Score : \",precision_score(y_test, y_pred2, average='weighted'))\n",
    "\n",
    "\n",
    "from sklearn.metrics import recall_score\n",
    "print(\"Recall Score : \",recall_score(y_test, y_pred2,average='weighted'))\n",
    "\n",
    "\n",
    "from sklearn.metrics import f1_score\n",
    "print(\"f1_score : \",f1_score(y_test, y_pred2,average='weighted'))"
   ]
  },
  {
   "cell_type": "markdown",
   "id": "5065ae39",
   "metadata": {},
   "source": [
    "# Random Forest"
   ]
  },
  {
   "cell_type": "code",
   "execution_count": 29,
   "id": "be857e35",
   "metadata": {},
   "outputs": [
    {
     "data": {
      "text/plain": [
       "RandomForestClassifier()"
      ]
     },
     "execution_count": 29,
     "metadata": {},
     "output_type": "execute_result"
    }
   ],
   "source": [
    "from sklearn.ensemble import RandomForestClassifier\n",
    "RandomForestClassifier = RandomForestClassifier()\n",
    "RandomForestClassifier.fit(X_train, y_train)"
   ]
  },
  {
   "cell_type": "code",
   "execution_count": 30,
   "id": "544a9fa7",
   "metadata": {},
   "outputs": [],
   "source": [
    "y_pred3 = RandomForestClassifier.predict(X_test)"
   ]
  },
  {
   "cell_type": "code",
   "execution_count": 31,
   "id": "a0daf4ac",
   "metadata": {},
   "outputs": [
    {
     "name": "stdout",
     "output_type": "stream",
     "text": [
      "Accuracy is: 96.42391333280098\n"
     ]
    }
   ],
   "source": [
    "from sklearn.metrics import accuracy_score\n",
    "accuracy = {accuracy_score(y_test, y_pred3)}\n",
    "print(f\"Accuracy is: {accuracy_score(y_test, y_pred3)* 100}\")"
   ]
  },
  {
   "cell_type": "code",
   "execution_count": 32,
   "id": "17ccca6d",
   "metadata": {},
   "outputs": [
    {
     "name": "stdout",
     "output_type": "stream",
     "text": [
      "\u001b[1mClassification report : \u001b[0m\n",
      "               precision    recall  f1-score   support\n",
      "\n",
      "           0       0.96      1.00      0.98     38828\n",
      "           1       0.98      0.97      0.97      2247\n",
      "           2       0.94      0.95      0.95      1964\n",
      "           3       0.97      0.94      0.95      2266\n",
      "           4       0.97      0.92      0.94      1973\n",
      "           5       0.97      0.93      0.95      1941\n",
      "           6       0.97      0.94      0.95      2045\n",
      "           7       0.96      0.94      0.95      2179\n",
      "           8       0.97      0.94      0.95      2155\n",
      "           9       0.95      0.92      0.93      1927\n",
      "          10       0.97      0.86      0.91      1749\n",
      "          11       0.98      0.93      0.95      2132\n",
      "          12       0.96      0.87      0.92      1925\n",
      "          13       0.98      0.92      0.94      1471\n",
      "          14       0.96      0.91      0.94      1342\n",
      "          15       0.91      0.88      0.89      1338\n",
      "          16       0.98      0.96      0.97      1480\n",
      "          17       0.98      0.91      0.94      1581\n",
      "          18       0.99      0.97      0.98       655\n",
      "          19       0.97      0.93      0.95       874\n",
      "          20       0.99      0.99      0.99       788\n",
      "          21       0.94      0.96      0.95       671\n",
      "          22       0.99      0.97      0.98       680\n",
      "          23       0.98      0.97      0.98       927\n",
      "\n",
      "    accuracy                           0.96     75138\n",
      "   macro avg       0.97      0.94      0.95     75138\n",
      "weighted avg       0.96      0.96      0.96     75138\n",
      "\n",
      "\u001b[1mConfusion Matrix : \u001b[0m\n"
     ]
    },
    {
     "data": {
      "image/png": "[encoded data removed]",
      "text/plain": [
       "<Figure size 432x288 with 2 Axes>"
      ]
     },
     "metadata": {
      "needs_background": "light"
     },
     "output_type": "display_data"
    }
   ],
   "source": [
    "print('\\033[1m' +'Classification report : '+ '\\033[0m\\n', classification_report(y_test, y_pred3))\n",
    "\n",
    "cm = confusion_matrix(y_pred3, y_test)\n",
    "print('\\033[1m' +'Confusion Matrix : '+ '\\033[0m')\n",
    "sns.heatmap(cm, cmap = 'OrRd',annot = True, fmt='d')\n",
    "plt.show()"
   ]
  },
  {
   "cell_type": "markdown",
   "id": "bf149f54",
   "metadata": {},
   "source": [
    "# Evaluation -- Random Forest"
   ]
  },
  {
   "cell_type": "code",
   "execution_count": 33,
   "id": "44b863ad",
   "metadata": {},
   "outputs": [
    {
     "name": "stdout",
     "output_type": "stream",
     "text": [
      "MAE: 0.2980515850834465\n",
      "MSE: 3.6256887327317737\n",
      "RMSE: 1.9041241379520857\n"
     ]
    }
   ],
   "source": [
    "from sklearn import metrics\n",
    "\n",
    "print('MAE:', metrics.mean_absolute_error(y_test,y_pred3))\n",
    "print('MSE:', metrics.mean_squared_error(y_test, y_pred3))\n",
    "print('RMSE:', np.sqrt(metrics.mean_squared_error(y_test, y_pred3)))"
   ]
  },
  {
   "cell_type": "code",
   "execution_count": 34,
   "id": "f40def00",
   "metadata": {},
   "outputs": [
    {
     "name": "stdout",
     "output_type": "stream",
     "text": [
      "Precision Score :  0.96438901041057\n",
      "Recall Score :  0.9642391333280098\n",
      "f1_score :  0.9638548152419617\n"
     ]
    }
   ],
   "source": [
    "from sklearn.metrics import precision_score\n",
    "print(\"Precision Score : \",precision_score(y_test, y_pred3, average='weighted'))\n",
    "\n",
    "\n",
    "from sklearn.metrics import recall_score\n",
    "print(\"Recall Score : \",recall_score(y_test, y_pred3,average='weighted'))\n",
    "\n",
    "\n",
    "from sklearn.metrics import f1_score\n",
    "print(\"f1_score : \",f1_score(y_test, y_pred3,average='weighted'))"
   ]
  },
  {
   "cell_type": "markdown",
   "id": "fc99a8db",
   "metadata": {},
   "source": [
    "# XGBoost"
   ]
  },
  {
   "cell_type": "code",
   "execution_count": 35,
   "id": "cf92a2ce",
   "metadata": {},
   "outputs": [
    {
     "name": "stderr",
     "output_type": "stream",
     "text": [
      "E:\\MachineLearning\\envs\\gpu\\lib\\site-packages\\xgboost\\compat.py:36: FutureWarning: pandas.Int64Index is deprecated and will be removed from pandas in a future version. Use pandas.Index with the appropriate dtype instead.\n",
      "  from pandas import MultiIndex, Int64Index\n",
      "E:\\MachineLearning\\envs\\gpu\\lib\\site-packages\\xgboost\\sklearn.py:1224: UserWarning: The use of label encoder in XGBClassifier is deprecated and will be removed in a future release. To remove this warning, do the following: 1) Pass option use_label_encoder=False when constructing XGBClassifier object; and 2) Encode your labels (y) as integers starting with 0, i.e. 0, 1, 2, ..., [num_class - 1].\n",
      "  warnings.warn(label_encoder_deprecation_msg, UserWarning)\n",
      "E:\\MachineLearning\\envs\\gpu\\lib\\site-packages\\xgboost\\data.py:262: FutureWarning: pandas.Int64Index is deprecated and will be removed from pandas in a future version. Use pandas.Index with the appropriate dtype instead.\n",
      "  elif isinstance(data.columns, (pd.Int64Index, pd.RangeIndex)):\n"
     ]
    },
    {
     "name": "stdout",
     "output_type": "stream",
     "text": [
      "[12:37:43] WARNING: C:/Users/Administrator/workspace/xgboost-win64_release_1.5.1/src/learner.cc:1115: Starting in XGBoost 1.3.0, the default evaluation metric used with the objective 'multi:softprob' was changed from 'merror' to 'mlogloss'. Explicitly set eval_metric if you'd like to restore the old behavior.\n"
     ]
    },
    {
     "data": {
      "text/plain": [
       "XGBClassifier(base_score=0.5, booster='gbtree', colsample_bylevel=1,\n",
       "              colsample_bynode=1, colsample_bytree=1, enable_categorical=False,\n",
       "              gamma=0, gpu_id=-1, importance_type=None,\n",
       "              interaction_constraints='', learning_rate=0.300000012,\n",
       "              max_delta_step=0, max_depth=6, min_child_weight=1, missing=nan,\n",
       "              monotone_constraints='()', n_estimators=100, n_jobs=12,\n",
       "              num_parallel_tree=1, objective='multi:softprob', predictor='auto',\n",
       "              random_state=0, reg_alpha=0, reg_lambda=1, scale_pos_weight=None,\n",
       "              subsample=1, tree_method='exact', validate_parameters=1,\n",
       "              verbosity=None)"
      ]
     },
     "execution_count": 35,
     "metadata": {},
     "output_type": "execute_result"
    }
   ],
   "source": [
    "from xgboost import XGBClassifier\n",
    "xgb = XGBClassifier()\n",
    "xgb.fit(X_train, y_train)"
   ]
  },
  {
   "cell_type": "code",
   "execution_count": 36,
   "id": "122b4ba0",
   "metadata": {},
   "outputs": [],
   "source": [
    "y_pred4 = xgb.predict(X_test)"
   ]
  },
  {
   "cell_type": "code",
   "execution_count": 37,
   "id": "022138ba",
   "metadata": {},
   "outputs": [
    {
     "name": "stdout",
     "output_type": "stream",
     "text": [
      "Accuracy is: 91.42644201336209\n"
     ]
    }
   ],
   "source": [
    "from sklearn.metrics import accuracy_score\n",
    "accuracy = {accuracy_score(y_test, y_pred4)}\n",
    "print(f\"Accuracy is: {accuracy_score(y_test, y_pred4)* 100}\")"
   ]
  },
  {
   "cell_type": "code",
   "execution_count": 38,
   "id": "269a9899",
   "metadata": {},
   "outputs": [
    {
     "name": "stdout",
     "output_type": "stream",
     "text": [
      "\u001b[1mClassification report : \u001b[0m\n",
      "               precision    recall  f1-score   support\n",
      "\n",
      "           0       0.94      0.99      0.96     38828\n",
      "           1       0.92      0.90      0.91      2247\n",
      "           2       0.81      0.84      0.82      1964\n",
      "           3       0.89      0.84      0.87      2266\n",
      "           4       0.89      0.84      0.86      1973\n",
      "           5       0.89      0.80      0.84      1941\n",
      "           6       0.89      0.85      0.87      2045\n",
      "           7       0.88      0.87      0.87      2179\n",
      "           8       0.86      0.84      0.85      2155\n",
      "           9       0.83      0.80      0.81      1927\n",
      "          10       0.86      0.76      0.81      1749\n",
      "          11       0.88      0.81      0.84      2132\n",
      "          12       0.81      0.66      0.73      1925\n",
      "          13       0.89      0.76      0.82      1471\n",
      "          14       0.88      0.82      0.85      1342\n",
      "          15       0.84      0.83      0.83      1338\n",
      "          16       0.87      0.87      0.87      1480\n",
      "          17       0.92      0.87      0.89      1581\n",
      "          18       0.93      0.93      0.93       655\n",
      "          19       0.90      0.90      0.90       874\n",
      "          20       0.98      0.98      0.98       788\n",
      "          21       0.86      0.88      0.87       671\n",
      "          22       0.98      0.97      0.97       680\n",
      "          23       0.97      0.97      0.97       927\n",
      "\n",
      "    accuracy                           0.91     75138\n",
      "   macro avg       0.89      0.86      0.87     75138\n",
      "weighted avg       0.91      0.91      0.91     75138\n",
      "\n",
      "\u001b[1mConfusion Matrix : \u001b[0m\n"
     ]
    },
    {
     "data": {
      "image/png": "[encoded data removed]",
      "text/plain": [
       "<Figure size 432x288 with 2 Axes>"
      ]
     },
     "metadata": {
      "needs_background": "light"
     },
     "output_type": "display_data"
    }
   ],
   "source": [
    "print('\\033[1m' +'Classification report : '+ '\\033[0m\\n', classification_report(y_test, y_pred4))\n",
    "\n",
    "cm = confusion_matrix(y_pred4, y_test)\n",
    "print('\\033[1m' +'Confusion Matrix : '+ '\\033[0m')\n",
    "sns.heatmap(cm, cmap = 'OrRd',annot = True, fmt='d')\n",
    "plt.show()"
   ]
  },
  {
   "cell_type": "markdown",
   "id": "3031b603",
   "metadata": {},
   "source": [
    "# Evaluation -- XGBoost"
   ]
  },
  {
   "cell_type": "code",
   "execution_count": 39,
   "id": "f5efef7b",
   "metadata": {},
   "outputs": [
    {
     "name": "stdout",
     "output_type": "stream",
     "text": [
      "MAE: 0.6120737842370039\n",
      "MSE: 6.7122095344565995\n",
      "RMSE: 2.590793224951887\n"
     ]
    }
   ],
   "source": [
    "from sklearn import metrics\n",
    "\n",
    "print('MAE:', metrics.mean_absolute_error(y_test,y_pred4))\n",
    "print('MSE:', metrics.mean_squared_error(y_test, y_pred4))\n",
    "print('RMSE:', np.sqrt(metrics.mean_squared_error(y_test, y_pred4)))"
   ]
  },
  {
   "cell_type": "code",
   "execution_count": 40,
   "id": "36005adc",
   "metadata": {},
   "outputs": [
    {
     "name": "stdout",
     "output_type": "stream",
     "text": [
      "Precision Score :  0.912617383502579\n",
      "Recall Score :  0.9142644201336209\n",
      "f1_score :  0.9126107907076306\n"
     ]
    }
   ],
   "source": [
    "from sklearn.metrics import precision_score\n",
    "print(\"Precision Score : \",precision_score(y_test, y_pred4, average='weighted'))\n",
    "\n",
    "\n",
    "from sklearn.metrics import recall_score\n",
    "print(\"Recall Score : \",recall_score(y_test, y_pred4,average='weighted'))\n",
    "\n",
    "\n",
    "from sklearn.metrics import f1_score\n",
    "print(\"f1_score : \",f1_score(y_test, y_pred4,average='weighted'))"
   ]
  },
  {
   "cell_type": "markdown",
   "id": "5805a6f2",
   "metadata": {},
   "source": [
    "# ExtraTreesClassifier"
   ]
  },
  {
   "cell_type": "code",
   "execution_count": 41,
   "id": "bb5c43f7",
   "metadata": {},
   "outputs": [
    {
     "data": {
      "text/plain": [
       "ExtraTreesClassifier()"
      ]
     },
     "execution_count": 41,
     "metadata": {},
     "output_type": "execute_result"
    }
   ],
   "source": [
    "from sklearn.ensemble import ExtraTreesClassifier\n",
    "extratree = ExtraTreesClassifier()\n",
    "extratree.fit(X_train, y_train)"
   ]
  },
  {
   "cell_type": "code",
   "execution_count": 42,
   "id": "71002958",
   "metadata": {},
   "outputs": [],
   "source": [
    "y_pred5 = extratree.predict(X_test)"
   ]
  },
  {
   "cell_type": "code",
   "execution_count": 43,
   "id": "b61749b4",
   "metadata": {},
   "outputs": [
    {
     "name": "stdout",
     "output_type": "stream",
     "text": [
      "Accuracy is: 96.63153131571242\n"
     ]
    }
   ],
   "source": [
    "from sklearn.metrics import accuracy_score\n",
    "accuracy = {accuracy_score(y_test, y_pred5)}\n",
    "print(f\"Accuracy is: {accuracy_score(y_test, y_pred5)* 100}\")"
   ]
  },
  {
   "cell_type": "code",
   "execution_count": 44,
   "id": "06532654",
   "metadata": {},
   "outputs": [
    {
     "name": "stdout",
     "output_type": "stream",
     "text": [
      "\u001b[1mClassification report : \u001b[0m\n",
      "               precision    recall  f1-score   support\n",
      "\n",
      "           0       0.96      1.00      0.98     38828\n",
      "           1       0.99      0.97      0.98      2247\n",
      "           2       0.95      0.95      0.95      1964\n",
      "           3       0.98      0.94      0.96      2266\n",
      "           4       0.97      0.93      0.95      1973\n",
      "           5       0.98      0.93      0.96      1941\n",
      "           6       0.98      0.94      0.96      2045\n",
      "           7       0.98      0.95      0.96      2179\n",
      "           8       0.97      0.94      0.95      2155\n",
      "           9       0.97      0.93      0.95      1927\n",
      "          10       0.98      0.86      0.91      1749\n",
      "          11       0.98      0.95      0.96      2132\n",
      "          12       0.97      0.87      0.92      1925\n",
      "          13       0.98      0.93      0.95      1471\n",
      "          14       0.98      0.92      0.95      1342\n",
      "          15       0.92      0.86      0.89      1338\n",
      "          16       0.99      0.96      0.98      1480\n",
      "          17       0.99      0.91      0.95      1581\n",
      "          18       1.00      0.96      0.98       655\n",
      "          19       0.98      0.93      0.95       874\n",
      "          20       1.00      0.99      1.00       788\n",
      "          21       0.97      0.97      0.97       671\n",
      "          22       1.00      0.98      0.99       680\n",
      "          23       0.99      0.97      0.98       927\n",
      "\n",
      "    accuracy                           0.97     75138\n",
      "   macro avg       0.98      0.94      0.96     75138\n",
      "weighted avg       0.97      0.97      0.97     75138\n",
      "\n",
      "\u001b[1mConfusion Matrix : \u001b[0m\n"
     ]
    },
    {
     "data": {
      "image/png": "[encoded data removed]",
      "text/plain": [
       "<Figure size 432x288 with 2 Axes>"
      ]
     },
     "metadata": {
      "needs_background": "light"
     },
     "output_type": "display_data"
    }
   ],
   "source": [
    "print('\\033[1m' +'Classification report : '+ '\\033[0m\\n', classification_report(y_test, y_pred5))\n",
    "\n",
    "cm = confusion_matrix(y_pred5, y_test)\n",
    "print('\\033[1m' +'Confusion Matrix : '+ '\\033[0m')\n",
    "sns.heatmap(cm, cmap = 'OrRd',annot = True, fmt='d')\n",
    "plt.show()"
   ]
  },
  {
   "cell_type": "markdown",
   "id": "2b86af64",
   "metadata": {},
   "source": [
    "# Evaluation -- ExtraTreesClassifier"
   ]
  },
  {
   "cell_type": "code",
   "execution_count": 45,
   "id": "a9e47f87",
   "metadata": {},
   "outputs": [
    {
     "name": "stdout",
     "output_type": "stream",
     "text": [
      "MAE: 0.2958156991136309\n",
      "MSE: 3.620445047778754\n",
      "RMSE: 1.90274671140926\n"
     ]
    }
   ],
   "source": [
    "from sklearn import metrics\n",
    "\n",
    "print('MAE:', metrics.mean_absolute_error(y_test,y_pred5))\n",
    "print('MSE:', metrics.mean_squared_error(y_test, y_pred5))\n",
    "print('RMSE:', np.sqrt(metrics.mean_squared_error(y_test, y_pred5)))"
   ]
  },
  {
   "cell_type": "code",
   "execution_count": 46,
   "id": "6d09ec03",
   "metadata": {},
   "outputs": [
    {
     "name": "stdout",
     "output_type": "stream",
     "text": [
      "Precision Score :  0.9667199910095803\n",
      "Recall Score :  0.9663153131571243\n",
      "f1_score :  0.9659655025019654\n"
     ]
    }
   ],
   "source": [
    "from sklearn.metrics import precision_score\n",
    "print(\"Precision Score : \",precision_score(y_test, y_pred5, average='weighted'))\n",
    "\n",
    "\n",
    "from sklearn.metrics import recall_score\n",
    "print(\"Recall Score : \",recall_score(y_test, y_pred5,average='weighted'))\n",
    "\n",
    "\n",
    "from sklearn.metrics import f1_score\n",
    "print(\"f1_score : \",f1_score(y_test, y_pred5,average='weighted'))"
   ]
  },
  {
   "cell_type": "code",
   "execution_count": null,
   "id": "292f2127",
   "metadata": {},
   "outputs": [],
   "source": []
  }
 ],
 "metadata": {
  "kernelspec": {
   "display_name": "Python 3 (ipykernel)",
   "language": "python",
   "name": "python3"
  },
  "language_info": {
   "codemirror_mode": {
    "name": "ipython",
    "version": 3
   },
   "file_extension": ".py",
   "mimetype": "text/x-python",
   "name": "python",
   "nbconvert_exporter": "python",
   "pygments_lexer": "ipython3",
   "version": "3.8.12"
  }
 },
 "nbformat": 4,
 "nbformat_minor": 5
}
