{
 "cells": [
  {
   "cell_type": "markdown",
   "id": "a76f9c3f",
   "metadata": {},
   "source": [
    "# Importing Libraries"
   ]
  },
  {
   "cell_type": "code",
   "execution_count": 1,
   "id": "cb8d9727",
   "metadata": {},
   "outputs": [],
   "source": [
    "import numpy as np\n",
    "import pandas as pd\n",
    "import matplotlib.pyplot as plt\n",
    "import seaborn as sns\n",
    "from sklearn.model_selection import train_test_split\n",
    "from sklearn.metrics import confusion_matrix, f1_score, accuracy_score, classification_report"
   ]
  },
  {
   "cell_type": "markdown",
   "id": "576dc0b5",
   "metadata": {},
   "source": [
    "# Exploratory Data Analysis¶"
   ]
  },
  {
   "cell_type": "code",
   "execution_count": 2,
   "id": "c72bb47b",
   "metadata": {},
   "outputs": [
    {
     "data": {
      "text/html": [
       "<div>\n",
       "<style scoped>\n",
       "    .dataframe tbody tr th:only-of-type {\n",
       "        vertical-align: middle;\n",
       "    }\n",
       "\n",
       "    .dataframe tbody tr th {\n",
       "        vertical-align: top;\n",
       "    }\n",
       "\n",
       "    .dataframe thead th {\n",
       "        text-align: right;\n",
       "    }\n",
       "</style>\n",
       "<table border=\"1\" class=\"dataframe\">\n",
       "  <thead>\n",
       "    <tr style=\"text-align: right;\">\n",
       "      <th></th>\n",
       "      <th>Emg1</th>\n",
       "      <th>Emg2</th>\n",
       "      <th>Emg3</th>\n",
       "      <th>Emg4</th>\n",
       "      <th>Emg5</th>\n",
       "      <th>Emg6</th>\n",
       "      <th>Emg7</th>\n",
       "      <th>Emg8</th>\n",
       "      <th>Emg9</th>\n",
       "      <th>Emg10</th>\n",
       "      <th>repetition</th>\n",
       "      <th>rerepetition</th>\n",
       "      <th>stimulus</th>\n",
       "      <th>restimulus</th>\n",
       "    </tr>\n",
       "  </thead>\n",
       "  <tbody>\n",
       "    <tr>\n",
       "      <th>318593</th>\n",
       "      <td>0.0366</td>\n",
       "      <td>0.0024</td>\n",
       "      <td>0.0098</td>\n",
       "      <td>0.2441</td>\n",
       "      <td>0.0171</td>\n",
       "      <td>0.0024</td>\n",
       "      <td>0.1001</td>\n",
       "      <td>0.1196</td>\n",
       "      <td>0.0171</td>\n",
       "      <td>0.1001</td>\n",
       "      <td>9</td>\n",
       "      <td>9</td>\n",
       "      <td>8</td>\n",
       "      <td>8</td>\n",
       "    </tr>\n",
       "    <tr>\n",
       "      <th>440936</th>\n",
       "      <td>0.1904</td>\n",
       "      <td>0.1147</td>\n",
       "      <td>0.0024</td>\n",
       "      <td>0.0049</td>\n",
       "      <td>0.0049</td>\n",
       "      <td>0.1807</td>\n",
       "      <td>0.6714</td>\n",
       "      <td>0.0439</td>\n",
       "      <td>0.0171</td>\n",
       "      <td>0.0879</td>\n",
       "      <td>5</td>\n",
       "      <td>0</td>\n",
       "      <td>21</td>\n",
       "      <td>0</td>\n",
       "    </tr>\n",
       "    <tr>\n",
       "      <th>310850</th>\n",
       "      <td>0.0537</td>\n",
       "      <td>0.0049</td>\n",
       "      <td>0.0049</td>\n",
       "      <td>0.0024</td>\n",
       "      <td>0.0024</td>\n",
       "      <td>0.0317</td>\n",
       "      <td>0.1855</td>\n",
       "      <td>0.2466</td>\n",
       "      <td>0.0049</td>\n",
       "      <td>0.0293</td>\n",
       "      <td>10</td>\n",
       "      <td>0</td>\n",
       "      <td>7</td>\n",
       "      <td>0</td>\n",
       "    </tr>\n",
       "    <tr>\n",
       "      <th>138150</th>\n",
       "      <td>0.0171</td>\n",
       "      <td>0.0024</td>\n",
       "      <td>0.0024</td>\n",
       "      <td>0.0024</td>\n",
       "      <td>0.0049</td>\n",
       "      <td>0.0049</td>\n",
       "      <td>0.0024</td>\n",
       "      <td>0.0171</td>\n",
       "      <td>0.0049</td>\n",
       "      <td>0.0024</td>\n",
       "      <td>0</td>\n",
       "      <td>0</td>\n",
       "      <td>0</td>\n",
       "      <td>0</td>\n",
       "    </tr>\n",
       "    <tr>\n",
       "      <th>456091</th>\n",
       "      <td>0.2954</td>\n",
       "      <td>0.1074</td>\n",
       "      <td>0.0537</td>\n",
       "      <td>0.0269</td>\n",
       "      <td>0.0513</td>\n",
       "      <td>0.1001</td>\n",
       "      <td>0.3589</td>\n",
       "      <td>0.9692</td>\n",
       "      <td>0.0317</td>\n",
       "      <td>0.1147</td>\n",
       "      <td>7</td>\n",
       "      <td>7</td>\n",
       "      <td>22</td>\n",
       "      <td>22</td>\n",
       "    </tr>\n",
       "  </tbody>\n",
       "</table>\n",
       "</div>"
      ],
      "text/plain": [
       "          Emg1    Emg2    Emg3    Emg4    Emg5    Emg6    Emg7    Emg8  \\\n",
       "318593  0.0366  0.0024  0.0098  0.2441  0.0171  0.0024  0.1001  0.1196   \n",
       "440936  0.1904  0.1147  0.0024  0.0049  0.0049  0.1807  0.6714  0.0439   \n",
       "310850  0.0537  0.0049  0.0049  0.0024  0.0024  0.0317  0.1855  0.2466   \n",
       "138150  0.0171  0.0024  0.0024  0.0024  0.0049  0.0049  0.0024  0.0171   \n",
       "456091  0.2954  0.1074  0.0537  0.0269  0.0513  0.1001  0.3589  0.9692   \n",
       "\n",
       "          Emg9   Emg10  repetition  rerepetition  stimulus  restimulus  \n",
       "318593  0.0171  0.1001           9             9         8           8  \n",
       "440936  0.0171  0.0879           5             0        21           0  \n",
       "310850  0.0049  0.0293          10             0         7           0  \n",
       "138150  0.0049  0.0024           0             0         0           0  \n",
       "456091  0.0317  0.1147           7             7        22          22  "
      ]
     },
     "execution_count": 2,
     "metadata": {},
     "output_type": "execute_result"
    }
   ],
   "source": [
    "raw_data = pd.read_excel('Dataset 1 Patient 25.xlsx')\n",
    "raw_data.sample(5)"
   ]
  },
  {
   "cell_type": "code",
   "execution_count": 3,
   "id": "a85e933c",
   "metadata": {},
   "outputs": [
    {
     "data": {
      "text/plain": [
       "(469821, 14)"
      ]
     },
     "execution_count": 3,
     "metadata": {},
     "output_type": "execute_result"
    }
   ],
   "source": [
    "raw_data.shape"
   ]
  },
  {
   "cell_type": "code",
   "execution_count": 4,
   "id": "e05e202f",
   "metadata": {},
   "outputs": [
    {
     "data": {
      "text/plain": [
       "Index(['Emg1', 'Emg2', 'Emg3', 'Emg4', 'Emg5', 'Emg6', 'Emg7', 'Emg8', 'Emg9',\n",
       "       'Emg10', 'repetition', 'rerepetition', 'stimulus', 'restimulus'],\n",
       "      dtype='object')"
      ]
     },
     "execution_count": 4,
     "metadata": {},
     "output_type": "execute_result"
    }
   ],
   "source": [
    "raw_data.columns"
   ]
  },
  {
   "cell_type": "code",
   "execution_count": 5,
   "id": "fde113c0",
   "metadata": {},
   "outputs": [
    {
     "name": "stdout",
     "output_type": "stream",
     "text": [
      "<class 'pandas.core.frame.DataFrame'>\n",
      "RangeIndex: 469821 entries, 0 to 469820\n",
      "Data columns (total 14 columns):\n",
      " #   Column        Non-Null Count   Dtype  \n",
      "---  ------        --------------   -----  \n",
      " 0   Emg1          469821 non-null  float64\n",
      " 1   Emg2          469821 non-null  float64\n",
      " 2   Emg3          469821 non-null  float64\n",
      " 3   Emg4          469821 non-null  float64\n",
      " 4   Emg5          469821 non-null  float64\n",
      " 5   Emg6          469821 non-null  float64\n",
      " 6   Emg7          469821 non-null  float64\n",
      " 7   Emg8          469821 non-null  float64\n",
      " 8   Emg9          469821 non-null  float64\n",
      " 9   Emg10         469821 non-null  float64\n",
      " 10  repetition    469821 non-null  int64  \n",
      " 11  rerepetition  469821 non-null  int64  \n",
      " 12  stimulus      469821 non-null  int64  \n",
      " 13  restimulus    469821 non-null  int64  \n",
      "dtypes: float64(10), int64(4)\n",
      "memory usage: 50.2 MB\n"
     ]
    }
   ],
   "source": [
    "raw_data.info()"
   ]
  },
  {
   "cell_type": "code",
   "execution_count": 6,
   "id": "0ae97d58",
   "metadata": {},
   "outputs": [
    {
     "data": {
      "text/html": [
       "<div>\n",
       "<style scoped>\n",
       "    .dataframe tbody tr th:only-of-type {\n",
       "        vertical-align: middle;\n",
       "    }\n",
       "\n",
       "    .dataframe tbody tr th {\n",
       "        vertical-align: top;\n",
       "    }\n",
       "\n",
       "    .dataframe thead th {\n",
       "        text-align: right;\n",
       "    }\n",
       "</style>\n",
       "<table border=\"1\" class=\"dataframe\">\n",
       "  <thead>\n",
       "    <tr style=\"text-align: right;\">\n",
       "      <th></th>\n",
       "      <th>Emg1</th>\n",
       "      <th>Emg2</th>\n",
       "      <th>Emg3</th>\n",
       "      <th>Emg4</th>\n",
       "      <th>Emg5</th>\n",
       "      <th>Emg6</th>\n",
       "      <th>Emg7</th>\n",
       "      <th>Emg8</th>\n",
       "      <th>Emg9</th>\n",
       "      <th>Emg10</th>\n",
       "      <th>repetition</th>\n",
       "      <th>rerepetition</th>\n",
       "      <th>stimulus</th>\n",
       "      <th>restimulus</th>\n",
       "    </tr>\n",
       "  </thead>\n",
       "  <tbody>\n",
       "    <tr>\n",
       "      <th>count</th>\n",
       "      <td>469821.000000</td>\n",
       "      <td>469821.000000</td>\n",
       "      <td>469821.000000</td>\n",
       "      <td>469821.000000</td>\n",
       "      <td>469821.000000</td>\n",
       "      <td>469821.000000</td>\n",
       "      <td>469821.000000</td>\n",
       "      <td>469821.000000</td>\n",
       "      <td>469821.000000</td>\n",
       "      <td>469821.000000</td>\n",
       "      <td>469821.000000</td>\n",
       "      <td>469821.000000</td>\n",
       "      <td>469821.000000</td>\n",
       "      <td>469821.000000</td>\n",
       "    </tr>\n",
       "    <tr>\n",
       "      <th>mean</th>\n",
       "      <td>0.268114</td>\n",
       "      <td>0.156607</td>\n",
       "      <td>0.128820</td>\n",
       "      <td>0.109278</td>\n",
       "      <td>0.020653</td>\n",
       "      <td>0.037569</td>\n",
       "      <td>0.349515</td>\n",
       "      <td>0.402672</td>\n",
       "      <td>0.131860</td>\n",
       "      <td>0.270130</td>\n",
       "      <td>3.156387</td>\n",
       "      <td>2.382701</td>\n",
       "      <td>5.594729</td>\n",
       "      <td>4.278744</td>\n",
       "    </tr>\n",
       "    <tr>\n",
       "      <th>std</th>\n",
       "      <td>0.324583</td>\n",
       "      <td>0.297356</td>\n",
       "      <td>0.288758</td>\n",
       "      <td>0.312210</td>\n",
       "      <td>0.053065</td>\n",
       "      <td>0.090803</td>\n",
       "      <td>0.522189</td>\n",
       "      <td>0.513143</td>\n",
       "      <td>0.335658</td>\n",
       "      <td>0.439442</td>\n",
       "      <td>3.483117</td>\n",
       "      <td>3.324333</td>\n",
       "      <td>6.577557</td>\n",
       "      <td>6.291936</td>\n",
       "    </tr>\n",
       "    <tr>\n",
       "      <th>min</th>\n",
       "      <td>0.002400</td>\n",
       "      <td>0.002400</td>\n",
       "      <td>0.002400</td>\n",
       "      <td>0.002400</td>\n",
       "      <td>0.002400</td>\n",
       "      <td>0.002400</td>\n",
       "      <td>0.002400</td>\n",
       "      <td>0.002400</td>\n",
       "      <td>0.002400</td>\n",
       "      <td>0.002400</td>\n",
       "      <td>0.000000</td>\n",
       "      <td>0.000000</td>\n",
       "      <td>0.000000</td>\n",
       "      <td>0.000000</td>\n",
       "    </tr>\n",
       "    <tr>\n",
       "      <th>25%</th>\n",
       "      <td>0.061000</td>\n",
       "      <td>0.002400</td>\n",
       "      <td>0.004900</td>\n",
       "      <td>0.002400</td>\n",
       "      <td>0.004900</td>\n",
       "      <td>0.002400</td>\n",
       "      <td>0.078100</td>\n",
       "      <td>0.102500</td>\n",
       "      <td>0.002400</td>\n",
       "      <td>0.012200</td>\n",
       "      <td>0.000000</td>\n",
       "      <td>0.000000</td>\n",
       "      <td>0.000000</td>\n",
       "      <td>0.000000</td>\n",
       "    </tr>\n",
       "    <tr>\n",
       "      <th>50%</th>\n",
       "      <td>0.153800</td>\n",
       "      <td>0.019500</td>\n",
       "      <td>0.004900</td>\n",
       "      <td>0.004900</td>\n",
       "      <td>0.004900</td>\n",
       "      <td>0.007300</td>\n",
       "      <td>0.178200</td>\n",
       "      <td>0.251500</td>\n",
       "      <td>0.004900</td>\n",
       "      <td>0.100100</td>\n",
       "      <td>2.000000</td>\n",
       "      <td>0.000000</td>\n",
       "      <td>3.000000</td>\n",
       "      <td>0.000000</td>\n",
       "    </tr>\n",
       "    <tr>\n",
       "      <th>75%</th>\n",
       "      <td>0.361300</td>\n",
       "      <td>0.168500</td>\n",
       "      <td>0.144000</td>\n",
       "      <td>0.048800</td>\n",
       "      <td>0.007300</td>\n",
       "      <td>0.036600</td>\n",
       "      <td>0.397900</td>\n",
       "      <td>0.488300</td>\n",
       "      <td>0.112300</td>\n",
       "      <td>0.356400</td>\n",
       "      <td>6.000000</td>\n",
       "      <td>5.000000</td>\n",
       "      <td>10.000000</td>\n",
       "      <td>8.000000</td>\n",
       "    </tr>\n",
       "    <tr>\n",
       "      <th>max</th>\n",
       "      <td>4.643600</td>\n",
       "      <td>4.147900</td>\n",
       "      <td>4.638700</td>\n",
       "      <td>4.643600</td>\n",
       "      <td>1.992200</td>\n",
       "      <td>2.661100</td>\n",
       "      <td>4.641100</td>\n",
       "      <td>4.646000</td>\n",
       "      <td>4.638700</td>\n",
       "      <td>4.638700</td>\n",
       "      <td>10.000000</td>\n",
       "      <td>10.000000</td>\n",
       "      <td>23.000000</td>\n",
       "      <td>23.000000</td>\n",
       "    </tr>\n",
       "  </tbody>\n",
       "</table>\n",
       "</div>"
      ],
      "text/plain": [
       "                Emg1           Emg2           Emg3           Emg4  \\\n",
       "count  469821.000000  469821.000000  469821.000000  469821.000000   \n",
       "mean        0.268114       0.156607       0.128820       0.109278   \n",
       "std         0.324583       0.297356       0.288758       0.312210   \n",
       "min         0.002400       0.002400       0.002400       0.002400   \n",
       "25%         0.061000       0.002400       0.004900       0.002400   \n",
       "50%         0.153800       0.019500       0.004900       0.004900   \n",
       "75%         0.361300       0.168500       0.144000       0.048800   \n",
       "max         4.643600       4.147900       4.638700       4.643600   \n",
       "\n",
       "                Emg5           Emg6           Emg7           Emg8  \\\n",
       "count  469821.000000  469821.000000  469821.000000  469821.000000   \n",
       "mean        0.020653       0.037569       0.349515       0.402672   \n",
       "std         0.053065       0.090803       0.522189       0.513143   \n",
       "min         0.002400       0.002400       0.002400       0.002400   \n",
       "25%         0.004900       0.002400       0.078100       0.102500   \n",
       "50%         0.004900       0.007300       0.178200       0.251500   \n",
       "75%         0.007300       0.036600       0.397900       0.488300   \n",
       "max         1.992200       2.661100       4.641100       4.646000   \n",
       "\n",
       "                Emg9          Emg10     repetition   rerepetition  \\\n",
       "count  469821.000000  469821.000000  469821.000000  469821.000000   \n",
       "mean        0.131860       0.270130       3.156387       2.382701   \n",
       "std         0.335658       0.439442       3.483117       3.324333   \n",
       "min         0.002400       0.002400       0.000000       0.000000   \n",
       "25%         0.002400       0.012200       0.000000       0.000000   \n",
       "50%         0.004900       0.100100       2.000000       0.000000   \n",
       "75%         0.112300       0.356400       6.000000       5.000000   \n",
       "max         4.638700       4.638700      10.000000      10.000000   \n",
       "\n",
       "            stimulus     restimulus  \n",
       "count  469821.000000  469821.000000  \n",
       "mean        5.594729       4.278744  \n",
       "std         6.577557       6.291936  \n",
       "min         0.000000       0.000000  \n",
       "25%         0.000000       0.000000  \n",
       "50%         3.000000       0.000000  \n",
       "75%        10.000000       8.000000  \n",
       "max        23.000000      23.000000  "
      ]
     },
     "execution_count": 6,
     "metadata": {},
     "output_type": "execute_result"
    }
   ],
   "source": [
    "raw_data.describe(include='all')"
   ]
  },
  {
   "cell_type": "code",
   "execution_count": 7,
   "id": "071b96e6",
   "metadata": {},
   "outputs": [
    {
     "name": "stdout",
     "output_type": "stream",
     "text": [
      "Unique Dependent values and their counts :\n",
      "0     200217\n",
      "8      15593\n",
      "7      15585\n",
      "2      15581\n",
      "4      15579\n",
      "12     15577\n",
      "9      15553\n",
      "11     15552\n",
      "6      15541\n",
      "5      15533\n",
      "3      15531\n",
      "10     15525\n",
      "1      15505\n",
      "14     10403\n",
      "17     10402\n",
      "13     10386\n",
      "15     10360\n",
      "16     10325\n",
      "18      5198\n",
      "21      5198\n",
      "19      5193\n",
      "23      5163\n",
      "20      5161\n",
      "22      5160\n",
      "Name: stimulus, dtype: int64\n"
     ]
    }
   ],
   "source": [
    "print(\"Unique Dependent values and their counts :\")\n",
    "print(raw_data[\"stimulus\"].value_counts())"
   ]
  },
  {
   "cell_type": "code",
   "execution_count": 8,
   "id": "50a0f9be",
   "metadata": {},
   "outputs": [
    {
     "data": {
      "text/plain": [
       "Text(0, 0.5, 'Frequency')"
      ]
     },
     "execution_count": 8,
     "metadata": {},
     "output_type": "execute_result"
    },
    {
     "data": {
      "image/png": "[encoded data removed]",
      "text/plain": [
       "<Figure size 432x288 with 1 Axes>"
      ]
     },
     "metadata": {
      "needs_background": "light"
     },
     "output_type": "display_data"
    }
   ],
   "source": [
    "count_classes = pd.value_counts(raw_data['stimulus'], sort = True)\n",
    "\n",
    "count_classes.plot(kind = 'bar', rot=0)\n",
    "\n",
    "plt.title(\"stimulus Class Distribution\")\n",
    "\n",
    "plt.xlabel(\"Class\")\n",
    "\n",
    "plt.ylabel(\"Frequency\")"
   ]
  },
  {
   "cell_type": "markdown",
   "id": "275440c4",
   "metadata": {},
   "source": [
    "# Data Cleaning and Exploratory Data Analysis with New Data"
   ]
  },
  {
   "cell_type": "code",
   "execution_count": 9,
   "id": "e8ed6471",
   "metadata": {},
   "outputs": [],
   "source": [
    "index_names = raw_data[ (raw_data['stimulus'] != raw_data['restimulus'])].index\n",
    "raw_data.drop(index_names, inplace = True)"
   ]
  },
  {
   "cell_type": "code",
   "execution_count": 10,
   "id": "395d42c1",
   "metadata": {},
   "outputs": [],
   "source": [
    "index_names = raw_data[ (raw_data['repetition'] != raw_data['rerepetition'])].index\n",
    "raw_data.drop(index_names, inplace = True)"
   ]
  },
  {
   "cell_type": "code",
   "execution_count": 11,
   "id": "5ccb8950",
   "metadata": {},
   "outputs": [
    {
     "data": {
      "text/html": [
       "<div>\n",
       "<style scoped>\n",
       "    .dataframe tbody tr th:only-of-type {\n",
       "        vertical-align: middle;\n",
       "    }\n",
       "\n",
       "    .dataframe tbody tr th {\n",
       "        vertical-align: top;\n",
       "    }\n",
       "\n",
       "    .dataframe thead th {\n",
       "        text-align: right;\n",
       "    }\n",
       "</style>\n",
       "<table border=\"1\" class=\"dataframe\">\n",
       "  <thead>\n",
       "    <tr style=\"text-align: right;\">\n",
       "      <th></th>\n",
       "      <th>Emg1</th>\n",
       "      <th>Emg2</th>\n",
       "      <th>Emg3</th>\n",
       "      <th>Emg4</th>\n",
       "      <th>Emg5</th>\n",
       "      <th>Emg6</th>\n",
       "      <th>Emg7</th>\n",
       "      <th>Emg8</th>\n",
       "      <th>Emg9</th>\n",
       "      <th>Emg10</th>\n",
       "      <th>repetition</th>\n",
       "      <th>rerepetition</th>\n",
       "      <th>stimulus</th>\n",
       "      <th>restimulus</th>\n",
       "    </tr>\n",
       "  </thead>\n",
       "  <tbody>\n",
       "    <tr>\n",
       "      <th>221287</th>\n",
       "      <td>1.3379</td>\n",
       "      <td>0.4810</td>\n",
       "      <td>0.3882</td>\n",
       "      <td>0.1050</td>\n",
       "      <td>0.1196</td>\n",
       "      <td>0.4297</td>\n",
       "      <td>1.5161</td>\n",
       "      <td>1.2354</td>\n",
       "      <td>0.5933</td>\n",
       "      <td>1.0498</td>\n",
       "      <td>2</td>\n",
       "      <td>2</td>\n",
       "      <td>15</td>\n",
       "      <td>15</td>\n",
       "    </tr>\n",
       "    <tr>\n",
       "      <th>203589</th>\n",
       "      <td>0.2612</td>\n",
       "      <td>0.4834</td>\n",
       "      <td>1.0327</td>\n",
       "      <td>2.5293</td>\n",
       "      <td>0.2466</td>\n",
       "      <td>0.0806</td>\n",
       "      <td>0.6689</td>\n",
       "      <td>0.3687</td>\n",
       "      <td>0.5664</td>\n",
       "      <td>0.5249</td>\n",
       "      <td>1</td>\n",
       "      <td>1</td>\n",
       "      <td>13</td>\n",
       "      <td>13</td>\n",
       "    </tr>\n",
       "    <tr>\n",
       "      <th>453887</th>\n",
       "      <td>0.0317</td>\n",
       "      <td>0.0024</td>\n",
       "      <td>0.0049</td>\n",
       "      <td>0.0024</td>\n",
       "      <td>0.0049</td>\n",
       "      <td>0.0122</td>\n",
       "      <td>0.1343</td>\n",
       "      <td>0.0317</td>\n",
       "      <td>0.0024</td>\n",
       "      <td>0.0098</td>\n",
       "      <td>0</td>\n",
       "      <td>0</td>\n",
       "      <td>0</td>\n",
       "      <td>0</td>\n",
       "    </tr>\n",
       "    <tr>\n",
       "      <th>234724</th>\n",
       "      <td>0.4199</td>\n",
       "      <td>0.1514</td>\n",
       "      <td>0.6470</td>\n",
       "      <td>1.7969</td>\n",
       "      <td>0.1050</td>\n",
       "      <td>0.0781</td>\n",
       "      <td>0.6421</td>\n",
       "      <td>0.2563</td>\n",
       "      <td>1.3184</td>\n",
       "      <td>0.7544</td>\n",
       "      <td>8</td>\n",
       "      <td>8</td>\n",
       "      <td>16</td>\n",
       "      <td>16</td>\n",
       "    </tr>\n",
       "    <tr>\n",
       "      <th>107610</th>\n",
       "      <td>0.0391</td>\n",
       "      <td>0.0024</td>\n",
       "      <td>0.0024</td>\n",
       "      <td>0.0049</td>\n",
       "      <td>0.0049</td>\n",
       "      <td>0.0024</td>\n",
       "      <td>0.0269</td>\n",
       "      <td>0.0195</td>\n",
       "      <td>0.0024</td>\n",
       "      <td>0.0049</td>\n",
       "      <td>0</td>\n",
       "      <td>0</td>\n",
       "      <td>0</td>\n",
       "      <td>0</td>\n",
       "    </tr>\n",
       "  </tbody>\n",
       "</table>\n",
       "</div>"
      ],
      "text/plain": [
       "          Emg1    Emg2    Emg3    Emg4    Emg5    Emg6    Emg7    Emg8  \\\n",
       "221287  1.3379  0.4810  0.3882  0.1050  0.1196  0.4297  1.5161  1.2354   \n",
       "203589  0.2612  0.4834  1.0327  2.5293  0.2466  0.0806  0.6689  0.3687   \n",
       "453887  0.0317  0.0024  0.0049  0.0024  0.0049  0.0122  0.1343  0.0317   \n",
       "234724  0.4199  0.1514  0.6470  1.7969  0.1050  0.0781  0.6421  0.2563   \n",
       "107610  0.0391  0.0024  0.0024  0.0049  0.0049  0.0024  0.0269  0.0195   \n",
       "\n",
       "          Emg9   Emg10  repetition  rerepetition  stimulus  restimulus  \n",
       "221287  0.5933  1.0498           2             2        15          15  \n",
       "203589  0.5664  0.5249           1             1        13          13  \n",
       "453887  0.0024  0.0098           0             0         0           0  \n",
       "234724  1.3184  0.7544           8             8        16          16  \n",
       "107610  0.0024  0.0049           0             0         0           0  "
      ]
     },
     "execution_count": 11,
     "metadata": {},
     "output_type": "execute_result"
    }
   ],
   "source": [
    "raw_data.sample(5)"
   ]
  },
  {
   "cell_type": "code",
   "execution_count": 12,
   "id": "ab84cf47",
   "metadata": {},
   "outputs": [
    {
     "data": {
      "text/plain": [
       "(394034, 14)"
      ]
     },
     "execution_count": 12,
     "metadata": {},
     "output_type": "execute_result"
    }
   ],
   "source": [
    "raw_data.shape"
   ]
  },
  {
   "cell_type": "code",
   "execution_count": 13,
   "id": "fcb24936",
   "metadata": {},
   "outputs": [
    {
     "name": "stdout",
     "output_type": "stream",
     "text": [
      "<class 'pandas.core.frame.DataFrame'>\n",
      "Int64Index: 394034 entries, 0 to 469820\n",
      "Data columns (total 14 columns):\n",
      " #   Column        Non-Null Count   Dtype  \n",
      "---  ------        --------------   -----  \n",
      " 0   Emg1          394034 non-null  float64\n",
      " 1   Emg2          394034 non-null  float64\n",
      " 2   Emg3          394034 non-null  float64\n",
      " 3   Emg4          394034 non-null  float64\n",
      " 4   Emg5          394034 non-null  float64\n",
      " 5   Emg6          394034 non-null  float64\n",
      " 6   Emg7          394034 non-null  float64\n",
      " 7   Emg8          394034 non-null  float64\n",
      " 8   Emg9          394034 non-null  float64\n",
      " 9   Emg10         394034 non-null  float64\n",
      " 10  repetition    394034 non-null  int64  \n",
      " 11  rerepetition  394034 non-null  int64  \n",
      " 12  stimulus      394034 non-null  int64  \n",
      " 13  restimulus    394034 non-null  int64  \n",
      "dtypes: float64(10), int64(4)\n",
      "memory usage: 45.1 MB\n"
     ]
    }
   ],
   "source": [
    "raw_data.info()"
   ]
  },
  {
   "cell_type": "code",
   "execution_count": 14,
   "id": "8ada4ef1",
   "metadata": {},
   "outputs": [
    {
     "name": "stdout",
     "output_type": "stream",
     "text": [
      "Emg1            False\n",
      "Emg2            False\n",
      "Emg3            False\n",
      "Emg4            False\n",
      "Emg5            False\n",
      "Emg6            False\n",
      "Emg7            False\n",
      "Emg8            False\n",
      "Emg9            False\n",
      "Emg10           False\n",
      "repetition      False\n",
      "rerepetition    False\n",
      "stimulus        False\n",
      "restimulus      False\n",
      "dtype: bool\n"
     ]
    }
   ],
   "source": [
    "print(raw_data.isnull().any())"
   ]
  },
  {
   "cell_type": "code",
   "execution_count": 15,
   "id": "138ec425",
   "metadata": {},
   "outputs": [],
   "source": [
    "X = raw_data.iloc[:,0:10]\n",
    "y = raw_data.stimulus"
   ]
  },
  {
   "cell_type": "code",
   "execution_count": 16,
   "id": "9c1574d6",
   "metadata": {},
   "outputs": [],
   "source": [
    "# Splitting data for training and testing\n",
    "X_train, X_test, y_train, y_test = train_test_split(X, y, test_size = 0.2, random_state = 39)"
   ]
  },
  {
   "cell_type": "markdown",
   "id": "e657abbe",
   "metadata": {},
   "source": [
    "# Machine Learning Models"
   ]
  },
  {
   "cell_type": "markdown",
   "id": "8743ea5d",
   "metadata": {},
   "source": [
    "# Decision Tree"
   ]
  },
  {
   "cell_type": "code",
   "execution_count": 17,
   "id": "dbe7e4c1",
   "metadata": {},
   "outputs": [
    {
     "data": {
      "text/plain": [
       "DecisionTreeClassifier()"
      ]
     },
     "execution_count": 17,
     "metadata": {},
     "output_type": "execute_result"
    }
   ],
   "source": [
    "from sklearn import tree\n",
    "tree = tree.DecisionTreeClassifier()\n",
    "tree.fit(X_train, y_train)"
   ]
  },
  {
   "cell_type": "code",
   "execution_count": 18,
   "id": "bcb8239c",
   "metadata": {},
   "outputs": [],
   "source": [
    "y_pred1 = tree.predict(X_test)"
   ]
  },
  {
   "cell_type": "code",
   "execution_count": 19,
   "id": "95712989",
   "metadata": {},
   "outputs": [
    {
     "name": "stdout",
     "output_type": "stream",
     "text": [
      "Accuracy is: 88.46549164414328\n"
     ]
    }
   ],
   "source": [
    "from sklearn.metrics import accuracy_score\n",
    "accuracy = {accuracy_score(y_test, y_pred1)}\n",
    "print(f\"Accuracy is: {accuracy_score(y_test, y_pred1)* 100}\")"
   ]
  },
  {
   "cell_type": "code",
   "execution_count": 20,
   "id": "e1e5a0b3",
   "metadata": {},
   "outputs": [
    {
     "name": "stdout",
     "output_type": "stream",
     "text": [
      "\u001b[1mClassification report : \u001b[0m\n",
      "               precision    recall  f1-score   support\n",
      "\n",
      "           0       0.95      0.95      0.95     39171\n",
      "           1       0.82      0.81      0.82      1948\n",
      "           2       0.84      0.85      0.84      2393\n",
      "           3       0.81      0.81      0.81      2279\n",
      "           4       0.82      0.82      0.82      2303\n",
      "           5       0.82      0.84      0.83      2129\n",
      "           6       0.88      0.87      0.88      2103\n",
      "           7       0.85      0.85      0.85      2131\n",
      "           8       0.85      0.84      0.84      2256\n",
      "           9       0.77      0.77      0.77      2332\n",
      "          10       0.71      0.70      0.70      2518\n",
      "          11       0.84      0.85      0.84      2252\n",
      "          12       0.75      0.75      0.75      2438\n",
      "          13       0.83      0.82      0.83      1487\n",
      "          14       0.81      0.82      0.81      1393\n",
      "          15       0.80      0.80      0.80      1511\n",
      "          16       0.82      0.84      0.83      1565\n",
      "          17       0.86      0.86      0.86      1684\n",
      "          18       0.85      0.88      0.87       838\n",
      "          19       0.86      0.82      0.84       766\n",
      "          20       0.89      0.89      0.89       882\n",
      "          21       0.83      0.82      0.82       688\n",
      "          22       0.90      0.86      0.88       862\n",
      "          23       0.86      0.89      0.88       878\n",
      "\n",
      "    accuracy                           0.88     78807\n",
      "   macro avg       0.83      0.83      0.83     78807\n",
      "weighted avg       0.88      0.88      0.88     78807\n",
      "\n",
      "\u001b[1mConfusion Matrix : \u001b[0m\n"
     ]
    },
    {
     "data": {
      "image/png": "[encoded data removed]",
      "text/plain": [
       "<Figure size 432x288 with 2 Axes>"
      ]
     },
     "metadata": {
      "needs_background": "light"
     },
     "output_type": "display_data"
    }
   ],
   "source": [
    "print('\\033[1m' +'Classification report : '+ '\\033[0m\\n', classification_report(y_test, y_pred1))\n",
    "\n",
    "cm = confusion_matrix(y_pred1, y_test)\n",
    "print('\\033[1m' +'Confusion Matrix : '+ '\\033[0m')\n",
    "sns.heatmap(cm, cmap = 'OrRd',annot = True, fmt='d')\n",
    "plt.show()"
   ]
  },
  {
   "cell_type": "markdown",
   "id": "4ebcef17",
   "metadata": {},
   "source": [
    "# Evaluation -- Decision Tree"
   ]
  },
  {
   "cell_type": "code",
   "execution_count": 21,
   "id": "cbae2add",
   "metadata": {},
   "outputs": [
    {
     "name": "stdout",
     "output_type": "stream",
     "text": [
      "MAE: 0.8540738766860811\n",
      "MSE: 9.349562856091463\n",
      "RMSE: 3.057705488776096\n"
     ]
    }
   ],
   "source": [
    "from sklearn import metrics\n",
    "\n",
    "print('MAE:', metrics.mean_absolute_error(y_test,y_pred1))\n",
    "print('MSE:', metrics.mean_squared_error(y_test, y_pred1))\n",
    "print('RMSE:', np.sqrt(metrics.mean_squared_error(y_test, y_pred1)))"
   ]
  },
  {
   "cell_type": "code",
   "execution_count": 22,
   "id": "f7ac1ceb",
   "metadata": {},
   "outputs": [
    {
     "name": "stdout",
     "output_type": "stream",
     "text": [
      "Precision Score :  0.8846748633589304\n",
      "Recall Score :  0.8846549164414329\n",
      "f1_score :  0.8846405169770538\n"
     ]
    }
   ],
   "source": [
    "from sklearn.metrics import precision_score\n",
    "print(\"Precision Score : \",precision_score(y_test, y_pred1, average='weighted'))\n",
    "\n",
    "\n",
    "from sklearn.metrics import recall_score\n",
    "print(\"Recall Score : \",recall_score(y_test, y_pred1,average='weighted'))\n",
    "\n",
    "\n",
    "from sklearn.metrics import f1_score\n",
    "print(\"f1_score : \",f1_score(y_test, y_pred1,average='weighted'))"
   ]
  },
  {
   "cell_type": "markdown",
   "id": "f901aeef",
   "metadata": {},
   "source": [
    "# KNeighborsClassifier"
   ]
  },
  {
   "cell_type": "code",
   "execution_count": 23,
   "id": "15fd9ac9",
   "metadata": {},
   "outputs": [
    {
     "data": {
      "text/plain": [
       "KNeighborsClassifier()"
      ]
     },
     "execution_count": 23,
     "metadata": {},
     "output_type": "execute_result"
    }
   ],
   "source": [
    "from sklearn.neighbors import KNeighborsClassifier\n",
    "KNeighborsClassifier = KNeighborsClassifier()\n",
    "KNeighborsClassifier.fit(X_train, y_train)"
   ]
  },
  {
   "cell_type": "code",
   "execution_count": 24,
   "id": "da059a26",
   "metadata": {},
   "outputs": [],
   "source": [
    "y_pred2 = KNeighborsClassifier.predict(X_test)"
   ]
  },
  {
   "cell_type": "code",
   "execution_count": 25,
   "id": "1d358310",
   "metadata": {},
   "outputs": [
    {
     "name": "stdout",
     "output_type": "stream",
     "text": [
      "Accuracy is: 94.12488738310049\n"
     ]
    }
   ],
   "source": [
    "from sklearn.metrics import accuracy_score\n",
    "accuracy = {accuracy_score(y_test, y_pred2)}\n",
    "print(f\"Accuracy is: {accuracy_score(y_test, y_pred2)* 100}\")"
   ]
  },
  {
   "cell_type": "code",
   "execution_count": 26,
   "id": "5e0d6dfd",
   "metadata": {},
   "outputs": [
    {
     "name": "stdout",
     "output_type": "stream",
     "text": [
      "\u001b[1mClassification report : \u001b[0m\n",
      "               precision    recall  f1-score   support\n",
      "\n",
      "           0       0.95      0.99      0.97     39171\n",
      "           1       0.94      0.92      0.93      1948\n",
      "           2       0.93      0.92      0.93      2393\n",
      "           3       0.92      0.89      0.91      2279\n",
      "           4       0.94      0.91      0.93      2303\n",
      "           5       0.92      0.90      0.91      2129\n",
      "           6       0.96      0.95      0.96      2103\n",
      "           7       0.94      0.90      0.92      2131\n",
      "           8       0.94      0.91      0.93      2256\n",
      "           9       0.91      0.88      0.89      2332\n",
      "          10       0.88      0.79      0.83      2518\n",
      "          11       0.95      0.92      0.93      2252\n",
      "          12       0.90      0.83      0.86      2438\n",
      "          13       0.93      0.92      0.93      1487\n",
      "          14       0.95      0.90      0.93      1393\n",
      "          15       0.92      0.89      0.90      1511\n",
      "          16       0.95      0.92      0.93      1565\n",
      "          17       0.94      0.91      0.93      1684\n",
      "          18       0.96      0.89      0.92       838\n",
      "          19       0.97      0.92      0.94       766\n",
      "          20       0.98      0.91      0.94       882\n",
      "          21       0.96      0.92      0.94       688\n",
      "          22       0.97      0.91      0.94       862\n",
      "          23       0.94      0.92      0.93       878\n",
      "\n",
      "    accuracy                           0.94     78807\n",
      "   macro avg       0.94      0.91      0.92     78807\n",
      "weighted avg       0.94      0.94      0.94     78807\n",
      "\n",
      "\u001b[1mConfusion Matrix : \u001b[0m\n"
     ]
    },
    {
     "data": {
      "image/png": "[encoded data removed]",
      "text/plain": [
       "<Figure size 432x288 with 2 Axes>"
      ]
     },
     "metadata": {
      "needs_background": "light"
     },
     "output_type": "display_data"
    }
   ],
   "source": [
    "print('\\033[1m' +'Classification report : '+ '\\033[0m\\n', classification_report(y_test, y_pred2))\n",
    "\n",
    "cm = confusion_matrix(y_pred2, y_test)\n",
    "print('\\033[1m' +'Confusion Matrix : '+ '\\033[0m')\n",
    "sns.heatmap(cm, cmap = 'OrRd',annot = True, fmt='d')\n",
    "plt.show()"
   ]
  },
  {
   "cell_type": "markdown",
   "id": "d8d41935",
   "metadata": {},
   "source": [
    "# Evaluation -- KNeighborsClassifier"
   ]
  },
  {
   "cell_type": "code",
   "execution_count": 27,
   "id": "bd1c5fe9",
   "metadata": {},
   "outputs": [
    {
     "name": "stdout",
     "output_type": "stream",
     "text": [
      "MAE: 0.453804865050059\n",
      "MSE: 5.061491999441674\n",
      "RMSE: 2.2497759887245827\n"
     ]
    }
   ],
   "source": [
    "from sklearn import metrics\n",
    "\n",
    "print('MAE:', metrics.mean_absolute_error(y_test,y_pred2))\n",
    "print('MSE:', metrics.mean_squared_error(y_test, y_pred2))\n",
    "print('RMSE:', np.sqrt(metrics.mean_squared_error(y_test, y_pred2)))"
   ]
  },
  {
   "cell_type": "code",
   "execution_count": 28,
   "id": "de3e3c02",
   "metadata": {},
   "outputs": [
    {
     "name": "stdout",
     "output_type": "stream",
     "text": [
      "Precision Score :  0.9408262021241176\n",
      "Recall Score :  0.9412488738310049\n",
      "f1_score :  0.9406099390528251\n"
     ]
    }
   ],
   "source": [
    "from sklearn.metrics import precision_score\n",
    "print(\"Precision Score : \",precision_score(y_test, y_pred2, average='weighted'))\n",
    "\n",
    "\n",
    "from sklearn.metrics import recall_score\n",
    "print(\"Recall Score : \",recall_score(y_test, y_pred2,average='weighted'))\n",
    "\n",
    "\n",
    "from sklearn.metrics import f1_score\n",
    "print(\"f1_score : \",f1_score(y_test, y_pred2,average='weighted'))"
   ]
  },
  {
   "cell_type": "markdown",
   "id": "5065ae39",
   "metadata": {},
   "source": [
    "# Random Forest"
   ]
  },
  {
   "cell_type": "code",
   "execution_count": 29,
   "id": "be857e35",
   "metadata": {},
   "outputs": [
    {
     "data": {
      "text/plain": [
       "RandomForestClassifier()"
      ]
     },
     "execution_count": 29,
     "metadata": {},
     "output_type": "execute_result"
    }
   ],
   "source": [
    "from sklearn.ensemble import RandomForestClassifier\n",
    "RandomForestClassifier = RandomForestClassifier()\n",
    "RandomForestClassifier.fit(X_train, y_train)"
   ]
  },
  {
   "cell_type": "code",
   "execution_count": 30,
   "id": "544a9fa7",
   "metadata": {},
   "outputs": [],
   "source": [
    "y_pred3 = RandomForestClassifier.predict(X_test)"
   ]
  },
  {
   "cell_type": "code",
   "execution_count": 31,
   "id": "a0daf4ac",
   "metadata": {},
   "outputs": [
    {
     "name": "stdout",
     "output_type": "stream",
     "text": [
      "Accuracy is: 95.82270610478764\n"
     ]
    }
   ],
   "source": [
    "from sklearn.metrics import accuracy_score\n",
    "accuracy = {accuracy_score(y_test, y_pred3)}\n",
    "print(f\"Accuracy is: {accuracy_score(y_test, y_pred3)* 100}\")"
   ]
  },
  {
   "cell_type": "code",
   "execution_count": 32,
   "id": "17ccca6d",
   "metadata": {},
   "outputs": [
    {
     "name": "stdout",
     "output_type": "stream",
     "text": [
      "\u001b[1mClassification report : \u001b[0m\n",
      "               precision    recall  f1-score   support\n",
      "\n",
      "           0       0.95      0.99      0.97     39171\n",
      "           1       0.97      0.93      0.95      1948\n",
      "           2       0.98      0.92      0.95      2393\n",
      "           3       0.97      0.91      0.94      2279\n",
      "           4       0.97      0.93      0.95      2303\n",
      "           5       0.97      0.95      0.96      2129\n",
      "           6       0.99      0.96      0.97      2103\n",
      "           7       0.96      0.92      0.94      2131\n",
      "           8       0.98      0.94      0.96      2256\n",
      "           9       0.95      0.91      0.93      2332\n",
      "          10       0.93      0.82      0.87      2518\n",
      "          11       0.97      0.95      0.96      2252\n",
      "          12       0.94      0.85      0.90      2438\n",
      "          13       0.97      0.95      0.96      1487\n",
      "          14       0.97      0.94      0.96      1393\n",
      "          15       0.95      0.93      0.94      1511\n",
      "          16       0.98      0.95      0.97      1565\n",
      "          17       0.98      0.93      0.95      1684\n",
      "          18       0.99      0.95      0.97       838\n",
      "          19       0.99      0.93      0.96       766\n",
      "          20       0.99      0.95      0.97       882\n",
      "          21       0.99      0.96      0.97       688\n",
      "          22       0.98      0.97      0.98       862\n",
      "          23       0.98      0.95      0.97       878\n",
      "\n",
      "    accuracy                           0.96     78807\n",
      "   macro avg       0.97      0.93      0.95     78807\n",
      "weighted avg       0.96      0.96      0.96     78807\n",
      "\n",
      "\u001b[1mConfusion Matrix : \u001b[0m\n"
     ]
    },
    {
     "data": {
      "image/png": "[encoded data removed]",
      "text/plain": [
       "<Figure size 432x288 with 2 Axes>"
      ]
     },
     "metadata": {
      "needs_background": "light"
     },
     "output_type": "display_data"
    }
   ],
   "source": [
    "print('\\033[1m' +'Classification report : '+ '\\033[0m\\n', classification_report(y_test, y_pred3))\n",
    "\n",
    "cm = confusion_matrix(y_pred3, y_test)\n",
    "print('\\033[1m' +'Confusion Matrix : '+ '\\033[0m')\n",
    "sns.heatmap(cm, cmap = 'OrRd',annot = True, fmt='d')\n",
    "plt.show()"
   ]
  },
  {
   "cell_type": "markdown",
   "id": "bf149f54",
   "metadata": {},
   "source": [
    "# Evaluation -- Random Forest"
   ]
  },
  {
   "cell_type": "code",
   "execution_count": 33,
   "id": "44b863ad",
   "metadata": {},
   "outputs": [
    {
     "name": "stdout",
     "output_type": "stream",
     "text": [
      "MAE: 0.33607420660601217\n",
      "MSE: 3.785539355640996\n",
      "RMSE: 1.9456462565535895\n"
     ]
    }
   ],
   "source": [
    "from sklearn import metrics\n",
    "\n",
    "print('MAE:', metrics.mean_absolute_error(y_test,y_pred3))\n",
    "print('MSE:', metrics.mean_squared_error(y_test, y_pred3))\n",
    "print('RMSE:', np.sqrt(metrics.mean_squared_error(y_test, y_pred3)))"
   ]
  },
  {
   "cell_type": "code",
   "execution_count": 34,
   "id": "f40def00",
   "metadata": {},
   "outputs": [
    {
     "name": "stdout",
     "output_type": "stream",
     "text": [
      "Precision Score :  0.9585392592921482\n",
      "Recall Score :  0.9582270610478765\n",
      "f1_score :  0.957755648402301\n"
     ]
    }
   ],
   "source": [
    "from sklearn.metrics import precision_score\n",
    "print(\"Precision Score : \",precision_score(y_test, y_pred3, average='weighted'))\n",
    "\n",
    "\n",
    "from sklearn.metrics import recall_score\n",
    "print(\"Recall Score : \",recall_score(y_test, y_pred3,average='weighted'))\n",
    "\n",
    "\n",
    "from sklearn.metrics import f1_score\n",
    "print(\"f1_score : \",f1_score(y_test, y_pred3,average='weighted'))"
   ]
  },
  {
   "cell_type": "markdown",
   "id": "fc99a8db",
   "metadata": {},
   "source": [
    "# XGBoost"
   ]
  },
  {
   "cell_type": "code",
   "execution_count": 35,
   "id": "cf92a2ce",
   "metadata": {},
   "outputs": [
    {
     "name": "stderr",
     "output_type": "stream",
     "text": [
      "E:\\MachineLearning\\envs\\gpu\\lib\\site-packages\\xgboost\\compat.py:36: FutureWarning: pandas.Int64Index is deprecated and will be removed from pandas in a future version. Use pandas.Index with the appropriate dtype instead.\n",
      "  from pandas import MultiIndex, Int64Index\n",
      "E:\\MachineLearning\\envs\\gpu\\lib\\site-packages\\xgboost\\sklearn.py:1224: UserWarning: The use of label encoder in XGBClassifier is deprecated and will be removed in a future release. To remove this warning, do the following: 1) Pass option use_label_encoder=False when constructing XGBClassifier object; and 2) Encode your labels (y) as integers starting with 0, i.e. 0, 1, 2, ..., [num_class - 1].\n",
      "  warnings.warn(label_encoder_deprecation_msg, UserWarning)\n",
      "E:\\MachineLearning\\envs\\gpu\\lib\\site-packages\\xgboost\\data.py:262: FutureWarning: pandas.Int64Index is deprecated and will be removed from pandas in a future version. Use pandas.Index with the appropriate dtype instead.\n",
      "  elif isinstance(data.columns, (pd.Int64Index, pd.RangeIndex)):\n"
     ]
    },
    {
     "name": "stdout",
     "output_type": "stream",
     "text": [
      "[12:47:06] WARNING: C:/Users/Administrator/workspace/xgboost-win64_release_1.5.1/src/learner.cc:1115: Starting in XGBoost 1.3.0, the default evaluation metric used with the objective 'multi:softprob' was changed from 'merror' to 'mlogloss'. Explicitly set eval_metric if you'd like to restore the old behavior.\n"
     ]
    },
    {
     "data": {
      "text/plain": [
       "XGBClassifier(base_score=0.5, booster='gbtree', colsample_bylevel=1,\n",
       "              colsample_bynode=1, colsample_bytree=1, enable_categorical=False,\n",
       "              gamma=0, gpu_id=-1, importance_type=None,\n",
       "              interaction_constraints='', learning_rate=0.300000012,\n",
       "              max_delta_step=0, max_depth=6, min_child_weight=1, missing=nan,\n",
       "              monotone_constraints='()', n_estimators=100, n_jobs=12,\n",
       "              num_parallel_tree=1, objective='multi:softprob', predictor='auto',\n",
       "              random_state=0, reg_alpha=0, reg_lambda=1, scale_pos_weight=None,\n",
       "              subsample=1, tree_method='exact', validate_parameters=1,\n",
       "              verbosity=None)"
      ]
     },
     "execution_count": 35,
     "metadata": {},
     "output_type": "execute_result"
    }
   ],
   "source": [
    "from xgboost import XGBClassifier\n",
    "xgb = XGBClassifier()\n",
    "xgb.fit(X_train, y_train)"
   ]
  },
  {
   "cell_type": "code",
   "execution_count": 36,
   "id": "122b4ba0",
   "metadata": {},
   "outputs": [],
   "source": [
    "y_pred4 = xgb.predict(X_test)"
   ]
  },
  {
   "cell_type": "code",
   "execution_count": 37,
   "id": "022138ba",
   "metadata": {},
   "outputs": [
    {
     "name": "stdout",
     "output_type": "stream",
     "text": [
      "Accuracy is: 90.83330161026305\n"
     ]
    }
   ],
   "source": [
    "from sklearn.metrics import accuracy_score\n",
    "accuracy = {accuracy_score(y_test, y_pred4)}\n",
    "print(f\"Accuracy is: {accuracy_score(y_test, y_pred4)* 100}\")"
   ]
  },
  {
   "cell_type": "code",
   "execution_count": 38,
   "id": "269a9899",
   "metadata": {},
   "outputs": [
    {
     "name": "stdout",
     "output_type": "stream",
     "text": [
      "\u001b[1mClassification report : \u001b[0m\n",
      "               precision    recall  f1-score   support\n",
      "\n",
      "           0       0.93      0.98      0.96     39171\n",
      "           1       0.90      0.84      0.87      1948\n",
      "           2       0.90      0.85      0.88      2393\n",
      "           3       0.87      0.81      0.84      2279\n",
      "           4       0.88      0.83      0.86      2303\n",
      "           5       0.88      0.85      0.86      2129\n",
      "           6       0.94      0.90      0.92      2103\n",
      "           7       0.91      0.85      0.88      2131\n",
      "           8       0.91      0.85      0.88      2256\n",
      "           9       0.80      0.76      0.78      2332\n",
      "          10       0.76      0.69      0.72      2518\n",
      "          11       0.88      0.86      0.87      2252\n",
      "          12       0.83      0.73      0.78      2438\n",
      "          13       0.89      0.85      0.87      1487\n",
      "          14       0.90      0.85      0.87      1393\n",
      "          15       0.83      0.81      0.82      1511\n",
      "          16       0.89      0.86      0.88      1565\n",
      "          17       0.93      0.89      0.91      1684\n",
      "          18       0.97      0.91      0.93       838\n",
      "          19       0.96      0.89      0.93       766\n",
      "          20       0.96      0.92      0.94       882\n",
      "          21       0.95      0.92      0.94       688\n",
      "          22       0.97      0.95      0.96       862\n",
      "          23       0.94      0.91      0.93       878\n",
      "\n",
      "    accuracy                           0.91     78807\n",
      "   macro avg       0.90      0.86      0.88     78807\n",
      "weighted avg       0.91      0.91      0.91     78807\n",
      "\n",
      "\u001b[1mConfusion Matrix : \u001b[0m\n"
     ]
    },
    {
     "data": {
      "image/png": "[encoded data removed]",
      "text/plain": [
       "<Figure size 432x288 with 2 Axes>"
      ]
     },
     "metadata": {
      "needs_background": "light"
     },
     "output_type": "display_data"
    }
   ],
   "source": [
    "print('\\033[1m' +'Classification report : '+ '\\033[0m\\n', classification_report(y_test, y_pred4))\n",
    "\n",
    "cm = confusion_matrix(y_pred4, y_test)\n",
    "print('\\033[1m' +'Confusion Matrix : '+ '\\033[0m')\n",
    "sns.heatmap(cm, cmap = 'OrRd',annot = True, fmt='d')\n",
    "plt.show()"
   ]
  },
  {
   "cell_type": "markdown",
   "id": "3031b603",
   "metadata": {},
   "source": [
    "# Evaluation -- XGBoost"
   ]
  },
  {
   "cell_type": "code",
   "execution_count": 39,
   "id": "f5efef7b",
   "metadata": {},
   "outputs": [
    {
     "name": "stdout",
     "output_type": "stream",
     "text": [
      "MAE: 0.6438006776047813\n",
      "MSE: 6.73463017244661\n",
      "RMSE: 2.5951166009346496\n"
     ]
    }
   ],
   "source": [
    "from sklearn import metrics\n",
    "\n",
    "print('MAE:', metrics.mean_absolute_error(y_test,y_pred4))\n",
    "print('MSE:', metrics.mean_squared_error(y_test, y_pred4))\n",
    "print('RMSE:', np.sqrt(metrics.mean_squared_error(y_test, y_pred4)))"
   ]
  },
  {
   "cell_type": "code",
   "execution_count": 40,
   "id": "36005adc",
   "metadata": {},
   "outputs": [
    {
     "name": "stdout",
     "output_type": "stream",
     "text": [
      "Precision Score :  0.9067544807800247\n",
      "Recall Score :  0.9083330161026305\n",
      "f1_score :  0.9067799844304166\n"
     ]
    }
   ],
   "source": [
    "from sklearn.metrics import precision_score\n",
    "print(\"Precision Score : \",precision_score(y_test, y_pred4, average='weighted'))\n",
    "\n",
    "\n",
    "from sklearn.metrics import recall_score\n",
    "print(\"Recall Score : \",recall_score(y_test, y_pred4,average='weighted'))\n",
    "\n",
    "\n",
    "from sklearn.metrics import f1_score\n",
    "print(\"f1_score : \",f1_score(y_test, y_pred4,average='weighted'))"
   ]
  },
  {
   "cell_type": "markdown",
   "id": "5805a6f2",
   "metadata": {},
   "source": [
    "# ExtraTreesClassifier"
   ]
  },
  {
   "cell_type": "code",
   "execution_count": 41,
   "id": "bb5c43f7",
   "metadata": {},
   "outputs": [
    {
     "data": {
      "text/plain": [
       "ExtraTreesClassifier()"
      ]
     },
     "execution_count": 41,
     "metadata": {},
     "output_type": "execute_result"
    }
   ],
   "source": [
    "from sklearn.ensemble import ExtraTreesClassifier\n",
    "extratree = ExtraTreesClassifier()\n",
    "extratree.fit(X_train, y_train)"
   ]
  },
  {
   "cell_type": "code",
   "execution_count": 42,
   "id": "71002958",
   "metadata": {},
   "outputs": [],
   "source": [
    "y_pred5 = extratree.predict(X_test)"
   ]
  },
  {
   "cell_type": "code",
   "execution_count": 43,
   "id": "b61749b4",
   "metadata": {},
   "outputs": [
    {
     "name": "stdout",
     "output_type": "stream",
     "text": [
      "Accuracy is: 96.09044881799839\n"
     ]
    }
   ],
   "source": [
    "from sklearn.metrics import accuracy_score\n",
    "accuracy = {accuracy_score(y_test, y_pred5)}\n",
    "print(f\"Accuracy is: {accuracy_score(y_test, y_pred5)* 100}\")"
   ]
  },
  {
   "cell_type": "code",
   "execution_count": 44,
   "id": "06532654",
   "metadata": {},
   "outputs": [
    {
     "name": "stdout",
     "output_type": "stream",
     "text": [
      "\u001b[1mClassification report : \u001b[0m\n",
      "               precision    recall  f1-score   support\n",
      "\n",
      "           0       0.95      1.00      0.97     39171\n",
      "           1       0.99      0.94      0.96      1948\n",
      "           2       0.98      0.93      0.95      2393\n",
      "           3       0.97      0.91      0.94      2279\n",
      "           4       0.98      0.93      0.96      2303\n",
      "           5       0.98      0.94      0.96      2129\n",
      "           6       0.99      0.97      0.98      2103\n",
      "           7       0.97      0.91      0.94      2131\n",
      "           8       0.99      0.94      0.96      2256\n",
      "           9       0.97      0.91      0.94      2332\n",
      "          10       0.94      0.82      0.88      2518\n",
      "          11       0.98      0.96      0.97      2252\n",
      "          12       0.96      0.84      0.90      2438\n",
      "          13       0.98      0.96      0.97      1487\n",
      "          14       0.98      0.94      0.96      1393\n",
      "          15       0.97      0.91      0.94      1511\n",
      "          16       0.99      0.96      0.98      1565\n",
      "          17       0.98      0.93      0.96      1684\n",
      "          18       1.00      0.95      0.97       838\n",
      "          19       0.99      0.94      0.97       766\n",
      "          20       0.99      0.97      0.98       882\n",
      "          21       0.99      0.98      0.99       688\n",
      "          22       0.99      0.98      0.98       862\n",
      "          23       0.99      0.97      0.98       878\n",
      "\n",
      "    accuracy                           0.96     78807\n",
      "   macro avg       0.98      0.94      0.96     78807\n",
      "weighted avg       0.96      0.96      0.96     78807\n",
      "\n",
      "\u001b[1mConfusion Matrix : \u001b[0m\n"
     ]
    },
    {
     "data": {
      "image/png": "[encoded data removed]",
      "text/plain": [
       "<Figure size 432x288 with 2 Axes>"
      ]
     },
     "metadata": {
      "needs_background": "light"
     },
     "output_type": "display_data"
    }
   ],
   "source": [
    "print('\\033[1m' +'Classification report : '+ '\\033[0m\\n', classification_report(y_test, y_pred5))\n",
    "\n",
    "cm = confusion_matrix(y_pred5, y_test)\n",
    "print('\\033[1m' +'Confusion Matrix : '+ '\\033[0m')\n",
    "sns.heatmap(cm, cmap = 'OrRd',annot = True, fmt='d')\n",
    "plt.show()"
   ]
  },
  {
   "cell_type": "markdown",
   "id": "2b86af64",
   "metadata": {},
   "source": [
    "# Evaluation -- ExtraTreesClassifier"
   ]
  },
  {
   "cell_type": "code",
   "execution_count": 45,
   "id": "a9e47f87",
   "metadata": {},
   "outputs": [
    {
     "name": "stdout",
     "output_type": "stream",
     "text": [
      "MAE: 0.3273567068915198\n",
      "MSE: 3.701397084015379\n",
      "RMSE: 1.9239015265900121\n"
     ]
    }
   ],
   "source": [
    "from sklearn import metrics\n",
    "\n",
    "print('MAE:', metrics.mean_absolute_error(y_test,y_pred5))\n",
    "print('MSE:', metrics.mean_squared_error(y_test, y_pred5))\n",
    "print('RMSE:', np.sqrt(metrics.mean_squared_error(y_test, y_pred5)))"
   ]
  },
  {
   "cell_type": "code",
   "execution_count": 46,
   "id": "6d09ec03",
   "metadata": {},
   "outputs": [
    {
     "name": "stdout",
     "output_type": "stream",
     "text": [
      "Precision Score :  0.9615957074306627\n",
      "Recall Score :  0.960904488179984\n",
      "f1_score :  0.960435249126641\n"
     ]
    }
   ],
   "source": [
    "from sklearn.metrics import precision_score\n",
    "print(\"Precision Score : \",precision_score(y_test, y_pred5, average='weighted'))\n",
    "\n",
    "\n",
    "from sklearn.metrics import recall_score\n",
    "print(\"Recall Score : \",recall_score(y_test, y_pred5,average='weighted'))\n",
    "\n",
    "\n",
    "from sklearn.metrics import f1_score\n",
    "print(\"f1_score : \",f1_score(y_test, y_pred5,average='weighted'))"
   ]
  },
  {
   "cell_type": "code",
   "execution_count": null,
   "id": "292f2127",
   "metadata": {},
   "outputs": [],
   "source": [
    "\n"
   ]
  }
 ],
 "metadata": {
  "kernelspec": {
   "display_name": "Python 3 (ipykernel)",
   "language": "python",
   "name": "python3"
  },
  "language_info": {
   "codemirror_mode": {
    "name": "ipython",
    "version": 3
   },
   "file_extension": ".py",
   "mimetype": "text/x-python",
   "name": "python",
   "nbconvert_exporter": "python",
   "pygments_lexer": "ipython3",
   "version": "3.8.12"
  }
 },
 "nbformat": 4,
 "nbformat_minor": 5
}
