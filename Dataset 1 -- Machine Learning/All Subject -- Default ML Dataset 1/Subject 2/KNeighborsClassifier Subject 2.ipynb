{
 "cells": [
  {
   "cell_type": "markdown",
   "id": "5146ed0c",
   "metadata": {},
   "source": [
    "# Importing Libraries"
   ]
  },
  {
   "cell_type": "code",
   "execution_count": 1,
   "id": "3045e9ed",
   "metadata": {},
   "outputs": [],
   "source": [
    "import numpy as np\n",
    "import pandas as pd\n",
    "import matplotlib.pyplot as plt\n",
    "import seaborn as sns\n",
    "from sklearn.model_selection import train_test_split\n",
    "from sklearn.metrics import confusion_matrix, f1_score, accuracy_score, classification_report"
   ]
  },
  {
   "cell_type": "markdown",
   "id": "42648960",
   "metadata": {},
   "source": [
    "# Exploratory Data Analysis"
   ]
  },
  {
   "cell_type": "code",
   "execution_count": 2,
   "id": "c6cab329",
   "metadata": {
    "scrolled": false
   },
   "outputs": [
    {
     "data": {
      "text/html": [
       "<div>\n",
       "<style scoped>\n",
       "    .dataframe tbody tr th:only-of-type {\n",
       "        vertical-align: middle;\n",
       "    }\n",
       "\n",
       "    .dataframe tbody tr th {\n",
       "        vertical-align: top;\n",
       "    }\n",
       "\n",
       "    .dataframe thead th {\n",
       "        text-align: right;\n",
       "    }\n",
       "</style>\n",
       "<table border=\"1\" class=\"dataframe\">\n",
       "  <thead>\n",
       "    <tr style=\"text-align: right;\">\n",
       "      <th></th>\n",
       "      <th>Emg1</th>\n",
       "      <th>Emg2</th>\n",
       "      <th>Emg3</th>\n",
       "      <th>Emg4</th>\n",
       "      <th>Emg5</th>\n",
       "      <th>Emg6</th>\n",
       "      <th>Emg7</th>\n",
       "      <th>Emg8</th>\n",
       "      <th>Emg9</th>\n",
       "      <th>Emg10</th>\n",
       "      <th>repetition</th>\n",
       "      <th>rerepetition</th>\n",
       "      <th>stimulus</th>\n",
       "      <th>restimulus</th>\n",
       "    </tr>\n",
       "  </thead>\n",
       "  <tbody>\n",
       "    <tr>\n",
       "      <th>379865</th>\n",
       "      <td>0.0146</td>\n",
       "      <td>0.0317</td>\n",
       "      <td>0.0024</td>\n",
       "      <td>0.0024</td>\n",
       "      <td>0.0024</td>\n",
       "      <td>0.0024</td>\n",
       "      <td>0.0024</td>\n",
       "      <td>0.0024</td>\n",
       "      <td>0.0024</td>\n",
       "      <td>0.0024</td>\n",
       "      <td>0</td>\n",
       "      <td>0</td>\n",
       "      <td>0</td>\n",
       "      <td>0</td>\n",
       "    </tr>\n",
       "    <tr>\n",
       "      <th>206873</th>\n",
       "      <td>0.3540</td>\n",
       "      <td>0.2905</td>\n",
       "      <td>0.0854</td>\n",
       "      <td>0.2759</td>\n",
       "      <td>1.3208</td>\n",
       "      <td>0.1270</td>\n",
       "      <td>0.0928</td>\n",
       "      <td>0.4956</td>\n",
       "      <td>0.2856</td>\n",
       "      <td>0.5981</td>\n",
       "      <td>7</td>\n",
       "      <td>7</td>\n",
       "      <td>13</td>\n",
       "      <td>13</td>\n",
       "    </tr>\n",
       "    <tr>\n",
       "      <th>178497</th>\n",
       "      <td>0.6982</td>\n",
       "      <td>0.3882</td>\n",
       "      <td>0.2954</td>\n",
       "      <td>0.2637</td>\n",
       "      <td>0.0073</td>\n",
       "      <td>0.0024</td>\n",
       "      <td>0.0464</td>\n",
       "      <td>0.5322</td>\n",
       "      <td>0.8936</td>\n",
       "      <td>0.5786</td>\n",
       "      <td>3</td>\n",
       "      <td>3</td>\n",
       "      <td>10</td>\n",
       "      <td>10</td>\n",
       "    </tr>\n",
       "    <tr>\n",
       "      <th>437380</th>\n",
       "      <td>1.0742</td>\n",
       "      <td>0.4443</td>\n",
       "      <td>0.2124</td>\n",
       "      <td>0.0073</td>\n",
       "      <td>0.0024</td>\n",
       "      <td>0.0049</td>\n",
       "      <td>0.1025</td>\n",
       "      <td>1.4063</td>\n",
       "      <td>0.0830</td>\n",
       "      <td>1.4648</td>\n",
       "      <td>8</td>\n",
       "      <td>8</td>\n",
       "      <td>20</td>\n",
       "      <td>20</td>\n",
       "    </tr>\n",
       "    <tr>\n",
       "      <th>317747</th>\n",
       "      <td>0.3003</td>\n",
       "      <td>0.4907</td>\n",
       "      <td>0.0586</td>\n",
       "      <td>0.0024</td>\n",
       "      <td>0.0024</td>\n",
       "      <td>0.0024</td>\n",
       "      <td>0.0024</td>\n",
       "      <td>0.0732</td>\n",
       "      <td>0.0024</td>\n",
       "      <td>0.0708</td>\n",
       "      <td>0</td>\n",
       "      <td>0</td>\n",
       "      <td>0</td>\n",
       "      <td>0</td>\n",
       "    </tr>\n",
       "  </tbody>\n",
       "</table>\n",
       "</div>"
      ],
      "text/plain": [
       "         Emg1     Emg2    Emg3    Emg4   Emg5     Emg6    Emg7    Emg8  \\\n",
       "379865  0.0146  0.0317  0.0024  0.0024  0.0024  0.0024  0.0024  0.0024   \n",
       "206873  0.3540  0.2905  0.0854  0.2759  1.3208  0.1270  0.0928  0.4956   \n",
       "178497  0.6982  0.3882  0.2954  0.2637  0.0073  0.0024  0.0464  0.5322   \n",
       "437380  1.0742  0.4443  0.2124  0.0073  0.0024  0.0049  0.1025  1.4063   \n",
       "317747  0.3003  0.4907  0.0586  0.0024  0.0024  0.0024  0.0024  0.0732   \n",
       "\n",
       "          Emg9   Emg10  repetition  rerepetition  stimulus  restimulus  \n",
       "379865  0.0024  0.0024           0             0         0           0  \n",
       "206873  0.2856  0.5981           7             7        13          13  \n",
       "178497  0.8936  0.5786           3             3        10          10  \n",
       "437380  0.0830  1.4648           8             8        20          20  \n",
       "317747  0.0024  0.0708           0             0         0           0  "
      ]
     },
     "execution_count": 2,
     "metadata": {},
     "output_type": "execute_result"
    }
   ],
   "source": [
    "raw_data = pd.read_excel('Dataset 1 Patient 2.xlsx')\n",
    "raw_data.sample(5)"
   ]
  },
  {
   "cell_type": "code",
   "execution_count": 3,
   "id": "8cad9bd6",
   "metadata": {},
   "outputs": [
    {
     "data": {
      "text/plain": [
       "(472501, 14)"
      ]
     },
     "execution_count": 3,
     "metadata": {},
     "output_type": "execute_result"
    }
   ],
   "source": [
    "raw_data.shape"
   ]
  },
  {
   "cell_type": "code",
   "execution_count": 4,
   "id": "d05a18f1",
   "metadata": {},
   "outputs": [
    {
     "data": {
      "text/plain": [
       "Index(['Emg1 ', 'Emg2', 'Emg3', 'Emg4', 'Emg5 ', 'Emg6', 'Emg7', 'Emg8',\n",
       "       'Emg9', 'Emg10', 'repetition', 'rerepetition', 'stimulus',\n",
       "       'restimulus'],\n",
       "      dtype='object')"
      ]
     },
     "execution_count": 4,
     "metadata": {},
     "output_type": "execute_result"
    }
   ],
   "source": [
    "raw_data.columns"
   ]
  },
  {
   "cell_type": "code",
   "execution_count": 5,
   "id": "259f05e6",
   "metadata": {},
   "outputs": [
    {
     "name": "stdout",
     "output_type": "stream",
     "text": [
      "<class 'pandas.core.frame.DataFrame'>\n",
      "RangeIndex: 472501 entries, 0 to 472500\n",
      "Data columns (total 14 columns):\n",
      " #   Column        Non-Null Count   Dtype  \n",
      "---  ------        --------------   -----  \n",
      " 0   Emg1          472501 non-null  float64\n",
      " 1   Emg2          472501 non-null  float64\n",
      " 2   Emg3          472501 non-null  float64\n",
      " 3   Emg4          472501 non-null  float64\n",
      " 4   Emg5          472501 non-null  float64\n",
      " 5   Emg6          472501 non-null  float64\n",
      " 6   Emg7          472501 non-null  float64\n",
      " 7   Emg8          472501 non-null  float64\n",
      " 8   Emg9          472501 non-null  float64\n",
      " 9   Emg10         472501 non-null  float64\n",
      " 10  repetition    472501 non-null  int64  \n",
      " 11  rerepetition  472501 non-null  int64  \n",
      " 12  stimulus      472501 non-null  int64  \n",
      " 13  restimulus    472501 non-null  int64  \n",
      "dtypes: float64(10), int64(4)\n",
      "memory usage: 50.5 MB\n"
     ]
    }
   ],
   "source": [
    "raw_data.info()"
   ]
  },
  {
   "cell_type": "code",
   "execution_count": 6,
   "id": "613a1cc1",
   "metadata": {},
   "outputs": [
    {
     "data": {
      "text/html": [
       "<div>\n",
       "<style scoped>\n",
       "    .dataframe tbody tr th:only-of-type {\n",
       "        vertical-align: middle;\n",
       "    }\n",
       "\n",
       "    .dataframe tbody tr th {\n",
       "        vertical-align: top;\n",
       "    }\n",
       "\n",
       "    .dataframe thead th {\n",
       "        text-align: right;\n",
       "    }\n",
       "</style>\n",
       "<table border=\"1\" class=\"dataframe\">\n",
       "  <thead>\n",
       "    <tr style=\"text-align: right;\">\n",
       "      <th></th>\n",
       "      <th>Emg1</th>\n",
       "      <th>Emg2</th>\n",
       "      <th>Emg3</th>\n",
       "      <th>Emg4</th>\n",
       "      <th>Emg5</th>\n",
       "      <th>Emg6</th>\n",
       "      <th>Emg7</th>\n",
       "      <th>Emg8</th>\n",
       "      <th>Emg9</th>\n",
       "      <th>Emg10</th>\n",
       "      <th>repetition</th>\n",
       "      <th>rerepetition</th>\n",
       "      <th>stimulus</th>\n",
       "      <th>restimulus</th>\n",
       "    </tr>\n",
       "  </thead>\n",
       "  <tbody>\n",
       "    <tr>\n",
       "      <th>count</th>\n",
       "      <td>472501.000000</td>\n",
       "      <td>472501.000000</td>\n",
       "      <td>472501.000000</td>\n",
       "      <td>472501.000000</td>\n",
       "      <td>472501.000000</td>\n",
       "      <td>472501.000000</td>\n",
       "      <td>472501.000000</td>\n",
       "      <td>472501.000000</td>\n",
       "      <td>472501.000000</td>\n",
       "      <td>472501.000000</td>\n",
       "      <td>472501.000000</td>\n",
       "      <td>472501.000000</td>\n",
       "      <td>472501.000000</td>\n",
       "      <td>472501.000000</td>\n",
       "    </tr>\n",
       "    <tr>\n",
       "      <th>mean</th>\n",
       "      <td>0.449598</td>\n",
       "      <td>0.369994</td>\n",
       "      <td>0.165067</td>\n",
       "      <td>0.110990</td>\n",
       "      <td>0.056133</td>\n",
       "      <td>0.014915</td>\n",
       "      <td>0.042496</td>\n",
       "      <td>0.302602</td>\n",
       "      <td>0.260029</td>\n",
       "      <td>0.219605</td>\n",
       "      <td>3.124415</td>\n",
       "      <td>2.194270</td>\n",
       "      <td>5.539897</td>\n",
       "      <td>3.961033</td>\n",
       "    </tr>\n",
       "    <tr>\n",
       "      <th>std</th>\n",
       "      <td>0.549594</td>\n",
       "      <td>0.394968</td>\n",
       "      <td>0.285421</td>\n",
       "      <td>0.240335</td>\n",
       "      <td>0.265131</td>\n",
       "      <td>0.047967</td>\n",
       "      <td>0.110609</td>\n",
       "      <td>0.505100</td>\n",
       "      <td>0.485920</td>\n",
       "      <td>0.424508</td>\n",
       "      <td>3.479845</td>\n",
       "      <td>3.242834</td>\n",
       "      <td>6.570169</td>\n",
       "      <td>6.186865</td>\n",
       "    </tr>\n",
       "    <tr>\n",
       "      <th>min</th>\n",
       "      <td>0.002400</td>\n",
       "      <td>0.002400</td>\n",
       "      <td>0.002400</td>\n",
       "      <td>0.002400</td>\n",
       "      <td>0.002400</td>\n",
       "      <td>0.000000</td>\n",
       "      <td>0.000000</td>\n",
       "      <td>0.002400</td>\n",
       "      <td>0.000000</td>\n",
       "      <td>0.002400</td>\n",
       "      <td>0.000000</td>\n",
       "      <td>0.000000</td>\n",
       "      <td>0.000000</td>\n",
       "      <td>0.000000</td>\n",
       "    </tr>\n",
       "    <tr>\n",
       "      <th>25%</th>\n",
       "      <td>0.100100</td>\n",
       "      <td>0.114700</td>\n",
       "      <td>0.004900</td>\n",
       "      <td>0.002400</td>\n",
       "      <td>0.002400</td>\n",
       "      <td>0.002400</td>\n",
       "      <td>0.002400</td>\n",
       "      <td>0.014600</td>\n",
       "      <td>0.002400</td>\n",
       "      <td>0.002400</td>\n",
       "      <td>0.000000</td>\n",
       "      <td>0.000000</td>\n",
       "      <td>0.000000</td>\n",
       "      <td>0.000000</td>\n",
       "    </tr>\n",
       "    <tr>\n",
       "      <th>50%</th>\n",
       "      <td>0.234400</td>\n",
       "      <td>0.263700</td>\n",
       "      <td>0.043900</td>\n",
       "      <td>0.002400</td>\n",
       "      <td>0.002400</td>\n",
       "      <td>0.002400</td>\n",
       "      <td>0.002400</td>\n",
       "      <td>0.095200</td>\n",
       "      <td>0.002400</td>\n",
       "      <td>0.063500</td>\n",
       "      <td>2.000000</td>\n",
       "      <td>0.000000</td>\n",
       "      <td>3.000000</td>\n",
       "      <td>0.000000</td>\n",
       "    </tr>\n",
       "    <tr>\n",
       "      <th>75%</th>\n",
       "      <td>0.590800</td>\n",
       "      <td>0.502900</td>\n",
       "      <td>0.192900</td>\n",
       "      <td>0.092800</td>\n",
       "      <td>0.009800</td>\n",
       "      <td>0.002400</td>\n",
       "      <td>0.024400</td>\n",
       "      <td>0.371100</td>\n",
       "      <td>0.324700</td>\n",
       "      <td>0.244100</td>\n",
       "      <td>6.000000</td>\n",
       "      <td>4.000000</td>\n",
       "      <td>10.000000</td>\n",
       "      <td>7.000000</td>\n",
       "    </tr>\n",
       "    <tr>\n",
       "      <th>max</th>\n",
       "      <td>4.665500</td>\n",
       "      <td>4.663100</td>\n",
       "      <td>3.886700</td>\n",
       "      <td>3.313000</td>\n",
       "      <td>4.663100</td>\n",
       "      <td>1.196300</td>\n",
       "      <td>1.621100</td>\n",
       "      <td>4.665500</td>\n",
       "      <td>4.663100</td>\n",
       "      <td>4.663100</td>\n",
       "      <td>10.000000</td>\n",
       "      <td>10.000000</td>\n",
       "      <td>23.000000</td>\n",
       "      <td>23.000000</td>\n",
       "    </tr>\n",
       "  </tbody>\n",
       "</table>\n",
       "</div>"
      ],
      "text/plain": [
       "               Emg1            Emg2           Emg3           Emg4  \\\n",
       "count  472501.000000  472501.000000  472501.000000  472501.000000   \n",
       "mean        0.449598       0.369994       0.165067       0.110990   \n",
       "std         0.549594       0.394968       0.285421       0.240335   \n",
       "min         0.002400       0.002400       0.002400       0.002400   \n",
       "25%         0.100100       0.114700       0.004900       0.002400   \n",
       "50%         0.234400       0.263700       0.043900       0.002400   \n",
       "75%         0.590800       0.502900       0.192900       0.092800   \n",
       "max         4.665500       4.663100       3.886700       3.313000   \n",
       "\n",
       "               Emg5            Emg6           Emg7           Emg8  \\\n",
       "count  472501.000000  472501.000000  472501.000000  472501.000000   \n",
       "mean        0.056133       0.014915       0.042496       0.302602   \n",
       "std         0.265131       0.047967       0.110609       0.505100   \n",
       "min         0.002400       0.000000       0.000000       0.002400   \n",
       "25%         0.002400       0.002400       0.002400       0.014600   \n",
       "50%         0.002400       0.002400       0.002400       0.095200   \n",
       "75%         0.009800       0.002400       0.024400       0.371100   \n",
       "max         4.663100       1.196300       1.621100       4.665500   \n",
       "\n",
       "                Emg9          Emg10     repetition   rerepetition  \\\n",
       "count  472501.000000  472501.000000  472501.000000  472501.000000   \n",
       "mean        0.260029       0.219605       3.124415       2.194270   \n",
       "std         0.485920       0.424508       3.479845       3.242834   \n",
       "min         0.000000       0.002400       0.000000       0.000000   \n",
       "25%         0.002400       0.002400       0.000000       0.000000   \n",
       "50%         0.002400       0.063500       2.000000       0.000000   \n",
       "75%         0.324700       0.244100       6.000000       4.000000   \n",
       "max         4.663100       4.663100      10.000000      10.000000   \n",
       "\n",
       "            stimulus     restimulus  \n",
       "count  472501.000000  472501.000000  \n",
       "mean        5.539897       3.961033  \n",
       "std         6.570169       6.186865  \n",
       "min         0.000000       0.000000  \n",
       "25%         0.000000       0.000000  \n",
       "50%         3.000000       0.000000  \n",
       "75%        10.000000       7.000000  \n",
       "max        23.000000      23.000000  "
      ]
     },
     "execution_count": 6,
     "metadata": {},
     "output_type": "execute_result"
    }
   ],
   "source": [
    "raw_data.describe(include='all')"
   ]
  },
  {
   "cell_type": "code",
   "execution_count": 7,
   "id": "fd128768",
   "metadata": {},
   "outputs": [
    {
     "name": "stdout",
     "output_type": "stream",
     "text": [
      "Unique Dependent values and their counts :\n",
      "0     204101\n",
      "8      15513\n",
      "2      15511\n",
      "7      15508\n",
      "12     15504\n",
      "4      15495\n",
      "5      15490\n",
      "6      15478\n",
      "11     15473\n",
      "9      15471\n",
      "10     15448\n",
      "3      15445\n",
      "1      15427\n",
      "17     10345\n",
      "14     10345\n",
      "13     10341\n",
      "15     10313\n",
      "16     10282\n",
      "21      5194\n",
      "19      5185\n",
      "20      5178\n",
      "18      5176\n",
      "22      5151\n",
      "23      5127\n",
      "Name: stimulus, dtype: int64\n"
     ]
    }
   ],
   "source": [
    "print(\"Unique Dependent values and their counts :\")\n",
    "print(raw_data[\"stimulus\"].value_counts())"
   ]
  },
  {
   "cell_type": "code",
   "execution_count": 8,
   "id": "93de5c20",
   "metadata": {},
   "outputs": [
    {
     "data": {
      "text/plain": [
       "Text(0, 0.5, 'Frequency')"
      ]
     },
     "execution_count": 8,
     "metadata": {},
     "output_type": "execute_result"
    },
    {
     "data": {
      "image/png": "[encoded data removed]",
      "text/plain": [
       "<Figure size 432x288 with 1 Axes>"
      ]
     },
     "metadata": {
      "needs_background": "light"
     },
     "output_type": "display_data"
    }
   ],
   "source": [
    "count_classes = pd.value_counts(raw_data['stimulus'], sort = True)\n",
    "\n",
    "count_classes.plot(kind = 'bar', rot=0)\n",
    "\n",
    "plt.title(\"stimulus Class Distribution\")\n",
    "\n",
    "plt.xlabel(\"Class\")\n",
    "\n",
    "plt.ylabel(\"Frequency\")"
   ]
  },
  {
   "cell_type": "markdown",
   "id": "359a141d",
   "metadata": {},
   "source": [
    "# Data Cleaning and Exploratory Data Analysis with New Data"
   ]
  },
  {
   "cell_type": "code",
   "execution_count": 9,
   "id": "34a50c05",
   "metadata": {},
   "outputs": [],
   "source": [
    "index_names = raw_data[ (raw_data['stimulus'] != raw_data['restimulus'])].index\n",
    "raw_data.drop(index_names, inplace = True)"
   ]
  },
  {
   "cell_type": "code",
   "execution_count": 10,
   "id": "78d479cc",
   "metadata": {},
   "outputs": [],
   "source": [
    "index_names = raw_data[ (raw_data['repetition'] != raw_data['rerepetition'])].index\n",
    "raw_data.drop(index_names, inplace = True)"
   ]
  },
  {
   "cell_type": "code",
   "execution_count": 11,
   "id": "8418d307",
   "metadata": {},
   "outputs": [
    {
     "data": {
      "text/html": [
       "<div>\n",
       "<style scoped>\n",
       "    .dataframe tbody tr th:only-of-type {\n",
       "        vertical-align: middle;\n",
       "    }\n",
       "\n",
       "    .dataframe tbody tr th {\n",
       "        vertical-align: top;\n",
       "    }\n",
       "\n",
       "    .dataframe thead th {\n",
       "        text-align: right;\n",
       "    }\n",
       "</style>\n",
       "<table border=\"1\" class=\"dataframe\">\n",
       "  <thead>\n",
       "    <tr style=\"text-align: right;\">\n",
       "      <th></th>\n",
       "      <th>Emg1</th>\n",
       "      <th>Emg2</th>\n",
       "      <th>Emg3</th>\n",
       "      <th>Emg4</th>\n",
       "      <th>Emg5</th>\n",
       "      <th>Emg6</th>\n",
       "      <th>Emg7</th>\n",
       "      <th>Emg8</th>\n",
       "      <th>Emg9</th>\n",
       "      <th>Emg10</th>\n",
       "      <th>repetition</th>\n",
       "      <th>rerepetition</th>\n",
       "      <th>stimulus</th>\n",
       "      <th>restimulus</th>\n",
       "    </tr>\n",
       "  </thead>\n",
       "  <tbody>\n",
       "    <tr>\n",
       "      <th>254439</th>\n",
       "      <td>0.1660</td>\n",
       "      <td>0.2588</td>\n",
       "      <td>0.0024</td>\n",
       "      <td>0.0024</td>\n",
       "      <td>0.0024</td>\n",
       "      <td>0.0024</td>\n",
       "      <td>0.0024</td>\n",
       "      <td>0.1245</td>\n",
       "      <td>0.0024</td>\n",
       "      <td>0.0659</td>\n",
       "      <td>0</td>\n",
       "      <td>0</td>\n",
       "      <td>0</td>\n",
       "      <td>0</td>\n",
       "    </tr>\n",
       "    <tr>\n",
       "      <th>79254</th>\n",
       "      <td>0.6519</td>\n",
       "      <td>0.5737</td>\n",
       "      <td>0.1221</td>\n",
       "      <td>0.0073</td>\n",
       "      <td>0.0024</td>\n",
       "      <td>0.0024</td>\n",
       "      <td>0.0024</td>\n",
       "      <td>0.1050</td>\n",
       "      <td>0.1929</td>\n",
       "      <td>0.0098</td>\n",
       "      <td>5</td>\n",
       "      <td>5</td>\n",
       "      <td>10</td>\n",
       "      <td>10</td>\n",
       "    </tr>\n",
       "    <tr>\n",
       "      <th>370701</th>\n",
       "      <td>0.0024</td>\n",
       "      <td>0.0220</td>\n",
       "      <td>0.0024</td>\n",
       "      <td>0.0024</td>\n",
       "      <td>0.0024</td>\n",
       "      <td>0.0024</td>\n",
       "      <td>0.0024</td>\n",
       "      <td>0.0024</td>\n",
       "      <td>0.0024</td>\n",
       "      <td>0.0024</td>\n",
       "      <td>0</td>\n",
       "      <td>0</td>\n",
       "      <td>0</td>\n",
       "      <td>0</td>\n",
       "    </tr>\n",
       "    <tr>\n",
       "      <th>291116</th>\n",
       "      <td>0.0562</td>\n",
       "      <td>0.2393</td>\n",
       "      <td>0.0171</td>\n",
       "      <td>0.0024</td>\n",
       "      <td>0.0024</td>\n",
       "      <td>0.0024</td>\n",
       "      <td>0.0024</td>\n",
       "      <td>0.0244</td>\n",
       "      <td>0.0024</td>\n",
       "      <td>0.0220</td>\n",
       "      <td>0</td>\n",
       "      <td>0</td>\n",
       "      <td>0</td>\n",
       "      <td>0</td>\n",
       "    </tr>\n",
       "    <tr>\n",
       "      <th>302410</th>\n",
       "      <td>0.0024</td>\n",
       "      <td>0.0415</td>\n",
       "      <td>0.0024</td>\n",
       "      <td>0.0024</td>\n",
       "      <td>0.0024</td>\n",
       "      <td>0.0024</td>\n",
       "      <td>0.0024</td>\n",
       "      <td>0.0024</td>\n",
       "      <td>0.0024</td>\n",
       "      <td>0.0195</td>\n",
       "      <td>0</td>\n",
       "      <td>0</td>\n",
       "      <td>0</td>\n",
       "      <td>0</td>\n",
       "    </tr>\n",
       "  </tbody>\n",
       "</table>\n",
       "</div>"
      ],
      "text/plain": [
       "         Emg1     Emg2    Emg3    Emg4   Emg5     Emg6    Emg7    Emg8  \\\n",
       "254439  0.1660  0.2588  0.0024  0.0024  0.0024  0.0024  0.0024  0.1245   \n",
       "79254   0.6519  0.5737  0.1221  0.0073  0.0024  0.0024  0.0024  0.1050   \n",
       "370701  0.0024  0.0220  0.0024  0.0024  0.0024  0.0024  0.0024  0.0024   \n",
       "291116  0.0562  0.2393  0.0171  0.0024  0.0024  0.0024  0.0024  0.0244   \n",
       "302410  0.0024  0.0415  0.0024  0.0024  0.0024  0.0024  0.0024  0.0024   \n",
       "\n",
       "          Emg9   Emg10  repetition  rerepetition  stimulus  restimulus  \n",
       "254439  0.0024  0.0659           0             0         0           0  \n",
       "79254   0.1929  0.0098           5             5        10          10  \n",
       "370701  0.0024  0.0024           0             0         0           0  \n",
       "291116  0.0024  0.0220           0             0         0           0  \n",
       "302410  0.0024  0.0195           0             0         0           0  "
      ]
     },
     "execution_count": 11,
     "metadata": {},
     "output_type": "execute_result"
    }
   ],
   "source": [
    "raw_data.sample(5)"
   ]
  },
  {
   "cell_type": "code",
   "execution_count": 12,
   "id": "ff5d7709",
   "metadata": {},
   "outputs": [
    {
     "data": {
      "text/plain": [
       "(386613, 14)"
      ]
     },
     "execution_count": 12,
     "metadata": {},
     "output_type": "execute_result"
    }
   ],
   "source": [
    "raw_data.shape"
   ]
  },
  {
   "cell_type": "code",
   "execution_count": 13,
   "id": "9df2c3c9",
   "metadata": {},
   "outputs": [
    {
     "name": "stdout",
     "output_type": "stream",
     "text": [
      "<class 'pandas.core.frame.DataFrame'>\n",
      "Int64Index: 386613 entries, 0 to 472500\n",
      "Data columns (total 14 columns):\n",
      " #   Column        Non-Null Count   Dtype  \n",
      "---  ------        --------------   -----  \n",
      " 0   Emg1          386613 non-null  float64\n",
      " 1   Emg2          386613 non-null  float64\n",
      " 2   Emg3          386613 non-null  float64\n",
      " 3   Emg4          386613 non-null  float64\n",
      " 4   Emg5          386613 non-null  float64\n",
      " 5   Emg6          386613 non-null  float64\n",
      " 6   Emg7          386613 non-null  float64\n",
      " 7   Emg8          386613 non-null  float64\n",
      " 8   Emg9          386613 non-null  float64\n",
      " 9   Emg10         386613 non-null  float64\n",
      " 10  repetition    386613 non-null  int64  \n",
      " 11  rerepetition  386613 non-null  int64  \n",
      " 12  stimulus      386613 non-null  int64  \n",
      " 13  restimulus    386613 non-null  int64  \n",
      "dtypes: float64(10), int64(4)\n",
      "memory usage: 44.2 MB\n"
     ]
    }
   ],
   "source": [
    "raw_data.info()"
   ]
  },
  {
   "cell_type": "code",
   "execution_count": 14,
   "id": "fbec9c31",
   "metadata": {},
   "outputs": [
    {
     "name": "stdout",
     "output_type": "stream",
     "text": [
      "Emg1            False\n",
      "Emg2            False\n",
      "Emg3            False\n",
      "Emg4            False\n",
      "Emg5            False\n",
      "Emg6            False\n",
      "Emg7            False\n",
      "Emg8            False\n",
      "Emg9            False\n",
      "Emg10           False\n",
      "repetition      False\n",
      "rerepetition    False\n",
      "stimulus        False\n",
      "restimulus      False\n",
      "dtype: bool\n"
     ]
    }
   ],
   "source": [
    "print(raw_data.isnull().any())"
   ]
  },
  {
   "cell_type": "code",
   "execution_count": 15,
   "id": "3a406dae",
   "metadata": {},
   "outputs": [],
   "source": [
    "X = raw_data.iloc[:,0:10]\n",
    "y = raw_data.stimulus"
   ]
  },
  {
   "cell_type": "markdown",
   "id": "797d6a4c",
   "metadata": {},
   "source": [
    "# Standard Scaler"
   ]
  },
  {
   "cell_type": "code",
   "execution_count": 16,
   "id": "eb46d537",
   "metadata": {},
   "outputs": [],
   "source": [
    "from sklearn.preprocessing import StandardScaler\n",
    "standardscaler=StandardScaler()"
   ]
  },
  {
   "cell_type": "code",
   "execution_count": 17,
   "id": "6e891df5",
   "metadata": {},
   "outputs": [],
   "source": [
    "sc = pd.DataFrame(standardscaler.fit_transform(X))"
   ]
  },
  {
   "cell_type": "code",
   "execution_count": 18,
   "id": "28f47777",
   "metadata": {},
   "outputs": [
    {
     "data": {
      "text/html": [
       "<div>\n",
       "<style scoped>\n",
       "    .dataframe tbody tr th:only-of-type {\n",
       "        vertical-align: middle;\n",
       "    }\n",
       "\n",
       "    .dataframe tbody tr th {\n",
       "        vertical-align: top;\n",
       "    }\n",
       "\n",
       "    .dataframe thead th {\n",
       "        text-align: right;\n",
       "    }\n",
       "</style>\n",
       "<table border=\"1\" class=\"dataframe\">\n",
       "  <thead>\n",
       "    <tr style=\"text-align: right;\">\n",
       "      <th></th>\n",
       "      <th>0</th>\n",
       "      <th>1</th>\n",
       "      <th>2</th>\n",
       "      <th>3</th>\n",
       "      <th>4</th>\n",
       "      <th>5</th>\n",
       "      <th>6</th>\n",
       "      <th>7</th>\n",
       "      <th>8</th>\n",
       "      <th>9</th>\n",
       "    </tr>\n",
       "  </thead>\n",
       "  <tbody>\n",
       "    <tr>\n",
       "      <th>0</th>\n",
       "      <td>-0.813756</td>\n",
       "      <td>-0.710291</td>\n",
       "      <td>-0.611593</td>\n",
       "      <td>-0.504274</td>\n",
       "      <td>-0.223238</td>\n",
       "      <td>-0.289385</td>\n",
       "      <td>-0.39416</td>\n",
       "      <td>-0.633016</td>\n",
       "      <td>-0.584607</td>\n",
       "      <td>-0.538362</td>\n",
       "    </tr>\n",
       "    <tr>\n",
       "      <th>1</th>\n",
       "      <td>-0.813756</td>\n",
       "      <td>-0.768316</td>\n",
       "      <td>-0.611593</td>\n",
       "      <td>-0.504274</td>\n",
       "      <td>-0.223238</td>\n",
       "      <td>-0.289385</td>\n",
       "      <td>-0.39416</td>\n",
       "      <td>-0.633016</td>\n",
       "      <td>-0.584607</td>\n",
       "      <td>-0.538362</td>\n",
       "    </tr>\n",
       "    <tr>\n",
       "      <th>2</th>\n",
       "      <td>-0.805569</td>\n",
       "      <td>-0.808981</td>\n",
       "      <td>-0.611593</td>\n",
       "      <td>-0.504274</td>\n",
       "      <td>-0.223238</td>\n",
       "      <td>-0.289385</td>\n",
       "      <td>-0.39416</td>\n",
       "      <td>-0.633016</td>\n",
       "      <td>-0.584607</td>\n",
       "      <td>-0.538362</td>\n",
       "    </tr>\n",
       "    <tr>\n",
       "      <th>3</th>\n",
       "      <td>-0.809662</td>\n",
       "      <td>-0.855353</td>\n",
       "      <td>-0.611593</td>\n",
       "      <td>-0.504274</td>\n",
       "      <td>-0.223238</td>\n",
       "      <td>-0.289385</td>\n",
       "      <td>-0.39416</td>\n",
       "      <td>-0.633016</td>\n",
       "      <td>-0.584607</td>\n",
       "      <td>-0.538362</td>\n",
       "    </tr>\n",
       "    <tr>\n",
       "      <th>4</th>\n",
       "      <td>-0.809662</td>\n",
       "      <td>-0.884366</td>\n",
       "      <td>-0.611593</td>\n",
       "      <td>-0.504274</td>\n",
       "      <td>-0.214670</td>\n",
       "      <td>-0.289385</td>\n",
       "      <td>-0.39416</td>\n",
       "      <td>-0.633016</td>\n",
       "      <td>-0.584607</td>\n",
       "      <td>-0.538362</td>\n",
       "    </tr>\n",
       "    <tr>\n",
       "      <th>...</th>\n",
       "      <td>...</td>\n",
       "      <td>...</td>\n",
       "      <td>...</td>\n",
       "      <td>...</td>\n",
       "      <td>...</td>\n",
       "      <td>...</td>\n",
       "      <td>...</td>\n",
       "      <td>...</td>\n",
       "      <td>...</td>\n",
       "      <td>...</td>\n",
       "    </tr>\n",
       "    <tr>\n",
       "      <th>386608</th>\n",
       "      <td>-0.614017</td>\n",
       "      <td>-0.007807</td>\n",
       "      <td>-0.524071</td>\n",
       "      <td>-0.504274</td>\n",
       "      <td>-0.223238</td>\n",
       "      <td>-0.289385</td>\n",
       "      <td>-0.39416</td>\n",
       "      <td>-0.619390</td>\n",
       "      <td>-0.584607</td>\n",
       "      <td>-0.538362</td>\n",
       "    </tr>\n",
       "    <tr>\n",
       "      <th>386609</th>\n",
       "      <td>-0.622204</td>\n",
       "      <td>-0.042527</td>\n",
       "      <td>-0.540014</td>\n",
       "      <td>-0.504274</td>\n",
       "      <td>-0.223238</td>\n",
       "      <td>-0.289385</td>\n",
       "      <td>-0.39416</td>\n",
       "      <td>-0.623994</td>\n",
       "      <td>-0.584607</td>\n",
       "      <td>-0.538362</td>\n",
       "    </tr>\n",
       "    <tr>\n",
       "      <th>386610</th>\n",
       "      <td>-0.609752</td>\n",
       "      <td>-0.007807</td>\n",
       "      <td>-0.547822</td>\n",
       "      <td>-0.494660</td>\n",
       "      <td>-0.223238</td>\n",
       "      <td>-0.289385</td>\n",
       "      <td>-0.39416</td>\n",
       "      <td>-0.619390</td>\n",
       "      <td>-0.584607</td>\n",
       "      <td>-0.538362</td>\n",
       "    </tr>\n",
       "    <tr>\n",
       "      <th>386611</th>\n",
       "      <td>-0.626468</td>\n",
       "      <td>-0.077484</td>\n",
       "      <td>-0.571899</td>\n",
       "      <td>-0.504274</td>\n",
       "      <td>-0.223238</td>\n",
       "      <td>-0.289385</td>\n",
       "      <td>-0.39416</td>\n",
       "      <td>-0.619390</td>\n",
       "      <td>-0.584607</td>\n",
       "      <td>-0.538362</td>\n",
       "    </tr>\n",
       "    <tr>\n",
       "      <th>386612</th>\n",
       "      <td>-0.605659</td>\n",
       "      <td>0.044511</td>\n",
       "      <td>-0.571899</td>\n",
       "      <td>-0.504274</td>\n",
       "      <td>-0.223238</td>\n",
       "      <td>-0.289385</td>\n",
       "      <td>-0.39416</td>\n",
       "      <td>-0.623994</td>\n",
       "      <td>-0.584607</td>\n",
       "      <td>-0.538362</td>\n",
       "    </tr>\n",
       "  </tbody>\n",
       "</table>\n",
       "<p>386613 rows × 10 columns</p>\n",
       "</div>"
      ],
      "text/plain": [
       "               0         1         2         3         4         5        6  \\\n",
       "0      -0.813756 -0.710291 -0.611593 -0.504274 -0.223238 -0.289385 -0.39416   \n",
       "1      -0.813756 -0.768316 -0.611593 -0.504274 -0.223238 -0.289385 -0.39416   \n",
       "2      -0.805569 -0.808981 -0.611593 -0.504274 -0.223238 -0.289385 -0.39416   \n",
       "3      -0.809662 -0.855353 -0.611593 -0.504274 -0.223238 -0.289385 -0.39416   \n",
       "4      -0.809662 -0.884366 -0.611593 -0.504274 -0.214670 -0.289385 -0.39416   \n",
       "...          ...       ...       ...       ...       ...       ...      ...   \n",
       "386608 -0.614017 -0.007807 -0.524071 -0.504274 -0.223238 -0.289385 -0.39416   \n",
       "386609 -0.622204 -0.042527 -0.540014 -0.504274 -0.223238 -0.289385 -0.39416   \n",
       "386610 -0.609752 -0.007807 -0.547822 -0.494660 -0.223238 -0.289385 -0.39416   \n",
       "386611 -0.626468 -0.077484 -0.571899 -0.504274 -0.223238 -0.289385 -0.39416   \n",
       "386612 -0.605659  0.044511 -0.571899 -0.504274 -0.223238 -0.289385 -0.39416   \n",
       "\n",
       "               7         8         9  \n",
       "0      -0.633016 -0.584607 -0.538362  \n",
       "1      -0.633016 -0.584607 -0.538362  \n",
       "2      -0.633016 -0.584607 -0.538362  \n",
       "3      -0.633016 -0.584607 -0.538362  \n",
       "4      -0.633016 -0.584607 -0.538362  \n",
       "...          ...       ...       ...  \n",
       "386608 -0.619390 -0.584607 -0.538362  \n",
       "386609 -0.623994 -0.584607 -0.538362  \n",
       "386610 -0.619390 -0.584607 -0.538362  \n",
       "386611 -0.619390 -0.584607 -0.538362  \n",
       "386612 -0.623994 -0.584607 -0.538362  \n",
       "\n",
       "[386613 rows x 10 columns]"
      ]
     },
     "execution_count": 18,
     "metadata": {},
     "output_type": "execute_result"
    }
   ],
   "source": [
    "sc"
   ]
  },
  {
   "cell_type": "code",
   "execution_count": 19,
   "id": "83683085",
   "metadata": {},
   "outputs": [],
   "source": [
    "# Splitting data for training and testing\n",
    "X_train, X_test, y_train, y_test = train_test_split(sc, y, test_size = 0.2, random_state = 39)"
   ]
  },
  {
   "cell_type": "markdown",
   "id": "676e9bd7",
   "metadata": {},
   "source": [
    "# KNeighborsClassifier"
   ]
  },
  {
   "cell_type": "code",
   "execution_count": 20,
   "id": "30a0e188",
   "metadata": {},
   "outputs": [
    {
     "data": {
      "text/plain": [
       "KNeighborsClassifier()"
      ]
     },
     "execution_count": 20,
     "metadata": {},
     "output_type": "execute_result"
    }
   ],
   "source": [
    "from sklearn.neighbors import KNeighborsClassifier\n",
    "KNeighborsClassifier = KNeighborsClassifier()\n",
    "KNeighborsClassifier.fit(X_train, y_train)"
   ]
  },
  {
   "cell_type": "code",
   "execution_count": 21,
   "id": "0249d6ed",
   "metadata": {},
   "outputs": [],
   "source": [
    "y_pred = KNeighborsClassifier.predict(X_test)"
   ]
  },
  {
   "cell_type": "code",
   "execution_count": 22,
   "id": "288d1cf4",
   "metadata": {},
   "outputs": [
    {
     "name": "stdout",
     "output_type": "stream",
     "text": [
      "Accuracy is: 92.01660566713656\n"
     ]
    }
   ],
   "source": [
    "from sklearn.metrics import accuracy_score\n",
    "accuracy = {accuracy_score(y_test, y_pred)}\n",
    "print(f\"Accuracy is: {accuracy_score(y_test, y_pred)* 100}\")"
   ]
  },
  {
   "cell_type": "code",
   "execution_count": 23,
   "id": "9595f210",
   "metadata": {},
   "outputs": [
    {
     "name": "stdout",
     "output_type": "stream",
     "text": [
      "\u001b[1mClassification report : \u001b[0m\n",
      "               precision    recall  f1-score   support\n",
      "\n",
      "           0       0.95      0.99      0.97     40068\n",
      "           1       0.88      0.89      0.88      2251\n",
      "           2       0.89      0.89      0.89      2182\n",
      "           3       0.85      0.83      0.84      2147\n",
      "           4       0.88      0.87      0.88      2123\n",
      "           5       0.88      0.84      0.86      2111\n",
      "           6       0.92      0.87      0.89      2101\n",
      "           7       0.90      0.89      0.90      2141\n",
      "           8       0.82      0.82      0.82      2000\n",
      "           9       0.88      0.82      0.85      2162\n",
      "          10       0.87      0.83      0.85      2196\n",
      "          11       0.89      0.85      0.87      2200\n",
      "          12       0.89      0.84      0.86      1943\n",
      "          13       0.92      0.88      0.90      1420\n",
      "          14       0.81      0.78      0.80      1351\n",
      "          15       0.82      0.74      0.78      1250\n",
      "          16       0.91      0.85      0.88      1519\n",
      "          17       0.89      0.83      0.86      1517\n",
      "          18       0.91      0.86      0.88       873\n",
      "          19       0.80      0.74      0.77       719\n",
      "          20       0.96      0.95      0.96       714\n",
      "          21       0.90      0.74      0.81       772\n",
      "          22       0.94      0.86      0.90       624\n",
      "          23       0.97      0.89      0.92       939\n",
      "\n",
      "    accuracy                           0.92     77323\n",
      "   macro avg       0.89      0.85      0.87     77323\n",
      "weighted avg       0.92      0.92      0.92     77323\n",
      "\n",
      "\u001b[1mConfusion Matrix : \u001b[0m\n"
     ]
    },
    {
     "data": {
      "image/png": "[encoded data removed]",
      "text/plain": [
       "<Figure size 432x288 with 2 Axes>"
      ]
     },
     "metadata": {
      "needs_background": "light"
     },
     "output_type": "display_data"
    }
   ],
   "source": [
    "print('\\033[1m' +'Classification report : '+ '\\033[0m\\n', classification_report(y_test, y_pred))\n",
    "\n",
    "cm = confusion_matrix(y_pred, y_test)\n",
    "print('\\033[1m' +'Confusion Matrix : '+ '\\033[0m')\n",
    "sns.heatmap(cm, cmap = 'OrRd',annot = True, fmt='d')\n",
    "plt.show()"
   ]
  },
  {
   "cell_type": "markdown",
   "id": "12894e89",
   "metadata": {},
   "source": [
    "# Evaluation"
   ]
  },
  {
   "cell_type": "code",
   "execution_count": 24,
   "id": "67c898f1",
   "metadata": {},
   "outputs": [
    {
     "name": "stdout",
     "output_type": "stream",
     "text": [
      "MAE: 0.5808879634778785\n",
      "MSE: 6.444421452866547\n",
      "RMSE: 2.538586506870811\n"
     ]
    }
   ],
   "source": [
    "from sklearn import metrics\n",
    "\n",
    "print('MAE:', metrics.mean_absolute_error(y_test,y_pred))\n",
    "print('MSE:', metrics.mean_squared_error(y_test, y_pred))\n",
    "print('RMSE:', np.sqrt(metrics.mean_squared_error(y_test, y_pred)))"
   ]
  },
  {
   "cell_type": "code",
   "execution_count": 25,
   "id": "1c13a208",
   "metadata": {},
   "outputs": [
    {
     "name": "stdout",
     "output_type": "stream",
     "text": [
      "Precision Score :  0.9188540033595259\n",
      "Recall Score :  0.9201660566713655\n",
      "f1_score :  0.9189764546780981\n"
     ]
    }
   ],
   "source": [
    "from sklearn.metrics import precision_score\n",
    "print(\"Precision Score : \",precision_score(y_test, y_pred, average='weighted'))\n",
    "\n",
    "\n",
    "from sklearn.metrics import recall_score\n",
    "print(\"Recall Score : \",recall_score(y_test, y_pred,average='weighted'))\n",
    "\n",
    "\n",
    "from sklearn.metrics import f1_score\n",
    "print(\"f1_score : \",f1_score(y_test, y_pred,average='weighted'))"
   ]
  },
  {
   "cell_type": "code",
   "execution_count": null,
   "id": "a0b63d90",
   "metadata": {},
   "outputs": [],
   "source": []
  }
 ],
 "metadata": {
  "kernelspec": {
   "display_name": "Python 3 (ipykernel)",
   "language": "python",
   "name": "python3"
  },
  "language_info": {
   "codemirror_mode": {
    "name": "ipython",
    "version": 3
   },
   "file_extension": ".py",
   "mimetype": "text/x-python",
   "name": "python",
   "nbconvert_exporter": "python",
   "pygments_lexer": "ipython3",
   "version": "3.8.12"
  }
 },
 "nbformat": 4,
 "nbformat_minor": 5
}
