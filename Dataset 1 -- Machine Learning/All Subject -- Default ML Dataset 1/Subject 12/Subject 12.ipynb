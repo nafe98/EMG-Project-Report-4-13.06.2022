{
 "cells": [
  {
   "cell_type": "markdown",
   "id": "a76f9c3f",
   "metadata": {},
   "source": [
    "# Importing Libraries"
   ]
  },
  {
   "cell_type": "code",
   "execution_count": 1,
   "id": "cb8d9727",
   "metadata": {},
   "outputs": [],
   "source": [
    "import numpy as np\n",
    "import pandas as pd\n",
    "import matplotlib.pyplot as plt\n",
    "import seaborn as sns\n",
    "from sklearn.model_selection import train_test_split\n",
    "from sklearn.metrics import confusion_matrix, f1_score, accuracy_score, classification_report"
   ]
  },
  {
   "cell_type": "markdown",
   "id": "576dc0b5",
   "metadata": {},
   "source": [
    "# Exploratory Data Analysis¶"
   ]
  },
  {
   "cell_type": "code",
   "execution_count": 2,
   "id": "c72bb47b",
   "metadata": {},
   "outputs": [
    {
     "data": {
      "text/html": [
       "<div>\n",
       "<style scoped>\n",
       "    .dataframe tbody tr th:only-of-type {\n",
       "        vertical-align: middle;\n",
       "    }\n",
       "\n",
       "    .dataframe tbody tr th {\n",
       "        vertical-align: top;\n",
       "    }\n",
       "\n",
       "    .dataframe thead th {\n",
       "        text-align: right;\n",
       "    }\n",
       "</style>\n",
       "<table border=\"1\" class=\"dataframe\">\n",
       "  <thead>\n",
       "    <tr style=\"text-align: right;\">\n",
       "      <th></th>\n",
       "      <th>Emg1</th>\n",
       "      <th>Emg2</th>\n",
       "      <th>Emg3</th>\n",
       "      <th>Emg4</th>\n",
       "      <th>Emg5</th>\n",
       "      <th>Emg6</th>\n",
       "      <th>Emg7</th>\n",
       "      <th>Emg8</th>\n",
       "      <th>Emg9</th>\n",
       "      <th>Emg10</th>\n",
       "      <th>repetition</th>\n",
       "      <th>rerepetition</th>\n",
       "      <th>stimulus</th>\n",
       "      <th>restimulus</th>\n",
       "    </tr>\n",
       "  </thead>\n",
       "  <tbody>\n",
       "    <tr>\n",
       "      <th>233341</th>\n",
       "      <td>0.1147</td>\n",
       "      <td>0.1465</td>\n",
       "      <td>0.0024</td>\n",
       "      <td>0.0024</td>\n",
       "      <td>0.0024</td>\n",
       "      <td>0.0024</td>\n",
       "      <td>0.0708</td>\n",
       "      <td>0.2197</td>\n",
       "      <td>0.0024</td>\n",
       "      <td>0.1074</td>\n",
       "      <td>0</td>\n",
       "      <td>0</td>\n",
       "      <td>0</td>\n",
       "      <td>0</td>\n",
       "    </tr>\n",
       "    <tr>\n",
       "      <th>90229</th>\n",
       "      <td>0.2856</td>\n",
       "      <td>0.5566</td>\n",
       "      <td>0.3247</td>\n",
       "      <td>0.0024</td>\n",
       "      <td>0.0024</td>\n",
       "      <td>0.0024</td>\n",
       "      <td>0.0659</td>\n",
       "      <td>0.6445</td>\n",
       "      <td>0.0146</td>\n",
       "      <td>0.1392</td>\n",
       "      <td>8</td>\n",
       "      <td>8</td>\n",
       "      <td>11</td>\n",
       "      <td>11</td>\n",
       "    </tr>\n",
       "    <tr>\n",
       "      <th>106338</th>\n",
       "      <td>0.2100</td>\n",
       "      <td>0.4907</td>\n",
       "      <td>0.3613</td>\n",
       "      <td>0.0220</td>\n",
       "      <td>0.0024</td>\n",
       "      <td>0.0024</td>\n",
       "      <td>0.1514</td>\n",
       "      <td>1.0718</td>\n",
       "      <td>0.0049</td>\n",
       "      <td>0.2441</td>\n",
       "      <td>7</td>\n",
       "      <td>7</td>\n",
       "      <td>1</td>\n",
       "      <td>1</td>\n",
       "    </tr>\n",
       "    <tr>\n",
       "      <th>278924</th>\n",
       "      <td>0.0024</td>\n",
       "      <td>0.0049</td>\n",
       "      <td>0.0049</td>\n",
       "      <td>0.0024</td>\n",
       "      <td>0.0024</td>\n",
       "      <td>0.0024</td>\n",
       "      <td>0.0024</td>\n",
       "      <td>0.0488</td>\n",
       "      <td>0.0024</td>\n",
       "      <td>0.0024</td>\n",
       "      <td>9</td>\n",
       "      <td>0</td>\n",
       "      <td>4</td>\n",
       "      <td>0</td>\n",
       "    </tr>\n",
       "    <tr>\n",
       "      <th>417854</th>\n",
       "      <td>0.5444</td>\n",
       "      <td>0.1831</td>\n",
       "      <td>0.4492</td>\n",
       "      <td>0.0073</td>\n",
       "      <td>0.0024</td>\n",
       "      <td>0.0146</td>\n",
       "      <td>0.3711</td>\n",
       "      <td>1.5430</td>\n",
       "      <td>0.0024</td>\n",
       "      <td>0.8398</td>\n",
       "      <td>4</td>\n",
       "      <td>4</td>\n",
       "      <td>20</td>\n",
       "      <td>20</td>\n",
       "    </tr>\n",
       "  </tbody>\n",
       "</table>\n",
       "</div>"
      ],
      "text/plain": [
       "          Emg1    Emg2    Emg3    Emg4    Emg5    Emg6    Emg7    Emg8  \\\n",
       "233341  0.1147  0.1465  0.0024  0.0024  0.0024  0.0024  0.0708  0.2197   \n",
       "90229   0.2856  0.5566  0.3247  0.0024  0.0024  0.0024  0.0659  0.6445   \n",
       "106338  0.2100  0.4907  0.3613  0.0220  0.0024  0.0024  0.1514  1.0718   \n",
       "278924  0.0024  0.0049  0.0049  0.0024  0.0024  0.0024  0.0024  0.0488   \n",
       "417854  0.5444  0.1831  0.4492  0.0073  0.0024  0.0146  0.3711  1.5430   \n",
       "\n",
       "          Emg9   Emg10  repetition  rerepetition  stimulus  restimulus  \n",
       "233341  0.0024  0.1074           0             0         0           0  \n",
       "90229   0.0146  0.1392           8             8        11          11  \n",
       "106338  0.0049  0.2441           7             7         1           1  \n",
       "278924  0.0024  0.0024           9             0         4           0  \n",
       "417854  0.0024  0.8398           4             4        20          20  "
      ]
     },
     "execution_count": 2,
     "metadata": {},
     "output_type": "execute_result"
    }
   ],
   "source": [
    "raw_data = pd.read_excel('Dataset 1 Patient 12.xlsx')\n",
    "raw_data.sample(5)"
   ]
  },
  {
   "cell_type": "code",
   "execution_count": 3,
   "id": "a85e933c",
   "metadata": {},
   "outputs": [
    {
     "data": {
      "text/plain": [
       "(460382, 14)"
      ]
     },
     "execution_count": 3,
     "metadata": {},
     "output_type": "execute_result"
    }
   ],
   "source": [
    "raw_data.shape"
   ]
  },
  {
   "cell_type": "code",
   "execution_count": 4,
   "id": "e05e202f",
   "metadata": {},
   "outputs": [
    {
     "data": {
      "text/plain": [
       "Index(['Emg1', 'Emg2', 'Emg3', 'Emg4', 'Emg5', 'Emg6', 'Emg7', 'Emg8', 'Emg9',\n",
       "       'Emg10', 'repetition', 'rerepetition', 'stimulus', 'restimulus'],\n",
       "      dtype='object')"
      ]
     },
     "execution_count": 4,
     "metadata": {},
     "output_type": "execute_result"
    }
   ],
   "source": [
    "raw_data.columns"
   ]
  },
  {
   "cell_type": "code",
   "execution_count": 5,
   "id": "fde113c0",
   "metadata": {},
   "outputs": [
    {
     "name": "stdout",
     "output_type": "stream",
     "text": [
      "<class 'pandas.core.frame.DataFrame'>\n",
      "RangeIndex: 460382 entries, 0 to 460381\n",
      "Data columns (total 14 columns):\n",
      " #   Column        Non-Null Count   Dtype  \n",
      "---  ------        --------------   -----  \n",
      " 0   Emg1          460382 non-null  float64\n",
      " 1   Emg2          460382 non-null  float64\n",
      " 2   Emg3          460382 non-null  float64\n",
      " 3   Emg4          460382 non-null  float64\n",
      " 4   Emg5          460382 non-null  float64\n",
      " 5   Emg6          460382 non-null  float64\n",
      " 6   Emg7          460382 non-null  float64\n",
      " 7   Emg8          460382 non-null  float64\n",
      " 8   Emg9          460382 non-null  float64\n",
      " 9   Emg10         460382 non-null  float64\n",
      " 10  repetition    460382 non-null  int64  \n",
      " 11  rerepetition  460382 non-null  int64  \n",
      " 12  stimulus      460382 non-null  int64  \n",
      " 13  restimulus    460382 non-null  int64  \n",
      "dtypes: float64(10), int64(4)\n",
      "memory usage: 49.2 MB\n"
     ]
    }
   ],
   "source": [
    "raw_data.info()"
   ]
  },
  {
   "cell_type": "code",
   "execution_count": 6,
   "id": "0ae97d58",
   "metadata": {},
   "outputs": [
    {
     "data": {
      "text/html": [
       "<div>\n",
       "<style scoped>\n",
       "    .dataframe tbody tr th:only-of-type {\n",
       "        vertical-align: middle;\n",
       "    }\n",
       "\n",
       "    .dataframe tbody tr th {\n",
       "        vertical-align: top;\n",
       "    }\n",
       "\n",
       "    .dataframe thead th {\n",
       "        text-align: right;\n",
       "    }\n",
       "</style>\n",
       "<table border=\"1\" class=\"dataframe\">\n",
       "  <thead>\n",
       "    <tr style=\"text-align: right;\">\n",
       "      <th></th>\n",
       "      <th>Emg1</th>\n",
       "      <th>Emg2</th>\n",
       "      <th>Emg3</th>\n",
       "      <th>Emg4</th>\n",
       "      <th>Emg5</th>\n",
       "      <th>Emg6</th>\n",
       "      <th>Emg7</th>\n",
       "      <th>Emg8</th>\n",
       "      <th>Emg9</th>\n",
       "      <th>Emg10</th>\n",
       "      <th>repetition</th>\n",
       "      <th>rerepetition</th>\n",
       "      <th>stimulus</th>\n",
       "      <th>restimulus</th>\n",
       "    </tr>\n",
       "  </thead>\n",
       "  <tbody>\n",
       "    <tr>\n",
       "      <th>count</th>\n",
       "      <td>460382.000000</td>\n",
       "      <td>460382.000000</td>\n",
       "      <td>460382.000000</td>\n",
       "      <td>460382.000000</td>\n",
       "      <td>460382.000000</td>\n",
       "      <td>460382.000000</td>\n",
       "      <td>460382.000000</td>\n",
       "      <td>460382.000000</td>\n",
       "      <td>460382.000000</td>\n",
       "      <td>460382.000000</td>\n",
       "      <td>460382.000000</td>\n",
       "      <td>460382.000000</td>\n",
       "      <td>460382.000000</td>\n",
       "      <td>460382.000000</td>\n",
       "    </tr>\n",
       "    <tr>\n",
       "      <th>mean</th>\n",
       "      <td>0.228323</td>\n",
       "      <td>0.149005</td>\n",
       "      <td>0.158937</td>\n",
       "      <td>0.051782</td>\n",
       "      <td>0.009471</td>\n",
       "      <td>0.009314</td>\n",
       "      <td>0.118619</td>\n",
       "      <td>0.383167</td>\n",
       "      <td>0.090241</td>\n",
       "      <td>0.158943</td>\n",
       "      <td>3.201413</td>\n",
       "      <td>2.333123</td>\n",
       "      <td>5.674920</td>\n",
       "      <td>4.168397</td>\n",
       "    </tr>\n",
       "    <tr>\n",
       "      <th>std</th>\n",
       "      <td>0.386383</td>\n",
       "      <td>0.289871</td>\n",
       "      <td>0.354328</td>\n",
       "      <td>0.167727</td>\n",
       "      <td>0.031863</td>\n",
       "      <td>0.031848</td>\n",
       "      <td>0.278554</td>\n",
       "      <td>0.484126</td>\n",
       "      <td>0.287058</td>\n",
       "      <td>0.150671</td>\n",
       "      <td>3.487234</td>\n",
       "      <td>3.297521</td>\n",
       "      <td>6.590112</td>\n",
       "      <td>6.223571</td>\n",
       "    </tr>\n",
       "    <tr>\n",
       "      <th>min</th>\n",
       "      <td>0.000000</td>\n",
       "      <td>0.000000</td>\n",
       "      <td>0.002400</td>\n",
       "      <td>0.000000</td>\n",
       "      <td>0.002400</td>\n",
       "      <td>0.000000</td>\n",
       "      <td>0.000000</td>\n",
       "      <td>0.002400</td>\n",
       "      <td>0.000000</td>\n",
       "      <td>0.000000</td>\n",
       "      <td>0.000000</td>\n",
       "      <td>0.000000</td>\n",
       "      <td>0.000000</td>\n",
       "      <td>0.000000</td>\n",
       "    </tr>\n",
       "    <tr>\n",
       "      <th>25%</th>\n",
       "      <td>0.041500</td>\n",
       "      <td>0.002400</td>\n",
       "      <td>0.002400</td>\n",
       "      <td>0.002400</td>\n",
       "      <td>0.002400</td>\n",
       "      <td>0.002400</td>\n",
       "      <td>0.007300</td>\n",
       "      <td>0.102500</td>\n",
       "      <td>0.002400</td>\n",
       "      <td>0.031700</td>\n",
       "      <td>0.000000</td>\n",
       "      <td>0.000000</td>\n",
       "      <td>0.000000</td>\n",
       "      <td>0.000000</td>\n",
       "    </tr>\n",
       "    <tr>\n",
       "      <th>50%</th>\n",
       "      <td>0.087900</td>\n",
       "      <td>0.034200</td>\n",
       "      <td>0.002400</td>\n",
       "      <td>0.002400</td>\n",
       "      <td>0.002400</td>\n",
       "      <td>0.002400</td>\n",
       "      <td>0.048800</td>\n",
       "      <td>0.214800</td>\n",
       "      <td>0.002400</td>\n",
       "      <td>0.141600</td>\n",
       "      <td>2.000000</td>\n",
       "      <td>0.000000</td>\n",
       "      <td>3.000000</td>\n",
       "      <td>0.000000</td>\n",
       "    </tr>\n",
       "    <tr>\n",
       "      <th>75%</th>\n",
       "      <td>0.214800</td>\n",
       "      <td>0.161100</td>\n",
       "      <td>0.153800</td>\n",
       "      <td>0.007300</td>\n",
       "      <td>0.002400</td>\n",
       "      <td>0.002400</td>\n",
       "      <td>0.127000</td>\n",
       "      <td>0.505400</td>\n",
       "      <td>0.034200</td>\n",
       "      <td>0.239300</td>\n",
       "      <td>6.000000</td>\n",
       "      <td>5.000000</td>\n",
       "      <td>10.000000</td>\n",
       "      <td>8.000000</td>\n",
       "    </tr>\n",
       "    <tr>\n",
       "      <th>max</th>\n",
       "      <td>4.668000</td>\n",
       "      <td>4.668000</td>\n",
       "      <td>4.663100</td>\n",
       "      <td>4.665500</td>\n",
       "      <td>1.171900</td>\n",
       "      <td>0.778800</td>\n",
       "      <td>4.665500</td>\n",
       "      <td>4.668000</td>\n",
       "      <td>4.663100</td>\n",
       "      <td>2.878400</td>\n",
       "      <td>10.000000</td>\n",
       "      <td>10.000000</td>\n",
       "      <td>23.000000</td>\n",
       "      <td>23.000000</td>\n",
       "    </tr>\n",
       "  </tbody>\n",
       "</table>\n",
       "</div>"
      ],
      "text/plain": [
       "                Emg1           Emg2           Emg3           Emg4  \\\n",
       "count  460382.000000  460382.000000  460382.000000  460382.000000   \n",
       "mean        0.228323       0.149005       0.158937       0.051782   \n",
       "std         0.386383       0.289871       0.354328       0.167727   \n",
       "min         0.000000       0.000000       0.002400       0.000000   \n",
       "25%         0.041500       0.002400       0.002400       0.002400   \n",
       "50%         0.087900       0.034200       0.002400       0.002400   \n",
       "75%         0.214800       0.161100       0.153800       0.007300   \n",
       "max         4.668000       4.668000       4.663100       4.665500   \n",
       "\n",
       "                Emg5           Emg6           Emg7           Emg8  \\\n",
       "count  460382.000000  460382.000000  460382.000000  460382.000000   \n",
       "mean        0.009471       0.009314       0.118619       0.383167   \n",
       "std         0.031863       0.031848       0.278554       0.484126   \n",
       "min         0.002400       0.000000       0.000000       0.002400   \n",
       "25%         0.002400       0.002400       0.007300       0.102500   \n",
       "50%         0.002400       0.002400       0.048800       0.214800   \n",
       "75%         0.002400       0.002400       0.127000       0.505400   \n",
       "max         1.171900       0.778800       4.665500       4.668000   \n",
       "\n",
       "                Emg9          Emg10     repetition   rerepetition  \\\n",
       "count  460382.000000  460382.000000  460382.000000  460382.000000   \n",
       "mean        0.090241       0.158943       3.201413       2.333123   \n",
       "std         0.287058       0.150671       3.487234       3.297521   \n",
       "min         0.000000       0.000000       0.000000       0.000000   \n",
       "25%         0.002400       0.031700       0.000000       0.000000   \n",
       "50%         0.002400       0.141600       2.000000       0.000000   \n",
       "75%         0.034200       0.239300       6.000000       5.000000   \n",
       "max         4.663100       2.878400      10.000000      10.000000   \n",
       "\n",
       "            stimulus     restimulus  \n",
       "count  460382.000000  460382.000000  \n",
       "mean        5.674920       4.168397  \n",
       "std         6.590112       6.223571  \n",
       "min         0.000000       0.000000  \n",
       "25%         0.000000       0.000000  \n",
       "50%         3.000000       0.000000  \n",
       "75%        10.000000       8.000000  \n",
       "max        23.000000      23.000000  "
      ]
     },
     "execution_count": 6,
     "metadata": {},
     "output_type": "execute_result"
    }
   ],
   "source": [
    "raw_data.describe(include='all')"
   ]
  },
  {
   "cell_type": "code",
   "execution_count": 7,
   "id": "071b96e6",
   "metadata": {},
   "outputs": [
    {
     "name": "stdout",
     "output_type": "stream",
     "text": [
      "Unique Dependent values and their counts :\n",
      "0     192400\n",
      "4      15502\n",
      "7      15495\n",
      "12     15491\n",
      "8      15487\n",
      "2      15486\n",
      "11     15469\n",
      "9      15465\n",
      "6      15448\n",
      "5      15447\n",
      "3      15425\n",
      "1      15417\n",
      "10     15406\n",
      "14     10334\n",
      "13     10332\n",
      "17     10332\n",
      "15     10293\n",
      "16     10255\n",
      "19      5172\n",
      "18      5169\n",
      "21      5169\n",
      "23      5133\n",
      "20      5130\n",
      "22      5125\n",
      "Name: stimulus, dtype: int64\n"
     ]
    }
   ],
   "source": [
    "print(\"Unique Dependent values and their counts :\")\n",
    "print(raw_data[\"stimulus\"].value_counts())"
   ]
  },
  {
   "cell_type": "code",
   "execution_count": 8,
   "id": "50a0f9be",
   "metadata": {},
   "outputs": [
    {
     "data": {
      "text/plain": [
       "Text(0, 0.5, 'Frequency')"
      ]
     },
     "execution_count": 8,
     "metadata": {},
     "output_type": "execute_result"
    },
    {
     "data": {
      "image/png": "[encoded data removed]",
      "text/plain": [
       "<Figure size 432x288 with 1 Axes>"
      ]
     },
     "metadata": {
      "needs_background": "light"
     },
     "output_type": "display_data"
    }
   ],
   "source": [
    "count_classes = pd.value_counts(raw_data['stimulus'], sort = True)\n",
    "\n",
    "count_classes.plot(kind = 'bar', rot=0)\n",
    "\n",
    "plt.title(\"stimulus Class Distribution\")\n",
    "\n",
    "plt.xlabel(\"Class\")\n",
    "\n",
    "plt.ylabel(\"Frequency\")"
   ]
  },
  {
   "cell_type": "markdown",
   "id": "275440c4",
   "metadata": {},
   "source": [
    "# Data Cleaning and Exploratory Data Analysis with New Data"
   ]
  },
  {
   "cell_type": "code",
   "execution_count": 9,
   "id": "e8ed6471",
   "metadata": {},
   "outputs": [],
   "source": [
    "index_names = raw_data[ (raw_data['stimulus'] != raw_data['restimulus'])].index\n",
    "raw_data.drop(index_names, inplace = True)"
   ]
  },
  {
   "cell_type": "code",
   "execution_count": 10,
   "id": "395d42c1",
   "metadata": {},
   "outputs": [],
   "source": [
    "index_names = raw_data[ (raw_data['repetition'] != raw_data['rerepetition'])].index\n",
    "raw_data.drop(index_names, inplace = True)"
   ]
  },
  {
   "cell_type": "code",
   "execution_count": 11,
   "id": "5ccb8950",
   "metadata": {},
   "outputs": [
    {
     "data": {
      "text/html": [
       "<div>\n",
       "<style scoped>\n",
       "    .dataframe tbody tr th:only-of-type {\n",
       "        vertical-align: middle;\n",
       "    }\n",
       "\n",
       "    .dataframe tbody tr th {\n",
       "        vertical-align: top;\n",
       "    }\n",
       "\n",
       "    .dataframe thead th {\n",
       "        text-align: right;\n",
       "    }\n",
       "</style>\n",
       "<table border=\"1\" class=\"dataframe\">\n",
       "  <thead>\n",
       "    <tr style=\"text-align: right;\">\n",
       "      <th></th>\n",
       "      <th>Emg1</th>\n",
       "      <th>Emg2</th>\n",
       "      <th>Emg3</th>\n",
       "      <th>Emg4</th>\n",
       "      <th>Emg5</th>\n",
       "      <th>Emg6</th>\n",
       "      <th>Emg7</th>\n",
       "      <th>Emg8</th>\n",
       "      <th>Emg9</th>\n",
       "      <th>Emg10</th>\n",
       "      <th>repetition</th>\n",
       "      <th>rerepetition</th>\n",
       "      <th>stimulus</th>\n",
       "      <th>restimulus</th>\n",
       "    </tr>\n",
       "  </thead>\n",
       "  <tbody>\n",
       "    <tr>\n",
       "      <th>48857</th>\n",
       "      <td>0.0610</td>\n",
       "      <td>0.0024</td>\n",
       "      <td>0.0024</td>\n",
       "      <td>0.0024</td>\n",
       "      <td>0.0024</td>\n",
       "      <td>0.0024</td>\n",
       "      <td>0.0146</td>\n",
       "      <td>0.2344</td>\n",
       "      <td>0.0024</td>\n",
       "      <td>0.3149</td>\n",
       "      <td>0</td>\n",
       "      <td>0</td>\n",
       "      <td>0</td>\n",
       "      <td>0</td>\n",
       "    </tr>\n",
       "    <tr>\n",
       "      <th>338472</th>\n",
       "      <td>0.0146</td>\n",
       "      <td>0.1025</td>\n",
       "      <td>0.0024</td>\n",
       "      <td>0.0024</td>\n",
       "      <td>0.0024</td>\n",
       "      <td>0.0024</td>\n",
       "      <td>0.1050</td>\n",
       "      <td>0.0342</td>\n",
       "      <td>0.0024</td>\n",
       "      <td>0.0024</td>\n",
       "      <td>0</td>\n",
       "      <td>0</td>\n",
       "      <td>0</td>\n",
       "      <td>0</td>\n",
       "    </tr>\n",
       "    <tr>\n",
       "      <th>311478</th>\n",
       "      <td>0.4224</td>\n",
       "      <td>1.0400</td>\n",
       "      <td>0.1782</td>\n",
       "      <td>0.1953</td>\n",
       "      <td>0.0732</td>\n",
       "      <td>0.0684</td>\n",
       "      <td>0.4419</td>\n",
       "      <td>0.9473</td>\n",
       "      <td>0.5298</td>\n",
       "      <td>0.4663</td>\n",
       "      <td>5</td>\n",
       "      <td>5</td>\n",
       "      <td>8</td>\n",
       "      <td>8</td>\n",
       "    </tr>\n",
       "    <tr>\n",
       "      <th>198549</th>\n",
       "      <td>0.0244</td>\n",
       "      <td>0.0366</td>\n",
       "      <td>0.1270</td>\n",
       "      <td>0.0024</td>\n",
       "      <td>0.0024</td>\n",
       "      <td>0.0024</td>\n",
       "      <td>0.0586</td>\n",
       "      <td>0.2197</td>\n",
       "      <td>0.0024</td>\n",
       "      <td>0.2856</td>\n",
       "      <td>7</td>\n",
       "      <td>7</td>\n",
       "      <td>12</td>\n",
       "      <td>12</td>\n",
       "    </tr>\n",
       "    <tr>\n",
       "      <th>313151</th>\n",
       "      <td>0.3076</td>\n",
       "      <td>0.5566</td>\n",
       "      <td>0.0977</td>\n",
       "      <td>0.0903</td>\n",
       "      <td>0.0269</td>\n",
       "      <td>0.0464</td>\n",
       "      <td>0.4785</td>\n",
       "      <td>0.6152</td>\n",
       "      <td>0.1367</td>\n",
       "      <td>0.5835</td>\n",
       "      <td>7</td>\n",
       "      <td>7</td>\n",
       "      <td>8</td>\n",
       "      <td>8</td>\n",
       "    </tr>\n",
       "  </tbody>\n",
       "</table>\n",
       "</div>"
      ],
      "text/plain": [
       "          Emg1    Emg2    Emg3    Emg4    Emg5    Emg6    Emg7    Emg8  \\\n",
       "48857   0.0610  0.0024  0.0024  0.0024  0.0024  0.0024  0.0146  0.2344   \n",
       "338472  0.0146  0.1025  0.0024  0.0024  0.0024  0.0024  0.1050  0.0342   \n",
       "311478  0.4224  1.0400  0.1782  0.1953  0.0732  0.0684  0.4419  0.9473   \n",
       "198549  0.0244  0.0366  0.1270  0.0024  0.0024  0.0024  0.0586  0.2197   \n",
       "313151  0.3076  0.5566  0.0977  0.0903  0.0269  0.0464  0.4785  0.6152   \n",
       "\n",
       "          Emg9   Emg10  repetition  rerepetition  stimulus  restimulus  \n",
       "48857   0.0024  0.3149           0             0         0           0  \n",
       "338472  0.0024  0.0024           0             0         0           0  \n",
       "311478  0.5298  0.4663           5             5         8           8  \n",
       "198549  0.0024  0.2856           7             7        12          12  \n",
       "313151  0.1367  0.5835           7             7         8           8  "
      ]
     },
     "execution_count": 11,
     "metadata": {},
     "output_type": "execute_result"
    }
   ],
   "source": [
    "raw_data.sample(5)"
   ]
  },
  {
   "cell_type": "code",
   "execution_count": 12,
   "id": "ab84cf47",
   "metadata": {},
   "outputs": [
    {
     "data": {
      "text/plain": [
       "(380069, 14)"
      ]
     },
     "execution_count": 12,
     "metadata": {},
     "output_type": "execute_result"
    }
   ],
   "source": [
    "raw_data.shape"
   ]
  },
  {
   "cell_type": "code",
   "execution_count": 13,
   "id": "fcb24936",
   "metadata": {},
   "outputs": [
    {
     "name": "stdout",
     "output_type": "stream",
     "text": [
      "<class 'pandas.core.frame.DataFrame'>\n",
      "Int64Index: 380069 entries, 0 to 460381\n",
      "Data columns (total 14 columns):\n",
      " #   Column        Non-Null Count   Dtype  \n",
      "---  ------        --------------   -----  \n",
      " 0   Emg1          380069 non-null  float64\n",
      " 1   Emg2          380069 non-null  float64\n",
      " 2   Emg3          380069 non-null  float64\n",
      " 3   Emg4          380069 non-null  float64\n",
      " 4   Emg5          380069 non-null  float64\n",
      " 5   Emg6          380069 non-null  float64\n",
      " 6   Emg7          380069 non-null  float64\n",
      " 7   Emg8          380069 non-null  float64\n",
      " 8   Emg9          380069 non-null  float64\n",
      " 9   Emg10         380069 non-null  float64\n",
      " 10  repetition    380069 non-null  int64  \n",
      " 11  rerepetition  380069 non-null  int64  \n",
      " 12  stimulus      380069 non-null  int64  \n",
      " 13  restimulus    380069 non-null  int64  \n",
      "dtypes: float64(10), int64(4)\n",
      "memory usage: 51.6 MB\n"
     ]
    }
   ],
   "source": [
    "raw_data.info()"
   ]
  },
  {
   "cell_type": "code",
   "execution_count": 14,
   "id": "8ada4ef1",
   "metadata": {},
   "outputs": [
    {
     "name": "stdout",
     "output_type": "stream",
     "text": [
      "Emg1            False\n",
      "Emg2            False\n",
      "Emg3            False\n",
      "Emg4            False\n",
      "Emg5            False\n",
      "Emg6            False\n",
      "Emg7            False\n",
      "Emg8            False\n",
      "Emg9            False\n",
      "Emg10           False\n",
      "repetition      False\n",
      "rerepetition    False\n",
      "stimulus        False\n",
      "restimulus      False\n",
      "dtype: bool\n"
     ]
    }
   ],
   "source": [
    "print(raw_data.isnull().any())"
   ]
  },
  {
   "cell_type": "code",
   "execution_count": 15,
   "id": "138ec425",
   "metadata": {},
   "outputs": [],
   "source": [
    "X = raw_data.iloc[:,0:10]\n",
    "y = raw_data.stimulus"
   ]
  },
  {
   "cell_type": "code",
   "execution_count": 16,
   "id": "9c1574d6",
   "metadata": {},
   "outputs": [],
   "source": [
    "# Splitting data for training and testing\n",
    "X_train, X_test, y_train, y_test = train_test_split(X, y, test_size = 0.2, random_state = 39)"
   ]
  },
  {
   "cell_type": "markdown",
   "id": "e657abbe",
   "metadata": {},
   "source": [
    "# Machine Learning Models"
   ]
  },
  {
   "cell_type": "markdown",
   "id": "8743ea5d",
   "metadata": {},
   "source": [
    "# Decision Tree"
   ]
  },
  {
   "cell_type": "code",
   "execution_count": 17,
   "id": "dbe7e4c1",
   "metadata": {},
   "outputs": [
    {
     "data": {
      "text/plain": [
       "DecisionTreeClassifier()"
      ]
     },
     "execution_count": 17,
     "metadata": {},
     "output_type": "execute_result"
    }
   ],
   "source": [
    "from sklearn import tree\n",
    "tree = tree.DecisionTreeClassifier()\n",
    "tree.fit(X_train, y_train)"
   ]
  },
  {
   "cell_type": "code",
   "execution_count": 18,
   "id": "bcb8239c",
   "metadata": {},
   "outputs": [],
   "source": [
    "y_pred1 = tree.predict(X_test)"
   ]
  },
  {
   "cell_type": "code",
   "execution_count": 19,
   "id": "95712989",
   "metadata": {},
   "outputs": [
    {
     "name": "stdout",
     "output_type": "stream",
     "text": [
      "Accuracy is: 81.76388560002104\n"
     ]
    }
   ],
   "source": [
    "from sklearn.metrics import accuracy_score\n",
    "accuracy = {accuracy_score(y_test, y_pred1)}\n",
    "print(f\"Accuracy is: {accuracy_score(y_test, y_pred1)* 100}\")"
   ]
  },
  {
   "cell_type": "code",
   "execution_count": 20,
   "id": "e1e5a0b3",
   "metadata": {},
   "outputs": [
    {
     "name": "stdout",
     "output_type": "stream",
     "text": [
      "\u001b[1mClassification report : \u001b[0m\n",
      "               precision    recall  f1-score   support\n",
      "\n",
      "           0       0.93      0.93      0.93     37518\n",
      "           1       0.75      0.77      0.76      2216\n",
      "           2       0.71      0.71      0.71      2231\n",
      "           3       0.75      0.75      0.75      2098\n",
      "           4       0.70      0.71      0.70      2142\n",
      "           5       0.73      0.71      0.72      2303\n",
      "           6       0.77      0.79      0.78      2161\n",
      "           7       0.69      0.69      0.69      2362\n",
      "           8       0.74      0.75      0.75      2236\n",
      "           9       0.73      0.71      0.72      2288\n",
      "          10       0.73      0.72      0.72      2451\n",
      "          11       0.74      0.75      0.74      2048\n",
      "          12       0.64      0.64      0.64      2126\n",
      "          13       0.68      0.68      0.68      1397\n",
      "          14       0.63      0.66      0.65      1285\n",
      "          15       0.64      0.66      0.65      1381\n",
      "          16       0.71      0.71      0.71      1373\n",
      "          17       0.54      0.52      0.53      1571\n",
      "          18       0.66      0.63      0.65       836\n",
      "          19       0.63      0.65      0.64       753\n",
      "          20       0.88      0.87      0.87       900\n",
      "          21       0.74      0.72      0.73       724\n",
      "          22       0.83      0.81      0.82       705\n",
      "          23       0.74      0.74      0.74       909\n",
      "\n",
      "    accuracy                           0.82     76014\n",
      "   macro avg       0.72      0.72      0.72     76014\n",
      "weighted avg       0.82      0.82      0.82     76014\n",
      "\n",
      "\u001b[1mConfusion Matrix : \u001b[0m\n"
     ]
    },
    {
     "data": {
      "image/png": "[encoded data removed]",
      "text/plain": [
       "<Figure size 432x288 with 2 Axes>"
      ]
     },
     "metadata": {
      "needs_background": "light"
     },
     "output_type": "display_data"
    }
   ],
   "source": [
    "print('\\033[1m' +'Classification report : '+ '\\033[0m\\n', classification_report(y_test, y_pred1))\n",
    "\n",
    "cm = confusion_matrix(y_pred1, y_test)\n",
    "print('\\033[1m' +'Confusion Matrix : '+ '\\033[0m')\n",
    "sns.heatmap(cm, cmap = 'OrRd',annot = True, fmt='d')\n",
    "plt.show()"
   ]
  },
  {
   "cell_type": "markdown",
   "id": "4ebcef17",
   "metadata": {},
   "source": [
    "# Evaluation -- Decision Tree"
   ]
  },
  {
   "cell_type": "code",
   "execution_count": 21,
   "id": "cbae2add",
   "metadata": {},
   "outputs": [
    {
     "name": "stdout",
     "output_type": "stream",
     "text": [
      "MAE: 1.4086615623437788\n",
      "MSE: 16.216881100849843\n",
      "RMSE: 4.02701888508731\n"
     ]
    }
   ],
   "source": [
    "from sklearn import metrics\n",
    "\n",
    "print('MAE:', metrics.mean_absolute_error(y_test,y_pred1))\n",
    "print('MSE:', metrics.mean_squared_error(y_test, y_pred1))\n",
    "print('RMSE:', np.sqrt(metrics.mean_squared_error(y_test, y_pred1)))"
   ]
  },
  {
   "cell_type": "code",
   "execution_count": 22,
   "id": "f7ac1ceb",
   "metadata": {},
   "outputs": [
    {
     "name": "stdout",
     "output_type": "stream",
     "text": [
      "Precision Score :  0.8177758246696557\n",
      "Recall Score :  0.8176388560002105\n",
      "f1_score :  0.817676952594477\n"
     ]
    }
   ],
   "source": [
    "from sklearn.metrics import precision_score\n",
    "print(\"Precision Score : \",precision_score(y_test, y_pred1, average='weighted'))\n",
    "\n",
    "\n",
    "from sklearn.metrics import recall_score\n",
    "print(\"Recall Score : \",recall_score(y_test, y_pred1,average='weighted'))\n",
    "\n",
    "\n",
    "from sklearn.metrics import f1_score\n",
    "print(\"f1_score : \",f1_score(y_test, y_pred1,average='weighted'))"
   ]
  },
  {
   "cell_type": "markdown",
   "id": "f901aeef",
   "metadata": {},
   "source": [
    "# KNeighborsClassifier"
   ]
  },
  {
   "cell_type": "code",
   "execution_count": 23,
   "id": "15fd9ac9",
   "metadata": {},
   "outputs": [
    {
     "data": {
      "text/plain": [
       "KNeighborsClassifier()"
      ]
     },
     "execution_count": 23,
     "metadata": {},
     "output_type": "execute_result"
    }
   ],
   "source": [
    "from sklearn.neighbors import KNeighborsClassifier\n",
    "KNeighborsClassifier = KNeighborsClassifier()\n",
    "KNeighborsClassifier.fit(X_train, y_train)"
   ]
  },
  {
   "cell_type": "code",
   "execution_count": 24,
   "id": "da059a26",
   "metadata": {},
   "outputs": [],
   "source": [
    "y_pred2 = KNeighborsClassifier.predict(X_test)"
   ]
  },
  {
   "cell_type": "code",
   "execution_count": 25,
   "id": "1d358310",
   "metadata": {},
   "outputs": [
    {
     "name": "stdout",
     "output_type": "stream",
     "text": [
      "Accuracy is: 86.9800299944747\n"
     ]
    }
   ],
   "source": [
    "from sklearn.metrics import accuracy_score\n",
    "accuracy = {accuracy_score(y_test, y_pred2)}\n",
    "print(f\"Accuracy is: {accuracy_score(y_test, y_pred2)* 100}\")"
   ]
  },
  {
   "cell_type": "code",
   "execution_count": 26,
   "id": "5e0d6dfd",
   "metadata": {},
   "outputs": [
    {
     "name": "stdout",
     "output_type": "stream",
     "text": [
      "\u001b[1mClassification report : \u001b[0m\n",
      "               precision    recall  f1-score   support\n",
      "\n",
      "           0       0.91      0.98      0.94     37518\n",
      "           1       0.82      0.85      0.83      2216\n",
      "           2       0.80      0.78      0.79      2231\n",
      "           3       0.85      0.80      0.83      2098\n",
      "           4       0.78      0.79      0.78      2142\n",
      "           5       0.81      0.80      0.81      2303\n",
      "           6       0.87      0.84      0.86      2161\n",
      "           7       0.79      0.73      0.76      2362\n",
      "           8       0.85      0.83      0.84      2236\n",
      "           9       0.82      0.81      0.81      2288\n",
      "          10       0.84      0.75      0.79      2451\n",
      "          11       0.84      0.80      0.82      2048\n",
      "          12       0.77      0.70      0.73      2126\n",
      "          13       0.80      0.75      0.78      1397\n",
      "          14       0.79      0.67      0.73      1285\n",
      "          15       0.74      0.71      0.72      1381\n",
      "          16       0.85      0.77      0.81      1373\n",
      "          17       0.75      0.54      0.63      1571\n",
      "          18       0.83      0.63      0.72       836\n",
      "          19       0.71      0.67      0.69       753\n",
      "          20       0.95      0.89      0.92       900\n",
      "          21       0.90      0.77      0.83       724\n",
      "          22       0.94      0.80      0.86       705\n",
      "          23       0.90      0.76      0.82       909\n",
      "\n",
      "    accuracy                           0.87     76014\n",
      "   macro avg       0.83      0.77      0.80     76014\n",
      "weighted avg       0.87      0.87      0.87     76014\n",
      "\n",
      "\u001b[1mConfusion Matrix : \u001b[0m\n"
     ]
    },
    {
     "data": {
      "image/png": "[encoded data removed]",
      "text/plain": [
       "<Figure size 432x288 with 2 Axes>"
      ]
     },
     "metadata": {
      "needs_background": "light"
     },
     "output_type": "display_data"
    }
   ],
   "source": [
    "print('\\033[1m' +'Classification report : '+ '\\033[0m\\n', classification_report(y_test, y_pred2))\n",
    "\n",
    "cm = confusion_matrix(y_pred2, y_test)\n",
    "print('\\033[1m' +'Confusion Matrix : '+ '\\033[0m')\n",
    "sns.heatmap(cm, cmap = 'OrRd',annot = True, fmt='d')\n",
    "plt.show()"
   ]
  },
  {
   "cell_type": "markdown",
   "id": "d8d41935",
   "metadata": {},
   "source": [
    "# Evaluation -- KNeighborsClassifier"
   ]
  },
  {
   "cell_type": "code",
   "execution_count": 27,
   "id": "bd1c5fe9",
   "metadata": {},
   "outputs": [
    {
     "name": "stdout",
     "output_type": "stream",
     "text": [
      "MAE: 1.034690977977741\n",
      "MSE: 12.150511747835925\n",
      "RMSE: 3.4857584178821006\n"
     ]
    }
   ],
   "source": [
    "from sklearn import metrics\n",
    "\n",
    "print('MAE:', metrics.mean_absolute_error(y_test,y_pred2))\n",
    "print('MSE:', metrics.mean_squared_error(y_test, y_pred2))\n",
    "print('RMSE:', np.sqrt(metrics.mean_squared_error(y_test, y_pred2)))"
   ]
  },
  {
   "cell_type": "code",
   "execution_count": 28,
   "id": "de3e3c02",
   "metadata": {},
   "outputs": [
    {
     "name": "stdout",
     "output_type": "stream",
     "text": [
      "Precision Score :  0.8665796266448141\n",
      "Recall Score :  0.8698002999447471\n",
      "f1_score :  0.8666584130021939\n"
     ]
    }
   ],
   "source": [
    "from sklearn.metrics import precision_score\n",
    "print(\"Precision Score : \",precision_score(y_test, y_pred2, average='weighted'))\n",
    "\n",
    "\n",
    "from sklearn.metrics import recall_score\n",
    "print(\"Recall Score : \",recall_score(y_test, y_pred2,average='weighted'))\n",
    "\n",
    "\n",
    "from sklearn.metrics import f1_score\n",
    "print(\"f1_score : \",f1_score(y_test, y_pred2,average='weighted'))"
   ]
  },
  {
   "cell_type": "markdown",
   "id": "5065ae39",
   "metadata": {},
   "source": [
    "# Random Forest"
   ]
  },
  {
   "cell_type": "code",
   "execution_count": 29,
   "id": "be857e35",
   "metadata": {},
   "outputs": [
    {
     "data": {
      "text/plain": [
       "RandomForestClassifier()"
      ]
     },
     "execution_count": 29,
     "metadata": {},
     "output_type": "execute_result"
    }
   ],
   "source": [
    "from sklearn.ensemble import RandomForestClassifier\n",
    "RandomForestClassifier = RandomForestClassifier()\n",
    "RandomForestClassifier.fit(X_train, y_train)"
   ]
  },
  {
   "cell_type": "code",
   "execution_count": 30,
   "id": "544a9fa7",
   "metadata": {},
   "outputs": [],
   "source": [
    "y_pred3 = RandomForestClassifier.predict(X_test)"
   ]
  },
  {
   "cell_type": "code",
   "execution_count": 31,
   "id": "a0daf4ac",
   "metadata": {},
   "outputs": [
    {
     "name": "stdout",
     "output_type": "stream",
     "text": [
      "Accuracy is: 90.68197963533034\n"
     ]
    }
   ],
   "source": [
    "from sklearn.metrics import accuracy_score\n",
    "accuracy = {accuracy_score(y_test, y_pred3)}\n",
    "print(f\"Accuracy is: {accuracy_score(y_test, y_pred3)* 100}\")"
   ]
  },
  {
   "cell_type": "code",
   "execution_count": 32,
   "id": "17ccca6d",
   "metadata": {},
   "outputs": [
    {
     "name": "stdout",
     "output_type": "stream",
     "text": [
      "\u001b[1mClassification report : \u001b[0m\n",
      "               precision    recall  f1-score   support\n",
      "\n",
      "           0       0.92      0.98      0.95     37518\n",
      "           1       0.90      0.88      0.89      2216\n",
      "           2       0.92      0.83      0.87      2231\n",
      "           3       0.93      0.84      0.88      2098\n",
      "           4       0.88      0.86      0.87      2142\n",
      "           5       0.90      0.85      0.87      2303\n",
      "           6       0.93      0.88      0.90      2161\n",
      "           7       0.84      0.79      0.81      2362\n",
      "           8       0.89      0.88      0.89      2236\n",
      "           9       0.89      0.85      0.87      2288\n",
      "          10       0.90      0.82      0.86      2451\n",
      "          11       0.92      0.89      0.90      2048\n",
      "          12       0.85      0.78      0.81      2126\n",
      "          13       0.89      0.83      0.86      1397\n",
      "          14       0.86      0.75      0.80      1285\n",
      "          15       0.77      0.81      0.79      1381\n",
      "          16       0.91      0.85      0.88      1373\n",
      "          17       0.82      0.62      0.71      1571\n",
      "          18       0.91      0.74      0.82       836\n",
      "          19       0.80      0.77      0.79       753\n",
      "          20       0.96      0.93      0.95       900\n",
      "          21       0.96      0.85      0.90       724\n",
      "          22       0.96      0.90      0.93       705\n",
      "          23       0.94      0.88      0.91       909\n",
      "\n",
      "    accuracy                           0.91     76014\n",
      "   macro avg       0.89      0.84      0.86     76014\n",
      "weighted avg       0.91      0.91      0.90     76014\n",
      "\n",
      "\u001b[1mConfusion Matrix : \u001b[0m\n"
     ]
    },
    {
     "data": {
      "image/png": "[encoded data removed]",
      "text/plain": [
       "<Figure size 432x288 with 2 Axes>"
      ]
     },
     "metadata": {
      "needs_background": "light"
     },
     "output_type": "display_data"
    }
   ],
   "source": [
    "print('\\033[1m' +'Classification report : '+ '\\033[0m\\n', classification_report(y_test, y_pred3))\n",
    "\n",
    "cm = confusion_matrix(y_pred3, y_test)\n",
    "print('\\033[1m' +'Confusion Matrix : '+ '\\033[0m')\n",
    "sns.heatmap(cm, cmap = 'OrRd',annot = True, fmt='d')\n",
    "plt.show()"
   ]
  },
  {
   "cell_type": "markdown",
   "id": "bf149f54",
   "metadata": {},
   "source": [
    "# Evaluation -- Random Forest"
   ]
  },
  {
   "cell_type": "code",
   "execution_count": 33,
   "id": "44b863ad",
   "metadata": {},
   "outputs": [
    {
     "name": "stdout",
     "output_type": "stream",
     "text": [
      "MAE: 0.7714236851106375\n",
      "MSE: 9.207632804483385\n",
      "RMSE: 3.034408147313638\n"
     ]
    }
   ],
   "source": [
    "from sklearn import metrics\n",
    "\n",
    "print('MAE:', metrics.mean_absolute_error(y_test,y_pred3))\n",
    "print('MSE:', metrics.mean_squared_error(y_test, y_pred3))\n",
    "print('RMSE:', np.sqrt(metrics.mean_squared_error(y_test, y_pred3)))"
   ]
  },
  {
   "cell_type": "code",
   "execution_count": 34,
   "id": "f40def00",
   "metadata": {},
   "outputs": [
    {
     "name": "stdout",
     "output_type": "stream",
     "text": [
      "Precision Score :  0.9057561584613295\n",
      "Recall Score :  0.9068197963533033\n",
      "f1_score :  0.904914052832643\n"
     ]
    }
   ],
   "source": [
    "from sklearn.metrics import precision_score\n",
    "print(\"Precision Score : \",precision_score(y_test, y_pred3, average='weighted'))\n",
    "\n",
    "\n",
    "from sklearn.metrics import recall_score\n",
    "print(\"Recall Score : \",recall_score(y_test, y_pred3,average='weighted'))\n",
    "\n",
    "\n",
    "from sklearn.metrics import f1_score\n",
    "print(\"f1_score : \",f1_score(y_test, y_pred3,average='weighted'))"
   ]
  },
  {
   "cell_type": "markdown",
   "id": "fc99a8db",
   "metadata": {},
   "source": [
    "# XGBoost"
   ]
  },
  {
   "cell_type": "code",
   "execution_count": 35,
   "id": "cf92a2ce",
   "metadata": {},
   "outputs": [
    {
     "name": "stderr",
     "output_type": "stream",
     "text": [
      "C:\\Users\\nafem\\anaconda3\\lib\\site-packages\\xgboost\\sklearn.py:1224: UserWarning: The use of label encoder in XGBClassifier is deprecated and will be removed in a future release. To remove this warning, do the following: 1) Pass option use_label_encoder=False when constructing XGBClassifier object; and 2) Encode your labels (y) as integers starting with 0, i.e. 0, 1, 2, ..., [num_class - 1].\n",
      "  warnings.warn(label_encoder_deprecation_msg, UserWarning)\n"
     ]
    },
    {
     "name": "stdout",
     "output_type": "stream",
     "text": [
      "[20:15:35] WARNING: C:/Users/Administrator/workspace/xgboost-win64_release_1.5.1/src/learner.cc:1115: Starting in XGBoost 1.3.0, the default evaluation metric used with the objective 'multi:softprob' was changed from 'merror' to 'mlogloss'. Explicitly set eval_metric if you'd like to restore the old behavior.\n"
     ]
    },
    {
     "data": {
      "text/plain": [
       "XGBClassifier(base_score=0.5, booster='gbtree', colsample_bylevel=1,\n",
       "              colsample_bynode=1, colsample_bytree=1, enable_categorical=False,\n",
       "              gamma=0, gpu_id=-1, importance_type=None,\n",
       "              interaction_constraints='', learning_rate=0.300000012,\n",
       "              max_delta_step=0, max_depth=6, min_child_weight=1, missing=nan,\n",
       "              monotone_constraints='()', n_estimators=100, n_jobs=4,\n",
       "              num_parallel_tree=1, objective='multi:softprob', predictor='auto',\n",
       "              random_state=0, reg_alpha=0, reg_lambda=1, scale_pos_weight=None,\n",
       "              subsample=1, tree_method='exact', validate_parameters=1,\n",
       "              verbosity=None)"
      ]
     },
     "execution_count": 35,
     "metadata": {},
     "output_type": "execute_result"
    }
   ],
   "source": [
    "from xgboost import XGBClassifier\n",
    "xgb = XGBClassifier()\n",
    "xgb.fit(X_train, y_train)"
   ]
  },
  {
   "cell_type": "code",
   "execution_count": 36,
   "id": "122b4ba0",
   "metadata": {},
   "outputs": [],
   "source": [
    "y_pred4 = xgb.predict(X_test)"
   ]
  },
  {
   "cell_type": "code",
   "execution_count": 37,
   "id": "022138ba",
   "metadata": {},
   "outputs": [
    {
     "name": "stdout",
     "output_type": "stream",
     "text": [
      "Accuracy is: 84.2068566316731\n"
     ]
    }
   ],
   "source": [
    "from sklearn.metrics import accuracy_score\n",
    "accuracy = {accuracy_score(y_test, y_pred4)}\n",
    "print(f\"Accuracy is: {accuracy_score(y_test, y_pred4)* 100}\")"
   ]
  },
  {
   "cell_type": "code",
   "execution_count": 38,
   "id": "269a9899",
   "metadata": {},
   "outputs": [
    {
     "name": "stdout",
     "output_type": "stream",
     "text": [
      "\u001b[1mClassification report : \u001b[0m\n",
      "               precision    recall  f1-score   support\n",
      "\n",
      "           0       0.90      0.97      0.93     37518\n",
      "           1       0.77      0.78      0.77      2216\n",
      "           2       0.82      0.69      0.75      2231\n",
      "           3       0.87      0.74      0.80      2098\n",
      "           4       0.74      0.74      0.74      2142\n",
      "           5       0.80      0.72      0.76      2303\n",
      "           6       0.85      0.81      0.83      2161\n",
      "           7       0.75      0.69      0.72      2362\n",
      "           8       0.78      0.74      0.76      2236\n",
      "           9       0.76      0.73      0.74      2288\n",
      "          10       0.78      0.70      0.74      2451\n",
      "          11       0.78      0.75      0.76      2048\n",
      "          12       0.66      0.59      0.62      2126\n",
      "          13       0.75      0.66      0.71      1397\n",
      "          14       0.75      0.64      0.69      1285\n",
      "          15       0.63      0.71      0.67      1381\n",
      "          16       0.78      0.72      0.75      1373\n",
      "          17       0.74      0.52      0.61      1571\n",
      "          18       0.84      0.66      0.74       836\n",
      "          19       0.71      0.63      0.67       753\n",
      "          20       0.93      0.91      0.92       900\n",
      "          21       0.89      0.80      0.84       724\n",
      "          22       0.91      0.86      0.89       705\n",
      "          23       0.84      0.78      0.81       909\n",
      "\n",
      "    accuracy                           0.84     76014\n",
      "   macro avg       0.79      0.73      0.76     76014\n",
      "weighted avg       0.84      0.84      0.84     76014\n",
      "\n",
      "\u001b[1mConfusion Matrix : \u001b[0m\n"
     ]
    },
    {
     "data": {
      "image/png": "[encoded data removed]",
      "text/plain": [
       "<Figure size 432x288 with 2 Axes>"
      ]
     },
     "metadata": {
      "needs_background": "light"
     },
     "output_type": "display_data"
    }
   ],
   "source": [
    "print('\\033[1m' +'Classification report : '+ '\\033[0m\\n', classification_report(y_test, y_pred4))\n",
    "\n",
    "cm = confusion_matrix(y_pred4, y_test)\n",
    "print('\\033[1m' +'Confusion Matrix : '+ '\\033[0m')\n",
    "sns.heatmap(cm, cmap = 'OrRd',annot = True, fmt='d')\n",
    "plt.show()"
   ]
  },
  {
   "cell_type": "markdown",
   "id": "3031b603",
   "metadata": {},
   "source": [
    "# Evaluation -- XGBoost"
   ]
  },
  {
   "cell_type": "code",
   "execution_count": 39,
   "id": "f5efef7b",
   "metadata": {},
   "outputs": [
    {
     "name": "stdout",
     "output_type": "stream",
     "text": [
      "MAE: 1.2037650959033863\n",
      "MSE: 13.677309442997343\n",
      "RMSE: 3.6982846622450984\n"
     ]
    }
   ],
   "source": [
    "from sklearn import metrics\n",
    "\n",
    "print('MAE:', metrics.mean_absolute_error(y_test,y_pred4))\n",
    "print('MSE:', metrics.mean_squared_error(y_test, y_pred4))\n",
    "print('RMSE:', np.sqrt(metrics.mean_squared_error(y_test, y_pred4)))"
   ]
  },
  {
   "cell_type": "code",
   "execution_count": 40,
   "id": "36005adc",
   "metadata": {},
   "outputs": [
    {
     "name": "stdout",
     "output_type": "stream",
     "text": [
      "Precision Score :  0.8377339365703249\n",
      "Recall Score :  0.8420685663167311\n",
      "f1_score :  0.8378484429339591\n"
     ]
    }
   ],
   "source": [
    "from sklearn.metrics import precision_score\n",
    "print(\"Precision Score : \",precision_score(y_test, y_pred4, average='weighted'))\n",
    "\n",
    "\n",
    "from sklearn.metrics import recall_score\n",
    "print(\"Recall Score : \",recall_score(y_test, y_pred4,average='weighted'))\n",
    "\n",
    "\n",
    "from sklearn.metrics import f1_score\n",
    "print(\"f1_score : \",f1_score(y_test, y_pred4,average='weighted'))"
   ]
  },
  {
   "cell_type": "markdown",
   "id": "5805a6f2",
   "metadata": {},
   "source": [
    "# ExtraTreesClassifier"
   ]
  },
  {
   "cell_type": "code",
   "execution_count": 41,
   "id": "bb5c43f7",
   "metadata": {},
   "outputs": [
    {
     "data": {
      "text/plain": [
       "ExtraTreesClassifier()"
      ]
     },
     "execution_count": 41,
     "metadata": {},
     "output_type": "execute_result"
    }
   ],
   "source": [
    "from sklearn.ensemble import ExtraTreesClassifier\n",
    "extratree = ExtraTreesClassifier()\n",
    "extratree.fit(X_train, y_train)"
   ]
  },
  {
   "cell_type": "code",
   "execution_count": 42,
   "id": "71002958",
   "metadata": {},
   "outputs": [],
   "source": [
    "y_pred5 = extratree.predict(X_test)"
   ]
  },
  {
   "cell_type": "code",
   "execution_count": 43,
   "id": "b61749b4",
   "metadata": {},
   "outputs": [
    {
     "name": "stdout",
     "output_type": "stream",
     "text": [
      "Accuracy is: 91.30028678927566\n"
     ]
    }
   ],
   "source": [
    "from sklearn.metrics import accuracy_score\n",
    "accuracy = {accuracy_score(y_test, y_pred5)}\n",
    "print(f\"Accuracy is: {accuracy_score(y_test, y_pred5)* 100}\")"
   ]
  },
  {
   "cell_type": "code",
   "execution_count": 44,
   "id": "06532654",
   "metadata": {},
   "outputs": [
    {
     "name": "stdout",
     "output_type": "stream",
     "text": [
      "\u001b[1mClassification report : \u001b[0m\n",
      "               precision    recall  f1-score   support\n",
      "\n",
      "           0       0.92      0.99      0.95     37518\n",
      "           1       0.92      0.89      0.91      2216\n",
      "           2       0.93      0.84      0.88      2231\n",
      "           3       0.94      0.85      0.90      2098\n",
      "           4       0.90      0.87      0.88      2142\n",
      "           5       0.91      0.86      0.89      2303\n",
      "           6       0.95      0.89      0.92      2161\n",
      "           7       0.84      0.78      0.81      2362\n",
      "           8       0.91      0.89      0.90      2236\n",
      "           9       0.90      0.86      0.88      2288\n",
      "          10       0.92      0.82      0.87      2451\n",
      "          11       0.94      0.90      0.92      2048\n",
      "          12       0.87      0.80      0.83      2126\n",
      "          13       0.92      0.85      0.88      1397\n",
      "          14       0.87      0.77      0.82      1285\n",
      "          15       0.78      0.82      0.80      1381\n",
      "          16       0.93      0.86      0.89      1373\n",
      "          17       0.83      0.63      0.72      1571\n",
      "          18       0.93      0.77      0.84       836\n",
      "          19       0.82      0.77      0.80       753\n",
      "          20       0.97      0.94      0.95       900\n",
      "          21       0.98      0.90      0.94       724\n",
      "          22       0.98      0.92      0.95       705\n",
      "          23       0.95      0.88      0.91       909\n",
      "\n",
      "    accuracy                           0.91     76014\n",
      "   macro avg       0.91      0.85      0.88     76014\n",
      "weighted avg       0.91      0.91      0.91     76014\n",
      "\n",
      "\u001b[1mConfusion Matrix : \u001b[0m\n"
     ]
    },
    {
     "data": {
      "image/png": "[encoded data removed]",
      "text/plain": [
       "<Figure size 432x288 with 2 Axes>"
      ]
     },
     "metadata": {
      "needs_background": "light"
     },
     "output_type": "display_data"
    }
   ],
   "source": [
    "print('\\033[1m' +'Classification report : '+ '\\033[0m\\n', classification_report(y_test, y_pred5))\n",
    "\n",
    "cm = confusion_matrix(y_pred5, y_test)\n",
    "print('\\033[1m' +'Confusion Matrix : '+ '\\033[0m')\n",
    "sns.heatmap(cm, cmap = 'OrRd',annot = True, fmt='d')\n",
    "plt.show()"
   ]
  },
  {
   "cell_type": "markdown",
   "id": "2b86af64",
   "metadata": {},
   "source": [
    "# Evaluation -- ExtraTreesClassifier"
   ]
  },
  {
   "cell_type": "code",
   "execution_count": 45,
   "id": "a9e47f87",
   "metadata": {},
   "outputs": [
    {
     "name": "stdout",
     "output_type": "stream",
     "text": [
      "MAE: 0.7398900202594259\n",
      "MSE: 8.942063304128187\n",
      "RMSE: 2.990328293704253\n"
     ]
    }
   ],
   "source": [
    "from sklearn import metrics\n",
    "\n",
    "print('MAE:', metrics.mean_absolute_error(y_test,y_pred5))\n",
    "print('MSE:', metrics.mean_squared_error(y_test, y_pred5))\n",
    "print('RMSE:', np.sqrt(metrics.mean_squared_error(y_test, y_pred5)))"
   ]
  },
  {
   "cell_type": "code",
   "execution_count": 46,
   "id": "6d09ec03",
   "metadata": {},
   "outputs": [
    {
     "name": "stdout",
     "output_type": "stream",
     "text": [
      "Precision Score :  0.9124413745951515\n",
      "Recall Score :  0.9130028678927566\n",
      "f1_score :  0.9112319778697617\n"
     ]
    }
   ],
   "source": [
    "from sklearn.metrics import precision_score\n",
    "print(\"Precision Score : \",precision_score(y_test, y_pred5, average='weighted'))\n",
    "\n",
    "\n",
    "from sklearn.metrics import recall_score\n",
    "print(\"Recall Score : \",recall_score(y_test, y_pred5,average='weighted'))\n",
    "\n",
    "\n",
    "from sklearn.metrics import f1_score\n",
    "print(\"f1_score : \",f1_score(y_test, y_pred5,average='weighted'))"
   ]
  },
  {
   "cell_type": "code",
   "execution_count": null,
   "id": "292f2127",
   "metadata": {},
   "outputs": [],
   "source": []
  }
 ],
 "metadata": {
  "kernelspec": {
   "display_name": "Python 3 (ipykernel)",
   "language": "python",
   "name": "python3"
  },
  "language_info": {
   "codemirror_mode": {
    "name": "ipython",
    "version": 3
   },
   "file_extension": ".py",
   "mimetype": "text/x-python",
   "name": "python",
   "nbconvert_exporter": "python",
   "pygments_lexer": "ipython3",
   "version": "3.8.12"
  }
 },
 "nbformat": 4,
 "nbformat_minor": 5
}
