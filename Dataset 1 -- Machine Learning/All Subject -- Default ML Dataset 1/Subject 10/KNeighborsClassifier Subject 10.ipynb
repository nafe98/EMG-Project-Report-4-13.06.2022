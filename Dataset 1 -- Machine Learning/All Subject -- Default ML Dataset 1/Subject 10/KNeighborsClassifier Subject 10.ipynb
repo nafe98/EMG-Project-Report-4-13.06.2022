{
 "cells": [
  {
   "cell_type": "markdown",
   "id": "5146ed0c",
   "metadata": {},
   "source": [
    "# Importing Libraries"
   ]
  },
  {
   "cell_type": "code",
   "execution_count": 1,
   "id": "3045e9ed",
   "metadata": {},
   "outputs": [],
   "source": [
    "import numpy as np\n",
    "import pandas as pd\n",
    "import matplotlib.pyplot as plt\n",
    "import seaborn as sns\n",
    "from sklearn.model_selection import train_test_split\n",
    "from sklearn.metrics import confusion_matrix, f1_score, accuracy_score, classification_report"
   ]
  },
  {
   "cell_type": "markdown",
   "id": "42648960",
   "metadata": {},
   "source": [
    "# Exploratory Data Analysis"
   ]
  },
  {
   "cell_type": "code",
   "execution_count": 2,
   "id": "c6cab329",
   "metadata": {
    "scrolled": false
   },
   "outputs": [
    {
     "data": {
      "text/html": [
       "<div>\n",
       "<style scoped>\n",
       "    .dataframe tbody tr th:only-of-type {\n",
       "        vertical-align: middle;\n",
       "    }\n",
       "\n",
       "    .dataframe tbody tr th {\n",
       "        vertical-align: top;\n",
       "    }\n",
       "\n",
       "    .dataframe thead th {\n",
       "        text-align: right;\n",
       "    }\n",
       "</style>\n",
       "<table border=\"1\" class=\"dataframe\">\n",
       "  <thead>\n",
       "    <tr style=\"text-align: right;\">\n",
       "      <th></th>\n",
       "      <th>Emg1</th>\n",
       "      <th>Emg2</th>\n",
       "      <th>Emg3</th>\n",
       "      <th>Emg4</th>\n",
       "      <th>Emg5</th>\n",
       "      <th>Emg6</th>\n",
       "      <th>Emg7</th>\n",
       "      <th>Emg8</th>\n",
       "      <th>Emg9</th>\n",
       "      <th>Emg10</th>\n",
       "      <th>repetition</th>\n",
       "      <th>rerepetition</th>\n",
       "      <th>stimulus</th>\n",
       "      <th>restimulus</th>\n",
       "    </tr>\n",
       "  </thead>\n",
       "  <tbody>\n",
       "    <tr>\n",
       "      <th>247887</th>\n",
       "      <td>0.0879</td>\n",
       "      <td>0.0024</td>\n",
       "      <td>0.0024</td>\n",
       "      <td>0.0024</td>\n",
       "      <td>0.0024</td>\n",
       "      <td>0.0220</td>\n",
       "      <td>0.2246</td>\n",
       "      <td>0.2588</td>\n",
       "      <td>0.0024</td>\n",
       "      <td>0.0708</td>\n",
       "      <td>0</td>\n",
       "      <td>0</td>\n",
       "      <td>0</td>\n",
       "      <td>0</td>\n",
       "    </tr>\n",
       "    <tr>\n",
       "      <th>116933</th>\n",
       "      <td>0.0024</td>\n",
       "      <td>0.0024</td>\n",
       "      <td>0.0049</td>\n",
       "      <td>0.0024</td>\n",
       "      <td>0.0024</td>\n",
       "      <td>0.0073</td>\n",
       "      <td>0.1147</td>\n",
       "      <td>0.3052</td>\n",
       "      <td>0.0024</td>\n",
       "      <td>0.0024</td>\n",
       "      <td>0</td>\n",
       "      <td>0</td>\n",
       "      <td>0</td>\n",
       "      <td>0</td>\n",
       "    </tr>\n",
       "    <tr>\n",
       "      <th>185581</th>\n",
       "      <td>0.0024</td>\n",
       "      <td>0.0024</td>\n",
       "      <td>0.0049</td>\n",
       "      <td>0.0024</td>\n",
       "      <td>0.0073</td>\n",
       "      <td>0.0024</td>\n",
       "      <td>0.0415</td>\n",
       "      <td>0.1514</td>\n",
       "      <td>0.0024</td>\n",
       "      <td>0.0024</td>\n",
       "      <td>0</td>\n",
       "      <td>0</td>\n",
       "      <td>0</td>\n",
       "      <td>0</td>\n",
       "    </tr>\n",
       "    <tr>\n",
       "      <th>103732</th>\n",
       "      <td>0.0024</td>\n",
       "      <td>0.1221</td>\n",
       "      <td>0.1025</td>\n",
       "      <td>0.0757</td>\n",
       "      <td>0.0537</td>\n",
       "      <td>0.0977</td>\n",
       "      <td>0.4810</td>\n",
       "      <td>0.2930</td>\n",
       "      <td>0.1709</td>\n",
       "      <td>0.4517</td>\n",
       "      <td>4</td>\n",
       "      <td>4</td>\n",
       "      <td>1</td>\n",
       "      <td>1</td>\n",
       "    </tr>\n",
       "    <tr>\n",
       "      <th>292666</th>\n",
       "      <td>0.0024</td>\n",
       "      <td>0.7373</td>\n",
       "      <td>0.6323</td>\n",
       "      <td>0.2808</td>\n",
       "      <td>0.1685</td>\n",
       "      <td>0.3613</td>\n",
       "      <td>1.1133</td>\n",
       "      <td>2.5220</td>\n",
       "      <td>0.4492</td>\n",
       "      <td>0.6226</td>\n",
       "      <td>4</td>\n",
       "      <td>4</td>\n",
       "      <td>6</td>\n",
       "      <td>6</td>\n",
       "    </tr>\n",
       "  </tbody>\n",
       "</table>\n",
       "</div>"
      ],
      "text/plain": [
       "          Emg1    Emg2    Emg3    Emg4    Emg5    Emg6    Emg7    Emg8  \\\n",
       "247887  0.0879  0.0024  0.0024  0.0024  0.0024  0.0220  0.2246  0.2588   \n",
       "116933  0.0024  0.0024  0.0049  0.0024  0.0024  0.0073  0.1147  0.3052   \n",
       "185581  0.0024  0.0024  0.0049  0.0024  0.0073  0.0024  0.0415  0.1514   \n",
       "103732  0.0024  0.1221  0.1025  0.0757  0.0537  0.0977  0.4810  0.2930   \n",
       "292666  0.0024  0.7373  0.6323  0.2808  0.1685  0.3613  1.1133  2.5220   \n",
       "\n",
       "          Emg9   Emg10  repetition  rerepetition  stimulus  restimulus  \n",
       "247887  0.0024  0.0708           0             0         0           0  \n",
       "116933  0.0024  0.0024           0             0         0           0  \n",
       "185581  0.0024  0.0024           0             0         0           0  \n",
       "103732  0.1709  0.4517           4             4         1           1  \n",
       "292666  0.4492  0.6226           4             4         6           6  "
      ]
     },
     "execution_count": 2,
     "metadata": {},
     "output_type": "execute_result"
    }
   ],
   "source": [
    "raw_data = pd.read_excel('Dataset 1 Patient 10.xlsx')\n",
    "raw_data.sample(5)"
   ]
  },
  {
   "cell_type": "code",
   "execution_count": 3,
   "id": "8cad9bd6",
   "metadata": {},
   "outputs": [
    {
     "data": {
      "text/plain": [
       "(457928, 14)"
      ]
     },
     "execution_count": 3,
     "metadata": {},
     "output_type": "execute_result"
    }
   ],
   "source": [
    "raw_data.shape"
   ]
  },
  {
   "cell_type": "code",
   "execution_count": 4,
   "id": "d05a18f1",
   "metadata": {},
   "outputs": [
    {
     "data": {
      "text/plain": [
       "Index(['Emg1', 'Emg2', 'Emg3', 'Emg4', 'Emg5', 'Emg6', 'Emg7', 'Emg8', 'Emg9',\n",
       "       'Emg10', 'repetition', 'rerepetition', 'stimulus', 'restimulus'],\n",
       "      dtype='object')"
      ]
     },
     "execution_count": 4,
     "metadata": {},
     "output_type": "execute_result"
    }
   ],
   "source": [
    "raw_data.columns"
   ]
  },
  {
   "cell_type": "code",
   "execution_count": 5,
   "id": "259f05e6",
   "metadata": {},
   "outputs": [
    {
     "name": "stdout",
     "output_type": "stream",
     "text": [
      "<class 'pandas.core.frame.DataFrame'>\n",
      "RangeIndex: 457928 entries, 0 to 457927\n",
      "Data columns (total 14 columns):\n",
      " #   Column        Non-Null Count   Dtype  \n",
      "---  ------        --------------   -----  \n",
      " 0   Emg1          457928 non-null  float64\n",
      " 1   Emg2          457928 non-null  float64\n",
      " 2   Emg3          457928 non-null  float64\n",
      " 3   Emg4          457928 non-null  float64\n",
      " 4   Emg5          457928 non-null  float64\n",
      " 5   Emg6          457928 non-null  float64\n",
      " 6   Emg7          457928 non-null  float64\n",
      " 7   Emg8          457928 non-null  float64\n",
      " 8   Emg9          457928 non-null  float64\n",
      " 9   Emg10         457928 non-null  float64\n",
      " 10  repetition    457928 non-null  int64  \n",
      " 11  rerepetition  457928 non-null  int64  \n",
      " 12  stimulus      457928 non-null  int64  \n",
      " 13  restimulus    457928 non-null  int64  \n",
      "dtypes: float64(10), int64(4)\n",
      "memory usage: 48.9 MB\n"
     ]
    }
   ],
   "source": [
    "raw_data.info()"
   ]
  },
  {
   "cell_type": "code",
   "execution_count": 6,
   "id": "613a1cc1",
   "metadata": {},
   "outputs": [
    {
     "data": {
      "text/html": [
       "<div>\n",
       "<style scoped>\n",
       "    .dataframe tbody tr th:only-of-type {\n",
       "        vertical-align: middle;\n",
       "    }\n",
       "\n",
       "    .dataframe tbody tr th {\n",
       "        vertical-align: top;\n",
       "    }\n",
       "\n",
       "    .dataframe thead th {\n",
       "        text-align: right;\n",
       "    }\n",
       "</style>\n",
       "<table border=\"1\" class=\"dataframe\">\n",
       "  <thead>\n",
       "    <tr style=\"text-align: right;\">\n",
       "      <th></th>\n",
       "      <th>Emg1</th>\n",
       "      <th>Emg2</th>\n",
       "      <th>Emg3</th>\n",
       "      <th>Emg4</th>\n",
       "      <th>Emg5</th>\n",
       "      <th>Emg6</th>\n",
       "      <th>Emg7</th>\n",
       "      <th>Emg8</th>\n",
       "      <th>Emg9</th>\n",
       "      <th>Emg10</th>\n",
       "      <th>repetition</th>\n",
       "      <th>rerepetition</th>\n",
       "      <th>stimulus</th>\n",
       "      <th>restimulus</th>\n",
       "    </tr>\n",
       "  </thead>\n",
       "  <tbody>\n",
       "    <tr>\n",
       "      <th>count</th>\n",
       "      <td>457928.000000</td>\n",
       "      <td>457928.000000</td>\n",
       "      <td>457928.000000</td>\n",
       "      <td>457928.000000</td>\n",
       "      <td>457928.000000</td>\n",
       "      <td>457928.000000</td>\n",
       "      <td>457928.000000</td>\n",
       "      <td>457928.000000</td>\n",
       "      <td>457928.000000</td>\n",
       "      <td>457928.000000</td>\n",
       "      <td>457928.000000</td>\n",
       "      <td>457928.000000</td>\n",
       "      <td>457928.000000</td>\n",
       "      <td>457928.000000</td>\n",
       "    </tr>\n",
       "    <tr>\n",
       "      <th>mean</th>\n",
       "      <td>0.019734</td>\n",
       "      <td>0.092321</td>\n",
       "      <td>0.083216</td>\n",
       "      <td>0.039534</td>\n",
       "      <td>0.026400</td>\n",
       "      <td>0.077164</td>\n",
       "      <td>0.301754</td>\n",
       "      <td>0.385765</td>\n",
       "      <td>0.156294</td>\n",
       "      <td>0.221862</td>\n",
       "      <td>3.219882</td>\n",
       "      <td>2.347234</td>\n",
       "      <td>5.706694</td>\n",
       "      <td>4.335299</td>\n",
       "    </tr>\n",
       "    <tr>\n",
       "      <th>std</th>\n",
       "      <td>0.079264</td>\n",
       "      <td>0.215375</td>\n",
       "      <td>0.215094</td>\n",
       "      <td>0.095570</td>\n",
       "      <td>0.055138</td>\n",
       "      <td>0.147718</td>\n",
       "      <td>0.381117</td>\n",
       "      <td>0.587775</td>\n",
       "      <td>0.381881</td>\n",
       "      <td>0.358927</td>\n",
       "      <td>3.488817</td>\n",
       "      <td>3.285902</td>\n",
       "      <td>6.594477</td>\n",
       "      <td>6.373268</td>\n",
       "    </tr>\n",
       "    <tr>\n",
       "      <th>min</th>\n",
       "      <td>0.000000</td>\n",
       "      <td>0.000000</td>\n",
       "      <td>0.002400</td>\n",
       "      <td>0.000000</td>\n",
       "      <td>0.002400</td>\n",
       "      <td>0.002400</td>\n",
       "      <td>0.002400</td>\n",
       "      <td>0.002400</td>\n",
       "      <td>0.000000</td>\n",
       "      <td>0.000000</td>\n",
       "      <td>0.000000</td>\n",
       "      <td>0.000000</td>\n",
       "      <td>0.000000</td>\n",
       "      <td>0.000000</td>\n",
       "    </tr>\n",
       "    <tr>\n",
       "      <th>25%</th>\n",
       "      <td>0.002400</td>\n",
       "      <td>0.002400</td>\n",
       "      <td>0.002400</td>\n",
       "      <td>0.002400</td>\n",
       "      <td>0.002400</td>\n",
       "      <td>0.002400</td>\n",
       "      <td>0.075700</td>\n",
       "      <td>0.063500</td>\n",
       "      <td>0.002400</td>\n",
       "      <td>0.009800</td>\n",
       "      <td>0.000000</td>\n",
       "      <td>0.000000</td>\n",
       "      <td>0.000000</td>\n",
       "      <td>0.000000</td>\n",
       "    </tr>\n",
       "    <tr>\n",
       "      <th>50%</th>\n",
       "      <td>0.004900</td>\n",
       "      <td>0.002400</td>\n",
       "      <td>0.002400</td>\n",
       "      <td>0.002400</td>\n",
       "      <td>0.002400</td>\n",
       "      <td>0.024400</td>\n",
       "      <td>0.188000</td>\n",
       "      <td>0.151400</td>\n",
       "      <td>0.002400</td>\n",
       "      <td>0.092800</td>\n",
       "      <td>2.000000</td>\n",
       "      <td>0.000000</td>\n",
       "      <td>3.000000</td>\n",
       "      <td>0.000000</td>\n",
       "    </tr>\n",
       "    <tr>\n",
       "      <th>75%</th>\n",
       "      <td>0.014600</td>\n",
       "      <td>0.085400</td>\n",
       "      <td>0.068400</td>\n",
       "      <td>0.029300</td>\n",
       "      <td>0.022000</td>\n",
       "      <td>0.080600</td>\n",
       "      <td>0.371100</td>\n",
       "      <td>0.405300</td>\n",
       "      <td>0.134300</td>\n",
       "      <td>0.283200</td>\n",
       "      <td>6.000000</td>\n",
       "      <td>5.000000</td>\n",
       "      <td>10.000000</td>\n",
       "      <td>8.000000</td>\n",
       "    </tr>\n",
       "    <tr>\n",
       "      <th>max</th>\n",
       "      <td>2.480500</td>\n",
       "      <td>3.320300</td>\n",
       "      <td>4.653300</td>\n",
       "      <td>1.960400</td>\n",
       "      <td>2.763700</td>\n",
       "      <td>2.390100</td>\n",
       "      <td>4.663100</td>\n",
       "      <td>4.621600</td>\n",
       "      <td>4.665500</td>\n",
       "      <td>4.665500</td>\n",
       "      <td>10.000000</td>\n",
       "      <td>10.000000</td>\n",
       "      <td>23.000000</td>\n",
       "      <td>23.000000</td>\n",
       "    </tr>\n",
       "  </tbody>\n",
       "</table>\n",
       "</div>"
      ],
      "text/plain": [
       "                Emg1           Emg2           Emg3           Emg4  \\\n",
       "count  457928.000000  457928.000000  457928.000000  457928.000000   \n",
       "mean        0.019734       0.092321       0.083216       0.039534   \n",
       "std         0.079264       0.215375       0.215094       0.095570   \n",
       "min         0.000000       0.000000       0.002400       0.000000   \n",
       "25%         0.002400       0.002400       0.002400       0.002400   \n",
       "50%         0.004900       0.002400       0.002400       0.002400   \n",
       "75%         0.014600       0.085400       0.068400       0.029300   \n",
       "max         2.480500       3.320300       4.653300       1.960400   \n",
       "\n",
       "                Emg5           Emg6           Emg7           Emg8  \\\n",
       "count  457928.000000  457928.000000  457928.000000  457928.000000   \n",
       "mean        0.026400       0.077164       0.301754       0.385765   \n",
       "std         0.055138       0.147718       0.381117       0.587775   \n",
       "min         0.002400       0.002400       0.002400       0.002400   \n",
       "25%         0.002400       0.002400       0.075700       0.063500   \n",
       "50%         0.002400       0.024400       0.188000       0.151400   \n",
       "75%         0.022000       0.080600       0.371100       0.405300   \n",
       "max         2.763700       2.390100       4.663100       4.621600   \n",
       "\n",
       "                Emg9          Emg10     repetition   rerepetition  \\\n",
       "count  457928.000000  457928.000000  457928.000000  457928.000000   \n",
       "mean        0.156294       0.221862       3.219882       2.347234   \n",
       "std         0.381881       0.358927       3.488817       3.285902   \n",
       "min         0.000000       0.000000       0.000000       0.000000   \n",
       "25%         0.002400       0.009800       0.000000       0.000000   \n",
       "50%         0.002400       0.092800       2.000000       0.000000   \n",
       "75%         0.134300       0.283200       6.000000       5.000000   \n",
       "max         4.665500       4.665500      10.000000      10.000000   \n",
       "\n",
       "            stimulus     restimulus  \n",
       "count  457928.000000  457928.000000  \n",
       "mean        5.706694       4.335299  \n",
       "std         6.594477       6.373268  \n",
       "min         0.000000       0.000000  \n",
       "25%         0.000000       0.000000  \n",
       "50%         3.000000       0.000000  \n",
       "75%        10.000000       8.000000  \n",
       "max        23.000000      23.000000  "
      ]
     },
     "execution_count": 6,
     "metadata": {},
     "output_type": "execute_result"
    }
   ],
   "source": [
    "raw_data.describe(include='all')"
   ]
  },
  {
   "cell_type": "code",
   "execution_count": 7,
   "id": "fd128768",
   "metadata": {},
   "outputs": [
    {
     "name": "stdout",
     "output_type": "stream",
     "text": [
      "Unique Dependent values and their counts :\n",
      "0     189857\n",
      "4      15495\n",
      "12     15494\n",
      "2      15493\n",
      "8      15491\n",
      "7      15490\n",
      "6      15476\n",
      "5      15465\n",
      "11     15465\n",
      "9      15462\n",
      "10     15437\n",
      "1      15433\n",
      "3      15422\n",
      "17     10334\n",
      "14     10330\n",
      "13     10327\n",
      "15     10302\n",
      "16     10249\n",
      "19      5179\n",
      "18      5167\n",
      "21      5160\n",
      "20      5139\n",
      "22      5133\n",
      "23      5128\n",
      "Name: stimulus, dtype: int64\n"
     ]
    }
   ],
   "source": [
    "print(\"Unique Dependent values and their counts :\")\n",
    "print(raw_data[\"stimulus\"].value_counts())"
   ]
  },
  {
   "cell_type": "code",
   "execution_count": 8,
   "id": "93de5c20",
   "metadata": {},
   "outputs": [
    {
     "data": {
      "text/plain": [
       "Text(0, 0.5, 'Frequency')"
      ]
     },
     "execution_count": 8,
     "metadata": {},
     "output_type": "execute_result"
    },
    {
     "data": {
      "image/png": "[encoded data removed]",
      "text/plain": [
       "<Figure size 432x288 with 1 Axes>"
      ]
     },
     "metadata": {
      "needs_background": "light"
     },
     "output_type": "display_data"
    }
   ],
   "source": [
    "count_classes = pd.value_counts(raw_data['stimulus'], sort = True)\n",
    "\n",
    "count_classes.plot(kind = 'bar', rot=0)\n",
    "\n",
    "plt.title(\"stimulus Class Distribution\")\n",
    "\n",
    "plt.xlabel(\"Class\")\n",
    "\n",
    "plt.ylabel(\"Frequency\")"
   ]
  },
  {
   "cell_type": "markdown",
   "id": "359a141d",
   "metadata": {},
   "source": [
    "# Data Cleaning and Exploratory Data Analysis with New Data"
   ]
  },
  {
   "cell_type": "code",
   "execution_count": 9,
   "id": "34a50c05",
   "metadata": {},
   "outputs": [],
   "source": [
    "index_names = raw_data[ (raw_data['stimulus'] != raw_data['restimulus'])].index\n",
    "raw_data.drop(index_names, inplace = True)"
   ]
  },
  {
   "cell_type": "code",
   "execution_count": 10,
   "id": "78d479cc",
   "metadata": {},
   "outputs": [],
   "source": [
    "index_names = raw_data[ (raw_data['repetition'] != raw_data['rerepetition'])].index\n",
    "raw_data.drop(index_names, inplace = True)"
   ]
  },
  {
   "cell_type": "code",
   "execution_count": 11,
   "id": "8418d307",
   "metadata": {},
   "outputs": [
    {
     "data": {
      "text/html": [
       "<div>\n",
       "<style scoped>\n",
       "    .dataframe tbody tr th:only-of-type {\n",
       "        vertical-align: middle;\n",
       "    }\n",
       "\n",
       "    .dataframe tbody tr th {\n",
       "        vertical-align: top;\n",
       "    }\n",
       "\n",
       "    .dataframe thead th {\n",
       "        text-align: right;\n",
       "    }\n",
       "</style>\n",
       "<table border=\"1\" class=\"dataframe\">\n",
       "  <thead>\n",
       "    <tr style=\"text-align: right;\">\n",
       "      <th></th>\n",
       "      <th>Emg1</th>\n",
       "      <th>Emg2</th>\n",
       "      <th>Emg3</th>\n",
       "      <th>Emg4</th>\n",
       "      <th>Emg5</th>\n",
       "      <th>Emg6</th>\n",
       "      <th>Emg7</th>\n",
       "      <th>Emg8</th>\n",
       "      <th>Emg9</th>\n",
       "      <th>Emg10</th>\n",
       "      <th>repetition</th>\n",
       "      <th>rerepetition</th>\n",
       "      <th>stimulus</th>\n",
       "      <th>restimulus</th>\n",
       "    </tr>\n",
       "  </thead>\n",
       "  <tbody>\n",
       "    <tr>\n",
       "      <th>449389</th>\n",
       "      <td>0.0122</td>\n",
       "      <td>0.0024</td>\n",
       "      <td>0.0024</td>\n",
       "      <td>0.0024</td>\n",
       "      <td>0.0024</td>\n",
       "      <td>0.0024</td>\n",
       "      <td>0.0024</td>\n",
       "      <td>0.0024</td>\n",
       "      <td>0.0024</td>\n",
       "      <td>0.0024</td>\n",
       "      <td>0</td>\n",
       "      <td>0</td>\n",
       "      <td>0</td>\n",
       "      <td>0</td>\n",
       "    </tr>\n",
       "    <tr>\n",
       "      <th>128532</th>\n",
       "      <td>0.0024</td>\n",
       "      <td>0.0024</td>\n",
       "      <td>0.0024</td>\n",
       "      <td>0.0024</td>\n",
       "      <td>0.0049</td>\n",
       "      <td>0.0024</td>\n",
       "      <td>0.1538</td>\n",
       "      <td>0.2075</td>\n",
       "      <td>0.0024</td>\n",
       "      <td>0.0049</td>\n",
       "      <td>0</td>\n",
       "      <td>0</td>\n",
       "      <td>0</td>\n",
       "      <td>0</td>\n",
       "    </tr>\n",
       "    <tr>\n",
       "      <th>121909</th>\n",
       "      <td>0.0391</td>\n",
       "      <td>0.0024</td>\n",
       "      <td>0.0024</td>\n",
       "      <td>0.0049</td>\n",
       "      <td>0.0024</td>\n",
       "      <td>0.0024</td>\n",
       "      <td>0.0073</td>\n",
       "      <td>0.0635</td>\n",
       "      <td>0.0024</td>\n",
       "      <td>0.0024</td>\n",
       "      <td>0</td>\n",
       "      <td>0</td>\n",
       "      <td>0</td>\n",
       "      <td>0</td>\n",
       "    </tr>\n",
       "    <tr>\n",
       "      <th>322766</th>\n",
       "      <td>0.0098</td>\n",
       "      <td>0.0024</td>\n",
       "      <td>0.0024</td>\n",
       "      <td>0.0024</td>\n",
       "      <td>0.0024</td>\n",
       "      <td>0.0732</td>\n",
       "      <td>0.3174</td>\n",
       "      <td>0.0903</td>\n",
       "      <td>0.0024</td>\n",
       "      <td>0.3345</td>\n",
       "      <td>9</td>\n",
       "      <td>9</td>\n",
       "      <td>9</td>\n",
       "      <td>9</td>\n",
       "    </tr>\n",
       "    <tr>\n",
       "      <th>181487</th>\n",
       "      <td>0.0024</td>\n",
       "      <td>0.0024</td>\n",
       "      <td>0.0024</td>\n",
       "      <td>0.0024</td>\n",
       "      <td>0.0024</td>\n",
       "      <td>0.0024</td>\n",
       "      <td>0.0513</td>\n",
       "      <td>0.0708</td>\n",
       "      <td>0.0024</td>\n",
       "      <td>0.0024</td>\n",
       "      <td>0</td>\n",
       "      <td>0</td>\n",
       "      <td>0</td>\n",
       "      <td>0</td>\n",
       "    </tr>\n",
       "  </tbody>\n",
       "</table>\n",
       "</div>"
      ],
      "text/plain": [
       "          Emg1    Emg2    Emg3    Emg4    Emg5    Emg6    Emg7    Emg8  \\\n",
       "449389  0.0122  0.0024  0.0024  0.0024  0.0024  0.0024  0.0024  0.0024   \n",
       "128532  0.0024  0.0024  0.0024  0.0024  0.0049  0.0024  0.1538  0.2075   \n",
       "121909  0.0391  0.0024  0.0024  0.0049  0.0024  0.0024  0.0073  0.0635   \n",
       "322766  0.0098  0.0024  0.0024  0.0024  0.0024  0.0732  0.3174  0.0903   \n",
       "181487  0.0024  0.0024  0.0024  0.0024  0.0024  0.0024  0.0513  0.0708   \n",
       "\n",
       "          Emg9   Emg10  repetition  rerepetition  stimulus  restimulus  \n",
       "449389  0.0024  0.0024           0             0         0           0  \n",
       "128532  0.0024  0.0049           0             0         0           0  \n",
       "121909  0.0024  0.0024           0             0         0           0  \n",
       "322766  0.0024  0.3345           9             9         9           9  \n",
       "181487  0.0024  0.0024           0             0         0           0  "
      ]
     },
     "execution_count": 11,
     "metadata": {},
     "output_type": "execute_result"
    }
   ],
   "source": [
    "raw_data.sample(5)"
   ]
  },
  {
   "cell_type": "code",
   "execution_count": 12,
   "id": "ff5d7709",
   "metadata": {},
   "outputs": [
    {
     "data": {
      "text/plain": [
       "(379647, 14)"
      ]
     },
     "execution_count": 12,
     "metadata": {},
     "output_type": "execute_result"
    }
   ],
   "source": [
    "raw_data.shape"
   ]
  },
  {
   "cell_type": "code",
   "execution_count": 13,
   "id": "9df2c3c9",
   "metadata": {},
   "outputs": [
    {
     "name": "stdout",
     "output_type": "stream",
     "text": [
      "<class 'pandas.core.frame.DataFrame'>\n",
      "Int64Index: 379647 entries, 0 to 457927\n",
      "Data columns (total 14 columns):\n",
      " #   Column        Non-Null Count   Dtype  \n",
      "---  ------        --------------   -----  \n",
      " 0   Emg1          379647 non-null  float64\n",
      " 1   Emg2          379647 non-null  float64\n",
      " 2   Emg3          379647 non-null  float64\n",
      " 3   Emg4          379647 non-null  float64\n",
      " 4   Emg5          379647 non-null  float64\n",
      " 5   Emg6          379647 non-null  float64\n",
      " 6   Emg7          379647 non-null  float64\n",
      " 7   Emg8          379647 non-null  float64\n",
      " 8   Emg9          379647 non-null  float64\n",
      " 9   Emg10         379647 non-null  float64\n",
      " 10  repetition    379647 non-null  int64  \n",
      " 11  rerepetition  379647 non-null  int64  \n",
      " 12  stimulus      379647 non-null  int64  \n",
      " 13  restimulus    379647 non-null  int64  \n",
      "dtypes: float64(10), int64(4)\n",
      "memory usage: 43.4 MB\n"
     ]
    }
   ],
   "source": [
    "raw_data.info()"
   ]
  },
  {
   "cell_type": "code",
   "execution_count": 14,
   "id": "fbec9c31",
   "metadata": {},
   "outputs": [
    {
     "name": "stdout",
     "output_type": "stream",
     "text": [
      "Emg1            False\n",
      "Emg2            False\n",
      "Emg3            False\n",
      "Emg4            False\n",
      "Emg5            False\n",
      "Emg6            False\n",
      "Emg7            False\n",
      "Emg8            False\n",
      "Emg9            False\n",
      "Emg10           False\n",
      "repetition      False\n",
      "rerepetition    False\n",
      "stimulus        False\n",
      "restimulus      False\n",
      "dtype: bool\n"
     ]
    }
   ],
   "source": [
    "print(raw_data.isnull().any())"
   ]
  },
  {
   "cell_type": "code",
   "execution_count": 15,
   "id": "3a406dae",
   "metadata": {},
   "outputs": [],
   "source": [
    "X = raw_data.iloc[:,0:10]\n",
    "y = raw_data.stimulus"
   ]
  },
  {
   "cell_type": "markdown",
   "id": "797d6a4c",
   "metadata": {},
   "source": [
    "# Standard Scaler"
   ]
  },
  {
   "cell_type": "code",
   "execution_count": 16,
   "id": "eb46d537",
   "metadata": {},
   "outputs": [],
   "source": [
    "from sklearn.preprocessing import StandardScaler\n",
    "standardscaler=StandardScaler()"
   ]
  },
  {
   "cell_type": "code",
   "execution_count": 17,
   "id": "6e891df5",
   "metadata": {},
   "outputs": [],
   "source": [
    "sc = pd.DataFrame(standardscaler.fit_transform(X))"
   ]
  },
  {
   "cell_type": "code",
   "execution_count": 18,
   "id": "28f47777",
   "metadata": {},
   "outputs": [
    {
     "data": {
      "text/html": [
       "<div>\n",
       "<style scoped>\n",
       "    .dataframe tbody tr th:only-of-type {\n",
       "        vertical-align: middle;\n",
       "    }\n",
       "\n",
       "    .dataframe tbody tr th {\n",
       "        vertical-align: top;\n",
       "    }\n",
       "\n",
       "    .dataframe thead th {\n",
       "        text-align: right;\n",
       "    }\n",
       "</style>\n",
       "<table border=\"1\" class=\"dataframe\">\n",
       "  <thead>\n",
       "    <tr style=\"text-align: right;\">\n",
       "      <th></th>\n",
       "      <th>0</th>\n",
       "      <th>1</th>\n",
       "      <th>2</th>\n",
       "      <th>3</th>\n",
       "      <th>4</th>\n",
       "      <th>5</th>\n",
       "      <th>6</th>\n",
       "      <th>7</th>\n",
       "      <th>8</th>\n",
       "      <th>9</th>\n",
       "    </tr>\n",
       "  </thead>\n",
       "  <tbody>\n",
       "    <tr>\n",
       "      <th>0</th>\n",
       "      <td>-0.216751</td>\n",
       "      <td>-0.460575</td>\n",
       "      <td>-0.412655</td>\n",
       "      <td>-0.426526</td>\n",
       "      <td>-0.472803</td>\n",
       "      <td>-0.490566</td>\n",
       "      <td>-0.777345</td>\n",
       "      <td>-0.606080</td>\n",
       "      <td>-0.442114</td>\n",
       "      <td>-0.569869</td>\n",
       "    </tr>\n",
       "    <tr>\n",
       "      <th>1</th>\n",
       "      <td>-0.216751</td>\n",
       "      <td>-0.460575</td>\n",
       "      <td>-0.412655</td>\n",
       "      <td>-0.426526</td>\n",
       "      <td>-0.472803</td>\n",
       "      <td>-0.490566</td>\n",
       "      <td>-0.783230</td>\n",
       "      <td>-0.613861</td>\n",
       "      <td>-0.442114</td>\n",
       "      <td>-0.569869</td>\n",
       "    </tr>\n",
       "    <tr>\n",
       "      <th>2</th>\n",
       "      <td>-0.216751</td>\n",
       "      <td>-0.460575</td>\n",
       "      <td>-0.412655</td>\n",
       "      <td>-0.426526</td>\n",
       "      <td>-0.472803</td>\n",
       "      <td>-0.506282</td>\n",
       "      <td>-0.795246</td>\n",
       "      <td>-0.625453</td>\n",
       "      <td>-0.442114</td>\n",
       "      <td>-0.576104</td>\n",
       "    </tr>\n",
       "    <tr>\n",
       "      <th>3</th>\n",
       "      <td>-0.186370</td>\n",
       "      <td>-0.460575</td>\n",
       "      <td>-0.412655</td>\n",
       "      <td>-0.426526</td>\n",
       "      <td>-0.472803</td>\n",
       "      <td>-0.506282</td>\n",
       "      <td>-0.801132</td>\n",
       "      <td>-0.633234</td>\n",
       "      <td>-0.442114</td>\n",
       "      <td>-0.582338</td>\n",
       "    </tr>\n",
       "    <tr>\n",
       "      <th>4</th>\n",
       "      <td>-0.186370</td>\n",
       "      <td>-0.460575</td>\n",
       "      <td>-0.412655</td>\n",
       "      <td>-0.426526</td>\n",
       "      <td>-0.472803</td>\n",
       "      <td>-0.537085</td>\n",
       "      <td>-0.807262</td>\n",
       "      <td>-0.637045</td>\n",
       "      <td>-0.442114</td>\n",
       "      <td>-0.595066</td>\n",
       "    </tr>\n",
       "    <tr>\n",
       "      <th>...</th>\n",
       "      <td>...</td>\n",
       "      <td>...</td>\n",
       "      <td>...</td>\n",
       "      <td>...</td>\n",
       "      <td>...</td>\n",
       "      <td>...</td>\n",
       "      <td>...</td>\n",
       "      <td>...</td>\n",
       "      <td>...</td>\n",
       "      <td>...</td>\n",
       "    </tr>\n",
       "    <tr>\n",
       "      <th>379642</th>\n",
       "      <td>-0.157205</td>\n",
       "      <td>-0.040272</td>\n",
       "      <td>-0.234510</td>\n",
       "      <td>-0.379098</td>\n",
       "      <td>-0.307505</td>\n",
       "      <td>0.046284</td>\n",
       "      <td>-0.172623</td>\n",
       "      <td>0.572508</td>\n",
       "      <td>-0.442114</td>\n",
       "      <td>-0.271664</td>\n",
       "    </tr>\n",
       "    <tr>\n",
       "      <th>379643</th>\n",
       "      <td>-0.126824</td>\n",
       "      <td>-0.050597</td>\n",
       "      <td>-0.255115</td>\n",
       "      <td>-0.402328</td>\n",
       "      <td>-0.347986</td>\n",
       "      <td>0.031197</td>\n",
       "      <td>-0.148592</td>\n",
       "      <td>0.607443</td>\n",
       "      <td>-0.442114</td>\n",
       "      <td>-0.290627</td>\n",
       "    </tr>\n",
       "    <tr>\n",
       "      <th>379644</th>\n",
       "      <td>-0.097659</td>\n",
       "      <td>-0.124161</td>\n",
       "      <td>-0.297183</td>\n",
       "      <td>-0.426526</td>\n",
       "      <td>-0.390154</td>\n",
       "      <td>-0.030409</td>\n",
       "      <td>-0.190525</td>\n",
       "      <td>0.541542</td>\n",
       "      <td>-0.442114</td>\n",
       "      <td>-0.341540</td>\n",
       "    </tr>\n",
       "    <tr>\n",
       "      <th>379645</th>\n",
       "      <td>-0.097659</td>\n",
       "      <td>-0.124161</td>\n",
       "      <td>-0.265846</td>\n",
       "      <td>-0.379098</td>\n",
       "      <td>-0.472803</td>\n",
       "      <td>-0.076299</td>\n",
       "      <td>-0.202541</td>\n",
       "      <td>0.603473</td>\n",
       "      <td>-0.442114</td>\n",
       "      <td>-0.366737</td>\n",
       "    </tr>\n",
       "    <tr>\n",
       "      <th>379646</th>\n",
       "      <td>-0.097659</td>\n",
       "      <td>-0.134916</td>\n",
       "      <td>-0.255115</td>\n",
       "      <td>-0.354901</td>\n",
       "      <td>-0.472803</td>\n",
       "      <td>-0.107102</td>\n",
       "      <td>-0.226327</td>\n",
       "      <td>0.638408</td>\n",
       "      <td>-0.442114</td>\n",
       "      <td>-0.392193</td>\n",
       "    </tr>\n",
       "  </tbody>\n",
       "</table>\n",
       "<p>379647 rows × 10 columns</p>\n",
       "</div>"
      ],
      "text/plain": [
       "               0         1         2         3         4         5         6  \\\n",
       "0      -0.216751 -0.460575 -0.412655 -0.426526 -0.472803 -0.490566 -0.777345   \n",
       "1      -0.216751 -0.460575 -0.412655 -0.426526 -0.472803 -0.490566 -0.783230   \n",
       "2      -0.216751 -0.460575 -0.412655 -0.426526 -0.472803 -0.506282 -0.795246   \n",
       "3      -0.186370 -0.460575 -0.412655 -0.426526 -0.472803 -0.506282 -0.801132   \n",
       "4      -0.186370 -0.460575 -0.412655 -0.426526 -0.472803 -0.537085 -0.807262   \n",
       "...          ...       ...       ...       ...       ...       ...       ...   \n",
       "379642 -0.157205 -0.040272 -0.234510 -0.379098 -0.307505  0.046284 -0.172623   \n",
       "379643 -0.126824 -0.050597 -0.255115 -0.402328 -0.347986  0.031197 -0.148592   \n",
       "379644 -0.097659 -0.124161 -0.297183 -0.426526 -0.390154 -0.030409 -0.190525   \n",
       "379645 -0.097659 -0.124161 -0.265846 -0.379098 -0.472803 -0.076299 -0.202541   \n",
       "379646 -0.097659 -0.134916 -0.255115 -0.354901 -0.472803 -0.107102 -0.226327   \n",
       "\n",
       "               7         8         9  \n",
       "0      -0.606080 -0.442114 -0.569869  \n",
       "1      -0.613861 -0.442114 -0.569869  \n",
       "2      -0.625453 -0.442114 -0.576104  \n",
       "3      -0.633234 -0.442114 -0.582338  \n",
       "4      -0.637045 -0.442114 -0.595066  \n",
       "...          ...       ...       ...  \n",
       "379642  0.572508 -0.442114 -0.271664  \n",
       "379643  0.607443 -0.442114 -0.290627  \n",
       "379644  0.541542 -0.442114 -0.341540  \n",
       "379645  0.603473 -0.442114 -0.366737  \n",
       "379646  0.638408 -0.442114 -0.392193  \n",
       "\n",
       "[379647 rows x 10 columns]"
      ]
     },
     "execution_count": 18,
     "metadata": {},
     "output_type": "execute_result"
    }
   ],
   "source": [
    "sc"
   ]
  },
  {
   "cell_type": "code",
   "execution_count": 19,
   "id": "83683085",
   "metadata": {},
   "outputs": [],
   "source": [
    "# Splitting data for training and testing\n",
    "X_train, X_test, y_train, y_test = train_test_split(sc, y, test_size = 0.2, random_state = 39)"
   ]
  },
  {
   "cell_type": "markdown",
   "id": "676e9bd7",
   "metadata": {},
   "source": [
    "# KNeighborsClassifier"
   ]
  },
  {
   "cell_type": "code",
   "execution_count": 20,
   "id": "30a0e188",
   "metadata": {},
   "outputs": [
    {
     "data": {
      "text/plain": [
       "KNeighborsClassifier()"
      ]
     },
     "execution_count": 20,
     "metadata": {},
     "output_type": "execute_result"
    }
   ],
   "source": [
    "from sklearn.neighbors import KNeighborsClassifier\n",
    "KNeighborsClassifier = KNeighborsClassifier()\n",
    "KNeighborsClassifier.fit(X_train, y_train)"
   ]
  },
  {
   "cell_type": "code",
   "execution_count": 21,
   "id": "0249d6ed",
   "metadata": {},
   "outputs": [],
   "source": [
    "y_pred = KNeighborsClassifier.predict(X_test)"
   ]
  },
  {
   "cell_type": "code",
   "execution_count": 22,
   "id": "288d1cf4",
   "metadata": {},
   "outputs": [
    {
     "name": "stdout",
     "output_type": "stream",
     "text": [
      "Accuracy is: 90.56894508099566\n"
     ]
    }
   ],
   "source": [
    "from sklearn.metrics import accuracy_score\n",
    "accuracy = {accuracy_score(y_test, y_pred)}\n",
    "print(f\"Accuracy is: {accuracy_score(y_test, y_pred)* 100}\")"
   ]
  },
  {
   "cell_type": "code",
   "execution_count": 23,
   "id": "9595f210",
   "metadata": {},
   "outputs": [
    {
     "name": "stdout",
     "output_type": "stream",
     "text": [
      "\u001b[1mClassification report : \u001b[0m\n",
      "               precision    recall  f1-score   support\n",
      "\n",
      "           0       0.92      0.98      0.95     37041\n",
      "           1       0.89      0.87      0.88      2126\n",
      "           2       0.88      0.83      0.85      2174\n",
      "           3       0.92      0.90      0.91      2216\n",
      "           4       0.94      0.88      0.91      2193\n",
      "           5       0.90      0.84      0.87      2031\n",
      "           6       0.91      0.84      0.88      2095\n",
      "           7       0.89      0.87      0.88      2427\n",
      "           8       0.84      0.80      0.82      2441\n",
      "           9       0.84      0.76      0.80      2226\n",
      "          10       0.86      0.77      0.81      2206\n",
      "          11       0.86      0.79      0.82      2053\n",
      "          12       0.92      0.86      0.89      2217\n",
      "          13       0.88      0.78      0.83      1352\n",
      "          14       0.91      0.83      0.86      1313\n",
      "          15       0.86      0.83      0.84      1595\n",
      "          16       0.94      0.90      0.92      1472\n",
      "          17       0.90      0.82      0.86      1712\n",
      "          18       0.92      0.79      0.85       786\n",
      "          19       0.77      0.62      0.69       844\n",
      "          20       0.95      0.92      0.93       826\n",
      "          21       0.89      0.81      0.85       761\n",
      "          22       0.93      0.75      0.83       879\n",
      "          23       0.97      0.93      0.95       944\n",
      "\n",
      "    accuracy                           0.91     75930\n",
      "   macro avg       0.90      0.83      0.86     75930\n",
      "weighted avg       0.90      0.91      0.90     75930\n",
      "\n",
      "\u001b[1mConfusion Matrix : \u001b[0m\n"
     ]
    },
    {
     "data": {
      "image/png": "[encoded data removed]",
      "text/plain": [
       "<Figure size 432x288 with 2 Axes>"
      ]
     },
     "metadata": {
      "needs_background": "light"
     },
     "output_type": "display_data"
    }
   ],
   "source": [
    "print('\\033[1m' +'Classification report : '+ '\\033[0m\\n', classification_report(y_test, y_pred))\n",
    "\n",
    "cm = confusion_matrix(y_pred, y_test)\n",
    "print('\\033[1m' +'Confusion Matrix : '+ '\\033[0m')\n",
    "sns.heatmap(cm, cmap = 'OrRd',annot = True, fmt='d')\n",
    "plt.show()"
   ]
  },
  {
   "cell_type": "markdown",
   "id": "12894e89",
   "metadata": {},
   "source": [
    "# Evaluation"
   ]
  },
  {
   "cell_type": "code",
   "execution_count": 24,
   "id": "67c898f1",
   "metadata": {},
   "outputs": [
    {
     "name": "stdout",
     "output_type": "stream",
     "text": [
      "MAE: 0.7638219412616883\n",
      "MSE: 8.885723692875017\n",
      "RMSE: 2.980893103228463\n"
     ]
    }
   ],
   "source": [
    "from sklearn import metrics\n",
    "\n",
    "print('MAE:', metrics.mean_absolute_error(y_test,y_pred))\n",
    "print('MSE:', metrics.mean_squared_error(y_test, y_pred))\n",
    "print('RMSE:', np.sqrt(metrics.mean_squared_error(y_test, y_pred)))"
   ]
  },
  {
   "cell_type": "code",
   "execution_count": 25,
   "id": "1c13a208",
   "metadata": {},
   "outputs": [
    {
     "name": "stdout",
     "output_type": "stream",
     "text": [
      "Precision Score :  0.9045127422046289\n",
      "Recall Score :  0.9056894508099566\n",
      "f1_score :  0.9037678719999532\n"
     ]
    }
   ],
   "source": [
    "from sklearn.metrics import precision_score\n",
    "print(\"Precision Score : \",precision_score(y_test, y_pred, average='weighted'))\n",
    "\n",
    "\n",
    "from sklearn.metrics import recall_score\n",
    "print(\"Recall Score : \",recall_score(y_test, y_pred,average='weighted'))\n",
    "\n",
    "\n",
    "from sklearn.metrics import f1_score\n",
    "print(\"f1_score : \",f1_score(y_test, y_pred,average='weighted'))"
   ]
  },
  {
   "cell_type": "code",
   "execution_count": null,
   "id": "a0b63d90",
   "metadata": {},
   "outputs": [],
   "source": []
  }
 ],
 "metadata": {
  "kernelspec": {
   "display_name": "Python 3 (ipykernel)",
   "language": "python",
   "name": "python3"
  },
  "language_info": {
   "codemirror_mode": {
    "name": "ipython",
    "version": 3
   },
   "file_extension": ".py",
   "mimetype": "text/x-python",
   "name": "python",
   "nbconvert_exporter": "python",
   "pygments_lexer": "ipython3",
   "version": "3.8.12"
  }
 },
 "nbformat": 4,
 "nbformat_minor": 5
}
