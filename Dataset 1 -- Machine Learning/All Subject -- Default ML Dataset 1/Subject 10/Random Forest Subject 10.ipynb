{
 "cells": [
  {
   "cell_type": "markdown",
   "id": "5146ed0c",
   "metadata": {},
   "source": [
    "# Importing Libraries"
   ]
  },
  {
   "cell_type": "code",
   "execution_count": 1,
   "id": "3045e9ed",
   "metadata": {},
   "outputs": [],
   "source": [
    "import numpy as np\n",
    "import pandas as pd\n",
    "import matplotlib.pyplot as plt\n",
    "import seaborn as sns\n",
    "from sklearn.model_selection import train_test_split\n",
    "from sklearn.metrics import confusion_matrix, f1_score, accuracy_score, classification_report"
   ]
  },
  {
   "cell_type": "markdown",
   "id": "42648960",
   "metadata": {},
   "source": [
    "# Exploratory Data Analysis"
   ]
  },
  {
   "cell_type": "code",
   "execution_count": 2,
   "id": "c6cab329",
   "metadata": {
    "scrolled": false
   },
   "outputs": [
    {
     "data": {
      "text/html": [
       "<div>\n",
       "<style scoped>\n",
       "    .dataframe tbody tr th:only-of-type {\n",
       "        vertical-align: middle;\n",
       "    }\n",
       "\n",
       "    .dataframe tbody tr th {\n",
       "        vertical-align: top;\n",
       "    }\n",
       "\n",
       "    .dataframe thead th {\n",
       "        text-align: right;\n",
       "    }\n",
       "</style>\n",
       "<table border=\"1\" class=\"dataframe\">\n",
       "  <thead>\n",
       "    <tr style=\"text-align: right;\">\n",
       "      <th></th>\n",
       "      <th>Emg1</th>\n",
       "      <th>Emg2</th>\n",
       "      <th>Emg3</th>\n",
       "      <th>Emg4</th>\n",
       "      <th>Emg5</th>\n",
       "      <th>Emg6</th>\n",
       "      <th>Emg7</th>\n",
       "      <th>Emg8</th>\n",
       "      <th>Emg9</th>\n",
       "      <th>Emg10</th>\n",
       "      <th>repetition</th>\n",
       "      <th>rerepetition</th>\n",
       "      <th>stimulus</th>\n",
       "      <th>restimulus</th>\n",
       "    </tr>\n",
       "  </thead>\n",
       "  <tbody>\n",
       "    <tr>\n",
       "      <th>172751</th>\n",
       "      <td>0.0073</td>\n",
       "      <td>0.2808</td>\n",
       "      <td>0.1636</td>\n",
       "      <td>0.1099</td>\n",
       "      <td>0.1001</td>\n",
       "      <td>0.1440</td>\n",
       "      <td>0.4663</td>\n",
       "      <td>0.6274</td>\n",
       "      <td>0.3101</td>\n",
       "      <td>0.5151</td>\n",
       "      <td>6</td>\n",
       "      <td>6</td>\n",
       "      <td>9</td>\n",
       "      <td>9</td>\n",
       "    </tr>\n",
       "    <tr>\n",
       "      <th>175724</th>\n",
       "      <td>0.0024</td>\n",
       "      <td>0.0024</td>\n",
       "      <td>0.0024</td>\n",
       "      <td>0.0024</td>\n",
       "      <td>0.0024</td>\n",
       "      <td>0.0024</td>\n",
       "      <td>0.0171</td>\n",
       "      <td>0.0073</td>\n",
       "      <td>0.0098</td>\n",
       "      <td>0.0024</td>\n",
       "      <td>0</td>\n",
       "      <td>0</td>\n",
       "      <td>0</td>\n",
       "      <td>0</td>\n",
       "    </tr>\n",
       "    <tr>\n",
       "      <th>319468</th>\n",
       "      <td>0.0171</td>\n",
       "      <td>0.0195</td>\n",
       "      <td>0.0073</td>\n",
       "      <td>0.0024</td>\n",
       "      <td>0.0049</td>\n",
       "      <td>0.1196</td>\n",
       "      <td>0.5029</td>\n",
       "      <td>0.3687</td>\n",
       "      <td>0.0024</td>\n",
       "      <td>0.2515</td>\n",
       "      <td>5</td>\n",
       "      <td>5</td>\n",
       "      <td>9</td>\n",
       "      <td>9</td>\n",
       "    </tr>\n",
       "    <tr>\n",
       "      <th>301288</th>\n",
       "      <td>0.0024</td>\n",
       "      <td>0.0049</td>\n",
       "      <td>0.0269</td>\n",
       "      <td>0.0024</td>\n",
       "      <td>0.0024</td>\n",
       "      <td>0.0708</td>\n",
       "      <td>0.3687</td>\n",
       "      <td>0.3833</td>\n",
       "      <td>0.0415</td>\n",
       "      <td>0.4028</td>\n",
       "      <td>4</td>\n",
       "      <td>4</td>\n",
       "      <td>7</td>\n",
       "      <td>7</td>\n",
       "    </tr>\n",
       "    <tr>\n",
       "      <th>102961</th>\n",
       "      <td>0.0024</td>\n",
       "      <td>0.5200</td>\n",
       "      <td>0.3027</td>\n",
       "      <td>0.1733</td>\n",
       "      <td>0.1270</td>\n",
       "      <td>0.2612</td>\n",
       "      <td>0.9155</td>\n",
       "      <td>0.6445</td>\n",
       "      <td>0.3906</td>\n",
       "      <td>0.6641</td>\n",
       "      <td>3</td>\n",
       "      <td>3</td>\n",
       "      <td>1</td>\n",
       "      <td>1</td>\n",
       "    </tr>\n",
       "  </tbody>\n",
       "</table>\n",
       "</div>"
      ],
      "text/plain": [
       "          Emg1    Emg2    Emg3    Emg4    Emg5    Emg6    Emg7    Emg8  \\\n",
       "172751  0.0073  0.2808  0.1636  0.1099  0.1001  0.1440  0.4663  0.6274   \n",
       "175724  0.0024  0.0024  0.0024  0.0024  0.0024  0.0024  0.0171  0.0073   \n",
       "319468  0.0171  0.0195  0.0073  0.0024  0.0049  0.1196  0.5029  0.3687   \n",
       "301288  0.0024  0.0049  0.0269  0.0024  0.0024  0.0708  0.3687  0.3833   \n",
       "102961  0.0024  0.5200  0.3027  0.1733  0.1270  0.2612  0.9155  0.6445   \n",
       "\n",
       "          Emg9   Emg10  repetition  rerepetition  stimulus  restimulus  \n",
       "172751  0.3101  0.5151           6             6         9           9  \n",
       "175724  0.0098  0.0024           0             0         0           0  \n",
       "319468  0.0024  0.2515           5             5         9           9  \n",
       "301288  0.0415  0.4028           4             4         7           7  \n",
       "102961  0.3906  0.6641           3             3         1           1  "
      ]
     },
     "execution_count": 2,
     "metadata": {},
     "output_type": "execute_result"
    }
   ],
   "source": [
    "raw_data = pd.read_excel('Dataset 1 Patient 10.xlsx')\n",
    "raw_data.sample(5)"
   ]
  },
  {
   "cell_type": "code",
   "execution_count": 3,
   "id": "8cad9bd6",
   "metadata": {},
   "outputs": [
    {
     "data": {
      "text/plain": [
       "(457928, 14)"
      ]
     },
     "execution_count": 3,
     "metadata": {},
     "output_type": "execute_result"
    }
   ],
   "source": [
    "raw_data.shape"
   ]
  },
  {
   "cell_type": "code",
   "execution_count": 4,
   "id": "d05a18f1",
   "metadata": {},
   "outputs": [
    {
     "data": {
      "text/plain": [
       "Index(['Emg1', 'Emg2', 'Emg3', 'Emg4', 'Emg5', 'Emg6', 'Emg7', 'Emg8', 'Emg9',\n",
       "       'Emg10', 'repetition', 'rerepetition', 'stimulus', 'restimulus'],\n",
       "      dtype='object')"
      ]
     },
     "execution_count": 4,
     "metadata": {},
     "output_type": "execute_result"
    }
   ],
   "source": [
    "raw_data.columns"
   ]
  },
  {
   "cell_type": "code",
   "execution_count": 5,
   "id": "259f05e6",
   "metadata": {},
   "outputs": [
    {
     "name": "stdout",
     "output_type": "stream",
     "text": [
      "<class 'pandas.core.frame.DataFrame'>\n",
      "RangeIndex: 457928 entries, 0 to 457927\n",
      "Data columns (total 14 columns):\n",
      " #   Column        Non-Null Count   Dtype  \n",
      "---  ------        --------------   -----  \n",
      " 0   Emg1          457928 non-null  float64\n",
      " 1   Emg2          457928 non-null  float64\n",
      " 2   Emg3          457928 non-null  float64\n",
      " 3   Emg4          457928 non-null  float64\n",
      " 4   Emg5          457928 non-null  float64\n",
      " 5   Emg6          457928 non-null  float64\n",
      " 6   Emg7          457928 non-null  float64\n",
      " 7   Emg8          457928 non-null  float64\n",
      " 8   Emg9          457928 non-null  float64\n",
      " 9   Emg10         457928 non-null  float64\n",
      " 10  repetition    457928 non-null  int64  \n",
      " 11  rerepetition  457928 non-null  int64  \n",
      " 12  stimulus      457928 non-null  int64  \n",
      " 13  restimulus    457928 non-null  int64  \n",
      "dtypes: float64(10), int64(4)\n",
      "memory usage: 48.9 MB\n"
     ]
    }
   ],
   "source": [
    "raw_data.info()"
   ]
  },
  {
   "cell_type": "code",
   "execution_count": 6,
   "id": "613a1cc1",
   "metadata": {},
   "outputs": [
    {
     "data": {
      "text/html": [
       "<div>\n",
       "<style scoped>\n",
       "    .dataframe tbody tr th:only-of-type {\n",
       "        vertical-align: middle;\n",
       "    }\n",
       "\n",
       "    .dataframe tbody tr th {\n",
       "        vertical-align: top;\n",
       "    }\n",
       "\n",
       "    .dataframe thead th {\n",
       "        text-align: right;\n",
       "    }\n",
       "</style>\n",
       "<table border=\"1\" class=\"dataframe\">\n",
       "  <thead>\n",
       "    <tr style=\"text-align: right;\">\n",
       "      <th></th>\n",
       "      <th>Emg1</th>\n",
       "      <th>Emg2</th>\n",
       "      <th>Emg3</th>\n",
       "      <th>Emg4</th>\n",
       "      <th>Emg5</th>\n",
       "      <th>Emg6</th>\n",
       "      <th>Emg7</th>\n",
       "      <th>Emg8</th>\n",
       "      <th>Emg9</th>\n",
       "      <th>Emg10</th>\n",
       "      <th>repetition</th>\n",
       "      <th>rerepetition</th>\n",
       "      <th>stimulus</th>\n",
       "      <th>restimulus</th>\n",
       "    </tr>\n",
       "  </thead>\n",
       "  <tbody>\n",
       "    <tr>\n",
       "      <th>count</th>\n",
       "      <td>457928.000000</td>\n",
       "      <td>457928.000000</td>\n",
       "      <td>457928.000000</td>\n",
       "      <td>457928.000000</td>\n",
       "      <td>457928.000000</td>\n",
       "      <td>457928.000000</td>\n",
       "      <td>457928.000000</td>\n",
       "      <td>457928.000000</td>\n",
       "      <td>457928.000000</td>\n",
       "      <td>457928.000000</td>\n",
       "      <td>457928.000000</td>\n",
       "      <td>457928.000000</td>\n",
       "      <td>457928.000000</td>\n",
       "      <td>457928.000000</td>\n",
       "    </tr>\n",
       "    <tr>\n",
       "      <th>mean</th>\n",
       "      <td>0.019734</td>\n",
       "      <td>0.092321</td>\n",
       "      <td>0.083216</td>\n",
       "      <td>0.039534</td>\n",
       "      <td>0.026400</td>\n",
       "      <td>0.077164</td>\n",
       "      <td>0.301754</td>\n",
       "      <td>0.385765</td>\n",
       "      <td>0.156294</td>\n",
       "      <td>0.221862</td>\n",
       "      <td>3.219882</td>\n",
       "      <td>2.347234</td>\n",
       "      <td>5.706694</td>\n",
       "      <td>4.335299</td>\n",
       "    </tr>\n",
       "    <tr>\n",
       "      <th>std</th>\n",
       "      <td>0.079264</td>\n",
       "      <td>0.215375</td>\n",
       "      <td>0.215094</td>\n",
       "      <td>0.095570</td>\n",
       "      <td>0.055138</td>\n",
       "      <td>0.147718</td>\n",
       "      <td>0.381117</td>\n",
       "      <td>0.587775</td>\n",
       "      <td>0.381881</td>\n",
       "      <td>0.358927</td>\n",
       "      <td>3.488817</td>\n",
       "      <td>3.285902</td>\n",
       "      <td>6.594477</td>\n",
       "      <td>6.373268</td>\n",
       "    </tr>\n",
       "    <tr>\n",
       "      <th>min</th>\n",
       "      <td>0.000000</td>\n",
       "      <td>0.000000</td>\n",
       "      <td>0.002400</td>\n",
       "      <td>0.000000</td>\n",
       "      <td>0.002400</td>\n",
       "      <td>0.002400</td>\n",
       "      <td>0.002400</td>\n",
       "      <td>0.002400</td>\n",
       "      <td>0.000000</td>\n",
       "      <td>0.000000</td>\n",
       "      <td>0.000000</td>\n",
       "      <td>0.000000</td>\n",
       "      <td>0.000000</td>\n",
       "      <td>0.000000</td>\n",
       "    </tr>\n",
       "    <tr>\n",
       "      <th>25%</th>\n",
       "      <td>0.002400</td>\n",
       "      <td>0.002400</td>\n",
       "      <td>0.002400</td>\n",
       "      <td>0.002400</td>\n",
       "      <td>0.002400</td>\n",
       "      <td>0.002400</td>\n",
       "      <td>0.075700</td>\n",
       "      <td>0.063500</td>\n",
       "      <td>0.002400</td>\n",
       "      <td>0.009800</td>\n",
       "      <td>0.000000</td>\n",
       "      <td>0.000000</td>\n",
       "      <td>0.000000</td>\n",
       "      <td>0.000000</td>\n",
       "    </tr>\n",
       "    <tr>\n",
       "      <th>50%</th>\n",
       "      <td>0.004900</td>\n",
       "      <td>0.002400</td>\n",
       "      <td>0.002400</td>\n",
       "      <td>0.002400</td>\n",
       "      <td>0.002400</td>\n",
       "      <td>0.024400</td>\n",
       "      <td>0.188000</td>\n",
       "      <td>0.151400</td>\n",
       "      <td>0.002400</td>\n",
       "      <td>0.092800</td>\n",
       "      <td>2.000000</td>\n",
       "      <td>0.000000</td>\n",
       "      <td>3.000000</td>\n",
       "      <td>0.000000</td>\n",
       "    </tr>\n",
       "    <tr>\n",
       "      <th>75%</th>\n",
       "      <td>0.014600</td>\n",
       "      <td>0.085400</td>\n",
       "      <td>0.068400</td>\n",
       "      <td>0.029300</td>\n",
       "      <td>0.022000</td>\n",
       "      <td>0.080600</td>\n",
       "      <td>0.371100</td>\n",
       "      <td>0.405300</td>\n",
       "      <td>0.134300</td>\n",
       "      <td>0.283200</td>\n",
       "      <td>6.000000</td>\n",
       "      <td>5.000000</td>\n",
       "      <td>10.000000</td>\n",
       "      <td>8.000000</td>\n",
       "    </tr>\n",
       "    <tr>\n",
       "      <th>max</th>\n",
       "      <td>2.480500</td>\n",
       "      <td>3.320300</td>\n",
       "      <td>4.653300</td>\n",
       "      <td>1.960400</td>\n",
       "      <td>2.763700</td>\n",
       "      <td>2.390100</td>\n",
       "      <td>4.663100</td>\n",
       "      <td>4.621600</td>\n",
       "      <td>4.665500</td>\n",
       "      <td>4.665500</td>\n",
       "      <td>10.000000</td>\n",
       "      <td>10.000000</td>\n",
       "      <td>23.000000</td>\n",
       "      <td>23.000000</td>\n",
       "    </tr>\n",
       "  </tbody>\n",
       "</table>\n",
       "</div>"
      ],
      "text/plain": [
       "                Emg1           Emg2           Emg3           Emg4  \\\n",
       "count  457928.000000  457928.000000  457928.000000  457928.000000   \n",
       "mean        0.019734       0.092321       0.083216       0.039534   \n",
       "std         0.079264       0.215375       0.215094       0.095570   \n",
       "min         0.000000       0.000000       0.002400       0.000000   \n",
       "25%         0.002400       0.002400       0.002400       0.002400   \n",
       "50%         0.004900       0.002400       0.002400       0.002400   \n",
       "75%         0.014600       0.085400       0.068400       0.029300   \n",
       "max         2.480500       3.320300       4.653300       1.960400   \n",
       "\n",
       "                Emg5           Emg6           Emg7           Emg8  \\\n",
       "count  457928.000000  457928.000000  457928.000000  457928.000000   \n",
       "mean        0.026400       0.077164       0.301754       0.385765   \n",
       "std         0.055138       0.147718       0.381117       0.587775   \n",
       "min         0.002400       0.002400       0.002400       0.002400   \n",
       "25%         0.002400       0.002400       0.075700       0.063500   \n",
       "50%         0.002400       0.024400       0.188000       0.151400   \n",
       "75%         0.022000       0.080600       0.371100       0.405300   \n",
       "max         2.763700       2.390100       4.663100       4.621600   \n",
       "\n",
       "                Emg9          Emg10     repetition   rerepetition  \\\n",
       "count  457928.000000  457928.000000  457928.000000  457928.000000   \n",
       "mean        0.156294       0.221862       3.219882       2.347234   \n",
       "std         0.381881       0.358927       3.488817       3.285902   \n",
       "min         0.000000       0.000000       0.000000       0.000000   \n",
       "25%         0.002400       0.009800       0.000000       0.000000   \n",
       "50%         0.002400       0.092800       2.000000       0.000000   \n",
       "75%         0.134300       0.283200       6.000000       5.000000   \n",
       "max         4.665500       4.665500      10.000000      10.000000   \n",
       "\n",
       "            stimulus     restimulus  \n",
       "count  457928.000000  457928.000000  \n",
       "mean        5.706694       4.335299  \n",
       "std         6.594477       6.373268  \n",
       "min         0.000000       0.000000  \n",
       "25%         0.000000       0.000000  \n",
       "50%         3.000000       0.000000  \n",
       "75%        10.000000       8.000000  \n",
       "max        23.000000      23.000000  "
      ]
     },
     "execution_count": 6,
     "metadata": {},
     "output_type": "execute_result"
    }
   ],
   "source": [
    "raw_data.describe(include='all')"
   ]
  },
  {
   "cell_type": "code",
   "execution_count": 7,
   "id": "fd128768",
   "metadata": {},
   "outputs": [
    {
     "name": "stdout",
     "output_type": "stream",
     "text": [
      "Unique Dependent values and their counts :\n",
      "0     189857\n",
      "4      15495\n",
      "12     15494\n",
      "2      15493\n",
      "8      15491\n",
      "7      15490\n",
      "6      15476\n",
      "5      15465\n",
      "11     15465\n",
      "9      15462\n",
      "10     15437\n",
      "1      15433\n",
      "3      15422\n",
      "17     10334\n",
      "14     10330\n",
      "13     10327\n",
      "15     10302\n",
      "16     10249\n",
      "19      5179\n",
      "18      5167\n",
      "21      5160\n",
      "20      5139\n",
      "22      5133\n",
      "23      5128\n",
      "Name: stimulus, dtype: int64\n"
     ]
    }
   ],
   "source": [
    "print(\"Unique Dependent values and their counts :\")\n",
    "print(raw_data[\"stimulus\"].value_counts())"
   ]
  },
  {
   "cell_type": "code",
   "execution_count": 8,
   "id": "93de5c20",
   "metadata": {},
   "outputs": [
    {
     "data": {
      "text/plain": [
       "Text(0, 0.5, 'Frequency')"
      ]
     },
     "execution_count": 8,
     "metadata": {},
     "output_type": "execute_result"
    },
    {
     "data": {
      "image/png": "[encoded data removed]",
      "text/plain": [
       "<Figure size 432x288 with 1 Axes>"
      ]
     },
     "metadata": {
      "needs_background": "light"
     },
     "output_type": "display_data"
    }
   ],
   "source": [
    "count_classes = pd.value_counts(raw_data['stimulus'], sort = True)\n",
    "\n",
    "count_classes.plot(kind = 'bar', rot=0)\n",
    "\n",
    "plt.title(\"stimulus Class Distribution\")\n",
    "\n",
    "plt.xlabel(\"Class\")\n",
    "\n",
    "plt.ylabel(\"Frequency\")"
   ]
  },
  {
   "cell_type": "markdown",
   "id": "359a141d",
   "metadata": {},
   "source": [
    "# Data Cleaning and Exploratory Data Analysis with New Data"
   ]
  },
  {
   "cell_type": "code",
   "execution_count": 9,
   "id": "34a50c05",
   "metadata": {},
   "outputs": [],
   "source": [
    "index_names = raw_data[ (raw_data['stimulus'] != raw_data['restimulus'])].index\n",
    "raw_data.drop(index_names, inplace = True)"
   ]
  },
  {
   "cell_type": "code",
   "execution_count": 10,
   "id": "78d479cc",
   "metadata": {},
   "outputs": [],
   "source": [
    "index_names = raw_data[ (raw_data['repetition'] != raw_data['rerepetition'])].index\n",
    "raw_data.drop(index_names, inplace = True)"
   ]
  },
  {
   "cell_type": "code",
   "execution_count": 11,
   "id": "8418d307",
   "metadata": {},
   "outputs": [
    {
     "data": {
      "text/html": [
       "<div>\n",
       "<style scoped>\n",
       "    .dataframe tbody tr th:only-of-type {\n",
       "        vertical-align: middle;\n",
       "    }\n",
       "\n",
       "    .dataframe tbody tr th {\n",
       "        vertical-align: top;\n",
       "    }\n",
       "\n",
       "    .dataframe thead th {\n",
       "        text-align: right;\n",
       "    }\n",
       "</style>\n",
       "<table border=\"1\" class=\"dataframe\">\n",
       "  <thead>\n",
       "    <tr style=\"text-align: right;\">\n",
       "      <th></th>\n",
       "      <th>Emg1</th>\n",
       "      <th>Emg2</th>\n",
       "      <th>Emg3</th>\n",
       "      <th>Emg4</th>\n",
       "      <th>Emg5</th>\n",
       "      <th>Emg6</th>\n",
       "      <th>Emg7</th>\n",
       "      <th>Emg8</th>\n",
       "      <th>Emg9</th>\n",
       "      <th>Emg10</th>\n",
       "      <th>repetition</th>\n",
       "      <th>rerepetition</th>\n",
       "      <th>stimulus</th>\n",
       "      <th>restimulus</th>\n",
       "    </tr>\n",
       "  </thead>\n",
       "  <tbody>\n",
       "    <tr>\n",
       "      <th>369410</th>\n",
       "      <td>0.0073</td>\n",
       "      <td>0.0024</td>\n",
       "      <td>0.0024</td>\n",
       "      <td>0.0024</td>\n",
       "      <td>0.0024</td>\n",
       "      <td>0.0659</td>\n",
       "      <td>0.3418</td>\n",
       "      <td>0.0366</td>\n",
       "      <td>0.0024</td>\n",
       "      <td>0.1196</td>\n",
       "      <td>0</td>\n",
       "      <td>0</td>\n",
       "      <td>0</td>\n",
       "      <td>0</td>\n",
       "    </tr>\n",
       "    <tr>\n",
       "      <th>202198</th>\n",
       "      <td>0.0073</td>\n",
       "      <td>0.0024</td>\n",
       "      <td>0.0073</td>\n",
       "      <td>0.0024</td>\n",
       "      <td>0.0073</td>\n",
       "      <td>0.0293</td>\n",
       "      <td>0.2222</td>\n",
       "      <td>0.0732</td>\n",
       "      <td>0.0098</td>\n",
       "      <td>0.2148</td>\n",
       "      <td>1</td>\n",
       "      <td>1</td>\n",
       "      <td>13</td>\n",
       "      <td>13</td>\n",
       "    </tr>\n",
       "    <tr>\n",
       "      <th>82194</th>\n",
       "      <td>0.0024</td>\n",
       "      <td>0.0024</td>\n",
       "      <td>0.0024</td>\n",
       "      <td>0.0024</td>\n",
       "      <td>0.0024</td>\n",
       "      <td>0.0024</td>\n",
       "      <td>0.0732</td>\n",
       "      <td>0.0757</td>\n",
       "      <td>0.0024</td>\n",
       "      <td>0.0024</td>\n",
       "      <td>0</td>\n",
       "      <td>0</td>\n",
       "      <td>0</td>\n",
       "      <td>0</td>\n",
       "    </tr>\n",
       "    <tr>\n",
       "      <th>156618</th>\n",
       "      <td>0.0049</td>\n",
       "      <td>0.0269</td>\n",
       "      <td>0.0024</td>\n",
       "      <td>0.0024</td>\n",
       "      <td>0.0024</td>\n",
       "      <td>0.0049</td>\n",
       "      <td>0.1563</td>\n",
       "      <td>0.1514</td>\n",
       "      <td>0.2173</td>\n",
       "      <td>0.0635</td>\n",
       "      <td>7</td>\n",
       "      <td>7</td>\n",
       "      <td>7</td>\n",
       "      <td>7</td>\n",
       "    </tr>\n",
       "    <tr>\n",
       "      <th>188581</th>\n",
       "      <td>0.0024</td>\n",
       "      <td>0.3320</td>\n",
       "      <td>0.2026</td>\n",
       "      <td>0.1611</td>\n",
       "      <td>0.1904</td>\n",
       "      <td>0.3052</td>\n",
       "      <td>0.9058</td>\n",
       "      <td>1.1060</td>\n",
       "      <td>0.1855</td>\n",
       "      <td>0.7520</td>\n",
       "      <td>5</td>\n",
       "      <td>5</td>\n",
       "      <td>11</td>\n",
       "      <td>11</td>\n",
       "    </tr>\n",
       "  </tbody>\n",
       "</table>\n",
       "</div>"
      ],
      "text/plain": [
       "          Emg1    Emg2    Emg3    Emg4    Emg5    Emg6    Emg7    Emg8  \\\n",
       "369410  0.0073  0.0024  0.0024  0.0024  0.0024  0.0659  0.3418  0.0366   \n",
       "202198  0.0073  0.0024  0.0073  0.0024  0.0073  0.0293  0.2222  0.0732   \n",
       "82194   0.0024  0.0024  0.0024  0.0024  0.0024  0.0024  0.0732  0.0757   \n",
       "156618  0.0049  0.0269  0.0024  0.0024  0.0024  0.0049  0.1563  0.1514   \n",
       "188581  0.0024  0.3320  0.2026  0.1611  0.1904  0.3052  0.9058  1.1060   \n",
       "\n",
       "          Emg9   Emg10  repetition  rerepetition  stimulus  restimulus  \n",
       "369410  0.0024  0.1196           0             0         0           0  \n",
       "202198  0.0098  0.2148           1             1        13          13  \n",
       "82194   0.0024  0.0024           0             0         0           0  \n",
       "156618  0.2173  0.0635           7             7         7           7  \n",
       "188581  0.1855  0.7520           5             5        11          11  "
      ]
     },
     "execution_count": 11,
     "metadata": {},
     "output_type": "execute_result"
    }
   ],
   "source": [
    "raw_data.sample(5)"
   ]
  },
  {
   "cell_type": "code",
   "execution_count": 12,
   "id": "ff5d7709",
   "metadata": {},
   "outputs": [
    {
     "data": {
      "text/plain": [
       "(379647, 14)"
      ]
     },
     "execution_count": 12,
     "metadata": {},
     "output_type": "execute_result"
    }
   ],
   "source": [
    "raw_data.shape"
   ]
  },
  {
   "cell_type": "code",
   "execution_count": 13,
   "id": "9df2c3c9",
   "metadata": {},
   "outputs": [
    {
     "name": "stdout",
     "output_type": "stream",
     "text": [
      "<class 'pandas.core.frame.DataFrame'>\n",
      "Int64Index: 379647 entries, 0 to 457927\n",
      "Data columns (total 14 columns):\n",
      " #   Column        Non-Null Count   Dtype  \n",
      "---  ------        --------------   -----  \n",
      " 0   Emg1          379647 non-null  float64\n",
      " 1   Emg2          379647 non-null  float64\n",
      " 2   Emg3          379647 non-null  float64\n",
      " 3   Emg4          379647 non-null  float64\n",
      " 4   Emg5          379647 non-null  float64\n",
      " 5   Emg6          379647 non-null  float64\n",
      " 6   Emg7          379647 non-null  float64\n",
      " 7   Emg8          379647 non-null  float64\n",
      " 8   Emg9          379647 non-null  float64\n",
      " 9   Emg10         379647 non-null  float64\n",
      " 10  repetition    379647 non-null  int64  \n",
      " 11  rerepetition  379647 non-null  int64  \n",
      " 12  stimulus      379647 non-null  int64  \n",
      " 13  restimulus    379647 non-null  int64  \n",
      "dtypes: float64(10), int64(4)\n",
      "memory usage: 43.4 MB\n"
     ]
    }
   ],
   "source": [
    "raw_data.info()"
   ]
  },
  {
   "cell_type": "code",
   "execution_count": 14,
   "id": "fbec9c31",
   "metadata": {},
   "outputs": [
    {
     "name": "stdout",
     "output_type": "stream",
     "text": [
      "Emg1            False\n",
      "Emg2            False\n",
      "Emg3            False\n",
      "Emg4            False\n",
      "Emg5            False\n",
      "Emg6            False\n",
      "Emg7            False\n",
      "Emg8            False\n",
      "Emg9            False\n",
      "Emg10           False\n",
      "repetition      False\n",
      "rerepetition    False\n",
      "stimulus        False\n",
      "restimulus      False\n",
      "dtype: bool\n"
     ]
    }
   ],
   "source": [
    "print(raw_data.isnull().any())"
   ]
  },
  {
   "cell_type": "code",
   "execution_count": 15,
   "id": "3a406dae",
   "metadata": {},
   "outputs": [],
   "source": [
    "X = raw_data.iloc[:,0:10]\n",
    "y = raw_data.stimulus"
   ]
  },
  {
   "cell_type": "code",
   "execution_count": 16,
   "id": "867f6716",
   "metadata": {},
   "outputs": [],
   "source": [
    "# Splitting data for training and testing\n",
    "X_train, X_test, y_train, y_test = train_test_split(X, y, test_size = 0.2, random_state = 39)"
   ]
  },
  {
   "cell_type": "markdown",
   "id": "bff706a6",
   "metadata": {},
   "source": [
    "# Random Forest"
   ]
  },
  {
   "cell_type": "code",
   "execution_count": 17,
   "id": "2a961733",
   "metadata": {},
   "outputs": [
    {
     "data": {
      "text/plain": [
       "RandomForestClassifier()"
      ]
     },
     "execution_count": 17,
     "metadata": {},
     "output_type": "execute_result"
    }
   ],
   "source": [
    "from sklearn.ensemble import RandomForestClassifier\n",
    "RandomForestClassifier = RandomForestClassifier()\n",
    "RandomForestClassifier.fit(X_train, y_train)"
   ]
  },
  {
   "cell_type": "code",
   "execution_count": 18,
   "id": "fb724165",
   "metadata": {},
   "outputs": [],
   "source": [
    "y_pred = RandomForestClassifier.predict(X_test)"
   ]
  },
  {
   "cell_type": "code",
   "execution_count": 19,
   "id": "d3a88351",
   "metadata": {},
   "outputs": [
    {
     "name": "stdout",
     "output_type": "stream",
     "text": [
      "Accuracy is: 92.37587251415778\n"
     ]
    }
   ],
   "source": [
    "from sklearn.metrics import accuracy_score\n",
    "accuracy = {accuracy_score(y_test, y_pred)}\n",
    "print(f\"Accuracy is: {accuracy_score(y_test, y_pred)* 100}\")"
   ]
  },
  {
   "cell_type": "code",
   "execution_count": 20,
   "id": "0f3d2581",
   "metadata": {},
   "outputs": [
    {
     "name": "stdout",
     "output_type": "stream",
     "text": [
      "\u001b[1mClassification report : \u001b[0m\n",
      "               precision    recall  f1-score   support\n",
      "\n",
      "           0       0.92      0.99      0.95     37041\n",
      "           1       0.96      0.89      0.92      2126\n",
      "           2       0.91      0.84      0.87      2174\n",
      "           3       0.95      0.92      0.93      2216\n",
      "           4       0.97      0.89      0.93      2193\n",
      "           5       0.95      0.87      0.91      2031\n",
      "           6       0.95      0.87      0.91      2095\n",
      "           7       0.89      0.88      0.89      2427\n",
      "           8       0.89      0.84      0.87      2441\n",
      "           9       0.88      0.79      0.83      2226\n",
      "          10       0.89      0.81      0.85      2206\n",
      "          11       0.90      0.82      0.86      2053\n",
      "          12       0.95      0.88      0.91      2217\n",
      "          13       0.92      0.85      0.88      1352\n",
      "          14       0.95      0.86      0.90      1313\n",
      "          15       0.90      0.84      0.87      1595\n",
      "          16       0.97      0.92      0.94      1472\n",
      "          17       0.96      0.86      0.91      1712\n",
      "          18       0.95      0.86      0.90       786\n",
      "          19       0.83      0.73      0.78       844\n",
      "          20       0.97      0.96      0.97       826\n",
      "          21       0.93      0.87      0.90       761\n",
      "          22       0.94      0.83      0.88       879\n",
      "          23       0.98      0.96      0.97       944\n",
      "\n",
      "    accuracy                           0.92     75930\n",
      "   macro avg       0.93      0.87      0.90     75930\n",
      "weighted avg       0.92      0.92      0.92     75930\n",
      "\n",
      "\u001b[1mConfusion Matrix : \u001b[0m\n"
     ]
    },
    {
     "data": {
      "image/png": "[encoded data removed]",
      "text/plain": [
       "<Figure size 432x288 with 2 Axes>"
      ]
     },
     "metadata": {
      "needs_background": "light"
     },
     "output_type": "display_data"
    }
   ],
   "source": [
    "print('\\033[1m' +'Classification report : '+ '\\033[0m\\n', classification_report(y_test, y_pred))\n",
    "\n",
    "cm = confusion_matrix(y_pred, y_test)\n",
    "print('\\033[1m' +'Confusion Matrix : '+ '\\033[0m')\n",
    "sns.heatmap(cm, cmap = 'OrRd',annot = True, fmt='d')\n",
    "plt.show()"
   ]
  },
  {
   "cell_type": "markdown",
   "id": "8c265389",
   "metadata": {},
   "source": [
    "# Evaluation"
   ]
  },
  {
   "cell_type": "code",
   "execution_count": 21,
   "id": "02906ef9",
   "metadata": {},
   "outputs": [
    {
     "name": "stdout",
     "output_type": "stream",
     "text": [
      "MAE: 0.6386803634926906\n",
      "MSE: 7.551205057289609\n",
      "RMSE: 2.7479456066832197\n"
     ]
    }
   ],
   "source": [
    "from sklearn import metrics\n",
    "\n",
    "print('MAE:', metrics.mean_absolute_error(y_test,y_pred))\n",
    "print('MSE:', metrics.mean_squared_error(y_test, y_pred))\n",
    "print('RMSE:', np.sqrt(metrics.mean_squared_error(y_test, y_pred)))"
   ]
  },
  {
   "cell_type": "code",
   "execution_count": 22,
   "id": "2d958bfd",
   "metadata": {},
   "outputs": [
    {
     "name": "stdout",
     "output_type": "stream",
     "text": [
      "Precision Score :  0.9239284441301495\n",
      "Recall Score :  0.9237587251415778\n",
      "f1_score :  0.9224671611904894\n"
     ]
    }
   ],
   "source": [
    "from sklearn.metrics import precision_score\n",
    "print(\"Precision Score : \",precision_score(y_test, y_pred, average='weighted'))\n",
    "\n",
    "\n",
    "from sklearn.metrics import recall_score\n",
    "print(\"Recall Score : \",recall_score(y_test, y_pred,average='weighted'))\n",
    "\n",
    "\n",
    "from sklearn.metrics import f1_score\n",
    "print(\"f1_score : \",f1_score(y_test, y_pred,average='weighted'))"
   ]
  },
  {
   "cell_type": "code",
   "execution_count": null,
   "id": "7b2f554b",
   "metadata": {},
   "outputs": [],
   "source": []
  }
 ],
 "metadata": {
  "kernelspec": {
   "display_name": "Python 3 (ipykernel)",
   "language": "python",
   "name": "python3"
  },
  "language_info": {
   "codemirror_mode": {
    "name": "ipython",
    "version": 3
   },
   "file_extension": ".py",
   "mimetype": "text/x-python",
   "name": "python",
   "nbconvert_exporter": "python",
   "pygments_lexer": "ipython3",
   "version": "3.8.12"
  }
 },
 "nbformat": 4,
 "nbformat_minor": 5
}
