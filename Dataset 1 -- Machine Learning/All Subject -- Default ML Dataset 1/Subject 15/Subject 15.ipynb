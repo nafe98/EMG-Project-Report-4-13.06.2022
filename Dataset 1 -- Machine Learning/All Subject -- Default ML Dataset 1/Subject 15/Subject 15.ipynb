{
 "cells": [
  {
   "cell_type": "markdown",
   "id": "a76f9c3f",
   "metadata": {},
   "source": [
    "# Importing Libraries"
   ]
  },
  {
   "cell_type": "code",
   "execution_count": 1,
   "id": "cb8d9727",
   "metadata": {},
   "outputs": [],
   "source": [
    "import numpy as np\n",
    "import pandas as pd\n",
    "import matplotlib.pyplot as plt\n",
    "import seaborn as sns\n",
    "from sklearn.model_selection import train_test_split\n",
    "from sklearn.metrics import confusion_matrix, f1_score, accuracy_score, classification_report"
   ]
  },
  {
   "cell_type": "markdown",
   "id": "576dc0b5",
   "metadata": {},
   "source": [
    "# Exploratory Data Analysis¶"
   ]
  },
  {
   "cell_type": "code",
   "execution_count": 2,
   "id": "c72bb47b",
   "metadata": {},
   "outputs": [
    {
     "data": {
      "text/html": [
       "<div>\n",
       "<style scoped>\n",
       "    .dataframe tbody tr th:only-of-type {\n",
       "        vertical-align: middle;\n",
       "    }\n",
       "\n",
       "    .dataframe tbody tr th {\n",
       "        vertical-align: top;\n",
       "    }\n",
       "\n",
       "    .dataframe thead th {\n",
       "        text-align: right;\n",
       "    }\n",
       "</style>\n",
       "<table border=\"1\" class=\"dataframe\">\n",
       "  <thead>\n",
       "    <tr style=\"text-align: right;\">\n",
       "      <th></th>\n",
       "      <th>Emg1</th>\n",
       "      <th>Emg2</th>\n",
       "      <th>Emg3</th>\n",
       "      <th>Emg4</th>\n",
       "      <th>Emg5</th>\n",
       "      <th>Emg6</th>\n",
       "      <th>Emg7</th>\n",
       "      <th>Emg8</th>\n",
       "      <th>Emg9</th>\n",
       "      <th>Emg10</th>\n",
       "      <th>repetition</th>\n",
       "      <th>rerepetition</th>\n",
       "      <th>stimulus</th>\n",
       "      <th>restimulus</th>\n",
       "    </tr>\n",
       "  </thead>\n",
       "  <tbody>\n",
       "    <tr>\n",
       "      <th>388714</th>\n",
       "      <td>0.6860</td>\n",
       "      <td>0.2979</td>\n",
       "      <td>0.7959</td>\n",
       "      <td>0.2026</td>\n",
       "      <td>0.0806</td>\n",
       "      <td>0.1465</td>\n",
       "      <td>1.2378</td>\n",
       "      <td>0.6934</td>\n",
       "      <td>0.2759</td>\n",
       "      <td>0.3857</td>\n",
       "      <td>9</td>\n",
       "      <td>9</td>\n",
       "      <td>15</td>\n",
       "      <td>15</td>\n",
       "    </tr>\n",
       "    <tr>\n",
       "      <th>379172</th>\n",
       "      <td>0.3638</td>\n",
       "      <td>0.0073</td>\n",
       "      <td>0.0049</td>\n",
       "      <td>0.0024</td>\n",
       "      <td>0.0049</td>\n",
       "      <td>0.0171</td>\n",
       "      <td>0.2124</td>\n",
       "      <td>0.4517</td>\n",
       "      <td>0.0024</td>\n",
       "      <td>0.1123</td>\n",
       "      <td>0</td>\n",
       "      <td>0</td>\n",
       "      <td>0</td>\n",
       "      <td>0</td>\n",
       "    </tr>\n",
       "    <tr>\n",
       "      <th>388758</th>\n",
       "      <td>0.6348</td>\n",
       "      <td>0.1709</td>\n",
       "      <td>0.6494</td>\n",
       "      <td>0.2271</td>\n",
       "      <td>0.0488</td>\n",
       "      <td>0.0708</td>\n",
       "      <td>0.7495</td>\n",
       "      <td>0.7446</td>\n",
       "      <td>0.7178</td>\n",
       "      <td>0.2100</td>\n",
       "      <td>9</td>\n",
       "      <td>9</td>\n",
       "      <td>15</td>\n",
       "      <td>15</td>\n",
       "    </tr>\n",
       "    <tr>\n",
       "      <th>406462</th>\n",
       "      <td>0.6055</td>\n",
       "      <td>0.2100</td>\n",
       "      <td>0.1001</td>\n",
       "      <td>0.0220</td>\n",
       "      <td>0.0244</td>\n",
       "      <td>0.0659</td>\n",
       "      <td>0.4102</td>\n",
       "      <td>1.6187</td>\n",
       "      <td>0.0342</td>\n",
       "      <td>0.1392</td>\n",
       "      <td>8</td>\n",
       "      <td>8</td>\n",
       "      <td>17</td>\n",
       "      <td>17</td>\n",
       "    </tr>\n",
       "    <tr>\n",
       "      <th>291239</th>\n",
       "      <td>0.3271</td>\n",
       "      <td>0.0024</td>\n",
       "      <td>0.0024</td>\n",
       "      <td>0.0024</td>\n",
       "      <td>0.0024</td>\n",
       "      <td>0.0024</td>\n",
       "      <td>0.0439</td>\n",
       "      <td>0.2856</td>\n",
       "      <td>0.0024</td>\n",
       "      <td>0.0220</td>\n",
       "      <td>0</td>\n",
       "      <td>0</td>\n",
       "      <td>0</td>\n",
       "      <td>0</td>\n",
       "    </tr>\n",
       "  </tbody>\n",
       "</table>\n",
       "</div>"
      ],
      "text/plain": [
       "          Emg1    Emg2    Emg3    Emg4    Emg5    Emg6    Emg7    Emg8  \\\n",
       "388714  0.6860  0.2979  0.7959  0.2026  0.0806  0.1465  1.2378  0.6934   \n",
       "379172  0.3638  0.0073  0.0049  0.0024  0.0049  0.0171  0.2124  0.4517   \n",
       "388758  0.6348  0.1709  0.6494  0.2271  0.0488  0.0708  0.7495  0.7446   \n",
       "406462  0.6055  0.2100  0.1001  0.0220  0.0244  0.0659  0.4102  1.6187   \n",
       "291239  0.3271  0.0024  0.0024  0.0024  0.0024  0.0024  0.0439  0.2856   \n",
       "\n",
       "          Emg9   Emg10  repetition  rerepetition  stimulus  restimulus  \n",
       "388714  0.2759  0.3857           9             9        15          15  \n",
       "379172  0.0024  0.1123           0             0         0           0  \n",
       "388758  0.7178  0.2100           9             9        15          15  \n",
       "406462  0.0342  0.1392           8             8        17          17  \n",
       "291239  0.0024  0.0220           0             0         0           0  "
      ]
     },
     "execution_count": 2,
     "metadata": {},
     "output_type": "execute_result"
    }
   ],
   "source": [
    "raw_data = pd.read_excel('Dataset 1 Patient 15.xlsx')\n",
    "raw_data.sample(5)"
   ]
  },
  {
   "cell_type": "code",
   "execution_count": 3,
   "id": "a85e933c",
   "metadata": {},
   "outputs": [
    {
     "data": {
      "text/plain": [
       "(478193, 14)"
      ]
     },
     "execution_count": 3,
     "metadata": {},
     "output_type": "execute_result"
    }
   ],
   "source": [
    "raw_data.shape"
   ]
  },
  {
   "cell_type": "code",
   "execution_count": 4,
   "id": "e05e202f",
   "metadata": {},
   "outputs": [
    {
     "data": {
      "text/plain": [
       "Index(['Emg1', 'Emg2', 'Emg3', 'Emg4', 'Emg5', 'Emg6', 'Emg7', 'Emg8', 'Emg9',\n",
       "       'Emg10', 'repetition', 'rerepetition', 'stimulus', 'restimulus'],\n",
       "      dtype='object')"
      ]
     },
     "execution_count": 4,
     "metadata": {},
     "output_type": "execute_result"
    }
   ],
   "source": [
    "raw_data.columns"
   ]
  },
  {
   "cell_type": "code",
   "execution_count": 5,
   "id": "fde113c0",
   "metadata": {},
   "outputs": [
    {
     "name": "stdout",
     "output_type": "stream",
     "text": [
      "<class 'pandas.core.frame.DataFrame'>\n",
      "RangeIndex: 478193 entries, 0 to 478192\n",
      "Data columns (total 14 columns):\n",
      " #   Column        Non-Null Count   Dtype  \n",
      "---  ------        --------------   -----  \n",
      " 0   Emg1          478193 non-null  float64\n",
      " 1   Emg2          478193 non-null  float64\n",
      " 2   Emg3          478193 non-null  float64\n",
      " 3   Emg4          478193 non-null  float64\n",
      " 4   Emg5          478193 non-null  float64\n",
      " 5   Emg6          478193 non-null  float64\n",
      " 6   Emg7          478193 non-null  float64\n",
      " 7   Emg8          478193 non-null  float64\n",
      " 8   Emg9          478193 non-null  float64\n",
      " 9   Emg10         478193 non-null  float64\n",
      " 10  repetition    478193 non-null  int64  \n",
      " 11  rerepetition  478193 non-null  int64  \n",
      " 12  stimulus      478193 non-null  int64  \n",
      " 13  restimulus    478193 non-null  int64  \n",
      "dtypes: float64(10), int64(4)\n",
      "memory usage: 51.1 MB\n"
     ]
    }
   ],
   "source": [
    "raw_data.info()"
   ]
  },
  {
   "cell_type": "code",
   "execution_count": 6,
   "id": "0ae97d58",
   "metadata": {},
   "outputs": [
    {
     "data": {
      "text/html": [
       "<div>\n",
       "<style scoped>\n",
       "    .dataframe tbody tr th:only-of-type {\n",
       "        vertical-align: middle;\n",
       "    }\n",
       "\n",
       "    .dataframe tbody tr th {\n",
       "        vertical-align: top;\n",
       "    }\n",
       "\n",
       "    .dataframe thead th {\n",
       "        text-align: right;\n",
       "    }\n",
       "</style>\n",
       "<table border=\"1\" class=\"dataframe\">\n",
       "  <thead>\n",
       "    <tr style=\"text-align: right;\">\n",
       "      <th></th>\n",
       "      <th>Emg1</th>\n",
       "      <th>Emg2</th>\n",
       "      <th>Emg3</th>\n",
       "      <th>Emg4</th>\n",
       "      <th>Emg5</th>\n",
       "      <th>Emg6</th>\n",
       "      <th>Emg7</th>\n",
       "      <th>Emg8</th>\n",
       "      <th>Emg9</th>\n",
       "      <th>Emg10</th>\n",
       "      <th>repetition</th>\n",
       "      <th>rerepetition</th>\n",
       "      <th>stimulus</th>\n",
       "      <th>restimulus</th>\n",
       "    </tr>\n",
       "  </thead>\n",
       "  <tbody>\n",
       "    <tr>\n",
       "      <th>count</th>\n",
       "      <td>478193.000000</td>\n",
       "      <td>478193.000000</td>\n",
       "      <td>478193.000000</td>\n",
       "      <td>478193.000000</td>\n",
       "      <td>478193.000000</td>\n",
       "      <td>478193.000000</td>\n",
       "      <td>478193.000000</td>\n",
       "      <td>478193.000000</td>\n",
       "      <td>478193.000000</td>\n",
       "      <td>478193.000000</td>\n",
       "      <td>478193.000000</td>\n",
       "      <td>478193.000000</td>\n",
       "      <td>478193.000000</td>\n",
       "      <td>478193.000000</td>\n",
       "    </tr>\n",
       "    <tr>\n",
       "      <th>mean</th>\n",
       "      <td>0.501572</td>\n",
       "      <td>0.151599</td>\n",
       "      <td>0.169478</td>\n",
       "      <td>0.056115</td>\n",
       "      <td>0.023732</td>\n",
       "      <td>0.065833</td>\n",
       "      <td>0.550883</td>\n",
       "      <td>0.589846</td>\n",
       "      <td>0.165808</td>\n",
       "      <td>0.288571</td>\n",
       "      <td>3.102268</td>\n",
       "      <td>2.235315</td>\n",
       "      <td>5.525838</td>\n",
       "      <td>4.065892</td>\n",
       "    </tr>\n",
       "    <tr>\n",
       "      <th>std</th>\n",
       "      <td>0.428903</td>\n",
       "      <td>0.262973</td>\n",
       "      <td>0.299034</td>\n",
       "      <td>0.130464</td>\n",
       "      <td>0.044097</td>\n",
       "      <td>0.111559</td>\n",
       "      <td>0.646651</td>\n",
       "      <td>0.384964</td>\n",
       "      <td>0.348622</td>\n",
       "      <td>0.376059</td>\n",
       "      <td>3.475910</td>\n",
       "      <td>3.261604</td>\n",
       "      <td>6.578251</td>\n",
       "      <td>6.221459</td>\n",
       "    </tr>\n",
       "    <tr>\n",
       "      <th>min</th>\n",
       "      <td>0.002400</td>\n",
       "      <td>0.000000</td>\n",
       "      <td>0.000000</td>\n",
       "      <td>0.000000</td>\n",
       "      <td>0.000000</td>\n",
       "      <td>0.000000</td>\n",
       "      <td>0.002400</td>\n",
       "      <td>0.002400</td>\n",
       "      <td>0.000000</td>\n",
       "      <td>0.000000</td>\n",
       "      <td>0.000000</td>\n",
       "      <td>0.000000</td>\n",
       "      <td>0.000000</td>\n",
       "      <td>0.000000</td>\n",
       "    </tr>\n",
       "    <tr>\n",
       "      <th>25%</th>\n",
       "      <td>0.217300</td>\n",
       "      <td>0.002400</td>\n",
       "      <td>0.002400</td>\n",
       "      <td>0.002400</td>\n",
       "      <td>0.002400</td>\n",
       "      <td>0.004900</td>\n",
       "      <td>0.124500</td>\n",
       "      <td>0.329600</td>\n",
       "      <td>0.002400</td>\n",
       "      <td>0.051300</td>\n",
       "      <td>0.000000</td>\n",
       "      <td>0.000000</td>\n",
       "      <td>0.000000</td>\n",
       "      <td>0.000000</td>\n",
       "    </tr>\n",
       "    <tr>\n",
       "      <th>50%</th>\n",
       "      <td>0.410200</td>\n",
       "      <td>0.036600</td>\n",
       "      <td>0.019500</td>\n",
       "      <td>0.002400</td>\n",
       "      <td>0.002400</td>\n",
       "      <td>0.024400</td>\n",
       "      <td>0.327100</td>\n",
       "      <td>0.485800</td>\n",
       "      <td>0.002400</td>\n",
       "      <td>0.136700</td>\n",
       "      <td>2.000000</td>\n",
       "      <td>0.000000</td>\n",
       "      <td>3.000000</td>\n",
       "      <td>0.000000</td>\n",
       "    </tr>\n",
       "    <tr>\n",
       "      <th>75%</th>\n",
       "      <td>0.649400</td>\n",
       "      <td>0.178200</td>\n",
       "      <td>0.214800</td>\n",
       "      <td>0.051300</td>\n",
       "      <td>0.022000</td>\n",
       "      <td>0.075700</td>\n",
       "      <td>0.727500</td>\n",
       "      <td>0.737300</td>\n",
       "      <td>0.183100</td>\n",
       "      <td>0.383300</td>\n",
       "      <td>6.000000</td>\n",
       "      <td>4.000000</td>\n",
       "      <td>10.000000</td>\n",
       "      <td>7.000000</td>\n",
       "    </tr>\n",
       "    <tr>\n",
       "      <th>max</th>\n",
       "      <td>4.663100</td>\n",
       "      <td>3.642600</td>\n",
       "      <td>4.658200</td>\n",
       "      <td>3.710900</td>\n",
       "      <td>0.874000</td>\n",
       "      <td>1.750500</td>\n",
       "      <td>4.663100</td>\n",
       "      <td>4.199200</td>\n",
       "      <td>4.658200</td>\n",
       "      <td>3.754900</td>\n",
       "      <td>10.000000</td>\n",
       "      <td>10.000000</td>\n",
       "      <td>23.000000</td>\n",
       "      <td>23.000000</td>\n",
       "    </tr>\n",
       "  </tbody>\n",
       "</table>\n",
       "</div>"
      ],
      "text/plain": [
       "                Emg1           Emg2           Emg3           Emg4  \\\n",
       "count  478193.000000  478193.000000  478193.000000  478193.000000   \n",
       "mean        0.501572       0.151599       0.169478       0.056115   \n",
       "std         0.428903       0.262973       0.299034       0.130464   \n",
       "min         0.002400       0.000000       0.000000       0.000000   \n",
       "25%         0.217300       0.002400       0.002400       0.002400   \n",
       "50%         0.410200       0.036600       0.019500       0.002400   \n",
       "75%         0.649400       0.178200       0.214800       0.051300   \n",
       "max         4.663100       3.642600       4.658200       3.710900   \n",
       "\n",
       "                Emg5           Emg6           Emg7           Emg8  \\\n",
       "count  478193.000000  478193.000000  478193.000000  478193.000000   \n",
       "mean        0.023732       0.065833       0.550883       0.589846   \n",
       "std         0.044097       0.111559       0.646651       0.384964   \n",
       "min         0.000000       0.000000       0.002400       0.002400   \n",
       "25%         0.002400       0.004900       0.124500       0.329600   \n",
       "50%         0.002400       0.024400       0.327100       0.485800   \n",
       "75%         0.022000       0.075700       0.727500       0.737300   \n",
       "max         0.874000       1.750500       4.663100       4.199200   \n",
       "\n",
       "                Emg9          Emg10     repetition   rerepetition  \\\n",
       "count  478193.000000  478193.000000  478193.000000  478193.000000   \n",
       "mean        0.165808       0.288571       3.102268       2.235315   \n",
       "std         0.348622       0.376059       3.475910       3.261604   \n",
       "min         0.000000       0.000000       0.000000       0.000000   \n",
       "25%         0.002400       0.051300       0.000000       0.000000   \n",
       "50%         0.002400       0.136700       2.000000       0.000000   \n",
       "75%         0.183100       0.383300       6.000000       4.000000   \n",
       "max         4.658200       3.754900      10.000000      10.000000   \n",
       "\n",
       "            stimulus     restimulus  \n",
       "count  478193.000000  478193.000000  \n",
       "mean        5.525838       4.065892  \n",
       "std         6.578251       6.221459  \n",
       "min         0.000000       0.000000  \n",
       "25%         0.000000       0.000000  \n",
       "50%         3.000000       0.000000  \n",
       "75%        10.000000       7.000000  \n",
       "max        23.000000      23.000000  "
      ]
     },
     "execution_count": 6,
     "metadata": {},
     "output_type": "execute_result"
    }
   ],
   "source": [
    "raw_data.describe(include='all')"
   ]
  },
  {
   "cell_type": "code",
   "execution_count": 7,
   "id": "071b96e6",
   "metadata": {},
   "outputs": [
    {
     "name": "stdout",
     "output_type": "stream",
     "text": [
      "Unique Dependent values and their counts :\n",
      "0     207859\n",
      "8      15597\n",
      "7      15587\n",
      "12     15585\n",
      "4      15574\n",
      "6      15559\n",
      "9      15555\n",
      "2      15554\n",
      "5      15547\n",
      "11     15531\n",
      "10     15526\n",
      "3      15520\n",
      "1      15515\n",
      "14     10404\n",
      "13     10399\n",
      "17     10398\n",
      "15     10361\n",
      "16     10323\n",
      "19      5929\n",
      "21      5198\n",
      "18      5193\n",
      "20      5161\n",
      "22      5161\n",
      "23      5157\n",
      "Name: stimulus, dtype: int64\n"
     ]
    }
   ],
   "source": [
    "print(\"Unique Dependent values and their counts :\")\n",
    "print(raw_data[\"stimulus\"].value_counts())"
   ]
  },
  {
   "cell_type": "code",
   "execution_count": 8,
   "id": "50a0f9be",
   "metadata": {},
   "outputs": [
    {
     "data": {
      "text/plain": [
       "Text(0, 0.5, 'Frequency')"
      ]
     },
     "execution_count": 8,
     "metadata": {},
     "output_type": "execute_result"
    },
    {
     "data": {
      "image/png": "[encoded data removed]",
      "text/plain": [
       "<Figure size 432x288 with 1 Axes>"
      ]
     },
     "metadata": {
      "needs_background": "light"
     },
     "output_type": "display_data"
    }
   ],
   "source": [
    "count_classes = pd.value_counts(raw_data['stimulus'], sort = True)\n",
    "\n",
    "count_classes.plot(kind = 'bar', rot=0)\n",
    "\n",
    "plt.title(\"stimulus Class Distribution\")\n",
    "\n",
    "plt.xlabel(\"Class\")\n",
    "\n",
    "plt.ylabel(\"Frequency\")"
   ]
  },
  {
   "cell_type": "markdown",
   "id": "275440c4",
   "metadata": {},
   "source": [
    "# Data Cleaning and Exploratory Data Analysis with New Data"
   ]
  },
  {
   "cell_type": "code",
   "execution_count": 9,
   "id": "e8ed6471",
   "metadata": {},
   "outputs": [],
   "source": [
    "index_names = raw_data[ (raw_data['stimulus'] != raw_data['restimulus'])].index\n",
    "raw_data.drop(index_names, inplace = True)"
   ]
  },
  {
   "cell_type": "code",
   "execution_count": 10,
   "id": "395d42c1",
   "metadata": {},
   "outputs": [],
   "source": [
    "index_names = raw_data[ (raw_data['repetition'] != raw_data['rerepetition'])].index\n",
    "raw_data.drop(index_names, inplace = True)"
   ]
  },
  {
   "cell_type": "code",
   "execution_count": 11,
   "id": "5ccb8950",
   "metadata": {},
   "outputs": [
    {
     "data": {
      "text/html": [
       "<div>\n",
       "<style scoped>\n",
       "    .dataframe tbody tr th:only-of-type {\n",
       "        vertical-align: middle;\n",
       "    }\n",
       "\n",
       "    .dataframe tbody tr th {\n",
       "        vertical-align: top;\n",
       "    }\n",
       "\n",
       "    .dataframe thead th {\n",
       "        text-align: right;\n",
       "    }\n",
       "</style>\n",
       "<table border=\"1\" class=\"dataframe\">\n",
       "  <thead>\n",
       "    <tr style=\"text-align: right;\">\n",
       "      <th></th>\n",
       "      <th>Emg1</th>\n",
       "      <th>Emg2</th>\n",
       "      <th>Emg3</th>\n",
       "      <th>Emg4</th>\n",
       "      <th>Emg5</th>\n",
       "      <th>Emg6</th>\n",
       "      <th>Emg7</th>\n",
       "      <th>Emg8</th>\n",
       "      <th>Emg9</th>\n",
       "      <th>Emg10</th>\n",
       "      <th>repetition</th>\n",
       "      <th>rerepetition</th>\n",
       "      <th>stimulus</th>\n",
       "      <th>restimulus</th>\n",
       "    </tr>\n",
       "  </thead>\n",
       "  <tbody>\n",
       "    <tr>\n",
       "      <th>294515</th>\n",
       "      <td>0.5200</td>\n",
       "      <td>0.0195</td>\n",
       "      <td>0.0049</td>\n",
       "      <td>0.0024</td>\n",
       "      <td>0.0024</td>\n",
       "      <td>0.0049</td>\n",
       "      <td>0.1172</td>\n",
       "      <td>0.4712</td>\n",
       "      <td>0.0024</td>\n",
       "      <td>0.0171</td>\n",
       "      <td>0</td>\n",
       "      <td>0</td>\n",
       "      <td>0</td>\n",
       "      <td>0</td>\n",
       "    </tr>\n",
       "    <tr>\n",
       "      <th>246195</th>\n",
       "      <td>0.6689</td>\n",
       "      <td>0.0537</td>\n",
       "      <td>0.0952</td>\n",
       "      <td>0.0610</td>\n",
       "      <td>0.0464</td>\n",
       "      <td>0.2075</td>\n",
       "      <td>1.1133</td>\n",
       "      <td>0.6958</td>\n",
       "      <td>0.1392</td>\n",
       "      <td>0.6909</td>\n",
       "      <td>1</td>\n",
       "      <td>1</td>\n",
       "      <td>1</td>\n",
       "      <td>1</td>\n",
       "    </tr>\n",
       "    <tr>\n",
       "      <th>326872</th>\n",
       "      <td>0.7422</td>\n",
       "      <td>0.2246</td>\n",
       "      <td>0.0879</td>\n",
       "      <td>0.1392</td>\n",
       "      <td>0.0317</td>\n",
       "      <td>0.0537</td>\n",
       "      <td>0.4810</td>\n",
       "      <td>0.8350</td>\n",
       "      <td>0.0439</td>\n",
       "      <td>0.2271</td>\n",
       "      <td>6</td>\n",
       "      <td>6</td>\n",
       "      <td>9</td>\n",
       "      <td>9</td>\n",
       "    </tr>\n",
       "    <tr>\n",
       "      <th>332869</th>\n",
       "      <td>0.4004</td>\n",
       "      <td>0.0024</td>\n",
       "      <td>0.0024</td>\n",
       "      <td>0.0024</td>\n",
       "      <td>0.0024</td>\n",
       "      <td>0.0122</td>\n",
       "      <td>0.4883</td>\n",
       "      <td>0.4980</td>\n",
       "      <td>0.0024</td>\n",
       "      <td>0.0757</td>\n",
       "      <td>0</td>\n",
       "      <td>0</td>\n",
       "      <td>0</td>\n",
       "      <td>0</td>\n",
       "    </tr>\n",
       "    <tr>\n",
       "      <th>158765</th>\n",
       "      <td>1.1255</td>\n",
       "      <td>0.8813</td>\n",
       "      <td>0.6226</td>\n",
       "      <td>0.0732</td>\n",
       "      <td>0.0415</td>\n",
       "      <td>0.1245</td>\n",
       "      <td>1.3818</td>\n",
       "      <td>1.0986</td>\n",
       "      <td>0.5518</td>\n",
       "      <td>0.9546</td>\n",
       "      <td>8</td>\n",
       "      <td>8</td>\n",
       "      <td>7</td>\n",
       "      <td>7</td>\n",
       "    </tr>\n",
       "  </tbody>\n",
       "</table>\n",
       "</div>"
      ],
      "text/plain": [
       "          Emg1    Emg2    Emg3    Emg4    Emg5    Emg6    Emg7    Emg8  \\\n",
       "294515  0.5200  0.0195  0.0049  0.0024  0.0024  0.0049  0.1172  0.4712   \n",
       "246195  0.6689  0.0537  0.0952  0.0610  0.0464  0.2075  1.1133  0.6958   \n",
       "326872  0.7422  0.2246  0.0879  0.1392  0.0317  0.0537  0.4810  0.8350   \n",
       "332869  0.4004  0.0024  0.0024  0.0024  0.0024  0.0122  0.4883  0.4980   \n",
       "158765  1.1255  0.8813  0.6226  0.0732  0.0415  0.1245  1.3818  1.0986   \n",
       "\n",
       "          Emg9   Emg10  repetition  rerepetition  stimulus  restimulus  \n",
       "294515  0.0024  0.0171           0             0         0           0  \n",
       "246195  0.1392  0.6909           1             1         1           1  \n",
       "326872  0.0439  0.2271           6             6         9           9  \n",
       "332869  0.0024  0.0757           0             0         0           0  \n",
       "158765  0.5518  0.9546           8             8         7           7  "
      ]
     },
     "execution_count": 11,
     "metadata": {},
     "output_type": "execute_result"
    }
   ],
   "source": [
    "raw_data.sample(5)"
   ]
  },
  {
   "cell_type": "code",
   "execution_count": 12,
   "id": "ab84cf47",
   "metadata": {},
   "outputs": [
    {
     "data": {
      "text/plain": [
       "(395231, 14)"
      ]
     },
     "execution_count": 12,
     "metadata": {},
     "output_type": "execute_result"
    }
   ],
   "source": [
    "raw_data.shape"
   ]
  },
  {
   "cell_type": "code",
   "execution_count": 13,
   "id": "fcb24936",
   "metadata": {},
   "outputs": [
    {
     "name": "stdout",
     "output_type": "stream",
     "text": [
      "<class 'pandas.core.frame.DataFrame'>\n",
      "Int64Index: 395231 entries, 0 to 478192\n",
      "Data columns (total 14 columns):\n",
      " #   Column        Non-Null Count   Dtype  \n",
      "---  ------        --------------   -----  \n",
      " 0   Emg1          395231 non-null  float64\n",
      " 1   Emg2          395231 non-null  float64\n",
      " 2   Emg3          395231 non-null  float64\n",
      " 3   Emg4          395231 non-null  float64\n",
      " 4   Emg5          395231 non-null  float64\n",
      " 5   Emg6          395231 non-null  float64\n",
      " 6   Emg7          395231 non-null  float64\n",
      " 7   Emg8          395231 non-null  float64\n",
      " 8   Emg9          395231 non-null  float64\n",
      " 9   Emg10         395231 non-null  float64\n",
      " 10  repetition    395231 non-null  int64  \n",
      " 11  rerepetition  395231 non-null  int64  \n",
      " 12  stimulus      395231 non-null  int64  \n",
      " 13  restimulus    395231 non-null  int64  \n",
      "dtypes: float64(10), int64(4)\n",
      "memory usage: 53.3 MB\n"
     ]
    }
   ],
   "source": [
    "raw_data.info()"
   ]
  },
  {
   "cell_type": "code",
   "execution_count": 14,
   "id": "8ada4ef1",
   "metadata": {},
   "outputs": [
    {
     "name": "stdout",
     "output_type": "stream",
     "text": [
      "Emg1            False\n",
      "Emg2            False\n",
      "Emg3            False\n",
      "Emg4            False\n",
      "Emg5            False\n",
      "Emg6            False\n",
      "Emg7            False\n",
      "Emg8            False\n",
      "Emg9            False\n",
      "Emg10           False\n",
      "repetition      False\n",
      "rerepetition    False\n",
      "stimulus        False\n",
      "restimulus      False\n",
      "dtype: bool\n"
     ]
    }
   ],
   "source": [
    "print(raw_data.isnull().any())"
   ]
  },
  {
   "cell_type": "code",
   "execution_count": 15,
   "id": "138ec425",
   "metadata": {},
   "outputs": [],
   "source": [
    "X = raw_data.iloc[:,0:10]\n",
    "y = raw_data.stimulus"
   ]
  },
  {
   "cell_type": "code",
   "execution_count": 16,
   "id": "9c1574d6",
   "metadata": {},
   "outputs": [],
   "source": [
    "# Splitting data for training and testing\n",
    "X_train, X_test, y_train, y_test = train_test_split(X, y, test_size = 0.2, random_state = 39)"
   ]
  },
  {
   "cell_type": "markdown",
   "id": "e657abbe",
   "metadata": {},
   "source": [
    "# Machine Learning Models"
   ]
  },
  {
   "cell_type": "markdown",
   "id": "8743ea5d",
   "metadata": {},
   "source": [
    "# Decision Tree"
   ]
  },
  {
   "cell_type": "code",
   "execution_count": 17,
   "id": "dbe7e4c1",
   "metadata": {},
   "outputs": [
    {
     "data": {
      "text/plain": [
       "DecisionTreeClassifier()"
      ]
     },
     "execution_count": 17,
     "metadata": {},
     "output_type": "execute_result"
    }
   ],
   "source": [
    "from sklearn import tree\n",
    "tree = tree.DecisionTreeClassifier()\n",
    "tree.fit(X_train, y_train)"
   ]
  },
  {
   "cell_type": "code",
   "execution_count": 18,
   "id": "bcb8239c",
   "metadata": {},
   "outputs": [],
   "source": [
    "y_pred1 = tree.predict(X_test)"
   ]
  },
  {
   "cell_type": "code",
   "execution_count": 19,
   "id": "95712989",
   "metadata": {},
   "outputs": [
    {
     "name": "stdout",
     "output_type": "stream",
     "text": [
      "Accuracy is: 81.47810796108644\n"
     ]
    }
   ],
   "source": [
    "from sklearn.metrics import accuracy_score\n",
    "accuracy = {accuracy_score(y_test, y_pred1)}\n",
    "print(f\"Accuracy is: {accuracy_score(y_test, y_pred1)* 100}\")"
   ]
  },
  {
   "cell_type": "code",
   "execution_count": 20,
   "id": "e1e5a0b3",
   "metadata": {},
   "outputs": [
    {
     "name": "stdout",
     "output_type": "stream",
     "text": [
      "\u001b[1mClassification report : \u001b[0m\n",
      "               precision    recall  f1-score   support\n",
      "\n",
      "           0       0.94      0.93      0.93     40780\n",
      "           1       0.74      0.75      0.74      2304\n",
      "           2       0.63      0.65      0.64      1970\n",
      "           3       0.73      0.72      0.72      2146\n",
      "           4       0.70      0.71      0.70      2172\n",
      "           5       0.65      0.67      0.66      1921\n",
      "           6       0.75      0.75      0.75      1967\n",
      "           7       0.66      0.66      0.66      2377\n",
      "           8       0.69      0.69      0.69      2261\n",
      "           9       0.67      0.67      0.67      2141\n",
      "          10       0.70      0.68      0.69      2305\n",
      "          11       0.68      0.69      0.68      2182\n",
      "          12       0.68      0.68      0.68      2233\n",
      "          13       0.63      0.68      0.66      1299\n",
      "          14       0.67      0.66      0.67      1612\n",
      "          15       0.64      0.66      0.65      1578\n",
      "          16       0.71      0.68      0.69      1547\n",
      "          17       0.76      0.74      0.75      1668\n",
      "          18       0.56      0.55      0.56       771\n",
      "          19       0.62      0.59      0.61       784\n",
      "          20       0.72      0.75      0.73       765\n",
      "          21       0.65      0.65      0.65       663\n",
      "          22       0.73      0.72      0.72       763\n",
      "          23       0.75      0.74      0.75       838\n",
      "\n",
      "    accuracy                           0.81     79047\n",
      "   macro avg       0.69      0.69      0.69     79047\n",
      "weighted avg       0.82      0.81      0.82     79047\n",
      "\n",
      "\u001b[1mConfusion Matrix : \u001b[0m\n"
     ]
    },
    {
     "data": {
      "image/png": "[encoded data removed]",
      "text/plain": [
       "<Figure size 432x288 with 2 Axes>"
      ]
     },
     "metadata": {
      "needs_background": "light"
     },
     "output_type": "display_data"
    }
   ],
   "source": [
    "print('\\033[1m' +'Classification report : '+ '\\033[0m\\n', classification_report(y_test, y_pred1))\n",
    "\n",
    "cm = confusion_matrix(y_pred1, y_test)\n",
    "print('\\033[1m' +'Confusion Matrix : '+ '\\033[0m')\n",
    "sns.heatmap(cm, cmap = 'OrRd',annot = True, fmt='d')\n",
    "plt.show()"
   ]
  },
  {
   "cell_type": "markdown",
   "id": "4ebcef17",
   "metadata": {},
   "source": [
    "# Evaluation -- Decision Tree"
   ]
  },
  {
   "cell_type": "code",
   "execution_count": 21,
   "id": "cbae2add",
   "metadata": {},
   "outputs": [
    {
     "name": "stdout",
     "output_type": "stream",
     "text": [
      "MAE: 1.3947018862195908\n",
      "MSE: 15.848963275013599\n",
      "RMSE: 3.981075642965554\n"
     ]
    }
   ],
   "source": [
    "from sklearn import metrics\n",
    "\n",
    "print('MAE:', metrics.mean_absolute_error(y_test,y_pred1))\n",
    "print('MSE:', metrics.mean_squared_error(y_test, y_pred1))\n",
    "print('RMSE:', np.sqrt(metrics.mean_squared_error(y_test, y_pred1)))"
   ]
  },
  {
   "cell_type": "code",
   "execution_count": 22,
   "id": "f7ac1ceb",
   "metadata": {},
   "outputs": [
    {
     "name": "stdout",
     "output_type": "stream",
     "text": [
      "Precision Score :  0.815381651746097\n",
      "Recall Score :  0.8147810796108644\n",
      "f1_score :  0.8150311238374977\n"
     ]
    }
   ],
   "source": [
    "from sklearn.metrics import precision_score\n",
    "print(\"Precision Score : \",precision_score(y_test, y_pred1, average='weighted'))\n",
    "\n",
    "\n",
    "from sklearn.metrics import recall_score\n",
    "print(\"Recall Score : \",recall_score(y_test, y_pred1,average='weighted'))\n",
    "\n",
    "\n",
    "from sklearn.metrics import f1_score\n",
    "print(\"f1_score : \",f1_score(y_test, y_pred1,average='weighted'))"
   ]
  },
  {
   "cell_type": "markdown",
   "id": "f901aeef",
   "metadata": {},
   "source": [
    "# KNeighborsClassifier"
   ]
  },
  {
   "cell_type": "code",
   "execution_count": 23,
   "id": "15fd9ac9",
   "metadata": {},
   "outputs": [
    {
     "data": {
      "text/plain": [
       "KNeighborsClassifier()"
      ]
     },
     "execution_count": 23,
     "metadata": {},
     "output_type": "execute_result"
    }
   ],
   "source": [
    "from sklearn.neighbors import KNeighborsClassifier\n",
    "KNeighborsClassifier = KNeighborsClassifier()\n",
    "KNeighborsClassifier.fit(X_train, y_train)"
   ]
  },
  {
   "cell_type": "code",
   "execution_count": 24,
   "id": "da059a26",
   "metadata": {},
   "outputs": [],
   "source": [
    "y_pred2 = KNeighborsClassifier.predict(X_test)"
   ]
  },
  {
   "cell_type": "code",
   "execution_count": 25,
   "id": "1d358310",
   "metadata": {},
   "outputs": [
    {
     "name": "stdout",
     "output_type": "stream",
     "text": [
      "Accuracy is: 87.86418206889573\n"
     ]
    }
   ],
   "source": [
    "from sklearn.metrics import accuracy_score\n",
    "accuracy = {accuracy_score(y_test, y_pred2)}\n",
    "print(f\"Accuracy is: {accuracy_score(y_test, y_pred2)* 100}\")"
   ]
  },
  {
   "cell_type": "code",
   "execution_count": 26,
   "id": "5e0d6dfd",
   "metadata": {},
   "outputs": [
    {
     "name": "stdout",
     "output_type": "stream",
     "text": [
      "\u001b[1mClassification report : \u001b[0m\n",
      "               precision    recall  f1-score   support\n",
      "\n",
      "           0       0.90      0.99      0.94     40780\n",
      "           1       0.85      0.87      0.86      2304\n",
      "           2       0.79      0.73      0.76      1970\n",
      "           3       0.86      0.81      0.83      2146\n",
      "           4       0.82      0.80      0.81      2172\n",
      "           5       0.83      0.78      0.80      1921\n",
      "           6       0.86      0.83      0.85      1967\n",
      "           7       0.82      0.74      0.78      2377\n",
      "           8       0.86      0.75      0.80      2261\n",
      "           9       0.85      0.72      0.78      2141\n",
      "          10       0.86      0.76      0.81      2305\n",
      "          11       0.85      0.79      0.82      2182\n",
      "          12       0.84      0.79      0.81      2233\n",
      "          13       0.85      0.74      0.79      1299\n",
      "          14       0.83      0.71      0.77      1612\n",
      "          15       0.80      0.74      0.77      1578\n",
      "          16       0.88      0.76      0.82      1547\n",
      "          17       0.91      0.80      0.85      1668\n",
      "          18       0.82      0.51      0.63       771\n",
      "          19       0.84      0.67      0.74       784\n",
      "          20       0.84      0.80      0.82       765\n",
      "          21       0.88      0.72      0.79       663\n",
      "          22       0.94      0.78      0.85       763\n",
      "          23       0.91      0.74      0.82       838\n",
      "\n",
      "    accuracy                           0.88     79047\n",
      "   macro avg       0.85      0.76      0.80     79047\n",
      "weighted avg       0.88      0.88      0.87     79047\n",
      "\n",
      "\u001b[1mConfusion Matrix : \u001b[0m\n"
     ]
    },
    {
     "data": {
      "image/png": "[encoded data removed]",
      "text/plain": [
       "<Figure size 432x288 with 2 Axes>"
      ]
     },
     "metadata": {
      "needs_background": "light"
     },
     "output_type": "display_data"
    }
   ],
   "source": [
    "print('\\033[1m' +'Classification report : '+ '\\033[0m\\n', classification_report(y_test, y_pred2))\n",
    "\n",
    "cm = confusion_matrix(y_pred2, y_test)\n",
    "print('\\033[1m' +'Confusion Matrix : '+ '\\033[0m')\n",
    "sns.heatmap(cm, cmap = 'OrRd',annot = True, fmt='d')\n",
    "plt.show()"
   ]
  },
  {
   "cell_type": "markdown",
   "id": "d8d41935",
   "metadata": {},
   "source": [
    "# Evaluation -- KNeighborsClassifier"
   ]
  },
  {
   "cell_type": "code",
   "execution_count": 27,
   "id": "bd1c5fe9",
   "metadata": {},
   "outputs": [
    {
     "name": "stdout",
     "output_type": "stream",
     "text": [
      "MAE: 0.9741925689779498\n",
      "MSE: 11.516502840082483\n",
      "RMSE: 3.3935973302798437\n"
     ]
    }
   ],
   "source": [
    "from sklearn import metrics\n",
    "\n",
    "print('MAE:', metrics.mean_absolute_error(y_test,y_pred2))\n",
    "print('MSE:', metrics.mean_squared_error(y_test, y_pred2))\n",
    "print('RMSE:', np.sqrt(metrics.mean_squared_error(y_test, y_pred2)))"
   ]
  },
  {
   "cell_type": "code",
   "execution_count": 28,
   "id": "de3e3c02",
   "metadata": {},
   "outputs": [
    {
     "name": "stdout",
     "output_type": "stream",
     "text": [
      "Precision Score :  0.8762077941894045\n",
      "Recall Score :  0.8786418206889572\n",
      "f1_score :  0.8749255874518872\n"
     ]
    }
   ],
   "source": [
    "from sklearn.metrics import precision_score\n",
    "print(\"Precision Score : \",precision_score(y_test, y_pred2, average='weighted'))\n",
    "\n",
    "\n",
    "from sklearn.metrics import recall_score\n",
    "print(\"Recall Score : \",recall_score(y_test, y_pred2,average='weighted'))\n",
    "\n",
    "\n",
    "from sklearn.metrics import f1_score\n",
    "print(\"f1_score : \",f1_score(y_test, y_pred2,average='weighted'))"
   ]
  },
  {
   "cell_type": "markdown",
   "id": "5065ae39",
   "metadata": {},
   "source": [
    "# Random Forest"
   ]
  },
  {
   "cell_type": "code",
   "execution_count": 29,
   "id": "be857e35",
   "metadata": {},
   "outputs": [
    {
     "data": {
      "text/plain": [
       "RandomForestClassifier()"
      ]
     },
     "execution_count": 29,
     "metadata": {},
     "output_type": "execute_result"
    }
   ],
   "source": [
    "from sklearn.ensemble import RandomForestClassifier\n",
    "RandomForestClassifier = RandomForestClassifier()\n",
    "RandomForestClassifier.fit(X_train, y_train)"
   ]
  },
  {
   "cell_type": "code",
   "execution_count": 30,
   "id": "544a9fa7",
   "metadata": {},
   "outputs": [],
   "source": [
    "y_pred3 = RandomForestClassifier.predict(X_test)"
   ]
  },
  {
   "cell_type": "code",
   "execution_count": 31,
   "id": "a0daf4ac",
   "metadata": {},
   "outputs": [
    {
     "name": "stdout",
     "output_type": "stream",
     "text": [
      "Accuracy is: 92.51204979316103\n"
     ]
    }
   ],
   "source": [
    "from sklearn.metrics import accuracy_score\n",
    "accuracy = {accuracy_score(y_test, y_pred3)}\n",
    "print(f\"Accuracy is: {accuracy_score(y_test, y_pred3)* 100}\")"
   ]
  },
  {
   "cell_type": "code",
   "execution_count": 32,
   "id": "17ccca6d",
   "metadata": {},
   "outputs": [
    {
     "name": "stdout",
     "output_type": "stream",
     "text": [
      "\u001b[1mClassification report : \u001b[0m\n",
      "               precision    recall  f1-score   support\n",
      "\n",
      "           0       0.92      0.99      0.96     40780\n",
      "           1       0.93      0.88      0.91      2304\n",
      "           2       0.93      0.81      0.87      1970\n",
      "           3       0.92      0.87      0.90      2146\n",
      "           4       0.91      0.86      0.89      2172\n",
      "           5       0.91      0.84      0.87      1921\n",
      "           6       0.96      0.89      0.92      1967\n",
      "           7       0.89      0.83      0.86      2377\n",
      "           8       0.90      0.84      0.87      2261\n",
      "           9       0.94      0.81      0.87      2141\n",
      "          10       0.92      0.88      0.90      2305\n",
      "          11       0.94      0.87      0.90      2182\n",
      "          12       0.91      0.87      0.89      2233\n",
      "          13       0.93      0.85      0.89      1299\n",
      "          14       0.93      0.84      0.88      1612\n",
      "          15       0.89      0.85      0.87      1578\n",
      "          16       0.93      0.87      0.90      1547\n",
      "          17       0.95      0.88      0.91      1668\n",
      "          18       0.93      0.65      0.76       771\n",
      "          19       0.95      0.76      0.85       784\n",
      "          20       0.94      0.90      0.92       765\n",
      "          21       0.94      0.85      0.89       663\n",
      "          22       0.97      0.90      0.93       763\n",
      "          23       0.94      0.89      0.92       838\n",
      "\n",
      "    accuracy                           0.93     79047\n",
      "   macro avg       0.93      0.85      0.89     79047\n",
      "weighted avg       0.93      0.93      0.92     79047\n",
      "\n",
      "\u001b[1mConfusion Matrix : \u001b[0m\n"
     ]
    },
    {
     "data": {
      "image/png": "[encoded data removed]",
      "text/plain": [
       "<Figure size 432x288 with 2 Axes>"
      ]
     },
     "metadata": {
      "needs_background": "light"
     },
     "output_type": "display_data"
    }
   ],
   "source": [
    "print('\\033[1m' +'Classification report : '+ '\\033[0m\\n', classification_report(y_test, y_pred3))\n",
    "\n",
    "cm = confusion_matrix(y_pred3, y_test)\n",
    "print('\\033[1m' +'Confusion Matrix : '+ '\\033[0m')\n",
    "sns.heatmap(cm, cmap = 'OrRd',annot = True, fmt='d')\n",
    "plt.show()"
   ]
  },
  {
   "cell_type": "markdown",
   "id": "bf149f54",
   "metadata": {},
   "source": [
    "# Evaluation -- Random Forest"
   ]
  },
  {
   "cell_type": "code",
   "execution_count": 33,
   "id": "44b863ad",
   "metadata": {},
   "outputs": [
    {
     "name": "stdout",
     "output_type": "stream",
     "text": [
      "MAE: 0.6081824737181677\n",
      "MSE: 7.2863612787329055\n",
      "RMSE: 2.699326078622756\n"
     ]
    }
   ],
   "source": [
    "from sklearn import metrics\n",
    "\n",
    "print('MAE:', metrics.mean_absolute_error(y_test,y_pred3))\n",
    "print('MSE:', metrics.mean_squared_error(y_test, y_pred3))\n",
    "print('RMSE:', np.sqrt(metrics.mean_squared_error(y_test, y_pred3)))"
   ]
  },
  {
   "cell_type": "code",
   "execution_count": 34,
   "id": "f40def00",
   "metadata": {},
   "outputs": [
    {
     "name": "stdout",
     "output_type": "stream",
     "text": [
      "Precision Score :  0.9252926896093167\n",
      "Recall Score :  0.9251204979316103\n",
      "f1_score :  0.9235064722422182\n"
     ]
    }
   ],
   "source": [
    "from sklearn.metrics import precision_score\n",
    "print(\"Precision Score : \",precision_score(y_test, y_pred3, average='weighted'))\n",
    "\n",
    "\n",
    "from sklearn.metrics import recall_score\n",
    "print(\"Recall Score : \",recall_score(y_test, y_pred3,average='weighted'))\n",
    "\n",
    "\n",
    "from sklearn.metrics import f1_score\n",
    "print(\"f1_score : \",f1_score(y_test, y_pred3,average='weighted'))"
   ]
  },
  {
   "cell_type": "markdown",
   "id": "fc99a8db",
   "metadata": {},
   "source": [
    "# XGBoost"
   ]
  },
  {
   "cell_type": "code",
   "execution_count": 35,
   "id": "cf92a2ce",
   "metadata": {},
   "outputs": [
    {
     "name": "stderr",
     "output_type": "stream",
     "text": [
      "C:\\Users\\nafem\\anaconda3\\lib\\site-packages\\xgboost\\sklearn.py:1224: UserWarning: The use of label encoder in XGBClassifier is deprecated and will be removed in a future release. To remove this warning, do the following: 1) Pass option use_label_encoder=False when constructing XGBClassifier object; and 2) Encode your labels (y) as integers starting with 0, i.e. 0, 1, 2, ..., [num_class - 1].\n",
      "  warnings.warn(label_encoder_deprecation_msg, UserWarning)\n"
     ]
    },
    {
     "name": "stdout",
     "output_type": "stream",
     "text": [
      "[11:20:58] WARNING: C:/Users/Administrator/workspace/xgboost-win64_release_1.5.1/src/learner.cc:1115: Starting in XGBoost 1.3.0, the default evaluation metric used with the objective 'multi:softprob' was changed from 'merror' to 'mlogloss'. Explicitly set eval_metric if you'd like to restore the old behavior.\n"
     ]
    },
    {
     "data": {
      "text/plain": [
       "XGBClassifier(base_score=0.5, booster='gbtree', colsample_bylevel=1,\n",
       "              colsample_bynode=1, colsample_bytree=1, enable_categorical=False,\n",
       "              gamma=0, gpu_id=-1, importance_type=None,\n",
       "              interaction_constraints='', learning_rate=0.300000012,\n",
       "              max_delta_step=0, max_depth=6, min_child_weight=1, missing=nan,\n",
       "              monotone_constraints='()', n_estimators=100, n_jobs=4,\n",
       "              num_parallel_tree=1, objective='multi:softprob', predictor='auto',\n",
       "              random_state=0, reg_alpha=0, reg_lambda=1, scale_pos_weight=None,\n",
       "              subsample=1, tree_method='exact', validate_parameters=1,\n",
       "              verbosity=None)"
      ]
     },
     "execution_count": 35,
     "metadata": {},
     "output_type": "execute_result"
    }
   ],
   "source": [
    "from xgboost import XGBClassifier\n",
    "xgb = XGBClassifier()\n",
    "xgb.fit(X_train, y_train)"
   ]
  },
  {
   "cell_type": "code",
   "execution_count": 36,
   "id": "122b4ba0",
   "metadata": {},
   "outputs": [],
   "source": [
    "y_pred4 = xgb.predict(X_test)"
   ]
  },
  {
   "cell_type": "code",
   "execution_count": 37,
   "id": "022138ba",
   "metadata": {},
   "outputs": [
    {
     "name": "stdout",
     "output_type": "stream",
     "text": [
      "Accuracy is: 84.42445633610383\n"
     ]
    }
   ],
   "source": [
    "from sklearn.metrics import accuracy_score\n",
    "accuracy = {accuracy_score(y_test, y_pred4)}\n",
    "print(f\"Accuracy is: {accuracy_score(y_test, y_pred4)* 100}\")"
   ]
  },
  {
   "cell_type": "code",
   "execution_count": 38,
   "id": "269a9899",
   "metadata": {},
   "outputs": [
    {
     "name": "stdout",
     "output_type": "stream",
     "text": [
      "\u001b[1mClassification report : \u001b[0m\n",
      "               precision    recall  f1-score   support\n",
      "\n",
      "           0       0.90      0.98      0.94     40780\n",
      "           1       0.79      0.75      0.77      2304\n",
      "           2       0.72      0.59      0.65      1970\n",
      "           3       0.79      0.74      0.76      2146\n",
      "           4       0.77      0.68      0.72      2172\n",
      "           5       0.73      0.66      0.69      1921\n",
      "           6       0.87      0.74      0.80      1967\n",
      "           7       0.68      0.64      0.66      2377\n",
      "           8       0.72      0.68      0.70      2261\n",
      "           9       0.80      0.64      0.71      2141\n",
      "          10       0.75      0.72      0.74      2305\n",
      "          11       0.79      0.70      0.74      2182\n",
      "          12       0.70      0.71      0.70      2233\n",
      "          13       0.77      0.68      0.72      1299\n",
      "          14       0.78      0.67      0.72      1612\n",
      "          15       0.70      0.70      0.70      1578\n",
      "          16       0.78      0.74      0.76      1547\n",
      "          17       0.86      0.82      0.84      1668\n",
      "          18       0.77      0.53      0.63       771\n",
      "          19       0.76      0.65      0.70       784\n",
      "          20       0.83      0.78      0.81       765\n",
      "          21       0.81      0.74      0.77       663\n",
      "          22       0.88      0.83      0.85       763\n",
      "          23       0.84      0.81      0.83       838\n",
      "\n",
      "    accuracy                           0.84     79047\n",
      "   macro avg       0.78      0.72      0.75     79047\n",
      "weighted avg       0.84      0.84      0.84     79047\n",
      "\n",
      "\u001b[1mConfusion Matrix : \u001b[0m\n"
     ]
    },
    {
     "data": {
      "image/png": "[encoded data removed]",
      "text/plain": [
       "<Figure size 432x288 with 2 Axes>"
      ]
     },
     "metadata": {
      "needs_background": "light"
     },
     "output_type": "display_data"
    }
   ],
   "source": [
    "print('\\033[1m' +'Classification report : '+ '\\033[0m\\n', classification_report(y_test, y_pred4))\n",
    "\n",
    "cm = confusion_matrix(y_pred4, y_test)\n",
    "print('\\033[1m' +'Confusion Matrix : '+ '\\033[0m')\n",
    "sns.heatmap(cm, cmap = 'OrRd',annot = True, fmt='d')\n",
    "plt.show()"
   ]
  },
  {
   "cell_type": "markdown",
   "id": "3031b603",
   "metadata": {},
   "source": [
    "# Evaluation -- XGBoost"
   ]
  },
  {
   "cell_type": "code",
   "execution_count": 39,
   "id": "f5efef7b",
   "metadata": {},
   "outputs": [
    {
     "name": "stdout",
     "output_type": "stream",
     "text": [
      "MAE: 1.1402709780257316\n",
      "MSE: 12.812187685807178\n",
      "RMSE: 3.579411639614418\n"
     ]
    }
   ],
   "source": [
    "from sklearn import metrics\n",
    "\n",
    "print('MAE:', metrics.mean_absolute_error(y_test,y_pred4))\n",
    "print('MSE:', metrics.mean_squared_error(y_test, y_pred4))\n",
    "print('RMSE:', np.sqrt(metrics.mean_squared_error(y_test, y_pred4)))"
   ]
  },
  {
   "cell_type": "code",
   "execution_count": 40,
   "id": "36005adc",
   "metadata": {},
   "outputs": [
    {
     "name": "stdout",
     "output_type": "stream",
     "text": [
      "Precision Score :  0.8388199824190258\n",
      "Recall Score :  0.8442445633610384\n",
      "f1_score :  0.8395112989601907\n"
     ]
    }
   ],
   "source": [
    "from sklearn.metrics import precision_score\n",
    "print(\"Precision Score : \",precision_score(y_test, y_pred4, average='weighted'))\n",
    "\n",
    "\n",
    "from sklearn.metrics import recall_score\n",
    "print(\"Recall Score : \",recall_score(y_test, y_pred4,average='weighted'))\n",
    "\n",
    "\n",
    "from sklearn.metrics import f1_score\n",
    "print(\"f1_score : \",f1_score(y_test, y_pred4,average='weighted'))"
   ]
  },
  {
   "cell_type": "markdown",
   "id": "5805a6f2",
   "metadata": {},
   "source": [
    "# ExtraTreesClassifier"
   ]
  },
  {
   "cell_type": "code",
   "execution_count": 41,
   "id": "bb5c43f7",
   "metadata": {},
   "outputs": [
    {
     "data": {
      "text/plain": [
       "ExtraTreesClassifier()"
      ]
     },
     "execution_count": 41,
     "metadata": {},
     "output_type": "execute_result"
    }
   ],
   "source": [
    "from sklearn.ensemble import ExtraTreesClassifier\n",
    "extratree = ExtraTreesClassifier()\n",
    "extratree.fit(X_train, y_train)"
   ]
  },
  {
   "cell_type": "code",
   "execution_count": 42,
   "id": "71002958",
   "metadata": {},
   "outputs": [],
   "source": [
    "y_pred5 = extratree.predict(X_test)"
   ]
  },
  {
   "cell_type": "code",
   "execution_count": 43,
   "id": "b61749b4",
   "metadata": {},
   "outputs": [
    {
     "name": "stdout",
     "output_type": "stream",
     "text": [
      "Accuracy is: 93.37862284463674\n"
     ]
    }
   ],
   "source": [
    "from sklearn.metrics import accuracy_score\n",
    "accuracy = {accuracy_score(y_test, y_pred5)}\n",
    "print(f\"Accuracy is: {accuracy_score(y_test, y_pred5)* 100}\")"
   ]
  },
  {
   "cell_type": "code",
   "execution_count": 44,
   "id": "06532654",
   "metadata": {},
   "outputs": [
    {
     "name": "stdout",
     "output_type": "stream",
     "text": [
      "\u001b[1mClassification report : \u001b[0m\n",
      "               precision    recall  f1-score   support\n",
      "\n",
      "           0       0.92      1.00      0.96     40780\n",
      "           1       0.94      0.90      0.92      2304\n",
      "           2       0.96      0.82      0.88      1970\n",
      "           3       0.94      0.88      0.91      2146\n",
      "           4       0.94      0.87      0.91      2172\n",
      "           5       0.95      0.85      0.90      1921\n",
      "           6       0.97      0.91      0.94      1967\n",
      "           7       0.92      0.84      0.88      2377\n",
      "           8       0.94      0.85      0.89      2261\n",
      "           9       0.96      0.82      0.88      2141\n",
      "          10       0.95      0.90      0.92      2305\n",
      "          11       0.96      0.89      0.92      2182\n",
      "          12       0.93      0.88      0.91      2233\n",
      "          13       0.96      0.87      0.91      1299\n",
      "          14       0.95      0.86      0.90      1612\n",
      "          15       0.91      0.87      0.89      1578\n",
      "          16       0.95      0.89      0.92      1547\n",
      "          17       0.96      0.89      0.93      1668\n",
      "          18       0.95      0.67      0.79       771\n",
      "          19       0.96      0.78      0.86       784\n",
      "          20       0.96      0.91      0.94       765\n",
      "          21       0.96      0.86      0.91       663\n",
      "          22       0.99      0.92      0.95       763\n",
      "          23       0.97      0.91      0.94       838\n",
      "\n",
      "    accuracy                           0.93     79047\n",
      "   macro avg       0.95      0.87      0.91     79047\n",
      "weighted avg       0.93      0.93      0.93     79047\n",
      "\n",
      "\u001b[1mConfusion Matrix : \u001b[0m\n"
     ]
    },
    {
     "data": {
      "image/png": "[encoded data removed]",
      "text/plain": [
       "<Figure size 432x288 with 2 Axes>"
      ]
     },
     "metadata": {
      "needs_background": "light"
     },
     "output_type": "display_data"
    }
   ],
   "source": [
    "print('\\033[1m' +'Classification report : '+ '\\033[0m\\n', classification_report(y_test, y_pred5))\n",
    "\n",
    "cm = confusion_matrix(y_pred5, y_test)\n",
    "print('\\033[1m' +'Confusion Matrix : '+ '\\033[0m')\n",
    "sns.heatmap(cm, cmap = 'OrRd',annot = True, fmt='d')\n",
    "plt.show()"
   ]
  },
  {
   "cell_type": "markdown",
   "id": "2b86af64",
   "metadata": {},
   "source": [
    "# Evaluation -- ExtraTreesClassifier"
   ]
  },
  {
   "cell_type": "code",
   "execution_count": 45,
   "id": "a9e47f87",
   "metadata": {},
   "outputs": [
    {
     "name": "stdout",
     "output_type": "stream",
     "text": [
      "MAE: 0.561906207699217\n",
      "MSE: 6.907067946917657\n",
      "RMSE: 2.6281301236654278\n"
     ]
    }
   ],
   "source": [
    "from sklearn import metrics\n",
    "\n",
    "print('MAE:', metrics.mean_absolute_error(y_test,y_pred5))\n",
    "print('MSE:', metrics.mean_squared_error(y_test, y_pred5))\n",
    "print('RMSE:', np.sqrt(metrics.mean_squared_error(y_test, y_pred5)))"
   ]
  },
  {
   "cell_type": "code",
   "execution_count": 46,
   "id": "6d09ec03",
   "metadata": {},
   "outputs": [
    {
     "name": "stdout",
     "output_type": "stream",
     "text": [
      "Precision Score :  0.9348868382336095\n",
      "Recall Score :  0.9337862284463674\n",
      "f1_score :  0.9324606601418759\n"
     ]
    }
   ],
   "source": [
    "from sklearn.metrics import precision_score\n",
    "print(\"Precision Score : \",precision_score(y_test, y_pred5, average='weighted'))\n",
    "\n",
    "\n",
    "from sklearn.metrics import recall_score\n",
    "print(\"Recall Score : \",recall_score(y_test, y_pred5,average='weighted'))\n",
    "\n",
    "\n",
    "from sklearn.metrics import f1_score\n",
    "print(\"f1_score : \",f1_score(y_test, y_pred5,average='weighted'))"
   ]
  },
  {
   "cell_type": "code",
   "execution_count": null,
   "id": "292f2127",
   "metadata": {},
   "outputs": [],
   "source": []
  }
 ],
 "metadata": {
  "kernelspec": {
   "display_name": "Python 3 (ipykernel)",
   "language": "python",
   "name": "python3"
  },
  "language_info": {
   "codemirror_mode": {
    "name": "ipython",
    "version": 3
   },
   "file_extension": ".py",
   "mimetype": "text/x-python",
   "name": "python",
   "nbconvert_exporter": "python",
   "pygments_lexer": "ipython3",
   "version": "3.8.12"
  }
 },
 "nbformat": 4,
 "nbformat_minor": 5
}
