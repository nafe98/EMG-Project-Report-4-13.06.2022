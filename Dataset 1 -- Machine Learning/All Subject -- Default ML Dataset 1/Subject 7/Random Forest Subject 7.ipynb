{
 "cells": [
  {
   "cell_type": "markdown",
   "id": "5146ed0c",
   "metadata": {},
   "source": [
    "# Importing Libraries"
   ]
  },
  {
   "cell_type": "code",
   "execution_count": 1,
   "id": "3045e9ed",
   "metadata": {},
   "outputs": [],
   "source": [
    "import numpy as np\n",
    "import pandas as pd\n",
    "import matplotlib.pyplot as plt\n",
    "import seaborn as sns\n",
    "from sklearn.model_selection import train_test_split\n",
    "from sklearn.metrics import confusion_matrix, f1_score, accuracy_score, classification_report"
   ]
  },
  {
   "cell_type": "markdown",
   "id": "42648960",
   "metadata": {},
   "source": [
    "# Exploratory Data Analysis"
   ]
  },
  {
   "cell_type": "code",
   "execution_count": 2,
   "id": "c6cab329",
   "metadata": {
    "scrolled": false
   },
   "outputs": [
    {
     "data": {
      "text/html": [
       "<div>\n",
       "<style scoped>\n",
       "    .dataframe tbody tr th:only-of-type {\n",
       "        vertical-align: middle;\n",
       "    }\n",
       "\n",
       "    .dataframe tbody tr th {\n",
       "        vertical-align: top;\n",
       "    }\n",
       "\n",
       "    .dataframe thead th {\n",
       "        text-align: right;\n",
       "    }\n",
       "</style>\n",
       "<table border=\"1\" class=\"dataframe\">\n",
       "  <thead>\n",
       "    <tr style=\"text-align: right;\">\n",
       "      <th></th>\n",
       "      <th>Emg1</th>\n",
       "      <th>Emg2</th>\n",
       "      <th>Emg3</th>\n",
       "      <th>Emg4</th>\n",
       "      <th>Emg5</th>\n",
       "      <th>Emg6</th>\n",
       "      <th>Emg7</th>\n",
       "      <th>Emg8</th>\n",
       "      <th>Emg9</th>\n",
       "      <th>Emg10</th>\n",
       "      <th>repetition</th>\n",
       "      <th>rerepetition</th>\n",
       "      <th>stimulus</th>\n",
       "      <th>restimulus</th>\n",
       "    </tr>\n",
       "  </thead>\n",
       "  <tbody>\n",
       "    <tr>\n",
       "      <th>291693</th>\n",
       "      <td>0.0024</td>\n",
       "      <td>0.0269</td>\n",
       "      <td>0.0024</td>\n",
       "      <td>0.0024</td>\n",
       "      <td>0.0488</td>\n",
       "      <td>0.3613</td>\n",
       "      <td>0.6201</td>\n",
       "      <td>0.1294</td>\n",
       "      <td>0.0024</td>\n",
       "      <td>0.4834</td>\n",
       "      <td>0</td>\n",
       "      <td>0</td>\n",
       "      <td>0</td>\n",
       "      <td>0</td>\n",
       "    </tr>\n",
       "    <tr>\n",
       "      <th>38519</th>\n",
       "      <td>0.0049</td>\n",
       "      <td>0.0024</td>\n",
       "      <td>0.0024</td>\n",
       "      <td>0.0024</td>\n",
       "      <td>0.0024</td>\n",
       "      <td>0.1196</td>\n",
       "      <td>0.2319</td>\n",
       "      <td>0.0342</td>\n",
       "      <td>0.0024</td>\n",
       "      <td>0.6519</td>\n",
       "      <td>0</td>\n",
       "      <td>0</td>\n",
       "      <td>0</td>\n",
       "      <td>0</td>\n",
       "    </tr>\n",
       "    <tr>\n",
       "      <th>410675</th>\n",
       "      <td>0.0464</td>\n",
       "      <td>0.0024</td>\n",
       "      <td>0.0024</td>\n",
       "      <td>0.0024</td>\n",
       "      <td>0.0391</td>\n",
       "      <td>0.0806</td>\n",
       "      <td>0.3540</td>\n",
       "      <td>0.3442</td>\n",
       "      <td>0.0024</td>\n",
       "      <td>0.1709</td>\n",
       "      <td>10</td>\n",
       "      <td>0</td>\n",
       "      <td>18</td>\n",
       "      <td>0</td>\n",
       "    </tr>\n",
       "    <tr>\n",
       "      <th>30991</th>\n",
       "      <td>0.0024</td>\n",
       "      <td>0.0024</td>\n",
       "      <td>0.0024</td>\n",
       "      <td>0.0024</td>\n",
       "      <td>0.0024</td>\n",
       "      <td>0.0732</td>\n",
       "      <td>0.3394</td>\n",
       "      <td>0.2856</td>\n",
       "      <td>0.0024</td>\n",
       "      <td>0.2026</td>\n",
       "      <td>0</td>\n",
       "      <td>0</td>\n",
       "      <td>0</td>\n",
       "      <td>0</td>\n",
       "    </tr>\n",
       "    <tr>\n",
       "      <th>325598</th>\n",
       "      <td>0.0049</td>\n",
       "      <td>0.0073</td>\n",
       "      <td>0.0024</td>\n",
       "      <td>0.0024</td>\n",
       "      <td>0.0073</td>\n",
       "      <td>0.2979</td>\n",
       "      <td>0.2148</td>\n",
       "      <td>0.1416</td>\n",
       "      <td>0.0024</td>\n",
       "      <td>0.3784</td>\n",
       "      <td>0</td>\n",
       "      <td>0</td>\n",
       "      <td>0</td>\n",
       "      <td>0</td>\n",
       "    </tr>\n",
       "  </tbody>\n",
       "</table>\n",
       "</div>"
      ],
      "text/plain": [
       "          Emg1    Emg2    Emg3    Emg4    Emg5    Emg6    Emg7    Emg8  \\\n",
       "291693  0.0024  0.0269  0.0024  0.0024  0.0488  0.3613  0.6201  0.1294   \n",
       "38519   0.0049  0.0024  0.0024  0.0024  0.0024  0.1196  0.2319  0.0342   \n",
       "410675  0.0464  0.0024  0.0024  0.0024  0.0391  0.0806  0.3540  0.3442   \n",
       "30991   0.0024  0.0024  0.0024  0.0024  0.0024  0.0732  0.3394  0.2856   \n",
       "325598  0.0049  0.0073  0.0024  0.0024  0.0073  0.2979  0.2148  0.1416   \n",
       "\n",
       "          Emg9   Emg10  repetition  rerepetition  stimulus  restimulus  \n",
       "291693  0.0024  0.4834           0             0         0           0  \n",
       "38519   0.0024  0.6519           0             0         0           0  \n",
       "410675  0.0024  0.1709          10             0        18           0  \n",
       "30991   0.0024  0.2026           0             0         0           0  \n",
       "325598  0.0024  0.3784           0             0         0           0  "
      ]
     },
     "execution_count": 2,
     "metadata": {},
     "output_type": "execute_result"
    }
   ],
   "source": [
    "raw_data = pd.read_excel('Dataset 1 Patient 7.xlsx')\n",
    "raw_data.sample(5)"
   ]
  },
  {
   "cell_type": "code",
   "execution_count": 3,
   "id": "8cad9bd6",
   "metadata": {},
   "outputs": [
    {
     "data": {
      "text/plain": [
       "(465343, 14)"
      ]
     },
     "execution_count": 3,
     "metadata": {},
     "output_type": "execute_result"
    }
   ],
   "source": [
    "raw_data.shape"
   ]
  },
  {
   "cell_type": "code",
   "execution_count": 4,
   "id": "d05a18f1",
   "metadata": {},
   "outputs": [
    {
     "data": {
      "text/plain": [
       "Index(['Emg1', 'Emg2', 'Emg3', 'Emg4', 'Emg5', 'Emg6', 'Emg7', 'Emg8', 'Emg9',\n",
       "       'Emg10', 'repetition', 'rerepetition', 'stimulus', 'restimulus'],\n",
       "      dtype='object')"
      ]
     },
     "execution_count": 4,
     "metadata": {},
     "output_type": "execute_result"
    }
   ],
   "source": [
    "raw_data.columns"
   ]
  },
  {
   "cell_type": "code",
   "execution_count": 5,
   "id": "259f05e6",
   "metadata": {},
   "outputs": [
    {
     "name": "stdout",
     "output_type": "stream",
     "text": [
      "<class 'pandas.core.frame.DataFrame'>\n",
      "RangeIndex: 465343 entries, 0 to 465342\n",
      "Data columns (total 14 columns):\n",
      " #   Column        Non-Null Count   Dtype  \n",
      "---  ------        --------------   -----  \n",
      " 0   Emg1          465343 non-null  float64\n",
      " 1   Emg2          465343 non-null  float64\n",
      " 2   Emg3          465343 non-null  float64\n",
      " 3   Emg4          465343 non-null  float64\n",
      " 4   Emg5          465343 non-null  float64\n",
      " 5   Emg6          465343 non-null  float64\n",
      " 6   Emg7          465343 non-null  float64\n",
      " 7   Emg8          465343 non-null  float64\n",
      " 8   Emg9          465343 non-null  float64\n",
      " 9   Emg10         465343 non-null  float64\n",
      " 10  repetition    465343 non-null  int64  \n",
      " 11  rerepetition  465343 non-null  int64  \n",
      " 12  stimulus      465343 non-null  int64  \n",
      " 13  restimulus    465343 non-null  int64  \n",
      "dtypes: float64(10), int64(4)\n",
      "memory usage: 49.7 MB\n"
     ]
    }
   ],
   "source": [
    "raw_data.info()"
   ]
  },
  {
   "cell_type": "code",
   "execution_count": 6,
   "id": "613a1cc1",
   "metadata": {},
   "outputs": [
    {
     "data": {
      "text/html": [
       "<div>\n",
       "<style scoped>\n",
       "    .dataframe tbody tr th:only-of-type {\n",
       "        vertical-align: middle;\n",
       "    }\n",
       "\n",
       "    .dataframe tbody tr th {\n",
       "        vertical-align: top;\n",
       "    }\n",
       "\n",
       "    .dataframe thead th {\n",
       "        text-align: right;\n",
       "    }\n",
       "</style>\n",
       "<table border=\"1\" class=\"dataframe\">\n",
       "  <thead>\n",
       "    <tr style=\"text-align: right;\">\n",
       "      <th></th>\n",
       "      <th>Emg1</th>\n",
       "      <th>Emg2</th>\n",
       "      <th>Emg3</th>\n",
       "      <th>Emg4</th>\n",
       "      <th>Emg5</th>\n",
       "      <th>Emg6</th>\n",
       "      <th>Emg7</th>\n",
       "      <th>Emg8</th>\n",
       "      <th>Emg9</th>\n",
       "      <th>Emg10</th>\n",
       "      <th>repetition</th>\n",
       "      <th>rerepetition</th>\n",
       "      <th>stimulus</th>\n",
       "      <th>restimulus</th>\n",
       "    </tr>\n",
       "  </thead>\n",
       "  <tbody>\n",
       "    <tr>\n",
       "      <th>count</th>\n",
       "      <td>465343.000000</td>\n",
       "      <td>465343.000000</td>\n",
       "      <td>465343.000000</td>\n",
       "      <td>465343.000000</td>\n",
       "      <td>465343.000000</td>\n",
       "      <td>465343.000000</td>\n",
       "      <td>465343.000000</td>\n",
       "      <td>465343.000000</td>\n",
       "      <td>465343.000000</td>\n",
       "      <td>465343.000000</td>\n",
       "      <td>465343.000000</td>\n",
       "      <td>465343.000000</td>\n",
       "      <td>465343.000000</td>\n",
       "      <td>465343.000000</td>\n",
       "    </tr>\n",
       "    <tr>\n",
       "      <th>mean</th>\n",
       "      <td>0.016418</td>\n",
       "      <td>0.174769</td>\n",
       "      <td>0.072729</td>\n",
       "      <td>0.029455</td>\n",
       "      <td>0.045257</td>\n",
       "      <td>0.323000</td>\n",
       "      <td>0.492774</td>\n",
       "      <td>0.348617</td>\n",
       "      <td>0.112679</td>\n",
       "      <td>0.320979</td>\n",
       "      <td>3.170298</td>\n",
       "      <td>2.318877</td>\n",
       "      <td>5.616943</td>\n",
       "      <td>4.164977</td>\n",
       "    </tr>\n",
       "    <tr>\n",
       "      <th>std</th>\n",
       "      <td>0.077547</td>\n",
       "      <td>0.405425</td>\n",
       "      <td>0.272274</td>\n",
       "      <td>0.071421</td>\n",
       "      <td>0.087363</td>\n",
       "      <td>0.445777</td>\n",
       "      <td>0.521808</td>\n",
       "      <td>0.422231</td>\n",
       "      <td>0.280829</td>\n",
       "      <td>0.225615</td>\n",
       "      <td>3.484652</td>\n",
       "      <td>3.300599</td>\n",
       "      <td>6.579710</td>\n",
       "      <td>6.287999</td>\n",
       "    </tr>\n",
       "    <tr>\n",
       "      <th>min</th>\n",
       "      <td>0.000000</td>\n",
       "      <td>0.000000</td>\n",
       "      <td>0.002400</td>\n",
       "      <td>0.000000</td>\n",
       "      <td>0.002400</td>\n",
       "      <td>0.002400</td>\n",
       "      <td>0.002400</td>\n",
       "      <td>0.002400</td>\n",
       "      <td>0.000000</td>\n",
       "      <td>0.002400</td>\n",
       "      <td>0.000000</td>\n",
       "      <td>0.000000</td>\n",
       "      <td>0.000000</td>\n",
       "      <td>0.000000</td>\n",
       "    </tr>\n",
       "    <tr>\n",
       "      <th>25%</th>\n",
       "      <td>0.002400</td>\n",
       "      <td>0.002400</td>\n",
       "      <td>0.002400</td>\n",
       "      <td>0.002400</td>\n",
       "      <td>0.002400</td>\n",
       "      <td>0.063500</td>\n",
       "      <td>0.185500</td>\n",
       "      <td>0.105000</td>\n",
       "      <td>0.002400</td>\n",
       "      <td>0.183100</td>\n",
       "      <td>0.000000</td>\n",
       "      <td>0.000000</td>\n",
       "      <td>0.000000</td>\n",
       "      <td>0.000000</td>\n",
       "    </tr>\n",
       "    <tr>\n",
       "      <th>50%</th>\n",
       "      <td>0.002400</td>\n",
       "      <td>0.002400</td>\n",
       "      <td>0.002400</td>\n",
       "      <td>0.002400</td>\n",
       "      <td>0.012200</td>\n",
       "      <td>0.188000</td>\n",
       "      <td>0.346700</td>\n",
       "      <td>0.212400</td>\n",
       "      <td>0.004900</td>\n",
       "      <td>0.244100</td>\n",
       "      <td>2.000000</td>\n",
       "      <td>0.000000</td>\n",
       "      <td>3.000000</td>\n",
       "      <td>0.000000</td>\n",
       "    </tr>\n",
       "    <tr>\n",
       "      <th>75%</th>\n",
       "      <td>0.007300</td>\n",
       "      <td>0.163600</td>\n",
       "      <td>0.012200</td>\n",
       "      <td>0.019500</td>\n",
       "      <td>0.051300</td>\n",
       "      <td>0.388200</td>\n",
       "      <td>0.603000</td>\n",
       "      <td>0.429700</td>\n",
       "      <td>0.075700</td>\n",
       "      <td>0.412600</td>\n",
       "      <td>6.000000</td>\n",
       "      <td>5.000000</td>\n",
       "      <td>10.000000</td>\n",
       "      <td>8.000000</td>\n",
       "    </tr>\n",
       "    <tr>\n",
       "      <th>max</th>\n",
       "      <td>2.321800</td>\n",
       "      <td>4.665500</td>\n",
       "      <td>4.660600</td>\n",
       "      <td>1.892100</td>\n",
       "      <td>2.136200</td>\n",
       "      <td>4.665500</td>\n",
       "      <td>4.663100</td>\n",
       "      <td>4.665500</td>\n",
       "      <td>4.660600</td>\n",
       "      <td>3.398400</td>\n",
       "      <td>10.000000</td>\n",
       "      <td>10.000000</td>\n",
       "      <td>23.000000</td>\n",
       "      <td>23.000000</td>\n",
       "    </tr>\n",
       "  </tbody>\n",
       "</table>\n",
       "</div>"
      ],
      "text/plain": [
       "                Emg1           Emg2           Emg3           Emg4  \\\n",
       "count  465343.000000  465343.000000  465343.000000  465343.000000   \n",
       "mean        0.016418       0.174769       0.072729       0.029455   \n",
       "std         0.077547       0.405425       0.272274       0.071421   \n",
       "min         0.000000       0.000000       0.002400       0.000000   \n",
       "25%         0.002400       0.002400       0.002400       0.002400   \n",
       "50%         0.002400       0.002400       0.002400       0.002400   \n",
       "75%         0.007300       0.163600       0.012200       0.019500   \n",
       "max         2.321800       4.665500       4.660600       1.892100   \n",
       "\n",
       "                Emg5           Emg6           Emg7           Emg8  \\\n",
       "count  465343.000000  465343.000000  465343.000000  465343.000000   \n",
       "mean        0.045257       0.323000       0.492774       0.348617   \n",
       "std         0.087363       0.445777       0.521808       0.422231   \n",
       "min         0.002400       0.002400       0.002400       0.002400   \n",
       "25%         0.002400       0.063500       0.185500       0.105000   \n",
       "50%         0.012200       0.188000       0.346700       0.212400   \n",
       "75%         0.051300       0.388200       0.603000       0.429700   \n",
       "max         2.136200       4.665500       4.663100       4.665500   \n",
       "\n",
       "                Emg9          Emg10     repetition   rerepetition  \\\n",
       "count  465343.000000  465343.000000  465343.000000  465343.000000   \n",
       "mean        0.112679       0.320979       3.170298       2.318877   \n",
       "std         0.280829       0.225615       3.484652       3.300599   \n",
       "min         0.000000       0.002400       0.000000       0.000000   \n",
       "25%         0.002400       0.183100       0.000000       0.000000   \n",
       "50%         0.004900       0.244100       2.000000       0.000000   \n",
       "75%         0.075700       0.412600       6.000000       5.000000   \n",
       "max         4.660600       3.398400      10.000000      10.000000   \n",
       "\n",
       "            stimulus     restimulus  \n",
       "count  465343.000000  465343.000000  \n",
       "mean        5.616943       4.164977  \n",
       "std         6.579710       6.287999  \n",
       "min         0.000000       0.000000  \n",
       "25%         0.000000       0.000000  \n",
       "50%         3.000000       0.000000  \n",
       "75%        10.000000       8.000000  \n",
       "max        23.000000      23.000000  "
      ]
     },
     "execution_count": 6,
     "metadata": {},
     "output_type": "execute_result"
    }
   ],
   "source": [
    "raw_data.describe(include='all')"
   ]
  },
  {
   "cell_type": "code",
   "execution_count": 7,
   "id": "fd128768",
   "metadata": {},
   "outputs": [
    {
     "name": "stdout",
     "output_type": "stream",
     "text": [
      "Unique Dependent values and their counts :\n",
      "0     197148\n",
      "4      15514\n",
      "8      15513\n",
      "2      15507\n",
      "12     15503\n",
      "7      15490\n",
      "6      15486\n",
      "9      15483\n",
      "5      15470\n",
      "11     15462\n",
      "3      15455\n",
      "1      15433\n",
      "10     15427\n",
      "13     10339\n",
      "17     10337\n",
      "14     10336\n",
      "15     10304\n",
      "16     10259\n",
      "21      5166\n",
      "18      5165\n",
      "19      5160\n",
      "20      5130\n",
      "23      5130\n",
      "22      5126\n",
      "Name: stimulus, dtype: int64\n"
     ]
    }
   ],
   "source": [
    "print(\"Unique Dependent values and their counts :\")\n",
    "print(raw_data[\"stimulus\"].value_counts())"
   ]
  },
  {
   "cell_type": "code",
   "execution_count": 8,
   "id": "93de5c20",
   "metadata": {},
   "outputs": [
    {
     "data": {
      "text/plain": [
       "Text(0, 0.5, 'Frequency')"
      ]
     },
     "execution_count": 8,
     "metadata": {},
     "output_type": "execute_result"
    },
    {
     "data": {
      "image/png": "[encoded data removed]",
      "text/plain": [
       "<Figure size 432x288 with 1 Axes>"
      ]
     },
     "metadata": {
      "needs_background": "light"
     },
     "output_type": "display_data"
    }
   ],
   "source": [
    "count_classes = pd.value_counts(raw_data['stimulus'], sort = True)\n",
    "\n",
    "count_classes.plot(kind = 'bar', rot=0)\n",
    "\n",
    "plt.title(\"stimulus Class Distribution\")\n",
    "\n",
    "plt.xlabel(\"Class\")\n",
    "\n",
    "plt.ylabel(\"Frequency\")"
   ]
  },
  {
   "cell_type": "markdown",
   "id": "359a141d",
   "metadata": {},
   "source": [
    "# Data Cleaning and Exploratory Data Analysis with New Data"
   ]
  },
  {
   "cell_type": "code",
   "execution_count": 9,
   "id": "34a50c05",
   "metadata": {},
   "outputs": [],
   "source": [
    "index_names = raw_data[ (raw_data['stimulus'] != raw_data['restimulus'])].index\n",
    "raw_data.drop(index_names, inplace = True)"
   ]
  },
  {
   "cell_type": "code",
   "execution_count": 10,
   "id": "78d479cc",
   "metadata": {},
   "outputs": [],
   "source": [
    "index_names = raw_data[ (raw_data['repetition'] != raw_data['rerepetition'])].index\n",
    "raw_data.drop(index_names, inplace = True)"
   ]
  },
  {
   "cell_type": "code",
   "execution_count": 11,
   "id": "8418d307",
   "metadata": {},
   "outputs": [
    {
     "data": {
      "text/html": [
       "<div>\n",
       "<style scoped>\n",
       "    .dataframe tbody tr th:only-of-type {\n",
       "        vertical-align: middle;\n",
       "    }\n",
       "\n",
       "    .dataframe tbody tr th {\n",
       "        vertical-align: top;\n",
       "    }\n",
       "\n",
       "    .dataframe thead th {\n",
       "        text-align: right;\n",
       "    }\n",
       "</style>\n",
       "<table border=\"1\" class=\"dataframe\">\n",
       "  <thead>\n",
       "    <tr style=\"text-align: right;\">\n",
       "      <th></th>\n",
       "      <th>Emg1</th>\n",
       "      <th>Emg2</th>\n",
       "      <th>Emg3</th>\n",
       "      <th>Emg4</th>\n",
       "      <th>Emg5</th>\n",
       "      <th>Emg6</th>\n",
       "      <th>Emg7</th>\n",
       "      <th>Emg8</th>\n",
       "      <th>Emg9</th>\n",
       "      <th>Emg10</th>\n",
       "      <th>repetition</th>\n",
       "      <th>rerepetition</th>\n",
       "      <th>stimulus</th>\n",
       "      <th>restimulus</th>\n",
       "    </tr>\n",
       "  </thead>\n",
       "  <tbody>\n",
       "    <tr>\n",
       "      <th>296135</th>\n",
       "      <td>0.0024</td>\n",
       "      <td>0.4956</td>\n",
       "      <td>0.1196</td>\n",
       "      <td>0.0513</td>\n",
       "      <td>0.0049</td>\n",
       "      <td>0.2344</td>\n",
       "      <td>0.7642</td>\n",
       "      <td>0.1929</td>\n",
       "      <td>0.0513</td>\n",
       "      <td>0.5200</td>\n",
       "      <td>9</td>\n",
       "      <td>9</td>\n",
       "      <td>6</td>\n",
       "      <td>6</td>\n",
       "    </tr>\n",
       "    <tr>\n",
       "      <th>288984</th>\n",
       "      <td>0.0024</td>\n",
       "      <td>0.0391</td>\n",
       "      <td>0.0024</td>\n",
       "      <td>0.0024</td>\n",
       "      <td>0.0195</td>\n",
       "      <td>0.2124</td>\n",
       "      <td>0.2466</td>\n",
       "      <td>0.3540</td>\n",
       "      <td>0.0024</td>\n",
       "      <td>0.3247</td>\n",
       "      <td>0</td>\n",
       "      <td>0</td>\n",
       "      <td>0</td>\n",
       "      <td>0</td>\n",
       "    </tr>\n",
       "    <tr>\n",
       "      <th>357638</th>\n",
       "      <td>0.0171</td>\n",
       "      <td>0.3149</td>\n",
       "      <td>0.5176</td>\n",
       "      <td>0.1099</td>\n",
       "      <td>0.0684</td>\n",
       "      <td>0.3052</td>\n",
       "      <td>0.4468</td>\n",
       "      <td>0.1855</td>\n",
       "      <td>0.1831</td>\n",
       "      <td>0.1929</td>\n",
       "      <td>2</td>\n",
       "      <td>2</td>\n",
       "      <td>13</td>\n",
       "      <td>13</td>\n",
       "    </tr>\n",
       "    <tr>\n",
       "      <th>438172</th>\n",
       "      <td>0.0024</td>\n",
       "      <td>0.1978</td>\n",
       "      <td>0.1270</td>\n",
       "      <td>0.0146</td>\n",
       "      <td>0.0537</td>\n",
       "      <td>0.2222</td>\n",
       "      <td>0.7520</td>\n",
       "      <td>0.7422</td>\n",
       "      <td>0.1147</td>\n",
       "      <td>0.3296</td>\n",
       "      <td>8</td>\n",
       "      <td>8</td>\n",
       "      <td>21</td>\n",
       "      <td>21</td>\n",
       "    </tr>\n",
       "    <tr>\n",
       "      <th>450441</th>\n",
       "      <td>0.0024</td>\n",
       "      <td>1.3037</td>\n",
       "      <td>1.9409</td>\n",
       "      <td>0.5029</td>\n",
       "      <td>0.6177</td>\n",
       "      <td>2.5610</td>\n",
       "      <td>0.9155</td>\n",
       "      <td>1.4136</td>\n",
       "      <td>0.3589</td>\n",
       "      <td>0.3076</td>\n",
       "      <td>8</td>\n",
       "      <td>8</td>\n",
       "      <td>22</td>\n",
       "      <td>22</td>\n",
       "    </tr>\n",
       "  </tbody>\n",
       "</table>\n",
       "</div>"
      ],
      "text/plain": [
       "          Emg1    Emg2    Emg3    Emg4    Emg5    Emg6    Emg7    Emg8  \\\n",
       "296135  0.0024  0.4956  0.1196  0.0513  0.0049  0.2344  0.7642  0.1929   \n",
       "288984  0.0024  0.0391  0.0024  0.0024  0.0195  0.2124  0.2466  0.3540   \n",
       "357638  0.0171  0.3149  0.5176  0.1099  0.0684  0.3052  0.4468  0.1855   \n",
       "438172  0.0024  0.1978  0.1270  0.0146  0.0537  0.2222  0.7520  0.7422   \n",
       "450441  0.0024  1.3037  1.9409  0.5029  0.6177  2.5610  0.9155  1.4136   \n",
       "\n",
       "          Emg9   Emg10  repetition  rerepetition  stimulus  restimulus  \n",
       "296135  0.0513  0.5200           9             9         6           6  \n",
       "288984  0.0024  0.3247           0             0         0           0  \n",
       "357638  0.1831  0.1929           2             2        13          13  \n",
       "438172  0.1147  0.3296           8             8        21          21  \n",
       "450441  0.3589  0.3076           8             8        22          22  "
      ]
     },
     "execution_count": 11,
     "metadata": {},
     "output_type": "execute_result"
    }
   ],
   "source": [
    "raw_data.sample(5)"
   ]
  },
  {
   "cell_type": "code",
   "execution_count": 12,
   "id": "ff5d7709",
   "metadata": {},
   "outputs": [
    {
     "data": {
      "text/plain": [
       "(387008, 14)"
      ]
     },
     "execution_count": 12,
     "metadata": {},
     "output_type": "execute_result"
    }
   ],
   "source": [
    "raw_data.shape"
   ]
  },
  {
   "cell_type": "code",
   "execution_count": 13,
   "id": "9df2c3c9",
   "metadata": {},
   "outputs": [
    {
     "name": "stdout",
     "output_type": "stream",
     "text": [
      "<class 'pandas.core.frame.DataFrame'>\n",
      "Int64Index: 387008 entries, 0 to 465342\n",
      "Data columns (total 14 columns):\n",
      " #   Column        Non-Null Count   Dtype  \n",
      "---  ------        --------------   -----  \n",
      " 0   Emg1          387008 non-null  float64\n",
      " 1   Emg2          387008 non-null  float64\n",
      " 2   Emg3          387008 non-null  float64\n",
      " 3   Emg4          387008 non-null  float64\n",
      " 4   Emg5          387008 non-null  float64\n",
      " 5   Emg6          387008 non-null  float64\n",
      " 6   Emg7          387008 non-null  float64\n",
      " 7   Emg8          387008 non-null  float64\n",
      " 8   Emg9          387008 non-null  float64\n",
      " 9   Emg10         387008 non-null  float64\n",
      " 10  repetition    387008 non-null  int64  \n",
      " 11  rerepetition  387008 non-null  int64  \n",
      " 12  stimulus      387008 non-null  int64  \n",
      " 13  restimulus    387008 non-null  int64  \n",
      "dtypes: float64(10), int64(4)\n",
      "memory usage: 44.3 MB\n"
     ]
    }
   ],
   "source": [
    "raw_data.info()"
   ]
  },
  {
   "cell_type": "code",
   "execution_count": 14,
   "id": "fbec9c31",
   "metadata": {},
   "outputs": [
    {
     "name": "stdout",
     "output_type": "stream",
     "text": [
      "Emg1            False\n",
      "Emg2            False\n",
      "Emg3            False\n",
      "Emg4            False\n",
      "Emg5            False\n",
      "Emg6            False\n",
      "Emg7            False\n",
      "Emg8            False\n",
      "Emg9            False\n",
      "Emg10           False\n",
      "repetition      False\n",
      "rerepetition    False\n",
      "stimulus        False\n",
      "restimulus      False\n",
      "dtype: bool\n"
     ]
    }
   ],
   "source": [
    "print(raw_data.isnull().any())"
   ]
  },
  {
   "cell_type": "code",
   "execution_count": 15,
   "id": "3a406dae",
   "metadata": {},
   "outputs": [],
   "source": [
    "X = raw_data.iloc[:,0:10]\n",
    "y = raw_data.stimulus"
   ]
  },
  {
   "cell_type": "code",
   "execution_count": 16,
   "id": "867f6716",
   "metadata": {},
   "outputs": [],
   "source": [
    "# Splitting data for training and testing\n",
    "X_train, X_test, y_train, y_test = train_test_split(X, y, test_size = 0.2, random_state = 39)"
   ]
  },
  {
   "cell_type": "markdown",
   "id": "bff706a6",
   "metadata": {},
   "source": [
    "# Random Forest"
   ]
  },
  {
   "cell_type": "code",
   "execution_count": 17,
   "id": "2a961733",
   "metadata": {},
   "outputs": [
    {
     "data": {
      "text/plain": [
       "RandomForestClassifier()"
      ]
     },
     "execution_count": 17,
     "metadata": {},
     "output_type": "execute_result"
    }
   ],
   "source": [
    "from sklearn.ensemble import RandomForestClassifier\n",
    "RandomForestClassifier = RandomForestClassifier()\n",
    "RandomForestClassifier.fit(X_train, y_train)"
   ]
  },
  {
   "cell_type": "code",
   "execution_count": 18,
   "id": "fb724165",
   "metadata": {},
   "outputs": [],
   "source": [
    "y_pred = RandomForestClassifier.predict(X_test)"
   ]
  },
  {
   "cell_type": "code",
   "execution_count": 19,
   "id": "d3a88351",
   "metadata": {},
   "outputs": [
    {
     "name": "stdout",
     "output_type": "stream",
     "text": [
      "Accuracy is: 95.37996434200666\n"
     ]
    }
   ],
   "source": [
    "from sklearn.metrics import accuracy_score\n",
    "accuracy = {accuracy_score(y_test, y_pred)}\n",
    "print(f\"Accuracy is: {accuracy_score(y_test, y_pred)* 100}\")"
   ]
  },
  {
   "cell_type": "code",
   "execution_count": 20,
   "id": "0f3d2581",
   "metadata": {},
   "outputs": [
    {
     "name": "stdout",
     "output_type": "stream",
     "text": [
      "\u001b[1mClassification report : \u001b[0m\n",
      "               precision    recall  f1-score   support\n",
      "\n",
      "           0       0.95      0.99      0.97     39037\n",
      "           1       0.95      0.93      0.94      2203\n",
      "           2       0.93      0.88      0.90      2428\n",
      "           3       0.96      0.90      0.93      2206\n",
      "           4       0.98      0.91      0.94      2160\n",
      "           5       0.98      0.95      0.96      1972\n",
      "           6       0.97      0.94      0.96      2193\n",
      "           7       0.96      0.91      0.93      2070\n",
      "           8       0.96      0.93      0.94      2293\n",
      "           9       0.93      0.90      0.91      1921\n",
      "          10       0.92      0.80      0.86      2093\n",
      "          11       0.95      0.92      0.94      2006\n",
      "          12       0.97      0.90      0.94      2165\n",
      "          13       0.99      0.94      0.97      1405\n",
      "          14       0.96      0.95      0.95      1393\n",
      "          15       0.95      0.84      0.89      1663\n",
      "          16       0.99      0.96      0.97      1693\n",
      "          17       0.96      0.92      0.94      1703\n",
      "          18       0.98      0.97      0.98       861\n",
      "          19       0.98      0.92      0.95       833\n",
      "          20       1.00      0.98      0.99       831\n",
      "          21       0.98      0.93      0.95       677\n",
      "          22       1.00      0.95      0.97       751\n",
      "          23       0.99      0.98      0.99       845\n",
      "\n",
      "    accuracy                           0.95     77402\n",
      "   macro avg       0.97      0.93      0.94     77402\n",
      "weighted avg       0.95      0.95      0.95     77402\n",
      "\n",
      "\u001b[1mConfusion Matrix : \u001b[0m\n"
     ]
    },
    {
     "data": {
      "image/png": "[encoded data removed]",
      "text/plain": [
       "<Figure size 432x288 with 2 Axes>"
      ]
     },
     "metadata": {
      "needs_background": "light"
     },
     "output_type": "display_data"
    }
   ],
   "source": [
    "print('\\033[1m' +'Classification report : '+ '\\033[0m\\n', classification_report(y_test, y_pred))\n",
    "\n",
    "cm = confusion_matrix(y_pred, y_test)\n",
    "print('\\033[1m' +'Confusion Matrix : '+ '\\033[0m')\n",
    "sns.heatmap(cm, cmap = 'OrRd',annot = True, fmt='d')\n",
    "plt.show()"
   ]
  },
  {
   "cell_type": "markdown",
   "id": "8c265389",
   "metadata": {},
   "source": [
    "# Evaluation"
   ]
  },
  {
   "cell_type": "code",
   "execution_count": 21,
   "id": "02906ef9",
   "metadata": {},
   "outputs": [
    {
     "name": "stdout",
     "output_type": "stream",
     "text": [
      "MAE: 0.3526782253688535\n",
      "MSE: 3.8220717810909277\n",
      "RMSE: 1.9550119644367723\n"
     ]
    }
   ],
   "source": [
    "from sklearn import metrics\n",
    "\n",
    "print('MAE:', metrics.mean_absolute_error(y_test,y_pred))\n",
    "print('MSE:', metrics.mean_squared_error(y_test, y_pred))\n",
    "print('RMSE:', np.sqrt(metrics.mean_squared_error(y_test, y_pred)))"
   ]
  },
  {
   "cell_type": "code",
   "execution_count": 22,
   "id": "2d958bfd",
   "metadata": {},
   "outputs": [
    {
     "name": "stdout",
     "output_type": "stream",
     "text": [
      "Precision Score :  0.9540699276384964\n",
      "Recall Score :  0.9537996434200666\n",
      "f1_score :  0.9532498663114396\n"
     ]
    }
   ],
   "source": [
    "from sklearn.metrics import precision_score\n",
    "print(\"Precision Score : \",precision_score(y_test, y_pred, average='weighted'))\n",
    "\n",
    "\n",
    "from sklearn.metrics import recall_score\n",
    "print(\"Recall Score : \",recall_score(y_test, y_pred,average='weighted'))\n",
    "\n",
    "\n",
    "from sklearn.metrics import f1_score\n",
    "print(\"f1_score : \",f1_score(y_test, y_pred,average='weighted'))"
   ]
  },
  {
   "cell_type": "code",
   "execution_count": null,
   "id": "7b2f554b",
   "metadata": {},
   "outputs": [],
   "source": []
  }
 ],
 "metadata": {
  "kernelspec": {
   "display_name": "Python 3 (ipykernel)",
   "language": "python",
   "name": "python3"
  },
  "language_info": {
   "codemirror_mode": {
    "name": "ipython",
    "version": 3
   },
   "file_extension": ".py",
   "mimetype": "text/x-python",
   "name": "python",
   "nbconvert_exporter": "python",
   "pygments_lexer": "ipython3",
   "version": "3.8.12"
  }
 },
 "nbformat": 4,
 "nbformat_minor": 5
}
