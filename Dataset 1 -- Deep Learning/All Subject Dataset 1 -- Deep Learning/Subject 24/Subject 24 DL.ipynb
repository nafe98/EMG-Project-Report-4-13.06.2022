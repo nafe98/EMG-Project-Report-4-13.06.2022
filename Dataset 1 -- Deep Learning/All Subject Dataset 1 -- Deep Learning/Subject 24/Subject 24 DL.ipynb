{
 "cells": [
  {
   "cell_type": "markdown",
   "id": "bf8ee932",
   "metadata": {},
   "source": [
    "# Importing Libraries"
   ]
  },
  {
   "cell_type": "code",
   "execution_count": 1,
   "id": "0f663fa8",
   "metadata": {},
   "outputs": [],
   "source": [
    "import numpy as np\n",
    "import pandas as pd\n",
    "import matplotlib.pyplot as plt\n",
    "import seaborn as sns\n",
    "from sklearn.model_selection import train_test_split"
   ]
  },
  {
   "cell_type": "markdown",
   "id": "511af272",
   "metadata": {},
   "source": [
    "# Loading Data"
   ]
  },
  {
   "cell_type": "code",
   "execution_count": 2,
   "id": "04fd19b0",
   "metadata": {},
   "outputs": [
    {
     "data": {
      "text/html": [
       "<div>\n",
       "<style scoped>\n",
       "    .dataframe tbody tr th:only-of-type {\n",
       "        vertical-align: middle;\n",
       "    }\n",
       "\n",
       "    .dataframe tbody tr th {\n",
       "        vertical-align: top;\n",
       "    }\n",
       "\n",
       "    .dataframe thead th {\n",
       "        text-align: right;\n",
       "    }\n",
       "</style>\n",
       "<table border=\"1\" class=\"dataframe\">\n",
       "  <thead>\n",
       "    <tr style=\"text-align: right;\">\n",
       "      <th></th>\n",
       "      <th>Emg1</th>\n",
       "      <th>Emg2</th>\n",
       "      <th>Emg3</th>\n",
       "      <th>Emg4</th>\n",
       "      <th>Emg5</th>\n",
       "      <th>Emg6</th>\n",
       "      <th>Emg7</th>\n",
       "      <th>Emg8</th>\n",
       "      <th>Emg9</th>\n",
       "      <th>Emg10</th>\n",
       "      <th>repetition</th>\n",
       "      <th>rerepetition</th>\n",
       "      <th>stimulus</th>\n",
       "      <th>restimulus</th>\n",
       "    </tr>\n",
       "  </thead>\n",
       "  <tbody>\n",
       "    <tr>\n",
       "      <th>408022</th>\n",
       "      <td>0.0024</td>\n",
       "      <td>0.0049</td>\n",
       "      <td>0.0024</td>\n",
       "      <td>0.0024</td>\n",
       "      <td>0.0049</td>\n",
       "      <td>0.0024</td>\n",
       "      <td>0.0024</td>\n",
       "      <td>0.0220</td>\n",
       "      <td>0.0024</td>\n",
       "      <td>0.0024</td>\n",
       "      <td>0</td>\n",
       "      <td>0</td>\n",
       "      <td>0</td>\n",
       "      <td>0</td>\n",
       "    </tr>\n",
       "    <tr>\n",
       "      <th>111713</th>\n",
       "      <td>0.8618</td>\n",
       "      <td>0.2563</td>\n",
       "      <td>0.1025</td>\n",
       "      <td>0.0562</td>\n",
       "      <td>0.0049</td>\n",
       "      <td>0.0049</td>\n",
       "      <td>0.1123</td>\n",
       "      <td>0.0049</td>\n",
       "      <td>0.3442</td>\n",
       "      <td>0.1245</td>\n",
       "      <td>2</td>\n",
       "      <td>2</td>\n",
       "      <td>2</td>\n",
       "      <td>2</td>\n",
       "    </tr>\n",
       "    <tr>\n",
       "      <th>381221</th>\n",
       "      <td>0.3027</td>\n",
       "      <td>0.0024</td>\n",
       "      <td>0.0049</td>\n",
       "      <td>0.0049</td>\n",
       "      <td>0.0049</td>\n",
       "      <td>0.0415</td>\n",
       "      <td>0.3125</td>\n",
       "      <td>0.0342</td>\n",
       "      <td>0.0610</td>\n",
       "      <td>0.1489</td>\n",
       "      <td>9</td>\n",
       "      <td>9</td>\n",
       "      <td>15</td>\n",
       "      <td>15</td>\n",
       "    </tr>\n",
       "    <tr>\n",
       "      <th>162626</th>\n",
       "      <td>0.1685</td>\n",
       "      <td>0.1050</td>\n",
       "      <td>0.0049</td>\n",
       "      <td>0.0024</td>\n",
       "      <td>0.0049</td>\n",
       "      <td>0.0049</td>\n",
       "      <td>0.1196</td>\n",
       "      <td>0.0635</td>\n",
       "      <td>0.0024</td>\n",
       "      <td>0.0098</td>\n",
       "      <td>0</td>\n",
       "      <td>0</td>\n",
       "      <td>0</td>\n",
       "      <td>0</td>\n",
       "    </tr>\n",
       "    <tr>\n",
       "      <th>244920</th>\n",
       "      <td>1.9312</td>\n",
       "      <td>0.6812</td>\n",
       "      <td>0.7617</td>\n",
       "      <td>0.6934</td>\n",
       "      <td>0.1538</td>\n",
       "      <td>0.0537</td>\n",
       "      <td>0.1514</td>\n",
       "      <td>0.5688</td>\n",
       "      <td>0.6738</td>\n",
       "      <td>0.1538</td>\n",
       "      <td>10</td>\n",
       "      <td>10</td>\n",
       "      <td>17</td>\n",
       "      <td>17</td>\n",
       "    </tr>\n",
       "  </tbody>\n",
       "</table>\n",
       "</div>"
      ],
      "text/plain": [
       "          Emg1    Emg2    Emg3    Emg4    Emg5    Emg6    Emg7    Emg8  \\\n",
       "408022  0.0024  0.0049  0.0024  0.0024  0.0049  0.0024  0.0024  0.0220   \n",
       "111713  0.8618  0.2563  0.1025  0.0562  0.0049  0.0049  0.1123  0.0049   \n",
       "381221  0.3027  0.0024  0.0049  0.0049  0.0049  0.0415  0.3125  0.0342   \n",
       "162626  0.1685  0.1050  0.0049  0.0024  0.0049  0.0049  0.1196  0.0635   \n",
       "244920  1.9312  0.6812  0.7617  0.6934  0.1538  0.0537  0.1514  0.5688   \n",
       "\n",
       "          Emg9   Emg10  repetition  rerepetition  stimulus  restimulus  \n",
       "408022  0.0024  0.0024           0             0         0           0  \n",
       "111713  0.3442  0.1245           2             2         2           2  \n",
       "381221  0.0610  0.1489           9             9        15          15  \n",
       "162626  0.0024  0.0098           0             0         0           0  \n",
       "244920  0.6738  0.1538          10            10        17          17  "
      ]
     },
     "execution_count": 2,
     "metadata": {},
     "output_type": "execute_result"
    }
   ],
   "source": [
    "raw_data = pd.read_excel('Dataset 1 Patient 24.xlsx')\n",
    "raw_data.sample(5)"
   ]
  },
  {
   "cell_type": "code",
   "execution_count": 3,
   "id": "80369ddb",
   "metadata": {},
   "outputs": [
    {
     "name": "stdout",
     "output_type": "stream",
     "text": [
      "<class 'pandas.core.frame.DataFrame'>\n",
      "RangeIndex: 469559 entries, 0 to 469558\n",
      "Data columns (total 14 columns):\n",
      " #   Column        Non-Null Count   Dtype  \n",
      "---  ------        --------------   -----  \n",
      " 0   Emg1          469559 non-null  float64\n",
      " 1   Emg2          469559 non-null  float64\n",
      " 2   Emg3          469559 non-null  float64\n",
      " 3   Emg4          469559 non-null  float64\n",
      " 4   Emg5          469559 non-null  float64\n",
      " 5   Emg6          469559 non-null  float64\n",
      " 6   Emg7          469559 non-null  float64\n",
      " 7   Emg8          469559 non-null  float64\n",
      " 8   Emg9          469559 non-null  float64\n",
      " 9   Emg10         469559 non-null  float64\n",
      " 10  repetition    469559 non-null  int64  \n",
      " 11  rerepetition  469559 non-null  int64  \n",
      " 12  stimulus      469559 non-null  int64  \n",
      " 13  restimulus    469559 non-null  int64  \n",
      "dtypes: float64(10), int64(4)\n",
      "memory usage: 50.2 MB\n"
     ]
    }
   ],
   "source": [
    "raw_data.info()"
   ]
  },
  {
   "cell_type": "code",
   "execution_count": 4,
   "id": "109445f8",
   "metadata": {},
   "outputs": [
    {
     "data": {
      "text/html": [
       "<div>\n",
       "<style scoped>\n",
       "    .dataframe tbody tr th:only-of-type {\n",
       "        vertical-align: middle;\n",
       "    }\n",
       "\n",
       "    .dataframe tbody tr th {\n",
       "        vertical-align: top;\n",
       "    }\n",
       "\n",
       "    .dataframe thead th {\n",
       "        text-align: right;\n",
       "    }\n",
       "</style>\n",
       "<table border=\"1\" class=\"dataframe\">\n",
       "  <thead>\n",
       "    <tr style=\"text-align: right;\">\n",
       "      <th></th>\n",
       "      <th>Emg1</th>\n",
       "      <th>Emg2</th>\n",
       "      <th>Emg3</th>\n",
       "      <th>Emg4</th>\n",
       "      <th>Emg5</th>\n",
       "      <th>Emg6</th>\n",
       "      <th>Emg7</th>\n",
       "      <th>Emg8</th>\n",
       "      <th>Emg9</th>\n",
       "      <th>Emg10</th>\n",
       "      <th>repetition</th>\n",
       "      <th>rerepetition</th>\n",
       "      <th>stimulus</th>\n",
       "      <th>restimulus</th>\n",
       "    </tr>\n",
       "  </thead>\n",
       "  <tbody>\n",
       "    <tr>\n",
       "      <th>count</th>\n",
       "      <td>469559.000000</td>\n",
       "      <td>469559.00000</td>\n",
       "      <td>469559.000000</td>\n",
       "      <td>469559.000000</td>\n",
       "      <td>469559.000000</td>\n",
       "      <td>469559.000000</td>\n",
       "      <td>469559.000000</td>\n",
       "      <td>469559.000000</td>\n",
       "      <td>469559.000000</td>\n",
       "      <td>469559.000000</td>\n",
       "      <td>469559.000000</td>\n",
       "      <td>469559.000000</td>\n",
       "      <td>469559.000000</td>\n",
       "      <td>469559.00000</td>\n",
       "    </tr>\n",
       "    <tr>\n",
       "      <th>mean</th>\n",
       "      <td>0.528189</td>\n",
       "      <td>0.22986</td>\n",
       "      <td>0.295996</td>\n",
       "      <td>0.132394</td>\n",
       "      <td>0.049513</td>\n",
       "      <td>0.066152</td>\n",
       "      <td>0.385475</td>\n",
       "      <td>0.108756</td>\n",
       "      <td>0.282975</td>\n",
       "      <td>0.370430</td>\n",
       "      <td>3.159586</td>\n",
       "      <td>2.163741</td>\n",
       "      <td>5.601266</td>\n",
       "      <td>3.92688</td>\n",
       "    </tr>\n",
       "    <tr>\n",
       "      <th>std</th>\n",
       "      <td>0.796084</td>\n",
       "      <td>0.48866</td>\n",
       "      <td>0.740545</td>\n",
       "      <td>0.380632</td>\n",
       "      <td>0.130924</td>\n",
       "      <td>0.183762</td>\n",
       "      <td>0.633912</td>\n",
       "      <td>0.261841</td>\n",
       "      <td>0.612855</td>\n",
       "      <td>0.643215</td>\n",
       "      <td>3.483458</td>\n",
       "      <td>3.229246</td>\n",
       "      <td>6.579024</td>\n",
       "      <td>6.19468</td>\n",
       "    </tr>\n",
       "    <tr>\n",
       "      <th>min</th>\n",
       "      <td>0.002400</td>\n",
       "      <td>0.00240</td>\n",
       "      <td>0.002400</td>\n",
       "      <td>0.002400</td>\n",
       "      <td>0.002400</td>\n",
       "      <td>0.002400</td>\n",
       "      <td>0.002400</td>\n",
       "      <td>0.002400</td>\n",
       "      <td>0.002400</td>\n",
       "      <td>0.002400</td>\n",
       "      <td>0.000000</td>\n",
       "      <td>0.000000</td>\n",
       "      <td>0.000000</td>\n",
       "      <td>0.00000</td>\n",
       "    </tr>\n",
       "    <tr>\n",
       "      <th>25%</th>\n",
       "      <td>0.017100</td>\n",
       "      <td>0.00240</td>\n",
       "      <td>0.004900</td>\n",
       "      <td>0.002400</td>\n",
       "      <td>0.004900</td>\n",
       "      <td>0.002400</td>\n",
       "      <td>0.029300</td>\n",
       "      <td>0.009800</td>\n",
       "      <td>0.002400</td>\n",
       "      <td>0.004900</td>\n",
       "      <td>0.000000</td>\n",
       "      <td>0.000000</td>\n",
       "      <td>0.000000</td>\n",
       "      <td>0.00000</td>\n",
       "    </tr>\n",
       "    <tr>\n",
       "      <th>50%</th>\n",
       "      <td>0.156300</td>\n",
       "      <td>0.00980</td>\n",
       "      <td>0.004900</td>\n",
       "      <td>0.004900</td>\n",
       "      <td>0.004900</td>\n",
       "      <td>0.004900</td>\n",
       "      <td>0.134300</td>\n",
       "      <td>0.024400</td>\n",
       "      <td>0.004900</td>\n",
       "      <td>0.075700</td>\n",
       "      <td>2.000000</td>\n",
       "      <td>0.000000</td>\n",
       "      <td>3.000000</td>\n",
       "      <td>0.00000</td>\n",
       "    </tr>\n",
       "    <tr>\n",
       "      <th>75%</th>\n",
       "      <td>0.747100</td>\n",
       "      <td>0.24410</td>\n",
       "      <td>0.210000</td>\n",
       "      <td>0.107400</td>\n",
       "      <td>0.031700</td>\n",
       "      <td>0.056200</td>\n",
       "      <td>0.454100</td>\n",
       "      <td>0.073200</td>\n",
       "      <td>0.268600</td>\n",
       "      <td>0.449200</td>\n",
       "      <td>6.000000</td>\n",
       "      <td>4.000000</td>\n",
       "      <td>10.000000</td>\n",
       "      <td>7.00000</td>\n",
       "    </tr>\n",
       "    <tr>\n",
       "      <th>max</th>\n",
       "      <td>4.646000</td>\n",
       "      <td>4.64360</td>\n",
       "      <td>4.641100</td>\n",
       "      <td>4.643600</td>\n",
       "      <td>4.638700</td>\n",
       "      <td>3.815900</td>\n",
       "      <td>4.641100</td>\n",
       "      <td>4.040500</td>\n",
       "      <td>4.638700</td>\n",
       "      <td>4.641100</td>\n",
       "      <td>10.000000</td>\n",
       "      <td>10.000000</td>\n",
       "      <td>23.000000</td>\n",
       "      <td>23.00000</td>\n",
       "    </tr>\n",
       "  </tbody>\n",
       "</table>\n",
       "</div>"
      ],
      "text/plain": [
       "                Emg1          Emg2           Emg3           Emg4  \\\n",
       "count  469559.000000  469559.00000  469559.000000  469559.000000   \n",
       "mean        0.528189       0.22986       0.295996       0.132394   \n",
       "std         0.796084       0.48866       0.740545       0.380632   \n",
       "min         0.002400       0.00240       0.002400       0.002400   \n",
       "25%         0.017100       0.00240       0.004900       0.002400   \n",
       "50%         0.156300       0.00980       0.004900       0.004900   \n",
       "75%         0.747100       0.24410       0.210000       0.107400   \n",
       "max         4.646000       4.64360       4.641100       4.643600   \n",
       "\n",
       "                Emg5           Emg6           Emg7           Emg8  \\\n",
       "count  469559.000000  469559.000000  469559.000000  469559.000000   \n",
       "mean        0.049513       0.066152       0.385475       0.108756   \n",
       "std         0.130924       0.183762       0.633912       0.261841   \n",
       "min         0.002400       0.002400       0.002400       0.002400   \n",
       "25%         0.004900       0.002400       0.029300       0.009800   \n",
       "50%         0.004900       0.004900       0.134300       0.024400   \n",
       "75%         0.031700       0.056200       0.454100       0.073200   \n",
       "max         4.638700       3.815900       4.641100       4.040500   \n",
       "\n",
       "                Emg9          Emg10     repetition   rerepetition  \\\n",
       "count  469559.000000  469559.000000  469559.000000  469559.000000   \n",
       "mean        0.282975       0.370430       3.159586       2.163741   \n",
       "std         0.612855       0.643215       3.483458       3.229246   \n",
       "min         0.002400       0.002400       0.000000       0.000000   \n",
       "25%         0.002400       0.004900       0.000000       0.000000   \n",
       "50%         0.004900       0.075700       2.000000       0.000000   \n",
       "75%         0.268600       0.449200       6.000000       4.000000   \n",
       "max         4.638700       4.641100      10.000000      10.000000   \n",
       "\n",
       "            stimulus    restimulus  \n",
       "count  469559.000000  469559.00000  \n",
       "mean        5.601266       3.92688  \n",
       "std         6.579024       6.19468  \n",
       "min         0.000000       0.00000  \n",
       "25%         0.000000       0.00000  \n",
       "50%         3.000000       0.00000  \n",
       "75%        10.000000       7.00000  \n",
       "max        23.000000      23.00000  "
      ]
     },
     "execution_count": 4,
     "metadata": {},
     "output_type": "execute_result"
    }
   ],
   "source": [
    "raw_data.describe(include='all')"
   ]
  },
  {
   "cell_type": "code",
   "execution_count": 5,
   "id": "f0b9a2e6",
   "metadata": {},
   "outputs": [
    {
     "name": "stdout",
     "output_type": "stream",
     "text": [
      "Unique Dependent values and their counts :\n",
      "0     199810\n",
      "12     15607\n",
      "7      15597\n",
      "4      15593\n",
      "8      15589\n",
      "2      15587\n",
      "11     15571\n",
      "9      15568\n",
      "5      15547\n",
      "6      15540\n",
      "3      15528\n",
      "10     15521\n",
      "1      15514\n",
      "13     10400\n",
      "17     10396\n",
      "14     10388\n",
      "15     10372\n",
      "16     10326\n",
      "21      5202\n",
      "18      5199\n",
      "19      5194\n",
      "23      5174\n",
      "20      5168\n",
      "22      5168\n",
      "Name: stimulus, dtype: int64\n"
     ]
    }
   ],
   "source": [
    "print(\"Unique Dependent values and their counts :\")\n",
    "print(raw_data[\"stimulus\"].value_counts())"
   ]
  },
  {
   "cell_type": "markdown",
   "id": "54420ec4",
   "metadata": {},
   "source": [
    "# Data Cleaning"
   ]
  },
  {
   "cell_type": "code",
   "execution_count": 6,
   "id": "a811198b",
   "metadata": {},
   "outputs": [],
   "source": [
    "index_names = raw_data[ (raw_data['stimulus'] != raw_data['restimulus'])].index\n",
    "raw_data.drop(index_names, inplace = True)"
   ]
  },
  {
   "cell_type": "code",
   "execution_count": 7,
   "id": "556cd92f",
   "metadata": {},
   "outputs": [],
   "source": [
    "index_names = raw_data[ (raw_data['repetition'] != raw_data['rerepetition'])].index\n",
    "raw_data.drop(index_names, inplace = True)"
   ]
  },
  {
   "cell_type": "code",
   "execution_count": 8,
   "id": "c91744f7",
   "metadata": {},
   "outputs": [],
   "source": [
    "X = raw_data.iloc[:,0:10]\n",
    "y = raw_data.stimulus"
   ]
  },
  {
   "cell_type": "markdown",
   "id": "152f7160",
   "metadata": {},
   "source": [
    "# One Hot Encoding"
   ]
  },
  {
   "cell_type": "code",
   "execution_count": 9,
   "id": "dfb77d24",
   "metadata": {},
   "outputs": [],
   "source": [
    "num_classes = 24"
   ]
  },
  {
   "cell_type": "code",
   "execution_count": 10,
   "id": "be64bf6b",
   "metadata": {},
   "outputs": [],
   "source": [
    "# One hot encoding for categorical labels\n",
    "import keras\n",
    "from keras import utils as np_utils\n",
    "y = keras.utils.np_utils.to_categorical(y, num_classes)"
   ]
  },
  {
   "cell_type": "code",
   "execution_count": 11,
   "id": "c7358f86",
   "metadata": {},
   "outputs": [],
   "source": [
    "input_dim = X.shape[1]"
   ]
  },
  {
   "cell_type": "markdown",
   "id": "cb3088a1",
   "metadata": {},
   "source": [
    "# Standard Scaler"
   ]
  },
  {
   "cell_type": "code",
   "execution_count": 12,
   "id": "5bd820f4",
   "metadata": {},
   "outputs": [],
   "source": [
    "from sklearn.preprocessing import StandardScaler\n",
    "standardscaler=StandardScaler()"
   ]
  },
  {
   "cell_type": "code",
   "execution_count": 13,
   "id": "6a118694",
   "metadata": {},
   "outputs": [],
   "source": [
    "sc = pd.DataFrame(standardscaler.fit_transform(X))"
   ]
  },
  {
   "cell_type": "code",
   "execution_count": 14,
   "id": "d6e2f38b",
   "metadata": {},
   "outputs": [
    {
     "data": {
      "text/html": [
       "<div>\n",
       "<style scoped>\n",
       "    .dataframe tbody tr th:only-of-type {\n",
       "        vertical-align: middle;\n",
       "    }\n",
       "\n",
       "    .dataframe tbody tr th {\n",
       "        vertical-align: top;\n",
       "    }\n",
       "\n",
       "    .dataframe thead th {\n",
       "        text-align: right;\n",
       "    }\n",
       "</style>\n",
       "<table border=\"1\" class=\"dataframe\">\n",
       "  <thead>\n",
       "    <tr style=\"text-align: right;\">\n",
       "      <th></th>\n",
       "      <th>0</th>\n",
       "      <th>1</th>\n",
       "      <th>2</th>\n",
       "      <th>3</th>\n",
       "      <th>4</th>\n",
       "      <th>5</th>\n",
       "      <th>6</th>\n",
       "      <th>7</th>\n",
       "      <th>8</th>\n",
       "      <th>9</th>\n",
       "    </tr>\n",
       "  </thead>\n",
       "  <tbody>\n",
       "    <tr>\n",
       "      <th>0</th>\n",
       "      <td>-0.719075</td>\n",
       "      <td>-0.511143</td>\n",
       "      <td>-0.444292</td>\n",
       "      <td>-0.378706</td>\n",
       "      <td>-0.378566</td>\n",
       "      <td>-0.365248</td>\n",
       "      <td>-0.649156</td>\n",
       "      <td>-0.246109</td>\n",
       "      <td>-0.514436</td>\n",
       "      <td>-0.629344</td>\n",
       "    </tr>\n",
       "    <tr>\n",
       "      <th>1</th>\n",
       "      <td>-0.719075</td>\n",
       "      <td>-0.515831</td>\n",
       "      <td>-0.444292</td>\n",
       "      <td>-0.372724</td>\n",
       "      <td>-0.378566</td>\n",
       "      <td>-0.377576</td>\n",
       "      <td>-0.649156</td>\n",
       "      <td>-0.237365</td>\n",
       "      <td>-0.514436</td>\n",
       "      <td>-0.625752</td>\n",
       "    </tr>\n",
       "    <tr>\n",
       "      <th>2</th>\n",
       "      <td>-0.719075</td>\n",
       "      <td>-0.515831</td>\n",
       "      <td>-0.444292</td>\n",
       "      <td>-0.378706</td>\n",
       "      <td>-0.395947</td>\n",
       "      <td>-0.365248</td>\n",
       "      <td>-0.652795</td>\n",
       "      <td>-0.237365</td>\n",
       "      <td>-0.518186</td>\n",
       "      <td>-0.625752</td>\n",
       "    </tr>\n",
       "    <tr>\n",
       "      <th>3</th>\n",
       "      <td>-0.719075</td>\n",
       "      <td>-0.511143</td>\n",
       "      <td>-0.444292</td>\n",
       "      <td>-0.372724</td>\n",
       "      <td>-0.378566</td>\n",
       "      <td>-0.365248</td>\n",
       "      <td>-0.652795</td>\n",
       "      <td>-0.254504</td>\n",
       "      <td>-0.514436</td>\n",
       "      <td>-0.629344</td>\n",
       "    </tr>\n",
       "    <tr>\n",
       "      <th>4</th>\n",
       "      <td>-0.721995</td>\n",
       "      <td>-0.515831</td>\n",
       "      <td>-0.444292</td>\n",
       "      <td>-0.378706</td>\n",
       "      <td>-0.395947</td>\n",
       "      <td>-0.365248</td>\n",
       "      <td>-0.652795</td>\n",
       "      <td>-0.271642</td>\n",
       "      <td>-0.518186</td>\n",
       "      <td>-0.625752</td>\n",
       "    </tr>\n",
       "    <tr>\n",
       "      <th>...</th>\n",
       "      <td>...</td>\n",
       "      <td>...</td>\n",
       "      <td>...</td>\n",
       "      <td>...</td>\n",
       "      <td>...</td>\n",
       "      <td>...</td>\n",
       "      <td>...</td>\n",
       "      <td>...</td>\n",
       "      <td>...</td>\n",
       "      <td>...</td>\n",
       "    </tr>\n",
       "    <tr>\n",
       "      <th>375681</th>\n",
       "      <td>-0.690578</td>\n",
       "      <td>-0.515831</td>\n",
       "      <td>-0.444292</td>\n",
       "      <td>-0.372724</td>\n",
       "      <td>-0.395947</td>\n",
       "      <td>-0.365248</td>\n",
       "      <td>-0.652795</td>\n",
       "      <td>-0.416797</td>\n",
       "      <td>-0.518186</td>\n",
       "      <td>-0.629344</td>\n",
       "    </tr>\n",
       "    <tr>\n",
       "      <th>375682</th>\n",
       "      <td>-0.664883</td>\n",
       "      <td>-0.511143</td>\n",
       "      <td>-0.444292</td>\n",
       "      <td>-0.378706</td>\n",
       "      <td>-0.378566</td>\n",
       "      <td>-0.365248</td>\n",
       "      <td>-0.652795</td>\n",
       "      <td>-0.416797</td>\n",
       "      <td>-0.514436</td>\n",
       "      <td>-0.629344</td>\n",
       "    </tr>\n",
       "    <tr>\n",
       "      <th>375683</th>\n",
       "      <td>-0.605085</td>\n",
       "      <td>-0.511143</td>\n",
       "      <td>-0.447379</td>\n",
       "      <td>-0.378706</td>\n",
       "      <td>-0.378566</td>\n",
       "      <td>-0.377576</td>\n",
       "      <td>-0.652795</td>\n",
       "      <td>-0.425542</td>\n",
       "      <td>-0.514436</td>\n",
       "      <td>-0.629344</td>\n",
       "    </tr>\n",
       "    <tr>\n",
       "      <th>375684</th>\n",
       "      <td>-0.579391</td>\n",
       "      <td>-0.515831</td>\n",
       "      <td>-0.447379</td>\n",
       "      <td>-0.378706</td>\n",
       "      <td>-0.395947</td>\n",
       "      <td>-0.377576</td>\n",
       "      <td>-0.652795</td>\n",
       "      <td>-0.425542</td>\n",
       "      <td>-0.514436</td>\n",
       "      <td>-0.629344</td>\n",
       "    </tr>\n",
       "    <tr>\n",
       "      <th>375685</th>\n",
       "      <td>-0.587917</td>\n",
       "      <td>-0.515831</td>\n",
       "      <td>-0.444292</td>\n",
       "      <td>-0.372724</td>\n",
       "      <td>-0.378566</td>\n",
       "      <td>-0.365248</td>\n",
       "      <td>-0.649156</td>\n",
       "      <td>-0.425542</td>\n",
       "      <td>-0.518186</td>\n",
       "      <td>-0.629344</td>\n",
       "    </tr>\n",
       "  </tbody>\n",
       "</table>\n",
       "<p>375686 rows × 10 columns</p>\n",
       "</div>"
      ],
      "text/plain": [
       "               0         1         2         3         4         5         6  \\\n",
       "0      -0.719075 -0.511143 -0.444292 -0.378706 -0.378566 -0.365248 -0.649156   \n",
       "1      -0.719075 -0.515831 -0.444292 -0.372724 -0.378566 -0.377576 -0.649156   \n",
       "2      -0.719075 -0.515831 -0.444292 -0.378706 -0.395947 -0.365248 -0.652795   \n",
       "3      -0.719075 -0.511143 -0.444292 -0.372724 -0.378566 -0.365248 -0.652795   \n",
       "4      -0.721995 -0.515831 -0.444292 -0.378706 -0.395947 -0.365248 -0.652795   \n",
       "...          ...       ...       ...       ...       ...       ...       ...   \n",
       "375681 -0.690578 -0.515831 -0.444292 -0.372724 -0.395947 -0.365248 -0.652795   \n",
       "375682 -0.664883 -0.511143 -0.444292 -0.378706 -0.378566 -0.365248 -0.652795   \n",
       "375683 -0.605085 -0.511143 -0.447379 -0.378706 -0.378566 -0.377576 -0.652795   \n",
       "375684 -0.579391 -0.515831 -0.447379 -0.378706 -0.395947 -0.377576 -0.652795   \n",
       "375685 -0.587917 -0.515831 -0.444292 -0.372724 -0.378566 -0.365248 -0.649156   \n",
       "\n",
       "               7         8         9  \n",
       "0      -0.246109 -0.514436 -0.629344  \n",
       "1      -0.237365 -0.514436 -0.625752  \n",
       "2      -0.237365 -0.518186 -0.625752  \n",
       "3      -0.254504 -0.514436 -0.629344  \n",
       "4      -0.271642 -0.518186 -0.625752  \n",
       "...          ...       ...       ...  \n",
       "375681 -0.416797 -0.518186 -0.629344  \n",
       "375682 -0.416797 -0.514436 -0.629344  \n",
       "375683 -0.425542 -0.514436 -0.629344  \n",
       "375684 -0.425542 -0.514436 -0.629344  \n",
       "375685 -0.425542 -0.518186 -0.629344  \n",
       "\n",
       "[375686 rows x 10 columns]"
      ]
     },
     "execution_count": 14,
     "metadata": {},
     "output_type": "execute_result"
    }
   ],
   "source": [
    "sc"
   ]
  },
  {
   "cell_type": "code",
   "execution_count": 15,
   "id": "65cfb75d",
   "metadata": {},
   "outputs": [],
   "source": [
    "# Splitting data for training and testing\n",
    "X_train, X_test, y_train, y_test = train_test_split(sc, y, test_size = 0.2, random_state = 39)"
   ]
  },
  {
   "cell_type": "markdown",
   "id": "3ba47781",
   "metadata": {},
   "source": [
    "# Deep Learning "
   ]
  },
  {
   "cell_type": "code",
   "execution_count": 16,
   "id": "d426e2e1",
   "metadata": {},
   "outputs": [],
   "source": [
    "from sklearn.preprocessing import MinMaxScaler\n",
    "from tensorflow.keras.models import Model\n",
    "from tensorflow.keras.layers import Input\n",
    "from tensorflow.keras.layers import Dense\n",
    "from tensorflow.keras.layers import LeakyReLU,ELU\n",
    "from tensorflow.keras.layers import BatchNormalization\n",
    "from tensorflow.keras.utils import plot_model\n",
    "import tensorflow as tf\n",
    "from sklearn.model_selection import cross_val_score\n",
    "from keras.models import Sequential\n",
    "from keras.layers import Dense, BatchNormalization, Dropout\n",
    "from tensorflow.keras.optimizers import Adam, SGD, RMSprop, Adadelta, Adagrad, Adamax, Nadam, Ftrl\n",
    "from keras.callbacks import EarlyStopping, ModelCheckpoint\n",
    "from keras.wrappers.scikit_learn import KerasClassifier\n",
    "from sklearn.metrics import make_scorer, accuracy_score\n",
    "from sklearn.model_selection import StratifiedKFold"
   ]
  },
  {
   "cell_type": "code",
   "execution_count": 17,
   "id": "cd0ef208",
   "metadata": {},
   "outputs": [],
   "source": [
    "from keras.layers import LeakyReLU\n",
    "LeakyReLU = LeakyReLU(alpha=0.1)\n",
    "from keras.models import Sequential\n",
    "from keras.layers import Dense, Flatten, Convolution1D, Dropout\n",
    "from keras.initializers import random_uniform"
   ]
  },
  {
   "cell_type": "markdown",
   "id": "f97d61bc",
   "metadata": {},
   "source": [
    "# 1. Define Network"
   ]
  },
  {
   "cell_type": "code",
   "execution_count": 18,
   "id": "bd77bf81",
   "metadata": {},
   "outputs": [],
   "source": [
    "num_classes = 24\n",
    "input_dim = X.shape[1]"
   ]
  },
  {
   "cell_type": "code",
   "execution_count": 19,
   "id": "fbdce465",
   "metadata": {},
   "outputs": [],
   "source": [
    "visible = Input(shape=(input_dim,))\n",
    "hidden1 = Dense(3000, activation='relu')(visible)\n",
    "hidden2 = Dense(1500, activation='relu')(hidden1)\n",
    "hidden3 = Dropout(0.2)(hidden2)\n",
    "hidden4 = Dense(750, activation='relu')(hidden3)\n",
    "hidden5 = Dense(375, activation='relu')(hidden4)\n",
    "hidden6 = Dense(48, activation='relu')(hidden5)\n",
    "output = Dense(num_classes, activation='softmax')(hidden6)\n",
    "model = Model(inputs=visible, outputs=output)"
   ]
  },
  {
   "cell_type": "code",
   "execution_count": 20,
   "id": "1dd33478",
   "metadata": {},
   "outputs": [
    {
     "name": "stdout",
     "output_type": "stream",
     "text": [
      "Model: \"model\"\n",
      "_________________________________________________________________\n",
      " Layer (type)                Output Shape              Param #   \n",
      "=================================================================\n",
      " input_1 (InputLayer)        [(None, 10)]              0         \n",
      "                                                                 \n",
      " dense (Dense)               (None, 3000)              33000     \n",
      "                                                                 \n",
      " dense_1 (Dense)             (None, 1500)              4501500   \n",
      "                                                                 \n",
      " dropout (Dropout)           (None, 1500)              0         \n",
      "                                                                 \n",
      " dense_2 (Dense)             (None, 750)               1125750   \n",
      "                                                                 \n",
      " dense_3 (Dense)             (None, 375)               281625    \n",
      "                                                                 \n",
      " dense_4 (Dense)             (None, 48)                18048     \n",
      "                                                                 \n",
      " dense_5 (Dense)             (None, 24)                1176      \n",
      "                                                                 \n",
      "=================================================================\n",
      "Total params: 5,961,099\n",
      "Trainable params: 5,961,099\n",
      "Non-trainable params: 0\n",
      "_________________________________________________________________\n"
     ]
    }
   ],
   "source": [
    "model.summary()"
   ]
  },
  {
   "cell_type": "markdown",
   "id": "3196ac97",
   "metadata": {},
   "source": [
    "# 2. Compile Network"
   ]
  },
  {
   "cell_type": "code",
   "execution_count": 21,
   "id": "7a2d558b",
   "metadata": {},
   "outputs": [],
   "source": [
    "model.compile(optimizer='adam', loss='categorical_crossentropy', metrics=['accuracy'])"
   ]
  },
  {
   "cell_type": "code",
   "execution_count": 22,
   "id": "c1d2b36d",
   "metadata": {},
   "outputs": [
    {
     "name": "stdout",
     "output_type": "stream",
     "text": [
      "You must install pydot (`pip install pydot`) and install graphviz (see instructions at https://graphviz.gitlab.io/download/) for plot_model/model_to_dot to work.\n"
     ]
    }
   ],
   "source": [
    "plot_model(model, 'EMG_ANN', show_shapes = True)"
   ]
  },
  {
   "cell_type": "markdown",
   "id": "3358b592",
   "metadata": {},
   "source": [
    "# 3. Fit Network"
   ]
  },
  {
   "cell_type": "code",
   "execution_count": 23,
   "id": "e0ed4ddd",
   "metadata": {},
   "outputs": [
    {
     "name": "stdout",
     "output_type": "stream",
     "text": [
      "Epoch 1/100\n",
      "75/75 [==============================] - 3s 27ms/step - loss: 1.2382 - accuracy: 0.6701 - val_loss: 0.8518 - val_accuracy: 0.7587\n",
      "Epoch 2/100\n",
      "75/75 [==============================] - 2s 25ms/step - loss: 0.7496 - accuracy: 0.7848 - val_loss: 0.7051 - val_accuracy: 0.7974\n",
      "Epoch 3/100\n",
      "75/75 [==============================] - 2s 25ms/step - loss: 0.6207 - accuracy: 0.8190 - val_loss: 0.5851 - val_accuracy: 0.8266\n",
      "Epoch 4/100\n",
      "75/75 [==============================] - 2s 25ms/step - loss: 0.5517 - accuracy: 0.8372 - val_loss: 0.5248 - val_accuracy: 0.8440\n",
      "Epoch 5/100\n",
      "75/75 [==============================] - 2s 25ms/step - loss: 0.4988 - accuracy: 0.8514 - val_loss: 0.4825 - val_accuracy: 0.8550\n",
      "Epoch 6/100\n",
      "75/75 [==============================] - 2s 25ms/step - loss: 0.4593 - accuracy: 0.8619 - val_loss: 0.4395 - val_accuracy: 0.8688\n",
      "Epoch 7/100\n",
      "75/75 [==============================] - 2s 25ms/step - loss: 0.4289 - accuracy: 0.8712 - val_loss: 0.4177 - val_accuracy: 0.8744\n",
      "Epoch 8/100\n",
      "75/75 [==============================] - 2s 25ms/step - loss: 0.4092 - accuracy: 0.8760 - val_loss: 0.3982 - val_accuracy: 0.8779\n",
      "Epoch 9/100\n",
      "75/75 [==============================] - 2s 25ms/step - loss: 0.3799 - accuracy: 0.8847 - val_loss: 0.3666 - val_accuracy: 0.8885\n",
      "Epoch 10/100\n",
      "75/75 [==============================] - 2s 25ms/step - loss: 0.3585 - accuracy: 0.8907 - val_loss: 0.3616 - val_accuracy: 0.8892\n",
      "Epoch 11/100\n",
      "75/75 [==============================] - 2s 25ms/step - loss: 0.3417 - accuracy: 0.8949 - val_loss: 0.3632 - val_accuracy: 0.8885\n",
      "Epoch 12/100\n",
      "75/75 [==============================] - 2s 25ms/step - loss: 0.3310 - accuracy: 0.8983 - val_loss: 0.3753 - val_accuracy: 0.8964\n",
      "Epoch 13/100\n",
      "75/75 [==============================] - 2s 25ms/step - loss: 0.3315 - accuracy: 0.8995 - val_loss: 0.3156 - val_accuracy: 0.9020\n",
      "Epoch 14/100\n",
      "75/75 [==============================] - 2s 25ms/step - loss: 0.2966 - accuracy: 0.9085 - val_loss: 0.3305 - val_accuracy: 0.9028\n",
      "Epoch 15/100\n",
      "75/75 [==============================] - 2s 25ms/step - loss: 0.2942 - accuracy: 0.9094 - val_loss: 0.2955 - val_accuracy: 0.9106\n",
      "Epoch 16/100\n",
      "75/75 [==============================] - 2s 25ms/step - loss: 0.2773 - accuracy: 0.9144 - val_loss: 0.2767 - val_accuracy: 0.9147\n",
      "Epoch 17/100\n",
      "75/75 [==============================] - 2s 25ms/step - loss: 0.2677 - accuracy: 0.9168 - val_loss: 0.2710 - val_accuracy: 0.9165\n",
      "Epoch 18/100\n",
      "75/75 [==============================] - 2s 25ms/step - loss: 0.2578 - accuracy: 0.9205 - val_loss: 0.2702 - val_accuracy: 0.9175\n",
      "Epoch 19/100\n",
      "75/75 [==============================] - 2s 25ms/step - loss: 0.2493 - accuracy: 0.9221 - val_loss: 0.2518 - val_accuracy: 0.9209\n",
      "Epoch 20/100\n",
      "75/75 [==============================] - 2s 25ms/step - loss: 0.2402 - accuracy: 0.9246 - val_loss: 0.2404 - val_accuracy: 0.9252\n",
      "Epoch 21/100\n",
      "75/75 [==============================] - 2s 25ms/step - loss: 0.2301 - accuracy: 0.9286 - val_loss: 0.2432 - val_accuracy: 0.9253\n",
      "Epoch 22/100\n",
      "75/75 [==============================] - 2s 26ms/step - loss: 0.2279 - accuracy: 0.9293 - val_loss: 0.2423 - val_accuracy: 0.9255\n",
      "Epoch 23/100\n",
      "75/75 [==============================] - 2s 25ms/step - loss: 0.2149 - accuracy: 0.9333 - val_loss: 0.2286 - val_accuracy: 0.9289\n",
      "Epoch 24/100\n",
      "75/75 [==============================] - 2s 26ms/step - loss: 0.2148 - accuracy: 0.9333 - val_loss: 0.2297 - val_accuracy: 0.9274\n",
      "Epoch 25/100\n",
      "75/75 [==============================] - 2s 26ms/step - loss: 0.2067 - accuracy: 0.9359 - val_loss: 0.2223 - val_accuracy: 0.9309\n",
      "Epoch 26/100\n",
      "75/75 [==============================] - 2s 25ms/step - loss: 0.2005 - accuracy: 0.9371 - val_loss: 0.2190 - val_accuracy: 0.9324\n",
      "Epoch 27/100\n",
      "75/75 [==============================] - 2s 26ms/step - loss: 0.1972 - accuracy: 0.9385 - val_loss: 0.2029 - val_accuracy: 0.9361\n",
      "Epoch 28/100\n",
      "75/75 [==============================] - 2s 26ms/step - loss: 0.1868 - accuracy: 0.9416 - val_loss: 0.2100 - val_accuracy: 0.9364\n",
      "Epoch 29/100\n",
      "75/75 [==============================] - 2s 26ms/step - loss: 0.1847 - accuracy: 0.9422 - val_loss: 0.2111 - val_accuracy: 0.9349\n",
      "Epoch 30/100\n",
      "75/75 [==============================] - 2s 26ms/step - loss: 0.1823 - accuracy: 0.9428 - val_loss: 0.2084 - val_accuracy: 0.9372\n",
      "Epoch 31/100\n",
      "75/75 [==============================] - 2s 26ms/step - loss: 0.1777 - accuracy: 0.9444 - val_loss: 0.2008 - val_accuracy: 0.9368\n",
      "Epoch 32/100\n",
      "75/75 [==============================] - 2s 26ms/step - loss: 0.1729 - accuracy: 0.9456 - val_loss: 0.1846 - val_accuracy: 0.9429\n",
      "Epoch 33/100\n",
      "75/75 [==============================] - 2s 26ms/step - loss: 0.1722 - accuracy: 0.9462 - val_loss: 0.1949 - val_accuracy: 0.9399\n",
      "Epoch 34/100\n",
      "75/75 [==============================] - 2s 26ms/step - loss: 0.1727 - accuracy: 0.9459 - val_loss: 0.1952 - val_accuracy: 0.9409\n",
      "Epoch 35/100\n",
      "75/75 [==============================] - 2s 26ms/step - loss: 0.1583 - accuracy: 0.9503 - val_loss: 0.1758 - val_accuracy: 0.9451\n",
      "Epoch 36/100\n",
      "75/75 [==============================] - 2s 26ms/step - loss: 0.1568 - accuracy: 0.9509 - val_loss: 0.2136 - val_accuracy: 0.9380\n",
      "Epoch 37/100\n",
      "75/75 [==============================] - 2s 26ms/step - loss: 0.1753 - accuracy: 0.9467 - val_loss: 0.1702 - val_accuracy: 0.9476\n",
      "Epoch 38/100\n",
      "75/75 [==============================] - 2s 26ms/step - loss: 0.1485 - accuracy: 0.9536 - val_loss: 0.1724 - val_accuracy: 0.9465\n",
      "Epoch 39/100\n",
      "75/75 [==============================] - 2s 26ms/step - loss: 0.1487 - accuracy: 0.9534 - val_loss: 0.1699 - val_accuracy: 0.9470\n",
      "Epoch 40/100\n",
      "75/75 [==============================] - 2s 26ms/step - loss: 0.1472 - accuracy: 0.9534 - val_loss: 0.1616 - val_accuracy: 0.9496\n",
      "Epoch 41/100\n",
      "75/75 [==============================] - 2s 26ms/step - loss: 0.1423 - accuracy: 0.9555 - val_loss: 0.1674 - val_accuracy: 0.9481\n",
      "Epoch 42/100\n",
      "75/75 [==============================] - 2s 26ms/step - loss: 0.1389 - accuracy: 0.9561 - val_loss: 0.1586 - val_accuracy: 0.9501\n",
      "Epoch 43/100\n",
      "75/75 [==============================] - 2s 26ms/step - loss: 0.1395 - accuracy: 0.9557 - val_loss: 0.1636 - val_accuracy: 0.9493\n",
      "Epoch 44/100\n",
      "75/75 [==============================] - 2s 26ms/step - loss: 0.1357 - accuracy: 0.9577 - val_loss: 0.1468 - val_accuracy: 0.9540\n",
      "Epoch 45/100\n",
      "75/75 [==============================] - 2s 26ms/step - loss: 0.1283 - accuracy: 0.9596 - val_loss: 0.1504 - val_accuracy: 0.9540\n",
      "Epoch 46/100\n",
      "75/75 [==============================] - 2s 26ms/step - loss: 0.1314 - accuracy: 0.9585 - val_loss: 0.1628 - val_accuracy: 0.9487\n",
      "Epoch 47/100\n",
      "75/75 [==============================] - 2s 26ms/step - loss: 0.1323 - accuracy: 0.9586 - val_loss: 0.1555 - val_accuracy: 0.9525\n",
      "Epoch 48/100\n",
      "75/75 [==============================] - 2s 26ms/step - loss: 0.1267 - accuracy: 0.9605 - val_loss: 0.1520 - val_accuracy: 0.9528\n",
      "Epoch 49/100\n",
      "75/75 [==============================] - 2s 26ms/step - loss: 0.1284 - accuracy: 0.9594 - val_loss: 0.1361 - val_accuracy: 0.9587\n",
      "Epoch 50/100\n",
      "75/75 [==============================] - 2s 26ms/step - loss: 0.1188 - accuracy: 0.9625 - val_loss: 0.1459 - val_accuracy: 0.9557\n",
      "Epoch 51/100\n",
      "75/75 [==============================] - 2s 26ms/step - loss: 0.1200 - accuracy: 0.9622 - val_loss: 0.1408 - val_accuracy: 0.9573\n",
      "Epoch 52/100\n",
      "75/75 [==============================] - 2s 26ms/step - loss: 0.1147 - accuracy: 0.9641 - val_loss: 0.1371 - val_accuracy: 0.9580\n",
      "Epoch 53/100\n",
      "75/75 [==============================] - 2s 26ms/step - loss: 0.1193 - accuracy: 0.9626 - val_loss: 0.1464 - val_accuracy: 0.9558\n",
      "Epoch 54/100\n",
      "75/75 [==============================] - 2s 26ms/step - loss: 0.1168 - accuracy: 0.9632 - val_loss: 0.1338 - val_accuracy: 0.9594\n",
      "Epoch 55/100\n",
      "75/75 [==============================] - 2s 26ms/step - loss: 0.1130 - accuracy: 0.9644 - val_loss: 0.1378 - val_accuracy: 0.9579\n",
      "Epoch 56/100\n",
      "75/75 [==============================] - 2s 26ms/step - loss: 0.1127 - accuracy: 0.9647 - val_loss: 0.1334 - val_accuracy: 0.9595\n",
      "Epoch 57/100\n",
      "75/75 [==============================] - 2s 26ms/step - loss: 0.1076 - accuracy: 0.9665 - val_loss: 0.1355 - val_accuracy: 0.9593\n",
      "Epoch 58/100\n"
     ]
    },
    {
     "name": "stdout",
     "output_type": "stream",
     "text": [
      "75/75 [==============================] - 2s 26ms/step - loss: 0.1103 - accuracy: 0.9651 - val_loss: 0.1363 - val_accuracy: 0.9591\n",
      "Epoch 59/100\n",
      "75/75 [==============================] - 2s 26ms/step - loss: 0.1116 - accuracy: 0.9650 - val_loss: 0.1306 - val_accuracy: 0.9602\n",
      "Epoch 60/100\n",
      "75/75 [==============================] - 2s 26ms/step - loss: 0.1074 - accuracy: 0.9661 - val_loss: 0.1309 - val_accuracy: 0.9596\n",
      "Epoch 61/100\n",
      "75/75 [==============================] - 2s 26ms/step - loss: 0.1040 - accuracy: 0.9670 - val_loss: 0.1705 - val_accuracy: 0.9497\n",
      "Epoch 62/100\n",
      "75/75 [==============================] - 2s 27ms/step - loss: 0.1200 - accuracy: 0.9634 - val_loss: 0.1234 - val_accuracy: 0.9617\n",
      "Epoch 63/100\n",
      "75/75 [==============================] - 2s 27ms/step - loss: 0.1014 - accuracy: 0.9681 - val_loss: 0.1291 - val_accuracy: 0.9612\n",
      "Epoch 64/100\n",
      "75/75 [==============================] - 2s 27ms/step - loss: 0.0996 - accuracy: 0.9690 - val_loss: 0.1329 - val_accuracy: 0.9594\n",
      "Epoch 65/100\n",
      "75/75 [==============================] - 2s 26ms/step - loss: 0.1053 - accuracy: 0.9671 - val_loss: 0.1242 - val_accuracy: 0.9622\n",
      "Epoch 66/100\n",
      "75/75 [==============================] - 2s 26ms/step - loss: 0.0978 - accuracy: 0.9696 - val_loss: 0.1334 - val_accuracy: 0.9597\n",
      "Epoch 67/100\n",
      "75/75 [==============================] - 2s 27ms/step - loss: 0.1079 - accuracy: 0.9666 - val_loss: 0.1245 - val_accuracy: 0.9627\n",
      "Epoch 68/100\n",
      "75/75 [==============================] - 2s 26ms/step - loss: 0.0939 - accuracy: 0.9705 - val_loss: 0.1268 - val_accuracy: 0.9620\n",
      "Epoch 69/100\n",
      "75/75 [==============================] - 2s 26ms/step - loss: 0.0991 - accuracy: 0.9689 - val_loss: 0.1334 - val_accuracy: 0.9605\n",
      "Epoch 70/100\n",
      "75/75 [==============================] - 2s 26ms/step - loss: 0.0973 - accuracy: 0.9694 - val_loss: 0.1280 - val_accuracy: 0.9625\n",
      "Epoch 71/100\n",
      "75/75 [==============================] - 2s 26ms/step - loss: 0.0941 - accuracy: 0.9705 - val_loss: 0.1158 - val_accuracy: 0.9651\n",
      "Epoch 72/100\n",
      "75/75 [==============================] - 2s 26ms/step - loss: 0.0904 - accuracy: 0.9715 - val_loss: 0.1180 - val_accuracy: 0.9638\n",
      "Epoch 73/100\n",
      "75/75 [==============================] - 2s 26ms/step - loss: 0.0881 - accuracy: 0.9725 - val_loss: 0.1168 - val_accuracy: 0.9651\n",
      "Epoch 74/100\n",
      "75/75 [==============================] - 2s 26ms/step - loss: 0.0897 - accuracy: 0.9717 - val_loss: 0.1149 - val_accuracy: 0.9648\n",
      "Epoch 75/100\n",
      "75/75 [==============================] - 2s 26ms/step - loss: 0.0892 - accuracy: 0.9717 - val_loss: 0.1180 - val_accuracy: 0.9655\n",
      "Epoch 76/100\n",
      "75/75 [==============================] - 2s 26ms/step - loss: 0.0876 - accuracy: 0.9724 - val_loss: 0.1116 - val_accuracy: 0.9672\n",
      "Epoch 77/100\n",
      "75/75 [==============================] - 2s 26ms/step - loss: 0.0843 - accuracy: 0.9738 - val_loss: 0.1456 - val_accuracy: 0.9560\n",
      "Epoch 78/100\n",
      "75/75 [==============================] - 2s 26ms/step - loss: 0.0975 - accuracy: 0.9696 - val_loss: 0.1177 - val_accuracy: 0.9644\n",
      "Epoch 79/100\n",
      "75/75 [==============================] - 2s 26ms/step - loss: 0.0869 - accuracy: 0.9729 - val_loss: 0.1114 - val_accuracy: 0.9666\n",
      "Epoch 80/100\n",
      "75/75 [==============================] - 2s 26ms/step - loss: 0.0833 - accuracy: 0.9736 - val_loss: 0.1129 - val_accuracy: 0.9663\n",
      "Epoch 81/100\n",
      "75/75 [==============================] - 2s 26ms/step - loss: 0.0867 - accuracy: 0.9729 - val_loss: 0.1199 - val_accuracy: 0.9650\n",
      "Epoch 82/100\n",
      "75/75 [==============================] - 2s 26ms/step - loss: 0.0833 - accuracy: 0.9741 - val_loss: 0.1165 - val_accuracy: 0.9669\n",
      "Epoch 83/100\n",
      "75/75 [==============================] - 2s 26ms/step - loss: 0.0909 - accuracy: 0.9716 - val_loss: 0.1294 - val_accuracy: 0.9609\n",
      "Epoch 84/100\n",
      "75/75 [==============================] - 2s 26ms/step - loss: 0.0911 - accuracy: 0.9714 - val_loss: 0.1086 - val_accuracy: 0.9686\n",
      "Epoch 85/100\n",
      "75/75 [==============================] - 2s 26ms/step - loss: 0.0814 - accuracy: 0.9744 - val_loss: 0.1056 - val_accuracy: 0.9689\n",
      "Epoch 86/100\n",
      "75/75 [==============================] - 2s 26ms/step - loss: 0.0780 - accuracy: 0.9755 - val_loss: 0.1078 - val_accuracy: 0.9686\n",
      "Epoch 87/100\n",
      "75/75 [==============================] - 2s 26ms/step - loss: 0.0806 - accuracy: 0.9750 - val_loss: 0.1149 - val_accuracy: 0.9669\n",
      "Epoch 88/100\n",
      "75/75 [==============================] - 2s 26ms/step - loss: 0.0774 - accuracy: 0.9757 - val_loss: 0.1037 - val_accuracy: 0.9699\n",
      "Epoch 89/100\n",
      "75/75 [==============================] - 2s 26ms/step - loss: 0.0753 - accuracy: 0.9760 - val_loss: 0.1091 - val_accuracy: 0.9684\n",
      "Epoch 90/100\n",
      "75/75 [==============================] - 2s 26ms/step - loss: 0.0764 - accuracy: 0.9760 - val_loss: 0.1379 - val_accuracy: 0.9573\n",
      "Epoch 91/100\n",
      "75/75 [==============================] - 2s 26ms/step - loss: 0.0821 - accuracy: 0.9743 - val_loss: 0.1185 - val_accuracy: 0.9649\n",
      "Epoch 92/100\n",
      "75/75 [==============================] - 2s 26ms/step - loss: 0.0779 - accuracy: 0.9755 - val_loss: 0.1094 - val_accuracy: 0.9689\n",
      "Epoch 93/100\n",
      "75/75 [==============================] - 2s 27ms/step - loss: 0.0762 - accuracy: 0.9760 - val_loss: 0.1017 - val_accuracy: 0.9705\n",
      "Epoch 94/100\n",
      "75/75 [==============================] - 2s 26ms/step - loss: 0.0766 - accuracy: 0.9759 - val_loss: 0.1200 - val_accuracy: 0.9656\n",
      "Epoch 95/100\n",
      "75/75 [==============================] - 2s 27ms/step - loss: 0.0802 - accuracy: 0.9747 - val_loss: 0.1209 - val_accuracy: 0.9674\n",
      "Epoch 96/100\n",
      "75/75 [==============================] - 2s 26ms/step - loss: 0.0773 - accuracy: 0.9757 - val_loss: 0.1174 - val_accuracy: 0.9670\n",
      "Epoch 97/100\n",
      "75/75 [==============================] - 2s 26ms/step - loss: 0.0745 - accuracy: 0.9765 - val_loss: 0.1209 - val_accuracy: 0.9646\n",
      "Epoch 98/100\n",
      "75/75 [==============================] - 2s 26ms/step - loss: 0.0836 - accuracy: 0.9744 - val_loss: 0.1065 - val_accuracy: 0.9684\n",
      "Epoch 99/100\n",
      "75/75 [==============================] - 2s 27ms/step - loss: 0.0762 - accuracy: 0.9761 - val_loss: 0.1113 - val_accuracy: 0.9684\n",
      "Epoch 100/100\n",
      "75/75 [==============================] - 2s 27ms/step - loss: 0.0710 - accuracy: 0.9778 - val_loss: 0.1090 - val_accuracy: 0.9696\n"
     ]
    }
   ],
   "source": [
    "history = model.fit(X_train, y_train, batch_size=4056, epochs=100, validation_data = (X_test, y_test))"
   ]
  },
  {
   "cell_type": "markdown",
   "id": "ffed59b1",
   "metadata": {},
   "source": [
    "# 4.Evaluate Network"
   ]
  },
  {
   "cell_type": "markdown",
   "id": "28731190",
   "metadata": {},
   "source": [
    "## 4.1. Plotting Loss and Accuracy"
   ]
  },
  {
   "cell_type": "code",
   "execution_count": 24,
   "id": "971e6040",
   "metadata": {},
   "outputs": [
    {
     "data": {
      "text/plain": [
       "Text(0.5, 1.0, 'Loss Curve of Deep Neural Netowork')"
      ]
     },
     "execution_count": 24,
     "metadata": {},
     "output_type": "execute_result"
    },
    {
     "data": {
      "image/png": "[encoded data removed]",
      "text/plain": [
       "<Figure size 432x288 with 1 Axes>"
      ]
     },
     "metadata": {
      "needs_background": "light"
     },
     "output_type": "display_data"
    }
   ],
   "source": [
    "#Loss Curve\n",
    "\n",
    "\n",
    "plt.plot(figsize = [8,6])\n",
    "\n",
    "plt.plot(history.history['loss'],'r',linewidth = 3.0)\n",
    "plt.plot(history.history['val_loss'],'b',linewidth = 3.0)\n",
    "\n",
    "plt.legend(['Training Loss', 'Validation Loss'], fontsize = 18)\n",
    "\n",
    "plt.xlabel('Epochs', fontsize = 16)\n",
    "plt.ylabel('Loss', fontsize = 16)\n",
    "\n",
    "plt.title('Loss Curve of Deep Neural Netowork' , fontsize = 16 )\n",
    "\n"
   ]
  },
  {
   "cell_type": "code",
   "execution_count": 25,
   "id": "b0c193ec",
   "metadata": {},
   "outputs": [
    {
     "data": {
      "text/plain": [
       "Text(0.5, 1.0, 'Accuracy Curve of Deep Neural Netowork')"
      ]
     },
     "execution_count": 25,
     "metadata": {},
     "output_type": "execute_result"
    },
    {
     "data": {
      "image/png": "[encoded data removed]",
      "text/plain": [
       "<Figure size 432x288 with 1 Axes>"
      ]
     },
     "metadata": {
      "needs_background": "light"
     },
     "output_type": "display_data"
    }
   ],
   "source": [
    "#Accuracy Curve\n",
    "\n",
    "plt.plot(figsize = [8,6])\n",
    "plt.plot(history.history['accuracy'],'r',linewidth = 3.0)\n",
    "plt.plot(history.history['val_accuracy'],'b',linewidth = 3.0)\n",
    "\n",
    "plt.legend(['Training Accuracy', 'Validation Accuracy'], fontsize = 18)\n",
    "\n",
    "plt.xlabel('Epochs', fontsize = 16)\n",
    "plt.ylabel('Accuracy', fontsize = 16)\n",
    "\n",
    "\n",
    "plt.title('Accuracy Curve of Deep Neural Netowork' , fontsize = 16 )"
   ]
  },
  {
   "cell_type": "markdown",
   "id": "741a02aa",
   "metadata": {},
   "source": [
    "##  4.2 Make Predictions"
   ]
  },
  {
   "cell_type": "code",
   "execution_count": 26,
   "id": "e8465627",
   "metadata": {},
   "outputs": [],
   "source": [
    "predictions = model.predict(X_test)\n",
    "predictions = np.argmax(predictions, axis = 1)"
   ]
  },
  {
   "cell_type": "code",
   "execution_count": 27,
   "id": "3cac1a50",
   "metadata": {},
   "outputs": [
    {
     "data": {
      "text/plain": [
       "array([16,  0,  8, ...,  0,  0,  0], dtype=int64)"
      ]
     },
     "execution_count": 27,
     "metadata": {},
     "output_type": "execute_result"
    }
   ],
   "source": [
    "predictions"
   ]
  },
  {
   "cell_type": "markdown",
   "id": "70d666bb",
   "metadata": {},
   "source": [
    "#### Transforming from One Hot Encoding"
   ]
  },
  {
   "cell_type": "code",
   "execution_count": 28,
   "id": "7234b6e7",
   "metadata": {},
   "outputs": [
    {
     "data": {
      "text/plain": [
       "0"
      ]
     },
     "execution_count": 28,
     "metadata": {},
     "output_type": "execute_result"
    }
   ],
   "source": [
    "y_test =np.argmax(y_test, axis=1)\n",
    "y_test[1]"
   ]
  },
  {
   "cell_type": "code",
   "execution_count": 29,
   "id": "6278820d",
   "metadata": {},
   "outputs": [
    {
     "name": "stdout",
     "output_type": "stream",
     "text": [
      "Accuracy is: 96.956267135138\n"
     ]
    }
   ],
   "source": [
    "from sklearn.metrics import accuracy_score\n",
    "accuracy = {accuracy_score(y_test, predictions)}\n",
    "print(f\"Accuracy is: {accuracy_score(y_test, predictions)* 100}\")"
   ]
  },
  {
   "cell_type": "markdown",
   "id": "eb044ea1",
   "metadata": {},
   "source": [
    "## 4.3 Classification Report"
   ]
  },
  {
   "cell_type": "code",
   "execution_count": 30,
   "id": "001ebc5a",
   "metadata": {},
   "outputs": [
    {
     "name": "stdout",
     "output_type": "stream",
     "text": [
      "\u001b[1mClassification report : \u001b[0m\n",
      "               precision    recall  f1-score   support\n",
      "\n",
      "           0       0.97      0.99      0.98     38828\n",
      "           1       0.97      0.97      0.97      2247\n",
      "           2       0.97      0.93      0.95      1964\n",
      "           3       0.98      0.96      0.97      2266\n",
      "           4       0.96      0.95      0.96      1973\n",
      "           5       0.95      0.97      0.96      1941\n",
      "           6       0.98      0.95      0.96      2045\n",
      "           7       0.96      0.95      0.96      2179\n",
      "           8       0.96      0.95      0.95      2155\n",
      "           9       0.97      0.94      0.95      1927\n",
      "          10       0.98      0.87      0.92      1749\n",
      "          11       0.97      0.95      0.96      2132\n",
      "          12       0.94      0.91      0.93      1925\n",
      "          13       0.97      0.94      0.96      1471\n",
      "          14       0.97      0.94      0.95      1342\n",
      "          15       0.94      0.86      0.90      1338\n",
      "          16       0.98      0.96      0.97      1480\n",
      "          17       0.98      0.92      0.95      1581\n",
      "          18       0.99      0.96      0.98       655\n",
      "          19       0.98      0.94      0.96       874\n",
      "          20       0.99      0.99      0.99       788\n",
      "          21       0.98      0.97      0.98       671\n",
      "          22       1.00      0.99      0.99       680\n",
      "          23       1.00      0.97      0.98       927\n",
      "\n",
      "    accuracy                           0.97     75138\n",
      "   macro avg       0.97      0.95      0.96     75138\n",
      "weighted avg       0.97      0.97      0.97     75138\n",
      "\n",
      "\u001b[1mConfusion Matrix : \u001b[0m\n"
     ]
    },
    {
     "data": {
      "image/png": "[encoded data removed]",
      "text/plain": [
       "<Figure size 432x288 with 2 Axes>"
      ]
     },
     "metadata": {
      "needs_background": "light"
     },
     "output_type": "display_data"
    }
   ],
   "source": [
    "from sklearn.metrics import confusion_matrix, f1_score, accuracy_score, classification_report\n",
    "print('\\033[1m' +'Classification report : '+ '\\033[0m\\n', classification_report(y_test, predictions))\n",
    "\n",
    "cm = confusion_matrix(predictions, y_test)\n",
    "print('\\033[1m' +'Confusion Matrix : '+ '\\033[0m')\n",
    "sns.heatmap(cm, cmap = 'OrRd',annot = True, fmt='d')\n",
    "plt.show()"
   ]
  },
  {
   "cell_type": "markdown",
   "id": "eaa5e512",
   "metadata": {},
   "source": [
    "## 4.4 Evaluation"
   ]
  },
  {
   "cell_type": "code",
   "execution_count": 31,
   "id": "9e469f86",
   "metadata": {},
   "outputs": [
    {
     "name": "stdout",
     "output_type": "stream",
     "text": [
      "MAE: 0.2510979797173201\n",
      "MSE: 3.023223934626953\n",
      "RMSE: 1.7387420552304338\n"
     ]
    }
   ],
   "source": [
    "from sklearn import metrics\n",
    "\n",
    "print('MAE:', metrics.mean_absolute_error(y_test,predictions))\n",
    "print('MSE:', metrics.mean_squared_error(y_test, predictions))\n",
    "print('RMSE:', np.sqrt(metrics.mean_squared_error(y_test, predictions)))"
   ]
  },
  {
   "cell_type": "code",
   "execution_count": 32,
   "id": "dff2a82d",
   "metadata": {},
   "outputs": [
    {
     "name": "stdout",
     "output_type": "stream",
     "text": [
      "Precision Score :  0.9696075811544312\n",
      "Recall Score :  0.9695626713513801\n",
      "f1_score :  0.9692954375661349\n"
     ]
    }
   ],
   "source": [
    "from sklearn.metrics import precision_score\n",
    "print(\"Precision Score : \",precision_score(y_test, predictions, average='weighted'))\n",
    "\n",
    "\n",
    "from sklearn.metrics import recall_score\n",
    "print(\"Recall Score : \",recall_score(y_test, predictions,average='weighted'))\n",
    "\n",
    "\n",
    "from sklearn.metrics import f1_score\n",
    "print(\"f1_score : \",f1_score(y_test, predictions,average='weighted'))"
   ]
  },
  {
   "cell_type": "code",
   "execution_count": null,
   "id": "81ac7468",
   "metadata": {},
   "outputs": [],
   "source": []
  },
  {
   "cell_type": "code",
   "execution_count": null,
   "id": "71a4c6e0",
   "metadata": {},
   "outputs": [],
   "source": []
  }
 ],
 "metadata": {
  "kernelspec": {
   "display_name": "Python 3 (ipykernel)",
   "language": "python",
   "name": "python3"
  },
  "language_info": {
   "codemirror_mode": {
    "name": "ipython",
    "version": 3
   },
   "file_extension": ".py",
   "mimetype": "text/x-python",
   "name": "python",
   "nbconvert_exporter": "python",
   "pygments_lexer": "ipython3",
   "version": "3.8.12"
  }
 },
 "nbformat": 4,
 "nbformat_minor": 5
}
