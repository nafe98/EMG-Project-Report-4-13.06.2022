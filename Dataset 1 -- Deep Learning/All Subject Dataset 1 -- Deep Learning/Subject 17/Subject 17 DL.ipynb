{
 "cells": [
  {
   "cell_type": "markdown",
   "id": "bf8ee932",
   "metadata": {},
   "source": [
    "# Importing Libraries"
   ]
  },
  {
   "cell_type": "code",
   "execution_count": 1,
   "id": "0f663fa8",
   "metadata": {},
   "outputs": [],
   "source": [
    "import numpy as np\n",
    "import pandas as pd\n",
    "import matplotlib.pyplot as plt\n",
    "import seaborn as sns\n",
    "from sklearn.model_selection import train_test_split"
   ]
  },
  {
   "cell_type": "markdown",
   "id": "511af272",
   "metadata": {},
   "source": [
    "# Loading Data"
   ]
  },
  {
   "cell_type": "code",
   "execution_count": 2,
   "id": "04fd19b0",
   "metadata": {},
   "outputs": [
    {
     "data": {
      "text/html": [
       "<div>\n",
       "<style scoped>\n",
       "    .dataframe tbody tr th:only-of-type {\n",
       "        vertical-align: middle;\n",
       "    }\n",
       "\n",
       "    .dataframe tbody tr th {\n",
       "        vertical-align: top;\n",
       "    }\n",
       "\n",
       "    .dataframe thead th {\n",
       "        text-align: right;\n",
       "    }\n",
       "</style>\n",
       "<table border=\"1\" class=\"dataframe\">\n",
       "  <thead>\n",
       "    <tr style=\"text-align: right;\">\n",
       "      <th></th>\n",
       "      <th>Emg1</th>\n",
       "      <th>Emg2</th>\n",
       "      <th>Emg3</th>\n",
       "      <th>Emg4</th>\n",
       "      <th>Emg5</th>\n",
       "      <th>Emg6</th>\n",
       "      <th>Emg7</th>\n",
       "      <th>Emg8</th>\n",
       "      <th>Emg9</th>\n",
       "      <th>Emg10</th>\n",
       "      <th>repetition</th>\n",
       "      <th>rerepetition</th>\n",
       "      <th>stimulus</th>\n",
       "      <th>restimulus</th>\n",
       "    </tr>\n",
       "  </thead>\n",
       "  <tbody>\n",
       "    <tr>\n",
       "      <th>470497</th>\n",
       "      <td>0.0879</td>\n",
       "      <td>0.0024</td>\n",
       "      <td>0.0024</td>\n",
       "      <td>0.0024</td>\n",
       "      <td>0.0024</td>\n",
       "      <td>0.0024</td>\n",
       "      <td>0.0024</td>\n",
       "      <td>0.0464</td>\n",
       "      <td>0.0024</td>\n",
       "      <td>0.0024</td>\n",
       "      <td>0</td>\n",
       "      <td>0</td>\n",
       "      <td>0</td>\n",
       "      <td>0</td>\n",
       "    </tr>\n",
       "    <tr>\n",
       "      <th>305780</th>\n",
       "      <td>0.1807</td>\n",
       "      <td>0.0024</td>\n",
       "      <td>0.0024</td>\n",
       "      <td>0.0024</td>\n",
       "      <td>0.0024</td>\n",
       "      <td>0.0024</td>\n",
       "      <td>0.0024</td>\n",
       "      <td>0.0952</td>\n",
       "      <td>0.0024</td>\n",
       "      <td>0.0024</td>\n",
       "      <td>4</td>\n",
       "      <td>0</td>\n",
       "      <td>7</td>\n",
       "      <td>0</td>\n",
       "    </tr>\n",
       "    <tr>\n",
       "      <th>292367</th>\n",
       "      <td>0.1392</td>\n",
       "      <td>0.0024</td>\n",
       "      <td>0.2173</td>\n",
       "      <td>0.7129</td>\n",
       "      <td>0.0488</td>\n",
       "      <td>0.0024</td>\n",
       "      <td>0.0513</td>\n",
       "      <td>0.1904</td>\n",
       "      <td>0.0098</td>\n",
       "      <td>0.2588</td>\n",
       "      <td>0</td>\n",
       "      <td>0</td>\n",
       "      <td>0</td>\n",
       "      <td>0</td>\n",
       "    </tr>\n",
       "    <tr>\n",
       "      <th>406357</th>\n",
       "      <td>0.0024</td>\n",
       "      <td>0.0024</td>\n",
       "      <td>0.0024</td>\n",
       "      <td>0.0024</td>\n",
       "      <td>0.0024</td>\n",
       "      <td>0.0024</td>\n",
       "      <td>0.1904</td>\n",
       "      <td>0.0830</td>\n",
       "      <td>0.0024</td>\n",
       "      <td>0.2344</td>\n",
       "      <td>0</td>\n",
       "      <td>0</td>\n",
       "      <td>0</td>\n",
       "      <td>0</td>\n",
       "    </tr>\n",
       "    <tr>\n",
       "      <th>302458</th>\n",
       "      <td>0.1392</td>\n",
       "      <td>0.0146</td>\n",
       "      <td>0.0024</td>\n",
       "      <td>0.0024</td>\n",
       "      <td>0.0024</td>\n",
       "      <td>0.0024</td>\n",
       "      <td>0.0024</td>\n",
       "      <td>0.0366</td>\n",
       "      <td>0.0024</td>\n",
       "      <td>0.0024</td>\n",
       "      <td>0</td>\n",
       "      <td>0</td>\n",
       "      <td>0</td>\n",
       "      <td>0</td>\n",
       "    </tr>\n",
       "  </tbody>\n",
       "</table>\n",
       "</div>"
      ],
      "text/plain": [
       "          Emg1    Emg2    Emg3    Emg4    Emg5    Emg6    Emg7    Emg8  \\\n",
       "470497  0.0879  0.0024  0.0024  0.0024  0.0024  0.0024  0.0024  0.0464   \n",
       "305780  0.1807  0.0024  0.0024  0.0024  0.0024  0.0024  0.0024  0.0952   \n",
       "292367  0.1392  0.0024  0.2173  0.7129  0.0488  0.0024  0.0513  0.1904   \n",
       "406357  0.0024  0.0024  0.0024  0.0024  0.0024  0.0024  0.1904  0.0830   \n",
       "302458  0.1392  0.0146  0.0024  0.0024  0.0024  0.0024  0.0024  0.0366   \n",
       "\n",
       "          Emg9   Emg10  repetition  rerepetition  stimulus  restimulus  \n",
       "470497  0.0024  0.0024           0             0         0           0  \n",
       "305780  0.0024  0.0024           4             0         7           0  \n",
       "292367  0.0098  0.2588           0             0         0           0  \n",
       "406357  0.0024  0.2344           0             0         0           0  \n",
       "302458  0.0024  0.0024           0             0         0           0  "
      ]
     },
     "execution_count": 2,
     "metadata": {},
     "output_type": "execute_result"
    }
   ],
   "source": [
    "raw_data = pd.read_excel('Dataset 1 Patient 17.xlsx')\n",
    "raw_data.sample(5)"
   ]
  },
  {
   "cell_type": "code",
   "execution_count": 3,
   "id": "80369ddb",
   "metadata": {},
   "outputs": [
    {
     "name": "stdout",
     "output_type": "stream",
     "text": [
      "<class 'pandas.core.frame.DataFrame'>\n",
      "RangeIndex: 473988 entries, 0 to 473987\n",
      "Data columns (total 14 columns):\n",
      " #   Column        Non-Null Count   Dtype  \n",
      "---  ------        --------------   -----  \n",
      " 0   Emg1          473988 non-null  float64\n",
      " 1   Emg2          473988 non-null  float64\n",
      " 2   Emg3          473988 non-null  float64\n",
      " 3   Emg4          473988 non-null  float64\n",
      " 4   Emg5          473988 non-null  float64\n",
      " 5   Emg6          473988 non-null  float64\n",
      " 6   Emg7          473988 non-null  float64\n",
      " 7   Emg8          473988 non-null  float64\n",
      " 8   Emg9          473988 non-null  float64\n",
      " 9   Emg10         473988 non-null  float64\n",
      " 10  repetition    473988 non-null  int64  \n",
      " 11  rerepetition  473988 non-null  int64  \n",
      " 12  stimulus      473988 non-null  int64  \n",
      " 13  restimulus    473988 non-null  int64  \n",
      "dtypes: float64(10), int64(4)\n",
      "memory usage: 50.6 MB\n"
     ]
    }
   ],
   "source": [
    "raw_data.info()"
   ]
  },
  {
   "cell_type": "code",
   "execution_count": 4,
   "id": "109445f8",
   "metadata": {},
   "outputs": [
    {
     "data": {
      "text/html": [
       "<div>\n",
       "<style scoped>\n",
       "    .dataframe tbody tr th:only-of-type {\n",
       "        vertical-align: middle;\n",
       "    }\n",
       "\n",
       "    .dataframe tbody tr th {\n",
       "        vertical-align: top;\n",
       "    }\n",
       "\n",
       "    .dataframe thead th {\n",
       "        text-align: right;\n",
       "    }\n",
       "</style>\n",
       "<table border=\"1\" class=\"dataframe\">\n",
       "  <thead>\n",
       "    <tr style=\"text-align: right;\">\n",
       "      <th></th>\n",
       "      <th>Emg1</th>\n",
       "      <th>Emg2</th>\n",
       "      <th>Emg3</th>\n",
       "      <th>Emg4</th>\n",
       "      <th>Emg5</th>\n",
       "      <th>Emg6</th>\n",
       "      <th>Emg7</th>\n",
       "      <th>Emg8</th>\n",
       "      <th>Emg9</th>\n",
       "      <th>Emg10</th>\n",
       "      <th>repetition</th>\n",
       "      <th>rerepetition</th>\n",
       "      <th>stimulus</th>\n",
       "      <th>restimulus</th>\n",
       "    </tr>\n",
       "  </thead>\n",
       "  <tbody>\n",
       "    <tr>\n",
       "      <th>count</th>\n",
       "      <td>473988.000000</td>\n",
       "      <td>473988.000000</td>\n",
       "      <td>473988.000000</td>\n",
       "      <td>473988.000000</td>\n",
       "      <td>473988.000000</td>\n",
       "      <td>473988.000000</td>\n",
       "      <td>473988.000000</td>\n",
       "      <td>473988.000000</td>\n",
       "      <td>473988.000000</td>\n",
       "      <td>473988.000000</td>\n",
       "      <td>473988.000000</td>\n",
       "      <td>473988.000000</td>\n",
       "      <td>473988.000000</td>\n",
       "      <td>473988.000000</td>\n",
       "    </tr>\n",
       "    <tr>\n",
       "      <th>mean</th>\n",
       "      <td>0.237301</td>\n",
       "      <td>0.176670</td>\n",
       "      <td>0.174632</td>\n",
       "      <td>0.053067</td>\n",
       "      <td>0.016055</td>\n",
       "      <td>0.038061</td>\n",
       "      <td>0.259480</td>\n",
       "      <td>0.299283</td>\n",
       "      <td>0.189452</td>\n",
       "      <td>0.211255</td>\n",
       "      <td>3.135710</td>\n",
       "      <td>2.152799</td>\n",
       "      <td>5.556793</td>\n",
       "      <td>4.003823</td>\n",
       "    </tr>\n",
       "    <tr>\n",
       "      <th>std</th>\n",
       "      <td>0.385633</td>\n",
       "      <td>0.397342</td>\n",
       "      <td>0.506173</td>\n",
       "      <td>0.206251</td>\n",
       "      <td>0.073030</td>\n",
       "      <td>0.115458</td>\n",
       "      <td>0.551616</td>\n",
       "      <td>0.466489</td>\n",
       "      <td>0.547019</td>\n",
       "      <td>0.427989</td>\n",
       "      <td>3.481578</td>\n",
       "      <td>3.222700</td>\n",
       "      <td>6.570595</td>\n",
       "      <td>6.269613</td>\n",
       "    </tr>\n",
       "    <tr>\n",
       "      <th>min</th>\n",
       "      <td>0.000000</td>\n",
       "      <td>0.000000</td>\n",
       "      <td>0.002400</td>\n",
       "      <td>0.000000</td>\n",
       "      <td>0.002400</td>\n",
       "      <td>0.000000</td>\n",
       "      <td>0.002400</td>\n",
       "      <td>0.000000</td>\n",
       "      <td>0.000000</td>\n",
       "      <td>0.000000</td>\n",
       "      <td>0.000000</td>\n",
       "      <td>0.000000</td>\n",
       "      <td>0.000000</td>\n",
       "      <td>0.000000</td>\n",
       "    </tr>\n",
       "    <tr>\n",
       "      <th>25%</th>\n",
       "      <td>0.024400</td>\n",
       "      <td>0.002400</td>\n",
       "      <td>0.002400</td>\n",
       "      <td>0.002400</td>\n",
       "      <td>0.002400</td>\n",
       "      <td>0.002400</td>\n",
       "      <td>0.002400</td>\n",
       "      <td>0.046400</td>\n",
       "      <td>0.002400</td>\n",
       "      <td>0.002400</td>\n",
       "      <td>0.000000</td>\n",
       "      <td>0.000000</td>\n",
       "      <td>0.000000</td>\n",
       "      <td>0.000000</td>\n",
       "    </tr>\n",
       "    <tr>\n",
       "      <th>50%</th>\n",
       "      <td>0.114700</td>\n",
       "      <td>0.002400</td>\n",
       "      <td>0.002400</td>\n",
       "      <td>0.002400</td>\n",
       "      <td>0.002400</td>\n",
       "      <td>0.002400</td>\n",
       "      <td>0.061000</td>\n",
       "      <td>0.134300</td>\n",
       "      <td>0.002400</td>\n",
       "      <td>0.036600</td>\n",
       "      <td>2.000000</td>\n",
       "      <td>0.000000</td>\n",
       "      <td>3.000000</td>\n",
       "      <td>0.000000</td>\n",
       "    </tr>\n",
       "    <tr>\n",
       "      <th>75%</th>\n",
       "      <td>0.297900</td>\n",
       "      <td>0.127000</td>\n",
       "      <td>0.075700</td>\n",
       "      <td>0.002400</td>\n",
       "      <td>0.002400</td>\n",
       "      <td>0.022000</td>\n",
       "      <td>0.261200</td>\n",
       "      <td>0.341800</td>\n",
       "      <td>0.070800</td>\n",
       "      <td>0.227100</td>\n",
       "      <td>6.000000</td>\n",
       "      <td>4.000000</td>\n",
       "      <td>10.000000</td>\n",
       "      <td>7.000000</td>\n",
       "    </tr>\n",
       "    <tr>\n",
       "      <th>max</th>\n",
       "      <td>4.660600</td>\n",
       "      <td>4.660600</td>\n",
       "      <td>4.658200</td>\n",
       "      <td>4.658200</td>\n",
       "      <td>3.474100</td>\n",
       "      <td>2.683100</td>\n",
       "      <td>4.660600</td>\n",
       "      <td>4.663100</td>\n",
       "      <td>4.660600</td>\n",
       "      <td>4.658200</td>\n",
       "      <td>10.000000</td>\n",
       "      <td>10.000000</td>\n",
       "      <td>23.000000</td>\n",
       "      <td>23.000000</td>\n",
       "    </tr>\n",
       "  </tbody>\n",
       "</table>\n",
       "</div>"
      ],
      "text/plain": [
       "                Emg1           Emg2           Emg3           Emg4  \\\n",
       "count  473988.000000  473988.000000  473988.000000  473988.000000   \n",
       "mean        0.237301       0.176670       0.174632       0.053067   \n",
       "std         0.385633       0.397342       0.506173       0.206251   \n",
       "min         0.000000       0.000000       0.002400       0.000000   \n",
       "25%         0.024400       0.002400       0.002400       0.002400   \n",
       "50%         0.114700       0.002400       0.002400       0.002400   \n",
       "75%         0.297900       0.127000       0.075700       0.002400   \n",
       "max         4.660600       4.660600       4.658200       4.658200   \n",
       "\n",
       "                Emg5           Emg6           Emg7           Emg8  \\\n",
       "count  473988.000000  473988.000000  473988.000000  473988.000000   \n",
       "mean        0.016055       0.038061       0.259480       0.299283   \n",
       "std         0.073030       0.115458       0.551616       0.466489   \n",
       "min         0.002400       0.000000       0.002400       0.000000   \n",
       "25%         0.002400       0.002400       0.002400       0.046400   \n",
       "50%         0.002400       0.002400       0.061000       0.134300   \n",
       "75%         0.002400       0.022000       0.261200       0.341800   \n",
       "max         3.474100       2.683100       4.660600       4.663100   \n",
       "\n",
       "                Emg9          Emg10     repetition   rerepetition  \\\n",
       "count  473988.000000  473988.000000  473988.000000  473988.000000   \n",
       "mean        0.189452       0.211255       3.135710       2.152799   \n",
       "std         0.547019       0.427989       3.481578       3.222700   \n",
       "min         0.000000       0.000000       0.000000       0.000000   \n",
       "25%         0.002400       0.002400       0.000000       0.000000   \n",
       "50%         0.002400       0.036600       2.000000       0.000000   \n",
       "75%         0.070800       0.227100       6.000000       4.000000   \n",
       "max         4.660600       4.658200      10.000000      10.000000   \n",
       "\n",
       "            stimulus     restimulus  \n",
       "count  473988.000000  473988.000000  \n",
       "mean        5.556793       4.003823  \n",
       "std         6.570595       6.269613  \n",
       "min         0.000000       0.000000  \n",
       "25%         0.000000       0.000000  \n",
       "50%         3.000000       0.000000  \n",
       "75%        10.000000       7.000000  \n",
       "max        23.000000      23.000000  "
      ]
     },
     "execution_count": 4,
     "metadata": {},
     "output_type": "execute_result"
    }
   ],
   "source": [
    "raw_data.describe(include='all')"
   ]
  },
  {
   "cell_type": "code",
   "execution_count": 5,
   "id": "f0b9a2e6",
   "metadata": {},
   "outputs": [
    {
     "name": "stdout",
     "output_type": "stream",
     "text": [
      "Unique Dependent values and their counts :\n",
      "0     203806\n",
      "4      15675\n",
      "8      15627\n",
      "7      15627\n",
      "6      15619\n",
      "5      15610\n",
      "12     15602\n",
      "2      15591\n",
      "11     15575\n",
      "9      15571\n",
      "3      15546\n",
      "10     15539\n",
      "1      15500\n",
      "14     10419\n",
      "13     10416\n",
      "17     10410\n",
      "15     10370\n",
      "16     10335\n",
      "21      5221\n",
      "18      5214\n",
      "19      5206\n",
      "23      5175\n",
      "20      5174\n",
      "22      5160\n",
      "Name: stimulus, dtype: int64\n"
     ]
    }
   ],
   "source": [
    "print(\"Unique Dependent values and their counts :\")\n",
    "print(raw_data[\"stimulus\"].value_counts())"
   ]
  },
  {
   "cell_type": "markdown",
   "id": "54420ec4",
   "metadata": {},
   "source": [
    "# Data Cleaning"
   ]
  },
  {
   "cell_type": "code",
   "execution_count": 6,
   "id": "a811198b",
   "metadata": {},
   "outputs": [],
   "source": [
    "index_names = raw_data[ (raw_data['stimulus'] != raw_data['restimulus'])].index\n",
    "raw_data.drop(index_names, inplace = True)"
   ]
  },
  {
   "cell_type": "code",
   "execution_count": 7,
   "id": "556cd92f",
   "metadata": {},
   "outputs": [],
   "source": [
    "index_names = raw_data[ (raw_data['repetition'] != raw_data['rerepetition'])].index\n",
    "raw_data.drop(index_names, inplace = True)"
   ]
  },
  {
   "cell_type": "code",
   "execution_count": 8,
   "id": "c91744f7",
   "metadata": {},
   "outputs": [],
   "source": [
    "X = raw_data.iloc[:,0:10]\n",
    "y = raw_data.stimulus"
   ]
  },
  {
   "cell_type": "markdown",
   "id": "152f7160",
   "metadata": {},
   "source": [
    "# One Hot Encoding"
   ]
  },
  {
   "cell_type": "code",
   "execution_count": 9,
   "id": "dfb77d24",
   "metadata": {},
   "outputs": [],
   "source": [
    "num_classes = 24"
   ]
  },
  {
   "cell_type": "code",
   "execution_count": 10,
   "id": "be64bf6b",
   "metadata": {},
   "outputs": [],
   "source": [
    "# One hot encoding for categorical labels\n",
    "import keras\n",
    "from keras import utils as np_utils\n",
    "y = keras.utils.np_utils.to_categorical(y, num_classes)"
   ]
  },
  {
   "cell_type": "code",
   "execution_count": 11,
   "id": "c7358f86",
   "metadata": {},
   "outputs": [],
   "source": [
    "input_dim = X.shape[1]"
   ]
  },
  {
   "cell_type": "markdown",
   "id": "cb3088a1",
   "metadata": {},
   "source": [
    "# Standard Scaler"
   ]
  },
  {
   "cell_type": "code",
   "execution_count": 12,
   "id": "5bd820f4",
   "metadata": {},
   "outputs": [],
   "source": [
    "from sklearn.preprocessing import StandardScaler\n",
    "standardscaler=StandardScaler()"
   ]
  },
  {
   "cell_type": "code",
   "execution_count": 13,
   "id": "6a118694",
   "metadata": {},
   "outputs": [],
   "source": [
    "sc = pd.DataFrame(standardscaler.fit_transform(X))"
   ]
  },
  {
   "cell_type": "code",
   "execution_count": 14,
   "id": "d6e2f38b",
   "metadata": {},
   "outputs": [
    {
     "data": {
      "text/html": [
       "<div>\n",
       "<style scoped>\n",
       "    .dataframe tbody tr th:only-of-type {\n",
       "        vertical-align: middle;\n",
       "    }\n",
       "\n",
       "    .dataframe tbody tr th {\n",
       "        vertical-align: top;\n",
       "    }\n",
       "\n",
       "    .dataframe thead th {\n",
       "        text-align: right;\n",
       "    }\n",
       "</style>\n",
       "<table border=\"1\" class=\"dataframe\">\n",
       "  <thead>\n",
       "    <tr style=\"text-align: right;\">\n",
       "      <th></th>\n",
       "      <th>0</th>\n",
       "      <th>1</th>\n",
       "      <th>2</th>\n",
       "      <th>3</th>\n",
       "      <th>4</th>\n",
       "      <th>5</th>\n",
       "      <th>6</th>\n",
       "      <th>7</th>\n",
       "      <th>8</th>\n",
       "      <th>9</th>\n",
       "    </tr>\n",
       "  </thead>\n",
       "  <tbody>\n",
       "    <tr>\n",
       "      <th>0</th>\n",
       "      <td>-0.630031</td>\n",
       "      <td>-0.479029</td>\n",
       "      <td>-0.377762</td>\n",
       "      <td>-0.272453</td>\n",
       "      <td>-0.207267</td>\n",
       "      <td>-0.339694</td>\n",
       "      <td>-0.502125</td>\n",
       "      <td>-0.659874</td>\n",
       "      <td>-0.377283</td>\n",
       "      <td>-0.524279</td>\n",
       "    </tr>\n",
       "    <tr>\n",
       "      <th>1</th>\n",
       "      <td>-0.630031</td>\n",
       "      <td>-0.479029</td>\n",
       "      <td>-0.377762</td>\n",
       "      <td>-0.272453</td>\n",
       "      <td>-0.207267</td>\n",
       "      <td>-0.339694</td>\n",
       "      <td>-0.502125</td>\n",
       "      <td>-0.659874</td>\n",
       "      <td>-0.377283</td>\n",
       "      <td>-0.524279</td>\n",
       "    </tr>\n",
       "    <tr>\n",
       "      <th>2</th>\n",
       "      <td>-0.630031</td>\n",
       "      <td>-0.479029</td>\n",
       "      <td>-0.377762</td>\n",
       "      <td>-0.272453</td>\n",
       "      <td>-0.207267</td>\n",
       "      <td>-0.339694</td>\n",
       "      <td>-0.502125</td>\n",
       "      <td>-0.654913</td>\n",
       "      <td>-0.377283</td>\n",
       "      <td>-0.524279</td>\n",
       "    </tr>\n",
       "    <tr>\n",
       "      <th>3</th>\n",
       "      <td>-0.630031</td>\n",
       "      <td>-0.479029</td>\n",
       "      <td>-0.377762</td>\n",
       "      <td>-0.272453</td>\n",
       "      <td>-0.207267</td>\n",
       "      <td>-0.339694</td>\n",
       "      <td>-0.502125</td>\n",
       "      <td>-0.659874</td>\n",
       "      <td>-0.377283</td>\n",
       "      <td>-0.524279</td>\n",
       "    </tr>\n",
       "    <tr>\n",
       "      <th>4</th>\n",
       "      <td>-0.630031</td>\n",
       "      <td>-0.479029</td>\n",
       "      <td>-0.377762</td>\n",
       "      <td>-0.272453</td>\n",
       "      <td>-0.207267</td>\n",
       "      <td>-0.339694</td>\n",
       "      <td>-0.502125</td>\n",
       "      <td>-0.659874</td>\n",
       "      <td>-0.377283</td>\n",
       "      <td>-0.524279</td>\n",
       "    </tr>\n",
       "    <tr>\n",
       "      <th>...</th>\n",
       "      <td>...</td>\n",
       "      <td>...</td>\n",
       "      <td>...</td>\n",
       "      <td>...</td>\n",
       "      <td>...</td>\n",
       "      <td>...</td>\n",
       "      <td>...</td>\n",
       "      <td>...</td>\n",
       "      <td>...</td>\n",
       "      <td>...</td>\n",
       "    </tr>\n",
       "    <tr>\n",
       "      <th>387899</th>\n",
       "      <td>-0.518673</td>\n",
       "      <td>-0.479029</td>\n",
       "      <td>-0.377762</td>\n",
       "      <td>-0.272453</td>\n",
       "      <td>-0.207267</td>\n",
       "      <td>-0.011212</td>\n",
       "      <td>0.459327</td>\n",
       "      <td>-0.073759</td>\n",
       "      <td>-0.377283</td>\n",
       "      <td>0.823149</td>\n",
       "    </tr>\n",
       "    <tr>\n",
       "      <th>387900</th>\n",
       "      <td>-0.460114</td>\n",
       "      <td>-0.479029</td>\n",
       "      <td>-0.377762</td>\n",
       "      <td>-0.272453</td>\n",
       "      <td>-0.207267</td>\n",
       "      <td>-0.068993</td>\n",
       "      <td>0.365718</td>\n",
       "      <td>-0.126934</td>\n",
       "      <td>-0.377283</td>\n",
       "      <td>0.691640</td>\n",
       "    </tr>\n",
       "    <tr>\n",
       "      <th>387901</th>\n",
       "      <td>-0.448354</td>\n",
       "      <td>-0.479029</td>\n",
       "      <td>-0.377762</td>\n",
       "      <td>-0.272453</td>\n",
       "      <td>-0.207267</td>\n",
       "      <td>-0.126774</td>\n",
       "      <td>0.284123</td>\n",
       "      <td>-0.117212</td>\n",
       "      <td>-0.377283</td>\n",
       "      <td>0.681076</td>\n",
       "    </tr>\n",
       "    <tr>\n",
       "      <th>387902</th>\n",
       "      <td>-0.442354</td>\n",
       "      <td>-0.479029</td>\n",
       "      <td>-0.377762</td>\n",
       "      <td>-0.272453</td>\n",
       "      <td>-0.207267</td>\n",
       "      <td>-0.165559</td>\n",
       "      <td>0.263766</td>\n",
       "      <td>-0.059076</td>\n",
       "      <td>-0.377283</td>\n",
       "      <td>0.865405</td>\n",
       "    </tr>\n",
       "    <tr>\n",
       "      <th>387903</th>\n",
       "      <td>-0.442354</td>\n",
       "      <td>-0.479029</td>\n",
       "      <td>-0.377762</td>\n",
       "      <td>-0.272453</td>\n",
       "      <td>-0.207267</td>\n",
       "      <td>-0.184555</td>\n",
       "      <td>0.235233</td>\n",
       "      <td>-0.005901</td>\n",
       "      <td>-0.377283</td>\n",
       "      <td>1.138986</td>\n",
       "    </tr>\n",
       "  </tbody>\n",
       "</table>\n",
       "<p>387904 rows × 10 columns</p>\n",
       "</div>"
      ],
      "text/plain": [
       "               0         1         2         3         4         5         6  \\\n",
       "0      -0.630031 -0.479029 -0.377762 -0.272453 -0.207267 -0.339694 -0.502125   \n",
       "1      -0.630031 -0.479029 -0.377762 -0.272453 -0.207267 -0.339694 -0.502125   \n",
       "2      -0.630031 -0.479029 -0.377762 -0.272453 -0.207267 -0.339694 -0.502125   \n",
       "3      -0.630031 -0.479029 -0.377762 -0.272453 -0.207267 -0.339694 -0.502125   \n",
       "4      -0.630031 -0.479029 -0.377762 -0.272453 -0.207267 -0.339694 -0.502125   \n",
       "...          ...       ...       ...       ...       ...       ...       ...   \n",
       "387899 -0.518673 -0.479029 -0.377762 -0.272453 -0.207267 -0.011212  0.459327   \n",
       "387900 -0.460114 -0.479029 -0.377762 -0.272453 -0.207267 -0.068993  0.365718   \n",
       "387901 -0.448354 -0.479029 -0.377762 -0.272453 -0.207267 -0.126774  0.284123   \n",
       "387902 -0.442354 -0.479029 -0.377762 -0.272453 -0.207267 -0.165559  0.263766   \n",
       "387903 -0.442354 -0.479029 -0.377762 -0.272453 -0.207267 -0.184555  0.235233   \n",
       "\n",
       "               7         8         9  \n",
       "0      -0.659874 -0.377283 -0.524279  \n",
       "1      -0.659874 -0.377283 -0.524279  \n",
       "2      -0.654913 -0.377283 -0.524279  \n",
       "3      -0.659874 -0.377283 -0.524279  \n",
       "4      -0.659874 -0.377283 -0.524279  \n",
       "...          ...       ...       ...  \n",
       "387899 -0.073759 -0.377283  0.823149  \n",
       "387900 -0.126934 -0.377283  0.691640  \n",
       "387901 -0.117212 -0.377283  0.681076  \n",
       "387902 -0.059076 -0.377283  0.865405  \n",
       "387903 -0.005901 -0.377283  1.138986  \n",
       "\n",
       "[387904 rows x 10 columns]"
      ]
     },
     "execution_count": 14,
     "metadata": {},
     "output_type": "execute_result"
    }
   ],
   "source": [
    "sc"
   ]
  },
  {
   "cell_type": "code",
   "execution_count": 15,
   "id": "65cfb75d",
   "metadata": {},
   "outputs": [],
   "source": [
    "# Splitting data for training and testing\n",
    "X_train, X_test, y_train, y_test = train_test_split(sc, y, test_size = 0.2, random_state = 39)"
   ]
  },
  {
   "cell_type": "markdown",
   "id": "3ba47781",
   "metadata": {},
   "source": [
    "# Deep Learning "
   ]
  },
  {
   "cell_type": "code",
   "execution_count": 16,
   "id": "d426e2e1",
   "metadata": {},
   "outputs": [],
   "source": [
    "from sklearn.preprocessing import MinMaxScaler\n",
    "from tensorflow.keras.models import Model\n",
    "from tensorflow.keras.layers import Input\n",
    "from tensorflow.keras.layers import Dense\n",
    "from tensorflow.keras.layers import LeakyReLU,ELU\n",
    "from tensorflow.keras.layers import BatchNormalization\n",
    "from tensorflow.keras.utils import plot_model\n",
    "import tensorflow as tf\n",
    "from sklearn.model_selection import cross_val_score\n",
    "from keras.models import Sequential\n",
    "from keras.layers import Dense, BatchNormalization, Dropout\n",
    "from tensorflow.keras.optimizers import Adam, SGD, RMSprop, Adadelta, Adagrad, Adamax, Nadam, Ftrl\n",
    "from keras.callbacks import EarlyStopping, ModelCheckpoint\n",
    "from keras.wrappers.scikit_learn import KerasClassifier\n",
    "from sklearn.metrics import make_scorer, accuracy_score\n",
    "from sklearn.model_selection import StratifiedKFold"
   ]
  },
  {
   "cell_type": "code",
   "execution_count": 17,
   "id": "cd0ef208",
   "metadata": {},
   "outputs": [],
   "source": [
    "from keras.layers import LeakyReLU\n",
    "LeakyReLU = LeakyReLU(alpha=0.1)\n",
    "from keras.models import Sequential\n",
    "from keras.layers import Dense, Flatten, Convolution1D, Dropout\n",
    "from keras.initializers import random_uniform"
   ]
  },
  {
   "cell_type": "markdown",
   "id": "f97d61bc",
   "metadata": {},
   "source": [
    "# 1. Define Network"
   ]
  },
  {
   "cell_type": "code",
   "execution_count": 18,
   "id": "bd77bf81",
   "metadata": {},
   "outputs": [],
   "source": [
    "num_classes = 24\n",
    "input_dim = X.shape[1]"
   ]
  },
  {
   "cell_type": "code",
   "execution_count": 19,
   "id": "fbdce465",
   "metadata": {},
   "outputs": [],
   "source": [
    "visible = Input(shape=(input_dim,))\n",
    "hidden1 = Dense(3000, activation='relu')(visible)\n",
    "hidden2 = Dense(1500, activation='relu')(hidden1)\n",
    "hidden3 = Dropout(0.2)(hidden2)\n",
    "hidden4 = Dense(750, activation='relu')(hidden3)\n",
    "hidden5 = Dense(375, activation='relu')(hidden4)\n",
    "hidden6 = Dense(48, activation='relu')(hidden5)\n",
    "output = Dense(num_classes, activation='softmax')(hidden6)\n",
    "model = Model(inputs=visible, outputs=output)"
   ]
  },
  {
   "cell_type": "code",
   "execution_count": 20,
   "id": "1dd33478",
   "metadata": {},
   "outputs": [
    {
     "name": "stdout",
     "output_type": "stream",
     "text": [
      "Model: \"model\"\n",
      "_________________________________________________________________\n",
      " Layer (type)                Output Shape              Param #   \n",
      "=================================================================\n",
      " input_1 (InputLayer)        [(None, 10)]              0         \n",
      "                                                                 \n",
      " dense (Dense)               (None, 3000)              33000     \n",
      "                                                                 \n",
      " dense_1 (Dense)             (None, 1500)              4501500   \n",
      "                                                                 \n",
      " dropout (Dropout)           (None, 1500)              0         \n",
      "                                                                 \n",
      " dense_2 (Dense)             (None, 750)               1125750   \n",
      "                                                                 \n",
      " dense_3 (Dense)             (None, 375)               281625    \n",
      "                                                                 \n",
      " dense_4 (Dense)             (None, 48)                18048     \n",
      "                                                                 \n",
      " dense_5 (Dense)             (None, 24)                1176      \n",
      "                                                                 \n",
      "=================================================================\n",
      "Total params: 5,961,099\n",
      "Trainable params: 5,961,099\n",
      "Non-trainable params: 0\n",
      "_________________________________________________________________\n"
     ]
    }
   ],
   "source": [
    "model.summary()"
   ]
  },
  {
   "cell_type": "markdown",
   "id": "3196ac97",
   "metadata": {},
   "source": [
    "# 2. Compile Network"
   ]
  },
  {
   "cell_type": "code",
   "execution_count": 21,
   "id": "7a2d558b",
   "metadata": {},
   "outputs": [],
   "source": [
    "model.compile(optimizer='adam', loss='categorical_crossentropy', metrics=['accuracy'])"
   ]
  },
  {
   "cell_type": "code",
   "execution_count": 22,
   "id": "c1d2b36d",
   "metadata": {},
   "outputs": [
    {
     "name": "stdout",
     "output_type": "stream",
     "text": [
      "You must install pydot (`pip install pydot`) and install graphviz (see instructions at https://graphviz.gitlab.io/download/) for plot_model/model_to_dot to work.\n"
     ]
    }
   ],
   "source": [
    "plot_model(model, 'EMG_ANN', show_shapes = True)"
   ]
  },
  {
   "cell_type": "markdown",
   "id": "3358b592",
   "metadata": {},
   "source": [
    "# 3. Fit Network"
   ]
  },
  {
   "cell_type": "code",
   "execution_count": 23,
   "id": "e0ed4ddd",
   "metadata": {},
   "outputs": [
    {
     "name": "stdout",
     "output_type": "stream",
     "text": [
      "Epoch 1/100\n",
      "77/77 [==============================] - 3s 27ms/step - loss: 1.3501 - accuracy: 0.6525 - val_loss: 0.9671 - val_accuracy: 0.7408\n",
      "Epoch 2/100\n",
      "77/77 [==============================] - 2s 25ms/step - loss: 0.8941 - accuracy: 0.7584 - val_loss: 0.7934 - val_accuracy: 0.7841\n",
      "Epoch 3/100\n",
      "77/77 [==============================] - 2s 25ms/step - loss: 0.7697 - accuracy: 0.7879 - val_loss: 0.7100 - val_accuracy: 0.8045\n",
      "Epoch 4/100\n",
      "77/77 [==============================] - 2s 25ms/step - loss: 0.7019 - accuracy: 0.8050 - val_loss: 0.6510 - val_accuracy: 0.8183\n",
      "Epoch 5/100\n",
      "77/77 [==============================] - 2s 25ms/step - loss: 0.6515 - accuracy: 0.8170 - val_loss: 0.6158 - val_accuracy: 0.8277\n",
      "Epoch 6/100\n",
      "77/77 [==============================] - 2s 25ms/step - loss: 0.6132 - accuracy: 0.8279 - val_loss: 0.5936 - val_accuracy: 0.8338\n",
      "Epoch 7/100\n",
      "77/77 [==============================] - 2s 25ms/step - loss: 0.5782 - accuracy: 0.8368 - val_loss: 0.5567 - val_accuracy: 0.8420\n",
      "Epoch 8/100\n",
      "77/77 [==============================] - 2s 25ms/step - loss: 0.5537 - accuracy: 0.8434 - val_loss: 0.5326 - val_accuracy: 0.8494\n",
      "Epoch 9/100\n",
      "77/77 [==============================] - 2s 25ms/step - loss: 0.5295 - accuracy: 0.8495 - val_loss: 0.5159 - val_accuracy: 0.8550\n",
      "Epoch 10/100\n",
      "77/77 [==============================] - 2s 25ms/step - loss: 0.5077 - accuracy: 0.8559 - val_loss: 0.4941 - val_accuracy: 0.8604\n",
      "Epoch 11/100\n",
      "77/77 [==============================] - 2s 25ms/step - loss: 0.4916 - accuracy: 0.8602 - val_loss: 0.4717 - val_accuracy: 0.8666\n",
      "Epoch 12/100\n",
      "77/77 [==============================] - 2s 25ms/step - loss: 0.4747 - accuracy: 0.8649 - val_loss: 0.4590 - val_accuracy: 0.8692\n",
      "Epoch 13/100\n",
      "77/77 [==============================] - 2s 25ms/step - loss: 0.4539 - accuracy: 0.8706 - val_loss: 0.4434 - val_accuracy: 0.8748\n",
      "Epoch 14/100\n",
      "77/77 [==============================] - 2s 25ms/step - loss: 0.4448 - accuracy: 0.8729 - val_loss: 0.4410 - val_accuracy: 0.8747\n",
      "Epoch 15/100\n",
      "77/77 [==============================] - 2s 25ms/step - loss: 0.4319 - accuracy: 0.8770 - val_loss: 0.4257 - val_accuracy: 0.8784\n",
      "Epoch 16/100\n",
      "77/77 [==============================] - 2s 25ms/step - loss: 0.4167 - accuracy: 0.8808 - val_loss: 0.4128 - val_accuracy: 0.8819\n",
      "Epoch 17/100\n",
      "77/77 [==============================] - 2s 25ms/step - loss: 0.4050 - accuracy: 0.8838 - val_loss: 0.4141 - val_accuracy: 0.8816\n",
      "Epoch 18/100\n",
      "77/77 [==============================] - 2s 25ms/step - loss: 0.3959 - accuracy: 0.8863 - val_loss: 0.3959 - val_accuracy: 0.8870\n",
      "Epoch 19/100\n",
      "77/77 [==============================] - 2s 25ms/step - loss: 0.3846 - accuracy: 0.8900 - val_loss: 0.3967 - val_accuracy: 0.8897\n",
      "Epoch 20/100\n",
      "77/77 [==============================] - 2s 25ms/step - loss: 0.3777 - accuracy: 0.8915 - val_loss: 0.3744 - val_accuracy: 0.8936\n",
      "Epoch 21/100\n",
      "77/77 [==============================] - 2s 25ms/step - loss: 0.3689 - accuracy: 0.8947 - val_loss: 0.3636 - val_accuracy: 0.8965\n",
      "Epoch 22/100\n",
      "77/77 [==============================] - 2s 25ms/step - loss: 0.3573 - accuracy: 0.8974 - val_loss: 0.3665 - val_accuracy: 0.8964\n",
      "Epoch 23/100\n",
      "77/77 [==============================] - 2s 25ms/step - loss: 0.3510 - accuracy: 0.8995 - val_loss: 0.3533 - val_accuracy: 0.9007\n",
      "Epoch 24/100\n",
      "77/77 [==============================] - 2s 25ms/step - loss: 0.3445 - accuracy: 0.9012 - val_loss: 0.3478 - val_accuracy: 0.9015\n",
      "Epoch 25/100\n",
      "77/77 [==============================] - 2s 25ms/step - loss: 0.3377 - accuracy: 0.9035 - val_loss: 0.3449 - val_accuracy: 0.9019\n",
      "Epoch 26/100\n",
      "77/77 [==============================] - 2s 26ms/step - loss: 0.3284 - accuracy: 0.9055 - val_loss: 0.3354 - val_accuracy: 0.9040\n",
      "Epoch 27/100\n",
      "77/77 [==============================] - 2s 25ms/step - loss: 0.3220 - accuracy: 0.9080 - val_loss: 0.3222 - val_accuracy: 0.9092\n",
      "Epoch 28/100\n",
      "77/77 [==============================] - 2s 25ms/step - loss: 0.3165 - accuracy: 0.9090 - val_loss: 0.3236 - val_accuracy: 0.9083\n",
      "Epoch 29/100\n",
      "77/77 [==============================] - 2s 25ms/step - loss: 0.3114 - accuracy: 0.9113 - val_loss: 0.3195 - val_accuracy: 0.9091\n",
      "Epoch 30/100\n",
      "77/77 [==============================] - 2s 25ms/step - loss: 0.3077 - accuracy: 0.9120 - val_loss: 0.3242 - val_accuracy: 0.9082\n",
      "Epoch 31/100\n",
      "77/77 [==============================] - 2s 25ms/step - loss: 0.3036 - accuracy: 0.9134 - val_loss: 0.3155 - val_accuracy: 0.9106\n",
      "Epoch 32/100\n",
      "77/77 [==============================] - 2s 25ms/step - loss: 0.2969 - accuracy: 0.9151 - val_loss: 0.3111 - val_accuracy: 0.9117\n",
      "Epoch 33/100\n",
      "77/77 [==============================] - 2s 25ms/step - loss: 0.2958 - accuracy: 0.9154 - val_loss: 0.3040 - val_accuracy: 0.9139\n",
      "Epoch 34/100\n",
      "77/77 [==============================] - 2s 25ms/step - loss: 0.2884 - accuracy: 0.9172 - val_loss: 0.3061 - val_accuracy: 0.9141\n",
      "Epoch 35/100\n",
      "77/77 [==============================] - 2s 25ms/step - loss: 0.2880 - accuracy: 0.9183 - val_loss: 0.2983 - val_accuracy: 0.9154\n",
      "Epoch 36/100\n",
      "77/77 [==============================] - 2s 25ms/step - loss: 0.2783 - accuracy: 0.9200 - val_loss: 0.3011 - val_accuracy: 0.9146\n",
      "Epoch 37/100\n",
      "77/77 [==============================] - 2s 25ms/step - loss: 0.2765 - accuracy: 0.9209 - val_loss: 0.2957 - val_accuracy: 0.9163\n",
      "Epoch 38/100\n",
      "77/77 [==============================] - 2s 25ms/step - loss: 0.2727 - accuracy: 0.9219 - val_loss: 0.2910 - val_accuracy: 0.9189\n",
      "Epoch 39/100\n",
      "77/77 [==============================] - 2s 25ms/step - loss: 0.2686 - accuracy: 0.9229 - val_loss: 0.2819 - val_accuracy: 0.9210\n",
      "Epoch 40/100\n",
      "77/77 [==============================] - 2s 25ms/step - loss: 0.2663 - accuracy: 0.9240 - val_loss: 0.2899 - val_accuracy: 0.9190\n",
      "Epoch 41/100\n",
      "77/77 [==============================] - 2s 25ms/step - loss: 0.2636 - accuracy: 0.9249 - val_loss: 0.2759 - val_accuracy: 0.9227\n",
      "Epoch 42/100\n",
      "77/77 [==============================] - 2s 25ms/step - loss: 0.2567 - accuracy: 0.9269 - val_loss: 0.2746 - val_accuracy: 0.9231\n",
      "Epoch 43/100\n",
      "77/77 [==============================] - 2s 26ms/step - loss: 0.2531 - accuracy: 0.9274 - val_loss: 0.2738 - val_accuracy: 0.9237\n",
      "Epoch 44/100\n",
      "77/77 [==============================] - 2s 26ms/step - loss: 0.2505 - accuracy: 0.9282 - val_loss: 0.2679 - val_accuracy: 0.9249\n",
      "Epoch 45/100\n",
      "77/77 [==============================] - 2s 26ms/step - loss: 0.2490 - accuracy: 0.9286 - val_loss: 0.2809 - val_accuracy: 0.9212\n",
      "Epoch 46/100\n",
      "77/77 [==============================] - 2s 26ms/step - loss: 0.2475 - accuracy: 0.9296 - val_loss: 0.2679 - val_accuracy: 0.9242\n",
      "Epoch 47/100\n",
      "77/77 [==============================] - 2s 26ms/step - loss: 0.2442 - accuracy: 0.9304 - val_loss: 0.2669 - val_accuracy: 0.9249\n",
      "Epoch 48/100\n",
      "77/77 [==============================] - 2s 26ms/step - loss: 0.2385 - accuracy: 0.9318 - val_loss: 0.2668 - val_accuracy: 0.9256\n",
      "Epoch 49/100\n",
      "77/77 [==============================] - 2s 26ms/step - loss: 0.2404 - accuracy: 0.9318 - val_loss: 0.2650 - val_accuracy: 0.9265\n",
      "Epoch 50/100\n",
      "77/77 [==============================] - 2s 26ms/step - loss: 0.2347 - accuracy: 0.9327 - val_loss: 0.2595 - val_accuracy: 0.9286\n",
      "Epoch 51/100\n",
      "77/77 [==============================] - 2s 26ms/step - loss: 0.2330 - accuracy: 0.9336 - val_loss: 0.2582 - val_accuracy: 0.9283\n",
      "Epoch 52/100\n",
      "77/77 [==============================] - 2s 26ms/step - loss: 0.2297 - accuracy: 0.9345 - val_loss: 0.2605 - val_accuracy: 0.9282\n",
      "Epoch 53/100\n",
      "77/77 [==============================] - 2s 26ms/step - loss: 0.2254 - accuracy: 0.9360 - val_loss: 0.2506 - val_accuracy: 0.9302\n",
      "Epoch 54/100\n",
      "77/77 [==============================] - 2s 26ms/step - loss: 0.2293 - accuracy: 0.9350 - val_loss: 0.2553 - val_accuracy: 0.9297\n",
      "Epoch 55/100\n",
      "77/77 [==============================] - 2s 26ms/step - loss: 0.2246 - accuracy: 0.9361 - val_loss: 0.2528 - val_accuracy: 0.9292\n",
      "Epoch 56/100\n",
      "77/77 [==============================] - 2s 26ms/step - loss: 0.2208 - accuracy: 0.9374 - val_loss: 0.2481 - val_accuracy: 0.9304\n",
      "Epoch 57/100\n",
      "77/77 [==============================] - 2s 26ms/step - loss: 0.2211 - accuracy: 0.9372 - val_loss: 0.2528 - val_accuracy: 0.9297\n",
      "Epoch 58/100\n"
     ]
    },
    {
     "name": "stdout",
     "output_type": "stream",
     "text": [
      "77/77 [==============================] - 2s 26ms/step - loss: 0.2203 - accuracy: 0.9373 - val_loss: 0.2491 - val_accuracy: 0.9312\n",
      "Epoch 59/100\n",
      "77/77 [==============================] - 2s 26ms/step - loss: 0.2152 - accuracy: 0.9390 - val_loss: 0.2515 - val_accuracy: 0.9303\n",
      "Epoch 60/100\n",
      "77/77 [==============================] - 2s 26ms/step - loss: 0.2135 - accuracy: 0.9389 - val_loss: 0.2387 - val_accuracy: 0.9342\n",
      "Epoch 61/100\n",
      "77/77 [==============================] - 2s 26ms/step - loss: 0.2114 - accuracy: 0.9402 - val_loss: 0.2380 - val_accuracy: 0.9339\n",
      "Epoch 62/100\n",
      "77/77 [==============================] - 2s 26ms/step - loss: 0.2099 - accuracy: 0.9405 - val_loss: 0.2455 - val_accuracy: 0.9325\n",
      "Epoch 63/100\n",
      "77/77 [==============================] - 2s 26ms/step - loss: 0.2121 - accuracy: 0.9400 - val_loss: 0.2383 - val_accuracy: 0.9333\n",
      "Epoch 64/100\n",
      "77/77 [==============================] - 2s 26ms/step - loss: 0.2082 - accuracy: 0.9407 - val_loss: 0.2432 - val_accuracy: 0.9329\n",
      "Epoch 65/100\n",
      "77/77 [==============================] - 2s 26ms/step - loss: 0.2020 - accuracy: 0.9425 - val_loss: 0.2352 - val_accuracy: 0.9348\n",
      "Epoch 66/100\n",
      "77/77 [==============================] - 2s 26ms/step - loss: 0.2043 - accuracy: 0.9420 - val_loss: 0.2366 - val_accuracy: 0.9345\n",
      "Epoch 67/100\n",
      "77/77 [==============================] - 2s 26ms/step - loss: 0.2016 - accuracy: 0.9425 - val_loss: 0.2342 - val_accuracy: 0.9338\n",
      "Epoch 68/100\n",
      "77/77 [==============================] - 2s 26ms/step - loss: 0.1996 - accuracy: 0.9433 - val_loss: 0.2457 - val_accuracy: 0.9331\n",
      "Epoch 69/100\n",
      "77/77 [==============================] - 2s 26ms/step - loss: 0.2010 - accuracy: 0.9431 - val_loss: 0.2344 - val_accuracy: 0.9350\n",
      "Epoch 70/100\n",
      "77/77 [==============================] - 2s 26ms/step - loss: 0.1986 - accuracy: 0.9435 - val_loss: 0.2289 - val_accuracy: 0.9364\n",
      "Epoch 71/100\n",
      "77/77 [==============================] - 2s 26ms/step - loss: 0.1938 - accuracy: 0.9449 - val_loss: 0.2274 - val_accuracy: 0.9377\n",
      "Epoch 72/100\n",
      "77/77 [==============================] - 2s 26ms/step - loss: 0.1951 - accuracy: 0.9445 - val_loss: 0.2306 - val_accuracy: 0.9361\n",
      "Epoch 73/100\n",
      "77/77 [==============================] - 2s 26ms/step - loss: 0.1919 - accuracy: 0.9458 - val_loss: 0.2271 - val_accuracy: 0.9377\n",
      "Epoch 74/100\n",
      "77/77 [==============================] - 2s 26ms/step - loss: 0.1916 - accuracy: 0.9454 - val_loss: 0.2317 - val_accuracy: 0.9362\n",
      "Epoch 75/100\n",
      "77/77 [==============================] - 2s 26ms/step - loss: 0.1940 - accuracy: 0.9451 - val_loss: 0.2278 - val_accuracy: 0.9375\n",
      "Epoch 76/100\n",
      "77/77 [==============================] - 2s 26ms/step - loss: 0.1898 - accuracy: 0.9456 - val_loss: 0.2301 - val_accuracy: 0.9363\n",
      "Epoch 77/100\n",
      "77/77 [==============================] - 2s 26ms/step - loss: 0.1868 - accuracy: 0.9469 - val_loss: 0.2232 - val_accuracy: 0.9391\n",
      "Epoch 78/100\n",
      "77/77 [==============================] - 2s 26ms/step - loss: 0.1835 - accuracy: 0.9478 - val_loss: 0.2224 - val_accuracy: 0.9395\n",
      "Epoch 79/100\n",
      "77/77 [==============================] - 2s 26ms/step - loss: 0.1841 - accuracy: 0.9479 - val_loss: 0.2305 - val_accuracy: 0.9371\n",
      "Epoch 80/100\n",
      "77/77 [==============================] - 2s 26ms/step - loss: 0.1872 - accuracy: 0.9469 - val_loss: 0.2214 - val_accuracy: 0.9389\n",
      "Epoch 81/100\n",
      "77/77 [==============================] - 2s 26ms/step - loss: 0.1836 - accuracy: 0.9477 - val_loss: 0.2233 - val_accuracy: 0.9382\n",
      "Epoch 82/100\n",
      "77/77 [==============================] - 2s 26ms/step - loss: 0.1813 - accuracy: 0.9488 - val_loss: 0.2195 - val_accuracy: 0.9400\n",
      "Epoch 83/100\n",
      "77/77 [==============================] - 2s 26ms/step - loss: 0.1812 - accuracy: 0.9487 - val_loss: 0.2220 - val_accuracy: 0.9402\n",
      "Epoch 84/100\n",
      "77/77 [==============================] - 2s 26ms/step - loss: 0.1800 - accuracy: 0.9491 - val_loss: 0.2206 - val_accuracy: 0.9395\n",
      "Epoch 85/100\n",
      "77/77 [==============================] - 2s 26ms/step - loss: 0.1793 - accuracy: 0.9495 - val_loss: 0.2202 - val_accuracy: 0.9399\n",
      "Epoch 86/100\n",
      "77/77 [==============================] - 2s 26ms/step - loss: 0.1754 - accuracy: 0.9504 - val_loss: 0.2114 - val_accuracy: 0.9424\n",
      "Epoch 87/100\n",
      "77/77 [==============================] - 2s 26ms/step - loss: 0.1761 - accuracy: 0.9503 - val_loss: 0.2227 - val_accuracy: 0.9392\n",
      "Epoch 88/100\n",
      "77/77 [==============================] - 2s 26ms/step - loss: 0.1788 - accuracy: 0.9493 - val_loss: 0.2235 - val_accuracy: 0.9398\n",
      "Epoch 89/100\n",
      "77/77 [==============================] - 2s 26ms/step - loss: 0.1762 - accuracy: 0.9496 - val_loss: 0.2204 - val_accuracy: 0.9411\n",
      "Epoch 90/100\n",
      "77/77 [==============================] - 2s 26ms/step - loss: 0.1766 - accuracy: 0.9495 - val_loss: 0.2199 - val_accuracy: 0.9398\n",
      "Epoch 91/100\n",
      "77/77 [==============================] - 2s 26ms/step - loss: 0.1748 - accuracy: 0.9504 - val_loss: 0.2158 - val_accuracy: 0.9418\n",
      "Epoch 92/100\n",
      "77/77 [==============================] - 2s 26ms/step - loss: 0.1737 - accuracy: 0.9507 - val_loss: 0.2115 - val_accuracy: 0.9420\n",
      "Epoch 93/100\n",
      "77/77 [==============================] - 2s 26ms/step - loss: 0.1702 - accuracy: 0.9519 - val_loss: 0.2145 - val_accuracy: 0.9414\n",
      "Epoch 94/100\n",
      "77/77 [==============================] - 2s 27ms/step - loss: 0.1700 - accuracy: 0.9517 - val_loss: 0.2205 - val_accuracy: 0.9408\n",
      "Epoch 95/100\n",
      "77/77 [==============================] - 2s 26ms/step - loss: 0.1682 - accuracy: 0.9525 - val_loss: 0.2147 - val_accuracy: 0.9420\n",
      "Epoch 96/100\n",
      "77/77 [==============================] - 2s 26ms/step - loss: 0.1673 - accuracy: 0.9528 - val_loss: 0.2172 - val_accuracy: 0.9421\n",
      "Epoch 97/100\n",
      "77/77 [==============================] - 2s 26ms/step - loss: 0.1679 - accuracy: 0.9524 - val_loss: 0.2118 - val_accuracy: 0.9427\n",
      "Epoch 98/100\n",
      "77/77 [==============================] - 2s 26ms/step - loss: 0.1696 - accuracy: 0.9519 - val_loss: 0.2104 - val_accuracy: 0.9433\n",
      "Epoch 99/100\n",
      "77/77 [==============================] - 2s 26ms/step - loss: 0.1699 - accuracy: 0.9520 - val_loss: 0.2098 - val_accuracy: 0.9437\n",
      "Epoch 100/100\n",
      "77/77 [==============================] - 2s 26ms/step - loss: 0.1635 - accuracy: 0.9533 - val_loss: 0.2032 - val_accuracy: 0.9445\n"
     ]
    }
   ],
   "source": [
    "history = model.fit(X_train, y_train, batch_size=4056, epochs=100, validation_data = (X_test, y_test))"
   ]
  },
  {
   "cell_type": "markdown",
   "id": "ffed59b1",
   "metadata": {},
   "source": [
    "# 4.Evaluate Network"
   ]
  },
  {
   "cell_type": "markdown",
   "id": "28731190",
   "metadata": {},
   "source": [
    "## 4.1. Plotting Loss and Accuracy"
   ]
  },
  {
   "cell_type": "code",
   "execution_count": 24,
   "id": "971e6040",
   "metadata": {},
   "outputs": [
    {
     "data": {
      "text/plain": [
       "Text(0.5, 1.0, 'Loss Curve of Deep Neural Netowork')"
      ]
     },
     "execution_count": 24,
     "metadata": {},
     "output_type": "execute_result"
    },
    {
     "data": {
      "image/png": "[encoded data removed]",
      "text/plain": [
       "<Figure size 432x288 with 1 Axes>"
      ]
     },
     "metadata": {
      "needs_background": "light"
     },
     "output_type": "display_data"
    }
   ],
   "source": [
    "#Loss Curve\n",
    "\n",
    "\n",
    "plt.plot(figsize = [8,6])\n",
    "\n",
    "plt.plot(history.history['loss'],'r',linewidth = 3.0)\n",
    "plt.plot(history.history['val_loss'],'b',linewidth = 3.0)\n",
    "\n",
    "plt.legend(['Training Loss', 'Validation Loss'], fontsize = 18)\n",
    "\n",
    "plt.xlabel('Epochs', fontsize = 16)\n",
    "plt.ylabel('Loss', fontsize = 16)\n",
    "\n",
    "plt.title('Loss Curve of Deep Neural Netowork' , fontsize = 16 )\n",
    "\n"
   ]
  },
  {
   "cell_type": "code",
   "execution_count": 25,
   "id": "b0c193ec",
   "metadata": {},
   "outputs": [
    {
     "data": {
      "text/plain": [
       "Text(0.5, 1.0, 'Accuracy Curve of Deep Neural Netowork')"
      ]
     },
     "execution_count": 25,
     "metadata": {},
     "output_type": "execute_result"
    },
    {
     "data": {
      "image/png": "[encoded data removed]",
      "text/plain": [
       "<Figure size 432x288 with 1 Axes>"
      ]
     },
     "metadata": {
      "needs_background": "light"
     },
     "output_type": "display_data"
    }
   ],
   "source": [
    "#Accuracy Curve\n",
    "\n",
    "plt.plot(figsize = [8,6])\n",
    "plt.plot(history.history['accuracy'],'r',linewidth = 3.0)\n",
    "plt.plot(history.history['val_accuracy'],'b',linewidth = 3.0)\n",
    "\n",
    "plt.legend(['Training Accuracy', 'Validation Accuracy'], fontsize = 18)\n",
    "\n",
    "plt.xlabel('Epochs', fontsize = 16)\n",
    "plt.ylabel('Accuracy', fontsize = 16)\n",
    "\n",
    "\n",
    "plt.title('Accuracy Curve of Deep Neural Netowork' , fontsize = 16 )"
   ]
  },
  {
   "cell_type": "markdown",
   "id": "741a02aa",
   "metadata": {},
   "source": [
    "##  4.2 Make Predictions"
   ]
  },
  {
   "cell_type": "code",
   "execution_count": 26,
   "id": "e8465627",
   "metadata": {},
   "outputs": [],
   "source": [
    "predictions = model.predict(X_test)\n",
    "predictions = np.argmax(predictions, axis = 1)"
   ]
  },
  {
   "cell_type": "code",
   "execution_count": 27,
   "id": "3cac1a50",
   "metadata": {},
   "outputs": [
    {
     "data": {
      "text/plain": [
       "array([0, 9, 7, ..., 0, 0, 0], dtype=int64)"
      ]
     },
     "execution_count": 27,
     "metadata": {},
     "output_type": "execute_result"
    }
   ],
   "source": [
    "predictions"
   ]
  },
  {
   "cell_type": "markdown",
   "id": "70d666bb",
   "metadata": {},
   "source": [
    "#### Transforming from One Hot Encoding"
   ]
  },
  {
   "cell_type": "code",
   "execution_count": 28,
   "id": "7234b6e7",
   "metadata": {},
   "outputs": [
    {
     "data": {
      "text/plain": [
       "11"
      ]
     },
     "execution_count": 28,
     "metadata": {},
     "output_type": "execute_result"
    }
   ],
   "source": [
    "y_test =np.argmax(y_test, axis=1)\n",
    "y_test[1]"
   ]
  },
  {
   "cell_type": "code",
   "execution_count": 29,
   "id": "6278820d",
   "metadata": {},
   "outputs": [
    {
     "name": "stdout",
     "output_type": "stream",
     "text": [
      "Accuracy is: 94.45224990654928\n"
     ]
    }
   ],
   "source": [
    "from sklearn.metrics import accuracy_score\n",
    "accuracy = {accuracy_score(y_test, predictions)}\n",
    "print(f\"Accuracy is: {accuracy_score(y_test, predictions)* 100}\")"
   ]
  },
  {
   "cell_type": "markdown",
   "id": "eb044ea1",
   "metadata": {},
   "source": [
    "## 4.3 Classification Report"
   ]
  },
  {
   "cell_type": "code",
   "execution_count": 30,
   "id": "001ebc5a",
   "metadata": {},
   "outputs": [
    {
     "name": "stdout",
     "output_type": "stream",
     "text": [
      "\u001b[1mClassification report : \u001b[0m\n",
      "               precision    recall  f1-score   support\n",
      "\n",
      "           0       0.95      0.99      0.97     40602\n",
      "           1       0.94      0.93      0.94      1971\n",
      "           2       0.94      0.93      0.93      1947\n",
      "           3       0.95      0.88      0.92      2180\n",
      "           4       0.96      0.93      0.94      2106\n",
      "           5       0.96      0.94      0.95      1946\n",
      "           6       0.97      0.92      0.94      1892\n",
      "           7       0.93      0.83      0.88      1942\n",
      "           8       0.93      0.91      0.92      2024\n",
      "           9       0.93      0.90      0.92      2113\n",
      "          10       0.94      0.88      0.91      1882\n",
      "          11       0.96      0.92      0.94      2151\n",
      "          12       0.96      0.87      0.91      2177\n",
      "          13       0.94      0.85      0.89      1454\n",
      "          14       0.90      0.83      0.86      1529\n",
      "          15       0.90      0.85      0.87      1481\n",
      "          16       0.92      0.88      0.90      1555\n",
      "          17       0.94      0.89      0.92      1749\n",
      "          18       0.94      0.88      0.91       856\n",
      "          19       0.97      0.91      0.94       808\n",
      "          20       0.95      0.99      0.97       769\n",
      "          21       0.96      0.96      0.96       724\n",
      "          22       0.96      0.97      0.96       822\n",
      "          23       0.94      0.92      0.93       901\n",
      "\n",
      "    accuracy                           0.94     77581\n",
      "   macro avg       0.94      0.91      0.92     77581\n",
      "weighted avg       0.94      0.94      0.94     77581\n",
      "\n",
      "\u001b[1mConfusion Matrix : \u001b[0m\n"
     ]
    },
    {
     "data": {
      "image/png": "[encoded data removed]",
      "text/plain": [
       "<Figure size 432x288 with 2 Axes>"
      ]
     },
     "metadata": {
      "needs_background": "light"
     },
     "output_type": "display_data"
    }
   ],
   "source": [
    "from sklearn.metrics import confusion_matrix, f1_score, accuracy_score, classification_report\n",
    "print('\\033[1m' +'Classification report : '+ '\\033[0m\\n', classification_report(y_test, predictions))\n",
    "\n",
    "cm = confusion_matrix(predictions, y_test)\n",
    "print('\\033[1m' +'Confusion Matrix : '+ '\\033[0m')\n",
    "sns.heatmap(cm, cmap = 'OrRd',annot = True, fmt='d')\n",
    "plt.show()"
   ]
  },
  {
   "cell_type": "markdown",
   "id": "eaa5e512",
   "metadata": {},
   "source": [
    "## 4.4 Evaluation"
   ]
  },
  {
   "cell_type": "code",
   "execution_count": 31,
   "id": "9e469f86",
   "metadata": {},
   "outputs": [
    {
     "name": "stdout",
     "output_type": "stream",
     "text": [
      "MAE: 0.48190923035279254\n",
      "MSE: 5.841494695866256\n",
      "RMSE: 2.416918429708842\n"
     ]
    }
   ],
   "source": [
    "from sklearn import metrics\n",
    "\n",
    "print('MAE:', metrics.mean_absolute_error(y_test,predictions))\n",
    "print('MSE:', metrics.mean_squared_error(y_test, predictions))\n",
    "print('RMSE:', np.sqrt(metrics.mean_squared_error(y_test, predictions)))"
   ]
  },
  {
   "cell_type": "code",
   "execution_count": 32,
   "id": "dff2a82d",
   "metadata": {},
   "outputs": [
    {
     "name": "stdout",
     "output_type": "stream",
     "text": [
      "Precision Score :  0.9443504970764215\n",
      "Recall Score :  0.9445224990654928\n",
      "f1_score :  0.943864334813021\n"
     ]
    }
   ],
   "source": [
    "from sklearn.metrics import precision_score\n",
    "print(\"Precision Score : \",precision_score(y_test, predictions, average='weighted'))\n",
    "\n",
    "\n",
    "from sklearn.metrics import recall_score\n",
    "print(\"Recall Score : \",recall_score(y_test, predictions,average='weighted'))\n",
    "\n",
    "\n",
    "from sklearn.metrics import f1_score\n",
    "print(\"f1_score : \",f1_score(y_test, predictions,average='weighted'))"
   ]
  },
  {
   "cell_type": "code",
   "execution_count": null,
   "id": "81ac7468",
   "metadata": {},
   "outputs": [],
   "source": []
  },
  {
   "cell_type": "code",
   "execution_count": null,
   "id": "71a4c6e0",
   "metadata": {},
   "outputs": [],
   "source": []
  }
 ],
 "metadata": {
  "kernelspec": {
   "display_name": "Python 3 (ipykernel)",
   "language": "python",
   "name": "python3"
  },
  "language_info": {
   "codemirror_mode": {
    "name": "ipython",
    "version": 3
   },
   "file_extension": ".py",
   "mimetype": "text/x-python",
   "name": "python",
   "nbconvert_exporter": "python",
   "pygments_lexer": "ipython3",
   "version": "3.8.12"
  }
 },
 "nbformat": 4,
 "nbformat_minor": 5
}
