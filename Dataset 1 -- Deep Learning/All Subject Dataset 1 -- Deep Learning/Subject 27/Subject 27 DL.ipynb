{
 "cells": [
  {
   "cell_type": "markdown",
   "id": "bf8ee932",
   "metadata": {},
   "source": [
    "# Importing Libraries"
   ]
  },
  {
   "cell_type": "code",
   "execution_count": 1,
   "id": "0f663fa8",
   "metadata": {},
   "outputs": [],
   "source": [
    "import numpy as np\n",
    "import pandas as pd\n",
    "import matplotlib.pyplot as plt\n",
    "import seaborn as sns\n",
    "from sklearn.model_selection import train_test_split"
   ]
  },
  {
   "cell_type": "markdown",
   "id": "511af272",
   "metadata": {},
   "source": [
    "# Loading Data"
   ]
  },
  {
   "cell_type": "code",
   "execution_count": 2,
   "id": "04fd19b0",
   "metadata": {},
   "outputs": [
    {
     "data": {
      "text/html": [
       "<div>\n",
       "<style scoped>\n",
       "    .dataframe tbody tr th:only-of-type {\n",
       "        vertical-align: middle;\n",
       "    }\n",
       "\n",
       "    .dataframe tbody tr th {\n",
       "        vertical-align: top;\n",
       "    }\n",
       "\n",
       "    .dataframe thead th {\n",
       "        text-align: right;\n",
       "    }\n",
       "</style>\n",
       "<table border=\"1\" class=\"dataframe\">\n",
       "  <thead>\n",
       "    <tr style=\"text-align: right;\">\n",
       "      <th></th>\n",
       "      <th>Emg1</th>\n",
       "      <th>Emg2</th>\n",
       "      <th>Emg3</th>\n",
       "      <th>Emg4</th>\n",
       "      <th>Emg5</th>\n",
       "      <th>Emg6</th>\n",
       "      <th>Emg7</th>\n",
       "      <th>Emg8</th>\n",
       "      <th>Emg9</th>\n",
       "      <th>Emg10</th>\n",
       "      <th>repetition</th>\n",
       "      <th>rerepetition</th>\n",
       "      <th>stimulus</th>\n",
       "      <th>restimulus</th>\n",
       "    </tr>\n",
       "  </thead>\n",
       "  <tbody>\n",
       "    <tr>\n",
       "      <th>2043</th>\n",
       "      <td>0.1611</td>\n",
       "      <td>0.0049</td>\n",
       "      <td>0.0024</td>\n",
       "      <td>0.0024</td>\n",
       "      <td>0.0049</td>\n",
       "      <td>0.0024</td>\n",
       "      <td>0.0049</td>\n",
       "      <td>0.1514</td>\n",
       "      <td>0.0024</td>\n",
       "      <td>0.0366</td>\n",
       "      <td>3</td>\n",
       "      <td>0</td>\n",
       "      <td>1</td>\n",
       "      <td>0</td>\n",
       "    </tr>\n",
       "    <tr>\n",
       "      <th>417629</th>\n",
       "      <td>2.0239</td>\n",
       "      <td>0.5591</td>\n",
       "      <td>0.3809</td>\n",
       "      <td>0.0879</td>\n",
       "      <td>0.0439</td>\n",
       "      <td>0.0610</td>\n",
       "      <td>0.4590</td>\n",
       "      <td>2.8809</td>\n",
       "      <td>0.1880</td>\n",
       "      <td>0.1465</td>\n",
       "      <td>2</td>\n",
       "      <td>2</td>\n",
       "      <td>20</td>\n",
       "      <td>20</td>\n",
       "    </tr>\n",
       "    <tr>\n",
       "      <th>163229</th>\n",
       "      <td>0.0049</td>\n",
       "      <td>0.1074</td>\n",
       "      <td>0.0024</td>\n",
       "      <td>0.0024</td>\n",
       "      <td>0.0024</td>\n",
       "      <td>0.0024</td>\n",
       "      <td>0.0122</td>\n",
       "      <td>0.0024</td>\n",
       "      <td>0.0024</td>\n",
       "      <td>0.0757</td>\n",
       "      <td>0</td>\n",
       "      <td>0</td>\n",
       "      <td>0</td>\n",
       "      <td>0</td>\n",
       "    </tr>\n",
       "    <tr>\n",
       "      <th>164344</th>\n",
       "      <td>0.0024</td>\n",
       "      <td>0.1050</td>\n",
       "      <td>0.0317</td>\n",
       "      <td>0.0024</td>\n",
       "      <td>0.0049</td>\n",
       "      <td>0.0024</td>\n",
       "      <td>0.0024</td>\n",
       "      <td>0.2490</td>\n",
       "      <td>0.0049</td>\n",
       "      <td>0.1123</td>\n",
       "      <td>6</td>\n",
       "      <td>6</td>\n",
       "      <td>8</td>\n",
       "      <td>8</td>\n",
       "    </tr>\n",
       "    <tr>\n",
       "      <th>97541</th>\n",
       "      <td>0.0415</td>\n",
       "      <td>0.0024</td>\n",
       "      <td>0.0049</td>\n",
       "      <td>0.0049</td>\n",
       "      <td>0.0024</td>\n",
       "      <td>0.0049</td>\n",
       "      <td>0.0024</td>\n",
       "      <td>0.0708</td>\n",
       "      <td>0.0049</td>\n",
       "      <td>0.0049</td>\n",
       "      <td>0</td>\n",
       "      <td>0</td>\n",
       "      <td>0</td>\n",
       "      <td>0</td>\n",
       "    </tr>\n",
       "  </tbody>\n",
       "</table>\n",
       "</div>"
      ],
      "text/plain": [
       "          Emg1    Emg2    Emg3    Emg4    Emg5    Emg6    Emg7    Emg8  \\\n",
       "2043    0.1611  0.0049  0.0024  0.0024  0.0049  0.0024  0.0049  0.1514   \n",
       "417629  2.0239  0.5591  0.3809  0.0879  0.0439  0.0610  0.4590  2.8809   \n",
       "163229  0.0049  0.1074  0.0024  0.0024  0.0024  0.0024  0.0122  0.0024   \n",
       "164344  0.0024  0.1050  0.0317  0.0024  0.0049  0.0024  0.0024  0.2490   \n",
       "97541   0.0415  0.0024  0.0049  0.0049  0.0024  0.0049  0.0024  0.0708   \n",
       "\n",
       "          Emg9   Emg10  repetition  rerepetition  stimulus  restimulus  \n",
       "2043    0.0024  0.0366           3             0         1           0  \n",
       "417629  0.1880  0.1465           2             2        20          20  \n",
       "163229  0.0024  0.0757           0             0         0           0  \n",
       "164344  0.0049  0.1123           6             6         8           8  \n",
       "97541   0.0049  0.0049           0             0         0           0  "
      ]
     },
     "execution_count": 2,
     "metadata": {},
     "output_type": "execute_result"
    }
   ],
   "source": [
    "raw_data = pd.read_excel('Dataset 1 Patient 27.xlsx')\n",
    "raw_data.sample(5)"
   ]
  },
  {
   "cell_type": "code",
   "execution_count": 3,
   "id": "80369ddb",
   "metadata": {},
   "outputs": [
    {
     "name": "stdout",
     "output_type": "stream",
     "text": [
      "<class 'pandas.core.frame.DataFrame'>\n",
      "RangeIndex: 466175 entries, 0 to 466174\n",
      "Data columns (total 14 columns):\n",
      " #   Column        Non-Null Count   Dtype  \n",
      "---  ------        --------------   -----  \n",
      " 0   Emg1          466175 non-null  float64\n",
      " 1   Emg2          466175 non-null  float64\n",
      " 2   Emg3          466175 non-null  float64\n",
      " 3   Emg4          466175 non-null  float64\n",
      " 4   Emg5          466175 non-null  float64\n",
      " 5   Emg6          466175 non-null  float64\n",
      " 6   Emg7          466175 non-null  float64\n",
      " 7   Emg8          466175 non-null  float64\n",
      " 8   Emg9          466175 non-null  float64\n",
      " 9   Emg10         466175 non-null  float64\n",
      " 10  repetition    466175 non-null  int64  \n",
      " 11  rerepetition  466175 non-null  int64  \n",
      " 12  stimulus      466175 non-null  int64  \n",
      " 13  restimulus    466175 non-null  int64  \n",
      "dtypes: float64(10), int64(4)\n",
      "memory usage: 49.8 MB\n"
     ]
    }
   ],
   "source": [
    "raw_data.info()"
   ]
  },
  {
   "cell_type": "code",
   "execution_count": 4,
   "id": "109445f8",
   "metadata": {},
   "outputs": [
    {
     "data": {
      "text/html": [
       "<div>\n",
       "<style scoped>\n",
       "    .dataframe tbody tr th:only-of-type {\n",
       "        vertical-align: middle;\n",
       "    }\n",
       "\n",
       "    .dataframe tbody tr th {\n",
       "        vertical-align: top;\n",
       "    }\n",
       "\n",
       "    .dataframe thead th {\n",
       "        text-align: right;\n",
       "    }\n",
       "</style>\n",
       "<table border=\"1\" class=\"dataframe\">\n",
       "  <thead>\n",
       "    <tr style=\"text-align: right;\">\n",
       "      <th></th>\n",
       "      <th>Emg1</th>\n",
       "      <th>Emg2</th>\n",
       "      <th>Emg3</th>\n",
       "      <th>Emg4</th>\n",
       "      <th>Emg5</th>\n",
       "      <th>Emg6</th>\n",
       "      <th>Emg7</th>\n",
       "      <th>Emg8</th>\n",
       "      <th>Emg9</th>\n",
       "      <th>Emg10</th>\n",
       "      <th>repetition</th>\n",
       "      <th>rerepetition</th>\n",
       "      <th>stimulus</th>\n",
       "      <th>restimulus</th>\n",
       "    </tr>\n",
       "  </thead>\n",
       "  <tbody>\n",
       "    <tr>\n",
       "      <th>count</th>\n",
       "      <td>466175.000000</td>\n",
       "      <td>466175.000000</td>\n",
       "      <td>466175.000000</td>\n",
       "      <td>466175.000000</td>\n",
       "      <td>466175.000000</td>\n",
       "      <td>466175.000000</td>\n",
       "      <td>466175.000000</td>\n",
       "      <td>466175.000000</td>\n",
       "      <td>466175.000000</td>\n",
       "      <td>466175.000000</td>\n",
       "      <td>466175.000000</td>\n",
       "      <td>466175.000000</td>\n",
       "      <td>466175.000000</td>\n",
       "      <td>466175.000000</td>\n",
       "    </tr>\n",
       "    <tr>\n",
       "      <th>mean</th>\n",
       "      <td>0.283236</td>\n",
       "      <td>0.072650</td>\n",
       "      <td>0.090658</td>\n",
       "      <td>0.029487</td>\n",
       "      <td>0.011465</td>\n",
       "      <td>0.006873</td>\n",
       "      <td>0.088149</td>\n",
       "      <td>0.316144</td>\n",
       "      <td>0.062414</td>\n",
       "      <td>0.093988</td>\n",
       "      <td>3.169428</td>\n",
       "      <td>2.528250</td>\n",
       "      <td>5.618386</td>\n",
       "      <td>4.469551</td>\n",
       "    </tr>\n",
       "    <tr>\n",
       "      <th>std</th>\n",
       "      <td>0.413874</td>\n",
       "      <td>0.170137</td>\n",
       "      <td>0.257313</td>\n",
       "      <td>0.124365</td>\n",
       "      <td>0.037662</td>\n",
       "      <td>0.020497</td>\n",
       "      <td>0.222997</td>\n",
       "      <td>0.485001</td>\n",
       "      <td>0.177552</td>\n",
       "      <td>0.106385</td>\n",
       "      <td>3.484731</td>\n",
       "      <td>3.364871</td>\n",
       "      <td>6.582545</td>\n",
       "      <td>6.268219</td>\n",
       "    </tr>\n",
       "    <tr>\n",
       "      <th>min</th>\n",
       "      <td>0.002400</td>\n",
       "      <td>0.002400</td>\n",
       "      <td>0.002400</td>\n",
       "      <td>0.002400</td>\n",
       "      <td>0.002400</td>\n",
       "      <td>0.002400</td>\n",
       "      <td>0.002400</td>\n",
       "      <td>0.002400</td>\n",
       "      <td>0.002400</td>\n",
       "      <td>0.002400</td>\n",
       "      <td>0.000000</td>\n",
       "      <td>0.000000</td>\n",
       "      <td>0.000000</td>\n",
       "      <td>0.000000</td>\n",
       "    </tr>\n",
       "    <tr>\n",
       "      <th>25%</th>\n",
       "      <td>0.043900</td>\n",
       "      <td>0.002400</td>\n",
       "      <td>0.004900</td>\n",
       "      <td>0.002400</td>\n",
       "      <td>0.004900</td>\n",
       "      <td>0.002400</td>\n",
       "      <td>0.004900</td>\n",
       "      <td>0.039100</td>\n",
       "      <td>0.002400</td>\n",
       "      <td>0.051300</td>\n",
       "      <td>0.000000</td>\n",
       "      <td>0.000000</td>\n",
       "      <td>0.000000</td>\n",
       "      <td>0.000000</td>\n",
       "    </tr>\n",
       "    <tr>\n",
       "      <th>50%</th>\n",
       "      <td>0.144000</td>\n",
       "      <td>0.004900</td>\n",
       "      <td>0.004900</td>\n",
       "      <td>0.004900</td>\n",
       "      <td>0.004900</td>\n",
       "      <td>0.002400</td>\n",
       "      <td>0.034200</td>\n",
       "      <td>0.139200</td>\n",
       "      <td>0.004900</td>\n",
       "      <td>0.068400</td>\n",
       "      <td>2.000000</td>\n",
       "      <td>0.000000</td>\n",
       "      <td>3.000000</td>\n",
       "      <td>0.000000</td>\n",
       "    </tr>\n",
       "    <tr>\n",
       "      <th>75%</th>\n",
       "      <td>0.341800</td>\n",
       "      <td>0.061000</td>\n",
       "      <td>0.048800</td>\n",
       "      <td>0.004900</td>\n",
       "      <td>0.004900</td>\n",
       "      <td>0.004900</td>\n",
       "      <td>0.090300</td>\n",
       "      <td>0.395500</td>\n",
       "      <td>0.031700</td>\n",
       "      <td>0.092800</td>\n",
       "      <td>6.000000</td>\n",
       "      <td>5.000000</td>\n",
       "      <td>10.000000</td>\n",
       "      <td>8.000000</td>\n",
       "    </tr>\n",
       "    <tr>\n",
       "      <th>max</th>\n",
       "      <td>4.643600</td>\n",
       "      <td>3.574200</td>\n",
       "      <td>4.636200</td>\n",
       "      <td>4.443400</td>\n",
       "      <td>1.276900</td>\n",
       "      <td>0.666500</td>\n",
       "      <td>4.638700</td>\n",
       "      <td>4.646000</td>\n",
       "      <td>4.636200</td>\n",
       "      <td>2.529300</td>\n",
       "      <td>10.000000</td>\n",
       "      <td>10.000000</td>\n",
       "      <td>23.000000</td>\n",
       "      <td>23.000000</td>\n",
       "    </tr>\n",
       "  </tbody>\n",
       "</table>\n",
       "</div>"
      ],
      "text/plain": [
       "                Emg1           Emg2           Emg3           Emg4  \\\n",
       "count  466175.000000  466175.000000  466175.000000  466175.000000   \n",
       "mean        0.283236       0.072650       0.090658       0.029487   \n",
       "std         0.413874       0.170137       0.257313       0.124365   \n",
       "min         0.002400       0.002400       0.002400       0.002400   \n",
       "25%         0.043900       0.002400       0.004900       0.002400   \n",
       "50%         0.144000       0.004900       0.004900       0.004900   \n",
       "75%         0.341800       0.061000       0.048800       0.004900   \n",
       "max         4.643600       3.574200       4.636200       4.443400   \n",
       "\n",
       "                Emg5           Emg6           Emg7           Emg8  \\\n",
       "count  466175.000000  466175.000000  466175.000000  466175.000000   \n",
       "mean        0.011465       0.006873       0.088149       0.316144   \n",
       "std         0.037662       0.020497       0.222997       0.485001   \n",
       "min         0.002400       0.002400       0.002400       0.002400   \n",
       "25%         0.004900       0.002400       0.004900       0.039100   \n",
       "50%         0.004900       0.002400       0.034200       0.139200   \n",
       "75%         0.004900       0.004900       0.090300       0.395500   \n",
       "max         1.276900       0.666500       4.638700       4.646000   \n",
       "\n",
       "                Emg9          Emg10     repetition   rerepetition  \\\n",
       "count  466175.000000  466175.000000  466175.000000  466175.000000   \n",
       "mean        0.062414       0.093988       3.169428       2.528250   \n",
       "std         0.177552       0.106385       3.484731       3.364871   \n",
       "min         0.002400       0.002400       0.000000       0.000000   \n",
       "25%         0.002400       0.051300       0.000000       0.000000   \n",
       "50%         0.004900       0.068400       2.000000       0.000000   \n",
       "75%         0.031700       0.092800       6.000000       5.000000   \n",
       "max         4.636200       2.529300      10.000000      10.000000   \n",
       "\n",
       "            stimulus     restimulus  \n",
       "count  466175.000000  466175.000000  \n",
       "mean        5.618386       4.469551  \n",
       "std         6.582545       6.268219  \n",
       "min         0.000000       0.000000  \n",
       "25%         0.000000       0.000000  \n",
       "50%         3.000000       0.000000  \n",
       "75%        10.000000       8.000000  \n",
       "max        23.000000      23.000000  "
      ]
     },
     "execution_count": 4,
     "metadata": {},
     "output_type": "execute_result"
    }
   ],
   "source": [
    "raw_data.describe(include='all')"
   ]
  },
  {
   "cell_type": "code",
   "execution_count": 5,
   "id": "f0b9a2e6",
   "metadata": {},
   "outputs": [
    {
     "name": "stdout",
     "output_type": "stream",
     "text": [
      "Unique Dependent values and their counts :\n",
      "0     197577\n",
      "2      15545\n",
      "7      15537\n",
      "8      15533\n",
      "12     15528\n",
      "4      15524\n",
      "9      15487\n",
      "11     15479\n",
      "6      15478\n",
      "5      15475\n",
      "10     15447\n",
      "3      15443\n",
      "1      15442\n",
      "13     10376\n",
      "14     10367\n",
      "17     10336\n",
      "15     10316\n",
      "16     10281\n",
      "19      5197\n",
      "21      5188\n",
      "18      5180\n",
      "23      5167\n",
      "22      5142\n",
      "20      5130\n",
      "Name: stimulus, dtype: int64\n"
     ]
    }
   ],
   "source": [
    "print(\"Unique Dependent values and their counts :\")\n",
    "print(raw_data[\"stimulus\"].value_counts())"
   ]
  },
  {
   "cell_type": "markdown",
   "id": "54420ec4",
   "metadata": {},
   "source": [
    "# Data Cleaning"
   ]
  },
  {
   "cell_type": "code",
   "execution_count": 6,
   "id": "a811198b",
   "metadata": {},
   "outputs": [],
   "source": [
    "index_names = raw_data[ (raw_data['stimulus'] != raw_data['restimulus'])].index\n",
    "raw_data.drop(index_names, inplace = True)"
   ]
  },
  {
   "cell_type": "code",
   "execution_count": 7,
   "id": "556cd92f",
   "metadata": {},
   "outputs": [],
   "source": [
    "index_names = raw_data[ (raw_data['repetition'] != raw_data['rerepetition'])].index\n",
    "raw_data.drop(index_names, inplace = True)"
   ]
  },
  {
   "cell_type": "code",
   "execution_count": 8,
   "id": "c91744f7",
   "metadata": {},
   "outputs": [],
   "source": [
    "X = raw_data.iloc[:,0:10]\n",
    "y = raw_data.stimulus"
   ]
  },
  {
   "cell_type": "markdown",
   "id": "152f7160",
   "metadata": {},
   "source": [
    "# One Hot Encoding"
   ]
  },
  {
   "cell_type": "code",
   "execution_count": 9,
   "id": "dfb77d24",
   "metadata": {},
   "outputs": [],
   "source": [
    "num_classes = 24"
   ]
  },
  {
   "cell_type": "code",
   "execution_count": 10,
   "id": "be64bf6b",
   "metadata": {},
   "outputs": [],
   "source": [
    "# One hot encoding for categorical labels\n",
    "import keras\n",
    "from keras import utils as np_utils\n",
    "y = keras.utils.np_utils.to_categorical(y, num_classes)"
   ]
  },
  {
   "cell_type": "code",
   "execution_count": 11,
   "id": "c7358f86",
   "metadata": {},
   "outputs": [],
   "source": [
    "input_dim = X.shape[1]"
   ]
  },
  {
   "cell_type": "markdown",
   "id": "cb3088a1",
   "metadata": {},
   "source": [
    "# Standard Scaler"
   ]
  },
  {
   "cell_type": "code",
   "execution_count": 12,
   "id": "5bd820f4",
   "metadata": {},
   "outputs": [],
   "source": [
    "from sklearn.preprocessing import StandardScaler\n",
    "standardscaler=StandardScaler()"
   ]
  },
  {
   "cell_type": "code",
   "execution_count": 13,
   "id": "6a118694",
   "metadata": {},
   "outputs": [],
   "source": [
    "sc = pd.DataFrame(standardscaler.fit_transform(X))"
   ]
  },
  {
   "cell_type": "code",
   "execution_count": 14,
   "id": "d6e2f38b",
   "metadata": {},
   "outputs": [
    {
     "data": {
      "text/html": [
       "<div>\n",
       "<style scoped>\n",
       "    .dataframe tbody tr th:only-of-type {\n",
       "        vertical-align: middle;\n",
       "    }\n",
       "\n",
       "    .dataframe tbody tr th {\n",
       "        vertical-align: top;\n",
       "    }\n",
       "\n",
       "    .dataframe thead th {\n",
       "        text-align: right;\n",
       "    }\n",
       "</style>\n",
       "<table border=\"1\" class=\"dataframe\">\n",
       "  <thead>\n",
       "    <tr style=\"text-align: right;\">\n",
       "      <th></th>\n",
       "      <th>0</th>\n",
       "      <th>1</th>\n",
       "      <th>2</th>\n",
       "      <th>3</th>\n",
       "      <th>4</th>\n",
       "      <th>5</th>\n",
       "      <th>6</th>\n",
       "      <th>7</th>\n",
       "      <th>8</th>\n",
       "      <th>9</th>\n",
       "    </tr>\n",
       "  </thead>\n",
       "  <tbody>\n",
       "    <tr>\n",
       "      <th>0</th>\n",
       "      <td>-0.700169</td>\n",
       "      <td>-0.428448</td>\n",
       "      <td>-0.36269</td>\n",
       "      <td>-0.235731</td>\n",
       "      <td>-0.193560</td>\n",
       "      <td>-0.228877</td>\n",
       "      <td>-0.381884</td>\n",
       "      <td>-0.663211</td>\n",
       "      <td>-0.363130</td>\n",
       "      <td>-0.250818</td>\n",
       "    </tr>\n",
       "    <tr>\n",
       "      <th>1</th>\n",
       "      <td>-0.694463</td>\n",
       "      <td>-0.442126</td>\n",
       "      <td>-0.37168</td>\n",
       "      <td>-0.217289</td>\n",
       "      <td>-0.193560</td>\n",
       "      <td>-0.228877</td>\n",
       "      <td>-0.371527</td>\n",
       "      <td>-0.658363</td>\n",
       "      <td>-0.363130</td>\n",
       "      <td>-0.315970</td>\n",
       "    </tr>\n",
       "    <tr>\n",
       "      <th>2</th>\n",
       "      <td>-0.700169</td>\n",
       "      <td>-0.428448</td>\n",
       "      <td>-0.37168</td>\n",
       "      <td>-0.235731</td>\n",
       "      <td>-0.193560</td>\n",
       "      <td>-0.228877</td>\n",
       "      <td>-0.381884</td>\n",
       "      <td>-0.663211</td>\n",
       "      <td>-0.350075</td>\n",
       "      <td>-0.359703</td>\n",
       "    </tr>\n",
       "    <tr>\n",
       "      <th>3</th>\n",
       "      <td>-0.694463</td>\n",
       "      <td>-0.442126</td>\n",
       "      <td>-0.36269</td>\n",
       "      <td>-0.217289</td>\n",
       "      <td>-0.254414</td>\n",
       "      <td>-0.116016</td>\n",
       "      <td>-0.371527</td>\n",
       "      <td>-0.663211</td>\n",
       "      <td>-0.350075</td>\n",
       "      <td>-0.381123</td>\n",
       "    </tr>\n",
       "    <tr>\n",
       "      <th>4</th>\n",
       "      <td>-0.700169</td>\n",
       "      <td>-0.442126</td>\n",
       "      <td>-0.36269</td>\n",
       "      <td>-0.235731</td>\n",
       "      <td>-0.193560</td>\n",
       "      <td>-0.116016</td>\n",
       "      <td>-0.371527</td>\n",
       "      <td>-0.658363</td>\n",
       "      <td>-0.363130</td>\n",
       "      <td>-0.403435</td>\n",
       "    </tr>\n",
       "    <tr>\n",
       "      <th>...</th>\n",
       "      <td>...</td>\n",
       "      <td>...</td>\n",
       "      <td>...</td>\n",
       "      <td>...</td>\n",
       "      <td>...</td>\n",
       "      <td>...</td>\n",
       "      <td>...</td>\n",
       "      <td>...</td>\n",
       "      <td>...</td>\n",
       "      <td>...</td>\n",
       "    </tr>\n",
       "    <tr>\n",
       "      <th>388467</th>\n",
       "      <td>0.893447</td>\n",
       "      <td>-0.428448</td>\n",
       "      <td>-0.36269</td>\n",
       "      <td>-0.217289</td>\n",
       "      <td>-0.193560</td>\n",
       "      <td>-0.116016</td>\n",
       "      <td>-0.139108</td>\n",
       "      <td>0.146317</td>\n",
       "      <td>0.147070</td>\n",
       "      <td>-0.272238</td>\n",
       "    </tr>\n",
       "    <tr>\n",
       "      <th>388468</th>\n",
       "      <td>0.793033</td>\n",
       "      <td>-0.442126</td>\n",
       "      <td>-0.36269</td>\n",
       "      <td>-0.217289</td>\n",
       "      <td>-0.193560</td>\n",
       "      <td>-0.228877</td>\n",
       "      <td>-0.169351</td>\n",
       "      <td>0.193628</td>\n",
       "      <td>0.121482</td>\n",
       "      <td>-0.250818</td>\n",
       "    </tr>\n",
       "    <tr>\n",
       "      <th>388469</th>\n",
       "      <td>0.681665</td>\n",
       "      <td>-0.428448</td>\n",
       "      <td>-0.37168</td>\n",
       "      <td>-0.217289</td>\n",
       "      <td>-0.193560</td>\n",
       "      <td>-0.228877</td>\n",
       "      <td>-0.209952</td>\n",
       "      <td>0.174820</td>\n",
       "      <td>0.147070</td>\n",
       "      <td>-0.272238</td>\n",
       "    </tr>\n",
       "    <tr>\n",
       "      <th>388470</th>\n",
       "      <td>0.642641</td>\n",
       "      <td>-0.428448</td>\n",
       "      <td>-0.37168</td>\n",
       "      <td>-0.217289</td>\n",
       "      <td>-0.254414</td>\n",
       "      <td>-0.228877</td>\n",
       "      <td>-0.240195</td>\n",
       "      <td>0.146317</td>\n",
       "      <td>0.172658</td>\n",
       "      <td>-0.294550</td>\n",
       "    </tr>\n",
       "    <tr>\n",
       "      <th>388471</th>\n",
       "      <td>0.536749</td>\n",
       "      <td>-0.442126</td>\n",
       "      <td>-0.36269</td>\n",
       "      <td>-0.217289</td>\n",
       "      <td>-0.193560</td>\n",
       "      <td>-0.228877</td>\n",
       "      <td>-0.179294</td>\n",
       "      <td>0.113160</td>\n",
       "      <td>0.198247</td>\n",
       "      <td>-0.294550</td>\n",
       "    </tr>\n",
       "  </tbody>\n",
       "</table>\n",
       "<p>388472 rows × 10 columns</p>\n",
       "</div>"
      ],
      "text/plain": [
       "               0         1        2         3         4         5         6  \\\n",
       "0      -0.700169 -0.428448 -0.36269 -0.235731 -0.193560 -0.228877 -0.381884   \n",
       "1      -0.694463 -0.442126 -0.37168 -0.217289 -0.193560 -0.228877 -0.371527   \n",
       "2      -0.700169 -0.428448 -0.37168 -0.235731 -0.193560 -0.228877 -0.381884   \n",
       "3      -0.694463 -0.442126 -0.36269 -0.217289 -0.254414 -0.116016 -0.371527   \n",
       "4      -0.700169 -0.442126 -0.36269 -0.235731 -0.193560 -0.116016 -0.371527   \n",
       "...          ...       ...      ...       ...       ...       ...       ...   \n",
       "388467  0.893447 -0.428448 -0.36269 -0.217289 -0.193560 -0.116016 -0.139108   \n",
       "388468  0.793033 -0.442126 -0.36269 -0.217289 -0.193560 -0.228877 -0.169351   \n",
       "388469  0.681665 -0.428448 -0.37168 -0.217289 -0.193560 -0.228877 -0.209952   \n",
       "388470  0.642641 -0.428448 -0.37168 -0.217289 -0.254414 -0.228877 -0.240195   \n",
       "388471  0.536749 -0.442126 -0.36269 -0.217289 -0.193560 -0.228877 -0.179294   \n",
       "\n",
       "               7         8         9  \n",
       "0      -0.663211 -0.363130 -0.250818  \n",
       "1      -0.658363 -0.363130 -0.315970  \n",
       "2      -0.663211 -0.350075 -0.359703  \n",
       "3      -0.663211 -0.350075 -0.381123  \n",
       "4      -0.658363 -0.363130 -0.403435  \n",
       "...          ...       ...       ...  \n",
       "388467  0.146317  0.147070 -0.272238  \n",
       "388468  0.193628  0.121482 -0.250818  \n",
       "388469  0.174820  0.147070 -0.272238  \n",
       "388470  0.146317  0.172658 -0.294550  \n",
       "388471  0.113160  0.198247 -0.294550  \n",
       "\n",
       "[388472 rows x 10 columns]"
      ]
     },
     "execution_count": 14,
     "metadata": {},
     "output_type": "execute_result"
    }
   ],
   "source": [
    "sc"
   ]
  },
  {
   "cell_type": "code",
   "execution_count": 15,
   "id": "65cfb75d",
   "metadata": {},
   "outputs": [],
   "source": [
    "# Splitting data for training and testing\n",
    "X_train, X_test, y_train, y_test = train_test_split(sc, y, test_size = 0.2, random_state = 39)"
   ]
  },
  {
   "cell_type": "markdown",
   "id": "3ba47781",
   "metadata": {},
   "source": [
    "# Deep Learning "
   ]
  },
  {
   "cell_type": "code",
   "execution_count": 16,
   "id": "d426e2e1",
   "metadata": {},
   "outputs": [],
   "source": [
    "from sklearn.preprocessing import MinMaxScaler\n",
    "from tensorflow.keras.models import Model\n",
    "from tensorflow.keras.layers import Input\n",
    "from tensorflow.keras.layers import Dense\n",
    "from tensorflow.keras.layers import LeakyReLU,ELU\n",
    "from tensorflow.keras.layers import BatchNormalization\n",
    "from tensorflow.keras.utils import plot_model\n",
    "import tensorflow as tf\n",
    "from sklearn.model_selection import cross_val_score\n",
    "from keras.models import Sequential\n",
    "from keras.layers import Dense, BatchNormalization, Dropout\n",
    "from tensorflow.keras.optimizers import Adam, SGD, RMSprop, Adadelta, Adagrad, Adamax, Nadam, Ftrl\n",
    "from keras.callbacks import EarlyStopping, ModelCheckpoint\n",
    "from keras.wrappers.scikit_learn import KerasClassifier\n",
    "from sklearn.metrics import make_scorer, accuracy_score\n",
    "from sklearn.model_selection import StratifiedKFold"
   ]
  },
  {
   "cell_type": "code",
   "execution_count": 17,
   "id": "cd0ef208",
   "metadata": {},
   "outputs": [],
   "source": [
    "from keras.layers import LeakyReLU\n",
    "LeakyReLU = LeakyReLU(alpha=0.1)\n",
    "from keras.models import Sequential\n",
    "from keras.layers import Dense, Flatten, Convolution1D, Dropout\n",
    "from keras.initializers import random_uniform"
   ]
  },
  {
   "cell_type": "markdown",
   "id": "f97d61bc",
   "metadata": {},
   "source": [
    "# 1. Define Network"
   ]
  },
  {
   "cell_type": "code",
   "execution_count": 18,
   "id": "bd77bf81",
   "metadata": {},
   "outputs": [],
   "source": [
    "num_classes = 24\n",
    "input_dim = X.shape[1]"
   ]
  },
  {
   "cell_type": "code",
   "execution_count": 19,
   "id": "fbdce465",
   "metadata": {},
   "outputs": [],
   "source": [
    "visible = Input(shape=(input_dim,))\n",
    "hidden1 = Dense(3000, activation='relu')(visible)\n",
    "hidden2 = Dense(1500, activation='relu')(hidden1)\n",
    "hidden3 = Dropout(0.2)(hidden2)\n",
    "hidden4 = Dense(750, activation='relu')(hidden3)\n",
    "hidden5 = Dense(375, activation='relu')(hidden4)\n",
    "hidden6 = Dense(48, activation='relu')(hidden5)\n",
    "output = Dense(num_classes, activation='softmax')(hidden6)\n",
    "model = Model(inputs=visible, outputs=output)"
   ]
  },
  {
   "cell_type": "code",
   "execution_count": 20,
   "id": "1dd33478",
   "metadata": {},
   "outputs": [
    {
     "name": "stdout",
     "output_type": "stream",
     "text": [
      "Model: \"model\"\n",
      "_________________________________________________________________\n",
      " Layer (type)                Output Shape              Param #   \n",
      "=================================================================\n",
      " input_1 (InputLayer)        [(None, 10)]              0         \n",
      "                                                                 \n",
      " dense (Dense)               (None, 3000)              33000     \n",
      "                                                                 \n",
      " dense_1 (Dense)             (None, 1500)              4501500   \n",
      "                                                                 \n",
      " dropout (Dropout)           (None, 1500)              0         \n",
      "                                                                 \n",
      " dense_2 (Dense)             (None, 750)               1125750   \n",
      "                                                                 \n",
      " dense_3 (Dense)             (None, 375)               281625    \n",
      "                                                                 \n",
      " dense_4 (Dense)             (None, 48)                18048     \n",
      "                                                                 \n",
      " dense_5 (Dense)             (None, 24)                1176      \n",
      "                                                                 \n",
      "=================================================================\n",
      "Total params: 5,961,099\n",
      "Trainable params: 5,961,099\n",
      "Non-trainable params: 0\n",
      "_________________________________________________________________\n"
     ]
    }
   ],
   "source": [
    "model.summary()"
   ]
  },
  {
   "cell_type": "markdown",
   "id": "3196ac97",
   "metadata": {},
   "source": [
    "# 2. Compile Network"
   ]
  },
  {
   "cell_type": "code",
   "execution_count": 21,
   "id": "7a2d558b",
   "metadata": {},
   "outputs": [],
   "source": [
    "model.compile(optimizer='adam', loss='categorical_crossentropy', metrics=['accuracy'])"
   ]
  },
  {
   "cell_type": "code",
   "execution_count": 22,
   "id": "c1d2b36d",
   "metadata": {},
   "outputs": [
    {
     "name": "stdout",
     "output_type": "stream",
     "text": [
      "You must install pydot (`pip install pydot`) and install graphviz (see instructions at https://graphviz.gitlab.io/download/) for plot_model/model_to_dot to work.\n"
     ]
    }
   ],
   "source": [
    "plot_model(model, 'EMG_ANN', show_shapes = True)"
   ]
  },
  {
   "cell_type": "markdown",
   "id": "3358b592",
   "metadata": {},
   "source": [
    "# 3. Fit Network"
   ]
  },
  {
   "cell_type": "code",
   "execution_count": 23,
   "id": "e0ed4ddd",
   "metadata": {},
   "outputs": [
    {
     "name": "stdout",
     "output_type": "stream",
     "text": [
      "Epoch 1/100\n",
      "77/77 [==============================] - 3s 27ms/step - loss: 1.5654 - accuracy: 0.5957 - val_loss: 1.2009 - val_accuracy: 0.6651\n",
      "Epoch 2/100\n",
      "77/77 [==============================] - 2s 25ms/step - loss: 1.1073 - accuracy: 0.6886 - val_loss: 1.0166 - val_accuracy: 0.7100\n",
      "Epoch 3/100\n",
      "77/77 [==============================] - 2s 26ms/step - loss: 0.9740 - accuracy: 0.7223 - val_loss: 0.9242 - val_accuracy: 0.7334\n",
      "Epoch 4/100\n",
      "77/77 [==============================] - 2s 25ms/step - loss: 0.8984 - accuracy: 0.7403 - val_loss: 0.8565 - val_accuracy: 0.7507\n",
      "Epoch 5/100\n",
      "77/77 [==============================] - 2s 25ms/step - loss: 0.8438 - accuracy: 0.7545 - val_loss: 0.8140 - val_accuracy: 0.7607\n",
      "Epoch 6/100\n",
      "77/77 [==============================] - 2s 25ms/step - loss: 0.8080 - accuracy: 0.7637 - val_loss: 0.7858 - val_accuracy: 0.7688\n",
      "Epoch 7/100\n",
      "77/77 [==============================] - 2s 25ms/step - loss: 0.7755 - accuracy: 0.7718 - val_loss: 0.7652 - val_accuracy: 0.7738\n",
      "Epoch 8/100\n",
      "77/77 [==============================] - 2s 25ms/step - loss: 0.7540 - accuracy: 0.7773 - val_loss: 0.7435 - val_accuracy: 0.7782\n",
      "Epoch 9/100\n",
      "77/77 [==============================] - 2s 26ms/step - loss: 0.7286 - accuracy: 0.7837 - val_loss: 0.7207 - val_accuracy: 0.7848\n",
      "Epoch 10/100\n",
      "77/77 [==============================] - 2s 25ms/step - loss: 0.7060 - accuracy: 0.7896 - val_loss: 0.6941 - val_accuracy: 0.7920\n",
      "Epoch 11/100\n",
      "77/77 [==============================] - 2s 25ms/step - loss: 0.6895 - accuracy: 0.7934 - val_loss: 0.6931 - val_accuracy: 0.7928\n",
      "Epoch 12/100\n",
      "77/77 [==============================] - 2s 26ms/step - loss: 0.6743 - accuracy: 0.7983 - val_loss: 0.6778 - val_accuracy: 0.7974\n",
      "Epoch 13/100\n",
      "77/77 [==============================] - 2s 26ms/step - loss: 0.6586 - accuracy: 0.8018 - val_loss: 0.6609 - val_accuracy: 0.8005\n",
      "Epoch 14/100\n",
      "77/77 [==============================] - 2s 25ms/step - loss: 0.6461 - accuracy: 0.8050 - val_loss: 0.6388 - val_accuracy: 0.8071\n",
      "Epoch 15/100\n",
      "77/77 [==============================] - 2s 26ms/step - loss: 0.6303 - accuracy: 0.8095 - val_loss: 0.6372 - val_accuracy: 0.8080\n",
      "Epoch 16/100\n",
      "77/77 [==============================] - 2s 27ms/step - loss: 0.6182 - accuracy: 0.8133 - val_loss: 0.6315 - val_accuracy: 0.8081\n",
      "Epoch 17/100\n",
      "77/77 [==============================] - 2s 26ms/step - loss: 0.6081 - accuracy: 0.8159 - val_loss: 0.6149 - val_accuracy: 0.8124\n",
      "Epoch 18/100\n",
      "77/77 [==============================] - 2s 25ms/step - loss: 0.5979 - accuracy: 0.8186 - val_loss: 0.6162 - val_accuracy: 0.8137\n",
      "Epoch 19/100\n",
      "77/77 [==============================] - 2s 26ms/step - loss: 0.5888 - accuracy: 0.8211 - val_loss: 0.5998 - val_accuracy: 0.8175\n",
      "Epoch 20/100\n",
      "77/77 [==============================] - 2s 26ms/step - loss: 0.5806 - accuracy: 0.8232 - val_loss: 0.5887 - val_accuracy: 0.8218\n",
      "Epoch 21/100\n",
      "77/77 [==============================] - 2s 25ms/step - loss: 0.5730 - accuracy: 0.8253 - val_loss: 0.5958 - val_accuracy: 0.8184\n",
      "Epoch 22/100\n",
      "77/77 [==============================] - 2s 26ms/step - loss: 0.5651 - accuracy: 0.8274 - val_loss: 0.5764 - val_accuracy: 0.8242\n",
      "Epoch 23/100\n",
      "77/77 [==============================] - 2s 27ms/step - loss: 0.5554 - accuracy: 0.8297 - val_loss: 0.5703 - val_accuracy: 0.8249\n",
      "Epoch 24/100\n",
      "77/77 [==============================] - 2s 26ms/step - loss: 0.5473 - accuracy: 0.8322 - val_loss: 0.5687 - val_accuracy: 0.8255\n",
      "Epoch 25/100\n",
      "77/77 [==============================] - 2s 26ms/step - loss: 0.5428 - accuracy: 0.8333 - val_loss: 0.5626 - val_accuracy: 0.8274\n",
      "Epoch 26/100\n",
      "77/77 [==============================] - 2s 25ms/step - loss: 0.5312 - accuracy: 0.8367 - val_loss: 0.5689 - val_accuracy: 0.8267\n",
      "Epoch 27/100\n",
      "77/77 [==============================] - 2s 26ms/step - loss: 0.5273 - accuracy: 0.8377 - val_loss: 0.5569 - val_accuracy: 0.8291\n",
      "Epoch 28/100\n",
      "77/77 [==============================] - 2s 25ms/step - loss: 0.5247 - accuracy: 0.8383 - val_loss: 0.5529 - val_accuracy: 0.8305\n",
      "Epoch 29/100\n",
      "77/77 [==============================] - 2s 25ms/step - loss: 0.5167 - accuracy: 0.8402 - val_loss: 0.5388 - val_accuracy: 0.8342\n",
      "Epoch 30/100\n",
      "77/77 [==============================] - 2s 26ms/step - loss: 0.5073 - accuracy: 0.8439 - val_loss: 0.5366 - val_accuracy: 0.8353\n",
      "Epoch 31/100\n",
      "77/77 [==============================] - 2s 26ms/step - loss: 0.5051 - accuracy: 0.8440 - val_loss: 0.5246 - val_accuracy: 0.8386\n",
      "Epoch 32/100\n",
      "77/77 [==============================] - 2s 26ms/step - loss: 0.4996 - accuracy: 0.8453 - val_loss: 0.5325 - val_accuracy: 0.8380\n",
      "Epoch 33/100\n",
      "77/77 [==============================] - 2s 26ms/step - loss: 0.4947 - accuracy: 0.8467 - val_loss: 0.5291 - val_accuracy: 0.8366\n",
      "Epoch 34/100\n",
      "77/77 [==============================] - 2s 26ms/step - loss: 0.4897 - accuracy: 0.8489 - val_loss: 0.5253 - val_accuracy: 0.8392\n",
      "Epoch 35/100\n",
      "77/77 [==============================] - 2s 26ms/step - loss: 0.4872 - accuracy: 0.8488 - val_loss: 0.5256 - val_accuracy: 0.8387\n",
      "Epoch 36/100\n",
      "77/77 [==============================] - 2s 26ms/step - loss: 0.4818 - accuracy: 0.8506 - val_loss: 0.5203 - val_accuracy: 0.8392\n",
      "Epoch 37/100\n",
      "77/77 [==============================] - 2s 26ms/step - loss: 0.4757 - accuracy: 0.8525 - val_loss: 0.5059 - val_accuracy: 0.8445\n",
      "Epoch 38/100\n",
      "77/77 [==============================] - 2s 26ms/step - loss: 0.4713 - accuracy: 0.8531 - val_loss: 0.5108 - val_accuracy: 0.8436\n",
      "Epoch 39/100\n",
      "77/77 [==============================] - 2s 26ms/step - loss: 0.4668 - accuracy: 0.8550 - val_loss: 0.5074 - val_accuracy: 0.8443\n",
      "Epoch 40/100\n",
      "77/77 [==============================] - 2s 26ms/step - loss: 0.4639 - accuracy: 0.8553 - val_loss: 0.5049 - val_accuracy: 0.8443\n",
      "Epoch 41/100\n",
      "77/77 [==============================] - 2s 26ms/step - loss: 0.4566 - accuracy: 0.8575 - val_loss: 0.5065 - val_accuracy: 0.8438\n",
      "Epoch 42/100\n",
      "77/77 [==============================] - 2s 27ms/step - loss: 0.4580 - accuracy: 0.8571 - val_loss: 0.5035 - val_accuracy: 0.8452\n",
      "Epoch 43/100\n",
      "77/77 [==============================] - 2s 26ms/step - loss: 0.4519 - accuracy: 0.8587 - val_loss: 0.4921 - val_accuracy: 0.8497\n",
      "Epoch 44/100\n",
      "77/77 [==============================] - 2s 26ms/step - loss: 0.4467 - accuracy: 0.8600 - val_loss: 0.4962 - val_accuracy: 0.8462\n",
      "Epoch 45/100\n",
      "77/77 [==============================] - 2s 25ms/step - loss: 0.4458 - accuracy: 0.8605 - val_loss: 0.4912 - val_accuracy: 0.8489\n",
      "Epoch 46/100\n",
      "77/77 [==============================] - 2s 26ms/step - loss: 0.4393 - accuracy: 0.8620 - val_loss: 0.4868 - val_accuracy: 0.8511\n",
      "Epoch 47/100\n",
      "77/77 [==============================] - 2s 26ms/step - loss: 0.4385 - accuracy: 0.8626 - val_loss: 0.4910 - val_accuracy: 0.8483\n",
      "Epoch 48/100\n",
      "77/77 [==============================] - 2s 27ms/step - loss: 0.4349 - accuracy: 0.8632 - val_loss: 0.4854 - val_accuracy: 0.8505\n",
      "Epoch 49/100\n",
      "77/77 [==============================] - 2s 26ms/step - loss: 0.4298 - accuracy: 0.8650 - val_loss: 0.4841 - val_accuracy: 0.8510\n",
      "Epoch 50/100\n",
      "77/77 [==============================] - 2s 26ms/step - loss: 0.4294 - accuracy: 0.8646 - val_loss: 0.4908 - val_accuracy: 0.8491\n",
      "Epoch 51/100\n",
      "77/77 [==============================] - 2s 26ms/step - loss: 0.4263 - accuracy: 0.8658 - val_loss: 0.4822 - val_accuracy: 0.8512\n",
      "Epoch 52/100\n",
      "77/77 [==============================] - 2s 26ms/step - loss: 0.4261 - accuracy: 0.8661 - val_loss: 0.4805 - val_accuracy: 0.8522\n",
      "Epoch 53/100\n",
      "77/77 [==============================] - 2s 26ms/step - loss: 0.4197 - accuracy: 0.8681 - val_loss: 0.4800 - val_accuracy: 0.8525\n",
      "Epoch 54/100\n",
      "77/77 [==============================] - 2s 26ms/step - loss: 0.4175 - accuracy: 0.8685 - val_loss: 0.4684 - val_accuracy: 0.8554\n",
      "Epoch 55/100\n",
      "77/77 [==============================] - 2s 26ms/step - loss: 0.4128 - accuracy: 0.8702 - val_loss: 0.4681 - val_accuracy: 0.8558\n",
      "Epoch 56/100\n",
      "77/77 [==============================] - 2s 26ms/step - loss: 0.4110 - accuracy: 0.8705 - val_loss: 0.4716 - val_accuracy: 0.8551\n",
      "Epoch 57/100\n",
      "77/77 [==============================] - 2s 26ms/step - loss: 0.4106 - accuracy: 0.8704 - val_loss: 0.4767 - val_accuracy: 0.8532\n",
      "Epoch 58/100\n"
     ]
    },
    {
     "name": "stdout",
     "output_type": "stream",
     "text": [
      "77/77 [==============================] - 2s 26ms/step - loss: 0.4060 - accuracy: 0.8714 - val_loss: 0.4664 - val_accuracy: 0.8569\n",
      "Epoch 59/100\n",
      "77/77 [==============================] - 2s 26ms/step - loss: 0.4043 - accuracy: 0.8722 - val_loss: 0.4679 - val_accuracy: 0.8554\n",
      "Epoch 60/100\n",
      "77/77 [==============================] - 2s 27ms/step - loss: 0.4023 - accuracy: 0.8728 - val_loss: 0.4697 - val_accuracy: 0.8577\n",
      "Epoch 61/100\n",
      "77/77 [==============================] - 2s 26ms/step - loss: 0.4005 - accuracy: 0.8734 - val_loss: 0.4655 - val_accuracy: 0.8563\n",
      "Epoch 62/100\n",
      "77/77 [==============================] - 2s 27ms/step - loss: 0.3988 - accuracy: 0.8737 - val_loss: 0.4611 - val_accuracy: 0.8587\n",
      "Epoch 63/100\n",
      "77/77 [==============================] - 2s 27ms/step - loss: 0.3995 - accuracy: 0.8734 - val_loss: 0.4652 - val_accuracy: 0.8578\n",
      "Epoch 64/100\n",
      "77/77 [==============================] - 2s 26ms/step - loss: 0.3939 - accuracy: 0.8754 - val_loss: 0.4590 - val_accuracy: 0.8579\n",
      "Epoch 65/100\n",
      "77/77 [==============================] - 2s 26ms/step - loss: 0.3897 - accuracy: 0.8764 - val_loss: 0.4685 - val_accuracy: 0.8547\n",
      "Epoch 66/100\n",
      "77/77 [==============================] - 2s 26ms/step - loss: 0.3903 - accuracy: 0.8761 - val_loss: 0.4597 - val_accuracy: 0.8597\n",
      "Epoch 67/100\n",
      "77/77 [==============================] - 2s 27ms/step - loss: 0.3859 - accuracy: 0.8772 - val_loss: 0.4559 - val_accuracy: 0.8616\n",
      "Epoch 68/100\n",
      "77/77 [==============================] - 2s 27ms/step - loss: 0.3829 - accuracy: 0.8786 - val_loss: 0.4549 - val_accuracy: 0.8591\n",
      "Epoch 69/100\n",
      "77/77 [==============================] - 2s 27ms/step - loss: 0.3818 - accuracy: 0.8781 - val_loss: 0.4560 - val_accuracy: 0.8596\n",
      "Epoch 70/100\n",
      "77/77 [==============================] - 2s 27ms/step - loss: 0.3797 - accuracy: 0.8793 - val_loss: 0.4570 - val_accuracy: 0.8597\n",
      "Epoch 71/100\n",
      "77/77 [==============================] - 2s 27ms/step - loss: 0.3762 - accuracy: 0.8801 - val_loss: 0.4570 - val_accuracy: 0.8602\n",
      "Epoch 72/100\n",
      "77/77 [==============================] - 2s 26ms/step - loss: 0.3760 - accuracy: 0.8796 - val_loss: 0.4503 - val_accuracy: 0.8612\n",
      "Epoch 73/100\n",
      "77/77 [==============================] - 2s 26ms/step - loss: 0.3744 - accuracy: 0.8812 - val_loss: 0.4562 - val_accuracy: 0.8603\n",
      "Epoch 74/100\n",
      "77/77 [==============================] - 2s 27ms/step - loss: 0.3730 - accuracy: 0.8809 - val_loss: 0.4504 - val_accuracy: 0.8603\n",
      "Epoch 75/100\n",
      "77/77 [==============================] - 2s 27ms/step - loss: 0.3738 - accuracy: 0.8803 - val_loss: 0.4598 - val_accuracy: 0.8600\n",
      "Epoch 76/100\n",
      "77/77 [==============================] - 2s 26ms/step - loss: 0.3703 - accuracy: 0.8812 - val_loss: 0.4534 - val_accuracy: 0.8616\n",
      "Epoch 77/100\n",
      "77/77 [==============================] - 2s 28ms/step - loss: 0.3674 - accuracy: 0.8825 - val_loss: 0.4492 - val_accuracy: 0.8629\n",
      "Epoch 78/100\n",
      "77/77 [==============================] - 2s 26ms/step - loss: 0.3640 - accuracy: 0.8834 - val_loss: 0.4491 - val_accuracy: 0.8609\n",
      "Epoch 79/100\n",
      "77/77 [==============================] - 2s 27ms/step - loss: 0.3644 - accuracy: 0.8832 - val_loss: 0.4510 - val_accuracy: 0.8615\n",
      "Epoch 80/100\n",
      "77/77 [==============================] - 2s 27ms/step - loss: 0.3623 - accuracy: 0.8834 - val_loss: 0.4564 - val_accuracy: 0.8602\n",
      "Epoch 81/100\n",
      "77/77 [==============================] - 2s 27ms/step - loss: 0.3638 - accuracy: 0.8832 - val_loss: 0.4452 - val_accuracy: 0.8644\n",
      "Epoch 82/100\n",
      "77/77 [==============================] - 2s 26ms/step - loss: 0.3572 - accuracy: 0.8855 - val_loss: 0.4477 - val_accuracy: 0.8632\n",
      "Epoch 83/100\n",
      "77/77 [==============================] - 2s 28ms/step - loss: 0.3576 - accuracy: 0.8855 - val_loss: 0.4508 - val_accuracy: 0.8611\n",
      "Epoch 84/100\n",
      "77/77 [==============================] - 2s 26ms/step - loss: 0.3560 - accuracy: 0.8852 - val_loss: 0.4461 - val_accuracy: 0.8630\n",
      "Epoch 85/100\n",
      "77/77 [==============================] - 2s 26ms/step - loss: 0.3548 - accuracy: 0.8865 - val_loss: 0.4417 - val_accuracy: 0.8638\n",
      "Epoch 86/100\n",
      "77/77 [==============================] - 2s 27ms/step - loss: 0.3495 - accuracy: 0.8876 - val_loss: 0.4433 - val_accuracy: 0.8644\n",
      "Epoch 87/100\n",
      "77/77 [==============================] - 2s 27ms/step - loss: 0.3516 - accuracy: 0.8868 - val_loss: 0.4469 - val_accuracy: 0.8628\n",
      "Epoch 88/100\n",
      "77/77 [==============================] - 2s 26ms/step - loss: 0.3499 - accuracy: 0.8870 - val_loss: 0.4450 - val_accuracy: 0.8637\n",
      "Epoch 89/100\n",
      "77/77 [==============================] - 2s 27ms/step - loss: 0.3477 - accuracy: 0.8877 - val_loss: 0.4444 - val_accuracy: 0.8632\n",
      "Epoch 90/100\n",
      "77/77 [==============================] - 2s 26ms/step - loss: 0.3483 - accuracy: 0.8879 - val_loss: 0.4525 - val_accuracy: 0.8628\n",
      "Epoch 91/100\n",
      "77/77 [==============================] - 2s 26ms/step - loss: 0.3469 - accuracy: 0.8876 - val_loss: 0.4473 - val_accuracy: 0.8644\n",
      "Epoch 92/100\n",
      "77/77 [==============================] - 2s 27ms/step - loss: 0.3425 - accuracy: 0.8896 - val_loss: 0.4385 - val_accuracy: 0.8666\n",
      "Epoch 93/100\n",
      "77/77 [==============================] - 2s 30ms/step - loss: 0.3443 - accuracy: 0.8889 - val_loss: 0.4427 - val_accuracy: 0.8657\n",
      "Epoch 94/100\n",
      "77/77 [==============================] - 2s 26ms/step - loss: 0.3413 - accuracy: 0.8898 - val_loss: 0.4466 - val_accuracy: 0.8638\n",
      "Epoch 95/100\n",
      "77/77 [==============================] - 2s 27ms/step - loss: 0.3388 - accuracy: 0.8906 - val_loss: 0.4364 - val_accuracy: 0.8658\n",
      "Epoch 96/100\n",
      "77/77 [==============================] - 2s 29ms/step - loss: 0.3353 - accuracy: 0.8910 - val_loss: 0.4332 - val_accuracy: 0.8674\n",
      "Epoch 97/100\n",
      "77/77 [==============================] - 2s 27ms/step - loss: 0.3343 - accuracy: 0.8914 - val_loss: 0.4439 - val_accuracy: 0.8642\n",
      "Epoch 98/100\n",
      "77/77 [==============================] - 2s 28ms/step - loss: 0.3331 - accuracy: 0.8917 - val_loss: 0.4462 - val_accuracy: 0.8639\n",
      "Epoch 99/100\n",
      "77/77 [==============================] - 2s 27ms/step - loss: 0.3337 - accuracy: 0.8915 - val_loss: 0.4403 - val_accuracy: 0.8660\n",
      "Epoch 100/100\n",
      "77/77 [==============================] - 2s 27ms/step - loss: 0.3345 - accuracy: 0.8913 - val_loss: 0.4402 - val_accuracy: 0.8663\n"
     ]
    }
   ],
   "source": [
    "history = model.fit(X_train, y_train, batch_size=4056, epochs=100, validation_data = (X_test, y_test))"
   ]
  },
  {
   "cell_type": "markdown",
   "id": "ffed59b1",
   "metadata": {},
   "source": [
    "# 4.Evaluate Network"
   ]
  },
  {
   "cell_type": "markdown",
   "id": "28731190",
   "metadata": {},
   "source": [
    "## 4.1. Plotting Loss and Accuracy"
   ]
  },
  {
   "cell_type": "code",
   "execution_count": 24,
   "id": "971e6040",
   "metadata": {},
   "outputs": [
    {
     "data": {
      "text/plain": [
       "Text(0.5, 1.0, 'Loss Curve of Deep Neural Netowork')"
      ]
     },
     "execution_count": 24,
     "metadata": {},
     "output_type": "execute_result"
    },
    {
     "data": {
      "image/png": "[encoded data removed]",
      "text/plain": [
       "<Figure size 432x288 with 1 Axes>"
      ]
     },
     "metadata": {
      "needs_background": "light"
     },
     "output_type": "display_data"
    }
   ],
   "source": [
    "#Loss Curve\n",
    "\n",
    "\n",
    "plt.plot(figsize = [8,6])\n",
    "\n",
    "plt.plot(history.history['loss'],'r',linewidth = 3.0)\n",
    "plt.plot(history.history['val_loss'],'b',linewidth = 3.0)\n",
    "\n",
    "plt.legend(['Training Loss', 'Validation Loss'], fontsize = 18)\n",
    "\n",
    "plt.xlabel('Epochs', fontsize = 16)\n",
    "plt.ylabel('Loss', fontsize = 16)\n",
    "\n",
    "plt.title('Loss Curve of Deep Neural Netowork' , fontsize = 16 )\n",
    "\n"
   ]
  },
  {
   "cell_type": "code",
   "execution_count": 25,
   "id": "b0c193ec",
   "metadata": {},
   "outputs": [
    {
     "data": {
      "text/plain": [
       "Text(0.5, 1.0, 'Accuracy Curve of Deep Neural Netowork')"
      ]
     },
     "execution_count": 25,
     "metadata": {},
     "output_type": "execute_result"
    },
    {
     "data": {
      "image/png": "[encoded data removed]",
      "text/plain": [
       "<Figure size 432x288 with 1 Axes>"
      ]
     },
     "metadata": {
      "needs_background": "light"
     },
     "output_type": "display_data"
    }
   ],
   "source": [
    "#Accuracy Curve\n",
    "\n",
    "plt.plot(figsize = [8,6])\n",
    "plt.plot(history.history['accuracy'],'r',linewidth = 3.0)\n",
    "plt.plot(history.history['val_accuracy'],'b',linewidth = 3.0)\n",
    "\n",
    "plt.legend(['Training Accuracy', 'Validation Accuracy'], fontsize = 18)\n",
    "\n",
    "plt.xlabel('Epochs', fontsize = 16)\n",
    "plt.ylabel('Accuracy', fontsize = 16)\n",
    "\n",
    "\n",
    "plt.title('Accuracy Curve of Deep Neural Netowork' , fontsize = 16 )"
   ]
  },
  {
   "cell_type": "markdown",
   "id": "741a02aa",
   "metadata": {},
   "source": [
    "##  4.2 Make Predictions"
   ]
  },
  {
   "cell_type": "code",
   "execution_count": 26,
   "id": "e8465627",
   "metadata": {},
   "outputs": [],
   "source": [
    "predictions = model.predict(X_test)\n",
    "predictions = np.argmax(predictions, axis = 1)"
   ]
  },
  {
   "cell_type": "code",
   "execution_count": 27,
   "id": "3cac1a50",
   "metadata": {},
   "outputs": [
    {
     "data": {
      "text/plain": [
       "array([12,  4,  0, ...,  0,  5,  2], dtype=int64)"
      ]
     },
     "execution_count": 27,
     "metadata": {},
     "output_type": "execute_result"
    }
   ],
   "source": [
    "predictions"
   ]
  },
  {
   "cell_type": "markdown",
   "id": "70d666bb",
   "metadata": {},
   "source": [
    "#### Transforming from One Hot Encoding"
   ]
  },
  {
   "cell_type": "code",
   "execution_count": 28,
   "id": "7234b6e7",
   "metadata": {},
   "outputs": [
    {
     "data": {
      "text/plain": [
       "4"
      ]
     },
     "execution_count": 28,
     "metadata": {},
     "output_type": "execute_result"
    }
   ],
   "source": [
    "y_test =np.argmax(y_test, axis=1)\n",
    "y_test[1]"
   ]
  },
  {
   "cell_type": "code",
   "execution_count": 29,
   "id": "6278820d",
   "metadata": {},
   "outputs": [
    {
     "name": "stdout",
     "output_type": "stream",
     "text": [
      "Accuracy is: 86.62848317137525\n"
     ]
    }
   ],
   "source": [
    "from sklearn.metrics import accuracy_score\n",
    "accuracy = {accuracy_score(y_test, predictions)}\n",
    "print(f\"Accuracy is: {accuracy_score(y_test, predictions)* 100}\")"
   ]
  },
  {
   "cell_type": "markdown",
   "id": "eb044ea1",
   "metadata": {},
   "source": [
    "## 4.3 Classification Report"
   ]
  },
  {
   "cell_type": "code",
   "execution_count": 30,
   "id": "001ebc5a",
   "metadata": {},
   "outputs": [
    {
     "name": "stdout",
     "output_type": "stream",
     "text": [
      "\u001b[1mClassification report : \u001b[0m\n",
      "               precision    recall  f1-score   support\n",
      "\n",
      "           0       0.87      0.95      0.91     37017\n",
      "           1       0.89      0.76      0.82      2324\n",
      "           2       0.91      0.83      0.87      2103\n",
      "           3       0.89      0.76      0.82      2358\n",
      "           4       0.84      0.80      0.82      2374\n",
      "           5       0.94      0.90      0.92      2160\n",
      "           6       0.94      0.86      0.90      2347\n",
      "           7       0.86      0.82      0.84      2304\n",
      "           8       0.78      0.73      0.75      2562\n",
      "           9       0.79      0.60      0.68      2658\n",
      "          10       0.78      0.70      0.74      2191\n",
      "          11       0.84      0.76      0.80      2482\n",
      "          12       0.88      0.83      0.86      2430\n",
      "          13       0.80      0.78      0.79      1486\n",
      "          14       0.78      0.83      0.80      1457\n",
      "          15       0.82      0.78      0.80      1441\n",
      "          16       0.92      0.89      0.90      1524\n",
      "          17       0.80      0.66      0.73      1877\n",
      "          18       0.91      0.80      0.85       771\n",
      "          19       0.85      0.68      0.76       685\n",
      "          20       0.96      0.93      0.95       787\n",
      "          21       0.89      0.95      0.92       765\n",
      "          22       0.99      0.97      0.98       758\n",
      "          23       0.99      0.96      0.97       834\n",
      "\n",
      "    accuracy                           0.87     77695\n",
      "   macro avg       0.87      0.81      0.84     77695\n",
      "weighted avg       0.87      0.87      0.86     77695\n",
      "\n",
      "\u001b[1mConfusion Matrix : \u001b[0m\n"
     ]
    },
    {
     "data": {
      "image/png": "[encoded data removed]",
      "text/plain": [
       "<Figure size 432x288 with 2 Axes>"
      ]
     },
     "metadata": {
      "needs_background": "light"
     },
     "output_type": "display_data"
    }
   ],
   "source": [
    "from sklearn.metrics import confusion_matrix, f1_score, accuracy_score, classification_report\n",
    "print('\\033[1m' +'Classification report : '+ '\\033[0m\\n', classification_report(y_test, predictions))\n",
    "\n",
    "cm = confusion_matrix(predictions, y_test)\n",
    "print('\\033[1m' +'Confusion Matrix : '+ '\\033[0m')\n",
    "sns.heatmap(cm, cmap = 'OrRd',annot = True, fmt='d')\n",
    "plt.show()"
   ]
  },
  {
   "cell_type": "markdown",
   "id": "eaa5e512",
   "metadata": {},
   "source": [
    "## 4.4 Evaluation"
   ]
  },
  {
   "cell_type": "code",
   "execution_count": 31,
   "id": "9e469f86",
   "metadata": {},
   "outputs": [
    {
     "name": "stdout",
     "output_type": "stream",
     "text": [
      "MAE: 1.1132762726044148\n",
      "MSE: 12.569174335542828\n",
      "RMSE: 3.5453031373273043\n"
     ]
    }
   ],
   "source": [
    "from sklearn import metrics\n",
    "\n",
    "print('MAE:', metrics.mean_absolute_error(y_test,predictions))\n",
    "print('MSE:', metrics.mean_squared_error(y_test, predictions))\n",
    "print('RMSE:', np.sqrt(metrics.mean_squared_error(y_test, predictions)))"
   ]
  },
  {
   "cell_type": "code",
   "execution_count": 32,
   "id": "dff2a82d",
   "metadata": {},
   "outputs": [
    {
     "name": "stdout",
     "output_type": "stream",
     "text": [
      "Precision Score :  0.8655118473387995\n",
      "Recall Score :  0.8662848317137525\n",
      "f1_score :  0.8636280410883703\n"
     ]
    }
   ],
   "source": [
    "from sklearn.metrics import precision_score\n",
    "print(\"Precision Score : \",precision_score(y_test, predictions, average='weighted'))\n",
    "\n",
    "\n",
    "from sklearn.metrics import recall_score\n",
    "print(\"Recall Score : \",recall_score(y_test, predictions,average='weighted'))\n",
    "\n",
    "\n",
    "from sklearn.metrics import f1_score\n",
    "print(\"f1_score : \",f1_score(y_test, predictions,average='weighted'))"
   ]
  },
  {
   "cell_type": "code",
   "execution_count": null,
   "id": "81ac7468",
   "metadata": {},
   "outputs": [],
   "source": []
  },
  {
   "cell_type": "code",
   "execution_count": null,
   "id": "71a4c6e0",
   "metadata": {},
   "outputs": [],
   "source": []
  }
 ],
 "metadata": {
  "kernelspec": {
   "display_name": "Python 3 (ipykernel)",
   "language": "python",
   "name": "python3"
  },
  "language_info": {
   "codemirror_mode": {
    "name": "ipython",
    "version": 3
   },
   "file_extension": ".py",
   "mimetype": "text/x-python",
   "name": "python",
   "nbconvert_exporter": "python",
   "pygments_lexer": "ipython3",
   "version": "3.8.12"
  }
 },
 "nbformat": 4,
 "nbformat_minor": 5
}
