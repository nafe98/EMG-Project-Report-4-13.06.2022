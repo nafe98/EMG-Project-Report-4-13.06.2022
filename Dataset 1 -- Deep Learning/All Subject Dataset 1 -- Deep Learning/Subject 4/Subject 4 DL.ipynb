{
 "cells": [
  {
   "cell_type": "markdown",
   "id": "bf8ee932",
   "metadata": {},
   "source": [
    "# Importing Libraries"
   ]
  },
  {
   "cell_type": "code",
   "execution_count": 1,
   "id": "0f663fa8",
   "metadata": {},
   "outputs": [],
   "source": [
    "import numpy as np\n",
    "import pandas as pd\n",
    "import matplotlib.pyplot as plt\n",
    "import seaborn as sns\n",
    "from sklearn.model_selection import train_test_split"
   ]
  },
  {
   "cell_type": "markdown",
   "id": "511af272",
   "metadata": {},
   "source": [
    "# Loading Data"
   ]
  },
  {
   "cell_type": "code",
   "execution_count": 2,
   "id": "04fd19b0",
   "metadata": {},
   "outputs": [
    {
     "data": {
      "text/html": [
       "<div>\n",
       "<style scoped>\n",
       "    .dataframe tbody tr th:only-of-type {\n",
       "        vertical-align: middle;\n",
       "    }\n",
       "\n",
       "    .dataframe tbody tr th {\n",
       "        vertical-align: top;\n",
       "    }\n",
       "\n",
       "    .dataframe thead th {\n",
       "        text-align: right;\n",
       "    }\n",
       "</style>\n",
       "<table border=\"1\" class=\"dataframe\">\n",
       "  <thead>\n",
       "    <tr style=\"text-align: right;\">\n",
       "      <th></th>\n",
       "      <th>Emg1</th>\n",
       "      <th>Emg2</th>\n",
       "      <th>Emg3</th>\n",
       "      <th>Emg4</th>\n",
       "      <th>Emg5</th>\n",
       "      <th>Emg6</th>\n",
       "      <th>Emg7</th>\n",
       "      <th>Emg8</th>\n",
       "      <th>Emg9</th>\n",
       "      <th>Emg10</th>\n",
       "      <th>repetition</th>\n",
       "      <th>rerepetition</th>\n",
       "      <th>stimulus</th>\n",
       "      <th>restimulus</th>\n",
       "    </tr>\n",
       "  </thead>\n",
       "  <tbody>\n",
       "    <tr>\n",
       "      <th>194787</th>\n",
       "      <td>0.1172</td>\n",
       "      <td>0.0073</td>\n",
       "      <td>0.0049</td>\n",
       "      <td>0.0024</td>\n",
       "      <td>0.0024</td>\n",
       "      <td>0.0024</td>\n",
       "      <td>0.0024</td>\n",
       "      <td>0.0342</td>\n",
       "      <td>0.0024</td>\n",
       "      <td>0.0024</td>\n",
       "      <td>2</td>\n",
       "      <td>0</td>\n",
       "      <td>12</td>\n",
       "      <td>0</td>\n",
       "    </tr>\n",
       "    <tr>\n",
       "      <th>260226</th>\n",
       "      <td>1.9995</td>\n",
       "      <td>0.5933</td>\n",
       "      <td>0.5103</td>\n",
       "      <td>0.1270</td>\n",
       "      <td>0.1074</td>\n",
       "      <td>0.2856</td>\n",
       "      <td>0.5640</td>\n",
       "      <td>0.6714</td>\n",
       "      <td>0.5396</td>\n",
       "      <td>0.5933</td>\n",
       "      <td>8</td>\n",
       "      <td>8</td>\n",
       "      <td>2</td>\n",
       "      <td>2</td>\n",
       "    </tr>\n",
       "    <tr>\n",
       "      <th>113179</th>\n",
       "      <td>0.2539</td>\n",
       "      <td>0.1221</td>\n",
       "      <td>0.1538</td>\n",
       "      <td>0.0024</td>\n",
       "      <td>0.0098</td>\n",
       "      <td>0.0928</td>\n",
       "      <td>0.7007</td>\n",
       "      <td>0.2466</td>\n",
       "      <td>0.1416</td>\n",
       "      <td>0.1074</td>\n",
       "      <td>5</td>\n",
       "      <td>5</td>\n",
       "      <td>2</td>\n",
       "      <td>2</td>\n",
       "    </tr>\n",
       "    <tr>\n",
       "      <th>438860</th>\n",
       "      <td>0.2588</td>\n",
       "      <td>0.0024</td>\n",
       "      <td>0.0024</td>\n",
       "      <td>0.0024</td>\n",
       "      <td>0.0024</td>\n",
       "      <td>0.0098</td>\n",
       "      <td>0.0024</td>\n",
       "      <td>0.0562</td>\n",
       "      <td>0.0439</td>\n",
       "      <td>0.0293</td>\n",
       "      <td>0</td>\n",
       "      <td>0</td>\n",
       "      <td>0</td>\n",
       "      <td>0</td>\n",
       "    </tr>\n",
       "    <tr>\n",
       "      <th>425285</th>\n",
       "      <td>0.0220</td>\n",
       "      <td>0.0122</td>\n",
       "      <td>0.0024</td>\n",
       "      <td>0.0024</td>\n",
       "      <td>0.0024</td>\n",
       "      <td>0.0024</td>\n",
       "      <td>0.0049</td>\n",
       "      <td>0.0073</td>\n",
       "      <td>0.0024</td>\n",
       "      <td>0.0439</td>\n",
       "      <td>0</td>\n",
       "      <td>0</td>\n",
       "      <td>0</td>\n",
       "      <td>0</td>\n",
       "    </tr>\n",
       "  </tbody>\n",
       "</table>\n",
       "</div>"
      ],
      "text/plain": [
       "          Emg1    Emg2    Emg3    Emg4    Emg5    Emg6    Emg7    Emg8  \\\n",
       "194787  0.1172  0.0073  0.0049  0.0024  0.0024  0.0024  0.0024  0.0342   \n",
       "260226  1.9995  0.5933  0.5103  0.1270  0.1074  0.2856  0.5640  0.6714   \n",
       "113179  0.2539  0.1221  0.1538  0.0024  0.0098  0.0928  0.7007  0.2466   \n",
       "438860  0.2588  0.0024  0.0024  0.0024  0.0024  0.0098  0.0024  0.0562   \n",
       "425285  0.0220  0.0122  0.0024  0.0024  0.0024  0.0024  0.0049  0.0073   \n",
       "\n",
       "          Emg9   Emg10  repetition  rerepetition  stimulus  restimulus  \n",
       "194787  0.0024  0.0024           2             0        12           0  \n",
       "260226  0.5396  0.5933           8             8         2           2  \n",
       "113179  0.1416  0.1074           5             5         2           2  \n",
       "438860  0.0439  0.0293           0             0         0           0  \n",
       "425285  0.0024  0.0439           0             0         0           0  "
      ]
     },
     "execution_count": 2,
     "metadata": {},
     "output_type": "execute_result"
    }
   ],
   "source": [
    "raw_data = pd.read_excel('Dataset 1 Patient 4.xlsx')\n",
    "raw_data.sample(5)"
   ]
  },
  {
   "cell_type": "code",
   "execution_count": 3,
   "id": "80369ddb",
   "metadata": {},
   "outputs": [
    {
     "name": "stdout",
     "output_type": "stream",
     "text": [
      "<class 'pandas.core.frame.DataFrame'>\n",
      "RangeIndex: 455868 entries, 0 to 455867\n",
      "Data columns (total 14 columns):\n",
      " #   Column        Non-Null Count   Dtype  \n",
      "---  ------        --------------   -----  \n",
      " 0   Emg1          455868 non-null  float64\n",
      " 1   Emg2          455868 non-null  float64\n",
      " 2   Emg3          455868 non-null  float64\n",
      " 3   Emg4          455868 non-null  float64\n",
      " 4   Emg5          455868 non-null  float64\n",
      " 5   Emg6          455868 non-null  float64\n",
      " 6   Emg7          455868 non-null  float64\n",
      " 7   Emg8          455868 non-null  float64\n",
      " 8   Emg9          455868 non-null  float64\n",
      " 9   Emg10         455868 non-null  float64\n",
      " 10  repetition    455868 non-null  int64  \n",
      " 11  rerepetition  455868 non-null  int64  \n",
      " 12  stimulus      455868 non-null  int64  \n",
      " 13  restimulus    455868 non-null  int64  \n",
      "dtypes: float64(10), int64(4)\n",
      "memory usage: 48.7 MB\n"
     ]
    }
   ],
   "source": [
    "raw_data.info()"
   ]
  },
  {
   "cell_type": "code",
   "execution_count": 4,
   "id": "109445f8",
   "metadata": {},
   "outputs": [
    {
     "data": {
      "text/html": [
       "<div>\n",
       "<style scoped>\n",
       "    .dataframe tbody tr th:only-of-type {\n",
       "        vertical-align: middle;\n",
       "    }\n",
       "\n",
       "    .dataframe tbody tr th {\n",
       "        vertical-align: top;\n",
       "    }\n",
       "\n",
       "    .dataframe thead th {\n",
       "        text-align: right;\n",
       "    }\n",
       "</style>\n",
       "<table border=\"1\" class=\"dataframe\">\n",
       "  <thead>\n",
       "    <tr style=\"text-align: right;\">\n",
       "      <th></th>\n",
       "      <th>Emg1</th>\n",
       "      <th>Emg2</th>\n",
       "      <th>Emg3</th>\n",
       "      <th>Emg4</th>\n",
       "      <th>Emg5</th>\n",
       "      <th>Emg6</th>\n",
       "      <th>Emg7</th>\n",
       "      <th>Emg8</th>\n",
       "      <th>Emg9</th>\n",
       "      <th>Emg10</th>\n",
       "      <th>repetition</th>\n",
       "      <th>rerepetition</th>\n",
       "      <th>stimulus</th>\n",
       "      <th>restimulus</th>\n",
       "    </tr>\n",
       "  </thead>\n",
       "  <tbody>\n",
       "    <tr>\n",
       "      <th>count</th>\n",
       "      <td>455868.000000</td>\n",
       "      <td>455868.000000</td>\n",
       "      <td>455868.000000</td>\n",
       "      <td>455868.000000</td>\n",
       "      <td>455868.000000</td>\n",
       "      <td>455868.000000</td>\n",
       "      <td>455868.000000</td>\n",
       "      <td>455868.000000</td>\n",
       "      <td>455868.000000</td>\n",
       "      <td>455868.000000</td>\n",
       "      <td>455868.000000</td>\n",
       "      <td>455868.000000</td>\n",
       "      <td>455868.000000</td>\n",
       "      <td>455868.000000</td>\n",
       "    </tr>\n",
       "    <tr>\n",
       "      <th>mean</th>\n",
       "      <td>0.332545</td>\n",
       "      <td>0.058456</td>\n",
       "      <td>0.049844</td>\n",
       "      <td>0.023382</td>\n",
       "      <td>0.009703</td>\n",
       "      <td>0.035887</td>\n",
       "      <td>0.191725</td>\n",
       "      <td>0.173032</td>\n",
       "      <td>0.070132</td>\n",
       "      <td>0.065993</td>\n",
       "      <td>3.237610</td>\n",
       "      <td>2.511964</td>\n",
       "      <td>5.738133</td>\n",
       "      <td>4.701942</td>\n",
       "    </tr>\n",
       "    <tr>\n",
       "      <th>std</th>\n",
       "      <td>0.467568</td>\n",
       "      <td>0.142487</td>\n",
       "      <td>0.139377</td>\n",
       "      <td>0.102822</td>\n",
       "      <td>0.028035</td>\n",
       "      <td>0.069141</td>\n",
       "      <td>0.267717</td>\n",
       "      <td>0.180930</td>\n",
       "      <td>0.153322</td>\n",
       "      <td>0.110593</td>\n",
       "      <td>3.490469</td>\n",
       "      <td>3.337748</td>\n",
       "      <td>6.599320</td>\n",
       "      <td>6.493878</td>\n",
       "    </tr>\n",
       "    <tr>\n",
       "      <th>min</th>\n",
       "      <td>0.002400</td>\n",
       "      <td>0.000000</td>\n",
       "      <td>0.002400</td>\n",
       "      <td>0.002400</td>\n",
       "      <td>0.002400</td>\n",
       "      <td>0.002400</td>\n",
       "      <td>0.002400</td>\n",
       "      <td>0.002400</td>\n",
       "      <td>0.002400</td>\n",
       "      <td>0.000000</td>\n",
       "      <td>0.000000</td>\n",
       "      <td>0.000000</td>\n",
       "      <td>0.000000</td>\n",
       "      <td>0.000000</td>\n",
       "    </tr>\n",
       "    <tr>\n",
       "      <th>25%</th>\n",
       "      <td>0.022000</td>\n",
       "      <td>0.002400</td>\n",
       "      <td>0.002400</td>\n",
       "      <td>0.002400</td>\n",
       "      <td>0.002400</td>\n",
       "      <td>0.002400</td>\n",
       "      <td>0.014600</td>\n",
       "      <td>0.048800</td>\n",
       "      <td>0.002400</td>\n",
       "      <td>0.002400</td>\n",
       "      <td>0.000000</td>\n",
       "      <td>0.000000</td>\n",
       "      <td>0.000000</td>\n",
       "      <td>0.000000</td>\n",
       "    </tr>\n",
       "    <tr>\n",
       "      <th>50%</th>\n",
       "      <td>0.105000</td>\n",
       "      <td>0.002400</td>\n",
       "      <td>0.002400</td>\n",
       "      <td>0.002400</td>\n",
       "      <td>0.002400</td>\n",
       "      <td>0.009800</td>\n",
       "      <td>0.117200</td>\n",
       "      <td>0.112300</td>\n",
       "      <td>0.004900</td>\n",
       "      <td>0.026900</td>\n",
       "      <td>2.000000</td>\n",
       "      <td>0.000000</td>\n",
       "      <td>3.000000</td>\n",
       "      <td>0.000000</td>\n",
       "    </tr>\n",
       "    <tr>\n",
       "      <th>75%</th>\n",
       "      <td>0.476100</td>\n",
       "      <td>0.056200</td>\n",
       "      <td>0.024400</td>\n",
       "      <td>0.002400</td>\n",
       "      <td>0.002400</td>\n",
       "      <td>0.039100</td>\n",
       "      <td>0.263700</td>\n",
       "      <td>0.239300</td>\n",
       "      <td>0.083000</td>\n",
       "      <td>0.078100</td>\n",
       "      <td>6.000000</td>\n",
       "      <td>5.000000</td>\n",
       "      <td>10.000000</td>\n",
       "      <td>9.000000</td>\n",
       "    </tr>\n",
       "    <tr>\n",
       "      <th>max</th>\n",
       "      <td>4.458000</td>\n",
       "      <td>4.514200</td>\n",
       "      <td>3.064000</td>\n",
       "      <td>3.234900</td>\n",
       "      <td>0.803200</td>\n",
       "      <td>1.042500</td>\n",
       "      <td>4.663100</td>\n",
       "      <td>2.041000</td>\n",
       "      <td>3.513200</td>\n",
       "      <td>1.562500</td>\n",
       "      <td>10.000000</td>\n",
       "      <td>10.000000</td>\n",
       "      <td>23.000000</td>\n",
       "      <td>23.000000</td>\n",
       "    </tr>\n",
       "  </tbody>\n",
       "</table>\n",
       "</div>"
      ],
      "text/plain": [
       "                Emg1           Emg2           Emg3           Emg4  \\\n",
       "count  455868.000000  455868.000000  455868.000000  455868.000000   \n",
       "mean        0.332545       0.058456       0.049844       0.023382   \n",
       "std         0.467568       0.142487       0.139377       0.102822   \n",
       "min         0.002400       0.000000       0.002400       0.002400   \n",
       "25%         0.022000       0.002400       0.002400       0.002400   \n",
       "50%         0.105000       0.002400       0.002400       0.002400   \n",
       "75%         0.476100       0.056200       0.024400       0.002400   \n",
       "max         4.458000       4.514200       3.064000       3.234900   \n",
       "\n",
       "                Emg5           Emg6           Emg7           Emg8  \\\n",
       "count  455868.000000  455868.000000  455868.000000  455868.000000   \n",
       "mean        0.009703       0.035887       0.191725       0.173032   \n",
       "std         0.028035       0.069141       0.267717       0.180930   \n",
       "min         0.002400       0.002400       0.002400       0.002400   \n",
       "25%         0.002400       0.002400       0.014600       0.048800   \n",
       "50%         0.002400       0.009800       0.117200       0.112300   \n",
       "75%         0.002400       0.039100       0.263700       0.239300   \n",
       "max         0.803200       1.042500       4.663100       2.041000   \n",
       "\n",
       "                Emg9          Emg10     repetition   rerepetition  \\\n",
       "count  455868.000000  455868.000000  455868.000000  455868.000000   \n",
       "mean        0.070132       0.065993       3.237610       2.511964   \n",
       "std         0.153322       0.110593       3.490469       3.337748   \n",
       "min         0.002400       0.000000       0.000000       0.000000   \n",
       "25%         0.002400       0.002400       0.000000       0.000000   \n",
       "50%         0.004900       0.026900       2.000000       0.000000   \n",
       "75%         0.083000       0.078100       6.000000       5.000000   \n",
       "max         3.513200       1.562500      10.000000      10.000000   \n",
       "\n",
       "            stimulus     restimulus  \n",
       "count  455868.000000  455868.000000  \n",
       "mean        5.738133       4.701942  \n",
       "std         6.599320       6.493878  \n",
       "min         0.000000       0.000000  \n",
       "25%         0.000000       0.000000  \n",
       "50%         3.000000       0.000000  \n",
       "75%        10.000000       9.000000  \n",
       "max        23.000000      23.000000  "
      ]
     },
     "execution_count": 4,
     "metadata": {},
     "output_type": "execute_result"
    }
   ],
   "source": [
    "raw_data.describe(include='all')"
   ]
  },
  {
   "cell_type": "code",
   "execution_count": 5,
   "id": "f0b9a2e6",
   "metadata": {},
   "outputs": [
    {
     "name": "stdout",
     "output_type": "stream",
     "text": [
      "Unique Dependent values and their counts :\n",
      "0     187582\n",
      "8      15555\n",
      "12     15514\n",
      "7      15504\n",
      "4      15498\n",
      "2      15497\n",
      "5      15479\n",
      "9      15471\n",
      "6      15468\n",
      "11     15465\n",
      "10     15440\n",
      "1      15430\n",
      "3      15426\n",
      "17     10355\n",
      "14     10338\n",
      "13     10335\n",
      "15     10310\n",
      "16     10267\n",
      "19      5186\n",
      "18      5170\n",
      "21      5164\n",
      "20      5142\n",
      "23      5138\n",
      "22      5134\n",
      "Name: stimulus, dtype: int64\n"
     ]
    }
   ],
   "source": [
    "print(\"Unique Dependent values and their counts :\")\n",
    "print(raw_data[\"stimulus\"].value_counts())"
   ]
  },
  {
   "cell_type": "markdown",
   "id": "54420ec4",
   "metadata": {},
   "source": [
    "# Data Cleaning"
   ]
  },
  {
   "cell_type": "code",
   "execution_count": 6,
   "id": "a811198b",
   "metadata": {},
   "outputs": [],
   "source": [
    "index_names = raw_data[ (raw_data['stimulus'] != raw_data['restimulus'])].index\n",
    "raw_data.drop(index_names, inplace = True)"
   ]
  },
  {
   "cell_type": "code",
   "execution_count": 7,
   "id": "556cd92f",
   "metadata": {},
   "outputs": [],
   "source": [
    "index_names = raw_data[ (raw_data['repetition'] != raw_data['rerepetition'])].index\n",
    "raw_data.drop(index_names, inplace = True)"
   ]
  },
  {
   "cell_type": "code",
   "execution_count": 8,
   "id": "c91744f7",
   "metadata": {},
   "outputs": [],
   "source": [
    "X = raw_data.iloc[:,0:10]\n",
    "y = raw_data.stimulus"
   ]
  },
  {
   "cell_type": "markdown",
   "id": "152f7160",
   "metadata": {},
   "source": [
    "# One Hot Encoding"
   ]
  },
  {
   "cell_type": "code",
   "execution_count": 9,
   "id": "dfb77d24",
   "metadata": {},
   "outputs": [],
   "source": [
    "num_classes = 24"
   ]
  },
  {
   "cell_type": "code",
   "execution_count": 10,
   "id": "be64bf6b",
   "metadata": {},
   "outputs": [],
   "source": [
    "# One hot encoding for categorical labels\n",
    "import keras\n",
    "from keras import utils as np_utils\n",
    "y = keras.utils.np_utils.to_categorical(y, num_classes)"
   ]
  },
  {
   "cell_type": "code",
   "execution_count": 11,
   "id": "c7358f86",
   "metadata": {},
   "outputs": [],
   "source": [
    "input_dim = X.shape[1]"
   ]
  },
  {
   "cell_type": "markdown",
   "id": "cb3088a1",
   "metadata": {},
   "source": [
    "# Standard Scaler"
   ]
  },
  {
   "cell_type": "code",
   "execution_count": 12,
   "id": "5bd820f4",
   "metadata": {},
   "outputs": [],
   "source": [
    "from sklearn.preprocessing import StandardScaler\n",
    "standardscaler=StandardScaler()"
   ]
  },
  {
   "cell_type": "code",
   "execution_count": 13,
   "id": "6a118694",
   "metadata": {},
   "outputs": [],
   "source": [
    "sc = pd.DataFrame(standardscaler.fit_transform(X))"
   ]
  },
  {
   "cell_type": "code",
   "execution_count": 14,
   "id": "d6e2f38b",
   "metadata": {},
   "outputs": [
    {
     "data": {
      "text/html": [
       "<div>\n",
       "<style scoped>\n",
       "    .dataframe tbody tr th:only-of-type {\n",
       "        vertical-align: middle;\n",
       "    }\n",
       "\n",
       "    .dataframe tbody tr th {\n",
       "        vertical-align: top;\n",
       "    }\n",
       "\n",
       "    .dataframe thead th {\n",
       "        text-align: right;\n",
       "    }\n",
       "</style>\n",
       "<table border=\"1\" class=\"dataframe\">\n",
       "  <thead>\n",
       "    <tr style=\"text-align: right;\">\n",
       "      <th></th>\n",
       "      <th>0</th>\n",
       "      <th>1</th>\n",
       "      <th>2</th>\n",
       "      <th>3</th>\n",
       "      <th>4</th>\n",
       "      <th>5</th>\n",
       "      <th>6</th>\n",
       "      <th>7</th>\n",
       "      <th>8</th>\n",
       "      <th>9</th>\n",
       "    </tr>\n",
       "  </thead>\n",
       "  <tbody>\n",
       "    <tr>\n",
       "      <th>0</th>\n",
       "      <td>-0.747336</td>\n",
       "      <td>-0.425809</td>\n",
       "      <td>-0.369228</td>\n",
       "      <td>-0.221498</td>\n",
       "      <td>-0.282907</td>\n",
       "      <td>-0.514572</td>\n",
       "      <td>-0.209574</td>\n",
       "      <td>-0.758034</td>\n",
       "      <td>-0.476509</td>\n",
       "      <td>-0.502027</td>\n",
       "    </tr>\n",
       "    <tr>\n",
       "      <th>1</th>\n",
       "      <td>-0.747336</td>\n",
       "      <td>-0.425809</td>\n",
       "      <td>-0.369228</td>\n",
       "      <td>-0.221498</td>\n",
       "      <td>-0.282907</td>\n",
       "      <td>-0.514572</td>\n",
       "      <td>-0.140739</td>\n",
       "      <td>-0.732198</td>\n",
       "      <td>-0.476509</td>\n",
       "      <td>-0.522430</td>\n",
       "    </tr>\n",
       "    <tr>\n",
       "      <th>2</th>\n",
       "      <td>-0.747336</td>\n",
       "      <td>-0.425809</td>\n",
       "      <td>-0.369228</td>\n",
       "      <td>-0.221498</td>\n",
       "      <td>-0.282907</td>\n",
       "      <td>-0.514572</td>\n",
       "      <td>-0.140739</td>\n",
       "      <td>-0.706361</td>\n",
       "      <td>-0.476509</td>\n",
       "      <td>-0.502027</td>\n",
       "    </tr>\n",
       "    <tr>\n",
       "      <th>3</th>\n",
       "      <td>-0.747336</td>\n",
       "      <td>-0.425809</td>\n",
       "      <td>-0.369228</td>\n",
       "      <td>-0.221498</td>\n",
       "      <td>-0.282907</td>\n",
       "      <td>-0.514572</td>\n",
       "      <td>-0.183805</td>\n",
       "      <td>-0.719016</td>\n",
       "      <td>-0.476509</td>\n",
       "      <td>-0.522430</td>\n",
       "    </tr>\n",
       "    <tr>\n",
       "      <th>4</th>\n",
       "      <td>-0.747336</td>\n",
       "      <td>-0.425809</td>\n",
       "      <td>-0.369228</td>\n",
       "      <td>-0.221498</td>\n",
       "      <td>-0.282907</td>\n",
       "      <td>-0.514572</td>\n",
       "      <td>-0.209574</td>\n",
       "      <td>-0.706361</td>\n",
       "      <td>-0.476509</td>\n",
       "      <td>-0.542833</td>\n",
       "    </tr>\n",
       "    <tr>\n",
       "      <th>...</th>\n",
       "      <td>...</td>\n",
       "      <td>...</td>\n",
       "      <td>...</td>\n",
       "      <td>...</td>\n",
       "      <td>...</td>\n",
       "      <td>...</td>\n",
       "      <td>...</td>\n",
       "      <td>...</td>\n",
       "      <td>...</td>\n",
       "      <td>...</td>\n",
       "    </tr>\n",
       "    <tr>\n",
       "      <th>385172</th>\n",
       "      <td>-0.258607</td>\n",
       "      <td>-0.409455</td>\n",
       "      <td>-0.369228</td>\n",
       "      <td>-0.221498</td>\n",
       "      <td>-0.282907</td>\n",
       "      <td>-0.514572</td>\n",
       "      <td>-0.718252</td>\n",
       "      <td>0.001772</td>\n",
       "      <td>-0.476509</td>\n",
       "      <td>-0.605743</td>\n",
       "    </tr>\n",
       "    <tr>\n",
       "      <th>385173</th>\n",
       "      <td>-0.273516</td>\n",
       "      <td>-0.425809</td>\n",
       "      <td>-0.369228</td>\n",
       "      <td>-0.221498</td>\n",
       "      <td>-0.282907</td>\n",
       "      <td>-0.514572</td>\n",
       "      <td>-0.718252</td>\n",
       "      <td>-0.062556</td>\n",
       "      <td>-0.476509</td>\n",
       "      <td>-0.605743</td>\n",
       "    </tr>\n",
       "    <tr>\n",
       "      <th>385174</th>\n",
       "      <td>-0.283523</td>\n",
       "      <td>-0.425809</td>\n",
       "      <td>-0.369228</td>\n",
       "      <td>-0.221498</td>\n",
       "      <td>-0.282907</td>\n",
       "      <td>-0.514572</td>\n",
       "      <td>-0.718252</td>\n",
       "      <td>-0.114229</td>\n",
       "      <td>-0.476509</td>\n",
       "      <td>-0.605743</td>\n",
       "    </tr>\n",
       "    <tr>\n",
       "      <th>385175</th>\n",
       "      <td>-0.328454</td>\n",
       "      <td>-0.425809</td>\n",
       "      <td>-0.352536</td>\n",
       "      <td>-0.221498</td>\n",
       "      <td>-0.282907</td>\n",
       "      <td>-0.514572</td>\n",
       "      <td>-0.718252</td>\n",
       "      <td>-0.178557</td>\n",
       "      <td>-0.476509</td>\n",
       "      <td>-0.605743</td>\n",
       "    </tr>\n",
       "    <tr>\n",
       "      <th>385176</th>\n",
       "      <td>-0.373386</td>\n",
       "      <td>-0.425809</td>\n",
       "      <td>-0.369228</td>\n",
       "      <td>-0.221498</td>\n",
       "      <td>-0.200278</td>\n",
       "      <td>-0.514572</td>\n",
       "      <td>-0.718252</td>\n",
       "      <td>-0.242885</td>\n",
       "      <td>-0.476509</td>\n",
       "      <td>-0.605743</td>\n",
       "    </tr>\n",
       "  </tbody>\n",
       "</table>\n",
       "<p>385177 rows × 10 columns</p>\n",
       "</div>"
      ],
      "text/plain": [
       "               0         1         2         3         4         5         6  \\\n",
       "0      -0.747336 -0.425809 -0.369228 -0.221498 -0.282907 -0.514572 -0.209574   \n",
       "1      -0.747336 -0.425809 -0.369228 -0.221498 -0.282907 -0.514572 -0.140739   \n",
       "2      -0.747336 -0.425809 -0.369228 -0.221498 -0.282907 -0.514572 -0.140739   \n",
       "3      -0.747336 -0.425809 -0.369228 -0.221498 -0.282907 -0.514572 -0.183805   \n",
       "4      -0.747336 -0.425809 -0.369228 -0.221498 -0.282907 -0.514572 -0.209574   \n",
       "...          ...       ...       ...       ...       ...       ...       ...   \n",
       "385172 -0.258607 -0.409455 -0.369228 -0.221498 -0.282907 -0.514572 -0.718252   \n",
       "385173 -0.273516 -0.425809 -0.369228 -0.221498 -0.282907 -0.514572 -0.718252   \n",
       "385174 -0.283523 -0.425809 -0.369228 -0.221498 -0.282907 -0.514572 -0.718252   \n",
       "385175 -0.328454 -0.425809 -0.352536 -0.221498 -0.282907 -0.514572 -0.718252   \n",
       "385176 -0.373386 -0.425809 -0.369228 -0.221498 -0.200278 -0.514572 -0.718252   \n",
       "\n",
       "               7         8         9  \n",
       "0      -0.758034 -0.476509 -0.502027  \n",
       "1      -0.732198 -0.476509 -0.522430  \n",
       "2      -0.706361 -0.476509 -0.502027  \n",
       "3      -0.719016 -0.476509 -0.522430  \n",
       "4      -0.706361 -0.476509 -0.542833  \n",
       "...          ...       ...       ...  \n",
       "385172  0.001772 -0.476509 -0.605743  \n",
       "385173 -0.062556 -0.476509 -0.605743  \n",
       "385174 -0.114229 -0.476509 -0.605743  \n",
       "385175 -0.178557 -0.476509 -0.605743  \n",
       "385176 -0.242885 -0.476509 -0.605743  \n",
       "\n",
       "[385177 rows x 10 columns]"
      ]
     },
     "execution_count": 14,
     "metadata": {},
     "output_type": "execute_result"
    }
   ],
   "source": [
    "sc"
   ]
  },
  {
   "cell_type": "code",
   "execution_count": 15,
   "id": "65cfb75d",
   "metadata": {},
   "outputs": [],
   "source": [
    "# Splitting data for training and testing\n",
    "X_train, X_test, y_train, y_test = train_test_split(sc, y, test_size = 0.2, random_state = 39)"
   ]
  },
  {
   "cell_type": "markdown",
   "id": "3ba47781",
   "metadata": {},
   "source": [
    "# Deep Learning "
   ]
  },
  {
   "cell_type": "code",
   "execution_count": 16,
   "id": "d426e2e1",
   "metadata": {},
   "outputs": [],
   "source": [
    "from sklearn.preprocessing import MinMaxScaler\n",
    "from tensorflow.keras.models import Model\n",
    "from tensorflow.keras.layers import Input\n",
    "from tensorflow.keras.layers import Dense\n",
    "from tensorflow.keras.layers import LeakyReLU,ELU\n",
    "from tensorflow.keras.layers import BatchNormalization\n",
    "from tensorflow.keras.utils import plot_model\n",
    "import tensorflow as tf\n",
    "from sklearn.model_selection import cross_val_score\n",
    "from keras.models import Sequential\n",
    "from keras.layers import Dense, BatchNormalization, Dropout\n",
    "from tensorflow.keras.optimizers import Adam, SGD, RMSprop, Adadelta, Adagrad, Adamax, Nadam, Ftrl\n",
    "from keras.callbacks import EarlyStopping, ModelCheckpoint\n",
    "from keras.wrappers.scikit_learn import KerasClassifier\n",
    "from sklearn.metrics import make_scorer, accuracy_score\n",
    "from sklearn.model_selection import StratifiedKFold"
   ]
  },
  {
   "cell_type": "code",
   "execution_count": 17,
   "id": "cd0ef208",
   "metadata": {},
   "outputs": [],
   "source": [
    "from keras.layers import LeakyReLU\n",
    "LeakyReLU = LeakyReLU(alpha=0.1)\n",
    "from keras.models import Sequential\n",
    "from keras.layers import Dense, Flatten, Convolution1D, Dropout\n",
    "from keras.initializers import random_uniform"
   ]
  },
  {
   "cell_type": "markdown",
   "id": "f97d61bc",
   "metadata": {},
   "source": [
    "# 1. Define Network"
   ]
  },
  {
   "cell_type": "code",
   "execution_count": 18,
   "id": "bd77bf81",
   "metadata": {},
   "outputs": [],
   "source": [
    "num_classes = 24\n",
    "input_dim = X.shape[1]"
   ]
  },
  {
   "cell_type": "code",
   "execution_count": 19,
   "id": "fbdce465",
   "metadata": {},
   "outputs": [],
   "source": [
    "visible = Input(shape=(input_dim,))\n",
    "hidden1 = Dense(3000, activation='relu')(visible)\n",
    "hidden2 = Dense(1500, activation='relu')(hidden1)\n",
    "hidden3 = Dropout(0.2)(hidden2)\n",
    "hidden4 = Dense(750, activation='relu')(hidden3)\n",
    "hidden5 = Dense(375, activation='relu')(hidden4)\n",
    "hidden6 = Dense(48, activation='relu')(hidden5)\n",
    "output = Dense(num_classes, activation='softmax')(hidden6)\n",
    "model = Model(inputs=visible, outputs=output)"
   ]
  },
  {
   "cell_type": "code",
   "execution_count": 20,
   "id": "1dd33478",
   "metadata": {},
   "outputs": [
    {
     "name": "stdout",
     "output_type": "stream",
     "text": [
      "Model: \"model\"\n",
      "_________________________________________________________________\n",
      " Layer (type)                Output Shape              Param #   \n",
      "=================================================================\n",
      " input_1 (InputLayer)        [(None, 10)]              0         \n",
      "                                                                 \n",
      " dense (Dense)               (None, 3000)              33000     \n",
      "                                                                 \n",
      " dense_1 (Dense)             (None, 1500)              4501500   \n",
      "                                                                 \n",
      " dropout (Dropout)           (None, 1500)              0         \n",
      "                                                                 \n",
      " dense_2 (Dense)             (None, 750)               1125750   \n",
      "                                                                 \n",
      " dense_3 (Dense)             (None, 375)               281625    \n",
      "                                                                 \n",
      " dense_4 (Dense)             (None, 48)                18048     \n",
      "                                                                 \n",
      " dense_5 (Dense)             (None, 24)                1176      \n",
      "                                                                 \n",
      "=================================================================\n",
      "Total params: 5,961,099\n",
      "Trainable params: 5,961,099\n",
      "Non-trainable params: 0\n",
      "_________________________________________________________________\n"
     ]
    }
   ],
   "source": [
    "model.summary()"
   ]
  },
  {
   "cell_type": "markdown",
   "id": "3196ac97",
   "metadata": {},
   "source": [
    "# 2. Compile Network"
   ]
  },
  {
   "cell_type": "code",
   "execution_count": 21,
   "id": "7a2d558b",
   "metadata": {},
   "outputs": [],
   "source": [
    "model.compile(optimizer='adam', loss='categorical_crossentropy', metrics=['accuracy'])"
   ]
  },
  {
   "cell_type": "code",
   "execution_count": 22,
   "id": "c1d2b36d",
   "metadata": {},
   "outputs": [
    {
     "name": "stdout",
     "output_type": "stream",
     "text": [
      "You must install pydot (`pip install pydot`) and install graphviz (see instructions at https://graphviz.gitlab.io/download/) for plot_model/model_to_dot to work.\n"
     ]
    }
   ],
   "source": [
    "plot_model(model, 'EMG_ANN', show_shapes = True)"
   ]
  },
  {
   "cell_type": "markdown",
   "id": "3358b592",
   "metadata": {},
   "source": [
    "# 3. Fit Network"
   ]
  },
  {
   "cell_type": "code",
   "execution_count": 23,
   "id": "e0ed4ddd",
   "metadata": {},
   "outputs": [
    {
     "name": "stdout",
     "output_type": "stream",
     "text": [
      "Epoch 1/100\n",
      "76/76 [==============================] - 10s 30ms/step - loss: 1.5297 - accuracy: 0.5929 - val_loss: 1.1803 - val_accuracy: 0.6681\n",
      "Epoch 2/100\n",
      "76/76 [==============================] - 2s 27ms/step - loss: 1.0634 - accuracy: 0.7005 - val_loss: 0.9706 - val_accuracy: 0.7259\n",
      "Epoch 3/100\n",
      "76/76 [==============================] - 2s 27ms/step - loss: 0.9382 - accuracy: 0.7329 - val_loss: 0.8898 - val_accuracy: 0.7447\n",
      "Epoch 4/100\n",
      "76/76 [==============================] - 2s 26ms/step - loss: 0.8671 - accuracy: 0.7516 - val_loss: 0.8383 - val_accuracy: 0.7593\n",
      "Epoch 5/100\n",
      "76/76 [==============================] - 2s 26ms/step - loss: 0.8179 - accuracy: 0.7641 - val_loss: 0.7884 - val_accuracy: 0.7740\n",
      "Epoch 6/100\n",
      "76/76 [==============================] - 2s 26ms/step - loss: 0.7779 - accuracy: 0.7747 - val_loss: 0.7583 - val_accuracy: 0.7782\n",
      "Epoch 7/100\n",
      "76/76 [==============================] - 2s 27ms/step - loss: 0.7452 - accuracy: 0.7828 - val_loss: 0.7204 - val_accuracy: 0.7890\n",
      "Epoch 8/100\n",
      "76/76 [==============================] - 2s 27ms/step - loss: 0.7223 - accuracy: 0.7889 - val_loss: 0.6949 - val_accuracy: 0.7955\n",
      "Epoch 9/100\n",
      "76/76 [==============================] - 2s 26ms/step - loss: 0.6960 - accuracy: 0.7959 - val_loss: 0.6864 - val_accuracy: 0.7967\n",
      "Epoch 10/100\n",
      "76/76 [==============================] - 2s 27ms/step - loss: 0.6773 - accuracy: 0.8012 - val_loss: 0.6586 - val_accuracy: 0.8052\n",
      "Epoch 11/100\n",
      "76/76 [==============================] - 2s 27ms/step - loss: 0.6565 - accuracy: 0.8065 - val_loss: 0.6422 - val_accuracy: 0.8091\n",
      "Epoch 12/100\n",
      "76/76 [==============================] - 2s 27ms/step - loss: 0.6391 - accuracy: 0.8109 - val_loss: 0.6354 - val_accuracy: 0.8120\n",
      "Epoch 13/100\n",
      "76/76 [==============================] - 2s 26ms/step - loss: 0.6221 - accuracy: 0.8152 - val_loss: 0.6142 - val_accuracy: 0.8176\n",
      "Epoch 14/100\n",
      "76/76 [==============================] - 2s 28ms/step - loss: 0.6088 - accuracy: 0.8195 - val_loss: 0.6030 - val_accuracy: 0.8200\n",
      "Epoch 15/100\n",
      "76/76 [==============================] - 2s 26ms/step - loss: 0.5936 - accuracy: 0.8231 - val_loss: 0.5950 - val_accuracy: 0.8225\n",
      "Epoch 16/100\n",
      "76/76 [==============================] - 2s 26ms/step - loss: 0.5819 - accuracy: 0.8261 - val_loss: 0.5847 - val_accuracy: 0.8268\n",
      "Epoch 17/100\n",
      "76/76 [==============================] - 2s 27ms/step - loss: 0.5672 - accuracy: 0.8304 - val_loss: 0.5704 - val_accuracy: 0.8310\n",
      "Epoch 18/100\n",
      "76/76 [==============================] - 2s 26ms/step - loss: 0.5587 - accuracy: 0.8330 - val_loss: 0.5735 - val_accuracy: 0.8294\n",
      "Epoch 19/100\n",
      "76/76 [==============================] - 2s 27ms/step - loss: 0.5484 - accuracy: 0.8361 - val_loss: 0.5533 - val_accuracy: 0.8353\n",
      "Epoch 20/100\n",
      "76/76 [==============================] - 2s 27ms/step - loss: 0.5375 - accuracy: 0.8391 - val_loss: 0.5436 - val_accuracy: 0.8376\n",
      "Epoch 21/100\n",
      "76/76 [==============================] - 2s 26ms/step - loss: 0.5262 - accuracy: 0.8421 - val_loss: 0.5410 - val_accuracy: 0.8388\n",
      "Epoch 22/100\n",
      "76/76 [==============================] - 2s 27ms/step - loss: 0.5209 - accuracy: 0.8434 - val_loss: 0.5280 - val_accuracy: 0.8425\n",
      "Epoch 23/100\n",
      "76/76 [==============================] - 2s 27ms/step - loss: 0.5089 - accuracy: 0.8475 - val_loss: 0.5224 - val_accuracy: 0.8434\n",
      "Epoch 24/100\n",
      "76/76 [==============================] - 2s 27ms/step - loss: 0.4983 - accuracy: 0.8505 - val_loss: 0.5172 - val_accuracy: 0.8453\n",
      "Epoch 25/100\n",
      "76/76 [==============================] - 2s 27ms/step - loss: 0.4911 - accuracy: 0.8523 - val_loss: 0.5136 - val_accuracy: 0.8467\n",
      "Epoch 26/100\n",
      "76/76 [==============================] - 2s 27ms/step - loss: 0.4847 - accuracy: 0.8542 - val_loss: 0.5009 - val_accuracy: 0.8500\n",
      "Epoch 27/100\n",
      "76/76 [==============================] - 2s 27ms/step - loss: 0.4802 - accuracy: 0.8562 - val_loss: 0.5028 - val_accuracy: 0.8518\n",
      "Epoch 28/100\n",
      "76/76 [==============================] - 2s 26ms/step - loss: 0.4694 - accuracy: 0.8586 - val_loss: 0.4915 - val_accuracy: 0.8533\n",
      "Epoch 29/100\n",
      "76/76 [==============================] - 2s 27ms/step - loss: 0.4657 - accuracy: 0.8598 - val_loss: 0.4892 - val_accuracy: 0.8545\n",
      "Epoch 30/100\n",
      "76/76 [==============================] - 2s 28ms/step - loss: 0.4589 - accuracy: 0.8621 - val_loss: 0.4878 - val_accuracy: 0.8547\n",
      "Epoch 31/100\n",
      "76/76 [==============================] - 2s 27ms/step - loss: 0.4513 - accuracy: 0.8638 - val_loss: 0.4847 - val_accuracy: 0.8551\n",
      "Epoch 32/100\n",
      "76/76 [==============================] - 2s 27ms/step - loss: 0.4460 - accuracy: 0.8655 - val_loss: 0.4718 - val_accuracy: 0.8592\n",
      "Epoch 33/100\n",
      "76/76 [==============================] - 2s 28ms/step - loss: 0.4388 - accuracy: 0.8681 - val_loss: 0.4703 - val_accuracy: 0.8595\n",
      "Epoch 34/100\n",
      "76/76 [==============================] - 2s 26ms/step - loss: 0.4344 - accuracy: 0.8695 - val_loss: 0.4644 - val_accuracy: 0.8619\n",
      "Epoch 35/100\n",
      "76/76 [==============================] - 2s 27ms/step - loss: 0.4283 - accuracy: 0.8703 - val_loss: 0.4671 - val_accuracy: 0.8603\n",
      "Epoch 36/100\n",
      "76/76 [==============================] - 2s 27ms/step - loss: 0.4190 - accuracy: 0.8737 - val_loss: 0.4563 - val_accuracy: 0.8632\n",
      "Epoch 37/100\n",
      "76/76 [==============================] - 2s 27ms/step - loss: 0.4178 - accuracy: 0.8737 - val_loss: 0.4485 - val_accuracy: 0.8654\n",
      "Epoch 38/100\n",
      "76/76 [==============================] - 2s 27ms/step - loss: 0.4149 - accuracy: 0.8745 - val_loss: 0.4604 - val_accuracy: 0.8613\n",
      "Epoch 39/100\n",
      "76/76 [==============================] - 2s 27ms/step - loss: 0.4128 - accuracy: 0.8753 - val_loss: 0.4451 - val_accuracy: 0.8663\n",
      "Epoch 40/100\n",
      "76/76 [==============================] - 2s 27ms/step - loss: 0.4005 - accuracy: 0.8788 - val_loss: 0.4436 - val_accuracy: 0.8672\n",
      "Epoch 41/100\n",
      "76/76 [==============================] - 2s 27ms/step - loss: 0.3983 - accuracy: 0.8795 - val_loss: 0.4393 - val_accuracy: 0.8691\n",
      "Epoch 42/100\n",
      "76/76 [==============================] - 2s 27ms/step - loss: 0.3947 - accuracy: 0.8806 - val_loss: 0.4365 - val_accuracy: 0.8694\n",
      "Epoch 43/100\n",
      "76/76 [==============================] - 2s 27ms/step - loss: 0.3923 - accuracy: 0.8808 - val_loss: 0.4283 - val_accuracy: 0.8724\n",
      "Epoch 44/100\n",
      "76/76 [==============================] - 2s 27ms/step - loss: 0.3837 - accuracy: 0.8836 - val_loss: 0.4295 - val_accuracy: 0.8710\n",
      "Epoch 45/100\n",
      "76/76 [==============================] - 2s 26ms/step - loss: 0.3835 - accuracy: 0.8839 - val_loss: 0.4257 - val_accuracy: 0.8724\n",
      "Epoch 46/100\n",
      "76/76 [==============================] - 2s 27ms/step - loss: 0.3782 - accuracy: 0.8857 - val_loss: 0.4251 - val_accuracy: 0.8716\n",
      "Epoch 47/100\n",
      "76/76 [==============================] - 2s 28ms/step - loss: 0.3725 - accuracy: 0.8868 - val_loss: 0.4232 - val_accuracy: 0.8748\n",
      "Epoch 48/100\n",
      "76/76 [==============================] - 2s 28ms/step - loss: 0.3717 - accuracy: 0.8871 - val_loss: 0.4156 - val_accuracy: 0.8765\n",
      "Epoch 49/100\n",
      "76/76 [==============================] - 2s 27ms/step - loss: 0.3689 - accuracy: 0.8881 - val_loss: 0.4222 - val_accuracy: 0.8750\n",
      "Epoch 50/100\n",
      "76/76 [==============================] - 2s 28ms/step - loss: 0.3653 - accuracy: 0.8888 - val_loss: 0.4110 - val_accuracy: 0.8771\n",
      "Epoch 51/100\n",
      "76/76 [==============================] - 2s 28ms/step - loss: 0.3598 - accuracy: 0.8906 - val_loss: 0.4151 - val_accuracy: 0.8769\n",
      "Epoch 52/100\n",
      "76/76 [==============================] - 2s 27ms/step - loss: 0.3581 - accuracy: 0.8912 - val_loss: 0.4099 - val_accuracy: 0.8779\n",
      "Epoch 53/100\n",
      "76/76 [==============================] - 2s 26ms/step - loss: 0.3573 - accuracy: 0.8908 - val_loss: 0.4062 - val_accuracy: 0.8781\n",
      "Epoch 54/100\n",
      "76/76 [==============================] - 2s 27ms/step - loss: 0.3523 - accuracy: 0.8927 - val_loss: 0.4098 - val_accuracy: 0.8779\n",
      "Epoch 55/100\n",
      "76/76 [==============================] - 2s 28ms/step - loss: 0.3503 - accuracy: 0.8934 - val_loss: 0.4060 - val_accuracy: 0.8779\n",
      "Epoch 56/100\n",
      "76/76 [==============================] - 2s 26ms/step - loss: 0.3494 - accuracy: 0.8939 - val_loss: 0.4022 - val_accuracy: 0.8795\n",
      "Epoch 57/100\n",
      "76/76 [==============================] - 2s 27ms/step - loss: 0.3408 - accuracy: 0.8962 - val_loss: 0.3949 - val_accuracy: 0.8820\n",
      "Epoch 58/100\n"
     ]
    },
    {
     "name": "stdout",
     "output_type": "stream",
     "text": [
      "76/76 [==============================] - 2s 27ms/step - loss: 0.3391 - accuracy: 0.8969 - val_loss: 0.3985 - val_accuracy: 0.8821\n",
      "Epoch 59/100\n",
      "76/76 [==============================] - 2s 28ms/step - loss: 0.3376 - accuracy: 0.8968 - val_loss: 0.3909 - val_accuracy: 0.8840\n",
      "Epoch 60/100\n",
      "76/76 [==============================] - 2s 27ms/step - loss: 0.3402 - accuracy: 0.8964 - val_loss: 0.3981 - val_accuracy: 0.8818\n",
      "Epoch 61/100\n",
      "76/76 [==============================] - 2s 28ms/step - loss: 0.3343 - accuracy: 0.8985 - val_loss: 0.3925 - val_accuracy: 0.8844\n",
      "Epoch 62/100\n",
      "76/76 [==============================] - 2s 27ms/step - loss: 0.3280 - accuracy: 0.8999 - val_loss: 0.3879 - val_accuracy: 0.8848\n",
      "Epoch 63/100\n",
      "76/76 [==============================] - 2s 27ms/step - loss: 0.3239 - accuracy: 0.9016 - val_loss: 0.3955 - val_accuracy: 0.8830\n",
      "Epoch 64/100\n",
      "76/76 [==============================] - 2s 27ms/step - loss: 0.3251 - accuracy: 0.9012 - val_loss: 0.3803 - val_accuracy: 0.8868\n",
      "Epoch 65/100\n",
      "76/76 [==============================] - 2s 27ms/step - loss: 0.3215 - accuracy: 0.9024 - val_loss: 0.3804 - val_accuracy: 0.8866\n",
      "Epoch 66/100\n",
      "76/76 [==============================] - 2s 27ms/step - loss: 0.3205 - accuracy: 0.9021 - val_loss: 0.3806 - val_accuracy: 0.8876\n",
      "Epoch 67/100\n",
      "76/76 [==============================] - 2s 27ms/step - loss: 0.3210 - accuracy: 0.9019 - val_loss: 0.3817 - val_accuracy: 0.8861\n",
      "Epoch 68/100\n",
      "76/76 [==============================] - 2s 26ms/step - loss: 0.3146 - accuracy: 0.9039 - val_loss: 0.3776 - val_accuracy: 0.8872\n",
      "Epoch 69/100\n",
      "76/76 [==============================] - 2s 27ms/step - loss: 0.3128 - accuracy: 0.9049 - val_loss: 0.3784 - val_accuracy: 0.8874\n",
      "Epoch 70/100\n",
      "76/76 [==============================] - 2s 27ms/step - loss: 0.3108 - accuracy: 0.9049 - val_loss: 0.3807 - val_accuracy: 0.8872\n",
      "Epoch 71/100\n",
      "76/76 [==============================] - 2s 28ms/step - loss: 0.3053 - accuracy: 0.9068 - val_loss: 0.3719 - val_accuracy: 0.8895\n",
      "Epoch 72/100\n",
      "76/76 [==============================] - 2s 27ms/step - loss: 0.3044 - accuracy: 0.9073 - val_loss: 0.3748 - val_accuracy: 0.8896\n",
      "Epoch 73/100\n",
      "76/76 [==============================] - 2s 27ms/step - loss: 0.3050 - accuracy: 0.9071 - val_loss: 0.3731 - val_accuracy: 0.8891\n",
      "Epoch 74/100\n",
      "76/76 [==============================] - 2s 28ms/step - loss: 0.3026 - accuracy: 0.9075 - val_loss: 0.3760 - val_accuracy: 0.8875\n",
      "Epoch 75/100\n",
      "76/76 [==============================] - 2s 28ms/step - loss: 0.3041 - accuracy: 0.9065 - val_loss: 0.3811 - val_accuracy: 0.8871\n",
      "Epoch 76/100\n",
      "76/76 [==============================] - 2s 27ms/step - loss: 0.3000 - accuracy: 0.9082 - val_loss: 0.3720 - val_accuracy: 0.8882\n",
      "Epoch 77/100\n",
      "76/76 [==============================] - 2s 27ms/step - loss: 0.2979 - accuracy: 0.9091 - val_loss: 0.3712 - val_accuracy: 0.8904\n",
      "Epoch 78/100\n",
      "76/76 [==============================] - 2s 28ms/step - loss: 0.2946 - accuracy: 0.9098 - val_loss: 0.3672 - val_accuracy: 0.8925\n",
      "Epoch 79/100\n",
      "76/76 [==============================] - 2s 27ms/step - loss: 0.2917 - accuracy: 0.9108 - val_loss: 0.3661 - val_accuracy: 0.8912\n",
      "Epoch 80/100\n",
      "76/76 [==============================] - 2s 27ms/step - loss: 0.2937 - accuracy: 0.9104 - val_loss: 0.3767 - val_accuracy: 0.8894\n",
      "Epoch 81/100\n",
      "76/76 [==============================] - 2s 28ms/step - loss: 0.2905 - accuracy: 0.9114 - val_loss: 0.3806 - val_accuracy: 0.8876\n",
      "Epoch 82/100\n",
      "76/76 [==============================] - 2s 27ms/step - loss: 0.2894 - accuracy: 0.9111 - val_loss: 0.3765 - val_accuracy: 0.8894\n",
      "Epoch 83/100\n",
      "76/76 [==============================] - 2s 28ms/step - loss: 0.2881 - accuracy: 0.9123 - val_loss: 0.3643 - val_accuracy: 0.8925\n",
      "Epoch 84/100\n",
      "76/76 [==============================] - 2s 27ms/step - loss: 0.2861 - accuracy: 0.9126 - val_loss: 0.3619 - val_accuracy: 0.8936\n",
      "Epoch 85/100\n",
      "76/76 [==============================] - 2s 27ms/step - loss: 0.2841 - accuracy: 0.9132 - val_loss: 0.3594 - val_accuracy: 0.8942\n",
      "Epoch 86/100\n",
      "76/76 [==============================] - 2s 28ms/step - loss: 0.2796 - accuracy: 0.9151 - val_loss: 0.3612 - val_accuracy: 0.8936\n",
      "Epoch 87/100\n",
      "76/76 [==============================] - 2s 27ms/step - loss: 0.2790 - accuracy: 0.9148 - val_loss: 0.3626 - val_accuracy: 0.8939\n",
      "Epoch 88/100\n",
      "76/76 [==============================] - 2s 27ms/step - loss: 0.2789 - accuracy: 0.9147 - val_loss: 0.3698 - val_accuracy: 0.8924\n",
      "Epoch 89/100\n",
      "76/76 [==============================] - 2s 28ms/step - loss: 0.2769 - accuracy: 0.9156 - val_loss: 0.3693 - val_accuracy: 0.8924\n",
      "Epoch 90/100\n",
      "76/76 [==============================] - 2s 27ms/step - loss: 0.2758 - accuracy: 0.9150 - val_loss: 0.3624 - val_accuracy: 0.8947\n",
      "Epoch 91/100\n",
      "76/76 [==============================] - 2s 27ms/step - loss: 0.2791 - accuracy: 0.9149 - val_loss: 0.3644 - val_accuracy: 0.8932\n",
      "Epoch 92/100\n",
      "76/76 [==============================] - 2s 28ms/step - loss: 0.2752 - accuracy: 0.9159 - val_loss: 0.3567 - val_accuracy: 0.8958\n",
      "Epoch 93/100\n",
      "76/76 [==============================] - 2s 28ms/step - loss: 0.2709 - accuracy: 0.9172 - val_loss: 0.3554 - val_accuracy: 0.8973\n",
      "Epoch 94/100\n",
      "76/76 [==============================] - 2s 28ms/step - loss: 0.2696 - accuracy: 0.9175 - val_loss: 0.3581 - val_accuracy: 0.8947\n",
      "Epoch 95/100\n",
      "76/76 [==============================] - 2s 27ms/step - loss: 0.2706 - accuracy: 0.9169 - val_loss: 0.3534 - val_accuracy: 0.8962\n",
      "Epoch 96/100\n",
      "76/76 [==============================] - 2s 28ms/step - loss: 0.2645 - accuracy: 0.9189 - val_loss: 0.3602 - val_accuracy: 0.8965\n",
      "Epoch 97/100\n",
      "76/76 [==============================] - 2s 28ms/step - loss: 0.2664 - accuracy: 0.9183 - val_loss: 0.3622 - val_accuracy: 0.8935\n",
      "Epoch 98/100\n",
      "76/76 [==============================] - 2s 27ms/step - loss: 0.2666 - accuracy: 0.9178 - val_loss: 0.3586 - val_accuracy: 0.8958\n",
      "Epoch 99/100\n",
      "76/76 [==============================] - 2s 28ms/step - loss: 0.2645 - accuracy: 0.9186 - val_loss: 0.3545 - val_accuracy: 0.8974\n",
      "Epoch 100/100\n",
      "76/76 [==============================] - 2s 28ms/step - loss: 0.2600 - accuracy: 0.9202 - val_loss: 0.3531 - val_accuracy: 0.8971\n"
     ]
    }
   ],
   "source": [
    "history = model.fit(X_train, y_train, batch_size=4056, epochs=100, validation_data = (X_test, y_test))"
   ]
  },
  {
   "cell_type": "markdown",
   "id": "ffed59b1",
   "metadata": {},
   "source": [
    "# 4.Evaluate Network"
   ]
  },
  {
   "cell_type": "markdown",
   "id": "28731190",
   "metadata": {},
   "source": [
    "## 4.1. Plotting Loss and Accuracy"
   ]
  },
  {
   "cell_type": "code",
   "execution_count": 24,
   "id": "971e6040",
   "metadata": {},
   "outputs": [
    {
     "data": {
      "text/plain": [
       "Text(0.5, 1.0, 'Loss Curve of Deep Neural Netowork')"
      ]
     },
     "execution_count": 24,
     "metadata": {},
     "output_type": "execute_result"
    },
    {
     "data": {
      "image/png": "[encoded data removed]",
      "text/plain": [
       "<Figure size 432x288 with 1 Axes>"
      ]
     },
     "metadata": {
      "needs_background": "light"
     },
     "output_type": "display_data"
    }
   ],
   "source": [
    "#Loss Curve\n",
    "\n",
    "\n",
    "plt.plot(figsize = [8,6])\n",
    "\n",
    "plt.plot(history.history['loss'],'r',linewidth = 3.0)\n",
    "plt.plot(history.history['val_loss'],'b',linewidth = 3.0)\n",
    "\n",
    "plt.legend(['Training Loss', 'Validation Loss'], fontsize = 18)\n",
    "\n",
    "plt.xlabel('Epochs', fontsize = 16)\n",
    "plt.ylabel('Loss', fontsize = 16)\n",
    "\n",
    "plt.title('Loss Curve of Deep Neural Netowork' , fontsize = 16 )\n",
    "\n"
   ]
  },
  {
   "cell_type": "code",
   "execution_count": 25,
   "id": "b0c193ec",
   "metadata": {},
   "outputs": [
    {
     "data": {
      "text/plain": [
       "Text(0.5, 1.0, 'Accuracy Curve of Deep Neural Netowork')"
      ]
     },
     "execution_count": 25,
     "metadata": {},
     "output_type": "execute_result"
    },
    {
     "data": {
      "image/png": "[encoded data removed]",
      "text/plain": [
       "<Figure size 432x288 with 1 Axes>"
      ]
     },
     "metadata": {
      "needs_background": "light"
     },
     "output_type": "display_data"
    }
   ],
   "source": [
    "#Accuracy Curve\n",
    "\n",
    "plt.plot(figsize = [8,6])\n",
    "plt.plot(history.history['accuracy'],'r',linewidth = 3.0)\n",
    "plt.plot(history.history['val_accuracy'],'b',linewidth = 3.0)\n",
    "\n",
    "plt.legend(['Training Accuracy', 'Validation Accuracy'], fontsize = 18)\n",
    "\n",
    "plt.xlabel('Epochs', fontsize = 16)\n",
    "plt.ylabel('Accuracy', fontsize = 16)\n",
    "\n",
    "\n",
    "plt.title('Accuracy Curve of Deep Neural Netowork' , fontsize = 16 )"
   ]
  },
  {
   "cell_type": "markdown",
   "id": "741a02aa",
   "metadata": {},
   "source": [
    "##  4.2 Make Predictions"
   ]
  },
  {
   "cell_type": "code",
   "execution_count": 26,
   "id": "e8465627",
   "metadata": {},
   "outputs": [],
   "source": [
    "predictions = model.predict(X_test)\n",
    "predictions = np.argmax(predictions, axis = 1)"
   ]
  },
  {
   "cell_type": "code",
   "execution_count": 27,
   "id": "3cac1a50",
   "metadata": {},
   "outputs": [
    {
     "data": {
      "text/plain": [
       "array([0, 5, 6, ..., 0, 9, 0], dtype=int64)"
      ]
     },
     "execution_count": 27,
     "metadata": {},
     "output_type": "execute_result"
    }
   ],
   "source": [
    "predictions"
   ]
  },
  {
   "cell_type": "markdown",
   "id": "70d666bb",
   "metadata": {},
   "source": [
    "#### Transforming from One Hot Encoding"
   ]
  },
  {
   "cell_type": "code",
   "execution_count": 28,
   "id": "7234b6e7",
   "metadata": {},
   "outputs": [
    {
     "data": {
      "text/plain": [
       "5"
      ]
     },
     "execution_count": 28,
     "metadata": {},
     "output_type": "execute_result"
    }
   ],
   "source": [
    "y_test =np.argmax(y_test, axis=1)\n",
    "y_test[1]"
   ]
  },
  {
   "cell_type": "code",
   "execution_count": 29,
   "id": "6278820d",
   "metadata": {},
   "outputs": [
    {
     "name": "stdout",
     "output_type": "stream",
     "text": [
      "Accuracy is: 89.71389999480762\n"
     ]
    }
   ],
   "source": [
    "from sklearn.metrics import accuracy_score\n",
    "accuracy = {accuracy_score(y_test, predictions)}\n",
    "print(f\"Accuracy is: {accuracy_score(y_test, predictions)* 100}\")"
   ]
  },
  {
   "cell_type": "markdown",
   "id": "eb044ea1",
   "metadata": {},
   "source": [
    "## 4.3 Classification Report"
   ]
  },
  {
   "cell_type": "code",
   "execution_count": 30,
   "id": "001ebc5a",
   "metadata": {},
   "outputs": [
    {
     "name": "stdout",
     "output_type": "stream",
     "text": [
      "\u001b[1mClassification report : \u001b[0m\n",
      "               precision    recall  f1-score   support\n",
      "\n",
      "           0       0.90      0.97      0.93     36204\n",
      "           1       0.93      0.85      0.89      2317\n",
      "           2       0.94      0.80      0.87      1955\n",
      "           3       0.94      0.84      0.89      1962\n",
      "           4       0.89      0.86      0.88      2350\n",
      "           5       0.86      0.88      0.87      2458\n",
      "           6       0.88      0.87      0.88      2370\n",
      "           7       0.85      0.72      0.78      2108\n",
      "           8       0.87      0.85      0.86      2281\n",
      "           9       0.87      0.83      0.85      2569\n",
      "          10       0.86      0.79      0.82      2439\n",
      "          11       0.95      0.84      0.89      2220\n",
      "          12       0.90      0.66      0.76      2556\n",
      "          13       0.96      0.89      0.93      1440\n",
      "          14       0.82      0.79      0.80      1408\n",
      "          15       0.89      0.81      0.85      1651\n",
      "          16       0.91      0.89      0.90      1855\n",
      "          17       0.89      0.77      0.82      1579\n",
      "          18       0.90      0.82      0.86       917\n",
      "          19       0.76      0.77      0.77       863\n",
      "          20       0.95      0.94      0.95       882\n",
      "          21       0.95      0.90      0.93       861\n",
      "          22       0.99      0.98      0.99       913\n",
      "          23       0.98      0.98      0.98       878\n",
      "\n",
      "    accuracy                           0.90     77036\n",
      "   macro avg       0.90      0.85      0.87     77036\n",
      "weighted avg       0.90      0.90      0.90     77036\n",
      "\n",
      "\u001b[1mConfusion Matrix : \u001b[0m\n"
     ]
    },
    {
     "data": {
      "image/png": "[encoded data removed]",
      "text/plain": [
       "<Figure size 432x288 with 2 Axes>"
      ]
     },
     "metadata": {
      "needs_background": "light"
     },
     "output_type": "display_data"
    }
   ],
   "source": [
    "from sklearn.metrics import confusion_matrix, f1_score, accuracy_score, classification_report\n",
    "print('\\033[1m' +'Classification report : '+ '\\033[0m\\n', classification_report(y_test, predictions))\n",
    "\n",
    "cm = confusion_matrix(predictions, y_test)\n",
    "print('\\033[1m' +'Confusion Matrix : '+ '\\033[0m')\n",
    "sns.heatmap(cm, cmap = 'OrRd',annot = True, fmt='d')\n",
    "plt.show()"
   ]
  },
  {
   "cell_type": "markdown",
   "id": "eaa5e512",
   "metadata": {},
   "source": [
    "## 4.4 Evaluation"
   ]
  },
  {
   "cell_type": "code",
   "execution_count": 31,
   "id": "9e469f86",
   "metadata": {},
   "outputs": [
    {
     "name": "stdout",
     "output_type": "stream",
     "text": [
      "MAE: 0.865335687211174\n",
      "MSE: 9.999610571680773\n",
      "RMSE: 3.1622160855451944\n"
     ]
    }
   ],
   "source": [
    "from sklearn import metrics\n",
    "\n",
    "print('MAE:', metrics.mean_absolute_error(y_test,predictions))\n",
    "print('MSE:', metrics.mean_squared_error(y_test, predictions))\n",
    "print('RMSE:', np.sqrt(metrics.mean_squared_error(y_test, predictions)))"
   ]
  },
  {
   "cell_type": "code",
   "execution_count": 32,
   "id": "dff2a82d",
   "metadata": {},
   "outputs": [
    {
     "name": "stdout",
     "output_type": "stream",
     "text": [
      "Precision Score :  0.897325137204758\n",
      "Recall Score :  0.8971389999480762\n",
      "f1_score :  0.8951416733686582\n"
     ]
    }
   ],
   "source": [
    "from sklearn.metrics import precision_score\n",
    "print(\"Precision Score : \",precision_score(y_test, predictions, average='weighted'))\n",
    "\n",
    "\n",
    "from sklearn.metrics import recall_score\n",
    "print(\"Recall Score : \",recall_score(y_test, predictions,average='weighted'))\n",
    "\n",
    "\n",
    "from sklearn.metrics import f1_score\n",
    "print(\"f1_score : \",f1_score(y_test, predictions,average='weighted'))"
   ]
  },
  {
   "cell_type": "code",
   "execution_count": null,
   "id": "81ac7468",
   "metadata": {},
   "outputs": [],
   "source": []
  },
  {
   "cell_type": "code",
   "execution_count": null,
   "id": "71a4c6e0",
   "metadata": {},
   "outputs": [],
   "source": []
  }
 ],
 "metadata": {
  "kernelspec": {
   "display_name": "Python 3 (ipykernel)",
   "language": "python",
   "name": "python3"
  },
  "language_info": {
   "codemirror_mode": {
    "name": "ipython",
    "version": 3
   },
   "file_extension": ".py",
   "mimetype": "text/x-python",
   "name": "python",
   "nbconvert_exporter": "python",
   "pygments_lexer": "ipython3",
   "version": "3.8.12"
  }
 },
 "nbformat": 4,
 "nbformat_minor": 5
}
