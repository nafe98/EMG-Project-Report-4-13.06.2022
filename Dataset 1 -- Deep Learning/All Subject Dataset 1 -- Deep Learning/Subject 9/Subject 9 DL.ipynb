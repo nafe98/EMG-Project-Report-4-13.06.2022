{
 "cells": [
  {
   "cell_type": "markdown",
   "id": "bf8ee932",
   "metadata": {},
   "source": [
    "# Importing Libraries"
   ]
  },
  {
   "cell_type": "code",
   "execution_count": 1,
   "id": "0f663fa8",
   "metadata": {},
   "outputs": [],
   "source": [
    "import numpy as np\n",
    "import pandas as pd\n",
    "import matplotlib.pyplot as plt\n",
    "import seaborn as sns\n",
    "from sklearn.model_selection import train_test_split"
   ]
  },
  {
   "cell_type": "markdown",
   "id": "511af272",
   "metadata": {},
   "source": [
    "# Loading Data"
   ]
  },
  {
   "cell_type": "code",
   "execution_count": 2,
   "id": "04fd19b0",
   "metadata": {},
   "outputs": [
    {
     "data": {
      "text/html": [
       "<div>\n",
       "<style scoped>\n",
       "    .dataframe tbody tr th:only-of-type {\n",
       "        vertical-align: middle;\n",
       "    }\n",
       "\n",
       "    .dataframe tbody tr th {\n",
       "        vertical-align: top;\n",
       "    }\n",
       "\n",
       "    .dataframe thead th {\n",
       "        text-align: right;\n",
       "    }\n",
       "</style>\n",
       "<table border=\"1\" class=\"dataframe\">\n",
       "  <thead>\n",
       "    <tr style=\"text-align: right;\">\n",
       "      <th></th>\n",
       "      <th>Emg1</th>\n",
       "      <th>Emg2</th>\n",
       "      <th>Emg3</th>\n",
       "      <th>Emg4</th>\n",
       "      <th>Emg5</th>\n",
       "      <th>Emg6</th>\n",
       "      <th>Emg7</th>\n",
       "      <th>Emg8</th>\n",
       "      <th>Emg9</th>\n",
       "      <th>Emg10</th>\n",
       "      <th>repetition</th>\n",
       "      <th>rerepetition</th>\n",
       "      <th>stimulus</th>\n",
       "      <th>restimulus</th>\n",
       "    </tr>\n",
       "  </thead>\n",
       "  <tbody>\n",
       "    <tr>\n",
       "      <th>181451</th>\n",
       "      <td>0.0293</td>\n",
       "      <td>0.0024</td>\n",
       "      <td>0.0024</td>\n",
       "      <td>0.0024</td>\n",
       "      <td>0.0024</td>\n",
       "      <td>0.0024</td>\n",
       "      <td>0.2539</td>\n",
       "      <td>0.0684</td>\n",
       "      <td>0.0024</td>\n",
       "      <td>0.0024</td>\n",
       "      <td>6</td>\n",
       "      <td>0</td>\n",
       "      <td>10</td>\n",
       "      <td>0</td>\n",
       "    </tr>\n",
       "    <tr>\n",
       "      <th>271827</th>\n",
       "      <td>0.0024</td>\n",
       "      <td>0.0024</td>\n",
       "      <td>0.0024</td>\n",
       "      <td>0.0024</td>\n",
       "      <td>0.0024</td>\n",
       "      <td>0.0024</td>\n",
       "      <td>0.0049</td>\n",
       "      <td>0.0171</td>\n",
       "      <td>0.0024</td>\n",
       "      <td>0.0806</td>\n",
       "      <td>0</td>\n",
       "      <td>0</td>\n",
       "      <td>0</td>\n",
       "      <td>0</td>\n",
       "    </tr>\n",
       "    <tr>\n",
       "      <th>166809</th>\n",
       "      <td>0.0220</td>\n",
       "      <td>0.0610</td>\n",
       "      <td>0.3149</td>\n",
       "      <td>0.0024</td>\n",
       "      <td>0.0024</td>\n",
       "      <td>0.0146</td>\n",
       "      <td>0.7324</td>\n",
       "      <td>0.0293</td>\n",
       "      <td>0.0073</td>\n",
       "      <td>0.0586</td>\n",
       "      <td>9</td>\n",
       "      <td>9</td>\n",
       "      <td>8</td>\n",
       "      <td>8</td>\n",
       "    </tr>\n",
       "    <tr>\n",
       "      <th>117404</th>\n",
       "      <td>0.0439</td>\n",
       "      <td>0.5054</td>\n",
       "      <td>0.2881</td>\n",
       "      <td>0.0073</td>\n",
       "      <td>0.0415</td>\n",
       "      <td>0.5225</td>\n",
       "      <td>3.6450</td>\n",
       "      <td>0.1978</td>\n",
       "      <td>1.4868</td>\n",
       "      <td>0.7324</td>\n",
       "      <td>10</td>\n",
       "      <td>10</td>\n",
       "      <td>2</td>\n",
       "      <td>2</td>\n",
       "    </tr>\n",
       "    <tr>\n",
       "      <th>112729</th>\n",
       "      <td>0.0269</td>\n",
       "      <td>0.3784</td>\n",
       "      <td>0.1660</td>\n",
       "      <td>0.0024</td>\n",
       "      <td>0.0024</td>\n",
       "      <td>0.0757</td>\n",
       "      <td>0.1001</td>\n",
       "      <td>0.0366</td>\n",
       "      <td>0.7959</td>\n",
       "      <td>0.0024</td>\n",
       "      <td>0</td>\n",
       "      <td>0</td>\n",
       "      <td>0</td>\n",
       "      <td>0</td>\n",
       "    </tr>\n",
       "  </tbody>\n",
       "</table>\n",
       "</div>"
      ],
      "text/plain": [
       "          Emg1    Emg2    Emg3    Emg4    Emg5    Emg6    Emg7    Emg8  \\\n",
       "181451  0.0293  0.0024  0.0024  0.0024  0.0024  0.0024  0.2539  0.0684   \n",
       "271827  0.0024  0.0024  0.0024  0.0024  0.0024  0.0024  0.0049  0.0171   \n",
       "166809  0.0220  0.0610  0.3149  0.0024  0.0024  0.0146  0.7324  0.0293   \n",
       "117404  0.0439  0.5054  0.2881  0.0073  0.0415  0.5225  3.6450  0.1978   \n",
       "112729  0.0269  0.3784  0.1660  0.0024  0.0024  0.0757  0.1001  0.0366   \n",
       "\n",
       "          Emg9   Emg10  repetition  rerepetition  stimulus  restimulus  \n",
       "181451  0.0024  0.0024           6             0        10           0  \n",
       "271827  0.0024  0.0806           0             0         0           0  \n",
       "166809  0.0073  0.0586           9             9         8           8  \n",
       "117404  1.4868  0.7324          10            10         2           2  \n",
       "112729  0.7959  0.0024           0             0         0           0  "
      ]
     },
     "execution_count": 2,
     "metadata": {},
     "output_type": "execute_result"
    }
   ],
   "source": [
    "raw_data = pd.read_excel('Dataset 1 Patient 9.xlsx')\n",
    "raw_data.sample(5)"
   ]
  },
  {
   "cell_type": "code",
   "execution_count": 3,
   "id": "80369ddb",
   "metadata": {},
   "outputs": [
    {
     "name": "stdout",
     "output_type": "stream",
     "text": [
      "<class 'pandas.core.frame.DataFrame'>\n",
      "RangeIndex: 461355 entries, 0 to 461354\n",
      "Data columns (total 14 columns):\n",
      " #   Column        Non-Null Count   Dtype  \n",
      "---  ------        --------------   -----  \n",
      " 0   Emg1          461355 non-null  float64\n",
      " 1   Emg2          461355 non-null  float64\n",
      " 2   Emg3          461355 non-null  float64\n",
      " 3   Emg4          461355 non-null  float64\n",
      " 4   Emg5          461355 non-null  float64\n",
      " 5   Emg6          461355 non-null  float64\n",
      " 6   Emg7          461355 non-null  float64\n",
      " 7   Emg8          461355 non-null  float64\n",
      " 8   Emg9          461355 non-null  float64\n",
      " 9   Emg10         461355 non-null  float64\n",
      " 10  repetition    461355 non-null  int64  \n",
      " 11  rerepetition  461355 non-null  int64  \n",
      " 12  stimulus      461355 non-null  int64  \n",
      " 13  restimulus    461355 non-null  int64  \n",
      "dtypes: float64(10), int64(4)\n",
      "memory usage: 49.3 MB\n"
     ]
    }
   ],
   "source": [
    "raw_data.info()"
   ]
  },
  {
   "cell_type": "code",
   "execution_count": 4,
   "id": "109445f8",
   "metadata": {},
   "outputs": [
    {
     "data": {
      "text/html": [
       "<div>\n",
       "<style scoped>\n",
       "    .dataframe tbody tr th:only-of-type {\n",
       "        vertical-align: middle;\n",
       "    }\n",
       "\n",
       "    .dataframe tbody tr th {\n",
       "        vertical-align: top;\n",
       "    }\n",
       "\n",
       "    .dataframe thead th {\n",
       "        text-align: right;\n",
       "    }\n",
       "</style>\n",
       "<table border=\"1\" class=\"dataframe\">\n",
       "  <thead>\n",
       "    <tr style=\"text-align: right;\">\n",
       "      <th></th>\n",
       "      <th>Emg1</th>\n",
       "      <th>Emg2</th>\n",
       "      <th>Emg3</th>\n",
       "      <th>Emg4</th>\n",
       "      <th>Emg5</th>\n",
       "      <th>Emg6</th>\n",
       "      <th>Emg7</th>\n",
       "      <th>Emg8</th>\n",
       "      <th>Emg9</th>\n",
       "      <th>Emg10</th>\n",
       "      <th>repetition</th>\n",
       "      <th>rerepetition</th>\n",
       "      <th>stimulus</th>\n",
       "      <th>restimulus</th>\n",
       "    </tr>\n",
       "  </thead>\n",
       "  <tbody>\n",
       "    <tr>\n",
       "      <th>count</th>\n",
       "      <td>461355.000000</td>\n",
       "      <td>461355.000000</td>\n",
       "      <td>461355.000000</td>\n",
       "      <td>461355.000000</td>\n",
       "      <td>461355.000000</td>\n",
       "      <td>461355.000000</td>\n",
       "      <td>461355.000000</td>\n",
       "      <td>461355.000000</td>\n",
       "      <td>461355.000000</td>\n",
       "      <td>461355.000000</td>\n",
       "      <td>461355.000000</td>\n",
       "      <td>461355.000000</td>\n",
       "      <td>461355.000000</td>\n",
       "      <td>461355.000000</td>\n",
       "    </tr>\n",
       "    <tr>\n",
       "      <th>mean</th>\n",
       "      <td>0.012592</td>\n",
       "      <td>0.063858</td>\n",
       "      <td>0.083643</td>\n",
       "      <td>0.019420</td>\n",
       "      <td>0.009869</td>\n",
       "      <td>0.067976</td>\n",
       "      <td>0.379264</td>\n",
       "      <td>0.189232</td>\n",
       "      <td>0.147708</td>\n",
       "      <td>0.108196</td>\n",
       "      <td>3.196580</td>\n",
       "      <td>2.265201</td>\n",
       "      <td>5.664542</td>\n",
       "      <td>4.039941</td>\n",
       "    </tr>\n",
       "    <tr>\n",
       "      <th>std</th>\n",
       "      <td>0.020043</td>\n",
       "      <td>0.171862</td>\n",
       "      <td>0.236912</td>\n",
       "      <td>0.058591</td>\n",
       "      <td>0.036540</td>\n",
       "      <td>0.169753</td>\n",
       "      <td>0.571609</td>\n",
       "      <td>0.326014</td>\n",
       "      <td>0.387663</td>\n",
       "      <td>0.189839</td>\n",
       "      <td>3.486926</td>\n",
       "      <td>3.265661</td>\n",
       "      <td>6.587632</td>\n",
       "      <td>6.156426</td>\n",
       "    </tr>\n",
       "    <tr>\n",
       "      <th>min</th>\n",
       "      <td>0.002400</td>\n",
       "      <td>0.000000</td>\n",
       "      <td>0.002400</td>\n",
       "      <td>0.002400</td>\n",
       "      <td>0.002400</td>\n",
       "      <td>0.000000</td>\n",
       "      <td>0.002400</td>\n",
       "      <td>0.002400</td>\n",
       "      <td>0.000000</td>\n",
       "      <td>0.002400</td>\n",
       "      <td>0.000000</td>\n",
       "      <td>0.000000</td>\n",
       "      <td>0.000000</td>\n",
       "      <td>0.000000</td>\n",
       "    </tr>\n",
       "    <tr>\n",
       "      <th>25%</th>\n",
       "      <td>0.002400</td>\n",
       "      <td>0.002400</td>\n",
       "      <td>0.002400</td>\n",
       "      <td>0.002400</td>\n",
       "      <td>0.002400</td>\n",
       "      <td>0.002400</td>\n",
       "      <td>0.068400</td>\n",
       "      <td>0.041500</td>\n",
       "      <td>0.002400</td>\n",
       "      <td>0.002400</td>\n",
       "      <td>0.000000</td>\n",
       "      <td>0.000000</td>\n",
       "      <td>0.000000</td>\n",
       "      <td>0.000000</td>\n",
       "    </tr>\n",
       "    <tr>\n",
       "      <th>50%</th>\n",
       "      <td>0.004900</td>\n",
       "      <td>0.002400</td>\n",
       "      <td>0.002400</td>\n",
       "      <td>0.002400</td>\n",
       "      <td>0.002400</td>\n",
       "      <td>0.026900</td>\n",
       "      <td>0.153800</td>\n",
       "      <td>0.083000</td>\n",
       "      <td>0.002400</td>\n",
       "      <td>0.031700</td>\n",
       "      <td>2.000000</td>\n",
       "      <td>0.000000</td>\n",
       "      <td>3.000000</td>\n",
       "      <td>0.000000</td>\n",
       "    </tr>\n",
       "    <tr>\n",
       "      <th>75%</th>\n",
       "      <td>0.019500</td>\n",
       "      <td>0.039100</td>\n",
       "      <td>0.041500</td>\n",
       "      <td>0.002400</td>\n",
       "      <td>0.002400</td>\n",
       "      <td>0.080600</td>\n",
       "      <td>0.444300</td>\n",
       "      <td>0.180700</td>\n",
       "      <td>0.073200</td>\n",
       "      <td>0.139200</td>\n",
       "      <td>6.000000</td>\n",
       "      <td>4.000000</td>\n",
       "      <td>10.000000</td>\n",
       "      <td>7.000000</td>\n",
       "    </tr>\n",
       "    <tr>\n",
       "      <th>max</th>\n",
       "      <td>1.301300</td>\n",
       "      <td>3.315400</td>\n",
       "      <td>4.660600</td>\n",
       "      <td>1.555200</td>\n",
       "      <td>1.225600</td>\n",
       "      <td>4.665500</td>\n",
       "      <td>4.665500</td>\n",
       "      <td>4.665500</td>\n",
       "      <td>4.663100</td>\n",
       "      <td>4.111300</td>\n",
       "      <td>10.000000</td>\n",
       "      <td>10.000000</td>\n",
       "      <td>23.000000</td>\n",
       "      <td>23.000000</td>\n",
       "    </tr>\n",
       "  </tbody>\n",
       "</table>\n",
       "</div>"
      ],
      "text/plain": [
       "                Emg1           Emg2           Emg3           Emg4  \\\n",
       "count  461355.000000  461355.000000  461355.000000  461355.000000   \n",
       "mean        0.012592       0.063858       0.083643       0.019420   \n",
       "std         0.020043       0.171862       0.236912       0.058591   \n",
       "min         0.002400       0.000000       0.002400       0.002400   \n",
       "25%         0.002400       0.002400       0.002400       0.002400   \n",
       "50%         0.004900       0.002400       0.002400       0.002400   \n",
       "75%         0.019500       0.039100       0.041500       0.002400   \n",
       "max         1.301300       3.315400       4.660600       1.555200   \n",
       "\n",
       "                Emg5           Emg6           Emg7           Emg8  \\\n",
       "count  461355.000000  461355.000000  461355.000000  461355.000000   \n",
       "mean        0.009869       0.067976       0.379264       0.189232   \n",
       "std         0.036540       0.169753       0.571609       0.326014   \n",
       "min         0.002400       0.000000       0.002400       0.002400   \n",
       "25%         0.002400       0.002400       0.068400       0.041500   \n",
       "50%         0.002400       0.026900       0.153800       0.083000   \n",
       "75%         0.002400       0.080600       0.444300       0.180700   \n",
       "max         1.225600       4.665500       4.665500       4.665500   \n",
       "\n",
       "                Emg9          Emg10     repetition   rerepetition  \\\n",
       "count  461355.000000  461355.000000  461355.000000  461355.000000   \n",
       "mean        0.147708       0.108196       3.196580       2.265201   \n",
       "std         0.387663       0.189839       3.486926       3.265661   \n",
       "min         0.000000       0.002400       0.000000       0.000000   \n",
       "25%         0.002400       0.002400       0.000000       0.000000   \n",
       "50%         0.002400       0.031700       2.000000       0.000000   \n",
       "75%         0.073200       0.139200       6.000000       4.000000   \n",
       "max         4.663100       4.111300      10.000000      10.000000   \n",
       "\n",
       "            stimulus     restimulus  \n",
       "count  461355.000000  461355.000000  \n",
       "mean        5.664542       4.039941  \n",
       "std         6.587632       6.156426  \n",
       "min         0.000000       0.000000  \n",
       "25%         0.000000       0.000000  \n",
       "50%         3.000000       0.000000  \n",
       "75%        10.000000       7.000000  \n",
       "max        23.000000      23.000000  "
      ]
     },
     "execution_count": 4,
     "metadata": {},
     "output_type": "execute_result"
    }
   ],
   "source": [
    "raw_data.describe(include='all')"
   ]
  },
  {
   "cell_type": "code",
   "execution_count": 5,
   "id": "f0b9a2e6",
   "metadata": {},
   "outputs": [
    {
     "name": "stdout",
     "output_type": "stream",
     "text": [
      "Unique Dependent values and their counts :\n",
      "0     193240\n",
      "7      15521\n",
      "4      15516\n",
      "12     15515\n",
      "2      15505\n",
      "8      15498\n",
      "6      15464\n",
      "9      15458\n",
      "11     15453\n",
      "5      15451\n",
      "10     15437\n",
      "3      15432\n",
      "1      15428\n",
      "14     10339\n",
      "13     10322\n",
      "17     10322\n",
      "15     10297\n",
      "16     10266\n",
      "18      5169\n",
      "21      5166\n",
      "19      5164\n",
      "20      5134\n",
      "22      5133\n",
      "23      5125\n",
      "Name: stimulus, dtype: int64\n"
     ]
    }
   ],
   "source": [
    "print(\"Unique Dependent values and their counts :\")\n",
    "print(raw_data[\"stimulus\"].value_counts())"
   ]
  },
  {
   "cell_type": "markdown",
   "id": "54420ec4",
   "metadata": {},
   "source": [
    "# Data Cleaning"
   ]
  },
  {
   "cell_type": "code",
   "execution_count": 6,
   "id": "a811198b",
   "metadata": {},
   "outputs": [],
   "source": [
    "index_names = raw_data[ (raw_data['stimulus'] != raw_data['restimulus'])].index\n",
    "raw_data.drop(index_names, inplace = True)"
   ]
  },
  {
   "cell_type": "code",
   "execution_count": 7,
   "id": "556cd92f",
   "metadata": {},
   "outputs": [],
   "source": [
    "index_names = raw_data[ (raw_data['repetition'] != raw_data['rerepetition'])].index\n",
    "raw_data.drop(index_names, inplace = True)"
   ]
  },
  {
   "cell_type": "code",
   "execution_count": 8,
   "id": "c91744f7",
   "metadata": {},
   "outputs": [],
   "source": [
    "X = raw_data.iloc[:,0:10]\n",
    "y = raw_data.stimulus"
   ]
  },
  {
   "cell_type": "markdown",
   "id": "152f7160",
   "metadata": {},
   "source": [
    "# One Hot Encoding"
   ]
  },
  {
   "cell_type": "code",
   "execution_count": 9,
   "id": "dfb77d24",
   "metadata": {},
   "outputs": [],
   "source": [
    "num_classes = 24"
   ]
  },
  {
   "cell_type": "code",
   "execution_count": 10,
   "id": "be64bf6b",
   "metadata": {},
   "outputs": [],
   "source": [
    "# One hot encoding for categorical labels\n",
    "import keras\n",
    "from keras import utils as np_utils\n",
    "y = keras.utils.np_utils.to_categorical(y, num_classes)"
   ]
  },
  {
   "cell_type": "code",
   "execution_count": 11,
   "id": "c7358f86",
   "metadata": {},
   "outputs": [],
   "source": [
    "input_dim = X.shape[1]"
   ]
  },
  {
   "cell_type": "markdown",
   "id": "cb3088a1",
   "metadata": {},
   "source": [
    "# Standard Scaler"
   ]
  },
  {
   "cell_type": "code",
   "execution_count": 12,
   "id": "5bd820f4",
   "metadata": {},
   "outputs": [],
   "source": [
    "from sklearn.preprocessing import StandardScaler\n",
    "standardscaler=StandardScaler()"
   ]
  },
  {
   "cell_type": "code",
   "execution_count": 13,
   "id": "6a118694",
   "metadata": {},
   "outputs": [],
   "source": [
    "sc = pd.DataFrame(standardscaler.fit_transform(X))"
   ]
  },
  {
   "cell_type": "code",
   "execution_count": 14,
   "id": "d6e2f38b",
   "metadata": {},
   "outputs": [
    {
     "data": {
      "text/html": [
       "<div>\n",
       "<style scoped>\n",
       "    .dataframe tbody tr th:only-of-type {\n",
       "        vertical-align: middle;\n",
       "    }\n",
       "\n",
       "    .dataframe tbody tr th {\n",
       "        vertical-align: top;\n",
       "    }\n",
       "\n",
       "    .dataframe thead th {\n",
       "        text-align: right;\n",
       "    }\n",
       "</style>\n",
       "<table border=\"1\" class=\"dataframe\">\n",
       "  <thead>\n",
       "    <tr style=\"text-align: right;\">\n",
       "      <th></th>\n",
       "      <th>0</th>\n",
       "      <th>1</th>\n",
       "      <th>2</th>\n",
       "      <th>3</th>\n",
       "      <th>4</th>\n",
       "      <th>5</th>\n",
       "      <th>6</th>\n",
       "      <th>7</th>\n",
       "      <th>8</th>\n",
       "      <th>9</th>\n",
       "    </tr>\n",
       "  </thead>\n",
       "  <tbody>\n",
       "    <tr>\n",
       "      <th>0</th>\n",
       "      <td>-0.372199</td>\n",
       "      <td>-0.39097</td>\n",
       "      <td>-0.377686</td>\n",
       "      <td>-0.322784</td>\n",
       "      <td>-0.222079</td>\n",
       "      <td>-0.391151</td>\n",
       "      <td>-0.529671</td>\n",
       "      <td>-0.472082</td>\n",
       "      <td>-0.40822</td>\n",
       "      <td>-0.212823</td>\n",
       "    </tr>\n",
       "    <tr>\n",
       "      <th>1</th>\n",
       "      <td>-0.490319</td>\n",
       "      <td>-0.39097</td>\n",
       "      <td>-0.377686</td>\n",
       "      <td>-0.322784</td>\n",
       "      <td>-0.222079</td>\n",
       "      <td>-0.391151</td>\n",
       "      <td>-0.525779</td>\n",
       "      <td>-0.472082</td>\n",
       "      <td>-0.40822</td>\n",
       "      <td>-0.224638</td>\n",
       "    </tr>\n",
       "    <tr>\n",
       "      <th>2</th>\n",
       "      <td>-0.372199</td>\n",
       "      <td>-0.39097</td>\n",
       "      <td>-0.377686</td>\n",
       "      <td>-0.322784</td>\n",
       "      <td>-0.159883</td>\n",
       "      <td>-0.391151</td>\n",
       "      <td>-0.533726</td>\n",
       "      <td>-0.478876</td>\n",
       "      <td>-0.40822</td>\n",
       "      <td>-0.224638</td>\n",
       "    </tr>\n",
       "    <tr>\n",
       "      <th>3</th>\n",
       "      <td>-0.490319</td>\n",
       "      <td>-0.39097</td>\n",
       "      <td>-0.377686</td>\n",
       "      <td>-0.322784</td>\n",
       "      <td>-0.222079</td>\n",
       "      <td>-0.391151</td>\n",
       "      <td>-0.545565</td>\n",
       "      <td>-0.492745</td>\n",
       "      <td>-0.40822</td>\n",
       "      <td>-0.212823</td>\n",
       "    </tr>\n",
       "    <tr>\n",
       "      <th>4</th>\n",
       "      <td>-0.372199</td>\n",
       "      <td>-0.39097</td>\n",
       "      <td>-0.368013</td>\n",
       "      <td>-0.322784</td>\n",
       "      <td>-0.159883</td>\n",
       "      <td>-0.391151</td>\n",
       "      <td>-0.545565</td>\n",
       "      <td>-0.499538</td>\n",
       "      <td>-0.40822</td>\n",
       "      <td>-0.212823</td>\n",
       "    </tr>\n",
       "    <tr>\n",
       "      <th>...</th>\n",
       "      <td>...</td>\n",
       "      <td>...</td>\n",
       "      <td>...</td>\n",
       "      <td>...</td>\n",
       "      <td>...</td>\n",
       "      <td>...</td>\n",
       "      <td>...</td>\n",
       "      <td>...</td>\n",
       "      <td>...</td>\n",
       "      <td>...</td>\n",
       "    </tr>\n",
       "    <tr>\n",
       "      <th>377799</th>\n",
       "      <td>-0.490319</td>\n",
       "      <td>-0.39097</td>\n",
       "      <td>-0.377686</td>\n",
       "      <td>-0.322784</td>\n",
       "      <td>-0.222079</td>\n",
       "      <td>-0.219772</td>\n",
       "      <td>-0.549619</td>\n",
       "      <td>-0.174882</td>\n",
       "      <td>-0.40822</td>\n",
       "      <td>-0.489020</td>\n",
       "    </tr>\n",
       "    <tr>\n",
       "      <th>377800</th>\n",
       "      <td>-0.490319</td>\n",
       "      <td>-0.39097</td>\n",
       "      <td>-0.377686</td>\n",
       "      <td>-0.322784</td>\n",
       "      <td>-0.222079</td>\n",
       "      <td>-0.154023</td>\n",
       "      <td>-0.565351</td>\n",
       "      <td>-0.236870</td>\n",
       "      <td>-0.40822</td>\n",
       "      <td>-0.417140</td>\n",
       "    </tr>\n",
       "    <tr>\n",
       "      <th>377801</th>\n",
       "      <td>-0.490319</td>\n",
       "      <td>-0.39097</td>\n",
       "      <td>-0.377686</td>\n",
       "      <td>-0.322784</td>\n",
       "      <td>-0.222079</td>\n",
       "      <td>-0.114681</td>\n",
       "      <td>-0.585136</td>\n",
       "      <td>-0.278478</td>\n",
       "      <td>-0.40822</td>\n",
       "      <td>-0.393016</td>\n",
       "    </tr>\n",
       "    <tr>\n",
       "      <th>377802</th>\n",
       "      <td>-0.490319</td>\n",
       "      <td>-0.39097</td>\n",
       "      <td>-0.377686</td>\n",
       "      <td>-0.322784</td>\n",
       "      <td>-0.222079</td>\n",
       "      <td>-0.088273</td>\n",
       "      <td>-0.596976</td>\n",
       "      <td>-0.299140</td>\n",
       "      <td>-0.40822</td>\n",
       "      <td>-0.417140</td>\n",
       "    </tr>\n",
       "    <tr>\n",
       "      <th>377803</th>\n",
       "      <td>-0.490319</td>\n",
       "      <td>-0.39097</td>\n",
       "      <td>-0.377686</td>\n",
       "      <td>-0.322784</td>\n",
       "      <td>-0.222079</td>\n",
       "      <td>-0.061866</td>\n",
       "      <td>-0.612869</td>\n",
       "      <td>-0.333672</td>\n",
       "      <td>-0.40822</td>\n",
       "      <td>-0.441264</td>\n",
       "    </tr>\n",
       "  </tbody>\n",
       "</table>\n",
       "<p>377804 rows × 10 columns</p>\n",
       "</div>"
      ],
      "text/plain": [
       "               0        1         2         3         4         5         6  \\\n",
       "0      -0.372199 -0.39097 -0.377686 -0.322784 -0.222079 -0.391151 -0.529671   \n",
       "1      -0.490319 -0.39097 -0.377686 -0.322784 -0.222079 -0.391151 -0.525779   \n",
       "2      -0.372199 -0.39097 -0.377686 -0.322784 -0.159883 -0.391151 -0.533726   \n",
       "3      -0.490319 -0.39097 -0.377686 -0.322784 -0.222079 -0.391151 -0.545565   \n",
       "4      -0.372199 -0.39097 -0.368013 -0.322784 -0.159883 -0.391151 -0.545565   \n",
       "...          ...      ...       ...       ...       ...       ...       ...   \n",
       "377799 -0.490319 -0.39097 -0.377686 -0.322784 -0.222079 -0.219772 -0.549619   \n",
       "377800 -0.490319 -0.39097 -0.377686 -0.322784 -0.222079 -0.154023 -0.565351   \n",
       "377801 -0.490319 -0.39097 -0.377686 -0.322784 -0.222079 -0.114681 -0.585136   \n",
       "377802 -0.490319 -0.39097 -0.377686 -0.322784 -0.222079 -0.088273 -0.596976   \n",
       "377803 -0.490319 -0.39097 -0.377686 -0.322784 -0.222079 -0.061866 -0.612869   \n",
       "\n",
       "               7        8         9  \n",
       "0      -0.472082 -0.40822 -0.212823  \n",
       "1      -0.472082 -0.40822 -0.224638  \n",
       "2      -0.478876 -0.40822 -0.224638  \n",
       "3      -0.492745 -0.40822 -0.212823  \n",
       "4      -0.499538 -0.40822 -0.212823  \n",
       "...          ...      ...       ...  \n",
       "377799 -0.174882 -0.40822 -0.489020  \n",
       "377800 -0.236870 -0.40822 -0.417140  \n",
       "377801 -0.278478 -0.40822 -0.393016  \n",
       "377802 -0.299140 -0.40822 -0.417140  \n",
       "377803 -0.333672 -0.40822 -0.441264  \n",
       "\n",
       "[377804 rows x 10 columns]"
      ]
     },
     "execution_count": 14,
     "metadata": {},
     "output_type": "execute_result"
    }
   ],
   "source": [
    "sc"
   ]
  },
  {
   "cell_type": "code",
   "execution_count": 15,
   "id": "65cfb75d",
   "metadata": {},
   "outputs": [],
   "source": [
    "# Splitting data for training and testing\n",
    "X_train, X_test, y_train, y_test = train_test_split(sc, y, test_size = 0.2, random_state = 39)"
   ]
  },
  {
   "cell_type": "markdown",
   "id": "3ba47781",
   "metadata": {},
   "source": [
    "# Deep Learning "
   ]
  },
  {
   "cell_type": "code",
   "execution_count": 16,
   "id": "d426e2e1",
   "metadata": {},
   "outputs": [],
   "source": [
    "from sklearn.preprocessing import MinMaxScaler\n",
    "from tensorflow.keras.models import Model\n",
    "from tensorflow.keras.layers import Input\n",
    "from tensorflow.keras.layers import Dense\n",
    "from tensorflow.keras.layers import LeakyReLU,ELU\n",
    "from tensorflow.keras.layers import BatchNormalization\n",
    "from tensorflow.keras.utils import plot_model\n",
    "import tensorflow as tf\n",
    "from sklearn.model_selection import cross_val_score\n",
    "from keras.models import Sequential\n",
    "from keras.layers import Dense, BatchNormalization, Dropout\n",
    "from tensorflow.keras.optimizers import Adam, SGD, RMSprop, Adadelta, Adagrad, Adamax, Nadam, Ftrl\n",
    "from keras.callbacks import EarlyStopping, ModelCheckpoint\n",
    "from keras.wrappers.scikit_learn import KerasClassifier\n",
    "from sklearn.metrics import make_scorer, accuracy_score\n",
    "from sklearn.model_selection import StratifiedKFold"
   ]
  },
  {
   "cell_type": "code",
   "execution_count": 17,
   "id": "cd0ef208",
   "metadata": {},
   "outputs": [],
   "source": [
    "from keras.layers import LeakyReLU\n",
    "LeakyReLU = LeakyReLU(alpha=0.1)\n",
    "from keras.models import Sequential\n",
    "from keras.layers import Dense, Flatten, Convolution1D, Dropout\n",
    "from keras.initializers import random_uniform"
   ]
  },
  {
   "cell_type": "markdown",
   "id": "f97d61bc",
   "metadata": {},
   "source": [
    "# 1. Define Network"
   ]
  },
  {
   "cell_type": "code",
   "execution_count": 18,
   "id": "bd77bf81",
   "metadata": {},
   "outputs": [],
   "source": [
    "num_classes = 24\n",
    "input_dim = X.shape[1]"
   ]
  },
  {
   "cell_type": "code",
   "execution_count": 19,
   "id": "fbdce465",
   "metadata": {},
   "outputs": [],
   "source": [
    "visible = Input(shape=(input_dim,))\n",
    "hidden1 = Dense(3000, activation='relu')(visible)\n",
    "hidden2 = Dense(1500, activation='relu')(hidden1)\n",
    "hidden3 = Dropout(0.2)(hidden2)\n",
    "hidden4 = Dense(750, activation='relu')(hidden3)\n",
    "hidden5 = Dense(375, activation='relu')(hidden4)\n",
    "hidden6 = Dense(48, activation='relu')(hidden5)\n",
    "output = Dense(num_classes, activation='softmax')(hidden6)\n",
    "model = Model(inputs=visible, outputs=output)"
   ]
  },
  {
   "cell_type": "code",
   "execution_count": 20,
   "id": "1dd33478",
   "metadata": {},
   "outputs": [
    {
     "name": "stdout",
     "output_type": "stream",
     "text": [
      "Model: \"model\"\n",
      "_________________________________________________________________\n",
      " Layer (type)                Output Shape              Param #   \n",
      "=================================================================\n",
      " input_1 (InputLayer)        [(None, 10)]              0         \n",
      "                                                                 \n",
      " dense (Dense)               (None, 3000)              33000     \n",
      "                                                                 \n",
      " dense_1 (Dense)             (None, 1500)              4501500   \n",
      "                                                                 \n",
      " dropout (Dropout)           (None, 1500)              0         \n",
      "                                                                 \n",
      " dense_2 (Dense)             (None, 750)               1125750   \n",
      "                                                                 \n",
      " dense_3 (Dense)             (None, 375)               281625    \n",
      "                                                                 \n",
      " dense_4 (Dense)             (None, 48)                18048     \n",
      "                                                                 \n",
      " dense_5 (Dense)             (None, 24)                1176      \n",
      "                                                                 \n",
      "=================================================================\n",
      "Total params: 5,961,099\n",
      "Trainable params: 5,961,099\n",
      "Non-trainable params: 0\n",
      "_________________________________________________________________\n"
     ]
    }
   ],
   "source": [
    "model.summary()"
   ]
  },
  {
   "cell_type": "markdown",
   "id": "3196ac97",
   "metadata": {},
   "source": [
    "# 2. Compile Network"
   ]
  },
  {
   "cell_type": "code",
   "execution_count": 21,
   "id": "7a2d558b",
   "metadata": {},
   "outputs": [],
   "source": [
    "model.compile(optimizer='adam', loss='categorical_crossentropy', metrics=['accuracy'])"
   ]
  },
  {
   "cell_type": "code",
   "execution_count": 22,
   "id": "c1d2b36d",
   "metadata": {},
   "outputs": [
    {
     "name": "stdout",
     "output_type": "stream",
     "text": [
      "You must install pydot (`pip install pydot`) and install graphviz (see instructions at https://graphviz.gitlab.io/download/) for plot_model/model_to_dot to work.\n"
     ]
    }
   ],
   "source": [
    "plot_model(model, 'EMG_ANN', show_shapes = True)"
   ]
  },
  {
   "cell_type": "markdown",
   "id": "3358b592",
   "metadata": {},
   "source": [
    "# 3. Fit Network"
   ]
  },
  {
   "cell_type": "code",
   "execution_count": 23,
   "id": "e0ed4ddd",
   "metadata": {},
   "outputs": [
    {
     "name": "stdout",
     "output_type": "stream",
     "text": [
      "Epoch 1/100\n",
      "75/75 [==============================] - 3s 28ms/step - loss: 1.4159 - accuracy: 0.6257 - val_loss: 0.9824 - val_accuracy: 0.7252\n",
      "Epoch 2/100\n",
      "75/75 [==============================] - 2s 26ms/step - loss: 0.8591 - accuracy: 0.7538 - val_loss: 0.7572 - val_accuracy: 0.7855\n",
      "Epoch 3/100\n",
      "75/75 [==============================] - 2s 25ms/step - loss: 0.7270 - accuracy: 0.7886 - val_loss: 0.6561 - val_accuracy: 0.8053\n",
      "Epoch 4/100\n",
      "75/75 [==============================] - 2s 26ms/step - loss: 0.6549 - accuracy: 0.8059 - val_loss: 0.6147 - val_accuracy: 0.8172\n",
      "Epoch 5/100\n",
      "75/75 [==============================] - 2s 26ms/step - loss: 0.5965 - accuracy: 0.8201 - val_loss: 0.5562 - val_accuracy: 0.8318\n",
      "Epoch 6/100\n",
      "75/75 [==============================] - 2s 26ms/step - loss: 0.5594 - accuracy: 0.8305 - val_loss: 0.5384 - val_accuracy: 0.8362\n",
      "Epoch 7/100\n",
      "75/75 [==============================] - 2s 26ms/step - loss: 0.5318 - accuracy: 0.8375 - val_loss: 0.5116 - val_accuracy: 0.8441\n",
      "Epoch 8/100\n",
      "75/75 [==============================] - 2s 25ms/step - loss: 0.5091 - accuracy: 0.8435 - val_loss: 0.4822 - val_accuracy: 0.8528\n",
      "Epoch 9/100\n",
      "75/75 [==============================] - 2s 25ms/step - loss: 0.4869 - accuracy: 0.8488 - val_loss: 0.4673 - val_accuracy: 0.8546\n",
      "Epoch 10/100\n",
      "75/75 [==============================] - 2s 25ms/step - loss: 0.4637 - accuracy: 0.8554 - val_loss: 0.4448 - val_accuracy: 0.8613\n",
      "Epoch 11/100\n",
      "75/75 [==============================] - 2s 25ms/step - loss: 0.4475 - accuracy: 0.8600 - val_loss: 0.4386 - val_accuracy: 0.8631\n",
      "Epoch 12/100\n",
      "75/75 [==============================] - 2s 25ms/step - loss: 0.4380 - accuracy: 0.8624 - val_loss: 0.4260 - val_accuracy: 0.8655\n",
      "Epoch 13/100\n",
      "75/75 [==============================] - 2s 26ms/step - loss: 0.4212 - accuracy: 0.8671 - val_loss: 0.4116 - val_accuracy: 0.8691\n",
      "Epoch 14/100\n",
      "75/75 [==============================] - 2s 26ms/step - loss: 0.4162 - accuracy: 0.8686 - val_loss: 0.4099 - val_accuracy: 0.8708\n",
      "Epoch 15/100\n",
      "75/75 [==============================] - 2s 25ms/step - loss: 0.4000 - accuracy: 0.8733 - val_loss: 0.3926 - val_accuracy: 0.8765\n",
      "Epoch 16/100\n",
      "75/75 [==============================] - 2s 26ms/step - loss: 0.3891 - accuracy: 0.8765 - val_loss: 0.3940 - val_accuracy: 0.8745\n",
      "Epoch 17/100\n",
      "75/75 [==============================] - 2s 26ms/step - loss: 0.3826 - accuracy: 0.8779 - val_loss: 0.3853 - val_accuracy: 0.8791\n",
      "Epoch 18/100\n",
      "75/75 [==============================] - 2s 25ms/step - loss: 0.3765 - accuracy: 0.8800 - val_loss: 0.3729 - val_accuracy: 0.8814\n",
      "Epoch 19/100\n",
      "75/75 [==============================] - 2s 26ms/step - loss: 0.3663 - accuracy: 0.8825 - val_loss: 0.3716 - val_accuracy: 0.8835\n",
      "Epoch 20/100\n",
      "75/75 [==============================] - 2s 26ms/step - loss: 0.3602 - accuracy: 0.8849 - val_loss: 0.3569 - val_accuracy: 0.8868\n",
      "Epoch 21/100\n",
      "75/75 [==============================] - 2s 26ms/step - loss: 0.3536 - accuracy: 0.8870 - val_loss: 0.3542 - val_accuracy: 0.8876\n",
      "Epoch 22/100\n",
      "75/75 [==============================] - 2s 27ms/step - loss: 0.3484 - accuracy: 0.8882 - val_loss: 0.3538 - val_accuracy: 0.8873\n",
      "Epoch 23/100\n",
      "75/75 [==============================] - 2s 26ms/step - loss: 0.3435 - accuracy: 0.8894 - val_loss: 0.3425 - val_accuracy: 0.8902\n",
      "Epoch 24/100\n",
      "75/75 [==============================] - 2s 25ms/step - loss: 0.3382 - accuracy: 0.8916 - val_loss: 0.3435 - val_accuracy: 0.8895\n",
      "Epoch 25/100\n",
      "75/75 [==============================] - 2s 25ms/step - loss: 0.3301 - accuracy: 0.8935 - val_loss: 0.3388 - val_accuracy: 0.8918\n",
      "Epoch 26/100\n",
      "75/75 [==============================] - 2s 25ms/step - loss: 0.3290 - accuracy: 0.8938 - val_loss: 0.3348 - val_accuracy: 0.8919\n",
      "Epoch 27/100\n",
      "75/75 [==============================] - 2s 26ms/step - loss: 0.3231 - accuracy: 0.8959 - val_loss: 0.3332 - val_accuracy: 0.8939\n",
      "Epoch 28/100\n",
      "75/75 [==============================] - 2s 26ms/step - loss: 0.3165 - accuracy: 0.8977 - val_loss: 0.3293 - val_accuracy: 0.8944\n",
      "Epoch 29/100\n",
      "75/75 [==============================] - 2s 26ms/step - loss: 0.3121 - accuracy: 0.8994 - val_loss: 0.3240 - val_accuracy: 0.8962\n",
      "Epoch 30/100\n",
      "75/75 [==============================] - 2s 26ms/step - loss: 0.3087 - accuracy: 0.8999 - val_loss: 0.3206 - val_accuracy: 0.8977\n",
      "Epoch 31/100\n",
      "75/75 [==============================] - 2s 27ms/step - loss: 0.3080 - accuracy: 0.9002 - val_loss: 0.3226 - val_accuracy: 0.8972\n",
      "Epoch 32/100\n",
      "75/75 [==============================] - 2s 26ms/step - loss: 0.3034 - accuracy: 0.9015 - val_loss: 0.3137 - val_accuracy: 0.8975\n",
      "Epoch 33/100\n",
      "75/75 [==============================] - 2s 25ms/step - loss: 0.3012 - accuracy: 0.9023 - val_loss: 0.3118 - val_accuracy: 0.8990\n",
      "Epoch 34/100\n",
      "75/75 [==============================] - 2s 26ms/step - loss: 0.2975 - accuracy: 0.9033 - val_loss: 0.3132 - val_accuracy: 0.8998\n",
      "Epoch 35/100\n",
      "75/75 [==============================] - 2s 27ms/step - loss: 0.2908 - accuracy: 0.9051 - val_loss: 0.3068 - val_accuracy: 0.9026\n",
      "Epoch 36/100\n",
      "75/75 [==============================] - 2s 26ms/step - loss: 0.2873 - accuracy: 0.9065 - val_loss: 0.3015 - val_accuracy: 0.9025\n",
      "Epoch 37/100\n",
      "75/75 [==============================] - 2s 27ms/step - loss: 0.2857 - accuracy: 0.9071 - val_loss: 0.2981 - val_accuracy: 0.9046\n",
      "Epoch 38/100\n",
      "75/75 [==============================] - 2s 26ms/step - loss: 0.2829 - accuracy: 0.9077 - val_loss: 0.3018 - val_accuracy: 0.9028\n",
      "Epoch 39/100\n",
      "75/75 [==============================] - 2s 25ms/step - loss: 0.2837 - accuracy: 0.9079 - val_loss: 0.2982 - val_accuracy: 0.9029\n",
      "Epoch 40/100\n",
      "75/75 [==============================] - 2s 26ms/step - loss: 0.2789 - accuracy: 0.9089 - val_loss: 0.3032 - val_accuracy: 0.9024\n",
      "Epoch 41/100\n",
      "75/75 [==============================] - 2s 26ms/step - loss: 0.2770 - accuracy: 0.9101 - val_loss: 0.2959 - val_accuracy: 0.9051\n",
      "Epoch 42/100\n",
      "75/75 [==============================] - 2s 26ms/step - loss: 0.2751 - accuracy: 0.9096 - val_loss: 0.2965 - val_accuracy: 0.9055\n",
      "Epoch 43/100\n",
      "75/75 [==============================] - 2s 26ms/step - loss: 0.2690 - accuracy: 0.9121 - val_loss: 0.2816 - val_accuracy: 0.9088\n",
      "Epoch 44/100\n",
      "75/75 [==============================] - 2s 26ms/step - loss: 0.2660 - accuracy: 0.9129 - val_loss: 0.2946 - val_accuracy: 0.9059\n",
      "Epoch 45/100\n",
      "75/75 [==============================] - 2s 25ms/step - loss: 0.2674 - accuracy: 0.9121 - val_loss: 0.2951 - val_accuracy: 0.9046\n",
      "Epoch 46/100\n",
      "75/75 [==============================] - 2s 26ms/step - loss: 0.2647 - accuracy: 0.9123 - val_loss: 0.2856 - val_accuracy: 0.9069\n",
      "Epoch 47/100\n",
      "75/75 [==============================] - 2s 26ms/step - loss: 0.2608 - accuracy: 0.9148 - val_loss: 0.2921 - val_accuracy: 0.9071\n",
      "Epoch 48/100\n",
      "75/75 [==============================] - 2s 27ms/step - loss: 0.2604 - accuracy: 0.9141 - val_loss: 0.2792 - val_accuracy: 0.9102\n",
      "Epoch 49/100\n",
      "75/75 [==============================] - 2s 26ms/step - loss: 0.2583 - accuracy: 0.9153 - val_loss: 0.2800 - val_accuracy: 0.9096\n",
      "Epoch 50/100\n",
      "75/75 [==============================] - 2s 26ms/step - loss: 0.2536 - accuracy: 0.9167 - val_loss: 0.2733 - val_accuracy: 0.9123\n",
      "Epoch 51/100\n",
      "75/75 [==============================] - 2s 26ms/step - loss: 0.2537 - accuracy: 0.9165 - val_loss: 0.2756 - val_accuracy: 0.9103\n",
      "Epoch 52/100\n",
      "75/75 [==============================] - 2s 26ms/step - loss: 0.2533 - accuracy: 0.9164 - val_loss: 0.2716 - val_accuracy: 0.9118\n",
      "Epoch 53/100\n",
      "75/75 [==============================] - 2s 27ms/step - loss: 0.2506 - accuracy: 0.9175 - val_loss: 0.2783 - val_accuracy: 0.9107\n",
      "Epoch 54/100\n",
      "75/75 [==============================] - 2s 26ms/step - loss: 0.2510 - accuracy: 0.9177 - val_loss: 0.2750 - val_accuracy: 0.9098\n",
      "Epoch 55/100\n",
      "75/75 [==============================] - 2s 26ms/step - loss: 0.2479 - accuracy: 0.9178 - val_loss: 0.2843 - val_accuracy: 0.9087\n",
      "Epoch 56/100\n",
      "75/75 [==============================] - 2s 26ms/step - loss: 0.2458 - accuracy: 0.9191 - val_loss: 0.2731 - val_accuracy: 0.9121\n",
      "Epoch 57/100\n",
      "75/75 [==============================] - 2s 26ms/step - loss: 0.2444 - accuracy: 0.9194 - val_loss: 0.2684 - val_accuracy: 0.9133\n",
      "Epoch 58/100\n"
     ]
    },
    {
     "name": "stdout",
     "output_type": "stream",
     "text": [
      "75/75 [==============================] - 2s 27ms/step - loss: 0.2438 - accuracy: 0.9193 - val_loss: 0.2728 - val_accuracy: 0.9115\n",
      "Epoch 59/100\n",
      "75/75 [==============================] - 2s 26ms/step - loss: 0.2384 - accuracy: 0.9212 - val_loss: 0.2761 - val_accuracy: 0.9114\n",
      "Epoch 60/100\n",
      "75/75 [==============================] - 2s 26ms/step - loss: 0.2400 - accuracy: 0.9210 - val_loss: 0.2731 - val_accuracy: 0.9129\n",
      "Epoch 61/100\n",
      "75/75 [==============================] - 2s 27ms/step - loss: 0.2396 - accuracy: 0.9209 - val_loss: 0.2689 - val_accuracy: 0.9125\n",
      "Epoch 62/100\n",
      "75/75 [==============================] - 2s 26ms/step - loss: 0.2360 - accuracy: 0.9214 - val_loss: 0.2635 - val_accuracy: 0.9149\n",
      "Epoch 63/100\n",
      "75/75 [==============================] - 2s 26ms/step - loss: 0.2375 - accuracy: 0.9216 - val_loss: 0.2741 - val_accuracy: 0.9125\n",
      "Epoch 64/100\n",
      "75/75 [==============================] - 2s 27ms/step - loss: 0.2361 - accuracy: 0.9219 - val_loss: 0.2577 - val_accuracy: 0.9166\n",
      "Epoch 65/100\n",
      "75/75 [==============================] - 2s 26ms/step - loss: 0.2315 - accuracy: 0.9232 - val_loss: 0.2624 - val_accuracy: 0.9170\n",
      "Epoch 66/100\n",
      "75/75 [==============================] - 2s 26ms/step - loss: 0.2308 - accuracy: 0.9232 - val_loss: 0.2678 - val_accuracy: 0.9136\n",
      "Epoch 67/100\n",
      "75/75 [==============================] - 2s 26ms/step - loss: 0.2302 - accuracy: 0.9241 - val_loss: 0.2603 - val_accuracy: 0.9162\n",
      "Epoch 68/100\n",
      "75/75 [==============================] - 2s 26ms/step - loss: 0.2289 - accuracy: 0.9239 - val_loss: 0.2627 - val_accuracy: 0.9157\n",
      "Epoch 69/100\n",
      "75/75 [==============================] - 2s 26ms/step - loss: 0.2299 - accuracy: 0.9236 - val_loss: 0.2532 - val_accuracy: 0.9174\n",
      "Epoch 70/100\n",
      "75/75 [==============================] - 2s 26ms/step - loss: 0.2260 - accuracy: 0.9246 - val_loss: 0.2521 - val_accuracy: 0.9174\n",
      "Epoch 71/100\n",
      "75/75 [==============================] - 2s 27ms/step - loss: 0.2227 - accuracy: 0.9258 - val_loss: 0.2560 - val_accuracy: 0.9175\n",
      "Epoch 72/100\n",
      "75/75 [==============================] - 2s 26ms/step - loss: 0.2197 - accuracy: 0.9268 - val_loss: 0.2543 - val_accuracy: 0.9184\n",
      "Epoch 73/100\n",
      "75/75 [==============================] - 2s 26ms/step - loss: 0.2223 - accuracy: 0.9261 - val_loss: 0.2513 - val_accuracy: 0.9183\n",
      "Epoch 74/100\n",
      "75/75 [==============================] - 2s 26ms/step - loss: 0.2198 - accuracy: 0.9267 - val_loss: 0.2587 - val_accuracy: 0.9176\n",
      "Epoch 75/100\n",
      "75/75 [==============================] - 2s 27ms/step - loss: 0.2202 - accuracy: 0.9263 - val_loss: 0.2512 - val_accuracy: 0.9200\n",
      "Epoch 76/100\n",
      "75/75 [==============================] - 2s 27ms/step - loss: 0.2208 - accuracy: 0.9262 - val_loss: 0.2502 - val_accuracy: 0.9185\n",
      "Epoch 77/100\n",
      "75/75 [==============================] - 2s 26ms/step - loss: 0.2198 - accuracy: 0.9267 - val_loss: 0.2569 - val_accuracy: 0.9182\n",
      "Epoch 78/100\n",
      "75/75 [==============================] - 2s 26ms/step - loss: 0.2167 - accuracy: 0.9276 - val_loss: 0.2490 - val_accuracy: 0.9192\n",
      "Epoch 79/100\n",
      "75/75 [==============================] - 2s 27ms/step - loss: 0.2147 - accuracy: 0.9278 - val_loss: 0.2548 - val_accuracy: 0.9184\n",
      "Epoch 80/100\n",
      "75/75 [==============================] - 2s 27ms/step - loss: 0.2145 - accuracy: 0.9280 - val_loss: 0.2489 - val_accuracy: 0.9193\n",
      "Epoch 81/100\n",
      "75/75 [==============================] - 2s 27ms/step - loss: 0.2137 - accuracy: 0.9284 - val_loss: 0.2500 - val_accuracy: 0.9196\n",
      "Epoch 82/100\n",
      "75/75 [==============================] - 2s 26ms/step - loss: 0.2122 - accuracy: 0.9295 - val_loss: 0.2544 - val_accuracy: 0.9178\n",
      "Epoch 83/100\n",
      "75/75 [==============================] - 2s 27ms/step - loss: 0.2095 - accuracy: 0.9298 - val_loss: 0.2445 - val_accuracy: 0.9204\n",
      "Epoch 84/100\n",
      "75/75 [==============================] - 2s 26ms/step - loss: 0.2089 - accuracy: 0.9297 - val_loss: 0.2501 - val_accuracy: 0.9194\n",
      "Epoch 85/100\n",
      "75/75 [==============================] - 2s 26ms/step - loss: 0.2077 - accuracy: 0.9307 - val_loss: 0.2501 - val_accuracy: 0.9197\n",
      "Epoch 86/100\n",
      "75/75 [==============================] - 2s 26ms/step - loss: 0.2086 - accuracy: 0.9301 - val_loss: 0.2495 - val_accuracy: 0.9180\n",
      "Epoch 87/100\n",
      "75/75 [==============================] - 2s 26ms/step - loss: 0.2103 - accuracy: 0.9295 - val_loss: 0.2479 - val_accuracy: 0.9199\n",
      "Epoch 88/100\n",
      "75/75 [==============================] - 2s 26ms/step - loss: 0.2081 - accuracy: 0.9298 - val_loss: 0.2451 - val_accuracy: 0.9201\n",
      "Epoch 89/100\n",
      "75/75 [==============================] - 2s 26ms/step - loss: 0.2065 - accuracy: 0.9305 - val_loss: 0.2523 - val_accuracy: 0.9196\n",
      "Epoch 90/100\n",
      "75/75 [==============================] - 2s 27ms/step - loss: 0.2040 - accuracy: 0.9317 - val_loss: 0.2491 - val_accuracy: 0.9208\n",
      "Epoch 91/100\n",
      "75/75 [==============================] - 2s 27ms/step - loss: 0.2027 - accuracy: 0.9318 - val_loss: 0.2401 - val_accuracy: 0.9225\n",
      "Epoch 92/100\n",
      "75/75 [==============================] - 2s 26ms/step - loss: 0.1990 - accuracy: 0.9330 - val_loss: 0.2507 - val_accuracy: 0.9202\n",
      "Epoch 93/100\n",
      "75/75 [==============================] - 2s 26ms/step - loss: 0.2113 - accuracy: 0.9296 - val_loss: 0.2440 - val_accuracy: 0.9208\n",
      "Epoch 94/100\n",
      "75/75 [==============================] - 2s 27ms/step - loss: 0.2024 - accuracy: 0.9319 - val_loss: 0.2419 - val_accuracy: 0.9223\n",
      "Epoch 95/100\n",
      "75/75 [==============================] - 2s 26ms/step - loss: 0.2008 - accuracy: 0.9327 - val_loss: 0.2432 - val_accuracy: 0.9221\n",
      "Epoch 96/100\n",
      "75/75 [==============================] - 2s 26ms/step - loss: 0.2003 - accuracy: 0.9326 - val_loss: 0.2444 - val_accuracy: 0.9203\n",
      "Epoch 97/100\n",
      "75/75 [==============================] - 2s 26ms/step - loss: 0.1979 - accuracy: 0.9332 - val_loss: 0.2385 - val_accuracy: 0.9232\n",
      "Epoch 98/100\n",
      "75/75 [==============================] - 2s 27ms/step - loss: 0.1947 - accuracy: 0.9342 - val_loss: 0.2431 - val_accuracy: 0.9227\n",
      "Epoch 99/100\n",
      "75/75 [==============================] - 2s 27ms/step - loss: 0.1966 - accuracy: 0.9343 - val_loss: 0.2428 - val_accuracy: 0.9213\n",
      "Epoch 100/100\n",
      "75/75 [==============================] - 2s 26ms/step - loss: 0.2017 - accuracy: 0.9323 - val_loss: 0.2477 - val_accuracy: 0.9205\n"
     ]
    }
   ],
   "source": [
    "history = model.fit(X_train, y_train, batch_size=4056, epochs=100, validation_data = (X_test, y_test))"
   ]
  },
  {
   "cell_type": "markdown",
   "id": "ffed59b1",
   "metadata": {},
   "source": [
    "# 4.Evaluate Network"
   ]
  },
  {
   "cell_type": "markdown",
   "id": "28731190",
   "metadata": {},
   "source": [
    "## 4.1. Plotting Loss and Accuracy"
   ]
  },
  {
   "cell_type": "code",
   "execution_count": 24,
   "id": "971e6040",
   "metadata": {},
   "outputs": [
    {
     "data": {
      "text/plain": [
       "Text(0.5, 1.0, 'Loss Curve of Deep Neural Netowork')"
      ]
     },
     "execution_count": 24,
     "metadata": {},
     "output_type": "execute_result"
    },
    {
     "data": {
      "image/png": "[encoded data removed]",
      "text/plain": [
       "<Figure size 432x288 with 1 Axes>"
      ]
     },
     "metadata": {
      "needs_background": "light"
     },
     "output_type": "display_data"
    }
   ],
   "source": [
    "#Loss Curve\n",
    "\n",
    "\n",
    "plt.plot(figsize = [8,6])\n",
    "\n",
    "plt.plot(history.history['loss'],'r',linewidth = 3.0)\n",
    "plt.plot(history.history['val_loss'],'b',linewidth = 3.0)\n",
    "\n",
    "plt.legend(['Training Loss', 'Validation Loss'], fontsize = 18)\n",
    "\n",
    "plt.xlabel('Epochs', fontsize = 16)\n",
    "plt.ylabel('Loss', fontsize = 16)\n",
    "\n",
    "plt.title('Loss Curve of Deep Neural Netowork' , fontsize = 16 )\n",
    "\n"
   ]
  },
  {
   "cell_type": "code",
   "execution_count": 25,
   "id": "b0c193ec",
   "metadata": {},
   "outputs": [
    {
     "data": {
      "text/plain": [
       "Text(0.5, 1.0, 'Accuracy Curve of Deep Neural Netowork')"
      ]
     },
     "execution_count": 25,
     "metadata": {},
     "output_type": "execute_result"
    },
    {
     "data": {
      "image/png": "[encoded data removed]",
      "text/plain": [
       "<Figure size 432x288 with 1 Axes>"
      ]
     },
     "metadata": {
      "needs_background": "light"
     },
     "output_type": "display_data"
    }
   ],
   "source": [
    "#Accuracy Curve\n",
    "\n",
    "plt.plot(figsize = [8,6])\n",
    "plt.plot(history.history['accuracy'],'r',linewidth = 3.0)\n",
    "plt.plot(history.history['val_accuracy'],'b',linewidth = 3.0)\n",
    "\n",
    "plt.legend(['Training Accuracy', 'Validation Accuracy'], fontsize = 18)\n",
    "\n",
    "plt.xlabel('Epochs', fontsize = 16)\n",
    "plt.ylabel('Accuracy', fontsize = 16)\n",
    "\n",
    "\n",
    "plt.title('Accuracy Curve of Deep Neural Netowork' , fontsize = 16 )"
   ]
  },
  {
   "cell_type": "markdown",
   "id": "741a02aa",
   "metadata": {},
   "source": [
    "##  4.2 Make Predictions"
   ]
  },
  {
   "cell_type": "code",
   "execution_count": 26,
   "id": "e8465627",
   "metadata": {},
   "outputs": [],
   "source": [
    "predictions = model.predict(X_test)\n",
    "predictions = np.argmax(predictions, axis = 1)"
   ]
  },
  {
   "cell_type": "code",
   "execution_count": 27,
   "id": "3cac1a50",
   "metadata": {},
   "outputs": [
    {
     "data": {
      "text/plain": [
       "array([13, 15,  7, ..., 17,  0,  0], dtype=int64)"
      ]
     },
     "execution_count": 27,
     "metadata": {},
     "output_type": "execute_result"
    }
   ],
   "source": [
    "predictions"
   ]
  },
  {
   "cell_type": "markdown",
   "id": "70d666bb",
   "metadata": {},
   "source": [
    "#### Transforming from One Hot Encoding"
   ]
  },
  {
   "cell_type": "code",
   "execution_count": 28,
   "id": "7234b6e7",
   "metadata": {},
   "outputs": [
    {
     "data": {
      "text/plain": [
       "15"
      ]
     },
     "execution_count": 28,
     "metadata": {},
     "output_type": "execute_result"
    }
   ],
   "source": [
    "y_test =np.argmax(y_test, axis=1)\n",
    "y_test[1]"
   ]
  },
  {
   "cell_type": "code",
   "execution_count": 29,
   "id": "6278820d",
   "metadata": {},
   "outputs": [
    {
     "name": "stdout",
     "output_type": "stream",
     "text": [
      "Accuracy is: 92.05410198382764\n"
     ]
    }
   ],
   "source": [
    "from sklearn.metrics import accuracy_score\n",
    "accuracy = {accuracy_score(y_test, predictions)}\n",
    "print(f\"Accuracy is: {accuracy_score(y_test, predictions)* 100}\")"
   ]
  },
  {
   "cell_type": "markdown",
   "id": "eb044ea1",
   "metadata": {},
   "source": [
    "## 4.3 Classification Report"
   ]
  },
  {
   "cell_type": "code",
   "execution_count": 30,
   "id": "001ebc5a",
   "metadata": {},
   "outputs": [
    {
     "name": "stdout",
     "output_type": "stream",
     "text": [
      "\u001b[1mClassification report : \u001b[0m\n",
      "               precision    recall  f1-score   support\n",
      "\n",
      "           0       0.91      0.98      0.94     37852\n",
      "           1       0.93      0.88      0.90      2147\n",
      "           2       0.92      0.91      0.91      2223\n",
      "           3       0.91      0.77      0.83      2239\n",
      "           4       0.98      0.85      0.91      2138\n",
      "           5       0.88      0.82      0.84      2250\n",
      "           6       0.92      0.92      0.92      2274\n",
      "           7       0.87      0.77      0.82      1844\n",
      "           8       0.90      0.81      0.85      2300\n",
      "           9       0.95      0.94      0.94      1903\n",
      "          10       0.93      0.78      0.85      2427\n",
      "          11       0.95      0.80      0.87      2212\n",
      "          12       0.91      0.92      0.91      1986\n",
      "          13       0.95      0.89      0.92      1466\n",
      "          14       0.95      0.95      0.95      1275\n",
      "          15       0.95      0.84      0.89      1474\n",
      "          16       0.98      0.93      0.95      1566\n",
      "          17       0.95      0.89      0.92      1360\n",
      "          18       0.90      0.91      0.90       687\n",
      "          19       0.85      0.95      0.90       699\n",
      "          20       0.99      0.95      0.97       858\n",
      "          21       0.97      0.87      0.92       837\n",
      "          22       0.89      0.92      0.90       703\n",
      "          23       0.97      0.95      0.96       841\n",
      "\n",
      "    accuracy                           0.92     75561\n",
      "   macro avg       0.93      0.88      0.90     75561\n",
      "weighted avg       0.92      0.92      0.92     75561\n",
      "\n",
      "\u001b[1mConfusion Matrix : \u001b[0m\n"
     ]
    },
    {
     "data": {
      "image/png": "[encoded data removed]",
      "text/plain": [
       "<Figure size 432x288 with 2 Axes>"
      ]
     },
     "metadata": {
      "needs_background": "light"
     },
     "output_type": "display_data"
    }
   ],
   "source": [
    "from sklearn.metrics import confusion_matrix, f1_score, accuracy_score, classification_report\n",
    "print('\\033[1m' +'Classification report : '+ '\\033[0m\\n', classification_report(y_test, predictions))\n",
    "\n",
    "cm = confusion_matrix(predictions, y_test)\n",
    "print('\\033[1m' +'Confusion Matrix : '+ '\\033[0m')\n",
    "sns.heatmap(cm, cmap = 'OrRd',annot = True, fmt='d')\n",
    "plt.show()"
   ]
  },
  {
   "cell_type": "markdown",
   "id": "eaa5e512",
   "metadata": {},
   "source": [
    "## 4.4 Evaluation"
   ]
  },
  {
   "cell_type": "code",
   "execution_count": 31,
   "id": "9e469f86",
   "metadata": {},
   "outputs": [
    {
     "name": "stdout",
     "output_type": "stream",
     "text": [
      "MAE: 0.5806302192930215\n",
      "MSE: 6.254483132833076\n",
      "RMSE: 2.500896465836416\n"
     ]
    }
   ],
   "source": [
    "from sklearn import metrics\n",
    "\n",
    "print('MAE:', metrics.mean_absolute_error(y_test,predictions))\n",
    "print('MSE:', metrics.mean_squared_error(y_test, predictions))\n",
    "print('RMSE:', np.sqrt(metrics.mean_squared_error(y_test, predictions)))"
   ]
  },
  {
   "cell_type": "code",
   "execution_count": 32,
   "id": "dff2a82d",
   "metadata": {},
   "outputs": [
    {
     "name": "stdout",
     "output_type": "stream",
     "text": [
      "Precision Score :  0.9212090911407791\n",
      "Recall Score :  0.9205410198382764\n",
      "f1_score :  0.9192688357764018\n"
     ]
    }
   ],
   "source": [
    "from sklearn.metrics import precision_score\n",
    "print(\"Precision Score : \",precision_score(y_test, predictions, average='weighted'))\n",
    "\n",
    "\n",
    "from sklearn.metrics import recall_score\n",
    "print(\"Recall Score : \",recall_score(y_test, predictions,average='weighted'))\n",
    "\n",
    "\n",
    "from sklearn.metrics import f1_score\n",
    "print(\"f1_score : \",f1_score(y_test, predictions,average='weighted'))"
   ]
  },
  {
   "cell_type": "code",
   "execution_count": null,
   "id": "81ac7468",
   "metadata": {},
   "outputs": [],
   "source": []
  },
  {
   "cell_type": "code",
   "execution_count": null,
   "id": "71a4c6e0",
   "metadata": {},
   "outputs": [],
   "source": []
  }
 ],
 "metadata": {
  "kernelspec": {
   "display_name": "Python 3 (ipykernel)",
   "language": "python",
   "name": "python3"
  },
  "language_info": {
   "codemirror_mode": {
    "name": "ipython",
    "version": 3
   },
   "file_extension": ".py",
   "mimetype": "text/x-python",
   "name": "python",
   "nbconvert_exporter": "python",
   "pygments_lexer": "ipython3",
   "version": "3.8.12"
  }
 },
 "nbformat": 4,
 "nbformat_minor": 5
}
