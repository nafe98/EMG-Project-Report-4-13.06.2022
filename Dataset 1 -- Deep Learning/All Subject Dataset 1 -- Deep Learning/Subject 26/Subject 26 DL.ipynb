{
 "cells": [
  {
   "cell_type": "markdown",
   "id": "bf8ee932",
   "metadata": {},
   "source": [
    "# Importing Libraries"
   ]
  },
  {
   "cell_type": "code",
   "execution_count": 1,
   "id": "0f663fa8",
   "metadata": {},
   "outputs": [],
   "source": [
    "import numpy as np\n",
    "import pandas as pd\n",
    "import matplotlib.pyplot as plt\n",
    "import seaborn as sns\n",
    "from sklearn.model_selection import train_test_split"
   ]
  },
  {
   "cell_type": "markdown",
   "id": "511af272",
   "metadata": {},
   "source": [
    "# Loading Data"
   ]
  },
  {
   "cell_type": "code",
   "execution_count": 2,
   "id": "04fd19b0",
   "metadata": {},
   "outputs": [
    {
     "data": {
      "text/html": [
       "<div>\n",
       "<style scoped>\n",
       "    .dataframe tbody tr th:only-of-type {\n",
       "        vertical-align: middle;\n",
       "    }\n",
       "\n",
       "    .dataframe tbody tr th {\n",
       "        vertical-align: top;\n",
       "    }\n",
       "\n",
       "    .dataframe thead th {\n",
       "        text-align: right;\n",
       "    }\n",
       "</style>\n",
       "<table border=\"1\" class=\"dataframe\">\n",
       "  <thead>\n",
       "    <tr style=\"text-align: right;\">\n",
       "      <th></th>\n",
       "      <th>Emg1</th>\n",
       "      <th>Emg2</th>\n",
       "      <th>Emg3</th>\n",
       "      <th>Emg4</th>\n",
       "      <th>Emg5</th>\n",
       "      <th>Emg6</th>\n",
       "      <th>Emg7</th>\n",
       "      <th>Emg8</th>\n",
       "      <th>Emg9</th>\n",
       "      <th>Emg10</th>\n",
       "      <th>repetition</th>\n",
       "      <th>rerepetition</th>\n",
       "      <th>stimulus</th>\n",
       "      <th>restimulus</th>\n",
       "    </tr>\n",
       "  </thead>\n",
       "  <tbody>\n",
       "    <tr>\n",
       "      <th>100666</th>\n",
       "      <td>0.1880</td>\n",
       "      <td>0.0024</td>\n",
       "      <td>0.0024</td>\n",
       "      <td>0.0049</td>\n",
       "      <td>0.0024</td>\n",
       "      <td>0.0049</td>\n",
       "      <td>0.0049</td>\n",
       "      <td>0.0659</td>\n",
       "      <td>0.0049</td>\n",
       "      <td>0.0024</td>\n",
       "      <td>0</td>\n",
       "      <td>0</td>\n",
       "      <td>0</td>\n",
       "      <td>0</td>\n",
       "    </tr>\n",
       "    <tr>\n",
       "      <th>420395</th>\n",
       "      <td>0.0049</td>\n",
       "      <td>0.0024</td>\n",
       "      <td>0.0049</td>\n",
       "      <td>0.0049</td>\n",
       "      <td>0.0024</td>\n",
       "      <td>0.0049</td>\n",
       "      <td>0.0708</td>\n",
       "      <td>0.0073</td>\n",
       "      <td>0.0049</td>\n",
       "      <td>0.0269</td>\n",
       "      <td>0</td>\n",
       "      <td>0</td>\n",
       "      <td>0</td>\n",
       "      <td>0</td>\n",
       "    </tr>\n",
       "    <tr>\n",
       "      <th>133405</th>\n",
       "      <td>0.5420</td>\n",
       "      <td>0.5298</td>\n",
       "      <td>1.1694</td>\n",
       "      <td>0.4956</td>\n",
       "      <td>0.0610</td>\n",
       "      <td>0.0879</td>\n",
       "      <td>1.7969</td>\n",
       "      <td>1.9873</td>\n",
       "      <td>0.3711</td>\n",
       "      <td>1.4551</td>\n",
       "      <td>8</td>\n",
       "      <td>8</td>\n",
       "      <td>4</td>\n",
       "      <td>4</td>\n",
       "    </tr>\n",
       "    <tr>\n",
       "      <th>72998</th>\n",
       "      <td>0.4736</td>\n",
       "      <td>0.0049</td>\n",
       "      <td>0.0049</td>\n",
       "      <td>0.0049</td>\n",
       "      <td>0.0049</td>\n",
       "      <td>0.0024</td>\n",
       "      <td>0.0342</td>\n",
       "      <td>0.1416</td>\n",
       "      <td>0.0049</td>\n",
       "      <td>0.0122</td>\n",
       "      <td>7</td>\n",
       "      <td>7</td>\n",
       "      <td>9</td>\n",
       "      <td>9</td>\n",
       "    </tr>\n",
       "    <tr>\n",
       "      <th>217853</th>\n",
       "      <td>0.0049</td>\n",
       "      <td>0.0049</td>\n",
       "      <td>0.0049</td>\n",
       "      <td>0.0049</td>\n",
       "      <td>0.0024</td>\n",
       "      <td>0.0024</td>\n",
       "      <td>0.0049</td>\n",
       "      <td>0.0049</td>\n",
       "      <td>0.0024</td>\n",
       "      <td>0.0757</td>\n",
       "      <td>8</td>\n",
       "      <td>0</td>\n",
       "      <td>14</td>\n",
       "      <td>0</td>\n",
       "    </tr>\n",
       "  </tbody>\n",
       "</table>\n",
       "</div>"
      ],
      "text/plain": [
       "          Emg1    Emg2    Emg3    Emg4    Emg5    Emg6    Emg7    Emg8  \\\n",
       "100666  0.1880  0.0024  0.0024  0.0049  0.0024  0.0049  0.0049  0.0659   \n",
       "420395  0.0049  0.0024  0.0049  0.0049  0.0024  0.0049  0.0708  0.0073   \n",
       "133405  0.5420  0.5298  1.1694  0.4956  0.0610  0.0879  1.7969  1.9873   \n",
       "72998   0.4736  0.0049  0.0049  0.0049  0.0049  0.0024  0.0342  0.1416   \n",
       "217853  0.0049  0.0049  0.0049  0.0049  0.0024  0.0024  0.0049  0.0049   \n",
       "\n",
       "          Emg9   Emg10  repetition  rerepetition  stimulus  restimulus  \n",
       "100666  0.0049  0.0024           0             0         0           0  \n",
       "420395  0.0049  0.0269           0             0         0           0  \n",
       "133405  0.3711  1.4551           8             8         4           4  \n",
       "72998   0.0049  0.0122           7             7         9           9  \n",
       "217853  0.0024  0.0757           8             0        14           0  "
      ]
     },
     "execution_count": 2,
     "metadata": {},
     "output_type": "execute_result"
    }
   ],
   "source": [
    "raw_data = pd.read_excel('Dataset 1 Patient 26.xlsx')\n",
    "raw_data.sample(5)"
   ]
  },
  {
   "cell_type": "code",
   "execution_count": 3,
   "id": "80369ddb",
   "metadata": {},
   "outputs": [
    {
     "name": "stdout",
     "output_type": "stream",
     "text": [
      "<class 'pandas.core.frame.DataFrame'>\n",
      "RangeIndex: 463778 entries, 0 to 463777\n",
      "Data columns (total 14 columns):\n",
      " #   Column        Non-Null Count   Dtype  \n",
      "---  ------        --------------   -----  \n",
      " 0   Emg1          463778 non-null  float64\n",
      " 1   Emg2          463778 non-null  float64\n",
      " 2   Emg3          463778 non-null  float64\n",
      " 3   Emg4          463778 non-null  float64\n",
      " 4   Emg5          463778 non-null  float64\n",
      " 5   Emg6          463778 non-null  float64\n",
      " 6   Emg7          463778 non-null  float64\n",
      " 7   Emg8          463778 non-null  float64\n",
      " 8   Emg9          463778 non-null  float64\n",
      " 9   Emg10         463778 non-null  float64\n",
      " 10  repetition    463778 non-null  int64  \n",
      " 11  rerepetition  463778 non-null  int64  \n",
      " 12  stimulus      463778 non-null  int64  \n",
      " 13  restimulus    463778 non-null  int64  \n",
      "dtypes: float64(10), int64(4)\n",
      "memory usage: 49.5 MB\n"
     ]
    }
   ],
   "source": [
    "raw_data.info()"
   ]
  },
  {
   "cell_type": "code",
   "execution_count": 4,
   "id": "109445f8",
   "metadata": {},
   "outputs": [
    {
     "data": {
      "text/html": [
       "<div>\n",
       "<style scoped>\n",
       "    .dataframe tbody tr th:only-of-type {\n",
       "        vertical-align: middle;\n",
       "    }\n",
       "\n",
       "    .dataframe tbody tr th {\n",
       "        vertical-align: top;\n",
       "    }\n",
       "\n",
       "    .dataframe thead th {\n",
       "        text-align: right;\n",
       "    }\n",
       "</style>\n",
       "<table border=\"1\" class=\"dataframe\">\n",
       "  <thead>\n",
       "    <tr style=\"text-align: right;\">\n",
       "      <th></th>\n",
       "      <th>Emg1</th>\n",
       "      <th>Emg2</th>\n",
       "      <th>Emg3</th>\n",
       "      <th>Emg4</th>\n",
       "      <th>Emg5</th>\n",
       "      <th>Emg6</th>\n",
       "      <th>Emg7</th>\n",
       "      <th>Emg8</th>\n",
       "      <th>Emg9</th>\n",
       "      <th>Emg10</th>\n",
       "      <th>repetition</th>\n",
       "      <th>rerepetition</th>\n",
       "      <th>stimulus</th>\n",
       "      <th>restimulus</th>\n",
       "    </tr>\n",
       "  </thead>\n",
       "  <tbody>\n",
       "    <tr>\n",
       "      <th>count</th>\n",
       "      <td>463778.000000</td>\n",
       "      <td>463778.00000</td>\n",
       "      <td>463778.000000</td>\n",
       "      <td>463778.000000</td>\n",
       "      <td>463778.000000</td>\n",
       "      <td>463778.000000</td>\n",
       "      <td>463778.000000</td>\n",
       "      <td>463778.000000</td>\n",
       "      <td>463778.000000</td>\n",
       "      <td>463778.000000</td>\n",
       "      <td>463778.000000</td>\n",
       "      <td>463778.000000</td>\n",
       "      <td>463778.000000</td>\n",
       "      <td>463778.000000</td>\n",
       "    </tr>\n",
       "    <tr>\n",
       "      <th>mean</th>\n",
       "      <td>0.370431</td>\n",
       "      <td>0.09488</td>\n",
       "      <td>0.171677</td>\n",
       "      <td>0.133734</td>\n",
       "      <td>0.017742</td>\n",
       "      <td>0.039629</td>\n",
       "      <td>0.337346</td>\n",
       "      <td>0.418753</td>\n",
       "      <td>0.091687</td>\n",
       "      <td>0.227919</td>\n",
       "      <td>3.200486</td>\n",
       "      <td>2.111698</td>\n",
       "      <td>5.672708</td>\n",
       "      <td>3.792519</td>\n",
       "    </tr>\n",
       "    <tr>\n",
       "      <th>std</th>\n",
       "      <td>0.579287</td>\n",
       "      <td>0.25710</td>\n",
       "      <td>0.487344</td>\n",
       "      <td>0.359362</td>\n",
       "      <td>0.062053</td>\n",
       "      <td>0.131240</td>\n",
       "      <td>0.602700</td>\n",
       "      <td>0.643606</td>\n",
       "      <td>0.290849</td>\n",
       "      <td>0.426220</td>\n",
       "      <td>3.487157</td>\n",
       "      <td>3.228558</td>\n",
       "      <td>6.589330</td>\n",
       "      <td>6.134340</td>\n",
       "    </tr>\n",
       "    <tr>\n",
       "      <th>min</th>\n",
       "      <td>0.002400</td>\n",
       "      <td>0.00240</td>\n",
       "      <td>0.002400</td>\n",
       "      <td>0.002400</td>\n",
       "      <td>0.002400</td>\n",
       "      <td>0.002400</td>\n",
       "      <td>0.002400</td>\n",
       "      <td>0.002400</td>\n",
       "      <td>0.002400</td>\n",
       "      <td>0.002400</td>\n",
       "      <td>0.000000</td>\n",
       "      <td>0.000000</td>\n",
       "      <td>0.000000</td>\n",
       "      <td>0.000000</td>\n",
       "    </tr>\n",
       "    <tr>\n",
       "      <th>25%</th>\n",
       "      <td>0.029300</td>\n",
       "      <td>0.00240</td>\n",
       "      <td>0.004900</td>\n",
       "      <td>0.002400</td>\n",
       "      <td>0.002400</td>\n",
       "      <td>0.002400</td>\n",
       "      <td>0.036600</td>\n",
       "      <td>0.009800</td>\n",
       "      <td>0.002400</td>\n",
       "      <td>0.014600</td>\n",
       "      <td>0.000000</td>\n",
       "      <td>0.000000</td>\n",
       "      <td>0.000000</td>\n",
       "      <td>0.000000</td>\n",
       "    </tr>\n",
       "    <tr>\n",
       "      <th>50%</th>\n",
       "      <td>0.151400</td>\n",
       "      <td>0.00490</td>\n",
       "      <td>0.004900</td>\n",
       "      <td>0.004900</td>\n",
       "      <td>0.004900</td>\n",
       "      <td>0.004900</td>\n",
       "      <td>0.131800</td>\n",
       "      <td>0.117200</td>\n",
       "      <td>0.004900</td>\n",
       "      <td>0.078100</td>\n",
       "      <td>2.000000</td>\n",
       "      <td>0.000000</td>\n",
       "      <td>3.000000</td>\n",
       "      <td>0.000000</td>\n",
       "    </tr>\n",
       "    <tr>\n",
       "      <th>75%</th>\n",
       "      <td>0.388200</td>\n",
       "      <td>0.04880</td>\n",
       "      <td>0.063500</td>\n",
       "      <td>0.092800</td>\n",
       "      <td>0.004900</td>\n",
       "      <td>0.024400</td>\n",
       "      <td>0.349100</td>\n",
       "      <td>0.600600</td>\n",
       "      <td>0.048800</td>\n",
       "      <td>0.224600</td>\n",
       "      <td>6.000000</td>\n",
       "      <td>4.000000</td>\n",
       "      <td>10.000000</td>\n",
       "      <td>7.000000</td>\n",
       "    </tr>\n",
       "    <tr>\n",
       "      <th>max</th>\n",
       "      <td>4.646000</td>\n",
       "      <td>4.64360</td>\n",
       "      <td>4.641100</td>\n",
       "      <td>4.643600</td>\n",
       "      <td>1.984900</td>\n",
       "      <td>4.643600</td>\n",
       "      <td>4.643600</td>\n",
       "      <td>4.646000</td>\n",
       "      <td>4.638700</td>\n",
       "      <td>4.638700</td>\n",
       "      <td>10.000000</td>\n",
       "      <td>10.000000</td>\n",
       "      <td>23.000000</td>\n",
       "      <td>23.000000</td>\n",
       "    </tr>\n",
       "  </tbody>\n",
       "</table>\n",
       "</div>"
      ],
      "text/plain": [
       "                Emg1          Emg2           Emg3           Emg4  \\\n",
       "count  463778.000000  463778.00000  463778.000000  463778.000000   \n",
       "mean        0.370431       0.09488       0.171677       0.133734   \n",
       "std         0.579287       0.25710       0.487344       0.359362   \n",
       "min         0.002400       0.00240       0.002400       0.002400   \n",
       "25%         0.029300       0.00240       0.004900       0.002400   \n",
       "50%         0.151400       0.00490       0.004900       0.004900   \n",
       "75%         0.388200       0.04880       0.063500       0.092800   \n",
       "max         4.646000       4.64360       4.641100       4.643600   \n",
       "\n",
       "                Emg5           Emg6           Emg7           Emg8  \\\n",
       "count  463778.000000  463778.000000  463778.000000  463778.000000   \n",
       "mean        0.017742       0.039629       0.337346       0.418753   \n",
       "std         0.062053       0.131240       0.602700       0.643606   \n",
       "min         0.002400       0.002400       0.002400       0.002400   \n",
       "25%         0.002400       0.002400       0.036600       0.009800   \n",
       "50%         0.004900       0.004900       0.131800       0.117200   \n",
       "75%         0.004900       0.024400       0.349100       0.600600   \n",
       "max         1.984900       4.643600       4.643600       4.646000   \n",
       "\n",
       "                Emg9          Emg10     repetition   rerepetition  \\\n",
       "count  463778.000000  463778.000000  463778.000000  463778.000000   \n",
       "mean        0.091687       0.227919       3.200486       2.111698   \n",
       "std         0.290849       0.426220       3.487157       3.228558   \n",
       "min         0.002400       0.002400       0.000000       0.000000   \n",
       "25%         0.002400       0.014600       0.000000       0.000000   \n",
       "50%         0.004900       0.078100       2.000000       0.000000   \n",
       "75%         0.048800       0.224600       6.000000       4.000000   \n",
       "max         4.638700       4.638700      10.000000      10.000000   \n",
       "\n",
       "            stimulus     restimulus  \n",
       "count  463778.000000  463778.000000  \n",
       "mean        5.672708       3.792519  \n",
       "std         6.589330       6.134340  \n",
       "min         0.000000       0.000000  \n",
       "25%         0.000000       0.000000  \n",
       "50%         3.000000       0.000000  \n",
       "75%        10.000000       7.000000  \n",
       "max        23.000000      23.000000  "
      ]
     },
     "execution_count": 4,
     "metadata": {},
     "output_type": "execute_result"
    }
   ],
   "source": [
    "raw_data.describe(include='all')"
   ]
  },
  {
   "cell_type": "code",
   "execution_count": 5,
   "id": "f0b9a2e6",
   "metadata": {},
   "outputs": [
    {
     "name": "stdout",
     "output_type": "stream",
     "text": [
      "Unique Dependent values and their counts :\n",
      "0     193905\n",
      "4      15609\n",
      "12     15605\n",
      "7      15602\n",
      "8      15602\n",
      "2      15599\n",
      "11     15574\n",
      "5      15570\n",
      "6      15561\n",
      "9      15554\n",
      "10     15531\n",
      "3      15530\n",
      "1      15524\n",
      "14     10407\n",
      "17     10406\n",
      "13     10402\n",
      "15     10367\n",
      "16     10334\n",
      "18      5203\n",
      "21      5202\n",
      "19      5200\n",
      "23      5166\n",
      "20      5163\n",
      "22      5162\n",
      "Name: stimulus, dtype: int64\n"
     ]
    }
   ],
   "source": [
    "print(\"Unique Dependent values and their counts :\")\n",
    "print(raw_data[\"stimulus\"].value_counts())"
   ]
  },
  {
   "cell_type": "markdown",
   "id": "54420ec4",
   "metadata": {},
   "source": [
    "# Data Cleaning"
   ]
  },
  {
   "cell_type": "code",
   "execution_count": 6,
   "id": "a811198b",
   "metadata": {},
   "outputs": [],
   "source": [
    "index_names = raw_data[ (raw_data['stimulus'] != raw_data['restimulus'])].index\n",
    "raw_data.drop(index_names, inplace = True)"
   ]
  },
  {
   "cell_type": "code",
   "execution_count": 7,
   "id": "556cd92f",
   "metadata": {},
   "outputs": [],
   "source": [
    "index_names = raw_data[ (raw_data['repetition'] != raw_data['rerepetition'])].index\n",
    "raw_data.drop(index_names, inplace = True)"
   ]
  },
  {
   "cell_type": "code",
   "execution_count": 8,
   "id": "c91744f7",
   "metadata": {},
   "outputs": [],
   "source": [
    "X = raw_data.iloc[:,0:10]\n",
    "y = raw_data.stimulus"
   ]
  },
  {
   "cell_type": "markdown",
   "id": "152f7160",
   "metadata": {},
   "source": [
    "# One Hot Encoding"
   ]
  },
  {
   "cell_type": "code",
   "execution_count": 9,
   "id": "dfb77d24",
   "metadata": {},
   "outputs": [],
   "source": [
    "num_classes = 24"
   ]
  },
  {
   "cell_type": "code",
   "execution_count": 10,
   "id": "be64bf6b",
   "metadata": {},
   "outputs": [],
   "source": [
    "# One hot encoding for categorical labels\n",
    "import keras\n",
    "from keras import utils as np_utils\n",
    "y = keras.utils.np_utils.to_categorical(y, num_classes)"
   ]
  },
  {
   "cell_type": "code",
   "execution_count": 11,
   "id": "c7358f86",
   "metadata": {},
   "outputs": [],
   "source": [
    "input_dim = X.shape[1]"
   ]
  },
  {
   "cell_type": "markdown",
   "id": "cb3088a1",
   "metadata": {},
   "source": [
    "# Standard Scaler"
   ]
  },
  {
   "cell_type": "code",
   "execution_count": 12,
   "id": "5bd820f4",
   "metadata": {},
   "outputs": [],
   "source": [
    "from sklearn.preprocessing import StandardScaler\n",
    "standardscaler=StandardScaler()"
   ]
  },
  {
   "cell_type": "code",
   "execution_count": 13,
   "id": "6a118694",
   "metadata": {},
   "outputs": [],
   "source": [
    "sc = pd.DataFrame(standardscaler.fit_transform(X))"
   ]
  },
  {
   "cell_type": "code",
   "execution_count": 14,
   "id": "d6e2f38b",
   "metadata": {},
   "outputs": [
    {
     "data": {
      "text/html": [
       "<div>\n",
       "<style scoped>\n",
       "    .dataframe tbody tr th:only-of-type {\n",
       "        vertical-align: middle;\n",
       "    }\n",
       "\n",
       "    .dataframe tbody tr th {\n",
       "        vertical-align: top;\n",
       "    }\n",
       "\n",
       "    .dataframe thead th {\n",
       "        text-align: right;\n",
       "    }\n",
       "</style>\n",
       "<table border=\"1\" class=\"dataframe\">\n",
       "  <thead>\n",
       "    <tr style=\"text-align: right;\">\n",
       "      <th></th>\n",
       "      <th>0</th>\n",
       "      <th>1</th>\n",
       "      <th>2</th>\n",
       "      <th>3</th>\n",
       "      <th>4</th>\n",
       "      <th>5</th>\n",
       "      <th>6</th>\n",
       "      <th>7</th>\n",
       "      <th>8</th>\n",
       "      <th>9</th>\n",
       "    </tr>\n",
       "  </thead>\n",
       "  <tbody>\n",
       "    <tr>\n",
       "      <th>0</th>\n",
       "      <td>-0.686802</td>\n",
       "      <td>-0.407131</td>\n",
       "      <td>-0.395955</td>\n",
       "      <td>-0.404030</td>\n",
       "      <td>-0.272656</td>\n",
       "      <td>-0.296949</td>\n",
       "      <td>-0.584510</td>\n",
       "      <td>-0.711895</td>\n",
       "      <td>-0.33919</td>\n",
       "      <td>-0.570099</td>\n",
       "    </tr>\n",
       "    <tr>\n",
       "      <th>1</th>\n",
       "      <td>-0.690771</td>\n",
       "      <td>-0.407131</td>\n",
       "      <td>-0.395955</td>\n",
       "      <td>-0.410341</td>\n",
       "      <td>-0.236515</td>\n",
       "      <td>-0.279802</td>\n",
       "      <td>-0.569878</td>\n",
       "      <td>-0.711895</td>\n",
       "      <td>-0.34691</td>\n",
       "      <td>-0.575429</td>\n",
       "    </tr>\n",
       "    <tr>\n",
       "      <th>2</th>\n",
       "      <td>-0.690771</td>\n",
       "      <td>-0.407131</td>\n",
       "      <td>-0.391314</td>\n",
       "      <td>-0.410341</td>\n",
       "      <td>-0.236515</td>\n",
       "      <td>-0.296949</td>\n",
       "      <td>-0.547704</td>\n",
       "      <td>-0.708312</td>\n",
       "      <td>-0.33919</td>\n",
       "      <td>-0.575429</td>\n",
       "    </tr>\n",
       "    <tr>\n",
       "      <th>3</th>\n",
       "      <td>-0.690771</td>\n",
       "      <td>-0.398332</td>\n",
       "      <td>-0.391314</td>\n",
       "      <td>-0.410341</td>\n",
       "      <td>-0.236515</td>\n",
       "      <td>-0.296949</td>\n",
       "      <td>-0.540313</td>\n",
       "      <td>-0.704871</td>\n",
       "      <td>-0.34691</td>\n",
       "      <td>-0.570099</td>\n",
       "    </tr>\n",
       "    <tr>\n",
       "      <th>4</th>\n",
       "      <td>-0.686802</td>\n",
       "      <td>-0.398332</td>\n",
       "      <td>-0.395955</td>\n",
       "      <td>-0.404030</td>\n",
       "      <td>-0.272656</td>\n",
       "      <td>-0.296949</td>\n",
       "      <td>-0.544084</td>\n",
       "      <td>-0.701288</td>\n",
       "      <td>-0.34691</td>\n",
       "      <td>-0.575429</td>\n",
       "    </tr>\n",
       "    <tr>\n",
       "      <th>...</th>\n",
       "      <td>...</td>\n",
       "      <td>...</td>\n",
       "      <td>...</td>\n",
       "      <td>...</td>\n",
       "      <td>...</td>\n",
       "      <td>...</td>\n",
       "      <td>...</td>\n",
       "      <td>...</td>\n",
       "      <td>...</td>\n",
       "      <td>...</td>\n",
       "    </tr>\n",
       "    <tr>\n",
       "      <th>364899</th>\n",
       "      <td>-0.679024</td>\n",
       "      <td>-0.407131</td>\n",
       "      <td>-0.391314</td>\n",
       "      <td>-0.410341</td>\n",
       "      <td>-0.236515</td>\n",
       "      <td>-0.196120</td>\n",
       "      <td>-0.223689</td>\n",
       "      <td>-0.690823</td>\n",
       "      <td>-0.33919</td>\n",
       "      <td>-0.351550</td>\n",
       "    </tr>\n",
       "    <tr>\n",
       "      <th>364900</th>\n",
       "      <td>-0.671404</td>\n",
       "      <td>-0.407131</td>\n",
       "      <td>-0.395955</td>\n",
       "      <td>-0.410341</td>\n",
       "      <td>-0.236515</td>\n",
       "      <td>-0.213268</td>\n",
       "      <td>-0.245712</td>\n",
       "      <td>-0.690823</td>\n",
       "      <td>-0.33919</td>\n",
       "      <td>-0.393128</td>\n",
       "    </tr>\n",
       "    <tr>\n",
       "      <th>364901</th>\n",
       "      <td>-0.667435</td>\n",
       "      <td>-0.407131</td>\n",
       "      <td>-0.391314</td>\n",
       "      <td>-0.410341</td>\n",
       "      <td>-0.236515</td>\n",
       "      <td>-0.229730</td>\n",
       "      <td>-0.172100</td>\n",
       "      <td>-0.690823</td>\n",
       "      <td>-0.33919</td>\n",
       "      <td>-0.419140</td>\n",
       "    </tr>\n",
       "    <tr>\n",
       "      <th>364902</th>\n",
       "      <td>-0.671404</td>\n",
       "      <td>-0.407131</td>\n",
       "      <td>-0.391314</td>\n",
       "      <td>-0.410341</td>\n",
       "      <td>-0.272656</td>\n",
       "      <td>-0.246192</td>\n",
       "      <td>-0.120511</td>\n",
       "      <td>-0.690823</td>\n",
       "      <td>-0.33919</td>\n",
       "      <td>-0.445153</td>\n",
       "    </tr>\n",
       "    <tr>\n",
       "      <th>364903</th>\n",
       "      <td>-0.679024</td>\n",
       "      <td>-0.407131</td>\n",
       "      <td>-0.391314</td>\n",
       "      <td>-0.410341</td>\n",
       "      <td>-0.272656</td>\n",
       "      <td>-0.246192</td>\n",
       "      <td>-0.105728</td>\n",
       "      <td>-0.690823</td>\n",
       "      <td>-0.33919</td>\n",
       "      <td>-0.440036</td>\n",
       "    </tr>\n",
       "  </tbody>\n",
       "</table>\n",
       "<p>364904 rows × 10 columns</p>\n",
       "</div>"
      ],
      "text/plain": [
       "               0         1         2         3         4         5         6  \\\n",
       "0      -0.686802 -0.407131 -0.395955 -0.404030 -0.272656 -0.296949 -0.584510   \n",
       "1      -0.690771 -0.407131 -0.395955 -0.410341 -0.236515 -0.279802 -0.569878   \n",
       "2      -0.690771 -0.407131 -0.391314 -0.410341 -0.236515 -0.296949 -0.547704   \n",
       "3      -0.690771 -0.398332 -0.391314 -0.410341 -0.236515 -0.296949 -0.540313   \n",
       "4      -0.686802 -0.398332 -0.395955 -0.404030 -0.272656 -0.296949 -0.544084   \n",
       "...          ...       ...       ...       ...       ...       ...       ...   \n",
       "364899 -0.679024 -0.407131 -0.391314 -0.410341 -0.236515 -0.196120 -0.223689   \n",
       "364900 -0.671404 -0.407131 -0.395955 -0.410341 -0.236515 -0.213268 -0.245712   \n",
       "364901 -0.667435 -0.407131 -0.391314 -0.410341 -0.236515 -0.229730 -0.172100   \n",
       "364902 -0.671404 -0.407131 -0.391314 -0.410341 -0.272656 -0.246192 -0.120511   \n",
       "364903 -0.679024 -0.407131 -0.391314 -0.410341 -0.272656 -0.246192 -0.105728   \n",
       "\n",
       "               7        8         9  \n",
       "0      -0.711895 -0.33919 -0.570099  \n",
       "1      -0.711895 -0.34691 -0.575429  \n",
       "2      -0.708312 -0.33919 -0.575429  \n",
       "3      -0.704871 -0.34691 -0.570099  \n",
       "4      -0.701288 -0.34691 -0.575429  \n",
       "...          ...      ...       ...  \n",
       "364899 -0.690823 -0.33919 -0.351550  \n",
       "364900 -0.690823 -0.33919 -0.393128  \n",
       "364901 -0.690823 -0.33919 -0.419140  \n",
       "364902 -0.690823 -0.33919 -0.445153  \n",
       "364903 -0.690823 -0.33919 -0.440036  \n",
       "\n",
       "[364904 rows x 10 columns]"
      ]
     },
     "execution_count": 14,
     "metadata": {},
     "output_type": "execute_result"
    }
   ],
   "source": [
    "sc"
   ]
  },
  {
   "cell_type": "code",
   "execution_count": 15,
   "id": "65cfb75d",
   "metadata": {},
   "outputs": [],
   "source": [
    "# Splitting data for training and testing\n",
    "X_train, X_test, y_train, y_test = train_test_split(sc, y, test_size = 0.2, random_state = 39)"
   ]
  },
  {
   "cell_type": "markdown",
   "id": "3ba47781",
   "metadata": {},
   "source": [
    "# Deep Learning "
   ]
  },
  {
   "cell_type": "code",
   "execution_count": 16,
   "id": "d426e2e1",
   "metadata": {},
   "outputs": [],
   "source": [
    "from sklearn.preprocessing import MinMaxScaler\n",
    "from tensorflow.keras.models import Model\n",
    "from tensorflow.keras.layers import Input\n",
    "from tensorflow.keras.layers import Dense\n",
    "from tensorflow.keras.layers import LeakyReLU,ELU\n",
    "from tensorflow.keras.layers import BatchNormalization\n",
    "from tensorflow.keras.utils import plot_model\n",
    "import tensorflow as tf\n",
    "from sklearn.model_selection import cross_val_score\n",
    "from keras.models import Sequential\n",
    "from keras.layers import Dense, BatchNormalization, Dropout\n",
    "from tensorflow.keras.optimizers import Adam, SGD, RMSprop, Adadelta, Adagrad, Adamax, Nadam, Ftrl\n",
    "from keras.callbacks import EarlyStopping, ModelCheckpoint\n",
    "from keras.wrappers.scikit_learn import KerasClassifier\n",
    "from sklearn.metrics import make_scorer, accuracy_score\n",
    "from sklearn.model_selection import StratifiedKFold"
   ]
  },
  {
   "cell_type": "code",
   "execution_count": 17,
   "id": "cd0ef208",
   "metadata": {},
   "outputs": [],
   "source": [
    "from keras.layers import LeakyReLU\n",
    "LeakyReLU = LeakyReLU(alpha=0.1)\n",
    "from keras.models import Sequential\n",
    "from keras.layers import Dense, Flatten, Convolution1D, Dropout\n",
    "from keras.initializers import random_uniform"
   ]
  },
  {
   "cell_type": "markdown",
   "id": "f97d61bc",
   "metadata": {},
   "source": [
    "# 1. Define Network"
   ]
  },
  {
   "cell_type": "code",
   "execution_count": 18,
   "id": "bd77bf81",
   "metadata": {},
   "outputs": [],
   "source": [
    "num_classes = 24\n",
    "input_dim = X.shape[1]"
   ]
  },
  {
   "cell_type": "code",
   "execution_count": 19,
   "id": "fbdce465",
   "metadata": {},
   "outputs": [],
   "source": [
    "visible = Input(shape=(input_dim,))\n",
    "hidden1 = Dense(3000, activation='relu')(visible)\n",
    "hidden2 = Dense(1500, activation='relu')(hidden1)\n",
    "hidden3 = Dropout(0.2)(hidden2)\n",
    "hidden4 = Dense(750, activation='relu')(hidden3)\n",
    "hidden5 = Dense(375, activation='relu')(hidden4)\n",
    "hidden6 = Dense(48, activation='relu')(hidden5)\n",
    "output = Dense(num_classes, activation='softmax')(hidden6)\n",
    "model = Model(inputs=visible, outputs=output)"
   ]
  },
  {
   "cell_type": "code",
   "execution_count": 20,
   "id": "1dd33478",
   "metadata": {},
   "outputs": [
    {
     "name": "stdout",
     "output_type": "stream",
     "text": [
      "Model: \"model\"\n",
      "_________________________________________________________________\n",
      " Layer (type)                Output Shape              Param #   \n",
      "=================================================================\n",
      " input_1 (InputLayer)        [(None, 10)]              0         \n",
      "                                                                 \n",
      " dense (Dense)               (None, 3000)              33000     \n",
      "                                                                 \n",
      " dense_1 (Dense)             (None, 1500)              4501500   \n",
      "                                                                 \n",
      " dropout (Dropout)           (None, 1500)              0         \n",
      "                                                                 \n",
      " dense_2 (Dense)             (None, 750)               1125750   \n",
      "                                                                 \n",
      " dense_3 (Dense)             (None, 375)               281625    \n",
      "                                                                 \n",
      " dense_4 (Dense)             (None, 48)                18048     \n",
      "                                                                 \n",
      " dense_5 (Dense)             (None, 24)                1176      \n",
      "                                                                 \n",
      "=================================================================\n",
      "Total params: 5,961,099\n",
      "Trainable params: 5,961,099\n",
      "Non-trainable params: 0\n",
      "_________________________________________________________________\n"
     ]
    }
   ],
   "source": [
    "model.summary()"
   ]
  },
  {
   "cell_type": "markdown",
   "id": "3196ac97",
   "metadata": {},
   "source": [
    "# 2. Compile Network"
   ]
  },
  {
   "cell_type": "code",
   "execution_count": 21,
   "id": "7a2d558b",
   "metadata": {},
   "outputs": [],
   "source": [
    "model.compile(optimizer='adam', loss='categorical_crossentropy', metrics=['accuracy'])"
   ]
  },
  {
   "cell_type": "code",
   "execution_count": 22,
   "id": "c1d2b36d",
   "metadata": {},
   "outputs": [
    {
     "name": "stdout",
     "output_type": "stream",
     "text": [
      "You must install pydot (`pip install pydot`) and install graphviz (see instructions at https://graphviz.gitlab.io/download/) for plot_model/model_to_dot to work.\n"
     ]
    }
   ],
   "source": [
    "plot_model(model, 'EMG_ANN', show_shapes = True)"
   ]
  },
  {
   "cell_type": "markdown",
   "id": "3358b592",
   "metadata": {},
   "source": [
    "# 3. Fit Network"
   ]
  },
  {
   "cell_type": "code",
   "execution_count": 23,
   "id": "e0ed4ddd",
   "metadata": {},
   "outputs": [
    {
     "name": "stdout",
     "output_type": "stream",
     "text": [
      "Epoch 1/100\n",
      "72/72 [==============================] - 4s 31ms/step - loss: 1.1911 - accuracy: 0.6819 - val_loss: 0.7908 - val_accuracy: 0.7733\n",
      "Epoch 2/100\n",
      "72/72 [==============================] - 2s 26ms/step - loss: 0.6958 - accuracy: 0.7981 - val_loss: 0.6074 - val_accuracy: 0.8229\n",
      "Epoch 3/100\n",
      "72/72 [==============================] - 2s 26ms/step - loss: 0.5834 - accuracy: 0.8283 - val_loss: 0.5266 - val_accuracy: 0.8469\n",
      "Epoch 4/100\n",
      "72/72 [==============================] - 2s 25ms/step - loss: 0.5173 - accuracy: 0.8469 - val_loss: 0.4795 - val_accuracy: 0.8587\n",
      "Epoch 5/100\n",
      "72/72 [==============================] - 2s 25ms/step - loss: 0.4762 - accuracy: 0.8589 - val_loss: 0.4431 - val_accuracy: 0.8682\n",
      "Epoch 6/100\n",
      "72/72 [==============================] - 2s 25ms/step - loss: 0.4426 - accuracy: 0.8672 - val_loss: 0.4200 - val_accuracy: 0.8742\n",
      "Epoch 7/100\n",
      "72/72 [==============================] - 2s 25ms/step - loss: 0.4206 - accuracy: 0.8737 - val_loss: 0.3950 - val_accuracy: 0.8818\n",
      "Epoch 8/100\n",
      "72/72 [==============================] - 2s 25ms/step - loss: 0.3956 - accuracy: 0.8809 - val_loss: 0.3785 - val_accuracy: 0.8861\n",
      "Epoch 9/100\n",
      "72/72 [==============================] - 2s 25ms/step - loss: 0.3773 - accuracy: 0.8863 - val_loss: 0.3676 - val_accuracy: 0.8897\n",
      "Epoch 10/100\n",
      "72/72 [==============================] - 2s 25ms/step - loss: 0.3620 - accuracy: 0.8905 - val_loss: 0.3442 - val_accuracy: 0.8962\n",
      "Epoch 11/100\n",
      "72/72 [==============================] - 2s 25ms/step - loss: 0.3482 - accuracy: 0.8943 - val_loss: 0.3408 - val_accuracy: 0.8971\n",
      "Epoch 12/100\n",
      "72/72 [==============================] - 2s 25ms/step - loss: 0.3320 - accuracy: 0.8987 - val_loss: 0.3311 - val_accuracy: 0.8992\n",
      "Epoch 13/100\n",
      "72/72 [==============================] - 2s 26ms/step - loss: 0.3255 - accuracy: 0.9004 - val_loss: 0.3177 - val_accuracy: 0.9035\n",
      "Epoch 14/100\n",
      "72/72 [==============================] - 2s 25ms/step - loss: 0.3131 - accuracy: 0.9042 - val_loss: 0.3006 - val_accuracy: 0.9084\n",
      "Epoch 15/100\n",
      "72/72 [==============================] - 2s 25ms/step - loss: 0.2998 - accuracy: 0.9080 - val_loss: 0.3060 - val_accuracy: 0.9061\n",
      "Epoch 16/100\n",
      "72/72 [==============================] - 2s 25ms/step - loss: 0.2931 - accuracy: 0.9096 - val_loss: 0.2918 - val_accuracy: 0.9108\n",
      "Epoch 17/100\n",
      "72/72 [==============================] - 2s 25ms/step - loss: 0.2858 - accuracy: 0.9120 - val_loss: 0.2825 - val_accuracy: 0.9134\n",
      "Epoch 18/100\n",
      "72/72 [==============================] - 2s 25ms/step - loss: 0.2762 - accuracy: 0.9148 - val_loss: 0.2772 - val_accuracy: 0.9155\n",
      "Epoch 19/100\n",
      "72/72 [==============================] - 2s 25ms/step - loss: 0.2699 - accuracy: 0.9164 - val_loss: 0.2738 - val_accuracy: 0.9153\n",
      "Epoch 20/100\n",
      "72/72 [==============================] - 2s 25ms/step - loss: 0.2631 - accuracy: 0.9187 - val_loss: 0.2680 - val_accuracy: 0.9173\n",
      "Epoch 21/100\n",
      "72/72 [==============================] - 2s 26ms/step - loss: 0.2569 - accuracy: 0.9210 - val_loss: 0.2593 - val_accuracy: 0.9202\n",
      "Epoch 22/100\n",
      "72/72 [==============================] - 2s 25ms/step - loss: 0.2525 - accuracy: 0.9219 - val_loss: 0.2540 - val_accuracy: 0.9219\n",
      "Epoch 23/100\n",
      "72/72 [==============================] - 2s 25ms/step - loss: 0.2438 - accuracy: 0.9244 - val_loss: 0.2467 - val_accuracy: 0.9241\n",
      "Epoch 24/100\n",
      "72/72 [==============================] - 2s 25ms/step - loss: 0.2381 - accuracy: 0.9259 - val_loss: 0.2458 - val_accuracy: 0.9247\n",
      "Epoch 25/100\n",
      "72/72 [==============================] - 2s 25ms/step - loss: 0.2319 - accuracy: 0.9279 - val_loss: 0.2423 - val_accuracy: 0.9247\n",
      "Epoch 26/100\n",
      "72/72 [==============================] - 2s 26ms/step - loss: 0.2287 - accuracy: 0.9288 - val_loss: 0.2378 - val_accuracy: 0.9273\n",
      "Epoch 27/100\n",
      "72/72 [==============================] - 2s 26ms/step - loss: 0.2250 - accuracy: 0.9303 - val_loss: 0.2304 - val_accuracy: 0.9284\n",
      "Epoch 28/100\n",
      "72/72 [==============================] - 2s 26ms/step - loss: 0.2199 - accuracy: 0.9316 - val_loss: 0.2303 - val_accuracy: 0.9294\n",
      "Epoch 29/100\n",
      "72/72 [==============================] - 2s 26ms/step - loss: 0.2154 - accuracy: 0.9331 - val_loss: 0.2243 - val_accuracy: 0.9307\n",
      "Epoch 30/100\n",
      "72/72 [==============================] - 2s 26ms/step - loss: 0.2126 - accuracy: 0.9337 - val_loss: 0.2255 - val_accuracy: 0.9312\n",
      "Epoch 31/100\n",
      "72/72 [==============================] - 2s 26ms/step - loss: 0.2083 - accuracy: 0.9353 - val_loss: 0.2178 - val_accuracy: 0.9329\n",
      "Epoch 32/100\n",
      "72/72 [==============================] - 2s 26ms/step - loss: 0.2034 - accuracy: 0.9366 - val_loss: 0.2157 - val_accuracy: 0.9340\n",
      "Epoch 33/100\n",
      "72/72 [==============================] - 2s 26ms/step - loss: 0.2008 - accuracy: 0.9371 - val_loss: 0.2242 - val_accuracy: 0.9322\n",
      "Epoch 34/100\n",
      "72/72 [==============================] - 2s 26ms/step - loss: 0.2002 - accuracy: 0.9377 - val_loss: 0.2078 - val_accuracy: 0.9363\n",
      "Epoch 35/100\n",
      "72/72 [==============================] - 2s 26ms/step - loss: 0.1948 - accuracy: 0.9393 - val_loss: 0.2132 - val_accuracy: 0.9343\n",
      "Epoch 36/100\n",
      "72/72 [==============================] - 2s 26ms/step - loss: 0.1931 - accuracy: 0.9398 - val_loss: 0.2086 - val_accuracy: 0.9367\n",
      "Epoch 37/100\n",
      "72/72 [==============================] - 2s 26ms/step - loss: 0.1897 - accuracy: 0.9406 - val_loss: 0.2049 - val_accuracy: 0.9361\n",
      "Epoch 38/100\n",
      "72/72 [==============================] - 2s 26ms/step - loss: 0.1859 - accuracy: 0.9417 - val_loss: 0.2020 - val_accuracy: 0.9383\n",
      "Epoch 39/100\n",
      "72/72 [==============================] - 2s 26ms/step - loss: 0.1866 - accuracy: 0.9420 - val_loss: 0.2012 - val_accuracy: 0.9387\n",
      "Epoch 40/100\n",
      "72/72 [==============================] - 2s 26ms/step - loss: 0.1830 - accuracy: 0.9432 - val_loss: 0.2001 - val_accuracy: 0.9397\n",
      "Epoch 41/100\n",
      "72/72 [==============================] - 2s 26ms/step - loss: 0.1794 - accuracy: 0.9444 - val_loss: 0.1981 - val_accuracy: 0.9387\n",
      "Epoch 42/100\n",
      "72/72 [==============================] - 2s 26ms/step - loss: 0.1745 - accuracy: 0.9456 - val_loss: 0.1961 - val_accuracy: 0.9403\n",
      "Epoch 43/100\n",
      "72/72 [==============================] - 2s 26ms/step - loss: 0.1733 - accuracy: 0.9455 - val_loss: 0.1949 - val_accuracy: 0.9410\n",
      "Epoch 44/100\n",
      "72/72 [==============================] - 2s 26ms/step - loss: 0.1719 - accuracy: 0.9461 - val_loss: 0.1971 - val_accuracy: 0.9398\n",
      "Epoch 45/100\n",
      "72/72 [==============================] - 2s 26ms/step - loss: 0.1731 - accuracy: 0.9456 - val_loss: 0.1960 - val_accuracy: 0.9411\n",
      "Epoch 46/100\n",
      "72/72 [==============================] - 2s 26ms/step - loss: 0.1710 - accuracy: 0.9464 - val_loss: 0.1901 - val_accuracy: 0.9421\n",
      "Epoch 47/100\n",
      "72/72 [==============================] - 2s 26ms/step - loss: 0.1672 - accuracy: 0.9476 - val_loss: 0.1895 - val_accuracy: 0.9418\n",
      "Epoch 48/100\n",
      "72/72 [==============================] - 2s 26ms/step - loss: 0.1652 - accuracy: 0.9483 - val_loss: 0.1857 - val_accuracy: 0.9436\n",
      "Epoch 49/100\n",
      "72/72 [==============================] - 2s 26ms/step - loss: 0.1621 - accuracy: 0.9493 - val_loss: 0.1897 - val_accuracy: 0.9421\n",
      "Epoch 50/100\n",
      "72/72 [==============================] - 2s 26ms/step - loss: 0.1632 - accuracy: 0.9490 - val_loss: 0.1845 - val_accuracy: 0.9440\n",
      "Epoch 51/100\n",
      "72/72 [==============================] - 2s 26ms/step - loss: 0.1613 - accuracy: 0.9493 - val_loss: 0.1860 - val_accuracy: 0.9435\n",
      "Epoch 52/100\n",
      "72/72 [==============================] - 2s 26ms/step - loss: 0.1569 - accuracy: 0.9511 - val_loss: 0.1876 - val_accuracy: 0.9423\n",
      "Epoch 53/100\n",
      "72/72 [==============================] - 2s 26ms/step - loss: 0.1541 - accuracy: 0.9516 - val_loss: 0.1803 - val_accuracy: 0.9452\n",
      "Epoch 54/100\n",
      "72/72 [==============================] - 2s 26ms/step - loss: 0.1572 - accuracy: 0.9507 - val_loss: 0.1834 - val_accuracy: 0.9452\n",
      "Epoch 55/100\n",
      "72/72 [==============================] - 2s 26ms/step - loss: 0.1529 - accuracy: 0.9520 - val_loss: 0.1824 - val_accuracy: 0.9454\n",
      "Epoch 56/100\n",
      "72/72 [==============================] - 2s 26ms/step - loss: 0.1524 - accuracy: 0.9522 - val_loss: 0.1780 - val_accuracy: 0.9463\n",
      "Epoch 57/100\n",
      "72/72 [==============================] - 2s 26ms/step - loss: 0.1475 - accuracy: 0.9538 - val_loss: 0.1785 - val_accuracy: 0.9464\n",
      "Epoch 58/100\n"
     ]
    },
    {
     "name": "stdout",
     "output_type": "stream",
     "text": [
      "72/72 [==============================] - 2s 26ms/step - loss: 0.1477 - accuracy: 0.9533 - val_loss: 0.1754 - val_accuracy: 0.9471\n",
      "Epoch 59/100\n",
      "72/72 [==============================] - 2s 26ms/step - loss: 0.1438 - accuracy: 0.9546 - val_loss: 0.1781 - val_accuracy: 0.9464\n",
      "Epoch 60/100\n",
      "72/72 [==============================] - 2s 26ms/step - loss: 0.1461 - accuracy: 0.9541 - val_loss: 0.1775 - val_accuracy: 0.9470\n",
      "Epoch 61/100\n",
      "72/72 [==============================] - 2s 26ms/step - loss: 0.1457 - accuracy: 0.9542 - val_loss: 0.1749 - val_accuracy: 0.9471\n",
      "Epoch 62/100\n",
      "72/72 [==============================] - 2s 26ms/step - loss: 0.1449 - accuracy: 0.9547 - val_loss: 0.1804 - val_accuracy: 0.9465\n",
      "Epoch 63/100\n",
      "72/72 [==============================] - 2s 26ms/step - loss: 0.1438 - accuracy: 0.9551 - val_loss: 0.1777 - val_accuracy: 0.9477\n",
      "Epoch 64/100\n",
      "72/72 [==============================] - 2s 26ms/step - loss: 0.1405 - accuracy: 0.9557 - val_loss: 0.1795 - val_accuracy: 0.9463\n",
      "Epoch 65/100\n",
      "72/72 [==============================] - 2s 26ms/step - loss: 0.1422 - accuracy: 0.9552 - val_loss: 0.1712 - val_accuracy: 0.9474\n",
      "Epoch 66/100\n",
      "72/72 [==============================] - 2s 26ms/step - loss: 0.1398 - accuracy: 0.9558 - val_loss: 0.1692 - val_accuracy: 0.9490\n",
      "Epoch 67/100\n",
      "72/72 [==============================] - 2s 26ms/step - loss: 0.1372 - accuracy: 0.9562 - val_loss: 0.1691 - val_accuracy: 0.9495\n",
      "Epoch 68/100\n",
      "72/72 [==============================] - 2s 26ms/step - loss: 0.1358 - accuracy: 0.9569 - val_loss: 0.1652 - val_accuracy: 0.9504\n",
      "Epoch 69/100\n",
      "72/72 [==============================] - 2s 26ms/step - loss: 0.1346 - accuracy: 0.9575 - val_loss: 0.1783 - val_accuracy: 0.9469\n",
      "Epoch 70/100\n",
      "72/72 [==============================] - 2s 26ms/step - loss: 0.1369 - accuracy: 0.9566 - val_loss: 0.1645 - val_accuracy: 0.9501\n",
      "Epoch 71/100\n",
      "72/72 [==============================] - 2s 26ms/step - loss: 0.1349 - accuracy: 0.9575 - val_loss: 0.1685 - val_accuracy: 0.9499\n",
      "Epoch 72/100\n",
      "72/72 [==============================] - 2s 26ms/step - loss: 0.1323 - accuracy: 0.9584 - val_loss: 0.1652 - val_accuracy: 0.9513\n",
      "Epoch 73/100\n",
      "72/72 [==============================] - 2s 26ms/step - loss: 0.1308 - accuracy: 0.9586 - val_loss: 0.1678 - val_accuracy: 0.9506\n",
      "Epoch 74/100\n",
      "72/72 [==============================] - 2s 26ms/step - loss: 0.1282 - accuracy: 0.9591 - val_loss: 0.1653 - val_accuracy: 0.9507\n",
      "Epoch 75/100\n",
      "72/72 [==============================] - 2s 26ms/step - loss: 0.1297 - accuracy: 0.9590 - val_loss: 0.1695 - val_accuracy: 0.9500\n",
      "Epoch 76/100\n",
      "72/72 [==============================] - 2s 26ms/step - loss: 0.1309 - accuracy: 0.9586 - val_loss: 0.1687 - val_accuracy: 0.9494\n",
      "Epoch 77/100\n",
      "72/72 [==============================] - 2s 27ms/step - loss: 0.1274 - accuracy: 0.9596 - val_loss: 0.1652 - val_accuracy: 0.9515\n",
      "Epoch 78/100\n",
      "72/72 [==============================] - 2s 26ms/step - loss: 0.1296 - accuracy: 0.9593 - val_loss: 0.1697 - val_accuracy: 0.9499\n",
      "Epoch 79/100\n",
      "72/72 [==============================] - 2s 26ms/step - loss: 0.1289 - accuracy: 0.9591 - val_loss: 0.1664 - val_accuracy: 0.9505\n",
      "Epoch 80/100\n",
      "72/72 [==============================] - 2s 26ms/step - loss: 0.1277 - accuracy: 0.9599 - val_loss: 0.1648 - val_accuracy: 0.9520\n",
      "Epoch 81/100\n",
      "72/72 [==============================] - 2s 26ms/step - loss: 0.1251 - accuracy: 0.9603 - val_loss: 0.1653 - val_accuracy: 0.9517\n",
      "Epoch 82/100\n",
      "72/72 [==============================] - 2s 26ms/step - loss: 0.1232 - accuracy: 0.9610 - val_loss: 0.1608 - val_accuracy: 0.9525\n",
      "Epoch 83/100\n",
      "72/72 [==============================] - 2s 26ms/step - loss: 0.1221 - accuracy: 0.9612 - val_loss: 0.1602 - val_accuracy: 0.9534\n",
      "Epoch 84/100\n",
      "72/72 [==============================] - 2s 26ms/step - loss: 0.1199 - accuracy: 0.9618 - val_loss: 0.1610 - val_accuracy: 0.9522\n",
      "Epoch 85/100\n",
      "72/72 [==============================] - 2s 26ms/step - loss: 0.1190 - accuracy: 0.9623 - val_loss: 0.1636 - val_accuracy: 0.9512\n",
      "Epoch 86/100\n",
      "72/72 [==============================] - 2s 26ms/step - loss: 0.1195 - accuracy: 0.9621 - val_loss: 0.1602 - val_accuracy: 0.9525\n",
      "Epoch 87/100\n",
      "72/72 [==============================] - 2s 26ms/step - loss: 0.1201 - accuracy: 0.9618 - val_loss: 0.1668 - val_accuracy: 0.9514\n",
      "Epoch 88/100\n",
      "72/72 [==============================] - 2s 26ms/step - loss: 0.1220 - accuracy: 0.9611 - val_loss: 0.1598 - val_accuracy: 0.9531\n",
      "Epoch 89/100\n",
      "72/72 [==============================] - 2s 26ms/step - loss: 0.1165 - accuracy: 0.9630 - val_loss: 0.1605 - val_accuracy: 0.9534\n",
      "Epoch 90/100\n",
      "72/72 [==============================] - 2s 27ms/step - loss: 0.1191 - accuracy: 0.9620 - val_loss: 0.1592 - val_accuracy: 0.9528\n",
      "Epoch 91/100\n",
      "72/72 [==============================] - 2s 27ms/step - loss: 0.1159 - accuracy: 0.9632 - val_loss: 0.1594 - val_accuracy: 0.9536\n",
      "Epoch 92/100\n",
      "72/72 [==============================] - 2s 27ms/step - loss: 0.1144 - accuracy: 0.9635 - val_loss: 0.1568 - val_accuracy: 0.9555\n",
      "Epoch 93/100\n",
      "72/72 [==============================] - 2s 26ms/step - loss: 0.1147 - accuracy: 0.9635 - val_loss: 0.1607 - val_accuracy: 0.9534\n",
      "Epoch 94/100\n",
      "72/72 [==============================] - 2s 27ms/step - loss: 0.1141 - accuracy: 0.9636 - val_loss: 0.1561 - val_accuracy: 0.9544\n",
      "Epoch 95/100\n",
      "72/72 [==============================] - 2s 27ms/step - loss: 0.1140 - accuracy: 0.9640 - val_loss: 0.1646 - val_accuracy: 0.9524\n",
      "Epoch 96/100\n",
      "72/72 [==============================] - 2s 27ms/step - loss: 0.1154 - accuracy: 0.9633 - val_loss: 0.1569 - val_accuracy: 0.9542\n",
      "Epoch 97/100\n",
      "72/72 [==============================] - 2s 27ms/step - loss: 0.1126 - accuracy: 0.9642 - val_loss: 0.1526 - val_accuracy: 0.9552\n",
      "Epoch 98/100\n",
      "72/72 [==============================] - 2s 26ms/step - loss: 0.1128 - accuracy: 0.9637 - val_loss: 0.1604 - val_accuracy: 0.9543\n",
      "Epoch 99/100\n",
      "72/72 [==============================] - 2s 27ms/step - loss: 0.1125 - accuracy: 0.9640 - val_loss: 0.1576 - val_accuracy: 0.9548\n",
      "Epoch 100/100\n",
      "72/72 [==============================] - 2s 27ms/step - loss: 0.1109 - accuracy: 0.9646 - val_loss: 0.1606 - val_accuracy: 0.9536\n"
     ]
    }
   ],
   "source": [
    "history = model.fit(X_train, y_train, batch_size=4056, epochs=100, validation_data = (X_test, y_test))"
   ]
  },
  {
   "cell_type": "markdown",
   "id": "ffed59b1",
   "metadata": {},
   "source": [
    "# 4.Evaluate Network"
   ]
  },
  {
   "cell_type": "markdown",
   "id": "28731190",
   "metadata": {},
   "source": [
    "## 4.1. Plotting Loss and Accuracy"
   ]
  },
  {
   "cell_type": "code",
   "execution_count": 24,
   "id": "971e6040",
   "metadata": {},
   "outputs": [
    {
     "data": {
      "text/plain": [
       "Text(0.5, 1.0, 'Loss Curve of Deep Neural Netowork')"
      ]
     },
     "execution_count": 24,
     "metadata": {},
     "output_type": "execute_result"
    },
    {
     "data": {
      "image/png": "[encoded data removed]",
      "text/plain": [
       "<Figure size 432x288 with 1 Axes>"
      ]
     },
     "metadata": {
      "needs_background": "light"
     },
     "output_type": "display_data"
    }
   ],
   "source": [
    "#Loss Curve\n",
    "\n",
    "\n",
    "plt.plot(figsize = [8,6])\n",
    "\n",
    "plt.plot(history.history['loss'],'r',linewidth = 3.0)\n",
    "plt.plot(history.history['val_loss'],'b',linewidth = 3.0)\n",
    "\n",
    "plt.legend(['Training Loss', 'Validation Loss'], fontsize = 18)\n",
    "\n",
    "plt.xlabel('Epochs', fontsize = 16)\n",
    "plt.ylabel('Loss', fontsize = 16)\n",
    "\n",
    "plt.title('Loss Curve of Deep Neural Netowork' , fontsize = 16 )\n",
    "\n"
   ]
  },
  {
   "cell_type": "code",
   "execution_count": 25,
   "id": "b0c193ec",
   "metadata": {},
   "outputs": [
    {
     "data": {
      "text/plain": [
       "Text(0.5, 1.0, 'Accuracy Curve of Deep Neural Netowork')"
      ]
     },
     "execution_count": 25,
     "metadata": {},
     "output_type": "execute_result"
    },
    {
     "data": {
      "image/png": "[encoded data removed]",
      "text/plain": [
       "<Figure size 432x288 with 1 Axes>"
      ]
     },
     "metadata": {
      "needs_background": "light"
     },
     "output_type": "display_data"
    }
   ],
   "source": [
    "#Accuracy Curve\n",
    "\n",
    "plt.plot(figsize = [8,6])\n",
    "plt.plot(history.history['accuracy'],'r',linewidth = 3.0)\n",
    "plt.plot(history.history['val_accuracy'],'b',linewidth = 3.0)\n",
    "\n",
    "plt.legend(['Training Accuracy', 'Validation Accuracy'], fontsize = 18)\n",
    "\n",
    "plt.xlabel('Epochs', fontsize = 16)\n",
    "plt.ylabel('Accuracy', fontsize = 16)\n",
    "\n",
    "\n",
    "plt.title('Accuracy Curve of Deep Neural Netowork' , fontsize = 16 )"
   ]
  },
  {
   "cell_type": "markdown",
   "id": "741a02aa",
   "metadata": {},
   "source": [
    "##  4.2 Make Predictions"
   ]
  },
  {
   "cell_type": "code",
   "execution_count": 26,
   "id": "e8465627",
   "metadata": {},
   "outputs": [],
   "source": [
    "predictions = model.predict(X_test)\n",
    "predictions = np.argmax(predictions, axis = 1)"
   ]
  },
  {
   "cell_type": "code",
   "execution_count": 27,
   "id": "3cac1a50",
   "metadata": {},
   "outputs": [
    {
     "data": {
      "text/plain": [
       "array([7, 6, 0, ..., 0, 0, 0], dtype=int64)"
      ]
     },
     "execution_count": 27,
     "metadata": {},
     "output_type": "execute_result"
    }
   ],
   "source": [
    "predictions"
   ]
  },
  {
   "cell_type": "markdown",
   "id": "70d666bb",
   "metadata": {},
   "source": [
    "#### Transforming from One Hot Encoding"
   ]
  },
  {
   "cell_type": "code",
   "execution_count": 28,
   "id": "7234b6e7",
   "metadata": {},
   "outputs": [
    {
     "data": {
      "text/plain": [
       "5"
      ]
     },
     "execution_count": 28,
     "metadata": {},
     "output_type": "execute_result"
    }
   ],
   "source": [
    "y_test =np.argmax(y_test, axis=1)\n",
    "y_test[1]"
   ]
  },
  {
   "cell_type": "code",
   "execution_count": 29,
   "id": "6278820d",
   "metadata": {},
   "outputs": [
    {
     "name": "stdout",
     "output_type": "stream",
     "text": [
      "Accuracy is: 95.35769583864293\n"
     ]
    }
   ],
   "source": [
    "from sklearn.metrics import accuracy_score\n",
    "accuracy = {accuracy_score(y_test, predictions)}\n",
    "print(f\"Accuracy is: {accuracy_score(y_test, predictions)* 100}\")"
   ]
  },
  {
   "cell_type": "markdown",
   "id": "eb044ea1",
   "metadata": {},
   "source": [
    "## 4.3 Classification Report"
   ]
  },
  {
   "cell_type": "code",
   "execution_count": 30,
   "id": "001ebc5a",
   "metadata": {},
   "outputs": [
    {
     "name": "stdout",
     "output_type": "stream",
     "text": [
      "\u001b[1mClassification report : \u001b[0m\n",
      "               precision    recall  f1-score   support\n",
      "\n",
      "           0       0.96      0.99      0.97     38104\n",
      "           1       0.96      0.94      0.95      2099\n",
      "           2       0.96      0.96      0.96      1914\n",
      "           3       0.95      0.92      0.94      2255\n",
      "           4       0.97      0.95      0.96      1818\n",
      "           5       0.94      0.97      0.96      1809\n",
      "           6       0.97      0.93      0.95      1892\n",
      "           7       0.96      0.90      0.93      1918\n",
      "           8       0.96      0.88      0.92      1790\n",
      "           9       0.90      0.84      0.87      2140\n",
      "          10       0.97      0.75      0.84      2007\n",
      "          11       0.95      0.91      0.93      1897\n",
      "          12       0.92      0.92      0.92      1891\n",
      "          13       0.96      0.97      0.96      1233\n",
      "          14       0.92      0.89      0.91      1292\n",
      "          15       0.97      0.90      0.93      1372\n",
      "          16       0.97      0.97      0.97      1510\n",
      "          17       0.94      0.96      0.95      1497\n",
      "          18       0.88      0.92      0.90       696\n",
      "          19       0.91      0.83      0.87       807\n",
      "          20       0.98      0.97      0.97       682\n",
      "          21       0.96      0.95      0.96       764\n",
      "          22       0.96      0.96      0.96       701\n",
      "          23       0.98      0.98      0.98       893\n",
      "\n",
      "    accuracy                           0.95     72981\n",
      "   macro avg       0.95      0.92      0.94     72981\n",
      "weighted avg       0.95      0.95      0.95     72981\n",
      "\n",
      "\u001b[1mConfusion Matrix : \u001b[0m\n"
     ]
    },
    {
     "data": {
      "image/png": "[encoded data removed]",
      "text/plain": [
       "<Figure size 432x288 with 2 Axes>"
      ]
     },
     "metadata": {
      "needs_background": "light"
     },
     "output_type": "display_data"
    }
   ],
   "source": [
    "from sklearn.metrics import confusion_matrix, f1_score, accuracy_score, classification_report\n",
    "print('\\033[1m' +'Classification report : '+ '\\033[0m\\n', classification_report(y_test, predictions))\n",
    "\n",
    "cm = confusion_matrix(predictions, y_test)\n",
    "print('\\033[1m' +'Confusion Matrix : '+ '\\033[0m')\n",
    "sns.heatmap(cm, cmap = 'OrRd',annot = True, fmt='d')\n",
    "plt.show()"
   ]
  },
  {
   "cell_type": "markdown",
   "id": "eaa5e512",
   "metadata": {},
   "source": [
    "## 4.4 Evaluation"
   ]
  },
  {
   "cell_type": "code",
   "execution_count": 31,
   "id": "9e469f86",
   "metadata": {},
   "outputs": [
    {
     "name": "stdout",
     "output_type": "stream",
     "text": [
      "MAE: 0.3722201668927529\n",
      "MSE: 4.210506844247133\n",
      "RMSE: 2.0519519595368534\n"
     ]
    }
   ],
   "source": [
    "from sklearn import metrics\n",
    "\n",
    "print('MAE:', metrics.mean_absolute_error(y_test,predictions))\n",
    "print('MSE:', metrics.mean_squared_error(y_test, predictions))\n",
    "print('RMSE:', np.sqrt(metrics.mean_squared_error(y_test, predictions)))"
   ]
  },
  {
   "cell_type": "code",
   "execution_count": 32,
   "id": "dff2a82d",
   "metadata": {},
   "outputs": [
    {
     "name": "stdout",
     "output_type": "stream",
     "text": [
      "Precision Score :  0.9535820800734504\n",
      "Recall Score :  0.9535769583864293\n",
      "f1_score :  0.9528528833694657\n"
     ]
    }
   ],
   "source": [
    "from sklearn.metrics import precision_score\n",
    "print(\"Precision Score : \",precision_score(y_test, predictions, average='weighted'))\n",
    "\n",
    "\n",
    "from sklearn.metrics import recall_score\n",
    "print(\"Recall Score : \",recall_score(y_test, predictions,average='weighted'))\n",
    "\n",
    "\n",
    "from sklearn.metrics import f1_score\n",
    "print(\"f1_score : \",f1_score(y_test, predictions,average='weighted'))"
   ]
  },
  {
   "cell_type": "code",
   "execution_count": null,
   "id": "81ac7468",
   "metadata": {},
   "outputs": [],
   "source": []
  },
  {
   "cell_type": "code",
   "execution_count": null,
   "id": "71a4c6e0",
   "metadata": {},
   "outputs": [],
   "source": []
  }
 ],
 "metadata": {
  "kernelspec": {
   "display_name": "Python 3 (ipykernel)",
   "language": "python",
   "name": "python3"
  },
  "language_info": {
   "codemirror_mode": {
    "name": "ipython",
    "version": 3
   },
   "file_extension": ".py",
   "mimetype": "text/x-python",
   "name": "python",
   "nbconvert_exporter": "python",
   "pygments_lexer": "ipython3",
   "version": "3.8.12"
  }
 },
 "nbformat": 4,
 "nbformat_minor": 5
}
