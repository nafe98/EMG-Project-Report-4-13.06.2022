{
 "cells": [
  {
   "cell_type": "markdown",
   "id": "bf8ee932",
   "metadata": {},
   "source": [
    "# Importing Libraries"
   ]
  },
  {
   "cell_type": "code",
   "execution_count": 1,
   "id": "0f663fa8",
   "metadata": {},
   "outputs": [],
   "source": [
    "import numpy as np\n",
    "import pandas as pd\n",
    "import matplotlib.pyplot as plt\n",
    "import seaborn as sns\n",
    "from sklearn.model_selection import train_test_split"
   ]
  },
  {
   "cell_type": "markdown",
   "id": "511af272",
   "metadata": {},
   "source": [
    "# Loading Data"
   ]
  },
  {
   "cell_type": "code",
   "execution_count": 2,
   "id": "04fd19b0",
   "metadata": {},
   "outputs": [
    {
     "data": {
      "text/html": [
       "<div>\n",
       "<style scoped>\n",
       "    .dataframe tbody tr th:only-of-type {\n",
       "        vertical-align: middle;\n",
       "    }\n",
       "\n",
       "    .dataframe tbody tr th {\n",
       "        vertical-align: top;\n",
       "    }\n",
       "\n",
       "    .dataframe thead th {\n",
       "        text-align: right;\n",
       "    }\n",
       "</style>\n",
       "<table border=\"1\" class=\"dataframe\">\n",
       "  <thead>\n",
       "    <tr style=\"text-align: right;\">\n",
       "      <th></th>\n",
       "      <th>Emg1</th>\n",
       "      <th>Emg2</th>\n",
       "      <th>Emg3</th>\n",
       "      <th>Emg4</th>\n",
       "      <th>Emg5</th>\n",
       "      <th>Emg6</th>\n",
       "      <th>Emg7</th>\n",
       "      <th>Emg8</th>\n",
       "      <th>Emg9</th>\n",
       "      <th>Emg10</th>\n",
       "      <th>repetition</th>\n",
       "      <th>rerepetition</th>\n",
       "      <th>stimulus</th>\n",
       "      <th>restimulus</th>\n",
       "    </tr>\n",
       "  </thead>\n",
       "  <tbody>\n",
       "    <tr>\n",
       "      <th>379713</th>\n",
       "      <td>0.1807</td>\n",
       "      <td>0.0024</td>\n",
       "      <td>0.0024</td>\n",
       "      <td>0.0024</td>\n",
       "      <td>0.0977</td>\n",
       "      <td>0.3540</td>\n",
       "      <td>0.4736</td>\n",
       "      <td>0.2246</td>\n",
       "      <td>0.0415</td>\n",
       "      <td>0.2466</td>\n",
       "      <td>3</td>\n",
       "      <td>3</td>\n",
       "      <td>15</td>\n",
       "      <td>15</td>\n",
       "    </tr>\n",
       "    <tr>\n",
       "      <th>409834</th>\n",
       "      <td>0.0391</td>\n",
       "      <td>0.0024</td>\n",
       "      <td>0.0024</td>\n",
       "      <td>0.0024</td>\n",
       "      <td>0.0391</td>\n",
       "      <td>0.1733</td>\n",
       "      <td>0.0293</td>\n",
       "      <td>0.0952</td>\n",
       "      <td>0.0488</td>\n",
       "      <td>0.0024</td>\n",
       "      <td>0</td>\n",
       "      <td>0</td>\n",
       "      <td>0</td>\n",
       "      <td>0</td>\n",
       "    </tr>\n",
       "    <tr>\n",
       "      <th>94558</th>\n",
       "      <td>0.4248</td>\n",
       "      <td>0.0806</td>\n",
       "      <td>0.0024</td>\n",
       "      <td>0.0391</td>\n",
       "      <td>0.0024</td>\n",
       "      <td>0.0220</td>\n",
       "      <td>0.1709</td>\n",
       "      <td>0.7422</td>\n",
       "      <td>0.0342</td>\n",
       "      <td>0.0977</td>\n",
       "      <td>2</td>\n",
       "      <td>2</td>\n",
       "      <td>12</td>\n",
       "      <td>12</td>\n",
       "    </tr>\n",
       "    <tr>\n",
       "      <th>419426</th>\n",
       "      <td>0.0049</td>\n",
       "      <td>0.0024</td>\n",
       "      <td>0.0024</td>\n",
       "      <td>0.0024</td>\n",
       "      <td>0.0073</td>\n",
       "      <td>0.0659</td>\n",
       "      <td>0.0024</td>\n",
       "      <td>0.0098</td>\n",
       "      <td>0.0537</td>\n",
       "      <td>0.0024</td>\n",
       "      <td>0</td>\n",
       "      <td>0</td>\n",
       "      <td>0</td>\n",
       "      <td>0</td>\n",
       "    </tr>\n",
       "    <tr>\n",
       "      <th>38393</th>\n",
       "      <td>0.0952</td>\n",
       "      <td>0.0024</td>\n",
       "      <td>0.0049</td>\n",
       "      <td>0.0488</td>\n",
       "      <td>0.0049</td>\n",
       "      <td>0.0586</td>\n",
       "      <td>0.4761</td>\n",
       "      <td>0.2295</td>\n",
       "      <td>0.0366</td>\n",
       "      <td>0.1611</td>\n",
       "      <td>6</td>\n",
       "      <td>0</td>\n",
       "      <td>5</td>\n",
       "      <td>0</td>\n",
       "    </tr>\n",
       "  </tbody>\n",
       "</table>\n",
       "</div>"
      ],
      "text/plain": [
       "          Emg1    Emg2    Emg3    Emg4    Emg5    Emg6    Emg7    Emg8  \\\n",
       "379713  0.1807  0.0024  0.0024  0.0024  0.0977  0.3540  0.4736  0.2246   \n",
       "409834  0.0391  0.0024  0.0024  0.0024  0.0391  0.1733  0.0293  0.0952   \n",
       "94558   0.4248  0.0806  0.0024  0.0391  0.0024  0.0220  0.1709  0.7422   \n",
       "419426  0.0049  0.0024  0.0024  0.0024  0.0073  0.0659  0.0024  0.0098   \n",
       "38393   0.0952  0.0024  0.0049  0.0488  0.0049  0.0586  0.4761  0.2295   \n",
       "\n",
       "          Emg9   Emg10  repetition  rerepetition  stimulus  restimulus  \n",
       "379713  0.0415  0.2466           3             3        15          15  \n",
       "409834  0.0488  0.0024           0             0         0           0  \n",
       "94558   0.0342  0.0977           2             2        12          12  \n",
       "419426  0.0537  0.0024           0             0         0           0  \n",
       "38393   0.0366  0.1611           6             0         5           0  "
      ]
     },
     "execution_count": 2,
     "metadata": {},
     "output_type": "execute_result"
    }
   ],
   "source": [
    "raw_data = pd.read_excel('Dataset 1 Patient 22.xlsx')\n",
    "raw_data.sample(5)"
   ]
  },
  {
   "cell_type": "code",
   "execution_count": 3,
   "id": "80369ddb",
   "metadata": {},
   "outputs": [
    {
     "name": "stdout",
     "output_type": "stream",
     "text": [
      "<class 'pandas.core.frame.DataFrame'>\n",
      "RangeIndex: 468122 entries, 0 to 468121\n",
      "Data columns (total 14 columns):\n",
      " #   Column        Non-Null Count   Dtype  \n",
      "---  ------        --------------   -----  \n",
      " 0   Emg1          468122 non-null  float64\n",
      " 1   Emg2          468122 non-null  float64\n",
      " 2   Emg3          468122 non-null  float64\n",
      " 3   Emg4          468122 non-null  float64\n",
      " 4   Emg5          468122 non-null  float64\n",
      " 5   Emg6          468122 non-null  float64\n",
      " 6   Emg7          468122 non-null  float64\n",
      " 7   Emg8          468122 non-null  float64\n",
      " 8   Emg9          468122 non-null  float64\n",
      " 9   Emg10         468122 non-null  float64\n",
      " 10  repetition    468122 non-null  int64  \n",
      " 11  rerepetition  468122 non-null  int64  \n",
      " 12  stimulus      468122 non-null  int64  \n",
      " 13  restimulus    468122 non-null  int64  \n",
      "dtypes: float64(10), int64(4)\n",
      "memory usage: 50.0 MB\n"
     ]
    }
   ],
   "source": [
    "raw_data.info()"
   ]
  },
  {
   "cell_type": "code",
   "execution_count": 4,
   "id": "109445f8",
   "metadata": {},
   "outputs": [
    {
     "data": {
      "text/html": [
       "<div>\n",
       "<style scoped>\n",
       "    .dataframe tbody tr th:only-of-type {\n",
       "        vertical-align: middle;\n",
       "    }\n",
       "\n",
       "    .dataframe tbody tr th {\n",
       "        vertical-align: top;\n",
       "    }\n",
       "\n",
       "    .dataframe thead th {\n",
       "        text-align: right;\n",
       "    }\n",
       "</style>\n",
       "<table border=\"1\" class=\"dataframe\">\n",
       "  <thead>\n",
       "    <tr style=\"text-align: right;\">\n",
       "      <th></th>\n",
       "      <th>Emg1</th>\n",
       "      <th>Emg2</th>\n",
       "      <th>Emg3</th>\n",
       "      <th>Emg4</th>\n",
       "      <th>Emg5</th>\n",
       "      <th>Emg6</th>\n",
       "      <th>Emg7</th>\n",
       "      <th>Emg8</th>\n",
       "      <th>Emg9</th>\n",
       "      <th>Emg10</th>\n",
       "      <th>repetition</th>\n",
       "      <th>rerepetition</th>\n",
       "      <th>stimulus</th>\n",
       "      <th>restimulus</th>\n",
       "    </tr>\n",
       "  </thead>\n",
       "  <tbody>\n",
       "    <tr>\n",
       "      <th>count</th>\n",
       "      <td>468122.000000</td>\n",
       "      <td>468122.000000</td>\n",
       "      <td>468122.000000</td>\n",
       "      <td>468122.000000</td>\n",
       "      <td>468122.000000</td>\n",
       "      <td>468122.000000</td>\n",
       "      <td>468122.000000</td>\n",
       "      <td>468122.000000</td>\n",
       "      <td>468122.000000</td>\n",
       "      <td>468122.000000</td>\n",
       "      <td>468122.000000</td>\n",
       "      <td>468122.000000</td>\n",
       "      <td>468122.000000</td>\n",
       "      <td>468122.000000</td>\n",
       "    </tr>\n",
       "    <tr>\n",
       "      <th>mean</th>\n",
       "      <td>0.147829</td>\n",
       "      <td>0.045038</td>\n",
       "      <td>0.046509</td>\n",
       "      <td>0.059677</td>\n",
       "      <td>0.041971</td>\n",
       "      <td>0.163647</td>\n",
       "      <td>0.318662</td>\n",
       "      <td>0.251931</td>\n",
       "      <td>0.069318</td>\n",
       "      <td>0.165755</td>\n",
       "      <td>3.171002</td>\n",
       "      <td>2.399259</td>\n",
       "      <td>5.617892</td>\n",
       "      <td>4.282864</td>\n",
       "    </tr>\n",
       "    <tr>\n",
       "      <th>std</th>\n",
       "      <td>0.224640</td>\n",
       "      <td>0.098812</td>\n",
       "      <td>0.115883</td>\n",
       "      <td>0.142531</td>\n",
       "      <td>0.087394</td>\n",
       "      <td>0.293843</td>\n",
       "      <td>0.445182</td>\n",
       "      <td>0.342322</td>\n",
       "      <td>0.102326</td>\n",
       "      <td>0.235296</td>\n",
       "      <td>3.484690</td>\n",
       "      <td>3.321378</td>\n",
       "      <td>6.579863</td>\n",
       "      <td>6.277879</td>\n",
       "    </tr>\n",
       "    <tr>\n",
       "      <th>min</th>\n",
       "      <td>0.000000</td>\n",
       "      <td>0.000000</td>\n",
       "      <td>0.002400</td>\n",
       "      <td>0.000000</td>\n",
       "      <td>0.002400</td>\n",
       "      <td>0.000000</td>\n",
       "      <td>0.000000</td>\n",
       "      <td>0.000000</td>\n",
       "      <td>0.000000</td>\n",
       "      <td>0.000000</td>\n",
       "      <td>0.000000</td>\n",
       "      <td>0.000000</td>\n",
       "      <td>0.000000</td>\n",
       "      <td>0.000000</td>\n",
       "    </tr>\n",
       "    <tr>\n",
       "      <th>25%</th>\n",
       "      <td>0.009800</td>\n",
       "      <td>0.002400</td>\n",
       "      <td>0.002400</td>\n",
       "      <td>0.002400</td>\n",
       "      <td>0.002400</td>\n",
       "      <td>0.039100</td>\n",
       "      <td>0.024400</td>\n",
       "      <td>0.024400</td>\n",
       "      <td>0.024400</td>\n",
       "      <td>0.004900</td>\n",
       "      <td>0.000000</td>\n",
       "      <td>0.000000</td>\n",
       "      <td>0.000000</td>\n",
       "      <td>0.000000</td>\n",
       "    </tr>\n",
       "    <tr>\n",
       "      <th>50%</th>\n",
       "      <td>0.068400</td>\n",
       "      <td>0.002400</td>\n",
       "      <td>0.002400</td>\n",
       "      <td>0.002400</td>\n",
       "      <td>0.009800</td>\n",
       "      <td>0.095200</td>\n",
       "      <td>0.146500</td>\n",
       "      <td>0.114700</td>\n",
       "      <td>0.043900</td>\n",
       "      <td>0.075700</td>\n",
       "      <td>2.000000</td>\n",
       "      <td>0.000000</td>\n",
       "      <td>3.000000</td>\n",
       "      <td>0.000000</td>\n",
       "    </tr>\n",
       "    <tr>\n",
       "      <th>75%</th>\n",
       "      <td>0.192900</td>\n",
       "      <td>0.034200</td>\n",
       "      <td>0.034200</td>\n",
       "      <td>0.051300</td>\n",
       "      <td>0.043900</td>\n",
       "      <td>0.173300</td>\n",
       "      <td>0.434600</td>\n",
       "      <td>0.349100</td>\n",
       "      <td>0.073200</td>\n",
       "      <td>0.236800</td>\n",
       "      <td>6.000000</td>\n",
       "      <td>5.000000</td>\n",
       "      <td>10.000000</td>\n",
       "      <td>8.000000</td>\n",
       "    </tr>\n",
       "    <tr>\n",
       "      <th>max</th>\n",
       "      <td>3.286100</td>\n",
       "      <td>1.491700</td>\n",
       "      <td>2.517100</td>\n",
       "      <td>2.272900</td>\n",
       "      <td>1.001000</td>\n",
       "      <td>4.221200</td>\n",
       "      <td>4.660600</td>\n",
       "      <td>4.663100</td>\n",
       "      <td>2.624500</td>\n",
       "      <td>2.893100</td>\n",
       "      <td>10.000000</td>\n",
       "      <td>10.000000</td>\n",
       "      <td>23.000000</td>\n",
       "      <td>23.000000</td>\n",
       "    </tr>\n",
       "  </tbody>\n",
       "</table>\n",
       "</div>"
      ],
      "text/plain": [
       "                Emg1           Emg2           Emg3           Emg4  \\\n",
       "count  468122.000000  468122.000000  468122.000000  468122.000000   \n",
       "mean        0.147829       0.045038       0.046509       0.059677   \n",
       "std         0.224640       0.098812       0.115883       0.142531   \n",
       "min         0.000000       0.000000       0.002400       0.000000   \n",
       "25%         0.009800       0.002400       0.002400       0.002400   \n",
       "50%         0.068400       0.002400       0.002400       0.002400   \n",
       "75%         0.192900       0.034200       0.034200       0.051300   \n",
       "max         3.286100       1.491700       2.517100       2.272900   \n",
       "\n",
       "                Emg5           Emg6           Emg7           Emg8  \\\n",
       "count  468122.000000  468122.000000  468122.000000  468122.000000   \n",
       "mean        0.041971       0.163647       0.318662       0.251931   \n",
       "std         0.087394       0.293843       0.445182       0.342322   \n",
       "min         0.002400       0.000000       0.000000       0.000000   \n",
       "25%         0.002400       0.039100       0.024400       0.024400   \n",
       "50%         0.009800       0.095200       0.146500       0.114700   \n",
       "75%         0.043900       0.173300       0.434600       0.349100   \n",
       "max         1.001000       4.221200       4.660600       4.663100   \n",
       "\n",
       "                Emg9          Emg10     repetition   rerepetition  \\\n",
       "count  468122.000000  468122.000000  468122.000000  468122.000000   \n",
       "mean        0.069318       0.165755       3.171002       2.399259   \n",
       "std         0.102326       0.235296       3.484690       3.321378   \n",
       "min         0.000000       0.000000       0.000000       0.000000   \n",
       "25%         0.024400       0.004900       0.000000       0.000000   \n",
       "50%         0.043900       0.075700       2.000000       0.000000   \n",
       "75%         0.073200       0.236800       6.000000       5.000000   \n",
       "max         2.624500       2.893100      10.000000      10.000000   \n",
       "\n",
       "            stimulus     restimulus  \n",
       "count  468122.000000  468122.000000  \n",
       "mean        5.617892       4.282864  \n",
       "std         6.579863       6.277879  \n",
       "min         0.000000       0.000000  \n",
       "25%         0.000000       0.000000  \n",
       "50%         3.000000       0.000000  \n",
       "75%        10.000000       8.000000  \n",
       "max        23.000000      23.000000  "
      ]
     },
     "execution_count": 4,
     "metadata": {},
     "output_type": "execute_result"
    }
   ],
   "source": [
    "raw_data.describe(include='all')"
   ]
  },
  {
   "cell_type": "code",
   "execution_count": 5,
   "id": "f0b9a2e6",
   "metadata": {},
   "outputs": [
    {
     "name": "stdout",
     "output_type": "stream",
     "text": [
      "Unique Dependent values and their counts :\n",
      "0     198261\n",
      "4      15624\n",
      "8      15624\n",
      "2      15612\n",
      "12     15604\n",
      "7      15602\n",
      "6      15583\n",
      "9      15570\n",
      "11     15567\n",
      "5      15565\n",
      "3      15537\n",
      "1      15528\n",
      "10     15527\n",
      "13     10388\n",
      "17     10384\n",
      "14     10378\n",
      "15     10346\n",
      "16     10331\n",
      "18      5201\n",
      "19      5200\n",
      "21      5198\n",
      "22      5170\n",
      "20      5162\n",
      "23      5160\n",
      "Name: stimulus, dtype: int64\n"
     ]
    }
   ],
   "source": [
    "print(\"Unique Dependent values and their counts :\")\n",
    "print(raw_data[\"stimulus\"].value_counts())"
   ]
  },
  {
   "cell_type": "markdown",
   "id": "54420ec4",
   "metadata": {},
   "source": [
    "# Data Cleaning"
   ]
  },
  {
   "cell_type": "code",
   "execution_count": 6,
   "id": "a811198b",
   "metadata": {},
   "outputs": [],
   "source": [
    "index_names = raw_data[ (raw_data['stimulus'] != raw_data['restimulus'])].index\n",
    "raw_data.drop(index_names, inplace = True)"
   ]
  },
  {
   "cell_type": "code",
   "execution_count": 7,
   "id": "556cd92f",
   "metadata": {},
   "outputs": [],
   "source": [
    "index_names = raw_data[ (raw_data['repetition'] != raw_data['rerepetition'])].index\n",
    "raw_data.drop(index_names, inplace = True)"
   ]
  },
  {
   "cell_type": "code",
   "execution_count": 8,
   "id": "c91744f7",
   "metadata": {},
   "outputs": [],
   "source": [
    "X = raw_data.iloc[:,0:10]\n",
    "y = raw_data.stimulus"
   ]
  },
  {
   "cell_type": "markdown",
   "id": "152f7160",
   "metadata": {},
   "source": [
    "# One Hot Encoding"
   ]
  },
  {
   "cell_type": "code",
   "execution_count": 9,
   "id": "dfb77d24",
   "metadata": {},
   "outputs": [],
   "source": [
    "num_classes = 24"
   ]
  },
  {
   "cell_type": "code",
   "execution_count": 10,
   "id": "be64bf6b",
   "metadata": {},
   "outputs": [],
   "source": [
    "# One hot encoding for categorical labels\n",
    "import keras\n",
    "from keras import utils as np_utils\n",
    "y = keras.utils.np_utils.to_categorical(y, num_classes)"
   ]
  },
  {
   "cell_type": "code",
   "execution_count": 11,
   "id": "c7358f86",
   "metadata": {},
   "outputs": [],
   "source": [
    "input_dim = X.shape[1]"
   ]
  },
  {
   "cell_type": "markdown",
   "id": "cb3088a1",
   "metadata": {},
   "source": [
    "# Standard Scaler"
   ]
  },
  {
   "cell_type": "code",
   "execution_count": 12,
   "id": "5bd820f4",
   "metadata": {},
   "outputs": [],
   "source": [
    "from sklearn.preprocessing import StandardScaler\n",
    "standardscaler=StandardScaler()"
   ]
  },
  {
   "cell_type": "code",
   "execution_count": 13,
   "id": "6a118694",
   "metadata": {},
   "outputs": [],
   "source": [
    "sc = pd.DataFrame(standardscaler.fit_transform(X))"
   ]
  },
  {
   "cell_type": "code",
   "execution_count": 14,
   "id": "d6e2f38b",
   "metadata": {},
   "outputs": [
    {
     "data": {
      "text/html": [
       "<div>\n",
       "<style scoped>\n",
       "    .dataframe tbody tr th:only-of-type {\n",
       "        vertical-align: middle;\n",
       "    }\n",
       "\n",
       "    .dataframe tbody tr th {\n",
       "        vertical-align: top;\n",
       "    }\n",
       "\n",
       "    .dataframe thead th {\n",
       "        text-align: right;\n",
       "    }\n",
       "</style>\n",
       "<table border=\"1\" class=\"dataframe\">\n",
       "  <thead>\n",
       "    <tr style=\"text-align: right;\">\n",
       "      <th></th>\n",
       "      <th>0</th>\n",
       "      <th>1</th>\n",
       "      <th>2</th>\n",
       "      <th>3</th>\n",
       "      <th>4</th>\n",
       "      <th>5</th>\n",
       "      <th>6</th>\n",
       "      <th>7</th>\n",
       "      <th>8</th>\n",
       "      <th>9</th>\n",
       "    </tr>\n",
       "  </thead>\n",
       "  <tbody>\n",
       "    <tr>\n",
       "      <th>0</th>\n",
       "      <td>-0.683254</td>\n",
       "      <td>-0.474227</td>\n",
       "      <td>-0.418454</td>\n",
       "      <td>-0.439878</td>\n",
       "      <td>-0.475172</td>\n",
       "      <td>-0.278918</td>\n",
       "      <td>-0.748031</td>\n",
       "      <td>-0.769433</td>\n",
       "      <td>0.294295</td>\n",
       "      <td>-0.732813</td>\n",
       "    </tr>\n",
       "    <tr>\n",
       "      <th>1</th>\n",
       "      <td>-0.683254</td>\n",
       "      <td>-0.474227</td>\n",
       "      <td>-0.418454</td>\n",
       "      <td>-0.439878</td>\n",
       "      <td>-0.475172</td>\n",
       "      <td>-0.309487</td>\n",
       "      <td>-0.748031</td>\n",
       "      <td>-0.769433</td>\n",
       "      <td>0.249707</td>\n",
       "      <td>-0.732813</td>\n",
       "    </tr>\n",
       "    <tr>\n",
       "      <th>2</th>\n",
       "      <td>-0.683254</td>\n",
       "      <td>-0.474227</td>\n",
       "      <td>-0.418454</td>\n",
       "      <td>-0.439878</td>\n",
       "      <td>-0.475172</td>\n",
       "      <td>-0.324929</td>\n",
       "      <td>-0.748031</td>\n",
       "      <td>-0.769433</td>\n",
       "      <td>0.206028</td>\n",
       "      <td>-0.732813</td>\n",
       "    </tr>\n",
       "    <tr>\n",
       "      <th>3</th>\n",
       "      <td>-0.672821</td>\n",
       "      <td>-0.474227</td>\n",
       "      <td>-0.418454</td>\n",
       "      <td>-0.439878</td>\n",
       "      <td>-0.475172</td>\n",
       "      <td>-0.301924</td>\n",
       "      <td>-0.748031</td>\n",
       "      <td>-0.769433</td>\n",
       "      <td>0.183279</td>\n",
       "      <td>-0.732813</td>\n",
       "    </tr>\n",
       "    <tr>\n",
       "      <th>4</th>\n",
       "      <td>-0.683254</td>\n",
       "      <td>-0.474227</td>\n",
       "      <td>-0.418454</td>\n",
       "      <td>-0.439878</td>\n",
       "      <td>-0.475172</td>\n",
       "      <td>-0.278918</td>\n",
       "      <td>-0.748031</td>\n",
       "      <td>-0.769433</td>\n",
       "      <td>0.183279</td>\n",
       "      <td>-0.732813</td>\n",
       "    </tr>\n",
       "    <tr>\n",
       "      <th>...</th>\n",
       "      <td>...</td>\n",
       "      <td>...</td>\n",
       "      <td>...</td>\n",
       "      <td>...</td>\n",
       "      <td>...</td>\n",
       "      <td>...</td>\n",
       "      <td>...</td>\n",
       "      <td>...</td>\n",
       "      <td>...</td>\n",
       "      <td>...</td>\n",
       "    </tr>\n",
       "    <tr>\n",
       "      <th>391179</th>\n",
       "      <td>-0.683254</td>\n",
       "      <td>-0.474227</td>\n",
       "      <td>-0.418454</td>\n",
       "      <td>-0.439878</td>\n",
       "      <td>-0.475172</td>\n",
       "      <td>-0.525042</td>\n",
       "      <td>-0.748031</td>\n",
       "      <td>-0.762550</td>\n",
       "      <td>-0.171609</td>\n",
       "      <td>-0.732813</td>\n",
       "    </tr>\n",
       "    <tr>\n",
       "      <th>391180</th>\n",
       "      <td>-0.683254</td>\n",
       "      <td>-0.496845</td>\n",
       "      <td>-0.418454</td>\n",
       "      <td>-0.439878</td>\n",
       "      <td>-0.475172</td>\n",
       "      <td>-0.509600</td>\n",
       "      <td>-0.748031</td>\n",
       "      <td>-0.755943</td>\n",
       "      <td>-0.149770</td>\n",
       "      <td>-0.732813</td>\n",
       "    </tr>\n",
       "    <tr>\n",
       "      <th>391181</th>\n",
       "      <td>-0.683254</td>\n",
       "      <td>-0.474227</td>\n",
       "      <td>-0.418454</td>\n",
       "      <td>-0.439878</td>\n",
       "      <td>-0.475172</td>\n",
       "      <td>-0.509600</td>\n",
       "      <td>-0.748031</td>\n",
       "      <td>-0.755943</td>\n",
       "      <td>-0.105181</td>\n",
       "      <td>-0.732813</td>\n",
       "    </tr>\n",
       "    <tr>\n",
       "      <th>391182</th>\n",
       "      <td>-0.683254</td>\n",
       "      <td>-0.474227</td>\n",
       "      <td>-0.418454</td>\n",
       "      <td>-0.439878</td>\n",
       "      <td>-0.475172</td>\n",
       "      <td>-0.517478</td>\n",
       "      <td>-0.748031</td>\n",
       "      <td>-0.755943</td>\n",
       "      <td>-0.083342</td>\n",
       "      <td>-0.732813</td>\n",
       "    </tr>\n",
       "    <tr>\n",
       "      <th>391183</th>\n",
       "      <td>-0.683254</td>\n",
       "      <td>-0.474227</td>\n",
       "      <td>-0.418454</td>\n",
       "      <td>-0.439878</td>\n",
       "      <td>-0.475172</td>\n",
       "      <td>-0.509600</td>\n",
       "      <td>-0.748031</td>\n",
       "      <td>-0.749061</td>\n",
       "      <td>-0.083342</td>\n",
       "      <td>-0.732813</td>\n",
       "    </tr>\n",
       "  </tbody>\n",
       "</table>\n",
       "<p>391184 rows × 10 columns</p>\n",
       "</div>"
      ],
      "text/plain": [
       "               0         1         2         3         4         5         6  \\\n",
       "0      -0.683254 -0.474227 -0.418454 -0.439878 -0.475172 -0.278918 -0.748031   \n",
       "1      -0.683254 -0.474227 -0.418454 -0.439878 -0.475172 -0.309487 -0.748031   \n",
       "2      -0.683254 -0.474227 -0.418454 -0.439878 -0.475172 -0.324929 -0.748031   \n",
       "3      -0.672821 -0.474227 -0.418454 -0.439878 -0.475172 -0.301924 -0.748031   \n",
       "4      -0.683254 -0.474227 -0.418454 -0.439878 -0.475172 -0.278918 -0.748031   \n",
       "...          ...       ...       ...       ...       ...       ...       ...   \n",
       "391179 -0.683254 -0.474227 -0.418454 -0.439878 -0.475172 -0.525042 -0.748031   \n",
       "391180 -0.683254 -0.496845 -0.418454 -0.439878 -0.475172 -0.509600 -0.748031   \n",
       "391181 -0.683254 -0.474227 -0.418454 -0.439878 -0.475172 -0.509600 -0.748031   \n",
       "391182 -0.683254 -0.474227 -0.418454 -0.439878 -0.475172 -0.517478 -0.748031   \n",
       "391183 -0.683254 -0.474227 -0.418454 -0.439878 -0.475172 -0.509600 -0.748031   \n",
       "\n",
       "               7         8         9  \n",
       "0      -0.769433  0.294295 -0.732813  \n",
       "1      -0.769433  0.249707 -0.732813  \n",
       "2      -0.769433  0.206028 -0.732813  \n",
       "3      -0.769433  0.183279 -0.732813  \n",
       "4      -0.769433  0.183279 -0.732813  \n",
       "...          ...       ...       ...  \n",
       "391179 -0.762550 -0.171609 -0.732813  \n",
       "391180 -0.755943 -0.149770 -0.732813  \n",
       "391181 -0.755943 -0.105181 -0.732813  \n",
       "391182 -0.755943 -0.083342 -0.732813  \n",
       "391183 -0.749061 -0.083342 -0.732813  \n",
       "\n",
       "[391184 rows x 10 columns]"
      ]
     },
     "execution_count": 14,
     "metadata": {},
     "output_type": "execute_result"
    }
   ],
   "source": [
    "sc"
   ]
  },
  {
   "cell_type": "code",
   "execution_count": 15,
   "id": "65cfb75d",
   "metadata": {},
   "outputs": [],
   "source": [
    "# Splitting data for training and testing\n",
    "X_train, X_test, y_train, y_test = train_test_split(sc, y, test_size = 0.2, random_state = 39)"
   ]
  },
  {
   "cell_type": "markdown",
   "id": "3ba47781",
   "metadata": {},
   "source": [
    "# Deep Learning "
   ]
  },
  {
   "cell_type": "code",
   "execution_count": 16,
   "id": "d426e2e1",
   "metadata": {},
   "outputs": [],
   "source": [
    "from sklearn.preprocessing import MinMaxScaler\n",
    "from tensorflow.keras.models import Model\n",
    "from tensorflow.keras.layers import Input\n",
    "from tensorflow.keras.layers import Dense\n",
    "from tensorflow.keras.layers import LeakyReLU,ELU\n",
    "from tensorflow.keras.layers import BatchNormalization\n",
    "from tensorflow.keras.utils import plot_model\n",
    "import tensorflow as tf\n",
    "from sklearn.model_selection import cross_val_score\n",
    "from keras.models import Sequential\n",
    "from keras.layers import Dense, BatchNormalization, Dropout\n",
    "from tensorflow.keras.optimizers import Adam, SGD, RMSprop, Adadelta, Adagrad, Adamax, Nadam, Ftrl\n",
    "from keras.callbacks import EarlyStopping, ModelCheckpoint\n",
    "from keras.wrappers.scikit_learn import KerasClassifier\n",
    "from sklearn.metrics import make_scorer, accuracy_score\n",
    "from sklearn.model_selection import StratifiedKFold"
   ]
  },
  {
   "cell_type": "code",
   "execution_count": 17,
   "id": "cd0ef208",
   "metadata": {},
   "outputs": [],
   "source": [
    "from keras.layers import LeakyReLU\n",
    "LeakyReLU = LeakyReLU(alpha=0.1)\n",
    "from keras.models import Sequential\n",
    "from keras.layers import Dense, Flatten, Convolution1D, Dropout\n",
    "from keras.initializers import random_uniform"
   ]
  },
  {
   "cell_type": "markdown",
   "id": "f97d61bc",
   "metadata": {},
   "source": [
    "# 1. Define Network"
   ]
  },
  {
   "cell_type": "code",
   "execution_count": 18,
   "id": "bd77bf81",
   "metadata": {},
   "outputs": [],
   "source": [
    "num_classes = 24\n",
    "input_dim = X.shape[1]"
   ]
  },
  {
   "cell_type": "code",
   "execution_count": 19,
   "id": "fbdce465",
   "metadata": {},
   "outputs": [],
   "source": [
    "visible = Input(shape=(input_dim,))\n",
    "hidden1 = Dense(3000, activation='relu')(visible)\n",
    "hidden2 = Dense(1500, activation='relu')(hidden1)\n",
    "hidden3 = Dropout(0.2)(hidden2)\n",
    "hidden4 = Dense(750, activation='relu')(hidden3)\n",
    "hidden5 = Dense(375, activation='relu')(hidden4)\n",
    "hidden6 = Dense(48, activation='relu')(hidden5)\n",
    "output = Dense(num_classes, activation='softmax')(hidden6)\n",
    "model = Model(inputs=visible, outputs=output)"
   ]
  },
  {
   "cell_type": "code",
   "execution_count": 20,
   "id": "1dd33478",
   "metadata": {},
   "outputs": [
    {
     "name": "stdout",
     "output_type": "stream",
     "text": [
      "Model: \"model\"\n",
      "_________________________________________________________________\n",
      " Layer (type)                Output Shape              Param #   \n",
      "=================================================================\n",
      " input_1 (InputLayer)        [(None, 10)]              0         \n",
      "                                                                 \n",
      " dense (Dense)               (None, 3000)              33000     \n",
      "                                                                 \n",
      " dense_1 (Dense)             (None, 1500)              4501500   \n",
      "                                                                 \n",
      " dropout (Dropout)           (None, 1500)              0         \n",
      "                                                                 \n",
      " dense_2 (Dense)             (None, 750)               1125750   \n",
      "                                                                 \n",
      " dense_3 (Dense)             (None, 375)               281625    \n",
      "                                                                 \n",
      " dense_4 (Dense)             (None, 48)                18048     \n",
      "                                                                 \n",
      " dense_5 (Dense)             (None, 24)                1176      \n",
      "                                                                 \n",
      "=================================================================\n",
      "Total params: 5,961,099\n",
      "Trainable params: 5,961,099\n",
      "Non-trainable params: 0\n",
      "_________________________________________________________________\n"
     ]
    }
   ],
   "source": [
    "model.summary()"
   ]
  },
  {
   "cell_type": "markdown",
   "id": "3196ac97",
   "metadata": {},
   "source": [
    "# 2. Compile Network"
   ]
  },
  {
   "cell_type": "code",
   "execution_count": 21,
   "id": "7a2d558b",
   "metadata": {},
   "outputs": [],
   "source": [
    "model.compile(optimizer='adam', loss='categorical_crossentropy', metrics=['accuracy'])"
   ]
  },
  {
   "cell_type": "code",
   "execution_count": 22,
   "id": "c1d2b36d",
   "metadata": {},
   "outputs": [
    {
     "name": "stdout",
     "output_type": "stream",
     "text": [
      "You must install pydot (`pip install pydot`) and install graphviz (see instructions at https://graphviz.gitlab.io/download/) for plot_model/model_to_dot to work.\n"
     ]
    }
   ],
   "source": [
    "plot_model(model, 'EMG_ANN', show_shapes = True)"
   ]
  },
  {
   "cell_type": "markdown",
   "id": "3358b592",
   "metadata": {},
   "source": [
    "# 3. Fit Network"
   ]
  },
  {
   "cell_type": "code",
   "execution_count": 23,
   "id": "e0ed4ddd",
   "metadata": {},
   "outputs": [
    {
     "name": "stdout",
     "output_type": "stream",
     "text": [
      "Epoch 1/100\n",
      "78/78 [==============================] - 3s 29ms/step - loss: 1.3105 - accuracy: 0.6478 - val_loss: 0.8957 - val_accuracy: 0.7523\n",
      "Epoch 2/100\n",
      "78/78 [==============================] - 2s 26ms/step - loss: 0.7840 - accuracy: 0.7759 - val_loss: 0.6885 - val_accuracy: 0.7990\n",
      "Epoch 3/100\n",
      "78/78 [==============================] - 2s 26ms/step - loss: 0.6496 - accuracy: 0.8092 - val_loss: 0.5977 - val_accuracy: 0.8222\n",
      "Epoch 4/100\n",
      "78/78 [==============================] - 2s 27ms/step - loss: 0.5801 - accuracy: 0.8262 - val_loss: 0.5475 - val_accuracy: 0.8371\n",
      "Epoch 5/100\n",
      "78/78 [==============================] - 2s 25ms/step - loss: 0.5332 - accuracy: 0.8398 - val_loss: 0.5213 - val_accuracy: 0.8408\n",
      "Epoch 6/100\n",
      "78/78 [==============================] - 2s 26ms/step - loss: 0.4950 - accuracy: 0.8492 - val_loss: 0.4691 - val_accuracy: 0.8560\n",
      "Epoch 7/100\n",
      "78/78 [==============================] - 2s 26ms/step - loss: 0.4646 - accuracy: 0.8579 - val_loss: 0.4401 - val_accuracy: 0.8650\n",
      "Epoch 8/100\n",
      "78/78 [==============================] - 2s 25ms/step - loss: 0.4398 - accuracy: 0.8646 - val_loss: 0.4382 - val_accuracy: 0.8667\n",
      "Epoch 9/100\n",
      "78/78 [==============================] - 2s 26ms/step - loss: 0.4203 - accuracy: 0.8703 - val_loss: 0.4059 - val_accuracy: 0.8732\n",
      "Epoch 10/100\n",
      "78/78 [==============================] - 2s 25ms/step - loss: 0.3993 - accuracy: 0.8759 - val_loss: 0.3860 - val_accuracy: 0.8818\n",
      "Epoch 11/100\n",
      "78/78 [==============================] - 2s 26ms/step - loss: 0.3855 - accuracy: 0.8793 - val_loss: 0.3836 - val_accuracy: 0.8802\n",
      "Epoch 12/100\n",
      "78/78 [==============================] - 2s 26ms/step - loss: 0.3720 - accuracy: 0.8835 - val_loss: 0.3696 - val_accuracy: 0.8834\n",
      "Epoch 13/100\n",
      "78/78 [==============================] - 2s 25ms/step - loss: 0.3589 - accuracy: 0.8872 - val_loss: 0.3611 - val_accuracy: 0.8855\n",
      "Epoch 14/100\n",
      "78/78 [==============================] - 2s 26ms/step - loss: 0.3466 - accuracy: 0.8902 - val_loss: 0.3488 - val_accuracy: 0.8913\n",
      "Epoch 15/100\n",
      "78/78 [==============================] - 2s 26ms/step - loss: 0.3341 - accuracy: 0.8941 - val_loss: 0.3372 - val_accuracy: 0.8924\n",
      "Epoch 16/100\n",
      "78/78 [==============================] - 2s 25ms/step - loss: 0.3237 - accuracy: 0.8973 - val_loss: 0.3207 - val_accuracy: 0.8984\n",
      "Epoch 17/100\n",
      "78/78 [==============================] - 2s 26ms/step - loss: 0.3192 - accuracy: 0.8979 - val_loss: 0.3310 - val_accuracy: 0.8942\n",
      "Epoch 18/100\n",
      "78/78 [==============================] - 2s 26ms/step - loss: 0.3081 - accuracy: 0.9018 - val_loss: 0.3073 - val_accuracy: 0.9029\n",
      "Epoch 19/100\n",
      "78/78 [==============================] - 2s 26ms/step - loss: 0.2956 - accuracy: 0.9045 - val_loss: 0.3023 - val_accuracy: 0.9026\n",
      "Epoch 20/100\n",
      "78/78 [==============================] - 2s 27ms/step - loss: 0.2900 - accuracy: 0.9067 - val_loss: 0.2922 - val_accuracy: 0.9071\n",
      "Epoch 21/100\n",
      "78/78 [==============================] - 2s 26ms/step - loss: 0.2861 - accuracy: 0.9078 - val_loss: 0.2941 - val_accuracy: 0.9057\n",
      "Epoch 22/100\n",
      "78/78 [==============================] - 2s 26ms/step - loss: 0.2744 - accuracy: 0.9113 - val_loss: 0.2848 - val_accuracy: 0.9074\n",
      "Epoch 23/100\n",
      "78/78 [==============================] - 2s 27ms/step - loss: 0.2669 - accuracy: 0.9137 - val_loss: 0.2776 - val_accuracy: 0.9110\n",
      "Epoch 24/100\n",
      "78/78 [==============================] - 2s 26ms/step - loss: 0.2621 - accuracy: 0.9151 - val_loss: 0.2740 - val_accuracy: 0.9114\n",
      "Epoch 25/100\n",
      "78/78 [==============================] - 2s 27ms/step - loss: 0.2563 - accuracy: 0.9168 - val_loss: 0.2627 - val_accuracy: 0.9142\n",
      "Epoch 26/100\n",
      "78/78 [==============================] - 2s 27ms/step - loss: 0.2469 - accuracy: 0.9196 - val_loss: 0.2627 - val_accuracy: 0.9145\n",
      "Epoch 27/100\n",
      "78/78 [==============================] - 2s 25ms/step - loss: 0.2443 - accuracy: 0.9203 - val_loss: 0.2711 - val_accuracy: 0.9142\n",
      "Epoch 28/100\n",
      "78/78 [==============================] - 2s 26ms/step - loss: 0.2412 - accuracy: 0.9212 - val_loss: 0.2521 - val_accuracy: 0.9187\n",
      "Epoch 29/100\n",
      "78/78 [==============================] - 2s 27ms/step - loss: 0.2337 - accuracy: 0.9235 - val_loss: 0.2471 - val_accuracy: 0.9185\n",
      "Epoch 30/100\n",
      "78/78 [==============================] - 2s 26ms/step - loss: 0.2292 - accuracy: 0.9250 - val_loss: 0.2458 - val_accuracy: 0.9186\n",
      "Epoch 31/100\n",
      "78/78 [==============================] - 2s 27ms/step - loss: 0.2289 - accuracy: 0.9250 - val_loss: 0.2461 - val_accuracy: 0.9200\n",
      "Epoch 32/100\n",
      "78/78 [==============================] - 2s 26ms/step - loss: 0.2238 - accuracy: 0.9265 - val_loss: 0.2362 - val_accuracy: 0.9213\n",
      "Epoch 33/100\n",
      "78/78 [==============================] - 2s 26ms/step - loss: 0.2151 - accuracy: 0.9293 - val_loss: 0.2387 - val_accuracy: 0.9222\n",
      "Epoch 34/100\n",
      "78/78 [==============================] - 2s 27ms/step - loss: 0.2114 - accuracy: 0.9301 - val_loss: 0.2393 - val_accuracy: 0.9227\n",
      "Epoch 35/100\n",
      "78/78 [==============================] - 2s 26ms/step - loss: 0.2083 - accuracy: 0.9314 - val_loss: 0.2265 - val_accuracy: 0.9255\n",
      "Epoch 36/100\n",
      "78/78 [==============================] - 2s 27ms/step - loss: 0.2043 - accuracy: 0.9330 - val_loss: 0.2317 - val_accuracy: 0.9252\n",
      "Epoch 37/100\n",
      "78/78 [==============================] - 2s 26ms/step - loss: 0.2006 - accuracy: 0.9338 - val_loss: 0.2197 - val_accuracy: 0.9271\n",
      "Epoch 38/100\n",
      "78/78 [==============================] - 2s 27ms/step - loss: 0.1942 - accuracy: 0.9361 - val_loss: 0.2235 - val_accuracy: 0.9263\n",
      "Epoch 39/100\n",
      "78/78 [==============================] - 2s 26ms/step - loss: 0.1901 - accuracy: 0.9368 - val_loss: 0.2163 - val_accuracy: 0.9303\n",
      "Epoch 40/100\n",
      "78/78 [==============================] - 2s 27ms/step - loss: 0.1882 - accuracy: 0.9371 - val_loss: 0.2106 - val_accuracy: 0.9309\n",
      "Epoch 41/100\n",
      "78/78 [==============================] - 2s 26ms/step - loss: 0.1869 - accuracy: 0.9383 - val_loss: 0.2287 - val_accuracy: 0.9256\n",
      "Epoch 42/100\n",
      "78/78 [==============================] - 2s 26ms/step - loss: 0.1819 - accuracy: 0.9397 - val_loss: 0.2058 - val_accuracy: 0.9331\n",
      "Epoch 43/100\n",
      "78/78 [==============================] - 2s 27ms/step - loss: 0.1812 - accuracy: 0.9395 - val_loss: 0.2150 - val_accuracy: 0.9290\n",
      "Epoch 44/100\n",
      "78/78 [==============================] - 2s 27ms/step - loss: 0.1759 - accuracy: 0.9415 - val_loss: 0.1990 - val_accuracy: 0.9342\n",
      "Epoch 45/100\n",
      "78/78 [==============================] - 2s 26ms/step - loss: 0.1754 - accuracy: 0.9416 - val_loss: 0.2024 - val_accuracy: 0.9340\n",
      "Epoch 46/100\n",
      "78/78 [==============================] - 2s 27ms/step - loss: 0.1736 - accuracy: 0.9422 - val_loss: 0.1974 - val_accuracy: 0.9342\n",
      "Epoch 47/100\n",
      "78/78 [==============================] - 2s 26ms/step - loss: 0.1709 - accuracy: 0.9433 - val_loss: 0.1957 - val_accuracy: 0.9359\n",
      "Epoch 48/100\n",
      "78/78 [==============================] - 2s 26ms/step - loss: 0.1676 - accuracy: 0.9441 - val_loss: 0.2044 - val_accuracy: 0.9338\n",
      "Epoch 49/100\n",
      "78/78 [==============================] - 2s 26ms/step - loss: 0.1663 - accuracy: 0.9446 - val_loss: 0.2008 - val_accuracy: 0.9339\n",
      "Epoch 50/100\n",
      "78/78 [==============================] - 2s 26ms/step - loss: 0.1611 - accuracy: 0.9461 - val_loss: 0.1886 - val_accuracy: 0.9383\n",
      "Epoch 51/100\n",
      "78/78 [==============================] - 2s 26ms/step - loss: 0.1583 - accuracy: 0.9472 - val_loss: 0.1996 - val_accuracy: 0.9340\n",
      "Epoch 52/100\n",
      "78/78 [==============================] - 2s 27ms/step - loss: 0.1576 - accuracy: 0.9474 - val_loss: 0.2019 - val_accuracy: 0.9345\n",
      "Epoch 53/100\n",
      "78/78 [==============================] - 2s 27ms/step - loss: 0.1544 - accuracy: 0.9485 - val_loss: 0.1848 - val_accuracy: 0.9403\n",
      "Epoch 54/100\n",
      "78/78 [==============================] - 2s 29ms/step - loss: 0.1508 - accuracy: 0.9500 - val_loss: 0.1927 - val_accuracy: 0.9360\n",
      "Epoch 55/100\n",
      "78/78 [==============================] - 2s 28ms/step - loss: 0.1512 - accuracy: 0.9496 - val_loss: 0.1894 - val_accuracy: 0.9384\n",
      "Epoch 56/100\n",
      "78/78 [==============================] - 2s 26ms/step - loss: 0.1472 - accuracy: 0.9510 - val_loss: 0.1825 - val_accuracy: 0.9420\n",
      "Epoch 57/100\n",
      "78/78 [==============================] - 2s 26ms/step - loss: 0.1458 - accuracy: 0.9513 - val_loss: 0.1805 - val_accuracy: 0.9420\n",
      "Epoch 58/100\n"
     ]
    },
    {
     "name": "stdout",
     "output_type": "stream",
     "text": [
      "78/78 [==============================] - 2s 26ms/step - loss: 0.1441 - accuracy: 0.9518 - val_loss: 0.1844 - val_accuracy: 0.9411\n",
      "Epoch 59/100\n",
      "78/78 [==============================] - 2s 27ms/step - loss: 0.1441 - accuracy: 0.9520 - val_loss: 0.1809 - val_accuracy: 0.9411\n",
      "Epoch 60/100\n",
      "78/78 [==============================] - 2s 26ms/step - loss: 0.1402 - accuracy: 0.9530 - val_loss: 0.1785 - val_accuracy: 0.9424\n",
      "Epoch 61/100\n",
      "78/78 [==============================] - 2s 26ms/step - loss: 0.1379 - accuracy: 0.9538 - val_loss: 0.1765 - val_accuracy: 0.9421\n",
      "Epoch 62/100\n",
      "78/78 [==============================] - 2s 26ms/step - loss: 0.1365 - accuracy: 0.9547 - val_loss: 0.1698 - val_accuracy: 0.9445\n",
      "Epoch 63/100\n",
      "78/78 [==============================] - 2s 26ms/step - loss: 0.1351 - accuracy: 0.9552 - val_loss: 0.1705 - val_accuracy: 0.9445\n",
      "Epoch 64/100\n",
      "78/78 [==============================] - 2s 26ms/step - loss: 0.1333 - accuracy: 0.9555 - val_loss: 0.1704 - val_accuracy: 0.9442\n",
      "Epoch 65/100\n",
      "78/78 [==============================] - 2s 26ms/step - loss: 0.1297 - accuracy: 0.9568 - val_loss: 0.1664 - val_accuracy: 0.9463\n",
      "Epoch 66/100\n",
      "78/78 [==============================] - 2s 26ms/step - loss: 0.1341 - accuracy: 0.9548 - val_loss: 0.1684 - val_accuracy: 0.9451\n",
      "Epoch 67/100\n",
      "78/78 [==============================] - 2s 26ms/step - loss: 0.1318 - accuracy: 0.9558 - val_loss: 0.1706 - val_accuracy: 0.9451\n",
      "Epoch 68/100\n",
      "78/78 [==============================] - 2s 27ms/step - loss: 0.1271 - accuracy: 0.9574 - val_loss: 0.1740 - val_accuracy: 0.9441\n",
      "Epoch 69/100\n",
      "78/78 [==============================] - 2s 27ms/step - loss: 0.1270 - accuracy: 0.9576 - val_loss: 0.1643 - val_accuracy: 0.9470\n",
      "Epoch 70/100\n",
      "78/78 [==============================] - 2s 27ms/step - loss: 0.1254 - accuracy: 0.9576 - val_loss: 0.1653 - val_accuracy: 0.9461\n",
      "Epoch 71/100\n",
      "78/78 [==============================] - 2s 28ms/step - loss: 0.1228 - accuracy: 0.9588 - val_loss: 0.1704 - val_accuracy: 0.9442\n",
      "Epoch 72/100\n",
      "78/78 [==============================] - 2s 28ms/step - loss: 0.1266 - accuracy: 0.9577 - val_loss: 0.1701 - val_accuracy: 0.9454\n",
      "Epoch 73/100\n",
      "78/78 [==============================] - 2s 26ms/step - loss: 0.1229 - accuracy: 0.9591 - val_loss: 0.1721 - val_accuracy: 0.9462\n",
      "Epoch 74/100\n",
      "78/78 [==============================] - 2s 26ms/step - loss: 0.1186 - accuracy: 0.9603 - val_loss: 0.1635 - val_accuracy: 0.9488\n",
      "Epoch 75/100\n",
      "78/78 [==============================] - 2s 26ms/step - loss: 0.1213 - accuracy: 0.9593 - val_loss: 0.1668 - val_accuracy: 0.9463\n",
      "Epoch 76/100\n",
      "78/78 [==============================] - 2s 28ms/step - loss: 0.1221 - accuracy: 0.9591 - val_loss: 0.1536 - val_accuracy: 0.9509\n",
      "Epoch 77/100\n",
      "78/78 [==============================] - 2s 26ms/step - loss: 0.1165 - accuracy: 0.9608 - val_loss: 0.1532 - val_accuracy: 0.9506\n",
      "Epoch 78/100\n",
      "78/78 [==============================] - 2s 27ms/step - loss: 0.1144 - accuracy: 0.9619 - val_loss: 0.1574 - val_accuracy: 0.9495\n",
      "Epoch 79/100\n",
      "78/78 [==============================] - 2s 26ms/step - loss: 0.1142 - accuracy: 0.9617 - val_loss: 0.1530 - val_accuracy: 0.9511\n",
      "Epoch 80/100\n",
      "78/78 [==============================] - 2s 26ms/step - loss: 0.1101 - accuracy: 0.9633 - val_loss: 0.1566 - val_accuracy: 0.9512\n",
      "Epoch 81/100\n",
      "78/78 [==============================] - 2s 26ms/step - loss: 0.1148 - accuracy: 0.9614 - val_loss: 0.1581 - val_accuracy: 0.9492\n",
      "Epoch 82/100\n",
      "78/78 [==============================] - 2s 26ms/step - loss: 0.1106 - accuracy: 0.9630 - val_loss: 0.1522 - val_accuracy: 0.9513\n",
      "Epoch 83/100\n",
      "78/78 [==============================] - 2s 26ms/step - loss: 0.1112 - accuracy: 0.9625 - val_loss: 0.1584 - val_accuracy: 0.9512\n",
      "Epoch 84/100\n",
      "78/78 [==============================] - 2s 26ms/step - loss: 0.1123 - accuracy: 0.9626 - val_loss: 0.1555 - val_accuracy: 0.9515\n",
      "Epoch 85/100\n",
      "78/78 [==============================] - 2s 26ms/step - loss: 0.1049 - accuracy: 0.9646 - val_loss: 0.1516 - val_accuracy: 0.9518\n",
      "Epoch 86/100\n",
      "78/78 [==============================] - 2s 26ms/step - loss: 0.1056 - accuracy: 0.9647 - val_loss: 0.1594 - val_accuracy: 0.9488\n",
      "Epoch 87/100\n",
      "78/78 [==============================] - 2s 26ms/step - loss: 0.1098 - accuracy: 0.9635 - val_loss: 0.1491 - val_accuracy: 0.9530\n",
      "Epoch 88/100\n",
      "78/78 [==============================] - 2s 26ms/step - loss: 0.1037 - accuracy: 0.9654 - val_loss: 0.1519 - val_accuracy: 0.9523\n",
      "Epoch 89/100\n",
      "78/78 [==============================] - 2s 27ms/step - loss: 0.1083 - accuracy: 0.9640 - val_loss: 0.1499 - val_accuracy: 0.9525\n",
      "Epoch 90/100\n",
      "78/78 [==============================] - 2s 26ms/step - loss: 0.1058 - accuracy: 0.9644 - val_loss: 0.1535 - val_accuracy: 0.9518\n",
      "Epoch 91/100\n",
      "78/78 [==============================] - 2s 26ms/step - loss: 0.1031 - accuracy: 0.9656 - val_loss: 0.1449 - val_accuracy: 0.9546\n",
      "Epoch 92/100\n",
      "78/78 [==============================] - 2s 27ms/step - loss: 0.1025 - accuracy: 0.9657 - val_loss: 0.1476 - val_accuracy: 0.9542\n",
      "Epoch 93/100\n",
      "78/78 [==============================] - 2s 30ms/step - loss: 0.1008 - accuracy: 0.9665 - val_loss: 0.1450 - val_accuracy: 0.9542\n",
      "Epoch 94/100\n",
      "78/78 [==============================] - 2s 27ms/step - loss: 0.1025 - accuracy: 0.9657 - val_loss: 0.1495 - val_accuracy: 0.9535\n",
      "Epoch 95/100\n",
      "78/78 [==============================] - 2s 26ms/step - loss: 0.0997 - accuracy: 0.9666 - val_loss: 0.1521 - val_accuracy: 0.9532\n",
      "Epoch 96/100\n",
      "78/78 [==============================] - 2s 28ms/step - loss: 0.1026 - accuracy: 0.9658 - val_loss: 0.1534 - val_accuracy: 0.9521\n",
      "Epoch 97/100\n",
      "78/78 [==============================] - 2s 28ms/step - loss: 0.0996 - accuracy: 0.9666 - val_loss: 0.1403 - val_accuracy: 0.9560\n",
      "Epoch 98/100\n",
      "78/78 [==============================] - 2s 27ms/step - loss: 0.0939 - accuracy: 0.9688 - val_loss: 0.1414 - val_accuracy: 0.9554\n",
      "Epoch 99/100\n",
      "78/78 [==============================] - 2s 28ms/step - loss: 0.0935 - accuracy: 0.9689 - val_loss: 0.1517 - val_accuracy: 0.9537\n",
      "Epoch 100/100\n",
      "78/78 [==============================] - 2s 29ms/step - loss: 0.0952 - accuracy: 0.9683 - val_loss: 0.1434 - val_accuracy: 0.9556\n"
     ]
    }
   ],
   "source": [
    "history = model.fit(X_train, y_train, batch_size=4056, epochs=100, validation_data = (X_test, y_test))"
   ]
  },
  {
   "cell_type": "markdown",
   "id": "ffed59b1",
   "metadata": {},
   "source": [
    "# 4.Evaluate Network"
   ]
  },
  {
   "cell_type": "markdown",
   "id": "28731190",
   "metadata": {},
   "source": [
    "## 4.1. Plotting Loss and Accuracy"
   ]
  },
  {
   "cell_type": "code",
   "execution_count": 24,
   "id": "971e6040",
   "metadata": {},
   "outputs": [
    {
     "data": {
      "text/plain": [
       "Text(0.5, 1.0, 'Loss Curve of Deep Neural Netowork')"
      ]
     },
     "execution_count": 24,
     "metadata": {},
     "output_type": "execute_result"
    },
    {
     "data": {
      "image/png": "[encoded data removed]",
      "text/plain": [
       "<Figure size 432x288 with 1 Axes>"
      ]
     },
     "metadata": {
      "needs_background": "light"
     },
     "output_type": "display_data"
    }
   ],
   "source": [
    "#Loss Curve\n",
    "\n",
    "\n",
    "plt.plot(figsize = [8,6])\n",
    "\n",
    "plt.plot(history.history['loss'],'r',linewidth = 3.0)\n",
    "plt.plot(history.history['val_loss'],'b',linewidth = 3.0)\n",
    "\n",
    "plt.legend(['Training Loss', 'Validation Loss'], fontsize = 18)\n",
    "\n",
    "plt.xlabel('Epochs', fontsize = 16)\n",
    "plt.ylabel('Loss', fontsize = 16)\n",
    "\n",
    "plt.title('Loss Curve of Deep Neural Netowork' , fontsize = 16 )\n",
    "\n"
   ]
  },
  {
   "cell_type": "code",
   "execution_count": 25,
   "id": "b0c193ec",
   "metadata": {},
   "outputs": [
    {
     "data": {
      "text/plain": [
       "Text(0.5, 1.0, 'Accuracy Curve of Deep Neural Netowork')"
      ]
     },
     "execution_count": 25,
     "metadata": {},
     "output_type": "execute_result"
    },
    {
     "data": {
      "image/png": "[encoded data removed]",
      "text/plain": [
       "<Figure size 432x288 with 1 Axes>"
      ]
     },
     "metadata": {
      "needs_background": "light"
     },
     "output_type": "display_data"
    }
   ],
   "source": [
    "#Accuracy Curve\n",
    "\n",
    "plt.plot(figsize = [8,6])\n",
    "plt.plot(history.history['accuracy'],'r',linewidth = 3.0)\n",
    "plt.plot(history.history['val_accuracy'],'b',linewidth = 3.0)\n",
    "\n",
    "plt.legend(['Training Accuracy', 'Validation Accuracy'], fontsize = 18)\n",
    "\n",
    "plt.xlabel('Epochs', fontsize = 16)\n",
    "plt.ylabel('Accuracy', fontsize = 16)\n",
    "\n",
    "\n",
    "plt.title('Accuracy Curve of Deep Neural Netowork' , fontsize = 16 )"
   ]
  },
  {
   "cell_type": "markdown",
   "id": "741a02aa",
   "metadata": {},
   "source": [
    "##  4.2 Make Predictions"
   ]
  },
  {
   "cell_type": "code",
   "execution_count": 26,
   "id": "e8465627",
   "metadata": {},
   "outputs": [],
   "source": [
    "predictions = model.predict(X_test)\n",
    "predictions = np.argmax(predictions, axis = 1)"
   ]
  },
  {
   "cell_type": "code",
   "execution_count": 27,
   "id": "3cac1a50",
   "metadata": {},
   "outputs": [
    {
     "data": {
      "text/plain": [
       "array([ 0,  0, 14, ...,  9, 12,  4], dtype=int64)"
      ]
     },
     "execution_count": 27,
     "metadata": {},
     "output_type": "execute_result"
    }
   ],
   "source": [
    "predictions"
   ]
  },
  {
   "cell_type": "markdown",
   "id": "70d666bb",
   "metadata": {},
   "source": [
    "#### Transforming from One Hot Encoding"
   ]
  },
  {
   "cell_type": "code",
   "execution_count": 28,
   "id": "7234b6e7",
   "metadata": {},
   "outputs": [
    {
     "data": {
      "text/plain": [
       "0"
      ]
     },
     "execution_count": 28,
     "metadata": {},
     "output_type": "execute_result"
    }
   ],
   "source": [
    "y_test =np.argmax(y_test, axis=1)\n",
    "y_test[1]"
   ]
  },
  {
   "cell_type": "code",
   "execution_count": 29,
   "id": "6278820d",
   "metadata": {},
   "outputs": [
    {
     "name": "stdout",
     "output_type": "stream",
     "text": [
      "Accuracy is: 95.56220202717385\n"
     ]
    }
   ],
   "source": [
    "from sklearn.metrics import accuracy_score\n",
    "accuracy = {accuracy_score(y_test, predictions)}\n",
    "print(f\"Accuracy is: {accuracy_score(y_test, predictions)* 100}\")"
   ]
  },
  {
   "cell_type": "markdown",
   "id": "eb044ea1",
   "metadata": {},
   "source": [
    "## 4.3 Classification Report"
   ]
  },
  {
   "cell_type": "code",
   "execution_count": 30,
   "id": "001ebc5a",
   "metadata": {},
   "outputs": [
    {
     "name": "stdout",
     "output_type": "stream",
     "text": [
      "\u001b[1mClassification report : \u001b[0m\n",
      "               precision    recall  f1-score   support\n",
      "\n",
      "           0       0.96      0.98      0.97     38515\n",
      "           1       0.96      0.94      0.95      2230\n",
      "           2       0.94      0.96      0.95      2492\n",
      "           3       0.98      0.91      0.94      2287\n",
      "           4       0.97      0.91      0.94      2382\n",
      "           5       0.97      0.93      0.95      2085\n",
      "           6       0.97      0.96      0.96      2100\n",
      "           7       0.87      0.91      0.89      2214\n",
      "           8       0.94      0.92      0.93      2027\n",
      "           9       0.91      0.92      0.92      2459\n",
      "          10       0.96      0.90      0.93      2065\n",
      "          11       0.97      0.89      0.92      2165\n",
      "          12       0.93      0.92      0.93      2444\n",
      "          13       0.95      0.94      0.94      1593\n",
      "          14       0.91      0.95      0.93      1568\n",
      "          15       0.96      0.87      0.91      1629\n",
      "          16       0.97      0.96      0.96      1641\n",
      "          17       0.96      0.97      0.97      1530\n",
      "          18       0.91      0.97      0.94       719\n",
      "          19       0.98      0.97      0.97       785\n",
      "          20       0.98      0.98      0.98       853\n",
      "          21       0.95      0.93      0.94       818\n",
      "          22       0.99      0.95      0.97       704\n",
      "          23       0.97      0.97      0.97       932\n",
      "\n",
      "    accuracy                           0.96     78237\n",
      "   macro avg       0.95      0.94      0.94     78237\n",
      "weighted avg       0.96      0.96      0.96     78237\n",
      "\n",
      "\u001b[1mConfusion Matrix : \u001b[0m\n"
     ]
    },
    {
     "data": {
      "image/png": "[encoded data removed]",
      "text/plain": [
       "<Figure size 432x288 with 2 Axes>"
      ]
     },
     "metadata": {
      "needs_background": "light"
     },
     "output_type": "display_data"
    }
   ],
   "source": [
    "from sklearn.metrics import confusion_matrix, f1_score, accuracy_score, classification_report\n",
    "print('\\033[1m' +'Classification report : '+ '\\033[0m\\n', classification_report(y_test, predictions))\n",
    "\n",
    "cm = confusion_matrix(predictions, y_test)\n",
    "print('\\033[1m' +'Confusion Matrix : '+ '\\033[0m')\n",
    "sns.heatmap(cm, cmap = 'OrRd',annot = True, fmt='d')\n",
    "plt.show()"
   ]
  },
  {
   "cell_type": "markdown",
   "id": "eaa5e512",
   "metadata": {},
   "source": [
    "## 4.4 Evaluation"
   ]
  },
  {
   "cell_type": "code",
   "execution_count": 31,
   "id": "9e469f86",
   "metadata": {},
   "outputs": [
    {
     "name": "stdout",
     "output_type": "stream",
     "text": [
      "MAE: 0.3309048148574204\n",
      "MSE: 3.6692485652568476\n",
      "RMSE: 1.9155282731551753\n"
     ]
    }
   ],
   "source": [
    "from sklearn import metrics\n",
    "\n",
    "print('MAE:', metrics.mean_absolute_error(y_test,predictions))\n",
    "print('MSE:', metrics.mean_squared_error(y_test, predictions))\n",
    "print('RMSE:', np.sqrt(metrics.mean_squared_error(y_test, predictions)))"
   ]
  },
  {
   "cell_type": "code",
   "execution_count": 32,
   "id": "dff2a82d",
   "metadata": {},
   "outputs": [
    {
     "name": "stdout",
     "output_type": "stream",
     "text": [
      "Precision Score :  0.9558384708866339\n",
      "Recall Score :  0.9556220202717385\n",
      "f1_score :  0.9554549609919674\n"
     ]
    }
   ],
   "source": [
    "from sklearn.metrics import precision_score\n",
    "print(\"Precision Score : \",precision_score(y_test, predictions, average='weighted'))\n",
    "\n",
    "\n",
    "from sklearn.metrics import recall_score\n",
    "print(\"Recall Score : \",recall_score(y_test, predictions,average='weighted'))\n",
    "\n",
    "\n",
    "from sklearn.metrics import f1_score\n",
    "print(\"f1_score : \",f1_score(y_test, predictions,average='weighted'))"
   ]
  },
  {
   "cell_type": "code",
   "execution_count": null,
   "id": "81ac7468",
   "metadata": {},
   "outputs": [],
   "source": []
  },
  {
   "cell_type": "code",
   "execution_count": null,
   "id": "71a4c6e0",
   "metadata": {},
   "outputs": [],
   "source": []
  }
 ],
 "metadata": {
  "kernelspec": {
   "display_name": "Python 3 (ipykernel)",
   "language": "python",
   "name": "python3"
  },
  "language_info": {
   "codemirror_mode": {
    "name": "ipython",
    "version": 3
   },
   "file_extension": ".py",
   "mimetype": "text/x-python",
   "name": "python",
   "nbconvert_exporter": "python",
   "pygments_lexer": "ipython3",
   "version": "3.8.12"
  }
 },
 "nbformat": 4,
 "nbformat_minor": 5
}
