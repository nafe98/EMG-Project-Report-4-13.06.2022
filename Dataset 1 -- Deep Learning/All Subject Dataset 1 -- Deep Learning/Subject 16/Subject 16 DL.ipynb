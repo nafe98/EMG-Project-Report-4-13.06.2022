{
 "cells": [
  {
   "cell_type": "markdown",
   "id": "bf8ee932",
   "metadata": {},
   "source": [
    "# Importing Libraries"
   ]
  },
  {
   "cell_type": "code",
   "execution_count": 1,
   "id": "0f663fa8",
   "metadata": {},
   "outputs": [],
   "source": [
    "import numpy as np\n",
    "import pandas as pd\n",
    "import matplotlib.pyplot as plt\n",
    "import seaborn as sns\n",
    "from sklearn.model_selection import train_test_split"
   ]
  },
  {
   "cell_type": "markdown",
   "id": "511af272",
   "metadata": {},
   "source": [
    "# Loading Data"
   ]
  },
  {
   "cell_type": "code",
   "execution_count": 2,
   "id": "04fd19b0",
   "metadata": {},
   "outputs": [
    {
     "data": {
      "text/html": [
       "<div>\n",
       "<style scoped>\n",
       "    .dataframe tbody tr th:only-of-type {\n",
       "        vertical-align: middle;\n",
       "    }\n",
       "\n",
       "    .dataframe tbody tr th {\n",
       "        vertical-align: top;\n",
       "    }\n",
       "\n",
       "    .dataframe thead th {\n",
       "        text-align: right;\n",
       "    }\n",
       "</style>\n",
       "<table border=\"1\" class=\"dataframe\">\n",
       "  <thead>\n",
       "    <tr style=\"text-align: right;\">\n",
       "      <th></th>\n",
       "      <th>Emg1</th>\n",
       "      <th>Emg2</th>\n",
       "      <th>Emg3</th>\n",
       "      <th>Emg4</th>\n",
       "      <th>Emg5</th>\n",
       "      <th>Emg6</th>\n",
       "      <th>Emg7</th>\n",
       "      <th>Emg8</th>\n",
       "      <th>Emg9</th>\n",
       "      <th>Emg10</th>\n",
       "      <th>repetition</th>\n",
       "      <th>rerepetition</th>\n",
       "      <th>stimulus</th>\n",
       "      <th>restimulus</th>\n",
       "    </tr>\n",
       "  </thead>\n",
       "  <tbody>\n",
       "    <tr>\n",
       "      <th>418232</th>\n",
       "      <td>0.3369</td>\n",
       "      <td>0.0024</td>\n",
       "      <td>0.0049</td>\n",
       "      <td>0.0024</td>\n",
       "      <td>0.0024</td>\n",
       "      <td>0.0146</td>\n",
       "      <td>0.1001</td>\n",
       "      <td>0.4224</td>\n",
       "      <td>0.0024</td>\n",
       "      <td>0.0684</td>\n",
       "      <td>3</td>\n",
       "      <td>0</td>\n",
       "      <td>20</td>\n",
       "      <td>0</td>\n",
       "    </tr>\n",
       "    <tr>\n",
       "      <th>164427</th>\n",
       "      <td>0.0146</td>\n",
       "      <td>0.0024</td>\n",
       "      <td>0.0024</td>\n",
       "      <td>0.0024</td>\n",
       "      <td>0.0024</td>\n",
       "      <td>0.0024</td>\n",
       "      <td>0.0024</td>\n",
       "      <td>0.0806</td>\n",
       "      <td>0.0024</td>\n",
       "      <td>0.0024</td>\n",
       "      <td>6</td>\n",
       "      <td>0</td>\n",
       "      <td>8</td>\n",
       "      <td>0</td>\n",
       "    </tr>\n",
       "    <tr>\n",
       "      <th>351758</th>\n",
       "      <td>0.0024</td>\n",
       "      <td>0.0024</td>\n",
       "      <td>0.0024</td>\n",
       "      <td>0.0024</td>\n",
       "      <td>0.0024</td>\n",
       "      <td>0.0098</td>\n",
       "      <td>0.0659</td>\n",
       "      <td>0.0903</td>\n",
       "      <td>0.0024</td>\n",
       "      <td>0.0513</td>\n",
       "      <td>0</td>\n",
       "      <td>0</td>\n",
       "      <td>0</td>\n",
       "      <td>0</td>\n",
       "    </tr>\n",
       "    <tr>\n",
       "      <th>146245</th>\n",
       "      <td>1.1157</td>\n",
       "      <td>0.7520</td>\n",
       "      <td>2.1167</td>\n",
       "      <td>0.1196</td>\n",
       "      <td>0.0488</td>\n",
       "      <td>0.1343</td>\n",
       "      <td>0.7104</td>\n",
       "      <td>0.7422</td>\n",
       "      <td>0.2881</td>\n",
       "      <td>0.3394</td>\n",
       "      <td>4</td>\n",
       "      <td>4</td>\n",
       "      <td>6</td>\n",
       "      <td>6</td>\n",
       "    </tr>\n",
       "    <tr>\n",
       "      <th>275906</th>\n",
       "      <td>0.1221</td>\n",
       "      <td>0.0024</td>\n",
       "      <td>0.0024</td>\n",
       "      <td>0.0024</td>\n",
       "      <td>0.0024</td>\n",
       "      <td>0.0073</td>\n",
       "      <td>0.0586</td>\n",
       "      <td>0.0952</td>\n",
       "      <td>0.0024</td>\n",
       "      <td>0.0098</td>\n",
       "      <td>4</td>\n",
       "      <td>0</td>\n",
       "      <td>4</td>\n",
       "      <td>0</td>\n",
       "    </tr>\n",
       "  </tbody>\n",
       "</table>\n",
       "</div>"
      ],
      "text/plain": [
       "          Emg1    Emg2    Emg3    Emg4    Emg5    Emg6    Emg7    Emg8  \\\n",
       "418232  0.3369  0.0024  0.0049  0.0024  0.0024  0.0146  0.1001  0.4224   \n",
       "164427  0.0146  0.0024  0.0024  0.0024  0.0024  0.0024  0.0024  0.0806   \n",
       "351758  0.0024  0.0024  0.0024  0.0024  0.0024  0.0098  0.0659  0.0903   \n",
       "146245  1.1157  0.7520  2.1167  0.1196  0.0488  0.1343  0.7104  0.7422   \n",
       "275906  0.1221  0.0024  0.0024  0.0024  0.0024  0.0073  0.0586  0.0952   \n",
       "\n",
       "          Emg9   Emg10  repetition  rerepetition  stimulus  restimulus  \n",
       "418232  0.0024  0.0684           3             0        20           0  \n",
       "164427  0.0024  0.0024           6             0         8           0  \n",
       "351758  0.0024  0.0513           0             0         0           0  \n",
       "146245  0.2881  0.3394           4             4         6           6  \n",
       "275906  0.0024  0.0098           4             0         4           0  "
      ]
     },
     "execution_count": 2,
     "metadata": {},
     "output_type": "execute_result"
    }
   ],
   "source": [
    "raw_data = pd.read_excel('Dataset 1 Patient 16.xlsx')\n",
    "raw_data.sample(5)"
   ]
  },
  {
   "cell_type": "code",
   "execution_count": 3,
   "id": "80369ddb",
   "metadata": {},
   "outputs": [
    {
     "name": "stdout",
     "output_type": "stream",
     "text": [
      "<class 'pandas.core.frame.DataFrame'>\n",
      "RangeIndex: 456828 entries, 0 to 456827\n",
      "Data columns (total 14 columns):\n",
      " #   Column        Non-Null Count   Dtype  \n",
      "---  ------        --------------   -----  \n",
      " 0   Emg1          456828 non-null  float64\n",
      " 1   Emg2          456828 non-null  float64\n",
      " 2   Emg3          456828 non-null  float64\n",
      " 3   Emg4          456828 non-null  float64\n",
      " 4   Emg5          456828 non-null  float64\n",
      " 5   Emg6          456828 non-null  float64\n",
      " 6   Emg7          456828 non-null  float64\n",
      " 7   Emg8          456828 non-null  float64\n",
      " 8   Emg9          456828 non-null  float64\n",
      " 9   Emg10         456828 non-null  float64\n",
      " 10  repetition    456828 non-null  int64  \n",
      " 11  rerepetition  456828 non-null  int64  \n",
      " 12  stimulus      456828 non-null  int64  \n",
      " 13  restimulus    456828 non-null  int64  \n",
      "dtypes: float64(10), int64(4)\n",
      "memory usage: 48.8 MB\n"
     ]
    }
   ],
   "source": [
    "raw_data.info()"
   ]
  },
  {
   "cell_type": "code",
   "execution_count": 4,
   "id": "109445f8",
   "metadata": {},
   "outputs": [
    {
     "data": {
      "text/html": [
       "<div>\n",
       "<style scoped>\n",
       "    .dataframe tbody tr th:only-of-type {\n",
       "        vertical-align: middle;\n",
       "    }\n",
       "\n",
       "    .dataframe tbody tr th {\n",
       "        vertical-align: top;\n",
       "    }\n",
       "\n",
       "    .dataframe thead th {\n",
       "        text-align: right;\n",
       "    }\n",
       "</style>\n",
       "<table border=\"1\" class=\"dataframe\">\n",
       "  <thead>\n",
       "    <tr style=\"text-align: right;\">\n",
       "      <th></th>\n",
       "      <th>Emg1</th>\n",
       "      <th>Emg2</th>\n",
       "      <th>Emg3</th>\n",
       "      <th>Emg4</th>\n",
       "      <th>Emg5</th>\n",
       "      <th>Emg6</th>\n",
       "      <th>Emg7</th>\n",
       "      <th>Emg8</th>\n",
       "      <th>Emg9</th>\n",
       "      <th>Emg10</th>\n",
       "      <th>repetition</th>\n",
       "      <th>rerepetition</th>\n",
       "      <th>stimulus</th>\n",
       "      <th>restimulus</th>\n",
       "    </tr>\n",
       "  </thead>\n",
       "  <tbody>\n",
       "    <tr>\n",
       "      <th>count</th>\n",
       "      <td>456828.000000</td>\n",
       "      <td>456828.000000</td>\n",
       "      <td>456828.000000</td>\n",
       "      <td>456828.000000</td>\n",
       "      <td>456828.000000</td>\n",
       "      <td>456828.000000</td>\n",
       "      <td>456828.000000</td>\n",
       "      <td>456828.000000</td>\n",
       "      <td>456828.000000</td>\n",
       "      <td>456828.000000</td>\n",
       "      <td>456828.000000</td>\n",
       "      <td>456828.000000</td>\n",
       "      <td>456828.000000</td>\n",
       "      <td>456828.000000</td>\n",
       "    </tr>\n",
       "    <tr>\n",
       "      <th>mean</th>\n",
       "      <td>0.257678</td>\n",
       "      <td>0.095188</td>\n",
       "      <td>0.119775</td>\n",
       "      <td>0.024560</td>\n",
       "      <td>0.010445</td>\n",
       "      <td>0.027816</td>\n",
       "      <td>0.279186</td>\n",
       "      <td>0.355002</td>\n",
       "      <td>0.052767</td>\n",
       "      <td>0.148996</td>\n",
       "      <td>3.225945</td>\n",
       "      <td>2.036832</td>\n",
       "      <td>5.718159</td>\n",
       "      <td>3.720632</td>\n",
       "    </tr>\n",
       "    <tr>\n",
       "      <th>std</th>\n",
       "      <td>0.284347</td>\n",
       "      <td>0.215564</td>\n",
       "      <td>0.396491</td>\n",
       "      <td>0.095231</td>\n",
       "      <td>0.049478</td>\n",
       "      <td>0.072824</td>\n",
       "      <td>0.493694</td>\n",
       "      <td>0.423499</td>\n",
       "      <td>0.179540</td>\n",
       "      <td>0.277385</td>\n",
       "      <td>3.489114</td>\n",
       "      <td>3.183046</td>\n",
       "      <td>6.596319</td>\n",
       "      <td>6.126775</td>\n",
       "    </tr>\n",
       "    <tr>\n",
       "      <th>min</th>\n",
       "      <td>0.000000</td>\n",
       "      <td>0.000000</td>\n",
       "      <td>0.002400</td>\n",
       "      <td>0.000000</td>\n",
       "      <td>0.002400</td>\n",
       "      <td>0.000000</td>\n",
       "      <td>0.002400</td>\n",
       "      <td>0.002400</td>\n",
       "      <td>0.000000</td>\n",
       "      <td>0.000000</td>\n",
       "      <td>0.000000</td>\n",
       "      <td>0.000000</td>\n",
       "      <td>0.000000</td>\n",
       "      <td>0.000000</td>\n",
       "    </tr>\n",
       "    <tr>\n",
       "      <th>25%</th>\n",
       "      <td>0.019500</td>\n",
       "      <td>0.002400</td>\n",
       "      <td>0.002400</td>\n",
       "      <td>0.002400</td>\n",
       "      <td>0.002400</td>\n",
       "      <td>0.002400</td>\n",
       "      <td>0.029300</td>\n",
       "      <td>0.102500</td>\n",
       "      <td>0.002400</td>\n",
       "      <td>0.007300</td>\n",
       "      <td>0.000000</td>\n",
       "      <td>0.000000</td>\n",
       "      <td>0.000000</td>\n",
       "      <td>0.000000</td>\n",
       "    </tr>\n",
       "    <tr>\n",
       "      <th>50%</th>\n",
       "      <td>0.178200</td>\n",
       "      <td>0.002400</td>\n",
       "      <td>0.002400</td>\n",
       "      <td>0.002400</td>\n",
       "      <td>0.002400</td>\n",
       "      <td>0.002400</td>\n",
       "      <td>0.117200</td>\n",
       "      <td>0.231900</td>\n",
       "      <td>0.002400</td>\n",
       "      <td>0.053700</td>\n",
       "      <td>2.000000</td>\n",
       "      <td>0.000000</td>\n",
       "      <td>3.000000</td>\n",
       "      <td>0.000000</td>\n",
       "    </tr>\n",
       "    <tr>\n",
       "      <th>75%</th>\n",
       "      <td>0.405300</td>\n",
       "      <td>0.058600</td>\n",
       "      <td>0.009800</td>\n",
       "      <td>0.002400</td>\n",
       "      <td>0.002400</td>\n",
       "      <td>0.022000</td>\n",
       "      <td>0.310100</td>\n",
       "      <td>0.434600</td>\n",
       "      <td>0.004900</td>\n",
       "      <td>0.158700</td>\n",
       "      <td>6.000000</td>\n",
       "      <td>4.000000</td>\n",
       "      <td>10.000000</td>\n",
       "      <td>6.000000</td>\n",
       "    </tr>\n",
       "    <tr>\n",
       "      <th>max</th>\n",
       "      <td>3.393600</td>\n",
       "      <td>2.702600</td>\n",
       "      <td>4.658200</td>\n",
       "      <td>2.480500</td>\n",
       "      <td>4.660600</td>\n",
       "      <td>2.163100</td>\n",
       "      <td>4.663100</td>\n",
       "      <td>4.665500</td>\n",
       "      <td>3.867200</td>\n",
       "      <td>3.930700</td>\n",
       "      <td>10.000000</td>\n",
       "      <td>10.000000</td>\n",
       "      <td>23.000000</td>\n",
       "      <td>23.000000</td>\n",
       "    </tr>\n",
       "  </tbody>\n",
       "</table>\n",
       "</div>"
      ],
      "text/plain": [
       "                Emg1           Emg2           Emg3           Emg4  \\\n",
       "count  456828.000000  456828.000000  456828.000000  456828.000000   \n",
       "mean        0.257678       0.095188       0.119775       0.024560   \n",
       "std         0.284347       0.215564       0.396491       0.095231   \n",
       "min         0.000000       0.000000       0.002400       0.000000   \n",
       "25%         0.019500       0.002400       0.002400       0.002400   \n",
       "50%         0.178200       0.002400       0.002400       0.002400   \n",
       "75%         0.405300       0.058600       0.009800       0.002400   \n",
       "max         3.393600       2.702600       4.658200       2.480500   \n",
       "\n",
       "                Emg5           Emg6           Emg7           Emg8  \\\n",
       "count  456828.000000  456828.000000  456828.000000  456828.000000   \n",
       "mean        0.010445       0.027816       0.279186       0.355002   \n",
       "std         0.049478       0.072824       0.493694       0.423499   \n",
       "min         0.002400       0.000000       0.002400       0.002400   \n",
       "25%         0.002400       0.002400       0.029300       0.102500   \n",
       "50%         0.002400       0.002400       0.117200       0.231900   \n",
       "75%         0.002400       0.022000       0.310100       0.434600   \n",
       "max         4.660600       2.163100       4.663100       4.665500   \n",
       "\n",
       "                Emg9          Emg10     repetition   rerepetition  \\\n",
       "count  456828.000000  456828.000000  456828.000000  456828.000000   \n",
       "mean        0.052767       0.148996       3.225945       2.036832   \n",
       "std         0.179540       0.277385       3.489114       3.183046   \n",
       "min         0.000000       0.000000       0.000000       0.000000   \n",
       "25%         0.002400       0.007300       0.000000       0.000000   \n",
       "50%         0.002400       0.053700       2.000000       0.000000   \n",
       "75%         0.004900       0.158700       6.000000       4.000000   \n",
       "max         3.867200       3.930700      10.000000      10.000000   \n",
       "\n",
       "            stimulus     restimulus  \n",
       "count  456828.000000  456828.000000  \n",
       "mean        5.718159       3.720632  \n",
       "std         6.596319       6.126775  \n",
       "min         0.000000       0.000000  \n",
       "25%         0.000000       0.000000  \n",
       "50%         3.000000       0.000000  \n",
       "75%        10.000000       6.000000  \n",
       "max        23.000000      23.000000  "
      ]
     },
     "execution_count": 4,
     "metadata": {},
     "output_type": "execute_result"
    }
   ],
   "source": [
    "raw_data.describe(include='all')"
   ]
  },
  {
   "cell_type": "code",
   "execution_count": 5,
   "id": "f0b9a2e6",
   "metadata": {},
   "outputs": [
    {
     "name": "stdout",
     "output_type": "stream",
     "text": [
      "Unique Dependent values and their counts :\n",
      "0     188839\n",
      "8      15501\n",
      "2      15495\n",
      "12     15493\n",
      "4      15490\n",
      "7      15483\n",
      "1      15467\n",
      "6      15464\n",
      "9      15456\n",
      "11     15453\n",
      "5      15449\n",
      "3      15405\n",
      "10     15405\n",
      "14     10334\n",
      "13     10332\n",
      "17     10327\n",
      "15     10285\n",
      "16     10257\n",
      "21      5181\n",
      "18      5170\n",
      "19      5162\n",
      "22      5130\n",
      "20      5125\n",
      "23      5125\n",
      "Name: stimulus, dtype: int64\n"
     ]
    }
   ],
   "source": [
    "print(\"Unique Dependent values and their counts :\")\n",
    "print(raw_data[\"stimulus\"].value_counts())"
   ]
  },
  {
   "cell_type": "markdown",
   "id": "54420ec4",
   "metadata": {},
   "source": [
    "# Data Cleaning"
   ]
  },
  {
   "cell_type": "code",
   "execution_count": 6,
   "id": "a811198b",
   "metadata": {},
   "outputs": [],
   "source": [
    "index_names = raw_data[ (raw_data['stimulus'] != raw_data['restimulus'])].index\n",
    "raw_data.drop(index_names, inplace = True)"
   ]
  },
  {
   "cell_type": "code",
   "execution_count": 7,
   "id": "556cd92f",
   "metadata": {},
   "outputs": [],
   "source": [
    "index_names = raw_data[ (raw_data['repetition'] != raw_data['rerepetition'])].index\n",
    "raw_data.drop(index_names, inplace = True)"
   ]
  },
  {
   "cell_type": "code",
   "execution_count": 8,
   "id": "c91744f7",
   "metadata": {},
   "outputs": [],
   "source": [
    "X = raw_data.iloc[:,0:10]\n",
    "y = raw_data.stimulus"
   ]
  },
  {
   "cell_type": "markdown",
   "id": "152f7160",
   "metadata": {},
   "source": [
    "# One Hot Encoding"
   ]
  },
  {
   "cell_type": "code",
   "execution_count": 9,
   "id": "dfb77d24",
   "metadata": {},
   "outputs": [],
   "source": [
    "num_classes = 24"
   ]
  },
  {
   "cell_type": "code",
   "execution_count": 10,
   "id": "be64bf6b",
   "metadata": {},
   "outputs": [],
   "source": [
    "# One hot encoding for categorical labels\n",
    "import keras\n",
    "from keras import utils as np_utils\n",
    "y = keras.utils.np_utils.to_categorical(y, num_classes)"
   ]
  },
  {
   "cell_type": "code",
   "execution_count": 11,
   "id": "c7358f86",
   "metadata": {},
   "outputs": [],
   "source": [
    "input_dim = X.shape[1]"
   ]
  },
  {
   "cell_type": "markdown",
   "id": "cb3088a1",
   "metadata": {},
   "source": [
    "# Standard Scaler"
   ]
  },
  {
   "cell_type": "code",
   "execution_count": 12,
   "id": "5bd820f4",
   "metadata": {},
   "outputs": [],
   "source": [
    "from sklearn.preprocessing import StandardScaler\n",
    "standardscaler=StandardScaler()"
   ]
  },
  {
   "cell_type": "code",
   "execution_count": 13,
   "id": "6a118694",
   "metadata": {},
   "outputs": [],
   "source": [
    "sc = pd.DataFrame(standardscaler.fit_transform(X))"
   ]
  },
  {
   "cell_type": "code",
   "execution_count": 14,
   "id": "d6e2f38b",
   "metadata": {},
   "outputs": [
    {
     "data": {
      "text/html": [
       "<div>\n",
       "<style scoped>\n",
       "    .dataframe tbody tr th:only-of-type {\n",
       "        vertical-align: middle;\n",
       "    }\n",
       "\n",
       "    .dataframe tbody tr th {\n",
       "        vertical-align: top;\n",
       "    }\n",
       "\n",
       "    .dataframe thead th {\n",
       "        text-align: right;\n",
       "    }\n",
       "</style>\n",
       "<table border=\"1\" class=\"dataframe\">\n",
       "  <thead>\n",
       "    <tr style=\"text-align: right;\">\n",
       "      <th></th>\n",
       "      <th>0</th>\n",
       "      <th>1</th>\n",
       "      <th>2</th>\n",
       "      <th>3</th>\n",
       "      <th>4</th>\n",
       "      <th>5</th>\n",
       "      <th>6</th>\n",
       "      <th>7</th>\n",
       "      <th>8</th>\n",
       "      <th>9</th>\n",
       "    </tr>\n",
       "  </thead>\n",
       "  <tbody>\n",
       "    <tr>\n",
       "      <th>0</th>\n",
       "      <td>-0.897865</td>\n",
       "      <td>-0.492387</td>\n",
       "      <td>-0.34092</td>\n",
       "      <td>-0.266731</td>\n",
       "      <td>-0.184056</td>\n",
       "      <td>-0.372066</td>\n",
       "      <td>-0.567813</td>\n",
       "      <td>-0.740999</td>\n",
       "      <td>-0.321967</td>\n",
       "      <td>-0.557514</td>\n",
       "    </tr>\n",
       "    <tr>\n",
       "      <th>1</th>\n",
       "      <td>-0.897865</td>\n",
       "      <td>-0.492387</td>\n",
       "      <td>-0.34092</td>\n",
       "      <td>-0.266731</td>\n",
       "      <td>-0.184056</td>\n",
       "      <td>-0.372066</td>\n",
       "      <td>-0.572360</td>\n",
       "      <td>-0.740999</td>\n",
       "      <td>-0.321967</td>\n",
       "      <td>-0.557514</td>\n",
       "    </tr>\n",
       "    <tr>\n",
       "      <th>2</th>\n",
       "      <td>-0.881636</td>\n",
       "      <td>-0.492387</td>\n",
       "      <td>-0.34092</td>\n",
       "      <td>-0.266731</td>\n",
       "      <td>-0.184056</td>\n",
       "      <td>-0.372066</td>\n",
       "      <td>-0.572360</td>\n",
       "      <td>-0.730451</td>\n",
       "      <td>-0.321967</td>\n",
       "      <td>-0.557514</td>\n",
       "    </tr>\n",
       "    <tr>\n",
       "      <th>3</th>\n",
       "      <td>-0.873356</td>\n",
       "      <td>-0.492387</td>\n",
       "      <td>-0.34092</td>\n",
       "      <td>-0.266731</td>\n",
       "      <td>-0.184056</td>\n",
       "      <td>-0.372066</td>\n",
       "      <td>-0.567813</td>\n",
       "      <td>-0.735618</td>\n",
       "      <td>-0.321967</td>\n",
       "      <td>-0.557514</td>\n",
       "    </tr>\n",
       "    <tr>\n",
       "      <th>4</th>\n",
       "      <td>-0.889585</td>\n",
       "      <td>-0.492387</td>\n",
       "      <td>-0.34092</td>\n",
       "      <td>-0.266731</td>\n",
       "      <td>-0.184056</td>\n",
       "      <td>-0.372066</td>\n",
       "      <td>-0.563448</td>\n",
       "      <td>-0.751547</td>\n",
       "      <td>-0.321967</td>\n",
       "      <td>-0.557514</td>\n",
       "    </tr>\n",
       "    <tr>\n",
       "      <th>...</th>\n",
       "      <td>...</td>\n",
       "      <td>...</td>\n",
       "      <td>...</td>\n",
       "      <td>...</td>\n",
       "      <td>...</td>\n",
       "      <td>...</td>\n",
       "      <td>...</td>\n",
       "      <td>...</td>\n",
       "      <td>...</td>\n",
       "      <td>...</td>\n",
       "    </tr>\n",
       "    <tr>\n",
       "      <th>352076</th>\n",
       "      <td>0.994348</td>\n",
       "      <td>-0.492387</td>\n",
       "      <td>-0.34092</td>\n",
       "      <td>-0.266731</td>\n",
       "      <td>-0.184056</td>\n",
       "      <td>-0.372066</td>\n",
       "      <td>-0.403579</td>\n",
       "      <td>0.042123</td>\n",
       "      <td>-0.321967</td>\n",
       "      <td>-0.533556</td>\n",
       "    </tr>\n",
       "    <tr>\n",
       "      <th>352077</th>\n",
       "      <td>0.768131</td>\n",
       "      <td>-0.492387</td>\n",
       "      <td>-0.34092</td>\n",
       "      <td>-0.266731</td>\n",
       "      <td>-0.184056</td>\n",
       "      <td>-0.372066</td>\n",
       "      <td>-0.377025</td>\n",
       "      <td>-0.052593</td>\n",
       "      <td>-0.321967</td>\n",
       "      <td>-0.518015</td>\n",
       "    </tr>\n",
       "    <tr>\n",
       "      <th>352078</th>\n",
       "      <td>0.679035</td>\n",
       "      <td>-0.492387</td>\n",
       "      <td>-0.34092</td>\n",
       "      <td>-0.266731</td>\n",
       "      <td>-0.184056</td>\n",
       "      <td>-0.281628</td>\n",
       "      <td>-0.359201</td>\n",
       "      <td>-0.078854</td>\n",
       "      <td>-0.321967</td>\n",
       "      <td>-0.518015</td>\n",
       "    </tr>\n",
       "    <tr>\n",
       "      <th>352079</th>\n",
       "      <td>0.565760</td>\n",
       "      <td>-0.492387</td>\n",
       "      <td>-0.34092</td>\n",
       "      <td>-0.266731</td>\n",
       "      <td>-0.184056</td>\n",
       "      <td>-0.192411</td>\n",
       "      <td>-0.359201</td>\n",
       "      <td>-0.141926</td>\n",
       "      <td>-0.321967</td>\n",
       "      <td>-0.502151</td>\n",
       "    </tr>\n",
       "    <tr>\n",
       "      <th>352080</th>\n",
       "      <td>0.719442</td>\n",
       "      <td>-0.492387</td>\n",
       "      <td>-0.34092</td>\n",
       "      <td>-0.266731</td>\n",
       "      <td>-0.184056</td>\n",
       "      <td>-0.163080</td>\n",
       "      <td>-0.372478</td>\n",
       "      <td>-0.131378</td>\n",
       "      <td>-0.321967</td>\n",
       "      <td>-0.494057</td>\n",
       "    </tr>\n",
       "  </tbody>\n",
       "</table>\n",
       "<p>352081 rows × 10 columns</p>\n",
       "</div>"
      ],
      "text/plain": [
       "               0         1        2         3         4         5         6  \\\n",
       "0      -0.897865 -0.492387 -0.34092 -0.266731 -0.184056 -0.372066 -0.567813   \n",
       "1      -0.897865 -0.492387 -0.34092 -0.266731 -0.184056 -0.372066 -0.572360   \n",
       "2      -0.881636 -0.492387 -0.34092 -0.266731 -0.184056 -0.372066 -0.572360   \n",
       "3      -0.873356 -0.492387 -0.34092 -0.266731 -0.184056 -0.372066 -0.567813   \n",
       "4      -0.889585 -0.492387 -0.34092 -0.266731 -0.184056 -0.372066 -0.563448   \n",
       "...          ...       ...      ...       ...       ...       ...       ...   \n",
       "352076  0.994348 -0.492387 -0.34092 -0.266731 -0.184056 -0.372066 -0.403579   \n",
       "352077  0.768131 -0.492387 -0.34092 -0.266731 -0.184056 -0.372066 -0.377025   \n",
       "352078  0.679035 -0.492387 -0.34092 -0.266731 -0.184056 -0.281628 -0.359201   \n",
       "352079  0.565760 -0.492387 -0.34092 -0.266731 -0.184056 -0.192411 -0.359201   \n",
       "352080  0.719442 -0.492387 -0.34092 -0.266731 -0.184056 -0.163080 -0.372478   \n",
       "\n",
       "               7         8         9  \n",
       "0      -0.740999 -0.321967 -0.557514  \n",
       "1      -0.740999 -0.321967 -0.557514  \n",
       "2      -0.730451 -0.321967 -0.557514  \n",
       "3      -0.735618 -0.321967 -0.557514  \n",
       "4      -0.751547 -0.321967 -0.557514  \n",
       "...          ...       ...       ...  \n",
       "352076  0.042123 -0.321967 -0.533556  \n",
       "352077 -0.052593 -0.321967 -0.518015  \n",
       "352078 -0.078854 -0.321967 -0.518015  \n",
       "352079 -0.141926 -0.321967 -0.502151  \n",
       "352080 -0.131378 -0.321967 -0.494057  \n",
       "\n",
       "[352081 rows x 10 columns]"
      ]
     },
     "execution_count": 14,
     "metadata": {},
     "output_type": "execute_result"
    }
   ],
   "source": [
    "sc"
   ]
  },
  {
   "cell_type": "code",
   "execution_count": 15,
   "id": "65cfb75d",
   "metadata": {},
   "outputs": [],
   "source": [
    "# Splitting data for training and testing\n",
    "X_train, X_test, y_train, y_test = train_test_split(sc, y, test_size = 0.2, random_state = 39)"
   ]
  },
  {
   "cell_type": "markdown",
   "id": "3ba47781",
   "metadata": {},
   "source": [
    "# Deep Learning "
   ]
  },
  {
   "cell_type": "code",
   "execution_count": 16,
   "id": "d426e2e1",
   "metadata": {},
   "outputs": [],
   "source": [
    "from sklearn.preprocessing import MinMaxScaler\n",
    "from tensorflow.keras.models import Model\n",
    "from tensorflow.keras.layers import Input\n",
    "from tensorflow.keras.layers import Dense\n",
    "from tensorflow.keras.layers import LeakyReLU,ELU\n",
    "from tensorflow.keras.layers import BatchNormalization\n",
    "from tensorflow.keras.utils import plot_model\n",
    "import tensorflow as tf\n",
    "from sklearn.model_selection import cross_val_score\n",
    "from keras.models import Sequential\n",
    "from keras.layers import Dense, BatchNormalization, Dropout\n",
    "from tensorflow.keras.optimizers import Adam, SGD, RMSprop, Adadelta, Adagrad, Adamax, Nadam, Ftrl\n",
    "from keras.callbacks import EarlyStopping, ModelCheckpoint\n",
    "from keras.wrappers.scikit_learn import KerasClassifier\n",
    "from sklearn.metrics import make_scorer, accuracy_score\n",
    "from sklearn.model_selection import StratifiedKFold"
   ]
  },
  {
   "cell_type": "code",
   "execution_count": 17,
   "id": "cd0ef208",
   "metadata": {},
   "outputs": [],
   "source": [
    "from keras.layers import LeakyReLU\n",
    "LeakyReLU = LeakyReLU(alpha=0.1)\n",
    "from keras.models import Sequential\n",
    "from keras.layers import Dense, Flatten, Convolution1D, Dropout\n",
    "from keras.initializers import random_uniform"
   ]
  },
  {
   "cell_type": "markdown",
   "id": "f97d61bc",
   "metadata": {},
   "source": [
    "# 1. Define Network"
   ]
  },
  {
   "cell_type": "code",
   "execution_count": 18,
   "id": "bd77bf81",
   "metadata": {},
   "outputs": [],
   "source": [
    "num_classes = 24\n",
    "input_dim = X.shape[1]"
   ]
  },
  {
   "cell_type": "code",
   "execution_count": 19,
   "id": "fbdce465",
   "metadata": {},
   "outputs": [],
   "source": [
    "visible = Input(shape=(input_dim,))\n",
    "hidden1 = Dense(3000, activation='relu')(visible)\n",
    "hidden2 = Dense(1500, activation='relu')(hidden1)\n",
    "hidden3 = Dropout(0.2)(hidden2)\n",
    "hidden4 = Dense(750, activation='relu')(hidden3)\n",
    "hidden5 = Dense(375, activation='relu')(hidden4)\n",
    "hidden6 = Dense(48, activation='relu')(hidden5)\n",
    "output = Dense(num_classes, activation='softmax')(hidden6)\n",
    "model = Model(inputs=visible, outputs=output)"
   ]
  },
  {
   "cell_type": "code",
   "execution_count": 20,
   "id": "1dd33478",
   "metadata": {},
   "outputs": [
    {
     "name": "stdout",
     "output_type": "stream",
     "text": [
      "Model: \"model\"\n",
      "_________________________________________________________________\n",
      " Layer (type)                Output Shape              Param #   \n",
      "=================================================================\n",
      " input_1 (InputLayer)        [(None, 10)]              0         \n",
      "                                                                 \n",
      " dense (Dense)               (None, 3000)              33000     \n",
      "                                                                 \n",
      " dense_1 (Dense)             (None, 1500)              4501500   \n",
      "                                                                 \n",
      " dropout (Dropout)           (None, 1500)              0         \n",
      "                                                                 \n",
      " dense_2 (Dense)             (None, 750)               1125750   \n",
      "                                                                 \n",
      " dense_3 (Dense)             (None, 375)               281625    \n",
      "                                                                 \n",
      " dense_4 (Dense)             (None, 48)                18048     \n",
      "                                                                 \n",
      " dense_5 (Dense)             (None, 24)                1176      \n",
      "                                                                 \n",
      "=================================================================\n",
      "Total params: 5,961,099\n",
      "Trainable params: 5,961,099\n",
      "Non-trainable params: 0\n",
      "_________________________________________________________________\n"
     ]
    }
   ],
   "source": [
    "model.summary()"
   ]
  },
  {
   "cell_type": "markdown",
   "id": "3196ac97",
   "metadata": {},
   "source": [
    "# 2. Compile Network"
   ]
  },
  {
   "cell_type": "code",
   "execution_count": 21,
   "id": "7a2d558b",
   "metadata": {},
   "outputs": [],
   "source": [
    "model.compile(optimizer='adam', loss='categorical_crossentropy', metrics=['accuracy'])"
   ]
  },
  {
   "cell_type": "code",
   "execution_count": 22,
   "id": "c1d2b36d",
   "metadata": {},
   "outputs": [
    {
     "name": "stdout",
     "output_type": "stream",
     "text": [
      "You must install pydot (`pip install pydot`) and install graphviz (see instructions at https://graphviz.gitlab.io/download/) for plot_model/model_to_dot to work.\n"
     ]
    }
   ],
   "source": [
    "plot_model(model, 'EMG_ANN', show_shapes = True)"
   ]
  },
  {
   "cell_type": "markdown",
   "id": "3358b592",
   "metadata": {},
   "source": [
    "# 3. Fit Network"
   ]
  },
  {
   "cell_type": "code",
   "execution_count": 23,
   "id": "e0ed4ddd",
   "metadata": {},
   "outputs": [
    {
     "name": "stdout",
     "output_type": "stream",
     "text": [
      "Epoch 1/100\n",
      "70/70 [==============================] - 19s 30ms/step - loss: 1.3455 - accuracy: 0.6481 - val_loss: 1.0299 - val_accuracy: 0.7153\n",
      "Epoch 2/100\n",
      "70/70 [==============================] - 2s 26ms/step - loss: 0.9345 - accuracy: 0.7401 - val_loss: 0.8691 - val_accuracy: 0.7595\n",
      "Epoch 3/100\n",
      "70/70 [==============================] - 2s 27ms/step - loss: 0.8179 - accuracy: 0.7706 - val_loss: 0.7799 - val_accuracy: 0.7823\n",
      "Epoch 4/100\n",
      "70/70 [==============================] - 2s 27ms/step - loss: 0.7471 - accuracy: 0.7883 - val_loss: 0.7088 - val_accuracy: 0.8000\n",
      "Epoch 5/100\n",
      "70/70 [==============================] - 2s 29ms/step - loss: 0.6981 - accuracy: 0.8014 - val_loss: 0.6687 - val_accuracy: 0.8104\n",
      "Epoch 6/100\n",
      "70/70 [==============================] - 2s 30ms/step - loss: 0.6564 - accuracy: 0.8120 - val_loss: 0.6338 - val_accuracy: 0.8172\n",
      "Epoch 7/100\n",
      "70/70 [==============================] - 2s 27ms/step - loss: 0.6290 - accuracy: 0.8195 - val_loss: 0.6142 - val_accuracy: 0.8233\n",
      "Epoch 8/100\n",
      "70/70 [==============================] - 2s 33ms/step - loss: 0.6017 - accuracy: 0.8270 - val_loss: 0.5812 - val_accuracy: 0.8323\n",
      "Epoch 9/100\n",
      "70/70 [==============================] - 2s 30ms/step - loss: 0.5761 - accuracy: 0.8336 - val_loss: 0.5709 - val_accuracy: 0.8354\n",
      "Epoch 10/100\n",
      "70/70 [==============================] - 2s 27ms/step - loss: 0.5587 - accuracy: 0.8383 - val_loss: 0.5615 - val_accuracy: 0.8394\n",
      "Epoch 11/100\n",
      "70/70 [==============================] - 2s 26ms/step - loss: 0.5427 - accuracy: 0.8428 - val_loss: 0.5546 - val_accuracy: 0.8419\n",
      "Epoch 12/100\n",
      "70/70 [==============================] - 2s 33ms/step - loss: 0.5265 - accuracy: 0.8476 - val_loss: 0.5216 - val_accuracy: 0.8494\n",
      "Epoch 13/100\n",
      "70/70 [==============================] - 2s 27ms/step - loss: 0.5111 - accuracy: 0.8516 - val_loss: 0.5141 - val_accuracy: 0.8504\n",
      "Epoch 14/100\n",
      "70/70 [==============================] - 2s 28ms/step - loss: 0.4964 - accuracy: 0.8556 - val_loss: 0.5042 - val_accuracy: 0.8538\n",
      "Epoch 15/100\n",
      "70/70 [==============================] - 2s 32ms/step - loss: 0.4877 - accuracy: 0.8582 - val_loss: 0.4887 - val_accuracy: 0.8586\n",
      "Epoch 16/100\n",
      "70/70 [==============================] - 2s 30ms/step - loss: 0.4760 - accuracy: 0.8614 - val_loss: 0.4884 - val_accuracy: 0.8577\n",
      "Epoch 17/100\n",
      "70/70 [==============================] - 2s 26ms/step - loss: 0.4660 - accuracy: 0.8641 - val_loss: 0.4731 - val_accuracy: 0.8628\n",
      "Epoch 18/100\n",
      "70/70 [==============================] - 2s 30ms/step - loss: 0.4597 - accuracy: 0.8661 - val_loss: 0.4617 - val_accuracy: 0.8645\n",
      "Epoch 19/100\n",
      "70/70 [==============================] - 2s 31ms/step - loss: 0.4461 - accuracy: 0.8697 - val_loss: 0.4564 - val_accuracy: 0.8676\n",
      "Epoch 20/100\n",
      "70/70 [==============================] - 2s 26ms/step - loss: 0.4383 - accuracy: 0.8719 - val_loss: 0.4477 - val_accuracy: 0.8695\n",
      "Epoch 21/100\n",
      "70/70 [==============================] - 2s 28ms/step - loss: 0.4284 - accuracy: 0.8749 - val_loss: 0.4438 - val_accuracy: 0.8698\n",
      "Epoch 22/100\n",
      "70/70 [==============================] - 2s 28ms/step - loss: 0.4196 - accuracy: 0.8772 - val_loss: 0.4355 - val_accuracy: 0.8725\n",
      "Epoch 23/100\n",
      "70/70 [==============================] - 2s 30ms/step - loss: 0.4213 - accuracy: 0.8770 - val_loss: 0.4285 - val_accuracy: 0.8740\n",
      "Epoch 24/100\n",
      "70/70 [==============================] - 2s 30ms/step - loss: 0.4067 - accuracy: 0.8809 - val_loss: 0.4184 - val_accuracy: 0.8775\n",
      "Epoch 25/100\n",
      "70/70 [==============================] - 2s 27ms/step - loss: 0.4012 - accuracy: 0.8829 - val_loss: 0.4139 - val_accuracy: 0.8785\n",
      "Epoch 26/100\n",
      "70/70 [==============================] - 2s 28ms/step - loss: 0.3940 - accuracy: 0.8844 - val_loss: 0.4081 - val_accuracy: 0.8807\n",
      "Epoch 27/100\n",
      "70/70 [==============================] - 2s 31ms/step - loss: 0.3893 - accuracy: 0.8857 - val_loss: 0.4054 - val_accuracy: 0.8809\n",
      "Epoch 28/100\n",
      "70/70 [==============================] - 2s 34ms/step - loss: 0.3818 - accuracy: 0.8879 - val_loss: 0.4039 - val_accuracy: 0.8818\n",
      "Epoch 29/100\n",
      "70/70 [==============================] - 2s 26ms/step - loss: 0.3792 - accuracy: 0.8887 - val_loss: 0.4024 - val_accuracy: 0.8809\n",
      "Epoch 30/100\n",
      "70/70 [==============================] - 2s 30ms/step - loss: 0.3722 - accuracy: 0.8906 - val_loss: 0.3953 - val_accuracy: 0.8835\n",
      "Epoch 31/100\n",
      "70/70 [==============================] - 2s 32ms/step - loss: 0.3676 - accuracy: 0.8921 - val_loss: 0.3877 - val_accuracy: 0.8869\n",
      "Epoch 32/100\n",
      "70/70 [==============================] - 2s 27ms/step - loss: 0.3620 - accuracy: 0.8936 - val_loss: 0.3987 - val_accuracy: 0.8835\n",
      "Epoch 33/100\n",
      "70/70 [==============================] - 2s 31ms/step - loss: 0.3566 - accuracy: 0.8947 - val_loss: 0.3809 - val_accuracy: 0.8894\n",
      "Epoch 34/100\n",
      "70/70 [==============================] - 2s 31ms/step - loss: 0.3494 - accuracy: 0.8972 - val_loss: 0.3737 - val_accuracy: 0.8900\n",
      "Epoch 35/100\n",
      "70/70 [==============================] - 2s 29ms/step - loss: 0.3476 - accuracy: 0.8973 - val_loss: 0.3723 - val_accuracy: 0.8914\n",
      "Epoch 36/100\n",
      "70/70 [==============================] - 2s 28ms/step - loss: 0.3413 - accuracy: 0.8993 - val_loss: 0.3679 - val_accuracy: 0.8912\n",
      "Epoch 37/100\n",
      "70/70 [==============================] - 2s 30ms/step - loss: 0.3385 - accuracy: 0.9007 - val_loss: 0.3771 - val_accuracy: 0.8908\n",
      "Epoch 38/100\n",
      "70/70 [==============================] - 2s 28ms/step - loss: 0.3389 - accuracy: 0.8999 - val_loss: 0.3769 - val_accuracy: 0.8908\n",
      "Epoch 39/100\n",
      "70/70 [==============================] - 2s 28ms/step - loss: 0.3331 - accuracy: 0.9016 - val_loss: 0.3663 - val_accuracy: 0.8919\n",
      "Epoch 40/100\n",
      "70/70 [==============================] - 2s 30ms/step - loss: 0.3287 - accuracy: 0.9022 - val_loss: 0.3670 - val_accuracy: 0.8932\n",
      "Epoch 41/100\n",
      "70/70 [==============================] - 2s 27ms/step - loss: 0.3248 - accuracy: 0.9044 - val_loss: 0.3647 - val_accuracy: 0.8938\n",
      "Epoch 42/100\n",
      "70/70 [==============================] - 2s 28ms/step - loss: 0.3200 - accuracy: 0.9057 - val_loss: 0.3580 - val_accuracy: 0.8955\n",
      "Epoch 43/100\n",
      "70/70 [==============================] - 2s 30ms/step - loss: 0.3217 - accuracy: 0.9053 - val_loss: 0.3603 - val_accuracy: 0.8944\n",
      "Epoch 44/100\n",
      "70/70 [==============================] - 2s 28ms/step - loss: 0.3164 - accuracy: 0.9062 - val_loss: 0.3430 - val_accuracy: 0.8993\n",
      "Epoch 45/100\n",
      "70/70 [==============================] - 2s 28ms/step - loss: 0.3091 - accuracy: 0.9090 - val_loss: 0.3530 - val_accuracy: 0.8978\n",
      "Epoch 46/100\n",
      "70/70 [==============================] - 2s 30ms/step - loss: 0.3102 - accuracy: 0.9085 - val_loss: 0.3428 - val_accuracy: 0.9008\n",
      "Epoch 47/100\n",
      "70/70 [==============================] - 2s 27ms/step - loss: 0.3057 - accuracy: 0.9096 - val_loss: 0.3489 - val_accuracy: 0.8986\n",
      "Epoch 48/100\n",
      "70/70 [==============================] - 3s 37ms/step - loss: 0.3030 - accuracy: 0.9101 - val_loss: 0.3387 - val_accuracy: 0.9015\n",
      "Epoch 49/100\n",
      "70/70 [==============================] - 2s 30ms/step - loss: 0.2957 - accuracy: 0.9123 - val_loss: 0.3360 - val_accuracy: 0.9022\n",
      "Epoch 50/100\n",
      "70/70 [==============================] - 2s 27ms/step - loss: 0.2955 - accuracy: 0.9124 - val_loss: 0.3377 - val_accuracy: 0.9013\n",
      "Epoch 51/100\n",
      "70/70 [==============================] - 2s 32ms/step - loss: 0.2929 - accuracy: 0.9128 - val_loss: 0.3352 - val_accuracy: 0.9019\n",
      "Epoch 52/100\n",
      "70/70 [==============================] - 2s 31ms/step - loss: 0.2910 - accuracy: 0.9134 - val_loss: 0.3477 - val_accuracy: 0.9000\n",
      "Epoch 53/100\n",
      "70/70 [==============================] - 2s 29ms/step - loss: 0.2885 - accuracy: 0.9141 - val_loss: 0.3309 - val_accuracy: 0.9035\n",
      "Epoch 54/100\n",
      "70/70 [==============================] - 2s 33ms/step - loss: 0.2841 - accuracy: 0.9160 - val_loss: 0.3281 - val_accuracy: 0.9048\n",
      "Epoch 55/100\n",
      "70/70 [==============================] - 2s 30ms/step - loss: 0.2801 - accuracy: 0.9168 - val_loss: 0.3327 - val_accuracy: 0.9039\n",
      "Epoch 56/100\n",
      "70/70 [==============================] - 2s 34ms/step - loss: 0.2792 - accuracy: 0.9173 - val_loss: 0.3256 - val_accuracy: 0.9052\n",
      "Epoch 57/100\n",
      "70/70 [==============================] - 2s 28ms/step - loss: 0.2781 - accuracy: 0.9175 - val_loss: 0.3275 - val_accuracy: 0.9053\n",
      "Epoch 58/100\n"
     ]
    },
    {
     "name": "stdout",
     "output_type": "stream",
     "text": [
      "70/70 [==============================] - 2s 33ms/step - loss: 0.2784 - accuracy: 0.9170 - val_loss: 0.3296 - val_accuracy: 0.9050\n",
      "Epoch 59/100\n",
      "70/70 [==============================] - 2s 32ms/step - loss: 0.2758 - accuracy: 0.9182 - val_loss: 0.3188 - val_accuracy: 0.9076\n",
      "Epoch 60/100\n",
      "70/70 [==============================] - 2s 25ms/step - loss: 0.2718 - accuracy: 0.9192 - val_loss: 0.3282 - val_accuracy: 0.9059\n",
      "Epoch 61/100\n",
      "70/70 [==============================] - 2s 28ms/step - loss: 0.2695 - accuracy: 0.9198 - val_loss: 0.3128 - val_accuracy: 0.9091\n",
      "Epoch 62/100\n",
      "70/70 [==============================] - 2s 36ms/step - loss: 0.2678 - accuracy: 0.9202 - val_loss: 0.3150 - val_accuracy: 0.9084\n",
      "Epoch 63/100\n",
      "70/70 [==============================] - 2s 28ms/step - loss: 0.2677 - accuracy: 0.9206 - val_loss: 0.3178 - val_accuracy: 0.9081\n",
      "Epoch 64/100\n",
      "70/70 [==============================] - 2s 28ms/step - loss: 0.2606 - accuracy: 0.9224 - val_loss: 0.3078 - val_accuracy: 0.9114\n",
      "Epoch 65/100\n",
      "70/70 [==============================] - 2s 29ms/step - loss: 0.2595 - accuracy: 0.9227 - val_loss: 0.3068 - val_accuracy: 0.9115\n",
      "Epoch 66/100\n",
      "70/70 [==============================] - 2s 32ms/step - loss: 0.2574 - accuracy: 0.9230 - val_loss: 0.3132 - val_accuracy: 0.9092\n",
      "Epoch 67/100\n",
      "70/70 [==============================] - 2s 27ms/step - loss: 0.2580 - accuracy: 0.9232 - val_loss: 0.3157 - val_accuracy: 0.9092\n",
      "Epoch 68/100\n",
      "70/70 [==============================] - 2s 27ms/step - loss: 0.2557 - accuracy: 0.9233 - val_loss: 0.3129 - val_accuracy: 0.9096\n",
      "Epoch 69/100\n",
      "70/70 [==============================] - 2s 28ms/step - loss: 0.2569 - accuracy: 0.9235 - val_loss: 0.3106 - val_accuracy: 0.9101\n",
      "Epoch 70/100\n",
      "70/70 [==============================] - 2s 31ms/step - loss: 0.2495 - accuracy: 0.9252 - val_loss: 0.3117 - val_accuracy: 0.9106\n",
      "Epoch 71/100\n",
      "70/70 [==============================] - 2s 28ms/step - loss: 0.2511 - accuracy: 0.9251 - val_loss: 0.3101 - val_accuracy: 0.9097\n",
      "Epoch 72/100\n",
      "70/70 [==============================] - 2s 28ms/step - loss: 0.2506 - accuracy: 0.9250 - val_loss: 0.3023 - val_accuracy: 0.9118\n",
      "Epoch 73/100\n",
      "70/70 [==============================] - 2s 29ms/step - loss: 0.2441 - accuracy: 0.9274 - val_loss: 0.3051 - val_accuracy: 0.9116\n",
      "Epoch 74/100\n",
      "70/70 [==============================] - 2s 32ms/step - loss: 0.2416 - accuracy: 0.9277 - val_loss: 0.2991 - val_accuracy: 0.9139\n",
      "Epoch 75/100\n",
      "70/70 [==============================] - 2s 29ms/step - loss: 0.2409 - accuracy: 0.9281 - val_loss: 0.3009 - val_accuracy: 0.9143\n",
      "Epoch 76/100\n",
      "70/70 [==============================] - 2s 32ms/step - loss: 0.2398 - accuracy: 0.9279 - val_loss: 0.3070 - val_accuracy: 0.9125\n",
      "Epoch 77/100\n",
      "70/70 [==============================] - 2s 29ms/step - loss: 0.2408 - accuracy: 0.9279 - val_loss: 0.2986 - val_accuracy: 0.9141\n",
      "Epoch 78/100\n",
      "70/70 [==============================] - 2s 29ms/step - loss: 0.2383 - accuracy: 0.9287 - val_loss: 0.3029 - val_accuracy: 0.9129\n",
      "Epoch 79/100\n",
      "70/70 [==============================] - 2s 34ms/step - loss: 0.2372 - accuracy: 0.9287 - val_loss: 0.2999 - val_accuracy: 0.9139\n",
      "Epoch 80/100\n",
      "70/70 [==============================] - 2s 30ms/step - loss: 0.2341 - accuracy: 0.9294 - val_loss: 0.3020 - val_accuracy: 0.9138\n",
      "Epoch 81/100\n",
      "70/70 [==============================] - 2s 29ms/step - loss: 0.2355 - accuracy: 0.9292 - val_loss: 0.3020 - val_accuracy: 0.9143\n",
      "Epoch 82/100\n",
      "70/70 [==============================] - 2s 31ms/step - loss: 0.2344 - accuracy: 0.9295 - val_loss: 0.2984 - val_accuracy: 0.9149\n",
      "Epoch 83/100\n",
      "70/70 [==============================] - 2s 31ms/step - loss: 0.2323 - accuracy: 0.9301 - val_loss: 0.2981 - val_accuracy: 0.9141\n",
      "Epoch 84/100\n",
      "70/70 [==============================] - 2s 27ms/step - loss: 0.2284 - accuracy: 0.9310 - val_loss: 0.3074 - val_accuracy: 0.9123\n",
      "Epoch 85/100\n",
      "70/70 [==============================] - 2s 31ms/step - loss: 0.2297 - accuracy: 0.9308 - val_loss: 0.3073 - val_accuracy: 0.9142\n",
      "Epoch 86/100\n",
      "70/70 [==============================] - 2s 32ms/step - loss: 0.2291 - accuracy: 0.9308 - val_loss: 0.2965 - val_accuracy: 0.9158\n",
      "Epoch 87/100\n",
      "70/70 [==============================] - 2s 29ms/step - loss: 0.2244 - accuracy: 0.9322 - val_loss: 0.2948 - val_accuracy: 0.9160\n",
      "Epoch 88/100\n",
      "70/70 [==============================] - 2s 27ms/step - loss: 0.2231 - accuracy: 0.9333 - val_loss: 0.2953 - val_accuracy: 0.9146\n",
      "Epoch 89/100\n",
      "70/70 [==============================] - 2s 28ms/step - loss: 0.2235 - accuracy: 0.9329 - val_loss: 0.2912 - val_accuracy: 0.9169\n",
      "Epoch 90/100\n",
      "70/70 [==============================] - 2s 33ms/step - loss: 0.2225 - accuracy: 0.9331 - val_loss: 0.2969 - val_accuracy: 0.9166\n",
      "Epoch 91/100\n",
      "70/70 [==============================] - 2s 30ms/step - loss: 0.2226 - accuracy: 0.9329 - val_loss: 0.2953 - val_accuracy: 0.9159\n",
      "Epoch 92/100\n",
      "70/70 [==============================] - 2s 27ms/step - loss: 0.2190 - accuracy: 0.9337 - val_loss: 0.2907 - val_accuracy: 0.9176\n",
      "Epoch 93/100\n",
      "70/70 [==============================] - 2s 32ms/step - loss: 0.2172 - accuracy: 0.9343 - val_loss: 0.3028 - val_accuracy: 0.9152\n",
      "Epoch 94/100\n",
      "70/70 [==============================] - 2s 32ms/step - loss: 0.2216 - accuracy: 0.9333 - val_loss: 0.2961 - val_accuracy: 0.9167\n",
      "Epoch 95/100\n",
      "70/70 [==============================] - 2s 28ms/step - loss: 0.2175 - accuracy: 0.9343 - val_loss: 0.2935 - val_accuracy: 0.9174\n",
      "Epoch 96/100\n",
      "70/70 [==============================] - 2s 32ms/step - loss: 0.2173 - accuracy: 0.9345 - val_loss: 0.2905 - val_accuracy: 0.9180\n",
      "Epoch 97/100\n",
      "70/70 [==============================] - 2s 27ms/step - loss: 0.2141 - accuracy: 0.9353 - val_loss: 0.2913 - val_accuracy: 0.9167\n",
      "Epoch 98/100\n",
      "70/70 [==============================] - 2s 26ms/step - loss: 0.2114 - accuracy: 0.9363 - val_loss: 0.2865 - val_accuracy: 0.9189\n",
      "Epoch 99/100\n",
      "70/70 [==============================] - 2s 33ms/step - loss: 0.2072 - accuracy: 0.9371 - val_loss: 0.2852 - val_accuracy: 0.9191\n",
      "Epoch 100/100\n",
      "70/70 [==============================] - 2s 27ms/step - loss: 0.2077 - accuracy: 0.9370 - val_loss: 0.2908 - val_accuracy: 0.9180\n"
     ]
    }
   ],
   "source": [
    "history = model.fit(X_train, y_train, batch_size=4056, epochs=100, validation_data = (X_test, y_test))"
   ]
  },
  {
   "cell_type": "markdown",
   "id": "ffed59b1",
   "metadata": {},
   "source": [
    "# 4.Evaluate Network"
   ]
  },
  {
   "cell_type": "markdown",
   "id": "28731190",
   "metadata": {},
   "source": [
    "## 4.1. Plotting Loss and Accuracy"
   ]
  },
  {
   "cell_type": "code",
   "execution_count": 24,
   "id": "971e6040",
   "metadata": {},
   "outputs": [
    {
     "data": {
      "text/plain": [
       "Text(0.5, 1.0, 'Loss Curve of Deep Neural Netowork')"
      ]
     },
     "execution_count": 24,
     "metadata": {},
     "output_type": "execute_result"
    },
    {
     "data": {
      "image/png": "[encoded data removed]",
      "text/plain": [
       "<Figure size 432x288 with 1 Axes>"
      ]
     },
     "metadata": {
      "needs_background": "light"
     },
     "output_type": "display_data"
    }
   ],
   "source": [
    "#Loss Curve\n",
    "\n",
    "\n",
    "plt.plot(figsize = [8,6])\n",
    "\n",
    "plt.plot(history.history['loss'],'r',linewidth = 3.0)\n",
    "plt.plot(history.history['val_loss'],'b',linewidth = 3.0)\n",
    "\n",
    "plt.legend(['Training Loss', 'Validation Loss'], fontsize = 18)\n",
    "\n",
    "plt.xlabel('Epochs', fontsize = 16)\n",
    "plt.ylabel('Loss', fontsize = 16)\n",
    "\n",
    "plt.title('Loss Curve of Deep Neural Netowork' , fontsize = 16 )\n",
    "\n"
   ]
  },
  {
   "cell_type": "code",
   "execution_count": 25,
   "id": "b0c193ec",
   "metadata": {},
   "outputs": [
    {
     "data": {
      "text/plain": [
       "Text(0.5, 1.0, 'Accuracy Curve of Deep Neural Netowork')"
      ]
     },
     "execution_count": 25,
     "metadata": {},
     "output_type": "execute_result"
    },
    {
     "data": {
      "image/png": "[encoded data removed]",
      "text/plain": [
       "<Figure size 432x288 with 1 Axes>"
      ]
     },
     "metadata": {
      "needs_background": "light"
     },
     "output_type": "display_data"
    }
   ],
   "source": [
    "#Accuracy Curve\n",
    "\n",
    "plt.plot(figsize = [8,6])\n",
    "plt.plot(history.history['accuracy'],'r',linewidth = 3.0)\n",
    "plt.plot(history.history['val_accuracy'],'b',linewidth = 3.0)\n",
    "\n",
    "plt.legend(['Training Accuracy', 'Validation Accuracy'], fontsize = 18)\n",
    "\n",
    "plt.xlabel('Epochs', fontsize = 16)\n",
    "plt.ylabel('Accuracy', fontsize = 16)\n",
    "\n",
    "\n",
    "plt.title('Accuracy Curve of Deep Neural Netowork' , fontsize = 16 )"
   ]
  },
  {
   "cell_type": "markdown",
   "id": "741a02aa",
   "metadata": {},
   "source": [
    "##  4.2 Make Predictions"
   ]
  },
  {
   "cell_type": "code",
   "execution_count": 26,
   "id": "e8465627",
   "metadata": {},
   "outputs": [],
   "source": [
    "predictions = model.predict(X_test)\n",
    "predictions = np.argmax(predictions, axis = 1)"
   ]
  },
  {
   "cell_type": "code",
   "execution_count": 27,
   "id": "3cac1a50",
   "metadata": {},
   "outputs": [
    {
     "data": {
      "text/plain": [
       "array([15,  0,  0, ...,  0,  0,  0], dtype=int64)"
      ]
     },
     "execution_count": 27,
     "metadata": {},
     "output_type": "execute_result"
    }
   ],
   "source": [
    "predictions"
   ]
  },
  {
   "cell_type": "markdown",
   "id": "70d666bb",
   "metadata": {},
   "source": [
    "#### Transforming from One Hot Encoding"
   ]
  },
  {
   "cell_type": "code",
   "execution_count": 28,
   "id": "7234b6e7",
   "metadata": {},
   "outputs": [
    {
     "data": {
      "text/plain": [
       "9"
      ]
     },
     "execution_count": 28,
     "metadata": {},
     "output_type": "execute_result"
    }
   ],
   "source": [
    "y_test =np.argmax(y_test, axis=1)\n",
    "y_test[1]"
   ]
  },
  {
   "cell_type": "code",
   "execution_count": 29,
   "id": "6278820d",
   "metadata": {},
   "outputs": [
    {
     "name": "stdout",
     "output_type": "stream",
     "text": [
      "Accuracy is: 91.80453583651675\n"
     ]
    }
   ],
   "source": [
    "from sklearn.metrics import accuracy_score\n",
    "accuracy = {accuracy_score(y_test, predictions)}\n",
    "print(f\"Accuracy is: {accuracy_score(y_test, predictions)* 100}\")"
   ]
  },
  {
   "cell_type": "markdown",
   "id": "eb044ea1",
   "metadata": {},
   "source": [
    "## 4.3 Classification Report"
   ]
  },
  {
   "cell_type": "code",
   "execution_count": 30,
   "id": "001ebc5a",
   "metadata": {},
   "outputs": [
    {
     "name": "stdout",
     "output_type": "stream",
     "text": [
      "\u001b[1mClassification report : \u001b[0m\n",
      "               precision    recall  f1-score   support\n",
      "\n",
      "           0       0.92      0.98      0.95     37336\n",
      "           1       0.93      0.89      0.91      2041\n",
      "           2       0.92      0.91      0.91      1801\n",
      "           3       0.96      0.80      0.88      1808\n",
      "           4       0.93      0.90      0.92      1649\n",
      "           5       0.86      0.82      0.84      1852\n",
      "           6       0.93      0.88      0.91      1782\n",
      "           7       0.84      0.76      0.80      2039\n",
      "           8       0.86      0.75      0.80      1792\n",
      "           9       0.89      0.75      0.81      1670\n",
      "          10       0.95      0.83      0.89      1657\n",
      "          11       0.92      0.85      0.88      1863\n",
      "          12       0.91      0.85      0.88      1955\n",
      "          13       0.92      0.91      0.91      1339\n",
      "          14       0.91      0.75      0.82      1283\n",
      "          15       0.93      0.88      0.90      1165\n",
      "          16       0.93      0.93      0.93      1370\n",
      "          17       0.90      0.77      0.83      1399\n",
      "          18       0.93      0.85      0.88       753\n",
      "          19       0.85      0.86      0.86       765\n",
      "          20       0.99      0.98      0.99       816\n",
      "          21       0.99      0.91      0.95       696\n",
      "          22       0.96      0.97      0.97       786\n",
      "          23       0.93      0.89      0.91       800\n",
      "\n",
      "    accuracy                           0.92     70417\n",
      "   macro avg       0.92      0.86      0.89     70417\n",
      "weighted avg       0.92      0.92      0.92     70417\n",
      "\n",
      "\u001b[1mConfusion Matrix : \u001b[0m\n"
     ]
    },
    {
     "data": {
      "image/png": "[encoded data removed]",
      "text/plain": [
       "<Figure size 432x288 with 2 Axes>"
      ]
     },
     "metadata": {
      "needs_background": "light"
     },
     "output_type": "display_data"
    }
   ],
   "source": [
    "from sklearn.metrics import confusion_matrix, f1_score, accuracy_score, classification_report\n",
    "print('\\033[1m' +'Classification report : '+ '\\033[0m\\n', classification_report(y_test, predictions))\n",
    "\n",
    "cm = confusion_matrix(predictions, y_test)\n",
    "print('\\033[1m' +'Confusion Matrix : '+ '\\033[0m')\n",
    "sns.heatmap(cm, cmap = 'OrRd',annot = True, fmt='d')\n",
    "plt.show()"
   ]
  },
  {
   "cell_type": "markdown",
   "id": "eaa5e512",
   "metadata": {},
   "source": [
    "## 4.4 Evaluation"
   ]
  },
  {
   "cell_type": "code",
   "execution_count": 31,
   "id": "9e469f86",
   "metadata": {},
   "outputs": [
    {
     "name": "stdout",
     "output_type": "stream",
     "text": [
      "MAE: 0.6760299359529659\n",
      "MSE: 7.720209608475226\n",
      "RMSE: 2.7785265175044174\n"
     ]
    }
   ],
   "source": [
    "from sklearn import metrics\n",
    "\n",
    "print('MAE:', metrics.mean_absolute_error(y_test,predictions))\n",
    "print('MSE:', metrics.mean_squared_error(y_test, predictions))\n",
    "print('RMSE:', np.sqrt(metrics.mean_squared_error(y_test, predictions)))"
   ]
  },
  {
   "cell_type": "code",
   "execution_count": 32,
   "id": "dff2a82d",
   "metadata": {},
   "outputs": [
    {
     "name": "stdout",
     "output_type": "stream",
     "text": [
      "Precision Score :  0.9177455683875664\n",
      "Recall Score :  0.9180453583651675\n",
      "f1_score :  0.9163952696238719\n"
     ]
    }
   ],
   "source": [
    "from sklearn.metrics import precision_score\n",
    "print(\"Precision Score : \",precision_score(y_test, predictions, average='weighted'))\n",
    "\n",
    "\n",
    "from sklearn.metrics import recall_score\n",
    "print(\"Recall Score : \",recall_score(y_test, predictions,average='weighted'))\n",
    "\n",
    "\n",
    "from sklearn.metrics import f1_score\n",
    "print(\"f1_score : \",f1_score(y_test, predictions,average='weighted'))"
   ]
  },
  {
   "cell_type": "code",
   "execution_count": null,
   "id": "81ac7468",
   "metadata": {},
   "outputs": [],
   "source": []
  },
  {
   "cell_type": "code",
   "execution_count": null,
   "id": "71a4c6e0",
   "metadata": {},
   "outputs": [],
   "source": []
  }
 ],
 "metadata": {
  "kernelspec": {
   "display_name": "Python 3 (ipykernel)",
   "language": "python",
   "name": "python3"
  },
  "language_info": {
   "codemirror_mode": {
    "name": "ipython",
    "version": 3
   },
   "file_extension": ".py",
   "mimetype": "text/x-python",
   "name": "python",
   "nbconvert_exporter": "python",
   "pygments_lexer": "ipython3",
   "version": "3.8.12"
  }
 },
 "nbformat": 4,
 "nbformat_minor": 5
}
