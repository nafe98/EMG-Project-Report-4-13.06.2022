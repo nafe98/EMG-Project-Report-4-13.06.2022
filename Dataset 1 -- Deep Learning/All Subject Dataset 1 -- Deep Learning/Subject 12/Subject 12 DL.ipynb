{
 "cells": [
  {
   "cell_type": "markdown",
   "id": "bf8ee932",
   "metadata": {},
   "source": [
    "# Importing Libraries"
   ]
  },
  {
   "cell_type": "code",
   "execution_count": 1,
   "id": "0f663fa8",
   "metadata": {},
   "outputs": [],
   "source": [
    "import numpy as np\n",
    "import pandas as pd\n",
    "import matplotlib.pyplot as plt\n",
    "import seaborn as sns\n",
    "from sklearn.model_selection import train_test_split"
   ]
  },
  {
   "cell_type": "markdown",
   "id": "511af272",
   "metadata": {},
   "source": [
    "# Loading Data"
   ]
  },
  {
   "cell_type": "code",
   "execution_count": 2,
   "id": "04fd19b0",
   "metadata": {},
   "outputs": [
    {
     "data": {
      "text/html": [
       "<div>\n",
       "<style scoped>\n",
       "    .dataframe tbody tr th:only-of-type {\n",
       "        vertical-align: middle;\n",
       "    }\n",
       "\n",
       "    .dataframe tbody tr th {\n",
       "        vertical-align: top;\n",
       "    }\n",
       "\n",
       "    .dataframe thead th {\n",
       "        text-align: right;\n",
       "    }\n",
       "</style>\n",
       "<table border=\"1\" class=\"dataframe\">\n",
       "  <thead>\n",
       "    <tr style=\"text-align: right;\">\n",
       "      <th></th>\n",
       "      <th>Emg1</th>\n",
       "      <th>Emg2</th>\n",
       "      <th>Emg3</th>\n",
       "      <th>Emg4</th>\n",
       "      <th>Emg5</th>\n",
       "      <th>Emg6</th>\n",
       "      <th>Emg7</th>\n",
       "      <th>Emg8</th>\n",
       "      <th>Emg9</th>\n",
       "      <th>Emg10</th>\n",
       "      <th>repetition</th>\n",
       "      <th>rerepetition</th>\n",
       "      <th>stimulus</th>\n",
       "      <th>restimulus</th>\n",
       "    </tr>\n",
       "  </thead>\n",
       "  <tbody>\n",
       "    <tr>\n",
       "      <th>301587</th>\n",
       "      <td>0.1270</td>\n",
       "      <td>0.0024</td>\n",
       "      <td>0.0342</td>\n",
       "      <td>0.0024</td>\n",
       "      <td>0.0024</td>\n",
       "      <td>0.0024</td>\n",
       "      <td>0.1343</td>\n",
       "      <td>0.1099</td>\n",
       "      <td>0.0024</td>\n",
       "      <td>0.0415</td>\n",
       "      <td>3</td>\n",
       "      <td>3</td>\n",
       "      <td>7</td>\n",
       "      <td>7</td>\n",
       "    </tr>\n",
       "    <tr>\n",
       "      <th>246404</th>\n",
       "      <td>0.1685</td>\n",
       "      <td>0.0024</td>\n",
       "      <td>0.0024</td>\n",
       "      <td>0.0024</td>\n",
       "      <td>0.0024</td>\n",
       "      <td>0.0024</td>\n",
       "      <td>0.0049</td>\n",
       "      <td>0.0439</td>\n",
       "      <td>0.0024</td>\n",
       "      <td>0.0488</td>\n",
       "      <td>0</td>\n",
       "      <td>0</td>\n",
       "      <td>0</td>\n",
       "      <td>0</td>\n",
       "    </tr>\n",
       "    <tr>\n",
       "      <th>362627</th>\n",
       "      <td>0.0317</td>\n",
       "      <td>0.0024</td>\n",
       "      <td>0.1123</td>\n",
       "      <td>0.2002</td>\n",
       "      <td>0.0024</td>\n",
       "      <td>0.0024</td>\n",
       "      <td>0.0659</td>\n",
       "      <td>0.9302</td>\n",
       "      <td>0.2002</td>\n",
       "      <td>0.3027</td>\n",
       "      <td>3</td>\n",
       "      <td>3</td>\n",
       "      <td>14</td>\n",
       "      <td>14</td>\n",
       "    </tr>\n",
       "    <tr>\n",
       "      <th>181537</th>\n",
       "      <td>0.0562</td>\n",
       "      <td>0.0562</td>\n",
       "      <td>0.0024</td>\n",
       "      <td>0.0024</td>\n",
       "      <td>0.0049</td>\n",
       "      <td>0.0024</td>\n",
       "      <td>0.0024</td>\n",
       "      <td>0.1050</td>\n",
       "      <td>0.0024</td>\n",
       "      <td>0.1660</td>\n",
       "      <td>0</td>\n",
       "      <td>0</td>\n",
       "      <td>0</td>\n",
       "      <td>0</td>\n",
       "    </tr>\n",
       "    <tr>\n",
       "      <th>391408</th>\n",
       "      <td>0.0073</td>\n",
       "      <td>0.0024</td>\n",
       "      <td>0.0024</td>\n",
       "      <td>0.0024</td>\n",
       "      <td>0.0024</td>\n",
       "      <td>0.0024</td>\n",
       "      <td>0.0586</td>\n",
       "      <td>0.0122</td>\n",
       "      <td>0.0024</td>\n",
       "      <td>0.0024</td>\n",
       "      <td>5</td>\n",
       "      <td>5</td>\n",
       "      <td>17</td>\n",
       "      <td>17</td>\n",
       "    </tr>\n",
       "  </tbody>\n",
       "</table>\n",
       "</div>"
      ],
      "text/plain": [
       "          Emg1    Emg2    Emg3    Emg4    Emg5    Emg6    Emg7    Emg8  \\\n",
       "301587  0.1270  0.0024  0.0342  0.0024  0.0024  0.0024  0.1343  0.1099   \n",
       "246404  0.1685  0.0024  0.0024  0.0024  0.0024  0.0024  0.0049  0.0439   \n",
       "362627  0.0317  0.0024  0.1123  0.2002  0.0024  0.0024  0.0659  0.9302   \n",
       "181537  0.0562  0.0562  0.0024  0.0024  0.0049  0.0024  0.0024  0.1050   \n",
       "391408  0.0073  0.0024  0.0024  0.0024  0.0024  0.0024  0.0586  0.0122   \n",
       "\n",
       "          Emg9   Emg10  repetition  rerepetition  stimulus  restimulus  \n",
       "301587  0.0024  0.0415           3             3         7           7  \n",
       "246404  0.0024  0.0488           0             0         0           0  \n",
       "362627  0.2002  0.3027           3             3        14          14  \n",
       "181537  0.0024  0.1660           0             0         0           0  \n",
       "391408  0.0024  0.0024           5             5        17          17  "
      ]
     },
     "execution_count": 2,
     "metadata": {},
     "output_type": "execute_result"
    }
   ],
   "source": [
    "raw_data = pd.read_excel('Dataset 1 Patient 12.xlsx')\n",
    "raw_data.sample(5)"
   ]
  },
  {
   "cell_type": "code",
   "execution_count": 3,
   "id": "80369ddb",
   "metadata": {},
   "outputs": [
    {
     "name": "stdout",
     "output_type": "stream",
     "text": [
      "<class 'pandas.core.frame.DataFrame'>\n",
      "RangeIndex: 460382 entries, 0 to 460381\n",
      "Data columns (total 14 columns):\n",
      " #   Column        Non-Null Count   Dtype  \n",
      "---  ------        --------------   -----  \n",
      " 0   Emg1          460382 non-null  float64\n",
      " 1   Emg2          460382 non-null  float64\n",
      " 2   Emg3          460382 non-null  float64\n",
      " 3   Emg4          460382 non-null  float64\n",
      " 4   Emg5          460382 non-null  float64\n",
      " 5   Emg6          460382 non-null  float64\n",
      " 6   Emg7          460382 non-null  float64\n",
      " 7   Emg8          460382 non-null  float64\n",
      " 8   Emg9          460382 non-null  float64\n",
      " 9   Emg10         460382 non-null  float64\n",
      " 10  repetition    460382 non-null  int64  \n",
      " 11  rerepetition  460382 non-null  int64  \n",
      " 12  stimulus      460382 non-null  int64  \n",
      " 13  restimulus    460382 non-null  int64  \n",
      "dtypes: float64(10), int64(4)\n",
      "memory usage: 49.2 MB\n"
     ]
    }
   ],
   "source": [
    "raw_data.info()"
   ]
  },
  {
   "cell_type": "code",
   "execution_count": 4,
   "id": "109445f8",
   "metadata": {},
   "outputs": [
    {
     "data": {
      "text/html": [
       "<div>\n",
       "<style scoped>\n",
       "    .dataframe tbody tr th:only-of-type {\n",
       "        vertical-align: middle;\n",
       "    }\n",
       "\n",
       "    .dataframe tbody tr th {\n",
       "        vertical-align: top;\n",
       "    }\n",
       "\n",
       "    .dataframe thead th {\n",
       "        text-align: right;\n",
       "    }\n",
       "</style>\n",
       "<table border=\"1\" class=\"dataframe\">\n",
       "  <thead>\n",
       "    <tr style=\"text-align: right;\">\n",
       "      <th></th>\n",
       "      <th>Emg1</th>\n",
       "      <th>Emg2</th>\n",
       "      <th>Emg3</th>\n",
       "      <th>Emg4</th>\n",
       "      <th>Emg5</th>\n",
       "      <th>Emg6</th>\n",
       "      <th>Emg7</th>\n",
       "      <th>Emg8</th>\n",
       "      <th>Emg9</th>\n",
       "      <th>Emg10</th>\n",
       "      <th>repetition</th>\n",
       "      <th>rerepetition</th>\n",
       "      <th>stimulus</th>\n",
       "      <th>restimulus</th>\n",
       "    </tr>\n",
       "  </thead>\n",
       "  <tbody>\n",
       "    <tr>\n",
       "      <th>count</th>\n",
       "      <td>460382.000000</td>\n",
       "      <td>460382.000000</td>\n",
       "      <td>460382.000000</td>\n",
       "      <td>460382.000000</td>\n",
       "      <td>460382.000000</td>\n",
       "      <td>460382.000000</td>\n",
       "      <td>460382.000000</td>\n",
       "      <td>460382.000000</td>\n",
       "      <td>460382.000000</td>\n",
       "      <td>460382.000000</td>\n",
       "      <td>460382.000000</td>\n",
       "      <td>460382.000000</td>\n",
       "      <td>460382.000000</td>\n",
       "      <td>460382.000000</td>\n",
       "    </tr>\n",
       "    <tr>\n",
       "      <th>mean</th>\n",
       "      <td>0.228323</td>\n",
       "      <td>0.149005</td>\n",
       "      <td>0.158937</td>\n",
       "      <td>0.051782</td>\n",
       "      <td>0.009471</td>\n",
       "      <td>0.009314</td>\n",
       "      <td>0.118619</td>\n",
       "      <td>0.383167</td>\n",
       "      <td>0.090241</td>\n",
       "      <td>0.158943</td>\n",
       "      <td>3.201413</td>\n",
       "      <td>2.333123</td>\n",
       "      <td>5.674920</td>\n",
       "      <td>4.168397</td>\n",
       "    </tr>\n",
       "    <tr>\n",
       "      <th>std</th>\n",
       "      <td>0.386383</td>\n",
       "      <td>0.289871</td>\n",
       "      <td>0.354328</td>\n",
       "      <td>0.167727</td>\n",
       "      <td>0.031863</td>\n",
       "      <td>0.031848</td>\n",
       "      <td>0.278554</td>\n",
       "      <td>0.484126</td>\n",
       "      <td>0.287058</td>\n",
       "      <td>0.150671</td>\n",
       "      <td>3.487234</td>\n",
       "      <td>3.297521</td>\n",
       "      <td>6.590112</td>\n",
       "      <td>6.223571</td>\n",
       "    </tr>\n",
       "    <tr>\n",
       "      <th>min</th>\n",
       "      <td>0.000000</td>\n",
       "      <td>0.000000</td>\n",
       "      <td>0.002400</td>\n",
       "      <td>0.000000</td>\n",
       "      <td>0.002400</td>\n",
       "      <td>0.000000</td>\n",
       "      <td>0.000000</td>\n",
       "      <td>0.002400</td>\n",
       "      <td>0.000000</td>\n",
       "      <td>0.000000</td>\n",
       "      <td>0.000000</td>\n",
       "      <td>0.000000</td>\n",
       "      <td>0.000000</td>\n",
       "      <td>0.000000</td>\n",
       "    </tr>\n",
       "    <tr>\n",
       "      <th>25%</th>\n",
       "      <td>0.041500</td>\n",
       "      <td>0.002400</td>\n",
       "      <td>0.002400</td>\n",
       "      <td>0.002400</td>\n",
       "      <td>0.002400</td>\n",
       "      <td>0.002400</td>\n",
       "      <td>0.007300</td>\n",
       "      <td>0.102500</td>\n",
       "      <td>0.002400</td>\n",
       "      <td>0.031700</td>\n",
       "      <td>0.000000</td>\n",
       "      <td>0.000000</td>\n",
       "      <td>0.000000</td>\n",
       "      <td>0.000000</td>\n",
       "    </tr>\n",
       "    <tr>\n",
       "      <th>50%</th>\n",
       "      <td>0.087900</td>\n",
       "      <td>0.034200</td>\n",
       "      <td>0.002400</td>\n",
       "      <td>0.002400</td>\n",
       "      <td>0.002400</td>\n",
       "      <td>0.002400</td>\n",
       "      <td>0.048800</td>\n",
       "      <td>0.214800</td>\n",
       "      <td>0.002400</td>\n",
       "      <td>0.141600</td>\n",
       "      <td>2.000000</td>\n",
       "      <td>0.000000</td>\n",
       "      <td>3.000000</td>\n",
       "      <td>0.000000</td>\n",
       "    </tr>\n",
       "    <tr>\n",
       "      <th>75%</th>\n",
       "      <td>0.214800</td>\n",
       "      <td>0.161100</td>\n",
       "      <td>0.153800</td>\n",
       "      <td>0.007300</td>\n",
       "      <td>0.002400</td>\n",
       "      <td>0.002400</td>\n",
       "      <td>0.127000</td>\n",
       "      <td>0.505400</td>\n",
       "      <td>0.034200</td>\n",
       "      <td>0.239300</td>\n",
       "      <td>6.000000</td>\n",
       "      <td>5.000000</td>\n",
       "      <td>10.000000</td>\n",
       "      <td>8.000000</td>\n",
       "    </tr>\n",
       "    <tr>\n",
       "      <th>max</th>\n",
       "      <td>4.668000</td>\n",
       "      <td>4.668000</td>\n",
       "      <td>4.663100</td>\n",
       "      <td>4.665500</td>\n",
       "      <td>1.171900</td>\n",
       "      <td>0.778800</td>\n",
       "      <td>4.665500</td>\n",
       "      <td>4.668000</td>\n",
       "      <td>4.663100</td>\n",
       "      <td>2.878400</td>\n",
       "      <td>10.000000</td>\n",
       "      <td>10.000000</td>\n",
       "      <td>23.000000</td>\n",
       "      <td>23.000000</td>\n",
       "    </tr>\n",
       "  </tbody>\n",
       "</table>\n",
       "</div>"
      ],
      "text/plain": [
       "                Emg1           Emg2           Emg3           Emg4  \\\n",
       "count  460382.000000  460382.000000  460382.000000  460382.000000   \n",
       "mean        0.228323       0.149005       0.158937       0.051782   \n",
       "std         0.386383       0.289871       0.354328       0.167727   \n",
       "min         0.000000       0.000000       0.002400       0.000000   \n",
       "25%         0.041500       0.002400       0.002400       0.002400   \n",
       "50%         0.087900       0.034200       0.002400       0.002400   \n",
       "75%         0.214800       0.161100       0.153800       0.007300   \n",
       "max         4.668000       4.668000       4.663100       4.665500   \n",
       "\n",
       "                Emg5           Emg6           Emg7           Emg8  \\\n",
       "count  460382.000000  460382.000000  460382.000000  460382.000000   \n",
       "mean        0.009471       0.009314       0.118619       0.383167   \n",
       "std         0.031863       0.031848       0.278554       0.484126   \n",
       "min         0.002400       0.000000       0.000000       0.002400   \n",
       "25%         0.002400       0.002400       0.007300       0.102500   \n",
       "50%         0.002400       0.002400       0.048800       0.214800   \n",
       "75%         0.002400       0.002400       0.127000       0.505400   \n",
       "max         1.171900       0.778800       4.665500       4.668000   \n",
       "\n",
       "                Emg9          Emg10     repetition   rerepetition  \\\n",
       "count  460382.000000  460382.000000  460382.000000  460382.000000   \n",
       "mean        0.090241       0.158943       3.201413       2.333123   \n",
       "std         0.287058       0.150671       3.487234       3.297521   \n",
       "min         0.000000       0.000000       0.000000       0.000000   \n",
       "25%         0.002400       0.031700       0.000000       0.000000   \n",
       "50%         0.002400       0.141600       2.000000       0.000000   \n",
       "75%         0.034200       0.239300       6.000000       5.000000   \n",
       "max         4.663100       2.878400      10.000000      10.000000   \n",
       "\n",
       "            stimulus     restimulus  \n",
       "count  460382.000000  460382.000000  \n",
       "mean        5.674920       4.168397  \n",
       "std         6.590112       6.223571  \n",
       "min         0.000000       0.000000  \n",
       "25%         0.000000       0.000000  \n",
       "50%         3.000000       0.000000  \n",
       "75%        10.000000       8.000000  \n",
       "max        23.000000      23.000000  "
      ]
     },
     "execution_count": 4,
     "metadata": {},
     "output_type": "execute_result"
    }
   ],
   "source": [
    "raw_data.describe(include='all')"
   ]
  },
  {
   "cell_type": "code",
   "execution_count": 5,
   "id": "f0b9a2e6",
   "metadata": {},
   "outputs": [
    {
     "name": "stdout",
     "output_type": "stream",
     "text": [
      "Unique Dependent values and their counts :\n",
      "0     192400\n",
      "4      15502\n",
      "7      15495\n",
      "12     15491\n",
      "8      15487\n",
      "2      15486\n",
      "11     15469\n",
      "9      15465\n",
      "6      15448\n",
      "5      15447\n",
      "3      15425\n",
      "1      15417\n",
      "10     15406\n",
      "14     10334\n",
      "13     10332\n",
      "17     10332\n",
      "15     10293\n",
      "16     10255\n",
      "19      5172\n",
      "18      5169\n",
      "21      5169\n",
      "23      5133\n",
      "20      5130\n",
      "22      5125\n",
      "Name: stimulus, dtype: int64\n"
     ]
    }
   ],
   "source": [
    "print(\"Unique Dependent values and their counts :\")\n",
    "print(raw_data[\"stimulus\"].value_counts())"
   ]
  },
  {
   "cell_type": "markdown",
   "id": "54420ec4",
   "metadata": {},
   "source": [
    "# Data Cleaning"
   ]
  },
  {
   "cell_type": "code",
   "execution_count": 6,
   "id": "a811198b",
   "metadata": {},
   "outputs": [],
   "source": [
    "index_names = raw_data[ (raw_data['stimulus'] != raw_data['restimulus'])].index\n",
    "raw_data.drop(index_names, inplace = True)"
   ]
  },
  {
   "cell_type": "code",
   "execution_count": 7,
   "id": "556cd92f",
   "metadata": {},
   "outputs": [],
   "source": [
    "index_names = raw_data[ (raw_data['repetition'] != raw_data['rerepetition'])].index\n",
    "raw_data.drop(index_names, inplace = True)"
   ]
  },
  {
   "cell_type": "code",
   "execution_count": 8,
   "id": "c91744f7",
   "metadata": {},
   "outputs": [],
   "source": [
    "X = raw_data.iloc[:,0:10]\n",
    "y = raw_data.stimulus"
   ]
  },
  {
   "cell_type": "markdown",
   "id": "152f7160",
   "metadata": {},
   "source": [
    "# One Hot Encoding"
   ]
  },
  {
   "cell_type": "code",
   "execution_count": 9,
   "id": "dfb77d24",
   "metadata": {},
   "outputs": [],
   "source": [
    "num_classes = 24"
   ]
  },
  {
   "cell_type": "code",
   "execution_count": 10,
   "id": "be64bf6b",
   "metadata": {},
   "outputs": [],
   "source": [
    "# One hot encoding for categorical labels\n",
    "import keras\n",
    "from keras import utils as np_utils\n",
    "y = keras.utils.np_utils.to_categorical(y, num_classes)"
   ]
  },
  {
   "cell_type": "code",
   "execution_count": 11,
   "id": "c7358f86",
   "metadata": {},
   "outputs": [],
   "source": [
    "input_dim = X.shape[1]"
   ]
  },
  {
   "cell_type": "markdown",
   "id": "cb3088a1",
   "metadata": {},
   "source": [
    "# Standard Scaler"
   ]
  },
  {
   "cell_type": "code",
   "execution_count": 12,
   "id": "5bd820f4",
   "metadata": {},
   "outputs": [],
   "source": [
    "from sklearn.preprocessing import StandardScaler\n",
    "standardscaler=StandardScaler()"
   ]
  },
  {
   "cell_type": "code",
   "execution_count": 13,
   "id": "6a118694",
   "metadata": {},
   "outputs": [],
   "source": [
    "sc = pd.DataFrame(standardscaler.fit_transform(X))"
   ]
  },
  {
   "cell_type": "code",
   "execution_count": 14,
   "id": "d6e2f38b",
   "metadata": {},
   "outputs": [
    {
     "data": {
      "text/html": [
       "<div>\n",
       "<style scoped>\n",
       "    .dataframe tbody tr th:only-of-type {\n",
       "        vertical-align: middle;\n",
       "    }\n",
       "\n",
       "    .dataframe tbody tr th {\n",
       "        vertical-align: top;\n",
       "    }\n",
       "\n",
       "    .dataframe thead th {\n",
       "        text-align: right;\n",
       "    }\n",
       "</style>\n",
       "<table border=\"1\" class=\"dataframe\">\n",
       "  <thead>\n",
       "    <tr style=\"text-align: right;\">\n",
       "      <th></th>\n",
       "      <th>0</th>\n",
       "      <th>1</th>\n",
       "      <th>2</th>\n",
       "      <th>3</th>\n",
       "      <th>4</th>\n",
       "      <th>5</th>\n",
       "      <th>6</th>\n",
       "      <th>7</th>\n",
       "      <th>8</th>\n",
       "      <th>9</th>\n",
       "    </tr>\n",
       "  </thead>\n",
       "  <tbody>\n",
       "    <tr>\n",
       "      <th>0</th>\n",
       "      <td>-0.513310</td>\n",
       "      <td>-0.529788</td>\n",
       "      <td>-0.483625</td>\n",
       "      <td>-0.323648</td>\n",
       "      <td>-0.244533</td>\n",
       "      <td>-0.236894</td>\n",
       "      <td>-0.313694</td>\n",
       "      <td>-0.683791</td>\n",
       "      <td>-0.3356</td>\n",
       "      <td>0.270732</td>\n",
       "    </tr>\n",
       "    <tr>\n",
       "      <th>1</th>\n",
       "      <td>-0.519087</td>\n",
       "      <td>-0.529788</td>\n",
       "      <td>-0.483625</td>\n",
       "      <td>-0.323648</td>\n",
       "      <td>-0.244533</td>\n",
       "      <td>-0.236894</td>\n",
       "      <td>-0.313694</td>\n",
       "      <td>-0.683791</td>\n",
       "      <td>-0.3356</td>\n",
       "      <td>0.255515</td>\n",
       "    </tr>\n",
       "    <tr>\n",
       "      <th>2</th>\n",
       "      <td>-0.536898</td>\n",
       "      <td>-0.529788</td>\n",
       "      <td>-0.483625</td>\n",
       "      <td>-0.323648</td>\n",
       "      <td>-0.244533</td>\n",
       "      <td>-0.236894</td>\n",
       "      <td>-0.193134</td>\n",
       "      <td>-0.688596</td>\n",
       "      <td>-0.3356</td>\n",
       "      <td>0.224448</td>\n",
       "    </tr>\n",
       "    <tr>\n",
       "      <th>3</th>\n",
       "      <td>-0.560245</td>\n",
       "      <td>-0.529788</td>\n",
       "      <td>-0.477087</td>\n",
       "      <td>-0.323648</td>\n",
       "      <td>-0.244533</td>\n",
       "      <td>-0.236894</td>\n",
       "      <td>-0.112431</td>\n",
       "      <td>-0.697821</td>\n",
       "      <td>-0.3356</td>\n",
       "      <td>0.224448</td>\n",
       "    </tr>\n",
       "    <tr>\n",
       "      <th>4</th>\n",
       "      <td>-0.566263</td>\n",
       "      <td>-0.529788</td>\n",
       "      <td>-0.483625</td>\n",
       "      <td>-0.323648</td>\n",
       "      <td>-0.244533</td>\n",
       "      <td>-0.236894</td>\n",
       "      <td>-0.104525</td>\n",
       "      <td>-0.683791</td>\n",
       "      <td>-0.3356</td>\n",
       "      <td>0.270732</td>\n",
       "    </tr>\n",
       "    <tr>\n",
       "      <th>...</th>\n",
       "      <td>...</td>\n",
       "      <td>...</td>\n",
       "      <td>...</td>\n",
       "      <td>...</td>\n",
       "      <td>...</td>\n",
       "      <td>...</td>\n",
       "      <td>...</td>\n",
       "      <td>...</td>\n",
       "      <td>...</td>\n",
       "      <td>...</td>\n",
       "    </tr>\n",
       "    <tr>\n",
       "      <th>380064</th>\n",
       "      <td>-0.419199</td>\n",
       "      <td>-0.529788</td>\n",
       "      <td>-0.483625</td>\n",
       "      <td>-0.323648</td>\n",
       "      <td>-0.244533</td>\n",
       "      <td>-0.236894</td>\n",
       "      <td>-0.401973</td>\n",
       "      <td>-0.650927</td>\n",
       "      <td>-0.3356</td>\n",
       "      <td>-0.890178</td>\n",
       "    </tr>\n",
       "    <tr>\n",
       "      <th>380065</th>\n",
       "      <td>-0.419199</td>\n",
       "      <td>-0.529788</td>\n",
       "      <td>-0.483625</td>\n",
       "      <td>-0.323648</td>\n",
       "      <td>-0.244533</td>\n",
       "      <td>-0.236894</td>\n",
       "      <td>-0.394067</td>\n",
       "      <td>-0.636897</td>\n",
       "      <td>-0.3356</td>\n",
       "      <td>-0.890178</td>\n",
       "    </tr>\n",
       "    <tr>\n",
       "      <th>380066</th>\n",
       "      <td>-0.430993</td>\n",
       "      <td>-0.529788</td>\n",
       "      <td>-0.483625</td>\n",
       "      <td>-0.323648</td>\n",
       "      <td>-0.244533</td>\n",
       "      <td>-0.236894</td>\n",
       "      <td>-0.410208</td>\n",
       "      <td>-0.641702</td>\n",
       "      <td>-0.3356</td>\n",
       "      <td>-0.905395</td>\n",
       "    </tr>\n",
       "    <tr>\n",
       "      <th>380067</th>\n",
       "      <td>-0.425216</td>\n",
       "      <td>-0.529788</td>\n",
       "      <td>-0.483625</td>\n",
       "      <td>-0.323648</td>\n",
       "      <td>-0.244533</td>\n",
       "      <td>-0.236894</td>\n",
       "      <td>-0.401973</td>\n",
       "      <td>-0.655732</td>\n",
       "      <td>-0.3356</td>\n",
       "      <td>-0.936463</td>\n",
       "    </tr>\n",
       "    <tr>\n",
       "      <th>380068</th>\n",
       "      <td>-0.425216</td>\n",
       "      <td>-0.529788</td>\n",
       "      <td>-0.483625</td>\n",
       "      <td>-0.323648</td>\n",
       "      <td>-0.244533</td>\n",
       "      <td>-0.236894</td>\n",
       "      <td>-0.410208</td>\n",
       "      <td>-0.665149</td>\n",
       "      <td>-0.3356</td>\n",
       "      <td>-0.936463</td>\n",
       "    </tr>\n",
       "  </tbody>\n",
       "</table>\n",
       "<p>380069 rows × 10 columns</p>\n",
       "</div>"
      ],
      "text/plain": [
       "               0         1         2         3         4         5         6  \\\n",
       "0      -0.513310 -0.529788 -0.483625 -0.323648 -0.244533 -0.236894 -0.313694   \n",
       "1      -0.519087 -0.529788 -0.483625 -0.323648 -0.244533 -0.236894 -0.313694   \n",
       "2      -0.536898 -0.529788 -0.483625 -0.323648 -0.244533 -0.236894 -0.193134   \n",
       "3      -0.560245 -0.529788 -0.477087 -0.323648 -0.244533 -0.236894 -0.112431   \n",
       "4      -0.566263 -0.529788 -0.483625 -0.323648 -0.244533 -0.236894 -0.104525   \n",
       "...          ...       ...       ...       ...       ...       ...       ...   \n",
       "380064 -0.419199 -0.529788 -0.483625 -0.323648 -0.244533 -0.236894 -0.401973   \n",
       "380065 -0.419199 -0.529788 -0.483625 -0.323648 -0.244533 -0.236894 -0.394067   \n",
       "380066 -0.430993 -0.529788 -0.483625 -0.323648 -0.244533 -0.236894 -0.410208   \n",
       "380067 -0.425216 -0.529788 -0.483625 -0.323648 -0.244533 -0.236894 -0.401973   \n",
       "380068 -0.425216 -0.529788 -0.483625 -0.323648 -0.244533 -0.236894 -0.410208   \n",
       "\n",
       "               7       8         9  \n",
       "0      -0.683791 -0.3356  0.270732  \n",
       "1      -0.683791 -0.3356  0.255515  \n",
       "2      -0.688596 -0.3356  0.224448  \n",
       "3      -0.697821 -0.3356  0.224448  \n",
       "4      -0.683791 -0.3356  0.270732  \n",
       "...          ...     ...       ...  \n",
       "380064 -0.650927 -0.3356 -0.890178  \n",
       "380065 -0.636897 -0.3356 -0.890178  \n",
       "380066 -0.641702 -0.3356 -0.905395  \n",
       "380067 -0.655732 -0.3356 -0.936463  \n",
       "380068 -0.665149 -0.3356 -0.936463  \n",
       "\n",
       "[380069 rows x 10 columns]"
      ]
     },
     "execution_count": 14,
     "metadata": {},
     "output_type": "execute_result"
    }
   ],
   "source": [
    "sc"
   ]
  },
  {
   "cell_type": "code",
   "execution_count": 15,
   "id": "65cfb75d",
   "metadata": {},
   "outputs": [],
   "source": [
    "# Splitting data for training and testing\n",
    "X_train, X_test, y_train, y_test = train_test_split(sc, y, test_size = 0.2, random_state = 39)"
   ]
  },
  {
   "cell_type": "markdown",
   "id": "3ba47781",
   "metadata": {},
   "source": [
    "# Deep Learning "
   ]
  },
  {
   "cell_type": "code",
   "execution_count": 16,
   "id": "d426e2e1",
   "metadata": {},
   "outputs": [],
   "source": [
    "from sklearn.preprocessing import MinMaxScaler\n",
    "from tensorflow.keras.models import Model\n",
    "from tensorflow.keras.layers import Input\n",
    "from tensorflow.keras.layers import Dense\n",
    "from tensorflow.keras.layers import LeakyReLU,ELU\n",
    "from tensorflow.keras.layers import BatchNormalization\n",
    "from tensorflow.keras.utils import plot_model\n",
    "import tensorflow as tf\n",
    "from sklearn.model_selection import cross_val_score\n",
    "from keras.models import Sequential\n",
    "from keras.layers import Dense, BatchNormalization, Dropout\n",
    "from tensorflow.keras.optimizers import Adam, SGD, RMSprop, Adadelta, Adagrad, Adamax, Nadam, Ftrl\n",
    "from keras.callbacks import EarlyStopping, ModelCheckpoint\n",
    "from keras.wrappers.scikit_learn import KerasClassifier\n",
    "from sklearn.metrics import make_scorer, accuracy_score\n",
    "from sklearn.model_selection import StratifiedKFold"
   ]
  },
  {
   "cell_type": "code",
   "execution_count": 17,
   "id": "cd0ef208",
   "metadata": {},
   "outputs": [],
   "source": [
    "from keras.layers import LeakyReLU\n",
    "LeakyReLU = LeakyReLU(alpha=0.1)\n",
    "from keras.models import Sequential\n",
    "from keras.layers import Dense, Flatten, Convolution1D, Dropout\n",
    "from keras.initializers import random_uniform"
   ]
  },
  {
   "cell_type": "markdown",
   "id": "f97d61bc",
   "metadata": {},
   "source": [
    "# 1. Define Network"
   ]
  },
  {
   "cell_type": "code",
   "execution_count": 18,
   "id": "bd77bf81",
   "metadata": {},
   "outputs": [],
   "source": [
    "num_classes = 24\n",
    "input_dim = X.shape[1]"
   ]
  },
  {
   "cell_type": "code",
   "execution_count": 19,
   "id": "fbdce465",
   "metadata": {},
   "outputs": [],
   "source": [
    "visible = Input(shape=(input_dim,))\n",
    "hidden1 = Dense(3000, activation='relu')(visible)\n",
    "hidden2 = Dense(1500, activation='relu')(hidden1)\n",
    "hidden3 = Dropout(0.2)(hidden2)\n",
    "hidden4 = Dense(750, activation='relu')(hidden3)\n",
    "hidden5 = Dense(375, activation='relu')(hidden4)\n",
    "hidden6 = Dense(48, activation='relu')(hidden5)\n",
    "output = Dense(num_classes, activation='softmax')(hidden6)\n",
    "model = Model(inputs=visible, outputs=output)"
   ]
  },
  {
   "cell_type": "code",
   "execution_count": 20,
   "id": "1dd33478",
   "metadata": {},
   "outputs": [
    {
     "name": "stdout",
     "output_type": "stream",
     "text": [
      "Model: \"model\"\n",
      "_________________________________________________________________\n",
      " Layer (type)                Output Shape              Param #   \n",
      "=================================================================\n",
      " input_1 (InputLayer)        [(None, 10)]              0         \n",
      "                                                                 \n",
      " dense (Dense)               (None, 3000)              33000     \n",
      "                                                                 \n",
      " dense_1 (Dense)             (None, 1500)              4501500   \n",
      "                                                                 \n",
      " dropout (Dropout)           (None, 1500)              0         \n",
      "                                                                 \n",
      " dense_2 (Dense)             (None, 750)               1125750   \n",
      "                                                                 \n",
      " dense_3 (Dense)             (None, 375)               281625    \n",
      "                                                                 \n",
      " dense_4 (Dense)             (None, 48)                18048     \n",
      "                                                                 \n",
      " dense_5 (Dense)             (None, 24)                1176      \n",
      "                                                                 \n",
      "=================================================================\n",
      "Total params: 5,961,099\n",
      "Trainable params: 5,961,099\n",
      "Non-trainable params: 0\n",
      "_________________________________________________________________\n"
     ]
    }
   ],
   "source": [
    "model.summary()"
   ]
  },
  {
   "cell_type": "markdown",
   "id": "3196ac97",
   "metadata": {},
   "source": [
    "# 2. Compile Network"
   ]
  },
  {
   "cell_type": "code",
   "execution_count": 21,
   "id": "7a2d558b",
   "metadata": {},
   "outputs": [],
   "source": [
    "model.compile(optimizer='adam', loss='categorical_crossentropy', metrics=['accuracy'])"
   ]
  },
  {
   "cell_type": "code",
   "execution_count": 22,
   "id": "c1d2b36d",
   "metadata": {},
   "outputs": [
    {
     "name": "stdout",
     "output_type": "stream",
     "text": [
      "You must install pydot (`pip install pydot`) and install graphviz (see instructions at https://graphviz.gitlab.io/download/) for plot_model/model_to_dot to work.\n"
     ]
    }
   ],
   "source": [
    "plot_model(model, 'EMG_ANN', show_shapes = True)"
   ]
  },
  {
   "cell_type": "markdown",
   "id": "3358b592",
   "metadata": {},
   "source": [
    "# 3. Fit Network"
   ]
  },
  {
   "cell_type": "code",
   "execution_count": 23,
   "id": "e0ed4ddd",
   "metadata": {},
   "outputs": [
    {
     "name": "stdout",
     "output_type": "stream",
     "text": [
      "Epoch 1/100\n",
      "75/75 [==============================] - 3s 28ms/step - loss: 1.4564 - accuracy: 0.6178 - val_loss: 1.0741 - val_accuracy: 0.7052\n",
      "Epoch 2/100\n",
      "75/75 [==============================] - 2s 26ms/step - loss: 0.9946 - accuracy: 0.7213 - val_loss: 0.9003 - val_accuracy: 0.7462\n",
      "Epoch 3/100\n",
      "75/75 [==============================] - 2s 26ms/step - loss: 0.8561 - accuracy: 0.7545 - val_loss: 0.7781 - val_accuracy: 0.7753\n",
      "Epoch 4/100\n",
      "75/75 [==============================] - 2s 26ms/step - loss: 0.7731 - accuracy: 0.7752 - val_loss: 0.7185 - val_accuracy: 0.7903\n",
      "Epoch 5/100\n",
      "75/75 [==============================] - 2s 25ms/step - loss: 0.7197 - accuracy: 0.7877 - val_loss: 0.6763 - val_accuracy: 0.8001\n",
      "Epoch 6/100\n",
      "75/75 [==============================] - 2s 26ms/step - loss: 0.6776 - accuracy: 0.7980 - val_loss: 0.6384 - val_accuracy: 0.8100\n",
      "Epoch 7/100\n",
      "75/75 [==============================] - 2s 27ms/step - loss: 0.6447 - accuracy: 0.8063 - val_loss: 0.6107 - val_accuracy: 0.8176\n",
      "Epoch 8/100\n",
      "75/75 [==============================] - 2s 27ms/step - loss: 0.6178 - accuracy: 0.8132 - val_loss: 0.5894 - val_accuracy: 0.8229\n",
      "Epoch 9/100\n",
      "75/75 [==============================] - 2s 27ms/step - loss: 0.5920 - accuracy: 0.8202 - val_loss: 0.5648 - val_accuracy: 0.8292\n",
      "Epoch 10/100\n",
      "75/75 [==============================] - 2s 25ms/step - loss: 0.5732 - accuracy: 0.8241 - val_loss: 0.5635 - val_accuracy: 0.8289\n",
      "Epoch 11/100\n",
      "75/75 [==============================] - 2s 26ms/step - loss: 0.5540 - accuracy: 0.8298 - val_loss: 0.5349 - val_accuracy: 0.8360\n",
      "Epoch 12/100\n",
      "75/75 [==============================] - 2s 26ms/step - loss: 0.5361 - accuracy: 0.8349 - val_loss: 0.5208 - val_accuracy: 0.8394\n",
      "Epoch 13/100\n",
      "75/75 [==============================] - 2s 27ms/step - loss: 0.5211 - accuracy: 0.8385 - val_loss: 0.5120 - val_accuracy: 0.8427\n",
      "Epoch 14/100\n",
      "75/75 [==============================] - 2s 26ms/step - loss: 0.5074 - accuracy: 0.8416 - val_loss: 0.5059 - val_accuracy: 0.8447\n",
      "Epoch 15/100\n",
      "75/75 [==============================] - 2s 26ms/step - loss: 0.4972 - accuracy: 0.8453 - val_loss: 0.4845 - val_accuracy: 0.8494\n",
      "Epoch 16/100\n",
      "75/75 [==============================] - 2s 26ms/step - loss: 0.4773 - accuracy: 0.8505 - val_loss: 0.4708 - val_accuracy: 0.8538\n",
      "Epoch 17/100\n",
      "75/75 [==============================] - 2s 25ms/step - loss: 0.4672 - accuracy: 0.8537 - val_loss: 0.4651 - val_accuracy: 0.8561\n",
      "Epoch 18/100\n",
      "75/75 [==============================] - 2s 26ms/step - loss: 0.4630 - accuracy: 0.8548 - val_loss: 0.4620 - val_accuracy: 0.8557\n",
      "Epoch 19/100\n",
      "75/75 [==============================] - 2s 26ms/step - loss: 0.4499 - accuracy: 0.8585 - val_loss: 0.4458 - val_accuracy: 0.8602\n",
      "Epoch 20/100\n",
      "75/75 [==============================] - 2s 25ms/step - loss: 0.4389 - accuracy: 0.8612 - val_loss: 0.4434 - val_accuracy: 0.8617\n",
      "Epoch 21/100\n",
      "75/75 [==============================] - 2s 27ms/step - loss: 0.4337 - accuracy: 0.8630 - val_loss: 0.4349 - val_accuracy: 0.8634\n",
      "Epoch 22/100\n",
      "75/75 [==============================] - 2s 26ms/step - loss: 0.4227 - accuracy: 0.8659 - val_loss: 0.4344 - val_accuracy: 0.8637\n",
      "Epoch 23/100\n",
      "75/75 [==============================] - 2s 26ms/step - loss: 0.4147 - accuracy: 0.8683 - val_loss: 0.4220 - val_accuracy: 0.8668\n",
      "Epoch 24/100\n",
      "75/75 [==============================] - 2s 27ms/step - loss: 0.4072 - accuracy: 0.8710 - val_loss: 0.4178 - val_accuracy: 0.8694\n",
      "Epoch 25/100\n",
      "75/75 [==============================] - 2s 26ms/step - loss: 0.3998 - accuracy: 0.8729 - val_loss: 0.4097 - val_accuracy: 0.8716\n",
      "Epoch 26/100\n",
      "75/75 [==============================] - 2s 26ms/step - loss: 0.3921 - accuracy: 0.8745 - val_loss: 0.4097 - val_accuracy: 0.8707\n",
      "Epoch 27/100\n",
      "75/75 [==============================] - 2s 27ms/step - loss: 0.3866 - accuracy: 0.8764 - val_loss: 0.4021 - val_accuracy: 0.8734\n",
      "Epoch 28/100\n",
      "75/75 [==============================] - 2s 27ms/step - loss: 0.3812 - accuracy: 0.8779 - val_loss: 0.4104 - val_accuracy: 0.8714\n",
      "Epoch 29/100\n",
      "75/75 [==============================] - 2s 26ms/step - loss: 0.3719 - accuracy: 0.8809 - val_loss: 0.3857 - val_accuracy: 0.8796\n",
      "Epoch 30/100\n",
      "75/75 [==============================] - 2s 26ms/step - loss: 0.3666 - accuracy: 0.8821 - val_loss: 0.3833 - val_accuracy: 0.8788\n",
      "Epoch 31/100\n",
      "75/75 [==============================] - 2s 26ms/step - loss: 0.3628 - accuracy: 0.8832 - val_loss: 0.3814 - val_accuracy: 0.8792\n",
      "Epoch 32/100\n",
      "75/75 [==============================] - 2s 26ms/step - loss: 0.3568 - accuracy: 0.8854 - val_loss: 0.3775 - val_accuracy: 0.8804\n",
      "Epoch 33/100\n",
      "75/75 [==============================] - 2s 26ms/step - loss: 0.3542 - accuracy: 0.8864 - val_loss: 0.3749 - val_accuracy: 0.8817\n",
      "Epoch 34/100\n",
      "75/75 [==============================] - 2s 26ms/step - loss: 0.3453 - accuracy: 0.8887 - val_loss: 0.3639 - val_accuracy: 0.8845\n",
      "Epoch 35/100\n",
      "75/75 [==============================] - 2s 26ms/step - loss: 0.3434 - accuracy: 0.8894 - val_loss: 0.3783 - val_accuracy: 0.8807\n",
      "Epoch 36/100\n",
      "75/75 [==============================] - 2s 26ms/step - loss: 0.3385 - accuracy: 0.8909 - val_loss: 0.3680 - val_accuracy: 0.8832\n",
      "Epoch 37/100\n",
      "75/75 [==============================] - 2s 26ms/step - loss: 0.3322 - accuracy: 0.8928 - val_loss: 0.3612 - val_accuracy: 0.8850\n",
      "Epoch 38/100\n",
      "75/75 [==============================] - 2s 27ms/step - loss: 0.3276 - accuracy: 0.8941 - val_loss: 0.3612 - val_accuracy: 0.8858\n",
      "Epoch 39/100\n",
      "75/75 [==============================] - 2s 26ms/step - loss: 0.3247 - accuracy: 0.8947 - val_loss: 0.3551 - val_accuracy: 0.8871\n",
      "Epoch 40/100\n",
      "75/75 [==============================] - 2s 26ms/step - loss: 0.3223 - accuracy: 0.8954 - val_loss: 0.3541 - val_accuracy: 0.8879\n",
      "Epoch 41/100\n",
      "75/75 [==============================] - 2s 26ms/step - loss: 0.3188 - accuracy: 0.8966 - val_loss: 0.3458 - val_accuracy: 0.8919\n",
      "Epoch 42/100\n",
      "75/75 [==============================] - 2s 27ms/step - loss: 0.3117 - accuracy: 0.8990 - val_loss: 0.3527 - val_accuracy: 0.8894\n",
      "Epoch 43/100\n",
      "75/75 [==============================] - 2s 26ms/step - loss: 0.3069 - accuracy: 0.9004 - val_loss: 0.3399 - val_accuracy: 0.8935\n",
      "Epoch 44/100\n",
      "75/75 [==============================] - 2s 27ms/step - loss: 0.3060 - accuracy: 0.9008 - val_loss: 0.3463 - val_accuracy: 0.8906\n",
      "Epoch 45/100\n",
      "75/75 [==============================] - 2s 27ms/step - loss: 0.3065 - accuracy: 0.9006 - val_loss: 0.3397 - val_accuracy: 0.8918\n",
      "Epoch 46/100\n",
      "75/75 [==============================] - 2s 26ms/step - loss: 0.3003 - accuracy: 0.9021 - val_loss: 0.3374 - val_accuracy: 0.8933\n",
      "Epoch 47/100\n",
      "75/75 [==============================] - 2s 27ms/step - loss: 0.2988 - accuracy: 0.9035 - val_loss: 0.3322 - val_accuracy: 0.8953\n",
      "Epoch 48/100\n",
      "75/75 [==============================] - 2s 26ms/step - loss: 0.2929 - accuracy: 0.9046 - val_loss: 0.3316 - val_accuracy: 0.8957\n",
      "Epoch 49/100\n",
      "75/75 [==============================] - 2s 26ms/step - loss: 0.2881 - accuracy: 0.9064 - val_loss: 0.3342 - val_accuracy: 0.8942\n",
      "Epoch 50/100\n",
      "75/75 [==============================] - 2s 27ms/step - loss: 0.2889 - accuracy: 0.9062 - val_loss: 0.3366 - val_accuracy: 0.8950\n",
      "Epoch 51/100\n",
      "75/75 [==============================] - 2s 26ms/step - loss: 0.2821 - accuracy: 0.9080 - val_loss: 0.3228 - val_accuracy: 0.8969\n",
      "Epoch 52/100\n",
      "75/75 [==============================] - 2s 26ms/step - loss: 0.2802 - accuracy: 0.9084 - val_loss: 0.3209 - val_accuracy: 0.8993\n",
      "Epoch 53/100\n",
      "75/75 [==============================] - 2s 27ms/step - loss: 0.2779 - accuracy: 0.9088 - val_loss: 0.3272 - val_accuracy: 0.8972\n",
      "Epoch 54/100\n",
      "75/75 [==============================] - 2s 27ms/step - loss: 0.2738 - accuracy: 0.9106 - val_loss: 0.3252 - val_accuracy: 0.8979\n",
      "Epoch 55/100\n",
      "75/75 [==============================] - 2s 26ms/step - loss: 0.2727 - accuracy: 0.9108 - val_loss: 0.3168 - val_accuracy: 0.9003\n",
      "Epoch 56/100\n",
      "75/75 [==============================] - 2s 26ms/step - loss: 0.2700 - accuracy: 0.9116 - val_loss: 0.3208 - val_accuracy: 0.8989\n",
      "Epoch 57/100\n",
      "75/75 [==============================] - 2s 27ms/step - loss: 0.2725 - accuracy: 0.9109 - val_loss: 0.3225 - val_accuracy: 0.8982\n",
      "Epoch 58/100\n"
     ]
    },
    {
     "name": "stdout",
     "output_type": "stream",
     "text": [
      "75/75 [==============================] - 2s 27ms/step - loss: 0.2641 - accuracy: 0.9135 - val_loss: 0.3118 - val_accuracy: 0.9015\n",
      "Epoch 59/100\n",
      "75/75 [==============================] - 2s 26ms/step - loss: 0.2637 - accuracy: 0.9131 - val_loss: 0.3164 - val_accuracy: 0.9014\n",
      "Epoch 60/100\n",
      "75/75 [==============================] - 2s 27ms/step - loss: 0.2608 - accuracy: 0.9146 - val_loss: 0.3124 - val_accuracy: 0.9017\n",
      "Epoch 61/100\n",
      "75/75 [==============================] - 2s 27ms/step - loss: 0.2619 - accuracy: 0.9138 - val_loss: 0.3144 - val_accuracy: 0.9014\n",
      "Epoch 62/100\n",
      "75/75 [==============================] - 2s 26ms/step - loss: 0.2565 - accuracy: 0.9158 - val_loss: 0.3172 - val_accuracy: 0.9006\n",
      "Epoch 63/100\n",
      "75/75 [==============================] - 2s 27ms/step - loss: 0.2556 - accuracy: 0.9159 - val_loss: 0.3023 - val_accuracy: 0.9043\n",
      "Epoch 64/100\n",
      "75/75 [==============================] - 2s 26ms/step - loss: 0.2521 - accuracy: 0.9172 - val_loss: 0.3049 - val_accuracy: 0.9051\n",
      "Epoch 65/100\n",
      "75/75 [==============================] - 2s 26ms/step - loss: 0.2470 - accuracy: 0.9187 - val_loss: 0.3059 - val_accuracy: 0.9039\n",
      "Epoch 66/100\n",
      "75/75 [==============================] - 2s 27ms/step - loss: 0.2469 - accuracy: 0.9187 - val_loss: 0.2998 - val_accuracy: 0.9063\n",
      "Epoch 67/100\n",
      "75/75 [==============================] - 2s 26ms/step - loss: 0.2454 - accuracy: 0.9191 - val_loss: 0.3018 - val_accuracy: 0.9060\n",
      "Epoch 68/100\n",
      "75/75 [==============================] - 2s 26ms/step - loss: 0.2425 - accuracy: 0.9202 - val_loss: 0.3040 - val_accuracy: 0.9053\n",
      "Epoch 69/100\n",
      "75/75 [==============================] - 2s 27ms/step - loss: 0.2409 - accuracy: 0.9211 - val_loss: 0.3033 - val_accuracy: 0.9056\n",
      "Epoch 70/100\n",
      "75/75 [==============================] - 2s 26ms/step - loss: 0.2431 - accuracy: 0.9197 - val_loss: 0.3008 - val_accuracy: 0.9060\n",
      "Epoch 71/100\n",
      "75/75 [==============================] - 2s 27ms/step - loss: 0.2390 - accuracy: 0.9210 - val_loss: 0.3034 - val_accuracy: 0.9043\n",
      "Epoch 72/100\n",
      "75/75 [==============================] - 2s 27ms/step - loss: 0.2372 - accuracy: 0.9218 - val_loss: 0.3061 - val_accuracy: 0.9048\n",
      "Epoch 73/100\n",
      "75/75 [==============================] - 2s 27ms/step - loss: 0.2388 - accuracy: 0.9214 - val_loss: 0.2991 - val_accuracy: 0.9069\n",
      "Epoch 74/100\n",
      "75/75 [==============================] - 2s 26ms/step - loss: 0.2348 - accuracy: 0.9226 - val_loss: 0.2996 - val_accuracy: 0.9056\n",
      "Epoch 75/100\n",
      "75/75 [==============================] - 2s 27ms/step - loss: 0.2309 - accuracy: 0.9234 - val_loss: 0.3004 - val_accuracy: 0.9070\n",
      "Epoch 76/100\n",
      "75/75 [==============================] - 2s 27ms/step - loss: 0.2304 - accuracy: 0.9234 - val_loss: 0.2879 - val_accuracy: 0.9102\n",
      "Epoch 77/100\n",
      "75/75 [==============================] - 2s 27ms/step - loss: 0.2272 - accuracy: 0.9252 - val_loss: 0.2954 - val_accuracy: 0.9078\n",
      "Epoch 78/100\n",
      "75/75 [==============================] - 2s 26ms/step - loss: 0.2260 - accuracy: 0.9255 - val_loss: 0.2923 - val_accuracy: 0.9095\n",
      "Epoch 79/100\n",
      "75/75 [==============================] - 2s 27ms/step - loss: 0.2241 - accuracy: 0.9255 - val_loss: 0.2940 - val_accuracy: 0.9091\n",
      "Epoch 80/100\n",
      "75/75 [==============================] - 2s 27ms/step - loss: 0.2227 - accuracy: 0.9265 - val_loss: 0.2915 - val_accuracy: 0.9086\n",
      "Epoch 81/100\n",
      "75/75 [==============================] - 2s 26ms/step - loss: 0.2228 - accuracy: 0.9262 - val_loss: 0.2904 - val_accuracy: 0.9095\n",
      "Epoch 82/100\n",
      "75/75 [==============================] - 2s 27ms/step - loss: 0.2208 - accuracy: 0.9265 - val_loss: 0.2864 - val_accuracy: 0.9110\n",
      "Epoch 83/100\n",
      "75/75 [==============================] - 2s 27ms/step - loss: 0.2189 - accuracy: 0.9270 - val_loss: 0.2945 - val_accuracy: 0.9093\n",
      "Epoch 84/100\n",
      "75/75 [==============================] - 2s 26ms/step - loss: 0.2185 - accuracy: 0.9275 - val_loss: 0.2919 - val_accuracy: 0.9101\n",
      "Epoch 85/100\n",
      "75/75 [==============================] - 2s 27ms/step - loss: 0.2156 - accuracy: 0.9284 - val_loss: 0.2906 - val_accuracy: 0.9101\n",
      "Epoch 86/100\n",
      "75/75 [==============================] - 2s 27ms/step - loss: 0.2178 - accuracy: 0.9281 - val_loss: 0.2911 - val_accuracy: 0.9104\n",
      "Epoch 87/100\n",
      "75/75 [==============================] - 2s 27ms/step - loss: 0.2175 - accuracy: 0.9280 - val_loss: 0.2875 - val_accuracy: 0.9115\n",
      "Epoch 88/100\n",
      "75/75 [==============================] - 2s 27ms/step - loss: 0.2158 - accuracy: 0.9284 - val_loss: 0.2954 - val_accuracy: 0.9077\n",
      "Epoch 89/100\n",
      "75/75 [==============================] - 2s 26ms/step - loss: 0.2136 - accuracy: 0.9285 - val_loss: 0.2863 - val_accuracy: 0.9125\n",
      "Epoch 90/100\n",
      "75/75 [==============================] - 2s 26ms/step - loss: 0.2101 - accuracy: 0.9306 - val_loss: 0.2846 - val_accuracy: 0.9124\n",
      "Epoch 91/100\n",
      "75/75 [==============================] - 2s 26ms/step - loss: 0.2078 - accuracy: 0.9309 - val_loss: 0.2852 - val_accuracy: 0.9128\n",
      "Epoch 92/100\n",
      "75/75 [==============================] - 2s 26ms/step - loss: 0.2089 - accuracy: 0.9307 - val_loss: 0.2884 - val_accuracy: 0.9106\n",
      "Epoch 93/100\n",
      "75/75 [==============================] - 2s 27ms/step - loss: 0.2051 - accuracy: 0.9316 - val_loss: 0.2865 - val_accuracy: 0.9108\n",
      "Epoch 94/100\n",
      "75/75 [==============================] - 2s 26ms/step - loss: 0.2042 - accuracy: 0.9322 - val_loss: 0.2817 - val_accuracy: 0.9138\n",
      "Epoch 95/100\n",
      "75/75 [==============================] - 2s 26ms/step - loss: 0.2087 - accuracy: 0.9304 - val_loss: 0.2835 - val_accuracy: 0.9123\n",
      "Epoch 96/100\n",
      "75/75 [==============================] - 2s 26ms/step - loss: 0.2035 - accuracy: 0.9322 - val_loss: 0.2762 - val_accuracy: 0.9158\n",
      "Epoch 97/100\n",
      "75/75 [==============================] - 2s 26ms/step - loss: 0.2027 - accuracy: 0.9325 - val_loss: 0.2760 - val_accuracy: 0.9155\n",
      "Epoch 98/100\n",
      "75/75 [==============================] - 2s 27ms/step - loss: 0.2014 - accuracy: 0.9329 - val_loss: 0.2781 - val_accuracy: 0.9153\n",
      "Epoch 99/100\n",
      "75/75 [==============================] - 2s 27ms/step - loss: 0.1993 - accuracy: 0.9332 - val_loss: 0.2856 - val_accuracy: 0.9147\n",
      "Epoch 100/100\n",
      "75/75 [==============================] - 2s 26ms/step - loss: 0.1983 - accuracy: 0.9339 - val_loss: 0.2747 - val_accuracy: 0.9164\n"
     ]
    }
   ],
   "source": [
    "history = model.fit(X_train, y_train, batch_size=4056, epochs=100, validation_data = (X_test, y_test))"
   ]
  },
  {
   "cell_type": "markdown",
   "id": "ffed59b1",
   "metadata": {},
   "source": [
    "# 4.Evaluate Network"
   ]
  },
  {
   "cell_type": "markdown",
   "id": "28731190",
   "metadata": {},
   "source": [
    "## 4.1. Plotting Loss and Accuracy"
   ]
  },
  {
   "cell_type": "code",
   "execution_count": 24,
   "id": "971e6040",
   "metadata": {},
   "outputs": [
    {
     "data": {
      "text/plain": [
       "Text(0.5, 1.0, 'Loss Curve of Deep Neural Netowork')"
      ]
     },
     "execution_count": 24,
     "metadata": {},
     "output_type": "execute_result"
    },
    {
     "data": {
      "image/png": "[encoded data removed]",
      "text/plain": [
       "<Figure size 432x288 with 1 Axes>"
      ]
     },
     "metadata": {
      "needs_background": "light"
     },
     "output_type": "display_data"
    }
   ],
   "source": [
    "#Loss Curve\n",
    "\n",
    "\n",
    "plt.plot(figsize = [8,6])\n",
    "\n",
    "plt.plot(history.history['loss'],'r',linewidth = 3.0)\n",
    "plt.plot(history.history['val_loss'],'b',linewidth = 3.0)\n",
    "\n",
    "plt.legend(['Training Loss', 'Validation Loss'], fontsize = 18)\n",
    "\n",
    "plt.xlabel('Epochs', fontsize = 16)\n",
    "plt.ylabel('Loss', fontsize = 16)\n",
    "\n",
    "plt.title('Loss Curve of Deep Neural Netowork' , fontsize = 16 )\n",
    "\n"
   ]
  },
  {
   "cell_type": "code",
   "execution_count": 25,
   "id": "b0c193ec",
   "metadata": {},
   "outputs": [
    {
     "data": {
      "text/plain": [
       "Text(0.5, 1.0, 'Accuracy Curve of Deep Neural Netowork')"
      ]
     },
     "execution_count": 25,
     "metadata": {},
     "output_type": "execute_result"
    },
    {
     "data": {
      "image/png": "[encoded data removed]",
      "text/plain": [
       "<Figure size 432x288 with 1 Axes>"
      ]
     },
     "metadata": {
      "needs_background": "light"
     },
     "output_type": "display_data"
    }
   ],
   "source": [
    "#Accuracy Curve\n",
    "\n",
    "plt.plot(figsize = [8,6])\n",
    "plt.plot(history.history['accuracy'],'r',linewidth = 3.0)\n",
    "plt.plot(history.history['val_accuracy'],'b',linewidth = 3.0)\n",
    "\n",
    "plt.legend(['Training Accuracy', 'Validation Accuracy'], fontsize = 18)\n",
    "\n",
    "plt.xlabel('Epochs', fontsize = 16)\n",
    "plt.ylabel('Accuracy', fontsize = 16)\n",
    "\n",
    "\n",
    "plt.title('Accuracy Curve of Deep Neural Netowork' , fontsize = 16 )"
   ]
  },
  {
   "cell_type": "markdown",
   "id": "741a02aa",
   "metadata": {},
   "source": [
    "##  4.2 Make Predictions"
   ]
  },
  {
   "cell_type": "code",
   "execution_count": 26,
   "id": "e8465627",
   "metadata": {},
   "outputs": [],
   "source": [
    "predictions = model.predict(X_test)\n",
    "predictions = np.argmax(predictions, axis = 1)"
   ]
  },
  {
   "cell_type": "code",
   "execution_count": 27,
   "id": "3cac1a50",
   "metadata": {},
   "outputs": [
    {
     "data": {
      "text/plain": [
       "array([ 0,  0,  3, ...,  2, 22,  0], dtype=int64)"
      ]
     },
     "execution_count": 27,
     "metadata": {},
     "output_type": "execute_result"
    }
   ],
   "source": [
    "predictions"
   ]
  },
  {
   "cell_type": "markdown",
   "id": "70d666bb",
   "metadata": {},
   "source": [
    "#### Transforming from One Hot Encoding"
   ]
  },
  {
   "cell_type": "code",
   "execution_count": 28,
   "id": "7234b6e7",
   "metadata": {},
   "outputs": [
    {
     "data": {
      "text/plain": [
       "0"
      ]
     },
     "execution_count": 28,
     "metadata": {},
     "output_type": "execute_result"
    }
   ],
   "source": [
    "y_test =np.argmax(y_test, axis=1)\n",
    "y_test[1]"
   ]
  },
  {
   "cell_type": "code",
   "execution_count": 29,
   "id": "6278820d",
   "metadata": {},
   "outputs": [
    {
     "name": "stdout",
     "output_type": "stream",
     "text": [
      "Accuracy is: 91.64364459178572\n"
     ]
    }
   ],
   "source": [
    "from sklearn.metrics import accuracy_score\n",
    "accuracy = {accuracy_score(y_test, predictions)}\n",
    "print(f\"Accuracy is: {accuracy_score(y_test, predictions)* 100}\")"
   ]
  },
  {
   "cell_type": "markdown",
   "id": "eb044ea1",
   "metadata": {},
   "source": [
    "## 4.3 Classification Report"
   ]
  },
  {
   "cell_type": "code",
   "execution_count": 30,
   "id": "001ebc5a",
   "metadata": {},
   "outputs": [
    {
     "name": "stdout",
     "output_type": "stream",
     "text": [
      "\u001b[1mClassification report : \u001b[0m\n",
      "               precision    recall  f1-score   support\n",
      "\n",
      "           0       0.93      0.98      0.96     37518\n",
      "           1       0.92      0.91      0.91      2216\n",
      "           2       0.90      0.85      0.87      2231\n",
      "           3       0.93      0.85      0.89      2098\n",
      "           4       0.87      0.89      0.88      2142\n",
      "           5       0.92      0.85      0.88      2303\n",
      "           6       0.94      0.90      0.92      2161\n",
      "           7       0.84      0.78      0.81      2362\n",
      "           8       0.91      0.91      0.91      2236\n",
      "           9       0.88      0.90      0.89      2288\n",
      "          10       0.93      0.83      0.88      2451\n",
      "          11       0.92      0.94      0.93      2048\n",
      "          12       0.87      0.79      0.83      2126\n",
      "          13       0.94      0.86      0.90      1397\n",
      "          14       0.84      0.78      0.81      1285\n",
      "          15       0.77      0.81      0.79      1381\n",
      "          16       0.94      0.87      0.90      1373\n",
      "          17       0.84      0.66      0.74      1571\n",
      "          18       0.88      0.83      0.85       836\n",
      "          19       0.72      0.80      0.76       753\n",
      "          20       0.97      0.95      0.96       900\n",
      "          21       0.97      0.92      0.95       724\n",
      "          22       0.98      0.96      0.97       705\n",
      "          23       0.95      0.83      0.89       909\n",
      "\n",
      "    accuracy                           0.92     76014\n",
      "   macro avg       0.90      0.86      0.88     76014\n",
      "weighted avg       0.92      0.92      0.92     76014\n",
      "\n",
      "\u001b[1mConfusion Matrix : \u001b[0m\n"
     ]
    },
    {
     "data": {
      "image/png": "[encoded data removed]",
      "text/plain": [
       "<Figure size 432x288 with 2 Axes>"
      ]
     },
     "metadata": {
      "needs_background": "light"
     },
     "output_type": "display_data"
    }
   ],
   "source": [
    "from sklearn.metrics import confusion_matrix, f1_score, accuracy_score, classification_report\n",
    "print('\\033[1m' +'Classification report : '+ '\\033[0m\\n', classification_report(y_test, predictions))\n",
    "\n",
    "cm = confusion_matrix(predictions, y_test)\n",
    "print('\\033[1m' +'Confusion Matrix : '+ '\\033[0m')\n",
    "sns.heatmap(cm, cmap = 'OrRd',annot = True, fmt='d')\n",
    "plt.show()"
   ]
  },
  {
   "cell_type": "markdown",
   "id": "eaa5e512",
   "metadata": {},
   "source": [
    "## 4.4 Evaluation"
   ]
  },
  {
   "cell_type": "code",
   "execution_count": 31,
   "id": "9e469f86",
   "metadata": {},
   "outputs": [
    {
     "name": "stdout",
     "output_type": "stream",
     "text": [
      "MAE: 0.6938984923829821\n",
      "MSE: 8.280395716578525\n",
      "RMSE: 2.8775676736748563\n"
     ]
    }
   ],
   "source": [
    "from sklearn import metrics\n",
    "\n",
    "print('MAE:', metrics.mean_absolute_error(y_test,predictions))\n",
    "print('MSE:', metrics.mean_squared_error(y_test, predictions))\n",
    "print('RMSE:', np.sqrt(metrics.mean_squared_error(y_test, predictions)))"
   ]
  },
  {
   "cell_type": "code",
   "execution_count": 32,
   "id": "dff2a82d",
   "metadata": {},
   "outputs": [
    {
     "name": "stdout",
     "output_type": "stream",
     "text": [
      "Precision Score :  0.915954463365482\n",
      "Recall Score :  0.9164364459178572\n",
      "f1_score :  0.9152623626019017\n"
     ]
    }
   ],
   "source": [
    "from sklearn.metrics import precision_score\n",
    "print(\"Precision Score : \",precision_score(y_test, predictions, average='weighted'))\n",
    "\n",
    "\n",
    "from sklearn.metrics import recall_score\n",
    "print(\"Recall Score : \",recall_score(y_test, predictions,average='weighted'))\n",
    "\n",
    "\n",
    "from sklearn.metrics import f1_score\n",
    "print(\"f1_score : \",f1_score(y_test, predictions,average='weighted'))"
   ]
  },
  {
   "cell_type": "code",
   "execution_count": null,
   "id": "81ac7468",
   "metadata": {},
   "outputs": [],
   "source": []
  },
  {
   "cell_type": "code",
   "execution_count": null,
   "id": "71a4c6e0",
   "metadata": {},
   "outputs": [],
   "source": []
  }
 ],
 "metadata": {
  "kernelspec": {
   "display_name": "Python 3 (ipykernel)",
   "language": "python",
   "name": "python3"
  },
  "language_info": {
   "codemirror_mode": {
    "name": "ipython",
    "version": 3
   },
   "file_extension": ".py",
   "mimetype": "text/x-python",
   "name": "python",
   "nbconvert_exporter": "python",
   "pygments_lexer": "ipython3",
   "version": "3.8.12"
  }
 },
 "nbformat": 4,
 "nbformat_minor": 5
}
