{
 "cells": [
  {
   "cell_type": "markdown",
   "id": "bf8ee932",
   "metadata": {},
   "source": [
    "# Importing Libraries"
   ]
  },
  {
   "cell_type": "code",
   "execution_count": 1,
   "id": "0f663fa8",
   "metadata": {},
   "outputs": [],
   "source": [
    "import numpy as np\n",
    "import pandas as pd\n",
    "import matplotlib.pyplot as plt\n",
    "import seaborn as sns\n",
    "from sklearn.model_selection import train_test_split"
   ]
  },
  {
   "cell_type": "markdown",
   "id": "511af272",
   "metadata": {},
   "source": [
    "# Loading Data"
   ]
  },
  {
   "cell_type": "code",
   "execution_count": 2,
   "id": "04fd19b0",
   "metadata": {},
   "outputs": [
    {
     "data": {
      "text/html": [
       "<div>\n",
       "<style scoped>\n",
       "    .dataframe tbody tr th:only-of-type {\n",
       "        vertical-align: middle;\n",
       "    }\n",
       "\n",
       "    .dataframe tbody tr th {\n",
       "        vertical-align: top;\n",
       "    }\n",
       "\n",
       "    .dataframe thead th {\n",
       "        text-align: right;\n",
       "    }\n",
       "</style>\n",
       "<table border=\"1\" class=\"dataframe\">\n",
       "  <thead>\n",
       "    <tr style=\"text-align: right;\">\n",
       "      <th></th>\n",
       "      <th>Emg1</th>\n",
       "      <th>Emg2</th>\n",
       "      <th>Emg3</th>\n",
       "      <th>Emg4</th>\n",
       "      <th>Emg5</th>\n",
       "      <th>Emg6</th>\n",
       "      <th>Emg7</th>\n",
       "      <th>Emg8</th>\n",
       "      <th>Emg9</th>\n",
       "      <th>Emg10</th>\n",
       "      <th>repetition</th>\n",
       "      <th>rerepetition</th>\n",
       "      <th>stimulus</th>\n",
       "      <th>restimulus</th>\n",
       "    </tr>\n",
       "  </thead>\n",
       "  <tbody>\n",
       "    <tr>\n",
       "      <th>299482</th>\n",
       "      <td>0.3027</td>\n",
       "      <td>0.1123</td>\n",
       "      <td>0.2051</td>\n",
       "      <td>0.5151</td>\n",
       "      <td>0.0171</td>\n",
       "      <td>0.0195</td>\n",
       "      <td>0.3223</td>\n",
       "      <td>0.8105</td>\n",
       "      <td>0.1099</td>\n",
       "      <td>0.4395</td>\n",
       "      <td>10</td>\n",
       "      <td>10</td>\n",
       "      <td>6</td>\n",
       "      <td>6</td>\n",
       "    </tr>\n",
       "    <tr>\n",
       "      <th>336728</th>\n",
       "      <td>0.0293</td>\n",
       "      <td>0.0024</td>\n",
       "      <td>0.0024</td>\n",
       "      <td>0.0024</td>\n",
       "      <td>0.0024</td>\n",
       "      <td>0.0024</td>\n",
       "      <td>0.1270</td>\n",
       "      <td>0.4492</td>\n",
       "      <td>0.0024</td>\n",
       "      <td>0.2222</td>\n",
       "      <td>0</td>\n",
       "      <td>0</td>\n",
       "      <td>0</td>\n",
       "      <td>0</td>\n",
       "    </tr>\n",
       "    <tr>\n",
       "      <th>239736</th>\n",
       "      <td>0.0830</td>\n",
       "      <td>0.0024</td>\n",
       "      <td>0.0024</td>\n",
       "      <td>0.0024</td>\n",
       "      <td>0.0024</td>\n",
       "      <td>0.0024</td>\n",
       "      <td>0.2173</td>\n",
       "      <td>0.4517</td>\n",
       "      <td>0.0024</td>\n",
       "      <td>0.3271</td>\n",
       "      <td>5</td>\n",
       "      <td>0</td>\n",
       "      <td>17</td>\n",
       "      <td>0</td>\n",
       "    </tr>\n",
       "    <tr>\n",
       "      <th>213762</th>\n",
       "      <td>0.4248</td>\n",
       "      <td>0.1123</td>\n",
       "      <td>0.0659</td>\n",
       "      <td>0.1538</td>\n",
       "      <td>0.1123</td>\n",
       "      <td>0.3491</td>\n",
       "      <td>3.2861</td>\n",
       "      <td>2.4194</td>\n",
       "      <td>0.0366</td>\n",
       "      <td>1.9922</td>\n",
       "      <td>4</td>\n",
       "      <td>4</td>\n",
       "      <td>14</td>\n",
       "      <td>14</td>\n",
       "    </tr>\n",
       "    <tr>\n",
       "      <th>140597</th>\n",
       "      <td>0.1465</td>\n",
       "      <td>0.7788</td>\n",
       "      <td>1.0913</td>\n",
       "      <td>0.0684</td>\n",
       "      <td>0.0757</td>\n",
       "      <td>0.1392</td>\n",
       "      <td>0.7056</td>\n",
       "      <td>2.1704</td>\n",
       "      <td>0.2246</td>\n",
       "      <td>1.9287</td>\n",
       "      <td>7</td>\n",
       "      <td>7</td>\n",
       "      <td>5</td>\n",
       "      <td>5</td>\n",
       "    </tr>\n",
       "  </tbody>\n",
       "</table>\n",
       "</div>"
      ],
      "text/plain": [
       "          Emg1    Emg2    Emg3    Emg4    Emg5    Emg6    Emg7    Emg8  \\\n",
       "299482  0.3027  0.1123  0.2051  0.5151  0.0171  0.0195  0.3223  0.8105   \n",
       "336728  0.0293  0.0024  0.0024  0.0024  0.0024  0.0024  0.1270  0.4492   \n",
       "239736  0.0830  0.0024  0.0024  0.0024  0.0024  0.0024  0.2173  0.4517   \n",
       "213762  0.4248  0.1123  0.0659  0.1538  0.1123  0.3491  3.2861  2.4194   \n",
       "140597  0.1465  0.7788  1.0913  0.0684  0.0757  0.1392  0.7056  2.1704   \n",
       "\n",
       "          Emg9   Emg10  repetition  rerepetition  stimulus  restimulus  \n",
       "299482  0.1099  0.4395          10            10         6           6  \n",
       "336728  0.0024  0.2222           0             0         0           0  \n",
       "239736  0.0024  0.3271           5             0        17           0  \n",
       "213762  0.0366  1.9922           4             4        14          14  \n",
       "140597  0.2246  1.9287           7             7         5           5  "
      ]
     },
     "execution_count": 2,
     "metadata": {},
     "output_type": "execute_result"
    }
   ],
   "source": [
    "raw_data = pd.read_excel('Dataset 1 Patient 23.xlsx')\n",
    "raw_data.sample(5)"
   ]
  },
  {
   "cell_type": "code",
   "execution_count": 3,
   "id": "80369ddb",
   "metadata": {},
   "outputs": [
    {
     "name": "stdout",
     "output_type": "stream",
     "text": [
      "<class 'pandas.core.frame.DataFrame'>\n",
      "RangeIndex: 466726 entries, 0 to 466725\n",
      "Data columns (total 14 columns):\n",
      " #   Column        Non-Null Count   Dtype  \n",
      "---  ------        --------------   -----  \n",
      " 0   Emg1          466726 non-null  float64\n",
      " 1   Emg2          466726 non-null  float64\n",
      " 2   Emg3          466726 non-null  float64\n",
      " 3   Emg4          466726 non-null  float64\n",
      " 4   Emg5          466726 non-null  float64\n",
      " 5   Emg6          466726 non-null  float64\n",
      " 6   Emg7          466726 non-null  float64\n",
      " 7   Emg8          466726 non-null  float64\n",
      " 8   Emg9          466726 non-null  float64\n",
      " 9   Emg10         466726 non-null  float64\n",
      " 10  repetition    466726 non-null  int64  \n",
      " 11  rerepetition  466726 non-null  int64  \n",
      " 12  stimulus      466726 non-null  int64  \n",
      " 13  restimulus    466726 non-null  int64  \n",
      "dtypes: float64(10), int64(4)\n",
      "memory usage: 49.9 MB\n"
     ]
    }
   ],
   "source": [
    "raw_data.info()"
   ]
  },
  {
   "cell_type": "code",
   "execution_count": 4,
   "id": "109445f8",
   "metadata": {},
   "outputs": [
    {
     "data": {
      "text/html": [
       "<div>\n",
       "<style scoped>\n",
       "    .dataframe tbody tr th:only-of-type {\n",
       "        vertical-align: middle;\n",
       "    }\n",
       "\n",
       "    .dataframe tbody tr th {\n",
       "        vertical-align: top;\n",
       "    }\n",
       "\n",
       "    .dataframe thead th {\n",
       "        text-align: right;\n",
       "    }\n",
       "</style>\n",
       "<table border=\"1\" class=\"dataframe\">\n",
       "  <thead>\n",
       "    <tr style=\"text-align: right;\">\n",
       "      <th></th>\n",
       "      <th>Emg1</th>\n",
       "      <th>Emg2</th>\n",
       "      <th>Emg3</th>\n",
       "      <th>Emg4</th>\n",
       "      <th>Emg5</th>\n",
       "      <th>Emg6</th>\n",
       "      <th>Emg7</th>\n",
       "      <th>Emg8</th>\n",
       "      <th>Emg9</th>\n",
       "      <th>Emg10</th>\n",
       "      <th>repetition</th>\n",
       "      <th>rerepetition</th>\n",
       "      <th>stimulus</th>\n",
       "      <th>restimulus</th>\n",
       "    </tr>\n",
       "  </thead>\n",
       "  <tbody>\n",
       "    <tr>\n",
       "      <th>count</th>\n",
       "      <td>466726.000000</td>\n",
       "      <td>466726.000000</td>\n",
       "      <td>466726.000000</td>\n",
       "      <td>466726.000000</td>\n",
       "      <td>466726.000000</td>\n",
       "      <td>466726.000000</td>\n",
       "      <td>466726.000000</td>\n",
       "      <td>466726.000000</td>\n",
       "      <td>466726.000000</td>\n",
       "      <td>466726.000000</td>\n",
       "      <td>466726.000000</td>\n",
       "      <td>466726.000000</td>\n",
       "      <td>466726.000000</td>\n",
       "      <td>466726.000000</td>\n",
       "    </tr>\n",
       "    <tr>\n",
       "      <th>mean</th>\n",
       "      <td>0.251095</td>\n",
       "      <td>0.119320</td>\n",
       "      <td>0.115496</td>\n",
       "      <td>0.045759</td>\n",
       "      <td>0.016772</td>\n",
       "      <td>0.032003</td>\n",
       "      <td>0.398193</td>\n",
       "      <td>0.522112</td>\n",
       "      <td>0.103482</td>\n",
       "      <td>0.369998</td>\n",
       "      <td>3.170173</td>\n",
       "      <td>2.415398</td>\n",
       "      <td>5.640063</td>\n",
       "      <td>4.377206</td>\n",
       "    </tr>\n",
       "    <tr>\n",
       "      <th>std</th>\n",
       "      <td>0.404683</td>\n",
       "      <td>0.272062</td>\n",
       "      <td>0.290616</td>\n",
       "      <td>0.163999</td>\n",
       "      <td>0.047524</td>\n",
       "      <td>0.075457</td>\n",
       "      <td>0.559503</td>\n",
       "      <td>0.600535</td>\n",
       "      <td>0.374202</td>\n",
       "      <td>0.436304</td>\n",
       "      <td>3.483223</td>\n",
       "      <td>3.321240</td>\n",
       "      <td>6.584233</td>\n",
       "      <td>6.346566</td>\n",
       "    </tr>\n",
       "    <tr>\n",
       "      <th>min</th>\n",
       "      <td>0.000000</td>\n",
       "      <td>0.000000</td>\n",
       "      <td>0.002400</td>\n",
       "      <td>0.000000</td>\n",
       "      <td>0.002400</td>\n",
       "      <td>0.000000</td>\n",
       "      <td>0.000000</td>\n",
       "      <td>0.000000</td>\n",
       "      <td>0.000000</td>\n",
       "      <td>0.000000</td>\n",
       "      <td>0.000000</td>\n",
       "      <td>0.000000</td>\n",
       "      <td>0.000000</td>\n",
       "      <td>0.000000</td>\n",
       "    </tr>\n",
       "    <tr>\n",
       "      <th>25%</th>\n",
       "      <td>0.043900</td>\n",
       "      <td>0.002400</td>\n",
       "      <td>0.002400</td>\n",
       "      <td>0.002400</td>\n",
       "      <td>0.002400</td>\n",
       "      <td>0.002400</td>\n",
       "      <td>0.065900</td>\n",
       "      <td>0.114700</td>\n",
       "      <td>0.002400</td>\n",
       "      <td>0.058600</td>\n",
       "      <td>0.000000</td>\n",
       "      <td>0.000000</td>\n",
       "      <td>0.000000</td>\n",
       "      <td>0.000000</td>\n",
       "    </tr>\n",
       "    <tr>\n",
       "      <th>50%</th>\n",
       "      <td>0.107400</td>\n",
       "      <td>0.019500</td>\n",
       "      <td>0.002400</td>\n",
       "      <td>0.002400</td>\n",
       "      <td>0.002400</td>\n",
       "      <td>0.002400</td>\n",
       "      <td>0.217300</td>\n",
       "      <td>0.390600</td>\n",
       "      <td>0.002400</td>\n",
       "      <td>0.251500</td>\n",
       "      <td>2.000000</td>\n",
       "      <td>0.000000</td>\n",
       "      <td>3.000000</td>\n",
       "      <td>0.000000</td>\n",
       "    </tr>\n",
       "    <tr>\n",
       "      <th>75%</th>\n",
       "      <td>0.268600</td>\n",
       "      <td>0.124500</td>\n",
       "      <td>0.102500</td>\n",
       "      <td>0.004900</td>\n",
       "      <td>0.002400</td>\n",
       "      <td>0.029300</td>\n",
       "      <td>0.490700</td>\n",
       "      <td>0.683600</td>\n",
       "      <td>0.043900</td>\n",
       "      <td>0.490700</td>\n",
       "      <td>6.000000</td>\n",
       "      <td>5.000000</td>\n",
       "      <td>10.000000</td>\n",
       "      <td>8.000000</td>\n",
       "    </tr>\n",
       "    <tr>\n",
       "      <th>max</th>\n",
       "      <td>4.665500</td>\n",
       "      <td>4.665500</td>\n",
       "      <td>4.658200</td>\n",
       "      <td>4.111300</td>\n",
       "      <td>1.279300</td>\n",
       "      <td>1.865200</td>\n",
       "      <td>4.663100</td>\n",
       "      <td>4.665500</td>\n",
       "      <td>4.663100</td>\n",
       "      <td>4.663100</td>\n",
       "      <td>10.000000</td>\n",
       "      <td>10.000000</td>\n",
       "      <td>23.000000</td>\n",
       "      <td>23.000000</td>\n",
       "    </tr>\n",
       "  </tbody>\n",
       "</table>\n",
       "</div>"
      ],
      "text/plain": [
       "                Emg1           Emg2           Emg3           Emg4  \\\n",
       "count  466726.000000  466726.000000  466726.000000  466726.000000   \n",
       "mean        0.251095       0.119320       0.115496       0.045759   \n",
       "std         0.404683       0.272062       0.290616       0.163999   \n",
       "min         0.000000       0.000000       0.002400       0.000000   \n",
       "25%         0.043900       0.002400       0.002400       0.002400   \n",
       "50%         0.107400       0.019500       0.002400       0.002400   \n",
       "75%         0.268600       0.124500       0.102500       0.004900   \n",
       "max         4.665500       4.665500       4.658200       4.111300   \n",
       "\n",
       "                Emg5           Emg6           Emg7           Emg8  \\\n",
       "count  466726.000000  466726.000000  466726.000000  466726.000000   \n",
       "mean        0.016772       0.032003       0.398193       0.522112   \n",
       "std         0.047524       0.075457       0.559503       0.600535   \n",
       "min         0.002400       0.000000       0.000000       0.000000   \n",
       "25%         0.002400       0.002400       0.065900       0.114700   \n",
       "50%         0.002400       0.002400       0.217300       0.390600   \n",
       "75%         0.002400       0.029300       0.490700       0.683600   \n",
       "max         1.279300       1.865200       4.663100       4.665500   \n",
       "\n",
       "                Emg9          Emg10     repetition   rerepetition  \\\n",
       "count  466726.000000  466726.000000  466726.000000  466726.000000   \n",
       "mean        0.103482       0.369998       3.170173       2.415398   \n",
       "std         0.374202       0.436304       3.483223       3.321240   \n",
       "min         0.000000       0.000000       0.000000       0.000000   \n",
       "25%         0.002400       0.058600       0.000000       0.000000   \n",
       "50%         0.002400       0.251500       2.000000       0.000000   \n",
       "75%         0.043900       0.490700       6.000000       5.000000   \n",
       "max         4.663100       4.663100      10.000000      10.000000   \n",
       "\n",
       "            stimulus     restimulus  \n",
       "count  466726.000000  466726.000000  \n",
       "mean        5.640063       4.377206  \n",
       "std         6.584233       6.346566  \n",
       "min         0.000000       0.000000  \n",
       "25%         0.000000       0.000000  \n",
       "50%         3.000000       0.000000  \n",
       "75%        10.000000       8.000000  \n",
       "max        23.000000      23.000000  "
      ]
     },
     "execution_count": 4,
     "metadata": {},
     "output_type": "execute_result"
    }
   ],
   "source": [
    "raw_data.describe(include='all')"
   ]
  },
  {
   "cell_type": "code",
   "execution_count": 5,
   "id": "f0b9a2e6",
   "metadata": {},
   "outputs": [
    {
     "name": "stdout",
     "output_type": "stream",
     "text": [
      "Unique Dependent values and their counts :\n",
      "0     197016\n",
      "12     15538\n",
      "8      15534\n",
      "2      15533\n",
      "4      15528\n",
      "11     15528\n",
      "9      15521\n",
      "7      15514\n",
      "6      15507\n",
      "5      15506\n",
      "3      15485\n",
      "1      15470\n",
      "10     15463\n",
      "13     11255\n",
      "17     10362\n",
      "14     10343\n",
      "15     10330\n",
      "16     10316\n",
      "18      5173\n",
      "19      5173\n",
      "21      5170\n",
      "20      5154\n",
      "23      5154\n",
      "22      5153\n",
      "Name: stimulus, dtype: int64\n"
     ]
    }
   ],
   "source": [
    "print(\"Unique Dependent values and their counts :\")\n",
    "print(raw_data[\"stimulus\"].value_counts())"
   ]
  },
  {
   "cell_type": "markdown",
   "id": "54420ec4",
   "metadata": {},
   "source": [
    "# Data Cleaning"
   ]
  },
  {
   "cell_type": "code",
   "execution_count": 6,
   "id": "a811198b",
   "metadata": {},
   "outputs": [],
   "source": [
    "index_names = raw_data[ (raw_data['stimulus'] != raw_data['restimulus'])].index\n",
    "raw_data.drop(index_names, inplace = True)"
   ]
  },
  {
   "cell_type": "code",
   "execution_count": 7,
   "id": "556cd92f",
   "metadata": {},
   "outputs": [],
   "source": [
    "index_names = raw_data[ (raw_data['repetition'] != raw_data['rerepetition'])].index\n",
    "raw_data.drop(index_names, inplace = True)"
   ]
  },
  {
   "cell_type": "code",
   "execution_count": 8,
   "id": "c91744f7",
   "metadata": {},
   "outputs": [],
   "source": [
    "X = raw_data.iloc[:,0:10]\n",
    "y = raw_data.stimulus"
   ]
  },
  {
   "cell_type": "markdown",
   "id": "152f7160",
   "metadata": {},
   "source": [
    "# One Hot Encoding"
   ]
  },
  {
   "cell_type": "code",
   "execution_count": 9,
   "id": "dfb77d24",
   "metadata": {},
   "outputs": [],
   "source": [
    "num_classes = 24"
   ]
  },
  {
   "cell_type": "code",
   "execution_count": 10,
   "id": "be64bf6b",
   "metadata": {},
   "outputs": [],
   "source": [
    "# One hot encoding for categorical labels\n",
    "import keras\n",
    "from keras import utils as np_utils\n",
    "y = keras.utils.np_utils.to_categorical(y, num_classes)"
   ]
  },
  {
   "cell_type": "code",
   "execution_count": 11,
   "id": "c7358f86",
   "metadata": {},
   "outputs": [],
   "source": [
    "input_dim = X.shape[1]"
   ]
  },
  {
   "cell_type": "markdown",
   "id": "cb3088a1",
   "metadata": {},
   "source": [
    "# Standard Scaler"
   ]
  },
  {
   "cell_type": "code",
   "execution_count": 12,
   "id": "5bd820f4",
   "metadata": {},
   "outputs": [],
   "source": [
    "from sklearn.preprocessing import StandardScaler\n",
    "standardscaler=StandardScaler()"
   ]
  },
  {
   "cell_type": "code",
   "execution_count": 13,
   "id": "6a118694",
   "metadata": {},
   "outputs": [],
   "source": [
    "sc = pd.DataFrame(standardscaler.fit_transform(X))"
   ]
  },
  {
   "cell_type": "code",
   "execution_count": 14,
   "id": "d6e2f38b",
   "metadata": {},
   "outputs": [
    {
     "data": {
      "text/html": [
       "<div>\n",
       "<style scoped>\n",
       "    .dataframe tbody tr th:only-of-type {\n",
       "        vertical-align: middle;\n",
       "    }\n",
       "\n",
       "    .dataframe tbody tr th {\n",
       "        vertical-align: top;\n",
       "    }\n",
       "\n",
       "    .dataframe thead th {\n",
       "        text-align: right;\n",
       "    }\n",
       "</style>\n",
       "<table border=\"1\" class=\"dataframe\">\n",
       "  <thead>\n",
       "    <tr style=\"text-align: right;\">\n",
       "      <th></th>\n",
       "      <th>0</th>\n",
       "      <th>1</th>\n",
       "      <th>2</th>\n",
       "      <th>3</th>\n",
       "      <th>4</th>\n",
       "      <th>5</th>\n",
       "      <th>6</th>\n",
       "      <th>7</th>\n",
       "      <th>8</th>\n",
       "      <th>9</th>\n",
       "    </tr>\n",
       "  </thead>\n",
       "  <tbody>\n",
       "    <tr>\n",
       "      <th>0</th>\n",
       "      <td>-0.589160</td>\n",
       "      <td>-0.446429</td>\n",
       "      <td>-0.415983</td>\n",
       "      <td>-0.288917</td>\n",
       "      <td>-0.332611</td>\n",
       "      <td>-0.386068</td>\n",
       "      <td>-0.206501</td>\n",
       "      <td>-0.439201</td>\n",
       "      <td>-0.29176</td>\n",
       "      <td>-0.014451</td>\n",
       "    </tr>\n",
       "    <tr>\n",
       "      <th>1</th>\n",
       "      <td>-0.577867</td>\n",
       "      <td>-0.446429</td>\n",
       "      <td>-0.415983</td>\n",
       "      <td>-0.288917</td>\n",
       "      <td>-0.332611</td>\n",
       "      <td>-0.416621</td>\n",
       "      <td>-0.222716</td>\n",
       "      <td>-0.412421</td>\n",
       "      <td>-0.29176</td>\n",
       "      <td>-0.025005</td>\n",
       "    </tr>\n",
       "    <tr>\n",
       "      <th>2</th>\n",
       "      <td>-0.572336</td>\n",
       "      <td>-0.446429</td>\n",
       "      <td>-0.415983</td>\n",
       "      <td>-0.288917</td>\n",
       "      <td>-0.332611</td>\n",
       "      <td>-0.416621</td>\n",
       "      <td>-0.271697</td>\n",
       "      <td>-0.393314</td>\n",
       "      <td>-0.29176</td>\n",
       "      <td>-0.067004</td>\n",
       "    </tr>\n",
       "    <tr>\n",
       "      <th>3</th>\n",
       "      <td>-0.577867</td>\n",
       "      <td>-0.446429</td>\n",
       "      <td>-0.415983</td>\n",
       "      <td>-0.288917</td>\n",
       "      <td>-0.332611</td>\n",
       "      <td>-0.416621</td>\n",
       "      <td>-0.279888</td>\n",
       "      <td>-0.397229</td>\n",
       "      <td>-0.29176</td>\n",
       "      <td>-0.130110</td>\n",
       "    </tr>\n",
       "    <tr>\n",
       "      <th>4</th>\n",
       "      <td>-0.589160</td>\n",
       "      <td>-0.446429</td>\n",
       "      <td>-0.415983</td>\n",
       "      <td>-0.288917</td>\n",
       "      <td>-0.332611</td>\n",
       "      <td>-0.416621</td>\n",
       "      <td>-0.275876</td>\n",
       "      <td>-0.400988</td>\n",
       "      <td>-0.29176</td>\n",
       "      <td>-0.198601</td>\n",
       "    </tr>\n",
       "    <tr>\n",
       "      <th>...</th>\n",
       "      <td>...</td>\n",
       "      <td>...</td>\n",
       "      <td>...</td>\n",
       "      <td>...</td>\n",
       "      <td>...</td>\n",
       "      <td>...</td>\n",
       "      <td>...</td>\n",
       "      <td>...</td>\n",
       "      <td>...</td>\n",
       "      <td>...</td>\n",
       "    </tr>\n",
       "    <tr>\n",
       "      <th>385281</th>\n",
       "      <td>-0.285422</td>\n",
       "      <td>-0.305038</td>\n",
       "      <td>-0.415983</td>\n",
       "      <td>-0.288917</td>\n",
       "      <td>-0.332611</td>\n",
       "      <td>-0.326183</td>\n",
       "      <td>0.238337</td>\n",
       "      <td>-0.374207</td>\n",
       "      <td>-0.29176</td>\n",
       "      <td>-0.067004</td>\n",
       "    </tr>\n",
       "    <tr>\n",
       "      <th>385282</th>\n",
       "      <td>-0.324830</td>\n",
       "      <td>-0.329909</td>\n",
       "      <td>-0.415983</td>\n",
       "      <td>-0.288917</td>\n",
       "      <td>-0.332611</td>\n",
       "      <td>-0.356736</td>\n",
       "      <td>0.168962</td>\n",
       "      <td>-0.385640</td>\n",
       "      <td>-0.29176</td>\n",
       "      <td>-0.082942</td>\n",
       "    </tr>\n",
       "    <tr>\n",
       "      <th>385283</th>\n",
       "      <td>-0.364237</td>\n",
       "      <td>-0.354781</td>\n",
       "      <td>-0.415983</td>\n",
       "      <td>-0.288917</td>\n",
       "      <td>-0.332611</td>\n",
       "      <td>-0.416621</td>\n",
       "      <td>0.217942</td>\n",
       "      <td>-0.381881</td>\n",
       "      <td>-0.29176</td>\n",
       "      <td>-0.077557</td>\n",
       "    </tr>\n",
       "    <tr>\n",
       "      <th>385284</th>\n",
       "      <td>-0.364237</td>\n",
       "      <td>-0.396346</td>\n",
       "      <td>-0.415983</td>\n",
       "      <td>-0.288917</td>\n",
       "      <td>-0.332611</td>\n",
       "      <td>-0.416621</td>\n",
       "      <td>0.222121</td>\n",
       "      <td>-0.378122</td>\n",
       "      <td>-0.29176</td>\n",
       "      <td>-0.051281</td>\n",
       "    </tr>\n",
       "    <tr>\n",
       "      <th>385285</th>\n",
       "      <td>-0.352945</td>\n",
       "      <td>-0.429735</td>\n",
       "      <td>-0.415983</td>\n",
       "      <td>-0.288917</td>\n",
       "      <td>-0.332611</td>\n",
       "      <td>-0.416621</td>\n",
       "      <td>0.185344</td>\n",
       "      <td>-0.385640</td>\n",
       "      <td>-0.29176</td>\n",
       "      <td>-0.082942</td>\n",
       "    </tr>\n",
       "  </tbody>\n",
       "</table>\n",
       "<p>385286 rows × 10 columns</p>\n",
       "</div>"
      ],
      "text/plain": [
       "               0         1         2         3         4         5         6  \\\n",
       "0      -0.589160 -0.446429 -0.415983 -0.288917 -0.332611 -0.386068 -0.206501   \n",
       "1      -0.577867 -0.446429 -0.415983 -0.288917 -0.332611 -0.416621 -0.222716   \n",
       "2      -0.572336 -0.446429 -0.415983 -0.288917 -0.332611 -0.416621 -0.271697   \n",
       "3      -0.577867 -0.446429 -0.415983 -0.288917 -0.332611 -0.416621 -0.279888   \n",
       "4      -0.589160 -0.446429 -0.415983 -0.288917 -0.332611 -0.416621 -0.275876   \n",
       "...          ...       ...       ...       ...       ...       ...       ...   \n",
       "385281 -0.285422 -0.305038 -0.415983 -0.288917 -0.332611 -0.326183  0.238337   \n",
       "385282 -0.324830 -0.329909 -0.415983 -0.288917 -0.332611 -0.356736  0.168962   \n",
       "385283 -0.364237 -0.354781 -0.415983 -0.288917 -0.332611 -0.416621  0.217942   \n",
       "385284 -0.364237 -0.396346 -0.415983 -0.288917 -0.332611 -0.416621  0.222121   \n",
       "385285 -0.352945 -0.429735 -0.415983 -0.288917 -0.332611 -0.416621  0.185344   \n",
       "\n",
       "               7        8         9  \n",
       "0      -0.439201 -0.29176 -0.014451  \n",
       "1      -0.412421 -0.29176 -0.025005  \n",
       "2      -0.393314 -0.29176 -0.067004  \n",
       "3      -0.397229 -0.29176 -0.130110  \n",
       "4      -0.400988 -0.29176 -0.198601  \n",
       "...          ...      ...       ...  \n",
       "385281 -0.374207 -0.29176 -0.067004  \n",
       "385282 -0.385640 -0.29176 -0.082942  \n",
       "385283 -0.381881 -0.29176 -0.077557  \n",
       "385284 -0.378122 -0.29176 -0.051281  \n",
       "385285 -0.385640 -0.29176 -0.082942  \n",
       "\n",
       "[385286 rows x 10 columns]"
      ]
     },
     "execution_count": 14,
     "metadata": {},
     "output_type": "execute_result"
    }
   ],
   "source": [
    "sc"
   ]
  },
  {
   "cell_type": "code",
   "execution_count": 15,
   "id": "65cfb75d",
   "metadata": {},
   "outputs": [],
   "source": [
    "# Splitting data for training and testing\n",
    "X_train, X_test, y_train, y_test = train_test_split(sc, y, test_size = 0.2, random_state = 39)"
   ]
  },
  {
   "cell_type": "markdown",
   "id": "3ba47781",
   "metadata": {},
   "source": [
    "# Deep Learning "
   ]
  },
  {
   "cell_type": "code",
   "execution_count": 16,
   "id": "d426e2e1",
   "metadata": {},
   "outputs": [],
   "source": [
    "from sklearn.preprocessing import MinMaxScaler\n",
    "from tensorflow.keras.models import Model\n",
    "from tensorflow.keras.layers import Input\n",
    "from tensorflow.keras.layers import Dense\n",
    "from tensorflow.keras.layers import LeakyReLU,ELU\n",
    "from tensorflow.keras.layers import BatchNormalization\n",
    "from tensorflow.keras.utils import plot_model\n",
    "import tensorflow as tf\n",
    "from sklearn.model_selection import cross_val_score\n",
    "from keras.models import Sequential\n",
    "from keras.layers import Dense, BatchNormalization, Dropout\n",
    "from tensorflow.keras.optimizers import Adam, SGD, RMSprop, Adadelta, Adagrad, Adamax, Nadam, Ftrl\n",
    "from keras.callbacks import EarlyStopping, ModelCheckpoint\n",
    "from keras.wrappers.scikit_learn import KerasClassifier\n",
    "from sklearn.metrics import make_scorer, accuracy_score\n",
    "from sklearn.model_selection import StratifiedKFold"
   ]
  },
  {
   "cell_type": "code",
   "execution_count": 17,
   "id": "cd0ef208",
   "metadata": {},
   "outputs": [],
   "source": [
    "from keras.layers import LeakyReLU\n",
    "LeakyReLU = LeakyReLU(alpha=0.1)\n",
    "from keras.models import Sequential\n",
    "from keras.layers import Dense, Flatten, Convolution1D, Dropout\n",
    "from keras.initializers import random_uniform"
   ]
  },
  {
   "cell_type": "markdown",
   "id": "f97d61bc",
   "metadata": {},
   "source": [
    "# 1. Define Network"
   ]
  },
  {
   "cell_type": "code",
   "execution_count": 18,
   "id": "bd77bf81",
   "metadata": {},
   "outputs": [],
   "source": [
    "num_classes = 24\n",
    "input_dim = X.shape[1]"
   ]
  },
  {
   "cell_type": "code",
   "execution_count": 19,
   "id": "fbdce465",
   "metadata": {},
   "outputs": [],
   "source": [
    "visible = Input(shape=(input_dim,))\n",
    "hidden1 = Dense(3000, activation='relu')(visible)\n",
    "hidden2 = Dense(1500, activation='relu')(hidden1)\n",
    "hidden3 = Dropout(0.2)(hidden2)\n",
    "hidden4 = Dense(750, activation='relu')(hidden3)\n",
    "hidden5 = Dense(375, activation='relu')(hidden4)\n",
    "hidden6 = Dense(48, activation='relu')(hidden5)\n",
    "output = Dense(num_classes, activation='softmax')(hidden6)\n",
    "model = Model(inputs=visible, outputs=output)"
   ]
  },
  {
   "cell_type": "code",
   "execution_count": 20,
   "id": "1dd33478",
   "metadata": {},
   "outputs": [
    {
     "name": "stdout",
     "output_type": "stream",
     "text": [
      "Model: \"model\"\n",
      "_________________________________________________________________\n",
      " Layer (type)                Output Shape              Param #   \n",
      "=================================================================\n",
      " input_1 (InputLayer)        [(None, 10)]              0         \n",
      "                                                                 \n",
      " dense (Dense)               (None, 3000)              33000     \n",
      "                                                                 \n",
      " dense_1 (Dense)             (None, 1500)              4501500   \n",
      "                                                                 \n",
      " dropout (Dropout)           (None, 1500)              0         \n",
      "                                                                 \n",
      " dense_2 (Dense)             (None, 750)               1125750   \n",
      "                                                                 \n",
      " dense_3 (Dense)             (None, 375)               281625    \n",
      "                                                                 \n",
      " dense_4 (Dense)             (None, 48)                18048     \n",
      "                                                                 \n",
      " dense_5 (Dense)             (None, 24)                1176      \n",
      "                                                                 \n",
      "=================================================================\n",
      "Total params: 5,961,099\n",
      "Trainable params: 5,961,099\n",
      "Non-trainable params: 0\n",
      "_________________________________________________________________\n"
     ]
    }
   ],
   "source": [
    "model.summary()"
   ]
  },
  {
   "cell_type": "markdown",
   "id": "3196ac97",
   "metadata": {},
   "source": [
    "# 2. Compile Network"
   ]
  },
  {
   "cell_type": "code",
   "execution_count": 21,
   "id": "7a2d558b",
   "metadata": {},
   "outputs": [],
   "source": [
    "model.compile(optimizer='adam', loss='categorical_crossentropy', metrics=['accuracy'])"
   ]
  },
  {
   "cell_type": "code",
   "execution_count": 22,
   "id": "c1d2b36d",
   "metadata": {},
   "outputs": [
    {
     "name": "stdout",
     "output_type": "stream",
     "text": [
      "You must install pydot (`pip install pydot`) and install graphviz (see instructions at https://graphviz.gitlab.io/download/) for plot_model/model_to_dot to work.\n"
     ]
    }
   ],
   "source": [
    "plot_model(model, 'EMG_ANN', show_shapes = True)"
   ]
  },
  {
   "cell_type": "markdown",
   "id": "3358b592",
   "metadata": {},
   "source": [
    "# 3. Fit Network"
   ]
  },
  {
   "cell_type": "code",
   "execution_count": 23,
   "id": "e0ed4ddd",
   "metadata": {},
   "outputs": [
    {
     "name": "stdout",
     "output_type": "stream",
     "text": [
      "Epoch 1/100\n",
      "76/76 [==============================] - 3s 28ms/step - loss: 1.5451 - accuracy: 0.6044 - val_loss: 1.1859 - val_accuracy: 0.6874\n",
      "Epoch 2/100\n",
      "76/76 [==============================] - 2s 27ms/step - loss: 1.0649 - accuracy: 0.7094 - val_loss: 0.9665 - val_accuracy: 0.7331\n",
      "Epoch 3/100\n",
      "76/76 [==============================] - 2s 26ms/step - loss: 0.9266 - accuracy: 0.7423 - val_loss: 0.8640 - val_accuracy: 0.7601\n",
      "Epoch 4/100\n",
      "76/76 [==============================] - 2s 26ms/step - loss: 0.8596 - accuracy: 0.7587 - val_loss: 0.8247 - val_accuracy: 0.7690\n",
      "Epoch 5/100\n",
      "76/76 [==============================] - 2s 25ms/step - loss: 0.7988 - accuracy: 0.7731 - val_loss: 0.7764 - val_accuracy: 0.7820\n",
      "Epoch 6/100\n",
      "76/76 [==============================] - 2s 25ms/step - loss: 0.7613 - accuracy: 0.7824 - val_loss: 0.7359 - val_accuracy: 0.7916\n",
      "Epoch 7/100\n",
      "76/76 [==============================] - 2s 25ms/step - loss: 0.7250 - accuracy: 0.7916 - val_loss: 0.6962 - val_accuracy: 0.8004\n",
      "Epoch 8/100\n",
      "76/76 [==============================] - 2s 25ms/step - loss: 0.6988 - accuracy: 0.7992 - val_loss: 0.6763 - val_accuracy: 0.8068\n",
      "Epoch 9/100\n",
      "76/76 [==============================] - 2s 25ms/step - loss: 0.6739 - accuracy: 0.8049 - val_loss: 0.6602 - val_accuracy: 0.8101\n",
      "Epoch 10/100\n",
      "76/76 [==============================] - 2s 25ms/step - loss: 0.6539 - accuracy: 0.8100 - val_loss: 0.6459 - val_accuracy: 0.8148\n",
      "Epoch 11/100\n",
      "76/76 [==============================] - 2s 26ms/step - loss: 0.6316 - accuracy: 0.8160 - val_loss: 0.6369 - val_accuracy: 0.8159\n",
      "Epoch 12/100\n",
      "76/76 [==============================] - 2s 26ms/step - loss: 0.6169 - accuracy: 0.8203 - val_loss: 0.6119 - val_accuracy: 0.8219\n",
      "Epoch 13/100\n",
      "76/76 [==============================] - 2s 25ms/step - loss: 0.6016 - accuracy: 0.8238 - val_loss: 0.5995 - val_accuracy: 0.8263\n",
      "Epoch 14/100\n",
      "76/76 [==============================] - 2s 26ms/step - loss: 0.5839 - accuracy: 0.8285 - val_loss: 0.5790 - val_accuracy: 0.8326\n",
      "Epoch 15/100\n",
      "76/76 [==============================] - 2s 27ms/step - loss: 0.5705 - accuracy: 0.8321 - val_loss: 0.5726 - val_accuracy: 0.8346\n",
      "Epoch 16/100\n",
      "76/76 [==============================] - 2s 26ms/step - loss: 0.5568 - accuracy: 0.8360 - val_loss: 0.5559 - val_accuracy: 0.8370\n",
      "Epoch 17/100\n",
      "76/76 [==============================] - 2s 26ms/step - loss: 0.5465 - accuracy: 0.8386 - val_loss: 0.5803 - val_accuracy: 0.8305\n",
      "Epoch 18/100\n",
      "76/76 [==============================] - 2s 26ms/step - loss: 0.5338 - accuracy: 0.8422 - val_loss: 0.5390 - val_accuracy: 0.8420\n",
      "Epoch 19/100\n",
      "76/76 [==============================] - 2s 26ms/step - loss: 0.5208 - accuracy: 0.8459 - val_loss: 0.5223 - val_accuracy: 0.8456\n",
      "Epoch 20/100\n",
      "76/76 [==============================] - 2s 26ms/step - loss: 0.5125 - accuracy: 0.8478 - val_loss: 0.5340 - val_accuracy: 0.8444\n",
      "Epoch 21/100\n",
      "76/76 [==============================] - 2s 26ms/step - loss: 0.5024 - accuracy: 0.8508 - val_loss: 0.5186 - val_accuracy: 0.8461\n",
      "Epoch 22/100\n",
      "76/76 [==============================] - 2s 26ms/step - loss: 0.4941 - accuracy: 0.8526 - val_loss: 0.5050 - val_accuracy: 0.8504\n",
      "Epoch 23/100\n",
      "76/76 [==============================] - 2s 26ms/step - loss: 0.4829 - accuracy: 0.8551 - val_loss: 0.4951 - val_accuracy: 0.8538\n",
      "Epoch 24/100\n",
      "76/76 [==============================] - 2s 27ms/step - loss: 0.4749 - accuracy: 0.8582 - val_loss: 0.4926 - val_accuracy: 0.8547\n",
      "Epoch 25/100\n",
      "76/76 [==============================] - 2s 26ms/step - loss: 0.4649 - accuracy: 0.8611 - val_loss: 0.4766 - val_accuracy: 0.8580\n",
      "Epoch 26/100\n",
      "76/76 [==============================] - 2s 25ms/step - loss: 0.4595 - accuracy: 0.8621 - val_loss: 0.4714 - val_accuracy: 0.8599\n",
      "Epoch 27/100\n",
      "76/76 [==============================] - 2s 25ms/step - loss: 0.4486 - accuracy: 0.8652 - val_loss: 0.4653 - val_accuracy: 0.8612\n",
      "Epoch 28/100\n",
      "76/76 [==============================] - 2s 25ms/step - loss: 0.4450 - accuracy: 0.8667 - val_loss: 0.4679 - val_accuracy: 0.8608\n",
      "Epoch 29/100\n",
      "76/76 [==============================] - 2s 26ms/step - loss: 0.4383 - accuracy: 0.8679 - val_loss: 0.4621 - val_accuracy: 0.8624\n",
      "Epoch 30/100\n",
      "76/76 [==============================] - 2s 26ms/step - loss: 0.4306 - accuracy: 0.8707 - val_loss: 0.4508 - val_accuracy: 0.8657\n",
      "Epoch 31/100\n",
      "76/76 [==============================] - 2s 26ms/step - loss: 0.4244 - accuracy: 0.8716 - val_loss: 0.4529 - val_accuracy: 0.8644\n",
      "Epoch 32/100\n",
      "76/76 [==============================] - 2s 27ms/step - loss: 0.4186 - accuracy: 0.8737 - val_loss: 0.4451 - val_accuracy: 0.8674\n",
      "Epoch 33/100\n",
      "76/76 [==============================] - 2s 27ms/step - loss: 0.4118 - accuracy: 0.8752 - val_loss: 0.4332 - val_accuracy: 0.8705\n",
      "Epoch 34/100\n",
      "76/76 [==============================] - 2s 27ms/step - loss: 0.4063 - accuracy: 0.8773 - val_loss: 0.4301 - val_accuracy: 0.8709\n",
      "Epoch 35/100\n",
      "76/76 [==============================] - 2s 28ms/step - loss: 0.3990 - accuracy: 0.8792 - val_loss: 0.4313 - val_accuracy: 0.8716\n",
      "Epoch 36/100\n",
      "76/76 [==============================] - 2s 27ms/step - loss: 0.3946 - accuracy: 0.8805 - val_loss: 0.4248 - val_accuracy: 0.8744\n",
      "Epoch 37/100\n",
      "76/76 [==============================] - 2s 27ms/step - loss: 0.3953 - accuracy: 0.8795 - val_loss: 0.4279 - val_accuracy: 0.8724\n",
      "Epoch 38/100\n",
      "76/76 [==============================] - 2s 27ms/step - loss: 0.3878 - accuracy: 0.8822 - val_loss: 0.4207 - val_accuracy: 0.8752\n",
      "Epoch 39/100\n",
      "76/76 [==============================] - 2s 29ms/step - loss: 0.3808 - accuracy: 0.8842 - val_loss: 0.4112 - val_accuracy: 0.8767\n",
      "Epoch 40/100\n",
      "76/76 [==============================] - 2s 27ms/step - loss: 0.3793 - accuracy: 0.8846 - val_loss: 0.4036 - val_accuracy: 0.8787\n",
      "Epoch 41/100\n",
      "76/76 [==============================] - 2s 26ms/step - loss: 0.3756 - accuracy: 0.8856 - val_loss: 0.4105 - val_accuracy: 0.8763\n",
      "Epoch 42/100\n",
      "76/76 [==============================] - 2s 26ms/step - loss: 0.3659 - accuracy: 0.8887 - val_loss: 0.3977 - val_accuracy: 0.8802\n",
      "Epoch 43/100\n",
      "76/76 [==============================] - 2s 26ms/step - loss: 0.3639 - accuracy: 0.8889 - val_loss: 0.3997 - val_accuracy: 0.8799\n",
      "Epoch 44/100\n",
      "76/76 [==============================] - 2s 26ms/step - loss: 0.3605 - accuracy: 0.8902 - val_loss: 0.4053 - val_accuracy: 0.8778\n",
      "Epoch 45/100\n",
      "76/76 [==============================] - 2s 26ms/step - loss: 0.3550 - accuracy: 0.8913 - val_loss: 0.3949 - val_accuracy: 0.8821\n",
      "Epoch 46/100\n",
      "76/76 [==============================] - 2s 26ms/step - loss: 0.3545 - accuracy: 0.8921 - val_loss: 0.3927 - val_accuracy: 0.8827\n",
      "Epoch 47/100\n",
      "76/76 [==============================] - 2s 26ms/step - loss: 0.3475 - accuracy: 0.8933 - val_loss: 0.3877 - val_accuracy: 0.8845\n",
      "Epoch 48/100\n",
      "76/76 [==============================] - 2s 26ms/step - loss: 0.3453 - accuracy: 0.8944 - val_loss: 0.3835 - val_accuracy: 0.8850\n",
      "Epoch 49/100\n",
      "76/76 [==============================] - 2s 26ms/step - loss: 0.3438 - accuracy: 0.8943 - val_loss: 0.3793 - val_accuracy: 0.8857\n",
      "Epoch 50/100\n",
      "76/76 [==============================] - 2s 26ms/step - loss: 0.3421 - accuracy: 0.8956 - val_loss: 0.3776 - val_accuracy: 0.8870\n",
      "Epoch 51/100\n",
      "76/76 [==============================] - 2s 26ms/step - loss: 0.3348 - accuracy: 0.8972 - val_loss: 0.3849 - val_accuracy: 0.8868\n",
      "Epoch 52/100\n",
      "76/76 [==============================] - 2s 26ms/step - loss: 0.3332 - accuracy: 0.8976 - val_loss: 0.3817 - val_accuracy: 0.8875\n",
      "Epoch 53/100\n",
      "76/76 [==============================] - 2s 26ms/step - loss: 0.3308 - accuracy: 0.8983 - val_loss: 0.3703 - val_accuracy: 0.8895\n",
      "Epoch 54/100\n",
      "76/76 [==============================] - 2s 26ms/step - loss: 0.3232 - accuracy: 0.9005 - val_loss: 0.3704 - val_accuracy: 0.8894\n",
      "Epoch 55/100\n",
      "76/76 [==============================] - 2s 26ms/step - loss: 0.3204 - accuracy: 0.9019 - val_loss: 0.3628 - val_accuracy: 0.8919\n",
      "Epoch 56/100\n",
      "76/76 [==============================] - 2s 26ms/step - loss: 0.3191 - accuracy: 0.9018 - val_loss: 0.3698 - val_accuracy: 0.8904\n",
      "Epoch 57/100\n",
      "76/76 [==============================] - 2s 26ms/step - loss: 0.3173 - accuracy: 0.9024 - val_loss: 0.3614 - val_accuracy: 0.8913\n",
      "Epoch 58/100\n"
     ]
    },
    {
     "name": "stdout",
     "output_type": "stream",
     "text": [
      "76/76 [==============================] - 2s 26ms/step - loss: 0.3198 - accuracy: 0.9016 - val_loss: 0.3612 - val_accuracy: 0.8918\n",
      "Epoch 59/100\n",
      "76/76 [==============================] - 2s 27ms/step - loss: 0.3085 - accuracy: 0.9047 - val_loss: 0.3539 - val_accuracy: 0.8941\n",
      "Epoch 60/100\n",
      "76/76 [==============================] - 2s 26ms/step - loss: 0.3086 - accuracy: 0.9047 - val_loss: 0.3640 - val_accuracy: 0.8911\n",
      "Epoch 61/100\n",
      "76/76 [==============================] - 2s 26ms/step - loss: 0.3044 - accuracy: 0.9062 - val_loss: 0.3545 - val_accuracy: 0.8945\n",
      "Epoch 62/100\n",
      "76/76 [==============================] - 2s 26ms/step - loss: 0.3010 - accuracy: 0.9068 - val_loss: 0.3492 - val_accuracy: 0.8958\n",
      "Epoch 63/100\n",
      "76/76 [==============================] - 2s 26ms/step - loss: 0.3015 - accuracy: 0.9069 - val_loss: 0.3609 - val_accuracy: 0.8920\n",
      "Epoch 64/100\n",
      "76/76 [==============================] - 2s 26ms/step - loss: 0.3000 - accuracy: 0.9068 - val_loss: 0.3512 - val_accuracy: 0.8946\n",
      "Epoch 65/100\n",
      "76/76 [==============================] - 2s 27ms/step - loss: 0.2982 - accuracy: 0.9078 - val_loss: 0.3570 - val_accuracy: 0.8932\n",
      "Epoch 66/100\n",
      "76/76 [==============================] - 2s 26ms/step - loss: 0.2925 - accuracy: 0.9096 - val_loss: 0.3418 - val_accuracy: 0.8969\n",
      "Epoch 67/100\n",
      "76/76 [==============================] - 2s 26ms/step - loss: 0.2931 - accuracy: 0.9089 - val_loss: 0.3452 - val_accuracy: 0.8965\n",
      "Epoch 68/100\n",
      "76/76 [==============================] - 2s 26ms/step - loss: 0.2913 - accuracy: 0.9091 - val_loss: 0.3485 - val_accuracy: 0.8954\n",
      "Epoch 69/100\n",
      "76/76 [==============================] - 2s 26ms/step - loss: 0.2881 - accuracy: 0.9099 - val_loss: 0.3444 - val_accuracy: 0.8963\n",
      "Epoch 70/100\n",
      "76/76 [==============================] - 2s 26ms/step - loss: 0.2842 - accuracy: 0.9113 - val_loss: 0.3381 - val_accuracy: 0.8985\n",
      "Epoch 71/100\n",
      "76/76 [==============================] - 2s 26ms/step - loss: 0.2861 - accuracy: 0.9109 - val_loss: 0.3385 - val_accuracy: 0.8986\n",
      "Epoch 72/100\n",
      "76/76 [==============================] - 2s 29ms/step - loss: 0.2793 - accuracy: 0.9131 - val_loss: 0.3427 - val_accuracy: 0.8979\n",
      "Epoch 73/100\n",
      "76/76 [==============================] - 2s 28ms/step - loss: 0.2783 - accuracy: 0.9135 - val_loss: 0.3324 - val_accuracy: 0.9010\n",
      "Epoch 74/100\n",
      "76/76 [==============================] - 2s 27ms/step - loss: 0.2780 - accuracy: 0.9135 - val_loss: 0.3353 - val_accuracy: 0.8998\n",
      "Epoch 75/100\n",
      "76/76 [==============================] - 2s 28ms/step - loss: 0.2767 - accuracy: 0.9135 - val_loss: 0.3345 - val_accuracy: 0.9015\n",
      "Epoch 76/100\n",
      "76/76 [==============================] - 2s 27ms/step - loss: 0.2748 - accuracy: 0.9145 - val_loss: 0.3349 - val_accuracy: 0.9001\n",
      "Epoch 77/100\n",
      "76/76 [==============================] - 2s 27ms/step - loss: 0.2729 - accuracy: 0.9150 - val_loss: 0.3299 - val_accuracy: 0.9008\n",
      "Epoch 78/100\n",
      "76/76 [==============================] - 2s 28ms/step - loss: 0.2689 - accuracy: 0.9159 - val_loss: 0.3261 - val_accuracy: 0.9019\n",
      "Epoch 79/100\n",
      "76/76 [==============================] - 2s 28ms/step - loss: 0.2701 - accuracy: 0.9158 - val_loss: 0.3346 - val_accuracy: 0.8997\n",
      "Epoch 80/100\n",
      "76/76 [==============================] - 2s 28ms/step - loss: 0.2680 - accuracy: 0.9166 - val_loss: 0.3375 - val_accuracy: 0.9000\n",
      "Epoch 81/100\n",
      "76/76 [==============================] - 2s 27ms/step - loss: 0.2680 - accuracy: 0.9164 - val_loss: 0.3267 - val_accuracy: 0.9026\n",
      "Epoch 82/100\n",
      "76/76 [==============================] - 2s 27ms/step - loss: 0.2671 - accuracy: 0.9170 - val_loss: 0.3318 - val_accuracy: 0.9016\n",
      "Epoch 83/100\n",
      "76/76 [==============================] - 2s 27ms/step - loss: 0.2597 - accuracy: 0.9190 - val_loss: 0.3269 - val_accuracy: 0.9036\n",
      "Epoch 84/100\n",
      "76/76 [==============================] - 2s 27ms/step - loss: 0.2630 - accuracy: 0.9178 - val_loss: 0.3284 - val_accuracy: 0.9032\n",
      "Epoch 85/100\n",
      "76/76 [==============================] - 2s 27ms/step - loss: 0.2568 - accuracy: 0.9195 - val_loss: 0.3307 - val_accuracy: 0.9040\n",
      "Epoch 86/100\n",
      "76/76 [==============================] - 2s 27ms/step - loss: 0.2571 - accuracy: 0.9196 - val_loss: 0.3235 - val_accuracy: 0.9037\n",
      "Epoch 87/100\n",
      "76/76 [==============================] - 2s 27ms/step - loss: 0.2540 - accuracy: 0.9203 - val_loss: 0.3306 - val_accuracy: 0.9032\n",
      "Epoch 88/100\n",
      "76/76 [==============================] - 2s 27ms/step - loss: 0.2542 - accuracy: 0.9203 - val_loss: 0.3175 - val_accuracy: 0.9058\n",
      "Epoch 89/100\n",
      "76/76 [==============================] - 2s 27ms/step - loss: 0.2540 - accuracy: 0.9203 - val_loss: 0.3205 - val_accuracy: 0.9041\n",
      "Epoch 90/100\n",
      "76/76 [==============================] - 2s 27ms/step - loss: 0.2501 - accuracy: 0.9216 - val_loss: 0.3247 - val_accuracy: 0.9048\n",
      "Epoch 91/100\n",
      "76/76 [==============================] - 2s 27ms/step - loss: 0.2515 - accuracy: 0.9213 - val_loss: 0.3184 - val_accuracy: 0.9050\n",
      "Epoch 92/100\n",
      "76/76 [==============================] - 2s 27ms/step - loss: 0.2519 - accuracy: 0.9211 - val_loss: 0.3202 - val_accuracy: 0.9044\n",
      "Epoch 93/100\n",
      "76/76 [==============================] - 2s 27ms/step - loss: 0.2469 - accuracy: 0.9221 - val_loss: 0.3155 - val_accuracy: 0.9071\n",
      "Epoch 94/100\n",
      "76/76 [==============================] - 2s 27ms/step - loss: 0.2437 - accuracy: 0.9237 - val_loss: 0.3224 - val_accuracy: 0.9053\n",
      "Epoch 95/100\n",
      "76/76 [==============================] - 2s 27ms/step - loss: 0.2454 - accuracy: 0.9230 - val_loss: 0.3135 - val_accuracy: 0.9067\n",
      "Epoch 96/100\n",
      "76/76 [==============================] - 2s 27ms/step - loss: 0.2430 - accuracy: 0.9235 - val_loss: 0.3171 - val_accuracy: 0.9066\n",
      "Epoch 97/100\n",
      "76/76 [==============================] - 2s 27ms/step - loss: 0.2424 - accuracy: 0.9240 - val_loss: 0.3228 - val_accuracy: 0.9065\n",
      "Epoch 98/100\n",
      "76/76 [==============================] - 2s 27ms/step - loss: 0.2399 - accuracy: 0.9245 - val_loss: 0.3112 - val_accuracy: 0.9070\n",
      "Epoch 99/100\n",
      "76/76 [==============================] - 2s 27ms/step - loss: 0.2387 - accuracy: 0.9248 - val_loss: 0.3098 - val_accuracy: 0.9088\n",
      "Epoch 100/100\n",
      "76/76 [==============================] - 2s 27ms/step - loss: 0.2361 - accuracy: 0.9257 - val_loss: 0.3121 - val_accuracy: 0.9066\n"
     ]
    }
   ],
   "source": [
    "history = model.fit(X_train, y_train, batch_size=4056, epochs=100, validation_data = (X_test, y_test))"
   ]
  },
  {
   "cell_type": "markdown",
   "id": "ffed59b1",
   "metadata": {},
   "source": [
    "# 4.Evaluate Network"
   ]
  },
  {
   "cell_type": "markdown",
   "id": "28731190",
   "metadata": {},
   "source": [
    "## 4.1. Plotting Loss and Accuracy"
   ]
  },
  {
   "cell_type": "code",
   "execution_count": 24,
   "id": "971e6040",
   "metadata": {},
   "outputs": [
    {
     "data": {
      "text/plain": [
       "Text(0.5, 1.0, 'Loss Curve of Deep Neural Netowork')"
      ]
     },
     "execution_count": 24,
     "metadata": {},
     "output_type": "execute_result"
    },
    {
     "data": {
      "image/png": "[encoded data removed]",
      "text/plain": [
       "<Figure size 432x288 with 1 Axes>"
      ]
     },
     "metadata": {
      "needs_background": "light"
     },
     "output_type": "display_data"
    }
   ],
   "source": [
    "#Loss Curve\n",
    "\n",
    "\n",
    "plt.plot(figsize = [8,6])\n",
    "\n",
    "plt.plot(history.history['loss'],'r',linewidth = 3.0)\n",
    "plt.plot(history.history['val_loss'],'b',linewidth = 3.0)\n",
    "\n",
    "plt.legend(['Training Loss', 'Validation Loss'], fontsize = 18)\n",
    "\n",
    "plt.xlabel('Epochs', fontsize = 16)\n",
    "plt.ylabel('Loss', fontsize = 16)\n",
    "\n",
    "plt.title('Loss Curve of Deep Neural Netowork' , fontsize = 16 )\n",
    "\n"
   ]
  },
  {
   "cell_type": "code",
   "execution_count": 25,
   "id": "b0c193ec",
   "metadata": {},
   "outputs": [
    {
     "data": {
      "text/plain": [
       "Text(0.5, 1.0, 'Accuracy Curve of Deep Neural Netowork')"
      ]
     },
     "execution_count": 25,
     "metadata": {},
     "output_type": "execute_result"
    },
    {
     "data": {
      "image/png": "[encoded data removed]",
      "text/plain": [
       "<Figure size 432x288 with 1 Axes>"
      ]
     },
     "metadata": {
      "needs_background": "light"
     },
     "output_type": "display_data"
    }
   ],
   "source": [
    "#Accuracy Curve\n",
    "\n",
    "plt.plot(figsize = [8,6])\n",
    "plt.plot(history.history['accuracy'],'r',linewidth = 3.0)\n",
    "plt.plot(history.history['val_accuracy'],'b',linewidth = 3.0)\n",
    "\n",
    "plt.legend(['Training Accuracy', 'Validation Accuracy'], fontsize = 18)\n",
    "\n",
    "plt.xlabel('Epochs', fontsize = 16)\n",
    "plt.ylabel('Accuracy', fontsize = 16)\n",
    "\n",
    "\n",
    "plt.title('Accuracy Curve of Deep Neural Netowork' , fontsize = 16 )"
   ]
  },
  {
   "cell_type": "markdown",
   "id": "741a02aa",
   "metadata": {},
   "source": [
    "##  4.2 Make Predictions"
   ]
  },
  {
   "cell_type": "code",
   "execution_count": 26,
   "id": "e8465627",
   "metadata": {},
   "outputs": [],
   "source": [
    "predictions = model.predict(X_test)\n",
    "predictions = np.argmax(predictions, axis = 1)"
   ]
  },
  {
   "cell_type": "code",
   "execution_count": 27,
   "id": "3cac1a50",
   "metadata": {},
   "outputs": [
    {
     "data": {
      "text/plain": [
       "array([ 6, 11,  0, ..., 14,  0, 12], dtype=int64)"
      ]
     },
     "execution_count": 27,
     "metadata": {},
     "output_type": "execute_result"
    }
   ],
   "source": [
    "predictions"
   ]
  },
  {
   "cell_type": "markdown",
   "id": "70d666bb",
   "metadata": {},
   "source": [
    "#### Transforming from One Hot Encoding"
   ]
  },
  {
   "cell_type": "code",
   "execution_count": 28,
   "id": "7234b6e7",
   "metadata": {},
   "outputs": [
    {
     "data": {
      "text/plain": [
       "11"
      ]
     },
     "execution_count": 28,
     "metadata": {},
     "output_type": "execute_result"
    }
   ],
   "source": [
    "y_test =np.argmax(y_test, axis=1)\n",
    "y_test[1]"
   ]
  },
  {
   "cell_type": "code",
   "execution_count": 29,
   "id": "6278820d",
   "metadata": {},
   "outputs": [
    {
     "name": "stdout",
     "output_type": "stream",
     "text": [
      "Accuracy is: 90.66417503698513\n"
     ]
    }
   ],
   "source": [
    "from sklearn.metrics import accuracy_score\n",
    "accuracy = {accuracy_score(y_test, predictions)}\n",
    "print(f\"Accuracy is: {accuracy_score(y_test, predictions)* 100}\")"
   ]
  },
  {
   "cell_type": "markdown",
   "id": "eb044ea1",
   "metadata": {},
   "source": [
    "## 4.3 Classification Report"
   ]
  },
  {
   "cell_type": "code",
   "execution_count": 30,
   "id": "001ebc5a",
   "metadata": {},
   "outputs": [
    {
     "name": "stdout",
     "output_type": "stream",
     "text": [
      "\u001b[1mClassification report : \u001b[0m\n",
      "               precision    recall  f1-score   support\n",
      "\n",
      "           0       0.91      0.96      0.94     37786\n",
      "           1       0.92      0.92      0.92      2271\n",
      "           2       0.93      0.90      0.91      2387\n",
      "           3       0.97      0.89      0.93      2253\n",
      "           4       0.95      0.93      0.94      2236\n",
      "           5       0.96      0.93      0.95      2181\n",
      "           6       0.95      0.97      0.96      2183\n",
      "           7       0.93      0.88      0.91      2103\n",
      "           8       0.92      0.86      0.89      2448\n",
      "           9       0.88      0.80      0.84      2381\n",
      "          10       0.87      0.75      0.81      2093\n",
      "          11       0.84      0.80      0.82      2252\n",
      "          12       0.94      0.83      0.88      2139\n",
      "          13       0.70      0.80      0.75      1593\n",
      "          14       0.76      0.68      0.72      1504\n",
      "          15       0.80      0.75      0.77      1544\n",
      "          16       0.85      0.86      0.86      1513\n",
      "          17       0.84      0.73      0.78      1588\n",
      "          18       0.94      0.79      0.86       603\n",
      "          19       0.86      0.74      0.79       821\n",
      "          20       0.97      0.98      0.97       810\n",
      "          21       0.99      0.92      0.95       617\n",
      "          22       0.99      0.97      0.98       902\n",
      "          23       0.96      0.97      0.97       850\n",
      "\n",
      "    accuracy                           0.91     77058\n",
      "   macro avg       0.90      0.86      0.88     77058\n",
      "weighted avg       0.91      0.91      0.91     77058\n",
      "\n",
      "\u001b[1mConfusion Matrix : \u001b[0m\n"
     ]
    },
    {
     "data": {
      "image/png": "[encoded data removed]",
      "text/plain": [
       "<Figure size 432x288 with 2 Axes>"
      ]
     },
     "metadata": {
      "needs_background": "light"
     },
     "output_type": "display_data"
    }
   ],
   "source": [
    "from sklearn.metrics import confusion_matrix, f1_score, accuracy_score, classification_report\n",
    "print('\\033[1m' +'Classification report : '+ '\\033[0m\\n', classification_report(y_test, predictions))\n",
    "\n",
    "cm = confusion_matrix(predictions, y_test)\n",
    "print('\\033[1m' +'Confusion Matrix : '+ '\\033[0m')\n",
    "sns.heatmap(cm, cmap = 'OrRd',annot = True, fmt='d')\n",
    "plt.show()"
   ]
  },
  {
   "cell_type": "markdown",
   "id": "eaa5e512",
   "metadata": {},
   "source": [
    "## 4.4 Evaluation"
   ]
  },
  {
   "cell_type": "code",
   "execution_count": 31,
   "id": "9e469f86",
   "metadata": {},
   "outputs": [
    {
     "name": "stdout",
     "output_type": "stream",
     "text": [
      "MAE: 0.8744971320304187\n",
      "MSE: 10.86429702302162\n",
      "RMSE: 3.2961033089121496\n"
     ]
    }
   ],
   "source": [
    "from sklearn import metrics\n",
    "\n",
    "print('MAE:', metrics.mean_absolute_error(y_test,predictions))\n",
    "print('MSE:', metrics.mean_squared_error(y_test, predictions))\n",
    "print('RMSE:', np.sqrt(metrics.mean_squared_error(y_test, predictions)))"
   ]
  },
  {
   "cell_type": "code",
   "execution_count": 32,
   "id": "dff2a82d",
   "metadata": {},
   "outputs": [
    {
     "name": "stdout",
     "output_type": "stream",
     "text": [
      "Precision Score :  0.906547975703446\n",
      "Recall Score :  0.9066417503698513\n",
      "f1_score :  0.9055775712479209\n"
     ]
    }
   ],
   "source": [
    "from sklearn.metrics import precision_score\n",
    "print(\"Precision Score : \",precision_score(y_test, predictions, average='weighted'))\n",
    "\n",
    "\n",
    "from sklearn.metrics import recall_score\n",
    "print(\"Recall Score : \",recall_score(y_test, predictions,average='weighted'))\n",
    "\n",
    "\n",
    "from sklearn.metrics import f1_score\n",
    "print(\"f1_score : \",f1_score(y_test, predictions,average='weighted'))"
   ]
  },
  {
   "cell_type": "code",
   "execution_count": null,
   "id": "81ac7468",
   "metadata": {},
   "outputs": [],
   "source": []
  },
  {
   "cell_type": "code",
   "execution_count": null,
   "id": "71a4c6e0",
   "metadata": {},
   "outputs": [],
   "source": []
  }
 ],
 "metadata": {
  "kernelspec": {
   "display_name": "Python 3 (ipykernel)",
   "language": "python",
   "name": "python3"
  },
  "language_info": {
   "codemirror_mode": {
    "name": "ipython",
    "version": 3
   },
   "file_extension": ".py",
   "mimetype": "text/x-python",
   "name": "python",
   "nbconvert_exporter": "python",
   "pygments_lexer": "ipython3",
   "version": "3.8.12"
  }
 },
 "nbformat": 4,
 "nbformat_minor": 5
}
