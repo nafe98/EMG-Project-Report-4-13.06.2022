{
 "cells": [
  {
   "cell_type": "markdown",
   "id": "bf8ee932",
   "metadata": {},
   "source": [
    "# Importing Libraries"
   ]
  },
  {
   "cell_type": "code",
   "execution_count": 1,
   "id": "0f663fa8",
   "metadata": {},
   "outputs": [],
   "source": [
    "import numpy as np\n",
    "import pandas as pd\n",
    "import matplotlib.pyplot as plt\n",
    "import seaborn as sns\n",
    "from sklearn.model_selection import train_test_split"
   ]
  },
  {
   "cell_type": "markdown",
   "id": "511af272",
   "metadata": {},
   "source": [
    "# Loading Data"
   ]
  },
  {
   "cell_type": "code",
   "execution_count": 2,
   "id": "04fd19b0",
   "metadata": {},
   "outputs": [
    {
     "data": {
      "text/html": [
       "<div>\n",
       "<style scoped>\n",
       "    .dataframe tbody tr th:only-of-type {\n",
       "        vertical-align: middle;\n",
       "    }\n",
       "\n",
       "    .dataframe tbody tr th {\n",
       "        vertical-align: top;\n",
       "    }\n",
       "\n",
       "    .dataframe thead th {\n",
       "        text-align: right;\n",
       "    }\n",
       "</style>\n",
       "<table border=\"1\" class=\"dataframe\">\n",
       "  <thead>\n",
       "    <tr style=\"text-align: right;\">\n",
       "      <th></th>\n",
       "      <th>Emg1</th>\n",
       "      <th>Emg2</th>\n",
       "      <th>Emg3</th>\n",
       "      <th>Emg4</th>\n",
       "      <th>Emg5</th>\n",
       "      <th>Emg6</th>\n",
       "      <th>Emg7</th>\n",
       "      <th>Emg8</th>\n",
       "      <th>Emg9</th>\n",
       "      <th>Emg10</th>\n",
       "      <th>repetition</th>\n",
       "      <th>rerepetition</th>\n",
       "      <th>stimulus</th>\n",
       "      <th>restimulus</th>\n",
       "    </tr>\n",
       "  </thead>\n",
       "  <tbody>\n",
       "    <tr>\n",
       "      <th>66879</th>\n",
       "      <td>0.0024</td>\n",
       "      <td>0.1221</td>\n",
       "      <td>0.3003</td>\n",
       "      <td>0.0513</td>\n",
       "      <td>0.0684</td>\n",
       "      <td>0.2197</td>\n",
       "      <td>1.1572</td>\n",
       "      <td>1.0815</td>\n",
       "      <td>1.0522</td>\n",
       "      <td>0.3833</td>\n",
       "      <td>10</td>\n",
       "      <td>10</td>\n",
       "      <td>8</td>\n",
       "      <td>8</td>\n",
       "    </tr>\n",
       "    <tr>\n",
       "      <th>116003</th>\n",
       "      <td>0.0024</td>\n",
       "      <td>0.7764</td>\n",
       "      <td>0.5469</td>\n",
       "      <td>0.2026</td>\n",
       "      <td>0.0146</td>\n",
       "      <td>0.0952</td>\n",
       "      <td>1.0059</td>\n",
       "      <td>0.1758</td>\n",
       "      <td>1.2158</td>\n",
       "      <td>1.1401</td>\n",
       "      <td>8</td>\n",
       "      <td>8</td>\n",
       "      <td>2</td>\n",
       "      <td>2</td>\n",
       "    </tr>\n",
       "    <tr>\n",
       "      <th>444595</th>\n",
       "      <td>0.0024</td>\n",
       "      <td>0.2759</td>\n",
       "      <td>0.6177</td>\n",
       "      <td>0.0830</td>\n",
       "      <td>0.4053</td>\n",
       "      <td>0.7178</td>\n",
       "      <td>1.4819</td>\n",
       "      <td>2.8223</td>\n",
       "      <td>1.9580</td>\n",
       "      <td>0.6982</td>\n",
       "      <td>4</td>\n",
       "      <td>4</td>\n",
       "      <td>23</td>\n",
       "      <td>23</td>\n",
       "    </tr>\n",
       "    <tr>\n",
       "      <th>108982</th>\n",
       "      <td>0.0024</td>\n",
       "      <td>0.0635</td>\n",
       "      <td>0.0391</td>\n",
       "      <td>0.1050</td>\n",
       "      <td>0.0293</td>\n",
       "      <td>0.2490</td>\n",
       "      <td>0.4761</td>\n",
       "      <td>0.1904</td>\n",
       "      <td>0.0342</td>\n",
       "      <td>0.3516</td>\n",
       "      <td>10</td>\n",
       "      <td>10</td>\n",
       "      <td>1</td>\n",
       "      <td>1</td>\n",
       "    </tr>\n",
       "    <tr>\n",
       "      <th>291884</th>\n",
       "      <td>0.0049</td>\n",
       "      <td>0.3027</td>\n",
       "      <td>1.4233</td>\n",
       "      <td>0.6567</td>\n",
       "      <td>0.2539</td>\n",
       "      <td>0.4517</td>\n",
       "      <td>0.9399</td>\n",
       "      <td>0.7446</td>\n",
       "      <td>0.7373</td>\n",
       "      <td>0.5640</td>\n",
       "      <td>2</td>\n",
       "      <td>2</td>\n",
       "      <td>6</td>\n",
       "      <td>6</td>\n",
       "    </tr>\n",
       "  </tbody>\n",
       "</table>\n",
       "</div>"
      ],
      "text/plain": [
       "          Emg1    Emg2    Emg3    Emg4    Emg5    Emg6    Emg7    Emg8  \\\n",
       "66879   0.0024  0.1221  0.3003  0.0513  0.0684  0.2197  1.1572  1.0815   \n",
       "116003  0.0024  0.7764  0.5469  0.2026  0.0146  0.0952  1.0059  0.1758   \n",
       "444595  0.0024  0.2759  0.6177  0.0830  0.4053  0.7178  1.4819  2.8223   \n",
       "108982  0.0024  0.0635  0.0391  0.1050  0.0293  0.2490  0.4761  0.1904   \n",
       "291884  0.0049  0.3027  1.4233  0.6567  0.2539  0.4517  0.9399  0.7446   \n",
       "\n",
       "          Emg9   Emg10  repetition  rerepetition  stimulus  restimulus  \n",
       "66879   1.0522  0.3833          10            10         8           8  \n",
       "116003  1.2158  1.1401           8             8         2           2  \n",
       "444595  1.9580  0.6982           4             4        23          23  \n",
       "108982  0.0342  0.3516          10            10         1           1  \n",
       "291884  0.7373  0.5640           2             2         6           6  "
      ]
     },
     "execution_count": 2,
     "metadata": {},
     "output_type": "execute_result"
    }
   ],
   "source": [
    "raw_data = pd.read_excel('Dataset 1 Patient 6.xlsx')\n",
    "raw_data.sample(5)"
   ]
  },
  {
   "cell_type": "code",
   "execution_count": 3,
   "id": "80369ddb",
   "metadata": {},
   "outputs": [
    {
     "name": "stdout",
     "output_type": "stream",
     "text": [
      "<class 'pandas.core.frame.DataFrame'>\n",
      "RangeIndex: 453169 entries, 0 to 453168\n",
      "Data columns (total 14 columns):\n",
      " #   Column        Non-Null Count   Dtype  \n",
      "---  ------        --------------   -----  \n",
      " 0   Emg1          453169 non-null  float64\n",
      " 1   Emg2          453169 non-null  float64\n",
      " 2   Emg3          453169 non-null  float64\n",
      " 3   Emg4          453169 non-null  float64\n",
      " 4   Emg5          453169 non-null  float64\n",
      " 5   Emg6          453169 non-null  float64\n",
      " 6   Emg7          453169 non-null  float64\n",
      " 7   Emg8          453169 non-null  float64\n",
      " 8   Emg9          453169 non-null  float64\n",
      " 9   Emg10         453169 non-null  float64\n",
      " 10  repetition    453169 non-null  int64  \n",
      " 11  rerepetition  453169 non-null  int64  \n",
      " 12  stimulus      453169 non-null  int64  \n",
      " 13  restimulus    453169 non-null  int64  \n",
      "dtypes: float64(10), int64(4)\n",
      "memory usage: 48.4 MB\n"
     ]
    }
   ],
   "source": [
    "raw_data.info()"
   ]
  },
  {
   "cell_type": "code",
   "execution_count": 4,
   "id": "109445f8",
   "metadata": {},
   "outputs": [
    {
     "data": {
      "text/html": [
       "<div>\n",
       "<style scoped>\n",
       "    .dataframe tbody tr th:only-of-type {\n",
       "        vertical-align: middle;\n",
       "    }\n",
       "\n",
       "    .dataframe tbody tr th {\n",
       "        vertical-align: top;\n",
       "    }\n",
       "\n",
       "    .dataframe thead th {\n",
       "        text-align: right;\n",
       "    }\n",
       "</style>\n",
       "<table border=\"1\" class=\"dataframe\">\n",
       "  <thead>\n",
       "    <tr style=\"text-align: right;\">\n",
       "      <th></th>\n",
       "      <th>Emg1</th>\n",
       "      <th>Emg2</th>\n",
       "      <th>Emg3</th>\n",
       "      <th>Emg4</th>\n",
       "      <th>Emg5</th>\n",
       "      <th>Emg6</th>\n",
       "      <th>Emg7</th>\n",
       "      <th>Emg8</th>\n",
       "      <th>Emg9</th>\n",
       "      <th>Emg10</th>\n",
       "      <th>repetition</th>\n",
       "      <th>rerepetition</th>\n",
       "      <th>stimulus</th>\n",
       "      <th>restimulus</th>\n",
       "    </tr>\n",
       "  </thead>\n",
       "  <tbody>\n",
       "    <tr>\n",
       "      <th>count</th>\n",
       "      <td>453169.000000</td>\n",
       "      <td>453169.000000</td>\n",
       "      <td>453169.000000</td>\n",
       "      <td>453169.000000</td>\n",
       "      <td>453169.000000</td>\n",
       "      <td>453169.000000</td>\n",
       "      <td>453169.000000</td>\n",
       "      <td>453169.000000</td>\n",
       "      <td>453169.000000</td>\n",
       "      <td>453169.000000</td>\n",
       "      <td>453169.000000</td>\n",
       "      <td>453169.000000</td>\n",
       "      <td>453169.000000</td>\n",
       "      <td>453169.000000</td>\n",
       "    </tr>\n",
       "    <tr>\n",
       "      <th>mean</th>\n",
       "      <td>0.005103</td>\n",
       "      <td>0.148389</td>\n",
       "      <td>0.138062</td>\n",
       "      <td>0.102310</td>\n",
       "      <td>0.048998</td>\n",
       "      <td>0.165430</td>\n",
       "      <td>0.587269</td>\n",
       "      <td>0.442196</td>\n",
       "      <td>0.203062</td>\n",
       "      <td>0.301173</td>\n",
       "      <td>3.266322</td>\n",
       "      <td>2.535246</td>\n",
       "      <td>5.786462</td>\n",
       "      <td>4.617968</td>\n",
       "    </tr>\n",
       "    <tr>\n",
       "      <th>std</th>\n",
       "      <td>0.010483</td>\n",
       "      <td>0.261329</td>\n",
       "      <td>0.298778</td>\n",
       "      <td>0.247929</td>\n",
       "      <td>0.108016</td>\n",
       "      <td>0.347019</td>\n",
       "      <td>0.805044</td>\n",
       "      <td>0.669024</td>\n",
       "      <td>0.474586</td>\n",
       "      <td>0.421003</td>\n",
       "      <td>3.489826</td>\n",
       "      <td>3.359291</td>\n",
       "      <td>6.599539</td>\n",
       "      <td>6.446301</td>\n",
       "    </tr>\n",
       "    <tr>\n",
       "      <th>min</th>\n",
       "      <td>0.000000</td>\n",
       "      <td>0.000000</td>\n",
       "      <td>0.002400</td>\n",
       "      <td>0.000000</td>\n",
       "      <td>0.002400</td>\n",
       "      <td>0.002400</td>\n",
       "      <td>0.002400</td>\n",
       "      <td>0.002400</td>\n",
       "      <td>0.000000</td>\n",
       "      <td>0.000000</td>\n",
       "      <td>0.000000</td>\n",
       "      <td>0.000000</td>\n",
       "      <td>0.000000</td>\n",
       "      <td>0.000000</td>\n",
       "    </tr>\n",
       "    <tr>\n",
       "      <th>25%</th>\n",
       "      <td>0.002400</td>\n",
       "      <td>0.002400</td>\n",
       "      <td>0.002400</td>\n",
       "      <td>0.002400</td>\n",
       "      <td>0.002400</td>\n",
       "      <td>0.007300</td>\n",
       "      <td>0.063500</td>\n",
       "      <td>0.092800</td>\n",
       "      <td>0.002400</td>\n",
       "      <td>0.041500</td>\n",
       "      <td>0.000000</td>\n",
       "      <td>0.000000</td>\n",
       "      <td>0.000000</td>\n",
       "      <td>0.000000</td>\n",
       "    </tr>\n",
       "    <tr>\n",
       "      <th>50%</th>\n",
       "      <td>0.002400</td>\n",
       "      <td>0.009800</td>\n",
       "      <td>0.004900</td>\n",
       "      <td>0.002400</td>\n",
       "      <td>0.002400</td>\n",
       "      <td>0.056200</td>\n",
       "      <td>0.322300</td>\n",
       "      <td>0.217300</td>\n",
       "      <td>0.004900</td>\n",
       "      <td>0.148900</td>\n",
       "      <td>2.000000</td>\n",
       "      <td>0.000000</td>\n",
       "      <td>3.000000</td>\n",
       "      <td>0.000000</td>\n",
       "    </tr>\n",
       "    <tr>\n",
       "      <th>75%</th>\n",
       "      <td>0.004900</td>\n",
       "      <td>0.192900</td>\n",
       "      <td>0.139200</td>\n",
       "      <td>0.092800</td>\n",
       "      <td>0.048800</td>\n",
       "      <td>0.170900</td>\n",
       "      <td>0.759300</td>\n",
       "      <td>0.468800</td>\n",
       "      <td>0.166000</td>\n",
       "      <td>0.385700</td>\n",
       "      <td>6.000000</td>\n",
       "      <td>5.000000</td>\n",
       "      <td>11.000000</td>\n",
       "      <td>9.000000</td>\n",
       "    </tr>\n",
       "    <tr>\n",
       "      <th>max</th>\n",
       "      <td>0.903300</td>\n",
       "      <td>2.976100</td>\n",
       "      <td>4.660600</td>\n",
       "      <td>4.099100</td>\n",
       "      <td>2.482900</td>\n",
       "      <td>4.668000</td>\n",
       "      <td>4.665500</td>\n",
       "      <td>4.668000</td>\n",
       "      <td>4.663100</td>\n",
       "      <td>4.421400</td>\n",
       "      <td>10.000000</td>\n",
       "      <td>10.000000</td>\n",
       "      <td>23.000000</td>\n",
       "      <td>23.000000</td>\n",
       "    </tr>\n",
       "  </tbody>\n",
       "</table>\n",
       "</div>"
      ],
      "text/plain": [
       "                Emg1           Emg2           Emg3           Emg4  \\\n",
       "count  453169.000000  453169.000000  453169.000000  453169.000000   \n",
       "mean        0.005103       0.148389       0.138062       0.102310   \n",
       "std         0.010483       0.261329       0.298778       0.247929   \n",
       "min         0.000000       0.000000       0.002400       0.000000   \n",
       "25%         0.002400       0.002400       0.002400       0.002400   \n",
       "50%         0.002400       0.009800       0.004900       0.002400   \n",
       "75%         0.004900       0.192900       0.139200       0.092800   \n",
       "max         0.903300       2.976100       4.660600       4.099100   \n",
       "\n",
       "                Emg5           Emg6           Emg7           Emg8  \\\n",
       "count  453169.000000  453169.000000  453169.000000  453169.000000   \n",
       "mean        0.048998       0.165430       0.587269       0.442196   \n",
       "std         0.108016       0.347019       0.805044       0.669024   \n",
       "min         0.002400       0.002400       0.002400       0.002400   \n",
       "25%         0.002400       0.007300       0.063500       0.092800   \n",
       "50%         0.002400       0.056200       0.322300       0.217300   \n",
       "75%         0.048800       0.170900       0.759300       0.468800   \n",
       "max         2.482900       4.668000       4.665500       4.668000   \n",
       "\n",
       "                Emg9          Emg10     repetition   rerepetition  \\\n",
       "count  453169.000000  453169.000000  453169.000000  453169.000000   \n",
       "mean        0.203062       0.301173       3.266322       2.535246   \n",
       "std         0.474586       0.421003       3.489826       3.359291   \n",
       "min         0.000000       0.000000       0.000000       0.000000   \n",
       "25%         0.002400       0.041500       0.000000       0.000000   \n",
       "50%         0.004900       0.148900       2.000000       0.000000   \n",
       "75%         0.166000       0.385700       6.000000       5.000000   \n",
       "max         4.663100       4.421400      10.000000      10.000000   \n",
       "\n",
       "            stimulus     restimulus  \n",
       "count  453169.000000  453169.000000  \n",
       "mean        5.786462       4.617968  \n",
       "std         6.599539       6.446301  \n",
       "min         0.000000       0.000000  \n",
       "25%         0.000000       0.000000  \n",
       "50%         3.000000       0.000000  \n",
       "75%        11.000000       9.000000  \n",
       "max        23.000000      23.000000  "
      ]
     },
     "execution_count": 4,
     "metadata": {},
     "output_type": "execute_result"
    }
   ],
   "source": [
    "raw_data.describe(include='all')"
   ]
  },
  {
   "cell_type": "code",
   "execution_count": 5,
   "id": "f0b9a2e6",
   "metadata": {},
   "outputs": [
    {
     "name": "stdout",
     "output_type": "stream",
     "text": [
      "Unique Dependent values and their counts :\n",
      "0     184003\n",
      "8      16361\n",
      "2      15525\n",
      "7      15517\n",
      "12     15513\n",
      "4      15507\n",
      "6      15497\n",
      "9      15476\n",
      "11     15470\n",
      "5      15468\n",
      "10     15443\n",
      "1      15443\n",
      "3      15441\n",
      "14     10342\n",
      "17     10337\n",
      "13     10336\n",
      "15     10295\n",
      "16     10261\n",
      "21      5173\n",
      "18      5171\n",
      "19      5171\n",
      "23      5144\n",
      "20      5138\n",
      "22      5137\n",
      "Name: stimulus, dtype: int64\n"
     ]
    }
   ],
   "source": [
    "print(\"Unique Dependent values and their counts :\")\n",
    "print(raw_data[\"stimulus\"].value_counts())"
   ]
  },
  {
   "cell_type": "markdown",
   "id": "54420ec4",
   "metadata": {},
   "source": [
    "# Data Cleaning"
   ]
  },
  {
   "cell_type": "code",
   "execution_count": 6,
   "id": "a811198b",
   "metadata": {},
   "outputs": [],
   "source": [
    "index_names = raw_data[ (raw_data['stimulus'] != raw_data['restimulus'])].index\n",
    "raw_data.drop(index_names, inplace = True)"
   ]
  },
  {
   "cell_type": "code",
   "execution_count": 7,
   "id": "556cd92f",
   "metadata": {},
   "outputs": [],
   "source": [
    "index_names = raw_data[ (raw_data['repetition'] != raw_data['rerepetition'])].index\n",
    "raw_data.drop(index_names, inplace = True)"
   ]
  },
  {
   "cell_type": "code",
   "execution_count": 8,
   "id": "c91744f7",
   "metadata": {},
   "outputs": [],
   "source": [
    "X = raw_data.iloc[:,0:10]\n",
    "y = raw_data.stimulus"
   ]
  },
  {
   "cell_type": "markdown",
   "id": "152f7160",
   "metadata": {},
   "source": [
    "# One Hot Encoding"
   ]
  },
  {
   "cell_type": "code",
   "execution_count": 9,
   "id": "dfb77d24",
   "metadata": {},
   "outputs": [],
   "source": [
    "num_classes = 24"
   ]
  },
  {
   "cell_type": "code",
   "execution_count": 10,
   "id": "be64bf6b",
   "metadata": {},
   "outputs": [],
   "source": [
    "# One hot encoding for categorical labels\n",
    "import keras\n",
    "from keras import utils as np_utils\n",
    "y = keras.utils.np_utils.to_categorical(y, num_classes)"
   ]
  },
  {
   "cell_type": "code",
   "execution_count": 11,
   "id": "c7358f86",
   "metadata": {},
   "outputs": [],
   "source": [
    "input_dim = X.shape[1]"
   ]
  },
  {
   "cell_type": "markdown",
   "id": "cb3088a1",
   "metadata": {},
   "source": [
    "# Standard Scaler"
   ]
  },
  {
   "cell_type": "code",
   "execution_count": 12,
   "id": "5bd820f4",
   "metadata": {},
   "outputs": [],
   "source": [
    "from sklearn.preprocessing import StandardScaler\n",
    "standardscaler=StandardScaler()"
   ]
  },
  {
   "cell_type": "code",
   "execution_count": 13,
   "id": "6a118694",
   "metadata": {},
   "outputs": [],
   "source": [
    "sc = pd.DataFrame(standardscaler.fit_transform(X))"
   ]
  },
  {
   "cell_type": "code",
   "execution_count": 14,
   "id": "d6e2f38b",
   "metadata": {},
   "outputs": [
    {
     "data": {
      "text/html": [
       "<div>\n",
       "<style scoped>\n",
       "    .dataframe tbody tr th:only-of-type {\n",
       "        vertical-align: middle;\n",
       "    }\n",
       "\n",
       "    .dataframe tbody tr th {\n",
       "        vertical-align: top;\n",
       "    }\n",
       "\n",
       "    .dataframe thead th {\n",
       "        text-align: right;\n",
       "    }\n",
       "</style>\n",
       "<table border=\"1\" class=\"dataframe\">\n",
       "  <thead>\n",
       "    <tr style=\"text-align: right;\">\n",
       "      <th></th>\n",
       "      <th>0</th>\n",
       "      <th>1</th>\n",
       "      <th>2</th>\n",
       "      <th>3</th>\n",
       "      <th>4</th>\n",
       "      <th>5</th>\n",
       "      <th>6</th>\n",
       "      <th>7</th>\n",
       "      <th>8</th>\n",
       "      <th>9</th>\n",
       "    </tr>\n",
       "  </thead>\n",
       "  <tbody>\n",
       "    <tr>\n",
       "      <th>0</th>\n",
       "      <td>-0.249766</td>\n",
       "      <td>-0.599679</td>\n",
       "      <td>-0.494885</td>\n",
       "      <td>-0.436914</td>\n",
       "      <td>-0.467507</td>\n",
       "      <td>-0.491105</td>\n",
       "      <td>-0.755043</td>\n",
       "      <td>-0.647202</td>\n",
       "      <td>-0.465283</td>\n",
       "      <td>-0.741571</td>\n",
       "    </tr>\n",
       "    <tr>\n",
       "      <th>1</th>\n",
       "      <td>-0.249766</td>\n",
       "      <td>-0.599679</td>\n",
       "      <td>-0.494885</td>\n",
       "      <td>-0.436914</td>\n",
       "      <td>-0.467507</td>\n",
       "      <td>-0.491105</td>\n",
       "      <td>-0.755043</td>\n",
       "      <td>-0.657453</td>\n",
       "      <td>-0.465283</td>\n",
       "      <td>-0.741571</td>\n",
       "    </tr>\n",
       "    <tr>\n",
       "      <th>2</th>\n",
       "      <td>-0.018409</td>\n",
       "      <td>-0.599679</td>\n",
       "      <td>-0.494885</td>\n",
       "      <td>-0.436914</td>\n",
       "      <td>-0.467507</td>\n",
       "      <td>-0.491105</td>\n",
       "      <td>-0.752111</td>\n",
       "      <td>-0.640321</td>\n",
       "      <td>-0.465283</td>\n",
       "      <td>-0.741571</td>\n",
       "    </tr>\n",
       "    <tr>\n",
       "      <th>3</th>\n",
       "      <td>-0.018409</td>\n",
       "      <td>-0.599679</td>\n",
       "      <td>-0.494885</td>\n",
       "      <td>-0.436914</td>\n",
       "      <td>-0.467507</td>\n",
       "      <td>-0.491105</td>\n",
       "      <td>-0.755043</td>\n",
       "      <td>-0.626700</td>\n",
       "      <td>-0.465283</td>\n",
       "      <td>-0.741571</td>\n",
       "    </tr>\n",
       "    <tr>\n",
       "      <th>4</th>\n",
       "      <td>-0.018409</td>\n",
       "      <td>-0.599679</td>\n",
       "      <td>-0.494885</td>\n",
       "      <td>-0.436914</td>\n",
       "      <td>-0.467507</td>\n",
       "      <td>-0.491105</td>\n",
       "      <td>-0.755043</td>\n",
       "      <td>-0.626700</td>\n",
       "      <td>-0.465283</td>\n",
       "      <td>-0.741571</td>\n",
       "    </tr>\n",
       "    <tr>\n",
       "      <th>...</th>\n",
       "      <td>...</td>\n",
       "      <td>...</td>\n",
       "      <td>...</td>\n",
       "      <td>...</td>\n",
       "      <td>...</td>\n",
       "      <td>...</td>\n",
       "      <td>...</td>\n",
       "      <td>...</td>\n",
       "      <td>...</td>\n",
       "      <td>...</td>\n",
       "    </tr>\n",
       "    <tr>\n",
       "      <th>378091</th>\n",
       "      <td>-0.249766</td>\n",
       "      <td>-0.175660</td>\n",
       "      <td>-0.264980</td>\n",
       "      <td>-0.217001</td>\n",
       "      <td>0.439790</td>\n",
       "      <td>0.080546</td>\n",
       "      <td>-0.179263</td>\n",
       "      <td>0.240682</td>\n",
       "      <td>0.263750</td>\n",
       "      <td>-0.053586</td>\n",
       "    </tr>\n",
       "    <tr>\n",
       "      <th>378092</th>\n",
       "      <td>-0.249766</td>\n",
       "      <td>-0.042883</td>\n",
       "      <td>-0.096551</td>\n",
       "      <td>-0.217001</td>\n",
       "      <td>0.334370</td>\n",
       "      <td>0.008417</td>\n",
       "      <td>-0.210820</td>\n",
       "      <td>0.216670</td>\n",
       "      <td>0.278184</td>\n",
       "      <td>-0.086454</td>\n",
       "    </tr>\n",
       "    <tr>\n",
       "      <th>378093</th>\n",
       "      <td>-0.249766</td>\n",
       "      <td>0.036350</td>\n",
       "      <td>0.094775</td>\n",
       "      <td>-0.217001</td>\n",
       "      <td>0.292030</td>\n",
       "      <td>-0.017959</td>\n",
       "      <td>-0.207888</td>\n",
       "      <td>0.196169</td>\n",
       "      <td>0.283127</td>\n",
       "      <td>-0.080864</td>\n",
       "    </tr>\n",
       "    <tr>\n",
       "      <th>378094</th>\n",
       "      <td>-0.249766</td>\n",
       "      <td>0.089533</td>\n",
       "      <td>0.202043</td>\n",
       "      <td>-0.226007</td>\n",
       "      <td>0.249689</td>\n",
       "      <td>-0.031147</td>\n",
       "      <td>-0.227948</td>\n",
       "      <td>0.151515</td>\n",
       "      <td>0.254061</td>\n",
       "      <td>-0.086454</td>\n",
       "    </tr>\n",
       "    <tr>\n",
       "      <th>378095</th>\n",
       "      <td>-0.249766</td>\n",
       "      <td>0.098216</td>\n",
       "      <td>0.209884</td>\n",
       "      <td>-0.235014</td>\n",
       "      <td>0.208213</td>\n",
       "      <td>-0.063982</td>\n",
       "      <td>-0.268070</td>\n",
       "      <td>0.100120</td>\n",
       "      <td>0.191380</td>\n",
       "      <td>-0.130054</td>\n",
       "    </tr>\n",
       "  </tbody>\n",
       "</table>\n",
       "<p>378096 rows × 10 columns</p>\n",
       "</div>"
      ],
      "text/plain": [
       "               0         1         2         3         4         5         6  \\\n",
       "0      -0.249766 -0.599679 -0.494885 -0.436914 -0.467507 -0.491105 -0.755043   \n",
       "1      -0.249766 -0.599679 -0.494885 -0.436914 -0.467507 -0.491105 -0.755043   \n",
       "2      -0.018409 -0.599679 -0.494885 -0.436914 -0.467507 -0.491105 -0.752111   \n",
       "3      -0.018409 -0.599679 -0.494885 -0.436914 -0.467507 -0.491105 -0.755043   \n",
       "4      -0.018409 -0.599679 -0.494885 -0.436914 -0.467507 -0.491105 -0.755043   \n",
       "...          ...       ...       ...       ...       ...       ...       ...   \n",
       "378091 -0.249766 -0.175660 -0.264980 -0.217001  0.439790  0.080546 -0.179263   \n",
       "378092 -0.249766 -0.042883 -0.096551 -0.217001  0.334370  0.008417 -0.210820   \n",
       "378093 -0.249766  0.036350  0.094775 -0.217001  0.292030 -0.017959 -0.207888   \n",
       "378094 -0.249766  0.089533  0.202043 -0.226007  0.249689 -0.031147 -0.227948   \n",
       "378095 -0.249766  0.098216  0.209884 -0.235014  0.208213 -0.063982 -0.268070   \n",
       "\n",
       "               7         8         9  \n",
       "0      -0.647202 -0.465283 -0.741571  \n",
       "1      -0.657453 -0.465283 -0.741571  \n",
       "2      -0.640321 -0.465283 -0.741571  \n",
       "3      -0.626700 -0.465283 -0.741571  \n",
       "4      -0.626700 -0.465283 -0.741571  \n",
       "...          ...       ...       ...  \n",
       "378091  0.240682  0.263750 -0.053586  \n",
       "378092  0.216670  0.278184 -0.086454  \n",
       "378093  0.196169  0.283127 -0.080864  \n",
       "378094  0.151515  0.254061 -0.086454  \n",
       "378095  0.100120  0.191380 -0.130054  \n",
       "\n",
       "[378096 rows x 10 columns]"
      ]
     },
     "execution_count": 14,
     "metadata": {},
     "output_type": "execute_result"
    }
   ],
   "source": [
    "sc"
   ]
  },
  {
   "cell_type": "code",
   "execution_count": 15,
   "id": "65cfb75d",
   "metadata": {},
   "outputs": [],
   "source": [
    "# Splitting data for training and testing\n",
    "X_train, X_test, y_train, y_test = train_test_split(sc, y, test_size = 0.2, random_state = 39)"
   ]
  },
  {
   "cell_type": "markdown",
   "id": "3ba47781",
   "metadata": {},
   "source": [
    "# Deep Learning "
   ]
  },
  {
   "cell_type": "code",
   "execution_count": 16,
   "id": "d426e2e1",
   "metadata": {},
   "outputs": [],
   "source": [
    "from sklearn.preprocessing import MinMaxScaler\n",
    "from tensorflow.keras.models import Model\n",
    "from tensorflow.keras.layers import Input\n",
    "from tensorflow.keras.layers import Dense\n",
    "from tensorflow.keras.layers import LeakyReLU,ELU\n",
    "from tensorflow.keras.layers import BatchNormalization\n",
    "from tensorflow.keras.utils import plot_model\n",
    "import tensorflow as tf\n",
    "from sklearn.model_selection import cross_val_score\n",
    "from keras.models import Sequential\n",
    "from keras.layers import Dense, BatchNormalization, Dropout\n",
    "from tensorflow.keras.optimizers import Adam, SGD, RMSprop, Adadelta, Adagrad, Adamax, Nadam, Ftrl\n",
    "from keras.callbacks import EarlyStopping, ModelCheckpoint\n",
    "from keras.wrappers.scikit_learn import KerasClassifier\n",
    "from sklearn.metrics import make_scorer, accuracy_score\n",
    "from sklearn.model_selection import StratifiedKFold"
   ]
  },
  {
   "cell_type": "code",
   "execution_count": 17,
   "id": "cd0ef208",
   "metadata": {},
   "outputs": [],
   "source": [
    "from keras.layers import LeakyReLU\n",
    "LeakyReLU = LeakyReLU(alpha=0.1)\n",
    "from keras.models import Sequential\n",
    "from keras.layers import Dense, Flatten, Convolution1D, Dropout\n",
    "from keras.initializers import random_uniform"
   ]
  },
  {
   "cell_type": "markdown",
   "id": "f97d61bc",
   "metadata": {},
   "source": [
    "# 1. Define Network"
   ]
  },
  {
   "cell_type": "code",
   "execution_count": 18,
   "id": "bd77bf81",
   "metadata": {},
   "outputs": [],
   "source": [
    "num_classes = 24\n",
    "input_dim = X.shape[1]"
   ]
  },
  {
   "cell_type": "code",
   "execution_count": 19,
   "id": "fbdce465",
   "metadata": {},
   "outputs": [],
   "source": [
    "visible = Input(shape=(input_dim,))\n",
    "hidden1 = Dense(3000, activation='relu')(visible)\n",
    "hidden2 = Dense(1500, activation='relu')(hidden1)\n",
    "hidden3 = Dropout(0.2)(hidden2)\n",
    "hidden4 = Dense(750, activation='relu')(hidden3)\n",
    "hidden5 = Dense(375, activation='relu')(hidden4)\n",
    "hidden6 = Dense(48, activation='relu')(hidden5)\n",
    "output = Dense(num_classes, activation='softmax')(hidden6)\n",
    "model = Model(inputs=visible, outputs=output)"
   ]
  },
  {
   "cell_type": "code",
   "execution_count": 20,
   "id": "1dd33478",
   "metadata": {},
   "outputs": [
    {
     "name": "stdout",
     "output_type": "stream",
     "text": [
      "Model: \"model\"\n",
      "_________________________________________________________________\n",
      " Layer (type)                Output Shape              Param #   \n",
      "=================================================================\n",
      " input_1 (InputLayer)        [(None, 10)]              0         \n",
      "                                                                 \n",
      " dense (Dense)               (None, 3000)              33000     \n",
      "                                                                 \n",
      " dense_1 (Dense)             (None, 1500)              4501500   \n",
      "                                                                 \n",
      " dropout (Dropout)           (None, 1500)              0         \n",
      "                                                                 \n",
      " dense_2 (Dense)             (None, 750)               1125750   \n",
      "                                                                 \n",
      " dense_3 (Dense)             (None, 375)               281625    \n",
      "                                                                 \n",
      " dense_4 (Dense)             (None, 48)                18048     \n",
      "                                                                 \n",
      " dense_5 (Dense)             (None, 24)                1176      \n",
      "                                                                 \n",
      "=================================================================\n",
      "Total params: 5,961,099\n",
      "Trainable params: 5,961,099\n",
      "Non-trainable params: 0\n",
      "_________________________________________________________________\n"
     ]
    }
   ],
   "source": [
    "model.summary()"
   ]
  },
  {
   "cell_type": "markdown",
   "id": "3196ac97",
   "metadata": {},
   "source": [
    "# 2. Compile Network"
   ]
  },
  {
   "cell_type": "code",
   "execution_count": 21,
   "id": "7a2d558b",
   "metadata": {},
   "outputs": [],
   "source": [
    "model.compile(optimizer='adam', loss='categorical_crossentropy', metrics=['accuracy'])"
   ]
  },
  {
   "cell_type": "code",
   "execution_count": 22,
   "id": "c1d2b36d",
   "metadata": {},
   "outputs": [
    {
     "name": "stdout",
     "output_type": "stream",
     "text": [
      "You must install pydot (`pip install pydot`) and install graphviz (see instructions at https://graphviz.gitlab.io/download/) for plot_model/model_to_dot to work.\n"
     ]
    }
   ],
   "source": [
    "plot_model(model, 'EMG_ANN', show_shapes = True)"
   ]
  },
  {
   "cell_type": "markdown",
   "id": "3358b592",
   "metadata": {},
   "source": [
    "# 3. Fit Network"
   ]
  },
  {
   "cell_type": "code",
   "execution_count": 23,
   "id": "e0ed4ddd",
   "metadata": {},
   "outputs": [
    {
     "name": "stdout",
     "output_type": "stream",
     "text": [
      "Epoch 1/100\n",
      "75/75 [==============================] - 22s 62ms/step - loss: 1.4024 - accuracy: 0.6275 - val_loss: 0.9758 - val_accuracy: 0.7314\n",
      "Epoch 2/100\n",
      "75/75 [==============================] - 2s 26ms/step - loss: 0.8906 - accuracy: 0.7508 - val_loss: 0.7925 - val_accuracy: 0.7770\n",
      "Epoch 3/100\n",
      "75/75 [==============================] - 2s 26ms/step - loss: 0.7590 - accuracy: 0.7834 - val_loss: 0.6947 - val_accuracy: 0.8008\n",
      "Epoch 4/100\n",
      "75/75 [==============================] - 2s 27ms/step - loss: 0.6772 - accuracy: 0.8042 - val_loss: 0.6365 - val_accuracy: 0.8142\n",
      "Epoch 5/100\n",
      "75/75 [==============================] - 2s 27ms/step - loss: 0.6174 - accuracy: 0.8192 - val_loss: 0.5777 - val_accuracy: 0.8303\n",
      "Epoch 6/100\n",
      "75/75 [==============================] - 2s 29ms/step - loss: 0.5746 - accuracy: 0.8300 - val_loss: 0.5421 - val_accuracy: 0.8389\n",
      "Epoch 7/100\n",
      "75/75 [==============================] - 2s 29ms/step - loss: 0.5373 - accuracy: 0.8398 - val_loss: 0.5003 - val_accuracy: 0.8513\n",
      "Epoch 8/100\n",
      "75/75 [==============================] - 2s 27ms/step - loss: 0.5055 - accuracy: 0.8490 - val_loss: 0.4756 - val_accuracy: 0.8581\n",
      "Epoch 9/100\n",
      "75/75 [==============================] - 2s 26ms/step - loss: 0.4756 - accuracy: 0.8571 - val_loss: 0.4668 - val_accuracy: 0.8619\n",
      "Epoch 10/100\n",
      "75/75 [==============================] - 2s 25ms/step - loss: 0.4537 - accuracy: 0.8634 - val_loss: 0.4278 - val_accuracy: 0.8721\n",
      "Epoch 11/100\n",
      "75/75 [==============================] - 2s 25ms/step - loss: 0.4313 - accuracy: 0.8694 - val_loss: 0.4186 - val_accuracy: 0.8743\n",
      "Epoch 12/100\n",
      "75/75 [==============================] - 2s 28ms/step - loss: 0.4111 - accuracy: 0.8752 - val_loss: 0.3921 - val_accuracy: 0.8815\n",
      "Epoch 13/100\n",
      "75/75 [==============================] - 2s 26ms/step - loss: 0.3935 - accuracy: 0.8800 - val_loss: 0.3743 - val_accuracy: 0.8863\n",
      "Epoch 14/100\n",
      "75/75 [==============================] - 2s 26ms/step - loss: 0.3806 - accuracy: 0.8836 - val_loss: 0.3711 - val_accuracy: 0.8862\n",
      "Epoch 15/100\n",
      "75/75 [==============================] - 2s 26ms/step - loss: 0.3631 - accuracy: 0.8889 - val_loss: 0.3619 - val_accuracy: 0.8904\n",
      "Epoch 16/100\n",
      "75/75 [==============================] - 2s 30ms/step - loss: 0.3513 - accuracy: 0.8925 - val_loss: 0.3490 - val_accuracy: 0.8945\n",
      "Epoch 17/100\n",
      "75/75 [==============================] - 2s 27ms/step - loss: 0.3379 - accuracy: 0.8965 - val_loss: 0.3316 - val_accuracy: 0.8992\n",
      "Epoch 18/100\n",
      "75/75 [==============================] - 2s 27ms/step - loss: 0.3273 - accuracy: 0.8988 - val_loss: 0.3243 - val_accuracy: 0.9006\n",
      "Epoch 19/100\n",
      "75/75 [==============================] - 2s 28ms/step - loss: 0.3161 - accuracy: 0.9026 - val_loss: 0.3122 - val_accuracy: 0.9050\n",
      "Epoch 20/100\n",
      "75/75 [==============================] - 3s 36ms/step - loss: 0.3032 - accuracy: 0.9069 - val_loss: 0.2975 - val_accuracy: 0.9099\n",
      "Epoch 21/100\n",
      "75/75 [==============================] - 3s 38ms/step - loss: 0.2981 - accuracy: 0.9088 - val_loss: 0.3001 - val_accuracy: 0.9092\n",
      "Epoch 22/100\n",
      "75/75 [==============================] - 2s 29ms/step - loss: 0.2862 - accuracy: 0.9122 - val_loss: 0.2871 - val_accuracy: 0.9131\n",
      "Epoch 23/100\n",
      "75/75 [==============================] - 2s 27ms/step - loss: 0.2798 - accuracy: 0.9134 - val_loss: 0.2922 - val_accuracy: 0.9105\n",
      "Epoch 24/100\n",
      "75/75 [==============================] - 2s 29ms/step - loss: 0.2749 - accuracy: 0.9150 - val_loss: 0.2793 - val_accuracy: 0.9163\n",
      "Epoch 25/100\n",
      "75/75 [==============================] - 3s 34ms/step - loss: 0.2644 - accuracy: 0.9181 - val_loss: 0.2608 - val_accuracy: 0.9213\n",
      "Epoch 26/100\n",
      "75/75 [==============================] - 2s 30ms/step - loss: 0.2581 - accuracy: 0.9199 - val_loss: 0.2614 - val_accuracy: 0.9198\n",
      "Epoch 27/100\n",
      "75/75 [==============================] - 2s 28ms/step - loss: 0.2508 - accuracy: 0.9221 - val_loss: 0.2523 - val_accuracy: 0.9232\n",
      "Epoch 28/100\n",
      "75/75 [==============================] - 2s 28ms/step - loss: 0.2433 - accuracy: 0.9242 - val_loss: 0.2635 - val_accuracy: 0.9213\n",
      "Epoch 29/100\n",
      "75/75 [==============================] - 2s 27ms/step - loss: 0.2380 - accuracy: 0.9264 - val_loss: 0.2385 - val_accuracy: 0.9278\n",
      "Epoch 30/100\n",
      "75/75 [==============================] - 2s 28ms/step - loss: 0.2329 - accuracy: 0.9280 - val_loss: 0.2491 - val_accuracy: 0.9246\n",
      "Epoch 31/100\n",
      "75/75 [==============================] - 3s 43ms/step - loss: 0.2303 - accuracy: 0.9285 - val_loss: 0.2371 - val_accuracy: 0.9284\n",
      "Epoch 32/100\n",
      "75/75 [==============================] - 2s 26ms/step - loss: 0.2225 - accuracy: 0.9312 - val_loss: 0.2359 - val_accuracy: 0.9279\n",
      "Epoch 33/100\n",
      "75/75 [==============================] - 2s 32ms/step - loss: 0.2185 - accuracy: 0.9323 - val_loss: 0.2316 - val_accuracy: 0.9301\n",
      "Epoch 34/100\n",
      "75/75 [==============================] - 2s 27ms/step - loss: 0.2131 - accuracy: 0.9336 - val_loss: 0.2178 - val_accuracy: 0.9345\n",
      "Epoch 35/100\n",
      "75/75 [==============================] - 2s 30ms/step - loss: 0.2078 - accuracy: 0.9353 - val_loss: 0.2232 - val_accuracy: 0.9325\n",
      "Epoch 36/100\n",
      "75/75 [==============================] - 2s 27ms/step - loss: 0.2044 - accuracy: 0.9362 - val_loss: 0.2209 - val_accuracy: 0.9325\n",
      "Epoch 37/100\n",
      "75/75 [==============================] - 2s 27ms/step - loss: 0.2010 - accuracy: 0.9378 - val_loss: 0.2143 - val_accuracy: 0.9353\n",
      "Epoch 38/100\n",
      "75/75 [==============================] - 2s 27ms/step - loss: 0.1986 - accuracy: 0.9379 - val_loss: 0.2140 - val_accuracy: 0.9352\n",
      "Epoch 39/100\n",
      "75/75 [==============================] - 2s 27ms/step - loss: 0.1944 - accuracy: 0.9391 - val_loss: 0.2092 - val_accuracy: 0.9363\n",
      "Epoch 40/100\n",
      "75/75 [==============================] - 2s 27ms/step - loss: 0.1904 - accuracy: 0.9401 - val_loss: 0.2136 - val_accuracy: 0.9352\n",
      "Epoch 41/100\n",
      "75/75 [==============================] - 2s 27ms/step - loss: 0.1883 - accuracy: 0.9414 - val_loss: 0.2026 - val_accuracy: 0.9376\n",
      "Epoch 42/100\n",
      "75/75 [==============================] - 2s 30ms/step - loss: 0.1810 - accuracy: 0.9432 - val_loss: 0.2010 - val_accuracy: 0.9393\n",
      "Epoch 43/100\n",
      "75/75 [==============================] - 2s 27ms/step - loss: 0.1814 - accuracy: 0.9432 - val_loss: 0.2049 - val_accuracy: 0.9373\n",
      "Epoch 44/100\n",
      "75/75 [==============================] - 2s 29ms/step - loss: 0.1764 - accuracy: 0.9447 - val_loss: 0.1931 - val_accuracy: 0.9411\n",
      "Epoch 45/100\n",
      "75/75 [==============================] - 2s 30ms/step - loss: 0.1730 - accuracy: 0.9457 - val_loss: 0.1973 - val_accuracy: 0.9403\n",
      "Epoch 46/100\n",
      "75/75 [==============================] - 3s 34ms/step - loss: 0.1730 - accuracy: 0.9457 - val_loss: 0.1895 - val_accuracy: 0.9425\n",
      "Epoch 47/100\n",
      "75/75 [==============================] - 2s 31ms/step - loss: 0.1672 - accuracy: 0.9479 - val_loss: 0.1938 - val_accuracy: 0.9415\n",
      "Epoch 48/100\n",
      "75/75 [==============================] - 3s 37ms/step - loss: 0.1674 - accuracy: 0.9476 - val_loss: 0.1919 - val_accuracy: 0.9426\n",
      "Epoch 49/100\n",
      "75/75 [==============================] - 2s 32ms/step - loss: 0.1635 - accuracy: 0.9492 - val_loss: 0.1850 - val_accuracy: 0.9446\n",
      "Epoch 50/100\n",
      "75/75 [==============================] - 2s 31ms/step - loss: 0.1596 - accuracy: 0.9501 - val_loss: 0.1825 - val_accuracy: 0.9451\n",
      "Epoch 51/100\n",
      "75/75 [==============================] - 2s 29ms/step - loss: 0.1606 - accuracy: 0.9495 - val_loss: 0.1868 - val_accuracy: 0.9437\n",
      "Epoch 52/100\n",
      "75/75 [==============================] - 2s 29ms/step - loss: 0.1573 - accuracy: 0.9504 - val_loss: 0.1909 - val_accuracy: 0.9434\n",
      "Epoch 53/100\n",
      "75/75 [==============================] - 2s 31ms/step - loss: 0.1579 - accuracy: 0.9507 - val_loss: 0.1789 - val_accuracy: 0.9465\n",
      "Epoch 54/100\n",
      "75/75 [==============================] - 2s 26ms/step - loss: 0.1508 - accuracy: 0.9528 - val_loss: 0.1696 - val_accuracy: 0.9481\n",
      "Epoch 55/100\n",
      "75/75 [==============================] - 2s 27ms/step - loss: 0.1500 - accuracy: 0.9530 - val_loss: 0.1760 - val_accuracy: 0.9485\n",
      "Epoch 56/100\n",
      "75/75 [==============================] - 2s 30ms/step - loss: 0.1482 - accuracy: 0.9539 - val_loss: 0.1769 - val_accuracy: 0.9461\n",
      "Epoch 57/100\n",
      "75/75 [==============================] - 2s 27ms/step - loss: 0.1492 - accuracy: 0.9533 - val_loss: 0.1729 - val_accuracy: 0.9482\n",
      "Epoch 58/100\n",
      "75/75 [==============================] - 2s 28ms/step - loss: 0.1464 - accuracy: 0.9545 - val_loss: 0.1758 - val_accuracy: 0.9484\n",
      "Epoch 59/100\n",
      "75/75 [==============================] - 3s 37ms/step - loss: 0.1439 - accuracy: 0.9548 - val_loss: 0.1710 - val_accuracy: 0.9482\n",
      "Epoch 60/100\n",
      "75/75 [==============================] - 2s 28ms/step - loss: 0.1398 - accuracy: 0.9557 - val_loss: 0.1735 - val_accuracy: 0.9477\n",
      "Epoch 61/100\n",
      "75/75 [==============================] - 2s 29ms/step - loss: 0.1377 - accuracy: 0.9566 - val_loss: 0.1680 - val_accuracy: 0.9504\n",
      "Epoch 62/100\n",
      "75/75 [==============================] - 3s 37ms/step - loss: 0.1341 - accuracy: 0.9582 - val_loss: 0.1662 - val_accuracy: 0.9494\n",
      "Epoch 63/100\n",
      "75/75 [==============================] - 2s 28ms/step - loss: 0.1370 - accuracy: 0.9570 - val_loss: 0.1715 - val_accuracy: 0.9498\n",
      "Epoch 64/100\n",
      "75/75 [==============================] - 2s 28ms/step - loss: 0.1369 - accuracy: 0.9569 - val_loss: 0.1642 - val_accuracy: 0.9504\n",
      "Epoch 65/100\n",
      "75/75 [==============================] - 2s 32ms/step - loss: 0.1376 - accuracy: 0.9562 - val_loss: 0.1729 - val_accuracy: 0.9487\n",
      "Epoch 66/100\n",
      "75/75 [==============================] - 2s 28ms/step - loss: 0.1331 - accuracy: 0.9579 - val_loss: 0.1644 - val_accuracy: 0.9510\n",
      "Epoch 67/100\n",
      "75/75 [==============================] - 2s 32ms/step - loss: 0.1317 - accuracy: 0.9582 - val_loss: 0.1630 - val_accuracy: 0.9515\n",
      "Epoch 68/100\n",
      "75/75 [==============================] - 2s 27ms/step - loss: 0.1299 - accuracy: 0.9591 - val_loss: 0.1631 - val_accuracy: 0.9513\n",
      "Epoch 69/100\n",
      "75/75 [==============================] - 2s 28ms/step - loss: 0.1280 - accuracy: 0.9595 - val_loss: 0.1672 - val_accuracy: 0.9489\n",
      "Epoch 70/100\n",
      "75/75 [==============================] - 2s 27ms/step - loss: 0.1267 - accuracy: 0.9599 - val_loss: 0.1624 - val_accuracy: 0.9515\n",
      "Epoch 71/100\n",
      "75/75 [==============================] - 2s 31ms/step - loss: 0.1242 - accuracy: 0.9607 - val_loss: 0.1578 - val_accuracy: 0.9524\n",
      "Epoch 72/100\n",
      "75/75 [==============================] - 2s 33ms/step - loss: 0.1235 - accuracy: 0.9610 - val_loss: 0.1537 - val_accuracy: 0.9531\n",
      "Epoch 73/100\n",
      "75/75 [==============================] - 2s 31ms/step - loss: 0.1198 - accuracy: 0.9616 - val_loss: 0.1612 - val_accuracy: 0.9530\n",
      "Epoch 74/100\n",
      "75/75 [==============================] - 2s 28ms/step - loss: 0.1208 - accuracy: 0.9622 - val_loss: 0.1570 - val_accuracy: 0.9530\n",
      "Epoch 75/100\n",
      "75/75 [==============================] - 2s 31ms/step - loss: 0.1196 - accuracy: 0.9623 - val_loss: 0.1565 - val_accuracy: 0.9540\n",
      "Epoch 76/100\n",
      "75/75 [==============================] - 2s 30ms/step - loss: 0.1179 - accuracy: 0.9625 - val_loss: 0.1594 - val_accuracy: 0.9529\n",
      "Epoch 77/100\n",
      "75/75 [==============================] - 2s 29ms/step - loss: 0.1202 - accuracy: 0.9618 - val_loss: 0.1607 - val_accuracy: 0.9539\n",
      "Epoch 78/100\n",
      "75/75 [==============================] - 3s 35ms/step - loss: 0.1182 - accuracy: 0.9627 - val_loss: 0.1548 - val_accuracy: 0.9545\n",
      "Epoch 79/100\n",
      "75/75 [==============================] - 2s 27ms/step - loss: 0.1175 - accuracy: 0.9623 - val_loss: 0.1552 - val_accuracy: 0.9541\n",
      "Epoch 80/100\n",
      "75/75 [==============================] - 2s 29ms/step - loss: 0.1155 - accuracy: 0.9634 - val_loss: 0.1587 - val_accuracy: 0.9540\n",
      "Epoch 81/100\n",
      "75/75 [==============================] - 3s 34ms/step - loss: 0.1156 - accuracy: 0.9636 - val_loss: 0.1534 - val_accuracy: 0.9545\n",
      "Epoch 82/100\n",
      "75/75 [==============================] - 2s 28ms/step - loss: 0.1161 - accuracy: 0.9632 - val_loss: 0.1535 - val_accuracy: 0.9547\n",
      "Epoch 83/100\n",
      "75/75 [==============================] - 2s 32ms/step - loss: 0.1168 - accuracy: 0.9630 - val_loss: 0.1511 - val_accuracy: 0.9556\n",
      "Epoch 84/100\n",
      "75/75 [==============================] - 2s 30ms/step - loss: 0.1107 - accuracy: 0.9649 - val_loss: 0.1516 - val_accuracy: 0.9555\n",
      "Epoch 85/100\n",
      "75/75 [==============================] - 2s 28ms/step - loss: 0.1098 - accuracy: 0.9652 - val_loss: 0.1486 - val_accuracy: 0.9559\n",
      "Epoch 86/100\n",
      "75/75 [==============================] - 2s 29ms/step - loss: 0.1103 - accuracy: 0.9650 - val_loss: 0.1549 - val_accuracy: 0.9541\n",
      "Epoch 87/100\n",
      "75/75 [==============================] - 2s 29ms/step - loss: 0.1088 - accuracy: 0.9656 - val_loss: 0.1491 - val_accuracy: 0.9563\n",
      "Epoch 88/100\n",
      "75/75 [==============================] - 2s 30ms/step - loss: 0.1088 - accuracy: 0.9654 - val_loss: 0.1512 - val_accuracy: 0.9562\n",
      "Epoch 89/100\n",
      "75/75 [==============================] - 2s 29ms/step - loss: 0.1062 - accuracy: 0.9662 - val_loss: 0.1449 - val_accuracy: 0.9580\n",
      "Epoch 90/100\n",
      "75/75 [==============================] - 3s 34ms/step - loss: 0.1038 - accuracy: 0.9667 - val_loss: 0.1522 - val_accuracy: 0.9565\n",
      "Epoch 91/100\n",
      "75/75 [==============================] - 2s 28ms/step - loss: 0.1048 - accuracy: 0.9665 - val_loss: 0.1502 - val_accuracy: 0.9569\n",
      "Epoch 92/100\n",
      "75/75 [==============================] - 2s 28ms/step - loss: 0.1029 - accuracy: 0.9670 - val_loss: 0.1434 - val_accuracy: 0.9587\n",
      "Epoch 93/100\n",
      "75/75 [==============================] - 2s 28ms/step - loss: 0.1015 - accuracy: 0.9675 - val_loss: 0.1460 - val_accuracy: 0.9571\n",
      "Epoch 94/100\n",
      "75/75 [==============================] - 2s 28ms/step - loss: 0.1032 - accuracy: 0.9675 - val_loss: 0.1422 - val_accuracy: 0.9592\n",
      "Epoch 95/100\n",
      "75/75 [==============================] - 2s 30ms/step - loss: 0.0992 - accuracy: 0.9685 - val_loss: 0.1473 - val_accuracy: 0.9576\n",
      "Epoch 96/100\n",
      "75/75 [==============================] - 2s 30ms/step - loss: 0.1014 - accuracy: 0.9679 - val_loss: 0.1487 - val_accuracy: 0.9572\n",
      "Epoch 97/100\n",
      "75/75 [==============================] - 2s 30ms/step - loss: 0.1010 - accuracy: 0.9679 - val_loss: 0.1462 - val_accuracy: 0.9574\n",
      "Epoch 98/100\n",
      "75/75 [==============================] - 2s 28ms/step - loss: 0.1000 - accuracy: 0.9681 - val_loss: 0.1452 - val_accuracy: 0.9581\n",
      "Epoch 99/100\n",
      "75/75 [==============================] - 3s 36ms/step - loss: 0.1002 - accuracy: 0.9679 - val_loss: 0.1450 - val_accuracy: 0.9586\n",
      "Epoch 100/100\n",
      "75/75 [==============================] - 2s 28ms/step - loss: 0.0976 - accuracy: 0.9692 - val_loss: 0.1482 - val_accuracy: 0.9589\n"
     ]
    }
   ],
   "source": [
    "history = model.fit(X_train, y_train, batch_size=4056, epochs=100, validation_data = (X_test, y_test))"
   ]
  },
  {
   "cell_type": "markdown",
   "id": "ffed59b1",
   "metadata": {},
   "source": [
    "# 4.Evaluate Network"
   ]
  },
  {
   "cell_type": "markdown",
   "id": "28731190",
   "metadata": {},
   "source": [
    "## 4.1. Plotting Loss and Accuracy"
   ]
  },
  {
   "cell_type": "code",
   "execution_count": 24,
   "id": "971e6040",
   "metadata": {},
   "outputs": [
    {
     "data": {
      "text/plain": [
       "Text(0.5, 1.0, 'Loss Curve of Deep Neural Netowork')"
      ]
     },
     "execution_count": 24,
     "metadata": {},
     "output_type": "execute_result"
    },
    {
     "data": {
      "image/png": "[encoded data removed]",
      "text/plain": [
       "<Figure size 432x288 with 1 Axes>"
      ]
     },
     "metadata": {
      "needs_background": "light"
     },
     "output_type": "display_data"
    }
   ],
   "source": [
    "#Loss Curve\n",
    "\n",
    "\n",
    "plt.plot(figsize = [8,6])\n",
    "\n",
    "plt.plot(history.history['loss'],'r',linewidth = 3.0)\n",
    "plt.plot(history.history['val_loss'],'b',linewidth = 3.0)\n",
    "\n",
    "plt.legend(['Training Loss', 'Validation Loss'], fontsize = 18)\n",
    "\n",
    "plt.xlabel('Epochs', fontsize = 16)\n",
    "plt.ylabel('Loss', fontsize = 16)\n",
    "\n",
    "plt.title('Loss Curve of Deep Neural Netowork' , fontsize = 16 )\n",
    "\n"
   ]
  },
  {
   "cell_type": "code",
   "execution_count": 25,
   "id": "b0c193ec",
   "metadata": {},
   "outputs": [
    {
     "data": {
      "text/plain": [
       "Text(0.5, 1.0, 'Accuracy Curve of Deep Neural Netowork')"
      ]
     },
     "execution_count": 25,
     "metadata": {},
     "output_type": "execute_result"
    },
    {
     "data": {
      "image/png": "[encoded data removed]",
      "text/plain": [
       "<Figure size 432x288 with 1 Axes>"
      ]
     },
     "metadata": {
      "needs_background": "light"
     },
     "output_type": "display_data"
    }
   ],
   "source": [
    "#Accuracy Curve\n",
    "\n",
    "plt.plot(figsize = [8,6])\n",
    "plt.plot(history.history['accuracy'],'r',linewidth = 3.0)\n",
    "plt.plot(history.history['val_accuracy'],'b',linewidth = 3.0)\n",
    "\n",
    "plt.legend(['Training Accuracy', 'Validation Accuracy'], fontsize = 18)\n",
    "\n",
    "plt.xlabel('Epochs', fontsize = 16)\n",
    "plt.ylabel('Accuracy', fontsize = 16)\n",
    "\n",
    "\n",
    "plt.title('Accuracy Curve of Deep Neural Netowork' , fontsize = 16 )"
   ]
  },
  {
   "cell_type": "markdown",
   "id": "741a02aa",
   "metadata": {},
   "source": [
    "##  4.2 Make Predictions"
   ]
  },
  {
   "cell_type": "code",
   "execution_count": 26,
   "id": "e8465627",
   "metadata": {},
   "outputs": [],
   "source": [
    "predictions = model.predict(X_test)\n",
    "predictions = np.argmax(predictions, axis = 1)"
   ]
  },
  {
   "cell_type": "code",
   "execution_count": 27,
   "id": "3cac1a50",
   "metadata": {},
   "outputs": [
    {
     "data": {
      "text/plain": [
       "array([ 0, 16,  0, ..., 11, 12,  4], dtype=int64)"
      ]
     },
     "execution_count": 27,
     "metadata": {},
     "output_type": "execute_result"
    }
   ],
   "source": [
    "predictions"
   ]
  },
  {
   "cell_type": "markdown",
   "id": "70d666bb",
   "metadata": {},
   "source": [
    "#### Transforming from One Hot Encoding"
   ]
  },
  {
   "cell_type": "code",
   "execution_count": 28,
   "id": "7234b6e7",
   "metadata": {},
   "outputs": [
    {
     "data": {
      "text/plain": [
       "16"
      ]
     },
     "execution_count": 28,
     "metadata": {},
     "output_type": "execute_result"
    }
   ],
   "source": [
    "y_test =np.argmax(y_test, axis=1)\n",
    "y_test[1]"
   ]
  },
  {
   "cell_type": "code",
   "execution_count": 29,
   "id": "6278820d",
   "metadata": {},
   "outputs": [
    {
     "name": "stdout",
     "output_type": "stream",
     "text": [
      "Accuracy is: 95.88600899233008\n"
     ]
    }
   ],
   "source": [
    "from sklearn.metrics import accuracy_score\n",
    "accuracy = {accuracy_score(y_test, predictions)}\n",
    "print(f\"Accuracy is: {accuracy_score(y_test, predictions)* 100}\")"
   ]
  },
  {
   "cell_type": "markdown",
   "id": "eb044ea1",
   "metadata": {},
   "source": [
    "## 4.3 Classification Report"
   ]
  },
  {
   "cell_type": "code",
   "execution_count": 30,
   "id": "001ebc5a",
   "metadata": {},
   "outputs": [
    {
     "name": "stdout",
     "output_type": "stream",
     "text": [
      "\u001b[1mClassification report : \u001b[0m\n",
      "               precision    recall  f1-score   support\n",
      "\n",
      "           0       0.96      0.99      0.97     35440\n",
      "           1       0.96      0.98      0.97      2416\n",
      "           2       0.98      0.92      0.95      2012\n",
      "           3       0.97      0.96      0.96      2302\n",
      "           4       0.97      0.95      0.96      2120\n",
      "           5       0.98      0.92      0.95      2055\n",
      "           6       0.98      0.95      0.97      2214\n",
      "           7       0.96      0.91      0.93      2326\n",
      "           8       0.97      0.91      0.94      2403\n",
      "           9       0.92      0.94      0.93      2255\n",
      "          10       0.96      0.93      0.94      2516\n",
      "          11       0.97      0.93      0.95      2458\n",
      "          12       0.96      0.92      0.94      2411\n",
      "          13       0.98      0.93      0.95      1404\n",
      "          14       0.93      0.82      0.87      1637\n",
      "          15       0.90      0.91      0.90      1448\n",
      "          16       0.96      0.94      0.95      1536\n",
      "          17       0.95      0.96      0.95      1645\n",
      "          18       0.91      0.96      0.93       881\n",
      "          19       0.97      0.91      0.94       801\n",
      "          20       0.99      0.96      0.97       855\n",
      "          21       0.97      0.99      0.98       810\n",
      "          22       0.97      0.99      0.98       762\n",
      "          23       0.99      0.98      0.99       913\n",
      "\n",
      "    accuracy                           0.96     75620\n",
      "   macro avg       0.96      0.94      0.95     75620\n",
      "weighted avg       0.96      0.96      0.96     75620\n",
      "\n",
      "\u001b[1mConfusion Matrix : \u001b[0m\n"
     ]
    },
    {
     "data": {
      "image/png": "[encoded data removed]",
      "text/plain": [
       "<Figure size 432x288 with 2 Axes>"
      ]
     },
     "metadata": {
      "needs_background": "light"
     },
     "output_type": "display_data"
    }
   ],
   "source": [
    "from sklearn.metrics import confusion_matrix, f1_score, accuracy_score, classification_report\n",
    "print('\\033[1m' +'Classification report : '+ '\\033[0m\\n', classification_report(y_test, predictions))\n",
    "\n",
    "cm = confusion_matrix(predictions, y_test)\n",
    "print('\\033[1m' +'Confusion Matrix : '+ '\\033[0m')\n",
    "sns.heatmap(cm, cmap = 'OrRd',annot = True, fmt='d')\n",
    "plt.show()"
   ]
  },
  {
   "cell_type": "markdown",
   "id": "eaa5e512",
   "metadata": {},
   "source": [
    "## 4.4 Evaluation"
   ]
  },
  {
   "cell_type": "code",
   "execution_count": 31,
   "id": "9e469f86",
   "metadata": {},
   "outputs": [
    {
     "name": "stdout",
     "output_type": "stream",
     "text": [
      "MAE: 0.346548532134356\n",
      "MSE: 3.9537688442211056\n",
      "RMSE: 1.9884086210387204\n"
     ]
    }
   ],
   "source": [
    "from sklearn import metrics\n",
    "\n",
    "print('MAE:', metrics.mean_absolute_error(y_test,predictions))\n",
    "print('MSE:', metrics.mean_squared_error(y_test, predictions))\n",
    "print('RMSE:', np.sqrt(metrics.mean_squared_error(y_test, predictions)))"
   ]
  },
  {
   "cell_type": "code",
   "execution_count": 32,
   "id": "dff2a82d",
   "metadata": {},
   "outputs": [
    {
     "name": "stdout",
     "output_type": "stream",
     "text": [
      "Precision Score :  0.9590469225855722\n",
      "Recall Score :  0.9588600899233007\n",
      "f1_score :  0.9585775638343308\n"
     ]
    }
   ],
   "source": [
    "from sklearn.metrics import precision_score\n",
    "print(\"Precision Score : \",precision_score(y_test, predictions, average='weighted'))\n",
    "\n",
    "\n",
    "from sklearn.metrics import recall_score\n",
    "print(\"Recall Score : \",recall_score(y_test, predictions,average='weighted'))\n",
    "\n",
    "\n",
    "from sklearn.metrics import f1_score\n",
    "print(\"f1_score : \",f1_score(y_test, predictions,average='weighted'))"
   ]
  },
  {
   "cell_type": "code",
   "execution_count": null,
   "id": "81ac7468",
   "metadata": {},
   "outputs": [],
   "source": []
  },
  {
   "cell_type": "code",
   "execution_count": null,
   "id": "71a4c6e0",
   "metadata": {},
   "outputs": [],
   "source": []
  }
 ],
 "metadata": {
  "kernelspec": {
   "display_name": "Python 3 (ipykernel)",
   "language": "python",
   "name": "python3"
  },
  "language_info": {
   "codemirror_mode": {
    "name": "ipython",
    "version": 3
   },
   "file_extension": ".py",
   "mimetype": "text/x-python",
   "name": "python",
   "nbconvert_exporter": "python",
   "pygments_lexer": "ipython3",
   "version": "3.8.12"
  }
 },
 "nbformat": 4,
 "nbformat_minor": 5
}
