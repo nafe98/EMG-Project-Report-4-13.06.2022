{
 "cells": [
  {
   "cell_type": "markdown",
   "id": "bf8ee932",
   "metadata": {},
   "source": [
    "# Importing Libraries"
   ]
  },
  {
   "cell_type": "code",
   "execution_count": 1,
   "id": "0f663fa8",
   "metadata": {},
   "outputs": [],
   "source": [
    "import numpy as np\n",
    "import pandas as pd\n",
    "import matplotlib.pyplot as plt\n",
    "import seaborn as sns\n",
    "from sklearn.model_selection import train_test_split"
   ]
  },
  {
   "cell_type": "markdown",
   "id": "511af272",
   "metadata": {},
   "source": [
    "# Loading Data"
   ]
  },
  {
   "cell_type": "code",
   "execution_count": 2,
   "id": "04fd19b0",
   "metadata": {},
   "outputs": [
    {
     "data": {
      "text/html": [
       "<div>\n",
       "<style scoped>\n",
       "    .dataframe tbody tr th:only-of-type {\n",
       "        vertical-align: middle;\n",
       "    }\n",
       "\n",
       "    .dataframe tbody tr th {\n",
       "        vertical-align: top;\n",
       "    }\n",
       "\n",
       "    .dataframe thead th {\n",
       "        text-align: right;\n",
       "    }\n",
       "</style>\n",
       "<table border=\"1\" class=\"dataframe\">\n",
       "  <thead>\n",
       "    <tr style=\"text-align: right;\">\n",
       "      <th></th>\n",
       "      <th>Emg1</th>\n",
       "      <th>Emg2</th>\n",
       "      <th>Emg3</th>\n",
       "      <th>Emg4</th>\n",
       "      <th>Emg5</th>\n",
       "      <th>Emg6</th>\n",
       "      <th>Emg7</th>\n",
       "      <th>Emg8</th>\n",
       "      <th>Emg9</th>\n",
       "      <th>Emg10</th>\n",
       "      <th>repetition</th>\n",
       "      <th>rerepetition</th>\n",
       "      <th>stimulus</th>\n",
       "      <th>restimulus</th>\n",
       "    </tr>\n",
       "  </thead>\n",
       "  <tbody>\n",
       "    <tr>\n",
       "      <th>24656</th>\n",
       "      <td>0.0073</td>\n",
       "      <td>0.0024</td>\n",
       "      <td>0.0024</td>\n",
       "      <td>0.0024</td>\n",
       "      <td>0.0024</td>\n",
       "      <td>0.0024</td>\n",
       "      <td>0.0244</td>\n",
       "      <td>0.0659</td>\n",
       "      <td>0.0024</td>\n",
       "      <td>0.0073</td>\n",
       "      <td>10</td>\n",
       "      <td>0</td>\n",
       "      <td>3</td>\n",
       "      <td>0</td>\n",
       "    </tr>\n",
       "    <tr>\n",
       "      <th>295360</th>\n",
       "      <td>0.1782</td>\n",
       "      <td>0.0049</td>\n",
       "      <td>0.2734</td>\n",
       "      <td>0.0684</td>\n",
       "      <td>0.0024</td>\n",
       "      <td>0.0049</td>\n",
       "      <td>0.2612</td>\n",
       "      <td>0.3052</td>\n",
       "      <td>0.3662</td>\n",
       "      <td>0.2466</td>\n",
       "      <td>3</td>\n",
       "      <td>3</td>\n",
       "      <td>6</td>\n",
       "      <td>6</td>\n",
       "    </tr>\n",
       "    <tr>\n",
       "      <th>100827</th>\n",
       "      <td>0.0024</td>\n",
       "      <td>0.0024</td>\n",
       "      <td>0.0024</td>\n",
       "      <td>0.0024</td>\n",
       "      <td>0.0024</td>\n",
       "      <td>0.0024</td>\n",
       "      <td>0.0024</td>\n",
       "      <td>0.0464</td>\n",
       "      <td>0.0024</td>\n",
       "      <td>0.0220</td>\n",
       "      <td>0</td>\n",
       "      <td>0</td>\n",
       "      <td>0</td>\n",
       "      <td>0</td>\n",
       "    </tr>\n",
       "    <tr>\n",
       "      <th>235344</th>\n",
       "      <td>0.0513</td>\n",
       "      <td>0.0024</td>\n",
       "      <td>0.0024</td>\n",
       "      <td>0.0024</td>\n",
       "      <td>0.0024</td>\n",
       "      <td>0.0024</td>\n",
       "      <td>0.0659</td>\n",
       "      <td>0.1587</td>\n",
       "      <td>0.0024</td>\n",
       "      <td>0.0537</td>\n",
       "      <td>0</td>\n",
       "      <td>0</td>\n",
       "      <td>0</td>\n",
       "      <td>0</td>\n",
       "    </tr>\n",
       "    <tr>\n",
       "      <th>307014</th>\n",
       "      <td>0.0073</td>\n",
       "      <td>0.0024</td>\n",
       "      <td>0.0024</td>\n",
       "      <td>0.0024</td>\n",
       "      <td>0.0024</td>\n",
       "      <td>0.0024</td>\n",
       "      <td>0.0146</td>\n",
       "      <td>0.0781</td>\n",
       "      <td>0.0024</td>\n",
       "      <td>0.0439</td>\n",
       "      <td>0</td>\n",
       "      <td>0</td>\n",
       "      <td>0</td>\n",
       "      <td>0</td>\n",
       "    </tr>\n",
       "  </tbody>\n",
       "</table>\n",
       "</div>"
      ],
      "text/plain": [
       "          Emg1    Emg2    Emg3    Emg4    Emg5    Emg6    Emg7    Emg8  \\\n",
       "24656   0.0073  0.0024  0.0024  0.0024  0.0024  0.0024  0.0244  0.0659   \n",
       "295360  0.1782  0.0049  0.2734  0.0684  0.0024  0.0049  0.2612  0.3052   \n",
       "100827  0.0024  0.0024  0.0024  0.0024  0.0024  0.0024  0.0024  0.0464   \n",
       "235344  0.0513  0.0024  0.0024  0.0024  0.0024  0.0024  0.0659  0.1587   \n",
       "307014  0.0073  0.0024  0.0024  0.0024  0.0024  0.0024  0.0146  0.0781   \n",
       "\n",
       "          Emg9   Emg10  repetition  rerepetition  stimulus  restimulus  \n",
       "24656   0.0024  0.0073          10             0         3           0  \n",
       "295360  0.3662  0.2466           3             3         6           6  \n",
       "100827  0.0024  0.0220           0             0         0           0  \n",
       "235344  0.0024  0.0537           0             0         0           0  \n",
       "307014  0.0024  0.0439           0             0         0           0  "
      ]
     },
     "execution_count": 2,
     "metadata": {},
     "output_type": "execute_result"
    }
   ],
   "source": [
    "raw_data = pd.read_excel('Dataset 1 Patient 1.xlsx')\n",
    "raw_data.sample(5)"
   ]
  },
  {
   "cell_type": "code",
   "execution_count": 3,
   "id": "80369ddb",
   "metadata": {},
   "outputs": [
    {
     "name": "stdout",
     "output_type": "stream",
     "text": [
      "<class 'pandas.core.frame.DataFrame'>\n",
      "RangeIndex: 471483 entries, 0 to 471482\n",
      "Data columns (total 14 columns):\n",
      " #   Column        Non-Null Count   Dtype  \n",
      "---  ------        --------------   -----  \n",
      " 0   Emg1          471483 non-null  float64\n",
      " 1   Emg2          471483 non-null  float64\n",
      " 2   Emg3          471483 non-null  float64\n",
      " 3   Emg4          471483 non-null  float64\n",
      " 4   Emg5          471483 non-null  float64\n",
      " 5   Emg6          471483 non-null  float64\n",
      " 6   Emg7          471483 non-null  float64\n",
      " 7   Emg8          471483 non-null  float64\n",
      " 8   Emg9          471483 non-null  float64\n",
      " 9   Emg10         471483 non-null  float64\n",
      " 10  repetition    471483 non-null  int64  \n",
      " 11  rerepetition  471483 non-null  int64  \n",
      " 12  stimulus      471483 non-null  int64  \n",
      " 13  restimulus    471483 non-null  int64  \n",
      "dtypes: float64(10), int64(4)\n",
      "memory usage: 50.4 MB\n"
     ]
    }
   ],
   "source": [
    "raw_data.info()"
   ]
  },
  {
   "cell_type": "code",
   "execution_count": 4,
   "id": "109445f8",
   "metadata": {},
   "outputs": [
    {
     "data": {
      "text/html": [
       "<div>\n",
       "<style scoped>\n",
       "    .dataframe tbody tr th:only-of-type {\n",
       "        vertical-align: middle;\n",
       "    }\n",
       "\n",
       "    .dataframe tbody tr th {\n",
       "        vertical-align: top;\n",
       "    }\n",
       "\n",
       "    .dataframe thead th {\n",
       "        text-align: right;\n",
       "    }\n",
       "</style>\n",
       "<table border=\"1\" class=\"dataframe\">\n",
       "  <thead>\n",
       "    <tr style=\"text-align: right;\">\n",
       "      <th></th>\n",
       "      <th>Emg1</th>\n",
       "      <th>Emg2</th>\n",
       "      <th>Emg3</th>\n",
       "      <th>Emg4</th>\n",
       "      <th>Emg5</th>\n",
       "      <th>Emg6</th>\n",
       "      <th>Emg7</th>\n",
       "      <th>Emg8</th>\n",
       "      <th>Emg9</th>\n",
       "      <th>Emg10</th>\n",
       "      <th>repetition</th>\n",
       "      <th>rerepetition</th>\n",
       "      <th>stimulus</th>\n",
       "      <th>restimulus</th>\n",
       "    </tr>\n",
       "  </thead>\n",
       "  <tbody>\n",
       "    <tr>\n",
       "      <th>count</th>\n",
       "      <td>471483.000000</td>\n",
       "      <td>471483.000000</td>\n",
       "      <td>471483.000000</td>\n",
       "      <td>471483.000000</td>\n",
       "      <td>471483.000000</td>\n",
       "      <td>471483.000000</td>\n",
       "      <td>471483.000000</td>\n",
       "      <td>471483.000000</td>\n",
       "      <td>471483.000000</td>\n",
       "      <td>471483.000000</td>\n",
       "      <td>471483.000000</td>\n",
       "      <td>471483.000000</td>\n",
       "      <td>471483.000000</td>\n",
       "      <td>471483.000000</td>\n",
       "    </tr>\n",
       "    <tr>\n",
       "      <th>mean</th>\n",
       "      <td>0.129657</td>\n",
       "      <td>0.122672</td>\n",
       "      <td>0.123409</td>\n",
       "      <td>0.044321</td>\n",
       "      <td>0.012722</td>\n",
       "      <td>0.014612</td>\n",
       "      <td>0.221796</td>\n",
       "      <td>0.233414</td>\n",
       "      <td>0.107259</td>\n",
       "      <td>0.072334</td>\n",
       "      <td>3.136047</td>\n",
       "      <td>2.113255</td>\n",
       "      <td>5.562892</td>\n",
       "      <td>4.570513</td>\n",
       "    </tr>\n",
       "    <tr>\n",
       "      <th>std</th>\n",
       "      <td>0.286859</td>\n",
       "      <td>0.322911</td>\n",
       "      <td>0.337717</td>\n",
       "      <td>0.167680</td>\n",
       "      <td>0.032359</td>\n",
       "      <td>0.042109</td>\n",
       "      <td>0.476014</td>\n",
       "      <td>0.353467</td>\n",
       "      <td>0.233386</td>\n",
       "      <td>0.156993</td>\n",
       "      <td>3.480664</td>\n",
       "      <td>3.212682</td>\n",
       "      <td>6.575838</td>\n",
       "      <td>6.427040</td>\n",
       "    </tr>\n",
       "    <tr>\n",
       "      <th>min</th>\n",
       "      <td>0.002400</td>\n",
       "      <td>0.000000</td>\n",
       "      <td>0.002400</td>\n",
       "      <td>0.000000</td>\n",
       "      <td>0.002400</td>\n",
       "      <td>0.000000</td>\n",
       "      <td>0.002400</td>\n",
       "      <td>0.002400</td>\n",
       "      <td>0.000000</td>\n",
       "      <td>0.002400</td>\n",
       "      <td>0.000000</td>\n",
       "      <td>0.000000</td>\n",
       "      <td>0.000000</td>\n",
       "      <td>0.000000</td>\n",
       "    </tr>\n",
       "    <tr>\n",
       "      <th>25%</th>\n",
       "      <td>0.002400</td>\n",
       "      <td>0.002400</td>\n",
       "      <td>0.002400</td>\n",
       "      <td>0.002400</td>\n",
       "      <td>0.002400</td>\n",
       "      <td>0.002400</td>\n",
       "      <td>0.012200</td>\n",
       "      <td>0.063500</td>\n",
       "      <td>0.002400</td>\n",
       "      <td>0.009800</td>\n",
       "      <td>0.000000</td>\n",
       "      <td>0.000000</td>\n",
       "      <td>0.000000</td>\n",
       "      <td>0.000000</td>\n",
       "    </tr>\n",
       "    <tr>\n",
       "      <th>50%</th>\n",
       "      <td>0.017100</td>\n",
       "      <td>0.002400</td>\n",
       "      <td>0.002400</td>\n",
       "      <td>0.002400</td>\n",
       "      <td>0.002400</td>\n",
       "      <td>0.002400</td>\n",
       "      <td>0.051300</td>\n",
       "      <td>0.112300</td>\n",
       "      <td>0.007300</td>\n",
       "      <td>0.039100</td>\n",
       "      <td>2.000000</td>\n",
       "      <td>0.000000</td>\n",
       "      <td>3.000000</td>\n",
       "      <td>0.000000</td>\n",
       "    </tr>\n",
       "    <tr>\n",
       "      <th>75%</th>\n",
       "      <td>0.114700</td>\n",
       "      <td>0.046400</td>\n",
       "      <td>0.058600</td>\n",
       "      <td>0.007300</td>\n",
       "      <td>0.002400</td>\n",
       "      <td>0.002400</td>\n",
       "      <td>0.190400</td>\n",
       "      <td>0.244100</td>\n",
       "      <td>0.136700</td>\n",
       "      <td>0.065900</td>\n",
       "      <td>6.000000</td>\n",
       "      <td>4.000000</td>\n",
       "      <td>10.000000</td>\n",
       "      <td>9.000000</td>\n",
       "    </tr>\n",
       "    <tr>\n",
       "      <th>max</th>\n",
       "      <td>4.665500</td>\n",
       "      <td>4.663100</td>\n",
       "      <td>4.658200</td>\n",
       "      <td>4.663100</td>\n",
       "      <td>0.876500</td>\n",
       "      <td>1.484400</td>\n",
       "      <td>4.663100</td>\n",
       "      <td>4.665500</td>\n",
       "      <td>4.660600</td>\n",
       "      <td>4.628900</td>\n",
       "      <td>10.000000</td>\n",
       "      <td>10.000000</td>\n",
       "      <td>23.000000</td>\n",
       "      <td>23.000000</td>\n",
       "    </tr>\n",
       "  </tbody>\n",
       "</table>\n",
       "</div>"
      ],
      "text/plain": [
       "                Emg1           Emg2           Emg3           Emg4  \\\n",
       "count  471483.000000  471483.000000  471483.000000  471483.000000   \n",
       "mean        0.129657       0.122672       0.123409       0.044321   \n",
       "std         0.286859       0.322911       0.337717       0.167680   \n",
       "min         0.002400       0.000000       0.002400       0.000000   \n",
       "25%         0.002400       0.002400       0.002400       0.002400   \n",
       "50%         0.017100       0.002400       0.002400       0.002400   \n",
       "75%         0.114700       0.046400       0.058600       0.007300   \n",
       "max         4.665500       4.663100       4.658200       4.663100   \n",
       "\n",
       "                Emg5           Emg6           Emg7           Emg8  \\\n",
       "count  471483.000000  471483.000000  471483.000000  471483.000000   \n",
       "mean        0.012722       0.014612       0.221796       0.233414   \n",
       "std         0.032359       0.042109       0.476014       0.353467   \n",
       "min         0.002400       0.000000       0.002400       0.002400   \n",
       "25%         0.002400       0.002400       0.012200       0.063500   \n",
       "50%         0.002400       0.002400       0.051300       0.112300   \n",
       "75%         0.002400       0.002400       0.190400       0.244100   \n",
       "max         0.876500       1.484400       4.663100       4.665500   \n",
       "\n",
       "                Emg9          Emg10     repetition   rerepetition  \\\n",
       "count  471483.000000  471483.000000  471483.000000  471483.000000   \n",
       "mean        0.107259       0.072334       3.136047       2.113255   \n",
       "std         0.233386       0.156993       3.480664       3.212682   \n",
       "min         0.000000       0.002400       0.000000       0.000000   \n",
       "25%         0.002400       0.009800       0.000000       0.000000   \n",
       "50%         0.007300       0.039100       2.000000       0.000000   \n",
       "75%         0.136700       0.065900       6.000000       4.000000   \n",
       "max         4.660600       4.628900      10.000000      10.000000   \n",
       "\n",
       "            stimulus     restimulus  \n",
       "count  471483.000000  471483.000000  \n",
       "mean        5.562892       4.570513  \n",
       "std         6.575838       6.427040  \n",
       "min         0.000000       0.000000  \n",
       "25%         0.000000       0.000000  \n",
       "50%         3.000000       0.000000  \n",
       "75%        10.000000       9.000000  \n",
       "max        23.000000      23.000000  "
      ]
     },
     "execution_count": 4,
     "metadata": {},
     "output_type": "execute_result"
    }
   ],
   "source": [
    "raw_data.describe(include='all')"
   ]
  },
  {
   "cell_type": "code",
   "execution_count": 5,
   "id": "f0b9a2e6",
   "metadata": {},
   "outputs": [
    {
     "name": "stdout",
     "output_type": "stream",
     "text": [
      "Unique Dependent values and their counts :\n",
      "0     202625\n",
      "2      15538\n",
      "12     15532\n",
      "8      15531\n",
      "7      15518\n",
      "4      15516\n",
      "11     15514\n",
      "5      15492\n",
      "9      15492\n",
      "10     15477\n",
      "1      15476\n",
      "3      15469\n",
      "6      15469\n",
      "14     10361\n",
      "13     10360\n",
      "17     10346\n",
      "15     10334\n",
      "16     10320\n",
      "18      5210\n",
      "20      5202\n",
      "19      5189\n",
      "21      5185\n",
      "23      5166\n",
      "22      5161\n",
      "Name: stimulus, dtype: int64\n"
     ]
    }
   ],
   "source": [
    "print(\"Unique Dependent values and their counts :\")\n",
    "print(raw_data[\"stimulus\"].value_counts())"
   ]
  },
  {
   "cell_type": "markdown",
   "id": "54420ec4",
   "metadata": {},
   "source": [
    "# Data Cleaning"
   ]
  },
  {
   "cell_type": "code",
   "execution_count": 6,
   "id": "a811198b",
   "metadata": {},
   "outputs": [],
   "source": [
    "index_names = raw_data[ (raw_data['stimulus'] != raw_data['restimulus'])].index\n",
    "raw_data.drop(index_names, inplace = True)"
   ]
  },
  {
   "cell_type": "code",
   "execution_count": 7,
   "id": "556cd92f",
   "metadata": {},
   "outputs": [],
   "source": [
    "index_names = raw_data[ (raw_data['repetition'] != raw_data['rerepetition'])].index\n",
    "raw_data.drop(index_names, inplace = True)"
   ]
  },
  {
   "cell_type": "code",
   "execution_count": 8,
   "id": "c91744f7",
   "metadata": {},
   "outputs": [],
   "source": [
    "X = raw_data.iloc[:,0:10]\n",
    "y = raw_data.stimulus"
   ]
  },
  {
   "cell_type": "markdown",
   "id": "152f7160",
   "metadata": {},
   "source": [
    "# One Hot Encoding"
   ]
  },
  {
   "cell_type": "code",
   "execution_count": 9,
   "id": "dfb77d24",
   "metadata": {},
   "outputs": [],
   "source": [
    "num_classes = 24"
   ]
  },
  {
   "cell_type": "code",
   "execution_count": 10,
   "id": "be64bf6b",
   "metadata": {},
   "outputs": [],
   "source": [
    "# One hot encoding for categorical labels\n",
    "import keras\n",
    "from keras import utils as np_utils\n",
    "y = keras.utils.np_utils.to_categorical(y, num_classes)"
   ]
  },
  {
   "cell_type": "code",
   "execution_count": 11,
   "id": "c7358f86",
   "metadata": {},
   "outputs": [],
   "source": [
    "input_dim = X.shape[1]"
   ]
  },
  {
   "cell_type": "markdown",
   "id": "cb3088a1",
   "metadata": {},
   "source": [
    "# Standard Scaler"
   ]
  },
  {
   "cell_type": "code",
   "execution_count": 12,
   "id": "5bd820f4",
   "metadata": {},
   "outputs": [],
   "source": [
    "from sklearn.preprocessing import StandardScaler\n",
    "standardscaler=StandardScaler()"
   ]
  },
  {
   "cell_type": "code",
   "execution_count": 13,
   "id": "6a118694",
   "metadata": {},
   "outputs": [],
   "source": [
    "sc = pd.DataFrame(standardscaler.fit_transform(X))"
   ]
  },
  {
   "cell_type": "code",
   "execution_count": 14,
   "id": "d6e2f38b",
   "metadata": {},
   "outputs": [
    {
     "data": {
      "text/html": [
       "<div>\n",
       "<style scoped>\n",
       "    .dataframe tbody tr th:only-of-type {\n",
       "        vertical-align: middle;\n",
       "    }\n",
       "\n",
       "    .dataframe tbody tr th {\n",
       "        vertical-align: top;\n",
       "    }\n",
       "\n",
       "    .dataframe thead th {\n",
       "        text-align: right;\n",
       "    }\n",
       "</style>\n",
       "<table border=\"1\" class=\"dataframe\">\n",
       "  <thead>\n",
       "    <tr style=\"text-align: right;\">\n",
       "      <th></th>\n",
       "      <th>0</th>\n",
       "      <th>1</th>\n",
       "      <th>2</th>\n",
       "      <th>3</th>\n",
       "      <th>4</th>\n",
       "      <th>5</th>\n",
       "      <th>6</th>\n",
       "      <th>7</th>\n",
       "      <th>8</th>\n",
       "      <th>9</th>\n",
       "    </tr>\n",
       "  </thead>\n",
       "  <tbody>\n",
       "    <tr>\n",
       "      <th>0</th>\n",
       "      <td>-0.273175</td>\n",
       "      <td>-0.420358</td>\n",
       "      <td>-0.402043</td>\n",
       "      <td>-0.277718</td>\n",
       "      <td>-0.355235</td>\n",
       "      <td>-0.163107</td>\n",
       "      <td>-0.495774</td>\n",
       "      <td>-0.564693</td>\n",
       "      <td>-0.498765</td>\n",
       "      <td>-0.275575</td>\n",
       "    </tr>\n",
       "    <tr>\n",
       "      <th>1</th>\n",
       "      <td>-0.304453</td>\n",
       "      <td>-0.420358</td>\n",
       "      <td>-0.402043</td>\n",
       "      <td>-0.277718</td>\n",
       "      <td>-0.355235</td>\n",
       "      <td>-0.268859</td>\n",
       "      <td>-0.495774</td>\n",
       "      <td>-0.583680</td>\n",
       "      <td>-0.498765</td>\n",
       "      <td>-0.305083</td>\n",
       "    </tr>\n",
       "    <tr>\n",
       "      <th>2</th>\n",
       "      <td>-0.312113</td>\n",
       "      <td>-0.420358</td>\n",
       "      <td>-0.402043</td>\n",
       "      <td>-0.277718</td>\n",
       "      <td>-0.355235</td>\n",
       "      <td>-0.268859</td>\n",
       "      <td>-0.495774</td>\n",
       "      <td>-0.589922</td>\n",
       "      <td>-0.498765</td>\n",
       "      <td>-0.334591</td>\n",
       "    </tr>\n",
       "    <tr>\n",
       "      <th>3</th>\n",
       "      <td>-0.312113</td>\n",
       "      <td>-0.420358</td>\n",
       "      <td>-0.402043</td>\n",
       "      <td>-0.277718</td>\n",
       "      <td>-0.355235</td>\n",
       "      <td>-0.268859</td>\n",
       "      <td>-0.495774</td>\n",
       "      <td>-0.602667</td>\n",
       "      <td>-0.498765</td>\n",
       "      <td>-0.378552</td>\n",
       "    </tr>\n",
       "    <tr>\n",
       "      <th>4</th>\n",
       "      <td>-0.335731</td>\n",
       "      <td>-0.420358</td>\n",
       "      <td>-0.402043</td>\n",
       "      <td>-0.277718</td>\n",
       "      <td>-0.355235</td>\n",
       "      <td>-0.322813</td>\n",
       "      <td>-0.495774</td>\n",
       "      <td>-0.596424</td>\n",
       "      <td>-0.498765</td>\n",
       "      <td>-0.393607</td>\n",
       "    </tr>\n",
       "    <tr>\n",
       "      <th>...</th>\n",
       "      <td>...</td>\n",
       "      <td>...</td>\n",
       "      <td>...</td>\n",
       "      <td>...</td>\n",
       "      <td>...</td>\n",
       "      <td>...</td>\n",
       "      <td>...</td>\n",
       "      <td>...</td>\n",
       "      <td>...</td>\n",
       "      <td>...</td>\n",
       "    </tr>\n",
       "    <tr>\n",
       "      <th>378530</th>\n",
       "      <td>-0.483823</td>\n",
       "      <td>-0.420358</td>\n",
       "      <td>-0.402043</td>\n",
       "      <td>-0.277718</td>\n",
       "      <td>-0.355235</td>\n",
       "      <td>-0.322813</td>\n",
       "      <td>-0.495774</td>\n",
       "      <td>-0.545445</td>\n",
       "      <td>-0.007433</td>\n",
       "      <td>-0.467075</td>\n",
       "    </tr>\n",
       "    <tr>\n",
       "      <th>378531</th>\n",
       "      <td>-0.483823</td>\n",
       "      <td>-0.420358</td>\n",
       "      <td>-0.402043</td>\n",
       "      <td>-0.277718</td>\n",
       "      <td>-0.355235</td>\n",
       "      <td>-0.268859</td>\n",
       "      <td>-0.495774</td>\n",
       "      <td>-0.558190</td>\n",
       "      <td>0.012680</td>\n",
       "      <td>-0.467075</td>\n",
       "    </tr>\n",
       "    <tr>\n",
       "      <th>378532</th>\n",
       "      <td>-0.483823</td>\n",
       "      <td>-0.420358</td>\n",
       "      <td>-0.402043</td>\n",
       "      <td>-0.277718</td>\n",
       "      <td>-0.355235</td>\n",
       "      <td>-0.322813</td>\n",
       "      <td>-0.495774</td>\n",
       "      <td>-0.558190</td>\n",
       "      <td>0.012680</td>\n",
       "      <td>-0.467075</td>\n",
       "    </tr>\n",
       "    <tr>\n",
       "      <th>378533</th>\n",
       "      <td>-0.483823</td>\n",
       "      <td>-0.420358</td>\n",
       "      <td>-0.402043</td>\n",
       "      <td>-0.277718</td>\n",
       "      <td>-0.355235</td>\n",
       "      <td>-0.322813</td>\n",
       "      <td>-0.495774</td>\n",
       "      <td>-0.564693</td>\n",
       "      <td>0.022532</td>\n",
       "      <td>-0.467075</td>\n",
       "    </tr>\n",
       "    <tr>\n",
       "      <th>378534</th>\n",
       "      <td>-0.483823</td>\n",
       "      <td>-0.420358</td>\n",
       "      <td>-0.402043</td>\n",
       "      <td>-0.277718</td>\n",
       "      <td>-0.355235</td>\n",
       "      <td>-0.322813</td>\n",
       "      <td>-0.495774</td>\n",
       "      <td>-0.577437</td>\n",
       "      <td>0.022532</td>\n",
       "      <td>-0.467075</td>\n",
       "    </tr>\n",
       "  </tbody>\n",
       "</table>\n",
       "<p>378535 rows × 10 columns</p>\n",
       "</div>"
      ],
      "text/plain": [
       "               0         1         2         3         4         5         6  \\\n",
       "0      -0.273175 -0.420358 -0.402043 -0.277718 -0.355235 -0.163107 -0.495774   \n",
       "1      -0.304453 -0.420358 -0.402043 -0.277718 -0.355235 -0.268859 -0.495774   \n",
       "2      -0.312113 -0.420358 -0.402043 -0.277718 -0.355235 -0.268859 -0.495774   \n",
       "3      -0.312113 -0.420358 -0.402043 -0.277718 -0.355235 -0.268859 -0.495774   \n",
       "4      -0.335731 -0.420358 -0.402043 -0.277718 -0.355235 -0.322813 -0.495774   \n",
       "...          ...       ...       ...       ...       ...       ...       ...   \n",
       "378530 -0.483823 -0.420358 -0.402043 -0.277718 -0.355235 -0.322813 -0.495774   \n",
       "378531 -0.483823 -0.420358 -0.402043 -0.277718 -0.355235 -0.268859 -0.495774   \n",
       "378532 -0.483823 -0.420358 -0.402043 -0.277718 -0.355235 -0.322813 -0.495774   \n",
       "378533 -0.483823 -0.420358 -0.402043 -0.277718 -0.355235 -0.322813 -0.495774   \n",
       "378534 -0.483823 -0.420358 -0.402043 -0.277718 -0.355235 -0.322813 -0.495774   \n",
       "\n",
       "               7         8         9  \n",
       "0      -0.564693 -0.498765 -0.275575  \n",
       "1      -0.583680 -0.498765 -0.305083  \n",
       "2      -0.589922 -0.498765 -0.334591  \n",
       "3      -0.602667 -0.498765 -0.378552  \n",
       "4      -0.596424 -0.498765 -0.393607  \n",
       "...          ...       ...       ...  \n",
       "378530 -0.545445 -0.007433 -0.467075  \n",
       "378531 -0.558190  0.012680 -0.467075  \n",
       "378532 -0.558190  0.012680 -0.467075  \n",
       "378533 -0.564693  0.022532 -0.467075  \n",
       "378534 -0.577437  0.022532 -0.467075  \n",
       "\n",
       "[378535 rows x 10 columns]"
      ]
     },
     "execution_count": 14,
     "metadata": {},
     "output_type": "execute_result"
    }
   ],
   "source": [
    "sc"
   ]
  },
  {
   "cell_type": "code",
   "execution_count": 15,
   "id": "65cfb75d",
   "metadata": {},
   "outputs": [],
   "source": [
    "# Splitting data for training and testing\n",
    "X_train, X_test, y_train, y_test = train_test_split(sc, y, test_size = 0.2, random_state = 39)"
   ]
  },
  {
   "cell_type": "markdown",
   "id": "3ba47781",
   "metadata": {},
   "source": [
    "# Deep Learning "
   ]
  },
  {
   "cell_type": "code",
   "execution_count": 16,
   "id": "d426e2e1",
   "metadata": {},
   "outputs": [],
   "source": [
    "from sklearn.preprocessing import MinMaxScaler\n",
    "from tensorflow.keras.models import Model\n",
    "from tensorflow.keras.layers import Input\n",
    "from tensorflow.keras.layers import Dense\n",
    "from tensorflow.keras.layers import LeakyReLU,ELU\n",
    "from tensorflow.keras.layers import BatchNormalization\n",
    "from tensorflow.keras.utils import plot_model\n",
    "import tensorflow as tf\n",
    "from sklearn.model_selection import cross_val_score\n",
    "from keras.models import Sequential\n",
    "from keras.layers import Dense, BatchNormalization, Dropout\n",
    "from tensorflow.keras.optimizers import Adam, SGD, RMSprop, Adadelta, Adagrad, Adamax, Nadam, Ftrl\n",
    "from keras.callbacks import EarlyStopping, ModelCheckpoint\n",
    "from keras.wrappers.scikit_learn import KerasClassifier\n",
    "from sklearn.metrics import make_scorer, accuracy_score\n",
    "from sklearn.model_selection import StratifiedKFold"
   ]
  },
  {
   "cell_type": "code",
   "execution_count": 17,
   "id": "cd0ef208",
   "metadata": {},
   "outputs": [],
   "source": [
    "from keras.layers import LeakyReLU\n",
    "LeakyReLU = LeakyReLU(alpha=0.1)\n",
    "from keras.models import Sequential\n",
    "from keras.layers import Dense, Flatten, Convolution1D, Dropout\n",
    "from keras.initializers import random_uniform"
   ]
  },
  {
   "cell_type": "markdown",
   "id": "f97d61bc",
   "metadata": {},
   "source": [
    "# 1. Define Network"
   ]
  },
  {
   "cell_type": "code",
   "execution_count": 18,
   "id": "bd77bf81",
   "metadata": {},
   "outputs": [],
   "source": [
    "num_classes = 24\n",
    "input_dim = X.shape[1]"
   ]
  },
  {
   "cell_type": "code",
   "execution_count": 19,
   "id": "fbdce465",
   "metadata": {},
   "outputs": [],
   "source": [
    "visible = Input(shape=(input_dim,))\n",
    "hidden1 = Dense(3000, activation='relu')(visible)\n",
    "hidden2 = Dense(1500, activation='relu')(hidden1)\n",
    "hidden3 = Dropout(0.2)(hidden2)\n",
    "hidden4 = Dense(750, activation='relu')(hidden3)\n",
    "hidden5 = Dense(375, activation='relu')(hidden4)\n",
    "hidden6 = Dense(48, activation='relu')(hidden5)\n",
    "output = Dense(num_classes, activation='softmax')(hidden6)\n",
    "model = Model(inputs=visible, outputs=output)"
   ]
  },
  {
   "cell_type": "code",
   "execution_count": 20,
   "id": "1dd33478",
   "metadata": {},
   "outputs": [
    {
     "name": "stdout",
     "output_type": "stream",
     "text": [
      "Model: \"model\"\n",
      "_________________________________________________________________\n",
      " Layer (type)                Output Shape              Param #   \n",
      "=================================================================\n",
      " input_1 (InputLayer)        [(None, 10)]              0         \n",
      "                                                                 \n",
      " dense (Dense)               (None, 3000)              33000     \n",
      "                                                                 \n",
      " dense_1 (Dense)             (None, 1500)              4501500   \n",
      "                                                                 \n",
      " dropout (Dropout)           (None, 1500)              0         \n",
      "                                                                 \n",
      " dense_2 (Dense)             (None, 750)               1125750   \n",
      "                                                                 \n",
      " dense_3 (Dense)             (None, 375)               281625    \n",
      "                                                                 \n",
      " dense_4 (Dense)             (None, 48)                18048     \n",
      "                                                                 \n",
      " dense_5 (Dense)             (None, 24)                1176      \n",
      "                                                                 \n",
      "=================================================================\n",
      "Total params: 5,961,099\n",
      "Trainable params: 5,961,099\n",
      "Non-trainable params: 0\n",
      "_________________________________________________________________\n"
     ]
    }
   ],
   "source": [
    "model.summary()"
   ]
  },
  {
   "cell_type": "markdown",
   "id": "3196ac97",
   "metadata": {},
   "source": [
    "# 2. Compile Network"
   ]
  },
  {
   "cell_type": "code",
   "execution_count": 21,
   "id": "7a2d558b",
   "metadata": {},
   "outputs": [],
   "source": [
    "model.compile(optimizer='adam', loss='categorical_crossentropy', metrics=['accuracy'])"
   ]
  },
  {
   "cell_type": "code",
   "execution_count": 22,
   "id": "c1d2b36d",
   "metadata": {},
   "outputs": [
    {
     "name": "stdout",
     "output_type": "stream",
     "text": [
      "You must install pydot (`pip install pydot`) and install graphviz (see instructions at https://graphviz.gitlab.io/download/) for plot_model/model_to_dot to work.\n"
     ]
    }
   ],
   "source": [
    "plot_model(model, 'EMG_ANN', show_shapes = True)"
   ]
  },
  {
   "cell_type": "markdown",
   "id": "3358b592",
   "metadata": {},
   "source": [
    "# 3. Fit Network"
   ]
  },
  {
   "cell_type": "code",
   "execution_count": 23,
   "id": "e0ed4ddd",
   "metadata": {},
   "outputs": [
    {
     "name": "stdout",
     "output_type": "stream",
     "text": [
      "Epoch 1/100\n",
      "75/75 [==============================] - 3s 27ms/step - loss: 1.3480 - accuracy: 0.6592 - val_loss: 0.9766 - val_accuracy: 0.7411\n",
      "Epoch 2/100\n",
      "75/75 [==============================] - 2s 25ms/step - loss: 0.8575 - accuracy: 0.7667 - val_loss: 0.7647 - val_accuracy: 0.7909\n",
      "Epoch 3/100\n",
      "75/75 [==============================] - 2s 25ms/step - loss: 0.7136 - accuracy: 0.8023 - val_loss: 0.7516 - val_accuracy: 0.8029\n",
      "Epoch 4/100\n",
      "75/75 [==============================] - 2s 25ms/step - loss: 0.6410 - accuracy: 0.8204 - val_loss: 0.5903 - val_accuracy: 0.8328\n",
      "Epoch 5/100\n",
      "75/75 [==============================] - 2s 25ms/step - loss: 0.5788 - accuracy: 0.8359 - val_loss: 0.5601 - val_accuracy: 0.8428\n",
      "Epoch 6/100\n",
      "75/75 [==============================] - 2s 25ms/step - loss: 0.5431 - accuracy: 0.8447 - val_loss: 0.5146 - val_accuracy: 0.8517\n",
      "Epoch 7/100\n",
      "75/75 [==============================] - 2s 25ms/step - loss: 0.5070 - accuracy: 0.8543 - val_loss: 0.5506 - val_accuracy: 0.8549\n",
      "Epoch 8/100\n",
      "75/75 [==============================] - 2s 25ms/step - loss: 0.4855 - accuracy: 0.8607 - val_loss: 0.4711 - val_accuracy: 0.8638\n",
      "Epoch 9/100\n",
      "75/75 [==============================] - 2s 25ms/step - loss: 0.4584 - accuracy: 0.8673 - val_loss: 0.4477 - val_accuracy: 0.8711\n",
      "Epoch 10/100\n",
      "75/75 [==============================] - 2s 25ms/step - loss: 0.4451 - accuracy: 0.8717 - val_loss: 0.5139 - val_accuracy: 0.8651\n",
      "Epoch 11/100\n",
      "75/75 [==============================] - 2s 25ms/step - loss: 0.4312 - accuracy: 0.8756 - val_loss: 0.4191 - val_accuracy: 0.8782\n",
      "Epoch 12/100\n",
      "75/75 [==============================] - 2s 25ms/step - loss: 0.4103 - accuracy: 0.8809 - val_loss: 0.4160 - val_accuracy: 0.8815\n",
      "Epoch 13/100\n",
      "75/75 [==============================] - 2s 26ms/step - loss: 0.4016 - accuracy: 0.8839 - val_loss: 0.3995 - val_accuracy: 0.8845\n",
      "Epoch 14/100\n",
      "75/75 [==============================] - 2s 25ms/step - loss: 0.3957 - accuracy: 0.8857 - val_loss: 0.3837 - val_accuracy: 0.8889\n",
      "Epoch 15/100\n",
      "75/75 [==============================] - 2s 25ms/step - loss: 0.3777 - accuracy: 0.8902 - val_loss: 0.3784 - val_accuracy: 0.8906\n",
      "Epoch 16/100\n",
      "75/75 [==============================] - 2s 25ms/step - loss: 0.3668 - accuracy: 0.8931 - val_loss: 0.3674 - val_accuracy: 0.8936\n",
      "Epoch 17/100\n",
      "75/75 [==============================] - 2s 25ms/step - loss: 0.3593 - accuracy: 0.8958 - val_loss: 0.3614 - val_accuracy: 0.8958\n",
      "Epoch 18/100\n",
      "75/75 [==============================] - 2s 25ms/step - loss: 0.3489 - accuracy: 0.8987 - val_loss: 0.3538 - val_accuracy: 0.8982\n",
      "Epoch 19/100\n",
      "75/75 [==============================] - 2s 25ms/step - loss: 0.3413 - accuracy: 0.9009 - val_loss: 0.3565 - val_accuracy: 0.8976\n",
      "Epoch 20/100\n",
      "75/75 [==============================] - 2s 25ms/step - loss: 0.3324 - accuracy: 0.9035 - val_loss: 0.3465 - val_accuracy: 0.9002\n",
      "Epoch 21/100\n",
      "75/75 [==============================] - 2s 25ms/step - loss: 0.3298 - accuracy: 0.9046 - val_loss: 0.3443 - val_accuracy: 0.9003\n",
      "Epoch 22/100\n",
      "75/75 [==============================] - 2s 26ms/step - loss: 0.3217 - accuracy: 0.9066 - val_loss: 0.3315 - val_accuracy: 0.9040\n",
      "Epoch 23/100\n",
      "75/75 [==============================] - 2s 25ms/step - loss: 0.3143 - accuracy: 0.9089 - val_loss: 0.3257 - val_accuracy: 0.9061\n",
      "Epoch 24/100\n",
      "75/75 [==============================] - 2s 26ms/step - loss: 0.3068 - accuracy: 0.9109 - val_loss: 0.3205 - val_accuracy: 0.9081\n",
      "Epoch 25/100\n",
      "75/75 [==============================] - 2s 26ms/step - loss: 0.3020 - accuracy: 0.9121 - val_loss: 0.3134 - val_accuracy: 0.9093\n",
      "Epoch 26/100\n",
      "75/75 [==============================] - 2s 26ms/step - loss: 0.2952 - accuracy: 0.9144 - val_loss: 0.3097 - val_accuracy: 0.9105\n",
      "Epoch 27/100\n",
      "75/75 [==============================] - 2s 26ms/step - loss: 0.2898 - accuracy: 0.9161 - val_loss: 0.3071 - val_accuracy: 0.9120\n",
      "Epoch 28/100\n",
      "75/75 [==============================] - 2s 26ms/step - loss: 0.2891 - accuracy: 0.9159 - val_loss: 0.3105 - val_accuracy: 0.9110\n",
      "Epoch 29/100\n",
      "75/75 [==============================] - 2s 26ms/step - loss: 0.2859 - accuracy: 0.9179 - val_loss: 0.3030 - val_accuracy: 0.9139\n",
      "Epoch 30/100\n",
      "75/75 [==============================] - 2s 26ms/step - loss: 0.2801 - accuracy: 0.9193 - val_loss: 0.3013 - val_accuracy: 0.9136\n",
      "Epoch 31/100\n",
      "75/75 [==============================] - 2s 26ms/step - loss: 0.2760 - accuracy: 0.9202 - val_loss: 0.2976 - val_accuracy: 0.9155\n",
      "Epoch 32/100\n",
      "75/75 [==============================] - 2s 26ms/step - loss: 0.2722 - accuracy: 0.9213 - val_loss: 0.2908 - val_accuracy: 0.9155\n",
      "Epoch 33/100\n",
      "75/75 [==============================] - 2s 26ms/step - loss: 0.2703 - accuracy: 0.9224 - val_loss: 0.2920 - val_accuracy: 0.9165\n",
      "Epoch 34/100\n",
      "75/75 [==============================] - 2s 26ms/step - loss: 0.2666 - accuracy: 0.9228 - val_loss: 0.2912 - val_accuracy: 0.9170\n",
      "Epoch 35/100\n",
      "75/75 [==============================] - 2s 26ms/step - loss: 0.2628 - accuracy: 0.9242 - val_loss: 0.2925 - val_accuracy: 0.9185\n",
      "Epoch 36/100\n",
      "75/75 [==============================] - 2s 26ms/step - loss: 0.2597 - accuracy: 0.9250 - val_loss: 0.2816 - val_accuracy: 0.9202\n",
      "Epoch 37/100\n",
      "75/75 [==============================] - 2s 26ms/step - loss: 0.2554 - accuracy: 0.9266 - val_loss: 0.2813 - val_accuracy: 0.9201\n",
      "Epoch 38/100\n",
      "75/75 [==============================] - 2s 26ms/step - loss: 0.2537 - accuracy: 0.9269 - val_loss: 0.2805 - val_accuracy: 0.9225\n",
      "Epoch 39/100\n",
      "75/75 [==============================] - 2s 26ms/step - loss: 0.2497 - accuracy: 0.9283 - val_loss: 0.2857 - val_accuracy: 0.9211\n",
      "Epoch 40/100\n",
      "75/75 [==============================] - 2s 26ms/step - loss: 0.2521 - accuracy: 0.9273 - val_loss: 0.2711 - val_accuracy: 0.9246\n",
      "Epoch 41/100\n",
      "75/75 [==============================] - 2s 26ms/step - loss: 0.2464 - accuracy: 0.9294 - val_loss: 0.2836 - val_accuracy: 0.9215\n",
      "Epoch 42/100\n",
      "75/75 [==============================] - 2s 26ms/step - loss: 0.2434 - accuracy: 0.9307 - val_loss: 0.2722 - val_accuracy: 0.9239\n",
      "Epoch 43/100\n",
      "75/75 [==============================] - 2s 26ms/step - loss: 0.2453 - accuracy: 0.9298 - val_loss: 0.2853 - val_accuracy: 0.9213\n",
      "Epoch 44/100\n",
      "75/75 [==============================] - 2s 26ms/step - loss: 0.2366 - accuracy: 0.9321 - val_loss: 0.2647 - val_accuracy: 0.9252\n",
      "Epoch 45/100\n",
      "75/75 [==============================] - 2s 26ms/step - loss: 0.2378 - accuracy: 0.9316 - val_loss: 0.2687 - val_accuracy: 0.9239\n",
      "Epoch 46/100\n",
      "75/75 [==============================] - 2s 26ms/step - loss: 0.2332 - accuracy: 0.9333 - val_loss: 0.2589 - val_accuracy: 0.9272\n",
      "Epoch 47/100\n",
      "75/75 [==============================] - 2s 26ms/step - loss: 0.2296 - accuracy: 0.9342 - val_loss: 0.2665 - val_accuracy: 0.9270\n",
      "Epoch 48/100\n",
      "75/75 [==============================] - 2s 26ms/step - loss: 0.2291 - accuracy: 0.9346 - val_loss: 0.2656 - val_accuracy: 0.9255\n",
      "Epoch 49/100\n",
      "75/75 [==============================] - 2s 26ms/step - loss: 0.2298 - accuracy: 0.9344 - val_loss: 0.2674 - val_accuracy: 0.9246\n",
      "Epoch 50/100\n",
      "75/75 [==============================] - 2s 26ms/step - loss: 0.2284 - accuracy: 0.9347 - val_loss: 0.2583 - val_accuracy: 0.9270\n",
      "Epoch 51/100\n",
      "75/75 [==============================] - 2s 26ms/step - loss: 0.2289 - accuracy: 0.9347 - val_loss: 0.2566 - val_accuracy: 0.9278\n",
      "Epoch 52/100\n",
      "75/75 [==============================] - 2s 26ms/step - loss: 0.2227 - accuracy: 0.9360 - val_loss: 0.2664 - val_accuracy: 0.9274\n",
      "Epoch 53/100\n",
      "75/75 [==============================] - 2s 26ms/step - loss: 0.2257 - accuracy: 0.9357 - val_loss: 0.2566 - val_accuracy: 0.9280\n",
      "Epoch 54/100\n",
      "75/75 [==============================] - 2s 26ms/step - loss: 0.2210 - accuracy: 0.9366 - val_loss: 0.2545 - val_accuracy: 0.9283\n",
      "Epoch 55/100\n",
      "75/75 [==============================] - 2s 26ms/step - loss: 0.2168 - accuracy: 0.9384 - val_loss: 0.2489 - val_accuracy: 0.9305\n",
      "Epoch 56/100\n",
      "75/75 [==============================] - 2s 26ms/step - loss: 0.2158 - accuracy: 0.9383 - val_loss: 0.2534 - val_accuracy: 0.9296\n",
      "Epoch 57/100\n",
      "75/75 [==============================] - 2s 26ms/step - loss: 0.2189 - accuracy: 0.9379 - val_loss: 0.2559 - val_accuracy: 0.9285\n",
      "Epoch 58/100\n"
     ]
    },
    {
     "name": "stdout",
     "output_type": "stream",
     "text": [
      "75/75 [==============================] - 2s 26ms/step - loss: 0.2111 - accuracy: 0.9400 - val_loss: 0.2457 - val_accuracy: 0.9318\n",
      "Epoch 59/100\n",
      "75/75 [==============================] - 2s 26ms/step - loss: 0.2111 - accuracy: 0.9397 - val_loss: 0.2409 - val_accuracy: 0.9326\n",
      "Epoch 60/100\n",
      "75/75 [==============================] - 2s 26ms/step - loss: 0.2110 - accuracy: 0.9398 - val_loss: 0.2507 - val_accuracy: 0.9303\n",
      "Epoch 61/100\n",
      "75/75 [==============================] - 2s 26ms/step - loss: 0.2096 - accuracy: 0.9401 - val_loss: 0.2478 - val_accuracy: 0.9316\n",
      "Epoch 62/100\n",
      "75/75 [==============================] - 2s 26ms/step - loss: 0.2071 - accuracy: 0.9411 - val_loss: 0.2477 - val_accuracy: 0.9311\n",
      "Epoch 63/100\n",
      "75/75 [==============================] - 2s 26ms/step - loss: 0.2071 - accuracy: 0.9416 - val_loss: 0.2452 - val_accuracy: 0.9322\n",
      "Epoch 64/100\n",
      "75/75 [==============================] - 2s 26ms/step - loss: 0.2109 - accuracy: 0.9406 - val_loss: 0.2470 - val_accuracy: 0.9325\n",
      "Epoch 65/100\n",
      "75/75 [==============================] - 2s 26ms/step - loss: 0.2002 - accuracy: 0.9433 - val_loss: 0.2471 - val_accuracy: 0.9323\n",
      "Epoch 66/100\n",
      "75/75 [==============================] - 2s 26ms/step - loss: 0.2030 - accuracy: 0.9423 - val_loss: 0.2423 - val_accuracy: 0.9329\n",
      "Epoch 67/100\n",
      "75/75 [==============================] - 2s 26ms/step - loss: 0.2031 - accuracy: 0.9421 - val_loss: 0.2455 - val_accuracy: 0.9325\n",
      "Epoch 68/100\n",
      "75/75 [==============================] - 2s 26ms/step - loss: 0.1998 - accuracy: 0.9433 - val_loss: 0.2351 - val_accuracy: 0.9344\n",
      "Epoch 69/100\n",
      "75/75 [==============================] - 2s 26ms/step - loss: 0.1993 - accuracy: 0.9435 - val_loss: 0.2450 - val_accuracy: 0.9329\n",
      "Epoch 70/100\n",
      "75/75 [==============================] - 2s 26ms/step - loss: 0.2040 - accuracy: 0.9421 - val_loss: 0.2402 - val_accuracy: 0.9334\n",
      "Epoch 71/100\n",
      "75/75 [==============================] - 2s 26ms/step - loss: 0.1978 - accuracy: 0.9437 - val_loss: 0.2423 - val_accuracy: 0.9331\n",
      "Epoch 72/100\n",
      "75/75 [==============================] - 2s 27ms/step - loss: 0.1925 - accuracy: 0.9455 - val_loss: 0.2418 - val_accuracy: 0.9341\n",
      "Epoch 73/100\n",
      "75/75 [==============================] - 2s 27ms/step - loss: 0.1930 - accuracy: 0.9452 - val_loss: 0.2392 - val_accuracy: 0.9344\n",
      "Epoch 74/100\n",
      "75/75 [==============================] - 2s 28ms/step - loss: 0.1951 - accuracy: 0.9443 - val_loss: 0.2391 - val_accuracy: 0.9346\n",
      "Epoch 75/100\n",
      "75/75 [==============================] - 2s 26ms/step - loss: 0.1906 - accuracy: 0.9459 - val_loss: 0.2342 - val_accuracy: 0.9362\n",
      "Epoch 76/100\n",
      "75/75 [==============================] - 2s 27ms/step - loss: 0.1922 - accuracy: 0.9459 - val_loss: 0.2341 - val_accuracy: 0.9354\n",
      "Epoch 77/100\n",
      "75/75 [==============================] - 2s 31ms/step - loss: 0.2343 - accuracy: 0.9361 - val_loss: 0.2462 - val_accuracy: 0.9315\n",
      "Epoch 78/100\n",
      "75/75 [==============================] - 2s 29ms/step - loss: 0.1928 - accuracy: 0.9456 - val_loss: 0.2301 - val_accuracy: 0.9365\n",
      "Epoch 79/100\n",
      "75/75 [==============================] - 2s 28ms/step - loss: 0.1894 - accuracy: 0.9464 - val_loss: 0.2380 - val_accuracy: 0.9346\n",
      "Epoch 80/100\n",
      "75/75 [==============================] - 2s 26ms/step - loss: 0.1881 - accuracy: 0.9468 - val_loss: 0.2345 - val_accuracy: 0.9354\n",
      "Epoch 81/100\n",
      "75/75 [==============================] - 2s 26ms/step - loss: 0.1853 - accuracy: 0.9475 - val_loss: 0.2339 - val_accuracy: 0.9363\n",
      "Epoch 82/100\n",
      "75/75 [==============================] - 2s 30ms/step - loss: 0.1839 - accuracy: 0.9481 - val_loss: 0.2283 - val_accuracy: 0.9370\n",
      "Epoch 83/100\n",
      "75/75 [==============================] - 2s 28ms/step - loss: 0.1858 - accuracy: 0.9473 - val_loss: 0.2335 - val_accuracy: 0.9370\n",
      "Epoch 84/100\n",
      "75/75 [==============================] - 2s 26ms/step - loss: 0.1834 - accuracy: 0.9485 - val_loss: 0.2330 - val_accuracy: 0.9359\n",
      "Epoch 85/100\n",
      "75/75 [==============================] - 2s 26ms/step - loss: 0.1805 - accuracy: 0.9491 - val_loss: 0.2268 - val_accuracy: 0.9378\n",
      "Epoch 86/100\n",
      "75/75 [==============================] - 2s 26ms/step - loss: 0.1811 - accuracy: 0.9490 - val_loss: 0.2359 - val_accuracy: 0.9351\n",
      "Epoch 87/100\n",
      "75/75 [==============================] - 2s 26ms/step - loss: 0.1852 - accuracy: 0.9477 - val_loss: 0.2320 - val_accuracy: 0.9363\n",
      "Epoch 88/100\n",
      "75/75 [==============================] - 2s 26ms/step - loss: 0.1801 - accuracy: 0.9491 - val_loss: 0.2297 - val_accuracy: 0.9371\n",
      "Epoch 89/100\n",
      "75/75 [==============================] - 2s 26ms/step - loss: 0.1816 - accuracy: 0.9485 - val_loss: 0.2323 - val_accuracy: 0.9375\n",
      "Epoch 90/100\n",
      "75/75 [==============================] - 2s 26ms/step - loss: 0.1789 - accuracy: 0.9499 - val_loss: 0.2315 - val_accuracy: 0.9384\n",
      "Epoch 91/100\n",
      "75/75 [==============================] - 2s 26ms/step - loss: 0.1786 - accuracy: 0.9496 - val_loss: 0.2271 - val_accuracy: 0.9386\n",
      "Epoch 92/100\n",
      "75/75 [==============================] - 2s 29ms/step - loss: 0.1781 - accuracy: 0.9499 - val_loss: 0.2305 - val_accuracy: 0.9383\n",
      "Epoch 93/100\n",
      "75/75 [==============================] - 2s 31ms/step - loss: 0.1811 - accuracy: 0.9490 - val_loss: 0.2337 - val_accuracy: 0.9364\n",
      "Epoch 94/100\n",
      "75/75 [==============================] - 2s 31ms/step - loss: 0.1791 - accuracy: 0.9494 - val_loss: 0.2338 - val_accuracy: 0.9375\n",
      "Epoch 95/100\n",
      "75/75 [==============================] - 2s 27ms/step - loss: 0.1751 - accuracy: 0.9507 - val_loss: 0.2246 - val_accuracy: 0.9385\n",
      "Epoch 96/100\n",
      "75/75 [==============================] - 2s 26ms/step - loss: 0.1757 - accuracy: 0.9502 - val_loss: 0.2331 - val_accuracy: 0.9384\n",
      "Epoch 97/100\n",
      "75/75 [==============================] - 2s 28ms/step - loss: 0.1724 - accuracy: 0.9515 - val_loss: 0.2313 - val_accuracy: 0.9386\n",
      "Epoch 98/100\n",
      "75/75 [==============================] - 2s 26ms/step - loss: 0.1759 - accuracy: 0.9503 - val_loss: 0.2239 - val_accuracy: 0.9392\n",
      "Epoch 99/100\n",
      "75/75 [==============================] - 2s 26ms/step - loss: 0.1713 - accuracy: 0.9517 - val_loss: 0.2214 - val_accuracy: 0.9403\n",
      "Epoch 100/100\n",
      "75/75 [==============================] - 2s 26ms/step - loss: 0.1706 - accuracy: 0.9520 - val_loss: 0.2305 - val_accuracy: 0.9372\n"
     ]
    }
   ],
   "source": [
    "history = model.fit(X_train, y_train, batch_size=4056, epochs=100, validation_data = (X_test, y_test))"
   ]
  },
  {
   "cell_type": "markdown",
   "id": "ffed59b1",
   "metadata": {},
   "source": [
    "# 4.Evaluate Network"
   ]
  },
  {
   "cell_type": "markdown",
   "id": "28731190",
   "metadata": {},
   "source": [
    "## 4.1. Plotting Loss and Accuracy"
   ]
  },
  {
   "cell_type": "code",
   "execution_count": 24,
   "id": "971e6040",
   "metadata": {},
   "outputs": [
    {
     "data": {
      "text/plain": [
       "Text(0.5, 1.0, 'Loss Curve of Deep Neural Netowork')"
      ]
     },
     "execution_count": 24,
     "metadata": {},
     "output_type": "execute_result"
    },
    {
     "data": {
      "image/png": "[encoded data removed]",
      "text/plain": [
       "<Figure size 432x288 with 1 Axes>"
      ]
     },
     "metadata": {
      "needs_background": "light"
     },
     "output_type": "display_data"
    }
   ],
   "source": [
    "#Loss Curve\n",
    "\n",
    "\n",
    "plt.plot(figsize = [8,6])\n",
    "\n",
    "plt.plot(history.history['loss'],'r',linewidth = 3.0)\n",
    "plt.plot(history.history['val_loss'],'b',linewidth = 3.0)\n",
    "\n",
    "plt.legend(['Training Loss', 'Validation Loss'], fontsize = 18)\n",
    "\n",
    "plt.xlabel('Epochs', fontsize = 16)\n",
    "plt.ylabel('Loss', fontsize = 16)\n",
    "\n",
    "plt.title('Loss Curve of Deep Neural Netowork' , fontsize = 16 )\n",
    "\n"
   ]
  },
  {
   "cell_type": "code",
   "execution_count": 25,
   "id": "b0c193ec",
   "metadata": {},
   "outputs": [
    {
     "data": {
      "text/plain": [
       "Text(0.5, 1.0, 'Accuracy Curve of Deep Neural Netowork')"
      ]
     },
     "execution_count": 25,
     "metadata": {},
     "output_type": "execute_result"
    },
    {
     "data": {
      "image/png": "[encoded data removed]",
      "text/plain": [
       "<Figure size 432x288 with 1 Axes>"
      ]
     },
     "metadata": {
      "needs_background": "light"
     },
     "output_type": "display_data"
    }
   ],
   "source": [
    "#Accuracy Curve\n",
    "\n",
    "plt.plot(figsize = [8,6])\n",
    "plt.plot(history.history['accuracy'],'r',linewidth = 3.0)\n",
    "plt.plot(history.history['val_accuracy'],'b',linewidth = 3.0)\n",
    "\n",
    "plt.legend(['Training Accuracy', 'Validation Accuracy'], fontsize = 18)\n",
    "\n",
    "plt.xlabel('Epochs', fontsize = 16)\n",
    "plt.ylabel('Accuracy', fontsize = 16)\n",
    "\n",
    "\n",
    "plt.title('Accuracy Curve of Deep Neural Netowork' , fontsize = 16 )"
   ]
  },
  {
   "cell_type": "markdown",
   "id": "741a02aa",
   "metadata": {},
   "source": [
    "##  4.2 Make Predictions"
   ]
  },
  {
   "cell_type": "code",
   "execution_count": 26,
   "id": "e8465627",
   "metadata": {},
   "outputs": [],
   "source": [
    "predictions = model.predict(X_test)\n",
    "predictions = np.argmax(predictions, axis = 1)"
   ]
  },
  {
   "cell_type": "code",
   "execution_count": 27,
   "id": "3cac1a50",
   "metadata": {},
   "outputs": [
    {
     "data": {
      "text/plain": [
       "array([ 0, 19,  0, ..., 12,  0,  3], dtype=int64)"
      ]
     },
     "execution_count": 27,
     "metadata": {},
     "output_type": "execute_result"
    }
   ],
   "source": [
    "predictions"
   ]
  },
  {
   "cell_type": "markdown",
   "id": "70d666bb",
   "metadata": {},
   "source": [
    "#### Transforming from One Hot Encoding"
   ]
  },
  {
   "cell_type": "code",
   "execution_count": 28,
   "id": "7234b6e7",
   "metadata": {},
   "outputs": [
    {
     "data": {
      "text/plain": [
       "19"
      ]
     },
     "execution_count": 28,
     "metadata": {},
     "output_type": "execute_result"
    }
   ],
   "source": [
    "y_test =np.argmax(y_test, axis=1)\n",
    "y_test[1]"
   ]
  },
  {
   "cell_type": "code",
   "execution_count": 29,
   "id": "6278820d",
   "metadata": {},
   "outputs": [
    {
     "name": "stdout",
     "output_type": "stream",
     "text": [
      "Accuracy is: 93.71656517891344\n"
     ]
    }
   ],
   "source": [
    "from sklearn.metrics import accuracy_score\n",
    "accuracy = {accuracy_score(y_test, predictions)}\n",
    "print(f\"Accuracy is: {accuracy_score(y_test, predictions)* 100}\")"
   ]
  },
  {
   "cell_type": "markdown",
   "id": "eb044ea1",
   "metadata": {},
   "source": [
    "## 4.3 Classification Report"
   ]
  },
  {
   "cell_type": "code",
   "execution_count": 30,
   "id": "001ebc5a",
   "metadata": {},
   "outputs": [
    {
     "name": "stdout",
     "output_type": "stream",
     "text": [
      "\u001b[1mClassification report : \u001b[0m\n",
      "               precision    recall  f1-score   support\n",
      "\n",
      "           0       0.94      0.99      0.96     40005\n",
      "           1       0.92      0.88      0.90      2108\n",
      "           2       0.94      0.87      0.90      1923\n",
      "           3       0.94      0.84      0.88      2110\n",
      "           4       0.89      0.89      0.89      1957\n",
      "           5       0.92      0.90      0.91      2046\n",
      "           6       0.91      0.90      0.90      2187\n",
      "           7       0.92      0.89      0.91      1753\n",
      "           8       0.91      0.85      0.88      1740\n",
      "           9       0.88      0.90      0.89      1876\n",
      "          10       0.97      0.80      0.88      2030\n",
      "          11       0.92      0.85      0.89      1940\n",
      "          12       0.91      0.77      0.84      2123\n",
      "          13       0.93      0.91      0.92      1332\n",
      "          14       0.94      0.87      0.90      1226\n",
      "          15       0.95      0.87      0.91      1161\n",
      "          16       0.98      0.88      0.92      1543\n",
      "          17       0.94      0.89      0.91      1603\n",
      "          18       0.90      0.97      0.93       821\n",
      "          19       0.98      0.93      0.95       766\n",
      "          20       0.98      0.98      0.98       798\n",
      "          21       0.97      0.95      0.96       889\n",
      "          22       0.99      0.97      0.98       876\n",
      "          23       0.99      0.98      0.98       894\n",
      "\n",
      "    accuracy                           0.94     75707\n",
      "   macro avg       0.94      0.90      0.92     75707\n",
      "weighted avg       0.94      0.94      0.94     75707\n",
      "\n",
      "\u001b[1mConfusion Matrix : \u001b[0m\n"
     ]
    },
    {
     "data": {
      "image/png": "[encoded data removed]",
      "text/plain": [
       "<Figure size 432x288 with 2 Axes>"
      ]
     },
     "metadata": {
      "needs_background": "light"
     },
     "output_type": "display_data"
    }
   ],
   "source": [
    "from sklearn.metrics import confusion_matrix, f1_score, accuracy_score, classification_report\n",
    "print('\\033[1m' +'Classification report : '+ '\\033[0m\\n', classification_report(y_test, predictions))\n",
    "\n",
    "cm = confusion_matrix(predictions, y_test)\n",
    "print('\\033[1m' +'Confusion Matrix : '+ '\\033[0m')\n",
    "sns.heatmap(cm, cmap = 'OrRd',annot = True, fmt='d')\n",
    "plt.show()"
   ]
  },
  {
   "cell_type": "markdown",
   "id": "eaa5e512",
   "metadata": {},
   "source": [
    "## 4.4 Evaluation"
   ]
  },
  {
   "cell_type": "code",
   "execution_count": 31,
   "id": "9e469f86",
   "metadata": {},
   "outputs": [
    {
     "name": "stdout",
     "output_type": "stream",
     "text": [
      "MAE: 0.4260768489043285\n",
      "MSE: 4.394058673570476\n",
      "RMSE: 2.096201009820021\n"
     ]
    }
   ],
   "source": [
    "from sklearn import metrics\n",
    "\n",
    "print('MAE:', metrics.mean_absolute_error(y_test,predictions))\n",
    "print('MSE:', metrics.mean_squared_error(y_test, predictions))\n",
    "print('RMSE:', np.sqrt(metrics.mean_squared_error(y_test, predictions)))"
   ]
  },
  {
   "cell_type": "code",
   "execution_count": 32,
   "id": "dff2a82d",
   "metadata": {},
   "outputs": [
    {
     "name": "stdout",
     "output_type": "stream",
     "text": [
      "Precision Score :  0.9371982424858867\n",
      "Recall Score :  0.9371656517891345\n",
      "f1_score :  0.9361674969982968\n"
     ]
    }
   ],
   "source": [
    "from sklearn.metrics import precision_score\n",
    "print(\"Precision Score : \",precision_score(y_test, predictions, average='weighted'))\n",
    "\n",
    "\n",
    "from sklearn.metrics import recall_score\n",
    "print(\"Recall Score : \",recall_score(y_test, predictions,average='weighted'))\n",
    "\n",
    "\n",
    "from sklearn.metrics import f1_score\n",
    "print(\"f1_score : \",f1_score(y_test, predictions,average='weighted'))"
   ]
  },
  {
   "cell_type": "code",
   "execution_count": null,
   "id": "81ac7468",
   "metadata": {},
   "outputs": [],
   "source": []
  },
  {
   "cell_type": "code",
   "execution_count": null,
   "id": "71a4c6e0",
   "metadata": {},
   "outputs": [],
   "source": []
  }
 ],
 "metadata": {
  "kernelspec": {
   "display_name": "Python 3 (ipykernel)",
   "language": "python",
   "name": "python3"
  },
  "language_info": {
   "codemirror_mode": {
    "name": "ipython",
    "version": 3
   },
   "file_extension": ".py",
   "mimetype": "text/x-python",
   "name": "python",
   "nbconvert_exporter": "python",
   "pygments_lexer": "ipython3",
   "version": "3.8.12"
  }
 },
 "nbformat": 4,
 "nbformat_minor": 5
}
