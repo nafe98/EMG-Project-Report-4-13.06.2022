{
 "cells": [
  {
   "cell_type": "markdown",
   "id": "bf8ee932",
   "metadata": {},
   "source": [
    "# Importing Libraries"
   ]
  },
  {
   "cell_type": "code",
   "execution_count": 1,
   "id": "0f663fa8",
   "metadata": {},
   "outputs": [],
   "source": [
    "import numpy as np\n",
    "import pandas as pd\n",
    "import matplotlib.pyplot as plt\n",
    "import seaborn as sns\n",
    "from sklearn.model_selection import train_test_split"
   ]
  },
  {
   "cell_type": "markdown",
   "id": "511af272",
   "metadata": {},
   "source": [
    "# Loading Data"
   ]
  },
  {
   "cell_type": "code",
   "execution_count": 2,
   "id": "04fd19b0",
   "metadata": {},
   "outputs": [
    {
     "data": {
      "text/html": [
       "<div>\n",
       "<style scoped>\n",
       "    .dataframe tbody tr th:only-of-type {\n",
       "        vertical-align: middle;\n",
       "    }\n",
       "\n",
       "    .dataframe tbody tr th {\n",
       "        vertical-align: top;\n",
       "    }\n",
       "\n",
       "    .dataframe thead th {\n",
       "        text-align: right;\n",
       "    }\n",
       "</style>\n",
       "<table border=\"1\" class=\"dataframe\">\n",
       "  <thead>\n",
       "    <tr style=\"text-align: right;\">\n",
       "      <th></th>\n",
       "      <th>Emg1</th>\n",
       "      <th>Emg2</th>\n",
       "      <th>Emg3</th>\n",
       "      <th>Emg4</th>\n",
       "      <th>Emg5</th>\n",
       "      <th>Emg6</th>\n",
       "      <th>Emg7</th>\n",
       "      <th>Emg8</th>\n",
       "      <th>Emg9</th>\n",
       "      <th>Emg10</th>\n",
       "      <th>repetition</th>\n",
       "      <th>rerepetition</th>\n",
       "      <th>stimulus</th>\n",
       "      <th>restimulus</th>\n",
       "    </tr>\n",
       "  </thead>\n",
       "  <tbody>\n",
       "    <tr>\n",
       "      <th>122031</th>\n",
       "      <td>0.0122</td>\n",
       "      <td>0.0024</td>\n",
       "      <td>0.0024</td>\n",
       "      <td>0.0024</td>\n",
       "      <td>0.0024</td>\n",
       "      <td>0.0024</td>\n",
       "      <td>0.0024</td>\n",
       "      <td>0.0024</td>\n",
       "      <td>0.0024</td>\n",
       "      <td>0.0024</td>\n",
       "      <td>0</td>\n",
       "      <td>0</td>\n",
       "      <td>0</td>\n",
       "      <td>0</td>\n",
       "    </tr>\n",
       "    <tr>\n",
       "      <th>159146</th>\n",
       "      <td>0.0024</td>\n",
       "      <td>0.0024</td>\n",
       "      <td>0.0024</td>\n",
       "      <td>0.0024</td>\n",
       "      <td>0.0024</td>\n",
       "      <td>0.0024</td>\n",
       "      <td>0.0757</td>\n",
       "      <td>0.0879</td>\n",
       "      <td>0.0024</td>\n",
       "      <td>0.0244</td>\n",
       "      <td>10</td>\n",
       "      <td>10</td>\n",
       "      <td>7</td>\n",
       "      <td>7</td>\n",
       "    </tr>\n",
       "    <tr>\n",
       "      <th>132763</th>\n",
       "      <td>0.0073</td>\n",
       "      <td>0.0024</td>\n",
       "      <td>0.0024</td>\n",
       "      <td>0.0024</td>\n",
       "      <td>0.0024</td>\n",
       "      <td>0.0024</td>\n",
       "      <td>0.0024</td>\n",
       "      <td>0.0024</td>\n",
       "      <td>0.0024</td>\n",
       "      <td>0.0024</td>\n",
       "      <td>0</td>\n",
       "      <td>0</td>\n",
       "      <td>0</td>\n",
       "      <td>0</td>\n",
       "    </tr>\n",
       "    <tr>\n",
       "      <th>25479</th>\n",
       "      <td>0.0024</td>\n",
       "      <td>0.0024</td>\n",
       "      <td>0.0024</td>\n",
       "      <td>0.0024</td>\n",
       "      <td>0.0024</td>\n",
       "      <td>0.0024</td>\n",
       "      <td>0.0513</td>\n",
       "      <td>0.1318</td>\n",
       "      <td>0.0024</td>\n",
       "      <td>0.1489</td>\n",
       "      <td>1</td>\n",
       "      <td>0</td>\n",
       "      <td>4</td>\n",
       "      <td>0</td>\n",
       "    </tr>\n",
       "    <tr>\n",
       "      <th>271105</th>\n",
       "      <td>0.0024</td>\n",
       "      <td>0.1221</td>\n",
       "      <td>0.0732</td>\n",
       "      <td>0.0024</td>\n",
       "      <td>0.0024</td>\n",
       "      <td>0.0146</td>\n",
       "      <td>0.2490</td>\n",
       "      <td>0.5005</td>\n",
       "      <td>0.0415</td>\n",
       "      <td>0.1636</td>\n",
       "      <td>0</td>\n",
       "      <td>0</td>\n",
       "      <td>0</td>\n",
       "      <td>0</td>\n",
       "    </tr>\n",
       "  </tbody>\n",
       "</table>\n",
       "</div>"
      ],
      "text/plain": [
       "          Emg1    Emg2    Emg3    Emg4    Emg5    Emg6    Emg7    Emg8  \\\n",
       "122031  0.0122  0.0024  0.0024  0.0024  0.0024  0.0024  0.0024  0.0024   \n",
       "159146  0.0024  0.0024  0.0024  0.0024  0.0024  0.0024  0.0757  0.0879   \n",
       "132763  0.0073  0.0024  0.0024  0.0024  0.0024  0.0024  0.0024  0.0024   \n",
       "25479   0.0024  0.0024  0.0024  0.0024  0.0024  0.0024  0.0513  0.1318   \n",
       "271105  0.0024  0.1221  0.0732  0.0024  0.0024  0.0146  0.2490  0.5005   \n",
       "\n",
       "          Emg9   Emg10  repetition  rerepetition  stimulus  restimulus  \n",
       "122031  0.0024  0.0024           0             0         0           0  \n",
       "159146  0.0024  0.0244          10            10         7           7  \n",
       "132763  0.0024  0.0024           0             0         0           0  \n",
       "25479   0.0024  0.1489           1             0         4           0  \n",
       "271105  0.0415  0.1636           0             0         0           0  "
      ]
     },
     "execution_count": 2,
     "metadata": {},
     "output_type": "execute_result"
    }
   ],
   "source": [
    "raw_data = pd.read_excel('Dataset 1 Patient 8.xlsx')\n",
    "raw_data.sample(5)"
   ]
  },
  {
   "cell_type": "code",
   "execution_count": 3,
   "id": "80369ddb",
   "metadata": {},
   "outputs": [
    {
     "name": "stdout",
     "output_type": "stream",
     "text": [
      "<class 'pandas.core.frame.DataFrame'>\n",
      "RangeIndex: 449730 entries, 0 to 449729\n",
      "Data columns (total 14 columns):\n",
      " #   Column        Non-Null Count   Dtype  \n",
      "---  ------        --------------   -----  \n",
      " 0   Emg1          449730 non-null  float64\n",
      " 1   Emg2          449730 non-null  float64\n",
      " 2   Emg3          449730 non-null  float64\n",
      " 3   Emg4          449730 non-null  float64\n",
      " 4   Emg5          449730 non-null  float64\n",
      " 5   Emg6          449730 non-null  float64\n",
      " 6   Emg7          449730 non-null  float64\n",
      " 7   Emg8          449730 non-null  float64\n",
      " 8   Emg9          449730 non-null  float64\n",
      " 9   Emg10         449730 non-null  float64\n",
      " 10  repetition    449730 non-null  int64  \n",
      " 11  rerepetition  449730 non-null  int64  \n",
      " 12  stimulus      449730 non-null  int64  \n",
      " 13  restimulus    449730 non-null  int64  \n",
      "dtypes: float64(10), int64(4)\n",
      "memory usage: 48.0 MB\n"
     ]
    }
   ],
   "source": [
    "raw_data.info()"
   ]
  },
  {
   "cell_type": "code",
   "execution_count": 4,
   "id": "109445f8",
   "metadata": {},
   "outputs": [
    {
     "data": {
      "text/html": [
       "<div>\n",
       "<style scoped>\n",
       "    .dataframe tbody tr th:only-of-type {\n",
       "        vertical-align: middle;\n",
       "    }\n",
       "\n",
       "    .dataframe tbody tr th {\n",
       "        vertical-align: top;\n",
       "    }\n",
       "\n",
       "    .dataframe thead th {\n",
       "        text-align: right;\n",
       "    }\n",
       "</style>\n",
       "<table border=\"1\" class=\"dataframe\">\n",
       "  <thead>\n",
       "    <tr style=\"text-align: right;\">\n",
       "      <th></th>\n",
       "      <th>Emg1</th>\n",
       "      <th>Emg2</th>\n",
       "      <th>Emg3</th>\n",
       "      <th>Emg4</th>\n",
       "      <th>Emg5</th>\n",
       "      <th>Emg6</th>\n",
       "      <th>Emg7</th>\n",
       "      <th>Emg8</th>\n",
       "      <th>Emg9</th>\n",
       "      <th>Emg10</th>\n",
       "      <th>repetition</th>\n",
       "      <th>rerepetition</th>\n",
       "      <th>stimulus</th>\n",
       "      <th>restimulus</th>\n",
       "    </tr>\n",
       "  </thead>\n",
       "  <tbody>\n",
       "    <tr>\n",
       "      <th>count</th>\n",
       "      <td>449730.000000</td>\n",
       "      <td>449730.000000</td>\n",
       "      <td>449730.000000</td>\n",
       "      <td>449730.000000</td>\n",
       "      <td>449730.000000</td>\n",
       "      <td>449730.000000</td>\n",
       "      <td>449730.000000</td>\n",
       "      <td>449730.000000</td>\n",
       "      <td>449730.000000</td>\n",
       "      <td>449730.000000</td>\n",
       "      <td>449730.000000</td>\n",
       "      <td>449730.000000</td>\n",
       "      <td>449730.000000</td>\n",
       "      <td>449730.000000</td>\n",
       "    </tr>\n",
       "    <tr>\n",
       "      <th>mean</th>\n",
       "      <td>0.009672</td>\n",
       "      <td>0.077479</td>\n",
       "      <td>0.072574</td>\n",
       "      <td>0.050732</td>\n",
       "      <td>0.022604</td>\n",
       "      <td>0.050304</td>\n",
       "      <td>0.215483</td>\n",
       "      <td>0.240273</td>\n",
       "      <td>0.077911</td>\n",
       "      <td>0.196562</td>\n",
       "      <td>3.278532</td>\n",
       "      <td>2.272719</td>\n",
       "      <td>5.811698</td>\n",
       "      <td>4.161110</td>\n",
       "    </tr>\n",
       "    <tr>\n",
       "      <th>std</th>\n",
       "      <td>0.014184</td>\n",
       "      <td>0.193192</td>\n",
       "      <td>0.232346</td>\n",
       "      <td>0.150322</td>\n",
       "      <td>0.063215</td>\n",
       "      <td>0.096565</td>\n",
       "      <td>0.406609</td>\n",
       "      <td>0.383662</td>\n",
       "      <td>0.201897</td>\n",
       "      <td>0.360472</td>\n",
       "      <td>3.492835</td>\n",
       "      <td>3.274170</td>\n",
       "      <td>6.608935</td>\n",
       "      <td>6.308636</td>\n",
       "    </tr>\n",
       "    <tr>\n",
       "      <th>min</th>\n",
       "      <td>0.000000</td>\n",
       "      <td>0.000000</td>\n",
       "      <td>0.002400</td>\n",
       "      <td>0.002400</td>\n",
       "      <td>0.002400</td>\n",
       "      <td>0.000000</td>\n",
       "      <td>0.002400</td>\n",
       "      <td>0.002400</td>\n",
       "      <td>0.002400</td>\n",
       "      <td>0.002400</td>\n",
       "      <td>0.000000</td>\n",
       "      <td>0.000000</td>\n",
       "      <td>0.000000</td>\n",
       "      <td>0.000000</td>\n",
       "    </tr>\n",
       "    <tr>\n",
       "      <th>25%</th>\n",
       "      <td>0.002400</td>\n",
       "      <td>0.002400</td>\n",
       "      <td>0.002400</td>\n",
       "      <td>0.002400</td>\n",
       "      <td>0.002400</td>\n",
       "      <td>0.002400</td>\n",
       "      <td>0.002400</td>\n",
       "      <td>0.031700</td>\n",
       "      <td>0.002400</td>\n",
       "      <td>0.002400</td>\n",
       "      <td>0.000000</td>\n",
       "      <td>0.000000</td>\n",
       "      <td>0.000000</td>\n",
       "      <td>0.000000</td>\n",
       "    </tr>\n",
       "    <tr>\n",
       "      <th>50%</th>\n",
       "      <td>0.002400</td>\n",
       "      <td>0.002400</td>\n",
       "      <td>0.002400</td>\n",
       "      <td>0.002400</td>\n",
       "      <td>0.002400</td>\n",
       "      <td>0.004900</td>\n",
       "      <td>0.080600</td>\n",
       "      <td>0.100100</td>\n",
       "      <td>0.002400</td>\n",
       "      <td>0.046400</td>\n",
       "      <td>2.000000</td>\n",
       "      <td>0.000000</td>\n",
       "      <td>3.000000</td>\n",
       "      <td>0.000000</td>\n",
       "    </tr>\n",
       "    <tr>\n",
       "      <th>75%</th>\n",
       "      <td>0.012200</td>\n",
       "      <td>0.058600</td>\n",
       "      <td>0.029300</td>\n",
       "      <td>0.022000</td>\n",
       "      <td>0.007300</td>\n",
       "      <td>0.061000</td>\n",
       "      <td>0.273400</td>\n",
       "      <td>0.300300</td>\n",
       "      <td>0.053700</td>\n",
       "      <td>0.249000</td>\n",
       "      <td>6.000000</td>\n",
       "      <td>4.000000</td>\n",
       "      <td>11.000000</td>\n",
       "      <td>8.000000</td>\n",
       "    </tr>\n",
       "    <tr>\n",
       "      <th>max</th>\n",
       "      <td>0.820300</td>\n",
       "      <td>3.728000</td>\n",
       "      <td>4.663100</td>\n",
       "      <td>3.754900</td>\n",
       "      <td>1.384300</td>\n",
       "      <td>1.635700</td>\n",
       "      <td>4.665500</td>\n",
       "      <td>4.668000</td>\n",
       "      <td>3.415500</td>\n",
       "      <td>4.663100</td>\n",
       "      <td>10.000000</td>\n",
       "      <td>10.000000</td>\n",
       "      <td>23.000000</td>\n",
       "      <td>23.000000</td>\n",
       "    </tr>\n",
       "  </tbody>\n",
       "</table>\n",
       "</div>"
      ],
      "text/plain": [
       "                Emg1           Emg2           Emg3           Emg4  \\\n",
       "count  449730.000000  449730.000000  449730.000000  449730.000000   \n",
       "mean        0.009672       0.077479       0.072574       0.050732   \n",
       "std         0.014184       0.193192       0.232346       0.150322   \n",
       "min         0.000000       0.000000       0.002400       0.002400   \n",
       "25%         0.002400       0.002400       0.002400       0.002400   \n",
       "50%         0.002400       0.002400       0.002400       0.002400   \n",
       "75%         0.012200       0.058600       0.029300       0.022000   \n",
       "max         0.820300       3.728000       4.663100       3.754900   \n",
       "\n",
       "                Emg5           Emg6           Emg7           Emg8  \\\n",
       "count  449730.000000  449730.000000  449730.000000  449730.000000   \n",
       "mean        0.022604       0.050304       0.215483       0.240273   \n",
       "std         0.063215       0.096565       0.406609       0.383662   \n",
       "min         0.002400       0.000000       0.002400       0.002400   \n",
       "25%         0.002400       0.002400       0.002400       0.031700   \n",
       "50%         0.002400       0.004900       0.080600       0.100100   \n",
       "75%         0.007300       0.061000       0.273400       0.300300   \n",
       "max         1.384300       1.635700       4.665500       4.668000   \n",
       "\n",
       "                Emg9          Emg10     repetition   rerepetition  \\\n",
       "count  449730.000000  449730.000000  449730.000000  449730.000000   \n",
       "mean        0.077911       0.196562       3.278532       2.272719   \n",
       "std         0.201897       0.360472       3.492835       3.274170   \n",
       "min         0.002400       0.002400       0.000000       0.000000   \n",
       "25%         0.002400       0.002400       0.000000       0.000000   \n",
       "50%         0.002400       0.046400       2.000000       0.000000   \n",
       "75%         0.053700       0.249000       6.000000       4.000000   \n",
       "max         3.415500       4.663100      10.000000      10.000000   \n",
       "\n",
       "            stimulus     restimulus  \n",
       "count  449730.000000  449730.000000  \n",
       "mean        5.811698       4.161110  \n",
       "std         6.608935       6.308636  \n",
       "min         0.000000       0.000000  \n",
       "25%         0.000000       0.000000  \n",
       "50%         3.000000       0.000000  \n",
       "75%        11.000000       8.000000  \n",
       "max        23.000000      23.000000  "
      ]
     },
     "execution_count": 4,
     "metadata": {},
     "output_type": "execute_result"
    }
   ],
   "source": [
    "raw_data.describe(include='all')"
   ]
  },
  {
   "cell_type": "code",
   "execution_count": 5,
   "id": "f0b9a2e6",
   "metadata": {},
   "outputs": [
    {
     "name": "stdout",
     "output_type": "stream",
     "text": [
      "Unique Dependent values and their counts :\n",
      "0     181641\n",
      "12     15520\n",
      "2      15500\n",
      "4      15500\n",
      "8      15495\n",
      "7      15494\n",
      "9      15474\n",
      "11     15470\n",
      "6      15458\n",
      "5      15452\n",
      "3      15436\n",
      "10     15417\n",
      "1      15408\n",
      "14     10345\n",
      "13     10336\n",
      "17     10328\n",
      "15     10292\n",
      "16     10267\n",
      "19      5175\n",
      "21      5162\n",
      "18      5160\n",
      "23      5138\n",
      "20      5132\n",
      "22      5130\n",
      "Name: stimulus, dtype: int64\n"
     ]
    }
   ],
   "source": [
    "print(\"Unique Dependent values and their counts :\")\n",
    "print(raw_data[\"stimulus\"].value_counts())"
   ]
  },
  {
   "cell_type": "markdown",
   "id": "54420ec4",
   "metadata": {},
   "source": [
    "# Data Cleaning"
   ]
  },
  {
   "cell_type": "code",
   "execution_count": 6,
   "id": "a811198b",
   "metadata": {},
   "outputs": [],
   "source": [
    "index_names = raw_data[ (raw_data['stimulus'] != raw_data['restimulus'])].index\n",
    "raw_data.drop(index_names, inplace = True)"
   ]
  },
  {
   "cell_type": "code",
   "execution_count": 7,
   "id": "556cd92f",
   "metadata": {},
   "outputs": [],
   "source": [
    "index_names = raw_data[ (raw_data['repetition'] != raw_data['rerepetition'])].index\n",
    "raw_data.drop(index_names, inplace = True)"
   ]
  },
  {
   "cell_type": "code",
   "execution_count": 8,
   "id": "c91744f7",
   "metadata": {},
   "outputs": [],
   "source": [
    "X = raw_data.iloc[:,0:10]\n",
    "y = raw_data.stimulus"
   ]
  },
  {
   "cell_type": "markdown",
   "id": "152f7160",
   "metadata": {},
   "source": [
    "# One Hot Encoding"
   ]
  },
  {
   "cell_type": "code",
   "execution_count": 9,
   "id": "dfb77d24",
   "metadata": {},
   "outputs": [],
   "source": [
    "num_classes = 24"
   ]
  },
  {
   "cell_type": "code",
   "execution_count": 10,
   "id": "be64bf6b",
   "metadata": {},
   "outputs": [],
   "source": [
    "# One hot encoding for categorical labels\n",
    "import keras\n",
    "from keras import utils as np_utils\n",
    "y = keras.utils.np_utils.to_categorical(y, num_classes)"
   ]
  },
  {
   "cell_type": "code",
   "execution_count": 11,
   "id": "c7358f86",
   "metadata": {},
   "outputs": [],
   "source": [
    "input_dim = X.shape[1]"
   ]
  },
  {
   "cell_type": "markdown",
   "id": "cb3088a1",
   "metadata": {},
   "source": [
    "# Standard Scaler"
   ]
  },
  {
   "cell_type": "code",
   "execution_count": 12,
   "id": "5bd820f4",
   "metadata": {},
   "outputs": [],
   "source": [
    "from sklearn.preprocessing import StandardScaler\n",
    "standardscaler=StandardScaler()"
   ]
  },
  {
   "cell_type": "code",
   "execution_count": 13,
   "id": "6a118694",
   "metadata": {},
   "outputs": [],
   "source": [
    "sc = pd.DataFrame(standardscaler.fit_transform(X))"
   ]
  },
  {
   "cell_type": "code",
   "execution_count": 14,
   "id": "d6e2f38b",
   "metadata": {},
   "outputs": [
    {
     "data": {
      "text/html": [
       "<div>\n",
       "<style scoped>\n",
       "    .dataframe tbody tr th:only-of-type {\n",
       "        vertical-align: middle;\n",
       "    }\n",
       "\n",
       "    .dataframe tbody tr th {\n",
       "        vertical-align: top;\n",
       "    }\n",
       "\n",
       "    .dataframe thead th {\n",
       "        text-align: right;\n",
       "    }\n",
       "</style>\n",
       "<table border=\"1\" class=\"dataframe\">\n",
       "  <thead>\n",
       "    <tr style=\"text-align: right;\">\n",
       "      <th></th>\n",
       "      <th>0</th>\n",
       "      <th>1</th>\n",
       "      <th>2</th>\n",
       "      <th>3</th>\n",
       "      <th>4</th>\n",
       "      <th>5</th>\n",
       "      <th>6</th>\n",
       "      <th>7</th>\n",
       "      <th>8</th>\n",
       "      <th>9</th>\n",
       "    </tr>\n",
       "  </thead>\n",
       "  <tbody>\n",
       "    <tr>\n",
       "      <th>0</th>\n",
       "      <td>-0.314571</td>\n",
       "      <td>-0.427617</td>\n",
       "      <td>-0.336982</td>\n",
       "      <td>-0.359104</td>\n",
       "      <td>-0.356387</td>\n",
       "      <td>-0.529994</td>\n",
       "      <td>-0.558357</td>\n",
       "      <td>-0.661987</td>\n",
       "      <td>-0.417034</td>\n",
       "      <td>-0.584954</td>\n",
       "    </tr>\n",
       "    <tr>\n",
       "      <th>1</th>\n",
       "      <td>-0.489546</td>\n",
       "      <td>-0.427617</td>\n",
       "      <td>-0.336982</td>\n",
       "      <td>-0.359104</td>\n",
       "      <td>-0.356387</td>\n",
       "      <td>-0.529994</td>\n",
       "      <td>-0.558357</td>\n",
       "      <td>-0.661987</td>\n",
       "      <td>-0.417034</td>\n",
       "      <td>-0.584954</td>\n",
       "    </tr>\n",
       "    <tr>\n",
       "      <th>2</th>\n",
       "      <td>-0.489546</td>\n",
       "      <td>-0.427617</td>\n",
       "      <td>-0.336982</td>\n",
       "      <td>-0.359104</td>\n",
       "      <td>-0.320341</td>\n",
       "      <td>-0.529994</td>\n",
       "      <td>-0.558357</td>\n",
       "      <td>-0.661987</td>\n",
       "      <td>-0.417034</td>\n",
       "      <td>-0.584954</td>\n",
       "    </tr>\n",
       "    <tr>\n",
       "      <th>3</th>\n",
       "      <td>-0.489546</td>\n",
       "      <td>-0.427617</td>\n",
       "      <td>-0.336982</td>\n",
       "      <td>-0.359104</td>\n",
       "      <td>-0.356387</td>\n",
       "      <td>-0.529994</td>\n",
       "      <td>-0.552692</td>\n",
       "      <td>-0.661987</td>\n",
       "      <td>-0.417034</td>\n",
       "      <td>-0.584954</td>\n",
       "    </tr>\n",
       "    <tr>\n",
       "      <th>4</th>\n",
       "      <td>0.028382</td>\n",
       "      <td>-0.427617</td>\n",
       "      <td>-0.336982</td>\n",
       "      <td>-0.359104</td>\n",
       "      <td>-0.356387</td>\n",
       "      <td>-0.529994</td>\n",
       "      <td>-0.558357</td>\n",
       "      <td>-0.661987</td>\n",
       "      <td>-0.417034</td>\n",
       "      <td>-0.584954</td>\n",
       "    </tr>\n",
       "    <tr>\n",
       "      <th>...</th>\n",
       "      <td>...</td>\n",
       "      <td>...</td>\n",
       "      <td>...</td>\n",
       "      <td>...</td>\n",
       "      <td>...</td>\n",
       "      <td>...</td>\n",
       "      <td>...</td>\n",
       "      <td>...</td>\n",
       "      <td>...</td>\n",
       "      <td>...</td>\n",
       "    </tr>\n",
       "    <tr>\n",
       "      <th>364659</th>\n",
       "      <td>1.393192</td>\n",
       "      <td>-0.427617</td>\n",
       "      <td>-0.336982</td>\n",
       "      <td>-0.359104</td>\n",
       "      <td>-0.356387</td>\n",
       "      <td>-0.529994</td>\n",
       "      <td>-0.558357</td>\n",
       "      <td>-0.450205</td>\n",
       "      <td>-0.417034</td>\n",
       "      <td>-0.584954</td>\n",
       "    </tr>\n",
       "    <tr>\n",
       "      <th>364660</th>\n",
       "      <td>1.561169</td>\n",
       "      <td>-0.415775</td>\n",
       "      <td>-0.336982</td>\n",
       "      <td>-0.359104</td>\n",
       "      <td>-0.356387</td>\n",
       "      <td>-0.529994</td>\n",
       "      <td>-0.547254</td>\n",
       "      <td>-0.420811</td>\n",
       "      <td>-0.417034</td>\n",
       "      <td>-0.584954</td>\n",
       "    </tr>\n",
       "    <tr>\n",
       "      <th>364661</th>\n",
       "      <td>1.225215</td>\n",
       "      <td>-0.381196</td>\n",
       "      <td>-0.336982</td>\n",
       "      <td>-0.359104</td>\n",
       "      <td>-0.356387</td>\n",
       "      <td>-0.529994</td>\n",
       "      <td>-0.525048</td>\n",
       "      <td>-0.344194</td>\n",
       "      <td>-0.417034</td>\n",
       "      <td>-0.584954</td>\n",
       "    </tr>\n",
       "    <tr>\n",
       "      <th>364662</th>\n",
       "      <td>1.050240</td>\n",
       "      <td>-0.392565</td>\n",
       "      <td>-0.336982</td>\n",
       "      <td>-0.359104</td>\n",
       "      <td>-0.356387</td>\n",
       "      <td>-0.529994</td>\n",
       "      <td>-0.525048</td>\n",
       "      <td>-0.314800</td>\n",
       "      <td>-0.417034</td>\n",
       "      <td>-0.584954</td>\n",
       "    </tr>\n",
       "    <tr>\n",
       "      <th>364663</th>\n",
       "      <td>1.050240</td>\n",
       "      <td>-0.323406</td>\n",
       "      <td>-0.336982</td>\n",
       "      <td>-0.359104</td>\n",
       "      <td>-0.356387</td>\n",
       "      <td>-0.529994</td>\n",
       "      <td>-0.530713</td>\n",
       "      <td>-0.261794</td>\n",
       "      <td>-0.417034</td>\n",
       "      <td>-0.584954</td>\n",
       "    </tr>\n",
       "  </tbody>\n",
       "</table>\n",
       "<p>364664 rows × 10 columns</p>\n",
       "</div>"
      ],
      "text/plain": [
       "               0         1         2         3         4         5         6  \\\n",
       "0      -0.314571 -0.427617 -0.336982 -0.359104 -0.356387 -0.529994 -0.558357   \n",
       "1      -0.489546 -0.427617 -0.336982 -0.359104 -0.356387 -0.529994 -0.558357   \n",
       "2      -0.489546 -0.427617 -0.336982 -0.359104 -0.320341 -0.529994 -0.558357   \n",
       "3      -0.489546 -0.427617 -0.336982 -0.359104 -0.356387 -0.529994 -0.552692   \n",
       "4       0.028382 -0.427617 -0.336982 -0.359104 -0.356387 -0.529994 -0.558357   \n",
       "...          ...       ...       ...       ...       ...       ...       ...   \n",
       "364659  1.393192 -0.427617 -0.336982 -0.359104 -0.356387 -0.529994 -0.558357   \n",
       "364660  1.561169 -0.415775 -0.336982 -0.359104 -0.356387 -0.529994 -0.547254   \n",
       "364661  1.225215 -0.381196 -0.336982 -0.359104 -0.356387 -0.529994 -0.525048   \n",
       "364662  1.050240 -0.392565 -0.336982 -0.359104 -0.356387 -0.529994 -0.525048   \n",
       "364663  1.050240 -0.323406 -0.336982 -0.359104 -0.356387 -0.529994 -0.530713   \n",
       "\n",
       "               7         8         9  \n",
       "0      -0.661987 -0.417034 -0.584954  \n",
       "1      -0.661987 -0.417034 -0.584954  \n",
       "2      -0.661987 -0.417034 -0.584954  \n",
       "3      -0.661987 -0.417034 -0.584954  \n",
       "4      -0.661987 -0.417034 -0.584954  \n",
       "...          ...       ...       ...  \n",
       "364659 -0.450205 -0.417034 -0.584954  \n",
       "364660 -0.420811 -0.417034 -0.584954  \n",
       "364661 -0.344194 -0.417034 -0.584954  \n",
       "364662 -0.314800 -0.417034 -0.584954  \n",
       "364663 -0.261794 -0.417034 -0.584954  \n",
       "\n",
       "[364664 rows x 10 columns]"
      ]
     },
     "execution_count": 14,
     "metadata": {},
     "output_type": "execute_result"
    }
   ],
   "source": [
    "sc"
   ]
  },
  {
   "cell_type": "code",
   "execution_count": 15,
   "id": "65cfb75d",
   "metadata": {},
   "outputs": [],
   "source": [
    "# Splitting data for training and testing\n",
    "X_train, X_test, y_train, y_test = train_test_split(sc, y, test_size = 0.2, random_state = 39)"
   ]
  },
  {
   "cell_type": "markdown",
   "id": "3ba47781",
   "metadata": {},
   "source": [
    "# Deep Learning "
   ]
  },
  {
   "cell_type": "code",
   "execution_count": 16,
   "id": "d426e2e1",
   "metadata": {},
   "outputs": [],
   "source": [
    "from sklearn.preprocessing import MinMaxScaler\n",
    "from tensorflow.keras.models import Model\n",
    "from tensorflow.keras.layers import Input\n",
    "from tensorflow.keras.layers import Dense\n",
    "from tensorflow.keras.layers import LeakyReLU,ELU\n",
    "from tensorflow.keras.layers import BatchNormalization\n",
    "from tensorflow.keras.utils import plot_model\n",
    "import tensorflow as tf\n",
    "from sklearn.model_selection import cross_val_score\n",
    "from keras.models import Sequential\n",
    "from keras.layers import Dense, BatchNormalization, Dropout\n",
    "from tensorflow.keras.optimizers import Adam, SGD, RMSprop, Adadelta, Adagrad, Adamax, Nadam, Ftrl\n",
    "from keras.callbacks import EarlyStopping, ModelCheckpoint\n",
    "from keras.wrappers.scikit_learn import KerasClassifier\n",
    "from sklearn.metrics import make_scorer, accuracy_score\n",
    "from sklearn.model_selection import StratifiedKFold"
   ]
  },
  {
   "cell_type": "code",
   "execution_count": 17,
   "id": "cd0ef208",
   "metadata": {},
   "outputs": [],
   "source": [
    "from keras.layers import LeakyReLU\n",
    "LeakyReLU = LeakyReLU(alpha=0.1)\n",
    "from keras.models import Sequential\n",
    "from keras.layers import Dense, Flatten, Convolution1D, Dropout\n",
    "from keras.initializers import random_uniform"
   ]
  },
  {
   "cell_type": "markdown",
   "id": "f97d61bc",
   "metadata": {},
   "source": [
    "# 1. Define Network"
   ]
  },
  {
   "cell_type": "code",
   "execution_count": 18,
   "id": "bd77bf81",
   "metadata": {},
   "outputs": [],
   "source": [
    "num_classes = 24\n",
    "input_dim = X.shape[1]"
   ]
  },
  {
   "cell_type": "code",
   "execution_count": 19,
   "id": "fbdce465",
   "metadata": {},
   "outputs": [],
   "source": [
    "visible = Input(shape=(input_dim,))\n",
    "hidden1 = Dense(3000, activation='relu')(visible)\n",
    "hidden2 = Dense(1500, activation='relu')(hidden1)\n",
    "hidden3 = Dropout(0.2)(hidden2)\n",
    "hidden4 = Dense(750, activation='relu')(hidden3)\n",
    "hidden5 = Dense(375, activation='relu')(hidden4)\n",
    "hidden6 = Dense(48, activation='relu')(hidden5)\n",
    "output = Dense(num_classes, activation='softmax')(hidden6)\n",
    "model = Model(inputs=visible, outputs=output)"
   ]
  },
  {
   "cell_type": "code",
   "execution_count": 20,
   "id": "1dd33478",
   "metadata": {},
   "outputs": [
    {
     "name": "stdout",
     "output_type": "stream",
     "text": [
      "Model: \"model\"\n",
      "_________________________________________________________________\n",
      " Layer (type)                Output Shape              Param #   \n",
      "=================================================================\n",
      " input_1 (InputLayer)        [(None, 10)]              0         \n",
      "                                                                 \n",
      " dense (Dense)               (None, 3000)              33000     \n",
      "                                                                 \n",
      " dense_1 (Dense)             (None, 1500)              4501500   \n",
      "                                                                 \n",
      " dropout (Dropout)           (None, 1500)              0         \n",
      "                                                                 \n",
      " dense_2 (Dense)             (None, 750)               1125750   \n",
      "                                                                 \n",
      " dense_3 (Dense)             (None, 375)               281625    \n",
      "                                                                 \n",
      " dense_4 (Dense)             (None, 48)                18048     \n",
      "                                                                 \n",
      " dense_5 (Dense)             (None, 24)                1176      \n",
      "                                                                 \n",
      "=================================================================\n",
      "Total params: 5,961,099\n",
      "Trainable params: 5,961,099\n",
      "Non-trainable params: 0\n",
      "_________________________________________________________________\n"
     ]
    }
   ],
   "source": [
    "model.summary()"
   ]
  },
  {
   "cell_type": "markdown",
   "id": "3196ac97",
   "metadata": {},
   "source": [
    "# 2. Compile Network"
   ]
  },
  {
   "cell_type": "code",
   "execution_count": 21,
   "id": "7a2d558b",
   "metadata": {},
   "outputs": [],
   "source": [
    "model.compile(optimizer='adam', loss='categorical_crossentropy', metrics=['accuracy'])"
   ]
  },
  {
   "cell_type": "code",
   "execution_count": 22,
   "id": "c1d2b36d",
   "metadata": {},
   "outputs": [
    {
     "name": "stdout",
     "output_type": "stream",
     "text": [
      "You must install pydot (`pip install pydot`) and install graphviz (see instructions at https://graphviz.gitlab.io/download/) for plot_model/model_to_dot to work.\n"
     ]
    }
   ],
   "source": [
    "plot_model(model, 'EMG_ANN', show_shapes = True)"
   ]
  },
  {
   "cell_type": "markdown",
   "id": "3358b592",
   "metadata": {},
   "source": [
    "# 3. Fit Network"
   ]
  },
  {
   "cell_type": "code",
   "execution_count": 23,
   "id": "e0ed4ddd",
   "metadata": {},
   "outputs": [
    {
     "name": "stdout",
     "output_type": "stream",
     "text": [
      "Epoch 1/100\n",
      "72/72 [==============================] - 7s 30ms/step - loss: 1.4224 - accuracy: 0.6454 - val_loss: 0.9905 - val_accuracy: 0.7383\n",
      "Epoch 2/100\n",
      "72/72 [==============================] - 2s 26ms/step - loss: 0.8976 - accuracy: 0.7618 - val_loss: 0.7904 - val_accuracy: 0.7852\n",
      "Epoch 3/100\n",
      "72/72 [==============================] - 2s 27ms/step - loss: 0.7601 - accuracy: 0.7923 - val_loss: 0.7129 - val_accuracy: 0.8049\n",
      "Epoch 4/100\n",
      "72/72 [==============================] - 2s 27ms/step - loss: 0.6987 - accuracy: 0.8072 - val_loss: 0.6614 - val_accuracy: 0.8172\n",
      "Epoch 5/100\n",
      "72/72 [==============================] - 2s 26ms/step - loss: 0.6520 - accuracy: 0.8191 - val_loss: 0.6253 - val_accuracy: 0.8253\n",
      "Epoch 6/100\n",
      "72/72 [==============================] - 2s 26ms/step - loss: 0.6150 - accuracy: 0.8271 - val_loss: 0.5935 - val_accuracy: 0.8338\n",
      "Epoch 7/100\n",
      "72/72 [==============================] - 2s 27ms/step - loss: 0.5866 - accuracy: 0.8346 - val_loss: 0.5617 - val_accuracy: 0.8398\n",
      "Epoch 8/100\n",
      "72/72 [==============================] - 2s 26ms/step - loss: 0.5662 - accuracy: 0.8395 - val_loss: 0.5407 - val_accuracy: 0.8474\n",
      "Epoch 9/100\n",
      "72/72 [==============================] - 2s 26ms/step - loss: 0.5443 - accuracy: 0.8453 - val_loss: 0.5317 - val_accuracy: 0.8479\n",
      "Epoch 10/100\n",
      "72/72 [==============================] - 2s 26ms/step - loss: 0.5265 - accuracy: 0.8496 - val_loss: 0.5156 - val_accuracy: 0.8530\n",
      "Epoch 11/100\n",
      "72/72 [==============================] - 2s 27ms/step - loss: 0.5135 - accuracy: 0.8527 - val_loss: 0.5025 - val_accuracy: 0.8561\n",
      "Epoch 12/100\n",
      "72/72 [==============================] - 2s 26ms/step - loss: 0.4992 - accuracy: 0.8568 - val_loss: 0.4883 - val_accuracy: 0.8597\n",
      "Epoch 13/100\n",
      "72/72 [==============================] - 2s 26ms/step - loss: 0.4852 - accuracy: 0.8605 - val_loss: 0.4773 - val_accuracy: 0.8633\n",
      "Epoch 14/100\n",
      "72/72 [==============================] - 2s 26ms/step - loss: 0.4744 - accuracy: 0.8636 - val_loss: 0.4737 - val_accuracy: 0.8645\n",
      "Epoch 15/100\n",
      "72/72 [==============================] - 2s 26ms/step - loss: 0.4640 - accuracy: 0.8664 - val_loss: 0.4585 - val_accuracy: 0.8686\n",
      "Epoch 16/100\n",
      "72/72 [==============================] - 2s 26ms/step - loss: 0.4546 - accuracy: 0.8682 - val_loss: 0.4557 - val_accuracy: 0.8670\n",
      "Epoch 17/100\n",
      "72/72 [==============================] - 2s 27ms/step - loss: 0.4451 - accuracy: 0.8714 - val_loss: 0.4588 - val_accuracy: 0.8688\n",
      "Epoch 18/100\n",
      "72/72 [==============================] - 2s 26ms/step - loss: 0.4336 - accuracy: 0.8744 - val_loss: 0.4445 - val_accuracy: 0.8732\n",
      "Epoch 19/100\n",
      "72/72 [==============================] - 2s 26ms/step - loss: 0.4276 - accuracy: 0.8760 - val_loss: 0.4257 - val_accuracy: 0.8767\n",
      "Epoch 20/100\n",
      "72/72 [==============================] - 2s 27ms/step - loss: 0.4239 - accuracy: 0.8773 - val_loss: 0.4252 - val_accuracy: 0.8770\n",
      "Epoch 21/100\n",
      "72/72 [==============================] - 2s 26ms/step - loss: 0.4129 - accuracy: 0.8800 - val_loss: 0.4148 - val_accuracy: 0.8798\n",
      "Epoch 22/100\n",
      "72/72 [==============================] - 2s 27ms/step - loss: 0.4092 - accuracy: 0.8808 - val_loss: 0.4147 - val_accuracy: 0.8798\n",
      "Epoch 23/100\n",
      "72/72 [==============================] - 2s 26ms/step - loss: 0.3986 - accuracy: 0.8842 - val_loss: 0.4124 - val_accuracy: 0.8805\n",
      "Epoch 24/100\n",
      "72/72 [==============================] - 2s 26ms/step - loss: 0.3939 - accuracy: 0.8859 - val_loss: 0.3995 - val_accuracy: 0.8838\n",
      "Epoch 25/100\n",
      "72/72 [==============================] - 2s 27ms/step - loss: 0.3864 - accuracy: 0.8881 - val_loss: 0.3967 - val_accuracy: 0.8858\n",
      "Epoch 26/100\n",
      "72/72 [==============================] - 2s 26ms/step - loss: 0.3820 - accuracy: 0.8889 - val_loss: 0.3948 - val_accuracy: 0.8859\n",
      "Epoch 27/100\n",
      "72/72 [==============================] - 2s 27ms/step - loss: 0.3787 - accuracy: 0.8900 - val_loss: 0.3916 - val_accuracy: 0.8857\n",
      "Epoch 28/100\n",
      "72/72 [==============================] - 2s 27ms/step - loss: 0.3733 - accuracy: 0.8911 - val_loss: 0.3820 - val_accuracy: 0.8890\n",
      "Epoch 29/100\n",
      "72/72 [==============================] - 2s 26ms/step - loss: 0.3664 - accuracy: 0.8938 - val_loss: 0.3790 - val_accuracy: 0.8909\n",
      "Epoch 30/100\n",
      "72/72 [==============================] - 2s 26ms/step - loss: 0.3614 - accuracy: 0.8947 - val_loss: 0.3785 - val_accuracy: 0.8917\n",
      "Epoch 31/100\n",
      "72/72 [==============================] - 2s 26ms/step - loss: 0.3588 - accuracy: 0.8955 - val_loss: 0.3739 - val_accuracy: 0.8935\n",
      "Epoch 32/100\n",
      "72/72 [==============================] - 2s 26ms/step - loss: 0.3525 - accuracy: 0.8971 - val_loss: 0.3728 - val_accuracy: 0.8928\n",
      "Epoch 33/100\n",
      "72/72 [==============================] - 2s 28ms/step - loss: 0.3482 - accuracy: 0.8986 - val_loss: 0.3728 - val_accuracy: 0.8927\n",
      "Epoch 34/100\n",
      "72/72 [==============================] - 2s 27ms/step - loss: 0.3468 - accuracy: 0.8991 - val_loss: 0.3643 - val_accuracy: 0.8946\n",
      "Epoch 35/100\n",
      "72/72 [==============================] - 2s 26ms/step - loss: 0.3396 - accuracy: 0.9017 - val_loss: 0.3595 - val_accuracy: 0.8969\n",
      "Epoch 36/100\n",
      "72/72 [==============================] - 2s 26ms/step - loss: 0.3353 - accuracy: 0.9024 - val_loss: 0.3530 - val_accuracy: 0.8974\n",
      "Epoch 37/100\n",
      "72/72 [==============================] - 2s 26ms/step - loss: 0.3341 - accuracy: 0.9032 - val_loss: 0.3531 - val_accuracy: 0.8982\n",
      "Epoch 38/100\n",
      "72/72 [==============================] - 2s 26ms/step - loss: 0.3284 - accuracy: 0.9045 - val_loss: 0.3518 - val_accuracy: 0.8985\n",
      "Epoch 39/100\n",
      "72/72 [==============================] - 2s 26ms/step - loss: 0.3306 - accuracy: 0.9034 - val_loss: 0.3517 - val_accuracy: 0.8989\n",
      "Epoch 40/100\n",
      "72/72 [==============================] - 2s 26ms/step - loss: 0.3240 - accuracy: 0.9053 - val_loss: 0.3459 - val_accuracy: 0.8992\n",
      "Epoch 41/100\n",
      "72/72 [==============================] - 2s 26ms/step - loss: 0.3210 - accuracy: 0.9063 - val_loss: 0.3433 - val_accuracy: 0.9008\n",
      "Epoch 42/100\n",
      "72/72 [==============================] - 2s 26ms/step - loss: 0.3161 - accuracy: 0.9072 - val_loss: 0.3398 - val_accuracy: 0.9020\n",
      "Epoch 43/100\n",
      "72/72 [==============================] - 2s 26ms/step - loss: 0.3135 - accuracy: 0.9081 - val_loss: 0.3427 - val_accuracy: 0.9023\n",
      "Epoch 44/100\n",
      "72/72 [==============================] - 2s 26ms/step - loss: 0.3172 - accuracy: 0.9071 - val_loss: 0.3385 - val_accuracy: 0.9028\n",
      "Epoch 45/100\n",
      "72/72 [==============================] - 2s 26ms/step - loss: 0.3095 - accuracy: 0.9097 - val_loss: 0.3354 - val_accuracy: 0.9026\n",
      "Epoch 46/100\n",
      "72/72 [==============================] - 2s 26ms/step - loss: 0.3066 - accuracy: 0.9110 - val_loss: 0.3304 - val_accuracy: 0.9047\n",
      "Epoch 47/100\n",
      "72/72 [==============================] - 2s 26ms/step - loss: 0.3016 - accuracy: 0.9117 - val_loss: 0.3347 - val_accuracy: 0.9030\n",
      "Epoch 48/100\n",
      "72/72 [==============================] - 2s 26ms/step - loss: 0.3035 - accuracy: 0.9113 - val_loss: 0.3272 - val_accuracy: 0.9058\n",
      "Epoch 49/100\n",
      "72/72 [==============================] - 2s 26ms/step - loss: 0.2955 - accuracy: 0.9135 - val_loss: 0.3250 - val_accuracy: 0.9056\n",
      "Epoch 50/100\n",
      "72/72 [==============================] - 2s 26ms/step - loss: 0.2976 - accuracy: 0.9128 - val_loss: 0.3241 - val_accuracy: 0.9072\n",
      "Epoch 51/100\n",
      "72/72 [==============================] - 2s 26ms/step - loss: 0.2940 - accuracy: 0.9141 - val_loss: 0.3225 - val_accuracy: 0.9065\n",
      "Epoch 52/100\n",
      "72/72 [==============================] - 2s 26ms/step - loss: 0.2924 - accuracy: 0.9151 - val_loss: 0.3245 - val_accuracy: 0.9048\n",
      "Epoch 53/100\n",
      "72/72 [==============================] - 2s 26ms/step - loss: 0.2872 - accuracy: 0.9157 - val_loss: 0.3218 - val_accuracy: 0.9078\n",
      "Epoch 54/100\n",
      "72/72 [==============================] - 2s 26ms/step - loss: 0.2874 - accuracy: 0.9161 - val_loss: 0.3183 - val_accuracy: 0.9089\n",
      "Epoch 55/100\n",
      "72/72 [==============================] - 2s 26ms/step - loss: 0.2852 - accuracy: 0.9163 - val_loss: 0.3302 - val_accuracy: 0.9065\n",
      "Epoch 56/100\n",
      "72/72 [==============================] - 2s 26ms/step - loss: 0.2835 - accuracy: 0.9168 - val_loss: 0.3198 - val_accuracy: 0.9079\n",
      "Epoch 57/100\n",
      "72/72 [==============================] - 2s 26ms/step - loss: 0.2809 - accuracy: 0.9179 - val_loss: 0.3156 - val_accuracy: 0.9100\n",
      "Epoch 58/100\n"
     ]
    },
    {
     "name": "stdout",
     "output_type": "stream",
     "text": [
      "72/72 [==============================] - 2s 26ms/step - loss: 0.2798 - accuracy: 0.9177 - val_loss: 0.3157 - val_accuracy: 0.9090\n",
      "Epoch 59/100\n",
      "72/72 [==============================] - 2s 26ms/step - loss: 0.2772 - accuracy: 0.9187 - val_loss: 0.3217 - val_accuracy: 0.9069\n",
      "Epoch 60/100\n",
      "72/72 [==============================] - 2s 26ms/step - loss: 0.2797 - accuracy: 0.9180 - val_loss: 0.3126 - val_accuracy: 0.9105\n",
      "Epoch 61/100\n",
      "72/72 [==============================] - 2s 26ms/step - loss: 0.2733 - accuracy: 0.9200 - val_loss: 0.3084 - val_accuracy: 0.9115\n",
      "Epoch 62/100\n",
      "72/72 [==============================] - 2s 26ms/step - loss: 0.2719 - accuracy: 0.9206 - val_loss: 0.3061 - val_accuracy: 0.9127\n",
      "Epoch 63/100\n",
      "72/72 [==============================] - 2s 26ms/step - loss: 0.2677 - accuracy: 0.9210 - val_loss: 0.3069 - val_accuracy: 0.9118\n",
      "Epoch 64/100\n",
      "72/72 [==============================] - 2s 26ms/step - loss: 0.2679 - accuracy: 0.9214 - val_loss: 0.3056 - val_accuracy: 0.9122\n",
      "Epoch 65/100\n",
      "72/72 [==============================] - 2s 26ms/step - loss: 0.2639 - accuracy: 0.9223 - val_loss: 0.3029 - val_accuracy: 0.9135\n",
      "Epoch 66/100\n",
      "72/72 [==============================] - 2s 26ms/step - loss: 0.2641 - accuracy: 0.9231 - val_loss: 0.3039 - val_accuracy: 0.9137\n",
      "Epoch 67/100\n",
      "72/72 [==============================] - 2s 26ms/step - loss: 0.2611 - accuracy: 0.9231 - val_loss: 0.3124 - val_accuracy: 0.9108\n",
      "Epoch 68/100\n",
      "72/72 [==============================] - 2s 26ms/step - loss: 0.2649 - accuracy: 0.9222 - val_loss: 0.3003 - val_accuracy: 0.9132\n",
      "Epoch 69/100\n",
      "72/72 [==============================] - 2s 26ms/step - loss: 0.2609 - accuracy: 0.9234 - val_loss: 0.3008 - val_accuracy: 0.9137\n",
      "Epoch 70/100\n",
      "72/72 [==============================] - 2s 26ms/step - loss: 0.2596 - accuracy: 0.9237 - val_loss: 0.3053 - val_accuracy: 0.9128\n",
      "Epoch 71/100\n",
      "72/72 [==============================] - 2s 26ms/step - loss: 0.2580 - accuracy: 0.9242 - val_loss: 0.2972 - val_accuracy: 0.9143\n",
      "Epoch 72/100\n",
      "72/72 [==============================] - 2s 26ms/step - loss: 0.2570 - accuracy: 0.9247 - val_loss: 0.2984 - val_accuracy: 0.9145\n",
      "Epoch 73/100\n",
      "72/72 [==============================] - 2s 26ms/step - loss: 0.2530 - accuracy: 0.9260 - val_loss: 0.3041 - val_accuracy: 0.9144\n",
      "Epoch 74/100\n",
      "72/72 [==============================] - 2s 26ms/step - loss: 0.2522 - accuracy: 0.9264 - val_loss: 0.2962 - val_accuracy: 0.9149\n",
      "Epoch 75/100\n",
      "72/72 [==============================] - 2s 26ms/step - loss: 0.2506 - accuracy: 0.9266 - val_loss: 0.2980 - val_accuracy: 0.9153\n",
      "Epoch 76/100\n",
      "72/72 [==============================] - 2s 26ms/step - loss: 0.2491 - accuracy: 0.9270 - val_loss: 0.2972 - val_accuracy: 0.9161\n",
      "Epoch 77/100\n",
      "72/72 [==============================] - 2s 26ms/step - loss: 0.2492 - accuracy: 0.9267 - val_loss: 0.2935 - val_accuracy: 0.9182\n",
      "Epoch 78/100\n",
      "72/72 [==============================] - 2s 26ms/step - loss: 0.2436 - accuracy: 0.9290 - val_loss: 0.2920 - val_accuracy: 0.9167\n",
      "Epoch 79/100\n",
      "72/72 [==============================] - 2s 26ms/step - loss: 0.2495 - accuracy: 0.9273 - val_loss: 0.2944 - val_accuracy: 0.9154\n",
      "Epoch 80/100\n",
      "72/72 [==============================] - 2s 26ms/step - loss: 0.2459 - accuracy: 0.9276 - val_loss: 0.2939 - val_accuracy: 0.9158\n",
      "Epoch 81/100\n",
      "72/72 [==============================] - 2s 26ms/step - loss: 0.2421 - accuracy: 0.9289 - val_loss: 0.2915 - val_accuracy: 0.9168\n",
      "Epoch 82/100\n",
      "72/72 [==============================] - 2s 26ms/step - loss: 0.2429 - accuracy: 0.9289 - val_loss: 0.2932 - val_accuracy: 0.9168\n",
      "Epoch 83/100\n",
      "72/72 [==============================] - 2s 26ms/step - loss: 0.2414 - accuracy: 0.9288 - val_loss: 0.2885 - val_accuracy: 0.9173\n",
      "Epoch 84/100\n",
      "72/72 [==============================] - 2s 26ms/step - loss: 0.2401 - accuracy: 0.9297 - val_loss: 0.2870 - val_accuracy: 0.9177\n",
      "Epoch 85/100\n",
      "72/72 [==============================] - 2s 26ms/step - loss: 0.2392 - accuracy: 0.9298 - val_loss: 0.2921 - val_accuracy: 0.9166\n",
      "Epoch 86/100\n",
      "72/72 [==============================] - 2s 26ms/step - loss: 0.2383 - accuracy: 0.9302 - val_loss: 0.2865 - val_accuracy: 0.9188\n",
      "Epoch 87/100\n",
      "72/72 [==============================] - 2s 26ms/step - loss: 0.2357 - accuracy: 0.9307 - val_loss: 0.2965 - val_accuracy: 0.9162\n",
      "Epoch 88/100\n",
      "72/72 [==============================] - 2s 26ms/step - loss: 0.2362 - accuracy: 0.9306 - val_loss: 0.2866 - val_accuracy: 0.9189\n",
      "Epoch 89/100\n",
      "72/72 [==============================] - 2s 26ms/step - loss: 0.2341 - accuracy: 0.9315 - val_loss: 0.2902 - val_accuracy: 0.9182\n",
      "Epoch 90/100\n",
      "72/72 [==============================] - 2s 26ms/step - loss: 0.2318 - accuracy: 0.9319 - val_loss: 0.2877 - val_accuracy: 0.9184\n",
      "Epoch 91/100\n",
      "72/72 [==============================] - 2s 26ms/step - loss: 0.2318 - accuracy: 0.9321 - val_loss: 0.2863 - val_accuracy: 0.9179\n",
      "Epoch 92/100\n",
      "72/72 [==============================] - 2s 26ms/step - loss: 0.2318 - accuracy: 0.9318 - val_loss: 0.2843 - val_accuracy: 0.9196\n",
      "Epoch 93/100\n",
      "72/72 [==============================] - 2s 26ms/step - loss: 0.2271 - accuracy: 0.9334 - val_loss: 0.2863 - val_accuracy: 0.9202\n",
      "Epoch 94/100\n",
      "72/72 [==============================] - 2s 26ms/step - loss: 0.2290 - accuracy: 0.9326 - val_loss: 0.2887 - val_accuracy: 0.9185\n",
      "Epoch 95/100\n",
      "72/72 [==============================] - 2s 26ms/step - loss: 0.2295 - accuracy: 0.9324 - val_loss: 0.2805 - val_accuracy: 0.9204\n",
      "Epoch 96/100\n",
      "72/72 [==============================] - 2s 26ms/step - loss: 0.2285 - accuracy: 0.9331 - val_loss: 0.2828 - val_accuracy: 0.9196\n",
      "Epoch 97/100\n",
      "72/72 [==============================] - 2s 26ms/step - loss: 0.2257 - accuracy: 0.9332 - val_loss: 0.2897 - val_accuracy: 0.9179\n",
      "Epoch 98/100\n",
      "72/72 [==============================] - 2s 26ms/step - loss: 0.2240 - accuracy: 0.9342 - val_loss: 0.2921 - val_accuracy: 0.9175\n",
      "Epoch 99/100\n",
      "72/72 [==============================] - 2s 26ms/step - loss: 0.2266 - accuracy: 0.9330 - val_loss: 0.2871 - val_accuracy: 0.9185\n",
      "Epoch 100/100\n",
      "72/72 [==============================] - 2s 26ms/step - loss: 0.2223 - accuracy: 0.9345 - val_loss: 0.2851 - val_accuracy: 0.9194\n"
     ]
    }
   ],
   "source": [
    "history = model.fit(X_train, y_train, batch_size=4056, epochs=100, validation_data = (X_test, y_test))"
   ]
  },
  {
   "cell_type": "markdown",
   "id": "ffed59b1",
   "metadata": {},
   "source": [
    "# 4.Evaluate Network"
   ]
  },
  {
   "cell_type": "markdown",
   "id": "28731190",
   "metadata": {},
   "source": [
    "## 4.1. Plotting Loss and Accuracy"
   ]
  },
  {
   "cell_type": "code",
   "execution_count": 24,
   "id": "971e6040",
   "metadata": {},
   "outputs": [
    {
     "data": {
      "text/plain": [
       "Text(0.5, 1.0, 'Loss Curve of Deep Neural Netowork')"
      ]
     },
     "execution_count": 24,
     "metadata": {},
     "output_type": "execute_result"
    },
    {
     "data": {
      "image/png": "[encoded data removed]",
      "text/plain": [
       "<Figure size 432x288 with 1 Axes>"
      ]
     },
     "metadata": {
      "needs_background": "light"
     },
     "output_type": "display_data"
    }
   ],
   "source": [
    "#Loss Curve\n",
    "\n",
    "\n",
    "plt.plot(figsize = [8,6])\n",
    "\n",
    "plt.plot(history.history['loss'],'r',linewidth = 3.0)\n",
    "plt.plot(history.history['val_loss'],'b',linewidth = 3.0)\n",
    "\n",
    "plt.legend(['Training Loss', 'Validation Loss'], fontsize = 18)\n",
    "\n",
    "plt.xlabel('Epochs', fontsize = 16)\n",
    "plt.ylabel('Loss', fontsize = 16)\n",
    "\n",
    "plt.title('Loss Curve of Deep Neural Netowork' , fontsize = 16 )\n",
    "\n"
   ]
  },
  {
   "cell_type": "code",
   "execution_count": 25,
   "id": "b0c193ec",
   "metadata": {},
   "outputs": [
    {
     "data": {
      "text/plain": [
       "Text(0.5, 1.0, 'Accuracy Curve of Deep Neural Netowork')"
      ]
     },
     "execution_count": 25,
     "metadata": {},
     "output_type": "execute_result"
    },
    {
     "data": {
      "image/png": "[encoded data removed]",
      "text/plain": [
       "<Figure size 432x288 with 1 Axes>"
      ]
     },
     "metadata": {
      "needs_background": "light"
     },
     "output_type": "display_data"
    }
   ],
   "source": [
    "#Accuracy Curve\n",
    "\n",
    "plt.plot(figsize = [8,6])\n",
    "plt.plot(history.history['accuracy'],'r',linewidth = 3.0)\n",
    "plt.plot(history.history['val_accuracy'],'b',linewidth = 3.0)\n",
    "\n",
    "plt.legend(['Training Accuracy', 'Validation Accuracy'], fontsize = 18)\n",
    "\n",
    "plt.xlabel('Epochs', fontsize = 16)\n",
    "plt.ylabel('Accuracy', fontsize = 16)\n",
    "\n",
    "\n",
    "plt.title('Accuracy Curve of Deep Neural Netowork' , fontsize = 16 )"
   ]
  },
  {
   "cell_type": "markdown",
   "id": "741a02aa",
   "metadata": {},
   "source": [
    "##  4.2 Make Predictions"
   ]
  },
  {
   "cell_type": "code",
   "execution_count": 26,
   "id": "e8465627",
   "metadata": {},
   "outputs": [],
   "source": [
    "predictions = model.predict(X_test)\n",
    "predictions = np.argmax(predictions, axis = 1)"
   ]
  },
  {
   "cell_type": "code",
   "execution_count": 27,
   "id": "3cac1a50",
   "metadata": {},
   "outputs": [
    {
     "data": {
      "text/plain": [
       "array([13,  0,  6, ..., 11,  3, 21], dtype=int64)"
      ]
     },
     "execution_count": 27,
     "metadata": {},
     "output_type": "execute_result"
    }
   ],
   "source": [
    "predictions"
   ]
  },
  {
   "cell_type": "markdown",
   "id": "70d666bb",
   "metadata": {},
   "source": [
    "#### Transforming from One Hot Encoding"
   ]
  },
  {
   "cell_type": "code",
   "execution_count": 28,
   "id": "7234b6e7",
   "metadata": {},
   "outputs": [
    {
     "data": {
      "text/plain": [
       "0"
      ]
     },
     "execution_count": 28,
     "metadata": {},
     "output_type": "execute_result"
    }
   ],
   "source": [
    "y_test =np.argmax(y_test, axis=1)\n",
    "y_test[1]"
   ]
  },
  {
   "cell_type": "code",
   "execution_count": 29,
   "id": "6278820d",
   "metadata": {},
   "outputs": [
    {
     "name": "stdout",
     "output_type": "stream",
     "text": [
      "Accuracy is: 91.94466153867248\n"
     ]
    }
   ],
   "source": [
    "from sklearn.metrics import accuracy_score\n",
    "accuracy = {accuracy_score(y_test, predictions)}\n",
    "print(f\"Accuracy is: {accuracy_score(y_test, predictions)* 100}\")"
   ]
  },
  {
   "cell_type": "markdown",
   "id": "eb044ea1",
   "metadata": {},
   "source": [
    "## 4.3 Classification Report"
   ]
  },
  {
   "cell_type": "code",
   "execution_count": 30,
   "id": "001ebc5a",
   "metadata": {},
   "outputs": [
    {
     "name": "stdout",
     "output_type": "stream",
     "text": [
      "\u001b[1mClassification report : \u001b[0m\n",
      "               precision    recall  f1-score   support\n",
      "\n",
      "           0       0.92      0.99      0.95     36119\n",
      "           1       0.98      0.94      0.96      1954\n",
      "           2       0.97      0.92      0.94      1922\n",
      "           3       0.95      0.88      0.91      2033\n",
      "           4       0.94      0.86      0.90      2058\n",
      "           5       0.90      0.80      0.85      2110\n",
      "           6       0.96      0.90      0.93      2091\n",
      "           7       0.92      0.77      0.84      2167\n",
      "           8       0.92      0.82      0.87      2207\n",
      "           9       0.88      0.78      0.83      2223\n",
      "          10       0.91      0.84      0.87      1851\n",
      "          11       0.95      0.89      0.92      2086\n",
      "          12       0.92      0.84      0.88      2125\n",
      "          13       0.94      0.87      0.90      1388\n",
      "          14       0.81      0.79      0.80      1386\n",
      "          15       0.86      0.80      0.83      1459\n",
      "          16       0.90      0.92      0.91      1382\n",
      "          17       0.89      0.75      0.81      1349\n",
      "          18       0.88      0.81      0.84       909\n",
      "          19       0.85      0.84      0.85       798\n",
      "          20       0.93      0.93      0.93       810\n",
      "          21       0.93      0.91      0.92       786\n",
      "          22       0.98      0.96      0.97       822\n",
      "          23       0.98      0.92      0.95       898\n",
      "\n",
      "    accuracy                           0.92     72933\n",
      "   macro avg       0.92      0.86      0.89     72933\n",
      "weighted avg       0.92      0.92      0.92     72933\n",
      "\n",
      "\u001b[1mConfusion Matrix : \u001b[0m\n"
     ]
    },
    {
     "data": {
      "image/png": "[encoded data removed]",
      "text/plain": [
       "<Figure size 432x288 with 2 Axes>"
      ]
     },
     "metadata": {
      "needs_background": "light"
     },
     "output_type": "display_data"
    }
   ],
   "source": [
    "from sklearn.metrics import confusion_matrix, f1_score, accuracy_score, classification_report\n",
    "print('\\033[1m' +'Classification report : '+ '\\033[0m\\n', classification_report(y_test, predictions))\n",
    "\n",
    "cm = confusion_matrix(predictions, y_test)\n",
    "print('\\033[1m' +'Confusion Matrix : '+ '\\033[0m')\n",
    "sns.heatmap(cm, cmap = 'OrRd',annot = True, fmt='d')\n",
    "plt.show()"
   ]
  },
  {
   "cell_type": "markdown",
   "id": "eaa5e512",
   "metadata": {},
   "source": [
    "## 4.4 Evaluation"
   ]
  },
  {
   "cell_type": "code",
   "execution_count": 31,
   "id": "9e469f86",
   "metadata": {},
   "outputs": [
    {
     "name": "stdout",
     "output_type": "stream",
     "text": [
      "MAE: 0.6548064662087121\n",
      "MSE: 7.489106440157404\n",
      "RMSE: 2.7366231819812907\n"
     ]
    }
   ],
   "source": [
    "from sklearn import metrics\n",
    "\n",
    "print('MAE:', metrics.mean_absolute_error(y_test,predictions))\n",
    "print('MSE:', metrics.mean_squared_error(y_test, predictions))\n",
    "print('RMSE:', np.sqrt(metrics.mean_squared_error(y_test, predictions)))"
   ]
  },
  {
   "cell_type": "code",
   "execution_count": 32,
   "id": "dff2a82d",
   "metadata": {},
   "outputs": [
    {
     "name": "stdout",
     "output_type": "stream",
     "text": [
      "Precision Score :  0.9194689719716782\n",
      "Recall Score :  0.9194466153867248\n",
      "f1_score :  0.9179382365764774\n"
     ]
    }
   ],
   "source": [
    "from sklearn.metrics import precision_score\n",
    "print(\"Precision Score : \",precision_score(y_test, predictions, average='weighted'))\n",
    "\n",
    "\n",
    "from sklearn.metrics import recall_score\n",
    "print(\"Recall Score : \",recall_score(y_test, predictions,average='weighted'))\n",
    "\n",
    "\n",
    "from sklearn.metrics import f1_score\n",
    "print(\"f1_score : \",f1_score(y_test, predictions,average='weighted'))"
   ]
  },
  {
   "cell_type": "code",
   "execution_count": null,
   "id": "81ac7468",
   "metadata": {},
   "outputs": [],
   "source": []
  },
  {
   "cell_type": "code",
   "execution_count": null,
   "id": "71a4c6e0",
   "metadata": {},
   "outputs": [],
   "source": []
  }
 ],
 "metadata": {
  "kernelspec": {
   "display_name": "Python 3 (ipykernel)",
   "language": "python",
   "name": "python3"
  },
  "language_info": {
   "codemirror_mode": {
    "name": "ipython",
    "version": 3
   },
   "file_extension": ".py",
   "mimetype": "text/x-python",
   "name": "python",
   "nbconvert_exporter": "python",
   "pygments_lexer": "ipython3",
   "version": "3.8.12"
  }
 },
 "nbformat": 4,
 "nbformat_minor": 5
}
