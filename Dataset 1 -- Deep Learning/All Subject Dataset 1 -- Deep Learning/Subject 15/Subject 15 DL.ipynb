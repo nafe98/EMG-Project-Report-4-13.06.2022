{
 "cells": [
  {
   "cell_type": "markdown",
   "id": "bf8ee932",
   "metadata": {},
   "source": [
    "# Importing Libraries"
   ]
  },
  {
   "cell_type": "code",
   "execution_count": 1,
   "id": "0f663fa8",
   "metadata": {},
   "outputs": [],
   "source": [
    "import numpy as np\n",
    "import pandas as pd\n",
    "import matplotlib.pyplot as plt\n",
    "import seaborn as sns\n",
    "from sklearn.model_selection import train_test_split"
   ]
  },
  {
   "cell_type": "markdown",
   "id": "511af272",
   "metadata": {},
   "source": [
    "# Loading Data"
   ]
  },
  {
   "cell_type": "code",
   "execution_count": 2,
   "id": "04fd19b0",
   "metadata": {},
   "outputs": [
    {
     "data": {
      "text/html": [
       "<div>\n",
       "<style scoped>\n",
       "    .dataframe tbody tr th:only-of-type {\n",
       "        vertical-align: middle;\n",
       "    }\n",
       "\n",
       "    .dataframe tbody tr th {\n",
       "        vertical-align: top;\n",
       "    }\n",
       "\n",
       "    .dataframe thead th {\n",
       "        text-align: right;\n",
       "    }\n",
       "</style>\n",
       "<table border=\"1\" class=\"dataframe\">\n",
       "  <thead>\n",
       "    <tr style=\"text-align: right;\">\n",
       "      <th></th>\n",
       "      <th>Emg1</th>\n",
       "      <th>Emg2</th>\n",
       "      <th>Emg3</th>\n",
       "      <th>Emg4</th>\n",
       "      <th>Emg5</th>\n",
       "      <th>Emg6</th>\n",
       "      <th>Emg7</th>\n",
       "      <th>Emg8</th>\n",
       "      <th>Emg9</th>\n",
       "      <th>Emg10</th>\n",
       "      <th>repetition</th>\n",
       "      <th>rerepetition</th>\n",
       "      <th>stimulus</th>\n",
       "      <th>restimulus</th>\n",
       "    </tr>\n",
       "  </thead>\n",
       "  <tbody>\n",
       "    <tr>\n",
       "      <th>366844</th>\n",
       "      <td>0.4980</td>\n",
       "      <td>0.0781</td>\n",
       "      <td>0.0269</td>\n",
       "      <td>0.0073</td>\n",
       "      <td>0.0122</td>\n",
       "      <td>0.0708</td>\n",
       "      <td>0.9546</td>\n",
       "      <td>0.5518</td>\n",
       "      <td>0.0024</td>\n",
       "      <td>0.4443</td>\n",
       "      <td>7</td>\n",
       "      <td>7</td>\n",
       "      <td>13</td>\n",
       "      <td>13</td>\n",
       "    </tr>\n",
       "    <tr>\n",
       "      <th>303107</th>\n",
       "      <td>0.0879</td>\n",
       "      <td>0.0024</td>\n",
       "      <td>0.0024</td>\n",
       "      <td>0.0024</td>\n",
       "      <td>0.0024</td>\n",
       "      <td>0.0293</td>\n",
       "      <td>0.6055</td>\n",
       "      <td>0.3345</td>\n",
       "      <td>0.0024</td>\n",
       "      <td>0.1245</td>\n",
       "      <td>0</td>\n",
       "      <td>0</td>\n",
       "      <td>0</td>\n",
       "      <td>0</td>\n",
       "    </tr>\n",
       "    <tr>\n",
       "      <th>208364</th>\n",
       "      <td>0.0269</td>\n",
       "      <td>0.0024</td>\n",
       "      <td>0.0049</td>\n",
       "      <td>0.0024</td>\n",
       "      <td>0.0024</td>\n",
       "      <td>0.0122</td>\n",
       "      <td>0.7104</td>\n",
       "      <td>0.1831</td>\n",
       "      <td>0.0024</td>\n",
       "      <td>0.1538</td>\n",
       "      <td>7</td>\n",
       "      <td>0</td>\n",
       "      <td>13</td>\n",
       "      <td>0</td>\n",
       "    </tr>\n",
       "    <tr>\n",
       "      <th>98310</th>\n",
       "      <td>1.0107</td>\n",
       "      <td>0.2319</td>\n",
       "      <td>0.4272</td>\n",
       "      <td>0.1099</td>\n",
       "      <td>0.0684</td>\n",
       "      <td>0.1465</td>\n",
       "      <td>0.5566</td>\n",
       "      <td>0.9302</td>\n",
       "      <td>0.1367</td>\n",
       "      <td>0.4297</td>\n",
       "      <td>7</td>\n",
       "      <td>7</td>\n",
       "      <td>12</td>\n",
       "      <td>12</td>\n",
       "    </tr>\n",
       "    <tr>\n",
       "      <th>469349</th>\n",
       "      <td>0.0024</td>\n",
       "      <td>0.0024</td>\n",
       "      <td>0.0024</td>\n",
       "      <td>0.0024</td>\n",
       "      <td>0.0024</td>\n",
       "      <td>0.0024</td>\n",
       "      <td>0.0049</td>\n",
       "      <td>0.0024</td>\n",
       "      <td>0.0024</td>\n",
       "      <td>0.1245</td>\n",
       "      <td>0</td>\n",
       "      <td>0</td>\n",
       "      <td>0</td>\n",
       "      <td>0</td>\n",
       "    </tr>\n",
       "  </tbody>\n",
       "</table>\n",
       "</div>"
      ],
      "text/plain": [
       "          Emg1    Emg2    Emg3    Emg4    Emg5    Emg6    Emg7    Emg8  \\\n",
       "366844  0.4980  0.0781  0.0269  0.0073  0.0122  0.0708  0.9546  0.5518   \n",
       "303107  0.0879  0.0024  0.0024  0.0024  0.0024  0.0293  0.6055  0.3345   \n",
       "208364  0.0269  0.0024  0.0049  0.0024  0.0024  0.0122  0.7104  0.1831   \n",
       "98310   1.0107  0.2319  0.4272  0.1099  0.0684  0.1465  0.5566  0.9302   \n",
       "469349  0.0024  0.0024  0.0024  0.0024  0.0024  0.0024  0.0049  0.0024   \n",
       "\n",
       "          Emg9   Emg10  repetition  rerepetition  stimulus  restimulus  \n",
       "366844  0.0024  0.4443           7             7        13          13  \n",
       "303107  0.0024  0.1245           0             0         0           0  \n",
       "208364  0.0024  0.1538           7             0        13           0  \n",
       "98310   0.1367  0.4297           7             7        12          12  \n",
       "469349  0.0024  0.1245           0             0         0           0  "
      ]
     },
     "execution_count": 2,
     "metadata": {},
     "output_type": "execute_result"
    }
   ],
   "source": [
    "raw_data = pd.read_excel('Dataset 1 Patient 15.xlsx')\n",
    "raw_data.sample(5)"
   ]
  },
  {
   "cell_type": "code",
   "execution_count": 3,
   "id": "80369ddb",
   "metadata": {},
   "outputs": [
    {
     "name": "stdout",
     "output_type": "stream",
     "text": [
      "<class 'pandas.core.frame.DataFrame'>\n",
      "RangeIndex: 478193 entries, 0 to 478192\n",
      "Data columns (total 14 columns):\n",
      " #   Column        Non-Null Count   Dtype  \n",
      "---  ------        --------------   -----  \n",
      " 0   Emg1          478193 non-null  float64\n",
      " 1   Emg2          478193 non-null  float64\n",
      " 2   Emg3          478193 non-null  float64\n",
      " 3   Emg4          478193 non-null  float64\n",
      " 4   Emg5          478193 non-null  float64\n",
      " 5   Emg6          478193 non-null  float64\n",
      " 6   Emg7          478193 non-null  float64\n",
      " 7   Emg8          478193 non-null  float64\n",
      " 8   Emg9          478193 non-null  float64\n",
      " 9   Emg10         478193 non-null  float64\n",
      " 10  repetition    478193 non-null  int64  \n",
      " 11  rerepetition  478193 non-null  int64  \n",
      " 12  stimulus      478193 non-null  int64  \n",
      " 13  restimulus    478193 non-null  int64  \n",
      "dtypes: float64(10), int64(4)\n",
      "memory usage: 51.1 MB\n"
     ]
    }
   ],
   "source": [
    "raw_data.info()"
   ]
  },
  {
   "cell_type": "code",
   "execution_count": 4,
   "id": "109445f8",
   "metadata": {},
   "outputs": [
    {
     "data": {
      "text/html": [
       "<div>\n",
       "<style scoped>\n",
       "    .dataframe tbody tr th:only-of-type {\n",
       "        vertical-align: middle;\n",
       "    }\n",
       "\n",
       "    .dataframe tbody tr th {\n",
       "        vertical-align: top;\n",
       "    }\n",
       "\n",
       "    .dataframe thead th {\n",
       "        text-align: right;\n",
       "    }\n",
       "</style>\n",
       "<table border=\"1\" class=\"dataframe\">\n",
       "  <thead>\n",
       "    <tr style=\"text-align: right;\">\n",
       "      <th></th>\n",
       "      <th>Emg1</th>\n",
       "      <th>Emg2</th>\n",
       "      <th>Emg3</th>\n",
       "      <th>Emg4</th>\n",
       "      <th>Emg5</th>\n",
       "      <th>Emg6</th>\n",
       "      <th>Emg7</th>\n",
       "      <th>Emg8</th>\n",
       "      <th>Emg9</th>\n",
       "      <th>Emg10</th>\n",
       "      <th>repetition</th>\n",
       "      <th>rerepetition</th>\n",
       "      <th>stimulus</th>\n",
       "      <th>restimulus</th>\n",
       "    </tr>\n",
       "  </thead>\n",
       "  <tbody>\n",
       "    <tr>\n",
       "      <th>count</th>\n",
       "      <td>478193.000000</td>\n",
       "      <td>478193.000000</td>\n",
       "      <td>478193.000000</td>\n",
       "      <td>478193.000000</td>\n",
       "      <td>478193.000000</td>\n",
       "      <td>478193.000000</td>\n",
       "      <td>478193.000000</td>\n",
       "      <td>478193.000000</td>\n",
       "      <td>478193.000000</td>\n",
       "      <td>478193.000000</td>\n",
       "      <td>478193.000000</td>\n",
       "      <td>478193.000000</td>\n",
       "      <td>478193.000000</td>\n",
       "      <td>478193.000000</td>\n",
       "    </tr>\n",
       "    <tr>\n",
       "      <th>mean</th>\n",
       "      <td>0.501572</td>\n",
       "      <td>0.151599</td>\n",
       "      <td>0.169478</td>\n",
       "      <td>0.056115</td>\n",
       "      <td>0.023732</td>\n",
       "      <td>0.065833</td>\n",
       "      <td>0.550883</td>\n",
       "      <td>0.589846</td>\n",
       "      <td>0.165808</td>\n",
       "      <td>0.288571</td>\n",
       "      <td>3.102268</td>\n",
       "      <td>2.235315</td>\n",
       "      <td>5.525838</td>\n",
       "      <td>4.065892</td>\n",
       "    </tr>\n",
       "    <tr>\n",
       "      <th>std</th>\n",
       "      <td>0.428903</td>\n",
       "      <td>0.262973</td>\n",
       "      <td>0.299034</td>\n",
       "      <td>0.130464</td>\n",
       "      <td>0.044097</td>\n",
       "      <td>0.111559</td>\n",
       "      <td>0.646651</td>\n",
       "      <td>0.384964</td>\n",
       "      <td>0.348622</td>\n",
       "      <td>0.376059</td>\n",
       "      <td>3.475910</td>\n",
       "      <td>3.261604</td>\n",
       "      <td>6.578251</td>\n",
       "      <td>6.221459</td>\n",
       "    </tr>\n",
       "    <tr>\n",
       "      <th>min</th>\n",
       "      <td>0.002400</td>\n",
       "      <td>0.000000</td>\n",
       "      <td>0.000000</td>\n",
       "      <td>0.000000</td>\n",
       "      <td>0.000000</td>\n",
       "      <td>0.000000</td>\n",
       "      <td>0.002400</td>\n",
       "      <td>0.002400</td>\n",
       "      <td>0.000000</td>\n",
       "      <td>0.000000</td>\n",
       "      <td>0.000000</td>\n",
       "      <td>0.000000</td>\n",
       "      <td>0.000000</td>\n",
       "      <td>0.000000</td>\n",
       "    </tr>\n",
       "    <tr>\n",
       "      <th>25%</th>\n",
       "      <td>0.217300</td>\n",
       "      <td>0.002400</td>\n",
       "      <td>0.002400</td>\n",
       "      <td>0.002400</td>\n",
       "      <td>0.002400</td>\n",
       "      <td>0.004900</td>\n",
       "      <td>0.124500</td>\n",
       "      <td>0.329600</td>\n",
       "      <td>0.002400</td>\n",
       "      <td>0.051300</td>\n",
       "      <td>0.000000</td>\n",
       "      <td>0.000000</td>\n",
       "      <td>0.000000</td>\n",
       "      <td>0.000000</td>\n",
       "    </tr>\n",
       "    <tr>\n",
       "      <th>50%</th>\n",
       "      <td>0.410200</td>\n",
       "      <td>0.036600</td>\n",
       "      <td>0.019500</td>\n",
       "      <td>0.002400</td>\n",
       "      <td>0.002400</td>\n",
       "      <td>0.024400</td>\n",
       "      <td>0.327100</td>\n",
       "      <td>0.485800</td>\n",
       "      <td>0.002400</td>\n",
       "      <td>0.136700</td>\n",
       "      <td>2.000000</td>\n",
       "      <td>0.000000</td>\n",
       "      <td>3.000000</td>\n",
       "      <td>0.000000</td>\n",
       "    </tr>\n",
       "    <tr>\n",
       "      <th>75%</th>\n",
       "      <td>0.649400</td>\n",
       "      <td>0.178200</td>\n",
       "      <td>0.214800</td>\n",
       "      <td>0.051300</td>\n",
       "      <td>0.022000</td>\n",
       "      <td>0.075700</td>\n",
       "      <td>0.727500</td>\n",
       "      <td>0.737300</td>\n",
       "      <td>0.183100</td>\n",
       "      <td>0.383300</td>\n",
       "      <td>6.000000</td>\n",
       "      <td>4.000000</td>\n",
       "      <td>10.000000</td>\n",
       "      <td>7.000000</td>\n",
       "    </tr>\n",
       "    <tr>\n",
       "      <th>max</th>\n",
       "      <td>4.663100</td>\n",
       "      <td>3.642600</td>\n",
       "      <td>4.658200</td>\n",
       "      <td>3.710900</td>\n",
       "      <td>0.874000</td>\n",
       "      <td>1.750500</td>\n",
       "      <td>4.663100</td>\n",
       "      <td>4.199200</td>\n",
       "      <td>4.658200</td>\n",
       "      <td>3.754900</td>\n",
       "      <td>10.000000</td>\n",
       "      <td>10.000000</td>\n",
       "      <td>23.000000</td>\n",
       "      <td>23.000000</td>\n",
       "    </tr>\n",
       "  </tbody>\n",
       "</table>\n",
       "</div>"
      ],
      "text/plain": [
       "                Emg1           Emg2           Emg3           Emg4  \\\n",
       "count  478193.000000  478193.000000  478193.000000  478193.000000   \n",
       "mean        0.501572       0.151599       0.169478       0.056115   \n",
       "std         0.428903       0.262973       0.299034       0.130464   \n",
       "min         0.002400       0.000000       0.000000       0.000000   \n",
       "25%         0.217300       0.002400       0.002400       0.002400   \n",
       "50%         0.410200       0.036600       0.019500       0.002400   \n",
       "75%         0.649400       0.178200       0.214800       0.051300   \n",
       "max         4.663100       3.642600       4.658200       3.710900   \n",
       "\n",
       "                Emg5           Emg6           Emg7           Emg8  \\\n",
       "count  478193.000000  478193.000000  478193.000000  478193.000000   \n",
       "mean        0.023732       0.065833       0.550883       0.589846   \n",
       "std         0.044097       0.111559       0.646651       0.384964   \n",
       "min         0.000000       0.000000       0.002400       0.002400   \n",
       "25%         0.002400       0.004900       0.124500       0.329600   \n",
       "50%         0.002400       0.024400       0.327100       0.485800   \n",
       "75%         0.022000       0.075700       0.727500       0.737300   \n",
       "max         0.874000       1.750500       4.663100       4.199200   \n",
       "\n",
       "                Emg9          Emg10     repetition   rerepetition  \\\n",
       "count  478193.000000  478193.000000  478193.000000  478193.000000   \n",
       "mean        0.165808       0.288571       3.102268       2.235315   \n",
       "std         0.348622       0.376059       3.475910       3.261604   \n",
       "min         0.000000       0.000000       0.000000       0.000000   \n",
       "25%         0.002400       0.051300       0.000000       0.000000   \n",
       "50%         0.002400       0.136700       2.000000       0.000000   \n",
       "75%         0.183100       0.383300       6.000000       4.000000   \n",
       "max         4.658200       3.754900      10.000000      10.000000   \n",
       "\n",
       "            stimulus     restimulus  \n",
       "count  478193.000000  478193.000000  \n",
       "mean        5.525838       4.065892  \n",
       "std         6.578251       6.221459  \n",
       "min         0.000000       0.000000  \n",
       "25%         0.000000       0.000000  \n",
       "50%         3.000000       0.000000  \n",
       "75%        10.000000       7.000000  \n",
       "max        23.000000      23.000000  "
      ]
     },
     "execution_count": 4,
     "metadata": {},
     "output_type": "execute_result"
    }
   ],
   "source": [
    "raw_data.describe(include='all')"
   ]
  },
  {
   "cell_type": "code",
   "execution_count": 5,
   "id": "f0b9a2e6",
   "metadata": {},
   "outputs": [
    {
     "name": "stdout",
     "output_type": "stream",
     "text": [
      "Unique Dependent values and their counts :\n",
      "0     207859\n",
      "8      15597\n",
      "7      15587\n",
      "12     15585\n",
      "4      15574\n",
      "6      15559\n",
      "9      15555\n",
      "2      15554\n",
      "5      15547\n",
      "11     15531\n",
      "10     15526\n",
      "3      15520\n",
      "1      15515\n",
      "14     10404\n",
      "13     10399\n",
      "17     10398\n",
      "15     10361\n",
      "16     10323\n",
      "19      5929\n",
      "21      5198\n",
      "18      5193\n",
      "20      5161\n",
      "22      5161\n",
      "23      5157\n",
      "Name: stimulus, dtype: int64\n"
     ]
    }
   ],
   "source": [
    "print(\"Unique Dependent values and their counts :\")\n",
    "print(raw_data[\"stimulus\"].value_counts())"
   ]
  },
  {
   "cell_type": "markdown",
   "id": "54420ec4",
   "metadata": {},
   "source": [
    "# Data Cleaning"
   ]
  },
  {
   "cell_type": "code",
   "execution_count": 6,
   "id": "a811198b",
   "metadata": {},
   "outputs": [],
   "source": [
    "index_names = raw_data[ (raw_data['stimulus'] != raw_data['restimulus'])].index\n",
    "raw_data.drop(index_names, inplace = True)"
   ]
  },
  {
   "cell_type": "code",
   "execution_count": 7,
   "id": "556cd92f",
   "metadata": {},
   "outputs": [],
   "source": [
    "index_names = raw_data[ (raw_data['repetition'] != raw_data['rerepetition'])].index\n",
    "raw_data.drop(index_names, inplace = True)"
   ]
  },
  {
   "cell_type": "code",
   "execution_count": 8,
   "id": "c91744f7",
   "metadata": {},
   "outputs": [],
   "source": [
    "X = raw_data.iloc[:,0:10]\n",
    "y = raw_data.stimulus"
   ]
  },
  {
   "cell_type": "markdown",
   "id": "152f7160",
   "metadata": {},
   "source": [
    "# One Hot Encoding"
   ]
  },
  {
   "cell_type": "code",
   "execution_count": 9,
   "id": "dfb77d24",
   "metadata": {},
   "outputs": [],
   "source": [
    "num_classes = 24"
   ]
  },
  {
   "cell_type": "code",
   "execution_count": 10,
   "id": "be64bf6b",
   "metadata": {},
   "outputs": [],
   "source": [
    "# One hot encoding for categorical labels\n",
    "import keras\n",
    "from keras import utils as np_utils\n",
    "y = keras.utils.np_utils.to_categorical(y, num_classes)"
   ]
  },
  {
   "cell_type": "code",
   "execution_count": 11,
   "id": "c7358f86",
   "metadata": {},
   "outputs": [],
   "source": [
    "input_dim = X.shape[1]"
   ]
  },
  {
   "cell_type": "markdown",
   "id": "cb3088a1",
   "metadata": {},
   "source": [
    "# Standard Scaler"
   ]
  },
  {
   "cell_type": "code",
   "execution_count": 12,
   "id": "5bd820f4",
   "metadata": {},
   "outputs": [],
   "source": [
    "from sklearn.preprocessing import StandardScaler\n",
    "standardscaler=StandardScaler()"
   ]
  },
  {
   "cell_type": "code",
   "execution_count": 13,
   "id": "6a118694",
   "metadata": {},
   "outputs": [],
   "source": [
    "sc = pd.DataFrame(standardscaler.fit_transform(X))"
   ]
  },
  {
   "cell_type": "code",
   "execution_count": 14,
   "id": "d6e2f38b",
   "metadata": {},
   "outputs": [
    {
     "data": {
      "text/html": [
       "<div>\n",
       "<style scoped>\n",
       "    .dataframe tbody tr th:only-of-type {\n",
       "        vertical-align: middle;\n",
       "    }\n",
       "\n",
       "    .dataframe tbody tr th {\n",
       "        vertical-align: top;\n",
       "    }\n",
       "\n",
       "    .dataframe thead th {\n",
       "        text-align: right;\n",
       "    }\n",
       "</style>\n",
       "<table border=\"1\" class=\"dataframe\">\n",
       "  <thead>\n",
       "    <tr style=\"text-align: right;\">\n",
       "      <th></th>\n",
       "      <th>0</th>\n",
       "      <th>1</th>\n",
       "      <th>2</th>\n",
       "      <th>3</th>\n",
       "      <th>4</th>\n",
       "      <th>5</th>\n",
       "      <th>6</th>\n",
       "      <th>7</th>\n",
       "      <th>8</th>\n",
       "      <th>9</th>\n",
       "    </tr>\n",
       "  </thead>\n",
       "  <tbody>\n",
       "    <tr>\n",
       "      <th>0</th>\n",
       "      <td>-0.490266</td>\n",
       "      <td>-0.612488</td>\n",
       "      <td>-0.618741</td>\n",
       "      <td>-0.457694</td>\n",
       "      <td>-0.534717</td>\n",
       "      <td>-0.605231</td>\n",
       "      <td>-0.791931</td>\n",
       "      <td>-0.887009</td>\n",
       "      <td>-0.520478</td>\n",
       "      <td>-0.799006</td>\n",
       "    </tr>\n",
       "    <tr>\n",
       "      <th>1</th>\n",
       "      <td>-0.409104</td>\n",
       "      <td>-0.595128</td>\n",
       "      <td>-0.610922</td>\n",
       "      <td>-0.457694</td>\n",
       "      <td>-0.534717</td>\n",
       "      <td>-0.605231</td>\n",
       "      <td>-0.781181</td>\n",
       "      <td>-0.724277</td>\n",
       "      <td>-0.520478</td>\n",
       "      <td>-0.768561</td>\n",
       "    </tr>\n",
       "    <tr>\n",
       "      <th>2</th>\n",
       "      <td>-0.387593</td>\n",
       "      <td>-0.595128</td>\n",
       "      <td>-0.603416</td>\n",
       "      <td>-0.457694</td>\n",
       "      <td>-0.481984</td>\n",
       "      <td>-0.605231</td>\n",
       "      <td>-0.784813</td>\n",
       "      <td>-0.615871</td>\n",
       "      <td>-0.520478</td>\n",
       "      <td>-0.744105</td>\n",
       "    </tr>\n",
       "    <tr>\n",
       "      <th>3</th>\n",
       "      <td>-0.447024</td>\n",
       "      <td>-0.612488</td>\n",
       "      <td>-0.618741</td>\n",
       "      <td>-0.457694</td>\n",
       "      <td>-0.534717</td>\n",
       "      <td>-0.605231</td>\n",
       "      <td>-0.795417</td>\n",
       "      <td>-0.615871</td>\n",
       "      <td>-0.520478</td>\n",
       "      <td>-0.750094</td>\n",
       "    </tr>\n",
       "    <tr>\n",
       "      <th>4</th>\n",
       "      <td>-0.533730</td>\n",
       "      <td>-0.612488</td>\n",
       "      <td>-0.618741</td>\n",
       "      <td>-0.457694</td>\n",
       "      <td>-0.534717</td>\n",
       "      <td>-0.605231</td>\n",
       "      <td>-0.809653</td>\n",
       "      <td>-0.658098</td>\n",
       "      <td>-0.520478</td>\n",
       "      <td>-0.750094</td>\n",
       "    </tr>\n",
       "    <tr>\n",
       "      <th>...</th>\n",
       "      <td>...</td>\n",
       "      <td>...</td>\n",
       "      <td>...</td>\n",
       "      <td>...</td>\n",
       "      <td>...</td>\n",
       "      <td>...</td>\n",
       "      <td>...</td>\n",
       "      <td>...</td>\n",
       "      <td>...</td>\n",
       "      <td>...</td>\n",
       "    </tr>\n",
       "    <tr>\n",
       "      <th>395226</th>\n",
       "      <td>-0.955951</td>\n",
       "      <td>-0.612488</td>\n",
       "      <td>-0.618741</td>\n",
       "      <td>-0.457694</td>\n",
       "      <td>-0.534717</td>\n",
       "      <td>-0.543540</td>\n",
       "      <td>-0.749367</td>\n",
       "      <td>-0.893182</td>\n",
       "      <td>-0.520478</td>\n",
       "      <td>-0.750094</td>\n",
       "    </tr>\n",
       "    <tr>\n",
       "      <th>395227</th>\n",
       "      <td>-0.988549</td>\n",
       "      <td>-0.612488</td>\n",
       "      <td>-0.618741</td>\n",
       "      <td>-0.457694</td>\n",
       "      <td>-0.534717</td>\n",
       "      <td>-0.564381</td>\n",
       "      <td>-0.767090</td>\n",
       "      <td>-0.941335</td>\n",
       "      <td>-0.520478</td>\n",
       "      <td>-0.756333</td>\n",
       "    </tr>\n",
       "    <tr>\n",
       "      <th>395228</th>\n",
       "      <td>-1.026247</td>\n",
       "      <td>-0.612488</td>\n",
       "      <td>-0.618741</td>\n",
       "      <td>-0.457694</td>\n",
       "      <td>-0.534717</td>\n",
       "      <td>-0.605231</td>\n",
       "      <td>-0.781181</td>\n",
       "      <td>-0.983562</td>\n",
       "      <td>-0.520478</td>\n",
       "      <td>-0.768561</td>\n",
       "    </tr>\n",
       "    <tr>\n",
       "      <th>395229</th>\n",
       "      <td>-1.015603</td>\n",
       "      <td>-0.612488</td>\n",
       "      <td>-0.618741</td>\n",
       "      <td>-0.457694</td>\n",
       "      <td>-0.534717</td>\n",
       "      <td>-0.605231</td>\n",
       "      <td>-0.777695</td>\n",
       "      <td>-0.953435</td>\n",
       "      <td>-0.520478</td>\n",
       "      <td>-0.762322</td>\n",
       "    </tr>\n",
       "    <tr>\n",
       "      <th>395230</th>\n",
       "      <td>-0.885655</td>\n",
       "      <td>-0.612488</td>\n",
       "      <td>-0.618741</td>\n",
       "      <td>-0.457694</td>\n",
       "      <td>-0.534717</td>\n",
       "      <td>-0.605231</td>\n",
       "      <td>-0.781181</td>\n",
       "      <td>-0.941335</td>\n",
       "      <td>-0.520478</td>\n",
       "      <td>-0.780539</td>\n",
       "    </tr>\n",
       "  </tbody>\n",
       "</table>\n",
       "<p>395231 rows × 10 columns</p>\n",
       "</div>"
      ],
      "text/plain": [
       "               0         1         2         3         4         5         6  \\\n",
       "0      -0.490266 -0.612488 -0.618741 -0.457694 -0.534717 -0.605231 -0.791931   \n",
       "1      -0.409104 -0.595128 -0.610922 -0.457694 -0.534717 -0.605231 -0.781181   \n",
       "2      -0.387593 -0.595128 -0.603416 -0.457694 -0.481984 -0.605231 -0.784813   \n",
       "3      -0.447024 -0.612488 -0.618741 -0.457694 -0.534717 -0.605231 -0.795417   \n",
       "4      -0.533730 -0.612488 -0.618741 -0.457694 -0.534717 -0.605231 -0.809653   \n",
       "...          ...       ...       ...       ...       ...       ...       ...   \n",
       "395226 -0.955951 -0.612488 -0.618741 -0.457694 -0.534717 -0.543540 -0.749367   \n",
       "395227 -0.988549 -0.612488 -0.618741 -0.457694 -0.534717 -0.564381 -0.767090   \n",
       "395228 -1.026247 -0.612488 -0.618741 -0.457694 -0.534717 -0.605231 -0.781181   \n",
       "395229 -1.015603 -0.612488 -0.618741 -0.457694 -0.534717 -0.605231 -0.777695   \n",
       "395230 -0.885655 -0.612488 -0.618741 -0.457694 -0.534717 -0.605231 -0.781181   \n",
       "\n",
       "               7         8         9  \n",
       "0      -0.887009 -0.520478 -0.799006  \n",
       "1      -0.724277 -0.520478 -0.768561  \n",
       "2      -0.615871 -0.520478 -0.744105  \n",
       "3      -0.615871 -0.520478 -0.750094  \n",
       "4      -0.658098 -0.520478 -0.750094  \n",
       "...          ...       ...       ...  \n",
       "395226 -0.893182 -0.520478 -0.750094  \n",
       "395227 -0.941335 -0.520478 -0.756333  \n",
       "395228 -0.983562 -0.520478 -0.768561  \n",
       "395229 -0.953435 -0.520478 -0.762322  \n",
       "395230 -0.941335 -0.520478 -0.780539  \n",
       "\n",
       "[395231 rows x 10 columns]"
      ]
     },
     "execution_count": 14,
     "metadata": {},
     "output_type": "execute_result"
    }
   ],
   "source": [
    "sc"
   ]
  },
  {
   "cell_type": "code",
   "execution_count": 15,
   "id": "65cfb75d",
   "metadata": {},
   "outputs": [],
   "source": [
    "# Splitting data for training and testing\n",
    "X_train, X_test, y_train, y_test = train_test_split(sc, y, test_size = 0.2, random_state = 39)"
   ]
  },
  {
   "cell_type": "markdown",
   "id": "3ba47781",
   "metadata": {},
   "source": [
    "# Deep Learning "
   ]
  },
  {
   "cell_type": "code",
   "execution_count": 16,
   "id": "d426e2e1",
   "metadata": {},
   "outputs": [],
   "source": [
    "from sklearn.preprocessing import MinMaxScaler\n",
    "from tensorflow.keras.models import Model\n",
    "from tensorflow.keras.layers import Input\n",
    "from tensorflow.keras.layers import Dense\n",
    "from tensorflow.keras.layers import LeakyReLU,ELU\n",
    "from tensorflow.keras.layers import BatchNormalization\n",
    "from tensorflow.keras.utils import plot_model\n",
    "import tensorflow as tf\n",
    "from sklearn.model_selection import cross_val_score\n",
    "from keras.models import Sequential\n",
    "from keras.layers import Dense, BatchNormalization, Dropout\n",
    "from tensorflow.keras.optimizers import Adam, SGD, RMSprop, Adadelta, Adagrad, Adamax, Nadam, Ftrl\n",
    "from keras.callbacks import EarlyStopping, ModelCheckpoint\n",
    "from keras.wrappers.scikit_learn import KerasClassifier\n",
    "from sklearn.metrics import make_scorer, accuracy_score\n",
    "from sklearn.model_selection import StratifiedKFold"
   ]
  },
  {
   "cell_type": "code",
   "execution_count": 17,
   "id": "cd0ef208",
   "metadata": {},
   "outputs": [],
   "source": [
    "from keras.layers import LeakyReLU\n",
    "LeakyReLU = LeakyReLU(alpha=0.1)\n",
    "from keras.models import Sequential\n",
    "from keras.layers import Dense, Flatten, Convolution1D, Dropout\n",
    "from keras.initializers import random_uniform"
   ]
  },
  {
   "cell_type": "markdown",
   "id": "f97d61bc",
   "metadata": {},
   "source": [
    "# 1. Define Network"
   ]
  },
  {
   "cell_type": "code",
   "execution_count": 18,
   "id": "bd77bf81",
   "metadata": {},
   "outputs": [],
   "source": [
    "num_classes = 24\n",
    "input_dim = X.shape[1]"
   ]
  },
  {
   "cell_type": "code",
   "execution_count": 19,
   "id": "fbdce465",
   "metadata": {},
   "outputs": [],
   "source": [
    "visible = Input(shape=(input_dim,))\n",
    "hidden1 = Dense(3000, activation='relu')(visible)\n",
    "hidden2 = Dense(1500, activation='relu')(hidden1)\n",
    "hidden3 = Dropout(0.2)(hidden2)\n",
    "hidden4 = Dense(750, activation='relu')(hidden3)\n",
    "hidden5 = Dense(375, activation='relu')(hidden4)\n",
    "hidden6 = Dense(48, activation='relu')(hidden5)\n",
    "output = Dense(num_classes, activation='softmax')(hidden6)\n",
    "model = Model(inputs=visible, outputs=output)"
   ]
  },
  {
   "cell_type": "code",
   "execution_count": 20,
   "id": "1dd33478",
   "metadata": {},
   "outputs": [
    {
     "name": "stdout",
     "output_type": "stream",
     "text": [
      "Model: \"model\"\n",
      "_________________________________________________________________\n",
      " Layer (type)                Output Shape              Param #   \n",
      "=================================================================\n",
      " input_1 (InputLayer)        [(None, 10)]              0         \n",
      "                                                                 \n",
      " dense (Dense)               (None, 3000)              33000     \n",
      "                                                                 \n",
      " dense_1 (Dense)             (None, 1500)              4501500   \n",
      "                                                                 \n",
      " dropout (Dropout)           (None, 1500)              0         \n",
      "                                                                 \n",
      " dense_2 (Dense)             (None, 750)               1125750   \n",
      "                                                                 \n",
      " dense_3 (Dense)             (None, 375)               281625    \n",
      "                                                                 \n",
      " dense_4 (Dense)             (None, 48)                18048     \n",
      "                                                                 \n",
      " dense_5 (Dense)             (None, 24)                1176      \n",
      "                                                                 \n",
      "=================================================================\n",
      "Total params: 5,961,099\n",
      "Trainable params: 5,961,099\n",
      "Non-trainable params: 0\n",
      "_________________________________________________________________\n"
     ]
    }
   ],
   "source": [
    "model.summary()"
   ]
  },
  {
   "cell_type": "markdown",
   "id": "3196ac97",
   "metadata": {},
   "source": [
    "# 2. Compile Network"
   ]
  },
  {
   "cell_type": "code",
   "execution_count": 21,
   "id": "7a2d558b",
   "metadata": {},
   "outputs": [],
   "source": [
    "model.compile(optimizer='adam', loss='categorical_crossentropy', metrics=['accuracy'])"
   ]
  },
  {
   "cell_type": "code",
   "execution_count": 22,
   "id": "c1d2b36d",
   "metadata": {},
   "outputs": [
    {
     "name": "stdout",
     "output_type": "stream",
     "text": [
      "You must install pydot (`pip install pydot`) and install graphviz (see instructions at https://graphviz.gitlab.io/download/) for plot_model/model_to_dot to work.\n"
     ]
    }
   ],
   "source": [
    "plot_model(model, 'EMG_ANN', show_shapes = True)"
   ]
  },
  {
   "cell_type": "markdown",
   "id": "3358b592",
   "metadata": {},
   "source": [
    "# 3. Fit Network"
   ]
  },
  {
   "cell_type": "code",
   "execution_count": 23,
   "id": "e0ed4ddd",
   "metadata": {},
   "outputs": [
    {
     "name": "stdout",
     "output_type": "stream",
     "text": [
      "Epoch 1/100\n",
      "78/78 [==============================] - 4s 29ms/step - loss: 1.4206 - accuracy: 0.6268 - val_loss: 1.0447 - val_accuracy: 0.7161\n",
      "Epoch 2/100\n",
      "78/78 [==============================] - 2s 25ms/step - loss: 0.9285 - accuracy: 0.7464 - val_loss: 0.8256 - val_accuracy: 0.7728\n",
      "Epoch 3/100\n",
      "78/78 [==============================] - 2s 25ms/step - loss: 0.7903 - accuracy: 0.7791 - val_loss: 0.7383 - val_accuracy: 0.7931\n",
      "Epoch 4/100\n",
      "78/78 [==============================] - 2s 25ms/step - loss: 0.7081 - accuracy: 0.7993 - val_loss: 0.6770 - val_accuracy: 0.8091\n",
      "Epoch 5/100\n",
      "78/78 [==============================] - 2s 25ms/step - loss: 0.6575 - accuracy: 0.8122 - val_loss: 0.6261 - val_accuracy: 0.8215\n",
      "Epoch 6/100\n",
      "78/78 [==============================] - 2s 25ms/step - loss: 0.6143 - accuracy: 0.8239 - val_loss: 0.5919 - val_accuracy: 0.8312\n",
      "Epoch 7/100\n",
      "78/78 [==============================] - 2s 25ms/step - loss: 0.5828 - accuracy: 0.8320 - val_loss: 0.5677 - val_accuracy: 0.8393\n",
      "Epoch 8/100\n",
      "78/78 [==============================] - 2s 25ms/step - loss: 0.5544 - accuracy: 0.8396 - val_loss: 0.5430 - val_accuracy: 0.8445\n",
      "Epoch 9/100\n",
      "78/78 [==============================] - 2s 25ms/step - loss: 0.5325 - accuracy: 0.8461 - val_loss: 0.5227 - val_accuracy: 0.8488\n",
      "Epoch 10/100\n",
      "78/78 [==============================] - 2s 25ms/step - loss: 0.5015 - accuracy: 0.8542 - val_loss: 0.4934 - val_accuracy: 0.8568\n",
      "Epoch 11/100\n",
      "78/78 [==============================] - 2s 25ms/step - loss: 0.4812 - accuracy: 0.8596 - val_loss: 0.4865 - val_accuracy: 0.8594\n",
      "Epoch 12/100\n",
      "78/78 [==============================] - 2s 25ms/step - loss: 0.4659 - accuracy: 0.8635 - val_loss: 0.4707 - val_accuracy: 0.8639\n",
      "Epoch 13/100\n",
      "78/78 [==============================] - 2s 25ms/step - loss: 0.4458 - accuracy: 0.8696 - val_loss: 0.4506 - val_accuracy: 0.8687\n",
      "Epoch 14/100\n",
      "78/78 [==============================] - 2s 25ms/step - loss: 0.4270 - accuracy: 0.8748 - val_loss: 0.4340 - val_accuracy: 0.8732\n",
      "Epoch 15/100\n",
      "78/78 [==============================] - 2s 25ms/step - loss: 0.4136 - accuracy: 0.8781 - val_loss: 0.4221 - val_accuracy: 0.8762\n",
      "Epoch 16/100\n",
      "78/78 [==============================] - 2s 25ms/step - loss: 0.4011 - accuracy: 0.8819 - val_loss: 0.4122 - val_accuracy: 0.8796\n",
      "Epoch 17/100\n",
      "78/78 [==============================] - 2s 25ms/step - loss: 0.3832 - accuracy: 0.8868 - val_loss: 0.3957 - val_accuracy: 0.8838\n",
      "Epoch 18/100\n",
      "78/78 [==============================] - 2s 25ms/step - loss: 0.3707 - accuracy: 0.8899 - val_loss: 0.3911 - val_accuracy: 0.8848\n",
      "Epoch 19/100\n",
      "78/78 [==============================] - 2s 26ms/step - loss: 0.3595 - accuracy: 0.8936 - val_loss: 0.3875 - val_accuracy: 0.8886\n",
      "Epoch 20/100\n",
      "78/78 [==============================] - 2s 26ms/step - loss: 0.3471 - accuracy: 0.8973 - val_loss: 0.3577 - val_accuracy: 0.8947\n",
      "Epoch 21/100\n",
      "78/78 [==============================] - 2s 25ms/step - loss: 0.3346 - accuracy: 0.9007 - val_loss: 0.3492 - val_accuracy: 0.8989\n",
      "Epoch 22/100\n",
      "78/78 [==============================] - 2s 25ms/step - loss: 0.3260 - accuracy: 0.9030 - val_loss: 0.3511 - val_accuracy: 0.8971\n",
      "Epoch 23/100\n",
      "78/78 [==============================] - 2s 25ms/step - loss: 0.3150 - accuracy: 0.9063 - val_loss: 0.3416 - val_accuracy: 0.9000\n",
      "Epoch 24/100\n",
      "78/78 [==============================] - 2s 25ms/step - loss: 0.3051 - accuracy: 0.9091 - val_loss: 0.3296 - val_accuracy: 0.9032\n",
      "Epoch 25/100\n",
      "78/78 [==============================] - 2s 25ms/step - loss: 0.2980 - accuracy: 0.9112 - val_loss: 0.3239 - val_accuracy: 0.9049\n",
      "Epoch 26/100\n",
      "78/78 [==============================] - 2s 25ms/step - loss: 0.2904 - accuracy: 0.9132 - val_loss: 0.3202 - val_accuracy: 0.9054\n",
      "Epoch 27/100\n",
      "78/78 [==============================] - 2s 25ms/step - loss: 0.2817 - accuracy: 0.9158 - val_loss: 0.3179 - val_accuracy: 0.9052\n",
      "Epoch 28/100\n",
      "78/78 [==============================] - 2s 26ms/step - loss: 0.2762 - accuracy: 0.9172 - val_loss: 0.3021 - val_accuracy: 0.9115\n",
      "Epoch 29/100\n",
      "78/78 [==============================] - 2s 26ms/step - loss: 0.2676 - accuracy: 0.9196 - val_loss: 0.3048 - val_accuracy: 0.9105\n",
      "Epoch 30/100\n",
      "78/78 [==============================] - 2s 26ms/step - loss: 0.2595 - accuracy: 0.9222 - val_loss: 0.2881 - val_accuracy: 0.9150\n",
      "Epoch 31/100\n",
      "78/78 [==============================] - 2s 26ms/step - loss: 0.2514 - accuracy: 0.9248 - val_loss: 0.2933 - val_accuracy: 0.9136\n",
      "Epoch 32/100\n",
      "78/78 [==============================] - 2s 26ms/step - loss: 0.2484 - accuracy: 0.9253 - val_loss: 0.2818 - val_accuracy: 0.9160\n",
      "Epoch 33/100\n",
      "78/78 [==============================] - 2s 26ms/step - loss: 0.2396 - accuracy: 0.9278 - val_loss: 0.2817 - val_accuracy: 0.9180\n",
      "Epoch 34/100\n",
      "78/78 [==============================] - 2s 26ms/step - loss: 0.2387 - accuracy: 0.9277 - val_loss: 0.2803 - val_accuracy: 0.9175\n",
      "Epoch 35/100\n",
      "78/78 [==============================] - 2s 26ms/step - loss: 0.2328 - accuracy: 0.9298 - val_loss: 0.2715 - val_accuracy: 0.9202\n",
      "Epoch 36/100\n",
      "78/78 [==============================] - 2s 26ms/step - loss: 0.2246 - accuracy: 0.9324 - val_loss: 0.2701 - val_accuracy: 0.9222\n",
      "Epoch 37/100\n",
      "78/78 [==============================] - 2s 26ms/step - loss: 0.2215 - accuracy: 0.9333 - val_loss: 0.2600 - val_accuracy: 0.9239\n",
      "Epoch 38/100\n",
      "78/78 [==============================] - 2s 26ms/step - loss: 0.2195 - accuracy: 0.9337 - val_loss: 0.2679 - val_accuracy: 0.9209\n",
      "Epoch 39/100\n",
      "78/78 [==============================] - 2s 26ms/step - loss: 0.2145 - accuracy: 0.9354 - val_loss: 0.2589 - val_accuracy: 0.9245\n",
      "Epoch 40/100\n",
      "78/78 [==============================] - 2s 26ms/step - loss: 0.2076 - accuracy: 0.9372 - val_loss: 0.2551 - val_accuracy: 0.9251\n",
      "Epoch 41/100\n",
      "78/78 [==============================] - 2s 26ms/step - loss: 0.2031 - accuracy: 0.9388 - val_loss: 0.2530 - val_accuracy: 0.9262\n",
      "Epoch 42/100\n",
      "78/78 [==============================] - 2s 26ms/step - loss: 0.1993 - accuracy: 0.9396 - val_loss: 0.2433 - val_accuracy: 0.9291\n",
      "Epoch 43/100\n",
      "78/78 [==============================] - 2s 26ms/step - loss: 0.1938 - accuracy: 0.9413 - val_loss: 0.2420 - val_accuracy: 0.9300\n",
      "Epoch 44/100\n",
      "78/78 [==============================] - 2s 26ms/step - loss: 0.1925 - accuracy: 0.9416 - val_loss: 0.2466 - val_accuracy: 0.9277\n",
      "Epoch 45/100\n",
      "78/78 [==============================] - 2s 26ms/step - loss: 0.1912 - accuracy: 0.9419 - val_loss: 0.2401 - val_accuracy: 0.9297\n",
      "Epoch 46/100\n",
      "78/78 [==============================] - 2s 26ms/step - loss: 0.1839 - accuracy: 0.9440 - val_loss: 0.2432 - val_accuracy: 0.9295\n",
      "Epoch 47/100\n",
      "78/78 [==============================] - 2s 26ms/step - loss: 0.1848 - accuracy: 0.9439 - val_loss: 0.2391 - val_accuracy: 0.9303\n",
      "Epoch 48/100\n",
      "78/78 [==============================] - 2s 26ms/step - loss: 0.1786 - accuracy: 0.9456 - val_loss: 0.2375 - val_accuracy: 0.9299\n",
      "Epoch 49/100\n",
      "78/78 [==============================] - 2s 26ms/step - loss: 0.1770 - accuracy: 0.9463 - val_loss: 0.2329 - val_accuracy: 0.9335\n",
      "Epoch 50/100\n",
      "78/78 [==============================] - 2s 26ms/step - loss: 0.1714 - accuracy: 0.9478 - val_loss: 0.2313 - val_accuracy: 0.9321\n",
      "Epoch 51/100\n",
      "78/78 [==============================] - 2s 26ms/step - loss: 0.1727 - accuracy: 0.9474 - val_loss: 0.2284 - val_accuracy: 0.9336\n",
      "Epoch 52/100\n",
      "78/78 [==============================] - 2s 26ms/step - loss: 0.1706 - accuracy: 0.9482 - val_loss: 0.2283 - val_accuracy: 0.9332\n",
      "Epoch 53/100\n",
      "78/78 [==============================] - 2s 26ms/step - loss: 0.1680 - accuracy: 0.9489 - val_loss: 0.2296 - val_accuracy: 0.9349\n",
      "Epoch 54/100\n",
      "78/78 [==============================] - 2s 26ms/step - loss: 0.1635 - accuracy: 0.9502 - val_loss: 0.2224 - val_accuracy: 0.9358\n",
      "Epoch 55/100\n",
      "78/78 [==============================] - 2s 26ms/step - loss: 0.1606 - accuracy: 0.9509 - val_loss: 0.2192 - val_accuracy: 0.9376\n",
      "Epoch 56/100\n",
      "78/78 [==============================] - 2s 26ms/step - loss: 0.1587 - accuracy: 0.9516 - val_loss: 0.2192 - val_accuracy: 0.9374\n",
      "Epoch 57/100\n",
      "78/78 [==============================] - 2s 26ms/step - loss: 0.1542 - accuracy: 0.9531 - val_loss: 0.2226 - val_accuracy: 0.9373\n",
      "Epoch 58/100\n"
     ]
    },
    {
     "name": "stdout",
     "output_type": "stream",
     "text": [
      "78/78 [==============================] - 2s 26ms/step - loss: 0.1563 - accuracy: 0.9522 - val_loss: 0.2197 - val_accuracy: 0.9369\n",
      "Epoch 59/100\n",
      "78/78 [==============================] - 2s 26ms/step - loss: 0.1554 - accuracy: 0.9526 - val_loss: 0.2168 - val_accuracy: 0.9381\n",
      "Epoch 60/100\n",
      "78/78 [==============================] - 2s 26ms/step - loss: 0.1507 - accuracy: 0.9545 - val_loss: 0.2091 - val_accuracy: 0.9404\n",
      "Epoch 61/100\n",
      "78/78 [==============================] - 2s 26ms/step - loss: 0.1486 - accuracy: 0.9545 - val_loss: 0.2217 - val_accuracy: 0.9372\n",
      "Epoch 62/100\n",
      "78/78 [==============================] - 2s 26ms/step - loss: 0.1509 - accuracy: 0.9540 - val_loss: 0.2136 - val_accuracy: 0.9390\n",
      "Epoch 63/100\n",
      "78/78 [==============================] - 2s 26ms/step - loss: 0.1448 - accuracy: 0.9556 - val_loss: 0.2150 - val_accuracy: 0.9393\n",
      "Epoch 64/100\n",
      "78/78 [==============================] - 2s 26ms/step - loss: 0.1412 - accuracy: 0.9568 - val_loss: 0.2118 - val_accuracy: 0.9408\n",
      "Epoch 65/100\n",
      "78/78 [==============================] - 2s 26ms/step - loss: 0.1400 - accuracy: 0.9572 - val_loss: 0.2129 - val_accuracy: 0.9396\n",
      "Epoch 66/100\n",
      "78/78 [==============================] - 2s 26ms/step - loss: 0.1399 - accuracy: 0.9569 - val_loss: 0.2050 - val_accuracy: 0.9422\n",
      "Epoch 67/100\n",
      "78/78 [==============================] - 2s 26ms/step - loss: 0.1362 - accuracy: 0.9583 - val_loss: 0.2077 - val_accuracy: 0.9403\n",
      "Epoch 68/100\n",
      "78/78 [==============================] - 2s 27ms/step - loss: 0.1371 - accuracy: 0.9580 - val_loss: 0.2048 - val_accuracy: 0.9414\n",
      "Epoch 69/100\n",
      "78/78 [==============================] - 2s 26ms/step - loss: 0.1339 - accuracy: 0.9585 - val_loss: 0.2082 - val_accuracy: 0.9420\n",
      "Epoch 70/100\n",
      "78/78 [==============================] - 2s 26ms/step - loss: 0.1355 - accuracy: 0.9582 - val_loss: 0.2053 - val_accuracy: 0.9422\n",
      "Epoch 71/100\n",
      "78/78 [==============================] - 2s 26ms/step - loss: 0.1310 - accuracy: 0.9595 - val_loss: 0.2052 - val_accuracy: 0.9439\n",
      "Epoch 72/100\n",
      "78/78 [==============================] - 2s 26ms/step - loss: 0.1343 - accuracy: 0.9586 - val_loss: 0.2032 - val_accuracy: 0.9433\n",
      "Epoch 73/100\n",
      "78/78 [==============================] - 2s 26ms/step - loss: 0.1280 - accuracy: 0.9604 - val_loss: 0.2030 - val_accuracy: 0.9438\n",
      "Epoch 74/100\n",
      "78/78 [==============================] - 2s 26ms/step - loss: 0.1280 - accuracy: 0.9602 - val_loss: 0.1958 - val_accuracy: 0.9455\n",
      "Epoch 75/100\n",
      "78/78 [==============================] - 2s 26ms/step - loss: 0.1268 - accuracy: 0.9607 - val_loss: 0.1994 - val_accuracy: 0.9446\n",
      "Epoch 76/100\n",
      "78/78 [==============================] - 2s 26ms/step - loss: 0.1246 - accuracy: 0.9613 - val_loss: 0.1922 - val_accuracy: 0.9451\n",
      "Epoch 77/100\n",
      "78/78 [==============================] - 2s 26ms/step - loss: 0.1242 - accuracy: 0.9618 - val_loss: 0.2016 - val_accuracy: 0.9436\n",
      "Epoch 78/100\n",
      "78/78 [==============================] - 2s 26ms/step - loss: 0.1220 - accuracy: 0.9623 - val_loss: 0.1911 - val_accuracy: 0.9473\n",
      "Epoch 79/100\n",
      "78/78 [==============================] - 2s 26ms/step - loss: 0.1181 - accuracy: 0.9631 - val_loss: 0.1987 - val_accuracy: 0.9456\n",
      "Epoch 80/100\n",
      "78/78 [==============================] - 2s 26ms/step - loss: 0.1195 - accuracy: 0.9632 - val_loss: 0.2036 - val_accuracy: 0.9441\n",
      "Epoch 81/100\n",
      "78/78 [==============================] - 2s 26ms/step - loss: 0.1173 - accuracy: 0.9634 - val_loss: 0.1948 - val_accuracy: 0.9453\n",
      "Epoch 82/100\n",
      "78/78 [==============================] - 2s 26ms/step - loss: 0.1186 - accuracy: 0.9633 - val_loss: 0.1917 - val_accuracy: 0.9467\n",
      "Epoch 83/100\n",
      "78/78 [==============================] - 2s 26ms/step - loss: 0.1169 - accuracy: 0.9639 - val_loss: 0.1901 - val_accuracy: 0.9480\n",
      "Epoch 84/100\n",
      "78/78 [==============================] - 2s 26ms/step - loss: 0.1143 - accuracy: 0.9646 - val_loss: 0.1953 - val_accuracy: 0.9462\n",
      "Epoch 85/100\n",
      "78/78 [==============================] - 2s 26ms/step - loss: 0.1123 - accuracy: 0.9647 - val_loss: 0.1900 - val_accuracy: 0.9482\n",
      "Epoch 86/100\n",
      "78/78 [==============================] - 2s 26ms/step - loss: 0.1133 - accuracy: 0.9646 - val_loss: 0.1948 - val_accuracy: 0.9459\n",
      "Epoch 87/100\n",
      "78/78 [==============================] - 2s 26ms/step - loss: 0.1125 - accuracy: 0.9650 - val_loss: 0.1898 - val_accuracy: 0.9476\n",
      "Epoch 88/100\n",
      "78/78 [==============================] - 2s 26ms/step - loss: 0.1103 - accuracy: 0.9655 - val_loss: 0.1878 - val_accuracy: 0.9480\n",
      "Epoch 89/100\n",
      "78/78 [==============================] - 2s 26ms/step - loss: 0.1063 - accuracy: 0.9667 - val_loss: 0.1896 - val_accuracy: 0.9486\n",
      "Epoch 90/100\n",
      "78/78 [==============================] - 2s 26ms/step - loss: 0.1052 - accuracy: 0.9672 - val_loss: 0.1872 - val_accuracy: 0.9490\n",
      "Epoch 91/100\n",
      "78/78 [==============================] - 2s 26ms/step - loss: 0.1071 - accuracy: 0.9668 - val_loss: 0.1941 - val_accuracy: 0.9473\n",
      "Epoch 92/100\n",
      "78/78 [==============================] - 2s 26ms/step - loss: 0.1080 - accuracy: 0.9664 - val_loss: 0.1912 - val_accuracy: 0.9473\n",
      "Epoch 93/100\n",
      "78/78 [==============================] - 2s 26ms/step - loss: 0.1055 - accuracy: 0.9671 - val_loss: 0.1905 - val_accuracy: 0.9488\n",
      "Epoch 94/100\n",
      "78/78 [==============================] - 2s 26ms/step - loss: 0.1069 - accuracy: 0.9669 - val_loss: 0.1876 - val_accuracy: 0.9501\n",
      "Epoch 95/100\n",
      "78/78 [==============================] - 2s 26ms/step - loss: 0.1030 - accuracy: 0.9678 - val_loss: 0.1894 - val_accuracy: 0.9495\n",
      "Epoch 96/100\n",
      "78/78 [==============================] - 2s 26ms/step - loss: 0.1031 - accuracy: 0.9675 - val_loss: 0.1901 - val_accuracy: 0.9485\n",
      "Epoch 97/100\n",
      "78/78 [==============================] - 2s 26ms/step - loss: 0.1029 - accuracy: 0.9677 - val_loss: 0.1890 - val_accuracy: 0.9494\n",
      "Epoch 98/100\n",
      "78/78 [==============================] - 2s 26ms/step - loss: 0.1016 - accuracy: 0.9683 - val_loss: 0.1911 - val_accuracy: 0.9489\n",
      "Epoch 99/100\n",
      "78/78 [==============================] - 2s 26ms/step - loss: 0.1012 - accuracy: 0.9681 - val_loss: 0.1873 - val_accuracy: 0.9499\n",
      "Epoch 100/100\n",
      "78/78 [==============================] - 2s 26ms/step - loss: 0.0977 - accuracy: 0.9694 - val_loss: 0.1956 - val_accuracy: 0.9495\n"
     ]
    }
   ],
   "source": [
    "history = model.fit(X_train, y_train, batch_size=4056, epochs=100, validation_data = (X_test, y_test))"
   ]
  },
  {
   "cell_type": "markdown",
   "id": "ffed59b1",
   "metadata": {},
   "source": [
    "# 4.Evaluate Network"
   ]
  },
  {
   "cell_type": "markdown",
   "id": "28731190",
   "metadata": {},
   "source": [
    "## 4.1. Plotting Loss and Accuracy"
   ]
  },
  {
   "cell_type": "code",
   "execution_count": 24,
   "id": "971e6040",
   "metadata": {},
   "outputs": [
    {
     "data": {
      "text/plain": [
       "Text(0.5, 1.0, 'Loss Curve of Deep Neural Netowork')"
      ]
     },
     "execution_count": 24,
     "metadata": {},
     "output_type": "execute_result"
    },
    {
     "data": {
      "image/png": "[encoded data removed]",
      "text/plain": [
       "<Figure size 432x288 with 1 Axes>"
      ]
     },
     "metadata": {
      "needs_background": "light"
     },
     "output_type": "display_data"
    }
   ],
   "source": [
    "#Loss Curve\n",
    "\n",
    "\n",
    "plt.plot(figsize = [8,6])\n",
    "\n",
    "plt.plot(history.history['loss'],'r',linewidth = 3.0)\n",
    "plt.plot(history.history['val_loss'],'b',linewidth = 3.0)\n",
    "\n",
    "plt.legend(['Training Loss', 'Validation Loss'], fontsize = 18)\n",
    "\n",
    "plt.xlabel('Epochs', fontsize = 16)\n",
    "plt.ylabel('Loss', fontsize = 16)\n",
    "\n",
    "plt.title('Loss Curve of Deep Neural Netowork' , fontsize = 16 )\n",
    "\n"
   ]
  },
  {
   "cell_type": "code",
   "execution_count": 25,
   "id": "b0c193ec",
   "metadata": {},
   "outputs": [
    {
     "data": {
      "text/plain": [
       "Text(0.5, 1.0, 'Accuracy Curve of Deep Neural Netowork')"
      ]
     },
     "execution_count": 25,
     "metadata": {},
     "output_type": "execute_result"
    },
    {
     "data": {
      "image/png": "[encoded data removed]",
      "text/plain": [
       "<Figure size 432x288 with 1 Axes>"
      ]
     },
     "metadata": {
      "needs_background": "light"
     },
     "output_type": "display_data"
    }
   ],
   "source": [
    "#Accuracy Curve\n",
    "\n",
    "plt.plot(figsize = [8,6])\n",
    "plt.plot(history.history['accuracy'],'r',linewidth = 3.0)\n",
    "plt.plot(history.history['val_accuracy'],'b',linewidth = 3.0)\n",
    "\n",
    "plt.legend(['Training Accuracy', 'Validation Accuracy'], fontsize = 18)\n",
    "\n",
    "plt.xlabel('Epochs', fontsize = 16)\n",
    "plt.ylabel('Accuracy', fontsize = 16)\n",
    "\n",
    "\n",
    "plt.title('Accuracy Curve of Deep Neural Netowork' , fontsize = 16 )"
   ]
  },
  {
   "cell_type": "markdown",
   "id": "741a02aa",
   "metadata": {},
   "source": [
    "##  4.2 Make Predictions"
   ]
  },
  {
   "cell_type": "code",
   "execution_count": 26,
   "id": "e8465627",
   "metadata": {},
   "outputs": [],
   "source": [
    "predictions = model.predict(X_test)\n",
    "predictions = np.argmax(predictions, axis = 1)"
   ]
  },
  {
   "cell_type": "code",
   "execution_count": 27,
   "id": "3cac1a50",
   "metadata": {},
   "outputs": [
    {
     "data": {
      "text/plain": [
       "array([ 3,  0,  0, ...,  1,  0, 19], dtype=int64)"
      ]
     },
     "execution_count": 27,
     "metadata": {},
     "output_type": "execute_result"
    }
   ],
   "source": [
    "predictions"
   ]
  },
  {
   "cell_type": "markdown",
   "id": "70d666bb",
   "metadata": {},
   "source": [
    "#### Transforming from One Hot Encoding"
   ]
  },
  {
   "cell_type": "code",
   "execution_count": 28,
   "id": "7234b6e7",
   "metadata": {},
   "outputs": [
    {
     "data": {
      "text/plain": [
       "0"
      ]
     },
     "execution_count": 28,
     "metadata": {},
     "output_type": "execute_result"
    }
   ],
   "source": [
    "y_test =np.argmax(y_test, axis=1)\n",
    "y_test[1]"
   ]
  },
  {
   "cell_type": "code",
   "execution_count": 29,
   "id": "6278820d",
   "metadata": {},
   "outputs": [
    {
     "name": "stdout",
     "output_type": "stream",
     "text": [
      "Accuracy is: 94.95237010892254\n"
     ]
    }
   ],
   "source": [
    "from sklearn.metrics import accuracy_score\n",
    "accuracy = {accuracy_score(y_test, predictions)}\n",
    "print(f\"Accuracy is: {accuracy_score(y_test, predictions)* 100}\")"
   ]
  },
  {
   "cell_type": "markdown",
   "id": "eb044ea1",
   "metadata": {},
   "source": [
    "## 4.3 Classification Report"
   ]
  },
  {
   "cell_type": "code",
   "execution_count": 30,
   "id": "001ebc5a",
   "metadata": {},
   "outputs": [
    {
     "name": "stdout",
     "output_type": "stream",
     "text": [
      "\u001b[1mClassification report : \u001b[0m\n",
      "               precision    recall  f1-score   support\n",
      "\n",
      "           0       0.95      0.99      0.97     40780\n",
      "           1       0.96      0.93      0.95      2304\n",
      "           2       0.90      0.88      0.89      1970\n",
      "           3       0.96      0.91      0.94      2146\n",
      "           4       0.95      0.90      0.92      2172\n",
      "           5       0.96      0.89      0.92      1921\n",
      "           6       0.96      0.94      0.95      1967\n",
      "           7       0.92      0.89      0.91      2377\n",
      "           8       0.96      0.88      0.92      2261\n",
      "           9       0.93      0.89      0.91      2141\n",
      "          10       0.95      0.92      0.94      2305\n",
      "          11       0.95      0.93      0.94      2182\n",
      "          12       0.94      0.92      0.93      2233\n",
      "          13       0.94      0.92      0.93      1299\n",
      "          14       0.95      0.89      0.92      1612\n",
      "          15       0.90      0.91      0.91      1578\n",
      "          16       0.95      0.91      0.93      1547\n",
      "          17       0.95      0.94      0.95      1668\n",
      "          18       0.87      0.79      0.83       771\n",
      "          19       0.95      0.85      0.90       784\n",
      "          20       0.96      0.93      0.94       765\n",
      "          21       0.98      0.93      0.96       663\n",
      "          22       0.99      0.96      0.97       763\n",
      "          23       0.94      0.95      0.95       838\n",
      "\n",
      "    accuracy                           0.95     79047\n",
      "   macro avg       0.94      0.91      0.93     79047\n",
      "weighted avg       0.95      0.95      0.95     79047\n",
      "\n",
      "\u001b[1mConfusion Matrix : \u001b[0m\n"
     ]
    },
    {
     "data": {
      "image/png": "[encoded data removed]",
      "text/plain": [
       "<Figure size 432x288 with 2 Axes>"
      ]
     },
     "metadata": {
      "needs_background": "light"
     },
     "output_type": "display_data"
    }
   ],
   "source": [
    "from sklearn.metrics import confusion_matrix, f1_score, accuracy_score, classification_report\n",
    "print('\\033[1m' +'Classification report : '+ '\\033[0m\\n', classification_report(y_test, predictions))\n",
    "\n",
    "cm = confusion_matrix(predictions, y_test)\n",
    "print('\\033[1m' +'Confusion Matrix : '+ '\\033[0m')\n",
    "sns.heatmap(cm, cmap = 'OrRd',annot = True, fmt='d')\n",
    "plt.show()"
   ]
  },
  {
   "cell_type": "markdown",
   "id": "eaa5e512",
   "metadata": {},
   "source": [
    "## 4.4 Evaluation"
   ]
  },
  {
   "cell_type": "code",
   "execution_count": 31,
   "id": "9e469f86",
   "metadata": {},
   "outputs": [
    {
     "name": "stdout",
     "output_type": "stream",
     "text": [
      "MAE: 0.4067200526269182\n",
      "MSE: 4.863157362075727\n",
      "RMSE: 2.2052567564970134\n"
     ]
    }
   ],
   "source": [
    "from sklearn import metrics\n",
    "\n",
    "print('MAE:', metrics.mean_absolute_error(y_test,predictions))\n",
    "print('MSE:', metrics.mean_squared_error(y_test, predictions))\n",
    "print('RMSE:', np.sqrt(metrics.mean_squared_error(y_test, predictions)))"
   ]
  },
  {
   "cell_type": "code",
   "execution_count": 32,
   "id": "dff2a82d",
   "metadata": {},
   "outputs": [
    {
     "name": "stdout",
     "output_type": "stream",
     "text": [
      "Precision Score :  0.9493879509443125\n",
      "Recall Score :  0.9495237010892253\n",
      "f1_score :  0.949069446321425\n"
     ]
    }
   ],
   "source": [
    "from sklearn.metrics import precision_score\n",
    "print(\"Precision Score : \",precision_score(y_test, predictions, average='weighted'))\n",
    "\n",
    "\n",
    "from sklearn.metrics import recall_score\n",
    "print(\"Recall Score : \",recall_score(y_test, predictions,average='weighted'))\n",
    "\n",
    "\n",
    "from sklearn.metrics import f1_score\n",
    "print(\"f1_score : \",f1_score(y_test, predictions,average='weighted'))"
   ]
  },
  {
   "cell_type": "code",
   "execution_count": null,
   "id": "81ac7468",
   "metadata": {},
   "outputs": [],
   "source": []
  },
  {
   "cell_type": "code",
   "execution_count": null,
   "id": "71a4c6e0",
   "metadata": {},
   "outputs": [],
   "source": []
  }
 ],
 "metadata": {
  "kernelspec": {
   "display_name": "Python 3 (ipykernel)",
   "language": "python",
   "name": "python3"
  },
  "language_info": {
   "codemirror_mode": {
    "name": "ipython",
    "version": 3
   },
   "file_extension": ".py",
   "mimetype": "text/x-python",
   "name": "python",
   "nbconvert_exporter": "python",
   "pygments_lexer": "ipython3",
   "version": "3.8.12"
  }
 },
 "nbformat": 4,
 "nbformat_minor": 5
}
