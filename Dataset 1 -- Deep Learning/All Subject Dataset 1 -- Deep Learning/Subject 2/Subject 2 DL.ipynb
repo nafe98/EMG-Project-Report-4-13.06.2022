{
 "cells": [
  {
   "cell_type": "markdown",
   "id": "bf8ee932",
   "metadata": {},
   "source": [
    "# Importing Libraries"
   ]
  },
  {
   "cell_type": "code",
   "execution_count": 1,
   "id": "0f663fa8",
   "metadata": {},
   "outputs": [],
   "source": [
    "import numpy as np\n",
    "import pandas as pd\n",
    "import matplotlib.pyplot as plt\n",
    "import seaborn as sns\n",
    "from sklearn.model_selection import train_test_split"
   ]
  },
  {
   "cell_type": "markdown",
   "id": "511af272",
   "metadata": {},
   "source": [
    "# Loading Data"
   ]
  },
  {
   "cell_type": "code",
   "execution_count": 2,
   "id": "04fd19b0",
   "metadata": {},
   "outputs": [
    {
     "data": {
      "text/html": [
       "<div>\n",
       "<style scoped>\n",
       "    .dataframe tbody tr th:only-of-type {\n",
       "        vertical-align: middle;\n",
       "    }\n",
       "\n",
       "    .dataframe tbody tr th {\n",
       "        vertical-align: top;\n",
       "    }\n",
       "\n",
       "    .dataframe thead th {\n",
       "        text-align: right;\n",
       "    }\n",
       "</style>\n",
       "<table border=\"1\" class=\"dataframe\">\n",
       "  <thead>\n",
       "    <tr style=\"text-align: right;\">\n",
       "      <th></th>\n",
       "      <th>Emg1</th>\n",
       "      <th>Emg2</th>\n",
       "      <th>Emg3</th>\n",
       "      <th>Emg4</th>\n",
       "      <th>Emg5</th>\n",
       "      <th>Emg6</th>\n",
       "      <th>Emg7</th>\n",
       "      <th>Emg8</th>\n",
       "      <th>Emg9</th>\n",
       "      <th>Emg10</th>\n",
       "      <th>repetition</th>\n",
       "      <th>rerepetition</th>\n",
       "      <th>stimulus</th>\n",
       "      <th>restimulus</th>\n",
       "    </tr>\n",
       "  </thead>\n",
       "  <tbody>\n",
       "    <tr>\n",
       "      <th>159785</th>\n",
       "      <td>0.1050</td>\n",
       "      <td>0.2612</td>\n",
       "      <td>0.0537</td>\n",
       "      <td>0.0024</td>\n",
       "      <td>0.0024</td>\n",
       "      <td>0.0024</td>\n",
       "      <td>0.0024</td>\n",
       "      <td>0.0024</td>\n",
       "      <td>0.0024</td>\n",
       "      <td>0.0024</td>\n",
       "      <td>1</td>\n",
       "      <td>0</td>\n",
       "      <td>8</td>\n",
       "      <td>0</td>\n",
       "    </tr>\n",
       "    <tr>\n",
       "      <th>334038</th>\n",
       "      <td>0.7886</td>\n",
       "      <td>0.7153</td>\n",
       "      <td>0.1099</td>\n",
       "      <td>0.5688</td>\n",
       "      <td>0.0293</td>\n",
       "      <td>0.0024</td>\n",
       "      <td>0.0244</td>\n",
       "      <td>0.3955</td>\n",
       "      <td>0.3076</td>\n",
       "      <td>0.2661</td>\n",
       "      <td>5</td>\n",
       "      <td>5</td>\n",
       "      <td>10</td>\n",
       "      <td>10</td>\n",
       "    </tr>\n",
       "    <tr>\n",
       "      <th>337619</th>\n",
       "      <td>0.0757</td>\n",
       "      <td>0.1367</td>\n",
       "      <td>0.0024</td>\n",
       "      <td>0.0024</td>\n",
       "      <td>0.0024</td>\n",
       "      <td>0.0024</td>\n",
       "      <td>0.0024</td>\n",
       "      <td>0.0024</td>\n",
       "      <td>0.0024</td>\n",
       "      <td>0.0024</td>\n",
       "      <td>0</td>\n",
       "      <td>0</td>\n",
       "      <td>0</td>\n",
       "      <td>0</td>\n",
       "    </tr>\n",
       "    <tr>\n",
       "      <th>308283</th>\n",
       "      <td>0.4126</td>\n",
       "      <td>0.3955</td>\n",
       "      <td>0.0830</td>\n",
       "      <td>0.3857</td>\n",
       "      <td>0.1660</td>\n",
       "      <td>0.0122</td>\n",
       "      <td>0.1660</td>\n",
       "      <td>1.0205</td>\n",
       "      <td>0.1978</td>\n",
       "      <td>0.9473</td>\n",
       "      <td>7</td>\n",
       "      <td>7</td>\n",
       "      <td>7</td>\n",
       "      <td>7</td>\n",
       "    </tr>\n",
       "    <tr>\n",
       "      <th>24732</th>\n",
       "      <td>0.5396</td>\n",
       "      <td>0.0464</td>\n",
       "      <td>0.1929</td>\n",
       "      <td>0.0854</td>\n",
       "      <td>0.0024</td>\n",
       "      <td>0.0024</td>\n",
       "      <td>0.0024</td>\n",
       "      <td>0.1807</td>\n",
       "      <td>0.4468</td>\n",
       "      <td>0.0293</td>\n",
       "      <td>10</td>\n",
       "      <td>10</td>\n",
       "      <td>3</td>\n",
       "      <td>3</td>\n",
       "    </tr>\n",
       "  </tbody>\n",
       "</table>\n",
       "</div>"
      ],
      "text/plain": [
       "         Emg1     Emg2    Emg3    Emg4   Emg5     Emg6    Emg7    Emg8  \\\n",
       "159785  0.1050  0.2612  0.0537  0.0024  0.0024  0.0024  0.0024  0.0024   \n",
       "334038  0.7886  0.7153  0.1099  0.5688  0.0293  0.0024  0.0244  0.3955   \n",
       "337619  0.0757  0.1367  0.0024  0.0024  0.0024  0.0024  0.0024  0.0024   \n",
       "308283  0.4126  0.3955  0.0830  0.3857  0.1660  0.0122  0.1660  1.0205   \n",
       "24732   0.5396  0.0464  0.1929  0.0854  0.0024  0.0024  0.0024  0.1807   \n",
       "\n",
       "          Emg9   Emg10  repetition  rerepetition  stimulus  restimulus  \n",
       "159785  0.0024  0.0024           1             0         8           0  \n",
       "334038  0.3076  0.2661           5             5        10          10  \n",
       "337619  0.0024  0.0024           0             0         0           0  \n",
       "308283  0.1978  0.9473           7             7         7           7  \n",
       "24732   0.4468  0.0293          10            10         3           3  "
      ]
     },
     "execution_count": 2,
     "metadata": {},
     "output_type": "execute_result"
    }
   ],
   "source": [
    "raw_data = pd.read_excel('Dataset 1 Patient 2.xlsx')\n",
    "raw_data.sample(5)"
   ]
  },
  {
   "cell_type": "code",
   "execution_count": 3,
   "id": "80369ddb",
   "metadata": {},
   "outputs": [
    {
     "name": "stdout",
     "output_type": "stream",
     "text": [
      "<class 'pandas.core.frame.DataFrame'>\n",
      "RangeIndex: 472501 entries, 0 to 472500\n",
      "Data columns (total 14 columns):\n",
      " #   Column        Non-Null Count   Dtype  \n",
      "---  ------        --------------   -----  \n",
      " 0   Emg1          472501 non-null  float64\n",
      " 1   Emg2          472501 non-null  float64\n",
      " 2   Emg3          472501 non-null  float64\n",
      " 3   Emg4          472501 non-null  float64\n",
      " 4   Emg5          472501 non-null  float64\n",
      " 5   Emg6          472501 non-null  float64\n",
      " 6   Emg7          472501 non-null  float64\n",
      " 7   Emg8          472501 non-null  float64\n",
      " 8   Emg9          472501 non-null  float64\n",
      " 9   Emg10         472501 non-null  float64\n",
      " 10  repetition    472501 non-null  int64  \n",
      " 11  rerepetition  472501 non-null  int64  \n",
      " 12  stimulus      472501 non-null  int64  \n",
      " 13  restimulus    472501 non-null  int64  \n",
      "dtypes: float64(10), int64(4)\n",
      "memory usage: 50.5 MB\n"
     ]
    }
   ],
   "source": [
    "raw_data.info()"
   ]
  },
  {
   "cell_type": "code",
   "execution_count": 4,
   "id": "109445f8",
   "metadata": {},
   "outputs": [
    {
     "data": {
      "text/html": [
       "<div>\n",
       "<style scoped>\n",
       "    .dataframe tbody tr th:only-of-type {\n",
       "        vertical-align: middle;\n",
       "    }\n",
       "\n",
       "    .dataframe tbody tr th {\n",
       "        vertical-align: top;\n",
       "    }\n",
       "\n",
       "    .dataframe thead th {\n",
       "        text-align: right;\n",
       "    }\n",
       "</style>\n",
       "<table border=\"1\" class=\"dataframe\">\n",
       "  <thead>\n",
       "    <tr style=\"text-align: right;\">\n",
       "      <th></th>\n",
       "      <th>Emg1</th>\n",
       "      <th>Emg2</th>\n",
       "      <th>Emg3</th>\n",
       "      <th>Emg4</th>\n",
       "      <th>Emg5</th>\n",
       "      <th>Emg6</th>\n",
       "      <th>Emg7</th>\n",
       "      <th>Emg8</th>\n",
       "      <th>Emg9</th>\n",
       "      <th>Emg10</th>\n",
       "      <th>repetition</th>\n",
       "      <th>rerepetition</th>\n",
       "      <th>stimulus</th>\n",
       "      <th>restimulus</th>\n",
       "    </tr>\n",
       "  </thead>\n",
       "  <tbody>\n",
       "    <tr>\n",
       "      <th>count</th>\n",
       "      <td>472501.000000</td>\n",
       "      <td>472501.000000</td>\n",
       "      <td>472501.000000</td>\n",
       "      <td>472501.000000</td>\n",
       "      <td>472501.000000</td>\n",
       "      <td>472501.000000</td>\n",
       "      <td>472501.000000</td>\n",
       "      <td>472501.000000</td>\n",
       "      <td>472501.000000</td>\n",
       "      <td>472501.000000</td>\n",
       "      <td>472501.000000</td>\n",
       "      <td>472501.000000</td>\n",
       "      <td>472501.000000</td>\n",
       "      <td>472501.000000</td>\n",
       "    </tr>\n",
       "    <tr>\n",
       "      <th>mean</th>\n",
       "      <td>0.449598</td>\n",
       "      <td>0.369994</td>\n",
       "      <td>0.165067</td>\n",
       "      <td>0.110990</td>\n",
       "      <td>0.056133</td>\n",
       "      <td>0.014915</td>\n",
       "      <td>0.042496</td>\n",
       "      <td>0.302602</td>\n",
       "      <td>0.260029</td>\n",
       "      <td>0.219605</td>\n",
       "      <td>3.124415</td>\n",
       "      <td>2.194270</td>\n",
       "      <td>5.539897</td>\n",
       "      <td>3.961033</td>\n",
       "    </tr>\n",
       "    <tr>\n",
       "      <th>std</th>\n",
       "      <td>0.549594</td>\n",
       "      <td>0.394968</td>\n",
       "      <td>0.285421</td>\n",
       "      <td>0.240335</td>\n",
       "      <td>0.265131</td>\n",
       "      <td>0.047967</td>\n",
       "      <td>0.110609</td>\n",
       "      <td>0.505100</td>\n",
       "      <td>0.485920</td>\n",
       "      <td>0.424508</td>\n",
       "      <td>3.479845</td>\n",
       "      <td>3.242834</td>\n",
       "      <td>6.570169</td>\n",
       "      <td>6.186865</td>\n",
       "    </tr>\n",
       "    <tr>\n",
       "      <th>min</th>\n",
       "      <td>0.002400</td>\n",
       "      <td>0.002400</td>\n",
       "      <td>0.002400</td>\n",
       "      <td>0.002400</td>\n",
       "      <td>0.002400</td>\n",
       "      <td>0.000000</td>\n",
       "      <td>0.000000</td>\n",
       "      <td>0.002400</td>\n",
       "      <td>0.000000</td>\n",
       "      <td>0.002400</td>\n",
       "      <td>0.000000</td>\n",
       "      <td>0.000000</td>\n",
       "      <td>0.000000</td>\n",
       "      <td>0.000000</td>\n",
       "    </tr>\n",
       "    <tr>\n",
       "      <th>25%</th>\n",
       "      <td>0.100100</td>\n",
       "      <td>0.114700</td>\n",
       "      <td>0.004900</td>\n",
       "      <td>0.002400</td>\n",
       "      <td>0.002400</td>\n",
       "      <td>0.002400</td>\n",
       "      <td>0.002400</td>\n",
       "      <td>0.014600</td>\n",
       "      <td>0.002400</td>\n",
       "      <td>0.002400</td>\n",
       "      <td>0.000000</td>\n",
       "      <td>0.000000</td>\n",
       "      <td>0.000000</td>\n",
       "      <td>0.000000</td>\n",
       "    </tr>\n",
       "    <tr>\n",
       "      <th>50%</th>\n",
       "      <td>0.234400</td>\n",
       "      <td>0.263700</td>\n",
       "      <td>0.043900</td>\n",
       "      <td>0.002400</td>\n",
       "      <td>0.002400</td>\n",
       "      <td>0.002400</td>\n",
       "      <td>0.002400</td>\n",
       "      <td>0.095200</td>\n",
       "      <td>0.002400</td>\n",
       "      <td>0.063500</td>\n",
       "      <td>2.000000</td>\n",
       "      <td>0.000000</td>\n",
       "      <td>3.000000</td>\n",
       "      <td>0.000000</td>\n",
       "    </tr>\n",
       "    <tr>\n",
       "      <th>75%</th>\n",
       "      <td>0.590800</td>\n",
       "      <td>0.502900</td>\n",
       "      <td>0.192900</td>\n",
       "      <td>0.092800</td>\n",
       "      <td>0.009800</td>\n",
       "      <td>0.002400</td>\n",
       "      <td>0.024400</td>\n",
       "      <td>0.371100</td>\n",
       "      <td>0.324700</td>\n",
       "      <td>0.244100</td>\n",
       "      <td>6.000000</td>\n",
       "      <td>4.000000</td>\n",
       "      <td>10.000000</td>\n",
       "      <td>7.000000</td>\n",
       "    </tr>\n",
       "    <tr>\n",
       "      <th>max</th>\n",
       "      <td>4.665500</td>\n",
       "      <td>4.663100</td>\n",
       "      <td>3.886700</td>\n",
       "      <td>3.313000</td>\n",
       "      <td>4.663100</td>\n",
       "      <td>1.196300</td>\n",
       "      <td>1.621100</td>\n",
       "      <td>4.665500</td>\n",
       "      <td>4.663100</td>\n",
       "      <td>4.663100</td>\n",
       "      <td>10.000000</td>\n",
       "      <td>10.000000</td>\n",
       "      <td>23.000000</td>\n",
       "      <td>23.000000</td>\n",
       "    </tr>\n",
       "  </tbody>\n",
       "</table>\n",
       "</div>"
      ],
      "text/plain": [
       "               Emg1            Emg2           Emg3           Emg4  \\\n",
       "count  472501.000000  472501.000000  472501.000000  472501.000000   \n",
       "mean        0.449598       0.369994       0.165067       0.110990   \n",
       "std         0.549594       0.394968       0.285421       0.240335   \n",
       "min         0.002400       0.002400       0.002400       0.002400   \n",
       "25%         0.100100       0.114700       0.004900       0.002400   \n",
       "50%         0.234400       0.263700       0.043900       0.002400   \n",
       "75%         0.590800       0.502900       0.192900       0.092800   \n",
       "max         4.665500       4.663100       3.886700       3.313000   \n",
       "\n",
       "               Emg5            Emg6           Emg7           Emg8  \\\n",
       "count  472501.000000  472501.000000  472501.000000  472501.000000   \n",
       "mean        0.056133       0.014915       0.042496       0.302602   \n",
       "std         0.265131       0.047967       0.110609       0.505100   \n",
       "min         0.002400       0.000000       0.000000       0.002400   \n",
       "25%         0.002400       0.002400       0.002400       0.014600   \n",
       "50%         0.002400       0.002400       0.002400       0.095200   \n",
       "75%         0.009800       0.002400       0.024400       0.371100   \n",
       "max         4.663100       1.196300       1.621100       4.665500   \n",
       "\n",
       "                Emg9          Emg10     repetition   rerepetition  \\\n",
       "count  472501.000000  472501.000000  472501.000000  472501.000000   \n",
       "mean        0.260029       0.219605       3.124415       2.194270   \n",
       "std         0.485920       0.424508       3.479845       3.242834   \n",
       "min         0.000000       0.002400       0.000000       0.000000   \n",
       "25%         0.002400       0.002400       0.000000       0.000000   \n",
       "50%         0.002400       0.063500       2.000000       0.000000   \n",
       "75%         0.324700       0.244100       6.000000       4.000000   \n",
       "max         4.663100       4.663100      10.000000      10.000000   \n",
       "\n",
       "            stimulus     restimulus  \n",
       "count  472501.000000  472501.000000  \n",
       "mean        5.539897       3.961033  \n",
       "std         6.570169       6.186865  \n",
       "min         0.000000       0.000000  \n",
       "25%         0.000000       0.000000  \n",
       "50%         3.000000       0.000000  \n",
       "75%        10.000000       7.000000  \n",
       "max        23.000000      23.000000  "
      ]
     },
     "execution_count": 4,
     "metadata": {},
     "output_type": "execute_result"
    }
   ],
   "source": [
    "raw_data.describe(include='all')"
   ]
  },
  {
   "cell_type": "code",
   "execution_count": 5,
   "id": "f0b9a2e6",
   "metadata": {},
   "outputs": [
    {
     "name": "stdout",
     "output_type": "stream",
     "text": [
      "Unique Dependent values and their counts :\n",
      "0     204101\n",
      "8      15513\n",
      "2      15511\n",
      "7      15508\n",
      "12     15504\n",
      "4      15495\n",
      "5      15490\n",
      "6      15478\n",
      "11     15473\n",
      "9      15471\n",
      "10     15448\n",
      "3      15445\n",
      "1      15427\n",
      "17     10345\n",
      "14     10345\n",
      "13     10341\n",
      "15     10313\n",
      "16     10282\n",
      "21      5194\n",
      "19      5185\n",
      "20      5178\n",
      "18      5176\n",
      "22      5151\n",
      "23      5127\n",
      "Name: stimulus, dtype: int64\n"
     ]
    }
   ],
   "source": [
    "print(\"Unique Dependent values and their counts :\")\n",
    "print(raw_data[\"stimulus\"].value_counts())"
   ]
  },
  {
   "cell_type": "markdown",
   "id": "54420ec4",
   "metadata": {},
   "source": [
    "# Data Cleaning"
   ]
  },
  {
   "cell_type": "code",
   "execution_count": 6,
   "id": "a811198b",
   "metadata": {},
   "outputs": [],
   "source": [
    "index_names = raw_data[ (raw_data['stimulus'] != raw_data['restimulus'])].index\n",
    "raw_data.drop(index_names, inplace = True)"
   ]
  },
  {
   "cell_type": "code",
   "execution_count": 7,
   "id": "556cd92f",
   "metadata": {},
   "outputs": [],
   "source": [
    "index_names = raw_data[ (raw_data['repetition'] != raw_data['rerepetition'])].index\n",
    "raw_data.drop(index_names, inplace = True)"
   ]
  },
  {
   "cell_type": "code",
   "execution_count": 8,
   "id": "c91744f7",
   "metadata": {},
   "outputs": [],
   "source": [
    "X = raw_data.iloc[:,0:10]\n",
    "y = raw_data.stimulus"
   ]
  },
  {
   "cell_type": "markdown",
   "id": "152f7160",
   "metadata": {},
   "source": [
    "# One Hot Encoding"
   ]
  },
  {
   "cell_type": "code",
   "execution_count": 9,
   "id": "dfb77d24",
   "metadata": {},
   "outputs": [],
   "source": [
    "num_classes = 24"
   ]
  },
  {
   "cell_type": "code",
   "execution_count": 10,
   "id": "be64bf6b",
   "metadata": {},
   "outputs": [],
   "source": [
    "# One hot encoding for categorical labels\n",
    "import keras\n",
    "from keras import utils as np_utils\n",
    "y = keras.utils.np_utils.to_categorical(y, num_classes)"
   ]
  },
  {
   "cell_type": "code",
   "execution_count": 11,
   "id": "c7358f86",
   "metadata": {},
   "outputs": [],
   "source": [
    "input_dim = X.shape[1]"
   ]
  },
  {
   "cell_type": "markdown",
   "id": "cb3088a1",
   "metadata": {},
   "source": [
    "# Standard Scaler"
   ]
  },
  {
   "cell_type": "code",
   "execution_count": 12,
   "id": "5bd820f4",
   "metadata": {},
   "outputs": [],
   "source": [
    "from sklearn.preprocessing import StandardScaler\n",
    "standardscaler=StandardScaler()"
   ]
  },
  {
   "cell_type": "code",
   "execution_count": 13,
   "id": "6a118694",
   "metadata": {},
   "outputs": [],
   "source": [
    "sc = pd.DataFrame(standardscaler.fit_transform(X))"
   ]
  },
  {
   "cell_type": "code",
   "execution_count": 14,
   "id": "d6e2f38b",
   "metadata": {},
   "outputs": [
    {
     "data": {
      "text/html": [
       "<div>\n",
       "<style scoped>\n",
       "    .dataframe tbody tr th:only-of-type {\n",
       "        vertical-align: middle;\n",
       "    }\n",
       "\n",
       "    .dataframe tbody tr th {\n",
       "        vertical-align: top;\n",
       "    }\n",
       "\n",
       "    .dataframe thead th {\n",
       "        text-align: right;\n",
       "    }\n",
       "</style>\n",
       "<table border=\"1\" class=\"dataframe\">\n",
       "  <thead>\n",
       "    <tr style=\"text-align: right;\">\n",
       "      <th></th>\n",
       "      <th>0</th>\n",
       "      <th>1</th>\n",
       "      <th>2</th>\n",
       "      <th>3</th>\n",
       "      <th>4</th>\n",
       "      <th>5</th>\n",
       "      <th>6</th>\n",
       "      <th>7</th>\n",
       "      <th>8</th>\n",
       "      <th>9</th>\n",
       "    </tr>\n",
       "  </thead>\n",
       "  <tbody>\n",
       "    <tr>\n",
       "      <th>0</th>\n",
       "      <td>-0.813756</td>\n",
       "      <td>-0.710291</td>\n",
       "      <td>-0.611593</td>\n",
       "      <td>-0.504274</td>\n",
       "      <td>-0.223238</td>\n",
       "      <td>-0.289385</td>\n",
       "      <td>-0.39416</td>\n",
       "      <td>-0.633016</td>\n",
       "      <td>-0.584607</td>\n",
       "      <td>-0.538362</td>\n",
       "    </tr>\n",
       "    <tr>\n",
       "      <th>1</th>\n",
       "      <td>-0.813756</td>\n",
       "      <td>-0.768316</td>\n",
       "      <td>-0.611593</td>\n",
       "      <td>-0.504274</td>\n",
       "      <td>-0.223238</td>\n",
       "      <td>-0.289385</td>\n",
       "      <td>-0.39416</td>\n",
       "      <td>-0.633016</td>\n",
       "      <td>-0.584607</td>\n",
       "      <td>-0.538362</td>\n",
       "    </tr>\n",
       "    <tr>\n",
       "      <th>2</th>\n",
       "      <td>-0.805569</td>\n",
       "      <td>-0.808981</td>\n",
       "      <td>-0.611593</td>\n",
       "      <td>-0.504274</td>\n",
       "      <td>-0.223238</td>\n",
       "      <td>-0.289385</td>\n",
       "      <td>-0.39416</td>\n",
       "      <td>-0.633016</td>\n",
       "      <td>-0.584607</td>\n",
       "      <td>-0.538362</td>\n",
       "    </tr>\n",
       "    <tr>\n",
       "      <th>3</th>\n",
       "      <td>-0.809662</td>\n",
       "      <td>-0.855353</td>\n",
       "      <td>-0.611593</td>\n",
       "      <td>-0.504274</td>\n",
       "      <td>-0.223238</td>\n",
       "      <td>-0.289385</td>\n",
       "      <td>-0.39416</td>\n",
       "      <td>-0.633016</td>\n",
       "      <td>-0.584607</td>\n",
       "      <td>-0.538362</td>\n",
       "    </tr>\n",
       "    <tr>\n",
       "      <th>4</th>\n",
       "      <td>-0.809662</td>\n",
       "      <td>-0.884366</td>\n",
       "      <td>-0.611593</td>\n",
       "      <td>-0.504274</td>\n",
       "      <td>-0.214670</td>\n",
       "      <td>-0.289385</td>\n",
       "      <td>-0.39416</td>\n",
       "      <td>-0.633016</td>\n",
       "      <td>-0.584607</td>\n",
       "      <td>-0.538362</td>\n",
       "    </tr>\n",
       "    <tr>\n",
       "      <th>...</th>\n",
       "      <td>...</td>\n",
       "      <td>...</td>\n",
       "      <td>...</td>\n",
       "      <td>...</td>\n",
       "      <td>...</td>\n",
       "      <td>...</td>\n",
       "      <td>...</td>\n",
       "      <td>...</td>\n",
       "      <td>...</td>\n",
       "      <td>...</td>\n",
       "    </tr>\n",
       "    <tr>\n",
       "      <th>386608</th>\n",
       "      <td>-0.614017</td>\n",
       "      <td>-0.007807</td>\n",
       "      <td>-0.524071</td>\n",
       "      <td>-0.504274</td>\n",
       "      <td>-0.223238</td>\n",
       "      <td>-0.289385</td>\n",
       "      <td>-0.39416</td>\n",
       "      <td>-0.619390</td>\n",
       "      <td>-0.584607</td>\n",
       "      <td>-0.538362</td>\n",
       "    </tr>\n",
       "    <tr>\n",
       "      <th>386609</th>\n",
       "      <td>-0.622204</td>\n",
       "      <td>-0.042527</td>\n",
       "      <td>-0.540014</td>\n",
       "      <td>-0.504274</td>\n",
       "      <td>-0.223238</td>\n",
       "      <td>-0.289385</td>\n",
       "      <td>-0.39416</td>\n",
       "      <td>-0.623994</td>\n",
       "      <td>-0.584607</td>\n",
       "      <td>-0.538362</td>\n",
       "    </tr>\n",
       "    <tr>\n",
       "      <th>386610</th>\n",
       "      <td>-0.609752</td>\n",
       "      <td>-0.007807</td>\n",
       "      <td>-0.547822</td>\n",
       "      <td>-0.494660</td>\n",
       "      <td>-0.223238</td>\n",
       "      <td>-0.289385</td>\n",
       "      <td>-0.39416</td>\n",
       "      <td>-0.619390</td>\n",
       "      <td>-0.584607</td>\n",
       "      <td>-0.538362</td>\n",
       "    </tr>\n",
       "    <tr>\n",
       "      <th>386611</th>\n",
       "      <td>-0.626468</td>\n",
       "      <td>-0.077484</td>\n",
       "      <td>-0.571899</td>\n",
       "      <td>-0.504274</td>\n",
       "      <td>-0.223238</td>\n",
       "      <td>-0.289385</td>\n",
       "      <td>-0.39416</td>\n",
       "      <td>-0.619390</td>\n",
       "      <td>-0.584607</td>\n",
       "      <td>-0.538362</td>\n",
       "    </tr>\n",
       "    <tr>\n",
       "      <th>386612</th>\n",
       "      <td>-0.605659</td>\n",
       "      <td>0.044511</td>\n",
       "      <td>-0.571899</td>\n",
       "      <td>-0.504274</td>\n",
       "      <td>-0.223238</td>\n",
       "      <td>-0.289385</td>\n",
       "      <td>-0.39416</td>\n",
       "      <td>-0.623994</td>\n",
       "      <td>-0.584607</td>\n",
       "      <td>-0.538362</td>\n",
       "    </tr>\n",
       "  </tbody>\n",
       "</table>\n",
       "<p>386613 rows × 10 columns</p>\n",
       "</div>"
      ],
      "text/plain": [
       "               0         1         2         3         4         5        6  \\\n",
       "0      -0.813756 -0.710291 -0.611593 -0.504274 -0.223238 -0.289385 -0.39416   \n",
       "1      -0.813756 -0.768316 -0.611593 -0.504274 -0.223238 -0.289385 -0.39416   \n",
       "2      -0.805569 -0.808981 -0.611593 -0.504274 -0.223238 -0.289385 -0.39416   \n",
       "3      -0.809662 -0.855353 -0.611593 -0.504274 -0.223238 -0.289385 -0.39416   \n",
       "4      -0.809662 -0.884366 -0.611593 -0.504274 -0.214670 -0.289385 -0.39416   \n",
       "...          ...       ...       ...       ...       ...       ...      ...   \n",
       "386608 -0.614017 -0.007807 -0.524071 -0.504274 -0.223238 -0.289385 -0.39416   \n",
       "386609 -0.622204 -0.042527 -0.540014 -0.504274 -0.223238 -0.289385 -0.39416   \n",
       "386610 -0.609752 -0.007807 -0.547822 -0.494660 -0.223238 -0.289385 -0.39416   \n",
       "386611 -0.626468 -0.077484 -0.571899 -0.504274 -0.223238 -0.289385 -0.39416   \n",
       "386612 -0.605659  0.044511 -0.571899 -0.504274 -0.223238 -0.289385 -0.39416   \n",
       "\n",
       "               7         8         9  \n",
       "0      -0.633016 -0.584607 -0.538362  \n",
       "1      -0.633016 -0.584607 -0.538362  \n",
       "2      -0.633016 -0.584607 -0.538362  \n",
       "3      -0.633016 -0.584607 -0.538362  \n",
       "4      -0.633016 -0.584607 -0.538362  \n",
       "...          ...       ...       ...  \n",
       "386608 -0.619390 -0.584607 -0.538362  \n",
       "386609 -0.623994 -0.584607 -0.538362  \n",
       "386610 -0.619390 -0.584607 -0.538362  \n",
       "386611 -0.619390 -0.584607 -0.538362  \n",
       "386612 -0.623994 -0.584607 -0.538362  \n",
       "\n",
       "[386613 rows x 10 columns]"
      ]
     },
     "execution_count": 14,
     "metadata": {},
     "output_type": "execute_result"
    }
   ],
   "source": [
    "sc"
   ]
  },
  {
   "cell_type": "code",
   "execution_count": 15,
   "id": "65cfb75d",
   "metadata": {},
   "outputs": [],
   "source": [
    "# Splitting data for training and testing\n",
    "X_train, X_test, y_train, y_test = train_test_split(sc, y, test_size = 0.2, random_state = 39)"
   ]
  },
  {
   "cell_type": "markdown",
   "id": "3ba47781",
   "metadata": {},
   "source": [
    "# Deep Learning "
   ]
  },
  {
   "cell_type": "code",
   "execution_count": 16,
   "id": "d426e2e1",
   "metadata": {},
   "outputs": [],
   "source": [
    "from sklearn.preprocessing import MinMaxScaler\n",
    "from tensorflow.keras.models import Model\n",
    "from tensorflow.keras.layers import Input\n",
    "from tensorflow.keras.layers import Dense\n",
    "from tensorflow.keras.layers import LeakyReLU,ELU\n",
    "from tensorflow.keras.layers import BatchNormalization\n",
    "from tensorflow.keras.utils import plot_model\n",
    "import tensorflow as tf\n",
    "from sklearn.model_selection import cross_val_score\n",
    "from keras.models import Sequential\n",
    "from keras.layers import Dense, BatchNormalization, Dropout\n",
    "from tensorflow.keras.optimizers import Adam, SGD, RMSprop, Adadelta, Adagrad, Adamax, Nadam, Ftrl\n",
    "from keras.callbacks import EarlyStopping, ModelCheckpoint\n",
    "from keras.wrappers.scikit_learn import KerasClassifier\n",
    "from sklearn.metrics import make_scorer, accuracy_score\n",
    "from sklearn.model_selection import StratifiedKFold"
   ]
  },
  {
   "cell_type": "code",
   "execution_count": 17,
   "id": "cd0ef208",
   "metadata": {},
   "outputs": [],
   "source": [
    "from keras.layers import LeakyReLU\n",
    "LeakyReLU = LeakyReLU(alpha=0.1)\n",
    "from keras.models import Sequential\n",
    "from keras.layers import Dense, Flatten, Convolution1D, Dropout\n",
    "from keras.initializers import random_uniform"
   ]
  },
  {
   "cell_type": "markdown",
   "id": "f97d61bc",
   "metadata": {},
   "source": [
    "# 1. Define Network"
   ]
  },
  {
   "cell_type": "code",
   "execution_count": 18,
   "id": "bd77bf81",
   "metadata": {},
   "outputs": [],
   "source": [
    "num_classes = 24\n",
    "input_dim = X.shape[1]"
   ]
  },
  {
   "cell_type": "code",
   "execution_count": 19,
   "id": "fbdce465",
   "metadata": {},
   "outputs": [],
   "source": [
    "visible = Input(shape=(input_dim,))\n",
    "hidden1 = Dense(3000, activation='relu')(visible)\n",
    "hidden2 = Dense(1500, activation='relu')(hidden1)\n",
    "hidden3 = Dropout(0.2)(hidden2)\n",
    "hidden4 = Dense(750, activation='relu')(hidden3)\n",
    "hidden5 = Dense(375, activation='relu')(hidden4)\n",
    "hidden6 = Dense(48, activation='relu')(hidden5)\n",
    "output = Dense(num_classes, activation='softmax')(hidden6)\n",
    "model = Model(inputs=visible, outputs=output)"
   ]
  },
  {
   "cell_type": "code",
   "execution_count": 20,
   "id": "1dd33478",
   "metadata": {},
   "outputs": [
    {
     "name": "stdout",
     "output_type": "stream",
     "text": [
      "Model: \"model\"\n",
      "_________________________________________________________________\n",
      " Layer (type)                Output Shape              Param #   \n",
      "=================================================================\n",
      " input_1 (InputLayer)        [(None, 10)]              0         \n",
      "                                                                 \n",
      " dense (Dense)               (None, 3000)              33000     \n",
      "                                                                 \n",
      " dense_1 (Dense)             (None, 1500)              4501500   \n",
      "                                                                 \n",
      " dropout (Dropout)           (None, 1500)              0         \n",
      "                                                                 \n",
      " dense_2 (Dense)             (None, 750)               1125750   \n",
      "                                                                 \n",
      " dense_3 (Dense)             (None, 375)               281625    \n",
      "                                                                 \n",
      " dense_4 (Dense)             (None, 48)                18048     \n",
      "                                                                 \n",
      " dense_5 (Dense)             (None, 24)                1176      \n",
      "                                                                 \n",
      "=================================================================\n",
      "Total params: 5,961,099\n",
      "Trainable params: 5,961,099\n",
      "Non-trainable params: 0\n",
      "_________________________________________________________________\n"
     ]
    }
   ],
   "source": [
    "model.summary()"
   ]
  },
  {
   "cell_type": "markdown",
   "id": "3196ac97",
   "metadata": {},
   "source": [
    "# 2. Compile Network"
   ]
  },
  {
   "cell_type": "code",
   "execution_count": 21,
   "id": "7a2d558b",
   "metadata": {},
   "outputs": [],
   "source": [
    "model.compile(optimizer='adam', loss='categorical_crossentropy', metrics=['accuracy'])"
   ]
  },
  {
   "cell_type": "code",
   "execution_count": 22,
   "id": "c1d2b36d",
   "metadata": {},
   "outputs": [
    {
     "name": "stdout",
     "output_type": "stream",
     "text": [
      "You must install pydot (`pip install pydot`) and install graphviz (see instructions at https://graphviz.gitlab.io/download/) for plot_model/model_to_dot to work.\n"
     ]
    }
   ],
   "source": [
    "plot_model(model, 'EMG_ANN', show_shapes = True)"
   ]
  },
  {
   "cell_type": "markdown",
   "id": "3358b592",
   "metadata": {},
   "source": [
    "# 3. Fit Network"
   ]
  },
  {
   "cell_type": "code",
   "execution_count": 23,
   "id": "e0ed4ddd",
   "metadata": {},
   "outputs": [
    {
     "name": "stdout",
     "output_type": "stream",
     "text": [
      "Epoch 1/100\n",
      "77/77 [==============================] - 3s 27ms/step - loss: 1.3191 - accuracy: 0.6428 - val_loss: 0.9312 - val_accuracy: 0.7384\n",
      "Epoch 2/100\n",
      "77/77 [==============================] - 2s 25ms/step - loss: 0.8444 - accuracy: 0.7578 - val_loss: 0.7663 - val_accuracy: 0.7794\n",
      "Epoch 3/100\n",
      "77/77 [==============================] - 2s 25ms/step - loss: 0.7224 - accuracy: 0.7891 - val_loss: 0.6627 - val_accuracy: 0.8050\n",
      "Epoch 4/100\n",
      "77/77 [==============================] - 2s 25ms/step - loss: 0.6480 - accuracy: 0.8089 - val_loss: 0.6184 - val_accuracy: 0.8187\n",
      "Epoch 5/100\n",
      "77/77 [==============================] - 2s 25ms/step - loss: 0.5950 - accuracy: 0.8240 - val_loss: 0.5691 - val_accuracy: 0.8318\n",
      "Epoch 6/100\n",
      "77/77 [==============================] - 2s 25ms/step - loss: 0.5549 - accuracy: 0.8346 - val_loss: 0.5362 - val_accuracy: 0.8396\n",
      "Epoch 7/100\n",
      "77/77 [==============================] - 2s 25ms/step - loss: 0.5192 - accuracy: 0.8444 - val_loss: 0.5149 - val_accuracy: 0.8458\n",
      "Epoch 8/100\n",
      "77/77 [==============================] - 2s 25ms/step - loss: 0.4955 - accuracy: 0.8509 - val_loss: 0.4803 - val_accuracy: 0.8548\n",
      "Epoch 9/100\n",
      "77/77 [==============================] - 2s 25ms/step - loss: 0.4669 - accuracy: 0.8588 - val_loss: 0.4559 - val_accuracy: 0.8627\n",
      "Epoch 10/100\n",
      "77/77 [==============================] - 2s 25ms/step - loss: 0.4470 - accuracy: 0.8642 - val_loss: 0.4411 - val_accuracy: 0.8677\n",
      "Epoch 11/100\n",
      "77/77 [==============================] - 2s 25ms/step - loss: 0.4299 - accuracy: 0.8691 - val_loss: 0.4230 - val_accuracy: 0.8724\n",
      "Epoch 12/100\n",
      "77/77 [==============================] - 2s 25ms/step - loss: 0.4089 - accuracy: 0.8758 - val_loss: 0.4083 - val_accuracy: 0.8767\n",
      "Epoch 13/100\n",
      "77/77 [==============================] - 2s 25ms/step - loss: 0.3959 - accuracy: 0.8793 - val_loss: 0.4018 - val_accuracy: 0.8792\n",
      "Epoch 14/100\n",
      "77/77 [==============================] - 2s 25ms/step - loss: 0.3811 - accuracy: 0.8834 - val_loss: 0.3882 - val_accuracy: 0.8819\n",
      "Epoch 15/100\n",
      "77/77 [==============================] - 2s 25ms/step - loss: 0.3670 - accuracy: 0.8869 - val_loss: 0.3658 - val_accuracy: 0.8877\n",
      "Epoch 16/100\n",
      "77/77 [==============================] - 2s 25ms/step - loss: 0.3535 - accuracy: 0.8910 - val_loss: 0.3798 - val_accuracy: 0.8873\n",
      "Epoch 17/100\n",
      "77/77 [==============================] - 2s 26ms/step - loss: 0.3457 - accuracy: 0.8938 - val_loss: 0.3704 - val_accuracy: 0.8867\n",
      "Epoch 18/100\n",
      "77/77 [==============================] - 2s 26ms/step - loss: 0.3356 - accuracy: 0.8970 - val_loss: 0.3411 - val_accuracy: 0.8943\n",
      "Epoch 19/100\n",
      "77/77 [==============================] - 2s 26ms/step - loss: 0.3222 - accuracy: 0.9006 - val_loss: 0.3329 - val_accuracy: 0.8976\n",
      "Epoch 20/100\n",
      "77/77 [==============================] - 2s 25ms/step - loss: 0.3123 - accuracy: 0.9037 - val_loss: 0.3364 - val_accuracy: 0.8981\n",
      "Epoch 21/100\n",
      "77/77 [==============================] - 2s 25ms/step - loss: 0.3063 - accuracy: 0.9050 - val_loss: 0.3121 - val_accuracy: 0.9036\n",
      "Epoch 22/100\n",
      "77/77 [==============================] - 2s 25ms/step - loss: 0.2958 - accuracy: 0.9087 - val_loss: 0.3140 - val_accuracy: 0.9048\n",
      "Epoch 23/100\n",
      "77/77 [==============================] - 2s 25ms/step - loss: 0.2892 - accuracy: 0.9103 - val_loss: 0.2979 - val_accuracy: 0.9077\n",
      "Epoch 24/100\n",
      "77/77 [==============================] - 2s 25ms/step - loss: 0.2808 - accuracy: 0.9126 - val_loss: 0.3061 - val_accuracy: 0.9051\n",
      "Epoch 25/100\n",
      "77/77 [==============================] - 2s 25ms/step - loss: 0.2751 - accuracy: 0.9145 - val_loss: 0.2934 - val_accuracy: 0.9100\n",
      "Epoch 26/100\n",
      "77/77 [==============================] - 2s 25ms/step - loss: 0.2714 - accuracy: 0.9155 - val_loss: 0.2895 - val_accuracy: 0.9124\n",
      "Epoch 27/100\n",
      "77/77 [==============================] - 2s 25ms/step - loss: 0.2632 - accuracy: 0.9185 - val_loss: 0.2803 - val_accuracy: 0.9128\n",
      "Epoch 28/100\n",
      "77/77 [==============================] - 2s 25ms/step - loss: 0.2552 - accuracy: 0.9206 - val_loss: 0.2783 - val_accuracy: 0.9133\n",
      "Epoch 29/100\n",
      "77/77 [==============================] - 2s 25ms/step - loss: 0.2488 - accuracy: 0.9225 - val_loss: 0.2698 - val_accuracy: 0.9166\n",
      "Epoch 30/100\n",
      "77/77 [==============================] - 2s 26ms/step - loss: 0.2456 - accuracy: 0.9230 - val_loss: 0.2679 - val_accuracy: 0.9182\n",
      "Epoch 31/100\n",
      "77/77 [==============================] - 2s 26ms/step - loss: 0.2398 - accuracy: 0.9249 - val_loss: 0.2665 - val_accuracy: 0.9180\n",
      "Epoch 32/100\n",
      "77/77 [==============================] - 2s 26ms/step - loss: 0.2364 - accuracy: 0.9262 - val_loss: 0.2634 - val_accuracy: 0.9185\n",
      "Epoch 33/100\n",
      "77/77 [==============================] - 2s 27ms/step - loss: 0.2292 - accuracy: 0.9279 - val_loss: 0.2532 - val_accuracy: 0.9222\n",
      "Epoch 34/100\n",
      "77/77 [==============================] - 2s 26ms/step - loss: 0.2231 - accuracy: 0.9303 - val_loss: 0.2437 - val_accuracy: 0.9243\n",
      "Epoch 35/100\n",
      "77/77 [==============================] - 2s 26ms/step - loss: 0.2230 - accuracy: 0.9306 - val_loss: 0.2455 - val_accuracy: 0.9238\n",
      "Epoch 36/100\n",
      "77/77 [==============================] - 2s 26ms/step - loss: 0.2174 - accuracy: 0.9319 - val_loss: 0.2401 - val_accuracy: 0.9260\n",
      "Epoch 37/100\n",
      "77/77 [==============================] - 2s 26ms/step - loss: 0.2116 - accuracy: 0.9338 - val_loss: 0.2413 - val_accuracy: 0.9258\n",
      "Epoch 38/100\n",
      "77/77 [==============================] - 2s 27ms/step - loss: 0.2076 - accuracy: 0.9352 - val_loss: 0.2338 - val_accuracy: 0.9280\n",
      "Epoch 39/100\n",
      "77/77 [==============================] - 2s 26ms/step - loss: 0.2051 - accuracy: 0.9359 - val_loss: 0.2321 - val_accuracy: 0.9279\n",
      "Epoch 40/100\n",
      "77/77 [==============================] - 2s 26ms/step - loss: 0.2027 - accuracy: 0.9364 - val_loss: 0.2240 - val_accuracy: 0.9306\n",
      "Epoch 41/100\n",
      "77/77 [==============================] - 2s 26ms/step - loss: 0.1960 - accuracy: 0.9386 - val_loss: 0.2289 - val_accuracy: 0.9291\n",
      "Epoch 42/100\n",
      "77/77 [==============================] - 2s 27ms/step - loss: 0.1943 - accuracy: 0.9390 - val_loss: 0.2267 - val_accuracy: 0.9303\n",
      "Epoch 43/100\n",
      "77/77 [==============================] - 2s 27ms/step - loss: 0.1917 - accuracy: 0.9398 - val_loss: 0.2247 - val_accuracy: 0.9314\n",
      "Epoch 44/100\n",
      "77/77 [==============================] - 2s 26ms/step - loss: 0.1887 - accuracy: 0.9410 - val_loss: 0.2212 - val_accuracy: 0.9317\n",
      "Epoch 45/100\n",
      "77/77 [==============================] - 2s 29ms/step - loss: 0.1860 - accuracy: 0.9420 - val_loss: 0.2176 - val_accuracy: 0.9328\n",
      "Epoch 46/100\n",
      "77/77 [==============================] - 2s 26ms/step - loss: 0.1868 - accuracy: 0.9410 - val_loss: 0.2160 - val_accuracy: 0.9332\n",
      "Epoch 47/100\n",
      "77/77 [==============================] - 2s 27ms/step - loss: 0.1773 - accuracy: 0.9443 - val_loss: 0.2211 - val_accuracy: 0.9319\n",
      "Epoch 48/100\n",
      "77/77 [==============================] - 2s 26ms/step - loss: 0.1789 - accuracy: 0.9442 - val_loss: 0.2163 - val_accuracy: 0.9339\n",
      "Epoch 49/100\n",
      "77/77 [==============================] - 2s 26ms/step - loss: 0.1778 - accuracy: 0.9444 - val_loss: 0.2113 - val_accuracy: 0.9353\n",
      "Epoch 50/100\n",
      "77/77 [==============================] - 2s 26ms/step - loss: 0.1726 - accuracy: 0.9461 - val_loss: 0.2086 - val_accuracy: 0.9350\n",
      "Epoch 51/100\n",
      "77/77 [==============================] - 2s 26ms/step - loss: 0.1709 - accuracy: 0.9458 - val_loss: 0.2013 - val_accuracy: 0.9380\n",
      "Epoch 52/100\n",
      "77/77 [==============================] - 2s 26ms/step - loss: 0.1685 - accuracy: 0.9471 - val_loss: 0.2020 - val_accuracy: 0.9389\n",
      "Epoch 53/100\n",
      "77/77 [==============================] - 2s 26ms/step - loss: 0.1643 - accuracy: 0.9486 - val_loss: 0.2051 - val_accuracy: 0.9374\n",
      "Epoch 54/100\n",
      "77/77 [==============================] - 2s 26ms/step - loss: 0.1629 - accuracy: 0.9491 - val_loss: 0.1963 - val_accuracy: 0.9387\n",
      "Epoch 55/100\n",
      "77/77 [==============================] - 2s 27ms/step - loss: 0.1634 - accuracy: 0.9482 - val_loss: 0.1952 - val_accuracy: 0.9408\n",
      "Epoch 56/100\n",
      "77/77 [==============================] - 2s 27ms/step - loss: 0.1602 - accuracy: 0.9496 - val_loss: 0.1925 - val_accuracy: 0.9413\n",
      "Epoch 57/100\n",
      "77/77 [==============================] - 2s 27ms/step - loss: 0.1577 - accuracy: 0.9506 - val_loss: 0.1980 - val_accuracy: 0.9392\n",
      "Epoch 58/100\n"
     ]
    },
    {
     "name": "stdout",
     "output_type": "stream",
     "text": [
      "77/77 [==============================] - 2s 26ms/step - loss: 0.1551 - accuracy: 0.9514 - val_loss: 0.1904 - val_accuracy: 0.9418\n",
      "Epoch 59/100\n",
      "77/77 [==============================] - 2s 26ms/step - loss: 0.1545 - accuracy: 0.9515 - val_loss: 0.1930 - val_accuracy: 0.9413\n",
      "Epoch 60/100\n",
      "77/77 [==============================] - 2s 27ms/step - loss: 0.1504 - accuracy: 0.9529 - val_loss: 0.1936 - val_accuracy: 0.9408\n",
      "Epoch 61/100\n",
      "77/77 [==============================] - 2s 28ms/step - loss: 0.1519 - accuracy: 0.9521 - val_loss: 0.2007 - val_accuracy: 0.9412\n",
      "Epoch 62/100\n",
      "77/77 [==============================] - 2s 28ms/step - loss: 0.1471 - accuracy: 0.9538 - val_loss: 0.1864 - val_accuracy: 0.9438\n",
      "Epoch 63/100\n",
      "77/77 [==============================] - 2s 26ms/step - loss: 0.1443 - accuracy: 0.9545 - val_loss: 0.2031 - val_accuracy: 0.9409\n",
      "Epoch 64/100\n",
      "77/77 [==============================] - 2s 27ms/step - loss: 0.1562 - accuracy: 0.9513 - val_loss: 0.1800 - val_accuracy: 0.9457\n",
      "Epoch 65/100\n",
      "77/77 [==============================] - 2s 27ms/step - loss: 0.1406 - accuracy: 0.9556 - val_loss: 0.1874 - val_accuracy: 0.9438\n",
      "Epoch 66/100\n",
      "77/77 [==============================] - 2s 26ms/step - loss: 0.1401 - accuracy: 0.9559 - val_loss: 0.1876 - val_accuracy: 0.9436\n",
      "Epoch 67/100\n",
      "77/77 [==============================] - 2s 28ms/step - loss: 0.1394 - accuracy: 0.9560 - val_loss: 0.1855 - val_accuracy: 0.9441\n",
      "Epoch 68/100\n",
      "77/77 [==============================] - 2s 27ms/step - loss: 0.1404 - accuracy: 0.9559 - val_loss: 0.1793 - val_accuracy: 0.9453\n",
      "Epoch 69/100\n",
      "77/77 [==============================] - 2s 26ms/step - loss: 0.1369 - accuracy: 0.9568 - val_loss: 0.1779 - val_accuracy: 0.9461\n",
      "Epoch 70/100\n",
      "77/77 [==============================] - 2s 26ms/step - loss: 0.1384 - accuracy: 0.9567 - val_loss: 0.1806 - val_accuracy: 0.9463\n",
      "Epoch 71/100\n",
      "77/77 [==============================] - 2s 27ms/step - loss: 0.1365 - accuracy: 0.9572 - val_loss: 0.1767 - val_accuracy: 0.9471\n",
      "Epoch 72/100\n",
      "77/77 [==============================] - 2s 27ms/step - loss: 0.1344 - accuracy: 0.9582 - val_loss: 0.1855 - val_accuracy: 0.9455\n",
      "Epoch 73/100\n",
      "77/77 [==============================] - 2s 27ms/step - loss: 0.1327 - accuracy: 0.9583 - val_loss: 0.1753 - val_accuracy: 0.9471\n",
      "Epoch 74/100\n",
      "77/77 [==============================] - 2s 26ms/step - loss: 0.1308 - accuracy: 0.9589 - val_loss: 0.1777 - val_accuracy: 0.9463\n",
      "Epoch 75/100\n",
      "77/77 [==============================] - 2s 27ms/step - loss: 0.1291 - accuracy: 0.9595 - val_loss: 0.1739 - val_accuracy: 0.9475\n",
      "Epoch 76/100\n",
      "77/77 [==============================] - 2s 27ms/step - loss: 0.1260 - accuracy: 0.9602 - val_loss: 0.1759 - val_accuracy: 0.9477\n",
      "Epoch 77/100\n",
      "77/77 [==============================] - 2s 26ms/step - loss: 0.1295 - accuracy: 0.9592 - val_loss: 0.1764 - val_accuracy: 0.9473\n",
      "Epoch 78/100\n",
      "77/77 [==============================] - 2s 26ms/step - loss: 0.1282 - accuracy: 0.9598 - val_loss: 0.1771 - val_accuracy: 0.9475\n",
      "Epoch 79/100\n",
      "77/77 [==============================] - 2s 27ms/step - loss: 0.1253 - accuracy: 0.9607 - val_loss: 0.1789 - val_accuracy: 0.9469\n",
      "Epoch 80/100\n",
      "77/77 [==============================] - 2s 28ms/step - loss: 0.1259 - accuracy: 0.9608 - val_loss: 0.1773 - val_accuracy: 0.9467\n",
      "Epoch 81/100\n",
      "77/77 [==============================] - 2s 27ms/step - loss: 0.1238 - accuracy: 0.9611 - val_loss: 0.1667 - val_accuracy: 0.9501\n",
      "Epoch 82/100\n",
      "77/77 [==============================] - 2s 26ms/step - loss: 0.1210 - accuracy: 0.9620 - val_loss: 0.1728 - val_accuracy: 0.9485\n",
      "Epoch 83/100\n",
      "77/77 [==============================] - 2s 27ms/step - loss: 0.1193 - accuracy: 0.9623 - val_loss: 0.1671 - val_accuracy: 0.9498\n",
      "Epoch 84/100\n",
      "77/77 [==============================] - 2s 28ms/step - loss: 0.1214 - accuracy: 0.9618 - val_loss: 0.1655 - val_accuracy: 0.9505\n",
      "Epoch 85/100\n",
      "77/77 [==============================] - 2s 27ms/step - loss: 0.1196 - accuracy: 0.9625 - val_loss: 0.1691 - val_accuracy: 0.9505\n",
      "Epoch 86/100\n",
      "77/77 [==============================] - 2s 27ms/step - loss: 0.1175 - accuracy: 0.9631 - val_loss: 0.1693 - val_accuracy: 0.9499\n",
      "Epoch 87/100\n",
      "77/77 [==============================] - 2s 28ms/step - loss: 0.1181 - accuracy: 0.9630 - val_loss: 0.1753 - val_accuracy: 0.9494\n",
      "Epoch 88/100\n",
      "77/77 [==============================] - 2s 27ms/step - loss: 0.1189 - accuracy: 0.9628 - val_loss: 0.1679 - val_accuracy: 0.9505\n",
      "Epoch 89/100\n",
      "77/77 [==============================] - 2s 27ms/step - loss: 0.1141 - accuracy: 0.9637 - val_loss: 0.1642 - val_accuracy: 0.9519\n",
      "Epoch 90/100\n",
      "77/77 [==============================] - 2s 27ms/step - loss: 0.1126 - accuracy: 0.9644 - val_loss: 0.1680 - val_accuracy: 0.9509\n",
      "Epoch 91/100\n",
      "77/77 [==============================] - 2s 27ms/step - loss: 0.1192 - accuracy: 0.9629 - val_loss: 0.1702 - val_accuracy: 0.9500\n",
      "Epoch 92/100\n",
      "77/77 [==============================] - 2s 27ms/step - loss: 0.1123 - accuracy: 0.9645 - val_loss: 0.1641 - val_accuracy: 0.9516\n",
      "Epoch 93/100\n",
      "77/77 [==============================] - 2s 26ms/step - loss: 0.1105 - accuracy: 0.9653 - val_loss: 0.1586 - val_accuracy: 0.9528\n",
      "Epoch 94/100\n",
      "77/77 [==============================] - 2s 27ms/step - loss: 0.1104 - accuracy: 0.9650 - val_loss: 0.1603 - val_accuracy: 0.9526\n",
      "Epoch 95/100\n",
      "77/77 [==============================] - 2s 26ms/step - loss: 0.1112 - accuracy: 0.9651 - val_loss: 0.1629 - val_accuracy: 0.9514\n",
      "Epoch 96/100\n",
      "77/77 [==============================] - 2s 27ms/step - loss: 0.1077 - accuracy: 0.9661 - val_loss: 0.1616 - val_accuracy: 0.9531\n",
      "Epoch 97/100\n",
      "77/77 [==============================] - 2s 27ms/step - loss: 0.1070 - accuracy: 0.9661 - val_loss: 0.1624 - val_accuracy: 0.9527\n",
      "Epoch 98/100\n",
      "77/77 [==============================] - 2s 26ms/step - loss: 0.1048 - accuracy: 0.9669 - val_loss: 0.1636 - val_accuracy: 0.9527\n",
      "Epoch 99/100\n",
      "77/77 [==============================] - 2s 26ms/step - loss: 0.1084 - accuracy: 0.9659 - val_loss: 0.1618 - val_accuracy: 0.9514\n",
      "Epoch 100/100\n",
      "77/77 [==============================] - 2s 28ms/step - loss: 0.1051 - accuracy: 0.9668 - val_loss: 0.1609 - val_accuracy: 0.9530\n"
     ]
    }
   ],
   "source": [
    "history = model.fit(X_train, y_train, batch_size=4056, epochs=100, validation_data = (X_test, y_test))"
   ]
  },
  {
   "cell_type": "markdown",
   "id": "ffed59b1",
   "metadata": {},
   "source": [
    "# 4.Evaluate Network"
   ]
  },
  {
   "cell_type": "markdown",
   "id": "28731190",
   "metadata": {},
   "source": [
    "## 4.1. Plotting Loss and Accuracy"
   ]
  },
  {
   "cell_type": "code",
   "execution_count": 24,
   "id": "971e6040",
   "metadata": {},
   "outputs": [
    {
     "data": {
      "text/plain": [
       "Text(0.5, 1.0, 'Loss Curve of Deep Neural Netowork')"
      ]
     },
     "execution_count": 24,
     "metadata": {},
     "output_type": "execute_result"
    },
    {
     "data": {
      "image/png": "[encoded data removed]",
      "text/plain": [
       "<Figure size 432x288 with 1 Axes>"
      ]
     },
     "metadata": {
      "needs_background": "light"
     },
     "output_type": "display_data"
    }
   ],
   "source": [
    "#Loss Curve\n",
    "\n",
    "\n",
    "plt.plot(figsize = [8,6])\n",
    "\n",
    "plt.plot(history.history['loss'],'r',linewidth = 3.0)\n",
    "plt.plot(history.history['val_loss'],'b',linewidth = 3.0)\n",
    "\n",
    "plt.legend(['Training Loss', 'Validation Loss'], fontsize = 18)\n",
    "\n",
    "plt.xlabel('Epochs', fontsize = 16)\n",
    "plt.ylabel('Loss', fontsize = 16)\n",
    "\n",
    "plt.title('Loss Curve of Deep Neural Netowork' , fontsize = 16 )\n",
    "\n"
   ]
  },
  {
   "cell_type": "code",
   "execution_count": 25,
   "id": "b0c193ec",
   "metadata": {},
   "outputs": [
    {
     "data": {
      "text/plain": [
       "Text(0.5, 1.0, 'Accuracy Curve of Deep Neural Netowork')"
      ]
     },
     "execution_count": 25,
     "metadata": {},
     "output_type": "execute_result"
    },
    {
     "data": {
      "image/png": "[encoded data removed]",
      "text/plain": [
       "<Figure size 432x288 with 1 Axes>"
      ]
     },
     "metadata": {
      "needs_background": "light"
     },
     "output_type": "display_data"
    }
   ],
   "source": [
    "#Accuracy Curve\n",
    "\n",
    "plt.plot(figsize = [8,6])\n",
    "plt.plot(history.history['accuracy'],'r',linewidth = 3.0)\n",
    "plt.plot(history.history['val_accuracy'],'b',linewidth = 3.0)\n",
    "\n",
    "plt.legend(['Training Accuracy', 'Validation Accuracy'], fontsize = 18)\n",
    "\n",
    "plt.xlabel('Epochs', fontsize = 16)\n",
    "plt.ylabel('Accuracy', fontsize = 16)\n",
    "\n",
    "\n",
    "plt.title('Accuracy Curve of Deep Neural Netowork' , fontsize = 16 )"
   ]
  },
  {
   "cell_type": "markdown",
   "id": "741a02aa",
   "metadata": {},
   "source": [
    "##  4.2 Make Predictions"
   ]
  },
  {
   "cell_type": "code",
   "execution_count": 26,
   "id": "e8465627",
   "metadata": {},
   "outputs": [],
   "source": [
    "predictions = model.predict(X_test)\n",
    "predictions = np.argmax(predictions, axis = 1)"
   ]
  },
  {
   "cell_type": "code",
   "execution_count": 27,
   "id": "3cac1a50",
   "metadata": {},
   "outputs": [
    {
     "data": {
      "text/plain": [
       "array([1, 0, 0, ..., 0, 8, 0], dtype=int64)"
      ]
     },
     "execution_count": 27,
     "metadata": {},
     "output_type": "execute_result"
    }
   ],
   "source": [
    "predictions"
   ]
  },
  {
   "cell_type": "markdown",
   "id": "70d666bb",
   "metadata": {},
   "source": [
    "#### Transforming from One Hot Encoding"
   ]
  },
  {
   "cell_type": "code",
   "execution_count": 28,
   "id": "7234b6e7",
   "metadata": {},
   "outputs": [
    {
     "data": {
      "text/plain": [
       "13"
      ]
     },
     "execution_count": 28,
     "metadata": {},
     "output_type": "execute_result"
    }
   ],
   "source": [
    "y_test =np.argmax(y_test, axis=1)\n",
    "y_test[1]"
   ]
  },
  {
   "cell_type": "code",
   "execution_count": 29,
   "id": "6278820d",
   "metadata": {},
   "outputs": [
    {
     "name": "stdout",
     "output_type": "stream",
     "text": [
      "Accuracy is: 95.29635425423226\n"
     ]
    }
   ],
   "source": [
    "from sklearn.metrics import accuracy_score\n",
    "accuracy = {accuracy_score(y_test, predictions)}\n",
    "print(f\"Accuracy is: {accuracy_score(y_test, predictions)* 100}\")"
   ]
  },
  {
   "cell_type": "markdown",
   "id": "eb044ea1",
   "metadata": {},
   "source": [
    "## 4.3 Classification Report"
   ]
  },
  {
   "cell_type": "code",
   "execution_count": 30,
   "id": "001ebc5a",
   "metadata": {},
   "outputs": [
    {
     "name": "stdout",
     "output_type": "stream",
     "text": [
      "\u001b[1mClassification report : \u001b[0m\n",
      "               precision    recall  f1-score   support\n",
      "\n",
      "           0       0.97      0.99      0.98     40068\n",
      "           1       0.94      0.94      0.94      2251\n",
      "           2       0.95      0.93      0.94      2182\n",
      "           3       0.93      0.91      0.92      2147\n",
      "           4       0.94      0.93      0.94      2123\n",
      "           5       0.93      0.93      0.93      2111\n",
      "           6       0.96      0.93      0.95      2101\n",
      "           7       0.94      0.95      0.94      2141\n",
      "           8       0.93      0.88      0.90      2000\n",
      "           9       0.90      0.92      0.91      2162\n",
      "          10       0.95      0.87      0.91      2196\n",
      "          11       0.91      0.94      0.92      2200\n",
      "          12       0.93      0.91      0.92      1943\n",
      "          13       0.95      0.93      0.94      1420\n",
      "          14       0.84      0.86      0.85      1351\n",
      "          15       0.87      0.84      0.85      1250\n",
      "          16       0.93      0.94      0.93      1519\n",
      "          17       0.96      0.88      0.92      1517\n",
      "          18       0.97      0.90      0.93       873\n",
      "          19       0.89      0.84      0.86       719\n",
      "          20       0.99      0.95      0.97       714\n",
      "          21       0.88      0.93      0.91       772\n",
      "          22       0.98      0.98      0.98       624\n",
      "          23       0.98      0.95      0.97       939\n",
      "\n",
      "    accuracy                           0.95     77323\n",
      "   macro avg       0.93      0.92      0.93     77323\n",
      "weighted avg       0.95      0.95      0.95     77323\n",
      "\n",
      "\u001b[1mConfusion Matrix : \u001b[0m\n"
     ]
    },
    {
     "data": {
      "image/png": "[encoded data removed]",
      "text/plain": [
       "<Figure size 432x288 with 2 Axes>"
      ]
     },
     "metadata": {
      "needs_background": "light"
     },
     "output_type": "display_data"
    }
   ],
   "source": [
    "from sklearn.metrics import confusion_matrix, f1_score, accuracy_score, classification_report\n",
    "print('\\033[1m' +'Classification report : '+ '\\033[0m\\n', classification_report(y_test, predictions))\n",
    "\n",
    "cm = confusion_matrix(predictions, y_test)\n",
    "print('\\033[1m' +'Confusion Matrix : '+ '\\033[0m')\n",
    "sns.heatmap(cm, cmap = 'OrRd',annot = True, fmt='d')\n",
    "plt.show()"
   ]
  },
  {
   "cell_type": "markdown",
   "id": "eaa5e512",
   "metadata": {},
   "source": [
    "## 4.4 Evaluation"
   ]
  },
  {
   "cell_type": "code",
   "execution_count": 31,
   "id": "9e469f86",
   "metadata": {},
   "outputs": [
    {
     "name": "stdout",
     "output_type": "stream",
     "text": [
      "MAE: 0.3377261616853976\n",
      "MSE: 3.711702856847251\n",
      "RMSE: 1.9265780173269005\n"
     ]
    }
   ],
   "source": [
    "from sklearn import metrics\n",
    "\n",
    "print('MAE:', metrics.mean_absolute_error(y_test,predictions))\n",
    "print('MSE:', metrics.mean_squared_error(y_test, predictions))\n",
    "print('RMSE:', np.sqrt(metrics.mean_squared_error(y_test, predictions)))"
   ]
  },
  {
   "cell_type": "code",
   "execution_count": 32,
   "id": "dff2a82d",
   "metadata": {},
   "outputs": [
    {
     "name": "stdout",
     "output_type": "stream",
     "text": [
      "Precision Score :  0.9528639149409436\n",
      "Recall Score :  0.9529635425423225\n",
      "f1_score :  0.9527242538968735\n"
     ]
    }
   ],
   "source": [
    "from sklearn.metrics import precision_score\n",
    "print(\"Precision Score : \",precision_score(y_test, predictions, average='weighted'))\n",
    "\n",
    "\n",
    "from sklearn.metrics import recall_score\n",
    "print(\"Recall Score : \",recall_score(y_test, predictions,average='weighted'))\n",
    "\n",
    "\n",
    "from sklearn.metrics import f1_score\n",
    "print(\"f1_score : \",f1_score(y_test, predictions,average='weighted'))"
   ]
  },
  {
   "cell_type": "code",
   "execution_count": null,
   "id": "81ac7468",
   "metadata": {},
   "outputs": [],
   "source": []
  },
  {
   "cell_type": "code",
   "execution_count": null,
   "id": "71a4c6e0",
   "metadata": {},
   "outputs": [],
   "source": []
  }
 ],
 "metadata": {
  "kernelspec": {
   "display_name": "Python 3 (ipykernel)",
   "language": "python",
   "name": "python3"
  },
  "language_info": {
   "codemirror_mode": {
    "name": "ipython",
    "version": 3
   },
   "file_extension": ".py",
   "mimetype": "text/x-python",
   "name": "python",
   "nbconvert_exporter": "python",
   "pygments_lexer": "ipython3",
   "version": "3.8.12"
  }
 },
 "nbformat": 4,
 "nbformat_minor": 5
}
