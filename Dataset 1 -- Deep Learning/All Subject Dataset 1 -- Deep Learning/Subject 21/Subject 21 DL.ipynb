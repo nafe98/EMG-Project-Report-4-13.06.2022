{
 "cells": [
  {
   "cell_type": "markdown",
   "id": "bf8ee932",
   "metadata": {},
   "source": [
    "# Importing Libraries"
   ]
  },
  {
   "cell_type": "code",
   "execution_count": 1,
   "id": "0f663fa8",
   "metadata": {},
   "outputs": [],
   "source": [
    "import numpy as np\n",
    "import pandas as pd\n",
    "import matplotlib.pyplot as plt\n",
    "import seaborn as sns\n",
    "from sklearn.model_selection import train_test_split"
   ]
  },
  {
   "cell_type": "markdown",
   "id": "511af272",
   "metadata": {},
   "source": [
    "# Loading Data"
   ]
  },
  {
   "cell_type": "code",
   "execution_count": 2,
   "id": "04fd19b0",
   "metadata": {},
   "outputs": [
    {
     "data": {
      "text/html": [
       "<div>\n",
       "<style scoped>\n",
       "    .dataframe tbody tr th:only-of-type {\n",
       "        vertical-align: middle;\n",
       "    }\n",
       "\n",
       "    .dataframe tbody tr th {\n",
       "        vertical-align: top;\n",
       "    }\n",
       "\n",
       "    .dataframe thead th {\n",
       "        text-align: right;\n",
       "    }\n",
       "</style>\n",
       "<table border=\"1\" class=\"dataframe\">\n",
       "  <thead>\n",
       "    <tr style=\"text-align: right;\">\n",
       "      <th></th>\n",
       "      <th>Emg1</th>\n",
       "      <th>Emg2</th>\n",
       "      <th>Emg3</th>\n",
       "      <th>Emg4</th>\n",
       "      <th>Emg5</th>\n",
       "      <th>Emg6</th>\n",
       "      <th>Emg7</th>\n",
       "      <th>Emg8</th>\n",
       "      <th>Emg9</th>\n",
       "      <th>Emg10</th>\n",
       "      <th>repetition</th>\n",
       "      <th>rerepetition</th>\n",
       "      <th>stimulus</th>\n",
       "      <th>restimulus</th>\n",
       "    </tr>\n",
       "  </thead>\n",
       "  <tbody>\n",
       "    <tr>\n",
       "      <th>272624</th>\n",
       "      <td>0.0024</td>\n",
       "      <td>0.0024</td>\n",
       "      <td>0.0024</td>\n",
       "      <td>0.0024</td>\n",
       "      <td>0.0024</td>\n",
       "      <td>0.0024</td>\n",
       "      <td>0.0635</td>\n",
       "      <td>0.0122</td>\n",
       "      <td>0.0024</td>\n",
       "      <td>0.0195</td>\n",
       "      <td>0</td>\n",
       "      <td>0</td>\n",
       "      <td>0</td>\n",
       "      <td>0</td>\n",
       "    </tr>\n",
       "    <tr>\n",
       "      <th>36723</th>\n",
       "      <td>0.1074</td>\n",
       "      <td>0.0098</td>\n",
       "      <td>0.9937</td>\n",
       "      <td>0.0049</td>\n",
       "      <td>0.0024</td>\n",
       "      <td>0.0024</td>\n",
       "      <td>0.2539</td>\n",
       "      <td>0.4663</td>\n",
       "      <td>0.0635</td>\n",
       "      <td>0.4370</td>\n",
       "      <td>4</td>\n",
       "      <td>4</td>\n",
       "      <td>5</td>\n",
       "      <td>5</td>\n",
       "    </tr>\n",
       "    <tr>\n",
       "      <th>333556</th>\n",
       "      <td>0.4175</td>\n",
       "      <td>0.4590</td>\n",
       "      <td>0.1270</td>\n",
       "      <td>0.0024</td>\n",
       "      <td>0.0024</td>\n",
       "      <td>0.0195</td>\n",
       "      <td>0.5933</td>\n",
       "      <td>0.8960</td>\n",
       "      <td>0.0024</td>\n",
       "      <td>1.4746</td>\n",
       "      <td>5</td>\n",
       "      <td>5</td>\n",
       "      <td>10</td>\n",
       "      <td>10</td>\n",
       "    </tr>\n",
       "    <tr>\n",
       "      <th>104370</th>\n",
       "      <td>0.0146</td>\n",
       "      <td>0.0024</td>\n",
       "      <td>0.0024</td>\n",
       "      <td>0.0024</td>\n",
       "      <td>0.0024</td>\n",
       "      <td>0.0024</td>\n",
       "      <td>0.1929</td>\n",
       "      <td>0.0391</td>\n",
       "      <td>0.0024</td>\n",
       "      <td>0.0171</td>\n",
       "      <td>0</td>\n",
       "      <td>0</td>\n",
       "      <td>0</td>\n",
       "      <td>0</td>\n",
       "    </tr>\n",
       "    <tr>\n",
       "      <th>20115</th>\n",
       "      <td>0.1270</td>\n",
       "      <td>0.0879</td>\n",
       "      <td>0.2344</td>\n",
       "      <td>0.0024</td>\n",
       "      <td>0.0024</td>\n",
       "      <td>0.0024</td>\n",
       "      <td>0.1001</td>\n",
       "      <td>0.4883</td>\n",
       "      <td>0.0244</td>\n",
       "      <td>0.2734</td>\n",
       "      <td>4</td>\n",
       "      <td>4</td>\n",
       "      <td>3</td>\n",
       "      <td>3</td>\n",
       "    </tr>\n",
       "  </tbody>\n",
       "</table>\n",
       "</div>"
      ],
      "text/plain": [
       "          Emg1    Emg2    Emg3    Emg4    Emg5    Emg6    Emg7    Emg8  \\\n",
       "272624  0.0024  0.0024  0.0024  0.0024  0.0024  0.0024  0.0635  0.0122   \n",
       "36723   0.1074  0.0098  0.9937  0.0049  0.0024  0.0024  0.2539  0.4663   \n",
       "333556  0.4175  0.4590  0.1270  0.0024  0.0024  0.0195  0.5933  0.8960   \n",
       "104370  0.0146  0.0024  0.0024  0.0024  0.0024  0.0024  0.1929  0.0391   \n",
       "20115   0.1270  0.0879  0.2344  0.0024  0.0024  0.0024  0.1001  0.4883   \n",
       "\n",
       "          Emg9   Emg10  repetition  rerepetition  stimulus  restimulus  \n",
       "272624  0.0024  0.0195           0             0         0           0  \n",
       "36723   0.0635  0.4370           4             4         5           5  \n",
       "333556  0.0024  1.4746           5             5        10          10  \n",
       "104370  0.0024  0.0171           0             0         0           0  \n",
       "20115   0.0244  0.2734           4             4         3           3  "
      ]
     },
     "execution_count": 2,
     "metadata": {},
     "output_type": "execute_result"
    }
   ],
   "source": [
    "raw_data = pd.read_excel('Dataset 1 Patient 21.xlsx')\n",
    "raw_data.sample(5)"
   ]
  },
  {
   "cell_type": "code",
   "execution_count": 3,
   "id": "80369ddb",
   "metadata": {},
   "outputs": [
    {
     "name": "stdout",
     "output_type": "stream",
     "text": [
      "<class 'pandas.core.frame.DataFrame'>\n",
      "RangeIndex: 474360 entries, 0 to 474359\n",
      "Data columns (total 14 columns):\n",
      " #   Column        Non-Null Count   Dtype  \n",
      "---  ------        --------------   -----  \n",
      " 0   Emg1          474360 non-null  float64\n",
      " 1   Emg2          474360 non-null  float64\n",
      " 2   Emg3          474360 non-null  float64\n",
      " 3   Emg4          474360 non-null  float64\n",
      " 4   Emg5          474360 non-null  float64\n",
      " 5   Emg6          474360 non-null  float64\n",
      " 6   Emg7          474360 non-null  float64\n",
      " 7   Emg8          474360 non-null  float64\n",
      " 8   Emg9          474360 non-null  float64\n",
      " 9   Emg10         474360 non-null  float64\n",
      " 10  repetition    474360 non-null  int64  \n",
      " 11  rerepetition  474360 non-null  int64  \n",
      " 12  stimulus      474360 non-null  int64  \n",
      " 13  restimulus    474360 non-null  int64  \n",
      "dtypes: float64(10), int64(4)\n",
      "memory usage: 50.7 MB\n"
     ]
    }
   ],
   "source": [
    "raw_data.info()"
   ]
  },
  {
   "cell_type": "code",
   "execution_count": 4,
   "id": "109445f8",
   "metadata": {},
   "outputs": [
    {
     "data": {
      "text/html": [
       "<div>\n",
       "<style scoped>\n",
       "    .dataframe tbody tr th:only-of-type {\n",
       "        vertical-align: middle;\n",
       "    }\n",
       "\n",
       "    .dataframe tbody tr th {\n",
       "        vertical-align: top;\n",
       "    }\n",
       "\n",
       "    .dataframe thead th {\n",
       "        text-align: right;\n",
       "    }\n",
       "</style>\n",
       "<table border=\"1\" class=\"dataframe\">\n",
       "  <thead>\n",
       "    <tr style=\"text-align: right;\">\n",
       "      <th></th>\n",
       "      <th>Emg1</th>\n",
       "      <th>Emg2</th>\n",
       "      <th>Emg3</th>\n",
       "      <th>Emg4</th>\n",
       "      <th>Emg5</th>\n",
       "      <th>Emg6</th>\n",
       "      <th>Emg7</th>\n",
       "      <th>Emg8</th>\n",
       "      <th>Emg9</th>\n",
       "      <th>Emg10</th>\n",
       "      <th>repetition</th>\n",
       "      <th>rerepetition</th>\n",
       "      <th>stimulus</th>\n",
       "      <th>restimulus</th>\n",
       "    </tr>\n",
       "  </thead>\n",
       "  <tbody>\n",
       "    <tr>\n",
       "      <th>count</th>\n",
       "      <td>474360.000000</td>\n",
       "      <td>474360.000000</td>\n",
       "      <td>474360.000000</td>\n",
       "      <td>474360.000000</td>\n",
       "      <td>474360.000000</td>\n",
       "      <td>474360.000000</td>\n",
       "      <td>474360.000000</td>\n",
       "      <td>474360.000000</td>\n",
       "      <td>474360.000000</td>\n",
       "      <td>474360.000000</td>\n",
       "      <td>474360.000000</td>\n",
       "      <td>474360.000000</td>\n",
       "      <td>474360.000000</td>\n",
       "      <td>474360.000000</td>\n",
       "    </tr>\n",
       "    <tr>\n",
       "      <th>mean</th>\n",
       "      <td>0.160505</td>\n",
       "      <td>0.142269</td>\n",
       "      <td>0.172002</td>\n",
       "      <td>0.046039</td>\n",
       "      <td>0.011075</td>\n",
       "      <td>0.027917</td>\n",
       "      <td>0.315248</td>\n",
       "      <td>0.309821</td>\n",
       "      <td>0.053934</td>\n",
       "      <td>0.377027</td>\n",
       "      <td>3.131552</td>\n",
       "      <td>2.228957</td>\n",
       "      <td>5.549161</td>\n",
       "      <td>4.007633</td>\n",
       "    </tr>\n",
       "    <tr>\n",
       "      <th>std</th>\n",
       "      <td>0.339476</td>\n",
       "      <td>0.326525</td>\n",
       "      <td>0.424151</td>\n",
       "      <td>0.168354</td>\n",
       "      <td>0.032590</td>\n",
       "      <td>0.077402</td>\n",
       "      <td>0.423296</td>\n",
       "      <td>0.421916</td>\n",
       "      <td>0.161553</td>\n",
       "      <td>0.583646</td>\n",
       "      <td>3.480692</td>\n",
       "      <td>3.258935</td>\n",
       "      <td>6.568903</td>\n",
       "      <td>6.186889</td>\n",
       "    </tr>\n",
       "    <tr>\n",
       "      <th>min</th>\n",
       "      <td>0.000000</td>\n",
       "      <td>0.000000</td>\n",
       "      <td>0.002400</td>\n",
       "      <td>0.000000</td>\n",
       "      <td>0.002400</td>\n",
       "      <td>0.000000</td>\n",
       "      <td>0.002400</td>\n",
       "      <td>0.002400</td>\n",
       "      <td>0.000000</td>\n",
       "      <td>0.000000</td>\n",
       "      <td>0.000000</td>\n",
       "      <td>0.000000</td>\n",
       "      <td>0.000000</td>\n",
       "      <td>0.000000</td>\n",
       "    </tr>\n",
       "    <tr>\n",
       "      <th>25%</th>\n",
       "      <td>0.002400</td>\n",
       "      <td>0.002400</td>\n",
       "      <td>0.002400</td>\n",
       "      <td>0.002400</td>\n",
       "      <td>0.002400</td>\n",
       "      <td>0.002400</td>\n",
       "      <td>0.090300</td>\n",
       "      <td>0.029300</td>\n",
       "      <td>0.002400</td>\n",
       "      <td>0.036600</td>\n",
       "      <td>0.000000</td>\n",
       "      <td>0.000000</td>\n",
       "      <td>0.000000</td>\n",
       "      <td>0.000000</td>\n",
       "    </tr>\n",
       "    <tr>\n",
       "      <th>50%</th>\n",
       "      <td>0.029300</td>\n",
       "      <td>0.002400</td>\n",
       "      <td>0.002400</td>\n",
       "      <td>0.002400</td>\n",
       "      <td>0.002400</td>\n",
       "      <td>0.002400</td>\n",
       "      <td>0.192900</td>\n",
       "      <td>0.117200</td>\n",
       "      <td>0.002400</td>\n",
       "      <td>0.158700</td>\n",
       "      <td>2.000000</td>\n",
       "      <td>0.000000</td>\n",
       "      <td>3.000000</td>\n",
       "      <td>0.000000</td>\n",
       "    </tr>\n",
       "    <tr>\n",
       "      <th>75%</th>\n",
       "      <td>0.153800</td>\n",
       "      <td>0.114700</td>\n",
       "      <td>0.185500</td>\n",
       "      <td>0.002400</td>\n",
       "      <td>0.002400</td>\n",
       "      <td>0.017100</td>\n",
       "      <td>0.368700</td>\n",
       "      <td>0.481000</td>\n",
       "      <td>0.029300</td>\n",
       "      <td>0.498000</td>\n",
       "      <td>6.000000</td>\n",
       "      <td>4.000000</td>\n",
       "      <td>10.000000</td>\n",
       "      <td>7.000000</td>\n",
       "    </tr>\n",
       "    <tr>\n",
       "      <th>max</th>\n",
       "      <td>4.660600</td>\n",
       "      <td>4.316400</td>\n",
       "      <td>4.655800</td>\n",
       "      <td>4.038100</td>\n",
       "      <td>0.712900</td>\n",
       "      <td>2.050800</td>\n",
       "      <td>4.658200</td>\n",
       "      <td>4.660600</td>\n",
       "      <td>3.933100</td>\n",
       "      <td>4.658200</td>\n",
       "      <td>10.000000</td>\n",
       "      <td>10.000000</td>\n",
       "      <td>23.000000</td>\n",
       "      <td>23.000000</td>\n",
       "    </tr>\n",
       "  </tbody>\n",
       "</table>\n",
       "</div>"
      ],
      "text/plain": [
       "                Emg1           Emg2           Emg3           Emg4  \\\n",
       "count  474360.000000  474360.000000  474360.000000  474360.000000   \n",
       "mean        0.160505       0.142269       0.172002       0.046039   \n",
       "std         0.339476       0.326525       0.424151       0.168354   \n",
       "min         0.000000       0.000000       0.002400       0.000000   \n",
       "25%         0.002400       0.002400       0.002400       0.002400   \n",
       "50%         0.029300       0.002400       0.002400       0.002400   \n",
       "75%         0.153800       0.114700       0.185500       0.002400   \n",
       "max         4.660600       4.316400       4.655800       4.038100   \n",
       "\n",
       "                Emg5           Emg6           Emg7           Emg8  \\\n",
       "count  474360.000000  474360.000000  474360.000000  474360.000000   \n",
       "mean        0.011075       0.027917       0.315248       0.309821   \n",
       "std         0.032590       0.077402       0.423296       0.421916   \n",
       "min         0.002400       0.000000       0.002400       0.002400   \n",
       "25%         0.002400       0.002400       0.090300       0.029300   \n",
       "50%         0.002400       0.002400       0.192900       0.117200   \n",
       "75%         0.002400       0.017100       0.368700       0.481000   \n",
       "max         0.712900       2.050800       4.658200       4.660600   \n",
       "\n",
       "                Emg9          Emg10     repetition   rerepetition  \\\n",
       "count  474360.000000  474360.000000  474360.000000  474360.000000   \n",
       "mean        0.053934       0.377027       3.131552       2.228957   \n",
       "std         0.161553       0.583646       3.480692       3.258935   \n",
       "min         0.000000       0.000000       0.000000       0.000000   \n",
       "25%         0.002400       0.036600       0.000000       0.000000   \n",
       "50%         0.002400       0.158700       2.000000       0.000000   \n",
       "75%         0.029300       0.498000       6.000000       4.000000   \n",
       "max         3.933100       4.658200      10.000000      10.000000   \n",
       "\n",
       "            stimulus     restimulus  \n",
       "count  474360.000000  474360.000000  \n",
       "mean        5.549161       4.007633  \n",
       "std         6.568903       6.186889  \n",
       "min         0.000000       0.000000  \n",
       "25%         0.000000       0.000000  \n",
       "50%         3.000000       0.000000  \n",
       "75%        10.000000       7.000000  \n",
       "max        23.000000      23.000000  "
      ]
     },
     "execution_count": 4,
     "metadata": {},
     "output_type": "execute_result"
    }
   ],
   "source": [
    "raw_data.describe(include='all')"
   ]
  },
  {
   "cell_type": "code",
   "execution_count": 5,
   "id": "f0b9a2e6",
   "metadata": {},
   "outputs": [
    {
     "name": "stdout",
     "output_type": "stream",
     "text": [
      "Unique Dependent values and their counts :\n",
      "0     204306\n",
      "7      15626\n",
      "8      15623\n",
      "12     15606\n",
      "2      15606\n",
      "4      15601\n",
      "6      15584\n",
      "5      15581\n",
      "9      15580\n",
      "11     15571\n",
      "10     15558\n",
      "1      15549\n",
      "3      15534\n",
      "17     10420\n",
      "14     10406\n",
      "13     10403\n",
      "15     10366\n",
      "16     10340\n",
      "19      5202\n",
      "21      5202\n",
      "18      5201\n",
      "20      5169\n",
      "22      5164\n",
      "23      5162\n",
      "Name: stimulus, dtype: int64\n"
     ]
    }
   ],
   "source": [
    "print(\"Unique Dependent values and their counts :\")\n",
    "print(raw_data[\"stimulus\"].value_counts())"
   ]
  },
  {
   "cell_type": "markdown",
   "id": "54420ec4",
   "metadata": {},
   "source": [
    "# Data Cleaning"
   ]
  },
  {
   "cell_type": "code",
   "execution_count": 6,
   "id": "a811198b",
   "metadata": {},
   "outputs": [],
   "source": [
    "index_names = raw_data[ (raw_data['stimulus'] != raw_data['restimulus'])].index\n",
    "raw_data.drop(index_names, inplace = True)"
   ]
  },
  {
   "cell_type": "code",
   "execution_count": 7,
   "id": "556cd92f",
   "metadata": {},
   "outputs": [],
   "source": [
    "index_names = raw_data[ (raw_data['repetition'] != raw_data['rerepetition'])].index\n",
    "raw_data.drop(index_names, inplace = True)"
   ]
  },
  {
   "cell_type": "code",
   "execution_count": 8,
   "id": "c91744f7",
   "metadata": {},
   "outputs": [],
   "source": [
    "X = raw_data.iloc[:,0:10]\n",
    "y = raw_data.stimulus"
   ]
  },
  {
   "cell_type": "markdown",
   "id": "152f7160",
   "metadata": {},
   "source": [
    "# One Hot Encoding"
   ]
  },
  {
   "cell_type": "code",
   "execution_count": 9,
   "id": "dfb77d24",
   "metadata": {},
   "outputs": [],
   "source": [
    "num_classes = 24"
   ]
  },
  {
   "cell_type": "code",
   "execution_count": 10,
   "id": "be64bf6b",
   "metadata": {},
   "outputs": [],
   "source": [
    "# One hot encoding for categorical labels\n",
    "import keras\n",
    "from keras import utils as np_utils\n",
    "y = keras.utils.np_utils.to_categorical(y, num_classes)"
   ]
  },
  {
   "cell_type": "code",
   "execution_count": 11,
   "id": "c7358f86",
   "metadata": {},
   "outputs": [],
   "source": [
    "input_dim = X.shape[1]"
   ]
  },
  {
   "cell_type": "markdown",
   "id": "cb3088a1",
   "metadata": {},
   "source": [
    "# Standard Scaler"
   ]
  },
  {
   "cell_type": "code",
   "execution_count": 12,
   "id": "5bd820f4",
   "metadata": {},
   "outputs": [],
   "source": [
    "from sklearn.preprocessing import StandardScaler\n",
    "standardscaler=StandardScaler()"
   ]
  },
  {
   "cell_type": "code",
   "execution_count": 13,
   "id": "6a118694",
   "metadata": {},
   "outputs": [],
   "source": [
    "sc = pd.DataFrame(standardscaler.fit_transform(X))"
   ]
  },
  {
   "cell_type": "code",
   "execution_count": 14,
   "id": "d6e2f38b",
   "metadata": {},
   "outputs": [
    {
     "data": {
      "text/html": [
       "<div>\n",
       "<style scoped>\n",
       "    .dataframe tbody tr th:only-of-type {\n",
       "        vertical-align: middle;\n",
       "    }\n",
       "\n",
       "    .dataframe tbody tr th {\n",
       "        vertical-align: top;\n",
       "    }\n",
       "\n",
       "    .dataframe thead th {\n",
       "        text-align: right;\n",
       "    }\n",
       "</style>\n",
       "<table border=\"1\" class=\"dataframe\">\n",
       "  <thead>\n",
       "    <tr style=\"text-align: right;\">\n",
       "      <th></th>\n",
       "      <th>0</th>\n",
       "      <th>1</th>\n",
       "      <th>2</th>\n",
       "      <th>3</th>\n",
       "      <th>4</th>\n",
       "      <th>5</th>\n",
       "      <th>6</th>\n",
       "      <th>7</th>\n",
       "      <th>8</th>\n",
       "      <th>9</th>\n",
       "    </tr>\n",
       "  </thead>\n",
       "  <tbody>\n",
       "    <tr>\n",
       "      <th>0</th>\n",
       "      <td>-0.502674</td>\n",
       "      <td>-0.472699</td>\n",
       "      <td>-0.437307</td>\n",
       "      <td>-0.285603</td>\n",
       "      <td>-0.293001</td>\n",
       "      <td>-0.349257</td>\n",
       "      <td>-0.753030</td>\n",
       "      <td>-0.774419</td>\n",
       "      <td>-0.352178</td>\n",
       "      <td>-0.668506</td>\n",
       "    </tr>\n",
       "    <tr>\n",
       "      <th>1</th>\n",
       "      <td>-0.502674</td>\n",
       "      <td>-0.472699</td>\n",
       "      <td>-0.437307</td>\n",
       "      <td>-0.285603</td>\n",
       "      <td>-0.293001</td>\n",
       "      <td>-0.349257</td>\n",
       "      <td>-0.753030</td>\n",
       "      <td>-0.774419</td>\n",
       "      <td>-0.352178</td>\n",
       "      <td>-0.668506</td>\n",
       "    </tr>\n",
       "    <tr>\n",
       "      <th>2</th>\n",
       "      <td>-0.502674</td>\n",
       "      <td>-0.472699</td>\n",
       "      <td>-0.437307</td>\n",
       "      <td>-0.285603</td>\n",
       "      <td>-0.293001</td>\n",
       "      <td>-0.349257</td>\n",
       "      <td>-0.753030</td>\n",
       "      <td>-0.774419</td>\n",
       "      <td>-0.352178</td>\n",
       "      <td>-0.668506</td>\n",
       "    </tr>\n",
       "    <tr>\n",
       "      <th>3</th>\n",
       "      <td>-0.502674</td>\n",
       "      <td>-0.472699</td>\n",
       "      <td>-0.437307</td>\n",
       "      <td>-0.285603</td>\n",
       "      <td>-0.293001</td>\n",
       "      <td>-0.349257</td>\n",
       "      <td>-0.753030</td>\n",
       "      <td>-0.774419</td>\n",
       "      <td>-0.352178</td>\n",
       "      <td>-0.668506</td>\n",
       "    </tr>\n",
       "    <tr>\n",
       "      <th>4</th>\n",
       "      <td>-0.502674</td>\n",
       "      <td>-0.472699</td>\n",
       "      <td>-0.437307</td>\n",
       "      <td>-0.285603</td>\n",
       "      <td>-0.293001</td>\n",
       "      <td>-0.349257</td>\n",
       "      <td>-0.753030</td>\n",
       "      <td>-0.774419</td>\n",
       "      <td>-0.352178</td>\n",
       "      <td>-0.668506</td>\n",
       "    </tr>\n",
       "    <tr>\n",
       "      <th>...</th>\n",
       "      <td>...</td>\n",
       "      <td>...</td>\n",
       "      <td>...</td>\n",
       "      <td>...</td>\n",
       "      <td>...</td>\n",
       "      <td>...</td>\n",
       "      <td>...</td>\n",
       "      <td>...</td>\n",
       "      <td>...</td>\n",
       "      <td>...</td>\n",
       "    </tr>\n",
       "    <tr>\n",
       "      <th>395362</th>\n",
       "      <td>-0.502674</td>\n",
       "      <td>-0.472699</td>\n",
       "      <td>-0.437307</td>\n",
       "      <td>-0.285603</td>\n",
       "      <td>-0.293001</td>\n",
       "      <td>-0.349257</td>\n",
       "      <td>-0.688582</td>\n",
       "      <td>-0.768842</td>\n",
       "      <td>-0.352178</td>\n",
       "      <td>-0.664504</td>\n",
       "    </tr>\n",
       "    <tr>\n",
       "      <th>395363</th>\n",
       "      <td>-0.502674</td>\n",
       "      <td>-0.472699</td>\n",
       "      <td>-0.437307</td>\n",
       "      <td>-0.285603</td>\n",
       "      <td>-0.293001</td>\n",
       "      <td>-0.349257</td>\n",
       "      <td>-0.709918</td>\n",
       "      <td>-0.774419</td>\n",
       "      <td>-0.352178</td>\n",
       "      <td>-0.660662</td>\n",
       "    </tr>\n",
       "    <tr>\n",
       "      <th>395364</th>\n",
       "      <td>-0.502674</td>\n",
       "      <td>-0.472699</td>\n",
       "      <td>-0.437307</td>\n",
       "      <td>-0.285603</td>\n",
       "      <td>-0.293001</td>\n",
       "      <td>-0.349257</td>\n",
       "      <td>-0.699140</td>\n",
       "      <td>-0.774419</td>\n",
       "      <td>-0.352178</td>\n",
       "      <td>-0.656660</td>\n",
       "    </tr>\n",
       "    <tr>\n",
       "      <th>395365</th>\n",
       "      <td>-0.502674</td>\n",
       "      <td>-0.472699</td>\n",
       "      <td>-0.437307</td>\n",
       "      <td>-0.285603</td>\n",
       "      <td>-0.293001</td>\n",
       "      <td>-0.349257</td>\n",
       "      <td>-0.645470</td>\n",
       "      <td>-0.774419</td>\n",
       "      <td>-0.352178</td>\n",
       "      <td>-0.656660</td>\n",
       "    </tr>\n",
       "    <tr>\n",
       "      <th>395366</th>\n",
       "      <td>-0.502674</td>\n",
       "      <td>-0.472699</td>\n",
       "      <td>-0.437307</td>\n",
       "      <td>-0.285603</td>\n",
       "      <td>-0.293001</td>\n",
       "      <td>-0.349257</td>\n",
       "      <td>-0.597299</td>\n",
       "      <td>-0.768842</td>\n",
       "      <td>-0.352178</td>\n",
       "      <td>-0.644974</td>\n",
       "    </tr>\n",
       "  </tbody>\n",
       "</table>\n",
       "<p>395367 rows × 10 columns</p>\n",
       "</div>"
      ],
      "text/plain": [
       "               0         1         2         3         4         5         6  \\\n",
       "0      -0.502674 -0.472699 -0.437307 -0.285603 -0.293001 -0.349257 -0.753030   \n",
       "1      -0.502674 -0.472699 -0.437307 -0.285603 -0.293001 -0.349257 -0.753030   \n",
       "2      -0.502674 -0.472699 -0.437307 -0.285603 -0.293001 -0.349257 -0.753030   \n",
       "3      -0.502674 -0.472699 -0.437307 -0.285603 -0.293001 -0.349257 -0.753030   \n",
       "4      -0.502674 -0.472699 -0.437307 -0.285603 -0.293001 -0.349257 -0.753030   \n",
       "...          ...       ...       ...       ...       ...       ...       ...   \n",
       "395362 -0.502674 -0.472699 -0.437307 -0.285603 -0.293001 -0.349257 -0.688582   \n",
       "395363 -0.502674 -0.472699 -0.437307 -0.285603 -0.293001 -0.349257 -0.709918   \n",
       "395364 -0.502674 -0.472699 -0.437307 -0.285603 -0.293001 -0.349257 -0.699140   \n",
       "395365 -0.502674 -0.472699 -0.437307 -0.285603 -0.293001 -0.349257 -0.645470   \n",
       "395366 -0.502674 -0.472699 -0.437307 -0.285603 -0.293001 -0.349257 -0.597299   \n",
       "\n",
       "               7         8         9  \n",
       "0      -0.774419 -0.352178 -0.668506  \n",
       "1      -0.774419 -0.352178 -0.668506  \n",
       "2      -0.774419 -0.352178 -0.668506  \n",
       "3      -0.774419 -0.352178 -0.668506  \n",
       "4      -0.774419 -0.352178 -0.668506  \n",
       "...          ...       ...       ...  \n",
       "395362 -0.768842 -0.352178 -0.664504  \n",
       "395363 -0.774419 -0.352178 -0.660662  \n",
       "395364 -0.774419 -0.352178 -0.656660  \n",
       "395365 -0.774419 -0.352178 -0.656660  \n",
       "395366 -0.768842 -0.352178 -0.644974  \n",
       "\n",
       "[395367 rows x 10 columns]"
      ]
     },
     "execution_count": 14,
     "metadata": {},
     "output_type": "execute_result"
    }
   ],
   "source": [
    "sc"
   ]
  },
  {
   "cell_type": "code",
   "execution_count": 15,
   "id": "65cfb75d",
   "metadata": {},
   "outputs": [],
   "source": [
    "# Splitting data for training and testing\n",
    "X_train, X_test, y_train, y_test = train_test_split(sc, y, test_size = 0.2, random_state = 39)"
   ]
  },
  {
   "cell_type": "markdown",
   "id": "3ba47781",
   "metadata": {},
   "source": [
    "# Deep Learning "
   ]
  },
  {
   "cell_type": "code",
   "execution_count": 16,
   "id": "d426e2e1",
   "metadata": {},
   "outputs": [],
   "source": [
    "from sklearn.preprocessing import MinMaxScaler\n",
    "from tensorflow.keras.models import Model\n",
    "from tensorflow.keras.layers import Input\n",
    "from tensorflow.keras.layers import Dense\n",
    "from tensorflow.keras.layers import LeakyReLU,ELU\n",
    "from tensorflow.keras.layers import BatchNormalization\n",
    "from tensorflow.keras.utils import plot_model\n",
    "import tensorflow as tf\n",
    "from sklearn.model_selection import cross_val_score\n",
    "from keras.models import Sequential\n",
    "from keras.layers import Dense, BatchNormalization, Dropout\n",
    "from tensorflow.keras.optimizers import Adam, SGD, RMSprop, Adadelta, Adagrad, Adamax, Nadam, Ftrl\n",
    "from keras.callbacks import EarlyStopping, ModelCheckpoint\n",
    "from keras.wrappers.scikit_learn import KerasClassifier\n",
    "from sklearn.metrics import make_scorer, accuracy_score\n",
    "from sklearn.model_selection import StratifiedKFold"
   ]
  },
  {
   "cell_type": "code",
   "execution_count": 17,
   "id": "cd0ef208",
   "metadata": {},
   "outputs": [],
   "source": [
    "from keras.layers import LeakyReLU\n",
    "LeakyReLU = LeakyReLU(alpha=0.1)\n",
    "from keras.models import Sequential\n",
    "from keras.layers import Dense, Flatten, Convolution1D, Dropout\n",
    "from keras.initializers import random_uniform"
   ]
  },
  {
   "cell_type": "markdown",
   "id": "f97d61bc",
   "metadata": {},
   "source": [
    "# 1. Define Network"
   ]
  },
  {
   "cell_type": "code",
   "execution_count": 18,
   "id": "bd77bf81",
   "metadata": {},
   "outputs": [],
   "source": [
    "num_classes = 24\n",
    "input_dim = X.shape[1]"
   ]
  },
  {
   "cell_type": "code",
   "execution_count": 19,
   "id": "fbdce465",
   "metadata": {},
   "outputs": [],
   "source": [
    "visible = Input(shape=(input_dim,))\n",
    "hidden1 = Dense(3000, activation='relu')(visible)\n",
    "hidden2 = Dense(1500, activation='relu')(hidden1)\n",
    "hidden3 = Dropout(0.2)(hidden2)\n",
    "hidden4 = Dense(750, activation='relu')(hidden3)\n",
    "hidden5 = Dense(375, activation='relu')(hidden4)\n",
    "hidden6 = Dense(48, activation='relu')(hidden5)\n",
    "output = Dense(num_classes, activation='softmax')(hidden6)\n",
    "model = Model(inputs=visible, outputs=output)"
   ]
  },
  {
   "cell_type": "code",
   "execution_count": 20,
   "id": "1dd33478",
   "metadata": {},
   "outputs": [
    {
     "name": "stdout",
     "output_type": "stream",
     "text": [
      "Model: \"model\"\n",
      "_________________________________________________________________\n",
      " Layer (type)                Output Shape              Param #   \n",
      "=================================================================\n",
      " input_1 (InputLayer)        [(None, 10)]              0         \n",
      "                                                                 \n",
      " dense (Dense)               (None, 3000)              33000     \n",
      "                                                                 \n",
      " dense_1 (Dense)             (None, 1500)              4501500   \n",
      "                                                                 \n",
      " dropout (Dropout)           (None, 1500)              0         \n",
      "                                                                 \n",
      " dense_2 (Dense)             (None, 750)               1125750   \n",
      "                                                                 \n",
      " dense_3 (Dense)             (None, 375)               281625    \n",
      "                                                                 \n",
      " dense_4 (Dense)             (None, 48)                18048     \n",
      "                                                                 \n",
      " dense_5 (Dense)             (None, 24)                1176      \n",
      "                                                                 \n",
      "=================================================================\n",
      "Total params: 5,961,099\n",
      "Trainable params: 5,961,099\n",
      "Non-trainable params: 0\n",
      "_________________________________________________________________\n"
     ]
    }
   ],
   "source": [
    "model.summary()"
   ]
  },
  {
   "cell_type": "markdown",
   "id": "3196ac97",
   "metadata": {},
   "source": [
    "# 2. Compile Network"
   ]
  },
  {
   "cell_type": "code",
   "execution_count": 21,
   "id": "7a2d558b",
   "metadata": {},
   "outputs": [],
   "source": [
    "model.compile(optimizer='adam', loss='categorical_crossentropy', metrics=['accuracy'])"
   ]
  },
  {
   "cell_type": "code",
   "execution_count": 22,
   "id": "c1d2b36d",
   "metadata": {},
   "outputs": [
    {
     "name": "stdout",
     "output_type": "stream",
     "text": [
      "You must install pydot (`pip install pydot`) and install graphviz (see instructions at https://graphviz.gitlab.io/download/) for plot_model/model_to_dot to work.\n"
     ]
    }
   ],
   "source": [
    "plot_model(model, 'EMG_ANN', show_shapes = True)"
   ]
  },
  {
   "cell_type": "markdown",
   "id": "3358b592",
   "metadata": {},
   "source": [
    "# 3. Fit Network"
   ]
  },
  {
   "cell_type": "code",
   "execution_count": 23,
   "id": "e0ed4ddd",
   "metadata": {},
   "outputs": [
    {
     "name": "stdout",
     "output_type": "stream",
     "text": [
      "Epoch 1/100\n",
      "78/78 [==============================] - 10s 61ms/step - loss: 1.2202 - accuracy: 0.6712 - val_loss: 0.8251 - val_accuracy: 0.7643\n",
      "Epoch 2/100\n",
      "78/78 [==============================] - 2s 28ms/step - loss: 0.7393 - accuracy: 0.7869 - val_loss: 0.6448 - val_accuracy: 0.8123\n",
      "Epoch 3/100\n",
      "78/78 [==============================] - 2s 26ms/step - loss: 0.6201 - accuracy: 0.8194 - val_loss: 0.5658 - val_accuracy: 0.8345\n",
      "Epoch 4/100\n",
      "78/78 [==============================] - 2s 27ms/step - loss: 0.5506 - accuracy: 0.8372 - val_loss: 0.5144 - val_accuracy: 0.8482\n",
      "Epoch 5/100\n",
      "78/78 [==============================] - 2s 26ms/step - loss: 0.5072 - accuracy: 0.8487 - val_loss: 0.4820 - val_accuracy: 0.8560\n",
      "Epoch 6/100\n",
      "78/78 [==============================] - 2s 27ms/step - loss: 0.4750 - accuracy: 0.8575 - val_loss: 0.4494 - val_accuracy: 0.8650\n",
      "Epoch 7/100\n",
      "78/78 [==============================] - 2s 26ms/step - loss: 0.4492 - accuracy: 0.8646 - val_loss: 0.4325 - val_accuracy: 0.8693\n",
      "Epoch 8/100\n",
      "78/78 [==============================] - 2s 27ms/step - loss: 0.4300 - accuracy: 0.8697 - val_loss: 0.4267 - val_accuracy: 0.8696\n",
      "Epoch 9/100\n",
      "78/78 [==============================] - 2s 27ms/step - loss: 0.4146 - accuracy: 0.8747 - val_loss: 0.3998 - val_accuracy: 0.8791\n",
      "Epoch 10/100\n",
      "78/78 [==============================] - 2s 26ms/step - loss: 0.3936 - accuracy: 0.8801 - val_loss: 0.3825 - val_accuracy: 0.8842\n",
      "Epoch 11/100\n",
      "78/78 [==============================] - 2s 27ms/step - loss: 0.3837 - accuracy: 0.8829 - val_loss: 0.3716 - val_accuracy: 0.8868\n",
      "Epoch 12/100\n",
      "78/78 [==============================] - 2s 26ms/step - loss: 0.3698 - accuracy: 0.8866 - val_loss: 0.3615 - val_accuracy: 0.8884\n",
      "Epoch 13/100\n",
      "78/78 [==============================] - 2s 27ms/step - loss: 0.3576 - accuracy: 0.8898 - val_loss: 0.3552 - val_accuracy: 0.8905\n",
      "Epoch 14/100\n",
      "78/78 [==============================] - 2s 26ms/step - loss: 0.3466 - accuracy: 0.8934 - val_loss: 0.3467 - val_accuracy: 0.8943\n",
      "Epoch 15/100\n",
      "78/78 [==============================] - 2s 27ms/step - loss: 0.3369 - accuracy: 0.8958 - val_loss: 0.3409 - val_accuracy: 0.8950\n",
      "Epoch 16/100\n",
      "78/78 [==============================] - 2s 26ms/step - loss: 0.3270 - accuracy: 0.8991 - val_loss: 0.3295 - val_accuracy: 0.8979\n",
      "Epoch 17/100\n",
      "78/78 [==============================] - 2s 26ms/step - loss: 0.3189 - accuracy: 0.9015 - val_loss: 0.3319 - val_accuracy: 0.8969\n",
      "Epoch 18/100\n",
      "78/78 [==============================] - 2s 26ms/step - loss: 0.3108 - accuracy: 0.9042 - val_loss: 0.3270 - val_accuracy: 0.8993\n",
      "Epoch 19/100\n",
      "78/78 [==============================] - 2s 27ms/step - loss: 0.3052 - accuracy: 0.9057 - val_loss: 0.3134 - val_accuracy: 0.9033\n",
      "Epoch 20/100\n",
      "78/78 [==============================] - 2s 26ms/step - loss: 0.2988 - accuracy: 0.9078 - val_loss: 0.3081 - val_accuracy: 0.9055\n",
      "Epoch 21/100\n",
      "78/78 [==============================] - 2s 26ms/step - loss: 0.2878 - accuracy: 0.9111 - val_loss: 0.3007 - val_accuracy: 0.9073\n",
      "Epoch 22/100\n",
      "78/78 [==============================] - 2s 26ms/step - loss: 0.2843 - accuracy: 0.9118 - val_loss: 0.2966 - val_accuracy: 0.9079\n",
      "Epoch 23/100\n",
      "78/78 [==============================] - 2s 26ms/step - loss: 0.2783 - accuracy: 0.9131 - val_loss: 0.2925 - val_accuracy: 0.9104\n",
      "Epoch 24/100\n",
      "78/78 [==============================] - 2s 27ms/step - loss: 0.2737 - accuracy: 0.9142 - val_loss: 0.2896 - val_accuracy: 0.9109\n",
      "Epoch 25/100\n",
      "78/78 [==============================] - 2s 26ms/step - loss: 0.2657 - accuracy: 0.9178 - val_loss: 0.2809 - val_accuracy: 0.9137\n",
      "Epoch 26/100\n",
      "78/78 [==============================] - 2s 26ms/step - loss: 0.2581 - accuracy: 0.9194 - val_loss: 0.2767 - val_accuracy: 0.9148\n",
      "Epoch 27/100\n",
      "78/78 [==============================] - 2s 28ms/step - loss: 0.2548 - accuracy: 0.9201 - val_loss: 0.2730 - val_accuracy: 0.9163\n",
      "Epoch 28/100\n",
      "78/78 [==============================] - 2s 26ms/step - loss: 0.2506 - accuracy: 0.9219 - val_loss: 0.2687 - val_accuracy: 0.9181\n",
      "Epoch 29/100\n",
      "78/78 [==============================] - 2s 26ms/step - loss: 0.2455 - accuracy: 0.9233 - val_loss: 0.2704 - val_accuracy: 0.9168\n",
      "Epoch 30/100\n",
      "78/78 [==============================] - 2s 27ms/step - loss: 0.2435 - accuracy: 0.9236 - val_loss: 0.2685 - val_accuracy: 0.9182\n",
      "Epoch 31/100\n",
      "78/78 [==============================] - 2s 26ms/step - loss: 0.2378 - accuracy: 0.9262 - val_loss: 0.2622 - val_accuracy: 0.9195\n",
      "Epoch 32/100\n",
      "78/78 [==============================] - 2s 27ms/step - loss: 0.2324 - accuracy: 0.9276 - val_loss: 0.2617 - val_accuracy: 0.9199\n",
      "Epoch 33/100\n",
      "78/78 [==============================] - 2s 27ms/step - loss: 0.2303 - accuracy: 0.9281 - val_loss: 0.2490 - val_accuracy: 0.9247\n",
      "Epoch 34/100\n",
      "78/78 [==============================] - 2s 26ms/step - loss: 0.2239 - accuracy: 0.9301 - val_loss: 0.2478 - val_accuracy: 0.9236\n",
      "Epoch 35/100\n",
      "78/78 [==============================] - 2s 28ms/step - loss: 0.2200 - accuracy: 0.9313 - val_loss: 0.2525 - val_accuracy: 0.9241\n",
      "Epoch 36/100\n",
      "78/78 [==============================] - 2s 27ms/step - loss: 0.2161 - accuracy: 0.9323 - val_loss: 0.2452 - val_accuracy: 0.9256\n",
      "Epoch 37/100\n",
      "78/78 [==============================] - 2s 27ms/step - loss: 0.2124 - accuracy: 0.9338 - val_loss: 0.2463 - val_accuracy: 0.9240\n",
      "Epoch 38/100\n",
      "78/78 [==============================] - 2s 27ms/step - loss: 0.2133 - accuracy: 0.9336 - val_loss: 0.2493 - val_accuracy: 0.9242\n",
      "Epoch 39/100\n",
      "78/78 [==============================] - 2s 27ms/step - loss: 0.2076 - accuracy: 0.9352 - val_loss: 0.2360 - val_accuracy: 0.9280\n",
      "Epoch 40/100\n",
      "78/78 [==============================] - 2s 27ms/step - loss: 0.2026 - accuracy: 0.9369 - val_loss: 0.2357 - val_accuracy: 0.9286\n",
      "Epoch 41/100\n",
      "78/78 [==============================] - 2s 26ms/step - loss: 0.2012 - accuracy: 0.9372 - val_loss: 0.2346 - val_accuracy: 0.9295\n",
      "Epoch 42/100\n",
      "78/78 [==============================] - 2s 27ms/step - loss: 0.1961 - accuracy: 0.9394 - val_loss: 0.2344 - val_accuracy: 0.9286\n",
      "Epoch 43/100\n",
      "78/78 [==============================] - 2s 28ms/step - loss: 0.1936 - accuracy: 0.9394 - val_loss: 0.2355 - val_accuracy: 0.9290\n",
      "Epoch 44/100\n",
      "78/78 [==============================] - 2s 27ms/step - loss: 0.1940 - accuracy: 0.9396 - val_loss: 0.2236 - val_accuracy: 0.9316\n",
      "Epoch 45/100\n",
      "78/78 [==============================] - 2s 27ms/step - loss: 0.1923 - accuracy: 0.9402 - val_loss: 0.2346 - val_accuracy: 0.9286\n",
      "Epoch 46/100\n",
      "78/78 [==============================] - 2s 28ms/step - loss: 0.1877 - accuracy: 0.9415 - val_loss: 0.2280 - val_accuracy: 0.9316\n",
      "Epoch 47/100\n",
      "78/78 [==============================] - 2s 26ms/step - loss: 0.1854 - accuracy: 0.9421 - val_loss: 0.2272 - val_accuracy: 0.9313\n",
      "Epoch 48/100\n",
      "78/78 [==============================] - 2s 28ms/step - loss: 0.1837 - accuracy: 0.9432 - val_loss: 0.2241 - val_accuracy: 0.9331\n",
      "Epoch 49/100\n",
      "78/78 [==============================] - 2s 27ms/step - loss: 0.1837 - accuracy: 0.9425 - val_loss: 0.2305 - val_accuracy: 0.9319\n",
      "Epoch 50/100\n",
      "78/78 [==============================] - 2s 27ms/step - loss: 0.1779 - accuracy: 0.9447 - val_loss: 0.2195 - val_accuracy: 0.9334\n",
      "Epoch 51/100\n",
      "78/78 [==============================] - 2s 27ms/step - loss: 0.1757 - accuracy: 0.9452 - val_loss: 0.2192 - val_accuracy: 0.9336\n",
      "Epoch 52/100\n",
      "78/78 [==============================] - 2s 28ms/step - loss: 0.1757 - accuracy: 0.9450 - val_loss: 0.2139 - val_accuracy: 0.9358\n",
      "Epoch 53/100\n",
      "78/78 [==============================] - 2s 27ms/step - loss: 0.1703 - accuracy: 0.9470 - val_loss: 0.2196 - val_accuracy: 0.9337\n",
      "Epoch 54/100\n",
      "78/78 [==============================] - 2s 27ms/step - loss: 0.1700 - accuracy: 0.9470 - val_loss: 0.2166 - val_accuracy: 0.9353\n",
      "Epoch 55/100\n",
      "78/78 [==============================] - 2s 28ms/step - loss: 0.1649 - accuracy: 0.9485 - val_loss: 0.2159 - val_accuracy: 0.9358\n",
      "Epoch 56/100\n",
      "78/78 [==============================] - 2s 27ms/step - loss: 0.1662 - accuracy: 0.9482 - val_loss: 0.2152 - val_accuracy: 0.9354\n",
      "Epoch 57/100\n",
      "78/78 [==============================] - 2s 27ms/step - loss: 0.1640 - accuracy: 0.9490 - val_loss: 0.2099 - val_accuracy: 0.9369\n",
      "Epoch 58/100\n"
     ]
    },
    {
     "name": "stdout",
     "output_type": "stream",
     "text": [
      "78/78 [==============================] - 2s 28ms/step - loss: 0.1634 - accuracy: 0.9494 - val_loss: 0.2077 - val_accuracy: 0.9382\n",
      "Epoch 59/100\n",
      "78/78 [==============================] - 2s 27ms/step - loss: 0.1599 - accuracy: 0.9501 - val_loss: 0.2158 - val_accuracy: 0.9362\n",
      "Epoch 60/100\n",
      "78/78 [==============================] - 2s 27ms/step - loss: 0.1590 - accuracy: 0.9505 - val_loss: 0.2072 - val_accuracy: 0.9380\n",
      "Epoch 61/100\n",
      "78/78 [==============================] - 2s 28ms/step - loss: 0.1559 - accuracy: 0.9514 - val_loss: 0.2087 - val_accuracy: 0.9380\n",
      "Epoch 62/100\n",
      "78/78 [==============================] - 2s 27ms/step - loss: 0.1558 - accuracy: 0.9515 - val_loss: 0.2163 - val_accuracy: 0.9372\n",
      "Epoch 63/100\n",
      "78/78 [==============================] - 2s 28ms/step - loss: 0.1560 - accuracy: 0.9516 - val_loss: 0.2055 - val_accuracy: 0.9396\n",
      "Epoch 64/100\n",
      "78/78 [==============================] - 2s 27ms/step - loss: 0.1518 - accuracy: 0.9526 - val_loss: 0.2031 - val_accuracy: 0.9408\n",
      "Epoch 65/100\n",
      "78/78 [==============================] - 2s 27ms/step - loss: 0.1506 - accuracy: 0.9530 - val_loss: 0.2043 - val_accuracy: 0.9395\n",
      "Epoch 66/100\n",
      "78/78 [==============================] - 2s 28ms/step - loss: 0.1472 - accuracy: 0.9543 - val_loss: 0.2030 - val_accuracy: 0.9411\n",
      "Epoch 67/100\n",
      "78/78 [==============================] - 2s 27ms/step - loss: 0.1473 - accuracy: 0.9540 - val_loss: 0.2060 - val_accuracy: 0.9383\n",
      "Epoch 68/100\n",
      "78/78 [==============================] - 2s 28ms/step - loss: 0.1471 - accuracy: 0.9543 - val_loss: 0.2111 - val_accuracy: 0.9389\n",
      "Epoch 69/100\n",
      "78/78 [==============================] - 2s 27ms/step - loss: 0.1466 - accuracy: 0.9539 - val_loss: 0.2053 - val_accuracy: 0.9410\n",
      "Epoch 70/100\n",
      "78/78 [==============================] - 2s 27ms/step - loss: 0.1431 - accuracy: 0.9554 - val_loss: 0.1978 - val_accuracy: 0.9418\n",
      "Epoch 71/100\n",
      "78/78 [==============================] - 2s 28ms/step - loss: 0.1404 - accuracy: 0.9562 - val_loss: 0.2009 - val_accuracy: 0.9411\n",
      "Epoch 72/100\n",
      "78/78 [==============================] - 2s 27ms/step - loss: 0.1416 - accuracy: 0.9557 - val_loss: 0.1947 - val_accuracy: 0.9420\n",
      "Epoch 73/100\n",
      "78/78 [==============================] - 2s 27ms/step - loss: 0.1414 - accuracy: 0.9561 - val_loss: 0.2019 - val_accuracy: 0.9411\n",
      "Epoch 74/100\n",
      "78/78 [==============================] - 2s 28ms/step - loss: 0.1378 - accuracy: 0.9571 - val_loss: 0.1969 - val_accuracy: 0.9422\n",
      "Epoch 75/100\n",
      "78/78 [==============================] - 2s 27ms/step - loss: 0.1368 - accuracy: 0.9576 - val_loss: 0.1971 - val_accuracy: 0.9416\n",
      "Epoch 76/100\n",
      "78/78 [==============================] - 2s 27ms/step - loss: 0.1355 - accuracy: 0.9578 - val_loss: 0.1986 - val_accuracy: 0.9425\n",
      "Epoch 77/100\n",
      "78/78 [==============================] - 2s 27ms/step - loss: 0.1319 - accuracy: 0.9590 - val_loss: 0.1934 - val_accuracy: 0.9435\n",
      "Epoch 78/100\n",
      "78/78 [==============================] - 2s 27ms/step - loss: 0.1310 - accuracy: 0.9594 - val_loss: 0.1924 - val_accuracy: 0.9443\n",
      "Epoch 79/100\n",
      "78/78 [==============================] - 2s 27ms/step - loss: 0.1330 - accuracy: 0.9590 - val_loss: 0.2024 - val_accuracy: 0.9418\n",
      "Epoch 80/100\n",
      "78/78 [==============================] - 2s 28ms/step - loss: 0.1309 - accuracy: 0.9593 - val_loss: 0.1928 - val_accuracy: 0.9436\n",
      "Epoch 81/100\n",
      "78/78 [==============================] - 2s 27ms/step - loss: 0.1305 - accuracy: 0.9590 - val_loss: 0.1931 - val_accuracy: 0.9440\n",
      "Epoch 82/100\n",
      "78/78 [==============================] - 2s 28ms/step - loss: 0.1329 - accuracy: 0.9588 - val_loss: 0.1969 - val_accuracy: 0.9437\n",
      "Epoch 83/100\n",
      "78/78 [==============================] - 2s 27ms/step - loss: 0.1299 - accuracy: 0.9596 - val_loss: 0.1951 - val_accuracy: 0.9431\n",
      "Epoch 84/100\n",
      "78/78 [==============================] - 2s 28ms/step - loss: 0.1252 - accuracy: 0.9609 - val_loss: 0.1875 - val_accuracy: 0.9463\n",
      "Epoch 85/100\n",
      "78/78 [==============================] - 2s 27ms/step - loss: 0.1240 - accuracy: 0.9616 - val_loss: 0.1984 - val_accuracy: 0.9444\n",
      "Epoch 86/100\n",
      "78/78 [==============================] - 2s 28ms/step - loss: 0.1253 - accuracy: 0.9611 - val_loss: 0.1914 - val_accuracy: 0.9453\n",
      "Epoch 87/100\n",
      "78/78 [==============================] - 2s 27ms/step - loss: 0.1243 - accuracy: 0.9614 - val_loss: 0.1967 - val_accuracy: 0.9432\n",
      "Epoch 88/100\n",
      "78/78 [==============================] - 2s 27ms/step - loss: 0.1255 - accuracy: 0.9609 - val_loss: 0.1908 - val_accuracy: 0.9452\n",
      "Epoch 89/100\n",
      "78/78 [==============================] - 2s 28ms/step - loss: 0.1219 - accuracy: 0.9620 - val_loss: 0.1949 - val_accuracy: 0.9434\n",
      "Epoch 90/100\n",
      "78/78 [==============================] - 2s 27ms/step - loss: 0.1196 - accuracy: 0.9627 - val_loss: 0.1963 - val_accuracy: 0.9446\n",
      "Epoch 91/100\n",
      "78/78 [==============================] - 2s 27ms/step - loss: 0.1179 - accuracy: 0.9631 - val_loss: 0.1875 - val_accuracy: 0.9468\n",
      "Epoch 92/100\n",
      "78/78 [==============================] - 2s 27ms/step - loss: 0.1200 - accuracy: 0.9624 - val_loss: 0.1904 - val_accuracy: 0.9464\n",
      "Epoch 93/100\n",
      "78/78 [==============================] - 2s 27ms/step - loss: 0.1201 - accuracy: 0.9626 - val_loss: 0.1944 - val_accuracy: 0.9458\n",
      "Epoch 94/100\n",
      "78/78 [==============================] - 2s 28ms/step - loss: 0.1185 - accuracy: 0.9634 - val_loss: 0.1937 - val_accuracy: 0.9444\n",
      "Epoch 95/100\n",
      "78/78 [==============================] - 2s 28ms/step - loss: 0.1165 - accuracy: 0.9638 - val_loss: 0.1889 - val_accuracy: 0.9462\n",
      "Epoch 96/100\n",
      "78/78 [==============================] - 2s 27ms/step - loss: 0.1174 - accuracy: 0.9636 - val_loss: 0.1928 - val_accuracy: 0.9449\n",
      "Epoch 97/100\n",
      "78/78 [==============================] - 2s 27ms/step - loss: 0.1161 - accuracy: 0.9641 - val_loss: 0.1952 - val_accuracy: 0.9452\n",
      "Epoch 98/100\n",
      "78/78 [==============================] - 2s 28ms/step - loss: 0.1159 - accuracy: 0.9638 - val_loss: 0.1895 - val_accuracy: 0.9460\n",
      "Epoch 99/100\n",
      "78/78 [==============================] - 2s 27ms/step - loss: 0.1123 - accuracy: 0.9651 - val_loss: 0.1881 - val_accuracy: 0.9477\n",
      "Epoch 100/100\n",
      "78/78 [==============================] - 2s 28ms/step - loss: 0.1121 - accuracy: 0.9649 - val_loss: 0.1888 - val_accuracy: 0.9459\n"
     ]
    }
   ],
   "source": [
    "history = model.fit(X_train, y_train, batch_size=4056, epochs=100, validation_data = (X_test, y_test))"
   ]
  },
  {
   "cell_type": "markdown",
   "id": "ffed59b1",
   "metadata": {},
   "source": [
    "# 4.Evaluate Network"
   ]
  },
  {
   "cell_type": "markdown",
   "id": "28731190",
   "metadata": {},
   "source": [
    "## 4.1. Plotting Loss and Accuracy"
   ]
  },
  {
   "cell_type": "code",
   "execution_count": 24,
   "id": "971e6040",
   "metadata": {},
   "outputs": [
    {
     "data": {
      "text/plain": [
       "Text(0.5, 1.0, 'Loss Curve of Deep Neural Netowork')"
      ]
     },
     "execution_count": 24,
     "metadata": {},
     "output_type": "execute_result"
    },
    {
     "data": {
      "image/png": "[encoded data removed]",
      "text/plain": [
       "<Figure size 432x288 with 1 Axes>"
      ]
     },
     "metadata": {
      "needs_background": "light"
     },
     "output_type": "display_data"
    }
   ],
   "source": [
    "#Loss Curve\n",
    "\n",
    "\n",
    "plt.plot(figsize = [8,6])\n",
    "\n",
    "plt.plot(history.history['loss'],'r',linewidth = 3.0)\n",
    "plt.plot(history.history['val_loss'],'b',linewidth = 3.0)\n",
    "\n",
    "plt.legend(['Training Loss', 'Validation Loss'], fontsize = 18)\n",
    "\n",
    "plt.xlabel('Epochs', fontsize = 16)\n",
    "plt.ylabel('Loss', fontsize = 16)\n",
    "\n",
    "plt.title('Loss Curve of Deep Neural Netowork' , fontsize = 16 )\n",
    "\n"
   ]
  },
  {
   "cell_type": "code",
   "execution_count": 25,
   "id": "b0c193ec",
   "metadata": {},
   "outputs": [
    {
     "data": {
      "text/plain": [
       "Text(0.5, 1.0, 'Accuracy Curve of Deep Neural Netowork')"
      ]
     },
     "execution_count": 25,
     "metadata": {},
     "output_type": "execute_result"
    },
    {
     "data": {
      "image/png": "[encoded data removed]",
      "text/plain": [
       "<Figure size 432x288 with 1 Axes>"
      ]
     },
     "metadata": {
      "needs_background": "light"
     },
     "output_type": "display_data"
    }
   ],
   "source": [
    "#Accuracy Curve\n",
    "\n",
    "plt.plot(figsize = [8,6])\n",
    "plt.plot(history.history['accuracy'],'r',linewidth = 3.0)\n",
    "plt.plot(history.history['val_accuracy'],'b',linewidth = 3.0)\n",
    "\n",
    "plt.legend(['Training Accuracy', 'Validation Accuracy'], fontsize = 18)\n",
    "\n",
    "plt.xlabel('Epochs', fontsize = 16)\n",
    "plt.ylabel('Accuracy', fontsize = 16)\n",
    "\n",
    "\n",
    "plt.title('Accuracy Curve of Deep Neural Netowork' , fontsize = 16 )"
   ]
  },
  {
   "cell_type": "markdown",
   "id": "741a02aa",
   "metadata": {},
   "source": [
    "##  4.2 Make Predictions"
   ]
  },
  {
   "cell_type": "code",
   "execution_count": 26,
   "id": "e8465627",
   "metadata": {},
   "outputs": [],
   "source": [
    "predictions = model.predict(X_test)\n",
    "predictions = np.argmax(predictions, axis = 1)"
   ]
  },
  {
   "cell_type": "code",
   "execution_count": 27,
   "id": "3cac1a50",
   "metadata": {},
   "outputs": [
    {
     "data": {
      "text/plain": [
       "array([ 0,  0, 11, ...,  5,  0,  2], dtype=int64)"
      ]
     },
     "execution_count": 27,
     "metadata": {},
     "output_type": "execute_result"
    }
   ],
   "source": [
    "predictions"
   ]
  },
  {
   "cell_type": "markdown",
   "id": "70d666bb",
   "metadata": {},
   "source": [
    "#### Transforming from One Hot Encoding"
   ]
  },
  {
   "cell_type": "code",
   "execution_count": 28,
   "id": "7234b6e7",
   "metadata": {},
   "outputs": [
    {
     "data": {
      "text/plain": [
       "0"
      ]
     },
     "execution_count": 28,
     "metadata": {},
     "output_type": "execute_result"
    }
   ],
   "source": [
    "y_test =np.argmax(y_test, axis=1)\n",
    "y_test[1]"
   ]
  },
  {
   "cell_type": "code",
   "execution_count": 29,
   "id": "6278820d",
   "metadata": {},
   "outputs": [
    {
     "name": "stdout",
     "output_type": "stream",
     "text": [
      "Accuracy is: 94.59367175051217\n"
     ]
    }
   ],
   "source": [
    "from sklearn.metrics import accuracy_score\n",
    "accuracy = {accuracy_score(y_test, predictions)}\n",
    "print(f\"Accuracy is: {accuracy_score(y_test, predictions)* 100}\")"
   ]
  },
  {
   "cell_type": "markdown",
   "id": "eb044ea1",
   "metadata": {},
   "source": [
    "## 4.3 Classification Report"
   ]
  },
  {
   "cell_type": "code",
   "execution_count": 30,
   "id": "001ebc5a",
   "metadata": {},
   "outputs": [
    {
     "name": "stdout",
     "output_type": "stream",
     "text": [
      "\u001b[1mClassification report : \u001b[0m\n",
      "               precision    recall  f1-score   support\n",
      "\n",
      "           0       0.97      0.99      0.98     40693\n",
      "           1       0.90      0.90      0.90      2211\n",
      "           2       0.94      0.90      0.92      2205\n",
      "           3       0.93      0.92      0.92      2240\n",
      "           4       0.97      0.88      0.93      2299\n",
      "           5       0.89      0.91      0.90      2190\n",
      "           6       0.93      0.93      0.93      2298\n",
      "           7       0.93      0.87      0.90      2181\n",
      "           8       0.93      0.87      0.90      2126\n",
      "           9       0.94      0.87      0.91      2138\n",
      "          10       0.88      0.88      0.88      1939\n",
      "          11       0.91      0.89      0.90      2149\n",
      "          12       0.92      0.90      0.91      2203\n",
      "          13       0.86      0.93      0.89      1470\n",
      "          14       0.89      0.84      0.86      1353\n",
      "          15       0.86      0.88      0.87      1363\n",
      "          16       0.97      0.92      0.95      1631\n",
      "          17       0.89      0.95      0.92      1496\n",
      "          18       0.95      0.91      0.93       832\n",
      "          19       0.93      0.90      0.92       807\n",
      "          20       0.96      0.96      0.96       891\n",
      "          21       0.94      0.91      0.92       807\n",
      "          22       0.93      0.93      0.93       636\n",
      "          23       0.92      0.95      0.94       916\n",
      "\n",
      "    accuracy                           0.95     79074\n",
      "   macro avg       0.92      0.91      0.91     79074\n",
      "weighted avg       0.95      0.95      0.95     79074\n",
      "\n",
      "\u001b[1mConfusion Matrix : \u001b[0m\n"
     ]
    },
    {
     "data": {
      "image/png": "[encoded data removed]",
      "text/plain": [
       "<Figure size 432x288 with 2 Axes>"
      ]
     },
     "metadata": {
      "needs_background": "light"
     },
     "output_type": "display_data"
    }
   ],
   "source": [
    "from sklearn.metrics import confusion_matrix, f1_score, accuracy_score, classification_report\n",
    "print('\\033[1m' +'Classification report : '+ '\\033[0m\\n', classification_report(y_test, predictions))\n",
    "\n",
    "cm = confusion_matrix(predictions, y_test)\n",
    "print('\\033[1m' +'Confusion Matrix : '+ '\\033[0m')\n",
    "sns.heatmap(cm, cmap = 'OrRd',annot = True, fmt='d')\n",
    "plt.show()"
   ]
  },
  {
   "cell_type": "markdown",
   "id": "eaa5e512",
   "metadata": {},
   "source": [
    "## 4.4 Evaluation"
   ]
  },
  {
   "cell_type": "code",
   "execution_count": 31,
   "id": "9e469f86",
   "metadata": {},
   "outputs": [
    {
     "name": "stdout",
     "output_type": "stream",
     "text": [
      "MAE: 0.36989402331992816\n",
      "MSE: 4.048751802109416\n",
      "RMSE: 2.0121510385926342\n"
     ]
    }
   ],
   "source": [
    "from sklearn import metrics\n",
    "\n",
    "print('MAE:', metrics.mean_absolute_error(y_test,predictions))\n",
    "print('MSE:', metrics.mean_squared_error(y_test, predictions))\n",
    "print('RMSE:', np.sqrt(metrics.mean_squared_error(y_test, predictions)))"
   ]
  },
  {
   "cell_type": "code",
   "execution_count": 32,
   "id": "dff2a82d",
   "metadata": {},
   "outputs": [
    {
     "name": "stdout",
     "output_type": "stream",
     "text": [
      "Precision Score :  0.94588763138976\n",
      "Recall Score :  0.9459367175051218\n",
      "f1_score :  0.945605467745451\n"
     ]
    }
   ],
   "source": [
    "from sklearn.metrics import precision_score\n",
    "print(\"Precision Score : \",precision_score(y_test, predictions, average='weighted'))\n",
    "\n",
    "\n",
    "from sklearn.metrics import recall_score\n",
    "print(\"Recall Score : \",recall_score(y_test, predictions,average='weighted'))\n",
    "\n",
    "\n",
    "from sklearn.metrics import f1_score\n",
    "print(\"f1_score : \",f1_score(y_test, predictions,average='weighted'))"
   ]
  },
  {
   "cell_type": "code",
   "execution_count": null,
   "id": "81ac7468",
   "metadata": {},
   "outputs": [],
   "source": []
  },
  {
   "cell_type": "code",
   "execution_count": null,
   "id": "71a4c6e0",
   "metadata": {},
   "outputs": [],
   "source": []
  }
 ],
 "metadata": {
  "kernelspec": {
   "display_name": "Python 3 (ipykernel)",
   "language": "python",
   "name": "python3"
  },
  "language_info": {
   "codemirror_mode": {
    "name": "ipython",
    "version": 3
   },
   "file_extension": ".py",
   "mimetype": "text/x-python",
   "name": "python",
   "nbconvert_exporter": "python",
   "pygments_lexer": "ipython3",
   "version": "3.8.12"
  }
 },
 "nbformat": 4,
 "nbformat_minor": 5
}
