{
 "cells": [
  {
   "cell_type": "markdown",
   "id": "bf8ee932",
   "metadata": {},
   "source": [
    "# Importing Libraries"
   ]
  },
  {
   "cell_type": "code",
   "execution_count": 1,
   "id": "0f663fa8",
   "metadata": {},
   "outputs": [],
   "source": [
    "import numpy as np\n",
    "import pandas as pd\n",
    "import matplotlib.pyplot as plt\n",
    "import seaborn as sns\n",
    "from sklearn.model_selection import train_test_split"
   ]
  },
  {
   "cell_type": "markdown",
   "id": "511af272",
   "metadata": {},
   "source": [
    "# Loading Data"
   ]
  },
  {
   "cell_type": "code",
   "execution_count": 2,
   "id": "04fd19b0",
   "metadata": {},
   "outputs": [
    {
     "data": {
      "text/html": [
       "<div>\n",
       "<style scoped>\n",
       "    .dataframe tbody tr th:only-of-type {\n",
       "        vertical-align: middle;\n",
       "    }\n",
       "\n",
       "    .dataframe tbody tr th {\n",
       "        vertical-align: top;\n",
       "    }\n",
       "\n",
       "    .dataframe thead th {\n",
       "        text-align: right;\n",
       "    }\n",
       "</style>\n",
       "<table border=\"1\" class=\"dataframe\">\n",
       "  <thead>\n",
       "    <tr style=\"text-align: right;\">\n",
       "      <th></th>\n",
       "      <th>Emg1</th>\n",
       "      <th>Emg2</th>\n",
       "      <th>Emg3</th>\n",
       "      <th>Emg4</th>\n",
       "      <th>Emg5</th>\n",
       "      <th>Emg6</th>\n",
       "      <th>Emg7</th>\n",
       "      <th>Emg8</th>\n",
       "      <th>Emg9</th>\n",
       "      <th>Emg10</th>\n",
       "      <th>repetition</th>\n",
       "      <th>rerepetition</th>\n",
       "      <th>stimulus</th>\n",
       "      <th>restimulus</th>\n",
       "    </tr>\n",
       "  </thead>\n",
       "  <tbody>\n",
       "    <tr>\n",
       "      <th>180326</th>\n",
       "      <td>0.6689</td>\n",
       "      <td>0.1074</td>\n",
       "      <td>0.4321</td>\n",
       "      <td>1.1841</td>\n",
       "      <td>0.1636</td>\n",
       "      <td>0.1050</td>\n",
       "      <td>0.4590</td>\n",
       "      <td>0.5225</td>\n",
       "      <td>0.4004</td>\n",
       "      <td>0.5200</td>\n",
       "      <td>4</td>\n",
       "      <td>4</td>\n",
       "      <td>10</td>\n",
       "      <td>10</td>\n",
       "    </tr>\n",
       "    <tr>\n",
       "      <th>173398</th>\n",
       "      <td>0.1172</td>\n",
       "      <td>0.0024</td>\n",
       "      <td>0.0024</td>\n",
       "      <td>0.0024</td>\n",
       "      <td>0.0024</td>\n",
       "      <td>0.0757</td>\n",
       "      <td>0.3223</td>\n",
       "      <td>0.5566</td>\n",
       "      <td>0.0024</td>\n",
       "      <td>0.3735</td>\n",
       "      <td>6</td>\n",
       "      <td>6</td>\n",
       "      <td>9</td>\n",
       "      <td>9</td>\n",
       "    </tr>\n",
       "    <tr>\n",
       "      <th>176933</th>\n",
       "      <td>2.1021</td>\n",
       "      <td>0.6445</td>\n",
       "      <td>0.6177</td>\n",
       "      <td>0.1514</td>\n",
       "      <td>0.2222</td>\n",
       "      <td>0.2173</td>\n",
       "      <td>0.4639</td>\n",
       "      <td>0.9351</td>\n",
       "      <td>0.1929</td>\n",
       "      <td>0.3833</td>\n",
       "      <td>10</td>\n",
       "      <td>10</td>\n",
       "      <td>9</td>\n",
       "      <td>9</td>\n",
       "    </tr>\n",
       "    <tr>\n",
       "      <th>237520</th>\n",
       "      <td>0.8447</td>\n",
       "      <td>0.4346</td>\n",
       "      <td>0.2661</td>\n",
       "      <td>0.0024</td>\n",
       "      <td>0.0024</td>\n",
       "      <td>0.0024</td>\n",
       "      <td>0.0586</td>\n",
       "      <td>0.3931</td>\n",
       "      <td>0.0439</td>\n",
       "      <td>0.1343</td>\n",
       "      <td>2</td>\n",
       "      <td>2</td>\n",
       "      <td>17</td>\n",
       "      <td>17</td>\n",
       "    </tr>\n",
       "    <tr>\n",
       "      <th>170610</th>\n",
       "      <td>0.0562</td>\n",
       "      <td>0.0024</td>\n",
       "      <td>0.0024</td>\n",
       "      <td>0.0024</td>\n",
       "      <td>0.0024</td>\n",
       "      <td>0.0244</td>\n",
       "      <td>0.1489</td>\n",
       "      <td>0.0269</td>\n",
       "      <td>0.0024</td>\n",
       "      <td>0.0146</td>\n",
       "      <td>0</td>\n",
       "      <td>0</td>\n",
       "      <td>0</td>\n",
       "      <td>0</td>\n",
       "    </tr>\n",
       "  </tbody>\n",
       "</table>\n",
       "</div>"
      ],
      "text/plain": [
       "          Emg1    Emg2    Emg3    Emg4    Emg5    Emg6    Emg7    Emg8  \\\n",
       "180326  0.6689  0.1074  0.4321  1.1841  0.1636  0.1050  0.4590  0.5225   \n",
       "173398  0.1172  0.0024  0.0024  0.0024  0.0024  0.0757  0.3223  0.5566   \n",
       "176933  2.1021  0.6445  0.6177  0.1514  0.2222  0.2173  0.4639  0.9351   \n",
       "237520  0.8447  0.4346  0.2661  0.0024  0.0024  0.0024  0.0586  0.3931   \n",
       "170610  0.0562  0.0024  0.0024  0.0024  0.0024  0.0244  0.1489  0.0269   \n",
       "\n",
       "          Emg9   Emg10  repetition  rerepetition  stimulus  restimulus  \n",
       "180326  0.4004  0.5200           4             4        10          10  \n",
       "173398  0.0024  0.3735           6             6         9           9  \n",
       "176933  0.1929  0.3833          10            10         9           9  \n",
       "237520  0.0439  0.1343           2             2        17          17  \n",
       "170610  0.0024  0.0146           0             0         0           0  "
      ]
     },
     "execution_count": 2,
     "metadata": {},
     "output_type": "execute_result"
    }
   ],
   "source": [
    "raw_data = pd.read_excel('Dataset 1 Patient 18.xlsx')\n",
    "raw_data.sample(5)"
   ]
  },
  {
   "cell_type": "code",
   "execution_count": 3,
   "id": "80369ddb",
   "metadata": {},
   "outputs": [
    {
     "name": "stdout",
     "output_type": "stream",
     "text": [
      "<class 'pandas.core.frame.DataFrame'>\n",
      "RangeIndex: 465533 entries, 0 to 465532\n",
      "Data columns (total 14 columns):\n",
      " #   Column        Non-Null Count   Dtype  \n",
      "---  ------        --------------   -----  \n",
      " 0   Emg1          465533 non-null  float64\n",
      " 1   Emg2          465533 non-null  float64\n",
      " 2   Emg3          465533 non-null  float64\n",
      " 3   Emg4          465533 non-null  float64\n",
      " 4   Emg5          465533 non-null  float64\n",
      " 5   Emg6          465533 non-null  float64\n",
      " 6   Emg7          465533 non-null  float64\n",
      " 7   Emg8          465533 non-null  float64\n",
      " 8   Emg9          465533 non-null  float64\n",
      " 9   Emg10         465533 non-null  float64\n",
      " 10  repetition    465533 non-null  int64  \n",
      " 11  rerepetition  465533 non-null  int64  \n",
      " 12  stimulus      465533 non-null  int64  \n",
      " 13  restimulus    465533 non-null  int64  \n",
      "dtypes: float64(10), int64(4)\n",
      "memory usage: 49.7 MB\n"
     ]
    }
   ],
   "source": [
    "raw_data.info()"
   ]
  },
  {
   "cell_type": "code",
   "execution_count": 4,
   "id": "109445f8",
   "metadata": {},
   "outputs": [
    {
     "data": {
      "text/html": [
       "<div>\n",
       "<style scoped>\n",
       "    .dataframe tbody tr th:only-of-type {\n",
       "        vertical-align: middle;\n",
       "    }\n",
       "\n",
       "    .dataframe tbody tr th {\n",
       "        vertical-align: top;\n",
       "    }\n",
       "\n",
       "    .dataframe thead th {\n",
       "        text-align: right;\n",
       "    }\n",
       "</style>\n",
       "<table border=\"1\" class=\"dataframe\">\n",
       "  <thead>\n",
       "    <tr style=\"text-align: right;\">\n",
       "      <th></th>\n",
       "      <th>Emg1</th>\n",
       "      <th>Emg2</th>\n",
       "      <th>Emg3</th>\n",
       "      <th>Emg4</th>\n",
       "      <th>Emg5</th>\n",
       "      <th>Emg6</th>\n",
       "      <th>Emg7</th>\n",
       "      <th>Emg8</th>\n",
       "      <th>Emg9</th>\n",
       "      <th>Emg10</th>\n",
       "      <th>repetition</th>\n",
       "      <th>rerepetition</th>\n",
       "      <th>stimulus</th>\n",
       "      <th>restimulus</th>\n",
       "    </tr>\n",
       "  </thead>\n",
       "  <tbody>\n",
       "    <tr>\n",
       "      <th>count</th>\n",
       "      <td>465533.000000</td>\n",
       "      <td>465533.000000</td>\n",
       "      <td>465533.000000</td>\n",
       "      <td>465533.000000</td>\n",
       "      <td>465533.000000</td>\n",
       "      <td>465533.000000</td>\n",
       "      <td>465533.000000</td>\n",
       "      <td>465533.000000</td>\n",
       "      <td>465533.000000</td>\n",
       "      <td>465533.000000</td>\n",
       "      <td>465533.000000</td>\n",
       "      <td>465533.000000</td>\n",
       "      <td>465533.000000</td>\n",
       "      <td>465533.000000</td>\n",
       "    </tr>\n",
       "    <tr>\n",
       "      <th>mean</th>\n",
       "      <td>0.413167</td>\n",
       "      <td>0.117170</td>\n",
       "      <td>0.100465</td>\n",
       "      <td>0.060755</td>\n",
       "      <td>0.016404</td>\n",
       "      <td>0.034723</td>\n",
       "      <td>0.206456</td>\n",
       "      <td>0.394925</td>\n",
       "      <td>0.103675</td>\n",
       "      <td>0.206401</td>\n",
       "      <td>3.174965</td>\n",
       "      <td>2.367557</td>\n",
       "      <td>5.626065</td>\n",
       "      <td>4.255810</td>\n",
       "    </tr>\n",
       "    <tr>\n",
       "      <th>std</th>\n",
       "      <td>0.517157</td>\n",
       "      <td>0.271862</td>\n",
       "      <td>0.248185</td>\n",
       "      <td>0.184027</td>\n",
       "      <td>0.044366</td>\n",
       "      <td>0.095586</td>\n",
       "      <td>0.344918</td>\n",
       "      <td>0.450669</td>\n",
       "      <td>0.259265</td>\n",
       "      <td>0.352236</td>\n",
       "      <td>3.484753</td>\n",
       "      <td>3.325123</td>\n",
       "      <td>6.580095</td>\n",
       "      <td>6.332307</td>\n",
       "    </tr>\n",
       "    <tr>\n",
       "      <th>min</th>\n",
       "      <td>0.000000</td>\n",
       "      <td>0.000000</td>\n",
       "      <td>0.000000</td>\n",
       "      <td>0.000000</td>\n",
       "      <td>0.002400</td>\n",
       "      <td>0.000000</td>\n",
       "      <td>0.000000</td>\n",
       "      <td>0.000000</td>\n",
       "      <td>0.000000</td>\n",
       "      <td>0.000000</td>\n",
       "      <td>0.000000</td>\n",
       "      <td>0.000000</td>\n",
       "      <td>0.000000</td>\n",
       "      <td>0.000000</td>\n",
       "    </tr>\n",
       "    <tr>\n",
       "      <th>25%</th>\n",
       "      <td>0.105000</td>\n",
       "      <td>0.002400</td>\n",
       "      <td>0.002400</td>\n",
       "      <td>0.002400</td>\n",
       "      <td>0.002400</td>\n",
       "      <td>0.002400</td>\n",
       "      <td>0.024400</td>\n",
       "      <td>0.102500</td>\n",
       "      <td>0.002400</td>\n",
       "      <td>0.002400</td>\n",
       "      <td>0.000000</td>\n",
       "      <td>0.000000</td>\n",
       "      <td>0.000000</td>\n",
       "      <td>0.000000</td>\n",
       "    </tr>\n",
       "    <tr>\n",
       "      <th>50%</th>\n",
       "      <td>0.219700</td>\n",
       "      <td>0.002400</td>\n",
       "      <td>0.002400</td>\n",
       "      <td>0.002400</td>\n",
       "      <td>0.002400</td>\n",
       "      <td>0.002400</td>\n",
       "      <td>0.100100</td>\n",
       "      <td>0.261200</td>\n",
       "      <td>0.002400</td>\n",
       "      <td>0.087900</td>\n",
       "      <td>2.000000</td>\n",
       "      <td>0.000000</td>\n",
       "      <td>3.000000</td>\n",
       "      <td>0.000000</td>\n",
       "    </tr>\n",
       "    <tr>\n",
       "      <th>75%</th>\n",
       "      <td>0.507800</td>\n",
       "      <td>0.105000</td>\n",
       "      <td>0.063500</td>\n",
       "      <td>0.039100</td>\n",
       "      <td>0.004900</td>\n",
       "      <td>0.029300</td>\n",
       "      <td>0.239300</td>\n",
       "      <td>0.510300</td>\n",
       "      <td>0.065900</td>\n",
       "      <td>0.258800</td>\n",
       "      <td>6.000000</td>\n",
       "      <td>5.000000</td>\n",
       "      <td>10.000000</td>\n",
       "      <td>8.000000</td>\n",
       "    </tr>\n",
       "    <tr>\n",
       "      <th>max</th>\n",
       "      <td>4.665500</td>\n",
       "      <td>4.665500</td>\n",
       "      <td>3.601100</td>\n",
       "      <td>4.204100</td>\n",
       "      <td>0.988800</td>\n",
       "      <td>2.390100</td>\n",
       "      <td>4.663100</td>\n",
       "      <td>4.665500</td>\n",
       "      <td>3.337400</td>\n",
       "      <td>4.663100</td>\n",
       "      <td>10.000000</td>\n",
       "      <td>10.000000</td>\n",
       "      <td>23.000000</td>\n",
       "      <td>23.000000</td>\n",
       "    </tr>\n",
       "  </tbody>\n",
       "</table>\n",
       "</div>"
      ],
      "text/plain": [
       "                Emg1           Emg2           Emg3           Emg4  \\\n",
       "count  465533.000000  465533.000000  465533.000000  465533.000000   \n",
       "mean        0.413167       0.117170       0.100465       0.060755   \n",
       "std         0.517157       0.271862       0.248185       0.184027   \n",
       "min         0.000000       0.000000       0.000000       0.000000   \n",
       "25%         0.105000       0.002400       0.002400       0.002400   \n",
       "50%         0.219700       0.002400       0.002400       0.002400   \n",
       "75%         0.507800       0.105000       0.063500       0.039100   \n",
       "max         4.665500       4.665500       3.601100       4.204100   \n",
       "\n",
       "                Emg5           Emg6           Emg7           Emg8  \\\n",
       "count  465533.000000  465533.000000  465533.000000  465533.000000   \n",
       "mean        0.016404       0.034723       0.206456       0.394925   \n",
       "std         0.044366       0.095586       0.344918       0.450669   \n",
       "min         0.002400       0.000000       0.000000       0.000000   \n",
       "25%         0.002400       0.002400       0.024400       0.102500   \n",
       "50%         0.002400       0.002400       0.100100       0.261200   \n",
       "75%         0.004900       0.029300       0.239300       0.510300   \n",
       "max         0.988800       2.390100       4.663100       4.665500   \n",
       "\n",
       "                Emg9          Emg10     repetition   rerepetition  \\\n",
       "count  465533.000000  465533.000000  465533.000000  465533.000000   \n",
       "mean        0.103675       0.206401       3.174965       2.367557   \n",
       "std         0.259265       0.352236       3.484753       3.325123   \n",
       "min         0.000000       0.000000       0.000000       0.000000   \n",
       "25%         0.002400       0.002400       0.000000       0.000000   \n",
       "50%         0.002400       0.087900       2.000000       0.000000   \n",
       "75%         0.065900       0.258800       6.000000       5.000000   \n",
       "max         3.337400       4.663100      10.000000      10.000000   \n",
       "\n",
       "            stimulus     restimulus  \n",
       "count  465533.000000  465533.000000  \n",
       "mean        5.626065       4.255810  \n",
       "std         6.580095       6.332307  \n",
       "min         0.000000       0.000000  \n",
       "25%         0.000000       0.000000  \n",
       "50%         3.000000       0.000000  \n",
       "75%        10.000000       8.000000  \n",
       "max        23.000000      23.000000  "
      ]
     },
     "execution_count": 4,
     "metadata": {},
     "output_type": "execute_result"
    }
   ],
   "source": [
    "raw_data.describe(include='all')"
   ]
  },
  {
   "cell_type": "code",
   "execution_count": 5,
   "id": "f0b9a2e6",
   "metadata": {},
   "outputs": [
    {
     "name": "stdout",
     "output_type": "stream",
     "text": [
      "Unique Dependent values and their counts :\n",
      "0     196783\n",
      "12     15549\n",
      "8      15546\n",
      "7      15542\n",
      "2      15538\n",
      "5      15535\n",
      "4      15520\n",
      "11     15516\n",
      "9      15512\n",
      "6      15499\n",
      "10     15472\n",
      "1      15463\n",
      "3      15462\n",
      "13     10372\n",
      "17     10362\n",
      "14     10353\n",
      "15     10321\n",
      "16     10282\n",
      "21      5181\n",
      "18      5170\n",
      "19      5169\n",
      "20      5132\n",
      "23      5132\n",
      "22      5122\n",
      "Name: stimulus, dtype: int64\n"
     ]
    }
   ],
   "source": [
    "print(\"Unique Dependent values and their counts :\")\n",
    "print(raw_data[\"stimulus\"].value_counts())"
   ]
  },
  {
   "cell_type": "markdown",
   "id": "54420ec4",
   "metadata": {},
   "source": [
    "# Data Cleaning"
   ]
  },
  {
   "cell_type": "code",
   "execution_count": 6,
   "id": "a811198b",
   "metadata": {},
   "outputs": [],
   "source": [
    "index_names = raw_data[ (raw_data['stimulus'] != raw_data['restimulus'])].index\n",
    "raw_data.drop(index_names, inplace = True)"
   ]
  },
  {
   "cell_type": "code",
   "execution_count": 7,
   "id": "556cd92f",
   "metadata": {},
   "outputs": [],
   "source": [
    "index_names = raw_data[ (raw_data['repetition'] != raw_data['rerepetition'])].index\n",
    "raw_data.drop(index_names, inplace = True)"
   ]
  },
  {
   "cell_type": "code",
   "execution_count": 8,
   "id": "c91744f7",
   "metadata": {},
   "outputs": [],
   "source": [
    "X = raw_data.iloc[:,0:10]\n",
    "y = raw_data.stimulus"
   ]
  },
  {
   "cell_type": "markdown",
   "id": "152f7160",
   "metadata": {},
   "source": [
    "# One Hot Encoding"
   ]
  },
  {
   "cell_type": "code",
   "execution_count": 9,
   "id": "dfb77d24",
   "metadata": {},
   "outputs": [],
   "source": [
    "num_classes = 24"
   ]
  },
  {
   "cell_type": "code",
   "execution_count": 10,
   "id": "be64bf6b",
   "metadata": {},
   "outputs": [],
   "source": [
    "# One hot encoding for categorical labels\n",
    "import keras\n",
    "from keras import utils as np_utils\n",
    "y = keras.utils.np_utils.to_categorical(y, num_classes)"
   ]
  },
  {
   "cell_type": "code",
   "execution_count": 11,
   "id": "c7358f86",
   "metadata": {},
   "outputs": [],
   "source": [
    "input_dim = X.shape[1]"
   ]
  },
  {
   "cell_type": "markdown",
   "id": "cb3088a1",
   "metadata": {},
   "source": [
    "# Standard Scaler"
   ]
  },
  {
   "cell_type": "code",
   "execution_count": 12,
   "id": "5bd820f4",
   "metadata": {},
   "outputs": [],
   "source": [
    "from sklearn.preprocessing import StandardScaler\n",
    "standardscaler=StandardScaler()"
   ]
  },
  {
   "cell_type": "code",
   "execution_count": 13,
   "id": "6a118694",
   "metadata": {},
   "outputs": [],
   "source": [
    "sc = pd.DataFrame(standardscaler.fit_transform(X))"
   ]
  },
  {
   "cell_type": "code",
   "execution_count": 14,
   "id": "d6e2f38b",
   "metadata": {},
   "outputs": [
    {
     "data": {
      "text/html": [
       "<div>\n",
       "<style scoped>\n",
       "    .dataframe tbody tr th:only-of-type {\n",
       "        vertical-align: middle;\n",
       "    }\n",
       "\n",
       "    .dataframe tbody tr th {\n",
       "        vertical-align: top;\n",
       "    }\n",
       "\n",
       "    .dataframe thead th {\n",
       "        text-align: right;\n",
       "    }\n",
       "</style>\n",
       "<table border=\"1\" class=\"dataframe\">\n",
       "  <thead>\n",
       "    <tr style=\"text-align: right;\">\n",
       "      <th></th>\n",
       "      <th>0</th>\n",
       "      <th>1</th>\n",
       "      <th>2</th>\n",
       "      <th>3</th>\n",
       "      <th>4</th>\n",
       "      <th>5</th>\n",
       "      <th>6</th>\n",
       "      <th>7</th>\n",
       "      <th>8</th>\n",
       "      <th>9</th>\n",
       "    </tr>\n",
       "  </thead>\n",
       "  <tbody>\n",
       "    <tr>\n",
       "      <th>0</th>\n",
       "      <td>-0.820557</td>\n",
       "      <td>-0.455957</td>\n",
       "      <td>-0.436302</td>\n",
       "      <td>-0.348612</td>\n",
       "      <td>-0.348253</td>\n",
       "      <td>-0.362539</td>\n",
       "      <td>-0.609482</td>\n",
       "      <td>-0.890029</td>\n",
       "      <td>-0.43114</td>\n",
       "      <td>-0.602054</td>\n",
       "    </tr>\n",
       "    <tr>\n",
       "      <th>1</th>\n",
       "      <td>-0.820557</td>\n",
       "      <td>-0.455957</td>\n",
       "      <td>-0.436302</td>\n",
       "      <td>-0.348612</td>\n",
       "      <td>-0.348253</td>\n",
       "      <td>-0.362539</td>\n",
       "      <td>-0.609482</td>\n",
       "      <td>-0.890029</td>\n",
       "      <td>-0.43114</td>\n",
       "      <td>-0.602054</td>\n",
       "    </tr>\n",
       "    <tr>\n",
       "      <th>2</th>\n",
       "      <td>-0.820557</td>\n",
       "      <td>-0.455957</td>\n",
       "      <td>-0.436302</td>\n",
       "      <td>-0.348612</td>\n",
       "      <td>-0.348253</td>\n",
       "      <td>-0.362539</td>\n",
       "      <td>-0.609482</td>\n",
       "      <td>-0.890029</td>\n",
       "      <td>-0.43114</td>\n",
       "      <td>-0.602054</td>\n",
       "    </tr>\n",
       "    <tr>\n",
       "      <th>3</th>\n",
       "      <td>-0.820557</td>\n",
       "      <td>-0.455957</td>\n",
       "      <td>-0.436302</td>\n",
       "      <td>-0.336159</td>\n",
       "      <td>-0.348253</td>\n",
       "      <td>-0.362539</td>\n",
       "      <td>-0.609482</td>\n",
       "      <td>-0.890029</td>\n",
       "      <td>-0.43114</td>\n",
       "      <td>-0.602054</td>\n",
       "    </tr>\n",
       "    <tr>\n",
       "      <th>4</th>\n",
       "      <td>-0.820557</td>\n",
       "      <td>-0.455957</td>\n",
       "      <td>-0.436302</td>\n",
       "      <td>-0.348612</td>\n",
       "      <td>-0.348253</td>\n",
       "      <td>-0.362539</td>\n",
       "      <td>-0.609482</td>\n",
       "      <td>-0.890029</td>\n",
       "      <td>-0.43114</td>\n",
       "      <td>-0.602054</td>\n",
       "    </tr>\n",
       "    <tr>\n",
       "      <th>...</th>\n",
       "      <td>...</td>\n",
       "      <td>...</td>\n",
       "      <td>...</td>\n",
       "      <td>...</td>\n",
       "      <td>...</td>\n",
       "      <td>...</td>\n",
       "      <td>...</td>\n",
       "      <td>...</td>\n",
       "      <td>...</td>\n",
       "      <td>...</td>\n",
       "    </tr>\n",
       "    <tr>\n",
       "      <th>380916</th>\n",
       "      <td>-0.744778</td>\n",
       "      <td>-0.455957</td>\n",
       "      <td>-0.436302</td>\n",
       "      <td>-0.348612</td>\n",
       "      <td>-0.348253</td>\n",
       "      <td>-0.362539</td>\n",
       "      <td>-0.589619</td>\n",
       "      <td>-0.492735</td>\n",
       "      <td>-0.43114</td>\n",
       "      <td>-0.428430</td>\n",
       "    </tr>\n",
       "    <tr>\n",
       "      <th>380917</th>\n",
       "      <td>-0.744778</td>\n",
       "      <td>-0.455957</td>\n",
       "      <td>-0.436302</td>\n",
       "      <td>-0.348612</td>\n",
       "      <td>-0.348253</td>\n",
       "      <td>-0.362539</td>\n",
       "      <td>-0.583177</td>\n",
       "      <td>-0.487730</td>\n",
       "      <td>-0.43114</td>\n",
       "      <td>-0.435007</td>\n",
       "    </tr>\n",
       "    <tr>\n",
       "      <th>380918</th>\n",
       "      <td>-0.758107</td>\n",
       "      <td>-0.455957</td>\n",
       "      <td>-0.436302</td>\n",
       "      <td>-0.348612</td>\n",
       "      <td>-0.348253</td>\n",
       "      <td>-0.362539</td>\n",
       "      <td>-0.583177</td>\n",
       "      <td>-0.497949</td>\n",
       "      <td>-0.43114</td>\n",
       "      <td>-0.460524</td>\n",
       "    </tr>\n",
       "    <tr>\n",
       "      <th>380919</th>\n",
       "      <td>-0.767055</td>\n",
       "      <td>-0.455957</td>\n",
       "      <td>-0.436302</td>\n",
       "      <td>-0.348612</td>\n",
       "      <td>-0.348253</td>\n",
       "      <td>-0.362539</td>\n",
       "      <td>-0.589619</td>\n",
       "      <td>-0.508168</td>\n",
       "      <td>-0.43114</td>\n",
       "      <td>-0.460524</td>\n",
       "    </tr>\n",
       "    <tr>\n",
       "      <th>380920</th>\n",
       "      <td>-0.771437</td>\n",
       "      <td>-0.455957</td>\n",
       "      <td>-0.436302</td>\n",
       "      <td>-0.348612</td>\n",
       "      <td>-0.348253</td>\n",
       "      <td>-0.362539</td>\n",
       "      <td>-0.589619</td>\n",
       "      <td>-0.533612</td>\n",
       "      <td>-0.43114</td>\n",
       "      <td>-0.454210</td>\n",
       "    </tr>\n",
       "  </tbody>\n",
       "</table>\n",
       "<p>380921 rows × 10 columns</p>\n",
       "</div>"
      ],
      "text/plain": [
       "               0         1         2         3         4         5         6  \\\n",
       "0      -0.820557 -0.455957 -0.436302 -0.348612 -0.348253 -0.362539 -0.609482   \n",
       "1      -0.820557 -0.455957 -0.436302 -0.348612 -0.348253 -0.362539 -0.609482   \n",
       "2      -0.820557 -0.455957 -0.436302 -0.348612 -0.348253 -0.362539 -0.609482   \n",
       "3      -0.820557 -0.455957 -0.436302 -0.336159 -0.348253 -0.362539 -0.609482   \n",
       "4      -0.820557 -0.455957 -0.436302 -0.348612 -0.348253 -0.362539 -0.609482   \n",
       "...          ...       ...       ...       ...       ...       ...       ...   \n",
       "380916 -0.744778 -0.455957 -0.436302 -0.348612 -0.348253 -0.362539 -0.589619   \n",
       "380917 -0.744778 -0.455957 -0.436302 -0.348612 -0.348253 -0.362539 -0.583177   \n",
       "380918 -0.758107 -0.455957 -0.436302 -0.348612 -0.348253 -0.362539 -0.583177   \n",
       "380919 -0.767055 -0.455957 -0.436302 -0.348612 -0.348253 -0.362539 -0.589619   \n",
       "380920 -0.771437 -0.455957 -0.436302 -0.348612 -0.348253 -0.362539 -0.589619   \n",
       "\n",
       "               7        8         9  \n",
       "0      -0.890029 -0.43114 -0.602054  \n",
       "1      -0.890029 -0.43114 -0.602054  \n",
       "2      -0.890029 -0.43114 -0.602054  \n",
       "3      -0.890029 -0.43114 -0.602054  \n",
       "4      -0.890029 -0.43114 -0.602054  \n",
       "...          ...      ...       ...  \n",
       "380916 -0.492735 -0.43114 -0.428430  \n",
       "380917 -0.487730 -0.43114 -0.435007  \n",
       "380918 -0.497949 -0.43114 -0.460524  \n",
       "380919 -0.508168 -0.43114 -0.460524  \n",
       "380920 -0.533612 -0.43114 -0.454210  \n",
       "\n",
       "[380921 rows x 10 columns]"
      ]
     },
     "execution_count": 14,
     "metadata": {},
     "output_type": "execute_result"
    }
   ],
   "source": [
    "sc"
   ]
  },
  {
   "cell_type": "code",
   "execution_count": 15,
   "id": "65cfb75d",
   "metadata": {},
   "outputs": [],
   "source": [
    "# Splitting data for training and testing\n",
    "X_train, X_test, y_train, y_test = train_test_split(sc, y, test_size = 0.2, random_state = 39)"
   ]
  },
  {
   "cell_type": "markdown",
   "id": "3ba47781",
   "metadata": {},
   "source": [
    "# Deep Learning "
   ]
  },
  {
   "cell_type": "code",
   "execution_count": 16,
   "id": "d426e2e1",
   "metadata": {},
   "outputs": [],
   "source": [
    "from sklearn.preprocessing import MinMaxScaler\n",
    "from tensorflow.keras.models import Model\n",
    "from tensorflow.keras.layers import Input\n",
    "from tensorflow.keras.layers import Dense\n",
    "from tensorflow.keras.layers import LeakyReLU,ELU\n",
    "from tensorflow.keras.layers import BatchNormalization\n",
    "from tensorflow.keras.utils import plot_model\n",
    "import tensorflow as tf\n",
    "from sklearn.model_selection import cross_val_score\n",
    "from keras.models import Sequential\n",
    "from keras.layers import Dense, BatchNormalization, Dropout\n",
    "from tensorflow.keras.optimizers import Adam, SGD, RMSprop, Adadelta, Adagrad, Adamax, Nadam, Ftrl\n",
    "from keras.callbacks import EarlyStopping, ModelCheckpoint\n",
    "from keras.wrappers.scikit_learn import KerasClassifier\n",
    "from sklearn.metrics import make_scorer, accuracy_score\n",
    "from sklearn.model_selection import StratifiedKFold"
   ]
  },
  {
   "cell_type": "code",
   "execution_count": 17,
   "id": "cd0ef208",
   "metadata": {},
   "outputs": [],
   "source": [
    "from keras.layers import LeakyReLU\n",
    "LeakyReLU = LeakyReLU(alpha=0.1)\n",
    "from keras.models import Sequential\n",
    "from keras.layers import Dense, Flatten, Convolution1D, Dropout\n",
    "from keras.initializers import random_uniform"
   ]
  },
  {
   "cell_type": "markdown",
   "id": "f97d61bc",
   "metadata": {},
   "source": [
    "# 1. Define Network"
   ]
  },
  {
   "cell_type": "code",
   "execution_count": 18,
   "id": "bd77bf81",
   "metadata": {},
   "outputs": [],
   "source": [
    "num_classes = 24\n",
    "input_dim = X.shape[1]"
   ]
  },
  {
   "cell_type": "code",
   "execution_count": 19,
   "id": "fbdce465",
   "metadata": {},
   "outputs": [],
   "source": [
    "visible = Input(shape=(input_dim,))\n",
    "hidden1 = Dense(3000, activation='relu')(visible)\n",
    "hidden2 = Dense(1500, activation='relu')(hidden1)\n",
    "hidden3 = Dropout(0.2)(hidden2)\n",
    "hidden4 = Dense(750, activation='relu')(hidden3)\n",
    "hidden5 = Dense(375, activation='relu')(hidden4)\n",
    "hidden6 = Dense(48, activation='relu')(hidden5)\n",
    "output = Dense(num_classes, activation='softmax')(hidden6)\n",
    "model = Model(inputs=visible, outputs=output)"
   ]
  },
  {
   "cell_type": "code",
   "execution_count": 20,
   "id": "1dd33478",
   "metadata": {},
   "outputs": [
    {
     "name": "stdout",
     "output_type": "stream",
     "text": [
      "Model: \"model\"\n",
      "_________________________________________________________________\n",
      " Layer (type)                Output Shape              Param #   \n",
      "=================================================================\n",
      " input_1 (InputLayer)        [(None, 10)]              0         \n",
      "                                                                 \n",
      " dense (Dense)               (None, 3000)              33000     \n",
      "                                                                 \n",
      " dense_1 (Dense)             (None, 1500)              4501500   \n",
      "                                                                 \n",
      " dropout (Dropout)           (None, 1500)              0         \n",
      "                                                                 \n",
      " dense_2 (Dense)             (None, 750)               1125750   \n",
      "                                                                 \n",
      " dense_3 (Dense)             (None, 375)               281625    \n",
      "                                                                 \n",
      " dense_4 (Dense)             (None, 48)                18048     \n",
      "                                                                 \n",
      " dense_5 (Dense)             (None, 24)                1176      \n",
      "                                                                 \n",
      "=================================================================\n",
      "Total params: 5,961,099\n",
      "Trainable params: 5,961,099\n",
      "Non-trainable params: 0\n",
      "_________________________________________________________________\n"
     ]
    }
   ],
   "source": [
    "model.summary()"
   ]
  },
  {
   "cell_type": "markdown",
   "id": "3196ac97",
   "metadata": {},
   "source": [
    "# 2. Compile Network"
   ]
  },
  {
   "cell_type": "code",
   "execution_count": 21,
   "id": "7a2d558b",
   "metadata": {},
   "outputs": [],
   "source": [
    "model.compile(optimizer='adam', loss='categorical_crossentropy', metrics=['accuracy'])"
   ]
  },
  {
   "cell_type": "code",
   "execution_count": 22,
   "id": "c1d2b36d",
   "metadata": {},
   "outputs": [
    {
     "name": "stdout",
     "output_type": "stream",
     "text": [
      "You must install pydot (`pip install pydot`) and install graphviz (see instructions at https://graphviz.gitlab.io/download/) for plot_model/model_to_dot to work.\n"
     ]
    }
   ],
   "source": [
    "plot_model(model, 'EMG_ANN', show_shapes = True)"
   ]
  },
  {
   "cell_type": "markdown",
   "id": "3358b592",
   "metadata": {},
   "source": [
    "# 3. Fit Network"
   ]
  },
  {
   "cell_type": "code",
   "execution_count": 23,
   "id": "e0ed4ddd",
   "metadata": {},
   "outputs": [
    {
     "name": "stdout",
     "output_type": "stream",
     "text": [
      "Epoch 1/100\n",
      "76/76 [==============================] - 3s 27ms/step - loss: 1.4420 - accuracy: 0.6235 - val_loss: 1.0819 - val_accuracy: 0.7067\n",
      "Epoch 2/100\n",
      "76/76 [==============================] - 2s 25ms/step - loss: 0.9877 - accuracy: 0.7315 - val_loss: 0.8902 - val_accuracy: 0.7600\n",
      "Epoch 3/100\n",
      "76/76 [==============================] - 2s 25ms/step - loss: 0.8518 - accuracy: 0.7659 - val_loss: 0.8057 - val_accuracy: 0.7796\n",
      "Epoch 4/100\n",
      "76/76 [==============================] - 2s 26ms/step - loss: 0.7772 - accuracy: 0.7849 - val_loss: 0.7355 - val_accuracy: 0.7959\n",
      "Epoch 5/100\n",
      "76/76 [==============================] - 2s 26ms/step - loss: 0.7181 - accuracy: 0.8005 - val_loss: 0.6886 - val_accuracy: 0.8076\n",
      "Epoch 6/100\n",
      "76/76 [==============================] - 2s 25ms/step - loss: 0.6746 - accuracy: 0.8122 - val_loss: 0.6518 - val_accuracy: 0.8195\n",
      "Epoch 7/100\n",
      "76/76 [==============================] - 2s 25ms/step - loss: 0.6310 - accuracy: 0.8237 - val_loss: 0.6272 - val_accuracy: 0.8262\n",
      "Epoch 8/100\n",
      "76/76 [==============================] - 2s 26ms/step - loss: 0.6010 - accuracy: 0.8314 - val_loss: 0.5917 - val_accuracy: 0.8376\n",
      "Epoch 9/100\n",
      "76/76 [==============================] - 2s 26ms/step - loss: 0.5685 - accuracy: 0.8402 - val_loss: 0.5718 - val_accuracy: 0.8417\n",
      "Epoch 10/100\n",
      "76/76 [==============================] - 2s 25ms/step - loss: 0.5438 - accuracy: 0.8476 - val_loss: 0.5357 - val_accuracy: 0.8500\n",
      "Epoch 11/100\n",
      "76/76 [==============================] - 2s 27ms/step - loss: 0.5243 - accuracy: 0.8519 - val_loss: 0.5393 - val_accuracy: 0.8528\n",
      "Epoch 12/100\n",
      "76/76 [==============================] - 2s 26ms/step - loss: 0.5061 - accuracy: 0.8574 - val_loss: 0.5012 - val_accuracy: 0.8575\n",
      "Epoch 13/100\n",
      "76/76 [==============================] - 2s 25ms/step - loss: 0.4848 - accuracy: 0.8633 - val_loss: 0.4783 - val_accuracy: 0.8654\n",
      "Epoch 14/100\n",
      "76/76 [==============================] - 2s 27ms/step - loss: 0.4707 - accuracy: 0.8665 - val_loss: 0.4686 - val_accuracy: 0.8680\n",
      "Epoch 15/100\n",
      "76/76 [==============================] - 2s 25ms/step - loss: 0.4528 - accuracy: 0.8718 - val_loss: 0.4569 - val_accuracy: 0.8691\n",
      "Epoch 16/100\n",
      "76/76 [==============================] - 2s 27ms/step - loss: 0.4366 - accuracy: 0.8760 - val_loss: 0.4489 - val_accuracy: 0.8736\n",
      "Epoch 17/100\n",
      "76/76 [==============================] - 2s 26ms/step - loss: 0.4294 - accuracy: 0.8782 - val_loss: 0.4346 - val_accuracy: 0.8778\n",
      "Epoch 18/100\n",
      "76/76 [==============================] - 2s 25ms/step - loss: 0.4144 - accuracy: 0.8824 - val_loss: 0.4162 - val_accuracy: 0.8812\n",
      "Epoch 19/100\n",
      "76/76 [==============================] - 2s 26ms/step - loss: 0.4063 - accuracy: 0.8846 - val_loss: 0.4315 - val_accuracy: 0.8794\n",
      "Epoch 20/100\n",
      "76/76 [==============================] - 2s 27ms/step - loss: 0.3966 - accuracy: 0.8873 - val_loss: 0.4024 - val_accuracy: 0.8868\n",
      "Epoch 21/100\n",
      "76/76 [==============================] - 2s 26ms/step - loss: 0.3848 - accuracy: 0.8909 - val_loss: 0.4020 - val_accuracy: 0.8875\n",
      "Epoch 22/100\n",
      "76/76 [==============================] - 2s 25ms/step - loss: 0.3798 - accuracy: 0.8916 - val_loss: 0.3809 - val_accuracy: 0.8918\n",
      "Epoch 23/100\n",
      "76/76 [==============================] - 2s 26ms/step - loss: 0.3638 - accuracy: 0.8962 - val_loss: 0.3720 - val_accuracy: 0.8950\n",
      "Epoch 24/100\n",
      "76/76 [==============================] - 2s 26ms/step - loss: 0.3573 - accuracy: 0.8982 - val_loss: 0.3720 - val_accuracy: 0.8958\n",
      "Epoch 25/100\n",
      "76/76 [==============================] - 2s 26ms/step - loss: 0.3536 - accuracy: 0.8992 - val_loss: 0.3774 - val_accuracy: 0.8964\n",
      "Epoch 26/100\n",
      "76/76 [==============================] - 2s 27ms/step - loss: 0.3463 - accuracy: 0.9012 - val_loss: 0.3722 - val_accuracy: 0.8967\n",
      "Epoch 27/100\n",
      "76/76 [==============================] - 2s 26ms/step - loss: 0.3451 - accuracy: 0.9023 - val_loss: 0.3542 - val_accuracy: 0.8997\n",
      "Epoch 28/100\n",
      "76/76 [==============================] - 2s 25ms/step - loss: 0.3345 - accuracy: 0.9049 - val_loss: 0.3458 - val_accuracy: 0.9023\n",
      "Epoch 29/100\n",
      "76/76 [==============================] - 2s 27ms/step - loss: 0.3261 - accuracy: 0.9071 - val_loss: 0.3478 - val_accuracy: 0.9011\n",
      "Epoch 30/100\n",
      "76/76 [==============================] - 2s 26ms/step - loss: 0.3222 - accuracy: 0.9087 - val_loss: 0.3317 - val_accuracy: 0.9065\n",
      "Epoch 31/100\n",
      "76/76 [==============================] - 2s 27ms/step - loss: 0.3162 - accuracy: 0.9099 - val_loss: 0.3309 - val_accuracy: 0.9055\n",
      "Epoch 32/100\n",
      "76/76 [==============================] - 2s 26ms/step - loss: 0.3105 - accuracy: 0.9120 - val_loss: 0.3333 - val_accuracy: 0.9059\n",
      "Epoch 33/100\n",
      "76/76 [==============================] - 2s 26ms/step - loss: 0.3040 - accuracy: 0.9135 - val_loss: 0.3293 - val_accuracy: 0.9052\n",
      "Epoch 34/100\n",
      "76/76 [==============================] - 2s 26ms/step - loss: 0.2997 - accuracy: 0.9147 - val_loss: 0.3181 - val_accuracy: 0.9115\n",
      "Epoch 35/100\n",
      "76/76 [==============================] - 2s 26ms/step - loss: 0.2969 - accuracy: 0.9154 - val_loss: 0.3183 - val_accuracy: 0.9096\n",
      "Epoch 36/100\n",
      "76/76 [==============================] - 2s 26ms/step - loss: 0.2934 - accuracy: 0.9157 - val_loss: 0.3119 - val_accuracy: 0.9111\n",
      "Epoch 37/100\n",
      "76/76 [==============================] - 2s 26ms/step - loss: 0.2897 - accuracy: 0.9172 - val_loss: 0.3036 - val_accuracy: 0.9139\n",
      "Epoch 38/100\n",
      "76/76 [==============================] - 2s 26ms/step - loss: 0.2808 - accuracy: 0.9199 - val_loss: 0.3093 - val_accuracy: 0.9137\n",
      "Epoch 39/100\n",
      "76/76 [==============================] - 2s 27ms/step - loss: 0.2828 - accuracy: 0.9191 - val_loss: 0.3089 - val_accuracy: 0.9124\n",
      "Epoch 40/100\n",
      "76/76 [==============================] - 2s 26ms/step - loss: 0.2764 - accuracy: 0.9209 - val_loss: 0.3279 - val_accuracy: 0.9078\n",
      "Epoch 41/100\n",
      "76/76 [==============================] - 2s 26ms/step - loss: 0.2788 - accuracy: 0.9205 - val_loss: 0.3043 - val_accuracy: 0.9138\n",
      "Epoch 42/100\n",
      "76/76 [==============================] - 2s 27ms/step - loss: 0.2733 - accuracy: 0.9219 - val_loss: 0.3008 - val_accuracy: 0.9139\n",
      "Epoch 43/100\n",
      "76/76 [==============================] - 2s 26ms/step - loss: 0.2695 - accuracy: 0.9221 - val_loss: 0.2909 - val_accuracy: 0.9185\n",
      "Epoch 44/100\n",
      "76/76 [==============================] - 2s 26ms/step - loss: 0.2684 - accuracy: 0.9230 - val_loss: 0.2895 - val_accuracy: 0.9183\n",
      "Epoch 45/100\n",
      "76/76 [==============================] - 2s 26ms/step - loss: 0.2572 - accuracy: 0.9263 - val_loss: 0.2879 - val_accuracy: 0.9189\n",
      "Epoch 46/100\n",
      "76/76 [==============================] - 2s 27ms/step - loss: 0.2590 - accuracy: 0.9256 - val_loss: 0.2982 - val_accuracy: 0.9175\n",
      "Epoch 47/100\n",
      "76/76 [==============================] - 2s 26ms/step - loss: 0.2550 - accuracy: 0.9269 - val_loss: 0.2811 - val_accuracy: 0.9210\n",
      "Epoch 48/100\n",
      "76/76 [==============================] - 2s 27ms/step - loss: 0.2578 - accuracy: 0.9253 - val_loss: 0.2875 - val_accuracy: 0.9203\n",
      "Epoch 49/100\n",
      "76/76 [==============================] - 2s 26ms/step - loss: 0.2521 - accuracy: 0.9275 - val_loss: 0.2835 - val_accuracy: 0.9210\n",
      "Epoch 50/100\n",
      "76/76 [==============================] - 2s 27ms/step - loss: 0.2469 - accuracy: 0.9291 - val_loss: 0.2770 - val_accuracy: 0.9225\n",
      "Epoch 51/100\n",
      "76/76 [==============================] - 2s 26ms/step - loss: 0.2474 - accuracy: 0.9286 - val_loss: 0.2766 - val_accuracy: 0.9219\n",
      "Epoch 52/100\n",
      "76/76 [==============================] - 2s 27ms/step - loss: 0.2467 - accuracy: 0.9288 - val_loss: 0.2786 - val_accuracy: 0.9217\n",
      "Epoch 53/100\n",
      "76/76 [==============================] - 2s 26ms/step - loss: 0.2426 - accuracy: 0.9304 - val_loss: 0.2900 - val_accuracy: 0.9202\n",
      "Epoch 54/100\n",
      "76/76 [==============================] - 2s 26ms/step - loss: 0.2418 - accuracy: 0.9307 - val_loss: 0.2766 - val_accuracy: 0.9227\n",
      "Epoch 55/100\n",
      "76/76 [==============================] - 2s 27ms/step - loss: 0.2410 - accuracy: 0.9300 - val_loss: 0.2655 - val_accuracy: 0.9255\n",
      "Epoch 56/100\n",
      "76/76 [==============================] - 2s 27ms/step - loss: 0.2344 - accuracy: 0.9321 - val_loss: 0.2687 - val_accuracy: 0.9253\n",
      "Epoch 57/100\n",
      "76/76 [==============================] - 2s 26ms/step - loss: 0.2315 - accuracy: 0.9335 - val_loss: 0.2622 - val_accuracy: 0.9258\n",
      "Epoch 58/100\n"
     ]
    },
    {
     "name": "stdout",
     "output_type": "stream",
     "text": [
      "76/76 [==============================] - 2s 26ms/step - loss: 0.2325 - accuracy: 0.9327 - val_loss: 0.2659 - val_accuracy: 0.9250\n",
      "Epoch 59/100\n",
      "76/76 [==============================] - 2s 26ms/step - loss: 0.2273 - accuracy: 0.9346 - val_loss: 0.2591 - val_accuracy: 0.9273\n",
      "Epoch 60/100\n",
      "76/76 [==============================] - 2s 25ms/step - loss: 0.2247 - accuracy: 0.9353 - val_loss: 0.2746 - val_accuracy: 0.9234\n",
      "Epoch 61/100\n",
      "76/76 [==============================] - 2s 27ms/step - loss: 0.2268 - accuracy: 0.9344 - val_loss: 0.2568 - val_accuracy: 0.9275\n",
      "Epoch 62/100\n",
      "76/76 [==============================] - 2s 26ms/step - loss: 0.2222 - accuracy: 0.9361 - val_loss: 0.2521 - val_accuracy: 0.9289\n",
      "Epoch 63/100\n",
      "76/76 [==============================] - 2s 26ms/step - loss: 0.2238 - accuracy: 0.9354 - val_loss: 0.2493 - val_accuracy: 0.9294\n",
      "Epoch 64/100\n",
      "76/76 [==============================] - 2s 27ms/step - loss: 0.2182 - accuracy: 0.9366 - val_loss: 0.2526 - val_accuracy: 0.9285\n",
      "Epoch 65/100\n",
      "76/76 [==============================] - 2s 27ms/step - loss: 0.2169 - accuracy: 0.9376 - val_loss: 0.2529 - val_accuracy: 0.9290\n",
      "Epoch 66/100\n",
      "76/76 [==============================] - 2s 26ms/step - loss: 0.2161 - accuracy: 0.9374 - val_loss: 0.2578 - val_accuracy: 0.9268\n",
      "Epoch 67/100\n",
      "76/76 [==============================] - 2s 27ms/step - loss: 0.2196 - accuracy: 0.9359 - val_loss: 0.2473 - val_accuracy: 0.9291\n",
      "Epoch 68/100\n",
      "76/76 [==============================] - 2s 26ms/step - loss: 0.2193 - accuracy: 0.9362 - val_loss: 0.2489 - val_accuracy: 0.9298\n",
      "Epoch 69/100\n",
      "76/76 [==============================] - 2s 27ms/step - loss: 0.2129 - accuracy: 0.9379 - val_loss: 0.2511 - val_accuracy: 0.9299\n",
      "Epoch 70/100\n",
      "76/76 [==============================] - 2s 26ms/step - loss: 0.2092 - accuracy: 0.9393 - val_loss: 0.2610 - val_accuracy: 0.9271\n",
      "Epoch 71/100\n",
      "76/76 [==============================] - 2s 26ms/step - loss: 0.2102 - accuracy: 0.9390 - val_loss: 0.2476 - val_accuracy: 0.9315\n",
      "Epoch 72/100\n",
      "76/76 [==============================] - 2s 27ms/step - loss: 0.2042 - accuracy: 0.9407 - val_loss: 0.2543 - val_accuracy: 0.9294\n",
      "Epoch 73/100\n",
      "76/76 [==============================] - 2s 26ms/step - loss: 0.2088 - accuracy: 0.9391 - val_loss: 0.2594 - val_accuracy: 0.9280\n",
      "Epoch 74/100\n",
      "76/76 [==============================] - 2s 26ms/step - loss: 0.2053 - accuracy: 0.9405 - val_loss: 0.2426 - val_accuracy: 0.9327\n",
      "Epoch 75/100\n",
      "76/76 [==============================] - 2s 27ms/step - loss: 0.2080 - accuracy: 0.9393 - val_loss: 0.2426 - val_accuracy: 0.9316\n",
      "Epoch 76/100\n",
      "76/76 [==============================] - 2s 27ms/step - loss: 0.2033 - accuracy: 0.9413 - val_loss: 0.2490 - val_accuracy: 0.9314\n",
      "Epoch 77/100\n",
      "76/76 [==============================] - 2s 26ms/step - loss: 0.2011 - accuracy: 0.9418 - val_loss: 0.2433 - val_accuracy: 0.9322\n",
      "Epoch 78/100\n",
      "76/76 [==============================] - 2s 27ms/step - loss: 0.2009 - accuracy: 0.9416 - val_loss: 0.2404 - val_accuracy: 0.9333\n",
      "Epoch 79/100\n",
      "76/76 [==============================] - 2s 27ms/step - loss: 0.1951 - accuracy: 0.9431 - val_loss: 0.2348 - val_accuracy: 0.9336\n",
      "Epoch 80/100\n",
      "76/76 [==============================] - 2s 26ms/step - loss: 0.1959 - accuracy: 0.9432 - val_loss: 0.2371 - val_accuracy: 0.9329\n",
      "Epoch 81/100\n",
      "76/76 [==============================] - 2s 26ms/step - loss: 0.1971 - accuracy: 0.9426 - val_loss: 0.2502 - val_accuracy: 0.9307\n",
      "Epoch 82/100\n",
      "76/76 [==============================] - 2s 27ms/step - loss: 0.1999 - accuracy: 0.9417 - val_loss: 0.2455 - val_accuracy: 0.9315\n",
      "Epoch 83/100\n",
      "76/76 [==============================] - 2s 27ms/step - loss: 0.1928 - accuracy: 0.9437 - val_loss: 0.2337 - val_accuracy: 0.9341\n",
      "Epoch 84/100\n",
      "76/76 [==============================] - 2s 26ms/step - loss: 0.1900 - accuracy: 0.9443 - val_loss: 0.2315 - val_accuracy: 0.9356\n",
      "Epoch 85/100\n",
      "76/76 [==============================] - 2s 27ms/step - loss: 0.1877 - accuracy: 0.9456 - val_loss: 0.2373 - val_accuracy: 0.9333\n",
      "Epoch 86/100\n",
      "76/76 [==============================] - 2s 26ms/step - loss: 0.1896 - accuracy: 0.9448 - val_loss: 0.2320 - val_accuracy: 0.9355\n",
      "Epoch 87/100\n",
      "76/76 [==============================] - 2s 28ms/step - loss: 0.1877 - accuracy: 0.9451 - val_loss: 0.2331 - val_accuracy: 0.9352\n",
      "Epoch 88/100\n",
      "76/76 [==============================] - 2s 26ms/step - loss: 0.1888 - accuracy: 0.9449 - val_loss: 0.2284 - val_accuracy: 0.9361\n",
      "Epoch 89/100\n",
      "76/76 [==============================] - 2s 27ms/step - loss: 0.1854 - accuracy: 0.9455 - val_loss: 0.2337 - val_accuracy: 0.9337\n",
      "Epoch 90/100\n",
      "76/76 [==============================] - 2s 27ms/step - loss: 0.1902 - accuracy: 0.9443 - val_loss: 0.2289 - val_accuracy: 0.9364\n",
      "Epoch 91/100\n",
      "76/76 [==============================] - 2s 26ms/step - loss: 0.1852 - accuracy: 0.9459 - val_loss: 0.2346 - val_accuracy: 0.9344\n",
      "Epoch 92/100\n",
      "76/76 [==============================] - 2s 27ms/step - loss: 0.1846 - accuracy: 0.9463 - val_loss: 0.2295 - val_accuracy: 0.9365\n",
      "Epoch 93/100\n",
      "76/76 [==============================] - 2s 26ms/step - loss: 0.1838 - accuracy: 0.9462 - val_loss: 0.2325 - val_accuracy: 0.9349\n",
      "Epoch 94/100\n",
      "76/76 [==============================] - 2s 25ms/step - loss: 0.1852 - accuracy: 0.9458 - val_loss: 0.2293 - val_accuracy: 0.9363\n",
      "Epoch 95/100\n",
      "76/76 [==============================] - 2s 25ms/step - loss: 0.1834 - accuracy: 0.9468 - val_loss: 0.2335 - val_accuracy: 0.9353\n",
      "Epoch 96/100\n",
      "76/76 [==============================] - 2s 26ms/step - loss: 0.1816 - accuracy: 0.9470 - val_loss: 0.2349 - val_accuracy: 0.9333\n",
      "Epoch 97/100\n",
      "76/76 [==============================] - 2s 27ms/step - loss: 0.1788 - accuracy: 0.9476 - val_loss: 0.2282 - val_accuracy: 0.9373\n",
      "Epoch 98/100\n",
      "76/76 [==============================] - 2s 27ms/step - loss: 0.1773 - accuracy: 0.9483 - val_loss: 0.2289 - val_accuracy: 0.9350\n",
      "Epoch 99/100\n",
      "76/76 [==============================] - 2s 26ms/step - loss: 0.1762 - accuracy: 0.9485 - val_loss: 0.2320 - val_accuracy: 0.9342\n",
      "Epoch 100/100\n",
      "76/76 [==============================] - 2s 27ms/step - loss: 0.1792 - accuracy: 0.9480 - val_loss: 0.2391 - val_accuracy: 0.9357\n"
     ]
    }
   ],
   "source": [
    "history = model.fit(X_train, y_train, batch_size=4056, epochs=100, validation_data = (X_test, y_test))"
   ]
  },
  {
   "cell_type": "markdown",
   "id": "ffed59b1",
   "metadata": {},
   "source": [
    "# 4.Evaluate Network"
   ]
  },
  {
   "cell_type": "markdown",
   "id": "28731190",
   "metadata": {},
   "source": [
    "## 4.1. Plotting Loss and Accuracy"
   ]
  },
  {
   "cell_type": "code",
   "execution_count": 24,
   "id": "971e6040",
   "metadata": {},
   "outputs": [
    {
     "data": {
      "text/plain": [
       "Text(0.5, 1.0, 'Loss Curve of Deep Neural Netowork')"
      ]
     },
     "execution_count": 24,
     "metadata": {},
     "output_type": "execute_result"
    },
    {
     "data": {
      "image/png": "[encoded data removed]",
      "text/plain": [
       "<Figure size 432x288 with 1 Axes>"
      ]
     },
     "metadata": {
      "needs_background": "light"
     },
     "output_type": "display_data"
    }
   ],
   "source": [
    "#Loss Curve\n",
    "\n",
    "\n",
    "plt.plot(figsize = [8,6])\n",
    "\n",
    "plt.plot(history.history['loss'],'r',linewidth = 3.0)\n",
    "plt.plot(history.history['val_loss'],'b',linewidth = 3.0)\n",
    "\n",
    "plt.legend(['Training Loss', 'Validation Loss'], fontsize = 18)\n",
    "\n",
    "plt.xlabel('Epochs', fontsize = 16)\n",
    "plt.ylabel('Loss', fontsize = 16)\n",
    "\n",
    "plt.title('Loss Curve of Deep Neural Netowork' , fontsize = 16 )\n",
    "\n"
   ]
  },
  {
   "cell_type": "code",
   "execution_count": 25,
   "id": "b0c193ec",
   "metadata": {},
   "outputs": [
    {
     "data": {
      "text/plain": [
       "Text(0.5, 1.0, 'Accuracy Curve of Deep Neural Netowork')"
      ]
     },
     "execution_count": 25,
     "metadata": {},
     "output_type": "execute_result"
    },
    {
     "data": {
      "image/png": "[encoded data removed]",
      "text/plain": [
       "<Figure size 432x288 with 1 Axes>"
      ]
     },
     "metadata": {
      "needs_background": "light"
     },
     "output_type": "display_data"
    }
   ],
   "source": [
    "#Accuracy Curve\n",
    "\n",
    "plt.plot(figsize = [8,6])\n",
    "plt.plot(history.history['accuracy'],'r',linewidth = 3.0)\n",
    "plt.plot(history.history['val_accuracy'],'b',linewidth = 3.0)\n",
    "\n",
    "plt.legend(['Training Accuracy', 'Validation Accuracy'], fontsize = 18)\n",
    "\n",
    "plt.xlabel('Epochs', fontsize = 16)\n",
    "plt.ylabel('Accuracy', fontsize = 16)\n",
    "\n",
    "\n",
    "plt.title('Accuracy Curve of Deep Neural Netowork' , fontsize = 16 )"
   ]
  },
  {
   "cell_type": "markdown",
   "id": "741a02aa",
   "metadata": {},
   "source": [
    "##  4.2 Make Predictions"
   ]
  },
  {
   "cell_type": "code",
   "execution_count": 26,
   "id": "e8465627",
   "metadata": {},
   "outputs": [],
   "source": [
    "predictions = model.predict(X_test)\n",
    "predictions = np.argmax(predictions, axis = 1)"
   ]
  },
  {
   "cell_type": "code",
   "execution_count": 27,
   "id": "3cac1a50",
   "metadata": {},
   "outputs": [
    {
     "data": {
      "text/plain": [
       "array([ 9, 13,  0, ...,  0, 15,  8], dtype=int64)"
      ]
     },
     "execution_count": 27,
     "metadata": {},
     "output_type": "execute_result"
    }
   ],
   "source": [
    "predictions"
   ]
  },
  {
   "cell_type": "markdown",
   "id": "70d666bb",
   "metadata": {},
   "source": [
    "#### Transforming from One Hot Encoding"
   ]
  },
  {
   "cell_type": "code",
   "execution_count": 28,
   "id": "7234b6e7",
   "metadata": {},
   "outputs": [
    {
     "data": {
      "text/plain": [
       "13"
      ]
     },
     "execution_count": 28,
     "metadata": {},
     "output_type": "execute_result"
    }
   ],
   "source": [
    "y_test =np.argmax(y_test, axis=1)\n",
    "y_test[1]"
   ]
  },
  {
   "cell_type": "code",
   "execution_count": 29,
   "id": "6278820d",
   "metadata": {},
   "outputs": [
    {
     "name": "stdout",
     "output_type": "stream",
     "text": [
      "Accuracy is: 93.57091290936536\n"
     ]
    }
   ],
   "source": [
    "from sklearn.metrics import accuracy_score\n",
    "accuracy = {accuracy_score(y_test, predictions)}\n",
    "print(f\"Accuracy is: {accuracy_score(y_test, predictions)* 100}\")"
   ]
  },
  {
   "cell_type": "markdown",
   "id": "eb044ea1",
   "metadata": {},
   "source": [
    "## 4.3 Classification Report"
   ]
  },
  {
   "cell_type": "code",
   "execution_count": 30,
   "id": "001ebc5a",
   "metadata": {},
   "outputs": [
    {
     "name": "stdout",
     "output_type": "stream",
     "text": [
      "\u001b[1mClassification report : \u001b[0m\n",
      "               precision    recall  f1-score   support\n",
      "\n",
      "           0       0.92      0.99      0.95     37921\n",
      "           1       0.97      0.92      0.95      2329\n",
      "           2       0.96      0.92      0.94      2183\n",
      "           3       0.96      0.87      0.91      2198\n",
      "           4       0.97      0.94      0.95      1991\n",
      "           5       0.97      0.89      0.93      2138\n",
      "           6       0.97      0.88      0.92      2215\n",
      "           7       0.95      0.82      0.88      2208\n",
      "           8       0.95      0.87      0.91      2271\n",
      "           9       0.91      0.83      0.87      2148\n",
      "          10       0.95      0.84      0.89      2046\n",
      "          11       0.91      0.89      0.90      2208\n",
      "          12       0.96      0.83      0.89      1979\n",
      "          13       0.95      0.95      0.95      1438\n",
      "          14       0.94      0.89      0.92      1369\n",
      "          15       0.88      0.80      0.84      1583\n",
      "          16       0.98      0.91      0.94      1564\n",
      "          17       0.93      0.91      0.92      1543\n",
      "          18       0.97      0.86      0.91       840\n",
      "          19       0.87      0.90      0.89       826\n",
      "          20       0.99      0.96      0.98       808\n",
      "          21       0.99      0.94      0.96       831\n",
      "          22       0.99      0.94      0.96       664\n",
      "          23       0.98      0.96      0.97       884\n",
      "\n",
      "    accuracy                           0.94     76185\n",
      "   macro avg       0.95      0.90      0.92     76185\n",
      "weighted avg       0.94      0.94      0.93     76185\n",
      "\n",
      "\u001b[1mConfusion Matrix : \u001b[0m\n"
     ]
    },
    {
     "data": {
      "image/png": "[encoded data removed]",
      "text/plain": [
       "<Figure size 432x288 with 2 Axes>"
      ]
     },
     "metadata": {
      "needs_background": "light"
     },
     "output_type": "display_data"
    }
   ],
   "source": [
    "from sklearn.metrics import confusion_matrix, f1_score, accuracy_score, classification_report\n",
    "print('\\033[1m' +'Classification report : '+ '\\033[0m\\n', classification_report(y_test, predictions))\n",
    "\n",
    "cm = confusion_matrix(predictions, y_test)\n",
    "print('\\033[1m' +'Confusion Matrix : '+ '\\033[0m')\n",
    "sns.heatmap(cm, cmap = 'OrRd',annot = True, fmt='d')\n",
    "plt.show()"
   ]
  },
  {
   "cell_type": "markdown",
   "id": "eaa5e512",
   "metadata": {},
   "source": [
    "## 4.4 Evaluation"
   ]
  },
  {
   "cell_type": "code",
   "execution_count": 31,
   "id": "9e469f86",
   "metadata": {},
   "outputs": [
    {
     "name": "stdout",
     "output_type": "stream",
     "text": [
      "MAE: 0.5542692130996916\n",
      "MSE: 6.428837697709523\n",
      "RMSE: 2.5355152726239933\n"
     ]
    }
   ],
   "source": [
    "from sklearn import metrics\n",
    "\n",
    "print('MAE:', metrics.mean_absolute_error(y_test,predictions))\n",
    "print('MSE:', metrics.mean_squared_error(y_test, predictions))\n",
    "print('RMSE:', np.sqrt(metrics.mean_squared_error(y_test, predictions)))"
   ]
  },
  {
   "cell_type": "code",
   "execution_count": 32,
   "id": "dff2a82d",
   "metadata": {},
   "outputs": [
    {
     "name": "stdout",
     "output_type": "stream",
     "text": [
      "Precision Score :  0.9368274059534929\n",
      "Recall Score :  0.9357091290936536\n",
      "f1_score :  0.9349020899410966\n"
     ]
    }
   ],
   "source": [
    "from sklearn.metrics import precision_score\n",
    "print(\"Precision Score : \",precision_score(y_test, predictions, average='weighted'))\n",
    "\n",
    "\n",
    "from sklearn.metrics import recall_score\n",
    "print(\"Recall Score : \",recall_score(y_test, predictions,average='weighted'))\n",
    "\n",
    "\n",
    "from sklearn.metrics import f1_score\n",
    "print(\"f1_score : \",f1_score(y_test, predictions,average='weighted'))"
   ]
  },
  {
   "cell_type": "code",
   "execution_count": null,
   "id": "81ac7468",
   "metadata": {},
   "outputs": [],
   "source": []
  },
  {
   "cell_type": "code",
   "execution_count": null,
   "id": "71a4c6e0",
   "metadata": {},
   "outputs": [],
   "source": []
  }
 ],
 "metadata": {
  "kernelspec": {
   "display_name": "Python 3 (ipykernel)",
   "language": "python",
   "name": "python3"
  },
  "language_info": {
   "codemirror_mode": {
    "name": "ipython",
    "version": 3
   },
   "file_extension": ".py",
   "mimetype": "text/x-python",
   "name": "python",
   "nbconvert_exporter": "python",
   "pygments_lexer": "ipython3",
   "version": "3.8.12"
  }
 },
 "nbformat": 4,
 "nbformat_minor": 5
}
