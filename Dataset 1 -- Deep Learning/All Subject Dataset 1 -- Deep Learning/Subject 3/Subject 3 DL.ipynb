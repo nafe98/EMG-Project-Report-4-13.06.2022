{
 "cells": [
  {
   "cell_type": "markdown",
   "id": "bf8ee932",
   "metadata": {},
   "source": [
    "# Importing Libraries"
   ]
  },
  {
   "cell_type": "code",
   "execution_count": 1,
   "id": "0f663fa8",
   "metadata": {},
   "outputs": [],
   "source": [
    "import numpy as np\n",
    "import pandas as pd\n",
    "import matplotlib.pyplot as plt\n",
    "import seaborn as sns\n",
    "from sklearn.model_selection import train_test_split"
   ]
  },
  {
   "cell_type": "markdown",
   "id": "511af272",
   "metadata": {},
   "source": [
    "# Loading Data"
   ]
  },
  {
   "cell_type": "code",
   "execution_count": 2,
   "id": "04fd19b0",
   "metadata": {},
   "outputs": [
    {
     "data": {
      "text/html": [
       "<div>\n",
       "<style scoped>\n",
       "    .dataframe tbody tr th:only-of-type {\n",
       "        vertical-align: middle;\n",
       "    }\n",
       "\n",
       "    .dataframe tbody tr th {\n",
       "        vertical-align: top;\n",
       "    }\n",
       "\n",
       "    .dataframe thead th {\n",
       "        text-align: right;\n",
       "    }\n",
       "</style>\n",
       "<table border=\"1\" class=\"dataframe\">\n",
       "  <thead>\n",
       "    <tr style=\"text-align: right;\">\n",
       "      <th></th>\n",
       "      <th>Emg1</th>\n",
       "      <th>Emg2</th>\n",
       "      <th>Emg3</th>\n",
       "      <th>Emg4</th>\n",
       "      <th>Emg5</th>\n",
       "      <th>Emg6</th>\n",
       "      <th>Emg7</th>\n",
       "      <th>Emg8</th>\n",
       "      <th>Emg9</th>\n",
       "      <th>Emg10</th>\n",
       "      <th>repetition</th>\n",
       "      <th>rerepetition</th>\n",
       "      <th>stimulus</th>\n",
       "      <th>restimulus</th>\n",
       "    </tr>\n",
       "  </thead>\n",
       "  <tbody>\n",
       "    <tr>\n",
       "      <th>274597</th>\n",
       "      <td>0.0049</td>\n",
       "      <td>0.0024</td>\n",
       "      <td>0.0024</td>\n",
       "      <td>0.0024</td>\n",
       "      <td>0.0024</td>\n",
       "      <td>0.0269</td>\n",
       "      <td>0.2954</td>\n",
       "      <td>0.5298</td>\n",
       "      <td>0.0024</td>\n",
       "      <td>0.0049</td>\n",
       "      <td>0</td>\n",
       "      <td>0</td>\n",
       "      <td>0</td>\n",
       "      <td>0</td>\n",
       "    </tr>\n",
       "    <tr>\n",
       "      <th>320074</th>\n",
       "      <td>0.0537</td>\n",
       "      <td>0.0024</td>\n",
       "      <td>0.0024</td>\n",
       "      <td>0.0024</td>\n",
       "      <td>0.0024</td>\n",
       "      <td>0.0049</td>\n",
       "      <td>0.3320</td>\n",
       "      <td>0.6909</td>\n",
       "      <td>0.0024</td>\n",
       "      <td>0.1733</td>\n",
       "      <td>10</td>\n",
       "      <td>0</td>\n",
       "      <td>8</td>\n",
       "      <td>0</td>\n",
       "    </tr>\n",
       "    <tr>\n",
       "      <th>257116</th>\n",
       "      <td>0.0342</td>\n",
       "      <td>0.0024</td>\n",
       "      <td>0.0024</td>\n",
       "      <td>0.0024</td>\n",
       "      <td>0.0024</td>\n",
       "      <td>0.0024</td>\n",
       "      <td>0.0366</td>\n",
       "      <td>0.1074</td>\n",
       "      <td>0.0024</td>\n",
       "      <td>0.0024</td>\n",
       "      <td>4</td>\n",
       "      <td>0</td>\n",
       "      <td>2</td>\n",
       "      <td>0</td>\n",
       "    </tr>\n",
       "    <tr>\n",
       "      <th>320476</th>\n",
       "      <td>0.0024</td>\n",
       "      <td>0.0049</td>\n",
       "      <td>0.0024</td>\n",
       "      <td>0.0024</td>\n",
       "      <td>0.0024</td>\n",
       "      <td>0.0024</td>\n",
       "      <td>0.0122</td>\n",
       "      <td>0.1172</td>\n",
       "      <td>0.0024</td>\n",
       "      <td>0.0024</td>\n",
       "      <td>0</td>\n",
       "      <td>0</td>\n",
       "      <td>0</td>\n",
       "      <td>0</td>\n",
       "    </tr>\n",
       "    <tr>\n",
       "      <th>256814</th>\n",
       "      <td>0.0171</td>\n",
       "      <td>0.0024</td>\n",
       "      <td>0.0024</td>\n",
       "      <td>0.0024</td>\n",
       "      <td>0.0024</td>\n",
       "      <td>0.0024</td>\n",
       "      <td>0.0024</td>\n",
       "      <td>0.0659</td>\n",
       "      <td>0.0024</td>\n",
       "      <td>0.0024</td>\n",
       "      <td>0</td>\n",
       "      <td>0</td>\n",
       "      <td>0</td>\n",
       "      <td>0</td>\n",
       "    </tr>\n",
       "  </tbody>\n",
       "</table>\n",
       "</div>"
      ],
      "text/plain": [
       "          Emg1    Emg2    Emg3    Emg4    Emg5    Emg6    Emg7    Emg8  \\\n",
       "274597  0.0049  0.0024  0.0024  0.0024  0.0024  0.0269  0.2954  0.5298   \n",
       "320074  0.0537  0.0024  0.0024  0.0024  0.0024  0.0049  0.3320  0.6909   \n",
       "257116  0.0342  0.0024  0.0024  0.0024  0.0024  0.0024  0.0366  0.1074   \n",
       "320476  0.0024  0.0049  0.0024  0.0024  0.0024  0.0024  0.0122  0.1172   \n",
       "256814  0.0171  0.0024  0.0024  0.0024  0.0024  0.0024  0.0024  0.0659   \n",
       "\n",
       "          Emg9   Emg10  repetition  rerepetition  stimulus  restimulus  \n",
       "274597  0.0024  0.0049           0             0         0           0  \n",
       "320074  0.0024  0.1733          10             0         8           0  \n",
       "257116  0.0024  0.0024           4             0         2           0  \n",
       "320476  0.0024  0.0024           0             0         0           0  \n",
       "256814  0.0024  0.0024           0             0         0           0  "
      ]
     },
     "execution_count": 2,
     "metadata": {},
     "output_type": "execute_result"
    }
   ],
   "source": [
    "raw_data = pd.read_excel('Dataset 1 Patient 3.xlsx')\n",
    "raw_data.sample(5)"
   ]
  },
  {
   "cell_type": "code",
   "execution_count": 3,
   "id": "80369ddb",
   "metadata": {},
   "outputs": [
    {
     "name": "stdout",
     "output_type": "stream",
     "text": [
      "<class 'pandas.core.frame.DataFrame'>\n",
      "RangeIndex: 467777 entries, 0 to 467776\n",
      "Data columns (total 14 columns):\n",
      " #   Column        Non-Null Count   Dtype  \n",
      "---  ------        --------------   -----  \n",
      " 0   Emg1          467777 non-null  float64\n",
      " 1   Emg2          467777 non-null  float64\n",
      " 2   Emg3          467777 non-null  float64\n",
      " 3   Emg4          467777 non-null  float64\n",
      " 4   Emg5          467777 non-null  float64\n",
      " 5   Emg6          467777 non-null  float64\n",
      " 6   Emg7          467777 non-null  float64\n",
      " 7   Emg8          467777 non-null  float64\n",
      " 8   Emg9          467777 non-null  float64\n",
      " 9   Emg10         467777 non-null  float64\n",
      " 10  repetition    467777 non-null  int64  \n",
      " 11  rerepetition  467777 non-null  int64  \n",
      " 12  stimulus      467777 non-null  int64  \n",
      " 13  restimulus    467777 non-null  int64  \n",
      "dtypes: float64(10), int64(4)\n",
      "memory usage: 50.0 MB\n"
     ]
    }
   ],
   "source": [
    "raw_data.info()"
   ]
  },
  {
   "cell_type": "code",
   "execution_count": 4,
   "id": "109445f8",
   "metadata": {},
   "outputs": [
    {
     "data": {
      "text/html": [
       "<div>\n",
       "<style scoped>\n",
       "    .dataframe tbody tr th:only-of-type {\n",
       "        vertical-align: middle;\n",
       "    }\n",
       "\n",
       "    .dataframe tbody tr th {\n",
       "        vertical-align: top;\n",
       "    }\n",
       "\n",
       "    .dataframe thead th {\n",
       "        text-align: right;\n",
       "    }\n",
       "</style>\n",
       "<table border=\"1\" class=\"dataframe\">\n",
       "  <thead>\n",
       "    <tr style=\"text-align: right;\">\n",
       "      <th></th>\n",
       "      <th>Emg1</th>\n",
       "      <th>Emg2</th>\n",
       "      <th>Emg3</th>\n",
       "      <th>Emg4</th>\n",
       "      <th>Emg5</th>\n",
       "      <th>Emg6</th>\n",
       "      <th>Emg7</th>\n",
       "      <th>Emg8</th>\n",
       "      <th>Emg9</th>\n",
       "      <th>Emg10</th>\n",
       "      <th>repetition</th>\n",
       "      <th>rerepetition</th>\n",
       "      <th>stimulus</th>\n",
       "      <th>restimulus</th>\n",
       "    </tr>\n",
       "  </thead>\n",
       "  <tbody>\n",
       "    <tr>\n",
       "      <th>count</th>\n",
       "      <td>467777.000000</td>\n",
       "      <td>467777.000000</td>\n",
       "      <td>467777.000000</td>\n",
       "      <td>467777.000000</td>\n",
       "      <td>467777.000000</td>\n",
       "      <td>467777.000000</td>\n",
       "      <td>467777.000000</td>\n",
       "      <td>467777.000000</td>\n",
       "      <td>467777.000000</td>\n",
       "      <td>467777.000000</td>\n",
       "      <td>467777.000000</td>\n",
       "      <td>467777.000000</td>\n",
       "      <td>467777.000000</td>\n",
       "      <td>467777.000000</td>\n",
       "    </tr>\n",
       "    <tr>\n",
       "      <th>mean</th>\n",
       "      <td>0.110394</td>\n",
       "      <td>0.093456</td>\n",
       "      <td>0.099184</td>\n",
       "      <td>0.046686</td>\n",
       "      <td>0.013591</td>\n",
       "      <td>0.016319</td>\n",
       "      <td>0.221623</td>\n",
       "      <td>0.281546</td>\n",
       "      <td>0.083071</td>\n",
       "      <td>0.094819</td>\n",
       "      <td>3.153227</td>\n",
       "      <td>2.207094</td>\n",
       "      <td>5.587872</td>\n",
       "      <td>3.993129</td>\n",
       "    </tr>\n",
       "    <tr>\n",
       "      <th>std</th>\n",
       "      <td>0.276184</td>\n",
       "      <td>0.220480</td>\n",
       "      <td>0.278285</td>\n",
       "      <td>0.163785</td>\n",
       "      <td>0.057752</td>\n",
       "      <td>0.039971</td>\n",
       "      <td>0.347750</td>\n",
       "      <td>0.423341</td>\n",
       "      <td>0.256250</td>\n",
       "      <td>0.181107</td>\n",
       "      <td>3.482794</td>\n",
       "      <td>3.266631</td>\n",
       "      <td>6.575499</td>\n",
       "      <td>6.231178</td>\n",
       "    </tr>\n",
       "    <tr>\n",
       "      <th>min</th>\n",
       "      <td>0.002400</td>\n",
       "      <td>0.002400</td>\n",
       "      <td>0.002400</td>\n",
       "      <td>0.002400</td>\n",
       "      <td>0.002400</td>\n",
       "      <td>0.002400</td>\n",
       "      <td>0.002400</td>\n",
       "      <td>0.002400</td>\n",
       "      <td>0.000000</td>\n",
       "      <td>0.002400</td>\n",
       "      <td>0.000000</td>\n",
       "      <td>0.000000</td>\n",
       "      <td>0.000000</td>\n",
       "      <td>0.000000</td>\n",
       "    </tr>\n",
       "    <tr>\n",
       "      <th>25%</th>\n",
       "      <td>0.002400</td>\n",
       "      <td>0.002400</td>\n",
       "      <td>0.002400</td>\n",
       "      <td>0.002400</td>\n",
       "      <td>0.002400</td>\n",
       "      <td>0.002400</td>\n",
       "      <td>0.002400</td>\n",
       "      <td>0.043900</td>\n",
       "      <td>0.002400</td>\n",
       "      <td>0.002400</td>\n",
       "      <td>0.000000</td>\n",
       "      <td>0.000000</td>\n",
       "      <td>0.000000</td>\n",
       "      <td>0.000000</td>\n",
       "    </tr>\n",
       "    <tr>\n",
       "      <th>50%</th>\n",
       "      <td>0.012200</td>\n",
       "      <td>0.002400</td>\n",
       "      <td>0.002400</td>\n",
       "      <td>0.002400</td>\n",
       "      <td>0.002400</td>\n",
       "      <td>0.002400</td>\n",
       "      <td>0.102500</td>\n",
       "      <td>0.122100</td>\n",
       "      <td>0.002400</td>\n",
       "      <td>0.017100</td>\n",
       "      <td>2.000000</td>\n",
       "      <td>0.000000</td>\n",
       "      <td>3.000000</td>\n",
       "      <td>0.000000</td>\n",
       "    </tr>\n",
       "    <tr>\n",
       "      <th>75%</th>\n",
       "      <td>0.087900</td>\n",
       "      <td>0.070800</td>\n",
       "      <td>0.017100</td>\n",
       "      <td>0.002400</td>\n",
       "      <td>0.002400</td>\n",
       "      <td>0.007300</td>\n",
       "      <td>0.295400</td>\n",
       "      <td>0.361300</td>\n",
       "      <td>0.009800</td>\n",
       "      <td>0.117200</td>\n",
       "      <td>6.000000</td>\n",
       "      <td>4.000000</td>\n",
       "      <td>10.000000</td>\n",
       "      <td>7.000000</td>\n",
       "    </tr>\n",
       "    <tr>\n",
       "      <th>max</th>\n",
       "      <td>4.665500</td>\n",
       "      <td>4.665500</td>\n",
       "      <td>4.162600</td>\n",
       "      <td>4.016100</td>\n",
       "      <td>2.270500</td>\n",
       "      <td>0.791000</td>\n",
       "      <td>4.663100</td>\n",
       "      <td>4.665500</td>\n",
       "      <td>4.523900</td>\n",
       "      <td>2.832000</td>\n",
       "      <td>10.000000</td>\n",
       "      <td>10.000000</td>\n",
       "      <td>23.000000</td>\n",
       "      <td>23.000000</td>\n",
       "    </tr>\n",
       "  </tbody>\n",
       "</table>\n",
       "</div>"
      ],
      "text/plain": [
       "                Emg1           Emg2           Emg3           Emg4  \\\n",
       "count  467777.000000  467777.000000  467777.000000  467777.000000   \n",
       "mean        0.110394       0.093456       0.099184       0.046686   \n",
       "std         0.276184       0.220480       0.278285       0.163785   \n",
       "min         0.002400       0.002400       0.002400       0.002400   \n",
       "25%         0.002400       0.002400       0.002400       0.002400   \n",
       "50%         0.012200       0.002400       0.002400       0.002400   \n",
       "75%         0.087900       0.070800       0.017100       0.002400   \n",
       "max         4.665500       4.665500       4.162600       4.016100   \n",
       "\n",
       "                Emg5           Emg6           Emg7           Emg8  \\\n",
       "count  467777.000000  467777.000000  467777.000000  467777.000000   \n",
       "mean        0.013591       0.016319       0.221623       0.281546   \n",
       "std         0.057752       0.039971       0.347750       0.423341   \n",
       "min         0.002400       0.002400       0.002400       0.002400   \n",
       "25%         0.002400       0.002400       0.002400       0.043900   \n",
       "50%         0.002400       0.002400       0.102500       0.122100   \n",
       "75%         0.002400       0.007300       0.295400       0.361300   \n",
       "max         2.270500       0.791000       4.663100       4.665500   \n",
       "\n",
       "                Emg9          Emg10     repetition   rerepetition  \\\n",
       "count  467777.000000  467777.000000  467777.000000  467777.000000   \n",
       "mean        0.083071       0.094819       3.153227       2.207094   \n",
       "std         0.256250       0.181107       3.482794       3.266631   \n",
       "min         0.000000       0.002400       0.000000       0.000000   \n",
       "25%         0.002400       0.002400       0.000000       0.000000   \n",
       "50%         0.002400       0.017100       2.000000       0.000000   \n",
       "75%         0.009800       0.117200       6.000000       4.000000   \n",
       "max         4.523900       2.832000      10.000000      10.000000   \n",
       "\n",
       "            stimulus     restimulus  \n",
       "count  467777.000000  467777.000000  \n",
       "mean        5.587872       3.993129  \n",
       "std         6.575499       6.231178  \n",
       "min         0.000000       0.000000  \n",
       "25%         0.000000       0.000000  \n",
       "50%         3.000000       0.000000  \n",
       "75%        10.000000       7.000000  \n",
       "max        23.000000      23.000000  "
      ]
     },
     "execution_count": 4,
     "metadata": {},
     "output_type": "execute_result"
    }
   ],
   "source": [
    "raw_data.describe(include='all')"
   ]
  },
  {
   "cell_type": "code",
   "execution_count": 5,
   "id": "f0b9a2e6",
   "metadata": {},
   "outputs": [
    {
     "name": "stdout",
     "output_type": "stream",
     "text": [
      "Unique Dependent values and their counts :\n",
      "0     199613\n",
      "4      15514\n",
      "8      15513\n",
      "7      15506\n",
      "2      15493\n",
      "12     15490\n",
      "9      15468\n",
      "5      15459\n",
      "6      15456\n",
      "3      15450\n",
      "11     15450\n",
      "1      15442\n",
      "10     15430\n",
      "17     10356\n",
      "13     10343\n",
      "14     10339\n",
      "15     10297\n",
      "16     10268\n",
      "19      5181\n",
      "21      5174\n",
      "18      5169\n",
      "20      5133\n",
      "22      5129\n",
      "23      5104\n",
      "Name: stimulus, dtype: int64\n"
     ]
    }
   ],
   "source": [
    "print(\"Unique Dependent values and their counts :\")\n",
    "print(raw_data[\"stimulus\"].value_counts())"
   ]
  },
  {
   "cell_type": "markdown",
   "id": "54420ec4",
   "metadata": {},
   "source": [
    "# Data Cleaning"
   ]
  },
  {
   "cell_type": "code",
   "execution_count": 6,
   "id": "a811198b",
   "metadata": {},
   "outputs": [],
   "source": [
    "index_names = raw_data[ (raw_data['stimulus'] != raw_data['restimulus'])].index\n",
    "raw_data.drop(index_names, inplace = True)"
   ]
  },
  {
   "cell_type": "code",
   "execution_count": 7,
   "id": "556cd92f",
   "metadata": {},
   "outputs": [],
   "source": [
    "index_names = raw_data[ (raw_data['repetition'] != raw_data['rerepetition'])].index\n",
    "raw_data.drop(index_names, inplace = True)"
   ]
  },
  {
   "cell_type": "code",
   "execution_count": 8,
   "id": "c91744f7",
   "metadata": {},
   "outputs": [],
   "source": [
    "X = raw_data.iloc[:,0:10]\n",
    "y = raw_data.stimulus"
   ]
  },
  {
   "cell_type": "markdown",
   "id": "152f7160",
   "metadata": {},
   "source": [
    "# One Hot Encoding"
   ]
  },
  {
   "cell_type": "code",
   "execution_count": 9,
   "id": "dfb77d24",
   "metadata": {},
   "outputs": [],
   "source": [
    "num_classes = 24"
   ]
  },
  {
   "cell_type": "code",
   "execution_count": 10,
   "id": "be64bf6b",
   "metadata": {},
   "outputs": [],
   "source": [
    "# One hot encoding for categorical labels\n",
    "import keras\n",
    "from keras import utils as np_utils\n",
    "y = keras.utils.np_utils.to_categorical(y, num_classes)"
   ]
  },
  {
   "cell_type": "code",
   "execution_count": 11,
   "id": "c7358f86",
   "metadata": {},
   "outputs": [],
   "source": [
    "input_dim = X.shape[1]"
   ]
  },
  {
   "cell_type": "markdown",
   "id": "cb3088a1",
   "metadata": {},
   "source": [
    "# Standard Scaler"
   ]
  },
  {
   "cell_type": "code",
   "execution_count": 12,
   "id": "5bd820f4",
   "metadata": {},
   "outputs": [],
   "source": [
    "from sklearn.preprocessing import StandardScaler\n",
    "standardscaler=StandardScaler()"
   ]
  },
  {
   "cell_type": "code",
   "execution_count": 13,
   "id": "6a118694",
   "metadata": {},
   "outputs": [],
   "source": [
    "sc = pd.DataFrame(standardscaler.fit_transform(X))"
   ]
  },
  {
   "cell_type": "code",
   "execution_count": 14,
   "id": "d6e2f38b",
   "metadata": {},
   "outputs": [
    {
     "data": {
      "text/html": [
       "<div>\n",
       "<style scoped>\n",
       "    .dataframe tbody tr th:only-of-type {\n",
       "        vertical-align: middle;\n",
       "    }\n",
       "\n",
       "    .dataframe tbody tr th {\n",
       "        vertical-align: top;\n",
       "    }\n",
       "\n",
       "    .dataframe thead th {\n",
       "        text-align: right;\n",
       "    }\n",
       "</style>\n",
       "<table border=\"1\" class=\"dataframe\">\n",
       "  <thead>\n",
       "    <tr style=\"text-align: right;\">\n",
       "      <th></th>\n",
       "      <th>0</th>\n",
       "      <th>1</th>\n",
       "      <th>2</th>\n",
       "      <th>3</th>\n",
       "      <th>4</th>\n",
       "      <th>5</th>\n",
       "      <th>6</th>\n",
       "      <th>7</th>\n",
       "      <th>8</th>\n",
       "      <th>9</th>\n",
       "    </tr>\n",
       "  </thead>\n",
       "  <tbody>\n",
       "    <tr>\n",
       "      <th>0</th>\n",
       "      <td>-0.423000</td>\n",
       "      <td>-0.446714</td>\n",
       "      <td>-0.385645</td>\n",
       "      <td>-0.300581</td>\n",
       "      <td>-0.214371</td>\n",
       "      <td>-0.377081</td>\n",
       "      <td>-0.648089</td>\n",
       "      <td>-0.584409</td>\n",
       "      <td>-0.348787</td>\n",
       "      <td>-0.519403</td>\n",
       "    </tr>\n",
       "    <tr>\n",
       "      <th>1</th>\n",
       "      <td>-0.423000</td>\n",
       "      <td>-0.446714</td>\n",
       "      <td>-0.385645</td>\n",
       "      <td>-0.300581</td>\n",
       "      <td>-0.214371</td>\n",
       "      <td>-0.377081</td>\n",
       "      <td>-0.648089</td>\n",
       "      <td>-0.579156</td>\n",
       "      <td>-0.348787</td>\n",
       "      <td>-0.519403</td>\n",
       "    </tr>\n",
       "    <tr>\n",
       "      <th>2</th>\n",
       "      <td>-0.414693</td>\n",
       "      <td>-0.446714</td>\n",
       "      <td>-0.385645</td>\n",
       "      <td>-0.300581</td>\n",
       "      <td>-0.214371</td>\n",
       "      <td>-0.377081</td>\n",
       "      <td>-0.648089</td>\n",
       "      <td>-0.573684</td>\n",
       "      <td>-0.348787</td>\n",
       "      <td>-0.494350</td>\n",
       "    </tr>\n",
       "    <tr>\n",
       "      <th>3</th>\n",
       "      <td>-0.423000</td>\n",
       "      <td>-0.446714</td>\n",
       "      <td>-0.385645</td>\n",
       "      <td>-0.300581</td>\n",
       "      <td>-0.214371</td>\n",
       "      <td>-0.377081</td>\n",
       "      <td>-0.648089</td>\n",
       "      <td>-0.557706</td>\n",
       "      <td>-0.348787</td>\n",
       "      <td>-0.506621</td>\n",
       "    </tr>\n",
       "    <tr>\n",
       "      <th>4</th>\n",
       "      <td>-0.423000</td>\n",
       "      <td>-0.446714</td>\n",
       "      <td>-0.385645</td>\n",
       "      <td>-0.300581</td>\n",
       "      <td>-0.214371</td>\n",
       "      <td>-0.377081</td>\n",
       "      <td>-0.648089</td>\n",
       "      <td>-0.562959</td>\n",
       "      <td>-0.348787</td>\n",
       "      <td>-0.519403</td>\n",
       "    </tr>\n",
       "    <tr>\n",
       "      <th>...</th>\n",
       "      <td>...</td>\n",
       "      <td>...</td>\n",
       "      <td>...</td>\n",
       "      <td>...</td>\n",
       "      <td>...</td>\n",
       "      <td>...</td>\n",
       "      <td>...</td>\n",
       "      <td>...</td>\n",
       "      <td>...</td>\n",
       "      <td>...</td>\n",
       "    </tr>\n",
       "    <tr>\n",
       "      <th>381299</th>\n",
       "      <td>-0.414693</td>\n",
       "      <td>-0.446714</td>\n",
       "      <td>-0.385645</td>\n",
       "      <td>-0.300581</td>\n",
       "      <td>-0.175124</td>\n",
       "      <td>-0.377081</td>\n",
       "      <td>-0.648089</td>\n",
       "      <td>-0.616583</td>\n",
       "      <td>-0.348787</td>\n",
       "      <td>0.117139</td>\n",
       "    </tr>\n",
       "    <tr>\n",
       "      <th>381300</th>\n",
       "      <td>-0.414693</td>\n",
       "      <td>-0.446714</td>\n",
       "      <td>-0.385645</td>\n",
       "      <td>-0.300581</td>\n",
       "      <td>-0.214371</td>\n",
       "      <td>-0.377081</td>\n",
       "      <td>-0.648089</td>\n",
       "      <td>-0.616583</td>\n",
       "      <td>-0.348787</td>\n",
       "      <td>0.154974</td>\n",
       "    </tr>\n",
       "    <tr>\n",
       "      <th>381301</th>\n",
       "      <td>-0.423000</td>\n",
       "      <td>-0.446714</td>\n",
       "      <td>-0.385645</td>\n",
       "      <td>-0.300581</td>\n",
       "      <td>-0.214371</td>\n",
       "      <td>-0.377081</td>\n",
       "      <td>-0.648089</td>\n",
       "      <td>-0.621836</td>\n",
       "      <td>-0.348787</td>\n",
       "      <td>0.167245</td>\n",
       "    </tr>\n",
       "    <tr>\n",
       "      <th>381302</th>\n",
       "      <td>-0.423000</td>\n",
       "      <td>-0.446714</td>\n",
       "      <td>-0.385645</td>\n",
       "      <td>-0.300581</td>\n",
       "      <td>-0.175124</td>\n",
       "      <td>-0.377081</td>\n",
       "      <td>-0.648089</td>\n",
       "      <td>-0.600386</td>\n",
       "      <td>-0.348787</td>\n",
       "      <td>0.167245</td>\n",
       "    </tr>\n",
       "    <tr>\n",
       "      <th>381303</th>\n",
       "      <td>-0.414693</td>\n",
       "      <td>-0.446714</td>\n",
       "      <td>-0.377419</td>\n",
       "      <td>-0.300581</td>\n",
       "      <td>-0.214371</td>\n",
       "      <td>-0.377081</td>\n",
       "      <td>-0.648089</td>\n",
       "      <td>-0.595133</td>\n",
       "      <td>-0.348787</td>\n",
       "      <td>0.129921</td>\n",
       "    </tr>\n",
       "  </tbody>\n",
       "</table>\n",
       "<p>381304 rows × 10 columns</p>\n",
       "</div>"
      ],
      "text/plain": [
       "               0         1         2         3         4         5         6  \\\n",
       "0      -0.423000 -0.446714 -0.385645 -0.300581 -0.214371 -0.377081 -0.648089   \n",
       "1      -0.423000 -0.446714 -0.385645 -0.300581 -0.214371 -0.377081 -0.648089   \n",
       "2      -0.414693 -0.446714 -0.385645 -0.300581 -0.214371 -0.377081 -0.648089   \n",
       "3      -0.423000 -0.446714 -0.385645 -0.300581 -0.214371 -0.377081 -0.648089   \n",
       "4      -0.423000 -0.446714 -0.385645 -0.300581 -0.214371 -0.377081 -0.648089   \n",
       "...          ...       ...       ...       ...       ...       ...       ...   \n",
       "381299 -0.414693 -0.446714 -0.385645 -0.300581 -0.175124 -0.377081 -0.648089   \n",
       "381300 -0.414693 -0.446714 -0.385645 -0.300581 -0.214371 -0.377081 -0.648089   \n",
       "381301 -0.423000 -0.446714 -0.385645 -0.300581 -0.214371 -0.377081 -0.648089   \n",
       "381302 -0.423000 -0.446714 -0.385645 -0.300581 -0.175124 -0.377081 -0.648089   \n",
       "381303 -0.414693 -0.446714 -0.377419 -0.300581 -0.214371 -0.377081 -0.648089   \n",
       "\n",
       "               7         8         9  \n",
       "0      -0.584409 -0.348787 -0.519403  \n",
       "1      -0.579156 -0.348787 -0.519403  \n",
       "2      -0.573684 -0.348787 -0.494350  \n",
       "3      -0.557706 -0.348787 -0.506621  \n",
       "4      -0.562959 -0.348787 -0.519403  \n",
       "...          ...       ...       ...  \n",
       "381299 -0.616583 -0.348787  0.117139  \n",
       "381300 -0.616583 -0.348787  0.154974  \n",
       "381301 -0.621836 -0.348787  0.167245  \n",
       "381302 -0.600386 -0.348787  0.167245  \n",
       "381303 -0.595133 -0.348787  0.129921  \n",
       "\n",
       "[381304 rows x 10 columns]"
      ]
     },
     "execution_count": 14,
     "metadata": {},
     "output_type": "execute_result"
    }
   ],
   "source": [
    "sc"
   ]
  },
  {
   "cell_type": "code",
   "execution_count": 15,
   "id": "65cfb75d",
   "metadata": {},
   "outputs": [],
   "source": [
    "# Splitting data for training and testing\n",
    "X_train, X_test, y_train, y_test = train_test_split(sc, y, test_size = 0.2, random_state = 39)"
   ]
  },
  {
   "cell_type": "markdown",
   "id": "3ba47781",
   "metadata": {},
   "source": [
    "# Deep Learning "
   ]
  },
  {
   "cell_type": "code",
   "execution_count": 16,
   "id": "d426e2e1",
   "metadata": {},
   "outputs": [],
   "source": [
    "from sklearn.preprocessing import MinMaxScaler\n",
    "from tensorflow.keras.models import Model\n",
    "from tensorflow.keras.layers import Input\n",
    "from tensorflow.keras.layers import Dense\n",
    "from tensorflow.keras.layers import LeakyReLU,ELU\n",
    "from tensorflow.keras.layers import BatchNormalization\n",
    "from tensorflow.keras.utils import plot_model\n",
    "import tensorflow as tf\n",
    "from sklearn.model_selection import cross_val_score\n",
    "from keras.models import Sequential\n",
    "from keras.layers import Dense, BatchNormalization, Dropout\n",
    "from tensorflow.keras.optimizers import Adam, SGD, RMSprop, Adadelta, Adagrad, Adamax, Nadam, Ftrl\n",
    "from keras.callbacks import EarlyStopping, ModelCheckpoint\n",
    "from keras.wrappers.scikit_learn import KerasClassifier\n",
    "from sklearn.metrics import make_scorer, accuracy_score\n",
    "from sklearn.model_selection import StratifiedKFold"
   ]
  },
  {
   "cell_type": "code",
   "execution_count": 17,
   "id": "cd0ef208",
   "metadata": {},
   "outputs": [],
   "source": [
    "from keras.layers import LeakyReLU\n",
    "LeakyReLU = LeakyReLU(alpha=0.1)\n",
    "from keras.models import Sequential\n",
    "from keras.layers import Dense, Flatten, Convolution1D, Dropout\n",
    "from keras.initializers import random_uniform"
   ]
  },
  {
   "cell_type": "markdown",
   "id": "f97d61bc",
   "metadata": {},
   "source": [
    "# 1. Define Network"
   ]
  },
  {
   "cell_type": "code",
   "execution_count": 18,
   "id": "bd77bf81",
   "metadata": {},
   "outputs": [],
   "source": [
    "num_classes = 24\n",
    "input_dim = X.shape[1]"
   ]
  },
  {
   "cell_type": "code",
   "execution_count": 19,
   "id": "fbdce465",
   "metadata": {},
   "outputs": [],
   "source": [
    "visible = Input(shape=(input_dim,))\n",
    "hidden1 = Dense(3000, activation='relu')(visible)\n",
    "hidden2 = Dense(1500, activation='relu')(hidden1)\n",
    "hidden3 = Dropout(0.2)(hidden2)\n",
    "hidden4 = Dense(750, activation='relu')(hidden3)\n",
    "hidden5 = Dense(375, activation='relu')(hidden4)\n",
    "hidden6 = Dense(48, activation='relu')(hidden5)\n",
    "output = Dense(num_classes, activation='softmax')(hidden6)\n",
    "model = Model(inputs=visible, outputs=output)"
   ]
  },
  {
   "cell_type": "code",
   "execution_count": 20,
   "id": "1dd33478",
   "metadata": {},
   "outputs": [
    {
     "name": "stdout",
     "output_type": "stream",
     "text": [
      "Model: \"model\"\n",
      "_________________________________________________________________\n",
      " Layer (type)                Output Shape              Param #   \n",
      "=================================================================\n",
      " input_1 (InputLayer)        [(None, 10)]              0         \n",
      "                                                                 \n",
      " dense (Dense)               (None, 3000)              33000     \n",
      "                                                                 \n",
      " dense_1 (Dense)             (None, 1500)              4501500   \n",
      "                                                                 \n",
      " dropout (Dropout)           (None, 1500)              0         \n",
      "                                                                 \n",
      " dense_2 (Dense)             (None, 750)               1125750   \n",
      "                                                                 \n",
      " dense_3 (Dense)             (None, 375)               281625    \n",
      "                                                                 \n",
      " dense_4 (Dense)             (None, 48)                18048     \n",
      "                                                                 \n",
      " dense_5 (Dense)             (None, 24)                1176      \n",
      "                                                                 \n",
      "=================================================================\n",
      "Total params: 5,961,099\n",
      "Trainable params: 5,961,099\n",
      "Non-trainable params: 0\n",
      "_________________________________________________________________\n"
     ]
    }
   ],
   "source": [
    "model.summary()"
   ]
  },
  {
   "cell_type": "markdown",
   "id": "3196ac97",
   "metadata": {},
   "source": [
    "# 2. Compile Network"
   ]
  },
  {
   "cell_type": "code",
   "execution_count": 21,
   "id": "7a2d558b",
   "metadata": {},
   "outputs": [],
   "source": [
    "model.compile(optimizer='adam', loss='categorical_crossentropy', metrics=['accuracy'])"
   ]
  },
  {
   "cell_type": "code",
   "execution_count": 22,
   "id": "c1d2b36d",
   "metadata": {},
   "outputs": [
    {
     "name": "stdout",
     "output_type": "stream",
     "text": [
      "You must install pydot (`pip install pydot`) and install graphviz (see instructions at https://graphviz.gitlab.io/download/) for plot_model/model_to_dot to work.\n"
     ]
    }
   ],
   "source": [
    "plot_model(model, 'EMG_ANN', show_shapes = True)"
   ]
  },
  {
   "cell_type": "markdown",
   "id": "3358b592",
   "metadata": {},
   "source": [
    "# 3. Fit Network"
   ]
  },
  {
   "cell_type": "code",
   "execution_count": 23,
   "id": "e0ed4ddd",
   "metadata": {},
   "outputs": [
    {
     "name": "stdout",
     "output_type": "stream",
     "text": [
      "Epoch 1/100\n",
      "76/76 [==============================] - 4s 30ms/step - loss: 1.3453 - accuracy: 0.6513 - val_loss: 1.0095 - val_accuracy: 0.7218\n",
      "Epoch 2/100\n",
      "76/76 [==============================] - 2s 25ms/step - loss: 0.9185 - accuracy: 0.7453 - val_loss: 0.8316 - val_accuracy: 0.7661\n",
      "Epoch 3/100\n",
      "76/76 [==============================] - 2s 26ms/step - loss: 0.8050 - accuracy: 0.7724 - val_loss: 0.7539 - val_accuracy: 0.7843\n",
      "Epoch 4/100\n",
      "76/76 [==============================] - 2s 25ms/step - loss: 0.7334 - accuracy: 0.7911 - val_loss: 0.6937 - val_accuracy: 0.8013\n",
      "Epoch 5/100\n",
      "76/76 [==============================] - 2s 25ms/step - loss: 0.6868 - accuracy: 0.8030 - val_loss: 0.6549 - val_accuracy: 0.8109\n",
      "Epoch 6/100\n",
      "76/76 [==============================] - 2s 25ms/step - loss: 0.6528 - accuracy: 0.8115 - val_loss: 0.6295 - val_accuracy: 0.8192\n",
      "Epoch 7/100\n",
      "76/76 [==============================] - 2s 25ms/step - loss: 0.6248 - accuracy: 0.8198 - val_loss: 0.6026 - val_accuracy: 0.8260\n",
      "Epoch 8/100\n",
      "76/76 [==============================] - 2s 26ms/step - loss: 0.6028 - accuracy: 0.8256 - val_loss: 0.5817 - val_accuracy: 0.8319\n",
      "Epoch 9/100\n",
      "76/76 [==============================] - 2s 27ms/step - loss: 0.5819 - accuracy: 0.8309 - val_loss: 0.5730 - val_accuracy: 0.8328\n",
      "Epoch 10/100\n",
      "76/76 [==============================] - 2s 26ms/step - loss: 0.5641 - accuracy: 0.8355 - val_loss: 0.5541 - val_accuracy: 0.8364\n",
      "Epoch 11/100\n",
      "76/76 [==============================] - 2s 26ms/step - loss: 0.5518 - accuracy: 0.8384 - val_loss: 0.5504 - val_accuracy: 0.8414\n",
      "Epoch 12/100\n",
      "76/76 [==============================] - 2s 27ms/step - loss: 0.5393 - accuracy: 0.8416 - val_loss: 0.5355 - val_accuracy: 0.8426\n",
      "Epoch 13/100\n",
      "76/76 [==============================] - 2s 26ms/step - loss: 0.5253 - accuracy: 0.8459 - val_loss: 0.5096 - val_accuracy: 0.8499\n",
      "Epoch 14/100\n",
      "76/76 [==============================] - 2s 26ms/step - loss: 0.5127 - accuracy: 0.8495 - val_loss: 0.5043 - val_accuracy: 0.8519\n",
      "Epoch 15/100\n",
      "76/76 [==============================] - 2s 26ms/step - loss: 0.5032 - accuracy: 0.8520 - val_loss: 0.5021 - val_accuracy: 0.8514\n",
      "Epoch 16/100\n",
      "76/76 [==============================] - 2s 26ms/step - loss: 0.4921 - accuracy: 0.8546 - val_loss: 0.4884 - val_accuracy: 0.8556\n",
      "Epoch 17/100\n",
      "76/76 [==============================] - 2s 25ms/step - loss: 0.4889 - accuracy: 0.8561 - val_loss: 0.4889 - val_accuracy: 0.8568\n",
      "Epoch 18/100\n",
      "76/76 [==============================] - 2s 27ms/step - loss: 0.4778 - accuracy: 0.8588 - val_loss: 0.4759 - val_accuracy: 0.8595\n",
      "Epoch 19/100\n",
      "76/76 [==============================] - 2s 26ms/step - loss: 0.4682 - accuracy: 0.8613 - val_loss: 0.4691 - val_accuracy: 0.8620\n",
      "Epoch 20/100\n",
      "76/76 [==============================] - 2s 25ms/step - loss: 0.4591 - accuracy: 0.8649 - val_loss: 0.4592 - val_accuracy: 0.8649\n",
      "Epoch 21/100\n",
      "76/76 [==============================] - 2s 26ms/step - loss: 0.4554 - accuracy: 0.8655 - val_loss: 0.4509 - val_accuracy: 0.8673\n",
      "Epoch 22/100\n",
      "76/76 [==============================] - 2s 27ms/step - loss: 0.4456 - accuracy: 0.8683 - val_loss: 0.4433 - val_accuracy: 0.8683\n",
      "Epoch 23/100\n",
      "76/76 [==============================] - 2s 27ms/step - loss: 0.4418 - accuracy: 0.8683 - val_loss: 0.4471 - val_accuracy: 0.8670\n",
      "Epoch 24/100\n",
      "76/76 [==============================] - 2s 26ms/step - loss: 0.4351 - accuracy: 0.8710 - val_loss: 0.4373 - val_accuracy: 0.8701\n",
      "Epoch 25/100\n",
      "76/76 [==============================] - 2s 26ms/step - loss: 0.4285 - accuracy: 0.8722 - val_loss: 0.4295 - val_accuracy: 0.8718\n",
      "Epoch 26/100\n",
      "76/76 [==============================] - 2s 26ms/step - loss: 0.4235 - accuracy: 0.8737 - val_loss: 0.4283 - val_accuracy: 0.8729\n",
      "Epoch 27/100\n",
      "76/76 [==============================] - 2s 27ms/step - loss: 0.4212 - accuracy: 0.8748 - val_loss: 0.4323 - val_accuracy: 0.8725\n",
      "Epoch 28/100\n",
      "76/76 [==============================] - 2s 27ms/step - loss: 0.4129 - accuracy: 0.8771 - val_loss: 0.4187 - val_accuracy: 0.8760\n",
      "Epoch 29/100\n",
      "76/76 [==============================] - 2s 26ms/step - loss: 0.4089 - accuracy: 0.8781 - val_loss: 0.4166 - val_accuracy: 0.8764\n",
      "Epoch 30/100\n",
      "76/76 [==============================] - 2s 25ms/step - loss: 0.4022 - accuracy: 0.8800 - val_loss: 0.4126 - val_accuracy: 0.8784\n",
      "Epoch 31/100\n",
      "76/76 [==============================] - 2s 26ms/step - loss: 0.3982 - accuracy: 0.8809 - val_loss: 0.4364 - val_accuracy: 0.8732\n",
      "Epoch 32/100\n",
      "76/76 [==============================] - 2s 27ms/step - loss: 0.3981 - accuracy: 0.8811 - val_loss: 0.4071 - val_accuracy: 0.8789\n",
      "Epoch 33/100\n",
      "76/76 [==============================] - 2s 26ms/step - loss: 0.3901 - accuracy: 0.8834 - val_loss: 0.4002 - val_accuracy: 0.8808\n",
      "Epoch 34/100\n",
      "76/76 [==============================] - 2s 27ms/step - loss: 0.3868 - accuracy: 0.8846 - val_loss: 0.4091 - val_accuracy: 0.8791\n",
      "Epoch 35/100\n",
      "76/76 [==============================] - 2s 27ms/step - loss: 0.3858 - accuracy: 0.8849 - val_loss: 0.3974 - val_accuracy: 0.8815\n",
      "Epoch 36/100\n",
      "76/76 [==============================] - 2s 26ms/step - loss: 0.3803 - accuracy: 0.8860 - val_loss: 0.3944 - val_accuracy: 0.8837\n",
      "Epoch 37/100\n",
      "76/76 [==============================] - 2s 26ms/step - loss: 0.3738 - accuracy: 0.8879 - val_loss: 0.3970 - val_accuracy: 0.8826\n",
      "Epoch 38/100\n",
      "76/76 [==============================] - 2s 26ms/step - loss: 0.3719 - accuracy: 0.8889 - val_loss: 0.3866 - val_accuracy: 0.8850\n",
      "Epoch 39/100\n",
      "76/76 [==============================] - 2s 27ms/step - loss: 0.3712 - accuracy: 0.8886 - val_loss: 0.3906 - val_accuracy: 0.8849\n",
      "Epoch 40/100\n",
      "76/76 [==============================] - 2s 26ms/step - loss: 0.3650 - accuracy: 0.8909 - val_loss: 0.3895 - val_accuracy: 0.8856\n",
      "Epoch 41/100\n",
      "76/76 [==============================] - 2s 27ms/step - loss: 0.3666 - accuracy: 0.8902 - val_loss: 0.3854 - val_accuracy: 0.8857\n",
      "Epoch 42/100\n",
      "76/76 [==============================] - 2s 27ms/step - loss: 0.3630 - accuracy: 0.8907 - val_loss: 0.3843 - val_accuracy: 0.8873\n",
      "Epoch 43/100\n",
      "76/76 [==============================] - 2s 26ms/step - loss: 0.3564 - accuracy: 0.8931 - val_loss: 0.3776 - val_accuracy: 0.8873\n",
      "Epoch 44/100\n",
      "76/76 [==============================] - 2s 26ms/step - loss: 0.3541 - accuracy: 0.8935 - val_loss: 0.3892 - val_accuracy: 0.8856\n",
      "Epoch 45/100\n",
      "76/76 [==============================] - 2s 25ms/step - loss: 0.3552 - accuracy: 0.8932 - val_loss: 0.3756 - val_accuracy: 0.8891\n",
      "Epoch 46/100\n",
      "76/76 [==============================] - 2s 27ms/step - loss: 0.3510 - accuracy: 0.8946 - val_loss: 0.3759 - val_accuracy: 0.8886\n",
      "Epoch 47/100\n",
      "76/76 [==============================] - 2s 27ms/step - loss: 0.3456 - accuracy: 0.8961 - val_loss: 0.3688 - val_accuracy: 0.8902\n",
      "Epoch 48/100\n",
      "76/76 [==============================] - 2s 27ms/step - loss: 0.3432 - accuracy: 0.8964 - val_loss: 0.3712 - val_accuracy: 0.8910\n",
      "Epoch 49/100\n",
      "76/76 [==============================] - 2s 26ms/step - loss: 0.3420 - accuracy: 0.8973 - val_loss: 0.3689 - val_accuracy: 0.8905\n",
      "Epoch 50/100\n",
      "76/76 [==============================] - 2s 26ms/step - loss: 0.3367 - accuracy: 0.8990 - val_loss: 0.3661 - val_accuracy: 0.8914\n",
      "Epoch 51/100\n",
      "76/76 [==============================] - 2s 27ms/step - loss: 0.3357 - accuracy: 0.8988 - val_loss: 0.3629 - val_accuracy: 0.8918\n",
      "Epoch 52/100\n",
      "76/76 [==============================] - 2s 28ms/step - loss: 0.3341 - accuracy: 0.8997 - val_loss: 0.3688 - val_accuracy: 0.8920\n",
      "Epoch 53/100\n",
      "76/76 [==============================] - 2s 26ms/step - loss: 0.3340 - accuracy: 0.8996 - val_loss: 0.3622 - val_accuracy: 0.8923\n",
      "Epoch 54/100\n",
      "76/76 [==============================] - 2s 25ms/step - loss: 0.3267 - accuracy: 0.9019 - val_loss: 0.3611 - val_accuracy: 0.8925\n",
      "Epoch 55/100\n",
      "76/76 [==============================] - 2s 26ms/step - loss: 0.3234 - accuracy: 0.9024 - val_loss: 0.3583 - val_accuracy: 0.8940\n",
      "Epoch 56/100\n",
      "76/76 [==============================] - 2s 26ms/step - loss: 0.3248 - accuracy: 0.9024 - val_loss: 0.3601 - val_accuracy: 0.8951\n",
      "Epoch 57/100\n",
      "76/76 [==============================] - 2s 26ms/step - loss: 0.3240 - accuracy: 0.9025 - val_loss: 0.3572 - val_accuracy: 0.8946\n",
      "Epoch 58/100\n"
     ]
    },
    {
     "name": "stdout",
     "output_type": "stream",
     "text": [
      "76/76 [==============================] - 2s 26ms/step - loss: 0.3184 - accuracy: 0.9039 - val_loss: 0.3538 - val_accuracy: 0.8964\n",
      "Epoch 59/100\n",
      "76/76 [==============================] - 2s 26ms/step - loss: 0.3224 - accuracy: 0.9025 - val_loss: 0.3473 - val_accuracy: 0.8967\n",
      "Epoch 60/100\n",
      "76/76 [==============================] - 2s 26ms/step - loss: 0.3149 - accuracy: 0.9052 - val_loss: 0.3480 - val_accuracy: 0.8960\n",
      "Epoch 61/100\n",
      "76/76 [==============================] - 2s 26ms/step - loss: 0.3112 - accuracy: 0.9061 - val_loss: 0.3511 - val_accuracy: 0.8969\n",
      "Epoch 62/100\n",
      "76/76 [==============================] - 2s 26ms/step - loss: 0.3125 - accuracy: 0.9057 - val_loss: 0.3524 - val_accuracy: 0.8964\n",
      "Epoch 63/100\n",
      "76/76 [==============================] - 2s 26ms/step - loss: 0.3111 - accuracy: 0.9059 - val_loss: 0.3515 - val_accuracy: 0.8960\n",
      "Epoch 64/100\n",
      "76/76 [==============================] - 2s 26ms/step - loss: 0.3125 - accuracy: 0.9052 - val_loss: 0.3481 - val_accuracy: 0.8966\n",
      "Epoch 65/100\n",
      "76/76 [==============================] - 2s 26ms/step - loss: 0.3081 - accuracy: 0.9067 - val_loss: 0.3515 - val_accuracy: 0.8957\n",
      "Epoch 66/100\n",
      "76/76 [==============================] - 2s 26ms/step - loss: 0.3058 - accuracy: 0.9074 - val_loss: 0.3416 - val_accuracy: 0.8988\n",
      "Epoch 67/100\n",
      "76/76 [==============================] - 2s 26ms/step - loss: 0.3056 - accuracy: 0.9079 - val_loss: 0.3415 - val_accuracy: 0.8996\n",
      "Epoch 68/100\n",
      "76/76 [==============================] - 2s 26ms/step - loss: 0.3020 - accuracy: 0.9086 - val_loss: 0.3423 - val_accuracy: 0.9001\n",
      "Epoch 69/100\n",
      "76/76 [==============================] - 2s 26ms/step - loss: 0.3027 - accuracy: 0.9088 - val_loss: 0.3471 - val_accuracy: 0.8977\n",
      "Epoch 70/100\n",
      "76/76 [==============================] - 2s 26ms/step - loss: 0.3000 - accuracy: 0.9092 - val_loss: 0.3357 - val_accuracy: 0.9012\n",
      "Epoch 71/100\n",
      "76/76 [==============================] - 2s 28ms/step - loss: 0.2989 - accuracy: 0.9098 - val_loss: 0.3296 - val_accuracy: 0.9027\n",
      "Epoch 72/100\n",
      "76/76 [==============================] - 2s 27ms/step - loss: 0.2979 - accuracy: 0.9098 - val_loss: 0.3448 - val_accuracy: 0.9000\n",
      "Epoch 73/100\n",
      "76/76 [==============================] - 2s 27ms/step - loss: 0.2947 - accuracy: 0.9107 - val_loss: 0.3394 - val_accuracy: 0.9005\n",
      "Epoch 74/100\n",
      "76/76 [==============================] - 2s 26ms/step - loss: 0.2939 - accuracy: 0.9107 - val_loss: 0.3295 - val_accuracy: 0.9019\n",
      "Epoch 75/100\n",
      "76/76 [==============================] - 2s 27ms/step - loss: 0.2915 - accuracy: 0.9116 - val_loss: 0.3320 - val_accuracy: 0.9027\n",
      "Epoch 76/100\n",
      "76/76 [==============================] - 2s 27ms/step - loss: 0.2910 - accuracy: 0.9121 - val_loss: 0.3405 - val_accuracy: 0.9020\n",
      "Epoch 77/100\n",
      "76/76 [==============================] - 2s 26ms/step - loss: 0.2895 - accuracy: 0.9123 - val_loss: 0.3338 - val_accuracy: 0.9014\n",
      "Epoch 78/100\n",
      "76/76 [==============================] - 2s 27ms/step - loss: 0.2874 - accuracy: 0.9126 - val_loss: 0.3385 - val_accuracy: 0.8998\n",
      "Epoch 79/100\n",
      "76/76 [==============================] - 2s 27ms/step - loss: 0.2869 - accuracy: 0.9136 - val_loss: 0.3326 - val_accuracy: 0.9023\n",
      "Epoch 80/100\n",
      "76/76 [==============================] - 2s 29ms/step - loss: 0.2848 - accuracy: 0.9138 - val_loss: 0.3375 - val_accuracy: 0.9018\n",
      "Epoch 81/100\n",
      "76/76 [==============================] - 2s 27ms/step - loss: 0.2857 - accuracy: 0.9134 - val_loss: 0.3389 - val_accuracy: 0.9006\n",
      "Epoch 82/100\n",
      "76/76 [==============================] - 2s 26ms/step - loss: 0.2831 - accuracy: 0.9140 - val_loss: 0.3341 - val_accuracy: 0.9012\n",
      "Epoch 83/100\n",
      "76/76 [==============================] - 2s 26ms/step - loss: 0.2791 - accuracy: 0.9151 - val_loss: 0.3337 - val_accuracy: 0.9017\n",
      "Epoch 84/100\n",
      "76/76 [==============================] - 2s 26ms/step - loss: 0.2793 - accuracy: 0.9155 - val_loss: 0.3256 - val_accuracy: 0.9034\n",
      "Epoch 85/100\n",
      "76/76 [==============================] - 2s 27ms/step - loss: 0.2766 - accuracy: 0.9162 - val_loss: 0.3278 - val_accuracy: 0.9030\n",
      "Epoch 86/100\n",
      "76/76 [==============================] - 2s 26ms/step - loss: 0.2754 - accuracy: 0.9161 - val_loss: 0.3314 - val_accuracy: 0.9027\n",
      "Epoch 87/100\n",
      "76/76 [==============================] - 2s 26ms/step - loss: 0.2779 - accuracy: 0.9159 - val_loss: 0.3278 - val_accuracy: 0.9028\n",
      "Epoch 88/100\n",
      "76/76 [==============================] - 2s 27ms/step - loss: 0.2747 - accuracy: 0.9167 - val_loss: 0.3235 - val_accuracy: 0.9046\n",
      "Epoch 89/100\n",
      "76/76 [==============================] - 2s 26ms/step - loss: 0.2769 - accuracy: 0.9163 - val_loss: 0.3332 - val_accuracy: 0.9032\n",
      "Epoch 90/100\n",
      "76/76 [==============================] - 2s 27ms/step - loss: 0.2759 - accuracy: 0.9161 - val_loss: 0.3272 - val_accuracy: 0.9037\n",
      "Epoch 91/100\n",
      "76/76 [==============================] - 2s 27ms/step - loss: 0.2715 - accuracy: 0.9175 - val_loss: 0.3183 - val_accuracy: 0.9067\n",
      "Epoch 92/100\n",
      "76/76 [==============================] - 2s 27ms/step - loss: 0.2704 - accuracy: 0.9181 - val_loss: 0.3238 - val_accuracy: 0.9050\n",
      "Epoch 93/100\n",
      "76/76 [==============================] - 2s 28ms/step - loss: 0.2671 - accuracy: 0.9191 - val_loss: 0.3201 - val_accuracy: 0.9060\n",
      "Epoch 94/100\n",
      "76/76 [==============================] - 2s 27ms/step - loss: 0.2679 - accuracy: 0.9187 - val_loss: 0.3290 - val_accuracy: 0.9040\n",
      "Epoch 95/100\n",
      "76/76 [==============================] - 2s 27ms/step - loss: 0.2666 - accuracy: 0.9192 - val_loss: 0.3212 - val_accuracy: 0.9061\n",
      "Epoch 96/100\n",
      "76/76 [==============================] - 2s 26ms/step - loss: 0.2635 - accuracy: 0.9201 - val_loss: 0.3263 - val_accuracy: 0.9066\n",
      "Epoch 97/100\n",
      "76/76 [==============================] - 2s 26ms/step - loss: 0.2629 - accuracy: 0.9203 - val_loss: 0.3222 - val_accuracy: 0.9067\n",
      "Epoch 98/100\n",
      "76/76 [==============================] - 2s 27ms/step - loss: 0.2625 - accuracy: 0.9208 - val_loss: 0.3141 - val_accuracy: 0.9078\n",
      "Epoch 99/100\n",
      "76/76 [==============================] - 2s 27ms/step - loss: 0.2654 - accuracy: 0.9195 - val_loss: 0.3228 - val_accuracy: 0.9061\n",
      "Epoch 100/100\n",
      "76/76 [==============================] - 2s 26ms/step - loss: 0.2624 - accuracy: 0.9199 - val_loss: 0.3336 - val_accuracy: 0.9033\n"
     ]
    }
   ],
   "source": [
    "history = model.fit(X_train, y_train, batch_size=4056, epochs=100, validation_data = (X_test, y_test))"
   ]
  },
  {
   "cell_type": "markdown",
   "id": "ffed59b1",
   "metadata": {},
   "source": [
    "# 4.Evaluate Network"
   ]
  },
  {
   "cell_type": "markdown",
   "id": "28731190",
   "metadata": {},
   "source": [
    "## 4.1. Plotting Loss and Accuracy"
   ]
  },
  {
   "cell_type": "code",
   "execution_count": 24,
   "id": "971e6040",
   "metadata": {},
   "outputs": [
    {
     "data": {
      "text/plain": [
       "Text(0.5, 1.0, 'Loss Curve of Deep Neural Netowork')"
      ]
     },
     "execution_count": 24,
     "metadata": {},
     "output_type": "execute_result"
    },
    {
     "data": {
      "image/png": "[encoded data removed]",
      "text/plain": [
       "<Figure size 432x288 with 1 Axes>"
      ]
     },
     "metadata": {
      "needs_background": "light"
     },
     "output_type": "display_data"
    }
   ],
   "source": [
    "#Loss Curve\n",
    "\n",
    "\n",
    "plt.plot(figsize = [8,6])\n",
    "\n",
    "plt.plot(history.history['loss'],'r',linewidth = 3.0)\n",
    "plt.plot(history.history['val_loss'],'b',linewidth = 3.0)\n",
    "\n",
    "plt.legend(['Training Loss', 'Validation Loss'], fontsize = 18)\n",
    "\n",
    "plt.xlabel('Epochs', fontsize = 16)\n",
    "plt.ylabel('Loss', fontsize = 16)\n",
    "\n",
    "plt.title('Loss Curve of Deep Neural Netowork' , fontsize = 16 )\n",
    "\n"
   ]
  },
  {
   "cell_type": "code",
   "execution_count": 25,
   "id": "b0c193ec",
   "metadata": {},
   "outputs": [
    {
     "data": {
      "text/plain": [
       "Text(0.5, 1.0, 'Accuracy Curve of Deep Neural Netowork')"
      ]
     },
     "execution_count": 25,
     "metadata": {},
     "output_type": "execute_result"
    },
    {
     "data": {
      "image/png": "[encoded data removed]",
      "text/plain": [
       "<Figure size 432x288 with 1 Axes>"
      ]
     },
     "metadata": {
      "needs_background": "light"
     },
     "output_type": "display_data"
    }
   ],
   "source": [
    "#Accuracy Curve\n",
    "\n",
    "plt.plot(figsize = [8,6])\n",
    "plt.plot(history.history['accuracy'],'r',linewidth = 3.0)\n",
    "plt.plot(history.history['val_accuracy'],'b',linewidth = 3.0)\n",
    "\n",
    "plt.legend(['Training Accuracy', 'Validation Accuracy'], fontsize = 18)\n",
    "\n",
    "plt.xlabel('Epochs', fontsize = 16)\n",
    "plt.ylabel('Accuracy', fontsize = 16)\n",
    "\n",
    "\n",
    "plt.title('Accuracy Curve of Deep Neural Netowork' , fontsize = 16 )"
   ]
  },
  {
   "cell_type": "markdown",
   "id": "741a02aa",
   "metadata": {},
   "source": [
    "##  4.2 Make Predictions"
   ]
  },
  {
   "cell_type": "code",
   "execution_count": 26,
   "id": "e8465627",
   "metadata": {},
   "outputs": [],
   "source": [
    "predictions = model.predict(X_test)\n",
    "predictions = np.argmax(predictions, axis = 1)"
   ]
  },
  {
   "cell_type": "code",
   "execution_count": 27,
   "id": "3cac1a50",
   "metadata": {},
   "outputs": [
    {
     "data": {
      "text/plain": [
       "array([ 4,  1, 16, ...,  0,  7,  0], dtype=int64)"
      ]
     },
     "execution_count": 27,
     "metadata": {},
     "output_type": "execute_result"
    }
   ],
   "source": [
    "predictions"
   ]
  },
  {
   "cell_type": "markdown",
   "id": "70d666bb",
   "metadata": {},
   "source": [
    "#### Transforming from One Hot Encoding"
   ]
  },
  {
   "cell_type": "code",
   "execution_count": 28,
   "id": "7234b6e7",
   "metadata": {},
   "outputs": [
    {
     "data": {
      "text/plain": [
       "1"
      ]
     },
     "execution_count": 28,
     "metadata": {},
     "output_type": "execute_result"
    }
   ],
   "source": [
    "y_test =np.argmax(y_test, axis=1)\n",
    "y_test[1]"
   ]
  },
  {
   "cell_type": "code",
   "execution_count": 29,
   "id": "6278820d",
   "metadata": {},
   "outputs": [
    {
     "name": "stdout",
     "output_type": "stream",
     "text": [
      "Accuracy is: 90.32926397503311\n"
     ]
    }
   ],
   "source": [
    "from sklearn.metrics import accuracy_score\n",
    "accuracy = {accuracy_score(y_test, predictions)}\n",
    "print(f\"Accuracy is: {accuracy_score(y_test, predictions)* 100}\")"
   ]
  },
  {
   "cell_type": "markdown",
   "id": "eb044ea1",
   "metadata": {},
   "source": [
    "## 4.3 Classification Report"
   ]
  },
  {
   "cell_type": "code",
   "execution_count": 30,
   "id": "001ebc5a",
   "metadata": {},
   "outputs": [
    {
     "name": "stdout",
     "output_type": "stream",
     "text": [
      "\u001b[1mClassification report : \u001b[0m\n",
      "               precision    recall  f1-score   support\n",
      "\n",
      "           0       0.92      0.97      0.95     39341\n",
      "           1       0.85      0.86      0.85      2050\n",
      "           2       0.91      0.85      0.88      2158\n",
      "           3       0.88      0.73      0.80      2144\n",
      "           4       0.92      0.91      0.91      2037\n",
      "           5       0.90      0.84      0.87      2052\n",
      "           6       0.93      0.88      0.90      1952\n",
      "           7       0.79      0.69      0.74      2048\n",
      "           8       0.85      0.84      0.84      2084\n",
      "           9       0.86      0.84      0.85      1918\n",
      "          10       0.87      0.78      0.82      2029\n",
      "          11       0.93      0.90      0.91      1973\n",
      "          12       0.82      0.80      0.81      2082\n",
      "          13       0.92      0.86      0.89      1601\n",
      "          14       0.75      0.81      0.78      1305\n",
      "          15       0.74      0.57      0.64      1473\n",
      "          16       0.89      0.83      0.86      1608\n",
      "          17       0.88      0.84      0.86      1367\n",
      "          18       0.89      0.74      0.81       904\n",
      "          19       0.91      0.87      0.89       794\n",
      "          20       1.00      0.98      0.99       925\n",
      "          21       0.95      0.95      0.95       699\n",
      "          22       0.98      0.99      0.98       829\n",
      "          23       0.97      0.98      0.98       888\n",
      "\n",
      "    accuracy                           0.90     76261\n",
      "   macro avg       0.89      0.85      0.87     76261\n",
      "weighted avg       0.90      0.90      0.90     76261\n",
      "\n",
      "\u001b[1mConfusion Matrix : \u001b[0m\n"
     ]
    },
    {
     "data": {
      "image/png": "[encoded data removed]",
      "text/plain": [
       "<Figure size 432x288 with 2 Axes>"
      ]
     },
     "metadata": {
      "needs_background": "light"
     },
     "output_type": "display_data"
    }
   ],
   "source": [
    "from sklearn.metrics import confusion_matrix, f1_score, accuracy_score, classification_report\n",
    "print('\\033[1m' +'Classification report : '+ '\\033[0m\\n', classification_report(y_test, predictions))\n",
    "\n",
    "cm = confusion_matrix(predictions, y_test)\n",
    "print('\\033[1m' +'Confusion Matrix : '+ '\\033[0m')\n",
    "sns.heatmap(cm, cmap = 'OrRd',annot = True, fmt='d')\n",
    "plt.show()"
   ]
  },
  {
   "cell_type": "markdown",
   "id": "eaa5e512",
   "metadata": {},
   "source": [
    "## 4.4 Evaluation"
   ]
  },
  {
   "cell_type": "code",
   "execution_count": 31,
   "id": "9e469f86",
   "metadata": {},
   "outputs": [
    {
     "name": "stdout",
     "output_type": "stream",
     "text": [
      "MAE: 0.7279605565098806\n",
      "MSE: 7.968961854683259\n",
      "RMSE: 2.8229349717418675\n"
     ]
    }
   ],
   "source": [
    "from sklearn import metrics\n",
    "\n",
    "print('MAE:', metrics.mean_absolute_error(y_test,predictions))\n",
    "print('MSE:', metrics.mean_squared_error(y_test, predictions))\n",
    "print('RMSE:', np.sqrt(metrics.mean_squared_error(y_test, predictions)))"
   ]
  },
  {
   "cell_type": "code",
   "execution_count": 32,
   "id": "dff2a82d",
   "metadata": {},
   "outputs": [
    {
     "name": "stdout",
     "output_type": "stream",
     "text": [
      "Precision Score :  0.9016239107634163\n",
      "Recall Score :  0.9032926397503311\n",
      "f1_score :  0.901346994340715\n"
     ]
    }
   ],
   "source": [
    "from sklearn.metrics import precision_score\n",
    "print(\"Precision Score : \",precision_score(y_test, predictions, average='weighted'))\n",
    "\n",
    "\n",
    "from sklearn.metrics import recall_score\n",
    "print(\"Recall Score : \",recall_score(y_test, predictions,average='weighted'))\n",
    "\n",
    "\n",
    "from sklearn.metrics import f1_score\n",
    "print(\"f1_score : \",f1_score(y_test, predictions,average='weighted'))"
   ]
  },
  {
   "cell_type": "code",
   "execution_count": null,
   "id": "81ac7468",
   "metadata": {},
   "outputs": [],
   "source": []
  },
  {
   "cell_type": "code",
   "execution_count": null,
   "id": "71a4c6e0",
   "metadata": {},
   "outputs": [],
   "source": []
  }
 ],
 "metadata": {
  "kernelspec": {
   "display_name": "Python 3 (ipykernel)",
   "language": "python",
   "name": "python3"
  },
  "language_info": {
   "codemirror_mode": {
    "name": "ipython",
    "version": 3
   },
   "file_extension": ".py",
   "mimetype": "text/x-python",
   "name": "python",
   "nbconvert_exporter": "python",
   "pygments_lexer": "ipython3",
   "version": "3.8.12"
  }
 },
 "nbformat": 4,
 "nbformat_minor": 5
}
