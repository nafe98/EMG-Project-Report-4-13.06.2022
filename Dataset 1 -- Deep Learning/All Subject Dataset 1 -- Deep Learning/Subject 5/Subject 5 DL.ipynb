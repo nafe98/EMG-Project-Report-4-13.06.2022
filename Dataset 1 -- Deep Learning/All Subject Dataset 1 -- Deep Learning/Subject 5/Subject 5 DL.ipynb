{
 "cells": [
  {
   "cell_type": "markdown",
   "id": "bf8ee932",
   "metadata": {},
   "source": [
    "# Importing Libraries"
   ]
  },
  {
   "cell_type": "code",
   "execution_count": 1,
   "id": "0f663fa8",
   "metadata": {},
   "outputs": [],
   "source": [
    "import numpy as np\n",
    "import pandas as pd\n",
    "import matplotlib.pyplot as plt\n",
    "import seaborn as sns\n",
    "from sklearn.model_selection import train_test_split"
   ]
  },
  {
   "cell_type": "markdown",
   "id": "511af272",
   "metadata": {},
   "source": [
    "# Loading Data"
   ]
  },
  {
   "cell_type": "code",
   "execution_count": 2,
   "id": "04fd19b0",
   "metadata": {},
   "outputs": [
    {
     "data": {
      "text/html": [
       "<div>\n",
       "<style scoped>\n",
       "    .dataframe tbody tr th:only-of-type {\n",
       "        vertical-align: middle;\n",
       "    }\n",
       "\n",
       "    .dataframe tbody tr th {\n",
       "        vertical-align: top;\n",
       "    }\n",
       "\n",
       "    .dataframe thead th {\n",
       "        text-align: right;\n",
       "    }\n",
       "</style>\n",
       "<table border=\"1\" class=\"dataframe\">\n",
       "  <thead>\n",
       "    <tr style=\"text-align: right;\">\n",
       "      <th></th>\n",
       "      <th>Emg1</th>\n",
       "      <th>Emg2</th>\n",
       "      <th>Emg3</th>\n",
       "      <th>Emg4</th>\n",
       "      <th>Emg5</th>\n",
       "      <th>Emg6</th>\n",
       "      <th>Emg7</th>\n",
       "      <th>Emg8</th>\n",
       "      <th>Emg9</th>\n",
       "      <th>Emg10</th>\n",
       "      <th>repetition</th>\n",
       "      <th>rerepetition</th>\n",
       "      <th>stimulus</th>\n",
       "      <th>restimulus</th>\n",
       "    </tr>\n",
       "  </thead>\n",
       "  <tbody>\n",
       "    <tr>\n",
       "      <th>338592</th>\n",
       "      <td>0.0024</td>\n",
       "      <td>0.0879</td>\n",
       "      <td>0.0073</td>\n",
       "      <td>0.0024</td>\n",
       "      <td>0.0122</td>\n",
       "      <td>0.0488</td>\n",
       "      <td>0.4370</td>\n",
       "      <td>0.7397</td>\n",
       "      <td>0.2441</td>\n",
       "      <td>0.4248</td>\n",
       "      <td>3</td>\n",
       "      <td>3</td>\n",
       "      <td>11</td>\n",
       "      <td>11</td>\n",
       "    </tr>\n",
       "    <tr>\n",
       "      <th>122072</th>\n",
       "      <td>0.0024</td>\n",
       "      <td>0.0391</td>\n",
       "      <td>0.0244</td>\n",
       "      <td>0.0854</td>\n",
       "      <td>0.0049</td>\n",
       "      <td>0.0098</td>\n",
       "      <td>0.1929</td>\n",
       "      <td>0.4150</td>\n",
       "      <td>0.1318</td>\n",
       "      <td>0.4639</td>\n",
       "      <td>0</td>\n",
       "      <td>0</td>\n",
       "      <td>0</td>\n",
       "      <td>0</td>\n",
       "    </tr>\n",
       "    <tr>\n",
       "      <th>188418</th>\n",
       "      <td>0.0024</td>\n",
       "      <td>0.2930</td>\n",
       "      <td>0.0073</td>\n",
       "      <td>0.0024</td>\n",
       "      <td>0.0049</td>\n",
       "      <td>0.0073</td>\n",
       "      <td>0.2393</td>\n",
       "      <td>0.3320</td>\n",
       "      <td>0.1953</td>\n",
       "      <td>0.2588</td>\n",
       "      <td>5</td>\n",
       "      <td>5</td>\n",
       "      <td>11</td>\n",
       "      <td>11</td>\n",
       "    </tr>\n",
       "    <tr>\n",
       "      <th>231585</th>\n",
       "      <td>0.0024</td>\n",
       "      <td>0.9106</td>\n",
       "      <td>0.2686</td>\n",
       "      <td>0.0562</td>\n",
       "      <td>0.0171</td>\n",
       "      <td>0.0391</td>\n",
       "      <td>0.1733</td>\n",
       "      <td>0.4980</td>\n",
       "      <td>0.1660</td>\n",
       "      <td>0.3271</td>\n",
       "      <td>0</td>\n",
       "      <td>6</td>\n",
       "      <td>0</td>\n",
       "      <td>16</td>\n",
       "    </tr>\n",
       "    <tr>\n",
       "      <th>143215</th>\n",
       "      <td>0.0024</td>\n",
       "      <td>0.1660</td>\n",
       "      <td>0.0024</td>\n",
       "      <td>0.0024</td>\n",
       "      <td>0.0024</td>\n",
       "      <td>0.0024</td>\n",
       "      <td>0.0806</td>\n",
       "      <td>0.2686</td>\n",
       "      <td>0.0073</td>\n",
       "      <td>0.3027</td>\n",
       "      <td>1</td>\n",
       "      <td>0</td>\n",
       "      <td>6</td>\n",
       "      <td>0</td>\n",
       "    </tr>\n",
       "  </tbody>\n",
       "</table>\n",
       "</div>"
      ],
      "text/plain": [
       "          Emg1    Emg2    Emg3    Emg4    Emg5    Emg6    Emg7    Emg8  \\\n",
       "338592  0.0024  0.0879  0.0073  0.0024  0.0122  0.0488  0.4370  0.7397   \n",
       "122072  0.0024  0.0391  0.0244  0.0854  0.0049  0.0098  0.1929  0.4150   \n",
       "188418  0.0024  0.2930  0.0073  0.0024  0.0049  0.0073  0.2393  0.3320   \n",
       "231585  0.0024  0.9106  0.2686  0.0562  0.0171  0.0391  0.1733  0.4980   \n",
       "143215  0.0024  0.1660  0.0024  0.0024  0.0024  0.0024  0.0806  0.2686   \n",
       "\n",
       "          Emg9   Emg10  repetition  rerepetition  stimulus  restimulus  \n",
       "338592  0.2441  0.4248           3             3        11          11  \n",
       "122072  0.1318  0.4639           0             0         0           0  \n",
       "188418  0.1953  0.2588           5             5        11          11  \n",
       "231585  0.1660  0.3271           0             6         0          16  \n",
       "143215  0.0073  0.3027           1             0         6           0  "
      ]
     },
     "execution_count": 2,
     "metadata": {},
     "output_type": "execute_result"
    }
   ],
   "source": [
    "raw_data = pd.read_excel('Dataset 1 Patient 5.xlsx')\n",
    "raw_data.sample(5)"
   ]
  },
  {
   "cell_type": "code",
   "execution_count": 3,
   "id": "80369ddb",
   "metadata": {},
   "outputs": [
    {
     "name": "stdout",
     "output_type": "stream",
     "text": [
      "<class 'pandas.core.frame.DataFrame'>\n",
      "RangeIndex: 457542 entries, 0 to 457541\n",
      "Data columns (total 14 columns):\n",
      " #   Column        Non-Null Count   Dtype  \n",
      "---  ------        --------------   -----  \n",
      " 0   Emg1          457542 non-null  float64\n",
      " 1   Emg2          457542 non-null  float64\n",
      " 2   Emg3          457542 non-null  float64\n",
      " 3   Emg4          457542 non-null  float64\n",
      " 4   Emg5          457542 non-null  float64\n",
      " 5   Emg6          457542 non-null  float64\n",
      " 6   Emg7          457542 non-null  float64\n",
      " 7   Emg8          457542 non-null  float64\n",
      " 8   Emg9          457542 non-null  float64\n",
      " 9   Emg10         457542 non-null  float64\n",
      " 10  repetition    457542 non-null  int64  \n",
      " 11  rerepetition  457542 non-null  int64  \n",
      " 12  stimulus      457542 non-null  int64  \n",
      " 13  restimulus    457542 non-null  int64  \n",
      "dtypes: float64(10), int64(4)\n",
      "memory usage: 48.9 MB\n"
     ]
    }
   ],
   "source": [
    "raw_data.info()"
   ]
  },
  {
   "cell_type": "code",
   "execution_count": 4,
   "id": "109445f8",
   "metadata": {},
   "outputs": [
    {
     "data": {
      "text/html": [
       "<div>\n",
       "<style scoped>\n",
       "    .dataframe tbody tr th:only-of-type {\n",
       "        vertical-align: middle;\n",
       "    }\n",
       "\n",
       "    .dataframe tbody tr th {\n",
       "        vertical-align: top;\n",
       "    }\n",
       "\n",
       "    .dataframe thead th {\n",
       "        text-align: right;\n",
       "    }\n",
       "</style>\n",
       "<table border=\"1\" class=\"dataframe\">\n",
       "  <thead>\n",
       "    <tr style=\"text-align: right;\">\n",
       "      <th></th>\n",
       "      <th>Emg1</th>\n",
       "      <th>Emg2</th>\n",
       "      <th>Emg3</th>\n",
       "      <th>Emg4</th>\n",
       "      <th>Emg5</th>\n",
       "      <th>Emg6</th>\n",
       "      <th>Emg7</th>\n",
       "      <th>Emg8</th>\n",
       "      <th>Emg9</th>\n",
       "      <th>Emg10</th>\n",
       "      <th>repetition</th>\n",
       "      <th>rerepetition</th>\n",
       "      <th>stimulus</th>\n",
       "      <th>restimulus</th>\n",
       "    </tr>\n",
       "  </thead>\n",
       "  <tbody>\n",
       "    <tr>\n",
       "      <th>count</th>\n",
       "      <td>457542.000000</td>\n",
       "      <td>457542.000000</td>\n",
       "      <td>457542.000000</td>\n",
       "      <td>457542.000000</td>\n",
       "      <td>457542.000000</td>\n",
       "      <td>457542.000000</td>\n",
       "      <td>457542.000000</td>\n",
       "      <td>457542.000000</td>\n",
       "      <td>457542.000000</td>\n",
       "      <td>457542.000000</td>\n",
       "      <td>457542.000000</td>\n",
       "      <td>457542.000000</td>\n",
       "      <td>457542.000000</td>\n",
       "      <td>457542.000000</td>\n",
       "    </tr>\n",
       "    <tr>\n",
       "      <th>mean</th>\n",
       "      <td>0.003303</td>\n",
       "      <td>0.278760</td>\n",
       "      <td>0.177623</td>\n",
       "      <td>0.155209</td>\n",
       "      <td>0.042417</td>\n",
       "      <td>0.048302</td>\n",
       "      <td>0.324129</td>\n",
       "      <td>0.496742</td>\n",
       "      <td>0.163677</td>\n",
       "      <td>0.330758</td>\n",
       "      <td>3.221488</td>\n",
       "      <td>2.608939</td>\n",
       "      <td>5.708877</td>\n",
       "      <td>4.624408</td>\n",
       "    </tr>\n",
       "    <tr>\n",
       "      <th>std</th>\n",
       "      <td>0.006182</td>\n",
       "      <td>0.430364</td>\n",
       "      <td>0.444744</td>\n",
       "      <td>0.347002</td>\n",
       "      <td>0.092262</td>\n",
       "      <td>0.096046</td>\n",
       "      <td>0.482787</td>\n",
       "      <td>0.504943</td>\n",
       "      <td>0.181937</td>\n",
       "      <td>0.293560</td>\n",
       "      <td>3.489071</td>\n",
       "      <td>3.373117</td>\n",
       "      <td>6.594250</td>\n",
       "      <td>6.359818</td>\n",
       "    </tr>\n",
       "    <tr>\n",
       "      <th>min</th>\n",
       "      <td>0.000000</td>\n",
       "      <td>0.000000</td>\n",
       "      <td>0.002400</td>\n",
       "      <td>0.002400</td>\n",
       "      <td>0.002400</td>\n",
       "      <td>0.000000</td>\n",
       "      <td>0.002400</td>\n",
       "      <td>0.002400</td>\n",
       "      <td>0.000000</td>\n",
       "      <td>0.002400</td>\n",
       "      <td>0.000000</td>\n",
       "      <td>0.000000</td>\n",
       "      <td>0.000000</td>\n",
       "      <td>0.000000</td>\n",
       "    </tr>\n",
       "    <tr>\n",
       "      <th>25%</th>\n",
       "      <td>0.002400</td>\n",
       "      <td>0.012200</td>\n",
       "      <td>0.002400</td>\n",
       "      <td>0.002400</td>\n",
       "      <td>0.002400</td>\n",
       "      <td>0.002400</td>\n",
       "      <td>0.097700</td>\n",
       "      <td>0.214800</td>\n",
       "      <td>0.034200</td>\n",
       "      <td>0.173300</td>\n",
       "      <td>0.000000</td>\n",
       "      <td>0.000000</td>\n",
       "      <td>0.000000</td>\n",
       "      <td>0.000000</td>\n",
       "    </tr>\n",
       "    <tr>\n",
       "      <th>50%</th>\n",
       "      <td>0.002400</td>\n",
       "      <td>0.144000</td>\n",
       "      <td>0.026900</td>\n",
       "      <td>0.007300</td>\n",
       "      <td>0.002400</td>\n",
       "      <td>0.009800</td>\n",
       "      <td>0.175800</td>\n",
       "      <td>0.341800</td>\n",
       "      <td>0.105000</td>\n",
       "      <td>0.249000</td>\n",
       "      <td>2.000000</td>\n",
       "      <td>0.000000</td>\n",
       "      <td>3.000000</td>\n",
       "      <td>0.000000</td>\n",
       "    </tr>\n",
       "    <tr>\n",
       "      <th>75%</th>\n",
       "      <td>0.002400</td>\n",
       "      <td>0.354000</td>\n",
       "      <td>0.161100</td>\n",
       "      <td>0.170900</td>\n",
       "      <td>0.039100</td>\n",
       "      <td>0.048800</td>\n",
       "      <td>0.329600</td>\n",
       "      <td>0.585900</td>\n",
       "      <td>0.236800</td>\n",
       "      <td>0.378400</td>\n",
       "      <td>6.000000</td>\n",
       "      <td>5.000000</td>\n",
       "      <td>10.000000</td>\n",
       "      <td>9.000000</td>\n",
       "    </tr>\n",
       "    <tr>\n",
       "      <th>max</th>\n",
       "      <td>0.593300</td>\n",
       "      <td>4.665500</td>\n",
       "      <td>4.660600</td>\n",
       "      <td>4.665500</td>\n",
       "      <td>1.369600</td>\n",
       "      <td>1.420900</td>\n",
       "      <td>4.665500</td>\n",
       "      <td>4.668000</td>\n",
       "      <td>2.927200</td>\n",
       "      <td>3.752400</td>\n",
       "      <td>10.000000</td>\n",
       "      <td>10.000000</td>\n",
       "      <td>23.000000</td>\n",
       "      <td>23.000000</td>\n",
       "    </tr>\n",
       "  </tbody>\n",
       "</table>\n",
       "</div>"
      ],
      "text/plain": [
       "                Emg1           Emg2           Emg3           Emg4  \\\n",
       "count  457542.000000  457542.000000  457542.000000  457542.000000   \n",
       "mean        0.003303       0.278760       0.177623       0.155209   \n",
       "std         0.006182       0.430364       0.444744       0.347002   \n",
       "min         0.000000       0.000000       0.002400       0.002400   \n",
       "25%         0.002400       0.012200       0.002400       0.002400   \n",
       "50%         0.002400       0.144000       0.026900       0.007300   \n",
       "75%         0.002400       0.354000       0.161100       0.170900   \n",
       "max         0.593300       4.665500       4.660600       4.665500   \n",
       "\n",
       "                Emg5           Emg6           Emg7           Emg8  \\\n",
       "count  457542.000000  457542.000000  457542.000000  457542.000000   \n",
       "mean        0.042417       0.048302       0.324129       0.496742   \n",
       "std         0.092262       0.096046       0.482787       0.504943   \n",
       "min         0.002400       0.000000       0.002400       0.002400   \n",
       "25%         0.002400       0.002400       0.097700       0.214800   \n",
       "50%         0.002400       0.009800       0.175800       0.341800   \n",
       "75%         0.039100       0.048800       0.329600       0.585900   \n",
       "max         1.369600       1.420900       4.665500       4.668000   \n",
       "\n",
       "                Emg9          Emg10     repetition   rerepetition  \\\n",
       "count  457542.000000  457542.000000  457542.000000  457542.000000   \n",
       "mean        0.163677       0.330758       3.221488       2.608939   \n",
       "std         0.181937       0.293560       3.489071       3.373117   \n",
       "min         0.000000       0.002400       0.000000       0.000000   \n",
       "25%         0.034200       0.173300       0.000000       0.000000   \n",
       "50%         0.105000       0.249000       2.000000       0.000000   \n",
       "75%         0.236800       0.378400       6.000000       5.000000   \n",
       "max         2.927200       3.752400      10.000000      10.000000   \n",
       "\n",
       "            stimulus     restimulus  \n",
       "count  457542.000000  457542.000000  \n",
       "mean        5.708877       4.624408  \n",
       "std         6.594250       6.359818  \n",
       "min         0.000000       0.000000  \n",
       "25%         0.000000       0.000000  \n",
       "50%         3.000000       0.000000  \n",
       "75%        10.000000       9.000000  \n",
       "max        23.000000      23.000000  "
      ]
     },
     "execution_count": 4,
     "metadata": {},
     "output_type": "execute_result"
    }
   ],
   "source": [
    "raw_data.describe(include='all')"
   ]
  },
  {
   "cell_type": "code",
   "execution_count": 5,
   "id": "f0b9a2e6",
   "metadata": {},
   "outputs": [
    {
     "name": "stdout",
     "output_type": "stream",
     "text": [
      "Unique Dependent values and their counts :\n",
      "0     189565\n",
      "8      15503\n",
      "7      15495\n",
      "12     15495\n",
      "2      15495\n",
      "4      15488\n",
      "5      15469\n",
      "6      15461\n",
      "9      15451\n",
      "11     15451\n",
      "10     15424\n",
      "3      15422\n",
      "1      15421\n",
      "13     10331\n",
      "14     10330\n",
      "17     10321\n",
      "15     10293\n",
      "16     10254\n",
      "19      5163\n",
      "21      5163\n",
      "18      5161\n",
      "22      5135\n",
      "20      5126\n",
      "23      5125\n",
      "Name: stimulus, dtype: int64\n"
     ]
    }
   ],
   "source": [
    "print(\"Unique Dependent values and their counts :\")\n",
    "print(raw_data[\"stimulus\"].value_counts())"
   ]
  },
  {
   "cell_type": "markdown",
   "id": "54420ec4",
   "metadata": {},
   "source": [
    "# Data Cleaning"
   ]
  },
  {
   "cell_type": "code",
   "execution_count": 6,
   "id": "a811198b",
   "metadata": {},
   "outputs": [],
   "source": [
    "index_names = raw_data[ (raw_data['stimulus'] != raw_data['restimulus'])].index\n",
    "raw_data.drop(index_names, inplace = True)"
   ]
  },
  {
   "cell_type": "code",
   "execution_count": 7,
   "id": "556cd92f",
   "metadata": {},
   "outputs": [],
   "source": [
    "index_names = raw_data[ (raw_data['repetition'] != raw_data['rerepetition'])].index\n",
    "raw_data.drop(index_names, inplace = True)"
   ]
  },
  {
   "cell_type": "code",
   "execution_count": 8,
   "id": "c91744f7",
   "metadata": {},
   "outputs": [],
   "source": [
    "X = raw_data.iloc[:,0:10]\n",
    "y = raw_data.stimulus"
   ]
  },
  {
   "cell_type": "markdown",
   "id": "152f7160",
   "metadata": {},
   "source": [
    "# One Hot Encoding"
   ]
  },
  {
   "cell_type": "code",
   "execution_count": 9,
   "id": "dfb77d24",
   "metadata": {},
   "outputs": [],
   "source": [
    "num_classes = 24"
   ]
  },
  {
   "cell_type": "code",
   "execution_count": 10,
   "id": "be64bf6b",
   "metadata": {},
   "outputs": [],
   "source": [
    "# One hot encoding for categorical labels\n",
    "import keras\n",
    "from keras import utils as np_utils\n",
    "y = keras.utils.np_utils.to_categorical(y, num_classes)"
   ]
  },
  {
   "cell_type": "code",
   "execution_count": 11,
   "id": "c7358f86",
   "metadata": {},
   "outputs": [],
   "source": [
    "input_dim = X.shape[1]"
   ]
  },
  {
   "cell_type": "markdown",
   "id": "cb3088a1",
   "metadata": {},
   "source": [
    "# Standard Scaler"
   ]
  },
  {
   "cell_type": "code",
   "execution_count": 12,
   "id": "5bd820f4",
   "metadata": {},
   "outputs": [],
   "source": [
    "from sklearn.preprocessing import StandardScaler\n",
    "standardscaler=StandardScaler()"
   ]
  },
  {
   "cell_type": "code",
   "execution_count": 13,
   "id": "6a118694",
   "metadata": {},
   "outputs": [],
   "source": [
    "sc = pd.DataFrame(standardscaler.fit_transform(X))"
   ]
  },
  {
   "cell_type": "code",
   "execution_count": 14,
   "id": "d6e2f38b",
   "metadata": {},
   "outputs": [
    {
     "data": {
      "text/html": [
       "<div>\n",
       "<style scoped>\n",
       "    .dataframe tbody tr th:only-of-type {\n",
       "        vertical-align: middle;\n",
       "    }\n",
       "\n",
       "    .dataframe tbody tr th {\n",
       "        vertical-align: top;\n",
       "    }\n",
       "\n",
       "    .dataframe thead th {\n",
       "        text-align: right;\n",
       "    }\n",
       "</style>\n",
       "<table border=\"1\" class=\"dataframe\">\n",
       "  <thead>\n",
       "    <tr style=\"text-align: right;\">\n",
       "      <th></th>\n",
       "      <th>0</th>\n",
       "      <th>1</th>\n",
       "      <th>2</th>\n",
       "      <th>3</th>\n",
       "      <th>4</th>\n",
       "      <th>5</th>\n",
       "      <th>6</th>\n",
       "      <th>7</th>\n",
       "      <th>8</th>\n",
       "      <th>9</th>\n",
       "    </tr>\n",
       "  </thead>\n",
       "  <tbody>\n",
       "    <tr>\n",
       "      <th>0</th>\n",
       "      <td>-0.142904</td>\n",
       "      <td>-0.391311</td>\n",
       "      <td>-0.394138</td>\n",
       "      <td>-0.399275</td>\n",
       "      <td>-0.301307</td>\n",
       "      <td>-0.090992</td>\n",
       "      <td>0.181893</td>\n",
       "      <td>0.058396</td>\n",
       "      <td>0.824933</td>\n",
       "      <td>0.528107</td>\n",
       "    </tr>\n",
       "    <tr>\n",
       "      <th>1</th>\n",
       "      <td>-0.142904</td>\n",
       "      <td>-0.444583</td>\n",
       "      <td>-0.409329</td>\n",
       "      <td>-0.418901</td>\n",
       "      <td>-0.301307</td>\n",
       "      <td>-0.115216</td>\n",
       "      <td>0.148934</td>\n",
       "      <td>0.003920</td>\n",
       "      <td>0.812102</td>\n",
       "      <td>0.473246</td>\n",
       "    </tr>\n",
       "    <tr>\n",
       "      <th>2</th>\n",
       "      <td>-0.142904</td>\n",
       "      <td>-0.503313</td>\n",
       "      <td>-0.424728</td>\n",
       "      <td>-0.445249</td>\n",
       "      <td>-0.325507</td>\n",
       "      <td>-0.161727</td>\n",
       "      <td>0.092459</td>\n",
       "      <td>-0.064313</td>\n",
       "      <td>0.824933</td>\n",
       "      <td>0.418384</td>\n",
       "    </tr>\n",
       "    <tr>\n",
       "      <th>3</th>\n",
       "      <td>-0.142904</td>\n",
       "      <td>-0.556585</td>\n",
       "      <td>-0.424728</td>\n",
       "      <td>-0.458422</td>\n",
       "      <td>-0.350715</td>\n",
       "      <td>-0.209206</td>\n",
       "      <td>0.050056</td>\n",
       "      <td>-0.123251</td>\n",
       "      <td>0.812102</td>\n",
       "      <td>0.324381</td>\n",
       "    </tr>\n",
       "    <tr>\n",
       "      <th>4</th>\n",
       "      <td>-0.142904</td>\n",
       "      <td>-0.599158</td>\n",
       "      <td>-0.424728</td>\n",
       "      <td>-0.464875</td>\n",
       "      <td>-0.374915</td>\n",
       "      <td>-0.233430</td>\n",
       "      <td>0.031359</td>\n",
       "      <td>-0.118603</td>\n",
       "      <td>0.851131</td>\n",
       "      <td>0.308660</td>\n",
       "    </tr>\n",
       "    <tr>\n",
       "      <th>...</th>\n",
       "      <td>...</td>\n",
       "      <td>...</td>\n",
       "      <td>...</td>\n",
       "      <td>...</td>\n",
       "      <td>...</td>\n",
       "      <td>...</td>\n",
       "      <td>...</td>\n",
       "      <td>...</td>\n",
       "      <td>...</td>\n",
       "      <td>...</td>\n",
       "    </tr>\n",
       "    <tr>\n",
       "      <th>381500</th>\n",
       "      <td>-0.142904</td>\n",
       "      <td>-0.620554</td>\n",
       "      <td>-0.424728</td>\n",
       "      <td>-0.471596</td>\n",
       "      <td>-0.473730</td>\n",
       "      <td>-0.517335</td>\n",
       "      <td>-0.354517</td>\n",
       "      <td>-0.908587</td>\n",
       "      <td>-0.375879</td>\n",
       "      <td>-0.850497</td>\n",
       "    </tr>\n",
       "    <tr>\n",
       "      <th>381501</th>\n",
       "      <td>-0.142904</td>\n",
       "      <td>-0.620554</td>\n",
       "      <td>-0.424728</td>\n",
       "      <td>-0.471596</td>\n",
       "      <td>-0.473730</td>\n",
       "      <td>-0.493111</td>\n",
       "      <td>-0.373406</td>\n",
       "      <td>-0.913049</td>\n",
       "      <td>-0.388711</td>\n",
       "      <td>-0.858196</td>\n",
       "    </tr>\n",
       "    <tr>\n",
       "      <th>381502</th>\n",
       "      <td>-0.142904</td>\n",
       "      <td>-0.631252</td>\n",
       "      <td>-0.424728</td>\n",
       "      <td>-0.471596</td>\n",
       "      <td>-0.473730</td>\n",
       "      <td>-0.445632</td>\n",
       "      <td>-0.382850</td>\n",
       "      <td>-0.913049</td>\n",
       "      <td>-0.402077</td>\n",
       "      <td>-0.850497</td>\n",
       "    </tr>\n",
       "    <tr>\n",
       "      <th>381503</th>\n",
       "      <td>-0.142904</td>\n",
       "      <td>-0.641950</td>\n",
       "      <td>-0.424728</td>\n",
       "      <td>-0.471596</td>\n",
       "      <td>-0.473730</td>\n",
       "      <td>-0.422377</td>\n",
       "      <td>-0.401547</td>\n",
       "      <td>-0.922159</td>\n",
       "      <td>-0.428274</td>\n",
       "      <td>-0.842797</td>\n",
       "    </tr>\n",
       "    <tr>\n",
       "      <th>381504</th>\n",
       "      <td>-0.142904</td>\n",
       "      <td>-0.657888</td>\n",
       "      <td>-0.424728</td>\n",
       "      <td>-0.471596</td>\n",
       "      <td>-0.473730</td>\n",
       "      <td>-0.327419</td>\n",
       "      <td>-0.415810</td>\n",
       "      <td>-0.926622</td>\n",
       "      <td>-0.441106</td>\n",
       "      <td>-0.842797</td>\n",
       "    </tr>\n",
       "  </tbody>\n",
       "</table>\n",
       "<p>381505 rows × 10 columns</p>\n",
       "</div>"
      ],
      "text/plain": [
       "               0         1         2         3         4         5         6  \\\n",
       "0      -0.142904 -0.391311 -0.394138 -0.399275 -0.301307 -0.090992  0.181893   \n",
       "1      -0.142904 -0.444583 -0.409329 -0.418901 -0.301307 -0.115216  0.148934   \n",
       "2      -0.142904 -0.503313 -0.424728 -0.445249 -0.325507 -0.161727  0.092459   \n",
       "3      -0.142904 -0.556585 -0.424728 -0.458422 -0.350715 -0.209206  0.050056   \n",
       "4      -0.142904 -0.599158 -0.424728 -0.464875 -0.374915 -0.233430  0.031359   \n",
       "...          ...       ...       ...       ...       ...       ...       ...   \n",
       "381500 -0.142904 -0.620554 -0.424728 -0.471596 -0.473730 -0.517335 -0.354517   \n",
       "381501 -0.142904 -0.620554 -0.424728 -0.471596 -0.473730 -0.493111 -0.373406   \n",
       "381502 -0.142904 -0.631252 -0.424728 -0.471596 -0.473730 -0.445632 -0.382850   \n",
       "381503 -0.142904 -0.641950 -0.424728 -0.471596 -0.473730 -0.422377 -0.401547   \n",
       "381504 -0.142904 -0.657888 -0.424728 -0.471596 -0.473730 -0.327419 -0.415810   \n",
       "\n",
       "               7         8         9  \n",
       "0       0.058396  0.824933  0.528107  \n",
       "1       0.003920  0.812102  0.473246  \n",
       "2      -0.064313  0.824933  0.418384  \n",
       "3      -0.123251  0.812102  0.324381  \n",
       "4      -0.118603  0.851131  0.308660  \n",
       "...          ...       ...       ...  \n",
       "381500 -0.908587 -0.375879 -0.850497  \n",
       "381501 -0.913049 -0.388711 -0.858196  \n",
       "381502 -0.913049 -0.402077 -0.850497  \n",
       "381503 -0.922159 -0.428274 -0.842797  \n",
       "381504 -0.926622 -0.441106 -0.842797  \n",
       "\n",
       "[381505 rows x 10 columns]"
      ]
     },
     "execution_count": 14,
     "metadata": {},
     "output_type": "execute_result"
    }
   ],
   "source": [
    "sc"
   ]
  },
  {
   "cell_type": "code",
   "execution_count": 15,
   "id": "65cfb75d",
   "metadata": {},
   "outputs": [],
   "source": [
    "# Splitting data for training and testing\n",
    "X_train, X_test, y_train, y_test = train_test_split(sc, y, test_size = 0.2, random_state = 39)"
   ]
  },
  {
   "cell_type": "markdown",
   "id": "3ba47781",
   "metadata": {},
   "source": [
    "# Deep Learning "
   ]
  },
  {
   "cell_type": "code",
   "execution_count": 16,
   "id": "d426e2e1",
   "metadata": {},
   "outputs": [],
   "source": [
    "from sklearn.preprocessing import MinMaxScaler\n",
    "from tensorflow.keras.models import Model\n",
    "from tensorflow.keras.layers import Input\n",
    "from tensorflow.keras.layers import Dense\n",
    "from tensorflow.keras.layers import LeakyReLU,ELU\n",
    "from tensorflow.keras.layers import BatchNormalization\n",
    "from tensorflow.keras.utils import plot_model\n",
    "import tensorflow as tf\n",
    "from sklearn.model_selection import cross_val_score\n",
    "from keras.models import Sequential\n",
    "from keras.layers import Dense, BatchNormalization, Dropout\n",
    "from tensorflow.keras.optimizers import Adam, SGD, RMSprop, Adadelta, Adagrad, Adamax, Nadam, Ftrl\n",
    "from keras.callbacks import EarlyStopping, ModelCheckpoint\n",
    "from keras.wrappers.scikit_learn import KerasClassifier\n",
    "from sklearn.metrics import make_scorer, accuracy_score\n",
    "from sklearn.model_selection import StratifiedKFold"
   ]
  },
  {
   "cell_type": "code",
   "execution_count": 17,
   "id": "cd0ef208",
   "metadata": {},
   "outputs": [],
   "source": [
    "from keras.layers import LeakyReLU\n",
    "LeakyReLU = LeakyReLU(alpha=0.1)\n",
    "from keras.models import Sequential\n",
    "from keras.layers import Dense, Flatten, Convolution1D, Dropout\n",
    "from keras.initializers import random_uniform"
   ]
  },
  {
   "cell_type": "markdown",
   "id": "f97d61bc",
   "metadata": {},
   "source": [
    "# 1. Define Network"
   ]
  },
  {
   "cell_type": "code",
   "execution_count": 18,
   "id": "bd77bf81",
   "metadata": {},
   "outputs": [],
   "source": [
    "num_classes = 24\n",
    "input_dim = X.shape[1]"
   ]
  },
  {
   "cell_type": "code",
   "execution_count": 19,
   "id": "fbdce465",
   "metadata": {},
   "outputs": [],
   "source": [
    "visible = Input(shape=(input_dim,))\n",
    "hidden1 = Dense(3000, activation='relu')(visible)\n",
    "hidden2 = Dense(1500, activation='relu')(hidden1)\n",
    "hidden3 = Dropout(0.2)(hidden2)\n",
    "hidden4 = Dense(750, activation='relu')(hidden3)\n",
    "hidden5 = Dense(375, activation='relu')(hidden4)\n",
    "hidden6 = Dense(48, activation='relu')(hidden5)\n",
    "output = Dense(num_classes, activation='softmax')(hidden6)\n",
    "model = Model(inputs=visible, outputs=output)"
   ]
  },
  {
   "cell_type": "code",
   "execution_count": 20,
   "id": "1dd33478",
   "metadata": {},
   "outputs": [
    {
     "name": "stdout",
     "output_type": "stream",
     "text": [
      "Model: \"model\"\n",
      "_________________________________________________________________\n",
      " Layer (type)                Output Shape              Param #   \n",
      "=================================================================\n",
      " input_1 (InputLayer)        [(None, 10)]              0         \n",
      "                                                                 \n",
      " dense (Dense)               (None, 3000)              33000     \n",
      "                                                                 \n",
      " dense_1 (Dense)             (None, 1500)              4501500   \n",
      "                                                                 \n",
      " dropout (Dropout)           (None, 1500)              0         \n",
      "                                                                 \n",
      " dense_2 (Dense)             (None, 750)               1125750   \n",
      "                                                                 \n",
      " dense_3 (Dense)             (None, 375)               281625    \n",
      "                                                                 \n",
      " dense_4 (Dense)             (None, 48)                18048     \n",
      "                                                                 \n",
      " dense_5 (Dense)             (None, 24)                1176      \n",
      "                                                                 \n",
      "=================================================================\n",
      "Total params: 5,961,099\n",
      "Trainable params: 5,961,099\n",
      "Non-trainable params: 0\n",
      "_________________________________________________________________\n"
     ]
    }
   ],
   "source": [
    "model.summary()"
   ]
  },
  {
   "cell_type": "markdown",
   "id": "3196ac97",
   "metadata": {},
   "source": [
    "# 2. Compile Network"
   ]
  },
  {
   "cell_type": "code",
   "execution_count": 21,
   "id": "7a2d558b",
   "metadata": {},
   "outputs": [],
   "source": [
    "model.compile(optimizer='adam', loss='categorical_crossentropy', metrics=['accuracy'])"
   ]
  },
  {
   "cell_type": "code",
   "execution_count": 22,
   "id": "c1d2b36d",
   "metadata": {},
   "outputs": [
    {
     "name": "stdout",
     "output_type": "stream",
     "text": [
      "You must install pydot (`pip install pydot`) and install graphviz (see instructions at https://graphviz.gitlab.io/download/) for plot_model/model_to_dot to work.\n"
     ]
    }
   ],
   "source": [
    "plot_model(model, 'EMG_ANN', show_shapes = True)"
   ]
  },
  {
   "cell_type": "markdown",
   "id": "3358b592",
   "metadata": {},
   "source": [
    "# 3. Fit Network"
   ]
  },
  {
   "cell_type": "code",
   "execution_count": 23,
   "id": "e0ed4ddd",
   "metadata": {},
   "outputs": [
    {
     "name": "stdout",
     "output_type": "stream",
     "text": [
      "Epoch 1/100\n",
      "76/76 [==============================] - 3s 28ms/step - loss: 1.6143 - accuracy: 0.5726 - val_loss: 1.2093 - val_accuracy: 0.6592\n",
      "Epoch 2/100\n",
      "76/76 [==============================] - 2s 25ms/step - loss: 1.0809 - accuracy: 0.6913 - val_loss: 0.9560 - val_accuracy: 0.7238\n",
      "Epoch 3/100\n",
      "76/76 [==============================] - 2s 25ms/step - loss: 0.9067 - accuracy: 0.7358 - val_loss: 0.8271 - val_accuracy: 0.7588\n",
      "Epoch 4/100\n",
      "76/76 [==============================] - 2s 26ms/step - loss: 0.8028 - accuracy: 0.7624 - val_loss: 0.7594 - val_accuracy: 0.7760\n",
      "Epoch 5/100\n",
      "76/76 [==============================] - 2s 25ms/step - loss: 0.7427 - accuracy: 0.7787 - val_loss: 0.6978 - val_accuracy: 0.7887\n",
      "Epoch 6/100\n",
      "76/76 [==============================] - 2s 25ms/step - loss: 0.6895 - accuracy: 0.7923 - val_loss: 0.6568 - val_accuracy: 0.8024\n",
      "Epoch 7/100\n",
      "76/76 [==============================] - 2s 25ms/step - loss: 0.6423 - accuracy: 0.8043 - val_loss: 0.6352 - val_accuracy: 0.8076\n",
      "Epoch 8/100\n",
      "76/76 [==============================] - 2s 25ms/step - loss: 0.6089 - accuracy: 0.8126 - val_loss: 0.5888 - val_accuracy: 0.8190\n",
      "Epoch 9/100\n",
      "76/76 [==============================] - 2s 25ms/step - loss: 0.5790 - accuracy: 0.8206 - val_loss: 0.5783 - val_accuracy: 0.8219\n",
      "Epoch 10/100\n",
      "76/76 [==============================] - 2s 26ms/step - loss: 0.5569 - accuracy: 0.8264 - val_loss: 0.5431 - val_accuracy: 0.8330\n",
      "Epoch 11/100\n",
      "76/76 [==============================] - 2s 27ms/step - loss: 0.5262 - accuracy: 0.8351 - val_loss: 0.5257 - val_accuracy: 0.8370\n",
      "Epoch 12/100\n",
      "76/76 [==============================] - 2s 26ms/step - loss: 0.5051 - accuracy: 0.8409 - val_loss: 0.5158 - val_accuracy: 0.8405\n",
      "Epoch 13/100\n",
      "76/76 [==============================] - 2s 26ms/step - loss: 0.4867 - accuracy: 0.8460 - val_loss: 0.4909 - val_accuracy: 0.8460\n",
      "Epoch 14/100\n",
      "76/76 [==============================] - 2s 27ms/step - loss: 0.4676 - accuracy: 0.8520 - val_loss: 0.4657 - val_accuracy: 0.8541\n",
      "Epoch 15/100\n",
      "76/76 [==============================] - 2s 26ms/step - loss: 0.4503 - accuracy: 0.8568 - val_loss: 0.4432 - val_accuracy: 0.8604\n",
      "Epoch 16/100\n",
      "76/76 [==============================] - 2s 25ms/step - loss: 0.4326 - accuracy: 0.8620 - val_loss: 0.4481 - val_accuracy: 0.8594\n",
      "Epoch 17/100\n",
      "76/76 [==============================] - 2s 26ms/step - loss: 0.4196 - accuracy: 0.8656 - val_loss: 0.4290 - val_accuracy: 0.8645\n",
      "Epoch 18/100\n",
      "76/76 [==============================] - 2s 27ms/step - loss: 0.4041 - accuracy: 0.8706 - val_loss: 0.4189 - val_accuracy: 0.8660\n",
      "Epoch 19/100\n",
      "76/76 [==============================] - 2s 26ms/step - loss: 0.3936 - accuracy: 0.8731 - val_loss: 0.4070 - val_accuracy: 0.8717\n",
      "Epoch 20/100\n",
      "76/76 [==============================] - 2s 26ms/step - loss: 0.3786 - accuracy: 0.8780 - val_loss: 0.4008 - val_accuracy: 0.8718\n",
      "Epoch 21/100\n",
      "76/76 [==============================] - 2s 26ms/step - loss: 0.3743 - accuracy: 0.8792 - val_loss: 0.3922 - val_accuracy: 0.8757\n",
      "Epoch 22/100\n",
      "76/76 [==============================] - 2s 26ms/step - loss: 0.3539 - accuracy: 0.8852 - val_loss: 0.3792 - val_accuracy: 0.8788\n",
      "Epoch 23/100\n",
      "76/76 [==============================] - 2s 27ms/step - loss: 0.3483 - accuracy: 0.8869 - val_loss: 0.3703 - val_accuracy: 0.8809\n",
      "Epoch 24/100\n",
      "76/76 [==============================] - 2s 27ms/step - loss: 0.3332 - accuracy: 0.8914 - val_loss: 0.3574 - val_accuracy: 0.8846\n",
      "Epoch 25/100\n",
      "76/76 [==============================] - 2s 26ms/step - loss: 0.3263 - accuracy: 0.8932 - val_loss: 0.3382 - val_accuracy: 0.8914\n",
      "Epoch 26/100\n",
      "76/76 [==============================] - 2s 26ms/step - loss: 0.3193 - accuracy: 0.8954 - val_loss: 0.3417 - val_accuracy: 0.8903\n",
      "Epoch 27/100\n",
      "76/76 [==============================] - 2s 26ms/step - loss: 0.3083 - accuracy: 0.8991 - val_loss: 0.3325 - val_accuracy: 0.8935\n",
      "Epoch 28/100\n",
      "76/76 [==============================] - 2s 26ms/step - loss: 0.2998 - accuracy: 0.9010 - val_loss: 0.3346 - val_accuracy: 0.8936\n",
      "Epoch 29/100\n",
      "76/76 [==============================] - 2s 26ms/step - loss: 0.3008 - accuracy: 0.9010 - val_loss: 0.3247 - val_accuracy: 0.8961\n",
      "Epoch 30/100\n",
      "76/76 [==============================] - 2s 26ms/step - loss: 0.2864 - accuracy: 0.9054 - val_loss: 0.3159 - val_accuracy: 0.8971\n",
      "Epoch 31/100\n",
      "76/76 [==============================] - 2s 26ms/step - loss: 0.2810 - accuracy: 0.9068 - val_loss: 0.3183 - val_accuracy: 0.8974\n",
      "Epoch 32/100\n",
      "76/76 [==============================] - 2s 26ms/step - loss: 0.2759 - accuracy: 0.9085 - val_loss: 0.3016 - val_accuracy: 0.9030\n",
      "Epoch 33/100\n",
      "76/76 [==============================] - 2s 26ms/step - loss: 0.2664 - accuracy: 0.9117 - val_loss: 0.2921 - val_accuracy: 0.9053\n",
      "Epoch 34/100\n",
      "76/76 [==============================] - 2s 26ms/step - loss: 0.2615 - accuracy: 0.9134 - val_loss: 0.2901 - val_accuracy: 0.9061\n",
      "Epoch 35/100\n",
      "76/76 [==============================] - 2s 26ms/step - loss: 0.2561 - accuracy: 0.9149 - val_loss: 0.2864 - val_accuracy: 0.9079\n",
      "Epoch 36/100\n",
      "76/76 [==============================] - 2s 26ms/step - loss: 0.2540 - accuracy: 0.9153 - val_loss: 0.2839 - val_accuracy: 0.9082\n",
      "Epoch 37/100\n",
      "76/76 [==============================] - 2s 26ms/step - loss: 0.2477 - accuracy: 0.9171 - val_loss: 0.2757 - val_accuracy: 0.9101\n",
      "Epoch 38/100\n",
      "76/76 [==============================] - 2s 29ms/step - loss: 0.2463 - accuracy: 0.9181 - val_loss: 0.2771 - val_accuracy: 0.9109\n",
      "Epoch 39/100\n",
      "76/76 [==============================] - 2s 27ms/step - loss: 0.2369 - accuracy: 0.9207 - val_loss: 0.2759 - val_accuracy: 0.9107\n",
      "Epoch 40/100\n",
      "76/76 [==============================] - 2s 26ms/step - loss: 0.2335 - accuracy: 0.9216 - val_loss: 0.2694 - val_accuracy: 0.9127\n",
      "Epoch 41/100\n",
      "76/76 [==============================] - 2s 26ms/step - loss: 0.2299 - accuracy: 0.9229 - val_loss: 0.2688 - val_accuracy: 0.9132\n",
      "Epoch 42/100\n",
      "76/76 [==============================] - 2s 26ms/step - loss: 0.2273 - accuracy: 0.9237 - val_loss: 0.2692 - val_accuracy: 0.9124\n",
      "Epoch 43/100\n",
      "76/76 [==============================] - 2s 27ms/step - loss: 0.2190 - accuracy: 0.9260 - val_loss: 0.2591 - val_accuracy: 0.9150\n",
      "Epoch 44/100\n",
      "76/76 [==============================] - 2s 27ms/step - loss: 0.2177 - accuracy: 0.9266 - val_loss: 0.2531 - val_accuracy: 0.9185\n",
      "Epoch 45/100\n",
      "76/76 [==============================] - 2s 29ms/step - loss: 0.2123 - accuracy: 0.9283 - val_loss: 0.2630 - val_accuracy: 0.9147\n",
      "Epoch 46/100\n",
      "76/76 [==============================] - 2s 28ms/step - loss: 0.2089 - accuracy: 0.9297 - val_loss: 0.2478 - val_accuracy: 0.9199\n",
      "Epoch 47/100\n",
      "76/76 [==============================] - 2s 27ms/step - loss: 0.2050 - accuracy: 0.9306 - val_loss: 0.2503 - val_accuracy: 0.9185\n",
      "Epoch 48/100\n",
      "76/76 [==============================] - 2s 26ms/step - loss: 0.2030 - accuracy: 0.9312 - val_loss: 0.2483 - val_accuracy: 0.9197\n",
      "Epoch 49/100\n",
      "76/76 [==============================] - 2s 26ms/step - loss: 0.1983 - accuracy: 0.9328 - val_loss: 0.2507 - val_accuracy: 0.9191\n",
      "Epoch 50/100\n",
      "76/76 [==============================] - 2s 27ms/step - loss: 0.2003 - accuracy: 0.9324 - val_loss: 0.2396 - val_accuracy: 0.9222\n",
      "Epoch 51/100\n",
      "76/76 [==============================] - 2s 26ms/step - loss: 0.1933 - accuracy: 0.9342 - val_loss: 0.2419 - val_accuracy: 0.9207\n",
      "Epoch 52/100\n",
      "76/76 [==============================] - 2s 27ms/step - loss: 0.1896 - accuracy: 0.9356 - val_loss: 0.2480 - val_accuracy: 0.9211\n",
      "Epoch 53/100\n",
      "76/76 [==============================] - 2s 26ms/step - loss: 0.1919 - accuracy: 0.9345 - val_loss: 0.2295 - val_accuracy: 0.9249\n",
      "Epoch 54/100\n",
      "76/76 [==============================] - 2s 26ms/step - loss: 0.1856 - accuracy: 0.9368 - val_loss: 0.2333 - val_accuracy: 0.9234\n",
      "Epoch 55/100\n",
      "76/76 [==============================] - 2s 26ms/step - loss: 0.1817 - accuracy: 0.9374 - val_loss: 0.2291 - val_accuracy: 0.9254\n",
      "Epoch 56/100\n",
      "76/76 [==============================] - 2s 26ms/step - loss: 0.1793 - accuracy: 0.9391 - val_loss: 0.2326 - val_accuracy: 0.9252\n",
      "Epoch 57/100\n",
      "76/76 [==============================] - 2s 26ms/step - loss: 0.1788 - accuracy: 0.9387 - val_loss: 0.2249 - val_accuracy: 0.9273\n",
      "Epoch 58/100\n"
     ]
    },
    {
     "name": "stdout",
     "output_type": "stream",
     "text": [
      "76/76 [==============================] - 2s 26ms/step - loss: 0.1740 - accuracy: 0.9405 - val_loss: 0.2248 - val_accuracy: 0.9272\n",
      "Epoch 59/100\n",
      "76/76 [==============================] - 2s 26ms/step - loss: 0.1720 - accuracy: 0.9410 - val_loss: 0.2149 - val_accuracy: 0.9300\n",
      "Epoch 60/100\n",
      "76/76 [==============================] - 2s 27ms/step - loss: 0.1728 - accuracy: 0.9405 - val_loss: 0.2227 - val_accuracy: 0.9279\n",
      "Epoch 61/100\n",
      "76/76 [==============================] - 2s 27ms/step - loss: 0.1683 - accuracy: 0.9421 - val_loss: 0.2267 - val_accuracy: 0.9281\n",
      "Epoch 62/100\n",
      "76/76 [==============================] - 2s 28ms/step - loss: 0.1671 - accuracy: 0.9426 - val_loss: 0.2159 - val_accuracy: 0.9299\n",
      "Epoch 63/100\n",
      "76/76 [==============================] - 2s 28ms/step - loss: 0.1632 - accuracy: 0.9439 - val_loss: 0.2150 - val_accuracy: 0.9298\n",
      "Epoch 64/100\n",
      "76/76 [==============================] - 2s 27ms/step - loss: 0.1621 - accuracy: 0.9442 - val_loss: 0.2159 - val_accuracy: 0.9306\n",
      "Epoch 65/100\n",
      "76/76 [==============================] - 2s 27ms/step - loss: 0.1596 - accuracy: 0.9450 - val_loss: 0.2145 - val_accuracy: 0.9319\n",
      "Epoch 66/100\n",
      "76/76 [==============================] - 2s 27ms/step - loss: 0.1585 - accuracy: 0.9451 - val_loss: 0.2122 - val_accuracy: 0.9321\n",
      "Epoch 67/100\n",
      "76/76 [==============================] - 2s 27ms/step - loss: 0.1578 - accuracy: 0.9457 - val_loss: 0.2131 - val_accuracy: 0.9311\n",
      "Epoch 68/100\n",
      "76/76 [==============================] - 2s 26ms/step - loss: 0.1545 - accuracy: 0.9465 - val_loss: 0.2140 - val_accuracy: 0.9297\n",
      "Epoch 69/100\n",
      "76/76 [==============================] - 2s 26ms/step - loss: 0.1578 - accuracy: 0.9457 - val_loss: 0.2130 - val_accuracy: 0.9313\n",
      "Epoch 70/100\n",
      "76/76 [==============================] - 2s 27ms/step - loss: 0.1546 - accuracy: 0.9466 - val_loss: 0.2055 - val_accuracy: 0.9342\n",
      "Epoch 71/100\n",
      "76/76 [==============================] - 2s 26ms/step - loss: 0.1545 - accuracy: 0.9467 - val_loss: 0.2085 - val_accuracy: 0.9322\n",
      "Epoch 72/100\n",
      "76/76 [==============================] - 2s 27ms/step - loss: 0.1501 - accuracy: 0.9484 - val_loss: 0.2053 - val_accuracy: 0.9342\n",
      "Epoch 73/100\n",
      "76/76 [==============================] - 2s 27ms/step - loss: 0.1487 - accuracy: 0.9489 - val_loss: 0.2047 - val_accuracy: 0.9324\n",
      "Epoch 74/100\n",
      "76/76 [==============================] - 2s 26ms/step - loss: 0.1429 - accuracy: 0.9506 - val_loss: 0.2060 - val_accuracy: 0.9348\n",
      "Epoch 75/100\n",
      "76/76 [==============================] - 2s 26ms/step - loss: 0.1419 - accuracy: 0.9506 - val_loss: 0.2070 - val_accuracy: 0.9346\n",
      "Epoch 76/100\n",
      "76/76 [==============================] - 2s 26ms/step - loss: 0.1414 - accuracy: 0.9509 - val_loss: 0.2068 - val_accuracy: 0.9342\n",
      "Epoch 77/100\n",
      "76/76 [==============================] - 2s 26ms/step - loss: 0.1405 - accuracy: 0.9510 - val_loss: 0.2050 - val_accuracy: 0.9334\n",
      "Epoch 78/100\n",
      "76/76 [==============================] - 2s 27ms/step - loss: 0.1394 - accuracy: 0.9513 - val_loss: 0.1992 - val_accuracy: 0.9372\n",
      "Epoch 79/100\n",
      "76/76 [==============================] - 2s 26ms/step - loss: 0.1373 - accuracy: 0.9522 - val_loss: 0.1900 - val_accuracy: 0.9397\n",
      "Epoch 80/100\n",
      "76/76 [==============================] - 2s 27ms/step - loss: 0.1366 - accuracy: 0.9523 - val_loss: 0.1961 - val_accuracy: 0.9362\n",
      "Epoch 81/100\n",
      "76/76 [==============================] - 2s 27ms/step - loss: 0.1376 - accuracy: 0.9521 - val_loss: 0.1992 - val_accuracy: 0.9364\n",
      "Epoch 82/100\n",
      "76/76 [==============================] - 2s 28ms/step - loss: 0.1344 - accuracy: 0.9533 - val_loss: 0.1964 - val_accuracy: 0.9387\n",
      "Epoch 83/100\n",
      "76/76 [==============================] - 2s 27ms/step - loss: 0.1311 - accuracy: 0.9544 - val_loss: 0.1891 - val_accuracy: 0.9396\n",
      "Epoch 84/100\n",
      "76/76 [==============================] - 2s 27ms/step - loss: 0.1324 - accuracy: 0.9541 - val_loss: 0.2055 - val_accuracy: 0.9367\n",
      "Epoch 85/100\n",
      "76/76 [==============================] - 2s 26ms/step - loss: 0.1322 - accuracy: 0.9540 - val_loss: 0.1999 - val_accuracy: 0.9359\n",
      "Epoch 86/100\n",
      "76/76 [==============================] - 2s 27ms/step - loss: 0.1314 - accuracy: 0.9542 - val_loss: 0.1920 - val_accuracy: 0.9388\n",
      "Epoch 87/100\n",
      "76/76 [==============================] - 2s 27ms/step - loss: 0.1328 - accuracy: 0.9540 - val_loss: 0.1945 - val_accuracy: 0.9394\n",
      "Epoch 88/100\n",
      "76/76 [==============================] - 2s 27ms/step - loss: 0.1278 - accuracy: 0.9549 - val_loss: 0.1884 - val_accuracy: 0.9404\n",
      "Epoch 89/100\n",
      "76/76 [==============================] - 2s 27ms/step - loss: 0.1258 - accuracy: 0.9560 - val_loss: 0.1867 - val_accuracy: 0.9402\n",
      "Epoch 90/100\n",
      "76/76 [==============================] - 2s 27ms/step - loss: 0.1259 - accuracy: 0.9557 - val_loss: 0.1886 - val_accuracy: 0.9408\n",
      "Epoch 91/100\n",
      "76/76 [==============================] - 2s 27ms/step - loss: 0.1260 - accuracy: 0.9557 - val_loss: 0.1872 - val_accuracy: 0.9406\n",
      "Epoch 92/100\n",
      "76/76 [==============================] - 2s 27ms/step - loss: 0.1246 - accuracy: 0.9564 - val_loss: 0.1984 - val_accuracy: 0.9372\n",
      "Epoch 93/100\n",
      "76/76 [==============================] - 2s 27ms/step - loss: 0.1250 - accuracy: 0.9562 - val_loss: 0.1885 - val_accuracy: 0.9383\n",
      "Epoch 94/100\n",
      "76/76 [==============================] - 2s 28ms/step - loss: 0.1188 - accuracy: 0.9583 - val_loss: 0.1879 - val_accuracy: 0.9428\n",
      "Epoch 95/100\n",
      "76/76 [==============================] - 2s 26ms/step - loss: 0.1185 - accuracy: 0.9583 - val_loss: 0.1860 - val_accuracy: 0.9419\n",
      "Epoch 96/100\n",
      "76/76 [==============================] - 2s 26ms/step - loss: 0.1184 - accuracy: 0.9586 - val_loss: 0.1816 - val_accuracy: 0.9436\n",
      "Epoch 97/100\n",
      "76/76 [==============================] - 2s 26ms/step - loss: 0.1209 - accuracy: 0.9582 - val_loss: 0.1858 - val_accuracy: 0.9413\n",
      "Epoch 98/100\n",
      "76/76 [==============================] - 2s 26ms/step - loss: 0.1162 - accuracy: 0.9591 - val_loss: 0.1863 - val_accuracy: 0.9426\n",
      "Epoch 99/100\n",
      "76/76 [==============================] - 2s 27ms/step - loss: 0.1165 - accuracy: 0.9588 - val_loss: 0.1842 - val_accuracy: 0.9427\n",
      "Epoch 100/100\n",
      "76/76 [==============================] - 2s 27ms/step - loss: 0.1195 - accuracy: 0.9580 - val_loss: 0.1861 - val_accuracy: 0.9420\n"
     ]
    }
   ],
   "source": [
    "history = model.fit(X_train, y_train, batch_size=4056, epochs=100, validation_data = (X_test, y_test))"
   ]
  },
  {
   "cell_type": "markdown",
   "id": "ffed59b1",
   "metadata": {},
   "source": [
    "# 4.Evaluate Network"
   ]
  },
  {
   "cell_type": "markdown",
   "id": "28731190",
   "metadata": {},
   "source": [
    "## 4.1. Plotting Loss and Accuracy"
   ]
  },
  {
   "cell_type": "code",
   "execution_count": 24,
   "id": "971e6040",
   "metadata": {},
   "outputs": [
    {
     "data": {
      "text/plain": [
       "Text(0.5, 1.0, 'Loss Curve of Deep Neural Netowork')"
      ]
     },
     "execution_count": 24,
     "metadata": {},
     "output_type": "execute_result"
    },
    {
     "data": {
      "image/png": "[encoded data removed]",
      "text/plain": [
       "<Figure size 432x288 with 1 Axes>"
      ]
     },
     "metadata": {
      "needs_background": "light"
     },
     "output_type": "display_data"
    }
   ],
   "source": [
    "#Loss Curve\n",
    "\n",
    "\n",
    "plt.plot(figsize = [8,6])\n",
    "\n",
    "plt.plot(history.history['loss'],'r',linewidth = 3.0)\n",
    "plt.plot(history.history['val_loss'],'b',linewidth = 3.0)\n",
    "\n",
    "plt.legend(['Training Loss', 'Validation Loss'], fontsize = 18)\n",
    "\n",
    "plt.xlabel('Epochs', fontsize = 16)\n",
    "plt.ylabel('Loss', fontsize = 16)\n",
    "\n",
    "plt.title('Loss Curve of Deep Neural Netowork' , fontsize = 16 )\n",
    "\n"
   ]
  },
  {
   "cell_type": "code",
   "execution_count": 25,
   "id": "b0c193ec",
   "metadata": {},
   "outputs": [
    {
     "data": {
      "text/plain": [
       "Text(0.5, 1.0, 'Accuracy Curve of Deep Neural Netowork')"
      ]
     },
     "execution_count": 25,
     "metadata": {},
     "output_type": "execute_result"
    },
    {
     "data": {
      "image/png": "[encoded data removed]",
      "text/plain": [
       "<Figure size 432x288 with 1 Axes>"
      ]
     },
     "metadata": {
      "needs_background": "light"
     },
     "output_type": "display_data"
    }
   ],
   "source": [
    "#Accuracy Curve\n",
    "\n",
    "plt.plot(figsize = [8,6])\n",
    "plt.plot(history.history['accuracy'],'r',linewidth = 3.0)\n",
    "plt.plot(history.history['val_accuracy'],'b',linewidth = 3.0)\n",
    "\n",
    "plt.legend(['Training Accuracy', 'Validation Accuracy'], fontsize = 18)\n",
    "\n",
    "plt.xlabel('Epochs', fontsize = 16)\n",
    "plt.ylabel('Accuracy', fontsize = 16)\n",
    "\n",
    "\n",
    "plt.title('Accuracy Curve of Deep Neural Netowork' , fontsize = 16 )"
   ]
  },
  {
   "cell_type": "markdown",
   "id": "741a02aa",
   "metadata": {},
   "source": [
    "##  4.2 Make Predictions"
   ]
  },
  {
   "cell_type": "code",
   "execution_count": 26,
   "id": "e8465627",
   "metadata": {},
   "outputs": [],
   "source": [
    "predictions = model.predict(X_test)\n",
    "predictions = np.argmax(predictions, axis = 1)"
   ]
  },
  {
   "cell_type": "code",
   "execution_count": 27,
   "id": "3cac1a50",
   "metadata": {},
   "outputs": [
    {
     "data": {
      "text/plain": [
       "array([ 2, 12,  0, ...,  0,  0,  0], dtype=int64)"
      ]
     },
     "execution_count": 27,
     "metadata": {},
     "output_type": "execute_result"
    }
   ],
   "source": [
    "predictions"
   ]
  },
  {
   "cell_type": "markdown",
   "id": "70d666bb",
   "metadata": {},
   "source": [
    "#### Transforming from One Hot Encoding"
   ]
  },
  {
   "cell_type": "code",
   "execution_count": 28,
   "id": "7234b6e7",
   "metadata": {},
   "outputs": [
    {
     "data": {
      "text/plain": [
       "12"
      ]
     },
     "execution_count": 28,
     "metadata": {},
     "output_type": "execute_result"
    }
   ],
   "source": [
    "y_test =np.argmax(y_test, axis=1)\n",
    "y_test[1]"
   ]
  },
  {
   "cell_type": "code",
   "execution_count": 29,
   "id": "6278820d",
   "metadata": {},
   "outputs": [
    {
     "name": "stdout",
     "output_type": "stream",
     "text": [
      "Accuracy is: 94.20191085306877\n"
     ]
    }
   ],
   "source": [
    "from sklearn.metrics import accuracy_score\n",
    "accuracy = {accuracy_score(y_test, predictions)}\n",
    "print(f\"Accuracy is: {accuracy_score(y_test, predictions)* 100}\")"
   ]
  },
  {
   "cell_type": "markdown",
   "id": "eb044ea1",
   "metadata": {},
   "source": [
    "## 4.3 Classification Report"
   ]
  },
  {
   "cell_type": "code",
   "execution_count": 30,
   "id": "001ebc5a",
   "metadata": {},
   "outputs": [
    {
     "name": "stdout",
     "output_type": "stream",
     "text": [
      "\u001b[1mClassification report : \u001b[0m\n",
      "               precision    recall  f1-score   support\n",
      "\n",
      "           0       0.94      0.97      0.96     35294\n",
      "           1       0.96      0.90      0.93      2483\n",
      "           2       0.96      0.92      0.94      2337\n",
      "           3       0.97      0.91      0.94      2284\n",
      "           4       0.91      0.94      0.92      2142\n",
      "           5       0.93      0.87      0.90      2448\n",
      "           6       0.96      0.95      0.96      2195\n",
      "           7       0.96      0.88      0.92      2517\n",
      "           8       0.95      0.88      0.92      2756\n",
      "           9       0.94      0.93      0.93      2446\n",
      "          10       0.95      0.90      0.92      2278\n",
      "          11       0.93      0.95      0.94      2523\n",
      "          12       0.92      0.97      0.94      2434\n",
      "          13       0.91      0.97      0.94      1369\n",
      "          14       0.93      0.90      0.91      1324\n",
      "          15       0.93      0.81      0.86      1375\n",
      "          16       0.97      0.95      0.96      1520\n",
      "          17       0.93      0.84      0.88      1651\n",
      "          18       0.92      0.94      0.93       748\n",
      "          19       0.93      0.89      0.91       832\n",
      "          20       0.99      1.00      0.99       877\n",
      "          21       0.96      0.94      0.95       761\n",
      "          22       0.98      0.97      0.98       781\n",
      "          23       1.00      0.97      0.98       926\n",
      "\n",
      "    accuracy                           0.94     76301\n",
      "   macro avg       0.95      0.92      0.93     76301\n",
      "weighted avg       0.94      0.94      0.94     76301\n",
      "\n",
      "\u001b[1mConfusion Matrix : \u001b[0m\n"
     ]
    },
    {
     "data": {
      "image/png": "[encoded data removed]",
      "text/plain": [
       "<Figure size 432x288 with 2 Axes>"
      ]
     },
     "metadata": {
      "needs_background": "light"
     },
     "output_type": "display_data"
    }
   ],
   "source": [
    "from sklearn.metrics import confusion_matrix, f1_score, accuracy_score, classification_report\n",
    "print('\\033[1m' +'Classification report : '+ '\\033[0m\\n', classification_report(y_test, predictions))\n",
    "\n",
    "cm = confusion_matrix(predictions, y_test)\n",
    "print('\\033[1m' +'Confusion Matrix : '+ '\\033[0m')\n",
    "sns.heatmap(cm, cmap = 'OrRd',annot = True, fmt='d')\n",
    "plt.show()"
   ]
  },
  {
   "cell_type": "markdown",
   "id": "eaa5e512",
   "metadata": {},
   "source": [
    "## 4.4 Evaluation"
   ]
  },
  {
   "cell_type": "code",
   "execution_count": 31,
   "id": "9e469f86",
   "metadata": {},
   "outputs": [
    {
     "name": "stdout",
     "output_type": "stream",
     "text": [
      "MAE: 0.4871102606781038\n",
      "MSE: 5.895505956671603\n",
      "RMSE: 2.4280662998920772\n"
     ]
    }
   ],
   "source": [
    "from sklearn import metrics\n",
    "\n",
    "print('MAE:', metrics.mean_absolute_error(y_test,predictions))\n",
    "print('MSE:', metrics.mean_squared_error(y_test, predictions))\n",
    "print('RMSE:', np.sqrt(metrics.mean_squared_error(y_test, predictions)))"
   ]
  },
  {
   "cell_type": "code",
   "execution_count": 32,
   "id": "dff2a82d",
   "metadata": {},
   "outputs": [
    {
     "name": "stdout",
     "output_type": "stream",
     "text": [
      "Precision Score :  0.9423150315053775\n",
      "Recall Score :  0.9420191085306877\n",
      "f1_score :  0.9416205119496515\n"
     ]
    }
   ],
   "source": [
    "from sklearn.metrics import precision_score\n",
    "print(\"Precision Score : \",precision_score(y_test, predictions, average='weighted'))\n",
    "\n",
    "\n",
    "from sklearn.metrics import recall_score\n",
    "print(\"Recall Score : \",recall_score(y_test, predictions,average='weighted'))\n",
    "\n",
    "\n",
    "from sklearn.metrics import f1_score\n",
    "print(\"f1_score : \",f1_score(y_test, predictions,average='weighted'))"
   ]
  },
  {
   "cell_type": "code",
   "execution_count": null,
   "id": "81ac7468",
   "metadata": {},
   "outputs": [],
   "source": []
  },
  {
   "cell_type": "code",
   "execution_count": null,
   "id": "71a4c6e0",
   "metadata": {},
   "outputs": [],
   "source": []
  }
 ],
 "metadata": {
  "kernelspec": {
   "display_name": "Python 3 (ipykernel)",
   "language": "python",
   "name": "python3"
  },
  "language_info": {
   "codemirror_mode": {
    "name": "ipython",
    "version": 3
   },
   "file_extension": ".py",
   "mimetype": "text/x-python",
   "name": "python",
   "nbconvert_exporter": "python",
   "pygments_lexer": "ipython3",
   "version": "3.8.12"
  }
 },
 "nbformat": 4,
 "nbformat_minor": 5
}
