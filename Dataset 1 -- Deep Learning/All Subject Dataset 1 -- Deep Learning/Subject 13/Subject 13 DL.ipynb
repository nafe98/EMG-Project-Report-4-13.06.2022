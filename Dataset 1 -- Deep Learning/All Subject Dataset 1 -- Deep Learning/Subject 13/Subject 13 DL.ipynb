{
 "cells": [
  {
   "cell_type": "markdown",
   "id": "bf8ee932",
   "metadata": {},
   "source": [
    "# Importing Libraries"
   ]
  },
  {
   "cell_type": "code",
   "execution_count": 1,
   "id": "0f663fa8",
   "metadata": {},
   "outputs": [],
   "source": [
    "import numpy as np\n",
    "import pandas as pd\n",
    "import matplotlib.pyplot as plt\n",
    "import seaborn as sns\n",
    "from sklearn.model_selection import train_test_split"
   ]
  },
  {
   "cell_type": "markdown",
   "id": "511af272",
   "metadata": {},
   "source": [
    "# Loading Data"
   ]
  },
  {
   "cell_type": "code",
   "execution_count": 2,
   "id": "04fd19b0",
   "metadata": {},
   "outputs": [
    {
     "data": {
      "text/html": [
       "<div>\n",
       "<style scoped>\n",
       "    .dataframe tbody tr th:only-of-type {\n",
       "        vertical-align: middle;\n",
       "    }\n",
       "\n",
       "    .dataframe tbody tr th {\n",
       "        vertical-align: top;\n",
       "    }\n",
       "\n",
       "    .dataframe thead th {\n",
       "        text-align: right;\n",
       "    }\n",
       "</style>\n",
       "<table border=\"1\" class=\"dataframe\">\n",
       "  <thead>\n",
       "    <tr style=\"text-align: right;\">\n",
       "      <th></th>\n",
       "      <th>Emg1</th>\n",
       "      <th>Emg2</th>\n",
       "      <th>Emg3</th>\n",
       "      <th>Emg4</th>\n",
       "      <th>Emg5</th>\n",
       "      <th>Emg6</th>\n",
       "      <th>Emg7</th>\n",
       "      <th>Emg8</th>\n",
       "      <th>Emg9</th>\n",
       "      <th>Emg10</th>\n",
       "      <th>repetition</th>\n",
       "      <th>rerepetition</th>\n",
       "      <th>stimulus</th>\n",
       "      <th>restimulus</th>\n",
       "    </tr>\n",
       "  </thead>\n",
       "  <tbody>\n",
       "    <tr>\n",
       "      <th>358365</th>\n",
       "      <td>0.0610</td>\n",
       "      <td>0.0024</td>\n",
       "      <td>0.0049</td>\n",
       "      <td>0.0024</td>\n",
       "      <td>0.0024</td>\n",
       "      <td>0.0024</td>\n",
       "      <td>0.0049</td>\n",
       "      <td>0.2344</td>\n",
       "      <td>0.0073</td>\n",
       "      <td>0.2515</td>\n",
       "      <td>4</td>\n",
       "      <td>4</td>\n",
       "      <td>13</td>\n",
       "      <td>13</td>\n",
       "    </tr>\n",
       "    <tr>\n",
       "      <th>286124</th>\n",
       "      <td>0.0464</td>\n",
       "      <td>0.2612</td>\n",
       "      <td>0.0024</td>\n",
       "      <td>0.0024</td>\n",
       "      <td>0.0024</td>\n",
       "      <td>0.0244</td>\n",
       "      <td>2.1851</td>\n",
       "      <td>0.2734</td>\n",
       "      <td>0.0024</td>\n",
       "      <td>0.2832</td>\n",
       "      <td>5</td>\n",
       "      <td>5</td>\n",
       "      <td>5</td>\n",
       "      <td>5</td>\n",
       "    </tr>\n",
       "    <tr>\n",
       "      <th>361853</th>\n",
       "      <td>0.0635</td>\n",
       "      <td>0.0024</td>\n",
       "      <td>0.0024</td>\n",
       "      <td>0.0024</td>\n",
       "      <td>0.0317</td>\n",
       "      <td>0.5347</td>\n",
       "      <td>0.1807</td>\n",
       "      <td>0.2490</td>\n",
       "      <td>0.0024</td>\n",
       "      <td>0.4736</td>\n",
       "      <td>8</td>\n",
       "      <td>0</td>\n",
       "      <td>13</td>\n",
       "      <td>0</td>\n",
       "    </tr>\n",
       "    <tr>\n",
       "      <th>334787</th>\n",
       "      <td>0.0024</td>\n",
       "      <td>0.0024</td>\n",
       "      <td>0.0024</td>\n",
       "      <td>0.0024</td>\n",
       "      <td>0.0024</td>\n",
       "      <td>0.0146</td>\n",
       "      <td>0.0244</td>\n",
       "      <td>0.1221</td>\n",
       "      <td>0.0024</td>\n",
       "      <td>0.2173</td>\n",
       "      <td>6</td>\n",
       "      <td>0</td>\n",
       "      <td>10</td>\n",
       "      <td>0</td>\n",
       "    </tr>\n",
       "    <tr>\n",
       "      <th>195943</th>\n",
       "      <td>0.0024</td>\n",
       "      <td>0.0024</td>\n",
       "      <td>0.0024</td>\n",
       "      <td>0.0024</td>\n",
       "      <td>0.0024</td>\n",
       "      <td>0.0024</td>\n",
       "      <td>0.0879</td>\n",
       "      <td>0.0928</td>\n",
       "      <td>0.0024</td>\n",
       "      <td>0.2222</td>\n",
       "      <td>0</td>\n",
       "      <td>0</td>\n",
       "      <td>0</td>\n",
       "      <td>0</td>\n",
       "    </tr>\n",
       "  </tbody>\n",
       "</table>\n",
       "</div>"
      ],
      "text/plain": [
       "          Emg1    Emg2    Emg3    Emg4    Emg5    Emg6    Emg7    Emg8  \\\n",
       "358365  0.0610  0.0024  0.0049  0.0024  0.0024  0.0024  0.0049  0.2344   \n",
       "286124  0.0464  0.2612  0.0024  0.0024  0.0024  0.0244  2.1851  0.2734   \n",
       "361853  0.0635  0.0024  0.0024  0.0024  0.0317  0.5347  0.1807  0.2490   \n",
       "334787  0.0024  0.0024  0.0024  0.0024  0.0024  0.0146  0.0244  0.1221   \n",
       "195943  0.0024  0.0024  0.0024  0.0024  0.0024  0.0024  0.0879  0.0928   \n",
       "\n",
       "          Emg9   Emg10  repetition  rerepetition  stimulus  restimulus  \n",
       "358365  0.0073  0.2515           4             4        13          13  \n",
       "286124  0.0024  0.2832           5             5         5           5  \n",
       "361853  0.0024  0.4736           8             0        13           0  \n",
       "334787  0.0024  0.2173           6             0        10           0  \n",
       "195943  0.0024  0.2222           0             0         0           0  "
      ]
     },
     "execution_count": 2,
     "metadata": {},
     "output_type": "execute_result"
    }
   ],
   "source": [
    "raw_data = pd.read_excel('Dataset 1 Patient 13.xlsx')\n",
    "raw_data.sample(5)"
   ]
  },
  {
   "cell_type": "code",
   "execution_count": 3,
   "id": "80369ddb",
   "metadata": {},
   "outputs": [
    {
     "name": "stdout",
     "output_type": "stream",
     "text": [
      "<class 'pandas.core.frame.DataFrame'>\n",
      "RangeIndex: 456617 entries, 0 to 456616\n",
      "Data columns (total 14 columns):\n",
      " #   Column        Non-Null Count   Dtype  \n",
      "---  ------        --------------   -----  \n",
      " 0   Emg1          456617 non-null  float64\n",
      " 1   Emg2          456617 non-null  float64\n",
      " 2   Emg3          456617 non-null  float64\n",
      " 3   Emg4          456617 non-null  float64\n",
      " 4   Emg5          456617 non-null  float64\n",
      " 5   Emg6          456617 non-null  float64\n",
      " 6   Emg7          456617 non-null  float64\n",
      " 7   Emg8          456617 non-null  float64\n",
      " 8   Emg9          456617 non-null  float64\n",
      " 9   Emg10         456617 non-null  float64\n",
      " 10  repetition    456617 non-null  int64  \n",
      " 11  rerepetition  456617 non-null  int64  \n",
      " 12  stimulus      456617 non-null  int64  \n",
      " 13  restimulus    456617 non-null  int64  \n",
      "dtypes: float64(10), int64(4)\n",
      "memory usage: 48.8 MB\n"
     ]
    }
   ],
   "source": [
    "raw_data.info()"
   ]
  },
  {
   "cell_type": "code",
   "execution_count": 4,
   "id": "109445f8",
   "metadata": {},
   "outputs": [
    {
     "data": {
      "text/html": [
       "<div>\n",
       "<style scoped>\n",
       "    .dataframe tbody tr th:only-of-type {\n",
       "        vertical-align: middle;\n",
       "    }\n",
       "\n",
       "    .dataframe tbody tr th {\n",
       "        vertical-align: top;\n",
       "    }\n",
       "\n",
       "    .dataframe thead th {\n",
       "        text-align: right;\n",
       "    }\n",
       "</style>\n",
       "<table border=\"1\" class=\"dataframe\">\n",
       "  <thead>\n",
       "    <tr style=\"text-align: right;\">\n",
       "      <th></th>\n",
       "      <th>Emg1</th>\n",
       "      <th>Emg2</th>\n",
       "      <th>Emg3</th>\n",
       "      <th>Emg4</th>\n",
       "      <th>Emg5</th>\n",
       "      <th>Emg6</th>\n",
       "      <th>Emg7</th>\n",
       "      <th>Emg8</th>\n",
       "      <th>Emg9</th>\n",
       "      <th>Emg10</th>\n",
       "      <th>repetition</th>\n",
       "      <th>rerepetition</th>\n",
       "      <th>stimulus</th>\n",
       "      <th>restimulus</th>\n",
       "    </tr>\n",
       "  </thead>\n",
       "  <tbody>\n",
       "    <tr>\n",
       "      <th>count</th>\n",
       "      <td>456617.000000</td>\n",
       "      <td>456617.00000</td>\n",
       "      <td>456617.000000</td>\n",
       "      <td>456617.000000</td>\n",
       "      <td>456617.000000</td>\n",
       "      <td>456617.000000</td>\n",
       "      <td>456617.000000</td>\n",
       "      <td>456617.000000</td>\n",
       "      <td>456617.000000</td>\n",
       "      <td>456617.000000</td>\n",
       "      <td>456617.000000</td>\n",
       "      <td>456617.000000</td>\n",
       "      <td>456617.000000</td>\n",
       "      <td>456617.000000</td>\n",
       "    </tr>\n",
       "    <tr>\n",
       "      <th>mean</th>\n",
       "      <td>0.087577</td>\n",
       "      <td>0.11154</td>\n",
       "      <td>0.061346</td>\n",
       "      <td>0.020098</td>\n",
       "      <td>0.008846</td>\n",
       "      <td>0.090938</td>\n",
       "      <td>0.618475</td>\n",
       "      <td>0.313635</td>\n",
       "      <td>0.056314</td>\n",
       "      <td>0.273335</td>\n",
       "      <td>3.228675</td>\n",
       "      <td>2.073085</td>\n",
       "      <td>5.721548</td>\n",
       "      <td>3.711012</td>\n",
       "    </tr>\n",
       "    <tr>\n",
       "      <th>std</th>\n",
       "      <td>0.175377</td>\n",
       "      <td>0.27810</td>\n",
       "      <td>0.259189</td>\n",
       "      <td>0.122684</td>\n",
       "      <td>0.026813</td>\n",
       "      <td>0.155394</td>\n",
       "      <td>0.947964</td>\n",
       "      <td>0.324967</td>\n",
       "      <td>0.237637</td>\n",
       "      <td>0.115594</td>\n",
       "      <td>3.489333</td>\n",
       "      <td>3.210448</td>\n",
       "      <td>6.595727</td>\n",
       "      <td>6.071876</td>\n",
       "    </tr>\n",
       "    <tr>\n",
       "      <th>min</th>\n",
       "      <td>0.000000</td>\n",
       "      <td>0.00000</td>\n",
       "      <td>0.002400</td>\n",
       "      <td>0.000000</td>\n",
       "      <td>0.002400</td>\n",
       "      <td>0.000000</td>\n",
       "      <td>0.002400</td>\n",
       "      <td>0.002400</td>\n",
       "      <td>0.000000</td>\n",
       "      <td>0.002400</td>\n",
       "      <td>0.000000</td>\n",
       "      <td>0.000000</td>\n",
       "      <td>0.000000</td>\n",
       "      <td>0.000000</td>\n",
       "    </tr>\n",
       "    <tr>\n",
       "      <th>25%</th>\n",
       "      <td>0.002400</td>\n",
       "      <td>0.00240</td>\n",
       "      <td>0.002400</td>\n",
       "      <td>0.002400</td>\n",
       "      <td>0.002400</td>\n",
       "      <td>0.002400</td>\n",
       "      <td>0.065900</td>\n",
       "      <td>0.131800</td>\n",
       "      <td>0.002400</td>\n",
       "      <td>0.212400</td>\n",
       "      <td>0.000000</td>\n",
       "      <td>0.000000</td>\n",
       "      <td>0.000000</td>\n",
       "      <td>0.000000</td>\n",
       "    </tr>\n",
       "    <tr>\n",
       "      <th>50%</th>\n",
       "      <td>0.024400</td>\n",
       "      <td>0.00240</td>\n",
       "      <td>0.002400</td>\n",
       "      <td>0.002400</td>\n",
       "      <td>0.002400</td>\n",
       "      <td>0.031700</td>\n",
       "      <td>0.156300</td>\n",
       "      <td>0.200200</td>\n",
       "      <td>0.002400</td>\n",
       "      <td>0.251500</td>\n",
       "      <td>2.000000</td>\n",
       "      <td>0.000000</td>\n",
       "      <td>3.000000</td>\n",
       "      <td>0.000000</td>\n",
       "    </tr>\n",
       "    <tr>\n",
       "      <th>75%</th>\n",
       "      <td>0.095200</td>\n",
       "      <td>0.00980</td>\n",
       "      <td>0.004900</td>\n",
       "      <td>0.002400</td>\n",
       "      <td>0.002400</td>\n",
       "      <td>0.122100</td>\n",
       "      <td>0.798300</td>\n",
       "      <td>0.373500</td>\n",
       "      <td>0.002400</td>\n",
       "      <td>0.297900</td>\n",
       "      <td>6.000000</td>\n",
       "      <td>4.000000</td>\n",
       "      <td>10.000000</td>\n",
       "      <td>6.000000</td>\n",
       "    </tr>\n",
       "    <tr>\n",
       "      <th>max</th>\n",
       "      <td>4.668000</td>\n",
       "      <td>4.66550</td>\n",
       "      <td>4.663100</td>\n",
       "      <td>4.521500</td>\n",
       "      <td>1.843300</td>\n",
       "      <td>3.176300</td>\n",
       "      <td>4.668000</td>\n",
       "      <td>4.668000</td>\n",
       "      <td>4.665500</td>\n",
       "      <td>3.840300</td>\n",
       "      <td>10.000000</td>\n",
       "      <td>10.000000</td>\n",
       "      <td>23.000000</td>\n",
       "      <td>23.000000</td>\n",
       "    </tr>\n",
       "  </tbody>\n",
       "</table>\n",
       "</div>"
      ],
      "text/plain": [
       "                Emg1          Emg2           Emg3           Emg4  \\\n",
       "count  456617.000000  456617.00000  456617.000000  456617.000000   \n",
       "mean        0.087577       0.11154       0.061346       0.020098   \n",
       "std         0.175377       0.27810       0.259189       0.122684   \n",
       "min         0.000000       0.00000       0.002400       0.000000   \n",
       "25%         0.002400       0.00240       0.002400       0.002400   \n",
       "50%         0.024400       0.00240       0.002400       0.002400   \n",
       "75%         0.095200       0.00980       0.004900       0.002400   \n",
       "max         4.668000       4.66550       4.663100       4.521500   \n",
       "\n",
       "                Emg5           Emg6           Emg7           Emg8  \\\n",
       "count  456617.000000  456617.000000  456617.000000  456617.000000   \n",
       "mean        0.008846       0.090938       0.618475       0.313635   \n",
       "std         0.026813       0.155394       0.947964       0.324967   \n",
       "min         0.002400       0.000000       0.002400       0.002400   \n",
       "25%         0.002400       0.002400       0.065900       0.131800   \n",
       "50%         0.002400       0.031700       0.156300       0.200200   \n",
       "75%         0.002400       0.122100       0.798300       0.373500   \n",
       "max         1.843300       3.176300       4.668000       4.668000   \n",
       "\n",
       "                Emg9          Emg10     repetition   rerepetition  \\\n",
       "count  456617.000000  456617.000000  456617.000000  456617.000000   \n",
       "mean        0.056314       0.273335       3.228675       2.073085   \n",
       "std         0.237637       0.115594       3.489333       3.210448   \n",
       "min         0.000000       0.002400       0.000000       0.000000   \n",
       "25%         0.002400       0.212400       0.000000       0.000000   \n",
       "50%         0.002400       0.251500       2.000000       0.000000   \n",
       "75%         0.002400       0.297900       6.000000       4.000000   \n",
       "max         4.665500       3.840300      10.000000      10.000000   \n",
       "\n",
       "            stimulus     restimulus  \n",
       "count  456617.000000  456617.000000  \n",
       "mean        5.721548       3.711012  \n",
       "std         6.595727       6.071876  \n",
       "min         0.000000       0.000000  \n",
       "25%         0.000000       0.000000  \n",
       "50%         3.000000       0.000000  \n",
       "75%        10.000000       6.000000  \n",
       "max        23.000000      23.000000  "
      ]
     },
     "execution_count": 4,
     "metadata": {},
     "output_type": "execute_result"
    }
   ],
   "source": [
    "raw_data.describe(include='all')"
   ]
  },
  {
   "cell_type": "code",
   "execution_count": 5,
   "id": "f0b9a2e6",
   "metadata": {},
   "outputs": [
    {
     "name": "stdout",
     "output_type": "stream",
     "text": [
      "Unique Dependent values and their counts :\n",
      "0     188571\n",
      "8      15509\n",
      "4      15506\n",
      "12     15496\n",
      "7      15495\n",
      "2      15486\n",
      "5      15477\n",
      "11     15468\n",
      "6      15464\n",
      "9      15445\n",
      "10     15440\n",
      "3      15435\n",
      "1      15424\n",
      "13     10332\n",
      "14     10327\n",
      "17     10323\n",
      "15     10294\n",
      "16     10251\n",
      "18      5162\n",
      "19      5162\n",
      "21      5161\n",
      "22      5135\n",
      "23      5128\n",
      "20      5126\n",
      "Name: stimulus, dtype: int64\n"
     ]
    }
   ],
   "source": [
    "print(\"Unique Dependent values and their counts :\")\n",
    "print(raw_data[\"stimulus\"].value_counts())"
   ]
  },
  {
   "cell_type": "markdown",
   "id": "54420ec4",
   "metadata": {},
   "source": [
    "# Data Cleaning"
   ]
  },
  {
   "cell_type": "code",
   "execution_count": 6,
   "id": "a811198b",
   "metadata": {},
   "outputs": [],
   "source": [
    "index_names = raw_data[ (raw_data['stimulus'] != raw_data['restimulus'])].index\n",
    "raw_data.drop(index_names, inplace = True)"
   ]
  },
  {
   "cell_type": "code",
   "execution_count": 7,
   "id": "556cd92f",
   "metadata": {},
   "outputs": [],
   "source": [
    "index_names = raw_data[ (raw_data['repetition'] != raw_data['rerepetition'])].index\n",
    "raw_data.drop(index_names, inplace = True)"
   ]
  },
  {
   "cell_type": "code",
   "execution_count": 8,
   "id": "c91744f7",
   "metadata": {},
   "outputs": [],
   "source": [
    "X = raw_data.iloc[:,0:10]\n",
    "y = raw_data.stimulus"
   ]
  },
  {
   "cell_type": "markdown",
   "id": "152f7160",
   "metadata": {},
   "source": [
    "# One Hot Encoding"
   ]
  },
  {
   "cell_type": "code",
   "execution_count": 9,
   "id": "dfb77d24",
   "metadata": {},
   "outputs": [],
   "source": [
    "num_classes = 24"
   ]
  },
  {
   "cell_type": "code",
   "execution_count": 10,
   "id": "be64bf6b",
   "metadata": {},
   "outputs": [],
   "source": [
    "# One hot encoding for categorical labels\n",
    "import keras\n",
    "from keras import utils as np_utils\n",
    "y = keras.utils.np_utils.to_categorical(y, num_classes)"
   ]
  },
  {
   "cell_type": "code",
   "execution_count": 11,
   "id": "c7358f86",
   "metadata": {},
   "outputs": [],
   "source": [
    "input_dim = X.shape[1]"
   ]
  },
  {
   "cell_type": "markdown",
   "id": "cb3088a1",
   "metadata": {},
   "source": [
    "# Standard Scaler"
   ]
  },
  {
   "cell_type": "code",
   "execution_count": 12,
   "id": "5bd820f4",
   "metadata": {},
   "outputs": [],
   "source": [
    "from sklearn.preprocessing import StandardScaler\n",
    "standardscaler=StandardScaler()"
   ]
  },
  {
   "cell_type": "code",
   "execution_count": 13,
   "id": "6a118694",
   "metadata": {},
   "outputs": [],
   "source": [
    "sc = pd.DataFrame(standardscaler.fit_transform(X))"
   ]
  },
  {
   "cell_type": "code",
   "execution_count": 14,
   "id": "d6e2f38b",
   "metadata": {},
   "outputs": [
    {
     "data": {
      "text/html": [
       "<div>\n",
       "<style scoped>\n",
       "    .dataframe tbody tr th:only-of-type {\n",
       "        vertical-align: middle;\n",
       "    }\n",
       "\n",
       "    .dataframe tbody tr th {\n",
       "        vertical-align: top;\n",
       "    }\n",
       "\n",
       "    .dataframe thead th {\n",
       "        text-align: right;\n",
       "    }\n",
       "</style>\n",
       "<table border=\"1\" class=\"dataframe\">\n",
       "  <thead>\n",
       "    <tr style=\"text-align: right;\">\n",
       "      <th></th>\n",
       "      <th>0</th>\n",
       "      <th>1</th>\n",
       "      <th>2</th>\n",
       "      <th>3</th>\n",
       "      <th>4</th>\n",
       "      <th>5</th>\n",
       "      <th>6</th>\n",
       "      <th>7</th>\n",
       "      <th>8</th>\n",
       "      <th>9</th>\n",
       "    </tr>\n",
       "  </thead>\n",
       "  <tbody>\n",
       "    <tr>\n",
       "      <th>0</th>\n",
       "      <td>0.464456</td>\n",
       "      <td>2.108749</td>\n",
       "      <td>0.000652</td>\n",
       "      <td>-0.164084</td>\n",
       "      <td>-0.271049</td>\n",
       "      <td>-0.574566</td>\n",
       "      <td>-0.681186</td>\n",
       "      <td>0.227761</td>\n",
       "      <td>0.079858</td>\n",
       "      <td>0.091531</td>\n",
       "    </tr>\n",
       "    <tr>\n",
       "      <th>1</th>\n",
       "      <td>0.502075</td>\n",
       "      <td>2.084834</td>\n",
       "      <td>-0.024349</td>\n",
       "      <td>-0.164084</td>\n",
       "      <td>-0.271049</td>\n",
       "      <td>-0.574566</td>\n",
       "      <td>-0.681186</td>\n",
       "      <td>0.227761</td>\n",
       "      <td>0.116093</td>\n",
       "      <td>0.050732</td>\n",
       "    </tr>\n",
       "    <tr>\n",
       "      <th>2</th>\n",
       "      <td>0.527327</td>\n",
       "      <td>2.316778</td>\n",
       "      <td>-0.057913</td>\n",
       "      <td>-0.164084</td>\n",
       "      <td>-0.271049</td>\n",
       "      <td>-0.574566</td>\n",
       "      <td>-0.681186</td>\n",
       "      <td>0.179581</td>\n",
       "      <td>0.116093</td>\n",
       "      <td>0.030749</td>\n",
       "    </tr>\n",
       "    <tr>\n",
       "      <th>3</th>\n",
       "      <td>0.527327</td>\n",
       "      <td>2.332831</td>\n",
       "      <td>-0.107915</td>\n",
       "      <td>-0.164084</td>\n",
       "      <td>-0.271049</td>\n",
       "      <td>-0.574566</td>\n",
       "      <td>-0.681186</td>\n",
       "      <td>0.062652</td>\n",
       "      <td>0.107128</td>\n",
       "      <td>0.050732</td>\n",
       "    </tr>\n",
       "    <tr>\n",
       "      <th>4</th>\n",
       "      <td>0.527327</td>\n",
       "      <td>2.372798</td>\n",
       "      <td>-0.141479</td>\n",
       "      <td>-0.146074</td>\n",
       "      <td>-0.271049</td>\n",
       "      <td>-0.574566</td>\n",
       "      <td>-0.681186</td>\n",
       "      <td>-0.047515</td>\n",
       "      <td>0.088824</td>\n",
       "      <td>0.111514</td>\n",
       "    </tr>\n",
       "    <tr>\n",
       "      <th>...</th>\n",
       "      <td>...</td>\n",
       "      <td>...</td>\n",
       "      <td>...</td>\n",
       "      <td>...</td>\n",
       "      <td>...</td>\n",
       "      <td>...</td>\n",
       "      <td>...</td>\n",
       "      <td>...</td>\n",
       "      <td>...</td>\n",
       "      <td>...</td>\n",
       "    </tr>\n",
       "    <tr>\n",
       "      <th>354550</th>\n",
       "      <td>-0.378621</td>\n",
       "      <td>0.469090</td>\n",
       "      <td>-0.258609</td>\n",
       "      <td>-0.164084</td>\n",
       "      <td>-0.271049</td>\n",
       "      <td>-0.574566</td>\n",
       "      <td>-0.610333</td>\n",
       "      <td>-0.301941</td>\n",
       "      <td>-0.257833</td>\n",
       "      <td>-1.595360</td>\n",
       "    </tr>\n",
       "    <tr>\n",
       "      <th>354551</th>\n",
       "      <td>-0.365738</td>\n",
       "      <td>0.549025</td>\n",
       "      <td>-0.258609</td>\n",
       "      <td>-0.164084</td>\n",
       "      <td>-0.271049</td>\n",
       "      <td>-0.574566</td>\n",
       "      <td>-0.603277</td>\n",
       "      <td>-0.363927</td>\n",
       "      <td>-0.257833</td>\n",
       "      <td>-1.575377</td>\n",
       "    </tr>\n",
       "    <tr>\n",
       "      <th>354552</th>\n",
       "      <td>-0.315751</td>\n",
       "      <td>0.845180</td>\n",
       "      <td>-0.250047</td>\n",
       "      <td>-0.164084</td>\n",
       "      <td>-0.271049</td>\n",
       "      <td>-0.574566</td>\n",
       "      <td>-0.593804</td>\n",
       "      <td>-0.425632</td>\n",
       "      <td>-0.257833</td>\n",
       "      <td>-1.575377</td>\n",
       "    </tr>\n",
       "    <tr>\n",
       "      <th>354553</th>\n",
       "      <td>-0.290500</td>\n",
       "      <td>0.941168</td>\n",
       "      <td>-0.258609</td>\n",
       "      <td>-0.164084</td>\n",
       "      <td>-0.271049</td>\n",
       "      <td>-0.574566</td>\n",
       "      <td>-0.582012</td>\n",
       "      <td>-0.398301</td>\n",
       "      <td>-0.257833</td>\n",
       "      <td>-1.555395</td>\n",
       "    </tr>\n",
       "    <tr>\n",
       "      <th>354554</th>\n",
       "      <td>-0.290500</td>\n",
       "      <td>0.876957</td>\n",
       "      <td>-0.258609</td>\n",
       "      <td>-0.164084</td>\n",
       "      <td>-0.271049</td>\n",
       "      <td>-0.574566</td>\n",
       "      <td>-0.574955</td>\n",
       "      <td>-0.425632</td>\n",
       "      <td>-0.257833</td>\n",
       "      <td>-1.514596</td>\n",
       "    </tr>\n",
       "  </tbody>\n",
       "</table>\n",
       "<p>354555 rows × 10 columns</p>\n",
       "</div>"
      ],
      "text/plain": [
       "               0         1         2         3         4         5         6  \\\n",
       "0       0.464456  2.108749  0.000652 -0.164084 -0.271049 -0.574566 -0.681186   \n",
       "1       0.502075  2.084834 -0.024349 -0.164084 -0.271049 -0.574566 -0.681186   \n",
       "2       0.527327  2.316778 -0.057913 -0.164084 -0.271049 -0.574566 -0.681186   \n",
       "3       0.527327  2.332831 -0.107915 -0.164084 -0.271049 -0.574566 -0.681186   \n",
       "4       0.527327  2.372798 -0.141479 -0.146074 -0.271049 -0.574566 -0.681186   \n",
       "...          ...       ...       ...       ...       ...       ...       ...   \n",
       "354550 -0.378621  0.469090 -0.258609 -0.164084 -0.271049 -0.574566 -0.610333   \n",
       "354551 -0.365738  0.549025 -0.258609 -0.164084 -0.271049 -0.574566 -0.603277   \n",
       "354552 -0.315751  0.845180 -0.250047 -0.164084 -0.271049 -0.574566 -0.593804   \n",
       "354553 -0.290500  0.941168 -0.258609 -0.164084 -0.271049 -0.574566 -0.582012   \n",
       "354554 -0.290500  0.876957 -0.258609 -0.164084 -0.271049 -0.574566 -0.574955   \n",
       "\n",
       "               7         8         9  \n",
       "0       0.227761  0.079858  0.091531  \n",
       "1       0.227761  0.116093  0.050732  \n",
       "2       0.179581  0.116093  0.030749  \n",
       "3       0.062652  0.107128  0.050732  \n",
       "4      -0.047515  0.088824  0.111514  \n",
       "...          ...       ...       ...  \n",
       "354550 -0.301941 -0.257833 -1.595360  \n",
       "354551 -0.363927 -0.257833 -1.575377  \n",
       "354552 -0.425632 -0.257833 -1.575377  \n",
       "354553 -0.398301 -0.257833 -1.555395  \n",
       "354554 -0.425632 -0.257833 -1.514596  \n",
       "\n",
       "[354555 rows x 10 columns]"
      ]
     },
     "execution_count": 14,
     "metadata": {},
     "output_type": "execute_result"
    }
   ],
   "source": [
    "sc"
   ]
  },
  {
   "cell_type": "code",
   "execution_count": 15,
   "id": "65cfb75d",
   "metadata": {},
   "outputs": [],
   "source": [
    "# Splitting data for training and testing\n",
    "X_train, X_test, y_train, y_test = train_test_split(sc, y, test_size = 0.2, random_state = 39)"
   ]
  },
  {
   "cell_type": "markdown",
   "id": "3ba47781",
   "metadata": {},
   "source": [
    "# Deep Learning "
   ]
  },
  {
   "cell_type": "code",
   "execution_count": 16,
   "id": "d426e2e1",
   "metadata": {},
   "outputs": [],
   "source": [
    "from sklearn.preprocessing import MinMaxScaler\n",
    "from tensorflow.keras.models import Model\n",
    "from tensorflow.keras.layers import Input\n",
    "from tensorflow.keras.layers import Dense\n",
    "from tensorflow.keras.layers import LeakyReLU,ELU\n",
    "from tensorflow.keras.layers import BatchNormalization\n",
    "from tensorflow.keras.utils import plot_model\n",
    "import tensorflow as tf\n",
    "from sklearn.model_selection import cross_val_score\n",
    "from keras.models import Sequential\n",
    "from keras.layers import Dense, BatchNormalization, Dropout\n",
    "from tensorflow.keras.optimizers import Adam, SGD, RMSprop, Adadelta, Adagrad, Adamax, Nadam, Ftrl\n",
    "from keras.callbacks import EarlyStopping, ModelCheckpoint\n",
    "from keras.wrappers.scikit_learn import KerasClassifier\n",
    "from sklearn.metrics import make_scorer, accuracy_score\n",
    "from sklearn.model_selection import StratifiedKFold"
   ]
  },
  {
   "cell_type": "code",
   "execution_count": 17,
   "id": "cd0ef208",
   "metadata": {},
   "outputs": [],
   "source": [
    "from keras.layers import LeakyReLU\n",
    "LeakyReLU = LeakyReLU(alpha=0.1)\n",
    "from keras.models import Sequential\n",
    "from keras.layers import Dense, Flatten, Convolution1D, Dropout\n",
    "from keras.initializers import random_uniform"
   ]
  },
  {
   "cell_type": "markdown",
   "id": "f97d61bc",
   "metadata": {},
   "source": [
    "# 1. Define Network"
   ]
  },
  {
   "cell_type": "code",
   "execution_count": 18,
   "id": "bd77bf81",
   "metadata": {},
   "outputs": [],
   "source": [
    "num_classes = 24\n",
    "input_dim = X.shape[1]"
   ]
  },
  {
   "cell_type": "code",
   "execution_count": 19,
   "id": "fbdce465",
   "metadata": {},
   "outputs": [],
   "source": [
    "visible = Input(shape=(input_dim,))\n",
    "hidden1 = Dense(3000, activation='relu')(visible)\n",
    "hidden2 = Dense(1500, activation='relu')(hidden1)\n",
    "hidden3 = Dropout(0.2)(hidden2)\n",
    "hidden4 = Dense(750, activation='relu')(hidden3)\n",
    "hidden5 = Dense(375, activation='relu')(hidden4)\n",
    "hidden6 = Dense(48, activation='relu')(hidden5)\n",
    "output = Dense(num_classes, activation='softmax')(hidden6)\n",
    "model = Model(inputs=visible, outputs=output)"
   ]
  },
  {
   "cell_type": "code",
   "execution_count": 20,
   "id": "1dd33478",
   "metadata": {},
   "outputs": [
    {
     "name": "stdout",
     "output_type": "stream",
     "text": [
      "Model: \"model\"\n",
      "_________________________________________________________________\n",
      " Layer (type)                Output Shape              Param #   \n",
      "=================================================================\n",
      " input_1 (InputLayer)        [(None, 10)]              0         \n",
      "                                                                 \n",
      " dense (Dense)               (None, 3000)              33000     \n",
      "                                                                 \n",
      " dense_1 (Dense)             (None, 1500)              4501500   \n",
      "                                                                 \n",
      " dropout (Dropout)           (None, 1500)              0         \n",
      "                                                                 \n",
      " dense_2 (Dense)             (None, 750)               1125750   \n",
      "                                                                 \n",
      " dense_3 (Dense)             (None, 375)               281625    \n",
      "                                                                 \n",
      " dense_4 (Dense)             (None, 48)                18048     \n",
      "                                                                 \n",
      " dense_5 (Dense)             (None, 24)                1176      \n",
      "                                                                 \n",
      "=================================================================\n",
      "Total params: 5,961,099\n",
      "Trainable params: 5,961,099\n",
      "Non-trainable params: 0\n",
      "_________________________________________________________________\n"
     ]
    }
   ],
   "source": [
    "model.summary()"
   ]
  },
  {
   "cell_type": "markdown",
   "id": "3196ac97",
   "metadata": {},
   "source": [
    "# 2. Compile Network"
   ]
  },
  {
   "cell_type": "code",
   "execution_count": 21,
   "id": "7a2d558b",
   "metadata": {},
   "outputs": [],
   "source": [
    "model.compile(optimizer='adam', loss='categorical_crossentropy', metrics=['accuracy'])"
   ]
  },
  {
   "cell_type": "code",
   "execution_count": 22,
   "id": "c1d2b36d",
   "metadata": {},
   "outputs": [
    {
     "name": "stdout",
     "output_type": "stream",
     "text": [
      "You must install pydot (`pip install pydot`) and install graphviz (see instructions at https://graphviz.gitlab.io/download/) for plot_model/model_to_dot to work.\n"
     ]
    }
   ],
   "source": [
    "plot_model(model, 'EMG_ANN', show_shapes = True)"
   ]
  },
  {
   "cell_type": "markdown",
   "id": "3358b592",
   "metadata": {},
   "source": [
    "# 3. Fit Network"
   ]
  },
  {
   "cell_type": "code",
   "execution_count": 23,
   "id": "e0ed4ddd",
   "metadata": {},
   "outputs": [
    {
     "name": "stdout",
     "output_type": "stream",
     "text": [
      "Epoch 1/100\n",
      "70/70 [==============================] - 4s 30ms/step - loss: 1.4450 - accuracy: 0.6254 - val_loss: 1.0502 - val_accuracy: 0.7170\n",
      "Epoch 2/100\n",
      "70/70 [==============================] - 2s 25ms/step - loss: 0.9539 - accuracy: 0.7391 - val_loss: 0.8417 - val_accuracy: 0.7709\n",
      "Epoch 3/100\n",
      "70/70 [==============================] - 2s 25ms/step - loss: 0.8181 - accuracy: 0.7741 - val_loss: 0.7658 - val_accuracy: 0.7897\n",
      "Epoch 4/100\n",
      "70/70 [==============================] - 2s 25ms/step - loss: 0.7452 - accuracy: 0.7923 - val_loss: 0.6977 - val_accuracy: 0.8062\n",
      "Epoch 5/100\n",
      "70/70 [==============================] - 2s 25ms/step - loss: 0.6973 - accuracy: 0.8043 - val_loss: 0.6642 - val_accuracy: 0.8161\n",
      "Epoch 6/100\n",
      "70/70 [==============================] - 2s 25ms/step - loss: 0.6580 - accuracy: 0.8143 - val_loss: 0.6332 - val_accuracy: 0.8221\n",
      "Epoch 7/100\n",
      "70/70 [==============================] - 2s 25ms/step - loss: 0.6307 - accuracy: 0.8207 - val_loss: 0.6016 - val_accuracy: 0.8305\n",
      "Epoch 8/100\n",
      "70/70 [==============================] - 2s 25ms/step - loss: 0.6003 - accuracy: 0.8290 - val_loss: 0.5856 - val_accuracy: 0.8348\n",
      "Epoch 9/100\n",
      "70/70 [==============================] - 2s 25ms/step - loss: 0.5795 - accuracy: 0.8337 - val_loss: 0.5632 - val_accuracy: 0.8390\n",
      "Epoch 10/100\n",
      "70/70 [==============================] - 2s 25ms/step - loss: 0.5625 - accuracy: 0.8372 - val_loss: 0.5353 - val_accuracy: 0.8471\n",
      "Epoch 11/100\n",
      "70/70 [==============================] - 2s 25ms/step - loss: 0.5368 - accuracy: 0.8441 - val_loss: 0.5201 - val_accuracy: 0.8519\n",
      "Epoch 12/100\n",
      "70/70 [==============================] - 2s 25ms/step - loss: 0.5194 - accuracy: 0.8488 - val_loss: 0.5125 - val_accuracy: 0.8526\n",
      "Epoch 13/100\n",
      "70/70 [==============================] - 2s 25ms/step - loss: 0.5063 - accuracy: 0.8517 - val_loss: 0.5062 - val_accuracy: 0.8547\n",
      "Epoch 14/100\n",
      "70/70 [==============================] - 2s 25ms/step - loss: 0.4960 - accuracy: 0.8549 - val_loss: 0.4930 - val_accuracy: 0.8583\n",
      "Epoch 15/100\n",
      "70/70 [==============================] - 2s 25ms/step - loss: 0.4778 - accuracy: 0.8598 - val_loss: 0.4763 - val_accuracy: 0.8628\n",
      "Epoch 16/100\n",
      "70/70 [==============================] - 2s 25ms/step - loss: 0.4676 - accuracy: 0.8622 - val_loss: 0.4603 - val_accuracy: 0.8658\n",
      "Epoch 17/100\n",
      "70/70 [==============================] - 2s 25ms/step - loss: 0.4569 - accuracy: 0.8651 - val_loss: 0.4516 - val_accuracy: 0.8682\n",
      "Epoch 18/100\n",
      "70/70 [==============================] - 2s 25ms/step - loss: 0.4451 - accuracy: 0.8684 - val_loss: 0.4481 - val_accuracy: 0.8683\n",
      "Epoch 19/100\n",
      "70/70 [==============================] - 2s 25ms/step - loss: 0.4362 - accuracy: 0.8707 - val_loss: 0.4374 - val_accuracy: 0.8701\n",
      "Epoch 20/100\n",
      "70/70 [==============================] - 2s 25ms/step - loss: 0.4293 - accuracy: 0.8724 - val_loss: 0.4327 - val_accuracy: 0.8738\n",
      "Epoch 21/100\n",
      "70/70 [==============================] - 2s 25ms/step - loss: 0.4228 - accuracy: 0.8737 - val_loss: 0.4269 - val_accuracy: 0.8739\n",
      "Epoch 22/100\n",
      "70/70 [==============================] - 2s 26ms/step - loss: 0.4109 - accuracy: 0.8773 - val_loss: 0.4184 - val_accuracy: 0.8758\n",
      "Epoch 23/100\n",
      "70/70 [==============================] - 2s 26ms/step - loss: 0.4041 - accuracy: 0.8784 - val_loss: 0.4103 - val_accuracy: 0.8784\n",
      "Epoch 24/100\n",
      "70/70 [==============================] - 2s 26ms/step - loss: 0.3950 - accuracy: 0.8813 - val_loss: 0.4142 - val_accuracy: 0.8781\n",
      "Epoch 25/100\n",
      "70/70 [==============================] - 2s 25ms/step - loss: 0.3893 - accuracy: 0.8832 - val_loss: 0.4067 - val_accuracy: 0.8802\n",
      "Epoch 26/100\n",
      "70/70 [==============================] - 2s 25ms/step - loss: 0.3835 - accuracy: 0.8853 - val_loss: 0.3903 - val_accuracy: 0.8848\n",
      "Epoch 27/100\n",
      "70/70 [==============================] - 2s 26ms/step - loss: 0.3753 - accuracy: 0.8868 - val_loss: 0.3930 - val_accuracy: 0.8826\n",
      "Epoch 28/100\n",
      "70/70 [==============================] - 2s 26ms/step - loss: 0.3749 - accuracy: 0.8868 - val_loss: 0.3871 - val_accuracy: 0.8858\n",
      "Epoch 29/100\n",
      "70/70 [==============================] - 2s 25ms/step - loss: 0.3682 - accuracy: 0.8889 - val_loss: 0.3747 - val_accuracy: 0.8882\n",
      "Epoch 30/100\n",
      "70/70 [==============================] - 2s 25ms/step - loss: 0.3589 - accuracy: 0.8914 - val_loss: 0.3731 - val_accuracy: 0.8878\n",
      "Epoch 31/100\n",
      "70/70 [==============================] - 2s 26ms/step - loss: 0.3561 - accuracy: 0.8919 - val_loss: 0.3748 - val_accuracy: 0.8875\n",
      "Epoch 32/100\n",
      "70/70 [==============================] - 2s 25ms/step - loss: 0.3490 - accuracy: 0.8941 - val_loss: 0.3688 - val_accuracy: 0.8887\n",
      "Epoch 33/100\n",
      "70/70 [==============================] - 2s 25ms/step - loss: 0.3475 - accuracy: 0.8945 - val_loss: 0.3641 - val_accuracy: 0.8915\n",
      "Epoch 34/100\n",
      "70/70 [==============================] - 2s 26ms/step - loss: 0.3417 - accuracy: 0.8957 - val_loss: 0.3566 - val_accuracy: 0.8935\n",
      "Epoch 35/100\n",
      "70/70 [==============================] - 2s 26ms/step - loss: 0.3384 - accuracy: 0.8967 - val_loss: 0.3552 - val_accuracy: 0.8940\n",
      "Epoch 36/100\n",
      "70/70 [==============================] - 2s 26ms/step - loss: 0.3321 - accuracy: 0.8984 - val_loss: 0.3507 - val_accuracy: 0.8951\n",
      "Epoch 37/100\n",
      "70/70 [==============================] - 2s 25ms/step - loss: 0.3264 - accuracy: 0.9002 - val_loss: 0.3627 - val_accuracy: 0.8922\n",
      "Epoch 38/100\n",
      "70/70 [==============================] - 2s 25ms/step - loss: 0.3230 - accuracy: 0.9011 - val_loss: 0.3514 - val_accuracy: 0.8959\n",
      "Epoch 39/100\n",
      "70/70 [==============================] - 2s 26ms/step - loss: 0.3192 - accuracy: 0.9020 - val_loss: 0.3501 - val_accuracy: 0.8968\n",
      "Epoch 40/100\n",
      "70/70 [==============================] - 2s 26ms/step - loss: 0.3200 - accuracy: 0.9015 - val_loss: 0.3425 - val_accuracy: 0.8980\n",
      "Epoch 41/100\n",
      "70/70 [==============================] - 2s 26ms/step - loss: 0.3123 - accuracy: 0.9041 - val_loss: 0.3440 - val_accuracy: 0.8961\n",
      "Epoch 42/100\n",
      "70/70 [==============================] - 2s 26ms/step - loss: 0.3111 - accuracy: 0.9038 - val_loss: 0.3389 - val_accuracy: 0.8993\n",
      "Epoch 43/100\n",
      "70/70 [==============================] - 2s 25ms/step - loss: 0.3050 - accuracy: 0.9059 - val_loss: 0.3345 - val_accuracy: 0.8996\n",
      "Epoch 44/100\n",
      "70/70 [==============================] - 2s 26ms/step - loss: 0.3029 - accuracy: 0.9064 - val_loss: 0.3348 - val_accuracy: 0.8990\n",
      "Epoch 45/100\n",
      "70/70 [==============================] - 2s 26ms/step - loss: 0.2994 - accuracy: 0.9082 - val_loss: 0.3294 - val_accuracy: 0.9016\n",
      "Epoch 46/100\n",
      "70/70 [==============================] - 2s 26ms/step - loss: 0.2913 - accuracy: 0.9102 - val_loss: 0.3275 - val_accuracy: 0.9025\n",
      "Epoch 47/100\n",
      "70/70 [==============================] - 2s 25ms/step - loss: 0.2929 - accuracy: 0.9094 - val_loss: 0.3257 - val_accuracy: 0.9028\n",
      "Epoch 48/100\n",
      "70/70 [==============================] - 2s 25ms/step - loss: 0.2905 - accuracy: 0.9100 - val_loss: 0.3295 - val_accuracy: 0.9013\n",
      "Epoch 49/100\n",
      "70/70 [==============================] - 2s 25ms/step - loss: 0.2880 - accuracy: 0.9106 - val_loss: 0.3296 - val_accuracy: 0.8999\n",
      "Epoch 50/100\n",
      "70/70 [==============================] - 2s 26ms/step - loss: 0.2843 - accuracy: 0.9119 - val_loss: 0.3197 - val_accuracy: 0.9039\n",
      "Epoch 51/100\n",
      "70/70 [==============================] - 2s 26ms/step - loss: 0.2843 - accuracy: 0.9114 - val_loss: 0.3293 - val_accuracy: 0.9025\n",
      "Epoch 52/100\n",
      "70/70 [==============================] - 2s 25ms/step - loss: 0.2785 - accuracy: 0.9131 - val_loss: 0.3233 - val_accuracy: 0.9041\n",
      "Epoch 53/100\n",
      "70/70 [==============================] - 2s 26ms/step - loss: 0.2788 - accuracy: 0.9129 - val_loss: 0.3101 - val_accuracy: 0.9064\n",
      "Epoch 54/100\n",
      "70/70 [==============================] - 2s 26ms/step - loss: 0.2761 - accuracy: 0.9140 - val_loss: 0.3145 - val_accuracy: 0.9064\n",
      "Epoch 55/100\n",
      "70/70 [==============================] - 2s 26ms/step - loss: 0.2709 - accuracy: 0.9157 - val_loss: 0.3096 - val_accuracy: 0.9076\n",
      "Epoch 56/100\n",
      "70/70 [==============================] - 2s 26ms/step - loss: 0.2689 - accuracy: 0.9161 - val_loss: 0.3120 - val_accuracy: 0.9074\n",
      "Epoch 57/100\n",
      "70/70 [==============================] - 2s 26ms/step - loss: 0.2656 - accuracy: 0.9170 - val_loss: 0.3090 - val_accuracy: 0.9075\n",
      "Epoch 58/100\n"
     ]
    },
    {
     "name": "stdout",
     "output_type": "stream",
     "text": [
      "70/70 [==============================] - 2s 26ms/step - loss: 0.2624 - accuracy: 0.9179 - val_loss: 0.3070 - val_accuracy: 0.9066\n",
      "Epoch 59/100\n",
      "70/70 [==============================] - 2s 26ms/step - loss: 0.2605 - accuracy: 0.9185 - val_loss: 0.3036 - val_accuracy: 0.9088\n",
      "Epoch 60/100\n",
      "70/70 [==============================] - 2s 26ms/step - loss: 0.2589 - accuracy: 0.9190 - val_loss: 0.2989 - val_accuracy: 0.9091\n",
      "Epoch 61/100\n",
      "70/70 [==============================] - 2s 26ms/step - loss: 0.2605 - accuracy: 0.9183 - val_loss: 0.3099 - val_accuracy: 0.9081\n",
      "Epoch 62/100\n",
      "70/70 [==============================] - 2s 26ms/step - loss: 0.2551 - accuracy: 0.9197 - val_loss: 0.2996 - val_accuracy: 0.9102\n",
      "Epoch 63/100\n",
      "70/70 [==============================] - 2s 26ms/step - loss: 0.2536 - accuracy: 0.9203 - val_loss: 0.2952 - val_accuracy: 0.9118\n",
      "Epoch 64/100\n",
      "70/70 [==============================] - 2s 26ms/step - loss: 0.2506 - accuracy: 0.9212 - val_loss: 0.2919 - val_accuracy: 0.9121\n",
      "Epoch 65/100\n",
      "70/70 [==============================] - 2s 26ms/step - loss: 0.2499 - accuracy: 0.9211 - val_loss: 0.3012 - val_accuracy: 0.9093\n",
      "Epoch 66/100\n",
      "70/70 [==============================] - 2s 26ms/step - loss: 0.2492 - accuracy: 0.9218 - val_loss: 0.2927 - val_accuracy: 0.9124\n",
      "Epoch 67/100\n",
      "70/70 [==============================] - 2s 26ms/step - loss: 0.2446 - accuracy: 0.9227 - val_loss: 0.2898 - val_accuracy: 0.9128\n",
      "Epoch 68/100\n",
      "70/70 [==============================] - 2s 26ms/step - loss: 0.2441 - accuracy: 0.9229 - val_loss: 0.2959 - val_accuracy: 0.9112\n",
      "Epoch 69/100\n",
      "70/70 [==============================] - 2s 26ms/step - loss: 0.2389 - accuracy: 0.9252 - val_loss: 0.2947 - val_accuracy: 0.9120\n",
      "Epoch 70/100\n",
      "70/70 [==============================] - 2s 26ms/step - loss: 0.2376 - accuracy: 0.9248 - val_loss: 0.2895 - val_accuracy: 0.9142\n",
      "Epoch 71/100\n",
      "70/70 [==============================] - 2s 26ms/step - loss: 0.2345 - accuracy: 0.9258 - val_loss: 0.2895 - val_accuracy: 0.9120\n",
      "Epoch 72/100\n",
      "70/70 [==============================] - 2s 26ms/step - loss: 0.2373 - accuracy: 0.9249 - val_loss: 0.2903 - val_accuracy: 0.9133\n",
      "Epoch 73/100\n",
      "70/70 [==============================] - 2s 26ms/step - loss: 0.2346 - accuracy: 0.9254 - val_loss: 0.2878 - val_accuracy: 0.9134\n",
      "Epoch 74/100\n",
      "70/70 [==============================] - 2s 26ms/step - loss: 0.2320 - accuracy: 0.9266 - val_loss: 0.2831 - val_accuracy: 0.9154\n",
      "Epoch 75/100\n",
      "70/70 [==============================] - 2s 26ms/step - loss: 0.2311 - accuracy: 0.9267 - val_loss: 0.2812 - val_accuracy: 0.9154\n",
      "Epoch 76/100\n",
      "70/70 [==============================] - 2s 26ms/step - loss: 0.2290 - accuracy: 0.9275 - val_loss: 0.2793 - val_accuracy: 0.9167\n",
      "Epoch 77/100\n",
      "70/70 [==============================] - 2s 26ms/step - loss: 0.2280 - accuracy: 0.9276 - val_loss: 0.2814 - val_accuracy: 0.9156\n",
      "Epoch 78/100\n",
      "70/70 [==============================] - 2s 26ms/step - loss: 0.2278 - accuracy: 0.9272 - val_loss: 0.2826 - val_accuracy: 0.9149\n",
      "Epoch 79/100\n",
      "70/70 [==============================] - 2s 26ms/step - loss: 0.2235 - accuracy: 0.9286 - val_loss: 0.2778 - val_accuracy: 0.9163\n",
      "Epoch 80/100\n",
      "70/70 [==============================] - 2s 26ms/step - loss: 0.2257 - accuracy: 0.9280 - val_loss: 0.2849 - val_accuracy: 0.9143\n",
      "Epoch 81/100\n",
      "70/70 [==============================] - 2s 26ms/step - loss: 0.2208 - accuracy: 0.9296 - val_loss: 0.2794 - val_accuracy: 0.9170\n",
      "Epoch 82/100\n",
      "70/70 [==============================] - 2s 26ms/step - loss: 0.2237 - accuracy: 0.9287 - val_loss: 0.2871 - val_accuracy: 0.9138\n",
      "Epoch 83/100\n",
      "70/70 [==============================] - 2s 26ms/step - loss: 0.2275 - accuracy: 0.9285 - val_loss: 0.2835 - val_accuracy: 0.9145\n",
      "Epoch 84/100\n",
      "70/70 [==============================] - 2s 26ms/step - loss: 0.2198 - accuracy: 0.9295 - val_loss: 0.2789 - val_accuracy: 0.9169\n",
      "Epoch 85/100\n",
      "70/70 [==============================] - 2s 26ms/step - loss: 0.2180 - accuracy: 0.9303 - val_loss: 0.2779 - val_accuracy: 0.9174\n",
      "Epoch 86/100\n",
      "70/70 [==============================] - 2s 26ms/step - loss: 0.2151 - accuracy: 0.9312 - val_loss: 0.2728 - val_accuracy: 0.9192\n",
      "Epoch 87/100\n",
      "70/70 [==============================] - 2s 26ms/step - loss: 0.2123 - accuracy: 0.9322 - val_loss: 0.2775 - val_accuracy: 0.9175\n",
      "Epoch 88/100\n",
      "70/70 [==============================] - 2s 26ms/step - loss: 0.2148 - accuracy: 0.9309 - val_loss: 0.2801 - val_accuracy: 0.9162\n",
      "Epoch 89/100\n",
      "70/70 [==============================] - 2s 26ms/step - loss: 0.2108 - accuracy: 0.9323 - val_loss: 0.2734 - val_accuracy: 0.9179\n",
      "Epoch 90/100\n",
      "70/70 [==============================] - 2s 26ms/step - loss: 0.2070 - accuracy: 0.9336 - val_loss: 0.2708 - val_accuracy: 0.9214\n",
      "Epoch 91/100\n",
      "70/70 [==============================] - 2s 26ms/step - loss: 0.2086 - accuracy: 0.9332 - val_loss: 0.2723 - val_accuracy: 0.9190\n",
      "Epoch 92/100\n",
      "70/70 [==============================] - 2s 26ms/step - loss: 0.2100 - accuracy: 0.9329 - val_loss: 0.2804 - val_accuracy: 0.9174\n",
      "Epoch 93/100\n",
      "70/70 [==============================] - 2s 26ms/step - loss: 0.2084 - accuracy: 0.9334 - val_loss: 0.2784 - val_accuracy: 0.9166\n",
      "Epoch 94/100\n",
      "70/70 [==============================] - 2s 26ms/step - loss: 0.2047 - accuracy: 0.9341 - val_loss: 0.2698 - val_accuracy: 0.9192\n",
      "Epoch 95/100\n",
      "70/70 [==============================] - 2s 26ms/step - loss: 0.2054 - accuracy: 0.9339 - val_loss: 0.2686 - val_accuracy: 0.9194\n",
      "Epoch 96/100\n",
      "70/70 [==============================] - 2s 26ms/step - loss: 0.2021 - accuracy: 0.9347 - val_loss: 0.2653 - val_accuracy: 0.9204\n",
      "Epoch 97/100\n",
      "70/70 [==============================] - 2s 27ms/step - loss: 0.2007 - accuracy: 0.9355 - val_loss: 0.2690 - val_accuracy: 0.9219\n",
      "Epoch 98/100\n",
      "70/70 [==============================] - 2s 26ms/step - loss: 0.2029 - accuracy: 0.9347 - val_loss: 0.2714 - val_accuracy: 0.9197\n",
      "Epoch 99/100\n",
      "70/70 [==============================] - 2s 26ms/step - loss: 0.1988 - accuracy: 0.9363 - val_loss: 0.2675 - val_accuracy: 0.9205\n",
      "Epoch 100/100\n",
      "70/70 [==============================] - 2s 26ms/step - loss: 0.1995 - accuracy: 0.9357 - val_loss: 0.2688 - val_accuracy: 0.9206\n"
     ]
    }
   ],
   "source": [
    "history = model.fit(X_train, y_train, batch_size=4056, epochs=100, validation_data = (X_test, y_test))"
   ]
  },
  {
   "cell_type": "markdown",
   "id": "ffed59b1",
   "metadata": {},
   "source": [
    "# 4.Evaluate Network"
   ]
  },
  {
   "cell_type": "markdown",
   "id": "28731190",
   "metadata": {},
   "source": [
    "## 4.1. Plotting Loss and Accuracy"
   ]
  },
  {
   "cell_type": "code",
   "execution_count": 24,
   "id": "971e6040",
   "metadata": {},
   "outputs": [
    {
     "data": {
      "text/plain": [
       "Text(0.5, 1.0, 'Loss Curve of Deep Neural Netowork')"
      ]
     },
     "execution_count": 24,
     "metadata": {},
     "output_type": "execute_result"
    },
    {
     "data": {
      "image/png": "[encoded data removed]",
      "text/plain": [
       "<Figure size 432x288 with 1 Axes>"
      ]
     },
     "metadata": {
      "needs_background": "light"
     },
     "output_type": "display_data"
    }
   ],
   "source": [
    "#Loss Curve\n",
    "\n",
    "\n",
    "plt.plot(figsize = [8,6])\n",
    "\n",
    "plt.plot(history.history['loss'],'r',linewidth = 3.0)\n",
    "plt.plot(history.history['val_loss'],'b',linewidth = 3.0)\n",
    "\n",
    "plt.legend(['Training Loss', 'Validation Loss'], fontsize = 18)\n",
    "\n",
    "plt.xlabel('Epochs', fontsize = 16)\n",
    "plt.ylabel('Loss', fontsize = 16)\n",
    "\n",
    "plt.title('Loss Curve of Deep Neural Netowork' , fontsize = 16 )\n",
    "\n"
   ]
  },
  {
   "cell_type": "code",
   "execution_count": 25,
   "id": "b0c193ec",
   "metadata": {},
   "outputs": [
    {
     "data": {
      "text/plain": [
       "Text(0.5, 1.0, 'Accuracy Curve of Deep Neural Netowork')"
      ]
     },
     "execution_count": 25,
     "metadata": {},
     "output_type": "execute_result"
    },
    {
     "data": {
      "image/png": "[encoded data removed]",
      "text/plain": [
       "<Figure size 432x288 with 1 Axes>"
      ]
     },
     "metadata": {
      "needs_background": "light"
     },
     "output_type": "display_data"
    }
   ],
   "source": [
    "#Accuracy Curve\n",
    "\n",
    "plt.plot(figsize = [8,6])\n",
    "plt.plot(history.history['accuracy'],'r',linewidth = 3.0)\n",
    "plt.plot(history.history['val_accuracy'],'b',linewidth = 3.0)\n",
    "\n",
    "plt.legend(['Training Accuracy', 'Validation Accuracy'], fontsize = 18)\n",
    "\n",
    "plt.xlabel('Epochs', fontsize = 16)\n",
    "plt.ylabel('Accuracy', fontsize = 16)\n",
    "\n",
    "\n",
    "plt.title('Accuracy Curve of Deep Neural Netowork' , fontsize = 16 )"
   ]
  },
  {
   "cell_type": "markdown",
   "id": "741a02aa",
   "metadata": {},
   "source": [
    "##  4.2 Make Predictions"
   ]
  },
  {
   "cell_type": "code",
   "execution_count": 26,
   "id": "e8465627",
   "metadata": {},
   "outputs": [],
   "source": [
    "predictions = model.predict(X_test)\n",
    "predictions = np.argmax(predictions, axis = 1)"
   ]
  },
  {
   "cell_type": "code",
   "execution_count": 27,
   "id": "3cac1a50",
   "metadata": {},
   "outputs": [
    {
     "data": {
      "text/plain": [
       "array([15,  0,  9, ...,  4, 12,  1], dtype=int64)"
      ]
     },
     "execution_count": 27,
     "metadata": {},
     "output_type": "execute_result"
    }
   ],
   "source": [
    "predictions"
   ]
  },
  {
   "cell_type": "markdown",
   "id": "70d666bb",
   "metadata": {},
   "source": [
    "#### Transforming from One Hot Encoding"
   ]
  },
  {
   "cell_type": "code",
   "execution_count": 28,
   "id": "7234b6e7",
   "metadata": {},
   "outputs": [
    {
     "data": {
      "text/plain": [
       "0"
      ]
     },
     "execution_count": 28,
     "metadata": {},
     "output_type": "execute_result"
    }
   ],
   "source": [
    "y_test =np.argmax(y_test, axis=1)\n",
    "y_test[1]"
   ]
  },
  {
   "cell_type": "code",
   "execution_count": 29,
   "id": "6278820d",
   "metadata": {},
   "outputs": [
    {
     "name": "stdout",
     "output_type": "stream",
     "text": [
      "Accuracy is: 92.05623951150032\n"
     ]
    }
   ],
   "source": [
    "from sklearn.metrics import accuracy_score\n",
    "accuracy = {accuracy_score(y_test, predictions)}\n",
    "print(f\"Accuracy is: {accuracy_score(y_test, predictions)* 100}\")"
   ]
  },
  {
   "cell_type": "markdown",
   "id": "eb044ea1",
   "metadata": {},
   "source": [
    "## 4.3 Classification Report"
   ]
  },
  {
   "cell_type": "code",
   "execution_count": 30,
   "id": "001ebc5a",
   "metadata": {},
   "outputs": [
    {
     "name": "stdout",
     "output_type": "stream",
     "text": [
      "\u001b[1mClassification report : \u001b[0m\n",
      "               precision    recall  f1-score   support\n",
      "\n",
      "           0       0.93      0.98      0.96     37418\n",
      "           1       0.93      0.92      0.93      1916\n",
      "           2       0.95      0.81      0.88      1886\n",
      "           3       0.89      0.88      0.89      2108\n",
      "           4       0.95      0.86      0.91      1874\n",
      "           5       0.87      0.87      0.87      1961\n",
      "           6       0.94      0.91      0.92      2156\n",
      "           7       0.90      0.83      0.86      1759\n",
      "           8       0.87      0.86      0.87      1869\n",
      "           9       0.88      0.79      0.84      1913\n",
      "          10       0.93      0.81      0.87      1640\n",
      "          11       0.96      0.82      0.89      1823\n",
      "          12       0.95      0.88      0.91      1741\n",
      "          13       0.90      0.90      0.90      1065\n",
      "          14       0.71      0.75      0.73      1401\n",
      "          15       0.78      0.79      0.79      1412\n",
      "          16       0.89      0.84      0.87      1256\n",
      "          17       0.89      0.82      0.86      1398\n",
      "          18       0.95      0.73      0.83       589\n",
      "          19       0.91      0.83      0.86       817\n",
      "          20       0.94      0.92      0.93       902\n",
      "          21       0.96      0.94      0.95       624\n",
      "          22       0.94      0.96      0.95       700\n",
      "          23       0.93      0.96      0.94       683\n",
      "\n",
      "    accuracy                           0.92     70911\n",
      "   macro avg       0.91      0.86      0.88     70911\n",
      "weighted avg       0.92      0.92      0.92     70911\n",
      "\n",
      "\u001b[1mConfusion Matrix : \u001b[0m\n"
     ]
    },
    {
     "data": {
      "image/png": "[encoded data removed]",
      "text/plain": [
       "<Figure size 432x288 with 2 Axes>"
      ]
     },
     "metadata": {
      "needs_background": "light"
     },
     "output_type": "display_data"
    }
   ],
   "source": [
    "from sklearn.metrics import confusion_matrix, f1_score, accuracy_score, classification_report\n",
    "print('\\033[1m' +'Classification report : '+ '\\033[0m\\n', classification_report(y_test, predictions))\n",
    "\n",
    "cm = confusion_matrix(predictions, y_test)\n",
    "print('\\033[1m' +'Confusion Matrix : '+ '\\033[0m')\n",
    "sns.heatmap(cm, cmap = 'OrRd',annot = True, fmt='d')\n",
    "plt.show()"
   ]
  },
  {
   "cell_type": "markdown",
   "id": "eaa5e512",
   "metadata": {},
   "source": [
    "## 4.4 Evaluation"
   ]
  },
  {
   "cell_type": "code",
   "execution_count": 31,
   "id": "9e469f86",
   "metadata": {},
   "outputs": [
    {
     "name": "stdout",
     "output_type": "stream",
     "text": [
      "MAE: 0.677102283143659\n",
      "MSE: 8.182341244658797\n",
      "RMSE: 2.8604791984314093\n"
     ]
    }
   ],
   "source": [
    "from sklearn import metrics\n",
    "\n",
    "print('MAE:', metrics.mean_absolute_error(y_test,predictions))\n",
    "print('MSE:', metrics.mean_squared_error(y_test, predictions))\n",
    "print('RMSE:', np.sqrt(metrics.mean_squared_error(y_test, predictions)))"
   ]
  },
  {
   "cell_type": "code",
   "execution_count": 32,
   "id": "dff2a82d",
   "metadata": {},
   "outputs": [
    {
     "name": "stdout",
     "output_type": "stream",
     "text": [
      "Precision Score :  0.9207546525079149\n",
      "Recall Score :  0.9205623951150033\n",
      "f1_score :  0.9195539833049927\n"
     ]
    }
   ],
   "source": [
    "from sklearn.metrics import precision_score\n",
    "print(\"Precision Score : \",precision_score(y_test, predictions, average='weighted'))\n",
    "\n",
    "\n",
    "from sklearn.metrics import recall_score\n",
    "print(\"Recall Score : \",recall_score(y_test, predictions,average='weighted'))\n",
    "\n",
    "\n",
    "from sklearn.metrics import f1_score\n",
    "print(\"f1_score : \",f1_score(y_test, predictions,average='weighted'))"
   ]
  },
  {
   "cell_type": "code",
   "execution_count": null,
   "id": "81ac7468",
   "metadata": {},
   "outputs": [],
   "source": []
  },
  {
   "cell_type": "code",
   "execution_count": null,
   "id": "71a4c6e0",
   "metadata": {},
   "outputs": [],
   "source": []
  }
 ],
 "metadata": {
  "kernelspec": {
   "display_name": "Python 3 (ipykernel)",
   "language": "python",
   "name": "python3"
  },
  "language_info": {
   "codemirror_mode": {
    "name": "ipython",
    "version": 3
   },
   "file_extension": ".py",
   "mimetype": "text/x-python",
   "name": "python",
   "nbconvert_exporter": "python",
   "pygments_lexer": "ipython3",
   "version": "3.8.12"
  }
 },
 "nbformat": 4,
 "nbformat_minor": 5
}
