{
 "cells": [
  {
   "cell_type": "markdown",
   "id": "bf8ee932",
   "metadata": {},
   "source": [
    "# Importing Libraries"
   ]
  },
  {
   "cell_type": "code",
   "execution_count": 1,
   "id": "0f663fa8",
   "metadata": {},
   "outputs": [],
   "source": [
    "import numpy as np\n",
    "import pandas as pd\n",
    "import matplotlib.pyplot as plt\n",
    "import seaborn as sns\n",
    "from sklearn.model_selection import train_test_split"
   ]
  },
  {
   "cell_type": "markdown",
   "id": "511af272",
   "metadata": {},
   "source": [
    "# Loading Data"
   ]
  },
  {
   "cell_type": "code",
   "execution_count": 2,
   "id": "04fd19b0",
   "metadata": {},
   "outputs": [
    {
     "data": {
      "text/html": [
       "<div>\n",
       "<style scoped>\n",
       "    .dataframe tbody tr th:only-of-type {\n",
       "        vertical-align: middle;\n",
       "    }\n",
       "\n",
       "    .dataframe tbody tr th {\n",
       "        vertical-align: top;\n",
       "    }\n",
       "\n",
       "    .dataframe thead th {\n",
       "        text-align: right;\n",
       "    }\n",
       "</style>\n",
       "<table border=\"1\" class=\"dataframe\">\n",
       "  <thead>\n",
       "    <tr style=\"text-align: right;\">\n",
       "      <th></th>\n",
       "      <th>Emg1</th>\n",
       "      <th>Emg2</th>\n",
       "      <th>Emg3</th>\n",
       "      <th>Emg4</th>\n",
       "      <th>Emg5</th>\n",
       "      <th>Emg6</th>\n",
       "      <th>Emg7</th>\n",
       "      <th>Emg8</th>\n",
       "      <th>Emg9</th>\n",
       "      <th>Emg10</th>\n",
       "      <th>repetition</th>\n",
       "      <th>rerepetition</th>\n",
       "      <th>stimulus</th>\n",
       "      <th>restimulus</th>\n",
       "    </tr>\n",
       "  </thead>\n",
       "  <tbody>\n",
       "    <tr>\n",
       "      <th>177943</th>\n",
       "      <td>1.3550</td>\n",
       "      <td>0.2100</td>\n",
       "      <td>0.0952</td>\n",
       "      <td>0.0537</td>\n",
       "      <td>0.0513</td>\n",
       "      <td>0.0586</td>\n",
       "      <td>0.0513</td>\n",
       "      <td>0.2148</td>\n",
       "      <td>0.0586</td>\n",
       "      <td>0.0903</td>\n",
       "      <td>2</td>\n",
       "      <td>2</td>\n",
       "      <td>10</td>\n",
       "      <td>10</td>\n",
       "    </tr>\n",
       "    <tr>\n",
       "      <th>423271</th>\n",
       "      <td>0.3931</td>\n",
       "      <td>0.0952</td>\n",
       "      <td>0.0098</td>\n",
       "      <td>0.0024</td>\n",
       "      <td>0.0024</td>\n",
       "      <td>0.0073</td>\n",
       "      <td>0.1221</td>\n",
       "      <td>0.2271</td>\n",
       "      <td>0.0024</td>\n",
       "      <td>0.2173</td>\n",
       "      <td>0</td>\n",
       "      <td>0</td>\n",
       "      <td>0</td>\n",
       "      <td>0</td>\n",
       "    </tr>\n",
       "    <tr>\n",
       "      <th>37794</th>\n",
       "      <td>0.5200</td>\n",
       "      <td>0.0854</td>\n",
       "      <td>0.0073</td>\n",
       "      <td>0.0024</td>\n",
       "      <td>0.0024</td>\n",
       "      <td>0.0024</td>\n",
       "      <td>0.0244</td>\n",
       "      <td>0.2588</td>\n",
       "      <td>0.0024</td>\n",
       "      <td>0.0757</td>\n",
       "      <td>0</td>\n",
       "      <td>0</td>\n",
       "      <td>0</td>\n",
       "      <td>0</td>\n",
       "    </tr>\n",
       "    <tr>\n",
       "      <th>269730</th>\n",
       "      <td>0.1318</td>\n",
       "      <td>0.0195</td>\n",
       "      <td>0.0024</td>\n",
       "      <td>0.0024</td>\n",
       "      <td>0.0024</td>\n",
       "      <td>0.0024</td>\n",
       "      <td>0.0293</td>\n",
       "      <td>0.0708</td>\n",
       "      <td>0.0024</td>\n",
       "      <td>0.0488</td>\n",
       "      <td>0</td>\n",
       "      <td>0</td>\n",
       "      <td>0</td>\n",
       "      <td>0</td>\n",
       "    </tr>\n",
       "    <tr>\n",
       "      <th>165562</th>\n",
       "      <td>0.0635</td>\n",
       "      <td>0.0024</td>\n",
       "      <td>0.0024</td>\n",
       "      <td>0.0024</td>\n",
       "      <td>0.0024</td>\n",
       "      <td>0.0024</td>\n",
       "      <td>0.0049</td>\n",
       "      <td>0.0513</td>\n",
       "      <td>0.0024</td>\n",
       "      <td>0.0024</td>\n",
       "      <td>0</td>\n",
       "      <td>0</td>\n",
       "      <td>0</td>\n",
       "      <td>0</td>\n",
       "    </tr>\n",
       "  </tbody>\n",
       "</table>\n",
       "</div>"
      ],
      "text/plain": [
       "          Emg1    Emg2    Emg3    Emg4    Emg5    Emg6    Emg7    Emg8  \\\n",
       "177943  1.3550  0.2100  0.0952  0.0537  0.0513  0.0586  0.0513  0.2148   \n",
       "423271  0.3931  0.0952  0.0098  0.0024  0.0024  0.0073  0.1221  0.2271   \n",
       "37794   0.5200  0.0854  0.0073  0.0024  0.0024  0.0024  0.0244  0.2588   \n",
       "269730  0.1318  0.0195  0.0024  0.0024  0.0024  0.0024  0.0293  0.0708   \n",
       "165562  0.0635  0.0024  0.0024  0.0024  0.0024  0.0024  0.0049  0.0513   \n",
       "\n",
       "          Emg9   Emg10  repetition  rerepetition  stimulus  restimulus  \n",
       "177943  0.0586  0.0903           2             2        10          10  \n",
       "423271  0.0024  0.2173           0             0         0           0  \n",
       "37794   0.0024  0.0757           0             0         0           0  \n",
       "269730  0.0024  0.0488           0             0         0           0  \n",
       "165562  0.0024  0.0024           0             0         0           0  "
      ]
     },
     "execution_count": 2,
     "metadata": {},
     "output_type": "execute_result"
    }
   ],
   "source": [
    "raw_data = pd.read_excel('Dataset 1 Patient 14.xlsx')\n",
    "raw_data.sample(5)"
   ]
  },
  {
   "cell_type": "code",
   "execution_count": 3,
   "id": "80369ddb",
   "metadata": {},
   "outputs": [
    {
     "name": "stdout",
     "output_type": "stream",
     "text": [
      "<class 'pandas.core.frame.DataFrame'>\n",
      "RangeIndex: 461607 entries, 0 to 461606\n",
      "Data columns (total 14 columns):\n",
      " #   Column        Non-Null Count   Dtype  \n",
      "---  ------        --------------   -----  \n",
      " 0   Emg1          461607 non-null  float64\n",
      " 1   Emg2          461607 non-null  float64\n",
      " 2   Emg3          461607 non-null  float64\n",
      " 3   Emg4          461607 non-null  float64\n",
      " 4   Emg5          461607 non-null  float64\n",
      " 5   Emg6          461607 non-null  float64\n",
      " 6   Emg7          461607 non-null  float64\n",
      " 7   Emg8          461607 non-null  float64\n",
      " 8   Emg9          461607 non-null  float64\n",
      " 9   Emg10         461607 non-null  float64\n",
      " 10  repetition    461607 non-null  int64  \n",
      " 11  rerepetition  461607 non-null  int64  \n",
      " 12  stimulus      461607 non-null  int64  \n",
      " 13  restimulus    461607 non-null  int64  \n",
      "dtypes: float64(10), int64(4)\n",
      "memory usage: 49.3 MB\n"
     ]
    }
   ],
   "source": [
    "raw_data.info()"
   ]
  },
  {
   "cell_type": "code",
   "execution_count": 4,
   "id": "109445f8",
   "metadata": {},
   "outputs": [
    {
     "data": {
      "text/html": [
       "<div>\n",
       "<style scoped>\n",
       "    .dataframe tbody tr th:only-of-type {\n",
       "        vertical-align: middle;\n",
       "    }\n",
       "\n",
       "    .dataframe tbody tr th {\n",
       "        vertical-align: top;\n",
       "    }\n",
       "\n",
       "    .dataframe thead th {\n",
       "        text-align: right;\n",
       "    }\n",
       "</style>\n",
       "<table border=\"1\" class=\"dataframe\">\n",
       "  <thead>\n",
       "    <tr style=\"text-align: right;\">\n",
       "      <th></th>\n",
       "      <th>Emg1</th>\n",
       "      <th>Emg2</th>\n",
       "      <th>Emg3</th>\n",
       "      <th>Emg4</th>\n",
       "      <th>Emg5</th>\n",
       "      <th>Emg6</th>\n",
       "      <th>Emg7</th>\n",
       "      <th>Emg8</th>\n",
       "      <th>Emg9</th>\n",
       "      <th>Emg10</th>\n",
       "      <th>repetition</th>\n",
       "      <th>rerepetition</th>\n",
       "      <th>stimulus</th>\n",
       "      <th>restimulus</th>\n",
       "    </tr>\n",
       "  </thead>\n",
       "  <tbody>\n",
       "    <tr>\n",
       "      <th>count</th>\n",
       "      <td>461607.000000</td>\n",
       "      <td>461607.000000</td>\n",
       "      <td>461607.000000</td>\n",
       "      <td>461607.000000</td>\n",
       "      <td>461607.000000</td>\n",
       "      <td>461607.000000</td>\n",
       "      <td>461607.000000</td>\n",
       "      <td>461607.000000</td>\n",
       "      <td>461607.000000</td>\n",
       "      <td>461607.000000</td>\n",
       "      <td>461607.000000</td>\n",
       "      <td>461607.000000</td>\n",
       "      <td>461607.000000</td>\n",
       "      <td>461607.000000</td>\n",
       "    </tr>\n",
       "    <tr>\n",
       "      <th>mean</th>\n",
       "      <td>0.562477</td>\n",
       "      <td>0.171519</td>\n",
       "      <td>0.099438</td>\n",
       "      <td>0.062419</td>\n",
       "      <td>0.029975</td>\n",
       "      <td>0.052018</td>\n",
       "      <td>0.200229</td>\n",
       "      <td>0.255614</td>\n",
       "      <td>0.076876</td>\n",
       "      <td>0.212711</td>\n",
       "      <td>3.195770</td>\n",
       "      <td>2.497919</td>\n",
       "      <td>5.663920</td>\n",
       "      <td>4.565063</td>\n",
       "    </tr>\n",
       "    <tr>\n",
       "      <th>std</th>\n",
       "      <td>0.579902</td>\n",
       "      <td>0.276268</td>\n",
       "      <td>0.182943</td>\n",
       "      <td>0.130411</td>\n",
       "      <td>0.059618</td>\n",
       "      <td>0.106883</td>\n",
       "      <td>0.360185</td>\n",
       "      <td>0.212620</td>\n",
       "      <td>0.184109</td>\n",
       "      <td>0.308897</td>\n",
       "      <td>3.486784</td>\n",
       "      <td>3.364923</td>\n",
       "      <td>6.588134</td>\n",
       "      <td>6.471103</td>\n",
       "    </tr>\n",
       "    <tr>\n",
       "      <th>min</th>\n",
       "      <td>0.002400</td>\n",
       "      <td>0.000000</td>\n",
       "      <td>0.002400</td>\n",
       "      <td>0.000000</td>\n",
       "      <td>0.002400</td>\n",
       "      <td>0.002400</td>\n",
       "      <td>0.002400</td>\n",
       "      <td>0.002400</td>\n",
       "      <td>0.000000</td>\n",
       "      <td>0.002400</td>\n",
       "      <td>0.000000</td>\n",
       "      <td>0.000000</td>\n",
       "      <td>0.000000</td>\n",
       "      <td>0.000000</td>\n",
       "    </tr>\n",
       "    <tr>\n",
       "      <th>25%</th>\n",
       "      <td>0.117200</td>\n",
       "      <td>0.002400</td>\n",
       "      <td>0.002400</td>\n",
       "      <td>0.002400</td>\n",
       "      <td>0.002400</td>\n",
       "      <td>0.002400</td>\n",
       "      <td>0.019500</td>\n",
       "      <td>0.144000</td>\n",
       "      <td>0.002400</td>\n",
       "      <td>0.017100</td>\n",
       "      <td>0.000000</td>\n",
       "      <td>0.000000</td>\n",
       "      <td>0.000000</td>\n",
       "      <td>0.000000</td>\n",
       "    </tr>\n",
       "    <tr>\n",
       "      <th>50%</th>\n",
       "      <td>0.368700</td>\n",
       "      <td>0.065900</td>\n",
       "      <td>0.017100</td>\n",
       "      <td>0.002400</td>\n",
       "      <td>0.002400</td>\n",
       "      <td>0.007300</td>\n",
       "      <td>0.075700</td>\n",
       "      <td>0.217300</td>\n",
       "      <td>0.002400</td>\n",
       "      <td>0.090300</td>\n",
       "      <td>2.000000</td>\n",
       "      <td>0.000000</td>\n",
       "      <td>3.000000</td>\n",
       "      <td>0.000000</td>\n",
       "    </tr>\n",
       "    <tr>\n",
       "      <th>75%</th>\n",
       "      <td>0.849600</td>\n",
       "      <td>0.229500</td>\n",
       "      <td>0.122100</td>\n",
       "      <td>0.061000</td>\n",
       "      <td>0.029300</td>\n",
       "      <td>0.063500</td>\n",
       "      <td>0.231900</td>\n",
       "      <td>0.280800</td>\n",
       "      <td>0.073200</td>\n",
       "      <td>0.285600</td>\n",
       "      <td>6.000000</td>\n",
       "      <td>5.000000</td>\n",
       "      <td>10.000000</td>\n",
       "      <td>9.000000</td>\n",
       "    </tr>\n",
       "    <tr>\n",
       "      <th>max</th>\n",
       "      <td>4.668000</td>\n",
       "      <td>3.747600</td>\n",
       "      <td>2.961400</td>\n",
       "      <td>2.023900</td>\n",
       "      <td>0.808100</td>\n",
       "      <td>2.138700</td>\n",
       "      <td>4.663100</td>\n",
       "      <td>3.269000</td>\n",
       "      <td>3.242200</td>\n",
       "      <td>4.602100</td>\n",
       "      <td>10.000000</td>\n",
       "      <td>10.000000</td>\n",
       "      <td>23.000000</td>\n",
       "      <td>23.000000</td>\n",
       "    </tr>\n",
       "  </tbody>\n",
       "</table>\n",
       "</div>"
      ],
      "text/plain": [
       "                Emg1           Emg2           Emg3           Emg4  \\\n",
       "count  461607.000000  461607.000000  461607.000000  461607.000000   \n",
       "mean        0.562477       0.171519       0.099438       0.062419   \n",
       "std         0.579902       0.276268       0.182943       0.130411   \n",
       "min         0.002400       0.000000       0.002400       0.000000   \n",
       "25%         0.117200       0.002400       0.002400       0.002400   \n",
       "50%         0.368700       0.065900       0.017100       0.002400   \n",
       "75%         0.849600       0.229500       0.122100       0.061000   \n",
       "max         4.668000       3.747600       2.961400       2.023900   \n",
       "\n",
       "                Emg5           Emg6           Emg7           Emg8  \\\n",
       "count  461607.000000  461607.000000  461607.000000  461607.000000   \n",
       "mean        0.029975       0.052018       0.200229       0.255614   \n",
       "std         0.059618       0.106883       0.360185       0.212620   \n",
       "min         0.002400       0.002400       0.002400       0.002400   \n",
       "25%         0.002400       0.002400       0.019500       0.144000   \n",
       "50%         0.002400       0.007300       0.075700       0.217300   \n",
       "75%         0.029300       0.063500       0.231900       0.280800   \n",
       "max         0.808100       2.138700       4.663100       3.269000   \n",
       "\n",
       "                Emg9          Emg10     repetition   rerepetition  \\\n",
       "count  461607.000000  461607.000000  461607.000000  461607.000000   \n",
       "mean        0.076876       0.212711       3.195770       2.497919   \n",
       "std         0.184109       0.308897       3.486784       3.364923   \n",
       "min         0.000000       0.002400       0.000000       0.000000   \n",
       "25%         0.002400       0.017100       0.000000       0.000000   \n",
       "50%         0.002400       0.090300       2.000000       0.000000   \n",
       "75%         0.073200       0.285600       6.000000       5.000000   \n",
       "max         3.242200       4.602100      10.000000      10.000000   \n",
       "\n",
       "            stimulus     restimulus  \n",
       "count  461607.000000  461607.000000  \n",
       "mean        5.663920       4.565063  \n",
       "std         6.588134       6.471103  \n",
       "min         0.000000       0.000000  \n",
       "25%         0.000000       0.000000  \n",
       "50%         3.000000       0.000000  \n",
       "75%        10.000000       9.000000  \n",
       "max        23.000000      23.000000  "
      ]
     },
     "execution_count": 4,
     "metadata": {},
     "output_type": "execute_result"
    }
   ],
   "source": [
    "raw_data.describe(include='all')"
   ]
  },
  {
   "cell_type": "code",
   "execution_count": 5,
   "id": "f0b9a2e6",
   "metadata": {},
   "outputs": [
    {
     "name": "stdout",
     "output_type": "stream",
     "text": [
      "Unique Dependent values and their counts :\n",
      "0     193393\n",
      "2      15514\n",
      "12     15509\n",
      "8      15507\n",
      "7      15504\n",
      "4      15501\n",
      "5      15476\n",
      "9      15465\n",
      "6      15462\n",
      "11     15461\n",
      "3      15452\n",
      "1      15435\n",
      "10     15432\n",
      "17     10343\n",
      "13     10342\n",
      "14     10337\n",
      "15     10300\n",
      "16     10263\n",
      "19      5171\n",
      "21      5163\n",
      "18      5161\n",
      "20      5147\n",
      "22      5138\n",
      "23      5131\n",
      "Name: stimulus, dtype: int64\n"
     ]
    }
   ],
   "source": [
    "print(\"Unique Dependent values and their counts :\")\n",
    "print(raw_data[\"stimulus\"].value_counts())"
   ]
  },
  {
   "cell_type": "markdown",
   "id": "54420ec4",
   "metadata": {},
   "source": [
    "# Data Cleaning"
   ]
  },
  {
   "cell_type": "code",
   "execution_count": 6,
   "id": "a811198b",
   "metadata": {},
   "outputs": [],
   "source": [
    "index_names = raw_data[ (raw_data['stimulus'] != raw_data['restimulus'])].index\n",
    "raw_data.drop(index_names, inplace = True)"
   ]
  },
  {
   "cell_type": "code",
   "execution_count": 7,
   "id": "556cd92f",
   "metadata": {},
   "outputs": [],
   "source": [
    "index_names = raw_data[ (raw_data['repetition'] != raw_data['rerepetition'])].index\n",
    "raw_data.drop(index_names, inplace = True)"
   ]
  },
  {
   "cell_type": "code",
   "execution_count": 8,
   "id": "c91744f7",
   "metadata": {},
   "outputs": [],
   "source": [
    "X = raw_data.iloc[:,0:10]\n",
    "y = raw_data.stimulus"
   ]
  },
  {
   "cell_type": "markdown",
   "id": "152f7160",
   "metadata": {},
   "source": [
    "# One Hot Encoding"
   ]
  },
  {
   "cell_type": "code",
   "execution_count": 9,
   "id": "dfb77d24",
   "metadata": {},
   "outputs": [],
   "source": [
    "num_classes = 24"
   ]
  },
  {
   "cell_type": "code",
   "execution_count": 10,
   "id": "be64bf6b",
   "metadata": {},
   "outputs": [],
   "source": [
    "# One hot encoding for categorical labels\n",
    "import keras\n",
    "from keras import utils as np_utils\n",
    "y = keras.utils.np_utils.to_categorical(y, num_classes)"
   ]
  },
  {
   "cell_type": "code",
   "execution_count": 11,
   "id": "c7358f86",
   "metadata": {},
   "outputs": [],
   "source": [
    "input_dim = X.shape[1]"
   ]
  },
  {
   "cell_type": "markdown",
   "id": "cb3088a1",
   "metadata": {},
   "source": [
    "# Standard Scaler"
   ]
  },
  {
   "cell_type": "code",
   "execution_count": 12,
   "id": "5bd820f4",
   "metadata": {},
   "outputs": [],
   "source": [
    "from sklearn.preprocessing import StandardScaler\n",
    "standardscaler=StandardScaler()"
   ]
  },
  {
   "cell_type": "code",
   "execution_count": 13,
   "id": "6a118694",
   "metadata": {},
   "outputs": [],
   "source": [
    "sc = pd.DataFrame(standardscaler.fit_transform(X))"
   ]
  },
  {
   "cell_type": "code",
   "execution_count": 14,
   "id": "d6e2f38b",
   "metadata": {},
   "outputs": [
    {
     "data": {
      "text/html": [
       "<div>\n",
       "<style scoped>\n",
       "    .dataframe tbody tr th:only-of-type {\n",
       "        vertical-align: middle;\n",
       "    }\n",
       "\n",
       "    .dataframe tbody tr th {\n",
       "        vertical-align: top;\n",
       "    }\n",
       "\n",
       "    .dataframe thead th {\n",
       "        text-align: right;\n",
       "    }\n",
       "</style>\n",
       "<table border=\"1\" class=\"dataframe\">\n",
       "  <thead>\n",
       "    <tr style=\"text-align: right;\">\n",
       "      <th></th>\n",
       "      <th>0</th>\n",
       "      <th>1</th>\n",
       "      <th>2</th>\n",
       "      <th>3</th>\n",
       "      <th>4</th>\n",
       "      <th>5</th>\n",
       "      <th>6</th>\n",
       "      <th>7</th>\n",
       "      <th>8</th>\n",
       "      <th>9</th>\n",
       "    </tr>\n",
       "  </thead>\n",
       "  <tbody>\n",
       "    <tr>\n",
       "      <th>0</th>\n",
       "      <td>-0.988147</td>\n",
       "      <td>-0.646013</td>\n",
       "      <td>-0.5726</td>\n",
       "      <td>-0.502583</td>\n",
       "      <td>-0.507703</td>\n",
       "      <td>-0.500424</td>\n",
       "      <td>-0.582304</td>\n",
       "      <td>-0.214103</td>\n",
       "      <td>-0.439773</td>\n",
       "      <td>-0.728270</td>\n",
       "    </tr>\n",
       "    <tr>\n",
       "      <th>1</th>\n",
       "      <td>-0.988147</td>\n",
       "      <td>-0.646013</td>\n",
       "      <td>-0.5726</td>\n",
       "      <td>-0.484632</td>\n",
       "      <td>-0.507703</td>\n",
       "      <td>-0.500424</td>\n",
       "      <td>-0.582304</td>\n",
       "      <td>-0.224728</td>\n",
       "      <td>-0.439773</td>\n",
       "      <td>-0.728270</td>\n",
       "    </tr>\n",
       "    <tr>\n",
       "      <th>2</th>\n",
       "      <td>-0.988147</td>\n",
       "      <td>-0.646013</td>\n",
       "      <td>-0.5726</td>\n",
       "      <td>-0.502583</td>\n",
       "      <td>-0.507703</td>\n",
       "      <td>-0.500424</td>\n",
       "      <td>-0.582304</td>\n",
       "      <td>-0.257046</td>\n",
       "      <td>-0.439773</td>\n",
       "      <td>-0.728270</td>\n",
       "    </tr>\n",
       "    <tr>\n",
       "      <th>3</th>\n",
       "      <td>-0.988147</td>\n",
       "      <td>-0.646013</td>\n",
       "      <td>-0.5726</td>\n",
       "      <td>-0.502583</td>\n",
       "      <td>-0.507703</td>\n",
       "      <td>-0.500424</td>\n",
       "      <td>-0.582304</td>\n",
       "      <td>-0.268113</td>\n",
       "      <td>-0.439773</td>\n",
       "      <td>-0.728270</td>\n",
       "    </tr>\n",
       "    <tr>\n",
       "      <th>4</th>\n",
       "      <td>-0.988147</td>\n",
       "      <td>-0.646013</td>\n",
       "      <td>-0.5726</td>\n",
       "      <td>-0.502583</td>\n",
       "      <td>-0.507703</td>\n",
       "      <td>-0.500424</td>\n",
       "      <td>-0.582304</td>\n",
       "      <td>-0.268113</td>\n",
       "      <td>-0.439773</td>\n",
       "      <td>-0.728270</td>\n",
       "    </tr>\n",
       "    <tr>\n",
       "      <th>...</th>\n",
       "      <td>...</td>\n",
       "      <td>...</td>\n",
       "      <td>...</td>\n",
       "      <td>...</td>\n",
       "      <td>...</td>\n",
       "      <td>...</td>\n",
       "      <td>...</td>\n",
       "      <td>...</td>\n",
       "      <td>...</td>\n",
       "      <td>...</td>\n",
       "    </tr>\n",
       "    <tr>\n",
       "      <th>390409</th>\n",
       "      <td>-0.625458</td>\n",
       "      <td>-0.587770</td>\n",
       "      <td>-0.5726</td>\n",
       "      <td>-0.502583</td>\n",
       "      <td>-0.507703</td>\n",
       "      <td>-0.414658</td>\n",
       "      <td>-0.512431</td>\n",
       "      <td>-0.873299</td>\n",
       "      <td>-0.439773</td>\n",
       "      <td>-0.526364</td>\n",
       "    </tr>\n",
       "    <tr>\n",
       "      <th>390410</th>\n",
       "      <td>-0.556980</td>\n",
       "      <td>-0.595944</td>\n",
       "      <td>-0.5726</td>\n",
       "      <td>-0.502583</td>\n",
       "      <td>-0.507703</td>\n",
       "      <td>-0.393654</td>\n",
       "      <td>-0.493470</td>\n",
       "      <td>-0.851606</td>\n",
       "      <td>-0.439773</td>\n",
       "      <td>-0.481700</td>\n",
       "    </tr>\n",
       "    <tr>\n",
       "      <th>390411</th>\n",
       "      <td>-0.528763</td>\n",
       "      <td>-0.612634</td>\n",
       "      <td>-0.5726</td>\n",
       "      <td>-0.502583</td>\n",
       "      <td>-0.507703</td>\n",
       "      <td>-0.350771</td>\n",
       "      <td>-0.468014</td>\n",
       "      <td>-0.862674</td>\n",
       "      <td>-0.439773</td>\n",
       "      <td>-0.451720</td>\n",
       "    </tr>\n",
       "    <tr>\n",
       "      <th>390412</th>\n",
       "      <td>-0.524803</td>\n",
       "      <td>-0.620809</td>\n",
       "      <td>-0.5726</td>\n",
       "      <td>-0.502583</td>\n",
       "      <td>-0.507703</td>\n",
       "      <td>-0.286009</td>\n",
       "      <td>-0.455287</td>\n",
       "      <td>-0.862674</td>\n",
       "      <td>-0.439773</td>\n",
       "      <td>-0.451720</td>\n",
       "    </tr>\n",
       "    <tr>\n",
       "      <th>390413</th>\n",
       "      <td>-0.556980</td>\n",
       "      <td>-0.637498</td>\n",
       "      <td>-0.5726</td>\n",
       "      <td>-0.502583</td>\n",
       "      <td>-0.507703</td>\n",
       "      <td>-0.286009</td>\n",
       "      <td>-0.455287</td>\n",
       "      <td>-0.851606</td>\n",
       "      <td>-0.439773</td>\n",
       "      <td>-0.481700</td>\n",
       "    </tr>\n",
       "  </tbody>\n",
       "</table>\n",
       "<p>390414 rows × 10 columns</p>\n",
       "</div>"
      ],
      "text/plain": [
       "               0         1       2         3         4         5         6  \\\n",
       "0      -0.988147 -0.646013 -0.5726 -0.502583 -0.507703 -0.500424 -0.582304   \n",
       "1      -0.988147 -0.646013 -0.5726 -0.484632 -0.507703 -0.500424 -0.582304   \n",
       "2      -0.988147 -0.646013 -0.5726 -0.502583 -0.507703 -0.500424 -0.582304   \n",
       "3      -0.988147 -0.646013 -0.5726 -0.502583 -0.507703 -0.500424 -0.582304   \n",
       "4      -0.988147 -0.646013 -0.5726 -0.502583 -0.507703 -0.500424 -0.582304   \n",
       "...          ...       ...     ...       ...       ...       ...       ...   \n",
       "390409 -0.625458 -0.587770 -0.5726 -0.502583 -0.507703 -0.414658 -0.512431   \n",
       "390410 -0.556980 -0.595944 -0.5726 -0.502583 -0.507703 -0.393654 -0.493470   \n",
       "390411 -0.528763 -0.612634 -0.5726 -0.502583 -0.507703 -0.350771 -0.468014   \n",
       "390412 -0.524803 -0.620809 -0.5726 -0.502583 -0.507703 -0.286009 -0.455287   \n",
       "390413 -0.556980 -0.637498 -0.5726 -0.502583 -0.507703 -0.286009 -0.455287   \n",
       "\n",
       "               7         8         9  \n",
       "0      -0.214103 -0.439773 -0.728270  \n",
       "1      -0.224728 -0.439773 -0.728270  \n",
       "2      -0.257046 -0.439773 -0.728270  \n",
       "3      -0.268113 -0.439773 -0.728270  \n",
       "4      -0.268113 -0.439773 -0.728270  \n",
       "...          ...       ...       ...  \n",
       "390409 -0.873299 -0.439773 -0.526364  \n",
       "390410 -0.851606 -0.439773 -0.481700  \n",
       "390411 -0.862674 -0.439773 -0.451720  \n",
       "390412 -0.862674 -0.439773 -0.451720  \n",
       "390413 -0.851606 -0.439773 -0.481700  \n",
       "\n",
       "[390414 rows x 10 columns]"
      ]
     },
     "execution_count": 14,
     "metadata": {},
     "output_type": "execute_result"
    }
   ],
   "source": [
    "sc"
   ]
  },
  {
   "cell_type": "code",
   "execution_count": 15,
   "id": "65cfb75d",
   "metadata": {},
   "outputs": [],
   "source": [
    "# Splitting data for training and testing\n",
    "X_train, X_test, y_train, y_test = train_test_split(sc, y, test_size = 0.2, random_state = 39)"
   ]
  },
  {
   "cell_type": "markdown",
   "id": "3ba47781",
   "metadata": {},
   "source": [
    "# Deep Learning "
   ]
  },
  {
   "cell_type": "code",
   "execution_count": 16,
   "id": "d426e2e1",
   "metadata": {},
   "outputs": [],
   "source": [
    "from sklearn.preprocessing import MinMaxScaler\n",
    "from tensorflow.keras.models import Model\n",
    "from tensorflow.keras.layers import Input\n",
    "from tensorflow.keras.layers import Dense\n",
    "from tensorflow.keras.layers import LeakyReLU,ELU\n",
    "from tensorflow.keras.layers import BatchNormalization\n",
    "from tensorflow.keras.utils import plot_model\n",
    "import tensorflow as tf\n",
    "from sklearn.model_selection import cross_val_score\n",
    "from keras.models import Sequential\n",
    "from keras.layers import Dense, BatchNormalization, Dropout\n",
    "from tensorflow.keras.optimizers import Adam, SGD, RMSprop, Adadelta, Adagrad, Adamax, Nadam, Ftrl\n",
    "from keras.callbacks import EarlyStopping, ModelCheckpoint\n",
    "from keras.wrappers.scikit_learn import KerasClassifier\n",
    "from sklearn.metrics import make_scorer, accuracy_score\n",
    "from sklearn.model_selection import StratifiedKFold"
   ]
  },
  {
   "cell_type": "code",
   "execution_count": 17,
   "id": "cd0ef208",
   "metadata": {},
   "outputs": [],
   "source": [
    "from keras.layers import LeakyReLU\n",
    "LeakyReLU = LeakyReLU(alpha=0.1)\n",
    "from keras.models import Sequential\n",
    "from keras.layers import Dense, Flatten, Convolution1D, Dropout\n",
    "from keras.initializers import random_uniform"
   ]
  },
  {
   "cell_type": "markdown",
   "id": "f97d61bc",
   "metadata": {},
   "source": [
    "# 1. Define Network"
   ]
  },
  {
   "cell_type": "code",
   "execution_count": 18,
   "id": "bd77bf81",
   "metadata": {},
   "outputs": [],
   "source": [
    "num_classes = 24\n",
    "input_dim = X.shape[1]"
   ]
  },
  {
   "cell_type": "code",
   "execution_count": 19,
   "id": "fbdce465",
   "metadata": {},
   "outputs": [],
   "source": [
    "visible = Input(shape=(input_dim,))\n",
    "hidden1 = Dense(3000, activation='relu')(visible)\n",
    "hidden2 = Dense(1500, activation='relu')(hidden1)\n",
    "hidden3 = Dropout(0.2)(hidden2)\n",
    "hidden4 = Dense(750, activation='relu')(hidden3)\n",
    "hidden5 = Dense(375, activation='relu')(hidden4)\n",
    "hidden6 = Dense(48, activation='relu')(hidden5)\n",
    "output = Dense(num_classes, activation='softmax')(hidden6)\n",
    "model = Model(inputs=visible, outputs=output)"
   ]
  },
  {
   "cell_type": "code",
   "execution_count": 20,
   "id": "1dd33478",
   "metadata": {},
   "outputs": [
    {
     "name": "stdout",
     "output_type": "stream",
     "text": [
      "Model: \"model\"\n",
      "_________________________________________________________________\n",
      " Layer (type)                Output Shape              Param #   \n",
      "=================================================================\n",
      " input_1 (InputLayer)        [(None, 10)]              0         \n",
      "                                                                 \n",
      " dense (Dense)               (None, 3000)              33000     \n",
      "                                                                 \n",
      " dense_1 (Dense)             (None, 1500)              4501500   \n",
      "                                                                 \n",
      " dropout (Dropout)           (None, 1500)              0         \n",
      "                                                                 \n",
      " dense_2 (Dense)             (None, 750)               1125750   \n",
      "                                                                 \n",
      " dense_3 (Dense)             (None, 375)               281625    \n",
      "                                                                 \n",
      " dense_4 (Dense)             (None, 48)                18048     \n",
      "                                                                 \n",
      " dense_5 (Dense)             (None, 24)                1176      \n",
      "                                                                 \n",
      "=================================================================\n",
      "Total params: 5,961,099\n",
      "Trainable params: 5,961,099\n",
      "Non-trainable params: 0\n",
      "_________________________________________________________________\n"
     ]
    }
   ],
   "source": [
    "model.summary()"
   ]
  },
  {
   "cell_type": "markdown",
   "id": "3196ac97",
   "metadata": {},
   "source": [
    "# 2. Compile Network"
   ]
  },
  {
   "cell_type": "code",
   "execution_count": 21,
   "id": "7a2d558b",
   "metadata": {},
   "outputs": [],
   "source": [
    "model.compile(optimizer='adam', loss='categorical_crossentropy', metrics=['accuracy'])"
   ]
  },
  {
   "cell_type": "code",
   "execution_count": 22,
   "id": "c1d2b36d",
   "metadata": {},
   "outputs": [
    {
     "name": "stdout",
     "output_type": "stream",
     "text": [
      "You must install pydot (`pip install pydot`) and install graphviz (see instructions at https://graphviz.gitlab.io/download/) for plot_model/model_to_dot to work.\n"
     ]
    }
   ],
   "source": [
    "plot_model(model, 'EMG_ANN', show_shapes = True)"
   ]
  },
  {
   "cell_type": "markdown",
   "id": "3358b592",
   "metadata": {},
   "source": [
    "# 3. Fit Network"
   ]
  },
  {
   "cell_type": "code",
   "execution_count": 23,
   "id": "e0ed4ddd",
   "metadata": {},
   "outputs": [
    {
     "name": "stdout",
     "output_type": "stream",
     "text": [
      "Epoch 1/100\n",
      "78/78 [==============================] - 4s 28ms/step - loss: 1.4456 - accuracy: 0.6205 - val_loss: 1.2810 - val_accuracy: 0.6485\n",
      "Epoch 2/100\n",
      "78/78 [==============================] - 2s 25ms/step - loss: 1.0397 - accuracy: 0.7157 - val_loss: 1.1574 - val_accuracy: 0.7074\n",
      "Epoch 3/100\n",
      "78/78 [==============================] - 2s 25ms/step - loss: 0.8854 - accuracy: 0.7532 - val_loss: 1.5641 - val_accuracy: 0.4689\n",
      "Epoch 4/100\n",
      "78/78 [==============================] - 2s 26ms/step - loss: 0.8931 - accuracy: 0.7550 - val_loss: 0.9131 - val_accuracy: 0.7649\n",
      "Epoch 5/100\n",
      "78/78 [==============================] - 2s 26ms/step - loss: 0.7547 - accuracy: 0.7855 - val_loss: 0.7548 - val_accuracy: 0.7840\n",
      "Epoch 6/100\n",
      "78/78 [==============================] - 2s 25ms/step - loss: 0.7028 - accuracy: 0.7963 - val_loss: 0.7255 - val_accuracy: 0.7866\n",
      "Epoch 7/100\n",
      "78/78 [==============================] - 2s 25ms/step - loss: 0.6546 - accuracy: 0.8090 - val_loss: 0.8126 - val_accuracy: 0.7587\n",
      "Epoch 8/100\n",
      "78/78 [==============================] - 2s 25ms/step - loss: 0.6604 - accuracy: 0.8092 - val_loss: 0.5903 - val_accuracy: 0.8268\n",
      "Epoch 9/100\n",
      "78/78 [==============================] - 2s 25ms/step - loss: 0.5731 - accuracy: 0.8303 - val_loss: 0.6144 - val_accuracy: 0.8197\n",
      "Epoch 10/100\n",
      "78/78 [==============================] - 2s 25ms/step - loss: 0.5761 - accuracy: 0.8299 - val_loss: 0.6483 - val_accuracy: 0.8169\n",
      "Epoch 11/100\n",
      "78/78 [==============================] - 2s 25ms/step - loss: 0.5749 - accuracy: 0.8309 - val_loss: 0.5856 - val_accuracy: 0.8294\n",
      "Epoch 12/100\n",
      "78/78 [==============================] - 2s 25ms/step - loss: 0.5496 - accuracy: 0.8367 - val_loss: 0.8559 - val_accuracy: 0.7519\n",
      "Epoch 13/100\n",
      "78/78 [==============================] - 2s 25ms/step - loss: 0.5452 - accuracy: 0.8406 - val_loss: 0.5537 - val_accuracy: 0.8354\n",
      "Epoch 14/100\n",
      "78/78 [==============================] - 2s 26ms/step - loss: 0.5109 - accuracy: 0.8471 - val_loss: 0.5233 - val_accuracy: 0.8483\n",
      "Epoch 15/100\n",
      "78/78 [==============================] - 2s 26ms/step - loss: 0.4798 - accuracy: 0.8559 - val_loss: 0.5243 - val_accuracy: 0.8423\n",
      "Epoch 16/100\n",
      "78/78 [==============================] - 2s 26ms/step - loss: 0.4899 - accuracy: 0.8533 - val_loss: 0.6045 - val_accuracy: 0.8204\n",
      "Epoch 17/100\n",
      "78/78 [==============================] - 2s 26ms/step - loss: 0.5289 - accuracy: 0.8435 - val_loss: 0.4882 - val_accuracy: 0.8526\n",
      "Epoch 18/100\n",
      "78/78 [==============================] - 2s 26ms/step - loss: 0.4643 - accuracy: 0.8599 - val_loss: 0.5003 - val_accuracy: 0.8584\n",
      "Epoch 19/100\n",
      "78/78 [==============================] - 2s 26ms/step - loss: 0.4348 - accuracy: 0.8682 - val_loss: 0.4440 - val_accuracy: 0.8648\n",
      "Epoch 20/100\n",
      "78/78 [==============================] - 2s 26ms/step - loss: 0.4121 - accuracy: 0.8750 - val_loss: 0.4793 - val_accuracy: 0.8559\n",
      "Epoch 21/100\n",
      "78/78 [==============================] - 2s 27ms/step - loss: 0.4280 - accuracy: 0.8697 - val_loss: 0.5026 - val_accuracy: 0.8541\n",
      "Epoch 22/100\n",
      "78/78 [==============================] - 2s 27ms/step - loss: 0.4319 - accuracy: 0.8701 - val_loss: 0.4817 - val_accuracy: 0.8593\n",
      "Epoch 23/100\n",
      "78/78 [==============================] - 2s 26ms/step - loss: 0.4471 - accuracy: 0.8659 - val_loss: 0.4725 - val_accuracy: 0.8616\n",
      "Epoch 24/100\n",
      "78/78 [==============================] - 2s 26ms/step - loss: 0.3911 - accuracy: 0.8808 - val_loss: 0.5790 - val_accuracy: 0.8261\n",
      "Epoch 25/100\n",
      "78/78 [==============================] - 2s 26ms/step - loss: 0.4422 - accuracy: 0.8680 - val_loss: 0.5165 - val_accuracy: 0.8482\n",
      "Epoch 26/100\n",
      "78/78 [==============================] - 2s 27ms/step - loss: 0.4024 - accuracy: 0.8792 - val_loss: 0.6027 - val_accuracy: 0.8140\n",
      "Epoch 27/100\n",
      "78/78 [==============================] - 2s 27ms/step - loss: 0.3996 - accuracy: 0.8806 - val_loss: 0.4300 - val_accuracy: 0.8733\n",
      "Epoch 28/100\n",
      "78/78 [==============================] - 2s 26ms/step - loss: 0.4011 - accuracy: 0.8789 - val_loss: 0.4060 - val_accuracy: 0.8783\n",
      "Epoch 29/100\n",
      "78/78 [==============================] - 2s 25ms/step - loss: 0.3817 - accuracy: 0.8835 - val_loss: 0.6547 - val_accuracy: 0.7963\n",
      "Epoch 30/100\n",
      "78/78 [==============================] - 2s 26ms/step - loss: 0.4113 - accuracy: 0.8774 - val_loss: 0.3974 - val_accuracy: 0.8805\n",
      "Epoch 31/100\n",
      "78/78 [==============================] - 2s 27ms/step - loss: 0.3663 - accuracy: 0.8882 - val_loss: 0.3723 - val_accuracy: 0.8905\n",
      "Epoch 32/100\n",
      "78/78 [==============================] - 2s 26ms/step - loss: 0.3416 - accuracy: 0.8965 - val_loss: 0.3442 - val_accuracy: 0.8957\n",
      "Epoch 33/100\n",
      "78/78 [==============================] - 2s 26ms/step - loss: 0.3122 - accuracy: 0.9047 - val_loss: 0.3391 - val_accuracy: 0.8969\n",
      "Epoch 34/100\n",
      "78/78 [==============================] - 2s 26ms/step - loss: 0.3045 - accuracy: 0.9068 - val_loss: 0.3258 - val_accuracy: 0.9026\n",
      "Epoch 35/100\n",
      "78/78 [==============================] - 2s 27ms/step - loss: 0.2971 - accuracy: 0.9089 - val_loss: 0.3641 - val_accuracy: 0.8974\n",
      "Epoch 36/100\n",
      "78/78 [==============================] - 2s 26ms/step - loss: 0.3099 - accuracy: 0.9060 - val_loss: 0.3252 - val_accuracy: 0.9030\n",
      "Epoch 37/100\n",
      "78/78 [==============================] - 2s 26ms/step - loss: 0.2891 - accuracy: 0.9118 - val_loss: 0.3027 - val_accuracy: 0.9092\n",
      "Epoch 38/100\n",
      "78/78 [==============================] - 2s 26ms/step - loss: 0.2708 - accuracy: 0.9165 - val_loss: 0.3419 - val_accuracy: 0.9028\n",
      "Epoch 39/100\n",
      "78/78 [==============================] - 2s 26ms/step - loss: 0.2701 - accuracy: 0.9180 - val_loss: 0.3276 - val_accuracy: 0.9053\n",
      "Epoch 40/100\n",
      "78/78 [==============================] - 2s 28ms/step - loss: 0.2787 - accuracy: 0.9151 - val_loss: 0.5275 - val_accuracy: 0.8325\n",
      "Epoch 41/100\n",
      "78/78 [==============================] - 2s 26ms/step - loss: 0.3213 - accuracy: 0.9041 - val_loss: 0.4857 - val_accuracy: 0.8632\n",
      "Epoch 42/100\n",
      "78/78 [==============================] - 2s 26ms/step - loss: 0.3386 - accuracy: 0.9000 - val_loss: 0.3151 - val_accuracy: 0.9074\n",
      "Epoch 43/100\n",
      "78/78 [==============================] - 2s 28ms/step - loss: 0.2791 - accuracy: 0.9149 - val_loss: 0.3355 - val_accuracy: 0.8961\n",
      "Epoch 44/100\n",
      "78/78 [==============================] - 2s 27ms/step - loss: 0.2652 - accuracy: 0.9195 - val_loss: 0.3481 - val_accuracy: 0.9002\n",
      "Epoch 45/100\n",
      "78/78 [==============================] - 2s 26ms/step - loss: 0.2941 - accuracy: 0.9110 - val_loss: 0.3107 - val_accuracy: 0.9066\n",
      "Epoch 46/100\n",
      "78/78 [==============================] - 2s 27ms/step - loss: 0.2971 - accuracy: 0.9099 - val_loss: 0.2789 - val_accuracy: 0.9171\n",
      "Epoch 47/100\n",
      "78/78 [==============================] - 2s 27ms/step - loss: 0.2433 - accuracy: 0.9252 - val_loss: 0.2955 - val_accuracy: 0.9120\n",
      "Epoch 48/100\n",
      "78/78 [==============================] - 2s 27ms/step - loss: 0.2643 - accuracy: 0.9190 - val_loss: 0.4222 - val_accuracy: 0.8692\n",
      "Epoch 49/100\n",
      "78/78 [==============================] - 2s 27ms/step - loss: 0.2937 - accuracy: 0.9116 - val_loss: 0.2748 - val_accuracy: 0.9170\n",
      "Epoch 50/100\n",
      "78/78 [==============================] - 2s 26ms/step - loss: 0.2416 - accuracy: 0.9253 - val_loss: 0.2777 - val_accuracy: 0.9198\n",
      "Epoch 51/100\n",
      "78/78 [==============================] - 2s 28ms/step - loss: 0.2406 - accuracy: 0.9264 - val_loss: 0.3433 - val_accuracy: 0.9000\n",
      "Epoch 52/100\n",
      "78/78 [==============================] - 2s 26ms/step - loss: 0.2602 - accuracy: 0.9214 - val_loss: 0.2911 - val_accuracy: 0.9143\n",
      "Epoch 53/100\n",
      "78/78 [==============================] - 2s 27ms/step - loss: 0.2490 - accuracy: 0.9250 - val_loss: 0.2744 - val_accuracy: 0.9207\n",
      "Epoch 54/100\n",
      "78/78 [==============================] - 2s 27ms/step - loss: 0.2291 - accuracy: 0.9299 - val_loss: 0.2484 - val_accuracy: 0.9251\n",
      "Epoch 55/100\n",
      "78/78 [==============================] - 2s 27ms/step - loss: 0.2066 - accuracy: 0.9365 - val_loss: 0.2374 - val_accuracy: 0.9295\n",
      "Epoch 56/100\n",
      "78/78 [==============================] - 2s 28ms/step - loss: 0.1908 - accuracy: 0.9412 - val_loss: 0.2313 - val_accuracy: 0.9309\n",
      "Epoch 57/100\n",
      "78/78 [==============================] - 2s 26ms/step - loss: 0.1871 - accuracy: 0.9419 - val_loss: 0.2393 - val_accuracy: 0.9273\n",
      "Epoch 58/100\n"
     ]
    },
    {
     "name": "stdout",
     "output_type": "stream",
     "text": [
      "78/78 [==============================] - 2s 26ms/step - loss: 0.2004 - accuracy: 0.9383 - val_loss: 0.3327 - val_accuracy: 0.8965\n",
      "Epoch 59/100\n",
      "78/78 [==============================] - 2s 26ms/step - loss: 0.2123 - accuracy: 0.9355 - val_loss: 0.2317 - val_accuracy: 0.9329\n",
      "Epoch 60/100\n",
      "78/78 [==============================] - 2s 28ms/step - loss: 0.1827 - accuracy: 0.9440 - val_loss: 0.2595 - val_accuracy: 0.9244\n",
      "Epoch 61/100\n",
      "78/78 [==============================] - 2s 27ms/step - loss: 0.2008 - accuracy: 0.9383 - val_loss: 0.2722 - val_accuracy: 0.9216\n",
      "Epoch 62/100\n",
      "78/78 [==============================] - 2s 26ms/step - loss: 0.2326 - accuracy: 0.9295 - val_loss: 0.2604 - val_accuracy: 0.9248\n",
      "Epoch 63/100\n",
      "78/78 [==============================] - 2s 27ms/step - loss: 0.2100 - accuracy: 0.9354 - val_loss: 0.2170 - val_accuracy: 0.9351\n",
      "Epoch 64/100\n",
      "78/78 [==============================] - 2s 27ms/step - loss: 0.1798 - accuracy: 0.9441 - val_loss: 0.2223 - val_accuracy: 0.9335\n",
      "Epoch 65/100\n",
      "78/78 [==============================] - 2s 26ms/step - loss: 0.1786 - accuracy: 0.9449 - val_loss: 0.2525 - val_accuracy: 0.9241\n",
      "Epoch 66/100\n",
      "78/78 [==============================] - 2s 27ms/step - loss: 0.1872 - accuracy: 0.9431 - val_loss: 0.2544 - val_accuracy: 0.9287\n",
      "Epoch 67/100\n",
      "78/78 [==============================] - 2s 27ms/step - loss: 0.1973 - accuracy: 0.9396 - val_loss: 0.2270 - val_accuracy: 0.9327\n",
      "Epoch 68/100\n",
      "78/78 [==============================] - 2s 27ms/step - loss: 0.1945 - accuracy: 0.9411 - val_loss: 0.2546 - val_accuracy: 0.9275\n",
      "Epoch 69/100\n",
      "78/78 [==============================] - 2s 27ms/step - loss: 0.1905 - accuracy: 0.9420 - val_loss: 0.2134 - val_accuracy: 0.9383\n",
      "Epoch 70/100\n",
      "78/78 [==============================] - 2s 26ms/step - loss: 0.1737 - accuracy: 0.9462 - val_loss: 0.2318 - val_accuracy: 0.9325\n",
      "Epoch 71/100\n",
      "78/78 [==============================] - 2s 27ms/step - loss: 0.1869 - accuracy: 0.9427 - val_loss: 0.2149 - val_accuracy: 0.9365\n",
      "Epoch 72/100\n",
      "78/78 [==============================] - 2s 27ms/step - loss: 0.1858 - accuracy: 0.9434 - val_loss: 0.2994 - val_accuracy: 0.9157\n",
      "Epoch 73/100\n",
      "78/78 [==============================] - 2s 26ms/step - loss: 0.2274 - accuracy: 0.9326 - val_loss: 0.2638 - val_accuracy: 0.9229\n",
      "Epoch 74/100\n",
      "78/78 [==============================] - 2s 26ms/step - loss: 0.2160 - accuracy: 0.9346 - val_loss: 0.3041 - val_accuracy: 0.9094\n",
      "Epoch 75/100\n",
      "78/78 [==============================] - 2s 26ms/step - loss: 0.2238 - accuracy: 0.9324 - val_loss: 0.2501 - val_accuracy: 0.9278\n",
      "Epoch 76/100\n",
      "78/78 [==============================] - 2s 27ms/step - loss: 0.1967 - accuracy: 0.9407 - val_loss: 0.3064 - val_accuracy: 0.9099\n",
      "Epoch 77/100\n",
      "78/78 [==============================] - 2s 27ms/step - loss: 0.1794 - accuracy: 0.9457 - val_loss: 0.2355 - val_accuracy: 0.9281\n",
      "Epoch 78/100\n",
      "78/78 [==============================] - 2s 27ms/step - loss: 0.2014 - accuracy: 0.9394 - val_loss: 0.2762 - val_accuracy: 0.9198\n",
      "Epoch 79/100\n",
      "78/78 [==============================] - 2s 26ms/step - loss: 0.2029 - accuracy: 0.9386 - val_loss: 0.2180 - val_accuracy: 0.9357\n",
      "Epoch 80/100\n",
      "78/78 [==============================] - 2s 27ms/step - loss: 0.1872 - accuracy: 0.9431 - val_loss: 0.2021 - val_accuracy: 0.9413\n",
      "Epoch 81/100\n",
      "78/78 [==============================] - 2s 28ms/step - loss: 0.1495 - accuracy: 0.9537 - val_loss: 0.2385 - val_accuracy: 0.9296\n",
      "Epoch 82/100\n",
      "78/78 [==============================] - 2s 28ms/step - loss: 0.1825 - accuracy: 0.9454 - val_loss: 0.1915 - val_accuracy: 0.9439\n",
      "Epoch 83/100\n",
      "78/78 [==============================] - 2s 26ms/step - loss: 0.1425 - accuracy: 0.9564 - val_loss: 0.2035 - val_accuracy: 0.9413\n",
      "Epoch 84/100\n",
      "78/78 [==============================] - 2s 27ms/step - loss: 0.1502 - accuracy: 0.9544 - val_loss: 0.1970 - val_accuracy: 0.9443\n",
      "Epoch 85/100\n",
      "78/78 [==============================] - 2s 28ms/step - loss: 0.1530 - accuracy: 0.9537 - val_loss: 0.3020 - val_accuracy: 0.9264\n",
      "Epoch 86/100\n",
      "78/78 [==============================] - 2s 26ms/step - loss: 0.2220 - accuracy: 0.9364 - val_loss: 0.2148 - val_accuracy: 0.9378\n",
      "Epoch 87/100\n",
      "78/78 [==============================] - 2s 27ms/step - loss: 0.1677 - accuracy: 0.9488 - val_loss: 0.1900 - val_accuracy: 0.9442\n",
      "Epoch 88/100\n",
      "78/78 [==============================] - 2s 27ms/step - loss: 0.1431 - accuracy: 0.9557 - val_loss: 0.3582 - val_accuracy: 0.8873\n",
      "Epoch 89/100\n",
      "78/78 [==============================] - 2s 27ms/step - loss: 0.1716 - accuracy: 0.9481 - val_loss: 0.1761 - val_accuracy: 0.9480\n",
      "Epoch 90/100\n",
      "78/78 [==============================] - 2s 27ms/step - loss: 0.1320 - accuracy: 0.9594 - val_loss: 0.1884 - val_accuracy: 0.9459\n",
      "Epoch 91/100\n",
      "78/78 [==============================] - 2s 26ms/step - loss: 0.1443 - accuracy: 0.9556 - val_loss: 0.2200 - val_accuracy: 0.9397\n",
      "Epoch 92/100\n",
      "78/78 [==============================] - 2s 28ms/step - loss: 0.1473 - accuracy: 0.9549 - val_loss: 0.3478 - val_accuracy: 0.9061\n",
      "Epoch 93/100\n",
      "78/78 [==============================] - 2s 26ms/step - loss: 0.1915 - accuracy: 0.9441 - val_loss: 0.2523 - val_accuracy: 0.9270\n",
      "Epoch 94/100\n",
      "78/78 [==============================] - 2s 26ms/step - loss: 0.1779 - accuracy: 0.9472 - val_loss: 0.1956 - val_accuracy: 0.9444\n",
      "Epoch 95/100\n",
      "78/78 [==============================] - 2s 27ms/step - loss: 0.1381 - accuracy: 0.9581 - val_loss: 0.2154 - val_accuracy: 0.9401\n",
      "Epoch 96/100\n",
      "78/78 [==============================] - 2s 28ms/step - loss: 0.1735 - accuracy: 0.9481 - val_loss: 0.2099 - val_accuracy: 0.9391\n",
      "Epoch 97/100\n",
      "78/78 [==============================] - 2s 28ms/step - loss: 0.1611 - accuracy: 0.9508 - val_loss: 0.1764 - val_accuracy: 0.9480\n",
      "Epoch 98/100\n",
      "78/78 [==============================] - 2s 26ms/step - loss: 0.1282 - accuracy: 0.9597 - val_loss: 0.2037 - val_accuracy: 0.9446\n",
      "Epoch 99/100\n",
      "78/78 [==============================] - 2s 27ms/step - loss: 0.1409 - accuracy: 0.9571 - val_loss: 0.3190 - val_accuracy: 0.9062\n",
      "Epoch 100/100\n",
      "78/78 [==============================] - 2s 28ms/step - loss: 0.1872 - accuracy: 0.9445 - val_loss: 0.2068 - val_accuracy: 0.9408\n"
     ]
    }
   ],
   "source": [
    "history = model.fit(X_train, y_train, batch_size=4056, epochs=100, validation_data = (X_test, y_test))"
   ]
  },
  {
   "cell_type": "markdown",
   "id": "ffed59b1",
   "metadata": {},
   "source": [
    "# 4.Evaluate Network"
   ]
  },
  {
   "cell_type": "markdown",
   "id": "28731190",
   "metadata": {},
   "source": [
    "## 4.1. Plotting Loss and Accuracy"
   ]
  },
  {
   "cell_type": "code",
   "execution_count": 24,
   "id": "971e6040",
   "metadata": {},
   "outputs": [
    {
     "data": {
      "text/plain": [
       "Text(0.5, 1.0, 'Loss Curve of Deep Neural Netowork')"
      ]
     },
     "execution_count": 24,
     "metadata": {},
     "output_type": "execute_result"
    },
    {
     "data": {
      "image/png": "[encoded data removed]",
      "text/plain": [
       "<Figure size 432x288 with 1 Axes>"
      ]
     },
     "metadata": {
      "needs_background": "light"
     },
     "output_type": "display_data"
    }
   ],
   "source": [
    "#Loss Curve\n",
    "\n",
    "\n",
    "plt.plot(figsize = [8,6])\n",
    "\n",
    "plt.plot(history.history['loss'],'r',linewidth = 3.0)\n",
    "plt.plot(history.history['val_loss'],'b',linewidth = 3.0)\n",
    "\n",
    "plt.legend(['Training Loss', 'Validation Loss'], fontsize = 18)\n",
    "\n",
    "plt.xlabel('Epochs', fontsize = 16)\n",
    "plt.ylabel('Loss', fontsize = 16)\n",
    "\n",
    "plt.title('Loss Curve of Deep Neural Netowork' , fontsize = 16 )\n",
    "\n"
   ]
  },
  {
   "cell_type": "code",
   "execution_count": 25,
   "id": "b0c193ec",
   "metadata": {},
   "outputs": [
    {
     "data": {
      "text/plain": [
       "Text(0.5, 1.0, 'Accuracy Curve of Deep Neural Netowork')"
      ]
     },
     "execution_count": 25,
     "metadata": {},
     "output_type": "execute_result"
    },
    {
     "data": {
      "image/png": "[encoded data removed]",
      "text/plain": [
       "<Figure size 432x288 with 1 Axes>"
      ]
     },
     "metadata": {
      "needs_background": "light"
     },
     "output_type": "display_data"
    }
   ],
   "source": [
    "#Accuracy Curve\n",
    "\n",
    "plt.plot(figsize = [8,6])\n",
    "plt.plot(history.history['accuracy'],'r',linewidth = 3.0)\n",
    "plt.plot(history.history['val_accuracy'],'b',linewidth = 3.0)\n",
    "\n",
    "plt.legend(['Training Accuracy', 'Validation Accuracy'], fontsize = 18)\n",
    "\n",
    "plt.xlabel('Epochs', fontsize = 16)\n",
    "plt.ylabel('Accuracy', fontsize = 16)\n",
    "\n",
    "\n",
    "plt.title('Accuracy Curve of Deep Neural Netowork' , fontsize = 16 )"
   ]
  },
  {
   "cell_type": "markdown",
   "id": "741a02aa",
   "metadata": {},
   "source": [
    "##  4.2 Make Predictions"
   ]
  },
  {
   "cell_type": "code",
   "execution_count": 26,
   "id": "e8465627",
   "metadata": {},
   "outputs": [],
   "source": [
    "predictions = model.predict(X_test)\n",
    "predictions = np.argmax(predictions, axis = 1)"
   ]
  },
  {
   "cell_type": "code",
   "execution_count": 27,
   "id": "3cac1a50",
   "metadata": {},
   "outputs": [
    {
     "data": {
      "text/plain": [
       "array([23,  4,  1, ..., 13,  8,  0], dtype=int64)"
      ]
     },
     "execution_count": 27,
     "metadata": {},
     "output_type": "execute_result"
    }
   ],
   "source": [
    "predictions"
   ]
  },
  {
   "cell_type": "markdown",
   "id": "70d666bb",
   "metadata": {},
   "source": [
    "#### Transforming from One Hot Encoding"
   ]
  },
  {
   "cell_type": "code",
   "execution_count": 28,
   "id": "7234b6e7",
   "metadata": {},
   "outputs": [
    {
     "data": {
      "text/plain": [
       "4"
      ]
     },
     "execution_count": 28,
     "metadata": {},
     "output_type": "execute_result"
    }
   ],
   "source": [
    "y_test =np.argmax(y_test, axis=1)\n",
    "y_test[1]"
   ]
  },
  {
   "cell_type": "code",
   "execution_count": 29,
   "id": "6278820d",
   "metadata": {},
   "outputs": [
    {
     "name": "stdout",
     "output_type": "stream",
     "text": [
      "Accuracy is: 94.08193845011078\n"
     ]
    }
   ],
   "source": [
    "from sklearn.metrics import accuracy_score\n",
    "accuracy = {accuracy_score(y_test, predictions)}\n",
    "print(f\"Accuracy is: {accuracy_score(y_test, predictions)* 100}\")"
   ]
  },
  {
   "cell_type": "markdown",
   "id": "eb044ea1",
   "metadata": {},
   "source": [
    "## 4.3 Classification Report"
   ]
  },
  {
   "cell_type": "code",
   "execution_count": 30,
   "id": "001ebc5a",
   "metadata": {},
   "outputs": [
    {
     "name": "stdout",
     "output_type": "stream",
     "text": [
      "\u001b[1mClassification report : \u001b[0m\n",
      "               precision    recall  f1-score   support\n",
      "\n",
      "           0       0.95      0.97      0.96     37515\n",
      "           1       0.98      0.98      0.98      2235\n",
      "           2       0.93      0.92      0.92      2340\n",
      "           3       0.96      0.90      0.93      2154\n",
      "           4       0.97      0.90      0.93      2186\n",
      "           5       0.94      0.90      0.92      2062\n",
      "           6       0.83      0.96      0.89      2329\n",
      "           7       0.92      0.87      0.90      2264\n",
      "           8       0.91      0.88      0.90      2354\n",
      "           9       0.93      0.87      0.90      2352\n",
      "          10       0.96      0.89      0.92      2117\n",
      "          11       0.91      0.90      0.90      2378\n",
      "          12       0.89      0.92      0.91      2567\n",
      "          13       0.94      0.94      0.94      1473\n",
      "          14       0.93      0.91      0.92      1438\n",
      "          15       0.91      0.89      0.90      1529\n",
      "          16       0.95      0.93      0.94      1614\n",
      "          17       0.90      0.88      0.89      1811\n",
      "          18       0.96      0.96      0.96       836\n",
      "          19       0.96      0.94      0.95       939\n",
      "          20       0.99      0.98      0.98       894\n",
      "          21       0.97      0.96      0.96       890\n",
      "          22       0.99      0.93      0.96       872\n",
      "          23       0.96      0.99      0.97       934\n",
      "\n",
      "    accuracy                           0.94     78083\n",
      "   macro avg       0.94      0.92      0.93     78083\n",
      "weighted avg       0.94      0.94      0.94     78083\n",
      "\n",
      "\u001b[1mConfusion Matrix : \u001b[0m\n"
     ]
    },
    {
     "data": {
      "image/png": "[encoded data removed]",
      "text/plain": [
       "<Figure size 432x288 with 2 Axes>"
      ]
     },
     "metadata": {
      "needs_background": "light"
     },
     "output_type": "display_data"
    }
   ],
   "source": [
    "from sklearn.metrics import confusion_matrix, f1_score, accuracy_score, classification_report\n",
    "print('\\033[1m' +'Classification report : '+ '\\033[0m\\n', classification_report(y_test, predictions))\n",
    "\n",
    "cm = confusion_matrix(predictions, y_test)\n",
    "print('\\033[1m' +'Confusion Matrix : '+ '\\033[0m')\n",
    "sns.heatmap(cm, cmap = 'OrRd',annot = True, fmt='d')\n",
    "plt.show()"
   ]
  },
  {
   "cell_type": "markdown",
   "id": "eaa5e512",
   "metadata": {},
   "source": [
    "## 4.4 Evaluation"
   ]
  },
  {
   "cell_type": "code",
   "execution_count": 31,
   "id": "9e469f86",
   "metadata": {},
   "outputs": [
    {
     "name": "stdout",
     "output_type": "stream",
     "text": [
      "MAE: 0.4661962270916845\n",
      "MSE: 5.182895124418888\n",
      "RMSE: 2.2765972688244376\n"
     ]
    }
   ],
   "source": [
    "from sklearn import metrics\n",
    "\n",
    "print('MAE:', metrics.mean_absolute_error(y_test,predictions))\n",
    "print('MSE:', metrics.mean_squared_error(y_test, predictions))\n",
    "print('RMSE:', np.sqrt(metrics.mean_squared_error(y_test, predictions)))"
   ]
  },
  {
   "cell_type": "code",
   "execution_count": 32,
   "id": "dff2a82d",
   "metadata": {},
   "outputs": [
    {
     "name": "stdout",
     "output_type": "stream",
     "text": [
      "Precision Score :  0.9413077472484624\n",
      "Recall Score :  0.9408193845011078\n",
      "f1_score :  0.9406873219350874\n"
     ]
    }
   ],
   "source": [
    "from sklearn.metrics import precision_score\n",
    "print(\"Precision Score : \",precision_score(y_test, predictions, average='weighted'))\n",
    "\n",
    "\n",
    "from sklearn.metrics import recall_score\n",
    "print(\"Recall Score : \",recall_score(y_test, predictions,average='weighted'))\n",
    "\n",
    "\n",
    "from sklearn.metrics import f1_score\n",
    "print(\"f1_score : \",f1_score(y_test, predictions,average='weighted'))"
   ]
  },
  {
   "cell_type": "code",
   "execution_count": null,
   "id": "81ac7468",
   "metadata": {},
   "outputs": [],
   "source": []
  },
  {
   "cell_type": "code",
   "execution_count": null,
   "id": "71a4c6e0",
   "metadata": {},
   "outputs": [],
   "source": []
  }
 ],
 "metadata": {
  "kernelspec": {
   "display_name": "Python 3 (ipykernel)",
   "language": "python",
   "name": "python3"
  },
  "language_info": {
   "codemirror_mode": {
    "name": "ipython",
    "version": 3
   },
   "file_extension": ".py",
   "mimetype": "text/x-python",
   "name": "python",
   "nbconvert_exporter": "python",
   "pygments_lexer": "ipython3",
   "version": "3.8.12"
  }
 },
 "nbformat": 4,
 "nbformat_minor": 5
}
