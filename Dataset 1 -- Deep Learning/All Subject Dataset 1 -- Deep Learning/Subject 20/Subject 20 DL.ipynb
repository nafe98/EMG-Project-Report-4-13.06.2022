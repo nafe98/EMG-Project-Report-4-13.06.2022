{
 "cells": [
  {
   "cell_type": "markdown",
   "id": "bf8ee932",
   "metadata": {},
   "source": [
    "# Importing Libraries"
   ]
  },
  {
   "cell_type": "code",
   "execution_count": 1,
   "id": "0f663fa8",
   "metadata": {},
   "outputs": [],
   "source": [
    "import numpy as np\n",
    "import pandas as pd\n",
    "import matplotlib.pyplot as plt\n",
    "import seaborn as sns\n",
    "from sklearn.model_selection import train_test_split"
   ]
  },
  {
   "cell_type": "markdown",
   "id": "511af272",
   "metadata": {},
   "source": [
    "# Loading Data"
   ]
  },
  {
   "cell_type": "code",
   "execution_count": 2,
   "id": "04fd19b0",
   "metadata": {},
   "outputs": [
    {
     "data": {
      "text/html": [
       "<div>\n",
       "<style scoped>\n",
       "    .dataframe tbody tr th:only-of-type {\n",
       "        vertical-align: middle;\n",
       "    }\n",
       "\n",
       "    .dataframe tbody tr th {\n",
       "        vertical-align: top;\n",
       "    }\n",
       "\n",
       "    .dataframe thead th {\n",
       "        text-align: right;\n",
       "    }\n",
       "</style>\n",
       "<table border=\"1\" class=\"dataframe\">\n",
       "  <thead>\n",
       "    <tr style=\"text-align: right;\">\n",
       "      <th></th>\n",
       "      <th>Emg1</th>\n",
       "      <th>Emg2</th>\n",
       "      <th>Emg3</th>\n",
       "      <th>Emg4</th>\n",
       "      <th>Emg5</th>\n",
       "      <th>Emg6</th>\n",
       "      <th>Emg7</th>\n",
       "      <th>Emg8</th>\n",
       "      <th>Emg9</th>\n",
       "      <th>Emg10</th>\n",
       "      <th>repetition</th>\n",
       "      <th>rerepetition</th>\n",
       "      <th>stimulus</th>\n",
       "      <th>restimulus</th>\n",
       "    </tr>\n",
       "  </thead>\n",
       "  <tbody>\n",
       "    <tr>\n",
       "      <th>273235</th>\n",
       "      <td>0.3247</td>\n",
       "      <td>0.0024</td>\n",
       "      <td>0.0024</td>\n",
       "      <td>0.0024</td>\n",
       "      <td>0.0024</td>\n",
       "      <td>0.0122</td>\n",
       "      <td>0.0732</td>\n",
       "      <td>0.2344</td>\n",
       "      <td>0.0024</td>\n",
       "      <td>0.1563</td>\n",
       "      <td>0</td>\n",
       "      <td>0</td>\n",
       "      <td>0</td>\n",
       "      <td>0</td>\n",
       "    </tr>\n",
       "    <tr>\n",
       "      <th>19003</th>\n",
       "      <td>0.5493</td>\n",
       "      <td>0.4663</td>\n",
       "      <td>0.3296</td>\n",
       "      <td>0.1025</td>\n",
       "      <td>0.0708</td>\n",
       "      <td>0.2612</td>\n",
       "      <td>1.6187</td>\n",
       "      <td>0.7568</td>\n",
       "      <td>0.4077</td>\n",
       "      <td>0.6494</td>\n",
       "      <td>3</td>\n",
       "      <td>3</td>\n",
       "      <td>3</td>\n",
       "      <td>3</td>\n",
       "    </tr>\n",
       "    <tr>\n",
       "      <th>143057</th>\n",
       "      <td>0.5396</td>\n",
       "      <td>0.0024</td>\n",
       "      <td>0.0024</td>\n",
       "      <td>0.0024</td>\n",
       "      <td>0.0024</td>\n",
       "      <td>0.0024</td>\n",
       "      <td>0.0317</td>\n",
       "      <td>0.3833</td>\n",
       "      <td>0.0024</td>\n",
       "      <td>0.0024</td>\n",
       "      <td>9</td>\n",
       "      <td>0</td>\n",
       "      <td>5</td>\n",
       "      <td>0</td>\n",
       "    </tr>\n",
       "    <tr>\n",
       "      <th>153333</th>\n",
       "      <td>0.7715</td>\n",
       "      <td>0.0024</td>\n",
       "      <td>0.0024</td>\n",
       "      <td>0.0024</td>\n",
       "      <td>0.0024</td>\n",
       "      <td>0.0049</td>\n",
       "      <td>0.0366</td>\n",
       "      <td>0.3076</td>\n",
       "      <td>0.0024</td>\n",
       "      <td>0.0024</td>\n",
       "      <td>0</td>\n",
       "      <td>0</td>\n",
       "      <td>0</td>\n",
       "      <td>0</td>\n",
       "    </tr>\n",
       "    <tr>\n",
       "      <th>293326</th>\n",
       "      <td>1.7627</td>\n",
       "      <td>0.3320</td>\n",
       "      <td>0.4541</td>\n",
       "      <td>0.5493</td>\n",
       "      <td>0.2051</td>\n",
       "      <td>0.3003</td>\n",
       "      <td>0.6934</td>\n",
       "      <td>1.4038</td>\n",
       "      <td>0.4517</td>\n",
       "      <td>0.8984</td>\n",
       "      <td>3</td>\n",
       "      <td>3</td>\n",
       "      <td>6</td>\n",
       "      <td>6</td>\n",
       "    </tr>\n",
       "  </tbody>\n",
       "</table>\n",
       "</div>"
      ],
      "text/plain": [
       "          Emg1    Emg2    Emg3    Emg4    Emg5    Emg6    Emg7    Emg8  \\\n",
       "273235  0.3247  0.0024  0.0024  0.0024  0.0024  0.0122  0.0732  0.2344   \n",
       "19003   0.5493  0.4663  0.3296  0.1025  0.0708  0.2612  1.6187  0.7568   \n",
       "143057  0.5396  0.0024  0.0024  0.0024  0.0024  0.0024  0.0317  0.3833   \n",
       "153333  0.7715  0.0024  0.0024  0.0024  0.0024  0.0049  0.0366  0.3076   \n",
       "293326  1.7627  0.3320  0.4541  0.5493  0.2051  0.3003  0.6934  1.4038   \n",
       "\n",
       "          Emg9   Emg10  repetition  rerepetition  stimulus  restimulus  \n",
       "273235  0.0024  0.1563           0             0         0           0  \n",
       "19003   0.4077  0.6494           3             3         3           3  \n",
       "143057  0.0024  0.0024           9             0         5           0  \n",
       "153333  0.0024  0.0024           0             0         0           0  \n",
       "293326  0.4517  0.8984           3             3         6           6  "
      ]
     },
     "execution_count": 2,
     "metadata": {},
     "output_type": "execute_result"
    }
   ],
   "source": [
    "raw_data = pd.read_excel('Dataset 1 Patient 20.xlsx')\n",
    "raw_data.sample(5)"
   ]
  },
  {
   "cell_type": "code",
   "execution_count": 3,
   "id": "80369ddb",
   "metadata": {},
   "outputs": [
    {
     "name": "stdout",
     "output_type": "stream",
     "text": [
      "<class 'pandas.core.frame.DataFrame'>\n",
      "RangeIndex: 469983 entries, 0 to 469982\n",
      "Data columns (total 14 columns):\n",
      " #   Column        Non-Null Count   Dtype  \n",
      "---  ------        --------------   -----  \n",
      " 0   Emg1          469983 non-null  float64\n",
      " 1   Emg2          469983 non-null  float64\n",
      " 2   Emg3          469983 non-null  float64\n",
      " 3   Emg4          469983 non-null  float64\n",
      " 4   Emg5          469983 non-null  float64\n",
      " 5   Emg6          469983 non-null  float64\n",
      " 6   Emg7          469983 non-null  float64\n",
      " 7   Emg8          469983 non-null  float64\n",
      " 8   Emg9          469983 non-null  float64\n",
      " 9   Emg10         469983 non-null  float64\n",
      " 10  repetition    469983 non-null  int64  \n",
      " 11  rerepetition  469983 non-null  int64  \n",
      " 12  stimulus      469983 non-null  int64  \n",
      " 13  restimulus    469983 non-null  int64  \n",
      "dtypes: float64(10), int64(4)\n",
      "memory usage: 50.2 MB\n"
     ]
    }
   ],
   "source": [
    "raw_data.info()"
   ]
  },
  {
   "cell_type": "code",
   "execution_count": 4,
   "id": "109445f8",
   "metadata": {},
   "outputs": [
    {
     "data": {
      "text/html": [
       "<div>\n",
       "<style scoped>\n",
       "    .dataframe tbody tr th:only-of-type {\n",
       "        vertical-align: middle;\n",
       "    }\n",
       "\n",
       "    .dataframe tbody tr th {\n",
       "        vertical-align: top;\n",
       "    }\n",
       "\n",
       "    .dataframe thead th {\n",
       "        text-align: right;\n",
       "    }\n",
       "</style>\n",
       "<table border=\"1\" class=\"dataframe\">\n",
       "  <thead>\n",
       "    <tr style=\"text-align: right;\">\n",
       "      <th></th>\n",
       "      <th>Emg1</th>\n",
       "      <th>Emg2</th>\n",
       "      <th>Emg3</th>\n",
       "      <th>Emg4</th>\n",
       "      <th>Emg5</th>\n",
       "      <th>Emg6</th>\n",
       "      <th>Emg7</th>\n",
       "      <th>Emg8</th>\n",
       "      <th>Emg9</th>\n",
       "      <th>Emg10</th>\n",
       "      <th>repetition</th>\n",
       "      <th>rerepetition</th>\n",
       "      <th>stimulus</th>\n",
       "      <th>restimulus</th>\n",
       "    </tr>\n",
       "  </thead>\n",
       "  <tbody>\n",
       "    <tr>\n",
       "      <th>count</th>\n",
       "      <td>469983.000000</td>\n",
       "      <td>469983.000000</td>\n",
       "      <td>469983.000000</td>\n",
       "      <td>469983.000000</td>\n",
       "      <td>469983.000000</td>\n",
       "      <td>469983.000000</td>\n",
       "      <td>469983.000000</td>\n",
       "      <td>469983.000000</td>\n",
       "      <td>469983.000000</td>\n",
       "      <td>469983.000000</td>\n",
       "      <td>469983.000000</td>\n",
       "      <td>469983.000000</td>\n",
       "      <td>469983.000000</td>\n",
       "      <td>469983.000000</td>\n",
       "    </tr>\n",
       "    <tr>\n",
       "      <th>mean</th>\n",
       "      <td>0.519579</td>\n",
       "      <td>0.168986</td>\n",
       "      <td>0.110115</td>\n",
       "      <td>0.065947</td>\n",
       "      <td>0.035622</td>\n",
       "      <td>0.079689</td>\n",
       "      <td>0.445016</td>\n",
       "      <td>0.400604</td>\n",
       "      <td>0.146198</td>\n",
       "      <td>0.265693</td>\n",
       "      <td>3.157821</td>\n",
       "      <td>2.165272</td>\n",
       "      <td>5.597981</td>\n",
       "      <td>4.009179</td>\n",
       "    </tr>\n",
       "    <tr>\n",
       "      <th>std</th>\n",
       "      <td>0.555217</td>\n",
       "      <td>0.341448</td>\n",
       "      <td>0.236890</td>\n",
       "      <td>0.151314</td>\n",
       "      <td>0.078130</td>\n",
       "      <td>0.170031</td>\n",
       "      <td>0.786864</td>\n",
       "      <td>0.443671</td>\n",
       "      <td>0.346554</td>\n",
       "      <td>0.435951</td>\n",
       "      <td>3.483234</td>\n",
       "      <td>3.229908</td>\n",
       "      <td>6.578078</td>\n",
       "      <td>6.248982</td>\n",
       "    </tr>\n",
       "    <tr>\n",
       "      <th>min</th>\n",
       "      <td>0.002400</td>\n",
       "      <td>0.000000</td>\n",
       "      <td>0.002400</td>\n",
       "      <td>0.000000</td>\n",
       "      <td>0.000000</td>\n",
       "      <td>0.000000</td>\n",
       "      <td>0.000000</td>\n",
       "      <td>0.002400</td>\n",
       "      <td>0.000000</td>\n",
       "      <td>0.000000</td>\n",
       "      <td>0.000000</td>\n",
       "      <td>0.000000</td>\n",
       "      <td>0.000000</td>\n",
       "      <td>0.000000</td>\n",
       "    </tr>\n",
       "    <tr>\n",
       "      <th>25%</th>\n",
       "      <td>0.144000</td>\n",
       "      <td>0.002400</td>\n",
       "      <td>0.002400</td>\n",
       "      <td>0.002400</td>\n",
       "      <td>0.002400</td>\n",
       "      <td>0.002400</td>\n",
       "      <td>0.026900</td>\n",
       "      <td>0.151400</td>\n",
       "      <td>0.002400</td>\n",
       "      <td>0.002400</td>\n",
       "      <td>0.000000</td>\n",
       "      <td>0.000000</td>\n",
       "      <td>0.000000</td>\n",
       "      <td>0.000000</td>\n",
       "    </tr>\n",
       "    <tr>\n",
       "      <th>50%</th>\n",
       "      <td>0.383300</td>\n",
       "      <td>0.002400</td>\n",
       "      <td>0.002400</td>\n",
       "      <td>0.002400</td>\n",
       "      <td>0.002400</td>\n",
       "      <td>0.007300</td>\n",
       "      <td>0.114700</td>\n",
       "      <td>0.249000</td>\n",
       "      <td>0.002400</td>\n",
       "      <td>0.078100</td>\n",
       "      <td>2.000000</td>\n",
       "      <td>0.000000</td>\n",
       "      <td>3.000000</td>\n",
       "      <td>0.000000</td>\n",
       "    </tr>\n",
       "    <tr>\n",
       "      <th>75%</th>\n",
       "      <td>0.688500</td>\n",
       "      <td>0.166000</td>\n",
       "      <td>0.117200</td>\n",
       "      <td>0.053700</td>\n",
       "      <td>0.026900</td>\n",
       "      <td>0.073200</td>\n",
       "      <td>0.488300</td>\n",
       "      <td>0.444300</td>\n",
       "      <td>0.131800</td>\n",
       "      <td>0.312500</td>\n",
       "      <td>6.000000</td>\n",
       "      <td>4.000000</td>\n",
       "      <td>10.000000</td>\n",
       "      <td>7.000000</td>\n",
       "    </tr>\n",
       "    <tr>\n",
       "      <th>max</th>\n",
       "      <td>4.668000</td>\n",
       "      <td>4.438500</td>\n",
       "      <td>3.168900</td>\n",
       "      <td>2.612300</td>\n",
       "      <td>1.079100</td>\n",
       "      <td>1.953100</td>\n",
       "      <td>4.665500</td>\n",
       "      <td>4.668000</td>\n",
       "      <td>4.660600</td>\n",
       "      <td>4.663100</td>\n",
       "      <td>10.000000</td>\n",
       "      <td>10.000000</td>\n",
       "      <td>23.000000</td>\n",
       "      <td>23.000000</td>\n",
       "    </tr>\n",
       "  </tbody>\n",
       "</table>\n",
       "</div>"
      ],
      "text/plain": [
       "                Emg1           Emg2           Emg3           Emg4  \\\n",
       "count  469983.000000  469983.000000  469983.000000  469983.000000   \n",
       "mean        0.519579       0.168986       0.110115       0.065947   \n",
       "std         0.555217       0.341448       0.236890       0.151314   \n",
       "min         0.002400       0.000000       0.002400       0.000000   \n",
       "25%         0.144000       0.002400       0.002400       0.002400   \n",
       "50%         0.383300       0.002400       0.002400       0.002400   \n",
       "75%         0.688500       0.166000       0.117200       0.053700   \n",
       "max         4.668000       4.438500       3.168900       2.612300   \n",
       "\n",
       "                Emg5           Emg6           Emg7           Emg8  \\\n",
       "count  469983.000000  469983.000000  469983.000000  469983.000000   \n",
       "mean        0.035622       0.079689       0.445016       0.400604   \n",
       "std         0.078130       0.170031       0.786864       0.443671   \n",
       "min         0.000000       0.000000       0.000000       0.002400   \n",
       "25%         0.002400       0.002400       0.026900       0.151400   \n",
       "50%         0.002400       0.007300       0.114700       0.249000   \n",
       "75%         0.026900       0.073200       0.488300       0.444300   \n",
       "max         1.079100       1.953100       4.665500       4.668000   \n",
       "\n",
       "                Emg9          Emg10     repetition   rerepetition  \\\n",
       "count  469983.000000  469983.000000  469983.000000  469983.000000   \n",
       "mean        0.146198       0.265693       3.157821       2.165272   \n",
       "std         0.346554       0.435951       3.483234       3.229908   \n",
       "min         0.000000       0.000000       0.000000       0.000000   \n",
       "25%         0.002400       0.002400       0.000000       0.000000   \n",
       "50%         0.002400       0.078100       2.000000       0.000000   \n",
       "75%         0.131800       0.312500       6.000000       4.000000   \n",
       "max         4.660600       4.663100      10.000000      10.000000   \n",
       "\n",
       "            stimulus     restimulus  \n",
       "count  469983.000000  469983.000000  \n",
       "mean        5.597981       4.009179  \n",
       "std         6.578078       6.248982  \n",
       "min         0.000000       0.000000  \n",
       "25%         0.000000       0.000000  \n",
       "50%         3.000000       0.000000  \n",
       "75%        10.000000       7.000000  \n",
       "max        23.000000      23.000000  "
      ]
     },
     "execution_count": 4,
     "metadata": {},
     "output_type": "execute_result"
    }
   ],
   "source": [
    "raw_data.describe(include='all')"
   ]
  },
  {
   "cell_type": "code",
   "execution_count": 5,
   "id": "f0b9a2e6",
   "metadata": {},
   "outputs": [
    {
     "name": "stdout",
     "output_type": "stream",
     "text": [
      "Unique Dependent values and their counts :\n",
      "0     200142\n",
      "12     15607\n",
      "2      15597\n",
      "7      15595\n",
      "4      15591\n",
      "8      15588\n",
      "9      15585\n",
      "11     15572\n",
      "6      15563\n",
      "5      15543\n",
      "10     15525\n",
      "1      15524\n",
      "3      15524\n",
      "17     10407\n",
      "14     10407\n",
      "13     10406\n",
      "15     10380\n",
      "16     10328\n",
      "19      5204\n",
      "21      5202\n",
      "18      5200\n",
      "22      5171\n",
      "23      5162\n",
      "20      5160\n",
      "Name: stimulus, dtype: int64\n"
     ]
    }
   ],
   "source": [
    "print(\"Unique Dependent values and their counts :\")\n",
    "print(raw_data[\"stimulus\"].value_counts())"
   ]
  },
  {
   "cell_type": "markdown",
   "id": "54420ec4",
   "metadata": {},
   "source": [
    "# Data Cleaning"
   ]
  },
  {
   "cell_type": "code",
   "execution_count": 6,
   "id": "a811198b",
   "metadata": {},
   "outputs": [],
   "source": [
    "index_names = raw_data[ (raw_data['stimulus'] != raw_data['restimulus'])].index\n",
    "raw_data.drop(index_names, inplace = True)"
   ]
  },
  {
   "cell_type": "code",
   "execution_count": 7,
   "id": "556cd92f",
   "metadata": {},
   "outputs": [],
   "source": [
    "index_names = raw_data[ (raw_data['repetition'] != raw_data['rerepetition'])].index\n",
    "raw_data.drop(index_names, inplace = True)"
   ]
  },
  {
   "cell_type": "code",
   "execution_count": 8,
   "id": "c91744f7",
   "metadata": {},
   "outputs": [],
   "source": [
    "X = raw_data.iloc[:,0:10]\n",
    "y = raw_data.stimulus"
   ]
  },
  {
   "cell_type": "markdown",
   "id": "152f7160",
   "metadata": {},
   "source": [
    "# One Hot Encoding"
   ]
  },
  {
   "cell_type": "code",
   "execution_count": 9,
   "id": "dfb77d24",
   "metadata": {},
   "outputs": [],
   "source": [
    "num_classes = 24"
   ]
  },
  {
   "cell_type": "code",
   "execution_count": 10,
   "id": "be64bf6b",
   "metadata": {},
   "outputs": [],
   "source": [
    "# One hot encoding for categorical labels\n",
    "import keras\n",
    "from keras import utils as np_utils\n",
    "y = keras.utils.np_utils.to_categorical(y, num_classes)"
   ]
  },
  {
   "cell_type": "code",
   "execution_count": 11,
   "id": "c7358f86",
   "metadata": {},
   "outputs": [],
   "source": [
    "input_dim = X.shape[1]"
   ]
  },
  {
   "cell_type": "markdown",
   "id": "cb3088a1",
   "metadata": {},
   "source": [
    "# Standard Scaler"
   ]
  },
  {
   "cell_type": "code",
   "execution_count": 12,
   "id": "5bd820f4",
   "metadata": {},
   "outputs": [],
   "source": [
    "from sklearn.preprocessing import StandardScaler\n",
    "standardscaler=StandardScaler()"
   ]
  },
  {
   "cell_type": "code",
   "execution_count": 13,
   "id": "6a118694",
   "metadata": {},
   "outputs": [],
   "source": [
    "sc = pd.DataFrame(standardscaler.fit_transform(X))"
   ]
  },
  {
   "cell_type": "code",
   "execution_count": 14,
   "id": "d6e2f38b",
   "metadata": {},
   "outputs": [
    {
     "data": {
      "text/html": [
       "<div>\n",
       "<style scoped>\n",
       "    .dataframe tbody tr th:only-of-type {\n",
       "        vertical-align: middle;\n",
       "    }\n",
       "\n",
       "    .dataframe tbody tr th {\n",
       "        vertical-align: top;\n",
       "    }\n",
       "\n",
       "    .dataframe thead th {\n",
       "        text-align: right;\n",
       "    }\n",
       "</style>\n",
       "<table border=\"1\" class=\"dataframe\">\n",
       "  <thead>\n",
       "    <tr style=\"text-align: right;\">\n",
       "      <th></th>\n",
       "      <th>0</th>\n",
       "      <th>1</th>\n",
       "      <th>2</th>\n",
       "      <th>3</th>\n",
       "      <th>4</th>\n",
       "      <th>5</th>\n",
       "      <th>6</th>\n",
       "      <th>7</th>\n",
       "      <th>8</th>\n",
       "      <th>9</th>\n",
       "    </tr>\n",
       "  </thead>\n",
       "  <tbody>\n",
       "    <tr>\n",
       "      <th>0</th>\n",
       "      <td>-0.952798</td>\n",
       "      <td>-0.547708</td>\n",
       "      <td>-0.513029</td>\n",
       "      <td>-0.472837</td>\n",
       "      <td>-0.478691</td>\n",
       "      <td>-0.410747</td>\n",
       "      <td>-0.345969</td>\n",
       "      <td>-0.735177</td>\n",
       "      <td>-0.466575</td>\n",
       "      <td>-0.472407</td>\n",
       "    </tr>\n",
       "    <tr>\n",
       "      <th>1</th>\n",
       "      <td>-0.952798</td>\n",
       "      <td>-0.547708</td>\n",
       "      <td>-0.513029</td>\n",
       "      <td>-0.472837</td>\n",
       "      <td>-0.478691</td>\n",
       "      <td>-0.357587</td>\n",
       "      <td>-0.360316</td>\n",
       "      <td>-0.745428</td>\n",
       "      <td>-0.466575</td>\n",
       "      <td>-0.477528</td>\n",
       "    </tr>\n",
       "    <tr>\n",
       "      <th>2</th>\n",
       "      <td>-0.952798</td>\n",
       "      <td>-0.547708</td>\n",
       "      <td>-0.513029</td>\n",
       "      <td>-0.472837</td>\n",
       "      <td>-0.478691</td>\n",
       "      <td>-0.317989</td>\n",
       "      <td>-0.389126</td>\n",
       "      <td>-0.760701</td>\n",
       "      <td>-0.466575</td>\n",
       "      <td>-0.493104</td>\n",
       "    </tr>\n",
       "    <tr>\n",
       "      <th>3</th>\n",
       "      <td>-0.952798</td>\n",
       "      <td>-0.547708</td>\n",
       "      <td>-0.513029</td>\n",
       "      <td>-0.472837</td>\n",
       "      <td>-0.478691</td>\n",
       "      <td>-0.344569</td>\n",
       "      <td>-0.423464</td>\n",
       "      <td>-0.775973</td>\n",
       "      <td>-0.466575</td>\n",
       "      <td>-0.519135</td>\n",
       "    </tr>\n",
       "    <tr>\n",
       "      <th>4</th>\n",
       "      <td>-0.952798</td>\n",
       "      <td>-0.547708</td>\n",
       "      <td>-0.513029</td>\n",
       "      <td>-0.472837</td>\n",
       "      <td>-0.478691</td>\n",
       "      <td>-0.370606</td>\n",
       "      <td>-0.452274</td>\n",
       "      <td>-0.786224</td>\n",
       "      <td>-0.466575</td>\n",
       "      <td>-0.540045</td>\n",
       "    </tr>\n",
       "    <tr>\n",
       "      <th>...</th>\n",
       "      <td>...</td>\n",
       "      <td>...</td>\n",
       "      <td>...</td>\n",
       "      <td>...</td>\n",
       "      <td>...</td>\n",
       "      <td>...</td>\n",
       "      <td>...</td>\n",
       "      <td>...</td>\n",
       "      <td>...</td>\n",
       "      <td>...</td>\n",
       "    </tr>\n",
       "    <tr>\n",
       "      <th>383865</th>\n",
       "      <td>-0.429773</td>\n",
       "      <td>-0.547708</td>\n",
       "      <td>-0.379412</td>\n",
       "      <td>-0.472837</td>\n",
       "      <td>-0.478691</td>\n",
       "      <td>-0.397185</td>\n",
       "      <td>-0.489551</td>\n",
       "      <td>-0.398143</td>\n",
       "      <td>-0.421097</td>\n",
       "      <td>-0.545165</td>\n",
       "    </tr>\n",
       "    <tr>\n",
       "      <th>383866</th>\n",
       "      <td>-0.433821</td>\n",
       "      <td>-0.540921</td>\n",
       "      <td>-0.398556</td>\n",
       "      <td>-0.472837</td>\n",
       "      <td>-0.478691</td>\n",
       "      <td>-0.410747</td>\n",
       "      <td>-0.495314</td>\n",
       "      <td>-0.418436</td>\n",
       "      <td>-0.421097</td>\n",
       "      <td>-0.534924</td>\n",
       "    </tr>\n",
       "    <tr>\n",
       "      <th>383867</th>\n",
       "      <td>-0.417461</td>\n",
       "      <td>-0.547708</td>\n",
       "      <td>-0.436453</td>\n",
       "      <td>-0.472837</td>\n",
       "      <td>-0.478691</td>\n",
       "      <td>-0.423765</td>\n",
       "      <td>-0.506838</td>\n",
       "      <td>-0.454211</td>\n",
       "      <td>-0.427480</td>\n",
       "      <td>-0.545165</td>\n",
       "    </tr>\n",
       "    <tr>\n",
       "      <th>383868</th>\n",
       "      <td>-0.413244</td>\n",
       "      <td>-0.547708</td>\n",
       "      <td>-0.446220</td>\n",
       "      <td>-0.472837</td>\n",
       "      <td>-0.478691</td>\n",
       "      <td>-0.463363</td>\n",
       "      <td>-0.524006</td>\n",
       "      <td>-0.500236</td>\n",
       "      <td>-0.440512</td>\n",
       "      <td>-0.566075</td>\n",
       "    </tr>\n",
       "    <tr>\n",
       "      <th>383869</th>\n",
       "      <td>-0.433821</td>\n",
       "      <td>-0.547708</td>\n",
       "      <td>-0.436453</td>\n",
       "      <td>-0.472837</td>\n",
       "      <td>-0.478691</td>\n",
       "      <td>-0.476924</td>\n",
       "      <td>-0.529769</td>\n",
       "      <td>-0.541032</td>\n",
       "      <td>-0.453543</td>\n",
       "      <td>-0.586985</td>\n",
       "    </tr>\n",
       "  </tbody>\n",
       "</table>\n",
       "<p>383870 rows × 10 columns</p>\n",
       "</div>"
      ],
      "text/plain": [
       "               0         1         2         3         4         5         6  \\\n",
       "0      -0.952798 -0.547708 -0.513029 -0.472837 -0.478691 -0.410747 -0.345969   \n",
       "1      -0.952798 -0.547708 -0.513029 -0.472837 -0.478691 -0.357587 -0.360316   \n",
       "2      -0.952798 -0.547708 -0.513029 -0.472837 -0.478691 -0.317989 -0.389126   \n",
       "3      -0.952798 -0.547708 -0.513029 -0.472837 -0.478691 -0.344569 -0.423464   \n",
       "4      -0.952798 -0.547708 -0.513029 -0.472837 -0.478691 -0.370606 -0.452274   \n",
       "...          ...       ...       ...       ...       ...       ...       ...   \n",
       "383865 -0.429773 -0.547708 -0.379412 -0.472837 -0.478691 -0.397185 -0.489551   \n",
       "383866 -0.433821 -0.540921 -0.398556 -0.472837 -0.478691 -0.410747 -0.495314   \n",
       "383867 -0.417461 -0.547708 -0.436453 -0.472837 -0.478691 -0.423765 -0.506838   \n",
       "383868 -0.413244 -0.547708 -0.446220 -0.472837 -0.478691 -0.463363 -0.524006   \n",
       "383869 -0.433821 -0.547708 -0.436453 -0.472837 -0.478691 -0.476924 -0.529769   \n",
       "\n",
       "               7         8         9  \n",
       "0      -0.735177 -0.466575 -0.472407  \n",
       "1      -0.745428 -0.466575 -0.477528  \n",
       "2      -0.760701 -0.466575 -0.493104  \n",
       "3      -0.775973 -0.466575 -0.519135  \n",
       "4      -0.786224 -0.466575 -0.540045  \n",
       "...          ...       ...       ...  \n",
       "383865 -0.398143 -0.421097 -0.545165  \n",
       "383866 -0.418436 -0.421097 -0.534924  \n",
       "383867 -0.454211 -0.427480 -0.545165  \n",
       "383868 -0.500236 -0.440512 -0.566075  \n",
       "383869 -0.541032 -0.453543 -0.586985  \n",
       "\n",
       "[383870 rows x 10 columns]"
      ]
     },
     "execution_count": 14,
     "metadata": {},
     "output_type": "execute_result"
    }
   ],
   "source": [
    "sc"
   ]
  },
  {
   "cell_type": "code",
   "execution_count": 15,
   "id": "65cfb75d",
   "metadata": {},
   "outputs": [],
   "source": [
    "# Splitting data for training and testing\n",
    "X_train, X_test, y_train, y_test = train_test_split(sc, y, test_size = 0.2, random_state = 39)"
   ]
  },
  {
   "cell_type": "markdown",
   "id": "3ba47781",
   "metadata": {},
   "source": [
    "# Deep Learning "
   ]
  },
  {
   "cell_type": "code",
   "execution_count": 16,
   "id": "d426e2e1",
   "metadata": {},
   "outputs": [],
   "source": [
    "from sklearn.preprocessing import MinMaxScaler\n",
    "from tensorflow.keras.models import Model\n",
    "from tensorflow.keras.layers import Input\n",
    "from tensorflow.keras.layers import Dense\n",
    "from tensorflow.keras.layers import LeakyReLU,ELU\n",
    "from tensorflow.keras.layers import BatchNormalization\n",
    "from tensorflow.keras.utils import plot_model\n",
    "import tensorflow as tf\n",
    "from sklearn.model_selection import cross_val_score\n",
    "from keras.models import Sequential\n",
    "from keras.layers import Dense, BatchNormalization, Dropout\n",
    "from tensorflow.keras.optimizers import Adam, SGD, RMSprop, Adadelta, Adagrad, Adamax, Nadam, Ftrl\n",
    "from keras.callbacks import EarlyStopping, ModelCheckpoint\n",
    "from keras.wrappers.scikit_learn import KerasClassifier\n",
    "from sklearn.metrics import make_scorer, accuracy_score\n",
    "from sklearn.model_selection import StratifiedKFold"
   ]
  },
  {
   "cell_type": "code",
   "execution_count": 17,
   "id": "cd0ef208",
   "metadata": {},
   "outputs": [],
   "source": [
    "from keras.layers import LeakyReLU\n",
    "LeakyReLU = LeakyReLU(alpha=0.1)\n",
    "from keras.models import Sequential\n",
    "from keras.layers import Dense, Flatten, Convolution1D, Dropout\n",
    "from keras.initializers import random_uniform"
   ]
  },
  {
   "cell_type": "markdown",
   "id": "f97d61bc",
   "metadata": {},
   "source": [
    "# 1. Define Network"
   ]
  },
  {
   "cell_type": "code",
   "execution_count": 18,
   "id": "bd77bf81",
   "metadata": {},
   "outputs": [],
   "source": [
    "num_classes = 24\n",
    "input_dim = X.shape[1]"
   ]
  },
  {
   "cell_type": "code",
   "execution_count": 19,
   "id": "fbdce465",
   "metadata": {},
   "outputs": [],
   "source": [
    "visible = Input(shape=(input_dim,))\n",
    "hidden1 = Dense(3000, activation='relu')(visible)\n",
    "hidden2 = Dense(1500, activation='relu')(hidden1)\n",
    "hidden3 = Dropout(0.2)(hidden2)\n",
    "hidden4 = Dense(750, activation='relu')(hidden3)\n",
    "hidden5 = Dense(375, activation='relu')(hidden4)\n",
    "hidden6 = Dense(48, activation='relu')(hidden5)\n",
    "output = Dense(num_classes, activation='softmax')(hidden6)\n",
    "model = Model(inputs=visible, outputs=output)"
   ]
  },
  {
   "cell_type": "code",
   "execution_count": 20,
   "id": "1dd33478",
   "metadata": {},
   "outputs": [
    {
     "name": "stdout",
     "output_type": "stream",
     "text": [
      "Model: \"model\"\n",
      "_________________________________________________________________\n",
      " Layer (type)                Output Shape              Param #   \n",
      "=================================================================\n",
      " input_1 (InputLayer)        [(None, 10)]              0         \n",
      "                                                                 \n",
      " dense (Dense)               (None, 3000)              33000     \n",
      "                                                                 \n",
      " dense_1 (Dense)             (None, 1500)              4501500   \n",
      "                                                                 \n",
      " dropout (Dropout)           (None, 1500)              0         \n",
      "                                                                 \n",
      " dense_2 (Dense)             (None, 750)               1125750   \n",
      "                                                                 \n",
      " dense_3 (Dense)             (None, 375)               281625    \n",
      "                                                                 \n",
      " dense_4 (Dense)             (None, 48)                18048     \n",
      "                                                                 \n",
      " dense_5 (Dense)             (None, 24)                1176      \n",
      "                                                                 \n",
      "=================================================================\n",
      "Total params: 5,961,099\n",
      "Trainable params: 5,961,099\n",
      "Non-trainable params: 0\n",
      "_________________________________________________________________\n"
     ]
    }
   ],
   "source": [
    "model.summary()"
   ]
  },
  {
   "cell_type": "markdown",
   "id": "3196ac97",
   "metadata": {},
   "source": [
    "# 2. Compile Network"
   ]
  },
  {
   "cell_type": "code",
   "execution_count": 21,
   "id": "7a2d558b",
   "metadata": {},
   "outputs": [],
   "source": [
    "model.compile(optimizer='adam', loss='categorical_crossentropy', metrics=['accuracy'])"
   ]
  },
  {
   "cell_type": "code",
   "execution_count": 22,
   "id": "c1d2b36d",
   "metadata": {},
   "outputs": [
    {
     "name": "stdout",
     "output_type": "stream",
     "text": [
      "You must install pydot (`pip install pydot`) and install graphviz (see instructions at https://graphviz.gitlab.io/download/) for plot_model/model_to_dot to work.\n"
     ]
    }
   ],
   "source": [
    "plot_model(model, 'EMG_ANN', show_shapes = True)"
   ]
  },
  {
   "cell_type": "markdown",
   "id": "3358b592",
   "metadata": {},
   "source": [
    "# 3. Fit Network"
   ]
  },
  {
   "cell_type": "code",
   "execution_count": 23,
   "id": "e0ed4ddd",
   "metadata": {},
   "outputs": [
    {
     "name": "stdout",
     "output_type": "stream",
     "text": [
      "Epoch 1/100\n",
      "76/76 [==============================] - 3s 30ms/step - loss: 1.3540 - accuracy: 0.6498 - val_loss: 0.9455 - val_accuracy: 0.7445\n",
      "Epoch 2/100\n",
      "76/76 [==============================] - 2s 30ms/step - loss: 0.8508 - accuracy: 0.7701 - val_loss: 0.7307 - val_accuracy: 0.8006\n",
      "Epoch 3/100\n",
      "76/76 [==============================] - 2s 25ms/step - loss: 0.6938 - accuracy: 0.8076 - val_loss: 0.6820 - val_accuracy: 0.8176\n",
      "Epoch 4/100\n",
      "76/76 [==============================] - 2s 25ms/step - loss: 0.6178 - accuracy: 0.8273 - val_loss: 0.5884 - val_accuracy: 0.8372\n",
      "Epoch 5/100\n",
      "76/76 [==============================] - 2s 26ms/step - loss: 0.5625 - accuracy: 0.8415 - val_loss: 0.5246 - val_accuracy: 0.8516\n",
      "Epoch 6/100\n",
      "76/76 [==============================] - 2s 26ms/step - loss: 0.5232 - accuracy: 0.8519 - val_loss: 0.4875 - val_accuracy: 0.8614\n",
      "Epoch 7/100\n",
      "76/76 [==============================] - 2s 25ms/step - loss: 0.4960 - accuracy: 0.8587 - val_loss: 0.4616 - val_accuracy: 0.8681\n",
      "Epoch 8/100\n",
      "76/76 [==============================] - 2s 27ms/step - loss: 0.4580 - accuracy: 0.8682 - val_loss: 0.4378 - val_accuracy: 0.8727\n",
      "Epoch 9/100\n",
      "76/76 [==============================] - 2s 26ms/step - loss: 0.4408 - accuracy: 0.8739 - val_loss: 0.4268 - val_accuracy: 0.8776\n",
      "Epoch 10/100\n",
      "76/76 [==============================] - 2s 26ms/step - loss: 0.4152 - accuracy: 0.8802 - val_loss: 0.4020 - val_accuracy: 0.8832\n",
      "Epoch 11/100\n",
      "76/76 [==============================] - 2s 26ms/step - loss: 0.3957 - accuracy: 0.8857 - val_loss: 0.3961 - val_accuracy: 0.8881\n",
      "Epoch 12/100\n",
      "76/76 [==============================] - 2s 27ms/step - loss: 0.3855 - accuracy: 0.8890 - val_loss: 0.3700 - val_accuracy: 0.8926\n",
      "Epoch 13/100\n",
      "76/76 [==============================] - 2s 26ms/step - loss: 0.3724 - accuracy: 0.8927 - val_loss: 0.3884 - val_accuracy: 0.8928\n",
      "Epoch 14/100\n",
      "76/76 [==============================] - 2s 26ms/step - loss: 0.3535 - accuracy: 0.8979 - val_loss: 0.3414 - val_accuracy: 0.9008\n",
      "Epoch 15/100\n",
      "76/76 [==============================] - 2s 27ms/step - loss: 0.3420 - accuracy: 0.9013 - val_loss: 0.3385 - val_accuracy: 0.9012\n",
      "Epoch 16/100\n",
      "76/76 [==============================] - 2s 26ms/step - loss: 0.3385 - accuracy: 0.9028 - val_loss: 0.3321 - val_accuracy: 0.9042\n",
      "Epoch 17/100\n",
      "76/76 [==============================] - 2s 26ms/step - loss: 0.3186 - accuracy: 0.9078 - val_loss: 0.3191 - val_accuracy: 0.9085\n",
      "Epoch 18/100\n",
      "76/76 [==============================] - 2s 26ms/step - loss: 0.3109 - accuracy: 0.9102 - val_loss: 0.3190 - val_accuracy: 0.9094\n",
      "Epoch 19/100\n",
      "76/76 [==============================] - 2s 27ms/step - loss: 0.3058 - accuracy: 0.9121 - val_loss: 0.3022 - val_accuracy: 0.9127\n",
      "Epoch 20/100\n",
      "76/76 [==============================] - 2s 26ms/step - loss: 0.2964 - accuracy: 0.9149 - val_loss: 0.3149 - val_accuracy: 0.9090\n",
      "Epoch 21/100\n",
      "76/76 [==============================] - 2s 27ms/step - loss: 0.2846 - accuracy: 0.9176 - val_loss: 0.2828 - val_accuracy: 0.9188\n",
      "Epoch 22/100\n",
      "76/76 [==============================] - 2s 26ms/step - loss: 0.2761 - accuracy: 0.9207 - val_loss: 0.2780 - val_accuracy: 0.9202\n",
      "Epoch 23/100\n",
      "76/76 [==============================] - 2s 27ms/step - loss: 0.2689 - accuracy: 0.9226 - val_loss: 0.2772 - val_accuracy: 0.9207\n",
      "Epoch 24/100\n",
      "76/76 [==============================] - 2s 26ms/step - loss: 0.2610 - accuracy: 0.9250 - val_loss: 0.2663 - val_accuracy: 0.9240\n",
      "Epoch 25/100\n",
      "76/76 [==============================] - 2s 26ms/step - loss: 0.2577 - accuracy: 0.9261 - val_loss: 0.2648 - val_accuracy: 0.9242\n",
      "Epoch 26/100\n",
      "76/76 [==============================] - 2s 26ms/step - loss: 0.2487 - accuracy: 0.9285 - val_loss: 0.2690 - val_accuracy: 0.9243\n",
      "Epoch 27/100\n",
      "76/76 [==============================] - 2s 27ms/step - loss: 0.2512 - accuracy: 0.9286 - val_loss: 0.2607 - val_accuracy: 0.9253\n",
      "Epoch 28/100\n",
      "76/76 [==============================] - 2s 27ms/step - loss: 0.2370 - accuracy: 0.9317 - val_loss: 0.2456 - val_accuracy: 0.9292\n",
      "Epoch 29/100\n",
      "76/76 [==============================] - 2s 26ms/step - loss: 0.2313 - accuracy: 0.9338 - val_loss: 0.2407 - val_accuracy: 0.9311\n",
      "Epoch 30/100\n",
      "76/76 [==============================] - 2s 26ms/step - loss: 0.2262 - accuracy: 0.9355 - val_loss: 0.2415 - val_accuracy: 0.9323\n",
      "Epoch 31/100\n",
      "76/76 [==============================] - 2s 27ms/step - loss: 0.2225 - accuracy: 0.9365 - val_loss: 0.2322 - val_accuracy: 0.9343\n",
      "Epoch 32/100\n",
      "76/76 [==============================] - 2s 26ms/step - loss: 0.2223 - accuracy: 0.9371 - val_loss: 0.2331 - val_accuracy: 0.9338\n",
      "Epoch 33/100\n",
      "76/76 [==============================] - 2s 26ms/step - loss: 0.2104 - accuracy: 0.9399 - val_loss: 0.2260 - val_accuracy: 0.9354\n",
      "Epoch 34/100\n",
      "76/76 [==============================] - 2s 27ms/step - loss: 0.2121 - accuracy: 0.9393 - val_loss: 0.2232 - val_accuracy: 0.9369\n",
      "Epoch 35/100\n",
      "76/76 [==============================] - 2s 26ms/step - loss: 0.2130 - accuracy: 0.9398 - val_loss: 0.2259 - val_accuracy: 0.9377\n",
      "Epoch 36/100\n",
      "76/76 [==============================] - 2s 27ms/step - loss: 0.2016 - accuracy: 0.9431 - val_loss: 0.2163 - val_accuracy: 0.9399\n",
      "Epoch 37/100\n",
      "76/76 [==============================] - 2s 26ms/step - loss: 0.1992 - accuracy: 0.9430 - val_loss: 0.2190 - val_accuracy: 0.9379\n",
      "Epoch 38/100\n",
      "76/76 [==============================] - 2s 26ms/step - loss: 0.1965 - accuracy: 0.9438 - val_loss: 0.2084 - val_accuracy: 0.9414\n",
      "Epoch 39/100\n",
      "76/76 [==============================] - 2s 27ms/step - loss: 0.1927 - accuracy: 0.9453 - val_loss: 0.2176 - val_accuracy: 0.9385\n",
      "Epoch 40/100\n",
      "76/76 [==============================] - 2s 26ms/step - loss: 0.1930 - accuracy: 0.9450 - val_loss: 0.2132 - val_accuracy: 0.9407\n",
      "Epoch 41/100\n",
      "76/76 [==============================] - 2s 27ms/step - loss: 0.1962 - accuracy: 0.9447 - val_loss: 0.2065 - val_accuracy: 0.9423\n",
      "Epoch 42/100\n",
      "76/76 [==============================] - 2s 27ms/step - loss: 0.1823 - accuracy: 0.9482 - val_loss: 0.2119 - val_accuracy: 0.9414\n",
      "Epoch 43/100\n",
      "76/76 [==============================] - 2s 26ms/step - loss: 0.1818 - accuracy: 0.9485 - val_loss: 0.2088 - val_accuracy: 0.9429\n",
      "Epoch 44/100\n",
      "76/76 [==============================] - 2s 26ms/step - loss: 0.1814 - accuracy: 0.9488 - val_loss: 0.1986 - val_accuracy: 0.9452\n",
      "Epoch 45/100\n",
      "76/76 [==============================] - 2s 25ms/step - loss: 0.1792 - accuracy: 0.9497 - val_loss: 0.1982 - val_accuracy: 0.9442\n",
      "Epoch 46/100\n",
      "76/76 [==============================] - 2s 26ms/step - loss: 0.1747 - accuracy: 0.9508 - val_loss: 0.2010 - val_accuracy: 0.9444\n",
      "Epoch 47/100\n",
      "76/76 [==============================] - 2s 26ms/step - loss: 0.1709 - accuracy: 0.9516 - val_loss: 0.1927 - val_accuracy: 0.9464\n",
      "Epoch 48/100\n",
      "76/76 [==============================] - 2s 26ms/step - loss: 0.1689 - accuracy: 0.9522 - val_loss: 0.1906 - val_accuracy: 0.9470\n",
      "Epoch 49/100\n",
      "76/76 [==============================] - 2s 26ms/step - loss: 0.1693 - accuracy: 0.9522 - val_loss: 0.1928 - val_accuracy: 0.9474\n",
      "Epoch 50/100\n",
      "76/76 [==============================] - 2s 26ms/step - loss: 0.1691 - accuracy: 0.9522 - val_loss: 0.1832 - val_accuracy: 0.9486\n",
      "Epoch 51/100\n",
      "76/76 [==============================] - 2s 26ms/step - loss: 0.1619 - accuracy: 0.9539 - val_loss: 0.1860 - val_accuracy: 0.9484\n",
      "Epoch 52/100\n",
      "76/76 [==============================] - 2s 26ms/step - loss: 0.1623 - accuracy: 0.9542 - val_loss: 0.1853 - val_accuracy: 0.9490\n",
      "Epoch 53/100\n",
      "76/76 [==============================] - 2s 26ms/step - loss: 0.1581 - accuracy: 0.9548 - val_loss: 0.1849 - val_accuracy: 0.9496\n",
      "Epoch 54/100\n",
      "76/76 [==============================] - 2s 26ms/step - loss: 0.1598 - accuracy: 0.9550 - val_loss: 0.1824 - val_accuracy: 0.9492\n",
      "Epoch 55/100\n",
      "76/76 [==============================] - 2s 26ms/step - loss: 0.1573 - accuracy: 0.9554 - val_loss: 0.1837 - val_accuracy: 0.9492\n",
      "Epoch 56/100\n",
      "76/76 [==============================] - 2s 26ms/step - loss: 0.1591 - accuracy: 0.9555 - val_loss: 0.1770 - val_accuracy: 0.9508\n",
      "Epoch 57/100\n",
      "76/76 [==============================] - 2s 26ms/step - loss: 0.1503 - accuracy: 0.9573 - val_loss: 0.1778 - val_accuracy: 0.9501\n",
      "Epoch 58/100\n"
     ]
    },
    {
     "name": "stdout",
     "output_type": "stream",
     "text": [
      "76/76 [==============================] - 2s 26ms/step - loss: 0.1493 - accuracy: 0.9580 - val_loss: 0.2013 - val_accuracy: 0.9465\n",
      "Epoch 59/100\n",
      "76/76 [==============================] - 2s 26ms/step - loss: 0.1620 - accuracy: 0.9546 - val_loss: 0.1748 - val_accuracy: 0.9516\n",
      "Epoch 60/100\n",
      "76/76 [==============================] - 2s 27ms/step - loss: 0.1450 - accuracy: 0.9594 - val_loss: 0.1747 - val_accuracy: 0.9515\n",
      "Epoch 61/100\n",
      "76/76 [==============================] - 2s 28ms/step - loss: 0.1494 - accuracy: 0.9579 - val_loss: 0.1759 - val_accuracy: 0.9518\n",
      "Epoch 62/100\n",
      "76/76 [==============================] - 2s 26ms/step - loss: 0.1426 - accuracy: 0.9598 - val_loss: 0.1736 - val_accuracy: 0.9518\n",
      "Epoch 63/100\n",
      "76/76 [==============================] - 2s 26ms/step - loss: 0.1418 - accuracy: 0.9598 - val_loss: 0.1717 - val_accuracy: 0.9526\n",
      "Epoch 64/100\n",
      "76/76 [==============================] - 2s 27ms/step - loss: 0.1406 - accuracy: 0.9602 - val_loss: 0.1718 - val_accuracy: 0.9525\n",
      "Epoch 65/100\n",
      "76/76 [==============================] - 2s 26ms/step - loss: 0.1428 - accuracy: 0.9596 - val_loss: 0.1685 - val_accuracy: 0.9534\n",
      "Epoch 66/100\n",
      "76/76 [==============================] - 2s 26ms/step - loss: 0.1380 - accuracy: 0.9611 - val_loss: 0.1748 - val_accuracy: 0.9527\n",
      "Epoch 67/100\n",
      "76/76 [==============================] - 2s 27ms/step - loss: 0.1370 - accuracy: 0.9608 - val_loss: 0.1724 - val_accuracy: 0.9533\n",
      "Epoch 68/100\n",
      "76/76 [==============================] - 2s 26ms/step - loss: 0.1348 - accuracy: 0.9619 - val_loss: 0.1704 - val_accuracy: 0.9539\n",
      "Epoch 69/100\n",
      "76/76 [==============================] - 2s 27ms/step - loss: 0.1341 - accuracy: 0.9618 - val_loss: 0.1693 - val_accuracy: 0.9543\n",
      "Epoch 70/100\n",
      "76/76 [==============================] - 2s 27ms/step - loss: 0.1334 - accuracy: 0.9624 - val_loss: 0.1645 - val_accuracy: 0.9550\n",
      "Epoch 71/100\n",
      "76/76 [==============================] - 2s 27ms/step - loss: 0.1343 - accuracy: 0.9619 - val_loss: 0.1673 - val_accuracy: 0.9537\n",
      "Epoch 72/100\n",
      "76/76 [==============================] - 2s 27ms/step - loss: 0.1319 - accuracy: 0.9627 - val_loss: 0.1640 - val_accuracy: 0.9557\n",
      "Epoch 73/100\n",
      "76/76 [==============================] - 2s 26ms/step - loss: 0.1325 - accuracy: 0.9624 - val_loss: 0.1679 - val_accuracy: 0.9534\n",
      "Epoch 74/100\n",
      "76/76 [==============================] - 2s 27ms/step - loss: 0.1318 - accuracy: 0.9629 - val_loss: 0.1655 - val_accuracy: 0.9555\n",
      "Epoch 75/100\n",
      "76/76 [==============================] - 2s 27ms/step - loss: 0.1289 - accuracy: 0.9637 - val_loss: 0.1638 - val_accuracy: 0.9554\n",
      "Epoch 76/100\n",
      "76/76 [==============================] - 2s 27ms/step - loss: 0.1287 - accuracy: 0.9634 - val_loss: 0.1619 - val_accuracy: 0.9560\n",
      "Epoch 77/100\n",
      "76/76 [==============================] - 2s 27ms/step - loss: 0.1246 - accuracy: 0.9644 - val_loss: 0.1573 - val_accuracy: 0.9565\n",
      "Epoch 78/100\n",
      "76/76 [==============================] - 2s 27ms/step - loss: 0.1236 - accuracy: 0.9648 - val_loss: 0.1610 - val_accuracy: 0.9565\n",
      "Epoch 79/100\n",
      "76/76 [==============================] - 2s 26ms/step - loss: 0.1251 - accuracy: 0.9641 - val_loss: 0.1708 - val_accuracy: 0.9550\n",
      "Epoch 80/100\n",
      "76/76 [==============================] - 2s 27ms/step - loss: 0.1265 - accuracy: 0.9636 - val_loss: 0.1601 - val_accuracy: 0.9561\n",
      "Epoch 81/100\n",
      "76/76 [==============================] - 2s 27ms/step - loss: 0.1238 - accuracy: 0.9647 - val_loss: 0.1602 - val_accuracy: 0.9555\n",
      "Epoch 82/100\n",
      "76/76 [==============================] - 2s 28ms/step - loss: 0.1213 - accuracy: 0.9654 - val_loss: 0.1571 - val_accuracy: 0.9578\n",
      "Epoch 83/100\n",
      "76/76 [==============================] - 2s 27ms/step - loss: 0.1234 - accuracy: 0.9649 - val_loss: 0.1618 - val_accuracy: 0.9563\n",
      "Epoch 84/100\n",
      "76/76 [==============================] - 2s 26ms/step - loss: 0.1197 - accuracy: 0.9663 - val_loss: 0.1591 - val_accuracy: 0.9572\n",
      "Epoch 85/100\n",
      "76/76 [==============================] - 2s 27ms/step - loss: 0.1225 - accuracy: 0.9652 - val_loss: 0.1629 - val_accuracy: 0.9564\n",
      "Epoch 86/100\n",
      "76/76 [==============================] - 2s 28ms/step - loss: 0.1178 - accuracy: 0.9662 - val_loss: 0.1541 - val_accuracy: 0.9579\n",
      "Epoch 87/100\n",
      "76/76 [==============================] - 2s 27ms/step - loss: 0.1159 - accuracy: 0.9672 - val_loss: 0.1577 - val_accuracy: 0.9581\n",
      "Epoch 88/100\n",
      "76/76 [==============================] - 2s 28ms/step - loss: 0.1159 - accuracy: 0.9671 - val_loss: 0.1615 - val_accuracy: 0.9569\n",
      "Epoch 89/100\n",
      "76/76 [==============================] - 2s 27ms/step - loss: 0.1212 - accuracy: 0.9659 - val_loss: 0.1607 - val_accuracy: 0.9569\n",
      "Epoch 90/100\n",
      "76/76 [==============================] - 2s 27ms/step - loss: 0.1140 - accuracy: 0.9674 - val_loss: 0.1494 - val_accuracy: 0.9594\n",
      "Epoch 91/100\n",
      "76/76 [==============================] - 2s 28ms/step - loss: 0.1126 - accuracy: 0.9678 - val_loss: 0.1700 - val_accuracy: 0.9540\n",
      "Epoch 92/100\n",
      "76/76 [==============================] - 2s 26ms/step - loss: 0.1198 - accuracy: 0.9661 - val_loss: 0.1541 - val_accuracy: 0.9579\n",
      "Epoch 93/100\n",
      "76/76 [==============================] - 2s 28ms/step - loss: 0.1120 - accuracy: 0.9683 - val_loss: 0.1567 - val_accuracy: 0.9584\n",
      "Epoch 94/100\n",
      "76/76 [==============================] - 2s 27ms/step - loss: 0.1130 - accuracy: 0.9678 - val_loss: 0.1524 - val_accuracy: 0.9587\n",
      "Epoch 95/100\n",
      "76/76 [==============================] - 2s 27ms/step - loss: 0.1135 - accuracy: 0.9676 - val_loss: 0.1548 - val_accuracy: 0.9585\n",
      "Epoch 96/100\n",
      "76/76 [==============================] - 2s 27ms/step - loss: 0.1098 - accuracy: 0.9686 - val_loss: 0.1518 - val_accuracy: 0.9593\n",
      "Epoch 97/100\n",
      "76/76 [==============================] - 2s 28ms/step - loss: 0.1105 - accuracy: 0.9686 - val_loss: 0.1597 - val_accuracy: 0.9584\n",
      "Epoch 98/100\n",
      "76/76 [==============================] - 2s 26ms/step - loss: 0.1168 - accuracy: 0.9667 - val_loss: 0.1553 - val_accuracy: 0.9591\n",
      "Epoch 99/100\n",
      "76/76 [==============================] - 2s 27ms/step - loss: 0.1094 - accuracy: 0.9685 - val_loss: 0.1487 - val_accuracy: 0.9605\n",
      "Epoch 100/100\n",
      "76/76 [==============================] - 2s 28ms/step - loss: 0.1099 - accuracy: 0.9686 - val_loss: 0.1558 - val_accuracy: 0.9583\n"
     ]
    }
   ],
   "source": [
    "history = model.fit(X_train, y_train, batch_size=4056, epochs=100, validation_data = (X_test, y_test))"
   ]
  },
  {
   "cell_type": "markdown",
   "id": "ffed59b1",
   "metadata": {},
   "source": [
    "# 4.Evaluate Network"
   ]
  },
  {
   "cell_type": "markdown",
   "id": "28731190",
   "metadata": {},
   "source": [
    "## 4.1. Plotting Loss and Accuracy"
   ]
  },
  {
   "cell_type": "code",
   "execution_count": 24,
   "id": "971e6040",
   "metadata": {},
   "outputs": [
    {
     "data": {
      "text/plain": [
       "Text(0.5, 1.0, 'Loss Curve of Deep Neural Netowork')"
      ]
     },
     "execution_count": 24,
     "metadata": {},
     "output_type": "execute_result"
    },
    {
     "data": {
      "image/png": "[encoded data removed]",
      "text/plain": [
       "<Figure size 432x288 with 1 Axes>"
      ]
     },
     "metadata": {
      "needs_background": "light"
     },
     "output_type": "display_data"
    }
   ],
   "source": [
    "#Loss Curve\n",
    "\n",
    "\n",
    "plt.plot(figsize = [8,6])\n",
    "\n",
    "plt.plot(history.history['loss'],'r',linewidth = 3.0)\n",
    "plt.plot(history.history['val_loss'],'b',linewidth = 3.0)\n",
    "\n",
    "plt.legend(['Training Loss', 'Validation Loss'], fontsize = 18)\n",
    "\n",
    "plt.xlabel('Epochs', fontsize = 16)\n",
    "plt.ylabel('Loss', fontsize = 16)\n",
    "\n",
    "plt.title('Loss Curve of Deep Neural Netowork' , fontsize = 16 )\n",
    "\n"
   ]
  },
  {
   "cell_type": "code",
   "execution_count": 25,
   "id": "b0c193ec",
   "metadata": {},
   "outputs": [
    {
     "data": {
      "text/plain": [
       "Text(0.5, 1.0, 'Accuracy Curve of Deep Neural Netowork')"
      ]
     },
     "execution_count": 25,
     "metadata": {},
     "output_type": "execute_result"
    },
    {
     "data": {
      "image/png": "[encoded data removed]",
      "text/plain": [
       "<Figure size 432x288 with 1 Axes>"
      ]
     },
     "metadata": {
      "needs_background": "light"
     },
     "output_type": "display_data"
    }
   ],
   "source": [
    "#Accuracy Curve\n",
    "\n",
    "plt.plot(figsize = [8,6])\n",
    "plt.plot(history.history['accuracy'],'r',linewidth = 3.0)\n",
    "plt.plot(history.history['val_accuracy'],'b',linewidth = 3.0)\n",
    "\n",
    "plt.legend(['Training Accuracy', 'Validation Accuracy'], fontsize = 18)\n",
    "\n",
    "plt.xlabel('Epochs', fontsize = 16)\n",
    "plt.ylabel('Accuracy', fontsize = 16)\n",
    "\n",
    "\n",
    "plt.title('Accuracy Curve of Deep Neural Netowork' , fontsize = 16 )"
   ]
  },
  {
   "cell_type": "markdown",
   "id": "741a02aa",
   "metadata": {},
   "source": [
    "##  4.2 Make Predictions"
   ]
  },
  {
   "cell_type": "code",
   "execution_count": 26,
   "id": "e8465627",
   "metadata": {},
   "outputs": [],
   "source": [
    "predictions = model.predict(X_test)\n",
    "predictions = np.argmax(predictions, axis = 1)"
   ]
  },
  {
   "cell_type": "code",
   "execution_count": 27,
   "id": "3cac1a50",
   "metadata": {},
   "outputs": [
    {
     "data": {
      "text/plain": [
       "array([ 0,  7, 21, ...,  0,  0,  0], dtype=int64)"
      ]
     },
     "execution_count": 27,
     "metadata": {},
     "output_type": "execute_result"
    }
   ],
   "source": [
    "predictions"
   ]
  },
  {
   "cell_type": "markdown",
   "id": "70d666bb",
   "metadata": {},
   "source": [
    "#### Transforming from One Hot Encoding"
   ]
  },
  {
   "cell_type": "code",
   "execution_count": 28,
   "id": "7234b6e7",
   "metadata": {},
   "outputs": [
    {
     "data": {
      "text/plain": [
       "7"
      ]
     },
     "execution_count": 28,
     "metadata": {},
     "output_type": "execute_result"
    }
   ],
   "source": [
    "y_test =np.argmax(y_test, axis=1)\n",
    "y_test[1]"
   ]
  },
  {
   "cell_type": "code",
   "execution_count": 29,
   "id": "6278820d",
   "metadata": {},
   "outputs": [
    {
     "name": "stdout",
     "output_type": "stream",
     "text": [
      "Accuracy is: 95.83061974105817\n"
     ]
    }
   ],
   "source": [
    "from sklearn.metrics import accuracy_score\n",
    "accuracy = {accuracy_score(y_test, predictions)}\n",
    "print(f\"Accuracy is: {accuracy_score(y_test, predictions)* 100}\")"
   ]
  },
  {
   "cell_type": "markdown",
   "id": "eb044ea1",
   "metadata": {},
   "source": [
    "## 4.3 Classification Report"
   ]
  },
  {
   "cell_type": "code",
   "execution_count": 30,
   "id": "001ebc5a",
   "metadata": {},
   "outputs": [
    {
     "name": "stdout",
     "output_type": "stream",
     "text": [
      "\u001b[1mClassification report : \u001b[0m\n",
      "               precision    recall  f1-score   support\n",
      "\n",
      "           0       0.96      0.99      0.98     39905\n",
      "           1       0.96      0.96      0.96      2026\n",
      "           2       0.98      0.90      0.94      1975\n",
      "           3       0.96      0.95      0.96      1946\n",
      "           4       0.97      0.93      0.95      1879\n",
      "           5       0.92      0.94      0.93      1902\n",
      "           6       0.96      0.94      0.95      2223\n",
      "           7       0.93      0.96      0.95      2014\n",
      "           8       0.96      0.90      0.93      2031\n",
      "           9       0.94      0.90      0.92      2112\n",
      "          10       0.92      0.88      0.90      2062\n",
      "          11       0.95      0.93      0.94      2170\n",
      "          12       0.92      0.85      0.88      2160\n",
      "          13       0.96      0.93      0.95      1517\n",
      "          14       0.93      0.90      0.92      1419\n",
      "          15       0.94      0.91      0.92      1307\n",
      "          16       0.97      0.93      0.95      1635\n",
      "          17       0.97      0.90      0.94      1637\n",
      "          18       0.97      0.90      0.93       792\n",
      "          19       0.99      0.95      0.97       722\n",
      "          20       0.96      0.94      0.95       774\n",
      "          21       0.95      0.97      0.96       871\n",
      "          22       0.99      0.96      0.98       746\n",
      "          23       0.98      0.98      0.98       949\n",
      "\n",
      "    accuracy                           0.96     76774\n",
      "   macro avg       0.96      0.93      0.94     76774\n",
      "weighted avg       0.96      0.96      0.96     76774\n",
      "\n",
      "\u001b[1mConfusion Matrix : \u001b[0m\n"
     ]
    },
    {
     "data": {
      "image/png": "[encoded data removed]",
      "text/plain": [
       "<Figure size 432x288 with 2 Axes>"
      ]
     },
     "metadata": {
      "needs_background": "light"
     },
     "output_type": "display_data"
    }
   ],
   "source": [
    "from sklearn.metrics import confusion_matrix, f1_score, accuracy_score, classification_report\n",
    "print('\\033[1m' +'Classification report : '+ '\\033[0m\\n', classification_report(y_test, predictions))\n",
    "\n",
    "cm = confusion_matrix(predictions, y_test)\n",
    "print('\\033[1m' +'Confusion Matrix : '+ '\\033[0m')\n",
    "sns.heatmap(cm, cmap = 'OrRd',annot = True, fmt='d')\n",
    "plt.show()"
   ]
  },
  {
   "cell_type": "markdown",
   "id": "eaa5e512",
   "metadata": {},
   "source": [
    "## 4.4 Evaluation"
   ]
  },
  {
   "cell_type": "code",
   "execution_count": 31,
   "id": "9e469f86",
   "metadata": {},
   "outputs": [
    {
     "name": "stdout",
     "output_type": "stream",
     "text": [
      "MAE: 0.34722692578216585\n",
      "MSE: 4.081668273113293\n",
      "RMSE: 2.020313904598316\n"
     ]
    }
   ],
   "source": [
    "from sklearn import metrics\n",
    "\n",
    "print('MAE:', metrics.mean_absolute_error(y_test,predictions))\n",
    "print('MSE:', metrics.mean_squared_error(y_test, predictions))\n",
    "print('RMSE:', np.sqrt(metrics.mean_squared_error(y_test, predictions)))"
   ]
  },
  {
   "cell_type": "code",
   "execution_count": 32,
   "id": "dff2a82d",
   "metadata": {},
   "outputs": [
    {
     "name": "stdout",
     "output_type": "stream",
     "text": [
      "Precision Score :  0.9582300143305832\n",
      "Recall Score :  0.9583061974105818\n",
      "f1_score :  0.9579363394592396\n"
     ]
    }
   ],
   "source": [
    "from sklearn.metrics import precision_score\n",
    "print(\"Precision Score : \",precision_score(y_test, predictions, average='weighted'))\n",
    "\n",
    "\n",
    "from sklearn.metrics import recall_score\n",
    "print(\"Recall Score : \",recall_score(y_test, predictions,average='weighted'))\n",
    "\n",
    "\n",
    "from sklearn.metrics import f1_score\n",
    "print(\"f1_score : \",f1_score(y_test, predictions,average='weighted'))"
   ]
  },
  {
   "cell_type": "code",
   "execution_count": null,
   "id": "81ac7468",
   "metadata": {},
   "outputs": [],
   "source": []
  },
  {
   "cell_type": "code",
   "execution_count": null,
   "id": "71a4c6e0",
   "metadata": {},
   "outputs": [],
   "source": []
  }
 ],
 "metadata": {
  "kernelspec": {
   "display_name": "Python 3 (ipykernel)",
   "language": "python",
   "name": "python3"
  },
  "language_info": {
   "codemirror_mode": {
    "name": "ipython",
    "version": 3
   },
   "file_extension": ".py",
   "mimetype": "text/x-python",
   "name": "python",
   "nbconvert_exporter": "python",
   "pygments_lexer": "ipython3",
   "version": "3.8.12"
  }
 },
 "nbformat": 4,
 "nbformat_minor": 5
}
