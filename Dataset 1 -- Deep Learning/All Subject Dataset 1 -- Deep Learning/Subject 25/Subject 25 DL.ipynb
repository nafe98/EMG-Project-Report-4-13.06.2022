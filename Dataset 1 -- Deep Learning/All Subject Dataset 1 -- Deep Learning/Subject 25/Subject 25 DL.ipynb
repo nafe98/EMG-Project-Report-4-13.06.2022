{
 "cells": [
  {
   "cell_type": "markdown",
   "id": "bf8ee932",
   "metadata": {},
   "source": [
    "# Importing Libraries"
   ]
  },
  {
   "cell_type": "code",
   "execution_count": 1,
   "id": "0f663fa8",
   "metadata": {},
   "outputs": [],
   "source": [
    "import numpy as np\n",
    "import pandas as pd\n",
    "import matplotlib.pyplot as plt\n",
    "import seaborn as sns\n",
    "from sklearn.model_selection import train_test_split"
   ]
  },
  {
   "cell_type": "markdown",
   "id": "511af272",
   "metadata": {},
   "source": [
    "# Loading Data"
   ]
  },
  {
   "cell_type": "code",
   "execution_count": 2,
   "id": "04fd19b0",
   "metadata": {},
   "outputs": [
    {
     "data": {
      "text/html": [
       "<div>\n",
       "<style scoped>\n",
       "    .dataframe tbody tr th:only-of-type {\n",
       "        vertical-align: middle;\n",
       "    }\n",
       "\n",
       "    .dataframe tbody tr th {\n",
       "        vertical-align: top;\n",
       "    }\n",
       "\n",
       "    .dataframe thead th {\n",
       "        text-align: right;\n",
       "    }\n",
       "</style>\n",
       "<table border=\"1\" class=\"dataframe\">\n",
       "  <thead>\n",
       "    <tr style=\"text-align: right;\">\n",
       "      <th></th>\n",
       "      <th>Emg1</th>\n",
       "      <th>Emg2</th>\n",
       "      <th>Emg3</th>\n",
       "      <th>Emg4</th>\n",
       "      <th>Emg5</th>\n",
       "      <th>Emg6</th>\n",
       "      <th>Emg7</th>\n",
       "      <th>Emg8</th>\n",
       "      <th>Emg9</th>\n",
       "      <th>Emg10</th>\n",
       "      <th>repetition</th>\n",
       "      <th>rerepetition</th>\n",
       "      <th>stimulus</th>\n",
       "      <th>restimulus</th>\n",
       "    </tr>\n",
       "  </thead>\n",
       "  <tbody>\n",
       "    <tr>\n",
       "      <th>56193</th>\n",
       "      <td>0.0928</td>\n",
       "      <td>0.0659</td>\n",
       "      <td>0.2393</td>\n",
       "      <td>0.0293</td>\n",
       "      <td>0.0122</td>\n",
       "      <td>0.0830</td>\n",
       "      <td>1.0034</td>\n",
       "      <td>0.2148</td>\n",
       "      <td>0.6934</td>\n",
       "      <td>0.8032</td>\n",
       "      <td>7</td>\n",
       "      <td>7</td>\n",
       "      <td>7</td>\n",
       "      <td>7</td>\n",
       "    </tr>\n",
       "    <tr>\n",
       "      <th>157491</th>\n",
       "      <td>0.1563</td>\n",
       "      <td>0.0073</td>\n",
       "      <td>0.0049</td>\n",
       "      <td>0.0049</td>\n",
       "      <td>0.0049</td>\n",
       "      <td>0.0024</td>\n",
       "      <td>0.0024</td>\n",
       "      <td>0.2197</td>\n",
       "      <td>0.0024</td>\n",
       "      <td>0.0049</td>\n",
       "      <td>0</td>\n",
       "      <td>0</td>\n",
       "      <td>0</td>\n",
       "      <td>0</td>\n",
       "    </tr>\n",
       "    <tr>\n",
       "      <th>249438</th>\n",
       "      <td>0.7056</td>\n",
       "      <td>0.4834</td>\n",
       "      <td>0.0464</td>\n",
       "      <td>0.0195</td>\n",
       "      <td>0.0659</td>\n",
       "      <td>0.2515</td>\n",
       "      <td>1.2500</td>\n",
       "      <td>0.4980</td>\n",
       "      <td>0.1465</td>\n",
       "      <td>0.5444</td>\n",
       "      <td>5</td>\n",
       "      <td>5</td>\n",
       "      <td>1</td>\n",
       "      <td>1</td>\n",
       "    </tr>\n",
       "    <tr>\n",
       "      <th>242231</th>\n",
       "      <td>0.1953</td>\n",
       "      <td>0.4785</td>\n",
       "      <td>0.3003</td>\n",
       "      <td>0.4956</td>\n",
       "      <td>0.0171</td>\n",
       "      <td>0.0024</td>\n",
       "      <td>0.3833</td>\n",
       "      <td>0.4272</td>\n",
       "      <td>0.1831</td>\n",
       "      <td>0.3589</td>\n",
       "      <td>7</td>\n",
       "      <td>7</td>\n",
       "      <td>17</td>\n",
       "      <td>17</td>\n",
       "    </tr>\n",
       "    <tr>\n",
       "      <th>194686</th>\n",
       "      <td>0.2686</td>\n",
       "      <td>0.0171</td>\n",
       "      <td>0.0024</td>\n",
       "      <td>0.0049</td>\n",
       "      <td>0.0049</td>\n",
       "      <td>0.0146</td>\n",
       "      <td>0.1294</td>\n",
       "      <td>0.2856</td>\n",
       "      <td>0.0049</td>\n",
       "      <td>0.1074</td>\n",
       "      <td>0</td>\n",
       "      <td>0</td>\n",
       "      <td>0</td>\n",
       "      <td>0</td>\n",
       "    </tr>\n",
       "  </tbody>\n",
       "</table>\n",
       "</div>"
      ],
      "text/plain": [
       "          Emg1    Emg2    Emg3    Emg4    Emg5    Emg6    Emg7    Emg8  \\\n",
       "56193   0.0928  0.0659  0.2393  0.0293  0.0122  0.0830  1.0034  0.2148   \n",
       "157491  0.1563  0.0073  0.0049  0.0049  0.0049  0.0024  0.0024  0.2197   \n",
       "249438  0.7056  0.4834  0.0464  0.0195  0.0659  0.2515  1.2500  0.4980   \n",
       "242231  0.1953  0.4785  0.3003  0.4956  0.0171  0.0024  0.3833  0.4272   \n",
       "194686  0.2686  0.0171  0.0024  0.0049  0.0049  0.0146  0.1294  0.2856   \n",
       "\n",
       "          Emg9   Emg10  repetition  rerepetition  stimulus  restimulus  \n",
       "56193   0.6934  0.8032           7             7         7           7  \n",
       "157491  0.0024  0.0049           0             0         0           0  \n",
       "249438  0.1465  0.5444           5             5         1           1  \n",
       "242231  0.1831  0.3589           7             7        17          17  \n",
       "194686  0.0049  0.1074           0             0         0           0  "
      ]
     },
     "execution_count": 2,
     "metadata": {},
     "output_type": "execute_result"
    }
   ],
   "source": [
    "raw_data = pd.read_excel('Dataset 1 Patient 25.xlsx')\n",
    "raw_data.sample(5)"
   ]
  },
  {
   "cell_type": "code",
   "execution_count": 3,
   "id": "80369ddb",
   "metadata": {},
   "outputs": [
    {
     "name": "stdout",
     "output_type": "stream",
     "text": [
      "<class 'pandas.core.frame.DataFrame'>\n",
      "RangeIndex: 469821 entries, 0 to 469820\n",
      "Data columns (total 14 columns):\n",
      " #   Column        Non-Null Count   Dtype  \n",
      "---  ------        --------------   -----  \n",
      " 0   Emg1          469821 non-null  float64\n",
      " 1   Emg2          469821 non-null  float64\n",
      " 2   Emg3          469821 non-null  float64\n",
      " 3   Emg4          469821 non-null  float64\n",
      " 4   Emg5          469821 non-null  float64\n",
      " 5   Emg6          469821 non-null  float64\n",
      " 6   Emg7          469821 non-null  float64\n",
      " 7   Emg8          469821 non-null  float64\n",
      " 8   Emg9          469821 non-null  float64\n",
      " 9   Emg10         469821 non-null  float64\n",
      " 10  repetition    469821 non-null  int64  \n",
      " 11  rerepetition  469821 non-null  int64  \n",
      " 12  stimulus      469821 non-null  int64  \n",
      " 13  restimulus    469821 non-null  int64  \n",
      "dtypes: float64(10), int64(4)\n",
      "memory usage: 50.2 MB\n"
     ]
    }
   ],
   "source": [
    "raw_data.info()"
   ]
  },
  {
   "cell_type": "code",
   "execution_count": 4,
   "id": "109445f8",
   "metadata": {},
   "outputs": [
    {
     "data": {
      "text/html": [
       "<div>\n",
       "<style scoped>\n",
       "    .dataframe tbody tr th:only-of-type {\n",
       "        vertical-align: middle;\n",
       "    }\n",
       "\n",
       "    .dataframe tbody tr th {\n",
       "        vertical-align: top;\n",
       "    }\n",
       "\n",
       "    .dataframe thead th {\n",
       "        text-align: right;\n",
       "    }\n",
       "</style>\n",
       "<table border=\"1\" class=\"dataframe\">\n",
       "  <thead>\n",
       "    <tr style=\"text-align: right;\">\n",
       "      <th></th>\n",
       "      <th>Emg1</th>\n",
       "      <th>Emg2</th>\n",
       "      <th>Emg3</th>\n",
       "      <th>Emg4</th>\n",
       "      <th>Emg5</th>\n",
       "      <th>Emg6</th>\n",
       "      <th>Emg7</th>\n",
       "      <th>Emg8</th>\n",
       "      <th>Emg9</th>\n",
       "      <th>Emg10</th>\n",
       "      <th>repetition</th>\n",
       "      <th>rerepetition</th>\n",
       "      <th>stimulus</th>\n",
       "      <th>restimulus</th>\n",
       "    </tr>\n",
       "  </thead>\n",
       "  <tbody>\n",
       "    <tr>\n",
       "      <th>count</th>\n",
       "      <td>469821.000000</td>\n",
       "      <td>469821.000000</td>\n",
       "      <td>469821.000000</td>\n",
       "      <td>469821.000000</td>\n",
       "      <td>469821.000000</td>\n",
       "      <td>469821.000000</td>\n",
       "      <td>469821.000000</td>\n",
       "      <td>469821.000000</td>\n",
       "      <td>469821.000000</td>\n",
       "      <td>469821.000000</td>\n",
       "      <td>469821.000000</td>\n",
       "      <td>469821.000000</td>\n",
       "      <td>469821.000000</td>\n",
       "      <td>469821.000000</td>\n",
       "    </tr>\n",
       "    <tr>\n",
       "      <th>mean</th>\n",
       "      <td>0.268114</td>\n",
       "      <td>0.156607</td>\n",
       "      <td>0.128820</td>\n",
       "      <td>0.109278</td>\n",
       "      <td>0.020653</td>\n",
       "      <td>0.037569</td>\n",
       "      <td>0.349515</td>\n",
       "      <td>0.402672</td>\n",
       "      <td>0.131860</td>\n",
       "      <td>0.270130</td>\n",
       "      <td>3.156387</td>\n",
       "      <td>2.382701</td>\n",
       "      <td>5.594729</td>\n",
       "      <td>4.278744</td>\n",
       "    </tr>\n",
       "    <tr>\n",
       "      <th>std</th>\n",
       "      <td>0.324583</td>\n",
       "      <td>0.297356</td>\n",
       "      <td>0.288758</td>\n",
       "      <td>0.312210</td>\n",
       "      <td>0.053065</td>\n",
       "      <td>0.090803</td>\n",
       "      <td>0.522189</td>\n",
       "      <td>0.513143</td>\n",
       "      <td>0.335658</td>\n",
       "      <td>0.439442</td>\n",
       "      <td>3.483117</td>\n",
       "      <td>3.324333</td>\n",
       "      <td>6.577557</td>\n",
       "      <td>6.291936</td>\n",
       "    </tr>\n",
       "    <tr>\n",
       "      <th>min</th>\n",
       "      <td>0.002400</td>\n",
       "      <td>0.002400</td>\n",
       "      <td>0.002400</td>\n",
       "      <td>0.002400</td>\n",
       "      <td>0.002400</td>\n",
       "      <td>0.002400</td>\n",
       "      <td>0.002400</td>\n",
       "      <td>0.002400</td>\n",
       "      <td>0.002400</td>\n",
       "      <td>0.002400</td>\n",
       "      <td>0.000000</td>\n",
       "      <td>0.000000</td>\n",
       "      <td>0.000000</td>\n",
       "      <td>0.000000</td>\n",
       "    </tr>\n",
       "    <tr>\n",
       "      <th>25%</th>\n",
       "      <td>0.061000</td>\n",
       "      <td>0.002400</td>\n",
       "      <td>0.004900</td>\n",
       "      <td>0.002400</td>\n",
       "      <td>0.004900</td>\n",
       "      <td>0.002400</td>\n",
       "      <td>0.078100</td>\n",
       "      <td>0.102500</td>\n",
       "      <td>0.002400</td>\n",
       "      <td>0.012200</td>\n",
       "      <td>0.000000</td>\n",
       "      <td>0.000000</td>\n",
       "      <td>0.000000</td>\n",
       "      <td>0.000000</td>\n",
       "    </tr>\n",
       "    <tr>\n",
       "      <th>50%</th>\n",
       "      <td>0.153800</td>\n",
       "      <td>0.019500</td>\n",
       "      <td>0.004900</td>\n",
       "      <td>0.004900</td>\n",
       "      <td>0.004900</td>\n",
       "      <td>0.007300</td>\n",
       "      <td>0.178200</td>\n",
       "      <td>0.251500</td>\n",
       "      <td>0.004900</td>\n",
       "      <td>0.100100</td>\n",
       "      <td>2.000000</td>\n",
       "      <td>0.000000</td>\n",
       "      <td>3.000000</td>\n",
       "      <td>0.000000</td>\n",
       "    </tr>\n",
       "    <tr>\n",
       "      <th>75%</th>\n",
       "      <td>0.361300</td>\n",
       "      <td>0.168500</td>\n",
       "      <td>0.144000</td>\n",
       "      <td>0.048800</td>\n",
       "      <td>0.007300</td>\n",
       "      <td>0.036600</td>\n",
       "      <td>0.397900</td>\n",
       "      <td>0.488300</td>\n",
       "      <td>0.112300</td>\n",
       "      <td>0.356400</td>\n",
       "      <td>6.000000</td>\n",
       "      <td>5.000000</td>\n",
       "      <td>10.000000</td>\n",
       "      <td>8.000000</td>\n",
       "    </tr>\n",
       "    <tr>\n",
       "      <th>max</th>\n",
       "      <td>4.643600</td>\n",
       "      <td>4.147900</td>\n",
       "      <td>4.638700</td>\n",
       "      <td>4.643600</td>\n",
       "      <td>1.992200</td>\n",
       "      <td>2.661100</td>\n",
       "      <td>4.641100</td>\n",
       "      <td>4.646000</td>\n",
       "      <td>4.638700</td>\n",
       "      <td>4.638700</td>\n",
       "      <td>10.000000</td>\n",
       "      <td>10.000000</td>\n",
       "      <td>23.000000</td>\n",
       "      <td>23.000000</td>\n",
       "    </tr>\n",
       "  </tbody>\n",
       "</table>\n",
       "</div>"
      ],
      "text/plain": [
       "                Emg1           Emg2           Emg3           Emg4  \\\n",
       "count  469821.000000  469821.000000  469821.000000  469821.000000   \n",
       "mean        0.268114       0.156607       0.128820       0.109278   \n",
       "std         0.324583       0.297356       0.288758       0.312210   \n",
       "min         0.002400       0.002400       0.002400       0.002400   \n",
       "25%         0.061000       0.002400       0.004900       0.002400   \n",
       "50%         0.153800       0.019500       0.004900       0.004900   \n",
       "75%         0.361300       0.168500       0.144000       0.048800   \n",
       "max         4.643600       4.147900       4.638700       4.643600   \n",
       "\n",
       "                Emg5           Emg6           Emg7           Emg8  \\\n",
       "count  469821.000000  469821.000000  469821.000000  469821.000000   \n",
       "mean        0.020653       0.037569       0.349515       0.402672   \n",
       "std         0.053065       0.090803       0.522189       0.513143   \n",
       "min         0.002400       0.002400       0.002400       0.002400   \n",
       "25%         0.004900       0.002400       0.078100       0.102500   \n",
       "50%         0.004900       0.007300       0.178200       0.251500   \n",
       "75%         0.007300       0.036600       0.397900       0.488300   \n",
       "max         1.992200       2.661100       4.641100       4.646000   \n",
       "\n",
       "                Emg9          Emg10     repetition   rerepetition  \\\n",
       "count  469821.000000  469821.000000  469821.000000  469821.000000   \n",
       "mean        0.131860       0.270130       3.156387       2.382701   \n",
       "std         0.335658       0.439442       3.483117       3.324333   \n",
       "min         0.002400       0.002400       0.000000       0.000000   \n",
       "25%         0.002400       0.012200       0.000000       0.000000   \n",
       "50%         0.004900       0.100100       2.000000       0.000000   \n",
       "75%         0.112300       0.356400       6.000000       5.000000   \n",
       "max         4.638700       4.638700      10.000000      10.000000   \n",
       "\n",
       "            stimulus     restimulus  \n",
       "count  469821.000000  469821.000000  \n",
       "mean        5.594729       4.278744  \n",
       "std         6.577557       6.291936  \n",
       "min         0.000000       0.000000  \n",
       "25%         0.000000       0.000000  \n",
       "50%         3.000000       0.000000  \n",
       "75%        10.000000       8.000000  \n",
       "max        23.000000      23.000000  "
      ]
     },
     "execution_count": 4,
     "metadata": {},
     "output_type": "execute_result"
    }
   ],
   "source": [
    "raw_data.describe(include='all')"
   ]
  },
  {
   "cell_type": "code",
   "execution_count": 5,
   "id": "f0b9a2e6",
   "metadata": {},
   "outputs": [
    {
     "name": "stdout",
     "output_type": "stream",
     "text": [
      "Unique Dependent values and their counts :\n",
      "0     200217\n",
      "8      15593\n",
      "7      15585\n",
      "2      15581\n",
      "4      15579\n",
      "12     15577\n",
      "9      15553\n",
      "11     15552\n",
      "6      15541\n",
      "5      15533\n",
      "3      15531\n",
      "10     15525\n",
      "1      15505\n",
      "14     10403\n",
      "17     10402\n",
      "13     10386\n",
      "15     10360\n",
      "16     10325\n",
      "18      5198\n",
      "21      5198\n",
      "19      5193\n",
      "23      5163\n",
      "20      5161\n",
      "22      5160\n",
      "Name: stimulus, dtype: int64\n"
     ]
    }
   ],
   "source": [
    "print(\"Unique Dependent values and their counts :\")\n",
    "print(raw_data[\"stimulus\"].value_counts())"
   ]
  },
  {
   "cell_type": "markdown",
   "id": "54420ec4",
   "metadata": {},
   "source": [
    "# Data Cleaning"
   ]
  },
  {
   "cell_type": "code",
   "execution_count": 6,
   "id": "a811198b",
   "metadata": {},
   "outputs": [],
   "source": [
    "index_names = raw_data[ (raw_data['stimulus'] != raw_data['restimulus'])].index\n",
    "raw_data.drop(index_names, inplace = True)"
   ]
  },
  {
   "cell_type": "code",
   "execution_count": 7,
   "id": "556cd92f",
   "metadata": {},
   "outputs": [],
   "source": [
    "index_names = raw_data[ (raw_data['repetition'] != raw_data['rerepetition'])].index\n",
    "raw_data.drop(index_names, inplace = True)"
   ]
  },
  {
   "cell_type": "code",
   "execution_count": 8,
   "id": "c91744f7",
   "metadata": {},
   "outputs": [],
   "source": [
    "X = raw_data.iloc[:,0:10]\n",
    "y = raw_data.stimulus"
   ]
  },
  {
   "cell_type": "markdown",
   "id": "152f7160",
   "metadata": {},
   "source": [
    "# One Hot Encoding"
   ]
  },
  {
   "cell_type": "code",
   "execution_count": 9,
   "id": "dfb77d24",
   "metadata": {},
   "outputs": [],
   "source": [
    "num_classes = 24"
   ]
  },
  {
   "cell_type": "code",
   "execution_count": 10,
   "id": "be64bf6b",
   "metadata": {},
   "outputs": [],
   "source": [
    "# One hot encoding for categorical labels\n",
    "import keras\n",
    "from keras import utils as np_utils\n",
    "y = keras.utils.np_utils.to_categorical(y, num_classes)"
   ]
  },
  {
   "cell_type": "code",
   "execution_count": 11,
   "id": "c7358f86",
   "metadata": {},
   "outputs": [],
   "source": [
    "input_dim = X.shape[1]"
   ]
  },
  {
   "cell_type": "markdown",
   "id": "cb3088a1",
   "metadata": {},
   "source": [
    "# Standard Scaler"
   ]
  },
  {
   "cell_type": "code",
   "execution_count": 12,
   "id": "5bd820f4",
   "metadata": {},
   "outputs": [],
   "source": [
    "from sklearn.preprocessing import StandardScaler\n",
    "standardscaler=StandardScaler()"
   ]
  },
  {
   "cell_type": "code",
   "execution_count": 13,
   "id": "6a118694",
   "metadata": {},
   "outputs": [],
   "source": [
    "sc = pd.DataFrame(standardscaler.fit_transform(X))"
   ]
  },
  {
   "cell_type": "code",
   "execution_count": 14,
   "id": "d6e2f38b",
   "metadata": {},
   "outputs": [
    {
     "data": {
      "text/html": [
       "<div>\n",
       "<style scoped>\n",
       "    .dataframe tbody tr th:only-of-type {\n",
       "        vertical-align: middle;\n",
       "    }\n",
       "\n",
       "    .dataframe tbody tr th {\n",
       "        vertical-align: top;\n",
       "    }\n",
       "\n",
       "    .dataframe thead th {\n",
       "        text-align: right;\n",
       "    }\n",
       "</style>\n",
       "<table border=\"1\" class=\"dataframe\">\n",
       "  <thead>\n",
       "    <tr style=\"text-align: right;\">\n",
       "      <th></th>\n",
       "      <th>0</th>\n",
       "      <th>1</th>\n",
       "      <th>2</th>\n",
       "      <th>3</th>\n",
       "      <th>4</th>\n",
       "      <th>5</th>\n",
       "      <th>6</th>\n",
       "      <th>7</th>\n",
       "      <th>8</th>\n",
       "      <th>9</th>\n",
       "    </tr>\n",
       "  </thead>\n",
       "  <tbody>\n",
       "    <tr>\n",
       "      <th>0</th>\n",
       "      <td>-0.816126</td>\n",
       "      <td>-0.557894</td>\n",
       "      <td>-0.477257</td>\n",
       "      <td>-0.366851</td>\n",
       "      <td>-0.372023</td>\n",
       "      <td>-0.407506</td>\n",
       "      <td>-0.687218</td>\n",
       "      <td>-0.740920</td>\n",
       "      <td>-0.419805</td>\n",
       "      <td>-0.643168</td>\n",
       "    </tr>\n",
       "    <tr>\n",
       "      <th>1</th>\n",
       "      <td>-0.787995</td>\n",
       "      <td>-0.550037</td>\n",
       "      <td>-0.469195</td>\n",
       "      <td>-0.366851</td>\n",
       "      <td>-0.372023</td>\n",
       "      <td>-0.381992</td>\n",
       "      <td>-0.687218</td>\n",
       "      <td>-0.740920</td>\n",
       "      <td>-0.419805</td>\n",
       "      <td>-0.643168</td>\n",
       "    </tr>\n",
       "    <tr>\n",
       "      <th>2</th>\n",
       "      <td>-0.780745</td>\n",
       "      <td>-0.550037</td>\n",
       "      <td>-0.469195</td>\n",
       "      <td>-0.374266</td>\n",
       "      <td>-0.328458</td>\n",
       "      <td>-0.407506</td>\n",
       "      <td>-0.687218</td>\n",
       "      <td>-0.745314</td>\n",
       "      <td>-0.419805</td>\n",
       "      <td>-0.643168</td>\n",
       "    </tr>\n",
       "    <tr>\n",
       "      <th>3</th>\n",
       "      <td>-0.794956</td>\n",
       "      <td>-0.557894</td>\n",
       "      <td>-0.477257</td>\n",
       "      <td>-0.374266</td>\n",
       "      <td>-0.328458</td>\n",
       "      <td>-0.407506</td>\n",
       "      <td>-0.687218</td>\n",
       "      <td>-0.754285</td>\n",
       "      <td>-0.412897</td>\n",
       "      <td>-0.643168</td>\n",
       "    </tr>\n",
       "    <tr>\n",
       "      <th>4</th>\n",
       "      <td>-0.794956</td>\n",
       "      <td>-0.550037</td>\n",
       "      <td>-0.469195</td>\n",
       "      <td>-0.366851</td>\n",
       "      <td>-0.328458</td>\n",
       "      <td>-0.407506</td>\n",
       "      <td>-0.691692</td>\n",
       "      <td>-0.758679</td>\n",
       "      <td>-0.419805</td>\n",
       "      <td>-0.637841</td>\n",
       "    </tr>\n",
       "    <tr>\n",
       "      <th>...</th>\n",
       "      <td>...</td>\n",
       "      <td>...</td>\n",
       "      <td>...</td>\n",
       "      <td>...</td>\n",
       "      <td>...</td>\n",
       "      <td>...</td>\n",
       "      <td>...</td>\n",
       "      <td>...</td>\n",
       "      <td>...</td>\n",
       "      <td>...</td>\n",
       "    </tr>\n",
       "    <tr>\n",
       "      <th>394029</th>\n",
       "      <td>-0.830337</td>\n",
       "      <td>-0.557894</td>\n",
       "      <td>-0.477257</td>\n",
       "      <td>-0.374266</td>\n",
       "      <td>-0.328458</td>\n",
       "      <td>-0.182976</td>\n",
       "      <td>0.361296</td>\n",
       "      <td>-0.798957</td>\n",
       "      <td>-0.419805</td>\n",
       "      <td>-0.538963</td>\n",
       "    </tr>\n",
       "    <tr>\n",
       "      <th>394030</th>\n",
       "      <td>-0.837587</td>\n",
       "      <td>-0.557894</td>\n",
       "      <td>-0.469195</td>\n",
       "      <td>-0.366851</td>\n",
       "      <td>-0.328458</td>\n",
       "      <td>-0.108473</td>\n",
       "      <td>0.370065</td>\n",
       "      <td>-0.798957</td>\n",
       "      <td>-0.412897</td>\n",
       "      <td>-0.544291</td>\n",
       "    </tr>\n",
       "    <tr>\n",
       "      <th>394031</th>\n",
       "      <td>-0.837587</td>\n",
       "      <td>-0.557894</td>\n",
       "      <td>-0.469195</td>\n",
       "      <td>-0.374266</td>\n",
       "      <td>-0.328458</td>\n",
       "      <td>-0.058464</td>\n",
       "      <td>0.330694</td>\n",
       "      <td>-0.798957</td>\n",
       "      <td>-0.419805</td>\n",
       "      <td>-0.549405</td>\n",
       "    </tr>\n",
       "    <tr>\n",
       "      <th>394032</th>\n",
       "      <td>-0.830337</td>\n",
       "      <td>-0.557894</td>\n",
       "      <td>-0.469195</td>\n",
       "      <td>-0.374266</td>\n",
       "      <td>-0.328458</td>\n",
       "      <td>0.016039</td>\n",
       "      <td>0.313335</td>\n",
       "      <td>-0.803534</td>\n",
       "      <td>-0.412897</td>\n",
       "      <td>-0.554733</td>\n",
       "    </tr>\n",
       "    <tr>\n",
       "      <th>394033</th>\n",
       "      <td>-0.837587</td>\n",
       "      <td>-0.550037</td>\n",
       "      <td>-0.469195</td>\n",
       "      <td>-0.374266</td>\n",
       "      <td>-0.328458</td>\n",
       "      <td>0.041554</td>\n",
       "      <td>0.313335</td>\n",
       "      <td>-0.798957</td>\n",
       "      <td>-0.419805</td>\n",
       "      <td>-0.559847</td>\n",
       "    </tr>\n",
       "  </tbody>\n",
       "</table>\n",
       "<p>394034 rows × 10 columns</p>\n",
       "</div>"
      ],
      "text/plain": [
       "               0         1         2         3         4         5         6  \\\n",
       "0      -0.816126 -0.557894 -0.477257 -0.366851 -0.372023 -0.407506 -0.687218   \n",
       "1      -0.787995 -0.550037 -0.469195 -0.366851 -0.372023 -0.381992 -0.687218   \n",
       "2      -0.780745 -0.550037 -0.469195 -0.374266 -0.328458 -0.407506 -0.687218   \n",
       "3      -0.794956 -0.557894 -0.477257 -0.374266 -0.328458 -0.407506 -0.687218   \n",
       "4      -0.794956 -0.550037 -0.469195 -0.366851 -0.328458 -0.407506 -0.691692   \n",
       "...          ...       ...       ...       ...       ...       ...       ...   \n",
       "394029 -0.830337 -0.557894 -0.477257 -0.374266 -0.328458 -0.182976  0.361296   \n",
       "394030 -0.837587 -0.557894 -0.469195 -0.366851 -0.328458 -0.108473  0.370065   \n",
       "394031 -0.837587 -0.557894 -0.469195 -0.374266 -0.328458 -0.058464  0.330694   \n",
       "394032 -0.830337 -0.557894 -0.469195 -0.374266 -0.328458  0.016039  0.313335   \n",
       "394033 -0.837587 -0.550037 -0.469195 -0.374266 -0.328458  0.041554  0.313335   \n",
       "\n",
       "               7         8         9  \n",
       "0      -0.740920 -0.419805 -0.643168  \n",
       "1      -0.740920 -0.419805 -0.643168  \n",
       "2      -0.745314 -0.419805 -0.643168  \n",
       "3      -0.754285 -0.412897 -0.643168  \n",
       "4      -0.758679 -0.419805 -0.637841  \n",
       "...          ...       ...       ...  \n",
       "394029 -0.798957 -0.419805 -0.538963  \n",
       "394030 -0.798957 -0.412897 -0.544291  \n",
       "394031 -0.798957 -0.419805 -0.549405  \n",
       "394032 -0.803534 -0.412897 -0.554733  \n",
       "394033 -0.798957 -0.419805 -0.559847  \n",
       "\n",
       "[394034 rows x 10 columns]"
      ]
     },
     "execution_count": 14,
     "metadata": {},
     "output_type": "execute_result"
    }
   ],
   "source": [
    "sc"
   ]
  },
  {
   "cell_type": "code",
   "execution_count": 15,
   "id": "65cfb75d",
   "metadata": {},
   "outputs": [],
   "source": [
    "# Splitting data for training and testing\n",
    "X_train, X_test, y_train, y_test = train_test_split(sc, y, test_size = 0.2, random_state = 39)"
   ]
  },
  {
   "cell_type": "markdown",
   "id": "3ba47781",
   "metadata": {},
   "source": [
    "# Deep Learning "
   ]
  },
  {
   "cell_type": "code",
   "execution_count": 16,
   "id": "d426e2e1",
   "metadata": {},
   "outputs": [],
   "source": [
    "from sklearn.preprocessing import MinMaxScaler\n",
    "from tensorflow.keras.models import Model\n",
    "from tensorflow.keras.layers import Input\n",
    "from tensorflow.keras.layers import Dense\n",
    "from tensorflow.keras.layers import LeakyReLU,ELU\n",
    "from tensorflow.keras.layers import BatchNormalization\n",
    "from tensorflow.keras.utils import plot_model\n",
    "import tensorflow as tf\n",
    "from sklearn.model_selection import cross_val_score\n",
    "from keras.models import Sequential\n",
    "from keras.layers import Dense, BatchNormalization, Dropout\n",
    "from tensorflow.keras.optimizers import Adam, SGD, RMSprop, Adadelta, Adagrad, Adamax, Nadam, Ftrl\n",
    "from keras.callbacks import EarlyStopping, ModelCheckpoint\n",
    "from keras.wrappers.scikit_learn import KerasClassifier\n",
    "from sklearn.metrics import make_scorer, accuracy_score\n",
    "from sklearn.model_selection import StratifiedKFold"
   ]
  },
  {
   "cell_type": "code",
   "execution_count": 17,
   "id": "cd0ef208",
   "metadata": {},
   "outputs": [],
   "source": [
    "from keras.layers import LeakyReLU\n",
    "LeakyReLU = LeakyReLU(alpha=0.1)\n",
    "from keras.models import Sequential\n",
    "from keras.layers import Dense, Flatten, Convolution1D, Dropout\n",
    "from keras.initializers import random_uniform"
   ]
  },
  {
   "cell_type": "markdown",
   "id": "f97d61bc",
   "metadata": {},
   "source": [
    "# 1. Define Network"
   ]
  },
  {
   "cell_type": "code",
   "execution_count": 18,
   "id": "bd77bf81",
   "metadata": {},
   "outputs": [],
   "source": [
    "num_classes = 24\n",
    "input_dim = X.shape[1]"
   ]
  },
  {
   "cell_type": "code",
   "execution_count": 19,
   "id": "fbdce465",
   "metadata": {},
   "outputs": [],
   "source": [
    "visible = Input(shape=(input_dim,))\n",
    "hidden1 = Dense(3000, activation='relu')(visible)\n",
    "hidden2 = Dense(1500, activation='relu')(hidden1)\n",
    "hidden3 = Dropout(0.2)(hidden2)\n",
    "hidden4 = Dense(750, activation='relu')(hidden3)\n",
    "hidden5 = Dense(375, activation='relu')(hidden4)\n",
    "hidden6 = Dense(48, activation='relu')(hidden5)\n",
    "output = Dense(num_classes, activation='softmax')(hidden6)\n",
    "model = Model(inputs=visible, outputs=output)"
   ]
  },
  {
   "cell_type": "code",
   "execution_count": 20,
   "id": "1dd33478",
   "metadata": {},
   "outputs": [
    {
     "name": "stdout",
     "output_type": "stream",
     "text": [
      "Model: \"model\"\n",
      "_________________________________________________________________\n",
      " Layer (type)                Output Shape              Param #   \n",
      "=================================================================\n",
      " input_1 (InputLayer)        [(None, 10)]              0         \n",
      "                                                                 \n",
      " dense (Dense)               (None, 3000)              33000     \n",
      "                                                                 \n",
      " dense_1 (Dense)             (None, 1500)              4501500   \n",
      "                                                                 \n",
      " dropout (Dropout)           (None, 1500)              0         \n",
      "                                                                 \n",
      " dense_2 (Dense)             (None, 750)               1125750   \n",
      "                                                                 \n",
      " dense_3 (Dense)             (None, 375)               281625    \n",
      "                                                                 \n",
      " dense_4 (Dense)             (None, 48)                18048     \n",
      "                                                                 \n",
      " dense_5 (Dense)             (None, 24)                1176      \n",
      "                                                                 \n",
      "=================================================================\n",
      "Total params: 5,961,099\n",
      "Trainable params: 5,961,099\n",
      "Non-trainable params: 0\n",
      "_________________________________________________________________\n"
     ]
    }
   ],
   "source": [
    "model.summary()"
   ]
  },
  {
   "cell_type": "markdown",
   "id": "3196ac97",
   "metadata": {},
   "source": [
    "# 2. Compile Network"
   ]
  },
  {
   "cell_type": "code",
   "execution_count": 21,
   "id": "7a2d558b",
   "metadata": {},
   "outputs": [],
   "source": [
    "model.compile(optimizer='adam', loss='categorical_crossentropy', metrics=['accuracy'])"
   ]
  },
  {
   "cell_type": "code",
   "execution_count": 22,
   "id": "c1d2b36d",
   "metadata": {},
   "outputs": [
    {
     "name": "stdout",
     "output_type": "stream",
     "text": [
      "You must install pydot (`pip install pydot`) and install graphviz (see instructions at https://graphviz.gitlab.io/download/) for plot_model/model_to_dot to work.\n"
     ]
    }
   ],
   "source": [
    "plot_model(model, 'EMG_ANN', show_shapes = True)"
   ]
  },
  {
   "cell_type": "markdown",
   "id": "3358b592",
   "metadata": {},
   "source": [
    "# 3. Fit Network"
   ]
  },
  {
   "cell_type": "code",
   "execution_count": 23,
   "id": "e0ed4ddd",
   "metadata": {},
   "outputs": [
    {
     "name": "stdout",
     "output_type": "stream",
     "text": [
      "Epoch 1/100\n",
      "78/78 [==============================] - 3s 27ms/step - loss: 1.2138 - accuracy: 0.6743 - val_loss: 0.7886 - val_accuracy: 0.7713\n",
      "Epoch 2/100\n",
      "78/78 [==============================] - 2s 25ms/step - loss: 0.7089 - accuracy: 0.7945 - val_loss: 0.6243 - val_accuracy: 0.8166\n",
      "Epoch 3/100\n",
      "78/78 [==============================] - 2s 25ms/step - loss: 0.5848 - accuracy: 0.8283 - val_loss: 0.5314 - val_accuracy: 0.8410\n",
      "Epoch 4/100\n",
      "78/78 [==============================] - 2s 25ms/step - loss: 0.5129 - accuracy: 0.8466 - val_loss: 0.4890 - val_accuracy: 0.8550\n",
      "Epoch 5/100\n",
      "78/78 [==============================] - 2s 25ms/step - loss: 0.4675 - accuracy: 0.8585 - val_loss: 0.4295 - val_accuracy: 0.8689\n",
      "Epoch 6/100\n",
      "78/78 [==============================] - 2s 25ms/step - loss: 0.4262 - accuracy: 0.8698 - val_loss: 0.3997 - val_accuracy: 0.8784\n",
      "Epoch 7/100\n",
      "78/78 [==============================] - 2s 25ms/step - loss: 0.3922 - accuracy: 0.8796 - val_loss: 0.3759 - val_accuracy: 0.8847\n",
      "Epoch 8/100\n",
      "78/78 [==============================] - 2s 25ms/step - loss: 0.3698 - accuracy: 0.8859 - val_loss: 0.3479 - val_accuracy: 0.8922\n",
      "Epoch 9/100\n",
      "78/78 [==============================] - 2s 25ms/step - loss: 0.3463 - accuracy: 0.8922 - val_loss: 0.3257 - val_accuracy: 0.8985\n",
      "Epoch 10/100\n",
      "78/78 [==============================] - 2s 25ms/step - loss: 0.3262 - accuracy: 0.8978 - val_loss: 0.3129 - val_accuracy: 0.9034\n",
      "Epoch 11/100\n",
      "78/78 [==============================] - 2s 25ms/step - loss: 0.3122 - accuracy: 0.9024 - val_loss: 0.2959 - val_accuracy: 0.9066\n",
      "Epoch 12/100\n",
      "78/78 [==============================] - 2s 25ms/step - loss: 0.2980 - accuracy: 0.9064 - val_loss: 0.2862 - val_accuracy: 0.9104\n",
      "Epoch 13/100\n",
      "78/78 [==============================] - 2s 25ms/step - loss: 0.2817 - accuracy: 0.9116 - val_loss: 0.2709 - val_accuracy: 0.9144\n",
      "Epoch 14/100\n",
      "78/78 [==============================] - 2s 25ms/step - loss: 0.2715 - accuracy: 0.9143 - val_loss: 0.2622 - val_accuracy: 0.9181\n",
      "Epoch 15/100\n",
      "78/78 [==============================] - 2s 25ms/step - loss: 0.2586 - accuracy: 0.9184 - val_loss: 0.2556 - val_accuracy: 0.9193\n",
      "Epoch 16/100\n",
      "78/78 [==============================] - 2s 25ms/step - loss: 0.2505 - accuracy: 0.9204 - val_loss: 0.2509 - val_accuracy: 0.9203\n",
      "Epoch 17/100\n",
      "78/78 [==============================] - 2s 25ms/step - loss: 0.2402 - accuracy: 0.9236 - val_loss: 0.2494 - val_accuracy: 0.9204\n",
      "Epoch 18/100\n",
      "78/78 [==============================] - 2s 25ms/step - loss: 0.2320 - accuracy: 0.9260 - val_loss: 0.2327 - val_accuracy: 0.9262\n",
      "Epoch 19/100\n",
      "78/78 [==============================] - 2s 25ms/step - loss: 0.2229 - accuracy: 0.9291 - val_loss: 0.2177 - val_accuracy: 0.9307\n",
      "Epoch 20/100\n",
      "78/78 [==============================] - 2s 25ms/step - loss: 0.2162 - accuracy: 0.9310 - val_loss: 0.2185 - val_accuracy: 0.9288\n",
      "Epoch 21/100\n",
      "78/78 [==============================] - 2s 25ms/step - loss: 0.2080 - accuracy: 0.9332 - val_loss: 0.2111 - val_accuracy: 0.9319\n",
      "Epoch 22/100\n",
      "78/78 [==============================] - 2s 25ms/step - loss: 0.2043 - accuracy: 0.9347 - val_loss: 0.2096 - val_accuracy: 0.9322\n",
      "Epoch 23/100\n",
      "78/78 [==============================] - 2s 25ms/step - loss: 0.1990 - accuracy: 0.9365 - val_loss: 0.2007 - val_accuracy: 0.9358\n",
      "Epoch 24/100\n",
      "78/78 [==============================] - 2s 25ms/step - loss: 0.1914 - accuracy: 0.9387 - val_loss: 0.1948 - val_accuracy: 0.9384\n",
      "Epoch 25/100\n",
      "78/78 [==============================] - 2s 25ms/step - loss: 0.1893 - accuracy: 0.9388 - val_loss: 0.1983 - val_accuracy: 0.9363\n",
      "Epoch 26/100\n",
      "78/78 [==============================] - 2s 25ms/step - loss: 0.1840 - accuracy: 0.9409 - val_loss: 0.1870 - val_accuracy: 0.9395\n",
      "Epoch 27/100\n",
      "78/78 [==============================] - 2s 25ms/step - loss: 0.1779 - accuracy: 0.9426 - val_loss: 0.1849 - val_accuracy: 0.9402\n",
      "Epoch 28/100\n",
      "78/78 [==============================] - 2s 26ms/step - loss: 0.1736 - accuracy: 0.9437 - val_loss: 0.1817 - val_accuracy: 0.9421\n",
      "Epoch 29/100\n",
      "78/78 [==============================] - 2s 25ms/step - loss: 0.1695 - accuracy: 0.9454 - val_loss: 0.1846 - val_accuracy: 0.9402\n",
      "Epoch 30/100\n",
      "78/78 [==============================] - 2s 26ms/step - loss: 0.1655 - accuracy: 0.9463 - val_loss: 0.1700 - val_accuracy: 0.9458\n",
      "Epoch 31/100\n",
      "78/78 [==============================] - 2s 26ms/step - loss: 0.1640 - accuracy: 0.9469 - val_loss: 0.1722 - val_accuracy: 0.9448\n",
      "Epoch 32/100\n",
      "78/78 [==============================] - 2s 26ms/step - loss: 0.1632 - accuracy: 0.9470 - val_loss: 0.1723 - val_accuracy: 0.9452\n",
      "Epoch 33/100\n",
      "78/78 [==============================] - 2s 26ms/step - loss: 0.1558 - accuracy: 0.9495 - val_loss: 0.1637 - val_accuracy: 0.9477\n",
      "Epoch 34/100\n",
      "78/78 [==============================] - 2s 26ms/step - loss: 0.1553 - accuracy: 0.9498 - val_loss: 0.1609 - val_accuracy: 0.9484\n",
      "Epoch 35/100\n",
      "78/78 [==============================] - 2s 26ms/step - loss: 0.1501 - accuracy: 0.9513 - val_loss: 0.1637 - val_accuracy: 0.9468\n",
      "Epoch 36/100\n",
      "78/78 [==============================] - 2s 26ms/step - loss: 0.1494 - accuracy: 0.9513 - val_loss: 0.1650 - val_accuracy: 0.9463\n",
      "Epoch 37/100\n",
      "78/78 [==============================] - 2s 26ms/step - loss: 0.1463 - accuracy: 0.9519 - val_loss: 0.1606 - val_accuracy: 0.9482\n",
      "Epoch 38/100\n",
      "78/78 [==============================] - 2s 26ms/step - loss: 0.1442 - accuracy: 0.9527 - val_loss: 0.1566 - val_accuracy: 0.9484\n",
      "Epoch 39/100\n",
      "78/78 [==============================] - 2s 26ms/step - loss: 0.1415 - accuracy: 0.9541 - val_loss: 0.1531 - val_accuracy: 0.9511\n",
      "Epoch 40/100\n",
      "78/78 [==============================] - 2s 26ms/step - loss: 0.1376 - accuracy: 0.9550 - val_loss: 0.1584 - val_accuracy: 0.9491\n",
      "Epoch 41/100\n",
      "78/78 [==============================] - 2s 26ms/step - loss: 0.1396 - accuracy: 0.9543 - val_loss: 0.1512 - val_accuracy: 0.9516\n",
      "Epoch 42/100\n",
      "78/78 [==============================] - 2s 26ms/step - loss: 0.1353 - accuracy: 0.9556 - val_loss: 0.1514 - val_accuracy: 0.9512\n",
      "Epoch 43/100\n",
      "78/78 [==============================] - 2s 26ms/step - loss: 0.1364 - accuracy: 0.9556 - val_loss: 0.1489 - val_accuracy: 0.9528\n",
      "Epoch 44/100\n",
      "78/78 [==============================] - 2s 26ms/step - loss: 0.1290 - accuracy: 0.9576 - val_loss: 0.1456 - val_accuracy: 0.9528\n",
      "Epoch 45/100\n",
      "78/78 [==============================] - 2s 26ms/step - loss: 0.1259 - accuracy: 0.9589 - val_loss: 0.1457 - val_accuracy: 0.9535\n",
      "Epoch 46/100\n",
      "78/78 [==============================] - 2s 26ms/step - loss: 0.1282 - accuracy: 0.9579 - val_loss: 0.1464 - val_accuracy: 0.9530\n",
      "Epoch 47/100\n",
      "78/78 [==============================] - 2s 26ms/step - loss: 0.1273 - accuracy: 0.9579 - val_loss: 0.1410 - val_accuracy: 0.9550\n",
      "Epoch 48/100\n",
      "78/78 [==============================] - 2s 26ms/step - loss: 0.1230 - accuracy: 0.9597 - val_loss: 0.1429 - val_accuracy: 0.9543\n",
      "Epoch 49/100\n",
      "78/78 [==============================] - 2s 26ms/step - loss: 0.1207 - accuracy: 0.9602 - val_loss: 0.1439 - val_accuracy: 0.9544\n",
      "Epoch 50/100\n",
      "78/78 [==============================] - 2s 26ms/step - loss: 0.1227 - accuracy: 0.9594 - val_loss: 0.1395 - val_accuracy: 0.9549\n",
      "Epoch 51/100\n",
      "78/78 [==============================] - 2s 26ms/step - loss: 0.1204 - accuracy: 0.9600 - val_loss: 0.1364 - val_accuracy: 0.9552\n",
      "Epoch 52/100\n",
      "78/78 [==============================] - 2s 26ms/step - loss: 0.1194 - accuracy: 0.9609 - val_loss: 0.1450 - val_accuracy: 0.9525\n",
      "Epoch 53/100\n",
      "78/78 [==============================] - 2s 26ms/step - loss: 0.1176 - accuracy: 0.9614 - val_loss: 0.1369 - val_accuracy: 0.9555\n",
      "Epoch 54/100\n",
      "78/78 [==============================] - 2s 26ms/step - loss: 0.1166 - accuracy: 0.9611 - val_loss: 0.1416 - val_accuracy: 0.9553\n",
      "Epoch 55/100\n",
      "78/78 [==============================] - 2s 26ms/step - loss: 0.1138 - accuracy: 0.9625 - val_loss: 0.1357 - val_accuracy: 0.9569\n",
      "Epoch 56/100\n",
      "78/78 [==============================] - 2s 26ms/step - loss: 0.1120 - accuracy: 0.9631 - val_loss: 0.1330 - val_accuracy: 0.9573\n",
      "Epoch 57/100\n",
      "78/78 [==============================] - 2s 26ms/step - loss: 0.1122 - accuracy: 0.9630 - val_loss: 0.1321 - val_accuracy: 0.9576\n",
      "Epoch 58/100\n",
      "78/78 [==============================] - 2s 26ms/step - loss: 0.1079 - accuracy: 0.9645 - val_loss: 0.1297 - val_accuracy: 0.9579\n",
      "Epoch 59/100\n",
      "78/78 [==============================] - 2s 26ms/step - loss: 0.1109 - accuracy: 0.9630 - val_loss: 0.1349 - val_accuracy: 0.9566\n",
      "Epoch 60/100\n",
      "78/78 [==============================] - 2s 26ms/step - loss: 0.1096 - accuracy: 0.9635 - val_loss: 0.1389 - val_accuracy: 0.9558\n",
      "Epoch 61/100\n",
      "78/78 [==============================] - 2s 26ms/step - loss: 0.1044 - accuracy: 0.9652 - val_loss: 0.1302 - val_accuracy: 0.9581\n",
      "Epoch 62/100\n",
      "78/78 [==============================] - 2s 26ms/step - loss: 0.1044 - accuracy: 0.9652 - val_loss: 0.1282 - val_accuracy: 0.9587\n",
      "Epoch 63/100\n",
      "78/78 [==============================] - 2s 26ms/step - loss: 0.1043 - accuracy: 0.9654 - val_loss: 0.1271 - val_accuracy: 0.9592\n",
      "Epoch 64/100\n",
      "78/78 [==============================] - 2s 27ms/step - loss: 0.1036 - accuracy: 0.9656 - val_loss: 0.1288 - val_accuracy: 0.9589\n",
      "Epoch 65/100\n",
      "78/78 [==============================] - 2s 26ms/step - loss: 0.1025 - accuracy: 0.9661 - val_loss: 0.1283 - val_accuracy: 0.9591\n",
      "Epoch 66/100\n",
      "78/78 [==============================] - 2s 26ms/step - loss: 0.1029 - accuracy: 0.9657 - val_loss: 0.1239 - val_accuracy: 0.9607\n",
      "Epoch 67/100\n",
      "78/78 [==============================] - 2s 26ms/step - loss: 0.1012 - accuracy: 0.9662 - val_loss: 0.1320 - val_accuracy: 0.9577\n",
      "Epoch 68/100\n",
      "78/78 [==============================] - 2s 26ms/step - loss: 0.1049 - accuracy: 0.9654 - val_loss: 0.1242 - val_accuracy: 0.9608\n",
      "Epoch 69/100\n",
      "78/78 [==============================] - 2s 26ms/step - loss: 0.0981 - accuracy: 0.9670 - val_loss: 0.1226 - val_accuracy: 0.9608\n",
      "Epoch 70/100\n",
      "78/78 [==============================] - 2s 26ms/step - loss: 0.0972 - accuracy: 0.9675 - val_loss: 0.1242 - val_accuracy: 0.9609\n",
      "Epoch 71/100\n",
      "78/78 [==============================] - 2s 26ms/step - loss: 0.0996 - accuracy: 0.9668 - val_loss: 0.1243 - val_accuracy: 0.9615\n",
      "Epoch 72/100\n",
      "78/78 [==============================] - 2s 26ms/step - loss: 0.0952 - accuracy: 0.9681 - val_loss: 0.1253 - val_accuracy: 0.9606\n",
      "Epoch 73/100\n",
      "78/78 [==============================] - 2s 27ms/step - loss: 0.0940 - accuracy: 0.9685 - val_loss: 0.1312 - val_accuracy: 0.9598\n",
      "Epoch 74/100\n",
      "78/78 [==============================] - 2s 26ms/step - loss: 0.0961 - accuracy: 0.9680 - val_loss: 0.1190 - val_accuracy: 0.9628\n",
      "Epoch 75/100\n",
      "78/78 [==============================] - 2s 26ms/step - loss: 0.0909 - accuracy: 0.9696 - val_loss: 0.1203 - val_accuracy: 0.9616\n",
      "Epoch 76/100\n",
      "78/78 [==============================] - 2s 26ms/step - loss: 0.0899 - accuracy: 0.9697 - val_loss: 0.1207 - val_accuracy: 0.9620\n",
      "Epoch 77/100\n",
      "78/78 [==============================] - 2s 26ms/step - loss: 0.0911 - accuracy: 0.9695 - val_loss: 0.1227 - val_accuracy: 0.9605\n",
      "Epoch 78/100\n",
      "78/78 [==============================] - 2s 26ms/step - loss: 0.0908 - accuracy: 0.9694 - val_loss: 0.1202 - val_accuracy: 0.9620\n",
      "Epoch 79/100\n",
      "78/78 [==============================] - 2s 26ms/step - loss: 0.0907 - accuracy: 0.9696 - val_loss: 0.1198 - val_accuracy: 0.9626\n",
      "Epoch 80/100\n",
      "78/78 [==============================] - 2s 26ms/step - loss: 0.0909 - accuracy: 0.9695 - val_loss: 0.1242 - val_accuracy: 0.9604\n",
      "Epoch 81/100\n",
      "78/78 [==============================] - 2s 26ms/step - loss: 0.0908 - accuracy: 0.9697 - val_loss: 0.1186 - val_accuracy: 0.9631\n",
      "Epoch 82/100\n",
      "78/78 [==============================] - 2s 26ms/step - loss: 0.0896 - accuracy: 0.9698 - val_loss: 0.1193 - val_accuracy: 0.9610\n",
      "Epoch 83/100\n",
      "78/78 [==============================] - 2s 26ms/step - loss: 0.0911 - accuracy: 0.9696 - val_loss: 0.1300 - val_accuracy: 0.9605\n",
      "Epoch 84/100\n",
      "78/78 [==============================] - 2s 26ms/step - loss: 0.0899 - accuracy: 0.9698 - val_loss: 0.1177 - val_accuracy: 0.9634\n",
      "Epoch 85/100\n",
      "78/78 [==============================] - 2s 26ms/step - loss: 0.0866 - accuracy: 0.9709 - val_loss: 0.1208 - val_accuracy: 0.9625\n",
      "Epoch 86/100\n",
      "78/78 [==============================] - 2s 27ms/step - loss: 0.0860 - accuracy: 0.9708 - val_loss: 0.1180 - val_accuracy: 0.9631\n",
      "Epoch 87/100\n",
      "78/78 [==============================] - 2s 27ms/step - loss: 0.0854 - accuracy: 0.9711 - val_loss: 0.1173 - val_accuracy: 0.9629\n",
      "Epoch 88/100\n",
      "78/78 [==============================] - 2s 27ms/step - loss: 0.0842 - accuracy: 0.9717 - val_loss: 0.1159 - val_accuracy: 0.9638\n",
      "Epoch 89/100\n",
      "78/78 [==============================] - 2s 27ms/step - loss: 0.0877 - accuracy: 0.9710 - val_loss: 0.1219 - val_accuracy: 0.9618\n",
      "Epoch 90/100\n",
      "78/78 [==============================] - 2s 26ms/step - loss: 0.0852 - accuracy: 0.9712 - val_loss: 0.1149 - val_accuracy: 0.9643\n",
      "Epoch 91/100\n",
      "78/78 [==============================] - 2s 26ms/step - loss: 0.0838 - accuracy: 0.9717 - val_loss: 0.1146 - val_accuracy: 0.9642\n",
      "Epoch 92/100\n",
      "78/78 [==============================] - 2s 26ms/step - loss: 0.0841 - accuracy: 0.9716 - val_loss: 0.1148 - val_accuracy: 0.9643\n",
      "Epoch 93/100\n",
      "78/78 [==============================] - 2s 26ms/step - loss: 0.0809 - accuracy: 0.9723 - val_loss: 0.1143 - val_accuracy: 0.9644\n",
      "Epoch 94/100\n",
      "78/78 [==============================] - 2s 26ms/step - loss: 0.0794 - accuracy: 0.9729 - val_loss: 0.1119 - val_accuracy: 0.9649\n",
      "Epoch 95/100\n",
      "78/78 [==============================] - 2s 27ms/step - loss: 0.0793 - accuracy: 0.9731 - val_loss: 0.1137 - val_accuracy: 0.9653\n",
      "Epoch 96/100\n",
      "78/78 [==============================] - 2s 26ms/step - loss: 0.0788 - accuracy: 0.9733 - val_loss: 0.1196 - val_accuracy: 0.9624\n",
      "Epoch 97/100\n",
      "78/78 [==============================] - 2s 27ms/step - loss: 0.0807 - accuracy: 0.9724 - val_loss: 0.1155 - val_accuracy: 0.9641\n",
      "Epoch 98/100\n",
      "78/78 [==============================] - 2s 26ms/step - loss: 0.0836 - accuracy: 0.9719 - val_loss: 0.1133 - val_accuracy: 0.9651\n",
      "Epoch 99/100\n",
      "78/78 [==============================] - 2s 26ms/step - loss: 0.0790 - accuracy: 0.9734 - val_loss: 0.1138 - val_accuracy: 0.9650\n",
      "Epoch 100/100\n",
      "78/78 [==============================] - 2s 27ms/step - loss: 0.0788 - accuracy: 0.9731 - val_loss: 0.1198 - val_accuracy: 0.9628\n"
     ]
    }
   ],
   "source": [
    "history = model.fit(X_train, y_train, batch_size=4056, epochs=100, validation_data = (X_test, y_test))"
   ]
  },
  {
   "cell_type": "markdown",
   "id": "ffed59b1",
   "metadata": {},
   "source": [
    "# 4.Evaluate Network"
   ]
  },
  {
   "cell_type": "markdown",
   "id": "28731190",
   "metadata": {},
   "source": [
    "## 4.1. Plotting Loss and Accuracy"
   ]
  },
  {
   "cell_type": "code",
   "execution_count": 24,
   "id": "971e6040",
   "metadata": {},
   "outputs": [
    {
     "data": {
      "text/plain": [
       "Text(0.5, 1.0, 'Loss Curve of Deep Neural Netowork')"
      ]
     },
     "execution_count": 24,
     "metadata": {},
     "output_type": "execute_result"
    },
    {
     "data": {
      "image/png": "[encoded data removed]",
      "text/plain": [
       "<Figure size 432x288 with 1 Axes>"
      ]
     },
     "metadata": {
      "needs_background": "light"
     },
     "output_type": "display_data"
    }
   ],
   "source": [
    "#Loss Curve\n",
    "\n",
    "\n",
    "plt.plot(figsize = [8,6])\n",
    "\n",
    "plt.plot(history.history['loss'],'r',linewidth = 3.0)\n",
    "plt.plot(history.history['val_loss'],'b',linewidth = 3.0)\n",
    "\n",
    "plt.legend(['Training Loss', 'Validation Loss'], fontsize = 18)\n",
    "\n",
    "plt.xlabel('Epochs', fontsize = 16)\n",
    "plt.ylabel('Loss', fontsize = 16)\n",
    "\n",
    "plt.title('Loss Curve of Deep Neural Netowork' , fontsize = 16 )\n",
    "\n"
   ]
  },
  {
   "cell_type": "code",
   "execution_count": 25,
   "id": "b0c193ec",
   "metadata": {},
   "outputs": [
    {
     "data": {
      "text/plain": [
       "Text(0.5, 1.0, 'Accuracy Curve of Deep Neural Netowork')"
      ]
     },
     "execution_count": 25,
     "metadata": {},
     "output_type": "execute_result"
    },
    {
     "data": {
      "image/png": "[encoded data removed]",
      "text/plain": [
       "<Figure size 432x288 with 1 Axes>"
      ]
     },
     "metadata": {
      "needs_background": "light"
     },
     "output_type": "display_data"
    }
   ],
   "source": [
    "#Accuracy Curve\n",
    "\n",
    "plt.plot(figsize = [8,6])\n",
    "plt.plot(history.history['accuracy'],'r',linewidth = 3.0)\n",
    "plt.plot(history.history['val_accuracy'],'b',linewidth = 3.0)\n",
    "\n",
    "plt.legend(['Training Accuracy', 'Validation Accuracy'], fontsize = 18)\n",
    "\n",
    "plt.xlabel('Epochs', fontsize = 16)\n",
    "plt.ylabel('Accuracy', fontsize = 16)\n",
    "\n",
    "\n",
    "plt.title('Accuracy Curve of Deep Neural Netowork' , fontsize = 16 )"
   ]
  },
  {
   "cell_type": "markdown",
   "id": "741a02aa",
   "metadata": {},
   "source": [
    "##  4.2 Make Predictions"
   ]
  },
  {
   "cell_type": "code",
   "execution_count": 26,
   "id": "e8465627",
   "metadata": {},
   "outputs": [],
   "source": [
    "predictions = model.predict(X_test)\n",
    "predictions = np.argmax(predictions, axis = 1)"
   ]
  },
  {
   "cell_type": "code",
   "execution_count": 27,
   "id": "3cac1a50",
   "metadata": {},
   "outputs": [
    {
     "data": {
      "text/plain": [
       "array([ 0,  0,  0, ...,  0, 20, 20], dtype=int64)"
      ]
     },
     "execution_count": 27,
     "metadata": {},
     "output_type": "execute_result"
    }
   ],
   "source": [
    "predictions"
   ]
  },
  {
   "cell_type": "markdown",
   "id": "70d666bb",
   "metadata": {},
   "source": [
    "#### Transforming from One Hot Encoding"
   ]
  },
  {
   "cell_type": "code",
   "execution_count": 28,
   "id": "7234b6e7",
   "metadata": {},
   "outputs": [
    {
     "data": {
      "text/plain": [
       "0"
      ]
     },
     "execution_count": 28,
     "metadata": {},
     "output_type": "execute_result"
    }
   ],
   "source": [
    "y_test =np.argmax(y_test, axis=1)\n",
    "y_test[1]"
   ]
  },
  {
   "cell_type": "code",
   "execution_count": 29,
   "id": "6278820d",
   "metadata": {},
   "outputs": [
    {
     "name": "stdout",
     "output_type": "stream",
     "text": [
      "Accuracy is: 96.28332508533506\n"
     ]
    }
   ],
   "source": [
    "from sklearn.metrics import accuracy_score\n",
    "accuracy = {accuracy_score(y_test, predictions)}\n",
    "print(f\"Accuracy is: {accuracy_score(y_test, predictions)* 100}\")"
   ]
  },
  {
   "cell_type": "markdown",
   "id": "eb044ea1",
   "metadata": {},
   "source": [
    "## 4.3 Classification Report"
   ]
  },
  {
   "cell_type": "code",
   "execution_count": 30,
   "id": "001ebc5a",
   "metadata": {},
   "outputs": [
    {
     "name": "stdout",
     "output_type": "stream",
     "text": [
      "\u001b[1mClassification report : \u001b[0m\n",
      "               precision    recall  f1-score   support\n",
      "\n",
      "           0       0.97      0.98      0.97     39171\n",
      "           1       0.97      0.95      0.96      1948\n",
      "           2       0.97      0.92      0.94      2393\n",
      "           3       0.94      0.94      0.94      2279\n",
      "           4       0.95      0.96      0.96      2303\n",
      "           5       0.95      0.97      0.96      2129\n",
      "           6       0.98      0.98      0.98      2103\n",
      "           7       0.93      0.95      0.94      2131\n",
      "           8       0.99      0.93      0.96      2256\n",
      "           9       0.96      0.92      0.94      2332\n",
      "          10       0.91      0.84      0.87      2518\n",
      "          11       0.98      0.96      0.97      2252\n",
      "          12       0.94      0.85      0.89      2438\n",
      "          13       0.97      0.97      0.97      1487\n",
      "          14       0.95      0.97      0.96      1393\n",
      "          15       0.94      0.95      0.94      1511\n",
      "          16       0.98      0.97      0.97      1565\n",
      "          17       0.98      0.96      0.97      1684\n",
      "          18       0.97      0.97      0.97       838\n",
      "          19       0.99      0.97      0.98       766\n",
      "          20       0.98      0.98      0.98       882\n",
      "          21       0.99      0.99      0.99       688\n",
      "          22       0.99      0.99      0.99       862\n",
      "          23       0.98      0.98      0.98       878\n",
      "\n",
      "    accuracy                           0.96     78807\n",
      "   macro avg       0.96      0.95      0.96     78807\n",
      "weighted avg       0.96      0.96      0.96     78807\n",
      "\n",
      "\u001b[1mConfusion Matrix : \u001b[0m\n"
     ]
    },
    {
     "data": {
      "image/png": "[encoded data removed]",
      "text/plain": [
       "<Figure size 432x288 with 2 Axes>"
      ]
     },
     "metadata": {
      "needs_background": "light"
     },
     "output_type": "display_data"
    }
   ],
   "source": [
    "from sklearn.metrics import confusion_matrix, f1_score, accuracy_score, classification_report\n",
    "print('\\033[1m' +'Classification report : '+ '\\033[0m\\n', classification_report(y_test, predictions))\n",
    "\n",
    "cm = confusion_matrix(predictions, y_test)\n",
    "print('\\033[1m' +'Confusion Matrix : '+ '\\033[0m')\n",
    "sns.heatmap(cm, cmap = 'OrRd',annot = True, fmt='d')\n",
    "plt.show()"
   ]
  },
  {
   "cell_type": "markdown",
   "id": "eaa5e512",
   "metadata": {},
   "source": [
    "## 4.4 Evaluation"
   ]
  },
  {
   "cell_type": "code",
   "execution_count": 31,
   "id": "9e469f86",
   "metadata": {},
   "outputs": [
    {
     "name": "stdout",
     "output_type": "stream",
     "text": [
      "MAE: 0.2884896011775604\n",
      "MSE: 3.0925298514091386\n",
      "RMSE: 1.7585590269903193\n"
     ]
    }
   ],
   "source": [
    "from sklearn import metrics\n",
    "\n",
    "print('MAE:', metrics.mean_absolute_error(y_test,predictions))\n",
    "print('MSE:', metrics.mean_squared_error(y_test, predictions))\n",
    "print('RMSE:', np.sqrt(metrics.mean_squared_error(y_test, predictions)))"
   ]
  },
  {
   "cell_type": "code",
   "execution_count": 32,
   "id": "dff2a82d",
   "metadata": {},
   "outputs": [
    {
     "name": "stdout",
     "output_type": "stream",
     "text": [
      "Precision Score :  0.9627191511669074\n",
      "Recall Score :  0.9628332508533506\n",
      "f1_score :  0.9625393723892566\n"
     ]
    }
   ],
   "source": [
    "from sklearn.metrics import precision_score\n",
    "print(\"Precision Score : \",precision_score(y_test, predictions, average='weighted'))\n",
    "\n",
    "\n",
    "from sklearn.metrics import recall_score\n",
    "print(\"Recall Score : \",recall_score(y_test, predictions,average='weighted'))\n",
    "\n",
    "\n",
    "from sklearn.metrics import f1_score\n",
    "print(\"f1_score : \",f1_score(y_test, predictions,average='weighted'))"
   ]
  },
  {
   "cell_type": "code",
   "execution_count": null,
   "id": "81ac7468",
   "metadata": {},
   "outputs": [],
   "source": []
  },
  {
   "cell_type": "code",
   "execution_count": null,
   "id": "71a4c6e0",
   "metadata": {},
   "outputs": [],
   "source": []
  }
 ],
 "metadata": {
  "kernelspec": {
   "display_name": "Python 3 (ipykernel)",
   "language": "python",
   "name": "python3"
  },
  "language_info": {
   "codemirror_mode": {
    "name": "ipython",
    "version": 3
   },
   "file_extension": ".py",
   "mimetype": "text/x-python",
   "name": "python",
   "nbconvert_exporter": "python",
   "pygments_lexer": "ipython3",
   "version": "3.8.12"
  }
 },
 "nbformat": 4,
 "nbformat_minor": 5
}
