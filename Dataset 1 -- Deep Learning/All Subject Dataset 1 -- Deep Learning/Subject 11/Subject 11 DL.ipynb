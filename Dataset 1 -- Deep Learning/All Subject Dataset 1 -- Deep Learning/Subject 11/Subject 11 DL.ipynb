{
 "cells": [
  {
   "cell_type": "markdown",
   "id": "bf8ee932",
   "metadata": {},
   "source": [
    "# Importing Libraries"
   ]
  },
  {
   "cell_type": "code",
   "execution_count": 1,
   "id": "0f663fa8",
   "metadata": {},
   "outputs": [],
   "source": [
    "import numpy as np\n",
    "import pandas as pd\n",
    "import matplotlib.pyplot as plt\n",
    "import seaborn as sns\n",
    "from sklearn.model_selection import train_test_split"
   ]
  },
  {
   "cell_type": "markdown",
   "id": "511af272",
   "metadata": {},
   "source": [
    "# Loading Data"
   ]
  },
  {
   "cell_type": "code",
   "execution_count": 2,
   "id": "04fd19b0",
   "metadata": {},
   "outputs": [
    {
     "data": {
      "text/html": [
       "<div>\n",
       "<style scoped>\n",
       "    .dataframe tbody tr th:only-of-type {\n",
       "        vertical-align: middle;\n",
       "    }\n",
       "\n",
       "    .dataframe tbody tr th {\n",
       "        vertical-align: top;\n",
       "    }\n",
       "\n",
       "    .dataframe thead th {\n",
       "        text-align: right;\n",
       "    }\n",
       "</style>\n",
       "<table border=\"1\" class=\"dataframe\">\n",
       "  <thead>\n",
       "    <tr style=\"text-align: right;\">\n",
       "      <th></th>\n",
       "      <th>Emg1</th>\n",
       "      <th>Emg2</th>\n",
       "      <th>Emg3</th>\n",
       "      <th>Emg4</th>\n",
       "      <th>Emg5</th>\n",
       "      <th>Emg6</th>\n",
       "      <th>Emg7</th>\n",
       "      <th>Emg8</th>\n",
       "      <th>Emg9</th>\n",
       "      <th>Emg10</th>\n",
       "      <th>repetition</th>\n",
       "      <th>rerepetition</th>\n",
       "      <th>stimulus</th>\n",
       "      <th>restimulus</th>\n",
       "    </tr>\n",
       "  </thead>\n",
       "  <tbody>\n",
       "    <tr>\n",
       "      <th>84176</th>\n",
       "      <td>0.0024</td>\n",
       "      <td>0.0024</td>\n",
       "      <td>0.0586</td>\n",
       "      <td>0.0024</td>\n",
       "      <td>0.0024</td>\n",
       "      <td>0.0098</td>\n",
       "      <td>0.4419</td>\n",
       "      <td>0.0977</td>\n",
       "      <td>0.0146</td>\n",
       "      <td>0.1074</td>\n",
       "      <td>1</td>\n",
       "      <td>0</td>\n",
       "      <td>11</td>\n",
       "      <td>0</td>\n",
       "    </tr>\n",
       "    <tr>\n",
       "      <th>368543</th>\n",
       "      <td>0.0024</td>\n",
       "      <td>0.0024</td>\n",
       "      <td>0.0024</td>\n",
       "      <td>0.0024</td>\n",
       "      <td>0.0024</td>\n",
       "      <td>0.0342</td>\n",
       "      <td>0.4517</td>\n",
       "      <td>0.1587</td>\n",
       "      <td>0.0024</td>\n",
       "      <td>0.1904</td>\n",
       "      <td>5</td>\n",
       "      <td>0</td>\n",
       "      <td>14</td>\n",
       "      <td>0</td>\n",
       "    </tr>\n",
       "    <tr>\n",
       "      <th>255244</th>\n",
       "      <td>0.0146</td>\n",
       "      <td>0.0024</td>\n",
       "      <td>0.0024</td>\n",
       "      <td>0.0024</td>\n",
       "      <td>0.0024</td>\n",
       "      <td>0.0049</td>\n",
       "      <td>0.1050</td>\n",
       "      <td>0.0757</td>\n",
       "      <td>0.0024</td>\n",
       "      <td>0.0488</td>\n",
       "      <td>0</td>\n",
       "      <td>0</td>\n",
       "      <td>0</td>\n",
       "      <td>0</td>\n",
       "    </tr>\n",
       "    <tr>\n",
       "      <th>227402</th>\n",
       "      <td>0.0024</td>\n",
       "      <td>0.2905</td>\n",
       "      <td>4.1846</td>\n",
       "      <td>4.5801</td>\n",
       "      <td>0.3613</td>\n",
       "      <td>0.4541</td>\n",
       "      <td>1.4209</td>\n",
       "      <td>0.7300</td>\n",
       "      <td>4.3066</td>\n",
       "      <td>0.8643</td>\n",
       "      <td>1</td>\n",
       "      <td>1</td>\n",
       "      <td>16</td>\n",
       "      <td>16</td>\n",
       "    </tr>\n",
       "    <tr>\n",
       "      <th>221895</th>\n",
       "      <td>0.0366</td>\n",
       "      <td>0.0024</td>\n",
       "      <td>0.0024</td>\n",
       "      <td>0.0024</td>\n",
       "      <td>0.0024</td>\n",
       "      <td>0.0024</td>\n",
       "      <td>0.0024</td>\n",
       "      <td>0.0146</td>\n",
       "      <td>0.0024</td>\n",
       "      <td>0.0024</td>\n",
       "      <td>0</td>\n",
       "      <td>0</td>\n",
       "      <td>0</td>\n",
       "      <td>0</td>\n",
       "    </tr>\n",
       "  </tbody>\n",
       "</table>\n",
       "</div>"
      ],
      "text/plain": [
       "          Emg1    Emg2    Emg3    Emg4    Emg5    Emg6    Emg7    Emg8  \\\n",
       "84176   0.0024  0.0024  0.0586  0.0024  0.0024  0.0098  0.4419  0.0977   \n",
       "368543  0.0024  0.0024  0.0024  0.0024  0.0024  0.0342  0.4517  0.1587   \n",
       "255244  0.0146  0.0024  0.0024  0.0024  0.0024  0.0049  0.1050  0.0757   \n",
       "227402  0.0024  0.2905  4.1846  4.5801  0.3613  0.4541  1.4209  0.7300   \n",
       "221895  0.0366  0.0024  0.0024  0.0024  0.0024  0.0024  0.0024  0.0146   \n",
       "\n",
       "          Emg9   Emg10  repetition  rerepetition  stimulus  restimulus  \n",
       "84176   0.0146  0.1074           1             0        11           0  \n",
       "368543  0.0024  0.1904           5             0        14           0  \n",
       "255244  0.0024  0.0488           0             0         0           0  \n",
       "227402  4.3066  0.8643           1             1        16          16  \n",
       "221895  0.0024  0.0024           0             0         0           0  "
      ]
     },
     "execution_count": 2,
     "metadata": {},
     "output_type": "execute_result"
    }
   ],
   "source": [
    "raw_data = pd.read_excel('Dataset 1 Patient 11.xlsx')\n",
    "raw_data.sample(5)"
   ]
  },
  {
   "cell_type": "code",
   "execution_count": 3,
   "id": "80369ddb",
   "metadata": {},
   "outputs": [
    {
     "name": "stdout",
     "output_type": "stream",
     "text": [
      "<class 'pandas.core.frame.DataFrame'>\n",
      "RangeIndex: 471954 entries, 0 to 471953\n",
      "Data columns (total 14 columns):\n",
      " #   Column        Non-Null Count   Dtype  \n",
      "---  ------        --------------   -----  \n",
      " 0   Emg1          471954 non-null  float64\n",
      " 1   Emg2          471954 non-null  float64\n",
      " 2   Emg3          471954 non-null  float64\n",
      " 3   Emg4          471954 non-null  float64\n",
      " 4   Emg5          471954 non-null  float64\n",
      " 5   Emg6          471954 non-null  float64\n",
      " 6   Emg7          471954 non-null  float64\n",
      " 7   Emg8          471954 non-null  float64\n",
      " 8   Emg9          471954 non-null  float64\n",
      " 9   Emg10         471954 non-null  float64\n",
      " 10  repetition    471954 non-null  int64  \n",
      " 11  rerepetition  471954 non-null  int64  \n",
      " 12  stimulus      471954 non-null  int64  \n",
      " 13  restimulus    471954 non-null  int64  \n",
      "dtypes: float64(10), int64(4)\n",
      "memory usage: 50.4 MB\n"
     ]
    }
   ],
   "source": [
    "raw_data.info()"
   ]
  },
  {
   "cell_type": "code",
   "execution_count": 4,
   "id": "109445f8",
   "metadata": {},
   "outputs": [
    {
     "data": {
      "text/html": [
       "<div>\n",
       "<style scoped>\n",
       "    .dataframe tbody tr th:only-of-type {\n",
       "        vertical-align: middle;\n",
       "    }\n",
       "\n",
       "    .dataframe tbody tr th {\n",
       "        vertical-align: top;\n",
       "    }\n",
       "\n",
       "    .dataframe thead th {\n",
       "        text-align: right;\n",
       "    }\n",
       "</style>\n",
       "<table border=\"1\" class=\"dataframe\">\n",
       "  <thead>\n",
       "    <tr style=\"text-align: right;\">\n",
       "      <th></th>\n",
       "      <th>Emg1</th>\n",
       "      <th>Emg2</th>\n",
       "      <th>Emg3</th>\n",
       "      <th>Emg4</th>\n",
       "      <th>Emg5</th>\n",
       "      <th>Emg6</th>\n",
       "      <th>Emg7</th>\n",
       "      <th>Emg8</th>\n",
       "      <th>Emg9</th>\n",
       "      <th>Emg10</th>\n",
       "      <th>repetition</th>\n",
       "      <th>rerepetition</th>\n",
       "      <th>stimulus</th>\n",
       "      <th>restimulus</th>\n",
       "    </tr>\n",
       "  </thead>\n",
       "  <tbody>\n",
       "    <tr>\n",
       "      <th>count</th>\n",
       "      <td>471954.000000</td>\n",
       "      <td>471954.000000</td>\n",
       "      <td>471954.000000</td>\n",
       "      <td>471954.000000</td>\n",
       "      <td>471954.000000</td>\n",
       "      <td>471954.000000</td>\n",
       "      <td>471954.000000</td>\n",
       "      <td>471954.000000</td>\n",
       "      <td>471954.000000</td>\n",
       "      <td>471954.000000</td>\n",
       "      <td>471954.00000</td>\n",
       "      <td>471954.000000</td>\n",
       "      <td>471954.000000</td>\n",
       "      <td>471954.000000</td>\n",
       "    </tr>\n",
       "    <tr>\n",
       "      <th>mean</th>\n",
       "      <td>0.013238</td>\n",
       "      <td>0.124466</td>\n",
       "      <td>0.208024</td>\n",
       "      <td>0.141833</td>\n",
       "      <td>0.015772</td>\n",
       "      <td>0.059688</td>\n",
       "      <td>0.636016</td>\n",
       "      <td>0.367091</td>\n",
       "      <td>0.206164</td>\n",
       "      <td>0.431468</td>\n",
       "      <td>3.12302</td>\n",
       "      <td>2.421774</td>\n",
       "      <td>5.533450</td>\n",
       "      <td>4.205899</td>\n",
       "    </tr>\n",
       "    <tr>\n",
       "      <th>std</th>\n",
       "      <td>0.020766</td>\n",
       "      <td>0.298463</td>\n",
       "      <td>0.377703</td>\n",
       "      <td>0.343489</td>\n",
       "      <td>0.043786</td>\n",
       "      <td>0.115154</td>\n",
       "      <td>0.753703</td>\n",
       "      <td>0.530722</td>\n",
       "      <td>0.399797</td>\n",
       "      <td>0.639627</td>\n",
       "      <td>3.47991</td>\n",
       "      <td>3.343693</td>\n",
       "      <td>6.566056</td>\n",
       "      <td>6.198330</td>\n",
       "    </tr>\n",
       "    <tr>\n",
       "      <th>min</th>\n",
       "      <td>0.002400</td>\n",
       "      <td>0.000000</td>\n",
       "      <td>0.002400</td>\n",
       "      <td>0.000000</td>\n",
       "      <td>0.002400</td>\n",
       "      <td>0.000000</td>\n",
       "      <td>0.002400</td>\n",
       "      <td>0.002400</td>\n",
       "      <td>0.000000</td>\n",
       "      <td>0.000000</td>\n",
       "      <td>0.00000</td>\n",
       "      <td>0.000000</td>\n",
       "      <td>0.000000</td>\n",
       "      <td>0.000000</td>\n",
       "    </tr>\n",
       "    <tr>\n",
       "      <th>25%</th>\n",
       "      <td>0.002400</td>\n",
       "      <td>0.002400</td>\n",
       "      <td>0.002400</td>\n",
       "      <td>0.002400</td>\n",
       "      <td>0.002400</td>\n",
       "      <td>0.002400</td>\n",
       "      <td>0.112300</td>\n",
       "      <td>0.083000</td>\n",
       "      <td>0.002400</td>\n",
       "      <td>0.019500</td>\n",
       "      <td>0.00000</td>\n",
       "      <td>0.000000</td>\n",
       "      <td>0.000000</td>\n",
       "      <td>0.000000</td>\n",
       "    </tr>\n",
       "    <tr>\n",
       "      <th>50%</th>\n",
       "      <td>0.004900</td>\n",
       "      <td>0.002400</td>\n",
       "      <td>0.026900</td>\n",
       "      <td>0.002400</td>\n",
       "      <td>0.002400</td>\n",
       "      <td>0.022000</td>\n",
       "      <td>0.407700</td>\n",
       "      <td>0.173300</td>\n",
       "      <td>0.014600</td>\n",
       "      <td>0.207500</td>\n",
       "      <td>2.00000</td>\n",
       "      <td>0.000000</td>\n",
       "      <td>3.000000</td>\n",
       "      <td>0.000000</td>\n",
       "    </tr>\n",
       "    <tr>\n",
       "      <th>75%</th>\n",
       "      <td>0.014600</td>\n",
       "      <td>0.087900</td>\n",
       "      <td>0.271000</td>\n",
       "      <td>0.134300</td>\n",
       "      <td>0.004900</td>\n",
       "      <td>0.068400</td>\n",
       "      <td>0.869100</td>\n",
       "      <td>0.407700</td>\n",
       "      <td>0.258800</td>\n",
       "      <td>0.576200</td>\n",
       "      <td>6.00000</td>\n",
       "      <td>5.000000</td>\n",
       "      <td>10.000000</td>\n",
       "      <td>8.000000</td>\n",
       "    </tr>\n",
       "    <tr>\n",
       "      <th>max</th>\n",
       "      <td>0.439500</td>\n",
       "      <td>4.668000</td>\n",
       "      <td>4.660600</td>\n",
       "      <td>4.665500</td>\n",
       "      <td>1.008300</td>\n",
       "      <td>2.297400</td>\n",
       "      <td>4.668000</td>\n",
       "      <td>4.668000</td>\n",
       "      <td>4.663100</td>\n",
       "      <td>4.665500</td>\n",
       "      <td>10.00000</td>\n",
       "      <td>10.000000</td>\n",
       "      <td>23.000000</td>\n",
       "      <td>23.000000</td>\n",
       "    </tr>\n",
       "  </tbody>\n",
       "</table>\n",
       "</div>"
      ],
      "text/plain": [
       "                Emg1           Emg2           Emg3           Emg4  \\\n",
       "count  471954.000000  471954.000000  471954.000000  471954.000000   \n",
       "mean        0.013238       0.124466       0.208024       0.141833   \n",
       "std         0.020766       0.298463       0.377703       0.343489   \n",
       "min         0.002400       0.000000       0.002400       0.000000   \n",
       "25%         0.002400       0.002400       0.002400       0.002400   \n",
       "50%         0.004900       0.002400       0.026900       0.002400   \n",
       "75%         0.014600       0.087900       0.271000       0.134300   \n",
       "max         0.439500       4.668000       4.660600       4.665500   \n",
       "\n",
       "                Emg5           Emg6           Emg7           Emg8  \\\n",
       "count  471954.000000  471954.000000  471954.000000  471954.000000   \n",
       "mean        0.015772       0.059688       0.636016       0.367091   \n",
       "std         0.043786       0.115154       0.753703       0.530722   \n",
       "min         0.002400       0.000000       0.002400       0.002400   \n",
       "25%         0.002400       0.002400       0.112300       0.083000   \n",
       "50%         0.002400       0.022000       0.407700       0.173300   \n",
       "75%         0.004900       0.068400       0.869100       0.407700   \n",
       "max         1.008300       2.297400       4.668000       4.668000   \n",
       "\n",
       "                Emg9          Emg10    repetition   rerepetition  \\\n",
       "count  471954.000000  471954.000000  471954.00000  471954.000000   \n",
       "mean        0.206164       0.431468       3.12302       2.421774   \n",
       "std         0.399797       0.639627       3.47991       3.343693   \n",
       "min         0.000000       0.000000       0.00000       0.000000   \n",
       "25%         0.002400       0.019500       0.00000       0.000000   \n",
       "50%         0.014600       0.207500       2.00000       0.000000   \n",
       "75%         0.258800       0.576200       6.00000       5.000000   \n",
       "max         4.663100       4.665500      10.00000      10.000000   \n",
       "\n",
       "            stimulus     restimulus  \n",
       "count  471954.000000  471954.000000  \n",
       "mean        5.533450       4.205899  \n",
       "std         6.566056       6.198330  \n",
       "min         0.000000       0.000000  \n",
       "25%         0.000000       0.000000  \n",
       "50%         3.000000       0.000000  \n",
       "75%        10.000000       8.000000  \n",
       "max        23.000000      23.000000  "
      ]
     },
     "execution_count": 4,
     "metadata": {},
     "output_type": "execute_result"
    }
   ],
   "source": [
    "raw_data.describe(include='all')"
   ]
  },
  {
   "cell_type": "code",
   "execution_count": 5,
   "id": "f0b9a2e6",
   "metadata": {},
   "outputs": [
    {
     "name": "stdout",
     "output_type": "stream",
     "text": [
      "Unique Dependent values and their counts :\n",
      "0     204010\n",
      "12     15511\n",
      "2      15503\n",
      "4      15497\n",
      "7      15497\n",
      "8      15487\n",
      "5      15459\n",
      "9      15459\n",
      "6      15456\n",
      "11     15450\n",
      "1      15421\n",
      "10     15415\n",
      "3      15414\n",
      "14     10334\n",
      "17     10327\n",
      "13     10324\n",
      "15     10290\n",
      "16     10246\n",
      "21      5165\n",
      "18      5161\n",
      "19      5161\n",
      "22      5125\n",
      "20      5121\n",
      "23      5121\n",
      "Name: stimulus, dtype: int64\n"
     ]
    }
   ],
   "source": [
    "print(\"Unique Dependent values and their counts :\")\n",
    "print(raw_data[\"stimulus\"].value_counts())"
   ]
  },
  {
   "cell_type": "markdown",
   "id": "54420ec4",
   "metadata": {},
   "source": [
    "# Data Cleaning"
   ]
  },
  {
   "cell_type": "code",
   "execution_count": 6,
   "id": "a811198b",
   "metadata": {},
   "outputs": [],
   "source": [
    "index_names = raw_data[ (raw_data['stimulus'] != raw_data['restimulus'])].index\n",
    "raw_data.drop(index_names, inplace = True)"
   ]
  },
  {
   "cell_type": "code",
   "execution_count": 7,
   "id": "556cd92f",
   "metadata": {},
   "outputs": [],
   "source": [
    "index_names = raw_data[ (raw_data['repetition'] != raw_data['rerepetition'])].index\n",
    "raw_data.drop(index_names, inplace = True)"
   ]
  },
  {
   "cell_type": "code",
   "execution_count": 8,
   "id": "c91744f7",
   "metadata": {},
   "outputs": [],
   "source": [
    "X = raw_data.iloc[:,0:10]\n",
    "y = raw_data.stimulus"
   ]
  },
  {
   "cell_type": "markdown",
   "id": "152f7160",
   "metadata": {},
   "source": [
    "# One Hot Encoding"
   ]
  },
  {
   "cell_type": "code",
   "execution_count": 9,
   "id": "dfb77d24",
   "metadata": {},
   "outputs": [],
   "source": [
    "num_classes = 24"
   ]
  },
  {
   "cell_type": "code",
   "execution_count": 10,
   "id": "be64bf6b",
   "metadata": {},
   "outputs": [],
   "source": [
    "# One hot encoding for categorical labels\n",
    "import keras\n",
    "from keras import utils as np_utils\n",
    "y = keras.utils.np_utils.to_categorical(y, num_classes)"
   ]
  },
  {
   "cell_type": "code",
   "execution_count": 11,
   "id": "c7358f86",
   "metadata": {},
   "outputs": [],
   "source": [
    "input_dim = X.shape[1]"
   ]
  },
  {
   "cell_type": "markdown",
   "id": "cb3088a1",
   "metadata": {},
   "source": [
    "# Standard Scaler"
   ]
  },
  {
   "cell_type": "code",
   "execution_count": 12,
   "id": "5bd820f4",
   "metadata": {},
   "outputs": [],
   "source": [
    "from sklearn.preprocessing import StandardScaler\n",
    "standardscaler=StandardScaler()"
   ]
  },
  {
   "cell_type": "code",
   "execution_count": 13,
   "id": "6a118694",
   "metadata": {},
   "outputs": [],
   "source": [
    "sc = pd.DataFrame(standardscaler.fit_transform(X))"
   ]
  },
  {
   "cell_type": "code",
   "execution_count": 14,
   "id": "d6e2f38b",
   "metadata": {},
   "outputs": [
    {
     "data": {
      "text/html": [
       "<div>\n",
       "<style scoped>\n",
       "    .dataframe tbody tr th:only-of-type {\n",
       "        vertical-align: middle;\n",
       "    }\n",
       "\n",
       "    .dataframe tbody tr th {\n",
       "        vertical-align: top;\n",
       "    }\n",
       "\n",
       "    .dataframe thead th {\n",
       "        text-align: right;\n",
       "    }\n",
       "</style>\n",
       "<table border=\"1\" class=\"dataframe\">\n",
       "  <thead>\n",
       "    <tr style=\"text-align: right;\">\n",
       "      <th></th>\n",
       "      <th>0</th>\n",
       "      <th>1</th>\n",
       "      <th>2</th>\n",
       "      <th>3</th>\n",
       "      <th>4</th>\n",
       "      <th>5</th>\n",
       "      <th>6</th>\n",
       "      <th>7</th>\n",
       "      <th>8</th>\n",
       "      <th>9</th>\n",
       "    </tr>\n",
       "  </thead>\n",
       "  <tbody>\n",
       "    <tr>\n",
       "      <th>0</th>\n",
       "      <td>1.361420</td>\n",
       "      <td>-0.435622</td>\n",
       "      <td>-0.576924</td>\n",
       "      <td>-0.429891</td>\n",
       "      <td>-0.279189</td>\n",
       "      <td>-0.016695</td>\n",
       "      <td>-0.650775</td>\n",
       "      <td>-0.707053</td>\n",
       "      <td>-0.542308</td>\n",
       "      <td>-0.664011</td>\n",
       "    </tr>\n",
       "    <tr>\n",
       "      <th>1</th>\n",
       "      <td>1.245828</td>\n",
       "      <td>-0.435622</td>\n",
       "      <td>-0.576924</td>\n",
       "      <td>-0.429891</td>\n",
       "      <td>-0.332237</td>\n",
       "      <td>-0.056496</td>\n",
       "      <td>-0.669103</td>\n",
       "      <td>-0.707053</td>\n",
       "      <td>-0.542308</td>\n",
       "      <td>-0.671213</td>\n",
       "    </tr>\n",
       "    <tr>\n",
       "      <th>2</th>\n",
       "      <td>1.009829</td>\n",
       "      <td>-0.435622</td>\n",
       "      <td>-0.576924</td>\n",
       "      <td>-0.429891</td>\n",
       "      <td>-0.332237</td>\n",
       "      <td>-0.096296</td>\n",
       "      <td>-0.656927</td>\n",
       "      <td>-0.702635</td>\n",
       "      <td>-0.542308</td>\n",
       "      <td>-0.671213</td>\n",
       "    </tr>\n",
       "    <tr>\n",
       "      <th>3</th>\n",
       "      <td>0.773830</td>\n",
       "      <td>-0.435622</td>\n",
       "      <td>-0.576924</td>\n",
       "      <td>-0.429891</td>\n",
       "      <td>-0.332237</td>\n",
       "      <td>-0.115790</td>\n",
       "      <td>-0.635460</td>\n",
       "      <td>-0.702635</td>\n",
       "      <td>-0.542308</td>\n",
       "      <td>-0.667686</td>\n",
       "    </tr>\n",
       "    <tr>\n",
       "      <th>4</th>\n",
       "      <td>0.537831</td>\n",
       "      <td>-0.435622</td>\n",
       "      <td>-0.576924</td>\n",
       "      <td>-0.429891</td>\n",
       "      <td>-0.332237</td>\n",
       "      <td>-0.016695</td>\n",
       "      <td>-0.592528</td>\n",
       "      <td>-0.698394</td>\n",
       "      <td>-0.542308</td>\n",
       "      <td>-0.667686</td>\n",
       "    </tr>\n",
       "    <tr>\n",
       "      <th>...</th>\n",
       "      <td>...</td>\n",
       "      <td>...</td>\n",
       "      <td>...</td>\n",
       "      <td>...</td>\n",
       "      <td>...</td>\n",
       "      <td>...</td>\n",
       "      <td>...</td>\n",
       "      <td>...</td>\n",
       "      <td>...</td>\n",
       "      <td>...</td>\n",
       "    </tr>\n",
       "    <tr>\n",
       "      <th>398478</th>\n",
       "      <td>-0.521757</td>\n",
       "      <td>-0.435622</td>\n",
       "      <td>-0.576924</td>\n",
       "      <td>-0.429891</td>\n",
       "      <td>-0.332237</td>\n",
       "      <td>-0.433382</td>\n",
       "      <td>-0.056248</td>\n",
       "      <td>-0.495547</td>\n",
       "      <td>-0.542308</td>\n",
       "      <td>-0.043327</td>\n",
       "    </tr>\n",
       "    <tr>\n",
       "      <th>398479</th>\n",
       "      <td>-0.521757</td>\n",
       "      <td>-0.435622</td>\n",
       "      <td>-0.576924</td>\n",
       "      <td>-0.429891</td>\n",
       "      <td>-0.332237</td>\n",
       "      <td>-0.413888</td>\n",
       "      <td>-0.111357</td>\n",
       "      <td>-0.512863</td>\n",
       "      <td>-0.542308</td>\n",
       "      <td>-0.089919</td>\n",
       "    </tr>\n",
       "    <tr>\n",
       "      <th>398480</th>\n",
       "      <td>-0.521757</td>\n",
       "      <td>-0.435622</td>\n",
       "      <td>-0.576924</td>\n",
       "      <td>-0.429891</td>\n",
       "      <td>-0.332237</td>\n",
       "      <td>-0.433382</td>\n",
       "      <td>-0.117509</td>\n",
       "      <td>-0.517104</td>\n",
       "      <td>-0.542308</td>\n",
       "      <td>-0.104322</td>\n",
       "    </tr>\n",
       "    <tr>\n",
       "      <th>398481</th>\n",
       "      <td>-0.521757</td>\n",
       "      <td>-0.435622</td>\n",
       "      <td>-0.576924</td>\n",
       "      <td>-0.429891</td>\n",
       "      <td>-0.332237</td>\n",
       "      <td>-0.374087</td>\n",
       "      <td>-0.059261</td>\n",
       "      <td>-0.491306</td>\n",
       "      <td>-0.542308</td>\n",
       "      <td>-0.064785</td>\n",
       "    </tr>\n",
       "    <tr>\n",
       "      <th>398482</th>\n",
       "      <td>-0.521757</td>\n",
       "      <td>-0.435622</td>\n",
       "      <td>-0.576924</td>\n",
       "      <td>-0.429891</td>\n",
       "      <td>-0.332237</td>\n",
       "      <td>-0.353781</td>\n",
       "      <td>0.023466</td>\n",
       "      <td>-0.486889</td>\n",
       "      <td>-0.542308</td>\n",
       "      <td>-0.010992</td>\n",
       "    </tr>\n",
       "  </tbody>\n",
       "</table>\n",
       "<p>398483 rows × 10 columns</p>\n",
       "</div>"
      ],
      "text/plain": [
       "               0         1         2         3         4         5         6  \\\n",
       "0       1.361420 -0.435622 -0.576924 -0.429891 -0.279189 -0.016695 -0.650775   \n",
       "1       1.245828 -0.435622 -0.576924 -0.429891 -0.332237 -0.056496 -0.669103   \n",
       "2       1.009829 -0.435622 -0.576924 -0.429891 -0.332237 -0.096296 -0.656927   \n",
       "3       0.773830 -0.435622 -0.576924 -0.429891 -0.332237 -0.115790 -0.635460   \n",
       "4       0.537831 -0.435622 -0.576924 -0.429891 -0.332237 -0.016695 -0.592528   \n",
       "...          ...       ...       ...       ...       ...       ...       ...   \n",
       "398478 -0.521757 -0.435622 -0.576924 -0.429891 -0.332237 -0.433382 -0.056248   \n",
       "398479 -0.521757 -0.435622 -0.576924 -0.429891 -0.332237 -0.413888 -0.111357   \n",
       "398480 -0.521757 -0.435622 -0.576924 -0.429891 -0.332237 -0.433382 -0.117509   \n",
       "398481 -0.521757 -0.435622 -0.576924 -0.429891 -0.332237 -0.374087 -0.059261   \n",
       "398482 -0.521757 -0.435622 -0.576924 -0.429891 -0.332237 -0.353781  0.023466   \n",
       "\n",
       "               7         8         9  \n",
       "0      -0.707053 -0.542308 -0.664011  \n",
       "1      -0.707053 -0.542308 -0.671213  \n",
       "2      -0.702635 -0.542308 -0.671213  \n",
       "3      -0.702635 -0.542308 -0.667686  \n",
       "4      -0.698394 -0.542308 -0.667686  \n",
       "...          ...       ...       ...  \n",
       "398478 -0.495547 -0.542308 -0.043327  \n",
       "398479 -0.512863 -0.542308 -0.089919  \n",
       "398480 -0.517104 -0.542308 -0.104322  \n",
       "398481 -0.491306 -0.542308 -0.064785  \n",
       "398482 -0.486889 -0.542308 -0.010992  \n",
       "\n",
       "[398483 rows x 10 columns]"
      ]
     },
     "execution_count": 14,
     "metadata": {},
     "output_type": "execute_result"
    }
   ],
   "source": [
    "sc"
   ]
  },
  {
   "cell_type": "code",
   "execution_count": 15,
   "id": "65cfb75d",
   "metadata": {},
   "outputs": [],
   "source": [
    "# Splitting data for training and testing\n",
    "X_train, X_test, y_train, y_test = train_test_split(sc, y, test_size = 0.2, random_state = 39)"
   ]
  },
  {
   "cell_type": "markdown",
   "id": "3ba47781",
   "metadata": {},
   "source": [
    "# Deep Learning "
   ]
  },
  {
   "cell_type": "code",
   "execution_count": 16,
   "id": "d426e2e1",
   "metadata": {},
   "outputs": [],
   "source": [
    "from sklearn.preprocessing import MinMaxScaler\n",
    "from tensorflow.keras.models import Model\n",
    "from tensorflow.keras.layers import Input\n",
    "from tensorflow.keras.layers import Dense\n",
    "from tensorflow.keras.layers import LeakyReLU,ELU\n",
    "from tensorflow.keras.layers import BatchNormalization\n",
    "from tensorflow.keras.utils import plot_model\n",
    "import tensorflow as tf\n",
    "from sklearn.model_selection import cross_val_score\n",
    "from keras.models import Sequential\n",
    "from keras.layers import Dense, BatchNormalization, Dropout\n",
    "from tensorflow.keras.optimizers import Adam, SGD, RMSprop, Adadelta, Adagrad, Adamax, Nadam, Ftrl\n",
    "from keras.callbacks import EarlyStopping, ModelCheckpoint\n",
    "from keras.wrappers.scikit_learn import KerasClassifier\n",
    "from sklearn.metrics import make_scorer, accuracy_score\n",
    "from sklearn.model_selection import StratifiedKFold"
   ]
  },
  {
   "cell_type": "code",
   "execution_count": 17,
   "id": "cd0ef208",
   "metadata": {},
   "outputs": [],
   "source": [
    "from keras.layers import LeakyReLU\n",
    "LeakyReLU = LeakyReLU(alpha=0.1)\n",
    "from keras.models import Sequential\n",
    "from keras.layers import Dense, Flatten, Convolution1D, Dropout\n",
    "from keras.initializers import random_uniform"
   ]
  },
  {
   "cell_type": "markdown",
   "id": "f97d61bc",
   "metadata": {},
   "source": [
    "# 1. Define Network"
   ]
  },
  {
   "cell_type": "code",
   "execution_count": 18,
   "id": "bd77bf81",
   "metadata": {},
   "outputs": [],
   "source": [
    "num_classes = 24\n",
    "input_dim = X.shape[1]"
   ]
  },
  {
   "cell_type": "code",
   "execution_count": 19,
   "id": "fbdce465",
   "metadata": {},
   "outputs": [],
   "source": [
    "visible = Input(shape=(input_dim,))\n",
    "hidden1 = Dense(3000, activation='relu')(visible)\n",
    "hidden2 = Dense(1500, activation='relu')(hidden1)\n",
    "hidden3 = Dropout(0.2)(hidden2)\n",
    "hidden4 = Dense(750, activation='relu')(hidden3)\n",
    "hidden5 = Dense(375, activation='relu')(hidden4)\n",
    "hidden6 = Dense(48, activation='relu')(hidden5)\n",
    "output = Dense(num_classes, activation='softmax')(hidden6)\n",
    "model = Model(inputs=visible, outputs=output)"
   ]
  },
  {
   "cell_type": "code",
   "execution_count": 20,
   "id": "1dd33478",
   "metadata": {},
   "outputs": [
    {
     "name": "stdout",
     "output_type": "stream",
     "text": [
      "Model: \"model\"\n",
      "_________________________________________________________________\n",
      " Layer (type)                Output Shape              Param #   \n",
      "=================================================================\n",
      " input_1 (InputLayer)        [(None, 10)]              0         \n",
      "                                                                 \n",
      " dense (Dense)               (None, 3000)              33000     \n",
      "                                                                 \n",
      " dense_1 (Dense)             (None, 1500)              4501500   \n",
      "                                                                 \n",
      " dropout (Dropout)           (None, 1500)              0         \n",
      "                                                                 \n",
      " dense_2 (Dense)             (None, 750)               1125750   \n",
      "                                                                 \n",
      " dense_3 (Dense)             (None, 375)               281625    \n",
      "                                                                 \n",
      " dense_4 (Dense)             (None, 48)                18048     \n",
      "                                                                 \n",
      " dense_5 (Dense)             (None, 24)                1176      \n",
      "                                                                 \n",
      "=================================================================\n",
      "Total params: 5,961,099\n",
      "Trainable params: 5,961,099\n",
      "Non-trainable params: 0\n",
      "_________________________________________________________________\n"
     ]
    }
   ],
   "source": [
    "model.summary()"
   ]
  },
  {
   "cell_type": "markdown",
   "id": "3196ac97",
   "metadata": {},
   "source": [
    "# 2. Compile Network"
   ]
  },
  {
   "cell_type": "code",
   "execution_count": 21,
   "id": "7a2d558b",
   "metadata": {},
   "outputs": [],
   "source": [
    "model.compile(optimizer='adam', loss='categorical_crossentropy', metrics=['accuracy'])"
   ]
  },
  {
   "cell_type": "code",
   "execution_count": 22,
   "id": "c1d2b36d",
   "metadata": {},
   "outputs": [
    {
     "name": "stdout",
     "output_type": "stream",
     "text": [
      "You must install pydot (`pip install pydot`) and install graphviz (see instructions at https://graphviz.gitlab.io/download/) for plot_model/model_to_dot to work.\n"
     ]
    }
   ],
   "source": [
    "plot_model(model, 'EMG_ANN', show_shapes = True)"
   ]
  },
  {
   "cell_type": "markdown",
   "id": "3358b592",
   "metadata": {},
   "source": [
    "# 3. Fit Network"
   ]
  },
  {
   "cell_type": "code",
   "execution_count": 23,
   "id": "e0ed4ddd",
   "metadata": {},
   "outputs": [
    {
     "name": "stdout",
     "output_type": "stream",
     "text": [
      "Epoch 1/100\n",
      "79/79 [==============================] - 3s 28ms/step - loss: 1.3664 - accuracy: 0.6287 - val_loss: 0.9454 - val_accuracy: 0.7230\n",
      "Epoch 2/100\n",
      "79/79 [==============================] - 2s 26ms/step - loss: 0.8500 - accuracy: 0.7476 - val_loss: 0.7597 - val_accuracy: 0.7729\n",
      "Epoch 3/100\n",
      "79/79 [==============================] - 2s 25ms/step - loss: 0.7118 - accuracy: 0.7848 - val_loss: 0.6909 - val_accuracy: 0.7911\n",
      "Epoch 4/100\n",
      "79/79 [==============================] - 2s 26ms/step - loss: 0.6367 - accuracy: 0.8051 - val_loss: 0.5899 - val_accuracy: 0.8172\n",
      "Epoch 5/100\n",
      "79/79 [==============================] - 2s 26ms/step - loss: 0.5819 - accuracy: 0.8201 - val_loss: 0.5657 - val_accuracy: 0.8246\n",
      "Epoch 6/100\n",
      "79/79 [==============================] - 2s 25ms/step - loss: 0.5460 - accuracy: 0.8305 - val_loss: 0.5184 - val_accuracy: 0.8371\n",
      "Epoch 7/100\n",
      "79/79 [==============================] - 2s 26ms/step - loss: 0.5096 - accuracy: 0.8394 - val_loss: 0.4876 - val_accuracy: 0.8444\n",
      "Epoch 8/100\n",
      "79/79 [==============================] - 2s 25ms/step - loss: 0.4836 - accuracy: 0.8474 - val_loss: 0.4587 - val_accuracy: 0.8545\n",
      "Epoch 9/100\n",
      "79/79 [==============================] - 2s 26ms/step - loss: 0.4576 - accuracy: 0.8544 - val_loss: 0.4484 - val_accuracy: 0.8580\n",
      "Epoch 10/100\n",
      "79/79 [==============================] - 2s 26ms/step - loss: 0.4453 - accuracy: 0.8581 - val_loss: 0.4301 - val_accuracy: 0.8622\n",
      "Epoch 11/100\n",
      "79/79 [==============================] - 2s 25ms/step - loss: 0.4211 - accuracy: 0.8648 - val_loss: 0.4270 - val_accuracy: 0.8624\n",
      "Epoch 12/100\n",
      "79/79 [==============================] - 2s 26ms/step - loss: 0.4070 - accuracy: 0.8694 - val_loss: 0.4002 - val_accuracy: 0.8722\n",
      "Epoch 13/100\n",
      "79/79 [==============================] - 2s 25ms/step - loss: 0.3950 - accuracy: 0.8728 - val_loss: 0.3846 - val_accuracy: 0.8771\n",
      "Epoch 14/100\n",
      "79/79 [==============================] - 2s 25ms/step - loss: 0.3789 - accuracy: 0.8776 - val_loss: 0.3906 - val_accuracy: 0.8768\n",
      "Epoch 15/100\n",
      "79/79 [==============================] - 2s 26ms/step - loss: 0.3682 - accuracy: 0.8808 - val_loss: 0.3628 - val_accuracy: 0.8826\n",
      "Epoch 16/100\n",
      "79/79 [==============================] - 2s 25ms/step - loss: 0.3581 - accuracy: 0.8833 - val_loss: 0.3527 - val_accuracy: 0.8857\n",
      "Epoch 17/100\n",
      "79/79 [==============================] - 2s 25ms/step - loss: 0.3414 - accuracy: 0.8886 - val_loss: 0.3560 - val_accuracy: 0.8881\n",
      "Epoch 18/100\n",
      "79/79 [==============================] - 2s 25ms/step - loss: 0.3366 - accuracy: 0.8903 - val_loss: 0.3440 - val_accuracy: 0.8878\n",
      "Epoch 19/100\n",
      "79/79 [==============================] - 2s 27ms/step - loss: 0.3264 - accuracy: 0.8939 - val_loss: 0.3333 - val_accuracy: 0.8908\n",
      "Epoch 20/100\n",
      "79/79 [==============================] - 2s 25ms/step - loss: 0.3222 - accuracy: 0.8948 - val_loss: 0.3377 - val_accuracy: 0.8939\n",
      "Epoch 21/100\n",
      "79/79 [==============================] - 2s 26ms/step - loss: 0.3139 - accuracy: 0.8974 - val_loss: 0.3150 - val_accuracy: 0.8975\n",
      "Epoch 22/100\n",
      "79/79 [==============================] - 2s 27ms/step - loss: 0.3045 - accuracy: 0.9003 - val_loss: 0.3150 - val_accuracy: 0.8971\n",
      "Epoch 23/100\n",
      "79/79 [==============================] - 2s 26ms/step - loss: 0.2948 - accuracy: 0.9033 - val_loss: 0.3083 - val_accuracy: 0.9008\n",
      "Epoch 24/100\n",
      "79/79 [==============================] - 2s 26ms/step - loss: 0.2880 - accuracy: 0.9056 - val_loss: 0.3064 - val_accuracy: 0.9000\n",
      "Epoch 25/100\n",
      "79/79 [==============================] - 2s 27ms/step - loss: 0.2825 - accuracy: 0.9073 - val_loss: 0.2998 - val_accuracy: 0.9036\n",
      "Epoch 26/100\n",
      "79/79 [==============================] - 2s 26ms/step - loss: 0.2778 - accuracy: 0.9089 - val_loss: 0.2935 - val_accuracy: 0.9054\n",
      "Epoch 27/100\n",
      "79/79 [==============================] - 2s 27ms/step - loss: 0.2708 - accuracy: 0.9107 - val_loss: 0.3006 - val_accuracy: 0.9033\n",
      "Epoch 28/100\n",
      "79/79 [==============================] - 2s 25ms/step - loss: 0.2693 - accuracy: 0.9116 - val_loss: 0.2910 - val_accuracy: 0.9059\n",
      "Epoch 29/100\n",
      "79/79 [==============================] - 2s 27ms/step - loss: 0.2644 - accuracy: 0.9132 - val_loss: 0.2798 - val_accuracy: 0.9088\n",
      "Epoch 30/100\n",
      "79/79 [==============================] - 2s 26ms/step - loss: 0.2569 - accuracy: 0.9155 - val_loss: 0.2863 - val_accuracy: 0.9082\n",
      "Epoch 31/100\n",
      "79/79 [==============================] - 2s 25ms/step - loss: 0.2520 - accuracy: 0.9169 - val_loss: 0.2631 - val_accuracy: 0.9149\n",
      "Epoch 32/100\n",
      "79/79 [==============================] - 2s 26ms/step - loss: 0.2487 - accuracy: 0.9182 - val_loss: 0.2671 - val_accuracy: 0.9122\n",
      "Epoch 33/100\n",
      "79/79 [==============================] - 2s 26ms/step - loss: 0.2407 - accuracy: 0.9204 - val_loss: 0.2615 - val_accuracy: 0.9147\n",
      "Epoch 34/100\n",
      "79/79 [==============================] - 2s 26ms/step - loss: 0.2357 - accuracy: 0.9221 - val_loss: 0.2526 - val_accuracy: 0.9170\n",
      "Epoch 35/100\n",
      "79/79 [==============================] - 2s 26ms/step - loss: 0.2357 - accuracy: 0.9226 - val_loss: 0.2535 - val_accuracy: 0.9176\n",
      "Epoch 36/100\n",
      "79/79 [==============================] - 2s 26ms/step - loss: 0.2315 - accuracy: 0.9236 - val_loss: 0.2515 - val_accuracy: 0.9177\n",
      "Epoch 37/100\n",
      "79/79 [==============================] - 2s 26ms/step - loss: 0.2267 - accuracy: 0.9252 - val_loss: 0.2548 - val_accuracy: 0.9178\n",
      "Epoch 38/100\n",
      "79/79 [==============================] - 2s 26ms/step - loss: 0.2252 - accuracy: 0.9253 - val_loss: 0.2492 - val_accuracy: 0.9195\n",
      "Epoch 39/100\n",
      "79/79 [==============================] - 2s 26ms/step - loss: 0.2198 - accuracy: 0.9274 - val_loss: 0.2460 - val_accuracy: 0.9200\n",
      "Epoch 40/100\n",
      "79/79 [==============================] - 2s 25ms/step - loss: 0.2182 - accuracy: 0.9279 - val_loss: 0.2450 - val_accuracy: 0.9192\n",
      "Epoch 41/100\n",
      "79/79 [==============================] - 2s 26ms/step - loss: 0.2109 - accuracy: 0.9302 - val_loss: 0.2419 - val_accuracy: 0.9213\n",
      "Epoch 42/100\n",
      "79/79 [==============================] - 2s 26ms/step - loss: 0.2111 - accuracy: 0.9305 - val_loss: 0.2414 - val_accuracy: 0.9216\n",
      "Epoch 43/100\n",
      "79/79 [==============================] - 2s 25ms/step - loss: 0.2063 - accuracy: 0.9314 - val_loss: 0.2351 - val_accuracy: 0.9229\n",
      "Epoch 44/100\n",
      "79/79 [==============================] - 2s 25ms/step - loss: 0.2025 - accuracy: 0.9326 - val_loss: 0.2375 - val_accuracy: 0.9231\n",
      "Epoch 45/100\n",
      "79/79 [==============================] - 2s 25ms/step - loss: 0.2007 - accuracy: 0.9335 - val_loss: 0.2255 - val_accuracy: 0.9263\n",
      "Epoch 46/100\n",
      "79/79 [==============================] - 2s 25ms/step - loss: 0.1992 - accuracy: 0.9342 - val_loss: 0.2393 - val_accuracy: 0.9224\n",
      "Epoch 47/100\n",
      "79/79 [==============================] - 2s 25ms/step - loss: 0.1975 - accuracy: 0.9344 - val_loss: 0.2338 - val_accuracy: 0.9242\n",
      "Epoch 48/100\n",
      "79/79 [==============================] - 2s 25ms/step - loss: 0.1973 - accuracy: 0.9349 - val_loss: 0.2315 - val_accuracy: 0.9257\n",
      "Epoch 49/100\n",
      "79/79 [==============================] - 2s 25ms/step - loss: 0.1917 - accuracy: 0.9368 - val_loss: 0.2199 - val_accuracy: 0.9286\n",
      "Epoch 50/100\n",
      "79/79 [==============================] - 2s 25ms/step - loss: 0.1876 - accuracy: 0.9378 - val_loss: 0.2300 - val_accuracy: 0.9256\n",
      "Epoch 51/100\n",
      "79/79 [==============================] - 2s 25ms/step - loss: 0.1864 - accuracy: 0.9382 - val_loss: 0.2146 - val_accuracy: 0.9306\n",
      "Epoch 52/100\n",
      "79/79 [==============================] - 2s 25ms/step - loss: 0.1809 - accuracy: 0.9400 - val_loss: 0.2199 - val_accuracy: 0.9292\n",
      "Epoch 53/100\n",
      "79/79 [==============================] - 2s 25ms/step - loss: 0.1831 - accuracy: 0.9392 - val_loss: 0.2102 - val_accuracy: 0.9333\n",
      "Epoch 54/100\n",
      "79/79 [==============================] - 2s 25ms/step - loss: 0.1827 - accuracy: 0.9396 - val_loss: 0.2064 - val_accuracy: 0.9331\n",
      "Epoch 55/100\n",
      "79/79 [==============================] - 2s 25ms/step - loss: 0.1730 - accuracy: 0.9423 - val_loss: 0.2068 - val_accuracy: 0.9322\n",
      "Epoch 56/100\n",
      "79/79 [==============================] - 2s 25ms/step - loss: 0.1747 - accuracy: 0.9420 - val_loss: 0.2134 - val_accuracy: 0.9320\n",
      "Epoch 57/100\n",
      "79/79 [==============================] - 2s 25ms/step - loss: 0.1704 - accuracy: 0.9435 - val_loss: 0.2021 - val_accuracy: 0.9342\n",
      "Epoch 58/100\n"
     ]
    },
    {
     "name": "stdout",
     "output_type": "stream",
     "text": [
      "79/79 [==============================] - 2s 25ms/step - loss: 0.1701 - accuracy: 0.9437 - val_loss: 0.2277 - val_accuracy: 0.9298\n",
      "Epoch 59/100\n",
      "79/79 [==============================] - 2s 25ms/step - loss: 0.1750 - accuracy: 0.9426 - val_loss: 0.2050 - val_accuracy: 0.9344\n",
      "Epoch 60/100\n",
      "79/79 [==============================] - 2s 25ms/step - loss: 0.1702 - accuracy: 0.9438 - val_loss: 0.1993 - val_accuracy: 0.9356\n",
      "Epoch 61/100\n",
      "79/79 [==============================] - 2s 25ms/step - loss: 0.1647 - accuracy: 0.9453 - val_loss: 0.2032 - val_accuracy: 0.9347\n",
      "Epoch 62/100\n",
      "79/79 [==============================] - 2s 25ms/step - loss: 0.1604 - accuracy: 0.9469 - val_loss: 0.2003 - val_accuracy: 0.9349\n",
      "Epoch 63/100\n",
      "79/79 [==============================] - 2s 25ms/step - loss: 0.1605 - accuracy: 0.9468 - val_loss: 0.1996 - val_accuracy: 0.9360\n",
      "Epoch 64/100\n",
      "79/79 [==============================] - 2s 25ms/step - loss: 0.1636 - accuracy: 0.9458 - val_loss: 0.1941 - val_accuracy: 0.9381\n",
      "Epoch 65/100\n",
      "79/79 [==============================] - 2s 25ms/step - loss: 0.1608 - accuracy: 0.9469 - val_loss: 0.2013 - val_accuracy: 0.9341\n",
      "Epoch 66/100\n",
      "79/79 [==============================] - 2s 25ms/step - loss: 0.1574 - accuracy: 0.9478 - val_loss: 0.1988 - val_accuracy: 0.9353\n",
      "Epoch 67/100\n",
      "79/79 [==============================] - 2s 25ms/step - loss: 0.1572 - accuracy: 0.9482 - val_loss: 0.2139 - val_accuracy: 0.9330\n",
      "Epoch 68/100\n",
      "79/79 [==============================] - 2s 25ms/step - loss: 0.1543 - accuracy: 0.9488 - val_loss: 0.1956 - val_accuracy: 0.9393\n",
      "Epoch 69/100\n",
      "79/79 [==============================] - 2s 25ms/step - loss: 0.1501 - accuracy: 0.9502 - val_loss: 0.1996 - val_accuracy: 0.9359\n",
      "Epoch 70/100\n",
      "79/79 [==============================] - 2s 25ms/step - loss: 0.1516 - accuracy: 0.9498 - val_loss: 0.1885 - val_accuracy: 0.9401\n",
      "Epoch 71/100\n",
      "79/79 [==============================] - 2s 25ms/step - loss: 0.1497 - accuracy: 0.9503 - val_loss: 0.1861 - val_accuracy: 0.9409\n",
      "Epoch 72/100\n",
      "79/79 [==============================] - 2s 25ms/step - loss: 0.1475 - accuracy: 0.9511 - val_loss: 0.1909 - val_accuracy: 0.9398\n",
      "Epoch 73/100\n",
      "79/79 [==============================] - 2s 25ms/step - loss: 0.1439 - accuracy: 0.9521 - val_loss: 0.1960 - val_accuracy: 0.9374\n",
      "Epoch 74/100\n",
      "79/79 [==============================] - 2s 25ms/step - loss: 0.1473 - accuracy: 0.9510 - val_loss: 0.1913 - val_accuracy: 0.9384\n",
      "Epoch 75/100\n",
      "79/79 [==============================] - 2s 25ms/step - loss: 0.1433 - accuracy: 0.9524 - val_loss: 0.1861 - val_accuracy: 0.9409\n",
      "Epoch 76/100\n",
      "79/79 [==============================] - 2s 25ms/step - loss: 0.1456 - accuracy: 0.9518 - val_loss: 0.1828 - val_accuracy: 0.9405\n",
      "Epoch 77/100\n",
      "79/79 [==============================] - 2s 25ms/step - loss: 0.1423 - accuracy: 0.9527 - val_loss: 0.1952 - val_accuracy: 0.9386\n",
      "Epoch 78/100\n",
      "79/79 [==============================] - 2s 25ms/step - loss: 0.1404 - accuracy: 0.9533 - val_loss: 0.1929 - val_accuracy: 0.9397\n",
      "Epoch 79/100\n",
      "79/79 [==============================] - 2s 25ms/step - loss: 0.1388 - accuracy: 0.9540 - val_loss: 0.1818 - val_accuracy: 0.9430\n",
      "Epoch 80/100\n",
      "79/79 [==============================] - 2s 25ms/step - loss: 0.1393 - accuracy: 0.9536 - val_loss: 0.1812 - val_accuracy: 0.9431\n",
      "Epoch 81/100\n",
      "79/79 [==============================] - 2s 25ms/step - loss: 0.1347 - accuracy: 0.9552 - val_loss: 0.1797 - val_accuracy: 0.9428\n",
      "Epoch 82/100\n",
      "79/79 [==============================] - 2s 25ms/step - loss: 0.1365 - accuracy: 0.9545 - val_loss: 0.1760 - val_accuracy: 0.9438\n",
      "Epoch 83/100\n",
      "79/79 [==============================] - 2s 25ms/step - loss: 0.1353 - accuracy: 0.9554 - val_loss: 0.1895 - val_accuracy: 0.9405\n",
      "Epoch 84/100\n",
      "79/79 [==============================] - 2s 25ms/step - loss: 0.1328 - accuracy: 0.9560 - val_loss: 0.1745 - val_accuracy: 0.9438\n",
      "Epoch 85/100\n",
      "79/79 [==============================] - 2s 25ms/step - loss: 0.1360 - accuracy: 0.9553 - val_loss: 0.1830 - val_accuracy: 0.9421\n",
      "Epoch 86/100\n",
      "79/79 [==============================] - 2s 25ms/step - loss: 0.1298 - accuracy: 0.9572 - val_loss: 0.1828 - val_accuracy: 0.9422\n",
      "Epoch 87/100\n",
      "79/79 [==============================] - 2s 25ms/step - loss: 0.1314 - accuracy: 0.9564 - val_loss: 0.1774 - val_accuracy: 0.9439\n",
      "Epoch 88/100\n",
      "79/79 [==============================] - 2s 25ms/step - loss: 0.1310 - accuracy: 0.9566 - val_loss: 0.1755 - val_accuracy: 0.9447\n",
      "Epoch 89/100\n",
      "79/79 [==============================] - 2s 25ms/step - loss: 0.1236 - accuracy: 0.9587 - val_loss: 0.1778 - val_accuracy: 0.9439\n",
      "Epoch 90/100\n",
      "79/79 [==============================] - 2s 25ms/step - loss: 0.1364 - accuracy: 0.9550 - val_loss: 0.1741 - val_accuracy: 0.9459\n",
      "Epoch 91/100\n",
      "79/79 [==============================] - 2s 25ms/step - loss: 0.1264 - accuracy: 0.9582 - val_loss: 0.1732 - val_accuracy: 0.9454\n",
      "Epoch 92/100\n",
      "79/79 [==============================] - 2s 25ms/step - loss: 0.1257 - accuracy: 0.9579 - val_loss: 0.1744 - val_accuracy: 0.9448\n",
      "Epoch 93/100\n",
      "79/79 [==============================] - 2s 25ms/step - loss: 0.1290 - accuracy: 0.9574 - val_loss: 0.1781 - val_accuracy: 0.9439\n",
      "Epoch 94/100\n",
      "79/79 [==============================] - 2s 26ms/step - loss: 0.1290 - accuracy: 0.9576 - val_loss: 0.1860 - val_accuracy: 0.9421\n",
      "Epoch 95/100\n",
      "79/79 [==============================] - 2s 25ms/step - loss: 0.1258 - accuracy: 0.9581 - val_loss: 0.1711 - val_accuracy: 0.9451\n",
      "Epoch 96/100\n",
      "79/79 [==============================] - 2s 25ms/step - loss: 0.1192 - accuracy: 0.9604 - val_loss: 0.1692 - val_accuracy: 0.9469\n",
      "Epoch 97/100\n",
      "79/79 [==============================] - 2s 25ms/step - loss: 0.1217 - accuracy: 0.9598 - val_loss: 0.1737 - val_accuracy: 0.9465\n",
      "Epoch 98/100\n",
      "79/79 [==============================] - 2s 25ms/step - loss: 0.1173 - accuracy: 0.9612 - val_loss: 0.1801 - val_accuracy: 0.9441\n",
      "Epoch 99/100\n",
      "79/79 [==============================] - 2s 26ms/step - loss: 0.1171 - accuracy: 0.9610 - val_loss: 0.1743 - val_accuracy: 0.9467\n",
      "Epoch 100/100\n",
      "79/79 [==============================] - 2s 26ms/step - loss: 0.1183 - accuracy: 0.9609 - val_loss: 0.1704 - val_accuracy: 0.9473\n"
     ]
    }
   ],
   "source": [
    "history = model.fit(X_train, y_train, batch_size=4056, epochs=100, validation_data = (X_test, y_test))"
   ]
  },
  {
   "cell_type": "markdown",
   "id": "ffed59b1",
   "metadata": {},
   "source": [
    "# 4.Evaluate Network"
   ]
  },
  {
   "cell_type": "markdown",
   "id": "28731190",
   "metadata": {},
   "source": [
    "## 4.1. Plotting Loss and Accuracy"
   ]
  },
  {
   "cell_type": "code",
   "execution_count": 24,
   "id": "971e6040",
   "metadata": {},
   "outputs": [
    {
     "data": {
      "text/plain": [
       "Text(0.5, 1.0, 'Loss Curve of Deep Neural Netowork')"
      ]
     },
     "execution_count": 24,
     "metadata": {},
     "output_type": "execute_result"
    },
    {
     "data": {
      "image/png": "[encoded data removed]",
      "text/plain": [
       "<Figure size 432x288 with 1 Axes>"
      ]
     },
     "metadata": {
      "needs_background": "light"
     },
     "output_type": "display_data"
    }
   ],
   "source": [
    "#Loss Curve\n",
    "\n",
    "\n",
    "plt.plot(figsize = [8,6])\n",
    "\n",
    "plt.plot(history.history['loss'],'r',linewidth = 3.0)\n",
    "plt.plot(history.history['val_loss'],'b',linewidth = 3.0)\n",
    "\n",
    "plt.legend(['Training Loss', 'Validation Loss'], fontsize = 18)\n",
    "\n",
    "plt.xlabel('Epochs', fontsize = 16)\n",
    "plt.ylabel('Loss', fontsize = 16)\n",
    "\n",
    "plt.title('Loss Curve of Deep Neural Netowork' , fontsize = 16 )\n",
    "\n"
   ]
  },
  {
   "cell_type": "code",
   "execution_count": 25,
   "id": "b0c193ec",
   "metadata": {},
   "outputs": [
    {
     "data": {
      "text/plain": [
       "Text(0.5, 1.0, 'Accuracy Curve of Deep Neural Netowork')"
      ]
     },
     "execution_count": 25,
     "metadata": {},
     "output_type": "execute_result"
    },
    {
     "data": {
      "image/png": "[encoded data removed]",
      "text/plain": [
       "<Figure size 432x288 with 1 Axes>"
      ]
     },
     "metadata": {
      "needs_background": "light"
     },
     "output_type": "display_data"
    }
   ],
   "source": [
    "#Accuracy Curve\n",
    "\n",
    "plt.plot(figsize = [8,6])\n",
    "plt.plot(history.history['accuracy'],'r',linewidth = 3.0)\n",
    "plt.plot(history.history['val_accuracy'],'b',linewidth = 3.0)\n",
    "\n",
    "plt.legend(['Training Accuracy', 'Validation Accuracy'], fontsize = 18)\n",
    "\n",
    "plt.xlabel('Epochs', fontsize = 16)\n",
    "plt.ylabel('Accuracy', fontsize = 16)\n",
    "\n",
    "\n",
    "plt.title('Accuracy Curve of Deep Neural Netowork' , fontsize = 16 )"
   ]
  },
  {
   "cell_type": "markdown",
   "id": "741a02aa",
   "metadata": {},
   "source": [
    "##  4.2 Make Predictions"
   ]
  },
  {
   "cell_type": "code",
   "execution_count": 26,
   "id": "e8465627",
   "metadata": {},
   "outputs": [],
   "source": [
    "predictions = model.predict(X_test)\n",
    "predictions = np.argmax(predictions, axis = 1)"
   ]
  },
  {
   "cell_type": "code",
   "execution_count": 27,
   "id": "3cac1a50",
   "metadata": {},
   "outputs": [
    {
     "data": {
      "text/plain": [
       "array([ 0,  0,  0, ...,  0, 17,  0], dtype=int64)"
      ]
     },
     "execution_count": 27,
     "metadata": {},
     "output_type": "execute_result"
    }
   ],
   "source": [
    "predictions"
   ]
  },
  {
   "cell_type": "markdown",
   "id": "70d666bb",
   "metadata": {},
   "source": [
    "#### Transforming from One Hot Encoding"
   ]
  },
  {
   "cell_type": "code",
   "execution_count": 28,
   "id": "7234b6e7",
   "metadata": {},
   "outputs": [
    {
     "data": {
      "text/plain": [
       "0"
      ]
     },
     "execution_count": 28,
     "metadata": {},
     "output_type": "execute_result"
    }
   ],
   "source": [
    "y_test =np.argmax(y_test, axis=1)\n",
    "y_test[1]"
   ]
  },
  {
   "cell_type": "code",
   "execution_count": 29,
   "id": "6278820d",
   "metadata": {},
   "outputs": [
    {
     "name": "stdout",
     "output_type": "stream",
     "text": [
      "Accuracy is: 94.7262757694769\n"
     ]
    }
   ],
   "source": [
    "from sklearn.metrics import accuracy_score\n",
    "accuracy = {accuracy_score(y_test, predictions)}\n",
    "print(f\"Accuracy is: {accuracy_score(y_test, predictions)* 100}\")"
   ]
  },
  {
   "cell_type": "markdown",
   "id": "eb044ea1",
   "metadata": {},
   "source": [
    "## 4.3 Classification Report"
   ]
  },
  {
   "cell_type": "code",
   "execution_count": 30,
   "id": "001ebc5a",
   "metadata": {},
   "outputs": [
    {
     "name": "stdout",
     "output_type": "stream",
     "text": [
      "\u001b[1mClassification report : \u001b[0m\n",
      "               precision    recall  f1-score   support\n",
      "\n",
      "           0       0.95      0.98      0.97     39628\n",
      "           1       0.93      0.96      0.95      2491\n",
      "           2       0.95      0.91      0.93      2634\n",
      "           3       0.97      0.95      0.96      2229\n",
      "           4       0.97      0.96      0.96      2256\n",
      "           5       0.98      0.86      0.92      2081\n",
      "           6       0.97      0.94      0.95      2297\n",
      "           7       0.92      0.87      0.90      2369\n",
      "           8       0.94      0.92      0.93      2312\n",
      "           9       0.97      0.89      0.93      2453\n",
      "          10       0.93      0.95      0.94      2114\n",
      "          11       0.94      0.95      0.94      2359\n",
      "          12       0.94      0.91      0.93      2139\n",
      "          13       0.90      0.93      0.91      1545\n",
      "          14       0.87      0.86      0.87      1498\n",
      "          15       0.86      0.78      0.82      1513\n",
      "          16       0.93      0.95      0.94      1601\n",
      "          17       0.94      0.92      0.93      1565\n",
      "          18       0.90      0.87      0.89       803\n",
      "          19       0.90      0.82      0.86       830\n",
      "          20       0.98      0.95      0.96       805\n",
      "          21       0.98      0.93      0.95       687\n",
      "          22       0.97      0.95      0.96       664\n",
      "          23       0.98      0.97      0.97       824\n",
      "\n",
      "    accuracy                           0.95     79697\n",
      "   macro avg       0.94      0.92      0.93     79697\n",
      "weighted avg       0.95      0.95      0.95     79697\n",
      "\n",
      "\u001b[1mConfusion Matrix : \u001b[0m\n"
     ]
    },
    {
     "data": {
      "image/png": "[encoded data removed]",
      "text/plain": [
       "<Figure size 432x288 with 2 Axes>"
      ]
     },
     "metadata": {
      "needs_background": "light"
     },
     "output_type": "display_data"
    }
   ],
   "source": [
    "from sklearn.metrics import confusion_matrix, f1_score, accuracy_score, classification_report\n",
    "print('\\033[1m' +'Classification report : '+ '\\033[0m\\n', classification_report(y_test, predictions))\n",
    "\n",
    "cm = confusion_matrix(predictions, y_test)\n",
    "print('\\033[1m' +'Confusion Matrix : '+ '\\033[0m')\n",
    "sns.heatmap(cm, cmap = 'OrRd',annot = True, fmt='d')\n",
    "plt.show()"
   ]
  },
  {
   "cell_type": "markdown",
   "id": "eaa5e512",
   "metadata": {},
   "source": [
    "## 4.4 Evaluation"
   ]
  },
  {
   "cell_type": "code",
   "execution_count": 31,
   "id": "9e469f86",
   "metadata": {},
   "outputs": [
    {
     "name": "stdout",
     "output_type": "stream",
     "text": [
      "MAE: 0.43813443416941666\n",
      "MSE: 5.342032949797358\n",
      "RMSE: 2.3112838315095265\n"
     ]
    }
   ],
   "source": [
    "from sklearn import metrics\n",
    "\n",
    "print('MAE:', metrics.mean_absolute_error(y_test,predictions))\n",
    "print('MSE:', metrics.mean_squared_error(y_test, predictions))\n",
    "print('RMSE:', np.sqrt(metrics.mean_squared_error(y_test, predictions)))"
   ]
  },
  {
   "cell_type": "code",
   "execution_count": 32,
   "id": "dff2a82d",
   "metadata": {},
   "outputs": [
    {
     "name": "stdout",
     "output_type": "stream",
     "text": [
      "Precision Score :  0.9471895518266209\n",
      "Recall Score :  0.947262757694769\n",
      "f1_score :  0.9468429657731943\n"
     ]
    }
   ],
   "source": [
    "from sklearn.metrics import precision_score\n",
    "print(\"Precision Score : \",precision_score(y_test, predictions, average='weighted'))\n",
    "\n",
    "\n",
    "from sklearn.metrics import recall_score\n",
    "print(\"Recall Score : \",recall_score(y_test, predictions,average='weighted'))\n",
    "\n",
    "\n",
    "from sklearn.metrics import f1_score\n",
    "print(\"f1_score : \",f1_score(y_test, predictions,average='weighted'))"
   ]
  },
  {
   "cell_type": "code",
   "execution_count": null,
   "id": "81ac7468",
   "metadata": {},
   "outputs": [],
   "source": []
  },
  {
   "cell_type": "code",
   "execution_count": null,
   "id": "71a4c6e0",
   "metadata": {},
   "outputs": [],
   "source": []
  }
 ],
 "metadata": {
  "kernelspec": {
   "display_name": "Python 3 (ipykernel)",
   "language": "python",
   "name": "python3"
  },
  "language_info": {
   "codemirror_mode": {
    "name": "ipython",
    "version": 3
   },
   "file_extension": ".py",
   "mimetype": "text/x-python",
   "name": "python",
   "nbconvert_exporter": "python",
   "pygments_lexer": "ipython3",
   "version": "3.8.12"
  }
 },
 "nbformat": 4,
 "nbformat_minor": 5
}
