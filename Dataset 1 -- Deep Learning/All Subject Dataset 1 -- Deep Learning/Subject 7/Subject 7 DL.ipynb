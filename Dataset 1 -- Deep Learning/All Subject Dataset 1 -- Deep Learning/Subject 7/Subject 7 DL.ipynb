{
 "cells": [
  {
   "cell_type": "markdown",
   "id": "bf8ee932",
   "metadata": {},
   "source": [
    "# Importing Libraries"
   ]
  },
  {
   "cell_type": "code",
   "execution_count": 1,
   "id": "0f663fa8",
   "metadata": {},
   "outputs": [],
   "source": [
    "import numpy as np\n",
    "import pandas as pd\n",
    "import matplotlib.pyplot as plt\n",
    "import seaborn as sns\n",
    "from sklearn.model_selection import train_test_split"
   ]
  },
  {
   "cell_type": "markdown",
   "id": "511af272",
   "metadata": {},
   "source": [
    "# Loading Data"
   ]
  },
  {
   "cell_type": "code",
   "execution_count": 2,
   "id": "04fd19b0",
   "metadata": {},
   "outputs": [
    {
     "data": {
      "text/html": [
       "<div>\n",
       "<style scoped>\n",
       "    .dataframe tbody tr th:only-of-type {\n",
       "        vertical-align: middle;\n",
       "    }\n",
       "\n",
       "    .dataframe tbody tr th {\n",
       "        vertical-align: top;\n",
       "    }\n",
       "\n",
       "    .dataframe thead th {\n",
       "        text-align: right;\n",
       "    }\n",
       "</style>\n",
       "<table border=\"1\" class=\"dataframe\">\n",
       "  <thead>\n",
       "    <tr style=\"text-align: right;\">\n",
       "      <th></th>\n",
       "      <th>Emg1</th>\n",
       "      <th>Emg2</th>\n",
       "      <th>Emg3</th>\n",
       "      <th>Emg4</th>\n",
       "      <th>Emg5</th>\n",
       "      <th>Emg6</th>\n",
       "      <th>Emg7</th>\n",
       "      <th>Emg8</th>\n",
       "      <th>Emg9</th>\n",
       "      <th>Emg10</th>\n",
       "      <th>repetition</th>\n",
       "      <th>rerepetition</th>\n",
       "      <th>stimulus</th>\n",
       "      <th>restimulus</th>\n",
       "    </tr>\n",
       "  </thead>\n",
       "  <tbody>\n",
       "    <tr>\n",
       "      <th>408131</th>\n",
       "      <td>0.0024</td>\n",
       "      <td>0.0024</td>\n",
       "      <td>0.0024</td>\n",
       "      <td>0.0488</td>\n",
       "      <td>0.0928</td>\n",
       "      <td>0.8130</td>\n",
       "      <td>0.2490</td>\n",
       "      <td>0.3516</td>\n",
       "      <td>0.0171</td>\n",
       "      <td>0.1221</td>\n",
       "      <td>7</td>\n",
       "      <td>0</td>\n",
       "      <td>18</td>\n",
       "      <td>0</td>\n",
       "    </tr>\n",
       "    <tr>\n",
       "      <th>396003</th>\n",
       "      <td>0.1953</td>\n",
       "      <td>0.0024</td>\n",
       "      <td>0.0024</td>\n",
       "      <td>0.0073</td>\n",
       "      <td>0.0220</td>\n",
       "      <td>0.1538</td>\n",
       "      <td>0.1147</td>\n",
       "      <td>0.2124</td>\n",
       "      <td>0.0122</td>\n",
       "      <td>0.2075</td>\n",
       "      <td>4</td>\n",
       "      <td>4</td>\n",
       "      <td>17</td>\n",
       "      <td>17</td>\n",
       "    </tr>\n",
       "    <tr>\n",
       "      <th>29802</th>\n",
       "      <td>0.0024</td>\n",
       "      <td>0.3076</td>\n",
       "      <td>0.0073</td>\n",
       "      <td>0.0098</td>\n",
       "      <td>0.0366</td>\n",
       "      <td>1.3550</td>\n",
       "      <td>0.3711</td>\n",
       "      <td>0.1538</td>\n",
       "      <td>0.0781</td>\n",
       "      <td>0.1465</td>\n",
       "      <td>6</td>\n",
       "      <td>6</td>\n",
       "      <td>4</td>\n",
       "      <td>4</td>\n",
       "    </tr>\n",
       "    <tr>\n",
       "      <th>350061</th>\n",
       "      <td>0.0049</td>\n",
       "      <td>0.0024</td>\n",
       "      <td>0.0024</td>\n",
       "      <td>0.0024</td>\n",
       "      <td>0.0024</td>\n",
       "      <td>0.1050</td>\n",
       "      <td>0.1636</td>\n",
       "      <td>0.1245</td>\n",
       "      <td>0.0024</td>\n",
       "      <td>0.2002</td>\n",
       "      <td>0</td>\n",
       "      <td>0</td>\n",
       "      <td>0</td>\n",
       "      <td>0</td>\n",
       "    </tr>\n",
       "    <tr>\n",
       "      <th>376164</th>\n",
       "      <td>0.0391</td>\n",
       "      <td>0.0024</td>\n",
       "      <td>0.0146</td>\n",
       "      <td>0.0024</td>\n",
       "      <td>0.0122</td>\n",
       "      <td>0.4297</td>\n",
       "      <td>1.0083</td>\n",
       "      <td>0.4395</td>\n",
       "      <td>0.0122</td>\n",
       "      <td>0.2295</td>\n",
       "      <td>2</td>\n",
       "      <td>2</td>\n",
       "      <td>15</td>\n",
       "      <td>15</td>\n",
       "    </tr>\n",
       "  </tbody>\n",
       "</table>\n",
       "</div>"
      ],
      "text/plain": [
       "          Emg1    Emg2    Emg3    Emg4    Emg5    Emg6    Emg7    Emg8  \\\n",
       "408131  0.0024  0.0024  0.0024  0.0488  0.0928  0.8130  0.2490  0.3516   \n",
       "396003  0.1953  0.0024  0.0024  0.0073  0.0220  0.1538  0.1147  0.2124   \n",
       "29802   0.0024  0.3076  0.0073  0.0098  0.0366  1.3550  0.3711  0.1538   \n",
       "350061  0.0049  0.0024  0.0024  0.0024  0.0024  0.1050  0.1636  0.1245   \n",
       "376164  0.0391  0.0024  0.0146  0.0024  0.0122  0.4297  1.0083  0.4395   \n",
       "\n",
       "          Emg9   Emg10  repetition  rerepetition  stimulus  restimulus  \n",
       "408131  0.0171  0.1221           7             0        18           0  \n",
       "396003  0.0122  0.2075           4             4        17          17  \n",
       "29802   0.0781  0.1465           6             6         4           4  \n",
       "350061  0.0024  0.2002           0             0         0           0  \n",
       "376164  0.0122  0.2295           2             2        15          15  "
      ]
     },
     "execution_count": 2,
     "metadata": {},
     "output_type": "execute_result"
    }
   ],
   "source": [
    "raw_data = pd.read_excel('Dataset 1 Patient 7.xlsx')\n",
    "raw_data.sample(5)"
   ]
  },
  {
   "cell_type": "code",
   "execution_count": 3,
   "id": "80369ddb",
   "metadata": {},
   "outputs": [
    {
     "name": "stdout",
     "output_type": "stream",
     "text": [
      "<class 'pandas.core.frame.DataFrame'>\n",
      "RangeIndex: 465343 entries, 0 to 465342\n",
      "Data columns (total 14 columns):\n",
      " #   Column        Non-Null Count   Dtype  \n",
      "---  ------        --------------   -----  \n",
      " 0   Emg1          465343 non-null  float64\n",
      " 1   Emg2          465343 non-null  float64\n",
      " 2   Emg3          465343 non-null  float64\n",
      " 3   Emg4          465343 non-null  float64\n",
      " 4   Emg5          465343 non-null  float64\n",
      " 5   Emg6          465343 non-null  float64\n",
      " 6   Emg7          465343 non-null  float64\n",
      " 7   Emg8          465343 non-null  float64\n",
      " 8   Emg9          465343 non-null  float64\n",
      " 9   Emg10         465343 non-null  float64\n",
      " 10  repetition    465343 non-null  int64  \n",
      " 11  rerepetition  465343 non-null  int64  \n",
      " 12  stimulus      465343 non-null  int64  \n",
      " 13  restimulus    465343 non-null  int64  \n",
      "dtypes: float64(10), int64(4)\n",
      "memory usage: 49.7 MB\n"
     ]
    }
   ],
   "source": [
    "raw_data.info()"
   ]
  },
  {
   "cell_type": "code",
   "execution_count": 4,
   "id": "109445f8",
   "metadata": {},
   "outputs": [
    {
     "data": {
      "text/html": [
       "<div>\n",
       "<style scoped>\n",
       "    .dataframe tbody tr th:only-of-type {\n",
       "        vertical-align: middle;\n",
       "    }\n",
       "\n",
       "    .dataframe tbody tr th {\n",
       "        vertical-align: top;\n",
       "    }\n",
       "\n",
       "    .dataframe thead th {\n",
       "        text-align: right;\n",
       "    }\n",
       "</style>\n",
       "<table border=\"1\" class=\"dataframe\">\n",
       "  <thead>\n",
       "    <tr style=\"text-align: right;\">\n",
       "      <th></th>\n",
       "      <th>Emg1</th>\n",
       "      <th>Emg2</th>\n",
       "      <th>Emg3</th>\n",
       "      <th>Emg4</th>\n",
       "      <th>Emg5</th>\n",
       "      <th>Emg6</th>\n",
       "      <th>Emg7</th>\n",
       "      <th>Emg8</th>\n",
       "      <th>Emg9</th>\n",
       "      <th>Emg10</th>\n",
       "      <th>repetition</th>\n",
       "      <th>rerepetition</th>\n",
       "      <th>stimulus</th>\n",
       "      <th>restimulus</th>\n",
       "    </tr>\n",
       "  </thead>\n",
       "  <tbody>\n",
       "    <tr>\n",
       "      <th>count</th>\n",
       "      <td>465343.000000</td>\n",
       "      <td>465343.000000</td>\n",
       "      <td>465343.000000</td>\n",
       "      <td>465343.000000</td>\n",
       "      <td>465343.000000</td>\n",
       "      <td>465343.000000</td>\n",
       "      <td>465343.000000</td>\n",
       "      <td>465343.000000</td>\n",
       "      <td>465343.000000</td>\n",
       "      <td>465343.000000</td>\n",
       "      <td>465343.000000</td>\n",
       "      <td>465343.000000</td>\n",
       "      <td>465343.000000</td>\n",
       "      <td>465343.000000</td>\n",
       "    </tr>\n",
       "    <tr>\n",
       "      <th>mean</th>\n",
       "      <td>0.016418</td>\n",
       "      <td>0.174769</td>\n",
       "      <td>0.072729</td>\n",
       "      <td>0.029455</td>\n",
       "      <td>0.045257</td>\n",
       "      <td>0.323000</td>\n",
       "      <td>0.492774</td>\n",
       "      <td>0.348617</td>\n",
       "      <td>0.112679</td>\n",
       "      <td>0.320979</td>\n",
       "      <td>3.170298</td>\n",
       "      <td>2.318877</td>\n",
       "      <td>5.616943</td>\n",
       "      <td>4.164977</td>\n",
       "    </tr>\n",
       "    <tr>\n",
       "      <th>std</th>\n",
       "      <td>0.077547</td>\n",
       "      <td>0.405425</td>\n",
       "      <td>0.272274</td>\n",
       "      <td>0.071421</td>\n",
       "      <td>0.087363</td>\n",
       "      <td>0.445777</td>\n",
       "      <td>0.521808</td>\n",
       "      <td>0.422231</td>\n",
       "      <td>0.280829</td>\n",
       "      <td>0.225615</td>\n",
       "      <td>3.484652</td>\n",
       "      <td>3.300599</td>\n",
       "      <td>6.579710</td>\n",
       "      <td>6.287999</td>\n",
       "    </tr>\n",
       "    <tr>\n",
       "      <th>min</th>\n",
       "      <td>0.000000</td>\n",
       "      <td>0.000000</td>\n",
       "      <td>0.002400</td>\n",
       "      <td>0.000000</td>\n",
       "      <td>0.002400</td>\n",
       "      <td>0.002400</td>\n",
       "      <td>0.002400</td>\n",
       "      <td>0.002400</td>\n",
       "      <td>0.000000</td>\n",
       "      <td>0.002400</td>\n",
       "      <td>0.000000</td>\n",
       "      <td>0.000000</td>\n",
       "      <td>0.000000</td>\n",
       "      <td>0.000000</td>\n",
       "    </tr>\n",
       "    <tr>\n",
       "      <th>25%</th>\n",
       "      <td>0.002400</td>\n",
       "      <td>0.002400</td>\n",
       "      <td>0.002400</td>\n",
       "      <td>0.002400</td>\n",
       "      <td>0.002400</td>\n",
       "      <td>0.063500</td>\n",
       "      <td>0.185500</td>\n",
       "      <td>0.105000</td>\n",
       "      <td>0.002400</td>\n",
       "      <td>0.183100</td>\n",
       "      <td>0.000000</td>\n",
       "      <td>0.000000</td>\n",
       "      <td>0.000000</td>\n",
       "      <td>0.000000</td>\n",
       "    </tr>\n",
       "    <tr>\n",
       "      <th>50%</th>\n",
       "      <td>0.002400</td>\n",
       "      <td>0.002400</td>\n",
       "      <td>0.002400</td>\n",
       "      <td>0.002400</td>\n",
       "      <td>0.012200</td>\n",
       "      <td>0.188000</td>\n",
       "      <td>0.346700</td>\n",
       "      <td>0.212400</td>\n",
       "      <td>0.004900</td>\n",
       "      <td>0.244100</td>\n",
       "      <td>2.000000</td>\n",
       "      <td>0.000000</td>\n",
       "      <td>3.000000</td>\n",
       "      <td>0.000000</td>\n",
       "    </tr>\n",
       "    <tr>\n",
       "      <th>75%</th>\n",
       "      <td>0.007300</td>\n",
       "      <td>0.163600</td>\n",
       "      <td>0.012200</td>\n",
       "      <td>0.019500</td>\n",
       "      <td>0.051300</td>\n",
       "      <td>0.388200</td>\n",
       "      <td>0.603000</td>\n",
       "      <td>0.429700</td>\n",
       "      <td>0.075700</td>\n",
       "      <td>0.412600</td>\n",
       "      <td>6.000000</td>\n",
       "      <td>5.000000</td>\n",
       "      <td>10.000000</td>\n",
       "      <td>8.000000</td>\n",
       "    </tr>\n",
       "    <tr>\n",
       "      <th>max</th>\n",
       "      <td>2.321800</td>\n",
       "      <td>4.665500</td>\n",
       "      <td>4.660600</td>\n",
       "      <td>1.892100</td>\n",
       "      <td>2.136200</td>\n",
       "      <td>4.665500</td>\n",
       "      <td>4.663100</td>\n",
       "      <td>4.665500</td>\n",
       "      <td>4.660600</td>\n",
       "      <td>3.398400</td>\n",
       "      <td>10.000000</td>\n",
       "      <td>10.000000</td>\n",
       "      <td>23.000000</td>\n",
       "      <td>23.000000</td>\n",
       "    </tr>\n",
       "  </tbody>\n",
       "</table>\n",
       "</div>"
      ],
      "text/plain": [
       "                Emg1           Emg2           Emg3           Emg4  \\\n",
       "count  465343.000000  465343.000000  465343.000000  465343.000000   \n",
       "mean        0.016418       0.174769       0.072729       0.029455   \n",
       "std         0.077547       0.405425       0.272274       0.071421   \n",
       "min         0.000000       0.000000       0.002400       0.000000   \n",
       "25%         0.002400       0.002400       0.002400       0.002400   \n",
       "50%         0.002400       0.002400       0.002400       0.002400   \n",
       "75%         0.007300       0.163600       0.012200       0.019500   \n",
       "max         2.321800       4.665500       4.660600       1.892100   \n",
       "\n",
       "                Emg5           Emg6           Emg7           Emg8  \\\n",
       "count  465343.000000  465343.000000  465343.000000  465343.000000   \n",
       "mean        0.045257       0.323000       0.492774       0.348617   \n",
       "std         0.087363       0.445777       0.521808       0.422231   \n",
       "min         0.002400       0.002400       0.002400       0.002400   \n",
       "25%         0.002400       0.063500       0.185500       0.105000   \n",
       "50%         0.012200       0.188000       0.346700       0.212400   \n",
       "75%         0.051300       0.388200       0.603000       0.429700   \n",
       "max         2.136200       4.665500       4.663100       4.665500   \n",
       "\n",
       "                Emg9          Emg10     repetition   rerepetition  \\\n",
       "count  465343.000000  465343.000000  465343.000000  465343.000000   \n",
       "mean        0.112679       0.320979       3.170298       2.318877   \n",
       "std         0.280829       0.225615       3.484652       3.300599   \n",
       "min         0.000000       0.002400       0.000000       0.000000   \n",
       "25%         0.002400       0.183100       0.000000       0.000000   \n",
       "50%         0.004900       0.244100       2.000000       0.000000   \n",
       "75%         0.075700       0.412600       6.000000       5.000000   \n",
       "max         4.660600       3.398400      10.000000      10.000000   \n",
       "\n",
       "            stimulus     restimulus  \n",
       "count  465343.000000  465343.000000  \n",
       "mean        5.616943       4.164977  \n",
       "std         6.579710       6.287999  \n",
       "min         0.000000       0.000000  \n",
       "25%         0.000000       0.000000  \n",
       "50%         3.000000       0.000000  \n",
       "75%        10.000000       8.000000  \n",
       "max        23.000000      23.000000  "
      ]
     },
     "execution_count": 4,
     "metadata": {},
     "output_type": "execute_result"
    }
   ],
   "source": [
    "raw_data.describe(include='all')"
   ]
  },
  {
   "cell_type": "code",
   "execution_count": 5,
   "id": "f0b9a2e6",
   "metadata": {},
   "outputs": [
    {
     "name": "stdout",
     "output_type": "stream",
     "text": [
      "Unique Dependent values and their counts :\n",
      "0     197148\n",
      "4      15514\n",
      "8      15513\n",
      "2      15507\n",
      "12     15503\n",
      "7      15490\n",
      "6      15486\n",
      "9      15483\n",
      "5      15470\n",
      "11     15462\n",
      "3      15455\n",
      "1      15433\n",
      "10     15427\n",
      "13     10339\n",
      "17     10337\n",
      "14     10336\n",
      "15     10304\n",
      "16     10259\n",
      "21      5166\n",
      "18      5165\n",
      "19      5160\n",
      "20      5130\n",
      "23      5130\n",
      "22      5126\n",
      "Name: stimulus, dtype: int64\n"
     ]
    }
   ],
   "source": [
    "print(\"Unique Dependent values and their counts :\")\n",
    "print(raw_data[\"stimulus\"].value_counts())"
   ]
  },
  {
   "cell_type": "markdown",
   "id": "54420ec4",
   "metadata": {},
   "source": [
    "# Data Cleaning"
   ]
  },
  {
   "cell_type": "code",
   "execution_count": 6,
   "id": "a811198b",
   "metadata": {},
   "outputs": [],
   "source": [
    "index_names = raw_data[ (raw_data['stimulus'] != raw_data['restimulus'])].index\n",
    "raw_data.drop(index_names, inplace = True)"
   ]
  },
  {
   "cell_type": "code",
   "execution_count": 7,
   "id": "556cd92f",
   "metadata": {},
   "outputs": [],
   "source": [
    "index_names = raw_data[ (raw_data['repetition'] != raw_data['rerepetition'])].index\n",
    "raw_data.drop(index_names, inplace = True)"
   ]
  },
  {
   "cell_type": "code",
   "execution_count": 8,
   "id": "c91744f7",
   "metadata": {},
   "outputs": [],
   "source": [
    "X = raw_data.iloc[:,0:10]\n",
    "y = raw_data.stimulus"
   ]
  },
  {
   "cell_type": "markdown",
   "id": "152f7160",
   "metadata": {},
   "source": [
    "# One Hot Encoding"
   ]
  },
  {
   "cell_type": "code",
   "execution_count": 9,
   "id": "dfb77d24",
   "metadata": {},
   "outputs": [],
   "source": [
    "num_classes = 24"
   ]
  },
  {
   "cell_type": "code",
   "execution_count": 10,
   "id": "be64bf6b",
   "metadata": {},
   "outputs": [],
   "source": [
    "# One hot encoding for categorical labels\n",
    "import keras\n",
    "from keras import utils as np_utils\n",
    "y = keras.utils.np_utils.to_categorical(y, num_classes)"
   ]
  },
  {
   "cell_type": "code",
   "execution_count": 11,
   "id": "c7358f86",
   "metadata": {},
   "outputs": [],
   "source": [
    "input_dim = X.shape[1]"
   ]
  },
  {
   "cell_type": "markdown",
   "id": "cb3088a1",
   "metadata": {},
   "source": [
    "# Standard Scaler"
   ]
  },
  {
   "cell_type": "code",
   "execution_count": 12,
   "id": "5bd820f4",
   "metadata": {},
   "outputs": [],
   "source": [
    "from sklearn.preprocessing import StandardScaler\n",
    "standardscaler=StandardScaler()"
   ]
  },
  {
   "cell_type": "code",
   "execution_count": 13,
   "id": "6a118694",
   "metadata": {},
   "outputs": [],
   "source": [
    "sc = pd.DataFrame(standardscaler.fit_transform(X))"
   ]
  },
  {
   "cell_type": "code",
   "execution_count": 14,
   "id": "d6e2f38b",
   "metadata": {},
   "outputs": [
    {
     "data": {
      "text/html": [
       "<div>\n",
       "<style scoped>\n",
       "    .dataframe tbody tr th:only-of-type {\n",
       "        vertical-align: middle;\n",
       "    }\n",
       "\n",
       "    .dataframe tbody tr th {\n",
       "        vertical-align: top;\n",
       "    }\n",
       "\n",
       "    .dataframe thead th {\n",
       "        text-align: right;\n",
       "    }\n",
       "</style>\n",
       "<table border=\"1\" class=\"dataframe\">\n",
       "  <thead>\n",
       "    <tr style=\"text-align: right;\">\n",
       "      <th></th>\n",
       "      <th>0</th>\n",
       "      <th>1</th>\n",
       "      <th>2</th>\n",
       "      <th>3</th>\n",
       "      <th>4</th>\n",
       "      <th>5</th>\n",
       "      <th>6</th>\n",
       "      <th>7</th>\n",
       "      <th>8</th>\n",
       "      <th>9</th>\n",
       "    </tr>\n",
       "  </thead>\n",
       "  <tbody>\n",
       "    <tr>\n",
       "      <th>0</th>\n",
       "      <td>-0.190060</td>\n",
       "      <td>-0.466159</td>\n",
       "      <td>-0.283110</td>\n",
       "      <td>-0.410858</td>\n",
       "      <td>-0.520220</td>\n",
       "      <td>-0.742230</td>\n",
       "      <td>-0.835945</td>\n",
       "      <td>-0.749715</td>\n",
       "      <td>-0.429196</td>\n",
       "      <td>-0.830931</td>\n",
       "    </tr>\n",
       "    <tr>\n",
       "      <th>1</th>\n",
       "      <td>-0.190060</td>\n",
       "      <td>-0.466159</td>\n",
       "      <td>-0.283110</td>\n",
       "      <td>-0.410858</td>\n",
       "      <td>-0.520220</td>\n",
       "      <td>-0.742230</td>\n",
       "      <td>-0.827101</td>\n",
       "      <td>-0.760588</td>\n",
       "      <td>-0.429196</td>\n",
       "      <td>-0.830931</td>\n",
       "    </tr>\n",
       "    <tr>\n",
       "      <th>2</th>\n",
       "      <td>-0.190060</td>\n",
       "      <td>-0.466159</td>\n",
       "      <td>-0.283110</td>\n",
       "      <td>-0.410858</td>\n",
       "      <td>-0.520220</td>\n",
       "      <td>-0.742230</td>\n",
       "      <td>-0.827101</td>\n",
       "      <td>-0.771460</td>\n",
       "      <td>-0.429196</td>\n",
       "      <td>-0.820702</td>\n",
       "    </tr>\n",
       "    <tr>\n",
       "      <th>3</th>\n",
       "      <td>-0.190060</td>\n",
       "      <td>-0.466159</td>\n",
       "      <td>-0.283110</td>\n",
       "      <td>-0.410858</td>\n",
       "      <td>-0.520220</td>\n",
       "      <td>-0.742230</td>\n",
       "      <td>-0.831613</td>\n",
       "      <td>-0.776785</td>\n",
       "      <td>-0.429196</td>\n",
       "      <td>-0.778936</td>\n",
       "    </tr>\n",
       "    <tr>\n",
       "      <th>4</th>\n",
       "      <td>-0.190060</td>\n",
       "      <td>-0.466159</td>\n",
       "      <td>-0.283110</td>\n",
       "      <td>-0.410858</td>\n",
       "      <td>-0.520220</td>\n",
       "      <td>-0.742230</td>\n",
       "      <td>-0.840457</td>\n",
       "      <td>-0.782332</td>\n",
       "      <td>-0.429196</td>\n",
       "      <td>-0.758052</td>\n",
       "    </tr>\n",
       "    <tr>\n",
       "      <th>...</th>\n",
       "      <td>...</td>\n",
       "      <td>...</td>\n",
       "      <td>...</td>\n",
       "      <td>...</td>\n",
       "      <td>...</td>\n",
       "      <td>...</td>\n",
       "      <td>...</td>\n",
       "      <td>...</td>\n",
       "      <td>...</td>\n",
       "      <td>...</td>\n",
       "    </tr>\n",
       "    <tr>\n",
       "      <th>387003</th>\n",
       "      <td>0.360693</td>\n",
       "      <td>-0.225807</td>\n",
       "      <td>-0.266581</td>\n",
       "      <td>-0.410858</td>\n",
       "      <td>-0.389514</td>\n",
       "      <td>-0.322272</td>\n",
       "      <td>-0.946216</td>\n",
       "      <td>-0.831146</td>\n",
       "      <td>-0.082610</td>\n",
       "      <td>-1.247319</td>\n",
       "    </tr>\n",
       "    <tr>\n",
       "      <th>387004</th>\n",
       "      <td>0.604777</td>\n",
       "      <td>-0.220085</td>\n",
       "      <td>-0.266581</td>\n",
       "      <td>-0.410858</td>\n",
       "      <td>-0.257738</td>\n",
       "      <td>-0.158232</td>\n",
       "      <td>-0.946216</td>\n",
       "      <td>-0.831146</td>\n",
       "      <td>-0.082610</td>\n",
       "      <td>-1.257548</td>\n",
       "    </tr>\n",
       "    <tr>\n",
       "      <th>387005</th>\n",
       "      <td>0.757486</td>\n",
       "      <td>-0.220085</td>\n",
       "      <td>-0.266581</td>\n",
       "      <td>-0.410858</td>\n",
       "      <td>-0.232025</td>\n",
       "      <td>-0.112293</td>\n",
       "      <td>-0.946216</td>\n",
       "      <td>-0.831146</td>\n",
       "      <td>-0.082610</td>\n",
       "      <td>-1.278431</td>\n",
       "    </tr>\n",
       "    <tr>\n",
       "      <th>387006</th>\n",
       "      <td>0.757486</td>\n",
       "      <td>-0.220085</td>\n",
       "      <td>-0.266581</td>\n",
       "      <td>-0.410858</td>\n",
       "      <td>-0.284522</td>\n",
       "      <td>-0.153198</td>\n",
       "      <td>-0.946216</td>\n",
       "      <td>-0.831146</td>\n",
       "      <td>-0.082610</td>\n",
       "      <td>-1.309543</td>\n",
       "    </tr>\n",
       "    <tr>\n",
       "      <th>387007</th>\n",
       "      <td>0.666111</td>\n",
       "      <td>-0.225807</td>\n",
       "      <td>-0.266581</td>\n",
       "      <td>-0.410858</td>\n",
       "      <td>-0.389514</td>\n",
       "      <td>-0.229973</td>\n",
       "      <td>-0.946216</td>\n",
       "      <td>-0.831146</td>\n",
       "      <td>-0.090532</td>\n",
       "      <td>-1.340655</td>\n",
       "    </tr>\n",
       "  </tbody>\n",
       "</table>\n",
       "<p>387008 rows × 10 columns</p>\n",
       "</div>"
      ],
      "text/plain": [
       "               0         1         2         3         4         5         6  \\\n",
       "0      -0.190060 -0.466159 -0.283110 -0.410858 -0.520220 -0.742230 -0.835945   \n",
       "1      -0.190060 -0.466159 -0.283110 -0.410858 -0.520220 -0.742230 -0.827101   \n",
       "2      -0.190060 -0.466159 -0.283110 -0.410858 -0.520220 -0.742230 -0.827101   \n",
       "3      -0.190060 -0.466159 -0.283110 -0.410858 -0.520220 -0.742230 -0.831613   \n",
       "4      -0.190060 -0.466159 -0.283110 -0.410858 -0.520220 -0.742230 -0.840457   \n",
       "...          ...       ...       ...       ...       ...       ...       ...   \n",
       "387003  0.360693 -0.225807 -0.266581 -0.410858 -0.389514 -0.322272 -0.946216   \n",
       "387004  0.604777 -0.220085 -0.266581 -0.410858 -0.257738 -0.158232 -0.946216   \n",
       "387005  0.757486 -0.220085 -0.266581 -0.410858 -0.232025 -0.112293 -0.946216   \n",
       "387006  0.757486 -0.220085 -0.266581 -0.410858 -0.284522 -0.153198 -0.946216   \n",
       "387007  0.666111 -0.225807 -0.266581 -0.410858 -0.389514 -0.229973 -0.946216   \n",
       "\n",
       "               7         8         9  \n",
       "0      -0.749715 -0.429196 -0.830931  \n",
       "1      -0.760588 -0.429196 -0.830931  \n",
       "2      -0.771460 -0.429196 -0.820702  \n",
       "3      -0.776785 -0.429196 -0.778936  \n",
       "4      -0.782332 -0.429196 -0.758052  \n",
       "...          ...       ...       ...  \n",
       "387003 -0.831146 -0.082610 -1.247319  \n",
       "387004 -0.831146 -0.082610 -1.257548  \n",
       "387005 -0.831146 -0.082610 -1.278431  \n",
       "387006 -0.831146 -0.082610 -1.309543  \n",
       "387007 -0.831146 -0.090532 -1.340655  \n",
       "\n",
       "[387008 rows x 10 columns]"
      ]
     },
     "execution_count": 14,
     "metadata": {},
     "output_type": "execute_result"
    }
   ],
   "source": [
    "sc"
   ]
  },
  {
   "cell_type": "code",
   "execution_count": 15,
   "id": "65cfb75d",
   "metadata": {},
   "outputs": [],
   "source": [
    "# Splitting data for training and testing\n",
    "X_train, X_test, y_train, y_test = train_test_split(sc, y, test_size = 0.2, random_state = 39)"
   ]
  },
  {
   "cell_type": "markdown",
   "id": "3ba47781",
   "metadata": {},
   "source": [
    "# Deep Learning "
   ]
  },
  {
   "cell_type": "code",
   "execution_count": 16,
   "id": "d426e2e1",
   "metadata": {},
   "outputs": [],
   "source": [
    "from sklearn.preprocessing import MinMaxScaler\n",
    "from tensorflow.keras.models import Model\n",
    "from tensorflow.keras.layers import Input\n",
    "from tensorflow.keras.layers import Dense\n",
    "from tensorflow.keras.layers import LeakyReLU,ELU\n",
    "from tensorflow.keras.layers import BatchNormalization\n",
    "from tensorflow.keras.utils import plot_model\n",
    "import tensorflow as tf\n",
    "from sklearn.model_selection import cross_val_score\n",
    "from keras.models import Sequential\n",
    "from keras.layers import Dense, BatchNormalization, Dropout\n",
    "from tensorflow.keras.optimizers import Adam, SGD, RMSprop, Adadelta, Adagrad, Adamax, Nadam, Ftrl\n",
    "from keras.callbacks import EarlyStopping, ModelCheckpoint\n",
    "from keras.wrappers.scikit_learn import KerasClassifier\n",
    "from sklearn.metrics import make_scorer, accuracy_score\n",
    "from sklearn.model_selection import StratifiedKFold"
   ]
  },
  {
   "cell_type": "code",
   "execution_count": 17,
   "id": "cd0ef208",
   "metadata": {},
   "outputs": [],
   "source": [
    "from keras.layers import LeakyReLU\n",
    "LeakyReLU = LeakyReLU(alpha=0.1)\n",
    "from keras.models import Sequential\n",
    "from keras.layers import Dense, Flatten, Convolution1D, Dropout\n",
    "from keras.initializers import random_uniform"
   ]
  },
  {
   "cell_type": "markdown",
   "id": "f97d61bc",
   "metadata": {},
   "source": [
    "# 1. Define Network"
   ]
  },
  {
   "cell_type": "code",
   "execution_count": 18,
   "id": "bd77bf81",
   "metadata": {},
   "outputs": [],
   "source": [
    "num_classes = 24\n",
    "input_dim = X.shape[1]"
   ]
  },
  {
   "cell_type": "code",
   "execution_count": 19,
   "id": "fbdce465",
   "metadata": {},
   "outputs": [],
   "source": [
    "visible = Input(shape=(input_dim,))\n",
    "hidden1 = Dense(3000, activation='relu')(visible)\n",
    "hidden2 = Dense(1500, activation='relu')(hidden1)\n",
    "hidden3 = Dropout(0.2)(hidden2)\n",
    "hidden4 = Dense(750, activation='relu')(hidden3)\n",
    "hidden5 = Dense(375, activation='relu')(hidden4)\n",
    "hidden6 = Dense(48, activation='relu')(hidden5)\n",
    "output = Dense(num_classes, activation='softmax')(hidden6)\n",
    "model = Model(inputs=visible, outputs=output)"
   ]
  },
  {
   "cell_type": "code",
   "execution_count": 20,
   "id": "1dd33478",
   "metadata": {},
   "outputs": [
    {
     "name": "stdout",
     "output_type": "stream",
     "text": [
      "Model: \"model\"\n",
      "_________________________________________________________________\n",
      " Layer (type)                Output Shape              Param #   \n",
      "=================================================================\n",
      " input_1 (InputLayer)        [(None, 10)]              0         \n",
      "                                                                 \n",
      " dense (Dense)               (None, 3000)              33000     \n",
      "                                                                 \n",
      " dense_1 (Dense)             (None, 1500)              4501500   \n",
      "                                                                 \n",
      " dropout (Dropout)           (None, 1500)              0         \n",
      "                                                                 \n",
      " dense_2 (Dense)             (None, 750)               1125750   \n",
      "                                                                 \n",
      " dense_3 (Dense)             (None, 375)               281625    \n",
      "                                                                 \n",
      " dense_4 (Dense)             (None, 48)                18048     \n",
      "                                                                 \n",
      " dense_5 (Dense)             (None, 24)                1176      \n",
      "                                                                 \n",
      "=================================================================\n",
      "Total params: 5,961,099\n",
      "Trainable params: 5,961,099\n",
      "Non-trainable params: 0\n",
      "_________________________________________________________________\n"
     ]
    }
   ],
   "source": [
    "model.summary()"
   ]
  },
  {
   "cell_type": "markdown",
   "id": "3196ac97",
   "metadata": {},
   "source": [
    "# 2. Compile Network"
   ]
  },
  {
   "cell_type": "code",
   "execution_count": 21,
   "id": "7a2d558b",
   "metadata": {},
   "outputs": [],
   "source": [
    "model.compile(optimizer='adam', loss='categorical_crossentropy', metrics=['accuracy'])"
   ]
  },
  {
   "cell_type": "code",
   "execution_count": 22,
   "id": "c1d2b36d",
   "metadata": {},
   "outputs": [
    {
     "name": "stdout",
     "output_type": "stream",
     "text": [
      "You must install pydot (`pip install pydot`) and install graphviz (see instructions at https://graphviz.gitlab.io/download/) for plot_model/model_to_dot to work.\n"
     ]
    }
   ],
   "source": [
    "plot_model(model, 'EMG_ANN', show_shapes = True)"
   ]
  },
  {
   "cell_type": "markdown",
   "id": "3358b592",
   "metadata": {},
   "source": [
    "# 3. Fit Network"
   ]
  },
  {
   "cell_type": "code",
   "execution_count": 23,
   "id": "e0ed4ddd",
   "metadata": {},
   "outputs": [
    {
     "name": "stdout",
     "output_type": "stream",
     "text": [
      "Epoch 1/100\n",
      "77/77 [==============================] - 3s 31ms/step - loss: 1.3770 - accuracy: 0.6376 - val_loss: 0.9224 - val_accuracy: 0.7400\n",
      "Epoch 2/100\n",
      "77/77 [==============================] - 2s 27ms/step - loss: 0.8251 - accuracy: 0.7644 - val_loss: 0.7021 - val_accuracy: 0.7952\n",
      "Epoch 3/100\n",
      "77/77 [==============================] - 2s 26ms/step - loss: 0.6685 - accuracy: 0.8037 - val_loss: 0.5944 - val_accuracy: 0.8244\n",
      "Epoch 4/100\n",
      "77/77 [==============================] - 2s 25ms/step - loss: 0.5732 - accuracy: 0.8289 - val_loss: 0.5513 - val_accuracy: 0.8389\n",
      "Epoch 5/100\n",
      "77/77 [==============================] - 2s 26ms/step - loss: 0.5135 - accuracy: 0.8440 - val_loss: 0.4740 - val_accuracy: 0.8556\n",
      "Epoch 6/100\n",
      "77/77 [==============================] - 2s 25ms/step - loss: 0.4674 - accuracy: 0.8564 - val_loss: 0.4341 - val_accuracy: 0.8649\n",
      "Epoch 7/100\n",
      "77/77 [==============================] - 2s 25ms/step - loss: 0.4339 - accuracy: 0.8658 - val_loss: 0.4297 - val_accuracy: 0.8692\n",
      "Epoch 8/100\n",
      "77/77 [==============================] - 2s 27ms/step - loss: 0.4027 - accuracy: 0.8744 - val_loss: 0.3889 - val_accuracy: 0.8788\n",
      "Epoch 9/100\n",
      "77/77 [==============================] - 2s 26ms/step - loss: 0.3811 - accuracy: 0.8807 - val_loss: 0.3601 - val_accuracy: 0.8873\n",
      "Epoch 10/100\n",
      "77/77 [==============================] - 2s 26ms/step - loss: 0.3591 - accuracy: 0.8866 - val_loss: 0.3467 - val_accuracy: 0.8907\n",
      "Epoch 11/100\n",
      "77/77 [==============================] - 2s 26ms/step - loss: 0.3434 - accuracy: 0.8913 - val_loss: 0.3299 - val_accuracy: 0.8969\n",
      "Epoch 12/100\n",
      "77/77 [==============================] - 2s 27ms/step - loss: 0.3251 - accuracy: 0.8966 - val_loss: 0.3155 - val_accuracy: 0.8996\n",
      "Epoch 13/100\n",
      "77/77 [==============================] - 2s 26ms/step - loss: 0.3125 - accuracy: 0.8999 - val_loss: 0.3042 - val_accuracy: 0.9043\n",
      "Epoch 14/100\n",
      "77/77 [==============================] - 2s 26ms/step - loss: 0.3036 - accuracy: 0.9031 - val_loss: 0.2975 - val_accuracy: 0.9056\n",
      "Epoch 15/100\n",
      "77/77 [==============================] - 2s 26ms/step - loss: 0.2880 - accuracy: 0.9071 - val_loss: 0.2811 - val_accuracy: 0.9121\n",
      "Epoch 16/100\n",
      "77/77 [==============================] - 2s 27ms/step - loss: 0.2777 - accuracy: 0.9105 - val_loss: 0.2735 - val_accuracy: 0.9125\n",
      "Epoch 17/100\n",
      "77/77 [==============================] - 2s 27ms/step - loss: 0.2674 - accuracy: 0.9134 - val_loss: 0.2671 - val_accuracy: 0.9146\n",
      "Epoch 18/100\n",
      "77/77 [==============================] - 2s 26ms/step - loss: 0.2600 - accuracy: 0.9151 - val_loss: 0.2607 - val_accuracy: 0.9169\n",
      "Epoch 19/100\n",
      "77/77 [==============================] - 2s 26ms/step - loss: 0.2517 - accuracy: 0.9177 - val_loss: 0.2529 - val_accuracy: 0.9191\n",
      "Epoch 20/100\n",
      "77/77 [==============================] - 2s 26ms/step - loss: 0.2448 - accuracy: 0.9200 - val_loss: 0.2433 - val_accuracy: 0.9214\n",
      "Epoch 21/100\n",
      "77/77 [==============================] - 2s 26ms/step - loss: 0.2361 - accuracy: 0.9226 - val_loss: 0.2414 - val_accuracy: 0.9226\n",
      "Epoch 22/100\n",
      "77/77 [==============================] - 2s 27ms/step - loss: 0.2290 - accuracy: 0.9244 - val_loss: 0.2323 - val_accuracy: 0.9255\n",
      "Epoch 23/100\n",
      "77/77 [==============================] - 2s 27ms/step - loss: 0.2229 - accuracy: 0.9270 - val_loss: 0.2276 - val_accuracy: 0.9265\n",
      "Epoch 24/100\n",
      "77/77 [==============================] - 2s 26ms/step - loss: 0.2166 - accuracy: 0.9285 - val_loss: 0.2299 - val_accuracy: 0.9261\n",
      "Epoch 25/100\n",
      "77/77 [==============================] - 2s 26ms/step - loss: 0.2106 - accuracy: 0.9300 - val_loss: 0.2185 - val_accuracy: 0.9285\n",
      "Epoch 26/100\n",
      "77/77 [==============================] - 2s 26ms/step - loss: 0.2083 - accuracy: 0.9308 - val_loss: 0.2183 - val_accuracy: 0.9293\n",
      "Epoch 27/100\n",
      "77/77 [==============================] - 2s 27ms/step - loss: 0.2024 - accuracy: 0.9332 - val_loss: 0.2147 - val_accuracy: 0.9306\n",
      "Epoch 28/100\n",
      "77/77 [==============================] - 2s 26ms/step - loss: 0.2001 - accuracy: 0.9336 - val_loss: 0.2082 - val_accuracy: 0.9324\n",
      "Epoch 29/100\n",
      "77/77 [==============================] - 2s 27ms/step - loss: 0.1957 - accuracy: 0.9348 - val_loss: 0.2026 - val_accuracy: 0.9337\n",
      "Epoch 30/100\n",
      "77/77 [==============================] - 2s 27ms/step - loss: 0.1906 - accuracy: 0.9363 - val_loss: 0.2067 - val_accuracy: 0.9325\n",
      "Epoch 31/100\n",
      "77/77 [==============================] - 2s 26ms/step - loss: 0.1868 - accuracy: 0.9374 - val_loss: 0.1931 - val_accuracy: 0.9368\n",
      "Epoch 32/100\n",
      "77/77 [==============================] - 2s 28ms/step - loss: 0.1808 - accuracy: 0.9392 - val_loss: 0.1997 - val_accuracy: 0.9350\n",
      "Epoch 33/100\n",
      "77/77 [==============================] - 2s 27ms/step - loss: 0.1807 - accuracy: 0.9392 - val_loss: 0.1845 - val_accuracy: 0.9398\n",
      "Epoch 34/100\n",
      "77/77 [==============================] - 2s 26ms/step - loss: 0.1779 - accuracy: 0.9400 - val_loss: 0.1868 - val_accuracy: 0.9382\n",
      "Epoch 35/100\n",
      "77/77 [==============================] - 2s 27ms/step - loss: 0.1709 - accuracy: 0.9428 - val_loss: 0.1858 - val_accuracy: 0.9398\n",
      "Epoch 36/100\n",
      "77/77 [==============================] - 2s 26ms/step - loss: 0.1705 - accuracy: 0.9427 - val_loss: 0.1799 - val_accuracy: 0.9401\n",
      "Epoch 37/100\n",
      "77/77 [==============================] - 2s 26ms/step - loss: 0.1655 - accuracy: 0.9443 - val_loss: 0.1905 - val_accuracy: 0.9371\n",
      "Epoch 38/100\n",
      "77/77 [==============================] - 2s 27ms/step - loss: 0.1634 - accuracy: 0.9448 - val_loss: 0.1672 - val_accuracy: 0.9451\n",
      "Epoch 39/100\n",
      "77/77 [==============================] - 2s 27ms/step - loss: 0.1581 - accuracy: 0.9463 - val_loss: 0.1711 - val_accuracy: 0.9433\n",
      "Epoch 40/100\n",
      "77/77 [==============================] - 2s 27ms/step - loss: 0.1596 - accuracy: 0.9459 - val_loss: 0.1735 - val_accuracy: 0.9426\n",
      "Epoch 41/100\n",
      "77/77 [==============================] - 2s 27ms/step - loss: 0.1547 - accuracy: 0.9472 - val_loss: 0.1789 - val_accuracy: 0.9409\n",
      "Epoch 42/100\n",
      "77/77 [==============================] - 2s 27ms/step - loss: 0.1527 - accuracy: 0.9484 - val_loss: 0.1743 - val_accuracy: 0.9442\n",
      "Epoch 43/100\n",
      "77/77 [==============================] - 2s 27ms/step - loss: 0.1481 - accuracy: 0.9493 - val_loss: 0.1687 - val_accuracy: 0.9448\n",
      "Epoch 44/100\n",
      "77/77 [==============================] - 2s 27ms/step - loss: 0.1483 - accuracy: 0.9494 - val_loss: 0.1615 - val_accuracy: 0.9466\n",
      "Epoch 45/100\n",
      "77/77 [==============================] - 2s 26ms/step - loss: 0.1455 - accuracy: 0.9501 - val_loss: 0.1669 - val_accuracy: 0.9450\n",
      "Epoch 46/100\n",
      "77/77 [==============================] - 2s 26ms/step - loss: 0.1450 - accuracy: 0.9507 - val_loss: 0.1688 - val_accuracy: 0.9439\n",
      "Epoch 47/100\n",
      "77/77 [==============================] - 2s 27ms/step - loss: 0.1447 - accuracy: 0.9502 - val_loss: 0.1637 - val_accuracy: 0.9459\n",
      "Epoch 48/100\n",
      "77/77 [==============================] - 2s 26ms/step - loss: 0.1468 - accuracy: 0.9498 - val_loss: 0.1624 - val_accuracy: 0.9459\n",
      "Epoch 49/100\n",
      "77/77 [==============================] - 2s 27ms/step - loss: 0.1414 - accuracy: 0.9515 - val_loss: 0.1541 - val_accuracy: 0.9482\n",
      "Epoch 50/100\n",
      "77/77 [==============================] - 2s 28ms/step - loss: 0.1355 - accuracy: 0.9532 - val_loss: 0.1531 - val_accuracy: 0.9486\n",
      "Epoch 51/100\n",
      "77/77 [==============================] - 2s 26ms/step - loss: 0.1351 - accuracy: 0.9536 - val_loss: 0.1521 - val_accuracy: 0.9499\n",
      "Epoch 52/100\n",
      "77/77 [==============================] - 2s 27ms/step - loss: 0.1354 - accuracy: 0.9536 - val_loss: 0.1549 - val_accuracy: 0.9496\n",
      "Epoch 53/100\n",
      "77/77 [==============================] - 2s 27ms/step - loss: 0.1331 - accuracy: 0.9536 - val_loss: 0.1628 - val_accuracy: 0.9479\n",
      "Epoch 54/100\n",
      "77/77 [==============================] - 2s 26ms/step - loss: 0.1326 - accuracy: 0.9541 - val_loss: 0.1484 - val_accuracy: 0.9516\n",
      "Epoch 55/100\n",
      "77/77 [==============================] - 2s 28ms/step - loss: 0.1281 - accuracy: 0.9558 - val_loss: 0.1495 - val_accuracy: 0.9504\n",
      "Epoch 56/100\n",
      "77/77 [==============================] - 2s 26ms/step - loss: 0.1283 - accuracy: 0.9556 - val_loss: 0.1509 - val_accuracy: 0.9501\n",
      "Epoch 57/100\n",
      "77/77 [==============================] - 2s 27ms/step - loss: 0.1305 - accuracy: 0.9547 - val_loss: 0.1456 - val_accuracy: 0.9518\n",
      "Epoch 58/100\n"
     ]
    },
    {
     "name": "stdout",
     "output_type": "stream",
     "text": [
      "77/77 [==============================] - 2s 27ms/step - loss: 0.1251 - accuracy: 0.9571 - val_loss: 0.1499 - val_accuracy: 0.9504\n",
      "Epoch 59/100\n",
      "77/77 [==============================] - 2s 27ms/step - loss: 0.1252 - accuracy: 0.9565 - val_loss: 0.1432 - val_accuracy: 0.9521\n",
      "Epoch 60/100\n",
      "77/77 [==============================] - 2s 27ms/step - loss: 0.1224 - accuracy: 0.9576 - val_loss: 0.1411 - val_accuracy: 0.9529\n",
      "Epoch 61/100\n",
      "77/77 [==============================] - 2s 27ms/step - loss: 0.1214 - accuracy: 0.9578 - val_loss: 0.1536 - val_accuracy: 0.9502\n",
      "Epoch 62/100\n",
      "77/77 [==============================] - 2s 27ms/step - loss: 0.1217 - accuracy: 0.9576 - val_loss: 0.1402 - val_accuracy: 0.9540\n",
      "Epoch 63/100\n",
      "77/77 [==============================] - 2s 27ms/step - loss: 0.1192 - accuracy: 0.9582 - val_loss: 0.1434 - val_accuracy: 0.9532\n",
      "Epoch 64/100\n",
      "77/77 [==============================] - 2s 27ms/step - loss: 0.1171 - accuracy: 0.9588 - val_loss: 0.1399 - val_accuracy: 0.9543\n",
      "Epoch 65/100\n",
      "77/77 [==============================] - 2s 27ms/step - loss: 0.1160 - accuracy: 0.9597 - val_loss: 0.1449 - val_accuracy: 0.9535\n",
      "Epoch 66/100\n",
      "77/77 [==============================] - 2s 27ms/step - loss: 0.1182 - accuracy: 0.9591 - val_loss: 0.1503 - val_accuracy: 0.9493\n",
      "Epoch 67/100\n",
      "77/77 [==============================] - 2s 27ms/step - loss: 0.1174 - accuracy: 0.9590 - val_loss: 0.1488 - val_accuracy: 0.9511\n",
      "Epoch 68/100\n",
      "77/77 [==============================] - 2s 27ms/step - loss: 0.1140 - accuracy: 0.9598 - val_loss: 0.1339 - val_accuracy: 0.9555\n",
      "Epoch 69/100\n",
      "77/77 [==============================] - 2s 27ms/step - loss: 0.1102 - accuracy: 0.9611 - val_loss: 0.1363 - val_accuracy: 0.9557\n",
      "Epoch 70/100\n",
      "77/77 [==============================] - 2s 26ms/step - loss: 0.1109 - accuracy: 0.9610 - val_loss: 0.1406 - val_accuracy: 0.9536\n",
      "Epoch 71/100\n",
      "77/77 [==============================] - 2s 26ms/step - loss: 0.1120 - accuracy: 0.9607 - val_loss: 0.1401 - val_accuracy: 0.9543\n",
      "Epoch 72/100\n",
      "77/77 [==============================] - 2s 26ms/step - loss: 0.1116 - accuracy: 0.9608 - val_loss: 0.1413 - val_accuracy: 0.9527\n",
      "Epoch 73/100\n",
      "77/77 [==============================] - 2s 26ms/step - loss: 0.1139 - accuracy: 0.9597 - val_loss: 0.1386 - val_accuracy: 0.9557\n",
      "Epoch 74/100\n",
      "77/77 [==============================] - 2s 26ms/step - loss: 0.1065 - accuracy: 0.9625 - val_loss: 0.1321 - val_accuracy: 0.9565\n",
      "Epoch 75/100\n",
      "77/77 [==============================] - 2s 27ms/step - loss: 0.1069 - accuracy: 0.9623 - val_loss: 0.1377 - val_accuracy: 0.9555\n",
      "Epoch 76/100\n",
      "77/77 [==============================] - 2s 27ms/step - loss: 0.1061 - accuracy: 0.9625 - val_loss: 0.1379 - val_accuracy: 0.9548\n",
      "Epoch 77/100\n",
      "77/77 [==============================] - 2s 27ms/step - loss: 0.1056 - accuracy: 0.9627 - val_loss: 0.1386 - val_accuracy: 0.9559\n",
      "Epoch 78/100\n",
      "77/77 [==============================] - 2s 26ms/step - loss: 0.1051 - accuracy: 0.9628 - val_loss: 0.1306 - val_accuracy: 0.9577\n",
      "Epoch 79/100\n",
      "77/77 [==============================] - 2s 27ms/step - loss: 0.1018 - accuracy: 0.9639 - val_loss: 0.1306 - val_accuracy: 0.9574\n",
      "Epoch 80/100\n",
      "77/77 [==============================] - 2s 27ms/step - loss: 0.1042 - accuracy: 0.9627 - val_loss: 0.1333 - val_accuracy: 0.9561\n",
      "Epoch 81/100\n",
      "77/77 [==============================] - 2s 28ms/step - loss: 0.1013 - accuracy: 0.9641 - val_loss: 0.1333 - val_accuracy: 0.9568\n",
      "Epoch 82/100\n",
      "77/77 [==============================] - 2s 27ms/step - loss: 0.1005 - accuracy: 0.9641 - val_loss: 0.1371 - val_accuracy: 0.9565\n",
      "Epoch 83/100\n",
      "77/77 [==============================] - 2s 27ms/step - loss: 0.1027 - accuracy: 0.9638 - val_loss: 0.1339 - val_accuracy: 0.9565\n",
      "Epoch 84/100\n",
      "77/77 [==============================] - 2s 28ms/step - loss: 0.1005 - accuracy: 0.9644 - val_loss: 0.1290 - val_accuracy: 0.9582\n",
      "Epoch 85/100\n",
      "77/77 [==============================] - 2s 27ms/step - loss: 0.0974 - accuracy: 0.9653 - val_loss: 0.1257 - val_accuracy: 0.9587\n",
      "Epoch 86/100\n",
      "77/77 [==============================] - 2s 28ms/step - loss: 0.0980 - accuracy: 0.9650 - val_loss: 0.1263 - val_accuracy: 0.9586\n",
      "Epoch 87/100\n",
      "77/77 [==============================] - 2s 27ms/step - loss: 0.0979 - accuracy: 0.9653 - val_loss: 0.1344 - val_accuracy: 0.9567\n",
      "Epoch 88/100\n",
      "77/77 [==============================] - 2s 27ms/step - loss: 0.0969 - accuracy: 0.9651 - val_loss: 0.1312 - val_accuracy: 0.9573\n",
      "Epoch 89/100\n",
      "77/77 [==============================] - 2s 28ms/step - loss: 0.0996 - accuracy: 0.9649 - val_loss: 0.1284 - val_accuracy: 0.9582\n",
      "Epoch 90/100\n",
      "77/77 [==============================] - 2s 27ms/step - loss: 0.0995 - accuracy: 0.9648 - val_loss: 0.1346 - val_accuracy: 0.9559\n",
      "Epoch 91/100\n",
      "77/77 [==============================] - 2s 28ms/step - loss: 0.0995 - accuracy: 0.9649 - val_loss: 0.1326 - val_accuracy: 0.9567\n",
      "Epoch 92/100\n",
      "77/77 [==============================] - 2s 27ms/step - loss: 0.1003 - accuracy: 0.9645 - val_loss: 0.1267 - val_accuracy: 0.9585\n",
      "Epoch 93/100\n",
      "77/77 [==============================] - 2s 27ms/step - loss: 0.0934 - accuracy: 0.9666 - val_loss: 0.1251 - val_accuracy: 0.9595\n",
      "Epoch 94/100\n",
      "77/77 [==============================] - 2s 28ms/step - loss: 0.0921 - accuracy: 0.9669 - val_loss: 0.1290 - val_accuracy: 0.9593\n",
      "Epoch 95/100\n",
      "77/77 [==============================] - 2s 28ms/step - loss: 0.0951 - accuracy: 0.9661 - val_loss: 0.1254 - val_accuracy: 0.9595\n",
      "Epoch 96/100\n",
      "77/77 [==============================] - 2s 27ms/step - loss: 0.0943 - accuracy: 0.9661 - val_loss: 0.1333 - val_accuracy: 0.9583\n",
      "Epoch 97/100\n",
      "77/77 [==============================] - 2s 28ms/step - loss: 0.0945 - accuracy: 0.9664 - val_loss: 0.1281 - val_accuracy: 0.9593\n",
      "Epoch 98/100\n",
      "77/77 [==============================] - 2s 28ms/step - loss: 0.0904 - accuracy: 0.9677 - val_loss: 0.1245 - val_accuracy: 0.9603\n",
      "Epoch 99/100\n",
      "77/77 [==============================] - 2s 28ms/step - loss: 0.0922 - accuracy: 0.9671 - val_loss: 0.1264 - val_accuracy: 0.9586\n",
      "Epoch 100/100\n",
      "77/77 [==============================] - 2s 27ms/step - loss: 0.0895 - accuracy: 0.9679 - val_loss: 0.1214 - val_accuracy: 0.9602\n"
     ]
    }
   ],
   "source": [
    "history = model.fit(X_train, y_train, batch_size=4056, epochs=100, validation_data = (X_test, y_test))"
   ]
  },
  {
   "cell_type": "markdown",
   "id": "ffed59b1",
   "metadata": {},
   "source": [
    "# 4.Evaluate Network"
   ]
  },
  {
   "cell_type": "markdown",
   "id": "28731190",
   "metadata": {},
   "source": [
    "## 4.1. Plotting Loss and Accuracy"
   ]
  },
  {
   "cell_type": "code",
   "execution_count": 24,
   "id": "971e6040",
   "metadata": {},
   "outputs": [
    {
     "data": {
      "text/plain": [
       "Text(0.5, 1.0, 'Loss Curve of Deep Neural Netowork')"
      ]
     },
     "execution_count": 24,
     "metadata": {},
     "output_type": "execute_result"
    },
    {
     "data": {
      "image/png": "[encoded data removed]",
      "text/plain": [
       "<Figure size 432x288 with 1 Axes>"
      ]
     },
     "metadata": {
      "needs_background": "light"
     },
     "output_type": "display_data"
    }
   ],
   "source": [
    "#Loss Curve\n",
    "\n",
    "\n",
    "plt.plot(figsize = [8,6])\n",
    "\n",
    "plt.plot(history.history['loss'],'r',linewidth = 3.0)\n",
    "plt.plot(history.history['val_loss'],'b',linewidth = 3.0)\n",
    "\n",
    "plt.legend(['Training Loss', 'Validation Loss'], fontsize = 18)\n",
    "\n",
    "plt.xlabel('Epochs', fontsize = 16)\n",
    "plt.ylabel('Loss', fontsize = 16)\n",
    "\n",
    "plt.title('Loss Curve of Deep Neural Netowork' , fontsize = 16 )\n",
    "\n"
   ]
  },
  {
   "cell_type": "code",
   "execution_count": 25,
   "id": "b0c193ec",
   "metadata": {},
   "outputs": [
    {
     "data": {
      "text/plain": [
       "Text(0.5, 1.0, 'Accuracy Curve of Deep Neural Netowork')"
      ]
     },
     "execution_count": 25,
     "metadata": {},
     "output_type": "execute_result"
    },
    {
     "data": {
      "image/png": "[encoded data removed]",
      "text/plain": [
       "<Figure size 432x288 with 1 Axes>"
      ]
     },
     "metadata": {
      "needs_background": "light"
     },
     "output_type": "display_data"
    }
   ],
   "source": [
    "#Accuracy Curve\n",
    "\n",
    "plt.plot(figsize = [8,6])\n",
    "plt.plot(history.history['accuracy'],'r',linewidth = 3.0)\n",
    "plt.plot(history.history['val_accuracy'],'b',linewidth = 3.0)\n",
    "\n",
    "plt.legend(['Training Accuracy', 'Validation Accuracy'], fontsize = 18)\n",
    "\n",
    "plt.xlabel('Epochs', fontsize = 16)\n",
    "plt.ylabel('Accuracy', fontsize = 16)\n",
    "\n",
    "\n",
    "plt.title('Accuracy Curve of Deep Neural Netowork' , fontsize = 16 )"
   ]
  },
  {
   "cell_type": "markdown",
   "id": "741a02aa",
   "metadata": {},
   "source": [
    "##  4.2 Make Predictions"
   ]
  },
  {
   "cell_type": "code",
   "execution_count": 26,
   "id": "e8465627",
   "metadata": {},
   "outputs": [],
   "source": [
    "predictions = model.predict(X_test)\n",
    "predictions = np.argmax(predictions, axis = 1)"
   ]
  },
  {
   "cell_type": "code",
   "execution_count": 27,
   "id": "3cac1a50",
   "metadata": {},
   "outputs": [
    {
     "data": {
      "text/plain": [
       "array([ 0, 19,  0, ..., 13,  0,  0], dtype=int64)"
      ]
     },
     "execution_count": 27,
     "metadata": {},
     "output_type": "execute_result"
    }
   ],
   "source": [
    "predictions"
   ]
  },
  {
   "cell_type": "markdown",
   "id": "70d666bb",
   "metadata": {},
   "source": [
    "#### Transforming from One Hot Encoding"
   ]
  },
  {
   "cell_type": "code",
   "execution_count": 28,
   "id": "7234b6e7",
   "metadata": {},
   "outputs": [
    {
     "data": {
      "text/plain": [
       "19"
      ]
     },
     "execution_count": 28,
     "metadata": {},
     "output_type": "execute_result"
    }
   ],
   "source": [
    "y_test =np.argmax(y_test, axis=1)\n",
    "y_test[1]"
   ]
  },
  {
   "cell_type": "code",
   "execution_count": 29,
   "id": "6278820d",
   "metadata": {},
   "outputs": [
    {
     "name": "stdout",
     "output_type": "stream",
     "text": [
      "Accuracy is: 96.01819074442521\n"
     ]
    }
   ],
   "source": [
    "from sklearn.metrics import accuracy_score\n",
    "accuracy = {accuracy_score(y_test, predictions)}\n",
    "print(f\"Accuracy is: {accuracy_score(y_test, predictions)* 100}\")"
   ]
  },
  {
   "cell_type": "markdown",
   "id": "eb044ea1",
   "metadata": {},
   "source": [
    "## 4.3 Classification Report"
   ]
  },
  {
   "cell_type": "code",
   "execution_count": 30,
   "id": "001ebc5a",
   "metadata": {},
   "outputs": [
    {
     "name": "stdout",
     "output_type": "stream",
     "text": [
      "\u001b[1mClassification report : \u001b[0m\n",
      "               precision    recall  f1-score   support\n",
      "\n",
      "           0       0.96      0.98      0.97     39037\n",
      "           1       0.97      0.92      0.94      2203\n",
      "           2       0.91      0.90      0.90      2428\n",
      "           3       0.95      0.94      0.95      2206\n",
      "           4       0.96      0.96      0.96      2160\n",
      "           5       0.97      0.97      0.97      1972\n",
      "           6       0.99      0.91      0.95      2193\n",
      "           7       0.95      0.95      0.95      2070\n",
      "           8       0.95      0.95      0.95      2293\n",
      "           9       0.95      0.93      0.94      1921\n",
      "          10       0.91      0.81      0.86      2093\n",
      "          11       0.97      0.93      0.95      2006\n",
      "          12       0.94      0.95      0.94      2165\n",
      "          13       0.98      0.98      0.98      1405\n",
      "          14       0.97      0.96      0.97      1393\n",
      "          15       0.93      0.89      0.91      1663\n",
      "          16       0.98      0.98      0.98      1693\n",
      "          17       0.96      0.96      0.96      1703\n",
      "          18       0.99      0.99      0.99       861\n",
      "          19       0.99      0.96      0.97       833\n",
      "          20       1.00      0.99      0.99       831\n",
      "          21       0.97      0.97      0.97       677\n",
      "          22       1.00      0.97      0.99       751\n",
      "          23       0.99      0.99      0.99       845\n",
      "\n",
      "    accuracy                           0.96     77402\n",
      "   macro avg       0.96      0.95      0.96     77402\n",
      "weighted avg       0.96      0.96      0.96     77402\n",
      "\n",
      "\u001b[1mConfusion Matrix : \u001b[0m\n"
     ]
    },
    {
     "data": {
      "image/png": "[encoded data removed]",
      "text/plain": [
       "<Figure size 432x288 with 2 Axes>"
      ]
     },
     "metadata": {
      "needs_background": "light"
     },
     "output_type": "display_data"
    }
   ],
   "source": [
    "from sklearn.metrics import confusion_matrix, f1_score, accuracy_score, classification_report\n",
    "print('\\033[1m' +'Classification report : '+ '\\033[0m\\n', classification_report(y_test, predictions))\n",
    "\n",
    "cm = confusion_matrix(predictions, y_test)\n",
    "print('\\033[1m' +'Confusion Matrix : '+ '\\033[0m')\n",
    "sns.heatmap(cm, cmap = 'OrRd',annot = True, fmt='d')\n",
    "plt.show()"
   ]
  },
  {
   "cell_type": "markdown",
   "id": "eaa5e512",
   "metadata": {},
   "source": [
    "## 4.4 Evaluation"
   ]
  },
  {
   "cell_type": "code",
   "execution_count": 31,
   "id": "9e469f86",
   "metadata": {},
   "outputs": [
    {
     "name": "stdout",
     "output_type": "stream",
     "text": [
      "MAE: 0.30264075863672774\n",
      "MSE: 3.233340223766828\n",
      "RMSE: 1.7981491105486296\n"
     ]
    }
   ],
   "source": [
    "from sklearn import metrics\n",
    "\n",
    "print('MAE:', metrics.mean_absolute_error(y_test,predictions))\n",
    "print('MSE:', metrics.mean_squared_error(y_test, predictions))\n",
    "print('RMSE:', np.sqrt(metrics.mean_squared_error(y_test, predictions)))"
   ]
  },
  {
   "cell_type": "code",
   "execution_count": 32,
   "id": "dff2a82d",
   "metadata": {},
   "outputs": [
    {
     "name": "stdout",
     "output_type": "stream",
     "text": [
      "Precision Score :  0.9600638687814999\n",
      "Recall Score :  0.9601819074442521\n",
      "f1_score :  0.959908484720299\n"
     ]
    }
   ],
   "source": [
    "from sklearn.metrics import precision_score\n",
    "print(\"Precision Score : \",precision_score(y_test, predictions, average='weighted'))\n",
    "\n",
    "\n",
    "from sklearn.metrics import recall_score\n",
    "print(\"Recall Score : \",recall_score(y_test, predictions,average='weighted'))\n",
    "\n",
    "\n",
    "from sklearn.metrics import f1_score\n",
    "print(\"f1_score : \",f1_score(y_test, predictions,average='weighted'))"
   ]
  },
  {
   "cell_type": "code",
   "execution_count": null,
   "id": "81ac7468",
   "metadata": {},
   "outputs": [],
   "source": []
  },
  {
   "cell_type": "code",
   "execution_count": null,
   "id": "71a4c6e0",
   "metadata": {},
   "outputs": [],
   "source": []
  }
 ],
 "metadata": {
  "kernelspec": {
   "display_name": "Python 3 (ipykernel)",
   "language": "python",
   "name": "python3"
  },
  "language_info": {
   "codemirror_mode": {
    "name": "ipython",
    "version": 3
   },
   "file_extension": ".py",
   "mimetype": "text/x-python",
   "name": "python",
   "nbconvert_exporter": "python",
   "pygments_lexer": "ipython3",
   "version": "3.8.12"
  }
 },
 "nbformat": 4,
 "nbformat_minor": 5
}
