{
 "cells": [
  {
   "cell_type": "markdown",
   "id": "bf8ee932",
   "metadata": {},
   "source": [
    "# Importing Libraries"
   ]
  },
  {
   "cell_type": "code",
   "execution_count": 1,
   "id": "0f663fa8",
   "metadata": {},
   "outputs": [],
   "source": [
    "import numpy as np\n",
    "import pandas as pd\n",
    "import matplotlib.pyplot as plt\n",
    "import seaborn as sns\n",
    "from sklearn.model_selection import train_test_split"
   ]
  },
  {
   "cell_type": "markdown",
   "id": "511af272",
   "metadata": {},
   "source": [
    "# Loading Data"
   ]
  },
  {
   "cell_type": "code",
   "execution_count": 2,
   "id": "04fd19b0",
   "metadata": {},
   "outputs": [
    {
     "data": {
      "text/html": [
       "<div>\n",
       "<style scoped>\n",
       "    .dataframe tbody tr th:only-of-type {\n",
       "        vertical-align: middle;\n",
       "    }\n",
       "\n",
       "    .dataframe tbody tr th {\n",
       "        vertical-align: top;\n",
       "    }\n",
       "\n",
       "    .dataframe thead th {\n",
       "        text-align: right;\n",
       "    }\n",
       "</style>\n",
       "<table border=\"1\" class=\"dataframe\">\n",
       "  <thead>\n",
       "    <tr style=\"text-align: right;\">\n",
       "      <th></th>\n",
       "      <th>Emg1</th>\n",
       "      <th>Emg2</th>\n",
       "      <th>Emg3</th>\n",
       "      <th>Emg4</th>\n",
       "      <th>Emg5</th>\n",
       "      <th>Emg6</th>\n",
       "      <th>Emg7</th>\n",
       "      <th>Emg8</th>\n",
       "      <th>Emg9</th>\n",
       "      <th>Emg10</th>\n",
       "      <th>repetition</th>\n",
       "      <th>rerepetition</th>\n",
       "      <th>stimulus</th>\n",
       "      <th>restimulus</th>\n",
       "    </tr>\n",
       "  </thead>\n",
       "  <tbody>\n",
       "    <tr>\n",
       "      <th>32922</th>\n",
       "      <td>0.0220</td>\n",
       "      <td>0.0024</td>\n",
       "      <td>0.0024</td>\n",
       "      <td>0.0024</td>\n",
       "      <td>0.0024</td>\n",
       "      <td>0.0024</td>\n",
       "      <td>0.0293</td>\n",
       "      <td>0.0269</td>\n",
       "      <td>0.0024</td>\n",
       "      <td>0.0024</td>\n",
       "      <td>0</td>\n",
       "      <td>0</td>\n",
       "      <td>0</td>\n",
       "      <td>0</td>\n",
       "    </tr>\n",
       "    <tr>\n",
       "      <th>40311</th>\n",
       "      <td>0.0146</td>\n",
       "      <td>0.0024</td>\n",
       "      <td>0.0024</td>\n",
       "      <td>0.0024</td>\n",
       "      <td>0.0024</td>\n",
       "      <td>0.0024</td>\n",
       "      <td>0.1660</td>\n",
       "      <td>0.0464</td>\n",
       "      <td>0.0024</td>\n",
       "      <td>0.0781</td>\n",
       "      <td>0</td>\n",
       "      <td>0</td>\n",
       "      <td>0</td>\n",
       "      <td>0</td>\n",
       "    </tr>\n",
       "    <tr>\n",
       "      <th>256834</th>\n",
       "      <td>0.0024</td>\n",
       "      <td>0.0024</td>\n",
       "      <td>0.0024</td>\n",
       "      <td>0.0024</td>\n",
       "      <td>0.0024</td>\n",
       "      <td>0.0073</td>\n",
       "      <td>0.2246</td>\n",
       "      <td>0.3906</td>\n",
       "      <td>0.0024</td>\n",
       "      <td>0.0879</td>\n",
       "      <td>0</td>\n",
       "      <td>0</td>\n",
       "      <td>0</td>\n",
       "      <td>0</td>\n",
       "    </tr>\n",
       "    <tr>\n",
       "      <th>2033</th>\n",
       "      <td>0.0024</td>\n",
       "      <td>0.0830</td>\n",
       "      <td>0.0024</td>\n",
       "      <td>0.0024</td>\n",
       "      <td>0.0098</td>\n",
       "      <td>0.0171</td>\n",
       "      <td>0.2930</td>\n",
       "      <td>0.2393</td>\n",
       "      <td>0.0464</td>\n",
       "      <td>0.1538</td>\n",
       "      <td>3</td>\n",
       "      <td>0</td>\n",
       "      <td>1</td>\n",
       "      <td>0</td>\n",
       "    </tr>\n",
       "    <tr>\n",
       "      <th>358910</th>\n",
       "      <td>0.0122</td>\n",
       "      <td>0.0024</td>\n",
       "      <td>0.0024</td>\n",
       "      <td>0.0024</td>\n",
       "      <td>0.0024</td>\n",
       "      <td>0.0024</td>\n",
       "      <td>0.0439</td>\n",
       "      <td>0.0708</td>\n",
       "      <td>0.0024</td>\n",
       "      <td>0.0220</td>\n",
       "      <td>0</td>\n",
       "      <td>0</td>\n",
       "      <td>0</td>\n",
       "      <td>0</td>\n",
       "    </tr>\n",
       "  </tbody>\n",
       "</table>\n",
       "</div>"
      ],
      "text/plain": [
       "          Emg1    Emg2    Emg3    Emg4    Emg5    Emg6    Emg7    Emg8  \\\n",
       "32922   0.0220  0.0024  0.0024  0.0024  0.0024  0.0024  0.0293  0.0269   \n",
       "40311   0.0146  0.0024  0.0024  0.0024  0.0024  0.0024  0.1660  0.0464   \n",
       "256834  0.0024  0.0024  0.0024  0.0024  0.0024  0.0073  0.2246  0.3906   \n",
       "2033    0.0024  0.0830  0.0024  0.0024  0.0098  0.0171  0.2930  0.2393   \n",
       "358910  0.0122  0.0024  0.0024  0.0024  0.0024  0.0024  0.0439  0.0708   \n",
       "\n",
       "          Emg9   Emg10  repetition  rerepetition  stimulus  restimulus  \n",
       "32922   0.0024  0.0024           0             0         0           0  \n",
       "40311   0.0024  0.0781           0             0         0           0  \n",
       "256834  0.0024  0.0879           0             0         0           0  \n",
       "2033    0.0464  0.1538           3             0         1           0  \n",
       "358910  0.0024  0.0220           0             0         0           0  "
      ]
     },
     "execution_count": 2,
     "metadata": {},
     "output_type": "execute_result"
    }
   ],
   "source": [
    "raw_data = pd.read_excel('Dataset 1 Patient 10.xlsx')\n",
    "raw_data.sample(5)"
   ]
  },
  {
   "cell_type": "code",
   "execution_count": 3,
   "id": "80369ddb",
   "metadata": {},
   "outputs": [
    {
     "name": "stdout",
     "output_type": "stream",
     "text": [
      "<class 'pandas.core.frame.DataFrame'>\n",
      "RangeIndex: 457928 entries, 0 to 457927\n",
      "Data columns (total 14 columns):\n",
      " #   Column        Non-Null Count   Dtype  \n",
      "---  ------        --------------   -----  \n",
      " 0   Emg1          457928 non-null  float64\n",
      " 1   Emg2          457928 non-null  float64\n",
      " 2   Emg3          457928 non-null  float64\n",
      " 3   Emg4          457928 non-null  float64\n",
      " 4   Emg5          457928 non-null  float64\n",
      " 5   Emg6          457928 non-null  float64\n",
      " 6   Emg7          457928 non-null  float64\n",
      " 7   Emg8          457928 non-null  float64\n",
      " 8   Emg9          457928 non-null  float64\n",
      " 9   Emg10         457928 non-null  float64\n",
      " 10  repetition    457928 non-null  int64  \n",
      " 11  rerepetition  457928 non-null  int64  \n",
      " 12  stimulus      457928 non-null  int64  \n",
      " 13  restimulus    457928 non-null  int64  \n",
      "dtypes: float64(10), int64(4)\n",
      "memory usage: 48.9 MB\n"
     ]
    }
   ],
   "source": [
    "raw_data.info()"
   ]
  },
  {
   "cell_type": "code",
   "execution_count": 4,
   "id": "109445f8",
   "metadata": {},
   "outputs": [
    {
     "data": {
      "text/html": [
       "<div>\n",
       "<style scoped>\n",
       "    .dataframe tbody tr th:only-of-type {\n",
       "        vertical-align: middle;\n",
       "    }\n",
       "\n",
       "    .dataframe tbody tr th {\n",
       "        vertical-align: top;\n",
       "    }\n",
       "\n",
       "    .dataframe thead th {\n",
       "        text-align: right;\n",
       "    }\n",
       "</style>\n",
       "<table border=\"1\" class=\"dataframe\">\n",
       "  <thead>\n",
       "    <tr style=\"text-align: right;\">\n",
       "      <th></th>\n",
       "      <th>Emg1</th>\n",
       "      <th>Emg2</th>\n",
       "      <th>Emg3</th>\n",
       "      <th>Emg4</th>\n",
       "      <th>Emg5</th>\n",
       "      <th>Emg6</th>\n",
       "      <th>Emg7</th>\n",
       "      <th>Emg8</th>\n",
       "      <th>Emg9</th>\n",
       "      <th>Emg10</th>\n",
       "      <th>repetition</th>\n",
       "      <th>rerepetition</th>\n",
       "      <th>stimulus</th>\n",
       "      <th>restimulus</th>\n",
       "    </tr>\n",
       "  </thead>\n",
       "  <tbody>\n",
       "    <tr>\n",
       "      <th>count</th>\n",
       "      <td>457928.000000</td>\n",
       "      <td>457928.000000</td>\n",
       "      <td>457928.000000</td>\n",
       "      <td>457928.000000</td>\n",
       "      <td>457928.000000</td>\n",
       "      <td>457928.000000</td>\n",
       "      <td>457928.000000</td>\n",
       "      <td>457928.000000</td>\n",
       "      <td>457928.000000</td>\n",
       "      <td>457928.000000</td>\n",
       "      <td>457928.000000</td>\n",
       "      <td>457928.000000</td>\n",
       "      <td>457928.000000</td>\n",
       "      <td>457928.000000</td>\n",
       "    </tr>\n",
       "    <tr>\n",
       "      <th>mean</th>\n",
       "      <td>0.019734</td>\n",
       "      <td>0.092321</td>\n",
       "      <td>0.083216</td>\n",
       "      <td>0.039534</td>\n",
       "      <td>0.026400</td>\n",
       "      <td>0.077164</td>\n",
       "      <td>0.301754</td>\n",
       "      <td>0.385765</td>\n",
       "      <td>0.156294</td>\n",
       "      <td>0.221862</td>\n",
       "      <td>3.219882</td>\n",
       "      <td>2.347234</td>\n",
       "      <td>5.706694</td>\n",
       "      <td>4.335299</td>\n",
       "    </tr>\n",
       "    <tr>\n",
       "      <th>std</th>\n",
       "      <td>0.079264</td>\n",
       "      <td>0.215375</td>\n",
       "      <td>0.215094</td>\n",
       "      <td>0.095570</td>\n",
       "      <td>0.055138</td>\n",
       "      <td>0.147718</td>\n",
       "      <td>0.381117</td>\n",
       "      <td>0.587775</td>\n",
       "      <td>0.381881</td>\n",
       "      <td>0.358927</td>\n",
       "      <td>3.488817</td>\n",
       "      <td>3.285902</td>\n",
       "      <td>6.594477</td>\n",
       "      <td>6.373268</td>\n",
       "    </tr>\n",
       "    <tr>\n",
       "      <th>min</th>\n",
       "      <td>0.000000</td>\n",
       "      <td>0.000000</td>\n",
       "      <td>0.002400</td>\n",
       "      <td>0.000000</td>\n",
       "      <td>0.002400</td>\n",
       "      <td>0.002400</td>\n",
       "      <td>0.002400</td>\n",
       "      <td>0.002400</td>\n",
       "      <td>0.000000</td>\n",
       "      <td>0.000000</td>\n",
       "      <td>0.000000</td>\n",
       "      <td>0.000000</td>\n",
       "      <td>0.000000</td>\n",
       "      <td>0.000000</td>\n",
       "    </tr>\n",
       "    <tr>\n",
       "      <th>25%</th>\n",
       "      <td>0.002400</td>\n",
       "      <td>0.002400</td>\n",
       "      <td>0.002400</td>\n",
       "      <td>0.002400</td>\n",
       "      <td>0.002400</td>\n",
       "      <td>0.002400</td>\n",
       "      <td>0.075700</td>\n",
       "      <td>0.063500</td>\n",
       "      <td>0.002400</td>\n",
       "      <td>0.009800</td>\n",
       "      <td>0.000000</td>\n",
       "      <td>0.000000</td>\n",
       "      <td>0.000000</td>\n",
       "      <td>0.000000</td>\n",
       "    </tr>\n",
       "    <tr>\n",
       "      <th>50%</th>\n",
       "      <td>0.004900</td>\n",
       "      <td>0.002400</td>\n",
       "      <td>0.002400</td>\n",
       "      <td>0.002400</td>\n",
       "      <td>0.002400</td>\n",
       "      <td>0.024400</td>\n",
       "      <td>0.188000</td>\n",
       "      <td>0.151400</td>\n",
       "      <td>0.002400</td>\n",
       "      <td>0.092800</td>\n",
       "      <td>2.000000</td>\n",
       "      <td>0.000000</td>\n",
       "      <td>3.000000</td>\n",
       "      <td>0.000000</td>\n",
       "    </tr>\n",
       "    <tr>\n",
       "      <th>75%</th>\n",
       "      <td>0.014600</td>\n",
       "      <td>0.085400</td>\n",
       "      <td>0.068400</td>\n",
       "      <td>0.029300</td>\n",
       "      <td>0.022000</td>\n",
       "      <td>0.080600</td>\n",
       "      <td>0.371100</td>\n",
       "      <td>0.405300</td>\n",
       "      <td>0.134300</td>\n",
       "      <td>0.283200</td>\n",
       "      <td>6.000000</td>\n",
       "      <td>5.000000</td>\n",
       "      <td>10.000000</td>\n",
       "      <td>8.000000</td>\n",
       "    </tr>\n",
       "    <tr>\n",
       "      <th>max</th>\n",
       "      <td>2.480500</td>\n",
       "      <td>3.320300</td>\n",
       "      <td>4.653300</td>\n",
       "      <td>1.960400</td>\n",
       "      <td>2.763700</td>\n",
       "      <td>2.390100</td>\n",
       "      <td>4.663100</td>\n",
       "      <td>4.621600</td>\n",
       "      <td>4.665500</td>\n",
       "      <td>4.665500</td>\n",
       "      <td>10.000000</td>\n",
       "      <td>10.000000</td>\n",
       "      <td>23.000000</td>\n",
       "      <td>23.000000</td>\n",
       "    </tr>\n",
       "  </tbody>\n",
       "</table>\n",
       "</div>"
      ],
      "text/plain": [
       "                Emg1           Emg2           Emg3           Emg4  \\\n",
       "count  457928.000000  457928.000000  457928.000000  457928.000000   \n",
       "mean        0.019734       0.092321       0.083216       0.039534   \n",
       "std         0.079264       0.215375       0.215094       0.095570   \n",
       "min         0.000000       0.000000       0.002400       0.000000   \n",
       "25%         0.002400       0.002400       0.002400       0.002400   \n",
       "50%         0.004900       0.002400       0.002400       0.002400   \n",
       "75%         0.014600       0.085400       0.068400       0.029300   \n",
       "max         2.480500       3.320300       4.653300       1.960400   \n",
       "\n",
       "                Emg5           Emg6           Emg7           Emg8  \\\n",
       "count  457928.000000  457928.000000  457928.000000  457928.000000   \n",
       "mean        0.026400       0.077164       0.301754       0.385765   \n",
       "std         0.055138       0.147718       0.381117       0.587775   \n",
       "min         0.002400       0.002400       0.002400       0.002400   \n",
       "25%         0.002400       0.002400       0.075700       0.063500   \n",
       "50%         0.002400       0.024400       0.188000       0.151400   \n",
       "75%         0.022000       0.080600       0.371100       0.405300   \n",
       "max         2.763700       2.390100       4.663100       4.621600   \n",
       "\n",
       "                Emg9          Emg10     repetition   rerepetition  \\\n",
       "count  457928.000000  457928.000000  457928.000000  457928.000000   \n",
       "mean        0.156294       0.221862       3.219882       2.347234   \n",
       "std         0.381881       0.358927       3.488817       3.285902   \n",
       "min         0.000000       0.000000       0.000000       0.000000   \n",
       "25%         0.002400       0.009800       0.000000       0.000000   \n",
       "50%         0.002400       0.092800       2.000000       0.000000   \n",
       "75%         0.134300       0.283200       6.000000       5.000000   \n",
       "max         4.665500       4.665500      10.000000      10.000000   \n",
       "\n",
       "            stimulus     restimulus  \n",
       "count  457928.000000  457928.000000  \n",
       "mean        5.706694       4.335299  \n",
       "std         6.594477       6.373268  \n",
       "min         0.000000       0.000000  \n",
       "25%         0.000000       0.000000  \n",
       "50%         3.000000       0.000000  \n",
       "75%        10.000000       8.000000  \n",
       "max        23.000000      23.000000  "
      ]
     },
     "execution_count": 4,
     "metadata": {},
     "output_type": "execute_result"
    }
   ],
   "source": [
    "raw_data.describe(include='all')"
   ]
  },
  {
   "cell_type": "code",
   "execution_count": 5,
   "id": "f0b9a2e6",
   "metadata": {},
   "outputs": [
    {
     "name": "stdout",
     "output_type": "stream",
     "text": [
      "Unique Dependent values and their counts :\n",
      "0     189857\n",
      "4      15495\n",
      "12     15494\n",
      "2      15493\n",
      "8      15491\n",
      "7      15490\n",
      "6      15476\n",
      "5      15465\n",
      "11     15465\n",
      "9      15462\n",
      "10     15437\n",
      "1      15433\n",
      "3      15422\n",
      "17     10334\n",
      "14     10330\n",
      "13     10327\n",
      "15     10302\n",
      "16     10249\n",
      "19      5179\n",
      "18      5167\n",
      "21      5160\n",
      "20      5139\n",
      "22      5133\n",
      "23      5128\n",
      "Name: stimulus, dtype: int64\n"
     ]
    }
   ],
   "source": [
    "print(\"Unique Dependent values and their counts :\")\n",
    "print(raw_data[\"stimulus\"].value_counts())"
   ]
  },
  {
   "cell_type": "markdown",
   "id": "54420ec4",
   "metadata": {},
   "source": [
    "# Data Cleaning"
   ]
  },
  {
   "cell_type": "code",
   "execution_count": 6,
   "id": "a811198b",
   "metadata": {},
   "outputs": [],
   "source": [
    "index_names = raw_data[ (raw_data['stimulus'] != raw_data['restimulus'])].index\n",
    "raw_data.drop(index_names, inplace = True)"
   ]
  },
  {
   "cell_type": "code",
   "execution_count": 7,
   "id": "556cd92f",
   "metadata": {},
   "outputs": [],
   "source": [
    "index_names = raw_data[ (raw_data['repetition'] != raw_data['rerepetition'])].index\n",
    "raw_data.drop(index_names, inplace = True)"
   ]
  },
  {
   "cell_type": "code",
   "execution_count": 8,
   "id": "c91744f7",
   "metadata": {},
   "outputs": [],
   "source": [
    "X = raw_data.iloc[:,0:10]\n",
    "y = raw_data.stimulus"
   ]
  },
  {
   "cell_type": "markdown",
   "id": "152f7160",
   "metadata": {},
   "source": [
    "# One Hot Encoding"
   ]
  },
  {
   "cell_type": "code",
   "execution_count": 9,
   "id": "dfb77d24",
   "metadata": {},
   "outputs": [],
   "source": [
    "num_classes = 24"
   ]
  },
  {
   "cell_type": "code",
   "execution_count": 10,
   "id": "be64bf6b",
   "metadata": {},
   "outputs": [],
   "source": [
    "# One hot encoding for categorical labels\n",
    "import keras\n",
    "from keras import utils as np_utils\n",
    "y = keras.utils.np_utils.to_categorical(y, num_classes)"
   ]
  },
  {
   "cell_type": "code",
   "execution_count": 11,
   "id": "c7358f86",
   "metadata": {},
   "outputs": [],
   "source": [
    "input_dim = X.shape[1]"
   ]
  },
  {
   "cell_type": "markdown",
   "id": "cb3088a1",
   "metadata": {},
   "source": [
    "# Standard Scaler"
   ]
  },
  {
   "cell_type": "code",
   "execution_count": 12,
   "id": "5bd820f4",
   "metadata": {},
   "outputs": [],
   "source": [
    "from sklearn.preprocessing import StandardScaler\n",
    "standardscaler=StandardScaler()"
   ]
  },
  {
   "cell_type": "code",
   "execution_count": 13,
   "id": "6a118694",
   "metadata": {},
   "outputs": [],
   "source": [
    "sc = pd.DataFrame(standardscaler.fit_transform(X))"
   ]
  },
  {
   "cell_type": "code",
   "execution_count": 14,
   "id": "d6e2f38b",
   "metadata": {},
   "outputs": [
    {
     "data": {
      "text/html": [
       "<div>\n",
       "<style scoped>\n",
       "    .dataframe tbody tr th:only-of-type {\n",
       "        vertical-align: middle;\n",
       "    }\n",
       "\n",
       "    .dataframe tbody tr th {\n",
       "        vertical-align: top;\n",
       "    }\n",
       "\n",
       "    .dataframe thead th {\n",
       "        text-align: right;\n",
       "    }\n",
       "</style>\n",
       "<table border=\"1\" class=\"dataframe\">\n",
       "  <thead>\n",
       "    <tr style=\"text-align: right;\">\n",
       "      <th></th>\n",
       "      <th>0</th>\n",
       "      <th>1</th>\n",
       "      <th>2</th>\n",
       "      <th>3</th>\n",
       "      <th>4</th>\n",
       "      <th>5</th>\n",
       "      <th>6</th>\n",
       "      <th>7</th>\n",
       "      <th>8</th>\n",
       "      <th>9</th>\n",
       "    </tr>\n",
       "  </thead>\n",
       "  <tbody>\n",
       "    <tr>\n",
       "      <th>0</th>\n",
       "      <td>-0.216751</td>\n",
       "      <td>-0.460575</td>\n",
       "      <td>-0.412655</td>\n",
       "      <td>-0.426526</td>\n",
       "      <td>-0.472803</td>\n",
       "      <td>-0.490566</td>\n",
       "      <td>-0.777345</td>\n",
       "      <td>-0.606080</td>\n",
       "      <td>-0.442114</td>\n",
       "      <td>-0.569869</td>\n",
       "    </tr>\n",
       "    <tr>\n",
       "      <th>1</th>\n",
       "      <td>-0.216751</td>\n",
       "      <td>-0.460575</td>\n",
       "      <td>-0.412655</td>\n",
       "      <td>-0.426526</td>\n",
       "      <td>-0.472803</td>\n",
       "      <td>-0.490566</td>\n",
       "      <td>-0.783230</td>\n",
       "      <td>-0.613861</td>\n",
       "      <td>-0.442114</td>\n",
       "      <td>-0.569869</td>\n",
       "    </tr>\n",
       "    <tr>\n",
       "      <th>2</th>\n",
       "      <td>-0.216751</td>\n",
       "      <td>-0.460575</td>\n",
       "      <td>-0.412655</td>\n",
       "      <td>-0.426526</td>\n",
       "      <td>-0.472803</td>\n",
       "      <td>-0.506282</td>\n",
       "      <td>-0.795246</td>\n",
       "      <td>-0.625453</td>\n",
       "      <td>-0.442114</td>\n",
       "      <td>-0.576104</td>\n",
       "    </tr>\n",
       "    <tr>\n",
       "      <th>3</th>\n",
       "      <td>-0.186370</td>\n",
       "      <td>-0.460575</td>\n",
       "      <td>-0.412655</td>\n",
       "      <td>-0.426526</td>\n",
       "      <td>-0.472803</td>\n",
       "      <td>-0.506282</td>\n",
       "      <td>-0.801132</td>\n",
       "      <td>-0.633234</td>\n",
       "      <td>-0.442114</td>\n",
       "      <td>-0.582338</td>\n",
       "    </tr>\n",
       "    <tr>\n",
       "      <th>4</th>\n",
       "      <td>-0.186370</td>\n",
       "      <td>-0.460575</td>\n",
       "      <td>-0.412655</td>\n",
       "      <td>-0.426526</td>\n",
       "      <td>-0.472803</td>\n",
       "      <td>-0.537085</td>\n",
       "      <td>-0.807262</td>\n",
       "      <td>-0.637045</td>\n",
       "      <td>-0.442114</td>\n",
       "      <td>-0.595066</td>\n",
       "    </tr>\n",
       "    <tr>\n",
       "      <th>...</th>\n",
       "      <td>...</td>\n",
       "      <td>...</td>\n",
       "      <td>...</td>\n",
       "      <td>...</td>\n",
       "      <td>...</td>\n",
       "      <td>...</td>\n",
       "      <td>...</td>\n",
       "      <td>...</td>\n",
       "      <td>...</td>\n",
       "      <td>...</td>\n",
       "    </tr>\n",
       "    <tr>\n",
       "      <th>379642</th>\n",
       "      <td>-0.157205</td>\n",
       "      <td>-0.040272</td>\n",
       "      <td>-0.234510</td>\n",
       "      <td>-0.379098</td>\n",
       "      <td>-0.307505</td>\n",
       "      <td>0.046284</td>\n",
       "      <td>-0.172623</td>\n",
       "      <td>0.572508</td>\n",
       "      <td>-0.442114</td>\n",
       "      <td>-0.271664</td>\n",
       "    </tr>\n",
       "    <tr>\n",
       "      <th>379643</th>\n",
       "      <td>-0.126824</td>\n",
       "      <td>-0.050597</td>\n",
       "      <td>-0.255115</td>\n",
       "      <td>-0.402328</td>\n",
       "      <td>-0.347986</td>\n",
       "      <td>0.031197</td>\n",
       "      <td>-0.148592</td>\n",
       "      <td>0.607443</td>\n",
       "      <td>-0.442114</td>\n",
       "      <td>-0.290627</td>\n",
       "    </tr>\n",
       "    <tr>\n",
       "      <th>379644</th>\n",
       "      <td>-0.097659</td>\n",
       "      <td>-0.124161</td>\n",
       "      <td>-0.297183</td>\n",
       "      <td>-0.426526</td>\n",
       "      <td>-0.390154</td>\n",
       "      <td>-0.030409</td>\n",
       "      <td>-0.190525</td>\n",
       "      <td>0.541542</td>\n",
       "      <td>-0.442114</td>\n",
       "      <td>-0.341540</td>\n",
       "    </tr>\n",
       "    <tr>\n",
       "      <th>379645</th>\n",
       "      <td>-0.097659</td>\n",
       "      <td>-0.124161</td>\n",
       "      <td>-0.265846</td>\n",
       "      <td>-0.379098</td>\n",
       "      <td>-0.472803</td>\n",
       "      <td>-0.076299</td>\n",
       "      <td>-0.202541</td>\n",
       "      <td>0.603473</td>\n",
       "      <td>-0.442114</td>\n",
       "      <td>-0.366737</td>\n",
       "    </tr>\n",
       "    <tr>\n",
       "      <th>379646</th>\n",
       "      <td>-0.097659</td>\n",
       "      <td>-0.134916</td>\n",
       "      <td>-0.255115</td>\n",
       "      <td>-0.354901</td>\n",
       "      <td>-0.472803</td>\n",
       "      <td>-0.107102</td>\n",
       "      <td>-0.226327</td>\n",
       "      <td>0.638408</td>\n",
       "      <td>-0.442114</td>\n",
       "      <td>-0.392193</td>\n",
       "    </tr>\n",
       "  </tbody>\n",
       "</table>\n",
       "<p>379647 rows × 10 columns</p>\n",
       "</div>"
      ],
      "text/plain": [
       "               0         1         2         3         4         5         6  \\\n",
       "0      -0.216751 -0.460575 -0.412655 -0.426526 -0.472803 -0.490566 -0.777345   \n",
       "1      -0.216751 -0.460575 -0.412655 -0.426526 -0.472803 -0.490566 -0.783230   \n",
       "2      -0.216751 -0.460575 -0.412655 -0.426526 -0.472803 -0.506282 -0.795246   \n",
       "3      -0.186370 -0.460575 -0.412655 -0.426526 -0.472803 -0.506282 -0.801132   \n",
       "4      -0.186370 -0.460575 -0.412655 -0.426526 -0.472803 -0.537085 -0.807262   \n",
       "...          ...       ...       ...       ...       ...       ...       ...   \n",
       "379642 -0.157205 -0.040272 -0.234510 -0.379098 -0.307505  0.046284 -0.172623   \n",
       "379643 -0.126824 -0.050597 -0.255115 -0.402328 -0.347986  0.031197 -0.148592   \n",
       "379644 -0.097659 -0.124161 -0.297183 -0.426526 -0.390154 -0.030409 -0.190525   \n",
       "379645 -0.097659 -0.124161 -0.265846 -0.379098 -0.472803 -0.076299 -0.202541   \n",
       "379646 -0.097659 -0.134916 -0.255115 -0.354901 -0.472803 -0.107102 -0.226327   \n",
       "\n",
       "               7         8         9  \n",
       "0      -0.606080 -0.442114 -0.569869  \n",
       "1      -0.613861 -0.442114 -0.569869  \n",
       "2      -0.625453 -0.442114 -0.576104  \n",
       "3      -0.633234 -0.442114 -0.582338  \n",
       "4      -0.637045 -0.442114 -0.595066  \n",
       "...          ...       ...       ...  \n",
       "379642  0.572508 -0.442114 -0.271664  \n",
       "379643  0.607443 -0.442114 -0.290627  \n",
       "379644  0.541542 -0.442114 -0.341540  \n",
       "379645  0.603473 -0.442114 -0.366737  \n",
       "379646  0.638408 -0.442114 -0.392193  \n",
       "\n",
       "[379647 rows x 10 columns]"
      ]
     },
     "execution_count": 14,
     "metadata": {},
     "output_type": "execute_result"
    }
   ],
   "source": [
    "sc"
   ]
  },
  {
   "cell_type": "code",
   "execution_count": 15,
   "id": "65cfb75d",
   "metadata": {},
   "outputs": [],
   "source": [
    "# Splitting data for training and testing\n",
    "X_train, X_test, y_train, y_test = train_test_split(sc, y, test_size = 0.2, random_state = 39)"
   ]
  },
  {
   "cell_type": "markdown",
   "id": "3ba47781",
   "metadata": {},
   "source": [
    "# Deep Learning "
   ]
  },
  {
   "cell_type": "code",
   "execution_count": 16,
   "id": "d426e2e1",
   "metadata": {},
   "outputs": [],
   "source": [
    "from sklearn.preprocessing import MinMaxScaler\n",
    "from tensorflow.keras.models import Model\n",
    "from tensorflow.keras.layers import Input\n",
    "from tensorflow.keras.layers import Dense\n",
    "from tensorflow.keras.layers import LeakyReLU,ELU\n",
    "from tensorflow.keras.layers import BatchNormalization\n",
    "from tensorflow.keras.utils import plot_model\n",
    "import tensorflow as tf\n",
    "from sklearn.model_selection import cross_val_score\n",
    "from keras.models import Sequential\n",
    "from keras.layers import Dense, BatchNormalization, Dropout\n",
    "from tensorflow.keras.optimizers import Adam, SGD, RMSprop, Adadelta, Adagrad, Adamax, Nadam, Ftrl\n",
    "from keras.callbacks import EarlyStopping, ModelCheckpoint\n",
    "from keras.wrappers.scikit_learn import KerasClassifier\n",
    "from sklearn.metrics import make_scorer, accuracy_score\n",
    "from sklearn.model_selection import StratifiedKFold"
   ]
  },
  {
   "cell_type": "code",
   "execution_count": 17,
   "id": "cd0ef208",
   "metadata": {},
   "outputs": [],
   "source": [
    "from keras.layers import LeakyReLU\n",
    "LeakyReLU = LeakyReLU(alpha=0.1)\n",
    "from keras.models import Sequential\n",
    "from keras.layers import Dense, Flatten, Convolution1D, Dropout\n",
    "from keras.initializers import random_uniform"
   ]
  },
  {
   "cell_type": "markdown",
   "id": "f97d61bc",
   "metadata": {},
   "source": [
    "# 1. Define Network"
   ]
  },
  {
   "cell_type": "code",
   "execution_count": 18,
   "id": "bd77bf81",
   "metadata": {},
   "outputs": [],
   "source": [
    "num_classes = 24\n",
    "input_dim = X.shape[1]"
   ]
  },
  {
   "cell_type": "code",
   "execution_count": 19,
   "id": "fbdce465",
   "metadata": {},
   "outputs": [],
   "source": [
    "visible = Input(shape=(input_dim,))\n",
    "hidden1 = Dense(3000, activation='relu')(visible)\n",
    "hidden2 = Dense(1500, activation='relu')(hidden1)\n",
    "hidden3 = Dropout(0.2)(hidden2)\n",
    "hidden4 = Dense(750, activation='relu')(hidden3)\n",
    "hidden5 = Dense(375, activation='relu')(hidden4)\n",
    "hidden6 = Dense(48, activation='relu')(hidden5)\n",
    "output = Dense(num_classes, activation='softmax')(hidden6)\n",
    "model = Model(inputs=visible, outputs=output)"
   ]
  },
  {
   "cell_type": "code",
   "execution_count": 20,
   "id": "1dd33478",
   "metadata": {},
   "outputs": [
    {
     "name": "stdout",
     "output_type": "stream",
     "text": [
      "Model: \"model\"\n",
      "_________________________________________________________________\n",
      " Layer (type)                Output Shape              Param #   \n",
      "=================================================================\n",
      " input_1 (InputLayer)        [(None, 10)]              0         \n",
      "                                                                 \n",
      " dense (Dense)               (None, 3000)              33000     \n",
      "                                                                 \n",
      " dense_1 (Dense)             (None, 1500)              4501500   \n",
      "                                                                 \n",
      " dropout (Dropout)           (None, 1500)              0         \n",
      "                                                                 \n",
      " dense_2 (Dense)             (None, 750)               1125750   \n",
      "                                                                 \n",
      " dense_3 (Dense)             (None, 375)               281625    \n",
      "                                                                 \n",
      " dense_4 (Dense)             (None, 48)                18048     \n",
      "                                                                 \n",
      " dense_5 (Dense)             (None, 24)                1176      \n",
      "                                                                 \n",
      "=================================================================\n",
      "Total params: 5,961,099\n",
      "Trainable params: 5,961,099\n",
      "Non-trainable params: 0\n",
      "_________________________________________________________________\n"
     ]
    }
   ],
   "source": [
    "model.summary()"
   ]
  },
  {
   "cell_type": "markdown",
   "id": "3196ac97",
   "metadata": {},
   "source": [
    "# 2. Compile Network"
   ]
  },
  {
   "cell_type": "code",
   "execution_count": 21,
   "id": "7a2d558b",
   "metadata": {},
   "outputs": [],
   "source": [
    "model.compile(optimizer='adam', loss='categorical_crossentropy', metrics=['accuracy'])"
   ]
  },
  {
   "cell_type": "code",
   "execution_count": 22,
   "id": "c1d2b36d",
   "metadata": {},
   "outputs": [
    {
     "name": "stdout",
     "output_type": "stream",
     "text": [
      "You must install pydot (`pip install pydot`) and install graphviz (see instructions at https://graphviz.gitlab.io/download/) for plot_model/model_to_dot to work.\n"
     ]
    }
   ],
   "source": [
    "plot_model(model, 'EMG_ANN', show_shapes = True)"
   ]
  },
  {
   "cell_type": "markdown",
   "id": "3358b592",
   "metadata": {},
   "source": [
    "# 3. Fit Network"
   ]
  },
  {
   "cell_type": "code",
   "execution_count": 23,
   "id": "e0ed4ddd",
   "metadata": {},
   "outputs": [
    {
     "name": "stdout",
     "output_type": "stream",
     "text": [
      "Epoch 1/100\n",
      "75/75 [==============================] - 3s 29ms/step - loss: 1.4371 - accuracy: 0.6250 - val_loss: 1.0255 - val_accuracy: 0.7194\n",
      "Epoch 2/100\n",
      "75/75 [==============================] - 2s 26ms/step - loss: 0.9486 - accuracy: 0.7354 - val_loss: 0.8320 - val_accuracy: 0.7644\n",
      "Epoch 3/100\n",
      "75/75 [==============================] - 2s 26ms/step - loss: 0.8097 - accuracy: 0.7686 - val_loss: 0.7476 - val_accuracy: 0.7885\n",
      "Epoch 4/100\n",
      "75/75 [==============================] - 2s 26ms/step - loss: 0.7373 - accuracy: 0.7870 - val_loss: 0.6768 - val_accuracy: 0.8029\n",
      "Epoch 5/100\n",
      "75/75 [==============================] - 2s 26ms/step - loss: 0.6778 - accuracy: 0.8030 - val_loss: 0.6367 - val_accuracy: 0.8136\n",
      "Epoch 6/100\n",
      "75/75 [==============================] - 2s 27ms/step - loss: 0.6355 - accuracy: 0.8139 - val_loss: 0.6054 - val_accuracy: 0.8233\n",
      "Epoch 7/100\n",
      "75/75 [==============================] - 2s 26ms/step - loss: 0.5982 - accuracy: 0.8240 - val_loss: 0.5693 - val_accuracy: 0.8324\n",
      "Epoch 8/100\n",
      "75/75 [==============================] - 2s 26ms/step - loss: 0.5709 - accuracy: 0.8321 - val_loss: 0.5561 - val_accuracy: 0.8376\n",
      "Epoch 9/100\n",
      "75/75 [==============================] - 2s 26ms/step - loss: 0.5454 - accuracy: 0.8387 - val_loss: 0.5227 - val_accuracy: 0.8458\n",
      "Epoch 10/100\n",
      "75/75 [==============================] - 2s 26ms/step - loss: 0.5239 - accuracy: 0.8444 - val_loss: 0.5059 - val_accuracy: 0.8492\n",
      "Epoch 11/100\n",
      "75/75 [==============================] - 2s 26ms/step - loss: 0.5024 - accuracy: 0.8507 - val_loss: 0.4876 - val_accuracy: 0.8539\n",
      "Epoch 12/100\n",
      "75/75 [==============================] - 2s 27ms/step - loss: 0.4861 - accuracy: 0.8549 - val_loss: 0.4729 - val_accuracy: 0.8586\n",
      "Epoch 13/100\n",
      "75/75 [==============================] - 2s 26ms/step - loss: 0.4729 - accuracy: 0.8589 - val_loss: 0.4612 - val_accuracy: 0.8617\n",
      "Epoch 14/100\n",
      "75/75 [==============================] - 2s 26ms/step - loss: 0.4520 - accuracy: 0.8652 - val_loss: 0.4454 - val_accuracy: 0.8656\n",
      "Epoch 15/100\n",
      "75/75 [==============================] - 2s 27ms/step - loss: 0.4388 - accuracy: 0.8683 - val_loss: 0.4298 - val_accuracy: 0.8704\n",
      "Epoch 16/100\n",
      "75/75 [==============================] - 2s 26ms/step - loss: 0.4275 - accuracy: 0.8721 - val_loss: 0.4331 - val_accuracy: 0.8696\n",
      "Epoch 17/100\n",
      "75/75 [==============================] - 2s 25ms/step - loss: 0.4140 - accuracy: 0.8750 - val_loss: 0.4109 - val_accuracy: 0.8767\n",
      "Epoch 18/100\n",
      "75/75 [==============================] - 2s 26ms/step - loss: 0.4024 - accuracy: 0.8787 - val_loss: 0.4064 - val_accuracy: 0.8770\n",
      "Epoch 19/100\n",
      "75/75 [==============================] - 2s 26ms/step - loss: 0.3923 - accuracy: 0.8813 - val_loss: 0.3994 - val_accuracy: 0.8802\n",
      "Epoch 20/100\n",
      "75/75 [==============================] - 2s 26ms/step - loss: 0.3833 - accuracy: 0.8843 - val_loss: 0.3957 - val_accuracy: 0.8807\n",
      "Epoch 21/100\n",
      "75/75 [==============================] - 2s 26ms/step - loss: 0.3743 - accuracy: 0.8868 - val_loss: 0.3789 - val_accuracy: 0.8858\n",
      "Epoch 22/100\n",
      "75/75 [==============================] - 2s 26ms/step - loss: 0.3626 - accuracy: 0.8897 - val_loss: 0.3697 - val_accuracy: 0.8885\n",
      "Epoch 23/100\n",
      "75/75 [==============================] - 2s 27ms/step - loss: 0.3527 - accuracy: 0.8931 - val_loss: 0.3841 - val_accuracy: 0.8865\n",
      "Epoch 24/100\n",
      "75/75 [==============================] - 2s 26ms/step - loss: 0.3460 - accuracy: 0.8953 - val_loss: 0.3625 - val_accuracy: 0.8897\n",
      "Epoch 25/100\n",
      "75/75 [==============================] - 2s 25ms/step - loss: 0.3396 - accuracy: 0.8964 - val_loss: 0.3485 - val_accuracy: 0.8940\n",
      "Epoch 26/100\n",
      "75/75 [==============================] - 2s 26ms/step - loss: 0.3301 - accuracy: 0.9001 - val_loss: 0.3475 - val_accuracy: 0.8946\n",
      "Epoch 27/100\n",
      "75/75 [==============================] - 2s 27ms/step - loss: 0.3260 - accuracy: 0.9010 - val_loss: 0.3416 - val_accuracy: 0.8963\n",
      "Epoch 28/100\n",
      "75/75 [==============================] - 2s 26ms/step - loss: 0.3165 - accuracy: 0.9030 - val_loss: 0.3298 - val_accuracy: 0.8996\n",
      "Epoch 29/100\n",
      "75/75 [==============================] - 2s 26ms/step - loss: 0.3118 - accuracy: 0.9048 - val_loss: 0.3358 - val_accuracy: 0.8997\n",
      "Epoch 30/100\n",
      "75/75 [==============================] - 2s 26ms/step - loss: 0.3044 - accuracy: 0.9071 - val_loss: 0.3240 - val_accuracy: 0.9014\n",
      "Epoch 31/100\n",
      "75/75 [==============================] - 2s 27ms/step - loss: 0.3024 - accuracy: 0.9078 - val_loss: 0.3204 - val_accuracy: 0.9022\n",
      "Epoch 32/100\n",
      "75/75 [==============================] - 2s 26ms/step - loss: 0.2933 - accuracy: 0.9104 - val_loss: 0.3138 - val_accuracy: 0.9051\n",
      "Epoch 33/100\n",
      "75/75 [==============================] - 2s 26ms/step - loss: 0.2852 - accuracy: 0.9125 - val_loss: 0.3136 - val_accuracy: 0.9060\n",
      "Epoch 34/100\n",
      "75/75 [==============================] - 2s 27ms/step - loss: 0.2804 - accuracy: 0.9146 - val_loss: 0.3017 - val_accuracy: 0.9090\n",
      "Epoch 35/100\n",
      "75/75 [==============================] - 2s 27ms/step - loss: 0.2771 - accuracy: 0.9156 - val_loss: 0.3025 - val_accuracy: 0.9083\n",
      "Epoch 36/100\n",
      "75/75 [==============================] - 2s 26ms/step - loss: 0.2755 - accuracy: 0.9155 - val_loss: 0.2950 - val_accuracy: 0.9114\n",
      "Epoch 37/100\n",
      "75/75 [==============================] - 2s 26ms/step - loss: 0.2710 - accuracy: 0.9170 - val_loss: 0.3005 - val_accuracy: 0.9093\n",
      "Epoch 38/100\n",
      "75/75 [==============================] - 2s 26ms/step - loss: 0.2629 - accuracy: 0.9192 - val_loss: 0.2854 - val_accuracy: 0.9138\n",
      "Epoch 39/100\n",
      "75/75 [==============================] - 2s 27ms/step - loss: 0.2595 - accuracy: 0.9208 - val_loss: 0.2923 - val_accuracy: 0.9124\n",
      "Epoch 40/100\n",
      "75/75 [==============================] - 2s 26ms/step - loss: 0.2583 - accuracy: 0.9209 - val_loss: 0.2856 - val_accuracy: 0.9142\n",
      "Epoch 41/100\n",
      "75/75 [==============================] - 2s 26ms/step - loss: 0.2502 - accuracy: 0.9236 - val_loss: 0.2823 - val_accuracy: 0.9155\n",
      "Epoch 42/100\n",
      "75/75 [==============================] - 2s 27ms/step - loss: 0.2510 - accuracy: 0.9229 - val_loss: 0.2760 - val_accuracy: 0.9163\n",
      "Epoch 43/100\n",
      "75/75 [==============================] - 2s 26ms/step - loss: 0.2457 - accuracy: 0.9247 - val_loss: 0.2842 - val_accuracy: 0.9133\n",
      "Epoch 44/100\n",
      "75/75 [==============================] - 2s 26ms/step - loss: 0.2414 - accuracy: 0.9257 - val_loss: 0.2737 - val_accuracy: 0.9166\n",
      "Epoch 45/100\n",
      "75/75 [==============================] - 2s 27ms/step - loss: 0.2362 - accuracy: 0.9277 - val_loss: 0.2743 - val_accuracy: 0.9177\n",
      "Epoch 46/100\n",
      "75/75 [==============================] - 2s 27ms/step - loss: 0.2333 - accuracy: 0.9283 - val_loss: 0.2670 - val_accuracy: 0.9199\n",
      "Epoch 47/100\n",
      "75/75 [==============================] - 2s 26ms/step - loss: 0.2319 - accuracy: 0.9289 - val_loss: 0.2633 - val_accuracy: 0.9214\n",
      "Epoch 48/100\n",
      "75/75 [==============================] - 2s 26ms/step - loss: 0.2278 - accuracy: 0.9305 - val_loss: 0.2919 - val_accuracy: 0.9123\n",
      "Epoch 49/100\n",
      "75/75 [==============================] - 2s 28ms/step - loss: 0.2275 - accuracy: 0.9301 - val_loss: 0.2604 - val_accuracy: 0.9217\n",
      "Epoch 50/100\n",
      "75/75 [==============================] - 2s 26ms/step - loss: 0.2228 - accuracy: 0.9313 - val_loss: 0.2596 - val_accuracy: 0.9214\n",
      "Epoch 51/100\n",
      "75/75 [==============================] - 2s 26ms/step - loss: 0.2207 - accuracy: 0.9321 - val_loss: 0.2566 - val_accuracy: 0.9230\n",
      "Epoch 52/100\n",
      "75/75 [==============================] - 2s 27ms/step - loss: 0.2189 - accuracy: 0.9327 - val_loss: 0.2553 - val_accuracy: 0.9227\n",
      "Epoch 53/100\n",
      "75/75 [==============================] - 2s 27ms/step - loss: 0.2133 - accuracy: 0.9339 - val_loss: 0.2563 - val_accuracy: 0.9224\n",
      "Epoch 54/100\n",
      "75/75 [==============================] - 2s 26ms/step - loss: 0.2138 - accuracy: 0.9344 - val_loss: 0.2586 - val_accuracy: 0.9239\n",
      "Epoch 55/100\n",
      "75/75 [==============================] - 2s 28ms/step - loss: 0.2114 - accuracy: 0.9344 - val_loss: 0.2515 - val_accuracy: 0.9237\n",
      "Epoch 56/100\n",
      "75/75 [==============================] - 2s 26ms/step - loss: 0.2078 - accuracy: 0.9364 - val_loss: 0.2517 - val_accuracy: 0.9249\n",
      "Epoch 57/100\n",
      "75/75 [==============================] - 2s 27ms/step - loss: 0.2077 - accuracy: 0.9366 - val_loss: 0.2496 - val_accuracy: 0.9255\n",
      "Epoch 58/100\n"
     ]
    },
    {
     "name": "stdout",
     "output_type": "stream",
     "text": [
      "75/75 [==============================] - 2s 27ms/step - loss: 0.2035 - accuracy: 0.9371 - val_loss: 0.2478 - val_accuracy: 0.9261\n",
      "Epoch 59/100\n",
      "75/75 [==============================] - 2s 26ms/step - loss: 0.2034 - accuracy: 0.9373 - val_loss: 0.2501 - val_accuracy: 0.9256\n",
      "Epoch 60/100\n",
      "75/75 [==============================] - 2s 26ms/step - loss: 0.2020 - accuracy: 0.9378 - val_loss: 0.2455 - val_accuracy: 0.9273\n",
      "Epoch 61/100\n",
      "75/75 [==============================] - 2s 27ms/step - loss: 0.1964 - accuracy: 0.9396 - val_loss: 0.2452 - val_accuracy: 0.9272\n",
      "Epoch 62/100\n",
      "75/75 [==============================] - 2s 26ms/step - loss: 0.1969 - accuracy: 0.9394 - val_loss: 0.2387 - val_accuracy: 0.9293\n",
      "Epoch 63/100\n",
      "75/75 [==============================] - 2s 26ms/step - loss: 0.1953 - accuracy: 0.9395 - val_loss: 0.2368 - val_accuracy: 0.9299\n",
      "Epoch 64/100\n",
      "75/75 [==============================] - 2s 27ms/step - loss: 0.1906 - accuracy: 0.9412 - val_loss: 0.2400 - val_accuracy: 0.9286\n",
      "Epoch 65/100\n",
      "75/75 [==============================] - 2s 27ms/step - loss: 0.1905 - accuracy: 0.9412 - val_loss: 0.2379 - val_accuracy: 0.9292\n",
      "Epoch 66/100\n",
      "75/75 [==============================] - 2s 26ms/step - loss: 0.1869 - accuracy: 0.9422 - val_loss: 0.2410 - val_accuracy: 0.9294\n",
      "Epoch 67/100\n",
      "75/75 [==============================] - 2s 26ms/step - loss: 0.1844 - accuracy: 0.9430 - val_loss: 0.2408 - val_accuracy: 0.9286\n",
      "Epoch 68/100\n",
      "75/75 [==============================] - 2s 27ms/step - loss: 0.1875 - accuracy: 0.9418 - val_loss: 0.2441 - val_accuracy: 0.9278\n",
      "Epoch 69/100\n",
      "75/75 [==============================] - 2s 27ms/step - loss: 0.1883 - accuracy: 0.9423 - val_loss: 0.2371 - val_accuracy: 0.9291\n",
      "Epoch 70/100\n",
      "75/75 [==============================] - 2s 27ms/step - loss: 0.1827 - accuracy: 0.9436 - val_loss: 0.2310 - val_accuracy: 0.9310\n",
      "Epoch 71/100\n",
      "75/75 [==============================] - 2s 27ms/step - loss: 0.1803 - accuracy: 0.9446 - val_loss: 0.2336 - val_accuracy: 0.9305\n",
      "Epoch 72/100\n",
      "75/75 [==============================] - 2s 27ms/step - loss: 0.1811 - accuracy: 0.9441 - val_loss: 0.2309 - val_accuracy: 0.9323\n",
      "Epoch 73/100\n",
      "75/75 [==============================] - 2s 27ms/step - loss: 0.1782 - accuracy: 0.9452 - val_loss: 0.2359 - val_accuracy: 0.9313\n",
      "Epoch 74/100\n",
      "75/75 [==============================] - 2s 26ms/step - loss: 0.1783 - accuracy: 0.9451 - val_loss: 0.2361 - val_accuracy: 0.9311\n",
      "Epoch 75/100\n",
      "75/75 [==============================] - 2s 26ms/step - loss: 0.1748 - accuracy: 0.9457 - val_loss: 0.2370 - val_accuracy: 0.9312\n",
      "Epoch 76/100\n",
      "75/75 [==============================] - 2s 28ms/step - loss: 0.1746 - accuracy: 0.9459 - val_loss: 0.2308 - val_accuracy: 0.9320\n",
      "Epoch 77/100\n",
      "75/75 [==============================] - 2s 27ms/step - loss: 0.1738 - accuracy: 0.9461 - val_loss: 0.2343 - val_accuracy: 0.9318\n",
      "Epoch 78/100\n",
      "75/75 [==============================] - 2s 26ms/step - loss: 0.1709 - accuracy: 0.9477 - val_loss: 0.2368 - val_accuracy: 0.9314\n",
      "Epoch 79/100\n",
      "75/75 [==============================] - 2s 28ms/step - loss: 0.1696 - accuracy: 0.9474 - val_loss: 0.2376 - val_accuracy: 0.9321\n",
      "Epoch 80/100\n",
      "75/75 [==============================] - 2s 27ms/step - loss: 0.1696 - accuracy: 0.9474 - val_loss: 0.2352 - val_accuracy: 0.9310\n",
      "Epoch 81/100\n",
      "75/75 [==============================] - 2s 26ms/step - loss: 0.1671 - accuracy: 0.9483 - val_loss: 0.2226 - val_accuracy: 0.9340\n",
      "Epoch 82/100\n",
      "75/75 [==============================] - 2s 27ms/step - loss: 0.1674 - accuracy: 0.9486 - val_loss: 0.2213 - val_accuracy: 0.9353\n",
      "Epoch 83/100\n",
      "75/75 [==============================] - 2s 28ms/step - loss: 0.1675 - accuracy: 0.9480 - val_loss: 0.2248 - val_accuracy: 0.9348\n",
      "Epoch 84/100\n",
      "75/75 [==============================] - 2s 28ms/step - loss: 0.1651 - accuracy: 0.9491 - val_loss: 0.2231 - val_accuracy: 0.9345\n",
      "Epoch 85/100\n",
      "75/75 [==============================] - 2s 26ms/step - loss: 0.1681 - accuracy: 0.9484 - val_loss: 0.2343 - val_accuracy: 0.9313\n",
      "Epoch 86/100\n",
      "75/75 [==============================] - 2s 26ms/step - loss: 0.1627 - accuracy: 0.9494 - val_loss: 0.2230 - val_accuracy: 0.9351\n",
      "Epoch 87/100\n",
      "75/75 [==============================] - 2s 26ms/step - loss: 0.1617 - accuracy: 0.9496 - val_loss: 0.2266 - val_accuracy: 0.9336\n",
      "Epoch 88/100\n",
      "75/75 [==============================] - 2s 26ms/step - loss: 0.1570 - accuracy: 0.9509 - val_loss: 0.2200 - val_accuracy: 0.9360\n",
      "Epoch 89/100\n",
      "75/75 [==============================] - 2s 26ms/step - loss: 0.1624 - accuracy: 0.9495 - val_loss: 0.2319 - val_accuracy: 0.9328\n",
      "Epoch 90/100\n",
      "75/75 [==============================] - 2s 26ms/step - loss: 0.1568 - accuracy: 0.9515 - val_loss: 0.2292 - val_accuracy: 0.9337\n",
      "Epoch 91/100\n",
      "75/75 [==============================] - 2s 26ms/step - loss: 0.1565 - accuracy: 0.9511 - val_loss: 0.2259 - val_accuracy: 0.9358\n",
      "Epoch 92/100\n",
      "75/75 [==============================] - 2s 26ms/step - loss: 0.1533 - accuracy: 0.9522 - val_loss: 0.2147 - val_accuracy: 0.9370\n",
      "Epoch 93/100\n",
      "75/75 [==============================] - 2s 27ms/step - loss: 0.1518 - accuracy: 0.9527 - val_loss: 0.2178 - val_accuracy: 0.9365\n",
      "Epoch 94/100\n",
      "75/75 [==============================] - 2s 27ms/step - loss: 0.1508 - accuracy: 0.9531 - val_loss: 0.2276 - val_accuracy: 0.9347\n",
      "Epoch 95/100\n",
      "75/75 [==============================] - 2s 27ms/step - loss: 0.1542 - accuracy: 0.9520 - val_loss: 0.2175 - val_accuracy: 0.9367\n",
      "Epoch 96/100\n",
      "75/75 [==============================] - 2s 26ms/step - loss: 0.1569 - accuracy: 0.9511 - val_loss: 0.2293 - val_accuracy: 0.9344\n",
      "Epoch 97/100\n",
      "75/75 [==============================] - 2s 27ms/step - loss: 0.1500 - accuracy: 0.9533 - val_loss: 0.2220 - val_accuracy: 0.9368\n",
      "Epoch 98/100\n",
      "75/75 [==============================] - 2s 27ms/step - loss: 0.1511 - accuracy: 0.9527 - val_loss: 0.2187 - val_accuracy: 0.9375\n",
      "Epoch 99/100\n",
      "75/75 [==============================] - 2s 26ms/step - loss: 0.1482 - accuracy: 0.9541 - val_loss: 0.2202 - val_accuracy: 0.9366\n",
      "Epoch 100/100\n",
      "75/75 [==============================] - 2s 27ms/step - loss: 0.1512 - accuracy: 0.9529 - val_loss: 0.2253 - val_accuracy: 0.9361\n"
     ]
    }
   ],
   "source": [
    "history = model.fit(X_train, y_train, batch_size=4056, epochs=100, validation_data = (X_test, y_test))"
   ]
  },
  {
   "cell_type": "markdown",
   "id": "ffed59b1",
   "metadata": {},
   "source": [
    "# 4.Evaluate Network"
   ]
  },
  {
   "cell_type": "markdown",
   "id": "28731190",
   "metadata": {},
   "source": [
    "## 4.1. Plotting Loss and Accuracy"
   ]
  },
  {
   "cell_type": "code",
   "execution_count": 24,
   "id": "971e6040",
   "metadata": {},
   "outputs": [
    {
     "data": {
      "text/plain": [
       "Text(0.5, 1.0, 'Loss Curve of Deep Neural Netowork')"
      ]
     },
     "execution_count": 24,
     "metadata": {},
     "output_type": "execute_result"
    },
    {
     "data": {
      "image/png": "[encoded data removed]",
      "text/plain": [
       "<Figure size 432x288 with 1 Axes>"
      ]
     },
     "metadata": {
      "needs_background": "light"
     },
     "output_type": "display_data"
    }
   ],
   "source": [
    "#Loss Curve\n",
    "\n",
    "\n",
    "plt.plot(figsize = [8,6])\n",
    "\n",
    "plt.plot(history.history['loss'],'r',linewidth = 3.0)\n",
    "plt.plot(history.history['val_loss'],'b',linewidth = 3.0)\n",
    "\n",
    "plt.legend(['Training Loss', 'Validation Loss'], fontsize = 18)\n",
    "\n",
    "plt.xlabel('Epochs', fontsize = 16)\n",
    "plt.ylabel('Loss', fontsize = 16)\n",
    "\n",
    "plt.title('Loss Curve of Deep Neural Netowork' , fontsize = 16 )\n",
    "\n"
   ]
  },
  {
   "cell_type": "code",
   "execution_count": 25,
   "id": "b0c193ec",
   "metadata": {},
   "outputs": [
    {
     "data": {
      "text/plain": [
       "Text(0.5, 1.0, 'Accuracy Curve of Deep Neural Netowork')"
      ]
     },
     "execution_count": 25,
     "metadata": {},
     "output_type": "execute_result"
    },
    {
     "data": {
      "image/png": "[encoded data removed]",
      "text/plain": [
       "<Figure size 432x288 with 1 Axes>"
      ]
     },
     "metadata": {
      "needs_background": "light"
     },
     "output_type": "display_data"
    }
   ],
   "source": [
    "#Accuracy Curve\n",
    "\n",
    "plt.plot(figsize = [8,6])\n",
    "plt.plot(history.history['accuracy'],'r',linewidth = 3.0)\n",
    "plt.plot(history.history['val_accuracy'],'b',linewidth = 3.0)\n",
    "\n",
    "plt.legend(['Training Accuracy', 'Validation Accuracy'], fontsize = 18)\n",
    "\n",
    "plt.xlabel('Epochs', fontsize = 16)\n",
    "plt.ylabel('Accuracy', fontsize = 16)\n",
    "\n",
    "\n",
    "plt.title('Accuracy Curve of Deep Neural Netowork' , fontsize = 16 )"
   ]
  },
  {
   "cell_type": "markdown",
   "id": "741a02aa",
   "metadata": {},
   "source": [
    "##  4.2 Make Predictions"
   ]
  },
  {
   "cell_type": "code",
   "execution_count": 26,
   "id": "e8465627",
   "metadata": {},
   "outputs": [],
   "source": [
    "predictions = model.predict(X_test)\n",
    "predictions = np.argmax(predictions, axis = 1)"
   ]
  },
  {
   "cell_type": "code",
   "execution_count": 27,
   "id": "3cac1a50",
   "metadata": {},
   "outputs": [
    {
     "data": {
      "text/plain": [
       "array([0, 2, 0, ..., 0, 0, 0], dtype=int64)"
      ]
     },
     "execution_count": 27,
     "metadata": {},
     "output_type": "execute_result"
    }
   ],
   "source": [
    "predictions"
   ]
  },
  {
   "cell_type": "markdown",
   "id": "70d666bb",
   "metadata": {},
   "source": [
    "#### Transforming from One Hot Encoding"
   ]
  },
  {
   "cell_type": "code",
   "execution_count": 28,
   "id": "7234b6e7",
   "metadata": {},
   "outputs": [
    {
     "data": {
      "text/plain": [
       "2"
      ]
     },
     "execution_count": 28,
     "metadata": {},
     "output_type": "execute_result"
    }
   ],
   "source": [
    "y_test =np.argmax(y_test, axis=1)\n",
    "y_test[1]"
   ]
  },
  {
   "cell_type": "code",
   "execution_count": 29,
   "id": "6278820d",
   "metadata": {},
   "outputs": [
    {
     "name": "stdout",
     "output_type": "stream",
     "text": [
      "Accuracy is: 93.60858685631503\n"
     ]
    }
   ],
   "source": [
    "from sklearn.metrics import accuracy_score\n",
    "accuracy = {accuracy_score(y_test, predictions)}\n",
    "print(f\"Accuracy is: {accuracy_score(y_test, predictions)* 100}\")"
   ]
  },
  {
   "cell_type": "markdown",
   "id": "eb044ea1",
   "metadata": {},
   "source": [
    "## 4.3 Classification Report"
   ]
  },
  {
   "cell_type": "code",
   "execution_count": 30,
   "id": "001ebc5a",
   "metadata": {},
   "outputs": [
    {
     "name": "stdout",
     "output_type": "stream",
     "text": [
      "\u001b[1mClassification report : \u001b[0m\n",
      "               precision    recall  f1-score   support\n",
      "\n",
      "           0       0.94      0.98      0.96     37041\n",
      "           1       0.95      0.93      0.94      2126\n",
      "           2       0.86      0.92      0.89      2174\n",
      "           3       0.95      0.95      0.95      2216\n",
      "           4       0.96      0.94      0.95      2193\n",
      "           5       0.95      0.91      0.93      2031\n",
      "           6       0.96      0.90      0.93      2095\n",
      "           7       0.95      0.87      0.91      2427\n",
      "           8       0.92      0.85      0.88      2441\n",
      "           9       0.90      0.81      0.85      2226\n",
      "          10       0.93      0.81      0.86      2206\n",
      "          11       0.88      0.88      0.88      2053\n",
      "          12       0.96      0.92      0.94      2217\n",
      "          13       0.95      0.86      0.91      1352\n",
      "          14       0.97      0.89      0.93      1313\n",
      "          15       0.91      0.87      0.89      1595\n",
      "          16       0.97      0.95      0.96      1472\n",
      "          17       0.93      0.87      0.90      1712\n",
      "          18       0.95      0.90      0.93       786\n",
      "          19       0.85      0.75      0.80       844\n",
      "          20       0.96      0.99      0.97       826\n",
      "          21       0.94      0.95      0.95       761\n",
      "          22       0.96      0.88      0.92       879\n",
      "          23       0.98      0.98      0.98       944\n",
      "\n",
      "    accuracy                           0.94     75930\n",
      "   macro avg       0.94      0.90      0.92     75930\n",
      "weighted avg       0.94      0.94      0.94     75930\n",
      "\n",
      "\u001b[1mConfusion Matrix : \u001b[0m\n"
     ]
    },
    {
     "data": {
      "image/png": "[encoded data removed]",
      "text/plain": [
       "<Figure size 432x288 with 2 Axes>"
      ]
     },
     "metadata": {
      "needs_background": "light"
     },
     "output_type": "display_data"
    }
   ],
   "source": [
    "from sklearn.metrics import confusion_matrix, f1_score, accuracy_score, classification_report\n",
    "print('\\033[1m' +'Classification report : '+ '\\033[0m\\n', classification_report(y_test, predictions))\n",
    "\n",
    "cm = confusion_matrix(predictions, y_test)\n",
    "print('\\033[1m' +'Confusion Matrix : '+ '\\033[0m')\n",
    "sns.heatmap(cm, cmap = 'OrRd',annot = True, fmt='d')\n",
    "plt.show()"
   ]
  },
  {
   "cell_type": "markdown",
   "id": "eaa5e512",
   "metadata": {},
   "source": [
    "## 4.4 Evaluation"
   ]
  },
  {
   "cell_type": "code",
   "execution_count": 31,
   "id": "9e469f86",
   "metadata": {},
   "outputs": [
    {
     "name": "stdout",
     "output_type": "stream",
     "text": [
      "MAE: 0.5347161859607533\n",
      "MSE: 6.308270775714474\n",
      "RMSE: 2.511627117172148\n"
     ]
    }
   ],
   "source": [
    "from sklearn import metrics\n",
    "\n",
    "print('MAE:', metrics.mean_absolute_error(y_test,predictions))\n",
    "print('MSE:', metrics.mean_squared_error(y_test, predictions))\n",
    "print('RMSE:', np.sqrt(metrics.mean_squared_error(y_test, predictions)))"
   ]
  },
  {
   "cell_type": "code",
   "execution_count": 32,
   "id": "dff2a82d",
   "metadata": {},
   "outputs": [
    {
     "name": "stdout",
     "output_type": "stream",
     "text": [
      "Precision Score :  0.9361464566067925\n",
      "Recall Score :  0.9360858685631502\n",
      "f1_score :  0.9353373309585602\n"
     ]
    }
   ],
   "source": [
    "from sklearn.metrics import precision_score\n",
    "print(\"Precision Score : \",precision_score(y_test, predictions, average='weighted'))\n",
    "\n",
    "\n",
    "from sklearn.metrics import recall_score\n",
    "print(\"Recall Score : \",recall_score(y_test, predictions,average='weighted'))\n",
    "\n",
    "\n",
    "from sklearn.metrics import f1_score\n",
    "print(\"f1_score : \",f1_score(y_test, predictions,average='weighted'))"
   ]
  },
  {
   "cell_type": "code",
   "execution_count": null,
   "id": "81ac7468",
   "metadata": {},
   "outputs": [],
   "source": []
  },
  {
   "cell_type": "code",
   "execution_count": null,
   "id": "71a4c6e0",
   "metadata": {},
   "outputs": [],
   "source": []
  }
 ],
 "metadata": {
  "kernelspec": {
   "display_name": "Python 3 (ipykernel)",
   "language": "python",
   "name": "python3"
  },
  "language_info": {
   "codemirror_mode": {
    "name": "ipython",
    "version": 3
   },
   "file_extension": ".py",
   "mimetype": "text/x-python",
   "name": "python",
   "nbconvert_exporter": "python",
   "pygments_lexer": "ipython3",
   "version": "3.8.12"
  }
 },
 "nbformat": 4,
 "nbformat_minor": 5
}
