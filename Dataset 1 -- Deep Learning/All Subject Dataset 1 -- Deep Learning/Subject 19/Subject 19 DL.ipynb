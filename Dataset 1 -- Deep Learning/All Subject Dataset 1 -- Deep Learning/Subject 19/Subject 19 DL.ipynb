{
 "cells": [
  {
   "cell_type": "markdown",
   "id": "bf8ee932",
   "metadata": {},
   "source": [
    "# Importing Libraries"
   ]
  },
  {
   "cell_type": "code",
   "execution_count": 1,
   "id": "0f663fa8",
   "metadata": {},
   "outputs": [],
   "source": [
    "import numpy as np\n",
    "import pandas as pd\n",
    "import matplotlib.pyplot as plt\n",
    "import seaborn as sns\n",
    "from sklearn.model_selection import train_test_split"
   ]
  },
  {
   "cell_type": "markdown",
   "id": "511af272",
   "metadata": {},
   "source": [
    "# Loading Data"
   ]
  },
  {
   "cell_type": "code",
   "execution_count": 2,
   "id": "04fd19b0",
   "metadata": {},
   "outputs": [
    {
     "data": {
      "text/html": [
       "<div>\n",
       "<style scoped>\n",
       "    .dataframe tbody tr th:only-of-type {\n",
       "        vertical-align: middle;\n",
       "    }\n",
       "\n",
       "    .dataframe tbody tr th {\n",
       "        vertical-align: top;\n",
       "    }\n",
       "\n",
       "    .dataframe thead th {\n",
       "        text-align: right;\n",
       "    }\n",
       "</style>\n",
       "<table border=\"1\" class=\"dataframe\">\n",
       "  <thead>\n",
       "    <tr style=\"text-align: right;\">\n",
       "      <th></th>\n",
       "      <th>Emg1</th>\n",
       "      <th>Emg2</th>\n",
       "      <th>Emg3</th>\n",
       "      <th>Emg4</th>\n",
       "      <th>Emg5</th>\n",
       "      <th>Emg6</th>\n",
       "      <th>Emg7</th>\n",
       "      <th>Emg8</th>\n",
       "      <th>Emg9</th>\n",
       "      <th>Emg10</th>\n",
       "      <th>repetition</th>\n",
       "      <th>rerepetition</th>\n",
       "      <th>stimulus</th>\n",
       "      <th>restimulus</th>\n",
       "    </tr>\n",
       "  </thead>\n",
       "  <tbody>\n",
       "    <tr>\n",
       "      <th>65243</th>\n",
       "      <td>0.7446</td>\n",
       "      <td>0.2075</td>\n",
       "      <td>0.3076</td>\n",
       "      <td>0.1245</td>\n",
       "      <td>0.0269</td>\n",
       "      <td>0.0293</td>\n",
       "      <td>0.1904</td>\n",
       "      <td>0.6055</td>\n",
       "      <td>0.2173</td>\n",
       "      <td>2.7222</td>\n",
       "      <td>8</td>\n",
       "      <td>8</td>\n",
       "      <td>8</td>\n",
       "      <td>8</td>\n",
       "    </tr>\n",
       "    <tr>\n",
       "      <th>297880</th>\n",
       "      <td>0.1367</td>\n",
       "      <td>0.0049</td>\n",
       "      <td>0.0024</td>\n",
       "      <td>0.0024</td>\n",
       "      <td>0.0024</td>\n",
       "      <td>0.0024</td>\n",
       "      <td>0.0024</td>\n",
       "      <td>0.0171</td>\n",
       "      <td>0.0024</td>\n",
       "      <td>0.0024</td>\n",
       "      <td>0</td>\n",
       "      <td>0</td>\n",
       "      <td>0</td>\n",
       "      <td>0</td>\n",
       "    </tr>\n",
       "    <tr>\n",
       "      <th>84929</th>\n",
       "      <td>0.8447</td>\n",
       "      <td>0.1514</td>\n",
       "      <td>0.0024</td>\n",
       "      <td>0.0024</td>\n",
       "      <td>0.0024</td>\n",
       "      <td>0.0024</td>\n",
       "      <td>0.0024</td>\n",
       "      <td>0.0415</td>\n",
       "      <td>0.0024</td>\n",
       "      <td>0.0024</td>\n",
       "      <td>1</td>\n",
       "      <td>0</td>\n",
       "      <td>11</td>\n",
       "      <td>0</td>\n",
       "    </tr>\n",
       "    <tr>\n",
       "      <th>440790</th>\n",
       "      <td>2.1118</td>\n",
       "      <td>0.4858</td>\n",
       "      <td>0.7178</td>\n",
       "      <td>1.0278</td>\n",
       "      <td>0.4028</td>\n",
       "      <td>0.0830</td>\n",
       "      <td>0.5713</td>\n",
       "      <td>0.9644</td>\n",
       "      <td>0.7275</td>\n",
       "      <td>1.0107</td>\n",
       "      <td>5</td>\n",
       "      <td>5</td>\n",
       "      <td>21</td>\n",
       "      <td>21</td>\n",
       "    </tr>\n",
       "    <tr>\n",
       "      <th>48110</th>\n",
       "      <td>0.0391</td>\n",
       "      <td>0.0024</td>\n",
       "      <td>0.0024</td>\n",
       "      <td>0.0024</td>\n",
       "      <td>0.0024</td>\n",
       "      <td>0.0024</td>\n",
       "      <td>0.0024</td>\n",
       "      <td>0.0024</td>\n",
       "      <td>0.0024</td>\n",
       "      <td>0.0024</td>\n",
       "      <td>0</td>\n",
       "      <td>0</td>\n",
       "      <td>0</td>\n",
       "      <td>0</td>\n",
       "    </tr>\n",
       "  </tbody>\n",
       "</table>\n",
       "</div>"
      ],
      "text/plain": [
       "          Emg1    Emg2    Emg3    Emg4    Emg5    Emg6    Emg7    Emg8  \\\n",
       "65243   0.7446  0.2075  0.3076  0.1245  0.0269  0.0293  0.1904  0.6055   \n",
       "297880  0.1367  0.0049  0.0024  0.0024  0.0024  0.0024  0.0024  0.0171   \n",
       "84929   0.8447  0.1514  0.0024  0.0024  0.0024  0.0024  0.0024  0.0415   \n",
       "440790  2.1118  0.4858  0.7178  1.0278  0.4028  0.0830  0.5713  0.9644   \n",
       "48110   0.0391  0.0024  0.0024  0.0024  0.0024  0.0024  0.0024  0.0024   \n",
       "\n",
       "          Emg9   Emg10  repetition  rerepetition  stimulus  restimulus  \n",
       "65243   0.2173  2.7222           8             8         8           8  \n",
       "297880  0.0024  0.0024           0             0         0           0  \n",
       "84929   0.0024  0.0024           1             0        11           0  \n",
       "440790  0.7275  1.0107           5             5        21          21  \n",
       "48110   0.0024  0.0024           0             0         0           0  "
      ]
     },
     "execution_count": 2,
     "metadata": {},
     "output_type": "execute_result"
    }
   ],
   "source": [
    "raw_data = pd.read_excel('Dataset 1 Patient 19.xlsx')\n",
    "raw_data.sample(5)"
   ]
  },
  {
   "cell_type": "code",
   "execution_count": 3,
   "id": "80369ddb",
   "metadata": {},
   "outputs": [
    {
     "name": "stdout",
     "output_type": "stream",
     "text": [
      "<class 'pandas.core.frame.DataFrame'>\n",
      "RangeIndex: 467289 entries, 0 to 467288\n",
      "Data columns (total 14 columns):\n",
      " #   Column        Non-Null Count   Dtype  \n",
      "---  ------        --------------   -----  \n",
      " 0   Emg1          467289 non-null  float64\n",
      " 1   Emg2          467289 non-null  float64\n",
      " 2   Emg3          467289 non-null  float64\n",
      " 3   Emg4          467289 non-null  float64\n",
      " 4   Emg5          467289 non-null  float64\n",
      " 5   Emg6          467289 non-null  float64\n",
      " 6   Emg7          467289 non-null  float64\n",
      " 7   Emg8          467289 non-null  float64\n",
      " 8   Emg9          467289 non-null  float64\n",
      " 9   Emg10         467289 non-null  float64\n",
      " 10  repetition    467289 non-null  int64  \n",
      " 11  rerepetition  467289 non-null  int64  \n",
      " 12  stimulus      467289 non-null  int64  \n",
      " 13  restimulus    467289 non-null  int64  \n",
      "dtypes: float64(10), int64(4)\n",
      "memory usage: 49.9 MB\n"
     ]
    }
   ],
   "source": [
    "raw_data.info()"
   ]
  },
  {
   "cell_type": "code",
   "execution_count": 4,
   "id": "109445f8",
   "metadata": {},
   "outputs": [
    {
     "data": {
      "text/html": [
       "<div>\n",
       "<style scoped>\n",
       "    .dataframe tbody tr th:only-of-type {\n",
       "        vertical-align: middle;\n",
       "    }\n",
       "\n",
       "    .dataframe tbody tr th {\n",
       "        vertical-align: top;\n",
       "    }\n",
       "\n",
       "    .dataframe thead th {\n",
       "        text-align: right;\n",
       "    }\n",
       "</style>\n",
       "<table border=\"1\" class=\"dataframe\">\n",
       "  <thead>\n",
       "    <tr style=\"text-align: right;\">\n",
       "      <th></th>\n",
       "      <th>Emg1</th>\n",
       "      <th>Emg2</th>\n",
       "      <th>Emg3</th>\n",
       "      <th>Emg4</th>\n",
       "      <th>Emg5</th>\n",
       "      <th>Emg6</th>\n",
       "      <th>Emg7</th>\n",
       "      <th>Emg8</th>\n",
       "      <th>Emg9</th>\n",
       "      <th>Emg10</th>\n",
       "      <th>repetition</th>\n",
       "      <th>rerepetition</th>\n",
       "      <th>stimulus</th>\n",
       "      <th>restimulus</th>\n",
       "    </tr>\n",
       "  </thead>\n",
       "  <tbody>\n",
       "    <tr>\n",
       "      <th>count</th>\n",
       "      <td>467289.000000</td>\n",
       "      <td>467289.000000</td>\n",
       "      <td>467289.000000</td>\n",
       "      <td>467289.000000</td>\n",
       "      <td>467289.000000</td>\n",
       "      <td>467289.000000</td>\n",
       "      <td>467289.000000</td>\n",
       "      <td>467289.000000</td>\n",
       "      <td>467289.000000</td>\n",
       "      <td>467289.000000</td>\n",
       "      <td>467289.000000</td>\n",
       "      <td>467289.000000</td>\n",
       "      <td>467289.000000</td>\n",
       "      <td>467289.000000</td>\n",
       "    </tr>\n",
       "    <tr>\n",
       "      <th>mean</th>\n",
       "      <td>0.453055</td>\n",
       "      <td>0.139742</td>\n",
       "      <td>0.094868</td>\n",
       "      <td>0.055296</td>\n",
       "      <td>0.016373</td>\n",
       "      <td>0.008648</td>\n",
       "      <td>0.103495</td>\n",
       "      <td>0.283430</td>\n",
       "      <td>0.048519</td>\n",
       "      <td>0.198897</td>\n",
       "      <td>3.162582</td>\n",
       "      <td>2.379900</td>\n",
       "      <td>5.604711</td>\n",
       "      <td>4.253644</td>\n",
       "    </tr>\n",
       "    <tr>\n",
       "      <th>std</th>\n",
       "      <td>0.482096</td>\n",
       "      <td>0.205522</td>\n",
       "      <td>0.222762</td>\n",
       "      <td>0.168492</td>\n",
       "      <td>0.067662</td>\n",
       "      <td>0.027839</td>\n",
       "      <td>0.267785</td>\n",
       "      <td>0.441489</td>\n",
       "      <td>0.142963</td>\n",
       "      <td>0.471025</td>\n",
       "      <td>3.483738</td>\n",
       "      <td>3.311147</td>\n",
       "      <td>6.578120</td>\n",
       "      <td>6.243255</td>\n",
       "    </tr>\n",
       "    <tr>\n",
       "      <th>min</th>\n",
       "      <td>0.000000</td>\n",
       "      <td>0.000000</td>\n",
       "      <td>0.002400</td>\n",
       "      <td>0.000000</td>\n",
       "      <td>0.000000</td>\n",
       "      <td>0.000000</td>\n",
       "      <td>0.000000</td>\n",
       "      <td>0.000000</td>\n",
       "      <td>0.000000</td>\n",
       "      <td>0.000000</td>\n",
       "      <td>0.000000</td>\n",
       "      <td>0.000000</td>\n",
       "      <td>0.000000</td>\n",
       "      <td>0.000000</td>\n",
       "    </tr>\n",
       "    <tr>\n",
       "      <th>25%</th>\n",
       "      <td>0.085400</td>\n",
       "      <td>0.002400</td>\n",
       "      <td>0.002400</td>\n",
       "      <td>0.002400</td>\n",
       "      <td>0.002400</td>\n",
       "      <td>0.002400</td>\n",
       "      <td>0.002400</td>\n",
       "      <td>0.017100</td>\n",
       "      <td>0.002400</td>\n",
       "      <td>0.002400</td>\n",
       "      <td>0.000000</td>\n",
       "      <td>0.000000</td>\n",
       "      <td>0.000000</td>\n",
       "      <td>0.000000</td>\n",
       "    </tr>\n",
       "    <tr>\n",
       "      <th>50%</th>\n",
       "      <td>0.336900</td>\n",
       "      <td>0.063500</td>\n",
       "      <td>0.002400</td>\n",
       "      <td>0.002400</td>\n",
       "      <td>0.002400</td>\n",
       "      <td>0.002400</td>\n",
       "      <td>0.019500</td>\n",
       "      <td>0.119600</td>\n",
       "      <td>0.002400</td>\n",
       "      <td>0.007300</td>\n",
       "      <td>2.000000</td>\n",
       "      <td>0.000000</td>\n",
       "      <td>3.000000</td>\n",
       "      <td>0.000000</td>\n",
       "    </tr>\n",
       "    <tr>\n",
       "      <th>75%</th>\n",
       "      <td>0.642100</td>\n",
       "      <td>0.185500</td>\n",
       "      <td>0.068400</td>\n",
       "      <td>0.007300</td>\n",
       "      <td>0.002400</td>\n",
       "      <td>0.002400</td>\n",
       "      <td>0.102500</td>\n",
       "      <td>0.397900</td>\n",
       "      <td>0.009800</td>\n",
       "      <td>0.188000</td>\n",
       "      <td>6.000000</td>\n",
       "      <td>5.000000</td>\n",
       "      <td>10.000000</td>\n",
       "      <td>8.000000</td>\n",
       "    </tr>\n",
       "    <tr>\n",
       "      <th>max</th>\n",
       "      <td>4.668000</td>\n",
       "      <td>4.416500</td>\n",
       "      <td>4.660600</td>\n",
       "      <td>3.276400</td>\n",
       "      <td>2.189900</td>\n",
       "      <td>0.744600</td>\n",
       "      <td>4.665500</td>\n",
       "      <td>4.668000</td>\n",
       "      <td>2.314500</td>\n",
       "      <td>4.665500</td>\n",
       "      <td>10.000000</td>\n",
       "      <td>10.000000</td>\n",
       "      <td>23.000000</td>\n",
       "      <td>23.000000</td>\n",
       "    </tr>\n",
       "  </tbody>\n",
       "</table>\n",
       "</div>"
      ],
      "text/plain": [
       "                Emg1           Emg2           Emg3           Emg4  \\\n",
       "count  467289.000000  467289.000000  467289.000000  467289.000000   \n",
       "mean        0.453055       0.139742       0.094868       0.055296   \n",
       "std         0.482096       0.205522       0.222762       0.168492   \n",
       "min         0.000000       0.000000       0.002400       0.000000   \n",
       "25%         0.085400       0.002400       0.002400       0.002400   \n",
       "50%         0.336900       0.063500       0.002400       0.002400   \n",
       "75%         0.642100       0.185500       0.068400       0.007300   \n",
       "max         4.668000       4.416500       4.660600       3.276400   \n",
       "\n",
       "                Emg5           Emg6           Emg7           Emg8  \\\n",
       "count  467289.000000  467289.000000  467289.000000  467289.000000   \n",
       "mean        0.016373       0.008648       0.103495       0.283430   \n",
       "std         0.067662       0.027839       0.267785       0.441489   \n",
       "min         0.000000       0.000000       0.000000       0.000000   \n",
       "25%         0.002400       0.002400       0.002400       0.017100   \n",
       "50%         0.002400       0.002400       0.019500       0.119600   \n",
       "75%         0.002400       0.002400       0.102500       0.397900   \n",
       "max         2.189900       0.744600       4.665500       4.668000   \n",
       "\n",
       "                Emg9          Emg10     repetition   rerepetition  \\\n",
       "count  467289.000000  467289.000000  467289.000000  467289.000000   \n",
       "mean        0.048519       0.198897       3.162582       2.379900   \n",
       "std         0.142963       0.471025       3.483738       3.311147   \n",
       "min         0.000000       0.000000       0.000000       0.000000   \n",
       "25%         0.002400       0.002400       0.000000       0.000000   \n",
       "50%         0.002400       0.007300       2.000000       0.000000   \n",
       "75%         0.009800       0.188000       6.000000       5.000000   \n",
       "max         2.314500       4.665500      10.000000      10.000000   \n",
       "\n",
       "            stimulus     restimulus  \n",
       "count  467289.000000  467289.000000  \n",
       "mean        5.604711       4.253644  \n",
       "std         6.578120       6.243255  \n",
       "min         0.000000       0.000000  \n",
       "25%         0.000000       0.000000  \n",
       "50%         3.000000       0.000000  \n",
       "75%        10.000000       8.000000  \n",
       "max        23.000000      23.000000  "
      ]
     },
     "execution_count": 4,
     "metadata": {},
     "output_type": "execute_result"
    }
   ],
   "source": [
    "raw_data.describe(include='all')"
   ]
  },
  {
   "cell_type": "code",
   "execution_count": 5,
   "id": "f0b9a2e6",
   "metadata": {},
   "outputs": [
    {
     "name": "stdout",
     "output_type": "stream",
     "text": [
      "Unique Dependent values and their counts :\n",
      "0     198607\n",
      "8      15551\n",
      "2      15541\n",
      "7      15533\n",
      "12     15532\n",
      "4      15521\n",
      "6      15515\n",
      "9      15500\n",
      "5      15490\n",
      "11     15489\n",
      "10     15466\n",
      "1      15465\n",
      "3      15447\n",
      "14     10373\n",
      "17     10359\n",
      "13     10347\n",
      "15     10313\n",
      "16     10299\n",
      "19      5181\n",
      "18      5180\n",
      "21      5172\n",
      "22      5139\n",
      "20      5135\n",
      "23      5134\n",
      "Name: stimulus, dtype: int64\n"
     ]
    }
   ],
   "source": [
    "print(\"Unique Dependent values and their counts :\")\n",
    "print(raw_data[\"stimulus\"].value_counts())"
   ]
  },
  {
   "cell_type": "markdown",
   "id": "54420ec4",
   "metadata": {},
   "source": [
    "# Data Cleaning"
   ]
  },
  {
   "cell_type": "code",
   "execution_count": 6,
   "id": "a811198b",
   "metadata": {},
   "outputs": [],
   "source": [
    "index_names = raw_data[ (raw_data['stimulus'] != raw_data['restimulus'])].index\n",
    "raw_data.drop(index_names, inplace = True)"
   ]
  },
  {
   "cell_type": "code",
   "execution_count": 7,
   "id": "556cd92f",
   "metadata": {},
   "outputs": [],
   "source": [
    "index_names = raw_data[ (raw_data['repetition'] != raw_data['rerepetition'])].index\n",
    "raw_data.drop(index_names, inplace = True)"
   ]
  },
  {
   "cell_type": "code",
   "execution_count": 8,
   "id": "c91744f7",
   "metadata": {},
   "outputs": [],
   "source": [
    "X = raw_data.iloc[:,0:10]\n",
    "y = raw_data.stimulus"
   ]
  },
  {
   "cell_type": "markdown",
   "id": "152f7160",
   "metadata": {},
   "source": [
    "# One Hot Encoding"
   ]
  },
  {
   "cell_type": "code",
   "execution_count": 9,
   "id": "dfb77d24",
   "metadata": {},
   "outputs": [],
   "source": [
    "num_classes = 24"
   ]
  },
  {
   "cell_type": "code",
   "execution_count": 10,
   "id": "be64bf6b",
   "metadata": {},
   "outputs": [],
   "source": [
    "# One hot encoding for categorical labels\n",
    "import keras\n",
    "from keras import utils as np_utils\n",
    "y = keras.utils.np_utils.to_categorical(y, num_classes)"
   ]
  },
  {
   "cell_type": "code",
   "execution_count": 11,
   "id": "c7358f86",
   "metadata": {},
   "outputs": [],
   "source": [
    "input_dim = X.shape[1]"
   ]
  },
  {
   "cell_type": "markdown",
   "id": "cb3088a1",
   "metadata": {},
   "source": [
    "# Standard Scaler"
   ]
  },
  {
   "cell_type": "code",
   "execution_count": 12,
   "id": "5bd820f4",
   "metadata": {},
   "outputs": [],
   "source": [
    "from sklearn.preprocessing import StandardScaler\n",
    "standardscaler=StandardScaler()"
   ]
  },
  {
   "cell_type": "code",
   "execution_count": 13,
   "id": "6a118694",
   "metadata": {},
   "outputs": [],
   "source": [
    "sc = pd.DataFrame(standardscaler.fit_transform(X))"
   ]
  },
  {
   "cell_type": "code",
   "execution_count": 14,
   "id": "d6e2f38b",
   "metadata": {},
   "outputs": [
    {
     "data": {
      "text/html": [
       "<div>\n",
       "<style scoped>\n",
       "    .dataframe tbody tr th:only-of-type {\n",
       "        vertical-align: middle;\n",
       "    }\n",
       "\n",
       "    .dataframe tbody tr th {\n",
       "        vertical-align: top;\n",
       "    }\n",
       "\n",
       "    .dataframe thead th {\n",
       "        text-align: right;\n",
       "    }\n",
       "</style>\n",
       "<table border=\"1\" class=\"dataframe\">\n",
       "  <thead>\n",
       "    <tr style=\"text-align: right;\">\n",
       "      <th></th>\n",
       "      <th>0</th>\n",
       "      <th>1</th>\n",
       "      <th>2</th>\n",
       "      <th>3</th>\n",
       "      <th>4</th>\n",
       "      <th>5</th>\n",
       "      <th>6</th>\n",
       "      <th>7</th>\n",
       "      <th>8</th>\n",
       "      <th>9</th>\n",
       "    </tr>\n",
       "  </thead>\n",
       "  <tbody>\n",
       "    <tr>\n",
       "      <th>0</th>\n",
       "      <td>-0.912495</td>\n",
       "      <td>-0.471088</td>\n",
       "      <td>-0.454625</td>\n",
       "      <td>-0.343186</td>\n",
       "      <td>-0.225479</td>\n",
       "      <td>-0.245089</td>\n",
       "      <td>0.089595</td>\n",
       "      <td>0.282475</td>\n",
       "      <td>-0.353103</td>\n",
       "      <td>0.061963</td>\n",
       "    </tr>\n",
       "    <tr>\n",
       "      <th>1</th>\n",
       "      <td>-0.917420</td>\n",
       "      <td>-0.504920</td>\n",
       "      <td>-0.444173</td>\n",
       "      <td>-0.343186</td>\n",
       "      <td>-0.225479</td>\n",
       "      <td>-0.245089</td>\n",
       "      <td>0.072987</td>\n",
       "      <td>0.287577</td>\n",
       "      <td>-0.353103</td>\n",
       "      <td>0.071632</td>\n",
       "    </tr>\n",
       "    <tr>\n",
       "      <th>2</th>\n",
       "      <td>-0.917420</td>\n",
       "      <td>-0.504920</td>\n",
       "      <td>-0.454625</td>\n",
       "      <td>-0.343186</td>\n",
       "      <td>-0.225479</td>\n",
       "      <td>-0.245089</td>\n",
       "      <td>0.056034</td>\n",
       "      <td>0.323923</td>\n",
       "      <td>-0.353103</td>\n",
       "      <td>0.110107</td>\n",
       "    </tr>\n",
       "    <tr>\n",
       "      <th>3</th>\n",
       "      <td>-0.912495</td>\n",
       "      <td>-0.515892</td>\n",
       "      <td>-0.454625</td>\n",
       "      <td>-0.343186</td>\n",
       "      <td>-0.225479</td>\n",
       "      <td>-0.245089</td>\n",
       "      <td>0.030776</td>\n",
       "      <td>0.344753</td>\n",
       "      <td>-0.353103</td>\n",
       "      <td>0.158449</td>\n",
       "    </tr>\n",
       "    <tr>\n",
       "      <th>4</th>\n",
       "      <td>-0.893191</td>\n",
       "      <td>-0.460116</td>\n",
       "      <td>-0.454625</td>\n",
       "      <td>-0.343186</td>\n",
       "      <td>-0.225479</td>\n",
       "      <td>-0.245089</td>\n",
       "      <td>0.106549</td>\n",
       "      <td>0.515858</td>\n",
       "      <td>-0.353103</td>\n",
       "      <td>0.211329</td>\n",
       "    </tr>\n",
       "    <tr>\n",
       "      <th>...</th>\n",
       "      <td>...</td>\n",
       "      <td>...</td>\n",
       "      <td>...</td>\n",
       "      <td>...</td>\n",
       "      <td>...</td>\n",
       "      <td>...</td>\n",
       "      <td>...</td>\n",
       "      <td>...</td>\n",
       "      <td>...</td>\n",
       "      <td>...</td>\n",
       "    </tr>\n",
       "    <tr>\n",
       "      <th>392464</th>\n",
       "      <td>-0.585508</td>\n",
       "      <td>1.091552</td>\n",
       "      <td>-0.403620</td>\n",
       "      <td>-0.249204</td>\n",
       "      <td>-0.225479</td>\n",
       "      <td>-0.082942</td>\n",
       "      <td>0.689556</td>\n",
       "      <td>0.225299</td>\n",
       "      <td>-0.210604</td>\n",
       "      <td>-0.111474</td>\n",
       "    </tr>\n",
       "    <tr>\n",
       "      <th>392465</th>\n",
       "      <td>-0.575856</td>\n",
       "      <td>1.269852</td>\n",
       "      <td>-0.342162</td>\n",
       "      <td>-0.168412</td>\n",
       "      <td>-0.191471</td>\n",
       "      <td>-0.000213</td>\n",
       "      <td>0.790934</td>\n",
       "      <td>0.318822</td>\n",
       "      <td>-0.084298</td>\n",
       "      <td>-0.034325</td>\n",
       "    </tr>\n",
       "    <tr>\n",
       "      <th>392466</th>\n",
       "      <td>-0.566204</td>\n",
       "      <td>1.370432</td>\n",
       "      <td>-0.311642</td>\n",
       "      <td>-0.141482</td>\n",
       "      <td>-0.225479</td>\n",
       "      <td>-0.000213</td>\n",
       "      <td>0.875357</td>\n",
       "      <td>0.531587</td>\n",
       "      <td>0.058202</td>\n",
       "      <td>0.009084</td>\n",
       "    </tr>\n",
       "    <tr>\n",
       "      <th>392467</th>\n",
       "      <td>-0.508489</td>\n",
       "      <td>1.705088</td>\n",
       "      <td>-0.281123</td>\n",
       "      <td>-0.101361</td>\n",
       "      <td>-0.225479</td>\n",
       "      <td>0.079206</td>\n",
       "      <td>0.883661</td>\n",
       "      <td>0.656142</td>\n",
       "      <td>0.247985</td>\n",
       "      <td>0.071632</td>\n",
       "    </tr>\n",
       "    <tr>\n",
       "      <th>392468</th>\n",
       "      <td>-0.441319</td>\n",
       "      <td>2.051173</td>\n",
       "      <td>-0.138140</td>\n",
       "      <td>0.099793</td>\n",
       "      <td>-0.158823</td>\n",
       "      <td>0.158625</td>\n",
       "      <td>0.934523</td>\n",
       "      <td>0.718420</td>\n",
       "      <td>0.501246</td>\n",
       "      <td>0.124709</td>\n",
       "    </tr>\n",
       "  </tbody>\n",
       "</table>\n",
       "<p>392469 rows × 10 columns</p>\n",
       "</div>"
      ],
      "text/plain": [
       "               0         1         2         3         4         5         6  \\\n",
       "0      -0.912495 -0.471088 -0.454625 -0.343186 -0.225479 -0.245089  0.089595   \n",
       "1      -0.917420 -0.504920 -0.444173 -0.343186 -0.225479 -0.245089  0.072987   \n",
       "2      -0.917420 -0.504920 -0.454625 -0.343186 -0.225479 -0.245089  0.056034   \n",
       "3      -0.912495 -0.515892 -0.454625 -0.343186 -0.225479 -0.245089  0.030776   \n",
       "4      -0.893191 -0.460116 -0.454625 -0.343186 -0.225479 -0.245089  0.106549   \n",
       "...          ...       ...       ...       ...       ...       ...       ...   \n",
       "392464 -0.585508  1.091552 -0.403620 -0.249204 -0.225479 -0.082942  0.689556   \n",
       "392465 -0.575856  1.269852 -0.342162 -0.168412 -0.191471 -0.000213  0.790934   \n",
       "392466 -0.566204  1.370432 -0.311642 -0.141482 -0.225479 -0.000213  0.875357   \n",
       "392467 -0.508489  1.705088 -0.281123 -0.101361 -0.225479  0.079206  0.883661   \n",
       "392468 -0.441319  2.051173 -0.138140  0.099793 -0.158823  0.158625  0.934523   \n",
       "\n",
       "               7         8         9  \n",
       "0       0.282475 -0.353103  0.061963  \n",
       "1       0.287577 -0.353103  0.071632  \n",
       "2       0.323923 -0.353103  0.110107  \n",
       "3       0.344753 -0.353103  0.158449  \n",
       "4       0.515858 -0.353103  0.211329  \n",
       "...          ...       ...       ...  \n",
       "392464  0.225299 -0.210604 -0.111474  \n",
       "392465  0.318822 -0.084298 -0.034325  \n",
       "392466  0.531587  0.058202  0.009084  \n",
       "392467  0.656142  0.247985  0.071632  \n",
       "392468  0.718420  0.501246  0.124709  \n",
       "\n",
       "[392469 rows x 10 columns]"
      ]
     },
     "execution_count": 14,
     "metadata": {},
     "output_type": "execute_result"
    }
   ],
   "source": [
    "sc"
   ]
  },
  {
   "cell_type": "code",
   "execution_count": 15,
   "id": "65cfb75d",
   "metadata": {},
   "outputs": [],
   "source": [
    "# Splitting data for training and testing\n",
    "X_train, X_test, y_train, y_test = train_test_split(sc, y, test_size = 0.2, random_state = 39)"
   ]
  },
  {
   "cell_type": "markdown",
   "id": "3ba47781",
   "metadata": {},
   "source": [
    "# Deep Learning "
   ]
  },
  {
   "cell_type": "code",
   "execution_count": 16,
   "id": "d426e2e1",
   "metadata": {},
   "outputs": [],
   "source": [
    "from sklearn.preprocessing import MinMaxScaler\n",
    "from tensorflow.keras.models import Model\n",
    "from tensorflow.keras.layers import Input\n",
    "from tensorflow.keras.layers import Dense\n",
    "from tensorflow.keras.layers import LeakyReLU,ELU\n",
    "from tensorflow.keras.layers import BatchNormalization\n",
    "from tensorflow.keras.utils import plot_model\n",
    "import tensorflow as tf\n",
    "from sklearn.model_selection import cross_val_score\n",
    "from keras.models import Sequential\n",
    "from keras.layers import Dense, BatchNormalization, Dropout\n",
    "from tensorflow.keras.optimizers import Adam, SGD, RMSprop, Adadelta, Adagrad, Adamax, Nadam, Ftrl\n",
    "from keras.callbacks import EarlyStopping, ModelCheckpoint\n",
    "from keras.wrappers.scikit_learn import KerasClassifier\n",
    "from sklearn.metrics import make_scorer, accuracy_score\n",
    "from sklearn.model_selection import StratifiedKFold"
   ]
  },
  {
   "cell_type": "code",
   "execution_count": 17,
   "id": "cd0ef208",
   "metadata": {},
   "outputs": [],
   "source": [
    "from keras.layers import LeakyReLU\n",
    "LeakyReLU = LeakyReLU(alpha=0.1)\n",
    "from keras.models import Sequential\n",
    "from keras.layers import Dense, Flatten, Convolution1D, Dropout\n",
    "from keras.initializers import random_uniform"
   ]
  },
  {
   "cell_type": "markdown",
   "id": "f97d61bc",
   "metadata": {},
   "source": [
    "# 1. Define Network"
   ]
  },
  {
   "cell_type": "code",
   "execution_count": 18,
   "id": "bd77bf81",
   "metadata": {},
   "outputs": [],
   "source": [
    "num_classes = 24\n",
    "input_dim = X.shape[1]"
   ]
  },
  {
   "cell_type": "code",
   "execution_count": 19,
   "id": "fbdce465",
   "metadata": {},
   "outputs": [],
   "source": [
    "visible = Input(shape=(input_dim,))\n",
    "hidden1 = Dense(3000, activation='relu')(visible)\n",
    "hidden2 = Dense(1500, activation='relu')(hidden1)\n",
    "hidden3 = Dropout(0.2)(hidden2)\n",
    "hidden4 = Dense(750, activation='relu')(hidden3)\n",
    "hidden5 = Dense(375, activation='relu')(hidden4)\n",
    "hidden6 = Dense(48, activation='relu')(hidden5)\n",
    "output = Dense(num_classes, activation='softmax')(hidden6)\n",
    "model = Model(inputs=visible, outputs=output)"
   ]
  },
  {
   "cell_type": "code",
   "execution_count": 20,
   "id": "1dd33478",
   "metadata": {},
   "outputs": [
    {
     "name": "stdout",
     "output_type": "stream",
     "text": [
      "Model: \"model\"\n",
      "_________________________________________________________________\n",
      " Layer (type)                Output Shape              Param #   \n",
      "=================================================================\n",
      " input_1 (InputLayer)        [(None, 10)]              0         \n",
      "                                                                 \n",
      " dense (Dense)               (None, 3000)              33000     \n",
      "                                                                 \n",
      " dense_1 (Dense)             (None, 1500)              4501500   \n",
      "                                                                 \n",
      " dropout (Dropout)           (None, 1500)              0         \n",
      "                                                                 \n",
      " dense_2 (Dense)             (None, 750)               1125750   \n",
      "                                                                 \n",
      " dense_3 (Dense)             (None, 375)               281625    \n",
      "                                                                 \n",
      " dense_4 (Dense)             (None, 48)                18048     \n",
      "                                                                 \n",
      " dense_5 (Dense)             (None, 24)                1176      \n",
      "                                                                 \n",
      "=================================================================\n",
      "Total params: 5,961,099\n",
      "Trainable params: 5,961,099\n",
      "Non-trainable params: 0\n",
      "_________________________________________________________________\n"
     ]
    }
   ],
   "source": [
    "model.summary()"
   ]
  },
  {
   "cell_type": "markdown",
   "id": "3196ac97",
   "metadata": {},
   "source": [
    "# 2. Compile Network"
   ]
  },
  {
   "cell_type": "code",
   "execution_count": 21,
   "id": "7a2d558b",
   "metadata": {},
   "outputs": [],
   "source": [
    "model.compile(optimizer='adam', loss='categorical_crossentropy', metrics=['accuracy'])"
   ]
  },
  {
   "cell_type": "code",
   "execution_count": 22,
   "id": "c1d2b36d",
   "metadata": {},
   "outputs": [
    {
     "name": "stdout",
     "output_type": "stream",
     "text": [
      "You must install pydot (`pip install pydot`) and install graphviz (see instructions at https://graphviz.gitlab.io/download/) for plot_model/model_to_dot to work.\n"
     ]
    }
   ],
   "source": [
    "plot_model(model, 'EMG_ANN', show_shapes = True)"
   ]
  },
  {
   "cell_type": "markdown",
   "id": "3358b592",
   "metadata": {},
   "source": [
    "# 3. Fit Network"
   ]
  },
  {
   "cell_type": "code",
   "execution_count": 23,
   "id": "e0ed4ddd",
   "metadata": {},
   "outputs": [
    {
     "name": "stdout",
     "output_type": "stream",
     "text": [
      "Epoch 1/100\n",
      "78/78 [==============================] - 3s 28ms/step - loss: 1.4890 - accuracy: 0.6206 - val_loss: 1.1354 - val_accuracy: 0.6993\n",
      "Epoch 2/100\n",
      "78/78 [==============================] - 2s 26ms/step - loss: 1.0398 - accuracy: 0.7213 - val_loss: 0.9563 - val_accuracy: 0.7413\n",
      "Epoch 3/100\n",
      "78/78 [==============================] - 2s 26ms/step - loss: 0.9234 - accuracy: 0.7496 - val_loss: 0.8811 - val_accuracy: 0.7592\n",
      "Epoch 4/100\n",
      "78/78 [==============================] - 2s 26ms/step - loss: 0.8573 - accuracy: 0.7649 - val_loss: 0.8308 - val_accuracy: 0.7716\n",
      "Epoch 5/100\n",
      "78/78 [==============================] - 2s 26ms/step - loss: 0.8128 - accuracy: 0.7752 - val_loss: 0.7934 - val_accuracy: 0.7783\n",
      "Epoch 6/100\n",
      "78/78 [==============================] - 2s 26ms/step - loss: 0.7777 - accuracy: 0.7834 - val_loss: 0.7658 - val_accuracy: 0.7868\n",
      "Epoch 7/100\n",
      "78/78 [==============================] - 2s 26ms/step - loss: 0.7521 - accuracy: 0.7902 - val_loss: 0.7480 - val_accuracy: 0.7919\n",
      "Epoch 8/100\n",
      "78/78 [==============================] - 2s 26ms/step - loss: 0.7252 - accuracy: 0.7966 - val_loss: 0.7166 - val_accuracy: 0.8001\n",
      "Epoch 9/100\n",
      "78/78 [==============================] - 2s 26ms/step - loss: 0.7019 - accuracy: 0.8022 - val_loss: 0.7071 - val_accuracy: 0.8028\n",
      "Epoch 10/100\n",
      "78/78 [==============================] - 2s 26ms/step - loss: 0.6847 - accuracy: 0.8069 - val_loss: 0.6835 - val_accuracy: 0.8068\n",
      "Epoch 11/100\n",
      "78/78 [==============================] - 2s 26ms/step - loss: 0.6666 - accuracy: 0.8118 - val_loss: 0.6669 - val_accuracy: 0.8119\n",
      "Epoch 12/100\n",
      "78/78 [==============================] - 2s 26ms/step - loss: 0.6497 - accuracy: 0.8160 - val_loss: 0.6562 - val_accuracy: 0.8148\n",
      "Epoch 13/100\n",
      "78/78 [==============================] - 2s 26ms/step - loss: 0.6391 - accuracy: 0.8191 - val_loss: 0.6390 - val_accuracy: 0.8184\n",
      "Epoch 14/100\n",
      "78/78 [==============================] - 2s 26ms/step - loss: 0.6285 - accuracy: 0.8219 - val_loss: 0.6396 - val_accuracy: 0.8186\n",
      "Epoch 15/100\n",
      "78/78 [==============================] - 2s 26ms/step - loss: 0.6118 - accuracy: 0.8260 - val_loss: 0.6212 - val_accuracy: 0.8259\n",
      "Epoch 16/100\n",
      "78/78 [==============================] - 2s 26ms/step - loss: 0.6022 - accuracy: 0.8286 - val_loss: 0.6313 - val_accuracy: 0.8238\n",
      "Epoch 17/100\n",
      "78/78 [==============================] - 2s 26ms/step - loss: 0.5944 - accuracy: 0.8308 - val_loss: 0.6044 - val_accuracy: 0.8296\n",
      "Epoch 18/100\n",
      "78/78 [==============================] - 2s 26ms/step - loss: 0.5818 - accuracy: 0.8347 - val_loss: 0.5982 - val_accuracy: 0.8314\n",
      "Epoch 19/100\n",
      "78/78 [==============================] - 2s 26ms/step - loss: 0.5698 - accuracy: 0.8376 - val_loss: 0.5870 - val_accuracy: 0.8338\n",
      "Epoch 20/100\n",
      "78/78 [==============================] - 2s 26ms/step - loss: 0.5618 - accuracy: 0.8399 - val_loss: 0.5829 - val_accuracy: 0.8344\n",
      "Epoch 21/100\n",
      "78/78 [==============================] - 2s 26ms/step - loss: 0.5559 - accuracy: 0.8411 - val_loss: 0.5756 - val_accuracy: 0.8363\n",
      "Epoch 22/100\n",
      "78/78 [==============================] - 2s 26ms/step - loss: 0.5459 - accuracy: 0.8440 - val_loss: 0.5709 - val_accuracy: 0.8377\n",
      "Epoch 23/100\n",
      "78/78 [==============================] - 2s 26ms/step - loss: 0.5382 - accuracy: 0.8458 - val_loss: 0.5660 - val_accuracy: 0.8407\n",
      "Epoch 24/100\n",
      "78/78 [==============================] - 2s 26ms/step - loss: 0.5342 - accuracy: 0.8477 - val_loss: 0.5528 - val_accuracy: 0.8442\n",
      "Epoch 25/100\n",
      "78/78 [==============================] - 2s 26ms/step - loss: 0.5237 - accuracy: 0.8502 - val_loss: 0.5491 - val_accuracy: 0.8429\n",
      "Epoch 26/100\n",
      "78/78 [==============================] - 2s 26ms/step - loss: 0.5178 - accuracy: 0.8518 - val_loss: 0.5410 - val_accuracy: 0.8462\n",
      "Epoch 27/100\n",
      "78/78 [==============================] - 2s 26ms/step - loss: 0.5129 - accuracy: 0.8531 - val_loss: 0.5394 - val_accuracy: 0.8463\n",
      "Epoch 28/100\n",
      "78/78 [==============================] - 2s 26ms/step - loss: 0.5051 - accuracy: 0.8548 - val_loss: 0.5367 - val_accuracy: 0.8470\n",
      "Epoch 29/100\n",
      "78/78 [==============================] - 2s 26ms/step - loss: 0.4992 - accuracy: 0.8569 - val_loss: 0.5329 - val_accuracy: 0.8491\n",
      "Epoch 30/100\n",
      "78/78 [==============================] - 2s 26ms/step - loss: 0.4938 - accuracy: 0.8578 - val_loss: 0.5268 - val_accuracy: 0.8510\n",
      "Epoch 31/100\n",
      "78/78 [==============================] - 2s 26ms/step - loss: 0.4867 - accuracy: 0.8594 - val_loss: 0.5264 - val_accuracy: 0.8517\n",
      "Epoch 32/100\n",
      "78/78 [==============================] - 2s 26ms/step - loss: 0.4827 - accuracy: 0.8614 - val_loss: 0.5204 - val_accuracy: 0.8517\n",
      "Epoch 33/100\n",
      "78/78 [==============================] - 2s 26ms/step - loss: 0.4771 - accuracy: 0.8631 - val_loss: 0.5101 - val_accuracy: 0.8548\n",
      "Epoch 34/100\n",
      "78/78 [==============================] - 2s 26ms/step - loss: 0.4718 - accuracy: 0.8645 - val_loss: 0.5169 - val_accuracy: 0.8515\n",
      "Epoch 35/100\n",
      "78/78 [==============================] - 2s 26ms/step - loss: 0.4673 - accuracy: 0.8663 - val_loss: 0.5076 - val_accuracy: 0.8556\n",
      "Epoch 36/100\n",
      "78/78 [==============================] - 2s 26ms/step - loss: 0.4614 - accuracy: 0.8671 - val_loss: 0.4998 - val_accuracy: 0.8582\n",
      "Epoch 37/100\n",
      "78/78 [==============================] - 2s 26ms/step - loss: 0.4580 - accuracy: 0.8678 - val_loss: 0.4942 - val_accuracy: 0.8592\n",
      "Epoch 38/100\n",
      "78/78 [==============================] - 2s 26ms/step - loss: 0.4550 - accuracy: 0.8684 - val_loss: 0.4977 - val_accuracy: 0.8571\n",
      "Epoch 39/100\n",
      "78/78 [==============================] - 2s 26ms/step - loss: 0.4494 - accuracy: 0.8699 - val_loss: 0.4889 - val_accuracy: 0.8603\n",
      "Epoch 40/100\n",
      "78/78 [==============================] - 2s 26ms/step - loss: 0.4531 - accuracy: 0.8692 - val_loss: 0.4917 - val_accuracy: 0.8591\n",
      "Epoch 41/100\n",
      "78/78 [==============================] - 2s 26ms/step - loss: 0.4427 - accuracy: 0.8721 - val_loss: 0.4939 - val_accuracy: 0.8620\n",
      "Epoch 42/100\n",
      "78/78 [==============================] - 2s 26ms/step - loss: 0.4425 - accuracy: 0.8724 - val_loss: 0.4876 - val_accuracy: 0.8616\n",
      "Epoch 43/100\n",
      "78/78 [==============================] - 2s 26ms/step - loss: 0.4333 - accuracy: 0.8752 - val_loss: 0.4839 - val_accuracy: 0.8630\n",
      "Epoch 44/100\n",
      "78/78 [==============================] - 2s 26ms/step - loss: 0.4320 - accuracy: 0.8752 - val_loss: 0.4768 - val_accuracy: 0.8637\n",
      "Epoch 45/100\n",
      "78/78 [==============================] - 2s 26ms/step - loss: 0.4276 - accuracy: 0.8763 - val_loss: 0.4749 - val_accuracy: 0.8640\n",
      "Epoch 46/100\n",
      "78/78 [==============================] - 2s 26ms/step - loss: 0.4247 - accuracy: 0.8769 - val_loss: 0.4709 - val_accuracy: 0.8662\n",
      "Epoch 47/100\n",
      "78/78 [==============================] - 2s 26ms/step - loss: 0.4218 - accuracy: 0.8783 - val_loss: 0.4736 - val_accuracy: 0.8650\n",
      "Epoch 48/100\n",
      "78/78 [==============================] - 2s 26ms/step - loss: 0.4217 - accuracy: 0.8781 - val_loss: 0.4742 - val_accuracy: 0.8651\n",
      "Epoch 49/100\n",
      "78/78 [==============================] - 2s 27ms/step - loss: 0.4162 - accuracy: 0.8801 - val_loss: 0.4743 - val_accuracy: 0.8646\n",
      "Epoch 50/100\n",
      "78/78 [==============================] - 2s 27ms/step - loss: 0.4115 - accuracy: 0.8809 - val_loss: 0.4637 - val_accuracy: 0.8676\n",
      "Epoch 51/100\n",
      "78/78 [==============================] - 2s 27ms/step - loss: 0.4072 - accuracy: 0.8823 - val_loss: 0.4660 - val_accuracy: 0.8675\n",
      "Epoch 52/100\n",
      "78/78 [==============================] - 2s 26ms/step - loss: 0.4081 - accuracy: 0.8818 - val_loss: 0.4639 - val_accuracy: 0.8676\n",
      "Epoch 53/100\n",
      "78/78 [==============================] - 2s 27ms/step - loss: 0.4035 - accuracy: 0.8832 - val_loss: 0.4597 - val_accuracy: 0.8693\n",
      "Epoch 54/100\n",
      "78/78 [==============================] - 2s 27ms/step - loss: 0.3987 - accuracy: 0.8847 - val_loss: 0.4531 - val_accuracy: 0.8701\n",
      "Epoch 55/100\n",
      "78/78 [==============================] - 2s 27ms/step - loss: 0.3966 - accuracy: 0.8848 - val_loss: 0.4573 - val_accuracy: 0.8702\n",
      "Epoch 56/100\n",
      "78/78 [==============================] - 2s 27ms/step - loss: 0.3976 - accuracy: 0.8849 - val_loss: 0.4551 - val_accuracy: 0.8713\n",
      "Epoch 57/100\n",
      "78/78 [==============================] - 2s 27ms/step - loss: 0.3918 - accuracy: 0.8866 - val_loss: 0.4508 - val_accuracy: 0.8713\n",
      "Epoch 58/100\n"
     ]
    },
    {
     "name": "stdout",
     "output_type": "stream",
     "text": [
      "78/78 [==============================] - 2s 27ms/step - loss: 0.3878 - accuracy: 0.8873 - val_loss: 0.4512 - val_accuracy: 0.8720\n",
      "Epoch 59/100\n",
      "78/78 [==============================] - 2s 27ms/step - loss: 0.3904 - accuracy: 0.8871 - val_loss: 0.4535 - val_accuracy: 0.8713\n",
      "Epoch 60/100\n",
      "78/78 [==============================] - 2s 27ms/step - loss: 0.3854 - accuracy: 0.8888 - val_loss: 0.4489 - val_accuracy: 0.8730\n",
      "Epoch 61/100\n",
      "78/78 [==============================] - 2s 27ms/step - loss: 0.3796 - accuracy: 0.8901 - val_loss: 0.4454 - val_accuracy: 0.8735\n",
      "Epoch 62/100\n",
      "78/78 [==============================] - 2s 27ms/step - loss: 0.3811 - accuracy: 0.8895 - val_loss: 0.4502 - val_accuracy: 0.8718\n",
      "Epoch 63/100\n",
      "78/78 [==============================] - 2s 27ms/step - loss: 0.3787 - accuracy: 0.8899 - val_loss: 0.4473 - val_accuracy: 0.8731\n",
      "Epoch 64/100\n",
      "78/78 [==============================] - 2s 27ms/step - loss: 0.3757 - accuracy: 0.8907 - val_loss: 0.4511 - val_accuracy: 0.8728\n",
      "Epoch 65/100\n",
      "78/78 [==============================] - 2s 27ms/step - loss: 0.3785 - accuracy: 0.8904 - val_loss: 0.4482 - val_accuracy: 0.8722\n",
      "Epoch 66/100\n",
      "78/78 [==============================] - 2s 27ms/step - loss: 0.3683 - accuracy: 0.8926 - val_loss: 0.4372 - val_accuracy: 0.8768\n",
      "Epoch 67/100\n",
      "78/78 [==============================] - 2s 27ms/step - loss: 0.3685 - accuracy: 0.8931 - val_loss: 0.4360 - val_accuracy: 0.8760\n",
      "Epoch 68/100\n",
      "78/78 [==============================] - 2s 27ms/step - loss: 0.3681 - accuracy: 0.8933 - val_loss: 0.4476 - val_accuracy: 0.8730\n",
      "Epoch 69/100\n",
      "78/78 [==============================] - 2s 27ms/step - loss: 0.3665 - accuracy: 0.8936 - val_loss: 0.4462 - val_accuracy: 0.8734\n",
      "Epoch 70/100\n",
      "78/78 [==============================] - 2s 27ms/step - loss: 0.3617 - accuracy: 0.8947 - val_loss: 0.4356 - val_accuracy: 0.8775\n",
      "Epoch 71/100\n",
      "78/78 [==============================] - 2s 27ms/step - loss: 0.3594 - accuracy: 0.8958 - val_loss: 0.4350 - val_accuracy: 0.8769\n",
      "Epoch 72/100\n",
      "78/78 [==============================] - 2s 27ms/step - loss: 0.3755 - accuracy: 0.8919 - val_loss: 0.4316 - val_accuracy: 0.8774\n",
      "Epoch 73/100\n",
      "78/78 [==============================] - 2s 27ms/step - loss: 0.3598 - accuracy: 0.8957 - val_loss: 0.4309 - val_accuracy: 0.8785\n",
      "Epoch 74/100\n",
      "78/78 [==============================] - 2s 27ms/step - loss: 0.3536 - accuracy: 0.8977 - val_loss: 0.4324 - val_accuracy: 0.8794\n",
      "Epoch 75/100\n",
      "78/78 [==============================] - 2s 27ms/step - loss: 0.3535 - accuracy: 0.8975 - val_loss: 0.4280 - val_accuracy: 0.8787\n",
      "Epoch 76/100\n",
      "78/78 [==============================] - 2s 27ms/step - loss: 0.3508 - accuracy: 0.8981 - val_loss: 0.4315 - val_accuracy: 0.8770\n",
      "Epoch 77/100\n",
      "78/78 [==============================] - 2s 27ms/step - loss: 0.3520 - accuracy: 0.8980 - val_loss: 0.4430 - val_accuracy: 0.8774\n",
      "Epoch 78/100\n",
      "78/78 [==============================] - 2s 27ms/step - loss: 0.3526 - accuracy: 0.8978 - val_loss: 0.4304 - val_accuracy: 0.8779\n",
      "Epoch 79/100\n",
      "78/78 [==============================] - 2s 27ms/step - loss: 0.3463 - accuracy: 0.8997 - val_loss: 0.4240 - val_accuracy: 0.8801\n",
      "Epoch 80/100\n",
      "78/78 [==============================] - 2s 27ms/step - loss: 0.3424 - accuracy: 0.9003 - val_loss: 0.4232 - val_accuracy: 0.8794\n",
      "Epoch 81/100\n",
      "78/78 [==============================] - 2s 27ms/step - loss: 0.3411 - accuracy: 0.9007 - val_loss: 0.4246 - val_accuracy: 0.8794\n",
      "Epoch 82/100\n",
      "78/78 [==============================] - 2s 27ms/step - loss: 0.3430 - accuracy: 0.9006 - val_loss: 0.4194 - val_accuracy: 0.8816\n",
      "Epoch 83/100\n",
      "78/78 [==============================] - 2s 27ms/step - loss: 0.3410 - accuracy: 0.9005 - val_loss: 0.4296 - val_accuracy: 0.8795\n",
      "Epoch 84/100\n",
      "78/78 [==============================] - 2s 27ms/step - loss: 0.3435 - accuracy: 0.9001 - val_loss: 0.4261 - val_accuracy: 0.8793\n",
      "Epoch 85/100\n",
      "78/78 [==============================] - 2s 27ms/step - loss: 0.3353 - accuracy: 0.9027 - val_loss: 0.4225 - val_accuracy: 0.8803\n",
      "Epoch 86/100\n",
      "78/78 [==============================] - 2s 27ms/step - loss: 0.3382 - accuracy: 0.9018 - val_loss: 0.4237 - val_accuracy: 0.8810\n",
      "Epoch 87/100\n",
      "78/78 [==============================] - 2s 27ms/step - loss: 0.3324 - accuracy: 0.9031 - val_loss: 0.4192 - val_accuracy: 0.8821\n",
      "Epoch 88/100\n",
      "78/78 [==============================] - 2s 27ms/step - loss: 0.3326 - accuracy: 0.9031 - val_loss: 0.4203 - val_accuracy: 0.8829\n",
      "Epoch 89/100\n",
      "78/78 [==============================] - 2s 27ms/step - loss: 0.3319 - accuracy: 0.9035 - val_loss: 0.4220 - val_accuracy: 0.8823\n",
      "Epoch 90/100\n",
      "78/78 [==============================] - 2s 27ms/step - loss: 0.3297 - accuracy: 0.9040 - val_loss: 0.4180 - val_accuracy: 0.8824\n",
      "Epoch 91/100\n",
      "78/78 [==============================] - 2s 27ms/step - loss: 0.3312 - accuracy: 0.9036 - val_loss: 0.4311 - val_accuracy: 0.8805\n",
      "Epoch 92/100\n",
      "78/78 [==============================] - 2s 27ms/step - loss: 0.3275 - accuracy: 0.9048 - val_loss: 0.4118 - val_accuracy: 0.8842\n",
      "Epoch 93/100\n",
      "78/78 [==============================] - 2s 27ms/step - loss: 0.3247 - accuracy: 0.9057 - val_loss: 0.4153 - val_accuracy: 0.8843\n",
      "Epoch 94/100\n",
      "78/78 [==============================] - 2s 27ms/step - loss: 0.3228 - accuracy: 0.9065 - val_loss: 0.4201 - val_accuracy: 0.8823\n",
      "Epoch 95/100\n",
      "78/78 [==============================] - 2s 27ms/step - loss: 0.3205 - accuracy: 0.9068 - val_loss: 0.4174 - val_accuracy: 0.8834\n",
      "Epoch 96/100\n",
      "78/78 [==============================] - 2s 27ms/step - loss: 0.3235 - accuracy: 0.9057 - val_loss: 0.4215 - val_accuracy: 0.8814\n",
      "Epoch 97/100\n",
      "78/78 [==============================] - 2s 27ms/step - loss: 0.3218 - accuracy: 0.9063 - val_loss: 0.4234 - val_accuracy: 0.8826\n",
      "Epoch 98/100\n",
      "78/78 [==============================] - 2s 27ms/step - loss: 0.3196 - accuracy: 0.9067 - val_loss: 0.4109 - val_accuracy: 0.8843\n",
      "Epoch 99/100\n",
      "78/78 [==============================] - 2s 27ms/step - loss: 0.3184 - accuracy: 0.9077 - val_loss: 0.4149 - val_accuracy: 0.8840\n",
      "Epoch 100/100\n",
      "78/78 [==============================] - 2s 27ms/step - loss: 0.3174 - accuracy: 0.9074 - val_loss: 0.4152 - val_accuracy: 0.8853\n"
     ]
    }
   ],
   "source": [
    "history = model.fit(X_train, y_train, batch_size=4056, epochs=100, validation_data = (X_test, y_test))"
   ]
  },
  {
   "cell_type": "markdown",
   "id": "ffed59b1",
   "metadata": {},
   "source": [
    "# 4.Evaluate Network"
   ]
  },
  {
   "cell_type": "markdown",
   "id": "28731190",
   "metadata": {},
   "source": [
    "## 4.1. Plotting Loss and Accuracy"
   ]
  },
  {
   "cell_type": "code",
   "execution_count": 24,
   "id": "971e6040",
   "metadata": {},
   "outputs": [
    {
     "data": {
      "text/plain": [
       "Text(0.5, 1.0, 'Loss Curve of Deep Neural Netowork')"
      ]
     },
     "execution_count": 24,
     "metadata": {},
     "output_type": "execute_result"
    },
    {
     "data": {
      "image/png": "[encoded data removed]",
      "text/plain": [
       "<Figure size 432x288 with 1 Axes>"
      ]
     },
     "metadata": {
      "needs_background": "light"
     },
     "output_type": "display_data"
    }
   ],
   "source": [
    "#Loss Curve\n",
    "\n",
    "\n",
    "plt.plot(figsize = [8,6])\n",
    "\n",
    "plt.plot(history.history['loss'],'r',linewidth = 3.0)\n",
    "plt.plot(history.history['val_loss'],'b',linewidth = 3.0)\n",
    "\n",
    "plt.legend(['Training Loss', 'Validation Loss'], fontsize = 18)\n",
    "\n",
    "plt.xlabel('Epochs', fontsize = 16)\n",
    "plt.ylabel('Loss', fontsize = 16)\n",
    "\n",
    "plt.title('Loss Curve of Deep Neural Netowork' , fontsize = 16 )\n",
    "\n"
   ]
  },
  {
   "cell_type": "code",
   "execution_count": 25,
   "id": "b0c193ec",
   "metadata": {},
   "outputs": [
    {
     "data": {
      "text/plain": [
       "Text(0.5, 1.0, 'Accuracy Curve of Deep Neural Netowork')"
      ]
     },
     "execution_count": 25,
     "metadata": {},
     "output_type": "execute_result"
    },
    {
     "data": {
      "image/png": "[encoded data removed]",
      "text/plain": [
       "<Figure size 432x288 with 1 Axes>"
      ]
     },
     "metadata": {
      "needs_background": "light"
     },
     "output_type": "display_data"
    }
   ],
   "source": [
    "#Accuracy Curve\n",
    "\n",
    "plt.plot(figsize = [8,6])\n",
    "plt.plot(history.history['accuracy'],'r',linewidth = 3.0)\n",
    "plt.plot(history.history['val_accuracy'],'b',linewidth = 3.0)\n",
    "\n",
    "plt.legend(['Training Accuracy', 'Validation Accuracy'], fontsize = 18)\n",
    "\n",
    "plt.xlabel('Epochs', fontsize = 16)\n",
    "plt.ylabel('Accuracy', fontsize = 16)\n",
    "\n",
    "\n",
    "plt.title('Accuracy Curve of Deep Neural Netowork' , fontsize = 16 )"
   ]
  },
  {
   "cell_type": "markdown",
   "id": "741a02aa",
   "metadata": {},
   "source": [
    "##  4.2 Make Predictions"
   ]
  },
  {
   "cell_type": "code",
   "execution_count": 26,
   "id": "e8465627",
   "metadata": {},
   "outputs": [],
   "source": [
    "predictions = model.predict(X_test)\n",
    "predictions = np.argmax(predictions, axis = 1)"
   ]
  },
  {
   "cell_type": "code",
   "execution_count": 27,
   "id": "3cac1a50",
   "metadata": {},
   "outputs": [
    {
     "data": {
      "text/plain": [
       "array([0, 0, 4, ..., 1, 0, 5], dtype=int64)"
      ]
     },
     "execution_count": 27,
     "metadata": {},
     "output_type": "execute_result"
    }
   ],
   "source": [
    "predictions"
   ]
  },
  {
   "cell_type": "markdown",
   "id": "70d666bb",
   "metadata": {},
   "source": [
    "#### Transforming from One Hot Encoding"
   ]
  },
  {
   "cell_type": "code",
   "execution_count": 28,
   "id": "7234b6e7",
   "metadata": {},
   "outputs": [
    {
     "data": {
      "text/plain": [
       "0"
      ]
     },
     "execution_count": 28,
     "metadata": {},
     "output_type": "execute_result"
    }
   ],
   "source": [
    "y_test =np.argmax(y_test, axis=1)\n",
    "y_test[1]"
   ]
  },
  {
   "cell_type": "code",
   "execution_count": 29,
   "id": "6278820d",
   "metadata": {},
   "outputs": [
    {
     "name": "stdout",
     "output_type": "stream",
     "text": [
      "Accuracy is: 88.52651158050297\n"
     ]
    }
   ],
   "source": [
    "from sklearn.metrics import accuracy_score\n",
    "accuracy = {accuracy_score(y_test, predictions)}\n",
    "print(f\"Accuracy is: {accuracy_score(y_test, predictions)* 100}\")"
   ]
  },
  {
   "cell_type": "markdown",
   "id": "eb044ea1",
   "metadata": {},
   "source": [
    "## 4.3 Classification Report"
   ]
  },
  {
   "cell_type": "code",
   "execution_count": 30,
   "id": "001ebc5a",
   "metadata": {},
   "outputs": [
    {
     "name": "stdout",
     "output_type": "stream",
     "text": [
      "\u001b[1mClassification report : \u001b[0m\n",
      "               precision    recall  f1-score   support\n",
      "\n",
      "           0       0.90      0.97      0.93     38861\n",
      "           1       0.89      0.78      0.83      2127\n",
      "           2       0.82      0.79      0.80      2247\n",
      "           3       0.94      0.77      0.84      2170\n",
      "           4       0.93      0.85      0.89      2553\n",
      "           5       0.88      0.85      0.86      2318\n",
      "           6       0.93      0.85      0.88      2306\n",
      "           7       0.80      0.78      0.79      2252\n",
      "           8       0.85      0.82      0.83      2359\n",
      "           9       0.84      0.67      0.75      1982\n",
      "          10       0.84      0.67      0.75      2255\n",
      "          11       0.83      0.85      0.84      2176\n",
      "          12       0.87      0.77      0.82      2247\n",
      "          13       0.94      0.84      0.89      1512\n",
      "          14       0.86      0.78      0.81      1552\n",
      "          15       0.83      0.82      0.83      1473\n",
      "          16       0.91      0.82      0.86      1691\n",
      "          17       0.85      0.73      0.78      1581\n",
      "          18       0.77      0.84      0.80       876\n",
      "          19       0.88      0.75      0.81       865\n",
      "          20       0.98      0.91      0.94       847\n",
      "          21       0.86      0.93      0.89       758\n",
      "          22       0.90      0.93      0.92       715\n",
      "          23       0.94      0.89      0.92       771\n",
      "\n",
      "    accuracy                           0.89     78494\n",
      "   macro avg       0.88      0.82      0.85     78494\n",
      "weighted avg       0.88      0.89      0.88     78494\n",
      "\n",
      "\u001b[1mConfusion Matrix : \u001b[0m\n"
     ]
    },
    {
     "data": {
      "image/png": "[encoded data removed]",
      "text/plain": [
       "<Figure size 432x288 with 2 Axes>"
      ]
     },
     "metadata": {
      "needs_background": "light"
     },
     "output_type": "display_data"
    }
   ],
   "source": [
    "from sklearn.metrics import confusion_matrix, f1_score, accuracy_score, classification_report\n",
    "print('\\033[1m' +'Classification report : '+ '\\033[0m\\n', classification_report(y_test, predictions))\n",
    "\n",
    "cm = confusion_matrix(predictions, y_test)\n",
    "print('\\033[1m' +'Confusion Matrix : '+ '\\033[0m')\n",
    "sns.heatmap(cm, cmap = 'OrRd',annot = True, fmt='d')\n",
    "plt.show()"
   ]
  },
  {
   "cell_type": "markdown",
   "id": "eaa5e512",
   "metadata": {},
   "source": [
    "## 4.4 Evaluation"
   ]
  },
  {
   "cell_type": "code",
   "execution_count": 31,
   "id": "9e469f86",
   "metadata": {},
   "outputs": [
    {
     "name": "stdout",
     "output_type": "stream",
     "text": [
      "MAE: 0.9452314826610951\n",
      "MSE: 11.060221163401025\n",
      "RMSE: 3.325691080572732\n"
     ]
    }
   ],
   "source": [
    "from sklearn import metrics\n",
    "\n",
    "print('MAE:', metrics.mean_absolute_error(y_test,predictions))\n",
    "print('MSE:', metrics.mean_squared_error(y_test, predictions))\n",
    "print('RMSE:', np.sqrt(metrics.mean_squared_error(y_test, predictions)))"
   ]
  },
  {
   "cell_type": "code",
   "execution_count": 32,
   "id": "dff2a82d",
   "metadata": {},
   "outputs": [
    {
     "name": "stdout",
     "output_type": "stream",
     "text": [
      "Precision Score :  0.8848698401238402\n",
      "Recall Score :  0.8852651158050296\n",
      "f1_score :  0.8828923248337008\n"
     ]
    }
   ],
   "source": [
    "from sklearn.metrics import precision_score\n",
    "print(\"Precision Score : \",precision_score(y_test, predictions, average='weighted'))\n",
    "\n",
    "\n",
    "from sklearn.metrics import recall_score\n",
    "print(\"Recall Score : \",recall_score(y_test, predictions,average='weighted'))\n",
    "\n",
    "\n",
    "from sklearn.metrics import f1_score\n",
    "print(\"f1_score : \",f1_score(y_test, predictions,average='weighted'))"
   ]
  },
  {
   "cell_type": "code",
   "execution_count": null,
   "id": "81ac7468",
   "metadata": {},
   "outputs": [],
   "source": []
  },
  {
   "cell_type": "code",
   "execution_count": null,
   "id": "71a4c6e0",
   "metadata": {},
   "outputs": [],
   "source": []
  }
 ],
 "metadata": {
  "kernelspec": {
   "display_name": "Python 3 (ipykernel)",
   "language": "python",
   "name": "python3"
  },
  "language_info": {
   "codemirror_mode": {
    "name": "ipython",
    "version": 3
   },
   "file_extension": ".py",
   "mimetype": "text/x-python",
   "name": "python",
   "nbconvert_exporter": "python",
   "pygments_lexer": "ipython3",
   "version": "3.8.12"
  }
 },
 "nbformat": 4,
 "nbformat_minor": 5
}
