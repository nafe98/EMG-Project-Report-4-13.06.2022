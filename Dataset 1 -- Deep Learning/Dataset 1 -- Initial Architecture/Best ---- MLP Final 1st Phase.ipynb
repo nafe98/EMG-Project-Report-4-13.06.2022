{
 "cells": [
  {
   "cell_type": "markdown",
   "id": "bf8ee932",
   "metadata": {},
   "source": [
    "# Importing Libraries"
   ]
  },
  {
   "cell_type": "code",
   "execution_count": 21,
   "id": "0f663fa8",
   "metadata": {},
   "outputs": [],
   "source": [
    "import numpy as np\n",
    "import pandas as pd\n",
    "import matplotlib.pyplot as plt\n",
    "import seaborn as sns\n",
    "from sklearn.model_selection import train_test_split"
   ]
  },
  {
   "cell_type": "markdown",
   "id": "511af272",
   "metadata": {},
   "source": [
    "# Loading Data"
   ]
  },
  {
   "cell_type": "code",
   "execution_count": 22,
   "id": "04fd19b0",
   "metadata": {},
   "outputs": [
    {
     "data": {
      "text/html": [
       "<div>\n",
       "<style scoped>\n",
       "    .dataframe tbody tr th:only-of-type {\n",
       "        vertical-align: middle;\n",
       "    }\n",
       "\n",
       "    .dataframe tbody tr th {\n",
       "        vertical-align: top;\n",
       "    }\n",
       "\n",
       "    .dataframe thead th {\n",
       "        text-align: right;\n",
       "    }\n",
       "</style>\n",
       "<table border=\"1\" class=\"dataframe\">\n",
       "  <thead>\n",
       "    <tr style=\"text-align: right;\">\n",
       "      <th></th>\n",
       "      <th>Emg1</th>\n",
       "      <th>Emg2</th>\n",
       "      <th>Emg3</th>\n",
       "      <th>Emg4</th>\n",
       "      <th>Emg5</th>\n",
       "      <th>Emg6</th>\n",
       "      <th>Emg7</th>\n",
       "      <th>Emg8</th>\n",
       "      <th>Emg9</th>\n",
       "      <th>Emg10</th>\n",
       "      <th>repetition</th>\n",
       "      <th>rerepetition</th>\n",
       "      <th>stimulus</th>\n",
       "      <th>restimulus</th>\n",
       "    </tr>\n",
       "  </thead>\n",
       "  <tbody>\n",
       "    <tr>\n",
       "      <th>388147</th>\n",
       "      <td>0.0024</td>\n",
       "      <td>0.0024</td>\n",
       "      <td>0.0024</td>\n",
       "      <td>0.0024</td>\n",
       "      <td>0.0024</td>\n",
       "      <td>0.0024</td>\n",
       "      <td>0.0024</td>\n",
       "      <td>0.0366</td>\n",
       "      <td>0.0610</td>\n",
       "      <td>1.9995</td>\n",
       "      <td>0</td>\n",
       "      <td>0</td>\n",
       "      <td>0</td>\n",
       "      <td>0</td>\n",
       "    </tr>\n",
       "    <tr>\n",
       "      <th>357727</th>\n",
       "      <td>0.5225</td>\n",
       "      <td>0.1611</td>\n",
       "      <td>0.1807</td>\n",
       "      <td>0.0415</td>\n",
       "      <td>0.1001</td>\n",
       "      <td>0.1855</td>\n",
       "      <td>0.4565</td>\n",
       "      <td>0.4053</td>\n",
       "      <td>0.1416</td>\n",
       "      <td>0.0342</td>\n",
       "      <td>8</td>\n",
       "      <td>8</td>\n",
       "      <td>12</td>\n",
       "      <td>12</td>\n",
       "    </tr>\n",
       "    <tr>\n",
       "      <th>238532</th>\n",
       "      <td>0.0024</td>\n",
       "      <td>0.0024</td>\n",
       "      <td>0.0024</td>\n",
       "      <td>0.0024</td>\n",
       "      <td>0.0024</td>\n",
       "      <td>0.0024</td>\n",
       "      <td>0.0122</td>\n",
       "      <td>0.0024</td>\n",
       "      <td>0.0024</td>\n",
       "      <td>0.0610</td>\n",
       "      <td>4</td>\n",
       "      <td>4</td>\n",
       "      <td>17</td>\n",
       "      <td>17</td>\n",
       "    </tr>\n",
       "    <tr>\n",
       "      <th>36161</th>\n",
       "      <td>0.0049</td>\n",
       "      <td>0.0024</td>\n",
       "      <td>0.0049</td>\n",
       "      <td>0.0024</td>\n",
       "      <td>0.0024</td>\n",
       "      <td>0.0024</td>\n",
       "      <td>0.1538</td>\n",
       "      <td>0.0806</td>\n",
       "      <td>0.0024</td>\n",
       "      <td>0.0220</td>\n",
       "      <td>0</td>\n",
       "      <td>0</td>\n",
       "      <td>0</td>\n",
       "      <td>0</td>\n",
       "    </tr>\n",
       "    <tr>\n",
       "      <th>176943</th>\n",
       "      <td>0.0024</td>\n",
       "      <td>0.0024</td>\n",
       "      <td>0.0024</td>\n",
       "      <td>0.0024</td>\n",
       "      <td>0.0024</td>\n",
       "      <td>0.0024</td>\n",
       "      <td>0.0024</td>\n",
       "      <td>0.0293</td>\n",
       "      <td>0.0024</td>\n",
       "      <td>0.0049</td>\n",
       "      <td>1</td>\n",
       "      <td>0</td>\n",
       "      <td>10</td>\n",
       "      <td>10</td>\n",
       "    </tr>\n",
       "  </tbody>\n",
       "</table>\n",
       "</div>"
      ],
      "text/plain": [
       "          Emg1    Emg2    Emg3    Emg4    Emg5    Emg6    Emg7    Emg8  \\\n",
       "388147  0.0024  0.0024  0.0024  0.0024  0.0024  0.0024  0.0024  0.0366   \n",
       "357727  0.5225  0.1611  0.1807  0.0415  0.1001  0.1855  0.4565  0.4053   \n",
       "238532  0.0024  0.0024  0.0024  0.0024  0.0024  0.0024  0.0122  0.0024   \n",
       "36161   0.0049  0.0024  0.0049  0.0024  0.0024  0.0024  0.1538  0.0806   \n",
       "176943  0.0024  0.0024  0.0024  0.0024  0.0024  0.0024  0.0024  0.0293   \n",
       "\n",
       "          Emg9   Emg10  repetition  rerepetition  stimulus  restimulus  \n",
       "388147  0.0610  1.9995           0             0         0           0  \n",
       "357727  0.1416  0.0342           8             8        12          12  \n",
       "238532  0.0024  0.0610           4             4        17          17  \n",
       "36161   0.0024  0.0220           0             0         0           0  \n",
       "176943  0.0024  0.0049           1             0        10          10  "
      ]
     },
     "execution_count": 22,
     "metadata": {},
     "output_type": "execute_result"
    }
   ],
   "source": [
    "raw_data = pd.read_excel('Dataset 1 Patient 1.xlsx')\n",
    "raw_data.sample(5)"
   ]
  },
  {
   "cell_type": "code",
   "execution_count": 23,
   "id": "80369ddb",
   "metadata": {},
   "outputs": [
    {
     "name": "stdout",
     "output_type": "stream",
     "text": [
      "<class 'pandas.core.frame.DataFrame'>\n",
      "RangeIndex: 471483 entries, 0 to 471482\n",
      "Data columns (total 14 columns):\n",
      " #   Column        Non-Null Count   Dtype  \n",
      "---  ------        --------------   -----  \n",
      " 0   Emg1          471483 non-null  float64\n",
      " 1   Emg2          471483 non-null  float64\n",
      " 2   Emg3          471483 non-null  float64\n",
      " 3   Emg4          471483 non-null  float64\n",
      " 4   Emg5          471483 non-null  float64\n",
      " 5   Emg6          471483 non-null  float64\n",
      " 6   Emg7          471483 non-null  float64\n",
      " 7   Emg8          471483 non-null  float64\n",
      " 8   Emg9          471483 non-null  float64\n",
      " 9   Emg10         471483 non-null  float64\n",
      " 10  repetition    471483 non-null  int64  \n",
      " 11  rerepetition  471483 non-null  int64  \n",
      " 12  stimulus      471483 non-null  int64  \n",
      " 13  restimulus    471483 non-null  int64  \n",
      "dtypes: float64(10), int64(4)\n",
      "memory usage: 50.4 MB\n"
     ]
    }
   ],
   "source": [
    "raw_data.info()"
   ]
  },
  {
   "cell_type": "code",
   "execution_count": 24,
   "id": "109445f8",
   "metadata": {},
   "outputs": [
    {
     "data": {
      "text/html": [
       "<div>\n",
       "<style scoped>\n",
       "    .dataframe tbody tr th:only-of-type {\n",
       "        vertical-align: middle;\n",
       "    }\n",
       "\n",
       "    .dataframe tbody tr th {\n",
       "        vertical-align: top;\n",
       "    }\n",
       "\n",
       "    .dataframe thead th {\n",
       "        text-align: right;\n",
       "    }\n",
       "</style>\n",
       "<table border=\"1\" class=\"dataframe\">\n",
       "  <thead>\n",
       "    <tr style=\"text-align: right;\">\n",
       "      <th></th>\n",
       "      <th>Emg1</th>\n",
       "      <th>Emg2</th>\n",
       "      <th>Emg3</th>\n",
       "      <th>Emg4</th>\n",
       "      <th>Emg5</th>\n",
       "      <th>Emg6</th>\n",
       "      <th>Emg7</th>\n",
       "      <th>Emg8</th>\n",
       "      <th>Emg9</th>\n",
       "      <th>Emg10</th>\n",
       "      <th>repetition</th>\n",
       "      <th>rerepetition</th>\n",
       "      <th>stimulus</th>\n",
       "      <th>restimulus</th>\n",
       "    </tr>\n",
       "  </thead>\n",
       "  <tbody>\n",
       "    <tr>\n",
       "      <th>count</th>\n",
       "      <td>471483.000000</td>\n",
       "      <td>471483.000000</td>\n",
       "      <td>471483.000000</td>\n",
       "      <td>471483.000000</td>\n",
       "      <td>471483.000000</td>\n",
       "      <td>471483.000000</td>\n",
       "      <td>471483.000000</td>\n",
       "      <td>471483.000000</td>\n",
       "      <td>471483.000000</td>\n",
       "      <td>471483.000000</td>\n",
       "      <td>471483.000000</td>\n",
       "      <td>471483.000000</td>\n",
       "      <td>471483.000000</td>\n",
       "      <td>471483.000000</td>\n",
       "    </tr>\n",
       "    <tr>\n",
       "      <th>mean</th>\n",
       "      <td>0.129657</td>\n",
       "      <td>0.122672</td>\n",
       "      <td>0.123409</td>\n",
       "      <td>0.044321</td>\n",
       "      <td>0.012722</td>\n",
       "      <td>0.014612</td>\n",
       "      <td>0.221796</td>\n",
       "      <td>0.233414</td>\n",
       "      <td>0.107259</td>\n",
       "      <td>0.072334</td>\n",
       "      <td>3.136047</td>\n",
       "      <td>2.113255</td>\n",
       "      <td>5.562892</td>\n",
       "      <td>4.570513</td>\n",
       "    </tr>\n",
       "    <tr>\n",
       "      <th>std</th>\n",
       "      <td>0.286859</td>\n",
       "      <td>0.322911</td>\n",
       "      <td>0.337717</td>\n",
       "      <td>0.167680</td>\n",
       "      <td>0.032359</td>\n",
       "      <td>0.042109</td>\n",
       "      <td>0.476014</td>\n",
       "      <td>0.353467</td>\n",
       "      <td>0.233386</td>\n",
       "      <td>0.156993</td>\n",
       "      <td>3.480664</td>\n",
       "      <td>3.212682</td>\n",
       "      <td>6.575838</td>\n",
       "      <td>6.427040</td>\n",
       "    </tr>\n",
       "    <tr>\n",
       "      <th>min</th>\n",
       "      <td>0.002400</td>\n",
       "      <td>0.000000</td>\n",
       "      <td>0.002400</td>\n",
       "      <td>0.000000</td>\n",
       "      <td>0.002400</td>\n",
       "      <td>0.000000</td>\n",
       "      <td>0.002400</td>\n",
       "      <td>0.002400</td>\n",
       "      <td>0.000000</td>\n",
       "      <td>0.002400</td>\n",
       "      <td>0.000000</td>\n",
       "      <td>0.000000</td>\n",
       "      <td>0.000000</td>\n",
       "      <td>0.000000</td>\n",
       "    </tr>\n",
       "    <tr>\n",
       "      <th>25%</th>\n",
       "      <td>0.002400</td>\n",
       "      <td>0.002400</td>\n",
       "      <td>0.002400</td>\n",
       "      <td>0.002400</td>\n",
       "      <td>0.002400</td>\n",
       "      <td>0.002400</td>\n",
       "      <td>0.012200</td>\n",
       "      <td>0.063500</td>\n",
       "      <td>0.002400</td>\n",
       "      <td>0.009800</td>\n",
       "      <td>0.000000</td>\n",
       "      <td>0.000000</td>\n",
       "      <td>0.000000</td>\n",
       "      <td>0.000000</td>\n",
       "    </tr>\n",
       "    <tr>\n",
       "      <th>50%</th>\n",
       "      <td>0.017100</td>\n",
       "      <td>0.002400</td>\n",
       "      <td>0.002400</td>\n",
       "      <td>0.002400</td>\n",
       "      <td>0.002400</td>\n",
       "      <td>0.002400</td>\n",
       "      <td>0.051300</td>\n",
       "      <td>0.112300</td>\n",
       "      <td>0.007300</td>\n",
       "      <td>0.039100</td>\n",
       "      <td>2.000000</td>\n",
       "      <td>0.000000</td>\n",
       "      <td>3.000000</td>\n",
       "      <td>0.000000</td>\n",
       "    </tr>\n",
       "    <tr>\n",
       "      <th>75%</th>\n",
       "      <td>0.114700</td>\n",
       "      <td>0.046400</td>\n",
       "      <td>0.058600</td>\n",
       "      <td>0.007300</td>\n",
       "      <td>0.002400</td>\n",
       "      <td>0.002400</td>\n",
       "      <td>0.190400</td>\n",
       "      <td>0.244100</td>\n",
       "      <td>0.136700</td>\n",
       "      <td>0.065900</td>\n",
       "      <td>6.000000</td>\n",
       "      <td>4.000000</td>\n",
       "      <td>10.000000</td>\n",
       "      <td>9.000000</td>\n",
       "    </tr>\n",
       "    <tr>\n",
       "      <th>max</th>\n",
       "      <td>4.665500</td>\n",
       "      <td>4.663100</td>\n",
       "      <td>4.658200</td>\n",
       "      <td>4.663100</td>\n",
       "      <td>0.876500</td>\n",
       "      <td>1.484400</td>\n",
       "      <td>4.663100</td>\n",
       "      <td>4.665500</td>\n",
       "      <td>4.660600</td>\n",
       "      <td>4.628900</td>\n",
       "      <td>10.000000</td>\n",
       "      <td>10.000000</td>\n",
       "      <td>23.000000</td>\n",
       "      <td>23.000000</td>\n",
       "    </tr>\n",
       "  </tbody>\n",
       "</table>\n",
       "</div>"
      ],
      "text/plain": [
       "                Emg1           Emg2           Emg3           Emg4  \\\n",
       "count  471483.000000  471483.000000  471483.000000  471483.000000   \n",
       "mean        0.129657       0.122672       0.123409       0.044321   \n",
       "std         0.286859       0.322911       0.337717       0.167680   \n",
       "min         0.002400       0.000000       0.002400       0.000000   \n",
       "25%         0.002400       0.002400       0.002400       0.002400   \n",
       "50%         0.017100       0.002400       0.002400       0.002400   \n",
       "75%         0.114700       0.046400       0.058600       0.007300   \n",
       "max         4.665500       4.663100       4.658200       4.663100   \n",
       "\n",
       "                Emg5           Emg6           Emg7           Emg8  \\\n",
       "count  471483.000000  471483.000000  471483.000000  471483.000000   \n",
       "mean        0.012722       0.014612       0.221796       0.233414   \n",
       "std         0.032359       0.042109       0.476014       0.353467   \n",
       "min         0.002400       0.000000       0.002400       0.002400   \n",
       "25%         0.002400       0.002400       0.012200       0.063500   \n",
       "50%         0.002400       0.002400       0.051300       0.112300   \n",
       "75%         0.002400       0.002400       0.190400       0.244100   \n",
       "max         0.876500       1.484400       4.663100       4.665500   \n",
       "\n",
       "                Emg9          Emg10     repetition   rerepetition  \\\n",
       "count  471483.000000  471483.000000  471483.000000  471483.000000   \n",
       "mean        0.107259       0.072334       3.136047       2.113255   \n",
       "std         0.233386       0.156993       3.480664       3.212682   \n",
       "min         0.000000       0.002400       0.000000       0.000000   \n",
       "25%         0.002400       0.009800       0.000000       0.000000   \n",
       "50%         0.007300       0.039100       2.000000       0.000000   \n",
       "75%         0.136700       0.065900       6.000000       4.000000   \n",
       "max         4.660600       4.628900      10.000000      10.000000   \n",
       "\n",
       "            stimulus     restimulus  \n",
       "count  471483.000000  471483.000000  \n",
       "mean        5.562892       4.570513  \n",
       "std         6.575838       6.427040  \n",
       "min         0.000000       0.000000  \n",
       "25%         0.000000       0.000000  \n",
       "50%         3.000000       0.000000  \n",
       "75%        10.000000       9.000000  \n",
       "max        23.000000      23.000000  "
      ]
     },
     "execution_count": 24,
     "metadata": {},
     "output_type": "execute_result"
    }
   ],
   "source": [
    "raw_data.describe(include='all')"
   ]
  },
  {
   "cell_type": "code",
   "execution_count": 25,
   "id": "f0b9a2e6",
   "metadata": {},
   "outputs": [
    {
     "name": "stdout",
     "output_type": "stream",
     "text": [
      "Unique Dependent values and their counts :\n",
      "0     202625\n",
      "2      15538\n",
      "12     15532\n",
      "8      15531\n",
      "7      15518\n",
      "4      15516\n",
      "11     15514\n",
      "5      15492\n",
      "9      15492\n",
      "10     15477\n",
      "1      15476\n",
      "3      15469\n",
      "6      15469\n",
      "14     10361\n",
      "13     10360\n",
      "17     10346\n",
      "15     10334\n",
      "16     10320\n",
      "18      5210\n",
      "20      5202\n",
      "19      5189\n",
      "21      5185\n",
      "23      5166\n",
      "22      5161\n",
      "Name: stimulus, dtype: int64\n"
     ]
    }
   ],
   "source": [
    "print(\"Unique Dependent values and their counts :\")\n",
    "print(raw_data[\"stimulus\"].value_counts())"
   ]
  },
  {
   "cell_type": "markdown",
   "id": "54420ec4",
   "metadata": {},
   "source": [
    "# Data Cleaning"
   ]
  },
  {
   "cell_type": "code",
   "execution_count": 26,
   "id": "a811198b",
   "metadata": {},
   "outputs": [],
   "source": [
    "index_names = raw_data[ (raw_data['stimulus'] != raw_data['restimulus'])].index\n",
    "raw_data.drop(index_names, inplace = True)"
   ]
  },
  {
   "cell_type": "code",
   "execution_count": 27,
   "id": "556cd92f",
   "metadata": {},
   "outputs": [],
   "source": [
    "index_names = raw_data[ (raw_data['repetition'] != raw_data['rerepetition'])].index\n",
    "raw_data.drop(index_names, inplace = True)"
   ]
  },
  {
   "cell_type": "code",
   "execution_count": 28,
   "id": "c91744f7",
   "metadata": {},
   "outputs": [],
   "source": [
    "X = raw_data.iloc[:,0:10]\n",
    "y = raw_data.stimulus"
   ]
  },
  {
   "cell_type": "markdown",
   "id": "152f7160",
   "metadata": {},
   "source": [
    "# One Hot Encoding"
   ]
  },
  {
   "cell_type": "code",
   "execution_count": 29,
   "id": "dfb77d24",
   "metadata": {},
   "outputs": [],
   "source": [
    "num_classes = 24"
   ]
  },
  {
   "cell_type": "code",
   "execution_count": 30,
   "id": "be64bf6b",
   "metadata": {},
   "outputs": [],
   "source": [
    "# One hot encoding for categorical labels\n",
    "import keras\n",
    "from keras import utils as np_utils\n",
    "y = keras.utils.np_utils.to_categorical(y, num_classes)"
   ]
  },
  {
   "cell_type": "code",
   "execution_count": 31,
   "id": "c7358f86",
   "metadata": {},
   "outputs": [],
   "source": [
    "input_dim = X.shape[1]"
   ]
  },
  {
   "cell_type": "markdown",
   "id": "cb3088a1",
   "metadata": {},
   "source": [
    "# MinMaxScaler"
   ]
  },
  {
   "cell_type": "code",
   "execution_count": 32,
   "id": "5bd820f4",
   "metadata": {},
   "outputs": [],
   "source": [
    "from sklearn.preprocessing import MinMaxScaler\n",
    "MinMaxScaler=MinMaxScaler()"
   ]
  },
  {
   "cell_type": "code",
   "execution_count": 33,
   "id": "6a118694",
   "metadata": {},
   "outputs": [],
   "source": [
    "sc = pd.DataFrame(MinMaxScaler.fit_transform(X))"
   ]
  },
  {
   "cell_type": "code",
   "execution_count": 34,
   "id": "d6e2f38b",
   "metadata": {},
   "outputs": [
    {
     "data": {
      "text/html": [
       "<div>\n",
       "<style scoped>\n",
       "    .dataframe tbody tr th:only-of-type {\n",
       "        vertical-align: middle;\n",
       "    }\n",
       "\n",
       "    .dataframe tbody tr th {\n",
       "        vertical-align: top;\n",
       "    }\n",
       "\n",
       "    .dataframe thead th {\n",
       "        text-align: right;\n",
       "    }\n",
       "</style>\n",
       "<table border=\"1\" class=\"dataframe\">\n",
       "  <thead>\n",
       "    <tr style=\"text-align: right;\">\n",
       "      <th></th>\n",
       "      <th>0</th>\n",
       "      <th>1</th>\n",
       "      <th>2</th>\n",
       "      <th>3</th>\n",
       "      <th>4</th>\n",
       "      <th>5</th>\n",
       "      <th>6</th>\n",
       "      <th>7</th>\n",
       "      <th>8</th>\n",
       "      <th>9</th>\n",
       "    </tr>\n",
       "  </thead>\n",
       "  <tbody>\n",
       "    <tr>\n",
       "      <th>0</th>\n",
       "      <td>0.014154</td>\n",
       "      <td>0.000515</td>\n",
       "      <td>0.0</td>\n",
       "      <td>0.000515</td>\n",
       "      <td>0.0</td>\n",
       "      <td>0.006602</td>\n",
       "      <td>0.0</td>\n",
       "      <td>0.009950</td>\n",
       "      <td>0.000515</td>\n",
       "      <td>0.007520</td>\n",
       "    </tr>\n",
       "    <tr>\n",
       "      <th>1</th>\n",
       "      <td>0.012052</td>\n",
       "      <td>0.000515</td>\n",
       "      <td>0.0</td>\n",
       "      <td>0.000515</td>\n",
       "      <td>0.0</td>\n",
       "      <td>0.003301</td>\n",
       "      <td>0.0</td>\n",
       "      <td>0.008385</td>\n",
       "      <td>0.000515</td>\n",
       "      <td>0.006361</td>\n",
       "    </tr>\n",
       "    <tr>\n",
       "      <th>2</th>\n",
       "      <td>0.011537</td>\n",
       "      <td>0.000515</td>\n",
       "      <td>0.0</td>\n",
       "      <td>0.000515</td>\n",
       "      <td>0.0</td>\n",
       "      <td>0.003301</td>\n",
       "      <td>0.0</td>\n",
       "      <td>0.007870</td>\n",
       "      <td>0.000515</td>\n",
       "      <td>0.005203</td>\n",
       "    </tr>\n",
       "    <tr>\n",
       "      <th>3</th>\n",
       "      <td>0.011537</td>\n",
       "      <td>0.000515</td>\n",
       "      <td>0.0</td>\n",
       "      <td>0.000515</td>\n",
       "      <td>0.0</td>\n",
       "      <td>0.003301</td>\n",
       "      <td>0.0</td>\n",
       "      <td>0.006819</td>\n",
       "      <td>0.000515</td>\n",
       "      <td>0.003476</td>\n",
       "    </tr>\n",
       "    <tr>\n",
       "      <th>4</th>\n",
       "      <td>0.009950</td>\n",
       "      <td>0.000515</td>\n",
       "      <td>0.0</td>\n",
       "      <td>0.000515</td>\n",
       "      <td>0.0</td>\n",
       "      <td>0.001617</td>\n",
       "      <td>0.0</td>\n",
       "      <td>0.007334</td>\n",
       "      <td>0.000515</td>\n",
       "      <td>0.002885</td>\n",
       "    </tr>\n",
       "    <tr>\n",
       "      <th>...</th>\n",
       "      <td>...</td>\n",
       "      <td>...</td>\n",
       "      <td>...</td>\n",
       "      <td>...</td>\n",
       "      <td>...</td>\n",
       "      <td>...</td>\n",
       "      <td>...</td>\n",
       "      <td>...</td>\n",
       "      <td>...</td>\n",
       "      <td>...</td>\n",
       "    </tr>\n",
       "    <tr>\n",
       "      <th>378530</th>\n",
       "      <td>0.000000</td>\n",
       "      <td>0.000515</td>\n",
       "      <td>0.0</td>\n",
       "      <td>0.000515</td>\n",
       "      <td>0.0</td>\n",
       "      <td>0.001617</td>\n",
       "      <td>0.0</td>\n",
       "      <td>0.011537</td>\n",
       "      <td>0.026198</td>\n",
       "      <td>0.000000</td>\n",
       "    </tr>\n",
       "    <tr>\n",
       "      <th>378531</th>\n",
       "      <td>0.000000</td>\n",
       "      <td>0.000515</td>\n",
       "      <td>0.0</td>\n",
       "      <td>0.000515</td>\n",
       "      <td>0.0</td>\n",
       "      <td>0.003301</td>\n",
       "      <td>0.0</td>\n",
       "      <td>0.010487</td>\n",
       "      <td>0.027250</td>\n",
       "      <td>0.000000</td>\n",
       "    </tr>\n",
       "    <tr>\n",
       "      <th>378532</th>\n",
       "      <td>0.000000</td>\n",
       "      <td>0.000515</td>\n",
       "      <td>0.0</td>\n",
       "      <td>0.000515</td>\n",
       "      <td>0.0</td>\n",
       "      <td>0.001617</td>\n",
       "      <td>0.0</td>\n",
       "      <td>0.010487</td>\n",
       "      <td>0.027250</td>\n",
       "      <td>0.000000</td>\n",
       "    </tr>\n",
       "    <tr>\n",
       "      <th>378533</th>\n",
       "      <td>0.000000</td>\n",
       "      <td>0.000515</td>\n",
       "      <td>0.0</td>\n",
       "      <td>0.000515</td>\n",
       "      <td>0.0</td>\n",
       "      <td>0.001617</td>\n",
       "      <td>0.0</td>\n",
       "      <td>0.009950</td>\n",
       "      <td>0.027765</td>\n",
       "      <td>0.000000</td>\n",
       "    </tr>\n",
       "    <tr>\n",
       "      <th>378534</th>\n",
       "      <td>0.000000</td>\n",
       "      <td>0.000515</td>\n",
       "      <td>0.0</td>\n",
       "      <td>0.000515</td>\n",
       "      <td>0.0</td>\n",
       "      <td>0.001617</td>\n",
       "      <td>0.0</td>\n",
       "      <td>0.008900</td>\n",
       "      <td>0.027765</td>\n",
       "      <td>0.000000</td>\n",
       "    </tr>\n",
       "  </tbody>\n",
       "</table>\n",
       "<p>378535 rows × 10 columns</p>\n",
       "</div>"
      ],
      "text/plain": [
       "               0         1    2         3    4         5    6         7  \\\n",
       "0       0.014154  0.000515  0.0  0.000515  0.0  0.006602  0.0  0.009950   \n",
       "1       0.012052  0.000515  0.0  0.000515  0.0  0.003301  0.0  0.008385   \n",
       "2       0.011537  0.000515  0.0  0.000515  0.0  0.003301  0.0  0.007870   \n",
       "3       0.011537  0.000515  0.0  0.000515  0.0  0.003301  0.0  0.006819   \n",
       "4       0.009950  0.000515  0.0  0.000515  0.0  0.001617  0.0  0.007334   \n",
       "...          ...       ...  ...       ...  ...       ...  ...       ...   \n",
       "378530  0.000000  0.000515  0.0  0.000515  0.0  0.001617  0.0  0.011537   \n",
       "378531  0.000000  0.000515  0.0  0.000515  0.0  0.003301  0.0  0.010487   \n",
       "378532  0.000000  0.000515  0.0  0.000515  0.0  0.001617  0.0  0.010487   \n",
       "378533  0.000000  0.000515  0.0  0.000515  0.0  0.001617  0.0  0.009950   \n",
       "378534  0.000000  0.000515  0.0  0.000515  0.0  0.001617  0.0  0.008900   \n",
       "\n",
       "               8         9  \n",
       "0       0.000515  0.007520  \n",
       "1       0.000515  0.006361  \n",
       "2       0.000515  0.005203  \n",
       "3       0.000515  0.003476  \n",
       "4       0.000515  0.002885  \n",
       "...          ...       ...  \n",
       "378530  0.026198  0.000000  \n",
       "378531  0.027250  0.000000  \n",
       "378532  0.027250  0.000000  \n",
       "378533  0.027765  0.000000  \n",
       "378534  0.027765  0.000000  \n",
       "\n",
       "[378535 rows x 10 columns]"
      ]
     },
     "execution_count": 34,
     "metadata": {},
     "output_type": "execute_result"
    }
   ],
   "source": [
    "sc"
   ]
  },
  {
   "cell_type": "code",
   "execution_count": 35,
   "id": "65cfb75d",
   "metadata": {},
   "outputs": [],
   "source": [
    "# Splitting data for training and testing\n",
    "X_train, X_test, y_train, y_test = train_test_split(sc, y, test_size = 0.2, random_state = 39)"
   ]
  },
  {
   "cell_type": "markdown",
   "id": "3ba47781",
   "metadata": {},
   "source": [
    "# Deep Learning "
   ]
  },
  {
   "cell_type": "code",
   "execution_count": 36,
   "id": "d426e2e1",
   "metadata": {},
   "outputs": [],
   "source": [
    "from sklearn.preprocessing import MinMaxScaler\n",
    "from tensorflow.keras.models import Model\n",
    "from tensorflow.keras.layers import Input\n",
    "from tensorflow.keras.layers import Dense\n",
    "from tensorflow.keras.layers import LeakyReLU\n",
    "from tensorflow.keras.layers import BatchNormalization\n",
    "from tensorflow.keras.utils import plot_model\n",
    "import tensorflow as tf\n",
    "from sklearn.model_selection import cross_val_score\n",
    "from keras.models import Sequential\n",
    "from keras.layers import Dense, BatchNormalization, Dropout\n",
    "from tensorflow.keras.optimizers import Adam, SGD, RMSprop, Adadelta, Adagrad, Adamax, Nadam, Ftrl\n",
    "from keras.callbacks import EarlyStopping, ModelCheckpoint\n",
    "from keras.wrappers.scikit_learn import KerasClassifier\n",
    "from sklearn.metrics import make_scorer, accuracy_score\n",
    "from sklearn.model_selection import StratifiedKFold"
   ]
  },
  {
   "cell_type": "code",
   "execution_count": 37,
   "id": "cd0ef208",
   "metadata": {},
   "outputs": [],
   "source": [
    "from keras.layers import LeakyReLU\n",
    "LeakyReLU = LeakyReLU(alpha=0.1)\n",
    "from keras.models import Sequential\n",
    "from keras.layers import Dense, Flatten, Convolution1D, Dropout\n",
    "from keras.initializers import random_uniform"
   ]
  },
  {
   "cell_type": "markdown",
   "id": "f97d61bc",
   "metadata": {},
   "source": [
    "# 1. Define Network"
   ]
  },
  {
   "cell_type": "code",
   "execution_count": 38,
   "id": "bd77bf81",
   "metadata": {},
   "outputs": [],
   "source": [
    "num_classes = 24\n",
    "input_dim = X.shape[1]"
   ]
  },
  {
   "cell_type": "code",
   "execution_count": 61,
   "id": "fbdce465",
   "metadata": {},
   "outputs": [],
   "source": [
    "visible = Input(shape=(input_dim,))\n",
    "hidden1 = Dense(384, activation='relu')(visible)\n",
    "hidden2 = Dense(192, activation='relu')(hidden1)\n",
    "hidden3 = Dense(96, activation='relu')(hidden2)\n",
    "hidden4 = Dense(48, activation='relu')(hidden3)\n",
    "output = Dense(num_classes, activation='softmax')(hidden4)\n",
    "model = Model(inputs=visible, outputs=output)"
   ]
  },
  {
   "cell_type": "code",
   "execution_count": 62,
   "id": "1dd33478",
   "metadata": {},
   "outputs": [
    {
     "name": "stdout",
     "output_type": "stream",
     "text": [
      "Model: \"model_2\"\n",
      "_________________________________________________________________\n",
      " Layer (type)                Output Shape              Param #   \n",
      "=================================================================\n",
      " input_3 (InputLayer)        [(None, 10)]              0         \n",
      "                                                                 \n",
      " dense_10 (Dense)            (None, 384)               4224      \n",
      "                                                                 \n",
      " dense_11 (Dense)            (None, 192)               73920     \n",
      "                                                                 \n",
      " dense_12 (Dense)            (None, 96)                18528     \n",
      "                                                                 \n",
      " dense_13 (Dense)            (None, 48)                4656      \n",
      "                                                                 \n",
      " dense_14 (Dense)            (None, 24)                1176      \n",
      "                                                                 \n",
      "=================================================================\n",
      "Total params: 102,504\n",
      "Trainable params: 102,504\n",
      "Non-trainable params: 0\n",
      "_________________________________________________________________\n"
     ]
    }
   ],
   "source": [
    "model.summary()"
   ]
  },
  {
   "cell_type": "markdown",
   "id": "3196ac97",
   "metadata": {},
   "source": [
    "# 2. Compile Network"
   ]
  },
  {
   "cell_type": "code",
   "execution_count": 63,
   "id": "7a2d558b",
   "metadata": {},
   "outputs": [],
   "source": [
    "model.compile(optimizer='adam', loss='categorical_crossentropy', metrics=['accuracy'])"
   ]
  },
  {
   "cell_type": "code",
   "execution_count": 64,
   "id": "c1d2b36d",
   "metadata": {},
   "outputs": [
    {
     "name": "stdout",
     "output_type": "stream",
     "text": [
      "You must install pydot (`pip install pydot`) and install graphviz (see instructions at https://graphviz.gitlab.io/download/) for plot_model/model_to_dot to work.\n"
     ]
    }
   ],
   "source": [
    "plot_model(model, 'EMG_ANN', show_shapes = True)"
   ]
  },
  {
   "cell_type": "markdown",
   "id": "3358b592",
   "metadata": {},
   "source": [
    "# 3. Fit Network"
   ]
  },
  {
   "cell_type": "code",
   "execution_count": 65,
   "id": "e0ed4ddd",
   "metadata": {},
   "outputs": [
    {
     "name": "stdout",
     "output_type": "stream",
     "text": [
      "Epoch 1/50\n",
      "30283/30283 [==============================] - 81s 3ms/step - loss: 1.0226 - accuracy: 0.7188 - val_loss: 0.7622 - val_accuracy: 0.7861\n",
      "Epoch 2/50\n",
      "30283/30283 [==============================] - 81s 3ms/step - loss: 0.6968 - accuracy: 0.8041 - val_loss: 0.6494 - val_accuracy: 0.8168\n",
      "Epoch 3/50\n",
      "30283/30283 [==============================] - 81s 3ms/step - loss: 0.6063 - accuracy: 0.8281 - val_loss: 0.5733 - val_accuracy: 0.8358\n",
      "Epoch 4/50\n",
      "30283/30283 [==============================] - 87s 3ms/step - loss: 0.5608 - accuracy: 0.8401 - val_loss: 0.5699 - val_accuracy: 0.8399\n",
      "Epoch 5/50\n",
      "30283/30283 [==============================] - 84s 3ms/step - loss: 0.5279 - accuracy: 0.8495 - val_loss: 0.5328 - val_accuracy: 0.8490\n",
      "Epoch 6/50\n",
      "30283/30283 [==============================] - 83s 3ms/step - loss: 0.5058 - accuracy: 0.8559 - val_loss: 0.5199 - val_accuracy: 0.8520\n",
      "Epoch 7/50\n",
      "30283/30283 [==============================] - 84s 3ms/step - loss: 0.4891 - accuracy: 0.8597 - val_loss: 0.5157 - val_accuracy: 0.8550\n",
      "Epoch 8/50\n",
      "30283/30283 [==============================] - 81s 3ms/step - loss: 0.4748 - accuracy: 0.8642 - val_loss: 0.4896 - val_accuracy: 0.8620\n",
      "Epoch 9/50\n",
      "30283/30283 [==============================] - 82s 3ms/step - loss: 0.4620 - accuracy: 0.8681 - val_loss: 0.4944 - val_accuracy: 0.8601\n",
      "Epoch 10/50\n",
      "30283/30283 [==============================] - 84s 3ms/step - loss: 0.4527 - accuracy: 0.8707 - val_loss: 0.4720 - val_accuracy: 0.8663\n",
      "Epoch 11/50\n",
      "30283/30283 [==============================] - 85s 3ms/step - loss: 0.4452 - accuracy: 0.8725 - val_loss: 0.4741 - val_accuracy: 0.8667\n",
      "Epoch 12/50\n",
      "30283/30283 [==============================] - 81s 3ms/step - loss: 0.4375 - accuracy: 0.8741 - val_loss: 0.4705 - val_accuracy: 0.8646\n",
      "Epoch 13/50\n",
      "30283/30283 [==============================] - 84s 3ms/step - loss: 0.4309 - accuracy: 0.8769 - val_loss: 0.4708 - val_accuracy: 0.8678\n",
      "Epoch 14/50\n",
      "30283/30283 [==============================] - 84s 3ms/step - loss: 0.4259 - accuracy: 0.8784 - val_loss: 0.4770 - val_accuracy: 0.8654\n",
      "Epoch 15/50\n",
      "30283/30283 [==============================] - 84s 3ms/step - loss: 0.4216 - accuracy: 0.8798 - val_loss: 0.4554 - val_accuracy: 0.8720\n",
      "Epoch 16/50\n",
      "30283/30283 [==============================] - 83s 3ms/step - loss: 0.4160 - accuracy: 0.8811 - val_loss: 0.4646 - val_accuracy: 0.8710\n",
      "Epoch 17/50\n",
      "30283/30283 [==============================] - 84s 3ms/step - loss: 0.4133 - accuracy: 0.8822 - val_loss: 0.4391 - val_accuracy: 0.8778\n",
      "Epoch 18/50\n",
      "30283/30283 [==============================] - 84s 3ms/step - loss: 0.4088 - accuracy: 0.8830 - val_loss: 0.4400 - val_accuracy: 0.8754\n",
      "Epoch 19/50\n",
      "30283/30283 [==============================] - 83s 3ms/step - loss: 0.4035 - accuracy: 0.8843 - val_loss: 0.4508 - val_accuracy: 0.8747\n",
      "Epoch 20/50\n",
      "30283/30283 [==============================] - 82s 3ms/step - loss: 0.4007 - accuracy: 0.8859 - val_loss: 0.4493 - val_accuracy: 0.8753\n",
      "Epoch 21/50\n",
      "30283/30283 [==============================] - 83s 3ms/step - loss: 0.3982 - accuracy: 0.8864 - val_loss: 0.4598 - val_accuracy: 0.8728\n",
      "Epoch 22/50\n",
      "30283/30283 [==============================] - 84s 3ms/step - loss: 0.3953 - accuracy: 0.8872 - val_loss: 0.4437 - val_accuracy: 0.8778\n",
      "Epoch 23/50\n",
      "30283/30283 [==============================] - 239s 8ms/step - loss: 0.3925 - accuracy: 0.8883 - val_loss: 0.4338 - val_accuracy: 0.8806\n",
      "Epoch 24/50\n",
      "30283/30283 [==============================] - 294s 10ms/step - loss: 0.3909 - accuracy: 0.8886 - val_loss: 0.4366 - val_accuracy: 0.8792\n",
      "Epoch 25/50\n",
      "30283/30283 [==============================] - 294s 10ms/step - loss: 0.3874 - accuracy: 0.8895 - val_loss: 0.4345 - val_accuracy: 0.8787\n",
      "Epoch 26/50\n",
      "30283/30283 [==============================] - 298s 10ms/step - loss: 0.3875 - accuracy: 0.8901 - val_loss: 0.4252 - val_accuracy: 0.8818\n",
      "Epoch 27/50\n",
      "30283/30283 [==============================] - 301s 10ms/step - loss: 0.3851 - accuracy: 0.8907 - val_loss: 0.4271 - val_accuracy: 0.8804\n",
      "Epoch 28/50\n",
      "30283/30283 [==============================] - 301s 10ms/step - loss: 0.3817 - accuracy: 0.8910 - val_loss: 0.4256 - val_accuracy: 0.8830\n",
      "Epoch 29/50\n",
      "30283/30283 [==============================] - 207s 7ms/step - loss: 0.3790 - accuracy: 0.8918 - val_loss: 0.4254 - val_accuracy: 0.8809\n",
      "Epoch 30/50\n",
      "30283/30283 [==============================] - 84s 3ms/step - loss: 0.3785 - accuracy: 0.8923 - val_loss: 0.4197 - val_accuracy: 0.8833\n",
      "Epoch 31/50\n",
      "30283/30283 [==============================] - 85s 3ms/step - loss: 0.3757 - accuracy: 0.8933 - val_loss: 0.4357 - val_accuracy: 0.8805\n",
      "Epoch 32/50\n",
      "30283/30283 [==============================] - 85s 3ms/step - loss: 0.3751 - accuracy: 0.8936 - val_loss: 0.4432 - val_accuracy: 0.8781\n",
      "Epoch 33/50\n",
      "30283/30283 [==============================] - 87s 3ms/step - loss: 0.3745 - accuracy: 0.8939 - val_loss: 0.4282 - val_accuracy: 0.8827\n",
      "Epoch 34/50\n",
      "30283/30283 [==============================] - 94s 3ms/step - loss: 0.3722 - accuracy: 0.8948 - val_loss: 0.4311 - val_accuracy: 0.8831\n",
      "Epoch 35/50\n",
      "30283/30283 [==============================] - 94s 3ms/step - loss: 0.3696 - accuracy: 0.8953 - val_loss: 0.4311 - val_accuracy: 0.8803\n",
      "Epoch 36/50\n",
      "30283/30283 [==============================] - 94s 3ms/step - loss: 0.3711 - accuracy: 0.8952 - val_loss: 0.4424 - val_accuracy: 0.8811\n",
      "Epoch 37/50\n",
      "30283/30283 [==============================] - 85s 3ms/step - loss: 0.3680 - accuracy: 0.8961 - val_loss: 0.4186 - val_accuracy: 0.8845\n",
      "Epoch 38/50\n",
      "30283/30283 [==============================] - 84s 3ms/step - loss: 0.3669 - accuracy: 0.8964 - val_loss: 0.4060 - val_accuracy: 0.8872\n",
      "Epoch 39/50\n",
      "30283/30283 [==============================] - 85s 3ms/step - loss: 0.3669 - accuracy: 0.8967 - val_loss: 0.4170 - val_accuracy: 0.8852\n",
      "Epoch 40/50\n",
      "30283/30283 [==============================] - 81s 3ms/step - loss: 0.3661 - accuracy: 0.8970 - val_loss: 0.4254 - val_accuracy: 0.8840\n",
      "Epoch 41/50\n",
      "30283/30283 [==============================] - 83s 3ms/step - loss: 0.3635 - accuracy: 0.8977 - val_loss: 0.4181 - val_accuracy: 0.8861\n",
      "Epoch 42/50\n",
      "30283/30283 [==============================] - 84s 3ms/step - loss: 0.3624 - accuracy: 0.8976 - val_loss: 0.4217 - val_accuracy: 0.8856\n",
      "Epoch 43/50\n",
      "30283/30283 [==============================] - 82s 3ms/step - loss: 0.3639 - accuracy: 0.8977 - val_loss: 0.4395 - val_accuracy: 0.8809\n",
      "Epoch 44/50\n",
      "30283/30283 [==============================] - 82s 3ms/step - loss: 0.3604 - accuracy: 0.8983 - val_loss: 0.4095 - val_accuracy: 0.8888\n",
      "Epoch 45/50\n",
      "30283/30283 [==============================] - 84s 3ms/step - loss: 0.3604 - accuracy: 0.8990 - val_loss: 0.4248 - val_accuracy: 0.8866\n",
      "Epoch 46/50\n",
      "30283/30283 [==============================] - 83s 3ms/step - loss: 0.3613 - accuracy: 0.8985 - val_loss: 0.4539 - val_accuracy: 0.8805\n",
      "Epoch 47/50\n",
      "30283/30283 [==============================] - 82s 3ms/step - loss: 0.3587 - accuracy: 0.8989 - val_loss: 0.4228 - val_accuracy: 0.8853\n",
      "Epoch 48/50\n",
      "30283/30283 [==============================] - 83s 3ms/step - loss: 0.3598 - accuracy: 0.8985 - val_loss: 0.4077 - val_accuracy: 0.8904\n",
      "Epoch 49/50\n",
      "30283/30283 [==============================] - 83s 3ms/step - loss: 0.3566 - accuracy: 0.8998 - val_loss: 0.4085 - val_accuracy: 0.8877\n",
      "Epoch 50/50\n",
      "30283/30283 [==============================] - 81s 3ms/step - loss: 0.3590 - accuracy: 0.8997 - val_loss: 0.4161 - val_accuracy: 0.8877\n"
     ]
    }
   ],
   "source": [
    "history = model.fit(X_train, y_train, batch_size=10, epochs=50, validation_data = (X_test, y_test))"
   ]
  },
  {
   "cell_type": "markdown",
   "id": "ffed59b1",
   "metadata": {},
   "source": [
    "# 4.Evaluate Network"
   ]
  },
  {
   "cell_type": "markdown",
   "id": "28731190",
   "metadata": {},
   "source": [
    "## 4.1. Plotting Loss and Accuracy"
   ]
  },
  {
   "cell_type": "code",
   "execution_count": 66,
   "id": "971e6040",
   "metadata": {},
   "outputs": [
    {
     "data": {
      "image/png": "[encoded data removed]",
      "text/plain": [
       "<Figure size 432x288 with 1 Axes>"
      ]
     },
     "metadata": {
      "needs_background": "light"
     },
     "output_type": "display_data"
    }
   ],
   "source": [
    "#Loss Curve\n",
    "plt.plot(history.history['loss'], label = 'Training Loss')\n",
    "plt.plot(history.history['val_loss'], label = \"Test Loss\")\n",
    "plt.legend()\n",
    "plt.show()"
   ]
  },
  {
   "cell_type": "code",
   "execution_count": 67,
   "id": "b0c193ec",
   "metadata": {},
   "outputs": [
    {
     "data": {
      "image/png": "[encoded data removed]",
      "text/plain": [
       "<Figure size 432x288 with 1 Axes>"
      ]
     },
     "metadata": {
      "needs_background": "light"
     },
     "output_type": "display_data"
    }
   ],
   "source": [
    "#accuracy Curve\n",
    "plt.plot(history.history['accuracy'], label = 'Training Accuracy')\n",
    "plt.plot(history.history['val_accuracy'], label = \"Test Accuracy\")\n",
    "plt.legend()\n",
    "plt.show()"
   ]
  },
  {
   "cell_type": "markdown",
   "id": "806270f7",
   "metadata": {},
   "source": [
    "## 4.2 Evaluation"
   ]
  },
  {
   "cell_type": "code",
   "execution_count": 68,
   "id": "f86c3441",
   "metadata": {},
   "outputs": [
    {
     "name": "stdout",
     "output_type": "stream",
     "text": [
      "2366/2366 [==============================] - 4s 2ms/step - loss: 0.4161 - accuracy: 0.8877\n"
     ]
    }
   ],
   "source": [
    "loss, accuracy = model.evaluate(X_test, y_test)"
   ]
  },
  {
   "cell_type": "markdown",
   "id": "741a02aa",
   "metadata": {},
   "source": [
    "##  4.3 Make Predictions"
   ]
  },
  {
   "cell_type": "code",
   "execution_count": 69,
   "id": "e8465627",
   "metadata": {},
   "outputs": [],
   "source": [
    "predictions = model.predict(X_test)"
   ]
  },
  {
   "cell_type": "code",
   "execution_count": 70,
   "id": "68ff1c6a",
   "metadata": {},
   "outputs": [
    {
     "data": {
      "text/plain": [
       "array([[9.9550569e-01, 2.7871691e-05, 5.6789670e-04, ..., 0.0000000e+00,\n",
       "        0.0000000e+00, 0.0000000e+00],\n",
       "       [5.8295122e-12, 1.7179655e-24, 3.8945515e-20, ..., 4.0871663e-23,\n",
       "        5.5924091e-20, 7.2147320e-20],\n",
       "       [8.7946290e-01, 8.0380440e-03, 1.5950017e-02, ..., 5.0085325e-28,\n",
       "        2.3880994e-33, 2.4755187e-36],\n",
       "       ...,\n",
       "       [1.8139413e-03, 9.1079346e-06, 2.1641944e-03, ..., 1.0053070e-05,\n",
       "        2.2217749e-07, 1.2938068e-06],\n",
       "       [9.7963482e-01, 1.8760546e-03, 1.1475887e-02, ..., 1.7904308e-29,\n",
       "        1.5880483e-05, 8.8870816e-10],\n",
       "       [2.5227352e-04, 4.0054172e-02, 1.7109782e-03, ..., 1.0128132e-32,\n",
       "        0.0000000e+00, 0.0000000e+00]], dtype=float32)"
      ]
     },
     "execution_count": 70,
     "metadata": {},
     "output_type": "execute_result"
    }
   ],
   "source": [
    "predictions"
   ]
  },
  {
   "cell_type": "code",
   "execution_count": null,
   "id": "cb2db297",
   "metadata": {},
   "outputs": [],
   "source": []
  },
  {
   "cell_type": "code",
   "execution_count": null,
   "id": "32b5d9df",
   "metadata": {},
   "outputs": [],
   "source": []
  }
 ],
 "metadata": {
  "kernelspec": {
   "display_name": "Python 3 (ipykernel)",
   "language": "python",
   "name": "python3"
  },
  "language_info": {
   "codemirror_mode": {
    "name": "ipython",
    "version": 3
   },
   "file_extension": ".py",
   "mimetype": "text/x-python",
   "name": "python",
   "nbconvert_exporter": "python",
   "pygments_lexer": "ipython3",
   "version": "3.8.12"
  }
 },
 "nbformat": 4,
 "nbformat_minor": 5
}
