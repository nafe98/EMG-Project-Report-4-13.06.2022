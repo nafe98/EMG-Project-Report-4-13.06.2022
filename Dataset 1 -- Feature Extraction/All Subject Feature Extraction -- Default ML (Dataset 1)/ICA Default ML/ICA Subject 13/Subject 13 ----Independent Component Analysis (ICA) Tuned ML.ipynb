{
 "cells": [
  {
   "cell_type": "markdown",
   "id": "f9e9d302",
   "metadata": {},
   "source": [
    "# Importing Libraries"
   ]
  },
  {
   "cell_type": "code",
   "execution_count": 1,
   "id": "8981c1e9",
   "metadata": {},
   "outputs": [],
   "source": [
    "import numpy as np\n",
    "import pandas as pd\n",
    "import matplotlib.pyplot as plt\n",
    "import seaborn as sns\n",
    "from sklearn.model_selection import train_test_split\n",
    "from sklearn.metrics import confusion_matrix, f1_score, accuracy_score, classification_report"
   ]
  },
  {
   "cell_type": "markdown",
   "id": "8bfa8885",
   "metadata": {},
   "source": [
    "# Exploratory Data Analysis"
   ]
  },
  {
   "cell_type": "code",
   "execution_count": 2,
   "id": "ff1116c8",
   "metadata": {},
   "outputs": [
    {
     "data": {
      "text/html": [
       "<div>\n",
       "<style scoped>\n",
       "    .dataframe tbody tr th:only-of-type {\n",
       "        vertical-align: middle;\n",
       "    }\n",
       "\n",
       "    .dataframe tbody tr th {\n",
       "        vertical-align: top;\n",
       "    }\n",
       "\n",
       "    .dataframe thead th {\n",
       "        text-align: right;\n",
       "    }\n",
       "</style>\n",
       "<table border=\"1\" class=\"dataframe\">\n",
       "  <thead>\n",
       "    <tr style=\"text-align: right;\">\n",
       "      <th></th>\n",
       "      <th>Emg1</th>\n",
       "      <th>Emg2</th>\n",
       "      <th>Emg3</th>\n",
       "      <th>Emg4</th>\n",
       "      <th>Emg5</th>\n",
       "      <th>Emg6</th>\n",
       "      <th>Emg7</th>\n",
       "      <th>Emg8</th>\n",
       "      <th>Emg9</th>\n",
       "      <th>Emg10</th>\n",
       "      <th>repetition</th>\n",
       "      <th>rerepetition</th>\n",
       "      <th>stimulus</th>\n",
       "      <th>restimulus</th>\n",
       "    </tr>\n",
       "  </thead>\n",
       "  <tbody>\n",
       "    <tr>\n",
       "      <th>158229</th>\n",
       "      <td>0.0024</td>\n",
       "      <td>0.0024</td>\n",
       "      <td>0.0024</td>\n",
       "      <td>0.0024</td>\n",
       "      <td>0.0024</td>\n",
       "      <td>0.0024</td>\n",
       "      <td>0.0757</td>\n",
       "      <td>0.1123</td>\n",
       "      <td>0.0024</td>\n",
       "      <td>0.4980</td>\n",
       "      <td>0</td>\n",
       "      <td>0</td>\n",
       "      <td>0</td>\n",
       "      <td>0</td>\n",
       "    </tr>\n",
       "    <tr>\n",
       "      <th>152203</th>\n",
       "      <td>0.0049</td>\n",
       "      <td>0.0024</td>\n",
       "      <td>0.0024</td>\n",
       "      <td>0.0024</td>\n",
       "      <td>0.0024</td>\n",
       "      <td>0.0073</td>\n",
       "      <td>0.1465</td>\n",
       "      <td>0.1611</td>\n",
       "      <td>0.0024</td>\n",
       "      <td>0.4980</td>\n",
       "      <td>0</td>\n",
       "      <td>0</td>\n",
       "      <td>0</td>\n",
       "      <td>0</td>\n",
       "    </tr>\n",
       "    <tr>\n",
       "      <th>302086</th>\n",
       "      <td>0.2246</td>\n",
       "      <td>0.0146</td>\n",
       "      <td>0.0146</td>\n",
       "      <td>0.0024</td>\n",
       "      <td>0.0024</td>\n",
       "      <td>0.1831</td>\n",
       "      <td>0.4102</td>\n",
       "      <td>0.8105</td>\n",
       "      <td>0.0049</td>\n",
       "      <td>0.1709</td>\n",
       "      <td>1</td>\n",
       "      <td>1</td>\n",
       "      <td>7</td>\n",
       "      <td>7</td>\n",
       "    </tr>\n",
       "    <tr>\n",
       "      <th>213189</th>\n",
       "      <td>0.0024</td>\n",
       "      <td>0.0024</td>\n",
       "      <td>0.0024</td>\n",
       "      <td>0.0024</td>\n",
       "      <td>0.0024</td>\n",
       "      <td>0.0537</td>\n",
       "      <td>0.4004</td>\n",
       "      <td>0.1538</td>\n",
       "      <td>0.0024</td>\n",
       "      <td>0.2173</td>\n",
       "      <td>4</td>\n",
       "      <td>0</td>\n",
       "      <td>14</td>\n",
       "      <td>0</td>\n",
       "    </tr>\n",
       "    <tr>\n",
       "      <th>268066</th>\n",
       "      <td>0.0024</td>\n",
       "      <td>0.0024</td>\n",
       "      <td>0.0024</td>\n",
       "      <td>0.0024</td>\n",
       "      <td>0.0024</td>\n",
       "      <td>0.0464</td>\n",
       "      <td>1.6626</td>\n",
       "      <td>0.1538</td>\n",
       "      <td>0.0024</td>\n",
       "      <td>0.2783</td>\n",
       "      <td>5</td>\n",
       "      <td>0</td>\n",
       "      <td>3</td>\n",
       "      <td>0</td>\n",
       "    </tr>\n",
       "  </tbody>\n",
       "</table>\n",
       "</div>"
      ],
      "text/plain": [
       "          Emg1    Emg2    Emg3    Emg4    Emg5    Emg6    Emg7    Emg8  \\\n",
       "158229  0.0024  0.0024  0.0024  0.0024  0.0024  0.0024  0.0757  0.1123   \n",
       "152203  0.0049  0.0024  0.0024  0.0024  0.0024  0.0073  0.1465  0.1611   \n",
       "302086  0.2246  0.0146  0.0146  0.0024  0.0024  0.1831  0.4102  0.8105   \n",
       "213189  0.0024  0.0024  0.0024  0.0024  0.0024  0.0537  0.4004  0.1538   \n",
       "268066  0.0024  0.0024  0.0024  0.0024  0.0024  0.0464  1.6626  0.1538   \n",
       "\n",
       "          Emg9   Emg10  repetition  rerepetition  stimulus  restimulus  \n",
       "158229  0.0024  0.4980           0             0         0           0  \n",
       "152203  0.0024  0.4980           0             0         0           0  \n",
       "302086  0.0049  0.1709           1             1         7           7  \n",
       "213189  0.0024  0.2173           4             0        14           0  \n",
       "268066  0.0024  0.2783           5             0         3           0  "
      ]
     },
     "execution_count": 2,
     "metadata": {},
     "output_type": "execute_result"
    }
   ],
   "source": [
    "raw_data = pd.read_excel('Dataset 1 Patient 13.xlsx')\n",
    "raw_data.sample(5)"
   ]
  },
  {
   "cell_type": "code",
   "execution_count": 3,
   "id": "abaa902c",
   "metadata": {},
   "outputs": [
    {
     "data": {
      "text/plain": [
       "(456617, 14)"
      ]
     },
     "execution_count": 3,
     "metadata": {},
     "output_type": "execute_result"
    }
   ],
   "source": [
    "raw_data.shape"
   ]
  },
  {
   "cell_type": "code",
   "execution_count": 4,
   "id": "4c5eb0e0",
   "metadata": {},
   "outputs": [
    {
     "data": {
      "text/plain": [
       "Index(['Emg1', 'Emg2', 'Emg3', 'Emg4', 'Emg5', 'Emg6', 'Emg7', 'Emg8', 'Emg9',\n",
       "       'Emg10', 'repetition', 'rerepetition', 'stimulus', 'restimulus'],\n",
       "      dtype='object')"
      ]
     },
     "execution_count": 4,
     "metadata": {},
     "output_type": "execute_result"
    }
   ],
   "source": [
    "raw_data.columns"
   ]
  },
  {
   "cell_type": "code",
   "execution_count": 5,
   "id": "4154dd68",
   "metadata": {},
   "outputs": [
    {
     "name": "stdout",
     "output_type": "stream",
     "text": [
      "<class 'pandas.core.frame.DataFrame'>\n",
      "RangeIndex: 456617 entries, 0 to 456616\n",
      "Data columns (total 14 columns):\n",
      " #   Column        Non-Null Count   Dtype  \n",
      "---  ------        --------------   -----  \n",
      " 0   Emg1          456617 non-null  float64\n",
      " 1   Emg2          456617 non-null  float64\n",
      " 2   Emg3          456617 non-null  float64\n",
      " 3   Emg4          456617 non-null  float64\n",
      " 4   Emg5          456617 non-null  float64\n",
      " 5   Emg6          456617 non-null  float64\n",
      " 6   Emg7          456617 non-null  float64\n",
      " 7   Emg8          456617 non-null  float64\n",
      " 8   Emg9          456617 non-null  float64\n",
      " 9   Emg10         456617 non-null  float64\n",
      " 10  repetition    456617 non-null  int64  \n",
      " 11  rerepetition  456617 non-null  int64  \n",
      " 12  stimulus      456617 non-null  int64  \n",
      " 13  restimulus    456617 non-null  int64  \n",
      "dtypes: float64(10), int64(4)\n",
      "memory usage: 48.8 MB\n"
     ]
    }
   ],
   "source": [
    "raw_data.info()"
   ]
  },
  {
   "cell_type": "code",
   "execution_count": 6,
   "id": "9ad2648b",
   "metadata": {},
   "outputs": [
    {
     "data": {
      "text/html": [
       "<div>\n",
       "<style scoped>\n",
       "    .dataframe tbody tr th:only-of-type {\n",
       "        vertical-align: middle;\n",
       "    }\n",
       "\n",
       "    .dataframe tbody tr th {\n",
       "        vertical-align: top;\n",
       "    }\n",
       "\n",
       "    .dataframe thead th {\n",
       "        text-align: right;\n",
       "    }\n",
       "</style>\n",
       "<table border=\"1\" class=\"dataframe\">\n",
       "  <thead>\n",
       "    <tr style=\"text-align: right;\">\n",
       "      <th></th>\n",
       "      <th>Emg1</th>\n",
       "      <th>Emg2</th>\n",
       "      <th>Emg3</th>\n",
       "      <th>Emg4</th>\n",
       "      <th>Emg5</th>\n",
       "      <th>Emg6</th>\n",
       "      <th>Emg7</th>\n",
       "      <th>Emg8</th>\n",
       "      <th>Emg9</th>\n",
       "      <th>Emg10</th>\n",
       "      <th>repetition</th>\n",
       "      <th>rerepetition</th>\n",
       "      <th>stimulus</th>\n",
       "      <th>restimulus</th>\n",
       "    </tr>\n",
       "  </thead>\n",
       "  <tbody>\n",
       "    <tr>\n",
       "      <th>count</th>\n",
       "      <td>456617.000000</td>\n",
       "      <td>456617.00000</td>\n",
       "      <td>456617.000000</td>\n",
       "      <td>456617.000000</td>\n",
       "      <td>456617.000000</td>\n",
       "      <td>456617.000000</td>\n",
       "      <td>456617.000000</td>\n",
       "      <td>456617.000000</td>\n",
       "      <td>456617.000000</td>\n",
       "      <td>456617.000000</td>\n",
       "      <td>456617.000000</td>\n",
       "      <td>456617.000000</td>\n",
       "      <td>456617.000000</td>\n",
       "      <td>456617.000000</td>\n",
       "    </tr>\n",
       "    <tr>\n",
       "      <th>mean</th>\n",
       "      <td>0.087577</td>\n",
       "      <td>0.11154</td>\n",
       "      <td>0.061346</td>\n",
       "      <td>0.020098</td>\n",
       "      <td>0.008846</td>\n",
       "      <td>0.090938</td>\n",
       "      <td>0.618475</td>\n",
       "      <td>0.313635</td>\n",
       "      <td>0.056314</td>\n",
       "      <td>0.273335</td>\n",
       "      <td>3.228675</td>\n",
       "      <td>2.073085</td>\n",
       "      <td>5.721548</td>\n",
       "      <td>3.711012</td>\n",
       "    </tr>\n",
       "    <tr>\n",
       "      <th>std</th>\n",
       "      <td>0.175377</td>\n",
       "      <td>0.27810</td>\n",
       "      <td>0.259189</td>\n",
       "      <td>0.122684</td>\n",
       "      <td>0.026813</td>\n",
       "      <td>0.155394</td>\n",
       "      <td>0.947964</td>\n",
       "      <td>0.324967</td>\n",
       "      <td>0.237637</td>\n",
       "      <td>0.115594</td>\n",
       "      <td>3.489333</td>\n",
       "      <td>3.210448</td>\n",
       "      <td>6.595727</td>\n",
       "      <td>6.071876</td>\n",
       "    </tr>\n",
       "    <tr>\n",
       "      <th>min</th>\n",
       "      <td>0.000000</td>\n",
       "      <td>0.00000</td>\n",
       "      <td>0.002400</td>\n",
       "      <td>0.000000</td>\n",
       "      <td>0.002400</td>\n",
       "      <td>0.000000</td>\n",
       "      <td>0.002400</td>\n",
       "      <td>0.002400</td>\n",
       "      <td>0.000000</td>\n",
       "      <td>0.002400</td>\n",
       "      <td>0.000000</td>\n",
       "      <td>0.000000</td>\n",
       "      <td>0.000000</td>\n",
       "      <td>0.000000</td>\n",
       "    </tr>\n",
       "    <tr>\n",
       "      <th>25%</th>\n",
       "      <td>0.002400</td>\n",
       "      <td>0.00240</td>\n",
       "      <td>0.002400</td>\n",
       "      <td>0.002400</td>\n",
       "      <td>0.002400</td>\n",
       "      <td>0.002400</td>\n",
       "      <td>0.065900</td>\n",
       "      <td>0.131800</td>\n",
       "      <td>0.002400</td>\n",
       "      <td>0.212400</td>\n",
       "      <td>0.000000</td>\n",
       "      <td>0.000000</td>\n",
       "      <td>0.000000</td>\n",
       "      <td>0.000000</td>\n",
       "    </tr>\n",
       "    <tr>\n",
       "      <th>50%</th>\n",
       "      <td>0.024400</td>\n",
       "      <td>0.00240</td>\n",
       "      <td>0.002400</td>\n",
       "      <td>0.002400</td>\n",
       "      <td>0.002400</td>\n",
       "      <td>0.031700</td>\n",
       "      <td>0.156300</td>\n",
       "      <td>0.200200</td>\n",
       "      <td>0.002400</td>\n",
       "      <td>0.251500</td>\n",
       "      <td>2.000000</td>\n",
       "      <td>0.000000</td>\n",
       "      <td>3.000000</td>\n",
       "      <td>0.000000</td>\n",
       "    </tr>\n",
       "    <tr>\n",
       "      <th>75%</th>\n",
       "      <td>0.095200</td>\n",
       "      <td>0.00980</td>\n",
       "      <td>0.004900</td>\n",
       "      <td>0.002400</td>\n",
       "      <td>0.002400</td>\n",
       "      <td>0.122100</td>\n",
       "      <td>0.798300</td>\n",
       "      <td>0.373500</td>\n",
       "      <td>0.002400</td>\n",
       "      <td>0.297900</td>\n",
       "      <td>6.000000</td>\n",
       "      <td>4.000000</td>\n",
       "      <td>10.000000</td>\n",
       "      <td>6.000000</td>\n",
       "    </tr>\n",
       "    <tr>\n",
       "      <th>max</th>\n",
       "      <td>4.668000</td>\n",
       "      <td>4.66550</td>\n",
       "      <td>4.663100</td>\n",
       "      <td>4.521500</td>\n",
       "      <td>1.843300</td>\n",
       "      <td>3.176300</td>\n",
       "      <td>4.668000</td>\n",
       "      <td>4.668000</td>\n",
       "      <td>4.665500</td>\n",
       "      <td>3.840300</td>\n",
       "      <td>10.000000</td>\n",
       "      <td>10.000000</td>\n",
       "      <td>23.000000</td>\n",
       "      <td>23.000000</td>\n",
       "    </tr>\n",
       "  </tbody>\n",
       "</table>\n",
       "</div>"
      ],
      "text/plain": [
       "                Emg1          Emg2           Emg3           Emg4  \\\n",
       "count  456617.000000  456617.00000  456617.000000  456617.000000   \n",
       "mean        0.087577       0.11154       0.061346       0.020098   \n",
       "std         0.175377       0.27810       0.259189       0.122684   \n",
       "min         0.000000       0.00000       0.002400       0.000000   \n",
       "25%         0.002400       0.00240       0.002400       0.002400   \n",
       "50%         0.024400       0.00240       0.002400       0.002400   \n",
       "75%         0.095200       0.00980       0.004900       0.002400   \n",
       "max         4.668000       4.66550       4.663100       4.521500   \n",
       "\n",
       "                Emg5           Emg6           Emg7           Emg8  \\\n",
       "count  456617.000000  456617.000000  456617.000000  456617.000000   \n",
       "mean        0.008846       0.090938       0.618475       0.313635   \n",
       "std         0.026813       0.155394       0.947964       0.324967   \n",
       "min         0.002400       0.000000       0.002400       0.002400   \n",
       "25%         0.002400       0.002400       0.065900       0.131800   \n",
       "50%         0.002400       0.031700       0.156300       0.200200   \n",
       "75%         0.002400       0.122100       0.798300       0.373500   \n",
       "max         1.843300       3.176300       4.668000       4.668000   \n",
       "\n",
       "                Emg9          Emg10     repetition   rerepetition  \\\n",
       "count  456617.000000  456617.000000  456617.000000  456617.000000   \n",
       "mean        0.056314       0.273335       3.228675       2.073085   \n",
       "std         0.237637       0.115594       3.489333       3.210448   \n",
       "min         0.000000       0.002400       0.000000       0.000000   \n",
       "25%         0.002400       0.212400       0.000000       0.000000   \n",
       "50%         0.002400       0.251500       2.000000       0.000000   \n",
       "75%         0.002400       0.297900       6.000000       4.000000   \n",
       "max         4.665500       3.840300      10.000000      10.000000   \n",
       "\n",
       "            stimulus     restimulus  \n",
       "count  456617.000000  456617.000000  \n",
       "mean        5.721548       3.711012  \n",
       "std         6.595727       6.071876  \n",
       "min         0.000000       0.000000  \n",
       "25%         0.000000       0.000000  \n",
       "50%         3.000000       0.000000  \n",
       "75%        10.000000       6.000000  \n",
       "max        23.000000      23.000000  "
      ]
     },
     "execution_count": 6,
     "metadata": {},
     "output_type": "execute_result"
    }
   ],
   "source": [
    "raw_data.describe(include='all')"
   ]
  },
  {
   "cell_type": "code",
   "execution_count": 7,
   "id": "ccb02915",
   "metadata": {},
   "outputs": [
    {
     "name": "stdout",
     "output_type": "stream",
     "text": [
      "Unique Dependent values and their counts :\n",
      "0     188571\n",
      "8      15509\n",
      "4      15506\n",
      "12     15496\n",
      "7      15495\n",
      "2      15486\n",
      "5      15477\n",
      "11     15468\n",
      "6      15464\n",
      "9      15445\n",
      "10     15440\n",
      "3      15435\n",
      "1      15424\n",
      "13     10332\n",
      "14     10327\n",
      "17     10323\n",
      "15     10294\n",
      "16     10251\n",
      "18      5162\n",
      "19      5162\n",
      "21      5161\n",
      "22      5135\n",
      "23      5128\n",
      "20      5126\n",
      "Name: stimulus, dtype: int64\n"
     ]
    }
   ],
   "source": [
    "print(\"Unique Dependent values and their counts :\")\n",
    "print(raw_data[\"stimulus\"].value_counts())"
   ]
  },
  {
   "cell_type": "code",
   "execution_count": 8,
   "id": "4bfaf7c1",
   "metadata": {},
   "outputs": [
    {
     "data": {
      "text/plain": [
       "Text(0, 0.5, 'Frequency')"
      ]
     },
     "execution_count": 8,
     "metadata": {},
     "output_type": "execute_result"
    },
    {
     "data": {
      "image/png": "[encoded data removed]",
      "text/plain": [
       "<Figure size 432x288 with 1 Axes>"
      ]
     },
     "metadata": {
      "needs_background": "light"
     },
     "output_type": "display_data"
    }
   ],
   "source": [
    "count_classes = pd.value_counts(raw_data['stimulus'], sort = True)\n",
    "\n",
    "count_classes.plot(kind = 'bar', rot=0)\n",
    "\n",
    "plt.title(\"stimulus Class Distribution\")\n",
    "\n",
    "plt.xlabel(\"Class\")\n",
    "\n",
    "plt.ylabel(\"Frequency\")"
   ]
  },
  {
   "cell_type": "markdown",
   "id": "631d4bd5",
   "metadata": {},
   "source": [
    "# Data Cleaning and Exploratory Data Analysis with New Data"
   ]
  },
  {
   "cell_type": "code",
   "execution_count": 9,
   "id": "77a8fee4",
   "metadata": {},
   "outputs": [],
   "source": [
    "index_names = raw_data[ (raw_data['stimulus'] != raw_data['restimulus'])].index\n",
    "raw_data.drop(index_names, inplace = True)"
   ]
  },
  {
   "cell_type": "code",
   "execution_count": 10,
   "id": "e1ca9001",
   "metadata": {},
   "outputs": [],
   "source": [
    "index_names = raw_data[ (raw_data['repetition'] != raw_data['rerepetition'])].index\n",
    "raw_data.drop(index_names, inplace = True)"
   ]
  },
  {
   "cell_type": "code",
   "execution_count": 11,
   "id": "eb95b5d8",
   "metadata": {},
   "outputs": [
    {
     "data": {
      "text/html": [
       "<div>\n",
       "<style scoped>\n",
       "    .dataframe tbody tr th:only-of-type {\n",
       "        vertical-align: middle;\n",
       "    }\n",
       "\n",
       "    .dataframe tbody tr th {\n",
       "        vertical-align: top;\n",
       "    }\n",
       "\n",
       "    .dataframe thead th {\n",
       "        text-align: right;\n",
       "    }\n",
       "</style>\n",
       "<table border=\"1\" class=\"dataframe\">\n",
       "  <thead>\n",
       "    <tr style=\"text-align: right;\">\n",
       "      <th></th>\n",
       "      <th>Emg1</th>\n",
       "      <th>Emg2</th>\n",
       "      <th>Emg3</th>\n",
       "      <th>Emg4</th>\n",
       "      <th>Emg5</th>\n",
       "      <th>Emg6</th>\n",
       "      <th>Emg7</th>\n",
       "      <th>Emg8</th>\n",
       "      <th>Emg9</th>\n",
       "      <th>Emg10</th>\n",
       "      <th>repetition</th>\n",
       "      <th>rerepetition</th>\n",
       "      <th>stimulus</th>\n",
       "      <th>restimulus</th>\n",
       "    </tr>\n",
       "  </thead>\n",
       "  <tbody>\n",
       "    <tr>\n",
       "      <th>169187</th>\n",
       "      <td>0.0073</td>\n",
       "      <td>0.0024</td>\n",
       "      <td>0.0024</td>\n",
       "      <td>0.0024</td>\n",
       "      <td>0.0024</td>\n",
       "      <td>0.0024</td>\n",
       "      <td>0.0464</td>\n",
       "      <td>0.0952</td>\n",
       "      <td>0.0024</td>\n",
       "      <td>0.3638</td>\n",
       "      <td>0</td>\n",
       "      <td>0</td>\n",
       "      <td>0</td>\n",
       "      <td>0</td>\n",
       "    </tr>\n",
       "    <tr>\n",
       "      <th>348975</th>\n",
       "      <td>0.3174</td>\n",
       "      <td>0.0830</td>\n",
       "      <td>0.0464</td>\n",
       "      <td>0.0024</td>\n",
       "      <td>0.0391</td>\n",
       "      <td>0.8228</td>\n",
       "      <td>1.4868</td>\n",
       "      <td>0.6079</td>\n",
       "      <td>0.1196</td>\n",
       "      <td>0.1929</td>\n",
       "      <td>3</td>\n",
       "      <td>3</td>\n",
       "      <td>12</td>\n",
       "      <td>12</td>\n",
       "    </tr>\n",
       "    <tr>\n",
       "      <th>84996</th>\n",
       "      <td>0.0024</td>\n",
       "      <td>0.0024</td>\n",
       "      <td>0.0024</td>\n",
       "      <td>0.0024</td>\n",
       "      <td>0.0024</td>\n",
       "      <td>0.0928</td>\n",
       "      <td>0.0854</td>\n",
       "      <td>0.0879</td>\n",
       "      <td>0.0024</td>\n",
       "      <td>0.2612</td>\n",
       "      <td>0</td>\n",
       "      <td>0</td>\n",
       "      <td>0</td>\n",
       "      <td>0</td>\n",
       "    </tr>\n",
       "    <tr>\n",
       "      <th>1103</th>\n",
       "      <td>0.0635</td>\n",
       "      <td>0.3369</td>\n",
       "      <td>0.0049</td>\n",
       "      <td>0.0024</td>\n",
       "      <td>0.0049</td>\n",
       "      <td>0.0024</td>\n",
       "      <td>0.1294</td>\n",
       "      <td>0.3809</td>\n",
       "      <td>0.0024</td>\n",
       "      <td>0.2979</td>\n",
       "      <td>0</td>\n",
       "      <td>0</td>\n",
       "      <td>0</td>\n",
       "      <td>0</td>\n",
       "    </tr>\n",
       "    <tr>\n",
       "      <th>248560</th>\n",
       "      <td>0.0098</td>\n",
       "      <td>0.0024</td>\n",
       "      <td>0.0024</td>\n",
       "      <td>0.0024</td>\n",
       "      <td>0.0317</td>\n",
       "      <td>0.5249</td>\n",
       "      <td>1.0620</td>\n",
       "      <td>0.3369</td>\n",
       "      <td>0.0024</td>\n",
       "      <td>0.2319</td>\n",
       "      <td>6</td>\n",
       "      <td>6</td>\n",
       "      <td>1</td>\n",
       "      <td>1</td>\n",
       "    </tr>\n",
       "  </tbody>\n",
       "</table>\n",
       "</div>"
      ],
      "text/plain": [
       "          Emg1    Emg2    Emg3    Emg4    Emg5    Emg6    Emg7    Emg8  \\\n",
       "169187  0.0073  0.0024  0.0024  0.0024  0.0024  0.0024  0.0464  0.0952   \n",
       "348975  0.3174  0.0830  0.0464  0.0024  0.0391  0.8228  1.4868  0.6079   \n",
       "84996   0.0024  0.0024  0.0024  0.0024  0.0024  0.0928  0.0854  0.0879   \n",
       "1103    0.0635  0.3369  0.0049  0.0024  0.0049  0.0024  0.1294  0.3809   \n",
       "248560  0.0098  0.0024  0.0024  0.0024  0.0317  0.5249  1.0620  0.3369   \n",
       "\n",
       "          Emg9   Emg10  repetition  rerepetition  stimulus  restimulus  \n",
       "169187  0.0024  0.3638           0             0         0           0  \n",
       "348975  0.1196  0.1929           3             3        12          12  \n",
       "84996   0.0024  0.2612           0             0         0           0  \n",
       "1103    0.0024  0.2979           0             0         0           0  \n",
       "248560  0.0024  0.2319           6             6         1           1  "
      ]
     },
     "execution_count": 11,
     "metadata": {},
     "output_type": "execute_result"
    }
   ],
   "source": [
    "raw_data.sample(5)"
   ]
  },
  {
   "cell_type": "code",
   "execution_count": 12,
   "id": "f0aa807e",
   "metadata": {},
   "outputs": [
    {
     "data": {
      "text/plain": [
       "(354555, 14)"
      ]
     },
     "execution_count": 12,
     "metadata": {},
     "output_type": "execute_result"
    }
   ],
   "source": [
    "raw_data.shape"
   ]
  },
  {
   "cell_type": "code",
   "execution_count": 13,
   "id": "8dd504b5",
   "metadata": {},
   "outputs": [
    {
     "name": "stdout",
     "output_type": "stream",
     "text": [
      "<class 'pandas.core.frame.DataFrame'>\n",
      "Int64Index: 354555 entries, 0 to 456616\n",
      "Data columns (total 14 columns):\n",
      " #   Column        Non-Null Count   Dtype  \n",
      "---  ------        --------------   -----  \n",
      " 0   Emg1          354555 non-null  float64\n",
      " 1   Emg2          354555 non-null  float64\n",
      " 2   Emg3          354555 non-null  float64\n",
      " 3   Emg4          354555 non-null  float64\n",
      " 4   Emg5          354555 non-null  float64\n",
      " 5   Emg6          354555 non-null  float64\n",
      " 6   Emg7          354555 non-null  float64\n",
      " 7   Emg8          354555 non-null  float64\n",
      " 8   Emg9          354555 non-null  float64\n",
      " 9   Emg10         354555 non-null  float64\n",
      " 10  repetition    354555 non-null  int64  \n",
      " 11  rerepetition  354555 non-null  int64  \n",
      " 12  stimulus      354555 non-null  int64  \n",
      " 13  restimulus    354555 non-null  int64  \n",
      "dtypes: float64(10), int64(4)\n",
      "memory usage: 40.6 MB\n"
     ]
    }
   ],
   "source": [
    "raw_data.info()"
   ]
  },
  {
   "cell_type": "code",
   "execution_count": 14,
   "id": "8613e6c0",
   "metadata": {},
   "outputs": [
    {
     "name": "stdout",
     "output_type": "stream",
     "text": [
      "Emg1            False\n",
      "Emg2            False\n",
      "Emg3            False\n",
      "Emg4            False\n",
      "Emg5            False\n",
      "Emg6            False\n",
      "Emg7            False\n",
      "Emg8            False\n",
      "Emg9            False\n",
      "Emg10           False\n",
      "repetition      False\n",
      "rerepetition    False\n",
      "stimulus        False\n",
      "restimulus      False\n",
      "dtype: bool\n"
     ]
    }
   ],
   "source": [
    "print(raw_data.isnull().any())"
   ]
  },
  {
   "cell_type": "code",
   "execution_count": 15,
   "id": "e4f2afdb",
   "metadata": {},
   "outputs": [],
   "source": [
    "X = raw_data.iloc[:,0:10]\n",
    "y = raw_data.stimulus"
   ]
  },
  {
   "cell_type": "markdown",
   "id": "82fcb689",
   "metadata": {},
   "source": [
    "# Scalling Data"
   ]
  },
  {
   "cell_type": "code",
   "execution_count": 16,
   "id": "9805af20",
   "metadata": {},
   "outputs": [],
   "source": [
    "from sklearn.preprocessing import StandardScaler"
   ]
  },
  {
   "cell_type": "code",
   "execution_count": 17,
   "id": "f3de76a5",
   "metadata": {},
   "outputs": [],
   "source": [
    "X = StandardScaler().fit_transform(X)"
   ]
  },
  {
   "cell_type": "markdown",
   "id": "00f28aad",
   "metadata": {},
   "source": [
    "# Indipendent Component Analysis (ICA)"
   ]
  },
  {
   "cell_type": "markdown",
   "id": "61dfd812",
   "metadata": {},
   "source": [
    "https://www.nmr.mgh.harvard.edu/mne/0.14/manual/preprocessing/ica.html"
   ]
  },
  {
   "cell_type": "code",
   "execution_count": 18,
   "id": "0a603cf6",
   "metadata": {},
   "outputs": [],
   "source": [
    "from sklearn.decomposition import FastICA\n",
    "\n",
    "ica = FastICA(n_components=10)\n",
    "X_ica = ica.fit_transform(X)"
   ]
  },
  {
   "cell_type": "code",
   "execution_count": 19,
   "id": "bf27b986",
   "metadata": {},
   "outputs": [],
   "source": [
    "# Splitting data for training and testing\n",
    "X_train, X_test, y_train, y_test = train_test_split(X_ica, y, test_size = 0.2, random_state = 39)"
   ]
  },
  {
   "cell_type": "markdown",
   "id": "cf4fd4a4",
   "metadata": {},
   "source": [
    "# Machine Learning Models"
   ]
  },
  {
   "cell_type": "markdown",
   "id": "290c51a8",
   "metadata": {},
   "source": [
    "# Decision Tree Classifier"
   ]
  },
  {
   "cell_type": "code",
   "execution_count": 20,
   "id": "ee87f20f",
   "metadata": {},
   "outputs": [
    {
     "data": {
      "text/plain": [
       "DecisionTreeClassifier(criterion='entropy')"
      ]
     },
     "execution_count": 20,
     "metadata": {},
     "output_type": "execute_result"
    }
   ],
   "source": [
    "from sklearn import tree\n",
    "tree = tree.DecisionTreeClassifier(ccp_alpha= 0.0,\n",
    "              class_weight= None,\n",
    "              criterion = \"entropy\",\n",
    "              max_depth = None,\n",
    "              max_features = None,\n",
    "              max_leaf_nodes = None,\n",
    "              min_impurity_decrease = 0.0,\n",
    "              min_samples_leaf = 1,\n",
    "              min_samples_split = 2,\n",
    "              min_weight_fraction_leaf = 0.0,\n",
    "              random_state = None,\n",
    "              splitter = 'best')\n",
    "tree.fit(X_train, y_train)"
   ]
  },
  {
   "cell_type": "code",
   "execution_count": 21,
   "id": "e6352c65",
   "metadata": {},
   "outputs": [],
   "source": [
    "y_pred1 = tree.predict(X_test)"
   ]
  },
  {
   "cell_type": "code",
   "execution_count": 22,
   "id": "a3327a44",
   "metadata": {},
   "outputs": [
    {
     "name": "stdout",
     "output_type": "stream",
     "text": [
      "Accuracy is: 82.95751011831733\n"
     ]
    }
   ],
   "source": [
    "from sklearn.metrics import accuracy_score\n",
    "accuracy = {accuracy_score(y_test, y_pred1)}\n",
    "print(f\"Accuracy is: {accuracy_score(y_test, y_pred1)* 100}\")"
   ]
  },
  {
   "cell_type": "code",
   "execution_count": 23,
   "id": "915a5654",
   "metadata": {},
   "outputs": [
    {
     "name": "stdout",
     "output_type": "stream",
     "text": [
      "\u001b[1mClassification report : \u001b[0m\n",
      "               precision    recall  f1-score   support\n",
      "\n",
      "           0       0.93      0.93      0.93     37418\n",
      "           1       0.79      0.79      0.79      1916\n",
      "           2       0.77      0.78      0.77      1886\n",
      "           3       0.77      0.76      0.76      2108\n",
      "           4       0.74      0.73      0.73      1874\n",
      "           5       0.73      0.71      0.72      1961\n",
      "           6       0.75      0.75      0.75      2156\n",
      "           7       0.75      0.73      0.74      1759\n",
      "           8       0.71      0.72      0.72      1869\n",
      "           9       0.62      0.63      0.63      1913\n",
      "          10       0.70      0.68      0.69      1640\n",
      "          11       0.73      0.72      0.72      1823\n",
      "          12       0.73      0.74      0.73      1741\n",
      "          13       0.74      0.74      0.74      1065\n",
      "          14       0.56      0.58      0.57      1401\n",
      "          15       0.63      0.63      0.63      1412\n",
      "          16       0.69      0.68      0.69      1256\n",
      "          17       0.66      0.67      0.66      1398\n",
      "          18       0.62      0.60      0.61       589\n",
      "          19       0.71      0.68      0.69       817\n",
      "          20       0.80      0.81      0.81       902\n",
      "          21       0.73      0.72      0.72       624\n",
      "          22       0.81      0.78      0.79       700\n",
      "          23       0.79      0.82      0.80       683\n",
      "\n",
      "    accuracy                           0.83     70911\n",
      "   macro avg       0.73      0.72      0.73     70911\n",
      "weighted avg       0.83      0.83      0.83     70911\n",
      "\n",
      "\u001b[1mConfusion Matrix : \u001b[0m\n"
     ]
    },
    {
     "data": {
      "image/png": "[encoded data removed]",
      "text/plain": [
       "<Figure size 432x288 with 2 Axes>"
      ]
     },
     "metadata": {
      "needs_background": "light"
     },
     "output_type": "display_data"
    }
   ],
   "source": [
    "print('\\033[1m' +'Classification report : '+ '\\033[0m\\n', classification_report(y_test, y_pred1))\n",
    "\n",
    "cm = confusion_matrix(y_pred1, y_test)\n",
    "print('\\033[1m' +'Confusion Matrix : '+ '\\033[0m')\n",
    "sns.heatmap(cm, cmap = 'OrRd',annot = True, fmt='d')\n",
    "plt.show()"
   ]
  },
  {
   "cell_type": "markdown",
   "id": "4ef9004a",
   "metadata": {},
   "source": [
    "# Evaluation -- Decision Tree"
   ]
  },
  {
   "cell_type": "code",
   "execution_count": 24,
   "id": "2c142e08",
   "metadata": {},
   "outputs": [
    {
     "name": "stdout",
     "output_type": "stream",
     "text": [
      "MAE: 1.3825781613571941\n",
      "MSE: 16.20989691303183\n",
      "RMSE: 4.026151625688212\n"
     ]
    }
   ],
   "source": [
    "from sklearn import metrics\n",
    "\n",
    "print('MAE:', metrics.mean_absolute_error(y_test,y_pred1))\n",
    "print('MSE:', metrics.mean_squared_error(y_test, y_pred1))\n",
    "print('RMSE:', np.sqrt(metrics.mean_squared_error(y_test, y_pred1)))"
   ]
  },
  {
   "cell_type": "code",
   "execution_count": 25,
   "id": "124d29fe",
   "metadata": {},
   "outputs": [
    {
     "name": "stdout",
     "output_type": "stream",
     "text": [
      "Precision Score :  0.8293523937102247\n",
      "Recall Score :  0.8295751011831732\n",
      "f1_score :  0.8294292563439215\n"
     ]
    }
   ],
   "source": [
    "from sklearn.metrics import precision_score\n",
    "print(\"Precision Score : \",precision_score(y_test, y_pred1, average='weighted'))\n",
    "\n",
    "\n",
    "from sklearn.metrics import recall_score\n",
    "print(\"Recall Score : \",recall_score(y_test, y_pred1,average='weighted'))\n",
    "\n",
    "\n",
    "from sklearn.metrics import f1_score\n",
    "print(\"f1_score : \",f1_score(y_test, y_pred1,average='weighted'))"
   ]
  },
  {
   "cell_type": "markdown",
   "id": "c1e0290e",
   "metadata": {},
   "source": [
    "# KNeighborsClassifier"
   ]
  },
  {
   "cell_type": "code",
   "execution_count": 26,
   "id": "d9cda07b",
   "metadata": {},
   "outputs": [
    {
     "data": {
      "text/plain": [
       "KNeighborsClassifier(algorithm='ball_tree', n_jobs=-1, n_neighbors=2, p=1,\n",
       "                     weights='distance')"
      ]
     },
     "execution_count": 26,
     "metadata": {},
     "output_type": "execute_result"
    }
   ],
   "source": [
    "from sklearn.neighbors import KNeighborsClassifier\n",
    "KNeighborsClassifier = KNeighborsClassifier(algorithm = 'ball_tree',\n",
    "                                            leaf_size = 30,\n",
    "                                            metric = 'minkowski',\n",
    "                                            metric_params= None,\n",
    "                                            n_jobs = -1,\n",
    "                                            n_neighbors = 2,\n",
    "                                            p = 1,\n",
    "                                            weights = 'distance')\n",
    "KNeighborsClassifier.fit(X_train, y_train)"
   ]
  },
  {
   "cell_type": "code",
   "execution_count": 27,
   "id": "cb94d10c",
   "metadata": {},
   "outputs": [],
   "source": [
    "y_pred2 = KNeighborsClassifier.predict(X_test)"
   ]
  },
  {
   "cell_type": "code",
   "execution_count": 28,
   "id": "4f9d466c",
   "metadata": {},
   "outputs": [
    {
     "name": "stdout",
     "output_type": "stream",
     "text": [
      "Accuracy is: 91.79816953646119\n"
     ]
    }
   ],
   "source": [
    "from sklearn.metrics import accuracy_score\n",
    "accuracy = {accuracy_score(y_test, y_pred2)}\n",
    "print(f\"Accuracy is: {accuracy_score(y_test, y_pred2)* 100}\")"
   ]
  },
  {
   "cell_type": "code",
   "execution_count": 29,
   "id": "b28ae637",
   "metadata": {},
   "outputs": [
    {
     "name": "stdout",
     "output_type": "stream",
     "text": [
      "\u001b[1mClassification report : \u001b[0m\n",
      "               precision    recall  f1-score   support\n",
      "\n",
      "           0       0.95      0.96      0.95     37418\n",
      "           1       0.93      0.91      0.92      1916\n",
      "           2       0.89      0.87      0.88      1886\n",
      "           3       0.91      0.88      0.89      2108\n",
      "           4       0.91      0.89      0.90      1874\n",
      "           5       0.90      0.89      0.90      1961\n",
      "           6       0.93      0.93      0.93      2156\n",
      "           7       0.88      0.84      0.86      1759\n",
      "           8       0.86      0.86      0.86      1869\n",
      "           9       0.85      0.83      0.84      1913\n",
      "          10       0.87      0.86      0.87      1640\n",
      "          11       0.89      0.86      0.87      1823\n",
      "          12       0.91      0.90      0.90      1741\n",
      "          13       0.92      0.90      0.91      1065\n",
      "          14       0.75      0.75      0.75      1401\n",
      "          15       0.80      0.80      0.80      1412\n",
      "          16       0.87      0.85      0.86      1256\n",
      "          17       0.83      0.83      0.83      1398\n",
      "          18       0.82      0.80      0.81       589\n",
      "          19       0.88      0.85      0.87       817\n",
      "          20       0.95      0.94      0.94       902\n",
      "          21       0.96      0.93      0.95       624\n",
      "          22       0.97      0.94      0.95       700\n",
      "          23       0.97      0.94      0.96       683\n",
      "\n",
      "    accuracy                           0.92     70911\n",
      "   macro avg       0.89      0.88      0.88     70911\n",
      "weighted avg       0.92      0.92      0.92     70911\n",
      "\n",
      "\u001b[1mConfusion Matrix : \u001b[0m\n"
     ]
    },
    {
     "data": {
      "image/png": "[encoded data removed]",
      "text/plain": [
       "<Figure size 432x288 with 2 Axes>"
      ]
     },
     "metadata": {
      "needs_background": "light"
     },
     "output_type": "display_data"
    }
   ],
   "source": [
    "print('\\033[1m' +'Classification report : '+ '\\033[0m\\n', classification_report(y_test, y_pred2))\n",
    "\n",
    "cm = confusion_matrix(y_pred2, y_test)\n",
    "print('\\033[1m' +'Confusion Matrix : '+ '\\033[0m')\n",
    "sns.heatmap(cm, cmap = 'OrRd',annot = True, fmt='d')\n",
    "plt.show()"
   ]
  },
  {
   "cell_type": "markdown",
   "id": "094b157e",
   "metadata": {},
   "source": [
    "# Evaluation -- KNeighborsClassifier"
   ]
  },
  {
   "cell_type": "code",
   "execution_count": 30,
   "id": "75ecd7ea",
   "metadata": {},
   "outputs": [
    {
     "name": "stdout",
     "output_type": "stream",
     "text": [
      "MAE: 0.7036425942378475\n",
      "MSE: 8.403435292126751\n",
      "RMSE: 2.8988679328535736\n"
     ]
    }
   ],
   "source": [
    "from sklearn import metrics\n",
    "\n",
    "print('MAE:', metrics.mean_absolute_error(y_test,y_pred2))\n",
    "print('MSE:', metrics.mean_squared_error(y_test, y_pred2))\n",
    "print('RMSE:', np.sqrt(metrics.mean_squared_error(y_test, y_pred2)))"
   ]
  },
  {
   "cell_type": "code",
   "execution_count": 31,
   "id": "1abb6ec2",
   "metadata": {},
   "outputs": [
    {
     "name": "stdout",
     "output_type": "stream",
     "text": [
      "Precision Score :  0.9175785820520616\n",
      "Recall Score :  0.9179816953646119\n",
      "f1_score :  0.9176976342645424\n"
     ]
    }
   ],
   "source": [
    "from sklearn.metrics import precision_score\n",
    "print(\"Precision Score : \",precision_score(y_test, y_pred2, average='weighted'))\n",
    "\n",
    "\n",
    "from sklearn.metrics import recall_score\n",
    "print(\"Recall Score : \",recall_score(y_test, y_pred2,average='weighted'))\n",
    "\n",
    "\n",
    "from sklearn.metrics import f1_score\n",
    "print(\"f1_score : \",f1_score(y_test, y_pred2,average='weighted'))"
   ]
  },
  {
   "cell_type": "markdown",
   "id": "8fdcff29",
   "metadata": {},
   "source": [
    "# ExtraTreesClassifier"
   ]
  },
  {
   "cell_type": "code",
   "execution_count": 32,
   "id": "a8bb8e91",
   "metadata": {},
   "outputs": [
    {
     "data": {
      "text/plain": [
       "ExtraTreesClassifier(criterion='entropy', n_estimators=400)"
      ]
     },
     "execution_count": 32,
     "metadata": {},
     "output_type": "execute_result"
    }
   ],
   "source": [
    "from sklearn.ensemble import ExtraTreesClassifier\n",
    "extratree = ExtraTreesClassifier(bootstrap = False,\n",
    "             ccp_alpha = 0.0,\n",
    "             class_weight = None,\n",
    "             criterion = 'entropy',\n",
    "             max_depth = None,\n",
    "             max_features = 'auto',\n",
    "             max_leaf_nodes = None,\n",
    "             max_samples = None,\n",
    "             min_impurity_decrease = 0.0,\n",
    "             min_samples_leaf = 1,\n",
    "             min_samples_split = 2,\n",
    "             min_weight_fraction_leaf = 0.0,\n",
    "             n_estimators = 400,\n",
    "             n_jobs = None,\n",
    "             oob_score = False,\n",
    "             random_state = None,\n",
    "             verbose = 0,\n",
    "             warm_start = False)\n",
    "extratree.fit(X_train, y_train)"
   ]
  },
  {
   "cell_type": "code",
   "execution_count": 33,
   "id": "bf05f679",
   "metadata": {},
   "outputs": [],
   "source": [
    "y_pred5 = extratree.predict(X_test)"
   ]
  },
  {
   "cell_type": "code",
   "execution_count": 34,
   "id": "dc1d301e",
   "metadata": {},
   "outputs": [
    {
     "name": "stdout",
     "output_type": "stream",
     "text": [
      "Accuracy is: 92.10559715699962\n"
     ]
    }
   ],
   "source": [
    "from sklearn.metrics import accuracy_score\n",
    "accuracy = {accuracy_score(y_test, y_pred5)}\n",
    "print(f\"Accuracy is: {accuracy_score(y_test, y_pred5)* 100}\")"
   ]
  },
  {
   "cell_type": "code",
   "execution_count": 35,
   "id": "5300e4d7",
   "metadata": {},
   "outputs": [
    {
     "name": "stdout",
     "output_type": "stream",
     "text": [
      "\u001b[1mClassification report : \u001b[0m\n",
      "               precision    recall  f1-score   support\n",
      "\n",
      "           0       0.92      0.99      0.95     37418\n",
      "           1       0.96      0.89      0.93      1916\n",
      "           2       0.96      0.85      0.90      1886\n",
      "           3       0.93      0.86      0.89      2108\n",
      "           4       0.94      0.86      0.90      1874\n",
      "           5       0.91      0.87      0.89      1961\n",
      "           6       0.94      0.91      0.92      2156\n",
      "           7       0.91      0.82      0.86      1759\n",
      "           8       0.92      0.84      0.88      1869\n",
      "           9       0.90      0.81      0.85      1913\n",
      "          10       0.91      0.83      0.87      1640\n",
      "          11       0.95      0.82      0.88      1823\n",
      "          12       0.93      0.88      0.90      1741\n",
      "          13       0.95      0.86      0.91      1065\n",
      "          14       0.78      0.71      0.74      1401\n",
      "          15       0.83      0.81      0.82      1412\n",
      "          16       0.93      0.81      0.86      1256\n",
      "          17       0.89      0.79      0.84      1398\n",
      "          18       0.92      0.72      0.81       589\n",
      "          19       0.88      0.85      0.87       817\n",
      "          20       0.95      0.92      0.93       902\n",
      "          21       0.98      0.90      0.94       624\n",
      "          22       0.99      0.92      0.95       700\n",
      "          23       0.97      0.92      0.95       683\n",
      "\n",
      "    accuracy                           0.92     70911\n",
      "   macro avg       0.92      0.85      0.88     70911\n",
      "weighted avg       0.92      0.92      0.92     70911\n",
      "\n",
      "\u001b[1mConfusion Matrix : \u001b[0m\n"
     ]
    },
    {
     "data": {
      "image/png": "[encoded data removed]",
      "text/plain": [
       "<Figure size 432x288 with 2 Axes>"
      ]
     },
     "metadata": {
      "needs_background": "light"
     },
     "output_type": "display_data"
    }
   ],
   "source": [
    "print('\\033[1m' +'Classification report : '+ '\\033[0m\\n', classification_report(y_test, y_pred5))\n",
    "\n",
    "cm = confusion_matrix(y_pred5, y_test)\n",
    "print('\\033[1m' +'Confusion Matrix : '+ '\\033[0m')\n",
    "sns.heatmap(cm, cmap = 'OrRd',annot = True, fmt='d')\n",
    "plt.show()"
   ]
  },
  {
   "cell_type": "markdown",
   "id": "1e516628",
   "metadata": {},
   "source": [
    "# Evaluation -- ExtraTreesClassifier"
   ]
  },
  {
   "cell_type": "code",
   "execution_count": 36,
   "id": "dfbde802",
   "metadata": {},
   "outputs": [
    {
     "name": "stdout",
     "output_type": "stream",
     "text": [
      "MAE: 0.6957594731423897\n",
      "MSE: 8.456247972810989\n",
      "RMSE: 2.907962856160819\n"
     ]
    }
   ],
   "source": [
    "from sklearn import metrics\n",
    "\n",
    "print('MAE:', metrics.mean_absolute_error(y_test,y_pred5))\n",
    "print('MSE:', metrics.mean_squared_error(y_test, y_pred5))\n",
    "print('RMSE:', np.sqrt(metrics.mean_squared_error(y_test, y_pred5)))"
   ]
  },
  {
   "cell_type": "code",
   "execution_count": 37,
   "id": "a66f67fb",
   "metadata": {},
   "outputs": [
    {
     "name": "stdout",
     "output_type": "stream",
     "text": [
      "Precision Score :  0.9210440665172005\n",
      "Recall Score :  0.9210559715699962\n",
      "f1_score :  0.9195144841493128\n"
     ]
    }
   ],
   "source": [
    "from sklearn.metrics import precision_score\n",
    "print(\"Precision Score : \",precision_score(y_test, y_pred5, average='weighted'))\n",
    "\n",
    "\n",
    "from sklearn.metrics import recall_score\n",
    "print(\"Recall Score : \",recall_score(y_test, y_pred5,average='weighted'))\n",
    "\n",
    "\n",
    "from sklearn.metrics import f1_score\n",
    "print(\"f1_score : \",f1_score(y_test, y_pred5,average='weighted'))"
   ]
  },
  {
   "cell_type": "markdown",
   "id": "5dc7f95e",
   "metadata": {},
   "source": [
    "# Random Forest"
   ]
  },
  {
   "cell_type": "code",
   "execution_count": 38,
   "id": "763a6ba8",
   "metadata": {},
   "outputs": [
    {
     "data": {
      "text/plain": [
       "RandomForestClassifier(criterion='entropy', n_estimators=400)"
      ]
     },
     "execution_count": 38,
     "metadata": {},
     "output_type": "execute_result"
    }
   ],
   "source": [
    "from sklearn.ensemble import RandomForestClassifier\n",
    "RandomForestClassifier = RandomForestClassifier(\n",
    "              bootstrap = True,\n",
    "              ccp_alpha = 0.0,\n",
    "              class_weight =  None,\n",
    "              criterion = 'entropy',\n",
    "              max_depth = None,\n",
    "              max_features = 'auto' ,\n",
    "              max_leaf_nodes = None,\n",
    "              max_samples = None,\n",
    "              min_impurity_decrease = 0.0,\n",
    "              min_samples_leaf = 1,\n",
    "              min_samples_split = 2,\n",
    "              min_weight_fraction_leaf = 0.0,\n",
    "              n_estimators = 400,\n",
    "              n_jobs = None,\n",
    "              oob_score = False,\n",
    "              random_state = None,\n",
    "              verbose = 0,\n",
    "              warm_start = False)\n",
    "RandomForestClassifier.fit(X_train, y_train)"
   ]
  },
  {
   "cell_type": "code",
   "execution_count": 39,
   "id": "24817338",
   "metadata": {},
   "outputs": [],
   "source": [
    "y_pred3 = RandomForestClassifier.predict(X_test)"
   ]
  },
  {
   "cell_type": "code",
   "execution_count": 40,
   "id": "37089ca4",
   "metadata": {},
   "outputs": [
    {
     "name": "stdout",
     "output_type": "stream",
     "text": [
      "Accuracy is: 91.37792444049583\n"
     ]
    }
   ],
   "source": [
    "from sklearn.metrics import accuracy_score\n",
    "accuracy = {accuracy_score(y_test, y_pred3)}\n",
    "print(f\"Accuracy is: {accuracy_score(y_test, y_pred3)* 100}\")"
   ]
  },
  {
   "cell_type": "code",
   "execution_count": 41,
   "id": "5358b685",
   "metadata": {},
   "outputs": [
    {
     "name": "stdout",
     "output_type": "stream",
     "text": [
      "\u001b[1mClassification report : \u001b[0m\n",
      "               precision    recall  f1-score   support\n",
      "\n",
      "           0       0.92      0.99      0.95     37418\n",
      "           1       0.94      0.88      0.91      1916\n",
      "           2       0.94      0.84      0.89      1886\n",
      "           3       0.91      0.86      0.89      2108\n",
      "           4       0.93      0.84      0.88      1874\n",
      "           5       0.89      0.85      0.87      1961\n",
      "           6       0.91      0.89      0.90      2156\n",
      "           7       0.90      0.81      0.85      1759\n",
      "           8       0.90      0.83      0.86      1869\n",
      "           9       0.86      0.79      0.82      1913\n",
      "          10       0.89      0.81      0.85      1640\n",
      "          11       0.94      0.80      0.86      1823\n",
      "          12       0.92      0.86      0.89      1741\n",
      "          13       0.93      0.86      0.90      1065\n",
      "          14       0.76      0.71      0.73      1401\n",
      "          15       0.82      0.81      0.81      1412\n",
      "          16       0.91      0.79      0.84      1256\n",
      "          17       0.88      0.78      0.83      1398\n",
      "          18       0.91      0.70      0.79       589\n",
      "          19       0.86      0.84      0.85       817\n",
      "          20       0.93      0.91      0.92       902\n",
      "          21       0.97      0.87      0.92       624\n",
      "          22       0.97      0.91      0.94       700\n",
      "          23       0.96      0.90      0.93       683\n",
      "\n",
      "    accuracy                           0.91     70911\n",
      "   macro avg       0.91      0.84      0.87     70911\n",
      "weighted avg       0.91      0.91      0.91     70911\n",
      "\n",
      "\u001b[1mConfusion Matrix : \u001b[0m\n"
     ]
    },
    {
     "data": {
      "image/png": "[encoded data removed]",
      "text/plain": [
       "<Figure size 432x288 with 2 Axes>"
      ]
     },
     "metadata": {
      "needs_background": "light"
     },
     "output_type": "display_data"
    }
   ],
   "source": [
    "print('\\033[1m' +'Classification report : '+ '\\033[0m\\n', classification_report(y_test, y_pred3))\n",
    "\n",
    "cm = confusion_matrix(y_pred3, y_test)\n",
    "print('\\033[1m' +'Confusion Matrix : '+ '\\033[0m')\n",
    "sns.heatmap(cm, cmap = 'OrRd',annot = True, fmt='d')\n",
    "plt.show()"
   ]
  },
  {
   "cell_type": "markdown",
   "id": "75f7fe8b",
   "metadata": {},
   "source": [
    "# Evaluation -- Random Forest"
   ]
  },
  {
   "cell_type": "code",
   "execution_count": 42,
   "id": "29a1cece",
   "metadata": {},
   "outputs": [
    {
     "name": "stdout",
     "output_type": "stream",
     "text": [
      "MAE: 0.7420005358830083\n",
      "MSE: 8.968961092073162\n",
      "RMSE: 2.994822380721962\n"
     ]
    }
   ],
   "source": [
    "from sklearn import metrics\n",
    "\n",
    "print('MAE:', metrics.mean_absolute_error(y_test,y_pred3))\n",
    "print('MSE:', metrics.mean_squared_error(y_test, y_pred3))\n",
    "print('RMSE:', np.sqrt(metrics.mean_squared_error(y_test, y_pred3)))"
   ]
  },
  {
   "cell_type": "code",
   "execution_count": 43,
   "id": "ebada233",
   "metadata": {},
   "outputs": [
    {
     "name": "stdout",
     "output_type": "stream",
     "text": [
      "Precision Score :  0.9132227319389585\n",
      "Recall Score :  0.9137792444049583\n",
      "f1_score :  0.9120338700137455\n"
     ]
    }
   ],
   "source": [
    "from sklearn.metrics import precision_score\n",
    "print(\"Precision Score : \",precision_score(y_test, y_pred3, average='weighted'))\n",
    "\n",
    "\n",
    "from sklearn.metrics import recall_score\n",
    "print(\"Recall Score : \",recall_score(y_test, y_pred3,average='weighted'))\n",
    "\n",
    "\n",
    "from sklearn.metrics import f1_score\n",
    "print(\"f1_score : \",f1_score(y_test, y_pred3,average='weighted'))"
   ]
  },
  {
   "cell_type": "markdown",
   "id": "c3cac0b4",
   "metadata": {},
   "source": [
    "# XGBoost"
   ]
  },
  {
   "cell_type": "code",
   "execution_count": 44,
   "id": "d28fa486",
   "metadata": {},
   "outputs": [
    {
     "name": "stderr",
     "output_type": "stream",
     "text": [
      "E:\\MachineLearning\\envs\\gpu\\lib\\site-packages\\xgboost\\compat.py:36: FutureWarning: pandas.Int64Index is deprecated and will be removed from pandas in a future version. Use pandas.Index with the appropriate dtype instead.\n",
      "  from pandas import MultiIndex, Int64Index\n",
      "E:\\MachineLearning\\envs\\gpu\\lib\\site-packages\\xgboost\\sklearn.py:1224: UserWarning: The use of label encoder in XGBClassifier is deprecated and will be removed in a future release. To remove this warning, do the following: 1) Pass option use_label_encoder=False when constructing XGBClassifier object; and 2) Encode your labels (y) as integers starting with 0, i.e. 0, 1, 2, ..., [num_class - 1].\n",
      "  warnings.warn(label_encoder_deprecation_msg, UserWarning)\n"
     ]
    },
    {
     "name": "stdout",
     "output_type": "stream",
     "text": [
      "[11:00:25] WARNING: C:/Users/Administrator/workspace/xgboost-win64_release_1.5.1/src/learner.cc:1115: Starting in XGBoost 1.3.0, the default evaluation metric used with the objective 'multi:softprob' was changed from 'merror' to 'mlogloss'. Explicitly set eval_metric if you'd like to restore the old behavior.\n"
     ]
    },
    {
     "data": {
      "text/plain": [
       "XGBClassifier(base_score=0.5, booster='gbtree', colsample_bylevel=1,\n",
       "              colsample_bynode=1, colsample_bytree=1, enable_categorical=False,\n",
       "              gamma=0, gpu_id=0, importance_type=None, importance_typen=None,\n",
       "              interaction_constraints='', learning_rate=0.5, max_delta_step=0,\n",
       "              max_depth=50, min_child_weight=1, missing=nan,\n",
       "              monotone_constraints='()', n_estimators=400, n_jobs=12,\n",
       "              num_parallel_tree=1, objective='multi:softprob',\n",
       "              predictor='gpu_predictor', random_state=0, reg_alpha=0,\n",
       "              reg_lambda=1, scale_pos_weight=None, subsample=1,\n",
       "              tree_method='exact', validate_parameters=1, verbosity=None)"
      ]
     },
     "execution_count": 44,
     "metadata": {},
     "output_type": "execute_result"
    }
   ],
   "source": [
    "from xgboost import XGBClassifier\n",
    "xgb = XGBClassifier(base_score = None,\n",
    "              booster = 'gbtree',\n",
    "              colsample_bylevel = None,\n",
    "              colsample_bynode = None,\n",
    "              colsample_bytree = None,\n",
    "              enable_categorical = False,\n",
    "              gamma = 0,\n",
    "              gpu_id = None,\n",
    "              importance_typen = None,\n",
    "              interaction_constraints = None,\n",
    "              learning_rate = 0.5,\n",
    "              max_delta_step = None,\n",
    "              max_depth = 50,\n",
    "              min_child_weight = 1,\n",
    "              monotone_constraints = None,\n",
    "              n_estimators = 400,\n",
    "              n_jobs = None,\n",
    "              num_parallel_tree = None,\n",
    "              objective = 'multi:softmax',\n",
    "              predictor = 'gpu_predictor',\n",
    "              random_state = None,\n",
    "              reg_alpha = None,\n",
    "              reg_lambda = None,\n",
    "              scale_pos_weight = None,\n",
    "              subsample = None,\n",
    "              tree_method = None,\n",
    "              use_label_encoder = True,\n",
    "              validate_parameters = None,\n",
    "              verbosity = None)\n",
    "xgb.fit(X_train, y_train)"
   ]
  },
  {
   "cell_type": "code",
   "execution_count": 45,
   "id": "7b89e617",
   "metadata": {},
   "outputs": [],
   "source": [
    "y_pred4 = xgb.predict(X_test)"
   ]
  },
  {
   "cell_type": "code",
   "execution_count": 46,
   "id": "336cd24a",
   "metadata": {},
   "outputs": [
    {
     "name": "stdout",
     "output_type": "stream",
     "text": [
      "Accuracy is: 90.45987223420909\n"
     ]
    }
   ],
   "source": [
    "from sklearn.metrics import accuracy_score\n",
    "accuracy = {accuracy_score(y_test, y_pred4)}\n",
    "print(f\"Accuracy is: {accuracy_score(y_test, y_pred4)* 100}\")"
   ]
  },
  {
   "cell_type": "code",
   "execution_count": 47,
   "id": "2092f3be",
   "metadata": {},
   "outputs": [
    {
     "name": "stdout",
     "output_type": "stream",
     "text": [
      "\u001b[1mClassification report : \u001b[0m\n",
      "               precision    recall  f1-score   support\n",
      "\n",
      "           0       0.93      0.98      0.95     37418\n",
      "           1       0.92      0.87      0.90      1916\n",
      "           2       0.91      0.84      0.87      1886\n",
      "           3       0.89      0.85      0.87      2108\n",
      "           4       0.89      0.84      0.87      1874\n",
      "           5       0.86      0.83      0.85      1961\n",
      "           6       0.89      0.88      0.89      2156\n",
      "           7       0.87      0.81      0.84      1759\n",
      "           8       0.88      0.82      0.85      1869\n",
      "           9       0.82      0.77      0.79      1913\n",
      "          10       0.87      0.79      0.83      1640\n",
      "          11       0.90      0.80      0.85      1823\n",
      "          12       0.90      0.85      0.87      1741\n",
      "          13       0.90      0.86      0.88      1065\n",
      "          14       0.73      0.69      0.71      1401\n",
      "          15       0.79      0.77      0.78      1412\n",
      "          16       0.88      0.79      0.83      1256\n",
      "          17       0.83      0.77      0.80      1398\n",
      "          18       0.85      0.67      0.75       589\n",
      "          19       0.82      0.81      0.82       817\n",
      "          20       0.91      0.89      0.90       902\n",
      "          21       0.93      0.87      0.90       624\n",
      "          22       0.95      0.91      0.93       700\n",
      "          23       0.94      0.89      0.92       683\n",
      "\n",
      "    accuracy                           0.90     70911\n",
      "   macro avg       0.88      0.83      0.85     70911\n",
      "weighted avg       0.90      0.90      0.90     70911\n",
      "\n",
      "\u001b[1mConfusion Matrix : \u001b[0m\n"
     ]
    },
    {
     "data": {
      "image/png": "[encoded data removed]",
      "text/plain": [
       "<Figure size 432x288 with 2 Axes>"
      ]
     },
     "metadata": {
      "needs_background": "light"
     },
     "output_type": "display_data"
    }
   ],
   "source": [
    "print('\\033[1m' +'Classification report : '+ '\\033[0m\\n', classification_report(y_test, y_pred4))\n",
    "\n",
    "cm = confusion_matrix(y_pred4, y_test)\n",
    "print('\\033[1m' +'Confusion Matrix : '+ '\\033[0m')\n",
    "sns.heatmap(cm, cmap = 'OrRd',annot = True, fmt='d')\n",
    "plt.show()"
   ]
  },
  {
   "cell_type": "markdown",
   "id": "4c8e2e10",
   "metadata": {},
   "source": [
    "# Evaluation -- XGBoost"
   ]
  },
  {
   "cell_type": "code",
   "execution_count": 48,
   "id": "5eef5c67",
   "metadata": {},
   "outputs": [
    {
     "name": "stdout",
     "output_type": "stream",
     "text": [
      "MAE: 0.7990438718957567\n",
      "MSE: 9.523444881612162\n",
      "RMSE: 3.0860079198881136\n"
     ]
    }
   ],
   "source": [
    "from sklearn import metrics\n",
    "\n",
    "print('MAE:', metrics.mean_absolute_error(y_test,y_pred4))\n",
    "print('MSE:', metrics.mean_squared_error(y_test, y_pred4))\n",
    "print('RMSE:', np.sqrt(metrics.mean_squared_error(y_test, y_pred4)))"
   ]
  },
  {
   "cell_type": "code",
   "execution_count": 49,
   "id": "22aae28f",
   "metadata": {},
   "outputs": [
    {
     "name": "stdout",
     "output_type": "stream",
     "text": [
      "Precision Score :  0.9030304934128874\n",
      "Recall Score :  0.9045987223420908\n",
      "f1_score :  0.9029864639768204\n"
     ]
    }
   ],
   "source": [
    "from sklearn.metrics import precision_score\n",
    "print(\"Precision Score : \",precision_score(y_test, y_pred4, average='weighted'))\n",
    "\n",
    "\n",
    "from sklearn.metrics import recall_score\n",
    "print(\"Recall Score : \",recall_score(y_test, y_pred4,average='weighted'))\n",
    "\n",
    "\n",
    "from sklearn.metrics import f1_score\n",
    "print(\"f1_score : \",f1_score(y_test, y_pred4,average='weighted'))"
   ]
  },
  {
   "cell_type": "code",
   "execution_count": null,
   "id": "9e052c75",
   "metadata": {},
   "outputs": [],
   "source": []
  },
  {
   "cell_type": "code",
   "execution_count": null,
   "id": "b3f42aaa",
   "metadata": {},
   "outputs": [],
   "source": []
  }
 ],
 "metadata": {
  "kernelspec": {
   "display_name": "Python 3 (ipykernel)",
   "language": "python",
   "name": "python3"
  },
  "language_info": {
   "codemirror_mode": {
    "name": "ipython",
    "version": 3
   },
   "file_extension": ".py",
   "mimetype": "text/x-python",
   "name": "python",
   "nbconvert_exporter": "python",
   "pygments_lexer": "ipython3",
   "version": "3.8.12"
  }
 },
 "nbformat": 4,
 "nbformat_minor": 5
}
