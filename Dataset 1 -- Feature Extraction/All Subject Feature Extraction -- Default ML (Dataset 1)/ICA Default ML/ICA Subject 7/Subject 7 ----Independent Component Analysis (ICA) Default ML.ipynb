{
 "cells": [
  {
   "cell_type": "markdown",
   "id": "f9e9d302",
   "metadata": {},
   "source": [
    "# Importing Libraries"
   ]
  },
  {
   "cell_type": "code",
   "execution_count": 1,
   "id": "8981c1e9",
   "metadata": {},
   "outputs": [],
   "source": [
    "import numpy as np\n",
    "import pandas as pd\n",
    "import matplotlib.pyplot as plt\n",
    "import seaborn as sns\n",
    "from sklearn.model_selection import train_test_split\n",
    "from sklearn.metrics import confusion_matrix, f1_score, accuracy_score, classification_report"
   ]
  },
  {
   "cell_type": "markdown",
   "id": "8bfa8885",
   "metadata": {},
   "source": [
    "# Exploratory Data Analysis"
   ]
  },
  {
   "cell_type": "code",
   "execution_count": 2,
   "id": "ff1116c8",
   "metadata": {},
   "outputs": [
    {
     "data": {
      "text/html": [
       "<div>\n",
       "<style scoped>\n",
       "    .dataframe tbody tr th:only-of-type {\n",
       "        vertical-align: middle;\n",
       "    }\n",
       "\n",
       "    .dataframe tbody tr th {\n",
       "        vertical-align: top;\n",
       "    }\n",
       "\n",
       "    .dataframe thead th {\n",
       "        text-align: right;\n",
       "    }\n",
       "</style>\n",
       "<table border=\"1\" class=\"dataframe\">\n",
       "  <thead>\n",
       "    <tr style=\"text-align: right;\">\n",
       "      <th></th>\n",
       "      <th>Emg1</th>\n",
       "      <th>Emg2</th>\n",
       "      <th>Emg3</th>\n",
       "      <th>Emg4</th>\n",
       "      <th>Emg5</th>\n",
       "      <th>Emg6</th>\n",
       "      <th>Emg7</th>\n",
       "      <th>Emg8</th>\n",
       "      <th>Emg9</th>\n",
       "      <th>Emg10</th>\n",
       "      <th>repetition</th>\n",
       "      <th>rerepetition</th>\n",
       "      <th>stimulus</th>\n",
       "      <th>restimulus</th>\n",
       "    </tr>\n",
       "  </thead>\n",
       "  <tbody>\n",
       "    <tr>\n",
       "      <th>268446</th>\n",
       "      <td>0.0024</td>\n",
       "      <td>0.0024</td>\n",
       "      <td>0.0024</td>\n",
       "      <td>0.0317</td>\n",
       "      <td>0.0684</td>\n",
       "      <td>0.3101</td>\n",
       "      <td>0.8569</td>\n",
       "      <td>0.0830</td>\n",
       "      <td>0.0024</td>\n",
       "      <td>0.2002</td>\n",
       "      <td>8</td>\n",
       "      <td>8</td>\n",
       "      <td>3</td>\n",
       "      <td>3</td>\n",
       "    </tr>\n",
       "    <tr>\n",
       "      <th>358974</th>\n",
       "      <td>0.0293</td>\n",
       "      <td>0.0024</td>\n",
       "      <td>0.0024</td>\n",
       "      <td>0.0024</td>\n",
       "      <td>0.0024</td>\n",
       "      <td>0.3174</td>\n",
       "      <td>0.1245</td>\n",
       "      <td>0.2124</td>\n",
       "      <td>0.0146</td>\n",
       "      <td>0.2466</td>\n",
       "      <td>0</td>\n",
       "      <td>0</td>\n",
       "      <td>0</td>\n",
       "      <td>0</td>\n",
       "    </tr>\n",
       "    <tr>\n",
       "      <th>290488</th>\n",
       "      <td>0.0024</td>\n",
       "      <td>0.3931</td>\n",
       "      <td>0.2979</td>\n",
       "      <td>0.0732</td>\n",
       "      <td>0.1709</td>\n",
       "      <td>0.9619</td>\n",
       "      <td>1.6284</td>\n",
       "      <td>1.1768</td>\n",
       "      <td>0.3247</td>\n",
       "      <td>0.5981</td>\n",
       "      <td>2</td>\n",
       "      <td>2</td>\n",
       "      <td>6</td>\n",
       "      <td>6</td>\n",
       "    </tr>\n",
       "    <tr>\n",
       "      <th>62817</th>\n",
       "      <td>0.0024</td>\n",
       "      <td>0.0024</td>\n",
       "      <td>0.0024</td>\n",
       "      <td>0.0024</td>\n",
       "      <td>0.0024</td>\n",
       "      <td>0.0684</td>\n",
       "      <td>0.3638</td>\n",
       "      <td>0.1123</td>\n",
       "      <td>0.0024</td>\n",
       "      <td>0.2612</td>\n",
       "      <td>0</td>\n",
       "      <td>0</td>\n",
       "      <td>0</td>\n",
       "      <td>0</td>\n",
       "    </tr>\n",
       "    <tr>\n",
       "      <th>19750</th>\n",
       "      <td>0.0024</td>\n",
       "      <td>0.2734</td>\n",
       "      <td>0.0195</td>\n",
       "      <td>0.0073</td>\n",
       "      <td>0.0024</td>\n",
       "      <td>0.1587</td>\n",
       "      <td>0.5933</td>\n",
       "      <td>0.5664</td>\n",
       "      <td>0.2930</td>\n",
       "      <td>0.2881</td>\n",
       "      <td>4</td>\n",
       "      <td>4</td>\n",
       "      <td>3</td>\n",
       "      <td>3</td>\n",
       "    </tr>\n",
       "  </tbody>\n",
       "</table>\n",
       "</div>"
      ],
      "text/plain": [
       "          Emg1    Emg2    Emg3    Emg4    Emg5    Emg6    Emg7    Emg8  \\\n",
       "268446  0.0024  0.0024  0.0024  0.0317  0.0684  0.3101  0.8569  0.0830   \n",
       "358974  0.0293  0.0024  0.0024  0.0024  0.0024  0.3174  0.1245  0.2124   \n",
       "290488  0.0024  0.3931  0.2979  0.0732  0.1709  0.9619  1.6284  1.1768   \n",
       "62817   0.0024  0.0024  0.0024  0.0024  0.0024  0.0684  0.3638  0.1123   \n",
       "19750   0.0024  0.2734  0.0195  0.0073  0.0024  0.1587  0.5933  0.5664   \n",
       "\n",
       "          Emg9   Emg10  repetition  rerepetition  stimulus  restimulus  \n",
       "268446  0.0024  0.2002           8             8         3           3  \n",
       "358974  0.0146  0.2466           0             0         0           0  \n",
       "290488  0.3247  0.5981           2             2         6           6  \n",
       "62817   0.0024  0.2612           0             0         0           0  \n",
       "19750   0.2930  0.2881           4             4         3           3  "
      ]
     },
     "execution_count": 2,
     "metadata": {},
     "output_type": "execute_result"
    }
   ],
   "source": [
    "raw_data = pd.read_excel('Dataset 1 Patient 7.xlsx')\n",
    "raw_data.sample(5)"
   ]
  },
  {
   "cell_type": "code",
   "execution_count": 3,
   "id": "abaa902c",
   "metadata": {},
   "outputs": [
    {
     "data": {
      "text/plain": [
       "(465343, 14)"
      ]
     },
     "execution_count": 3,
     "metadata": {},
     "output_type": "execute_result"
    }
   ],
   "source": [
    "raw_data.shape"
   ]
  },
  {
   "cell_type": "code",
   "execution_count": 4,
   "id": "4c5eb0e0",
   "metadata": {},
   "outputs": [
    {
     "data": {
      "text/plain": [
       "Index(['Emg1', 'Emg2', 'Emg3', 'Emg4', 'Emg5', 'Emg6', 'Emg7', 'Emg8', 'Emg9',\n",
       "       'Emg10', 'repetition', 'rerepetition', 'stimulus', 'restimulus'],\n",
       "      dtype='object')"
      ]
     },
     "execution_count": 4,
     "metadata": {},
     "output_type": "execute_result"
    }
   ],
   "source": [
    "raw_data.columns"
   ]
  },
  {
   "cell_type": "code",
   "execution_count": 5,
   "id": "4154dd68",
   "metadata": {},
   "outputs": [
    {
     "name": "stdout",
     "output_type": "stream",
     "text": [
      "<class 'pandas.core.frame.DataFrame'>\n",
      "RangeIndex: 465343 entries, 0 to 465342\n",
      "Data columns (total 14 columns):\n",
      " #   Column        Non-Null Count   Dtype  \n",
      "---  ------        --------------   -----  \n",
      " 0   Emg1          465343 non-null  float64\n",
      " 1   Emg2          465343 non-null  float64\n",
      " 2   Emg3          465343 non-null  float64\n",
      " 3   Emg4          465343 non-null  float64\n",
      " 4   Emg5          465343 non-null  float64\n",
      " 5   Emg6          465343 non-null  float64\n",
      " 6   Emg7          465343 non-null  float64\n",
      " 7   Emg8          465343 non-null  float64\n",
      " 8   Emg9          465343 non-null  float64\n",
      " 9   Emg10         465343 non-null  float64\n",
      " 10  repetition    465343 non-null  int64  \n",
      " 11  rerepetition  465343 non-null  int64  \n",
      " 12  stimulus      465343 non-null  int64  \n",
      " 13  restimulus    465343 non-null  int64  \n",
      "dtypes: float64(10), int64(4)\n",
      "memory usage: 49.7 MB\n"
     ]
    }
   ],
   "source": [
    "raw_data.info()"
   ]
  },
  {
   "cell_type": "code",
   "execution_count": 6,
   "id": "9ad2648b",
   "metadata": {},
   "outputs": [
    {
     "data": {
      "text/html": [
       "<div>\n",
       "<style scoped>\n",
       "    .dataframe tbody tr th:only-of-type {\n",
       "        vertical-align: middle;\n",
       "    }\n",
       "\n",
       "    .dataframe tbody tr th {\n",
       "        vertical-align: top;\n",
       "    }\n",
       "\n",
       "    .dataframe thead th {\n",
       "        text-align: right;\n",
       "    }\n",
       "</style>\n",
       "<table border=\"1\" class=\"dataframe\">\n",
       "  <thead>\n",
       "    <tr style=\"text-align: right;\">\n",
       "      <th></th>\n",
       "      <th>Emg1</th>\n",
       "      <th>Emg2</th>\n",
       "      <th>Emg3</th>\n",
       "      <th>Emg4</th>\n",
       "      <th>Emg5</th>\n",
       "      <th>Emg6</th>\n",
       "      <th>Emg7</th>\n",
       "      <th>Emg8</th>\n",
       "      <th>Emg9</th>\n",
       "      <th>Emg10</th>\n",
       "      <th>repetition</th>\n",
       "      <th>rerepetition</th>\n",
       "      <th>stimulus</th>\n",
       "      <th>restimulus</th>\n",
       "    </tr>\n",
       "  </thead>\n",
       "  <tbody>\n",
       "    <tr>\n",
       "      <th>count</th>\n",
       "      <td>465343.000000</td>\n",
       "      <td>465343.000000</td>\n",
       "      <td>465343.000000</td>\n",
       "      <td>465343.000000</td>\n",
       "      <td>465343.000000</td>\n",
       "      <td>465343.000000</td>\n",
       "      <td>465343.000000</td>\n",
       "      <td>465343.000000</td>\n",
       "      <td>465343.000000</td>\n",
       "      <td>465343.000000</td>\n",
       "      <td>465343.000000</td>\n",
       "      <td>465343.000000</td>\n",
       "      <td>465343.000000</td>\n",
       "      <td>465343.000000</td>\n",
       "    </tr>\n",
       "    <tr>\n",
       "      <th>mean</th>\n",
       "      <td>0.016418</td>\n",
       "      <td>0.174769</td>\n",
       "      <td>0.072729</td>\n",
       "      <td>0.029455</td>\n",
       "      <td>0.045257</td>\n",
       "      <td>0.323000</td>\n",
       "      <td>0.492774</td>\n",
       "      <td>0.348617</td>\n",
       "      <td>0.112679</td>\n",
       "      <td>0.320979</td>\n",
       "      <td>3.170298</td>\n",
       "      <td>2.318877</td>\n",
       "      <td>5.616943</td>\n",
       "      <td>4.164977</td>\n",
       "    </tr>\n",
       "    <tr>\n",
       "      <th>std</th>\n",
       "      <td>0.077547</td>\n",
       "      <td>0.405425</td>\n",
       "      <td>0.272274</td>\n",
       "      <td>0.071421</td>\n",
       "      <td>0.087363</td>\n",
       "      <td>0.445777</td>\n",
       "      <td>0.521808</td>\n",
       "      <td>0.422231</td>\n",
       "      <td>0.280829</td>\n",
       "      <td>0.225615</td>\n",
       "      <td>3.484652</td>\n",
       "      <td>3.300599</td>\n",
       "      <td>6.579710</td>\n",
       "      <td>6.287999</td>\n",
       "    </tr>\n",
       "    <tr>\n",
       "      <th>min</th>\n",
       "      <td>0.000000</td>\n",
       "      <td>0.000000</td>\n",
       "      <td>0.002400</td>\n",
       "      <td>0.000000</td>\n",
       "      <td>0.002400</td>\n",
       "      <td>0.002400</td>\n",
       "      <td>0.002400</td>\n",
       "      <td>0.002400</td>\n",
       "      <td>0.000000</td>\n",
       "      <td>0.002400</td>\n",
       "      <td>0.000000</td>\n",
       "      <td>0.000000</td>\n",
       "      <td>0.000000</td>\n",
       "      <td>0.000000</td>\n",
       "    </tr>\n",
       "    <tr>\n",
       "      <th>25%</th>\n",
       "      <td>0.002400</td>\n",
       "      <td>0.002400</td>\n",
       "      <td>0.002400</td>\n",
       "      <td>0.002400</td>\n",
       "      <td>0.002400</td>\n",
       "      <td>0.063500</td>\n",
       "      <td>0.185500</td>\n",
       "      <td>0.105000</td>\n",
       "      <td>0.002400</td>\n",
       "      <td>0.183100</td>\n",
       "      <td>0.000000</td>\n",
       "      <td>0.000000</td>\n",
       "      <td>0.000000</td>\n",
       "      <td>0.000000</td>\n",
       "    </tr>\n",
       "    <tr>\n",
       "      <th>50%</th>\n",
       "      <td>0.002400</td>\n",
       "      <td>0.002400</td>\n",
       "      <td>0.002400</td>\n",
       "      <td>0.002400</td>\n",
       "      <td>0.012200</td>\n",
       "      <td>0.188000</td>\n",
       "      <td>0.346700</td>\n",
       "      <td>0.212400</td>\n",
       "      <td>0.004900</td>\n",
       "      <td>0.244100</td>\n",
       "      <td>2.000000</td>\n",
       "      <td>0.000000</td>\n",
       "      <td>3.000000</td>\n",
       "      <td>0.000000</td>\n",
       "    </tr>\n",
       "    <tr>\n",
       "      <th>75%</th>\n",
       "      <td>0.007300</td>\n",
       "      <td>0.163600</td>\n",
       "      <td>0.012200</td>\n",
       "      <td>0.019500</td>\n",
       "      <td>0.051300</td>\n",
       "      <td>0.388200</td>\n",
       "      <td>0.603000</td>\n",
       "      <td>0.429700</td>\n",
       "      <td>0.075700</td>\n",
       "      <td>0.412600</td>\n",
       "      <td>6.000000</td>\n",
       "      <td>5.000000</td>\n",
       "      <td>10.000000</td>\n",
       "      <td>8.000000</td>\n",
       "    </tr>\n",
       "    <tr>\n",
       "      <th>max</th>\n",
       "      <td>2.321800</td>\n",
       "      <td>4.665500</td>\n",
       "      <td>4.660600</td>\n",
       "      <td>1.892100</td>\n",
       "      <td>2.136200</td>\n",
       "      <td>4.665500</td>\n",
       "      <td>4.663100</td>\n",
       "      <td>4.665500</td>\n",
       "      <td>4.660600</td>\n",
       "      <td>3.398400</td>\n",
       "      <td>10.000000</td>\n",
       "      <td>10.000000</td>\n",
       "      <td>23.000000</td>\n",
       "      <td>23.000000</td>\n",
       "    </tr>\n",
       "  </tbody>\n",
       "</table>\n",
       "</div>"
      ],
      "text/plain": [
       "                Emg1           Emg2           Emg3           Emg4  \\\n",
       "count  465343.000000  465343.000000  465343.000000  465343.000000   \n",
       "mean        0.016418       0.174769       0.072729       0.029455   \n",
       "std         0.077547       0.405425       0.272274       0.071421   \n",
       "min         0.000000       0.000000       0.002400       0.000000   \n",
       "25%         0.002400       0.002400       0.002400       0.002400   \n",
       "50%         0.002400       0.002400       0.002400       0.002400   \n",
       "75%         0.007300       0.163600       0.012200       0.019500   \n",
       "max         2.321800       4.665500       4.660600       1.892100   \n",
       "\n",
       "                Emg5           Emg6           Emg7           Emg8  \\\n",
       "count  465343.000000  465343.000000  465343.000000  465343.000000   \n",
       "mean        0.045257       0.323000       0.492774       0.348617   \n",
       "std         0.087363       0.445777       0.521808       0.422231   \n",
       "min         0.002400       0.002400       0.002400       0.002400   \n",
       "25%         0.002400       0.063500       0.185500       0.105000   \n",
       "50%         0.012200       0.188000       0.346700       0.212400   \n",
       "75%         0.051300       0.388200       0.603000       0.429700   \n",
       "max         2.136200       4.665500       4.663100       4.665500   \n",
       "\n",
       "                Emg9          Emg10     repetition   rerepetition  \\\n",
       "count  465343.000000  465343.000000  465343.000000  465343.000000   \n",
       "mean        0.112679       0.320979       3.170298       2.318877   \n",
       "std         0.280829       0.225615       3.484652       3.300599   \n",
       "min         0.000000       0.002400       0.000000       0.000000   \n",
       "25%         0.002400       0.183100       0.000000       0.000000   \n",
       "50%         0.004900       0.244100       2.000000       0.000000   \n",
       "75%         0.075700       0.412600       6.000000       5.000000   \n",
       "max         4.660600       3.398400      10.000000      10.000000   \n",
       "\n",
       "            stimulus     restimulus  \n",
       "count  465343.000000  465343.000000  \n",
       "mean        5.616943       4.164977  \n",
       "std         6.579710       6.287999  \n",
       "min         0.000000       0.000000  \n",
       "25%         0.000000       0.000000  \n",
       "50%         3.000000       0.000000  \n",
       "75%        10.000000       8.000000  \n",
       "max        23.000000      23.000000  "
      ]
     },
     "execution_count": 6,
     "metadata": {},
     "output_type": "execute_result"
    }
   ],
   "source": [
    "raw_data.describe(include='all')"
   ]
  },
  {
   "cell_type": "code",
   "execution_count": 7,
   "id": "ccb02915",
   "metadata": {},
   "outputs": [
    {
     "name": "stdout",
     "output_type": "stream",
     "text": [
      "Unique Dependent values and their counts :\n",
      "0     197148\n",
      "4      15514\n",
      "8      15513\n",
      "2      15507\n",
      "12     15503\n",
      "7      15490\n",
      "6      15486\n",
      "9      15483\n",
      "5      15470\n",
      "11     15462\n",
      "3      15455\n",
      "1      15433\n",
      "10     15427\n",
      "13     10339\n",
      "17     10337\n",
      "14     10336\n",
      "15     10304\n",
      "16     10259\n",
      "21      5166\n",
      "18      5165\n",
      "19      5160\n",
      "20      5130\n",
      "23      5130\n",
      "22      5126\n",
      "Name: stimulus, dtype: int64\n"
     ]
    }
   ],
   "source": [
    "print(\"Unique Dependent values and their counts :\")\n",
    "print(raw_data[\"stimulus\"].value_counts())"
   ]
  },
  {
   "cell_type": "code",
   "execution_count": 8,
   "id": "4bfaf7c1",
   "metadata": {},
   "outputs": [
    {
     "data": {
      "text/plain": [
       "Text(0, 0.5, 'Frequency')"
      ]
     },
     "execution_count": 8,
     "metadata": {},
     "output_type": "execute_result"
    },
    {
     "data": {
      "image/png": "[encoded data removed]",
      "text/plain": [
       "<Figure size 432x288 with 1 Axes>"
      ]
     },
     "metadata": {
      "needs_background": "light"
     },
     "output_type": "display_data"
    }
   ],
   "source": [
    "count_classes = pd.value_counts(raw_data['stimulus'], sort = True)\n",
    "\n",
    "count_classes.plot(kind = 'bar', rot=0)\n",
    "\n",
    "plt.title(\"stimulus Class Distribution\")\n",
    "\n",
    "plt.xlabel(\"Class\")\n",
    "\n",
    "plt.ylabel(\"Frequency\")"
   ]
  },
  {
   "cell_type": "markdown",
   "id": "631d4bd5",
   "metadata": {},
   "source": [
    "# Data Cleaning and Exploratory Data Analysis with New Data"
   ]
  },
  {
   "cell_type": "code",
   "execution_count": 9,
   "id": "77a8fee4",
   "metadata": {},
   "outputs": [],
   "source": [
    "index_names = raw_data[ (raw_data['stimulus'] != raw_data['restimulus'])].index\n",
    "raw_data.drop(index_names, inplace = True)"
   ]
  },
  {
   "cell_type": "code",
   "execution_count": 10,
   "id": "e1ca9001",
   "metadata": {},
   "outputs": [],
   "source": [
    "index_names = raw_data[ (raw_data['repetition'] != raw_data['rerepetition'])].index\n",
    "raw_data.drop(index_names, inplace = True)"
   ]
  },
  {
   "cell_type": "code",
   "execution_count": 11,
   "id": "eb95b5d8",
   "metadata": {},
   "outputs": [
    {
     "data": {
      "text/html": [
       "<div>\n",
       "<style scoped>\n",
       "    .dataframe tbody tr th:only-of-type {\n",
       "        vertical-align: middle;\n",
       "    }\n",
       "\n",
       "    .dataframe tbody tr th {\n",
       "        vertical-align: top;\n",
       "    }\n",
       "\n",
       "    .dataframe thead th {\n",
       "        text-align: right;\n",
       "    }\n",
       "</style>\n",
       "<table border=\"1\" class=\"dataframe\">\n",
       "  <thead>\n",
       "    <tr style=\"text-align: right;\">\n",
       "      <th></th>\n",
       "      <th>Emg1</th>\n",
       "      <th>Emg2</th>\n",
       "      <th>Emg3</th>\n",
       "      <th>Emg4</th>\n",
       "      <th>Emg5</th>\n",
       "      <th>Emg6</th>\n",
       "      <th>Emg7</th>\n",
       "      <th>Emg8</th>\n",
       "      <th>Emg9</th>\n",
       "      <th>Emg10</th>\n",
       "      <th>repetition</th>\n",
       "      <th>rerepetition</th>\n",
       "      <th>stimulus</th>\n",
       "      <th>restimulus</th>\n",
       "    </tr>\n",
       "  </thead>\n",
       "  <tbody>\n",
       "    <tr>\n",
       "      <th>58940</th>\n",
       "      <td>0.0024</td>\n",
       "      <td>0.0024</td>\n",
       "      <td>0.0024</td>\n",
       "      <td>0.0024</td>\n",
       "      <td>0.0024</td>\n",
       "      <td>0.2368</td>\n",
       "      <td>0.2637</td>\n",
       "      <td>0.1392</td>\n",
       "      <td>0.0024</td>\n",
       "      <td>0.5396</td>\n",
       "      <td>0</td>\n",
       "      <td>0</td>\n",
       "      <td>0</td>\n",
       "      <td>0</td>\n",
       "    </tr>\n",
       "    <tr>\n",
       "      <th>61619</th>\n",
       "      <td>0.0024</td>\n",
       "      <td>0.0073</td>\n",
       "      <td>0.0122</td>\n",
       "      <td>0.0244</td>\n",
       "      <td>0.0610</td>\n",
       "      <td>0.5615</td>\n",
       "      <td>1.3965</td>\n",
       "      <td>0.3296</td>\n",
       "      <td>0.0952</td>\n",
       "      <td>0.3247</td>\n",
       "      <td>4</td>\n",
       "      <td>4</td>\n",
       "      <td>8</td>\n",
       "      <td>8</td>\n",
       "    </tr>\n",
       "    <tr>\n",
       "      <th>268843</th>\n",
       "      <td>0.0024</td>\n",
       "      <td>0.0024</td>\n",
       "      <td>0.0024</td>\n",
       "      <td>0.0024</td>\n",
       "      <td>0.0024</td>\n",
       "      <td>0.0098</td>\n",
       "      <td>0.1123</td>\n",
       "      <td>0.2319</td>\n",
       "      <td>0.0024</td>\n",
       "      <td>0.1611</td>\n",
       "      <td>0</td>\n",
       "      <td>0</td>\n",
       "      <td>0</td>\n",
       "      <td>0</td>\n",
       "    </tr>\n",
       "    <tr>\n",
       "      <th>17437</th>\n",
       "      <td>0.0024</td>\n",
       "      <td>0.3931</td>\n",
       "      <td>0.0586</td>\n",
       "      <td>0.0122</td>\n",
       "      <td>0.0073</td>\n",
       "      <td>0.1416</td>\n",
       "      <td>1.0132</td>\n",
       "      <td>0.4956</td>\n",
       "      <td>0.3833</td>\n",
       "      <td>0.4370</td>\n",
       "      <td>1</td>\n",
       "      <td>1</td>\n",
       "      <td>3</td>\n",
       "      <td>3</td>\n",
       "    </tr>\n",
       "    <tr>\n",
       "      <th>160379</th>\n",
       "      <td>0.0049</td>\n",
       "      <td>0.0269</td>\n",
       "      <td>0.0024</td>\n",
       "      <td>0.0024</td>\n",
       "      <td>0.0098</td>\n",
       "      <td>0.2075</td>\n",
       "      <td>0.5957</td>\n",
       "      <td>0.1343</td>\n",
       "      <td>0.0024</td>\n",
       "      <td>0.5737</td>\n",
       "      <td>1</td>\n",
       "      <td>1</td>\n",
       "      <td>8</td>\n",
       "      <td>8</td>\n",
       "    </tr>\n",
       "  </tbody>\n",
       "</table>\n",
       "</div>"
      ],
      "text/plain": [
       "          Emg1    Emg2    Emg3    Emg4    Emg5    Emg6    Emg7    Emg8  \\\n",
       "58940   0.0024  0.0024  0.0024  0.0024  0.0024  0.2368  0.2637  0.1392   \n",
       "61619   0.0024  0.0073  0.0122  0.0244  0.0610  0.5615  1.3965  0.3296   \n",
       "268843  0.0024  0.0024  0.0024  0.0024  0.0024  0.0098  0.1123  0.2319   \n",
       "17437   0.0024  0.3931  0.0586  0.0122  0.0073  0.1416  1.0132  0.4956   \n",
       "160379  0.0049  0.0269  0.0024  0.0024  0.0098  0.2075  0.5957  0.1343   \n",
       "\n",
       "          Emg9   Emg10  repetition  rerepetition  stimulus  restimulus  \n",
       "58940   0.0024  0.5396           0             0         0           0  \n",
       "61619   0.0952  0.3247           4             4         8           8  \n",
       "268843  0.0024  0.1611           0             0         0           0  \n",
       "17437   0.3833  0.4370           1             1         3           3  \n",
       "160379  0.0024  0.5737           1             1         8           8  "
      ]
     },
     "execution_count": 11,
     "metadata": {},
     "output_type": "execute_result"
    }
   ],
   "source": [
    "raw_data.sample(5)"
   ]
  },
  {
   "cell_type": "code",
   "execution_count": 12,
   "id": "f0aa807e",
   "metadata": {},
   "outputs": [
    {
     "data": {
      "text/plain": [
       "(387008, 14)"
      ]
     },
     "execution_count": 12,
     "metadata": {},
     "output_type": "execute_result"
    }
   ],
   "source": [
    "raw_data.shape"
   ]
  },
  {
   "cell_type": "code",
   "execution_count": 13,
   "id": "8dd504b5",
   "metadata": {},
   "outputs": [
    {
     "name": "stdout",
     "output_type": "stream",
     "text": [
      "<class 'pandas.core.frame.DataFrame'>\n",
      "Int64Index: 387008 entries, 0 to 465342\n",
      "Data columns (total 14 columns):\n",
      " #   Column        Non-Null Count   Dtype  \n",
      "---  ------        --------------   -----  \n",
      " 0   Emg1          387008 non-null  float64\n",
      " 1   Emg2          387008 non-null  float64\n",
      " 2   Emg3          387008 non-null  float64\n",
      " 3   Emg4          387008 non-null  float64\n",
      " 4   Emg5          387008 non-null  float64\n",
      " 5   Emg6          387008 non-null  float64\n",
      " 6   Emg7          387008 non-null  float64\n",
      " 7   Emg8          387008 non-null  float64\n",
      " 8   Emg9          387008 non-null  float64\n",
      " 9   Emg10         387008 non-null  float64\n",
      " 10  repetition    387008 non-null  int64  \n",
      " 11  rerepetition  387008 non-null  int64  \n",
      " 12  stimulus      387008 non-null  int64  \n",
      " 13  restimulus    387008 non-null  int64  \n",
      "dtypes: float64(10), int64(4)\n",
      "memory usage: 44.3 MB\n"
     ]
    }
   ],
   "source": [
    "raw_data.info()"
   ]
  },
  {
   "cell_type": "code",
   "execution_count": 14,
   "id": "8613e6c0",
   "metadata": {},
   "outputs": [
    {
     "name": "stdout",
     "output_type": "stream",
     "text": [
      "Emg1            False\n",
      "Emg2            False\n",
      "Emg3            False\n",
      "Emg4            False\n",
      "Emg5            False\n",
      "Emg6            False\n",
      "Emg7            False\n",
      "Emg8            False\n",
      "Emg9            False\n",
      "Emg10           False\n",
      "repetition      False\n",
      "rerepetition    False\n",
      "stimulus        False\n",
      "restimulus      False\n",
      "dtype: bool\n"
     ]
    }
   ],
   "source": [
    "print(raw_data.isnull().any())"
   ]
  },
  {
   "cell_type": "code",
   "execution_count": 15,
   "id": "e4f2afdb",
   "metadata": {},
   "outputs": [],
   "source": [
    "X = raw_data.iloc[:,0:10]\n",
    "y = raw_data.stimulus"
   ]
  },
  {
   "cell_type": "markdown",
   "id": "82fcb689",
   "metadata": {},
   "source": [
    "# Scalling Data"
   ]
  },
  {
   "cell_type": "code",
   "execution_count": 16,
   "id": "9805af20",
   "metadata": {},
   "outputs": [],
   "source": [
    "from sklearn.preprocessing import StandardScaler"
   ]
  },
  {
   "cell_type": "code",
   "execution_count": 17,
   "id": "f3de76a5",
   "metadata": {},
   "outputs": [],
   "source": [
    "X = StandardScaler().fit_transform(X)"
   ]
  },
  {
   "cell_type": "markdown",
   "id": "00f28aad",
   "metadata": {},
   "source": [
    "# Indipendent Component Analysis (ICA)"
   ]
  },
  {
   "cell_type": "markdown",
   "id": "61dfd812",
   "metadata": {},
   "source": [
    "https://www.nmr.mgh.harvard.edu/mne/0.14/manual/preprocessing/ica.html"
   ]
  },
  {
   "cell_type": "code",
   "execution_count": 18,
   "id": "0a603cf6",
   "metadata": {},
   "outputs": [],
   "source": [
    "from sklearn.decomposition import FastICA\n",
    "\n",
    "ica = FastICA(n_components=10)\n",
    "X_ica = ica.fit_transform(X)"
   ]
  },
  {
   "cell_type": "code",
   "execution_count": 19,
   "id": "bf27b986",
   "metadata": {},
   "outputs": [],
   "source": [
    "# Splitting data for training and testing\n",
    "X_train, X_test, y_train, y_test = train_test_split(X_ica, y, test_size = 0.2, random_state = 39)"
   ]
  },
  {
   "cell_type": "markdown",
   "id": "cf4fd4a4",
   "metadata": {},
   "source": [
    "# Machine Learning Models"
   ]
  },
  {
   "cell_type": "code",
   "execution_count": 20,
   "id": "ee87f20f",
   "metadata": {},
   "outputs": [
    {
     "data": {
      "text/plain": [
       "DecisionTreeClassifier()"
      ]
     },
     "execution_count": 20,
     "metadata": {},
     "output_type": "execute_result"
    }
   ],
   "source": [
    "from sklearn import tree\n",
    "tree = tree.DecisionTreeClassifier()\n",
    "tree.fit(X_train, y_train)"
   ]
  },
  {
   "cell_type": "code",
   "execution_count": 21,
   "id": "e6352c65",
   "metadata": {},
   "outputs": [],
   "source": [
    "y_pred1 = tree.predict(X_test)"
   ]
  },
  {
   "cell_type": "code",
   "execution_count": 22,
   "id": "a3327a44",
   "metadata": {},
   "outputs": [
    {
     "name": "stdout",
     "output_type": "stream",
     "text": [
      "Accuracy is: 85.87891785741971\n"
     ]
    }
   ],
   "source": [
    "from sklearn.metrics import accuracy_score\n",
    "accuracy = {accuracy_score(y_test, y_pred1)}\n",
    "print(f\"Accuracy is: {accuracy_score(y_test, y_pred1)* 100}\")"
   ]
  },
  {
   "cell_type": "code",
   "execution_count": 23,
   "id": "915a5654",
   "metadata": {},
   "outputs": [
    {
     "name": "stdout",
     "output_type": "stream",
     "text": [
      "\u001b[1mClassification report : \u001b[0m\n",
      "               precision    recall  f1-score   support\n",
      "\n",
      "           0       0.94      0.94      0.94     39037\n",
      "           1       0.77      0.78      0.77      2203\n",
      "           2       0.72      0.71      0.72      2428\n",
      "           3       0.74      0.74      0.74      2206\n",
      "           4       0.80      0.80      0.80      2160\n",
      "           5       0.82      0.83      0.82      1972\n",
      "           6       0.84      0.82      0.83      2193\n",
      "           7       0.80      0.79      0.79      2070\n",
      "           8       0.76      0.75      0.76      2293\n",
      "           9       0.73      0.74      0.73      1921\n",
      "          10       0.69      0.67      0.68      2093\n",
      "          11       0.75      0.77      0.76      2006\n",
      "          12       0.76      0.76      0.76      2165\n",
      "          13       0.80      0.80      0.80      1405\n",
      "          14       0.83      0.85      0.84      1393\n",
      "          15       0.71      0.73      0.72      1663\n",
      "          16       0.83      0.82      0.82      1693\n",
      "          17       0.76      0.75      0.75      1703\n",
      "          18       0.83      0.84      0.84       861\n",
      "          19       0.78      0.80      0.79       833\n",
      "          20       0.92      0.90      0.91       831\n",
      "          21       0.74      0.76      0.75       677\n",
      "          22       0.86      0.77      0.81       751\n",
      "          23       0.92      0.89      0.91       845\n",
      "\n",
      "    accuracy                           0.86     77402\n",
      "   macro avg       0.79      0.79      0.79     77402\n",
      "weighted avg       0.86      0.86      0.86     77402\n",
      "\n",
      "\u001b[1mConfusion Matrix : \u001b[0m\n"
     ]
    },
    {
     "data": {
      "image/png": "[encoded data removed]",
      "text/plain": [
       "<Figure size 432x288 with 2 Axes>"
      ]
     },
     "metadata": {
      "needs_background": "light"
     },
     "output_type": "display_data"
    }
   ],
   "source": [
    "print('\\033[1m' +'Classification report : '+ '\\033[0m\\n', classification_report(y_test, y_pred1))\n",
    "\n",
    "cm = confusion_matrix(y_pred1, y_test)\n",
    "print('\\033[1m' +'Confusion Matrix : '+ '\\033[0m')\n",
    "sns.heatmap(cm, cmap = 'OrRd',annot = True, fmt='d')\n",
    "plt.show()"
   ]
  },
  {
   "cell_type": "markdown",
   "id": "4ef9004a",
   "metadata": {},
   "source": [
    "# Evaluation -- Decision Tree"
   ]
  },
  {
   "cell_type": "code",
   "execution_count": 24,
   "id": "2c142e08",
   "metadata": {},
   "outputs": [
    {
     "name": "stdout",
     "output_type": "stream",
     "text": [
      "MAE: 1.0462261957055374\n",
      "MSE: 11.496524637606264\n",
      "RMSE: 3.3906525386135136\n"
     ]
    }
   ],
   "source": [
    "from sklearn import metrics\n",
    "\n",
    "print('MAE:', metrics.mean_absolute_error(y_test,y_pred1))\n",
    "print('MSE:', metrics.mean_squared_error(y_test, y_pred1))\n",
    "print('RMSE:', np.sqrt(metrics.mean_squared_error(y_test, y_pred1)))"
   ]
  },
  {
   "cell_type": "code",
   "execution_count": 25,
   "id": "124d29fe",
   "metadata": {},
   "outputs": [
    {
     "name": "stdout",
     "output_type": "stream",
     "text": [
      "Precision Score :  0.8589319487678743\n",
      "Recall Score :  0.858789178574197\n",
      "f1_score :  0.8588118613632567\n"
     ]
    }
   ],
   "source": [
    "from sklearn.metrics import precision_score\n",
    "print(\"Precision Score : \",precision_score(y_test, y_pred1, average='weighted'))\n",
    "\n",
    "\n",
    "from sklearn.metrics import recall_score\n",
    "print(\"Recall Score : \",recall_score(y_test, y_pred1,average='weighted'))\n",
    "\n",
    "\n",
    "from sklearn.metrics import f1_score\n",
    "print(\"f1_score : \",f1_score(y_test, y_pred1,average='weighted'))"
   ]
  },
  {
   "cell_type": "markdown",
   "id": "c1e0290e",
   "metadata": {},
   "source": [
    "# KNeighborsClassifier"
   ]
  },
  {
   "cell_type": "code",
   "execution_count": 26,
   "id": "d9cda07b",
   "metadata": {},
   "outputs": [
    {
     "data": {
      "text/plain": [
       "KNeighborsClassifier()"
      ]
     },
     "execution_count": 26,
     "metadata": {},
     "output_type": "execute_result"
    }
   ],
   "source": [
    "from sklearn.neighbors import KNeighborsClassifier\n",
    "KNeighborsClassifier = KNeighborsClassifier()\n",
    "KNeighborsClassifier.fit(X_train, y_train)"
   ]
  },
  {
   "cell_type": "code",
   "execution_count": 27,
   "id": "cb94d10c",
   "metadata": {},
   "outputs": [],
   "source": [
    "y_pred2 = KNeighborsClassifier.predict(X_test)"
   ]
  },
  {
   "cell_type": "code",
   "execution_count": 28,
   "id": "4f9d466c",
   "metadata": {},
   "outputs": [
    {
     "name": "stdout",
     "output_type": "stream",
     "text": [
      "Accuracy is: 93.15650758378337\n"
     ]
    }
   ],
   "source": [
    "from sklearn.metrics import accuracy_score\n",
    "accuracy = {accuracy_score(y_test, y_pred2)}\n",
    "print(f\"Accuracy is: {accuracy_score(y_test, y_pred2)* 100}\")"
   ]
  },
  {
   "cell_type": "code",
   "execution_count": 29,
   "id": "b28ae637",
   "metadata": {},
   "outputs": [
    {
     "name": "stdout",
     "output_type": "stream",
     "text": [
      "\u001b[1mClassification report : \u001b[0m\n",
      "               precision    recall  f1-score   support\n",
      "\n",
      "           0       0.94      0.98      0.96     39037\n",
      "           1       0.88      0.89      0.89      2203\n",
      "           2       0.87      0.83      0.85      2428\n",
      "           3       0.90      0.84      0.87      2206\n",
      "           4       0.94      0.88      0.91      2160\n",
      "           5       0.93      0.91      0.92      1972\n",
      "           6       0.94      0.92      0.93      2193\n",
      "           7       0.92      0.88      0.90      2070\n",
      "           8       0.91      0.89      0.90      2293\n",
      "           9       0.89      0.86      0.87      1921\n",
      "          10       0.86      0.77      0.81      2093\n",
      "          11       0.93      0.89      0.91      2006\n",
      "          12       0.94      0.88      0.91      2165\n",
      "          13       0.96      0.92      0.94      1405\n",
      "          14       0.92      0.93      0.92      1393\n",
      "          15       0.89      0.81      0.85      1663\n",
      "          16       0.97      0.91      0.94      1693\n",
      "          17       0.93      0.87      0.90      1703\n",
      "          18       0.96      0.91      0.94       861\n",
      "          19       0.94      0.86      0.90       833\n",
      "          20       0.97      0.97      0.97       831\n",
      "          21       0.96      0.87      0.91       677\n",
      "          22       0.99      0.92      0.95       751\n",
      "          23       1.00      0.95      0.98       845\n",
      "\n",
      "    accuracy                           0.93     77402\n",
      "   macro avg       0.93      0.89      0.91     77402\n",
      "weighted avg       0.93      0.93      0.93     77402\n",
      "\n",
      "\u001b[1mConfusion Matrix : \u001b[0m\n"
     ]
    },
    {
     "data": {
      "image/png": "[encoded data removed]",
      "text/plain": [
       "<Figure size 432x288 with 2 Axes>"
      ]
     },
     "metadata": {
      "needs_background": "light"
     },
     "output_type": "display_data"
    }
   ],
   "source": [
    "print('\\033[1m' +'Classification report : '+ '\\033[0m\\n', classification_report(y_test, y_pred2))\n",
    "\n",
    "cm = confusion_matrix(y_pred2, y_test)\n",
    "print('\\033[1m' +'Confusion Matrix : '+ '\\033[0m')\n",
    "sns.heatmap(cm, cmap = 'OrRd',annot = True, fmt='d')\n",
    "plt.show()"
   ]
  },
  {
   "cell_type": "markdown",
   "id": "094b157e",
   "metadata": {},
   "source": [
    "# Evaluation -- KNeighborsClassifier"
   ]
  },
  {
   "cell_type": "code",
   "execution_count": 30,
   "id": "75ecd7ea",
   "metadata": {},
   "outputs": [
    {
     "name": "stdout",
     "output_type": "stream",
     "text": [
      "MAE: 0.5141340017053823\n",
      "MSE: 5.678212449290716\n",
      "RMSE: 2.3829000082443064\n"
     ]
    }
   ],
   "source": [
    "from sklearn import metrics\n",
    "\n",
    "print('MAE:', metrics.mean_absolute_error(y_test,y_pred2))\n",
    "print('MSE:', metrics.mean_squared_error(y_test, y_pred2))\n",
    "print('RMSE:', np.sqrt(metrics.mean_squared_error(y_test, y_pred2)))"
   ]
  },
  {
   "cell_type": "code",
   "execution_count": 31,
   "id": "1abb6ec2",
   "metadata": {},
   "outputs": [
    {
     "name": "stdout",
     "output_type": "stream",
     "text": [
      "Precision Score :  0.9311090970173779\n",
      "Recall Score :  0.9315650758378337\n",
      "f1_score :  0.9307172828294348\n"
     ]
    }
   ],
   "source": [
    "from sklearn.metrics import precision_score\n",
    "print(\"Precision Score : \",precision_score(y_test, y_pred2, average='weighted'))\n",
    "\n",
    "\n",
    "from sklearn.metrics import recall_score\n",
    "print(\"Recall Score : \",recall_score(y_test, y_pred2,average='weighted'))\n",
    "\n",
    "\n",
    "from sklearn.metrics import f1_score\n",
    "print(\"f1_score : \",f1_score(y_test, y_pred2,average='weighted'))"
   ]
  },
  {
   "cell_type": "markdown",
   "id": "8fdcff29",
   "metadata": {},
   "source": [
    "# ExtraTreesClassifier"
   ]
  },
  {
   "cell_type": "code",
   "execution_count": 32,
   "id": "a8bb8e91",
   "metadata": {},
   "outputs": [
    {
     "data": {
      "text/plain": [
       "ExtraTreesClassifier()"
      ]
     },
     "execution_count": 32,
     "metadata": {},
     "output_type": "execute_result"
    }
   ],
   "source": [
    "from sklearn.ensemble import ExtraTreesClassifier\n",
    "extratree = ExtraTreesClassifier()\n",
    "extratree.fit(X_train, y_train)"
   ]
  },
  {
   "cell_type": "code",
   "execution_count": 33,
   "id": "bf05f679",
   "metadata": {},
   "outputs": [],
   "source": [
    "y_pred5 = extratree.predict(X_test)"
   ]
  },
  {
   "cell_type": "code",
   "execution_count": 34,
   "id": "dc1d301e",
   "metadata": {},
   "outputs": [
    {
     "name": "stdout",
     "output_type": "stream",
     "text": [
      "Accuracy is: 95.3308700033591\n"
     ]
    }
   ],
   "source": [
    "from sklearn.metrics import accuracy_score\n",
    "accuracy = {accuracy_score(y_test, y_pred5)}\n",
    "print(f\"Accuracy is: {accuracy_score(y_test, y_pred5)* 100}\")"
   ]
  },
  {
   "cell_type": "code",
   "execution_count": 35,
   "id": "5300e4d7",
   "metadata": {},
   "outputs": [
    {
     "name": "stdout",
     "output_type": "stream",
     "text": [
      "\u001b[1mClassification report : \u001b[0m\n",
      "               precision    recall  f1-score   support\n",
      "\n",
      "           0       0.94      0.99      0.97     39037\n",
      "           1       0.94      0.94      0.94      2203\n",
      "           2       0.93      0.87      0.90      2428\n",
      "           3       0.96      0.90      0.93      2206\n",
      "           4       0.98      0.92      0.95      2160\n",
      "           5       0.98      0.95      0.97      1972\n",
      "           6       0.98      0.94      0.96      2193\n",
      "           7       0.96      0.92      0.94      2070\n",
      "           8       0.97      0.93      0.95      2293\n",
      "           9       0.95      0.89      0.92      1921\n",
      "          10       0.92      0.79      0.85      2093\n",
      "          11       0.97      0.92      0.94      2006\n",
      "          12       0.98      0.91      0.94      2165\n",
      "          13       0.99      0.95      0.97      1405\n",
      "          14       0.96      0.94      0.95      1393\n",
      "          15       0.94      0.84      0.89      1663\n",
      "          16       0.99      0.95      0.97      1693\n",
      "          17       0.95      0.91      0.93      1703\n",
      "          18       0.98      0.96      0.97       861\n",
      "          19       0.99      0.91      0.95       833\n",
      "          20       1.00      0.99      0.99       831\n",
      "          21       0.99      0.90      0.94       677\n",
      "          22       1.00      0.95      0.97       751\n",
      "          23       1.00      0.99      0.99       845\n",
      "\n",
      "    accuracy                           0.95     77402\n",
      "   macro avg       0.97      0.92      0.95     77402\n",
      "weighted avg       0.95      0.95      0.95     77402\n",
      "\n",
      "\u001b[1mConfusion Matrix : \u001b[0m\n"
     ]
    },
    {
     "data": {
      "image/png": "[encoded data removed]",
      "text/plain": [
       "<Figure size 432x288 with 2 Axes>"
      ]
     },
     "metadata": {
      "needs_background": "light"
     },
     "output_type": "display_data"
    }
   ],
   "source": [
    "print('\\033[1m' +'Classification report : '+ '\\033[0m\\n', classification_report(y_test, y_pred5))\n",
    "\n",
    "cm = confusion_matrix(y_pred5, y_test)\n",
    "print('\\033[1m' +'Confusion Matrix : '+ '\\033[0m')\n",
    "sns.heatmap(cm, cmap = 'OrRd',annot = True, fmt='d')\n",
    "plt.show()"
   ]
  },
  {
   "cell_type": "markdown",
   "id": "1e516628",
   "metadata": {},
   "source": [
    "# Evaluation -- ExtraTreesClassifier"
   ]
  },
  {
   "cell_type": "code",
   "execution_count": 36,
   "id": "dfbde802",
   "metadata": {},
   "outputs": [
    {
     "name": "stdout",
     "output_type": "stream",
     "text": [
      "MAE: 0.3727293868375494\n",
      "MSE: 4.201700214464743\n",
      "RMSE: 2.049804921075355\n"
     ]
    }
   ],
   "source": [
    "from sklearn import metrics\n",
    "\n",
    "print('MAE:', metrics.mean_absolute_error(y_test,y_pred5))\n",
    "print('MSE:', metrics.mean_squared_error(y_test, y_pred5))\n",
    "print('RMSE:', np.sqrt(metrics.mean_squared_error(y_test, y_pred5)))"
   ]
  },
  {
   "cell_type": "code",
   "execution_count": 37,
   "id": "a66f67fb",
   "metadata": {},
   "outputs": [
    {
     "name": "stdout",
     "output_type": "stream",
     "text": [
      "Precision Score :  0.95375869840846\n",
      "Recall Score :  0.9533087000335909\n",
      "f1_score :  0.9527467737075379\n"
     ]
    }
   ],
   "source": [
    "from sklearn.metrics import precision_score\n",
    "print(\"Precision Score : \",precision_score(y_test, y_pred5, average='weighted'))\n",
    "\n",
    "\n",
    "from sklearn.metrics import recall_score\n",
    "print(\"Recall Score : \",recall_score(y_test, y_pred5,average='weighted'))\n",
    "\n",
    "\n",
    "from sklearn.metrics import f1_score\n",
    "print(\"f1_score : \",f1_score(y_test, y_pred5,average='weighted'))"
   ]
  },
  {
   "cell_type": "markdown",
   "id": "5dc7f95e",
   "metadata": {},
   "source": [
    "# Random Forest"
   ]
  },
  {
   "cell_type": "code",
   "execution_count": 38,
   "id": "763a6ba8",
   "metadata": {},
   "outputs": [
    {
     "data": {
      "text/plain": [
       "RandomForestClassifier()"
      ]
     },
     "execution_count": 38,
     "metadata": {},
     "output_type": "execute_result"
    }
   ],
   "source": [
    "from sklearn.ensemble import RandomForestClassifier\n",
    "RandomForestClassifier = RandomForestClassifier()\n",
    "RandomForestClassifier.fit(X_train, y_train)"
   ]
  },
  {
   "cell_type": "code",
   "execution_count": 39,
   "id": "24817338",
   "metadata": {},
   "outputs": [],
   "source": [
    "y_pred3 = RandomForestClassifier.predict(X_test)"
   ]
  },
  {
   "cell_type": "code",
   "execution_count": 40,
   "id": "37089ca4",
   "metadata": {},
   "outputs": [
    {
     "name": "stdout",
     "output_type": "stream",
     "text": [
      "Accuracy is: 94.36836257461047\n"
     ]
    }
   ],
   "source": [
    "from sklearn.metrics import accuracy_score\n",
    "accuracy = {accuracy_score(y_test, y_pred3)}\n",
    "print(f\"Accuracy is: {accuracy_score(y_test, y_pred3)* 100}\")"
   ]
  },
  {
   "cell_type": "code",
   "execution_count": 41,
   "id": "5358b685",
   "metadata": {},
   "outputs": [
    {
     "name": "stdout",
     "output_type": "stream",
     "text": [
      "\u001b[1mClassification report : \u001b[0m\n",
      "               precision    recall  f1-score   support\n",
      "\n",
      "           0       0.94      0.99      0.96     39037\n",
      "           1       0.93      0.91      0.92      2203\n",
      "           2       0.90      0.85      0.88      2428\n",
      "           3       0.94      0.87      0.91      2206\n",
      "           4       0.97      0.90      0.93      2160\n",
      "           5       0.98      0.94      0.96      1972\n",
      "           6       0.97      0.92      0.94      2193\n",
      "           7       0.94      0.89      0.92      2070\n",
      "           8       0.96      0.91      0.93      2293\n",
      "           9       0.92      0.87      0.90      1921\n",
      "          10       0.92      0.77      0.84      2093\n",
      "          11       0.95      0.90      0.93      2006\n",
      "          12       0.96      0.89      0.92      2165\n",
      "          13       0.99      0.93      0.96      1405\n",
      "          14       0.94      0.93      0.93      1393\n",
      "          15       0.93      0.83      0.87      1663\n",
      "          16       0.98      0.93      0.96      1693\n",
      "          17       0.93      0.90      0.92      1703\n",
      "          18       0.97      0.95      0.96       861\n",
      "          19       0.98      0.91      0.95       833\n",
      "          20       0.99      0.98      0.99       831\n",
      "          21       0.97      0.90      0.93       677\n",
      "          22       1.00      0.92      0.96       751\n",
      "          23       0.99      0.98      0.98       845\n",
      "\n",
      "    accuracy                           0.94     77402\n",
      "   macro avg       0.96      0.91      0.93     77402\n",
      "weighted avg       0.94      0.94      0.94     77402\n",
      "\n",
      "\u001b[1mConfusion Matrix : \u001b[0m\n"
     ]
    },
    {
     "data": {
      "image/png": "[encoded data removed]",
      "text/plain": [
       "<Figure size 432x288 with 2 Axes>"
      ]
     },
     "metadata": {
      "needs_background": "light"
     },
     "output_type": "display_data"
    }
   ],
   "source": [
    "print('\\033[1m' +'Classification report : '+ '\\033[0m\\n', classification_report(y_test, y_pred3))\n",
    "\n",
    "cm = confusion_matrix(y_pred3, y_test)\n",
    "print('\\033[1m' +'Confusion Matrix : '+ '\\033[0m')\n",
    "sns.heatmap(cm, cmap = 'OrRd',annot = True, fmt='d')\n",
    "plt.show()"
   ]
  },
  {
   "cell_type": "markdown",
   "id": "75f7fe8b",
   "metadata": {},
   "source": [
    "# Evaluation -- Random Forest"
   ]
  },
  {
   "cell_type": "code",
   "execution_count": 42,
   "id": "29a1cece",
   "metadata": {},
   "outputs": [
    {
     "name": "stdout",
     "output_type": "stream",
     "text": [
      "MAE: 0.43656494664220563\n",
      "MSE: 4.876889486059792\n",
      "RMSE: 2.208368059463773\n"
     ]
    }
   ],
   "source": [
    "from sklearn import metrics\n",
    "\n",
    "print('MAE:', metrics.mean_absolute_error(y_test,y_pred3))\n",
    "print('MSE:', metrics.mean_squared_error(y_test, y_pred3))\n",
    "print('RMSE:', np.sqrt(metrics.mean_squared_error(y_test, y_pred3)))"
   ]
  },
  {
   "cell_type": "code",
   "execution_count": 43,
   "id": "ebada233",
   "metadata": {},
   "outputs": [
    {
     "name": "stdout",
     "output_type": "stream",
     "text": [
      "Precision Score :  0.9439732784646828\n",
      "Recall Score :  0.9436836257461048\n",
      "f1_score :  0.9428921252319865\n"
     ]
    }
   ],
   "source": [
    "from sklearn.metrics import precision_score\n",
    "print(\"Precision Score : \",precision_score(y_test, y_pred3, average='weighted'))\n",
    "\n",
    "\n",
    "from sklearn.metrics import recall_score\n",
    "print(\"Recall Score : \",recall_score(y_test, y_pred3,average='weighted'))\n",
    "\n",
    "\n",
    "from sklearn.metrics import f1_score\n",
    "print(\"f1_score : \",f1_score(y_test, y_pred3,average='weighted'))"
   ]
  },
  {
   "cell_type": "markdown",
   "id": "c3cac0b4",
   "metadata": {},
   "source": [
    "# XGBoost"
   ]
  },
  {
   "cell_type": "code",
   "execution_count": 44,
   "id": "d28fa486",
   "metadata": {},
   "outputs": [
    {
     "name": "stderr",
     "output_type": "stream",
     "text": [
      "E:\\MachineLearning\\envs\\gpu\\lib\\site-packages\\xgboost\\compat.py:36: FutureWarning: pandas.Int64Index is deprecated and will be removed from pandas in a future version. Use pandas.Index with the appropriate dtype instead.\n",
      "  from pandas import MultiIndex, Int64Index\n",
      "E:\\MachineLearning\\envs\\gpu\\lib\\site-packages\\xgboost\\sklearn.py:1224: UserWarning: The use of label encoder in XGBClassifier is deprecated and will be removed in a future release. To remove this warning, do the following: 1) Pass option use_label_encoder=False when constructing XGBClassifier object; and 2) Encode your labels (y) as integers starting with 0, i.e. 0, 1, 2, ..., [num_class - 1].\n",
      "  warnings.warn(label_encoder_deprecation_msg, UserWarning)\n"
     ]
    },
    {
     "name": "stdout",
     "output_type": "stream",
     "text": [
      "[11:49:02] WARNING: C:/Users/Administrator/workspace/xgboost-win64_release_1.5.1/src/learner.cc:1115: Starting in XGBoost 1.3.0, the default evaluation metric used with the objective 'multi:softprob' was changed from 'merror' to 'mlogloss'. Explicitly set eval_metric if you'd like to restore the old behavior.\n"
     ]
    },
    {
     "data": {
      "text/plain": [
       "XGBClassifier(base_score=0.5, booster='gbtree', colsample_bylevel=1,\n",
       "              colsample_bynode=1, colsample_bytree=1, enable_categorical=False,\n",
       "              gamma=0, gpu_id=-1, importance_type=None,\n",
       "              interaction_constraints='', learning_rate=0.300000012,\n",
       "              max_delta_step=0, max_depth=6, min_child_weight=1, missing=nan,\n",
       "              monotone_constraints='()', n_estimators=100, n_jobs=12,\n",
       "              num_parallel_tree=1, objective='multi:softprob', predictor='auto',\n",
       "              random_state=0, reg_alpha=0, reg_lambda=1, scale_pos_weight=None,\n",
       "              subsample=1, tree_method='exact', validate_parameters=1,\n",
       "              verbosity=None)"
      ]
     },
     "execution_count": 44,
     "metadata": {},
     "output_type": "execute_result"
    }
   ],
   "source": [
    "from xgboost import XGBClassifier\n",
    "xgb = XGBClassifier()\n",
    "xgb.fit(X_train, y_train)"
   ]
  },
  {
   "cell_type": "code",
   "execution_count": 45,
   "id": "7b89e617",
   "metadata": {},
   "outputs": [],
   "source": [
    "y_pred4 = xgb.predict(X_test)"
   ]
  },
  {
   "cell_type": "code",
   "execution_count": 46,
   "id": "336cd24a",
   "metadata": {},
   "outputs": [
    {
     "name": "stdout",
     "output_type": "stream",
     "text": [
      "Accuracy is: 89.00028423038164\n"
     ]
    }
   ],
   "source": [
    "from sklearn.metrics import accuracy_score\n",
    "accuracy = {accuracy_score(y_test, y_pred4)}\n",
    "print(f\"Accuracy is: {accuracy_score(y_test, y_pred4)* 100}\")"
   ]
  },
  {
   "cell_type": "code",
   "execution_count": 47,
   "id": "2092f3be",
   "metadata": {},
   "outputs": [
    {
     "name": "stdout",
     "output_type": "stream",
     "text": [
      "\u001b[1mClassification report : \u001b[0m\n",
      "               precision    recall  f1-score   support\n",
      "\n",
      "           0       0.91      0.98      0.94     39037\n",
      "           1       0.81      0.79      0.80      2203\n",
      "           2       0.80      0.74      0.77      2428\n",
      "           3       0.85      0.77      0.81      2206\n",
      "           4       0.90      0.79      0.84      2160\n",
      "           5       0.88      0.84      0.86      1972\n",
      "           6       0.90      0.83      0.86      2193\n",
      "           7       0.86      0.81      0.83      2070\n",
      "           8       0.85      0.79      0.82      2293\n",
      "           9       0.82      0.75      0.78      1921\n",
      "          10       0.83      0.62      0.71      2093\n",
      "          11       0.85      0.80      0.82      2006\n",
      "          12       0.87      0.77      0.82      2165\n",
      "          13       0.93      0.83      0.88      1405\n",
      "          14       0.85      0.87      0.86      1393\n",
      "          15       0.83      0.72      0.77      1663\n",
      "          16       0.93      0.86      0.89      1693\n",
      "          17       0.84      0.77      0.81      1703\n",
      "          18       0.94      0.89      0.91       861\n",
      "          19       0.94      0.83      0.88       833\n",
      "          20       0.98      0.95      0.96       831\n",
      "          21       0.89      0.79      0.84       677\n",
      "          22       0.97      0.89      0.93       751\n",
      "          23       0.98      0.96      0.97       845\n",
      "\n",
      "    accuracy                           0.89     77402\n",
      "   macro avg       0.88      0.82      0.85     77402\n",
      "weighted avg       0.89      0.89      0.89     77402\n",
      "\n",
      "\u001b[1mConfusion Matrix : \u001b[0m\n"
     ]
    },
    {
     "data": {
      "image/png": "[encoded data removed]",
      "text/plain": [
       "<Figure size 432x288 with 2 Axes>"
      ]
     },
     "metadata": {
      "needs_background": "light"
     },
     "output_type": "display_data"
    }
   ],
   "source": [
    "print('\\033[1m' +'Classification report : '+ '\\033[0m\\n', classification_report(y_test, y_pred4))\n",
    "\n",
    "cm = confusion_matrix(y_pred4, y_test)\n",
    "print('\\033[1m' +'Confusion Matrix : '+ '\\033[0m')\n",
    "sns.heatmap(cm, cmap = 'OrRd',annot = True, fmt='d')\n",
    "plt.show()"
   ]
  },
  {
   "cell_type": "markdown",
   "id": "4c8e2e10",
   "metadata": {},
   "source": [
    "# Evaluation -- XGBoost"
   ]
  },
  {
   "cell_type": "code",
   "execution_count": 48,
   "id": "5eef5c67",
   "metadata": {},
   "outputs": [
    {
     "name": "stdout",
     "output_type": "stream",
     "text": [
      "MAE: 0.8188418903904292\n",
      "MSE: 8.929562543603524\n",
      "RMSE: 2.9882373639996413\n"
     ]
    }
   ],
   "source": [
    "from sklearn import metrics\n",
    "\n",
    "print('MAE:', metrics.mean_absolute_error(y_test,y_pred4))\n",
    "print('MSE:', metrics.mean_squared_error(y_test, y_pred4))\n",
    "print('RMSE:', np.sqrt(metrics.mean_squared_error(y_test, y_pred4)))"
   ]
  },
  {
   "cell_type": "code",
   "execution_count": 49,
   "id": "22aae28f",
   "metadata": {},
   "outputs": [
    {
     "name": "stdout",
     "output_type": "stream",
     "text": [
      "Precision Score :  0.8882861864097616\n",
      "Recall Score :  0.8900028423038164\n",
      "f1_score :  0.887275772934463\n"
     ]
    }
   ],
   "source": [
    "from sklearn.metrics import precision_score\n",
    "print(\"Precision Score : \",precision_score(y_test, y_pred4, average='weighted'))\n",
    "\n",
    "\n",
    "from sklearn.metrics import recall_score\n",
    "print(\"Recall Score : \",recall_score(y_test, y_pred4,average='weighted'))\n",
    "\n",
    "\n",
    "from sklearn.metrics import f1_score\n",
    "print(\"f1_score : \",f1_score(y_test, y_pred4,average='weighted'))"
   ]
  },
  {
   "cell_type": "code",
   "execution_count": null,
   "id": "9e052c75",
   "metadata": {},
   "outputs": [],
   "source": []
  },
  {
   "cell_type": "code",
   "execution_count": null,
   "id": "b3f42aaa",
   "metadata": {},
   "outputs": [],
   "source": []
  }
 ],
 "metadata": {
  "kernelspec": {
   "display_name": "Python 3 (ipykernel)",
   "language": "python",
   "name": "python3"
  },
  "language_info": {
   "codemirror_mode": {
    "name": "ipython",
    "version": 3
   },
   "file_extension": ".py",
   "mimetype": "text/x-python",
   "name": "python",
   "nbconvert_exporter": "python",
   "pygments_lexer": "ipython3",
   "version": "3.8.12"
  }
 },
 "nbformat": 4,
 "nbformat_minor": 5
}
