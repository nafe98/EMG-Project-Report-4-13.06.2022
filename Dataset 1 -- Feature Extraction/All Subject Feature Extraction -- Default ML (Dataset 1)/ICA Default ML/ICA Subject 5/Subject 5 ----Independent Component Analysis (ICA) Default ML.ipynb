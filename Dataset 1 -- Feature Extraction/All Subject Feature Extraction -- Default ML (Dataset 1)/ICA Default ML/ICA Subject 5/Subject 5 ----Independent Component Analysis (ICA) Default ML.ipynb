{
 "cells": [
  {
   "cell_type": "markdown",
   "id": "f9e9d302",
   "metadata": {},
   "source": [
    "# Importing Libraries"
   ]
  },
  {
   "cell_type": "code",
   "execution_count": 1,
   "id": "8981c1e9",
   "metadata": {},
   "outputs": [],
   "source": [
    "import numpy as np\n",
    "import pandas as pd\n",
    "import matplotlib.pyplot as plt\n",
    "import seaborn as sns\n",
    "from sklearn.model_selection import train_test_split\n",
    "from sklearn.metrics import confusion_matrix, f1_score, accuracy_score, classification_report"
   ]
  },
  {
   "cell_type": "markdown",
   "id": "8bfa8885",
   "metadata": {},
   "source": [
    "# Exploratory Data Analysis"
   ]
  },
  {
   "cell_type": "code",
   "execution_count": 2,
   "id": "ff1116c8",
   "metadata": {},
   "outputs": [
    {
     "data": {
      "text/html": [
       "<div>\n",
       "<style scoped>\n",
       "    .dataframe tbody tr th:only-of-type {\n",
       "        vertical-align: middle;\n",
       "    }\n",
       "\n",
       "    .dataframe tbody tr th {\n",
       "        vertical-align: top;\n",
       "    }\n",
       "\n",
       "    .dataframe thead th {\n",
       "        text-align: right;\n",
       "    }\n",
       "</style>\n",
       "<table border=\"1\" class=\"dataframe\">\n",
       "  <thead>\n",
       "    <tr style=\"text-align: right;\">\n",
       "      <th></th>\n",
       "      <th>Emg1</th>\n",
       "      <th>Emg2</th>\n",
       "      <th>Emg3</th>\n",
       "      <th>Emg4</th>\n",
       "      <th>Emg5</th>\n",
       "      <th>Emg6</th>\n",
       "      <th>Emg7</th>\n",
       "      <th>Emg8</th>\n",
       "      <th>Emg9</th>\n",
       "      <th>Emg10</th>\n",
       "      <th>repetition</th>\n",
       "      <th>rerepetition</th>\n",
       "      <th>stimulus</th>\n",
       "      <th>restimulus</th>\n",
       "    </tr>\n",
       "  </thead>\n",
       "  <tbody>\n",
       "    <tr>\n",
       "      <th>245552</th>\n",
       "      <td>0.0049</td>\n",
       "      <td>0.1318</td>\n",
       "      <td>0.0024</td>\n",
       "      <td>0.0024</td>\n",
       "      <td>0.0024</td>\n",
       "      <td>0.0024</td>\n",
       "      <td>0.2295</td>\n",
       "      <td>0.5322</td>\n",
       "      <td>0.0122</td>\n",
       "      <td>0.2612</td>\n",
       "      <td>0</td>\n",
       "      <td>0</td>\n",
       "      <td>0</td>\n",
       "      <td>0</td>\n",
       "    </tr>\n",
       "    <tr>\n",
       "      <th>23284</th>\n",
       "      <td>0.0024</td>\n",
       "      <td>0.1953</td>\n",
       "      <td>0.1440</td>\n",
       "      <td>0.0879</td>\n",
       "      <td>0.0464</td>\n",
       "      <td>0.0049</td>\n",
       "      <td>0.0781</td>\n",
       "      <td>0.1855</td>\n",
       "      <td>0.7080</td>\n",
       "      <td>0.2441</td>\n",
       "      <td>8</td>\n",
       "      <td>8</td>\n",
       "      <td>3</td>\n",
       "      <td>3</td>\n",
       "    </tr>\n",
       "    <tr>\n",
       "      <th>174668</th>\n",
       "      <td>0.0024</td>\n",
       "      <td>0.4663</td>\n",
       "      <td>0.0024</td>\n",
       "      <td>0.0024</td>\n",
       "      <td>0.0024</td>\n",
       "      <td>0.0024</td>\n",
       "      <td>0.0586</td>\n",
       "      <td>0.1245</td>\n",
       "      <td>0.0562</td>\n",
       "      <td>0.1855</td>\n",
       "      <td>0</td>\n",
       "      <td>0</td>\n",
       "      <td>0</td>\n",
       "      <td>0</td>\n",
       "    </tr>\n",
       "    <tr>\n",
       "      <th>35097</th>\n",
       "      <td>0.0049</td>\n",
       "      <td>0.0293</td>\n",
       "      <td>0.0146</td>\n",
       "      <td>0.0830</td>\n",
       "      <td>0.0024</td>\n",
       "      <td>0.0220</td>\n",
       "      <td>0.2466</td>\n",
       "      <td>0.6934</td>\n",
       "      <td>0.1880</td>\n",
       "      <td>0.5542</td>\n",
       "      <td>2</td>\n",
       "      <td>2</td>\n",
       "      <td>5</td>\n",
       "      <td>5</td>\n",
       "    </tr>\n",
       "    <tr>\n",
       "      <th>24012</th>\n",
       "      <td>0.0024</td>\n",
       "      <td>0.2759</td>\n",
       "      <td>0.3296</td>\n",
       "      <td>0.0732</td>\n",
       "      <td>0.0098</td>\n",
       "      <td>0.0049</td>\n",
       "      <td>0.0977</td>\n",
       "      <td>0.2515</td>\n",
       "      <td>0.4370</td>\n",
       "      <td>0.2661</td>\n",
       "      <td>9</td>\n",
       "      <td>9</td>\n",
       "      <td>3</td>\n",
       "      <td>3</td>\n",
       "    </tr>\n",
       "  </tbody>\n",
       "</table>\n",
       "</div>"
      ],
      "text/plain": [
       "          Emg1    Emg2    Emg3    Emg4    Emg5    Emg6    Emg7    Emg8  \\\n",
       "245552  0.0049  0.1318  0.0024  0.0024  0.0024  0.0024  0.2295  0.5322   \n",
       "23284   0.0024  0.1953  0.1440  0.0879  0.0464  0.0049  0.0781  0.1855   \n",
       "174668  0.0024  0.4663  0.0024  0.0024  0.0024  0.0024  0.0586  0.1245   \n",
       "35097   0.0049  0.0293  0.0146  0.0830  0.0024  0.0220  0.2466  0.6934   \n",
       "24012   0.0024  0.2759  0.3296  0.0732  0.0098  0.0049  0.0977  0.2515   \n",
       "\n",
       "          Emg9   Emg10  repetition  rerepetition  stimulus  restimulus  \n",
       "245552  0.0122  0.2612           0             0         0           0  \n",
       "23284   0.7080  0.2441           8             8         3           3  \n",
       "174668  0.0562  0.1855           0             0         0           0  \n",
       "35097   0.1880  0.5542           2             2         5           5  \n",
       "24012   0.4370  0.2661           9             9         3           3  "
      ]
     },
     "execution_count": 2,
     "metadata": {},
     "output_type": "execute_result"
    }
   ],
   "source": [
    "raw_data = pd.read_excel('Dataset 1 Patient 5.xlsx')\n",
    "raw_data.sample(5)"
   ]
  },
  {
   "cell_type": "code",
   "execution_count": 3,
   "id": "abaa902c",
   "metadata": {},
   "outputs": [
    {
     "data": {
      "text/plain": [
       "(457542, 14)"
      ]
     },
     "execution_count": 3,
     "metadata": {},
     "output_type": "execute_result"
    }
   ],
   "source": [
    "raw_data.shape"
   ]
  },
  {
   "cell_type": "code",
   "execution_count": 4,
   "id": "4c5eb0e0",
   "metadata": {},
   "outputs": [
    {
     "data": {
      "text/plain": [
       "Index(['Emg1', 'Emg2', 'Emg3', 'Emg4', 'Emg5', 'Emg6', 'Emg7', 'Emg8', 'Emg9',\n",
       "       'Emg10', 'repetition', 'rerepetition', 'stimulus', 'restimulus'],\n",
       "      dtype='object')"
      ]
     },
     "execution_count": 4,
     "metadata": {},
     "output_type": "execute_result"
    }
   ],
   "source": [
    "raw_data.columns"
   ]
  },
  {
   "cell_type": "code",
   "execution_count": 5,
   "id": "4154dd68",
   "metadata": {},
   "outputs": [
    {
     "name": "stdout",
     "output_type": "stream",
     "text": [
      "<class 'pandas.core.frame.DataFrame'>\n",
      "RangeIndex: 457542 entries, 0 to 457541\n",
      "Data columns (total 14 columns):\n",
      " #   Column        Non-Null Count   Dtype  \n",
      "---  ------        --------------   -----  \n",
      " 0   Emg1          457542 non-null  float64\n",
      " 1   Emg2          457542 non-null  float64\n",
      " 2   Emg3          457542 non-null  float64\n",
      " 3   Emg4          457542 non-null  float64\n",
      " 4   Emg5          457542 non-null  float64\n",
      " 5   Emg6          457542 non-null  float64\n",
      " 6   Emg7          457542 non-null  float64\n",
      " 7   Emg8          457542 non-null  float64\n",
      " 8   Emg9          457542 non-null  float64\n",
      " 9   Emg10         457542 non-null  float64\n",
      " 10  repetition    457542 non-null  int64  \n",
      " 11  rerepetition  457542 non-null  int64  \n",
      " 12  stimulus      457542 non-null  int64  \n",
      " 13  restimulus    457542 non-null  int64  \n",
      "dtypes: float64(10), int64(4)\n",
      "memory usage: 48.9 MB\n"
     ]
    }
   ],
   "source": [
    "raw_data.info()"
   ]
  },
  {
   "cell_type": "code",
   "execution_count": 6,
   "id": "9ad2648b",
   "metadata": {},
   "outputs": [
    {
     "data": {
      "text/html": [
       "<div>\n",
       "<style scoped>\n",
       "    .dataframe tbody tr th:only-of-type {\n",
       "        vertical-align: middle;\n",
       "    }\n",
       "\n",
       "    .dataframe tbody tr th {\n",
       "        vertical-align: top;\n",
       "    }\n",
       "\n",
       "    .dataframe thead th {\n",
       "        text-align: right;\n",
       "    }\n",
       "</style>\n",
       "<table border=\"1\" class=\"dataframe\">\n",
       "  <thead>\n",
       "    <tr style=\"text-align: right;\">\n",
       "      <th></th>\n",
       "      <th>Emg1</th>\n",
       "      <th>Emg2</th>\n",
       "      <th>Emg3</th>\n",
       "      <th>Emg4</th>\n",
       "      <th>Emg5</th>\n",
       "      <th>Emg6</th>\n",
       "      <th>Emg7</th>\n",
       "      <th>Emg8</th>\n",
       "      <th>Emg9</th>\n",
       "      <th>Emg10</th>\n",
       "      <th>repetition</th>\n",
       "      <th>rerepetition</th>\n",
       "      <th>stimulus</th>\n",
       "      <th>restimulus</th>\n",
       "    </tr>\n",
       "  </thead>\n",
       "  <tbody>\n",
       "    <tr>\n",
       "      <th>count</th>\n",
       "      <td>457542.000000</td>\n",
       "      <td>457542.000000</td>\n",
       "      <td>457542.000000</td>\n",
       "      <td>457542.000000</td>\n",
       "      <td>457542.000000</td>\n",
       "      <td>457542.000000</td>\n",
       "      <td>457542.000000</td>\n",
       "      <td>457542.000000</td>\n",
       "      <td>457542.000000</td>\n",
       "      <td>457542.000000</td>\n",
       "      <td>457542.000000</td>\n",
       "      <td>457542.000000</td>\n",
       "      <td>457542.000000</td>\n",
       "      <td>457542.000000</td>\n",
       "    </tr>\n",
       "    <tr>\n",
       "      <th>mean</th>\n",
       "      <td>0.003303</td>\n",
       "      <td>0.278760</td>\n",
       "      <td>0.177623</td>\n",
       "      <td>0.155209</td>\n",
       "      <td>0.042417</td>\n",
       "      <td>0.048302</td>\n",
       "      <td>0.324129</td>\n",
       "      <td>0.496742</td>\n",
       "      <td>0.163677</td>\n",
       "      <td>0.330758</td>\n",
       "      <td>3.221488</td>\n",
       "      <td>2.608939</td>\n",
       "      <td>5.708877</td>\n",
       "      <td>4.624408</td>\n",
       "    </tr>\n",
       "    <tr>\n",
       "      <th>std</th>\n",
       "      <td>0.006182</td>\n",
       "      <td>0.430364</td>\n",
       "      <td>0.444744</td>\n",
       "      <td>0.347002</td>\n",
       "      <td>0.092262</td>\n",
       "      <td>0.096046</td>\n",
       "      <td>0.482787</td>\n",
       "      <td>0.504943</td>\n",
       "      <td>0.181937</td>\n",
       "      <td>0.293560</td>\n",
       "      <td>3.489071</td>\n",
       "      <td>3.373117</td>\n",
       "      <td>6.594250</td>\n",
       "      <td>6.359818</td>\n",
       "    </tr>\n",
       "    <tr>\n",
       "      <th>min</th>\n",
       "      <td>0.000000</td>\n",
       "      <td>0.000000</td>\n",
       "      <td>0.002400</td>\n",
       "      <td>0.002400</td>\n",
       "      <td>0.002400</td>\n",
       "      <td>0.000000</td>\n",
       "      <td>0.002400</td>\n",
       "      <td>0.002400</td>\n",
       "      <td>0.000000</td>\n",
       "      <td>0.002400</td>\n",
       "      <td>0.000000</td>\n",
       "      <td>0.000000</td>\n",
       "      <td>0.000000</td>\n",
       "      <td>0.000000</td>\n",
       "    </tr>\n",
       "    <tr>\n",
       "      <th>25%</th>\n",
       "      <td>0.002400</td>\n",
       "      <td>0.012200</td>\n",
       "      <td>0.002400</td>\n",
       "      <td>0.002400</td>\n",
       "      <td>0.002400</td>\n",
       "      <td>0.002400</td>\n",
       "      <td>0.097700</td>\n",
       "      <td>0.214800</td>\n",
       "      <td>0.034200</td>\n",
       "      <td>0.173300</td>\n",
       "      <td>0.000000</td>\n",
       "      <td>0.000000</td>\n",
       "      <td>0.000000</td>\n",
       "      <td>0.000000</td>\n",
       "    </tr>\n",
       "    <tr>\n",
       "      <th>50%</th>\n",
       "      <td>0.002400</td>\n",
       "      <td>0.144000</td>\n",
       "      <td>0.026900</td>\n",
       "      <td>0.007300</td>\n",
       "      <td>0.002400</td>\n",
       "      <td>0.009800</td>\n",
       "      <td>0.175800</td>\n",
       "      <td>0.341800</td>\n",
       "      <td>0.105000</td>\n",
       "      <td>0.249000</td>\n",
       "      <td>2.000000</td>\n",
       "      <td>0.000000</td>\n",
       "      <td>3.000000</td>\n",
       "      <td>0.000000</td>\n",
       "    </tr>\n",
       "    <tr>\n",
       "      <th>75%</th>\n",
       "      <td>0.002400</td>\n",
       "      <td>0.354000</td>\n",
       "      <td>0.161100</td>\n",
       "      <td>0.170900</td>\n",
       "      <td>0.039100</td>\n",
       "      <td>0.048800</td>\n",
       "      <td>0.329600</td>\n",
       "      <td>0.585900</td>\n",
       "      <td>0.236800</td>\n",
       "      <td>0.378400</td>\n",
       "      <td>6.000000</td>\n",
       "      <td>5.000000</td>\n",
       "      <td>10.000000</td>\n",
       "      <td>9.000000</td>\n",
       "    </tr>\n",
       "    <tr>\n",
       "      <th>max</th>\n",
       "      <td>0.593300</td>\n",
       "      <td>4.665500</td>\n",
       "      <td>4.660600</td>\n",
       "      <td>4.665500</td>\n",
       "      <td>1.369600</td>\n",
       "      <td>1.420900</td>\n",
       "      <td>4.665500</td>\n",
       "      <td>4.668000</td>\n",
       "      <td>2.927200</td>\n",
       "      <td>3.752400</td>\n",
       "      <td>10.000000</td>\n",
       "      <td>10.000000</td>\n",
       "      <td>23.000000</td>\n",
       "      <td>23.000000</td>\n",
       "    </tr>\n",
       "  </tbody>\n",
       "</table>\n",
       "</div>"
      ],
      "text/plain": [
       "                Emg1           Emg2           Emg3           Emg4  \\\n",
       "count  457542.000000  457542.000000  457542.000000  457542.000000   \n",
       "mean        0.003303       0.278760       0.177623       0.155209   \n",
       "std         0.006182       0.430364       0.444744       0.347002   \n",
       "min         0.000000       0.000000       0.002400       0.002400   \n",
       "25%         0.002400       0.012200       0.002400       0.002400   \n",
       "50%         0.002400       0.144000       0.026900       0.007300   \n",
       "75%         0.002400       0.354000       0.161100       0.170900   \n",
       "max         0.593300       4.665500       4.660600       4.665500   \n",
       "\n",
       "                Emg5           Emg6           Emg7           Emg8  \\\n",
       "count  457542.000000  457542.000000  457542.000000  457542.000000   \n",
       "mean        0.042417       0.048302       0.324129       0.496742   \n",
       "std         0.092262       0.096046       0.482787       0.504943   \n",
       "min         0.002400       0.000000       0.002400       0.002400   \n",
       "25%         0.002400       0.002400       0.097700       0.214800   \n",
       "50%         0.002400       0.009800       0.175800       0.341800   \n",
       "75%         0.039100       0.048800       0.329600       0.585900   \n",
       "max         1.369600       1.420900       4.665500       4.668000   \n",
       "\n",
       "                Emg9          Emg10     repetition   rerepetition  \\\n",
       "count  457542.000000  457542.000000  457542.000000  457542.000000   \n",
       "mean        0.163677       0.330758       3.221488       2.608939   \n",
       "std         0.181937       0.293560       3.489071       3.373117   \n",
       "min         0.000000       0.002400       0.000000       0.000000   \n",
       "25%         0.034200       0.173300       0.000000       0.000000   \n",
       "50%         0.105000       0.249000       2.000000       0.000000   \n",
       "75%         0.236800       0.378400       6.000000       5.000000   \n",
       "max         2.927200       3.752400      10.000000      10.000000   \n",
       "\n",
       "            stimulus     restimulus  \n",
       "count  457542.000000  457542.000000  \n",
       "mean        5.708877       4.624408  \n",
       "std         6.594250       6.359818  \n",
       "min         0.000000       0.000000  \n",
       "25%         0.000000       0.000000  \n",
       "50%         3.000000       0.000000  \n",
       "75%        10.000000       9.000000  \n",
       "max        23.000000      23.000000  "
      ]
     },
     "execution_count": 6,
     "metadata": {},
     "output_type": "execute_result"
    }
   ],
   "source": [
    "raw_data.describe(include='all')"
   ]
  },
  {
   "cell_type": "code",
   "execution_count": 7,
   "id": "ccb02915",
   "metadata": {},
   "outputs": [
    {
     "name": "stdout",
     "output_type": "stream",
     "text": [
      "Unique Dependent values and their counts :\n",
      "0     189565\n",
      "8      15503\n",
      "7      15495\n",
      "12     15495\n",
      "2      15495\n",
      "4      15488\n",
      "5      15469\n",
      "6      15461\n",
      "9      15451\n",
      "11     15451\n",
      "10     15424\n",
      "3      15422\n",
      "1      15421\n",
      "13     10331\n",
      "14     10330\n",
      "17     10321\n",
      "15     10293\n",
      "16     10254\n",
      "19      5163\n",
      "21      5163\n",
      "18      5161\n",
      "22      5135\n",
      "20      5126\n",
      "23      5125\n",
      "Name: stimulus, dtype: int64\n"
     ]
    }
   ],
   "source": [
    "print(\"Unique Dependent values and their counts :\")\n",
    "print(raw_data[\"stimulus\"].value_counts())"
   ]
  },
  {
   "cell_type": "code",
   "execution_count": 8,
   "id": "4bfaf7c1",
   "metadata": {},
   "outputs": [
    {
     "data": {
      "text/plain": [
       "Text(0, 0.5, 'Frequency')"
      ]
     },
     "execution_count": 8,
     "metadata": {},
     "output_type": "execute_result"
    },
    {
     "data": {
      "image/png": "[encoded data removed]",
      "text/plain": [
       "<Figure size 432x288 with 1 Axes>"
      ]
     },
     "metadata": {
      "needs_background": "light"
     },
     "output_type": "display_data"
    }
   ],
   "source": [
    "count_classes = pd.value_counts(raw_data['stimulus'], sort = True)\n",
    "\n",
    "count_classes.plot(kind = 'bar', rot=0)\n",
    "\n",
    "plt.title(\"stimulus Class Distribution\")\n",
    "\n",
    "plt.xlabel(\"Class\")\n",
    "\n",
    "plt.ylabel(\"Frequency\")"
   ]
  },
  {
   "cell_type": "markdown",
   "id": "631d4bd5",
   "metadata": {},
   "source": [
    "# Data Cleaning and Exploratory Data Analysis with New Data"
   ]
  },
  {
   "cell_type": "code",
   "execution_count": 9,
   "id": "77a8fee4",
   "metadata": {},
   "outputs": [],
   "source": [
    "index_names = raw_data[ (raw_data['stimulus'] != raw_data['restimulus'])].index\n",
    "raw_data.drop(index_names, inplace = True)"
   ]
  },
  {
   "cell_type": "code",
   "execution_count": 10,
   "id": "e1ca9001",
   "metadata": {},
   "outputs": [],
   "source": [
    "index_names = raw_data[ (raw_data['repetition'] != raw_data['rerepetition'])].index\n",
    "raw_data.drop(index_names, inplace = True)"
   ]
  },
  {
   "cell_type": "code",
   "execution_count": 11,
   "id": "eb95b5d8",
   "metadata": {},
   "outputs": [
    {
     "data": {
      "text/html": [
       "<div>\n",
       "<style scoped>\n",
       "    .dataframe tbody tr th:only-of-type {\n",
       "        vertical-align: middle;\n",
       "    }\n",
       "\n",
       "    .dataframe tbody tr th {\n",
       "        vertical-align: top;\n",
       "    }\n",
       "\n",
       "    .dataframe thead th {\n",
       "        text-align: right;\n",
       "    }\n",
       "</style>\n",
       "<table border=\"1\" class=\"dataframe\">\n",
       "  <thead>\n",
       "    <tr style=\"text-align: right;\">\n",
       "      <th></th>\n",
       "      <th>Emg1</th>\n",
       "      <th>Emg2</th>\n",
       "      <th>Emg3</th>\n",
       "      <th>Emg4</th>\n",
       "      <th>Emg5</th>\n",
       "      <th>Emg6</th>\n",
       "      <th>Emg7</th>\n",
       "      <th>Emg8</th>\n",
       "      <th>Emg9</th>\n",
       "      <th>Emg10</th>\n",
       "      <th>repetition</th>\n",
       "      <th>rerepetition</th>\n",
       "      <th>stimulus</th>\n",
       "      <th>restimulus</th>\n",
       "    </tr>\n",
       "  </thead>\n",
       "  <tbody>\n",
       "    <tr>\n",
       "      <th>371044</th>\n",
       "      <td>0.0024</td>\n",
       "      <td>0.1514</td>\n",
       "      <td>0.0220</td>\n",
       "      <td>0.0073</td>\n",
       "      <td>0.0366</td>\n",
       "      <td>0.0854</td>\n",
       "      <td>0.4883</td>\n",
       "      <td>0.5713</td>\n",
       "      <td>0.0293</td>\n",
       "      <td>0.1758</td>\n",
       "      <td>0</td>\n",
       "      <td>0</td>\n",
       "      <td>0</td>\n",
       "      <td>0</td>\n",
       "    </tr>\n",
       "    <tr>\n",
       "      <th>175850</th>\n",
       "      <td>0.0024</td>\n",
       "      <td>0.0586</td>\n",
       "      <td>0.0024</td>\n",
       "      <td>0.0146</td>\n",
       "      <td>0.0024</td>\n",
       "      <td>0.0049</td>\n",
       "      <td>0.2100</td>\n",
       "      <td>0.2417</td>\n",
       "      <td>0.0903</td>\n",
       "      <td>0.2686</td>\n",
       "      <td>10</td>\n",
       "      <td>10</td>\n",
       "      <td>9</td>\n",
       "      <td>9</td>\n",
       "    </tr>\n",
       "    <tr>\n",
       "      <th>153042</th>\n",
       "      <td>0.0024</td>\n",
       "      <td>0.1807</td>\n",
       "      <td>0.0610</td>\n",
       "      <td>0.0024</td>\n",
       "      <td>0.0024</td>\n",
       "      <td>0.0024</td>\n",
       "      <td>0.1953</td>\n",
       "      <td>0.4663</td>\n",
       "      <td>0.0049</td>\n",
       "      <td>0.4419</td>\n",
       "      <td>0</td>\n",
       "      <td>0</td>\n",
       "      <td>0</td>\n",
       "      <td>0</td>\n",
       "    </tr>\n",
       "    <tr>\n",
       "      <th>232134</th>\n",
       "      <td>0.0024</td>\n",
       "      <td>0.1636</td>\n",
       "      <td>0.5518</td>\n",
       "      <td>2.1362</td>\n",
       "      <td>0.5615</td>\n",
       "      <td>0.2271</td>\n",
       "      <td>0.6421</td>\n",
       "      <td>0.8716</td>\n",
       "      <td>0.5078</td>\n",
       "      <td>0.3125</td>\n",
       "      <td>7</td>\n",
       "      <td>7</td>\n",
       "      <td>16</td>\n",
       "      <td>16</td>\n",
       "    </tr>\n",
       "    <tr>\n",
       "      <th>180975</th>\n",
       "      <td>0.0024</td>\n",
       "      <td>0.5640</td>\n",
       "      <td>0.1855</td>\n",
       "      <td>0.4077</td>\n",
       "      <td>0.0635</td>\n",
       "      <td>0.0366</td>\n",
       "      <td>0.3735</td>\n",
       "      <td>0.6958</td>\n",
       "      <td>0.1855</td>\n",
       "      <td>0.4102</td>\n",
       "      <td>6</td>\n",
       "      <td>6</td>\n",
       "      <td>10</td>\n",
       "      <td>10</td>\n",
       "    </tr>\n",
       "  </tbody>\n",
       "</table>\n",
       "</div>"
      ],
      "text/plain": [
       "          Emg1    Emg2    Emg3    Emg4    Emg5    Emg6    Emg7    Emg8  \\\n",
       "371044  0.0024  0.1514  0.0220  0.0073  0.0366  0.0854  0.4883  0.5713   \n",
       "175850  0.0024  0.0586  0.0024  0.0146  0.0024  0.0049  0.2100  0.2417   \n",
       "153042  0.0024  0.1807  0.0610  0.0024  0.0024  0.0024  0.1953  0.4663   \n",
       "232134  0.0024  0.1636  0.5518  2.1362  0.5615  0.2271  0.6421  0.8716   \n",
       "180975  0.0024  0.5640  0.1855  0.4077  0.0635  0.0366  0.3735  0.6958   \n",
       "\n",
       "          Emg9   Emg10  repetition  rerepetition  stimulus  restimulus  \n",
       "371044  0.0293  0.1758           0             0         0           0  \n",
       "175850  0.0903  0.2686          10            10         9           9  \n",
       "153042  0.0049  0.4419           0             0         0           0  \n",
       "232134  0.5078  0.3125           7             7        16          16  \n",
       "180975  0.1855  0.4102           6             6        10          10  "
      ]
     },
     "execution_count": 11,
     "metadata": {},
     "output_type": "execute_result"
    }
   ],
   "source": [
    "raw_data.sample(5)"
   ]
  },
  {
   "cell_type": "code",
   "execution_count": 12,
   "id": "f0aa807e",
   "metadata": {},
   "outputs": [
    {
     "data": {
      "text/plain": [
       "(381505, 14)"
      ]
     },
     "execution_count": 12,
     "metadata": {},
     "output_type": "execute_result"
    }
   ],
   "source": [
    "raw_data.shape"
   ]
  },
  {
   "cell_type": "code",
   "execution_count": 13,
   "id": "8dd504b5",
   "metadata": {},
   "outputs": [
    {
     "name": "stdout",
     "output_type": "stream",
     "text": [
      "<class 'pandas.core.frame.DataFrame'>\n",
      "Int64Index: 381505 entries, 0 to 457541\n",
      "Data columns (total 14 columns):\n",
      " #   Column        Non-Null Count   Dtype  \n",
      "---  ------        --------------   -----  \n",
      " 0   Emg1          381505 non-null  float64\n",
      " 1   Emg2          381505 non-null  float64\n",
      " 2   Emg3          381505 non-null  float64\n",
      " 3   Emg4          381505 non-null  float64\n",
      " 4   Emg5          381505 non-null  float64\n",
      " 5   Emg6          381505 non-null  float64\n",
      " 6   Emg7          381505 non-null  float64\n",
      " 7   Emg8          381505 non-null  float64\n",
      " 8   Emg9          381505 non-null  float64\n",
      " 9   Emg10         381505 non-null  float64\n",
      " 10  repetition    381505 non-null  int64  \n",
      " 11  rerepetition  381505 non-null  int64  \n",
      " 12  stimulus      381505 non-null  int64  \n",
      " 13  restimulus    381505 non-null  int64  \n",
      "dtypes: float64(10), int64(4)\n",
      "memory usage: 51.7 MB\n"
     ]
    }
   ],
   "source": [
    "raw_data.info()"
   ]
  },
  {
   "cell_type": "code",
   "execution_count": 14,
   "id": "8613e6c0",
   "metadata": {},
   "outputs": [
    {
     "name": "stdout",
     "output_type": "stream",
     "text": [
      "Emg1            False\n",
      "Emg2            False\n",
      "Emg3            False\n",
      "Emg4            False\n",
      "Emg5            False\n",
      "Emg6            False\n",
      "Emg7            False\n",
      "Emg8            False\n",
      "Emg9            False\n",
      "Emg10           False\n",
      "repetition      False\n",
      "rerepetition    False\n",
      "stimulus        False\n",
      "restimulus      False\n",
      "dtype: bool\n"
     ]
    }
   ],
   "source": [
    "print(raw_data.isnull().any())"
   ]
  },
  {
   "cell_type": "code",
   "execution_count": 15,
   "id": "e4f2afdb",
   "metadata": {},
   "outputs": [],
   "source": [
    "X = raw_data.iloc[:,0:10]\n",
    "y = raw_data.stimulus"
   ]
  },
  {
   "cell_type": "markdown",
   "id": "82fcb689",
   "metadata": {},
   "source": [
    "# Scalling Data"
   ]
  },
  {
   "cell_type": "code",
   "execution_count": 16,
   "id": "9805af20",
   "metadata": {},
   "outputs": [],
   "source": [
    "from sklearn.preprocessing import StandardScaler"
   ]
  },
  {
   "cell_type": "code",
   "execution_count": 17,
   "id": "f3de76a5",
   "metadata": {},
   "outputs": [],
   "source": [
    "X = StandardScaler().fit_transform(X)"
   ]
  },
  {
   "cell_type": "markdown",
   "id": "00f28aad",
   "metadata": {},
   "source": [
    "# Indipendent Component Analysis (ICA)"
   ]
  },
  {
   "cell_type": "markdown",
   "id": "61dfd812",
   "metadata": {},
   "source": [
    "https://www.nmr.mgh.harvard.edu/mne/0.14/manual/preprocessing/ica.html"
   ]
  },
  {
   "cell_type": "code",
   "execution_count": 18,
   "id": "0a603cf6",
   "metadata": {},
   "outputs": [],
   "source": [
    "from sklearn.decomposition import FastICA\n",
    "\n",
    "ica = FastICA(n_components=10)\n",
    "X_ica = ica.fit_transform(X)"
   ]
  },
  {
   "cell_type": "code",
   "execution_count": 19,
   "id": "bf27b986",
   "metadata": {},
   "outputs": [],
   "source": [
    "# Splitting data for training and testing\n",
    "X_train, X_test, y_train, y_test = train_test_split(X_ica, y, test_size = 0.2, random_state = 39)"
   ]
  },
  {
   "cell_type": "markdown",
   "id": "cf4fd4a4",
   "metadata": {},
   "source": [
    "# Machine Learning Models"
   ]
  },
  {
   "cell_type": "code",
   "execution_count": 20,
   "id": "ee87f20f",
   "metadata": {},
   "outputs": [
    {
     "data": {
      "text/plain": [
       "DecisionTreeClassifier()"
      ]
     },
     "execution_count": 20,
     "metadata": {},
     "output_type": "execute_result"
    }
   ],
   "source": [
    "from sklearn import tree\n",
    "tree = tree.DecisionTreeClassifier()\n",
    "tree.fit(X_train, y_train)"
   ]
  },
  {
   "cell_type": "code",
   "execution_count": 21,
   "id": "e6352c65",
   "metadata": {},
   "outputs": [],
   "source": [
    "y_pred1 = tree.predict(X_test)"
   ]
  },
  {
   "cell_type": "code",
   "execution_count": 22,
   "id": "a3327a44",
   "metadata": {},
   "outputs": [
    {
     "name": "stdout",
     "output_type": "stream",
     "text": [
      "Accuracy is: 79.16803187376313\n"
     ]
    }
   ],
   "source": [
    "from sklearn.metrics import accuracy_score\n",
    "accuracy = {accuracy_score(y_test, y_pred1)}\n",
    "print(f\"Accuracy is: {accuracy_score(y_test, y_pred1)* 100}\")"
   ]
  },
  {
   "cell_type": "code",
   "execution_count": 23,
   "id": "915a5654",
   "metadata": {},
   "outputs": [
    {
     "name": "stdout",
     "output_type": "stream",
     "text": [
      "\u001b[1mClassification report : \u001b[0m\n",
      "               precision    recall  f1-score   support\n",
      "\n",
      "           0       0.88      0.88      0.88     35294\n",
      "           1       0.72      0.75      0.73      2483\n",
      "           2       0.74      0.73      0.73      2337\n",
      "           3       0.74      0.73      0.73      2284\n",
      "           4       0.69      0.71      0.70      2142\n",
      "           5       0.67      0.70      0.68      2448\n",
      "           6       0.76      0.76      0.76      2195\n",
      "           7       0.70      0.72      0.71      2517\n",
      "           8       0.68      0.66      0.67      2756\n",
      "           9       0.67      0.67      0.67      2446\n",
      "          10       0.68      0.68      0.68      2278\n",
      "          11       0.74      0.72      0.73      2523\n",
      "          12       0.72      0.73      0.73      2434\n",
      "          13       0.72      0.71      0.71      1369\n",
      "          14       0.71      0.70      0.71      1324\n",
      "          15       0.65      0.68      0.67      1375\n",
      "          16       0.71      0.71      0.71      1520\n",
      "          17       0.66      0.65      0.65      1651\n",
      "          18       0.63      0.64      0.63       748\n",
      "          19       0.77      0.75      0.76       832\n",
      "          20       0.92      0.92      0.92       877\n",
      "          21       0.68      0.69      0.68       761\n",
      "          22       0.77      0.74      0.75       781\n",
      "          23       0.83      0.81      0.82       926\n",
      "\n",
      "    accuracy                           0.79     76301\n",
      "   macro avg       0.73      0.73      0.73     76301\n",
      "weighted avg       0.79      0.79      0.79     76301\n",
      "\n",
      "\u001b[1mConfusion Matrix : \u001b[0m\n"
     ]
    },
    {
     "data": {
      "image/png": "[encoded data removed]",
      "text/plain": [
       "<Figure size 432x288 with 2 Axes>"
      ]
     },
     "metadata": {
      "needs_background": "light"
     },
     "output_type": "display_data"
    }
   ],
   "source": [
    "print('\\033[1m' +'Classification report : '+ '\\033[0m\\n', classification_report(y_test, y_pred1))\n",
    "\n",
    "cm = confusion_matrix(y_pred1, y_test)\n",
    "print('\\033[1m' +'Confusion Matrix : '+ '\\033[0m')\n",
    "sns.heatmap(cm, cmap = 'OrRd',annot = True, fmt='d')\n",
    "plt.show()"
   ]
  },
  {
   "cell_type": "markdown",
   "id": "4ef9004a",
   "metadata": {},
   "source": [
    "# Evaluation -- Decision Tree"
   ]
  },
  {
   "cell_type": "code",
   "execution_count": 24,
   "id": "2c142e08",
   "metadata": {},
   "outputs": [
    {
     "name": "stdout",
     "output_type": "stream",
     "text": [
      "MAE: 1.6326522588170536\n",
      "MSE: 18.981179801051102\n",
      "RMSE: 4.35673958380015\n"
     ]
    }
   ],
   "source": [
    "from sklearn import metrics\n",
    "\n",
    "print('MAE:', metrics.mean_absolute_error(y_test,y_pred1))\n",
    "print('MSE:', metrics.mean_squared_error(y_test, y_pred1))\n",
    "print('RMSE:', np.sqrt(metrics.mean_squared_error(y_test, y_pred1)))"
   ]
  },
  {
   "cell_type": "code",
   "execution_count": 25,
   "id": "124d29fe",
   "metadata": {},
   "outputs": [
    {
     "name": "stdout",
     "output_type": "stream",
     "text": [
      "Precision Score :  0.7920090703203332\n",
      "Recall Score :  0.7916803187376312\n",
      "f1_score :  0.7917847958875357\n"
     ]
    }
   ],
   "source": [
    "from sklearn.metrics import precision_score\n",
    "print(\"Precision Score : \",precision_score(y_test, y_pred1, average='weighted'))\n",
    "\n",
    "\n",
    "from sklearn.metrics import recall_score\n",
    "print(\"Recall Score : \",recall_score(y_test, y_pred1,average='weighted'))\n",
    "\n",
    "\n",
    "from sklearn.metrics import f1_score\n",
    "print(\"f1_score : \",f1_score(y_test, y_pred1,average='weighted'))"
   ]
  },
  {
   "cell_type": "markdown",
   "id": "c1e0290e",
   "metadata": {},
   "source": [
    "# KNeighborsClassifier"
   ]
  },
  {
   "cell_type": "code",
   "execution_count": 26,
   "id": "d9cda07b",
   "metadata": {},
   "outputs": [
    {
     "data": {
      "text/plain": [
       "KNeighborsClassifier()"
      ]
     },
     "execution_count": 26,
     "metadata": {},
     "output_type": "execute_result"
    }
   ],
   "source": [
    "from sklearn.neighbors import KNeighborsClassifier\n",
    "KNeighborsClassifier = KNeighborsClassifier()\n",
    "KNeighborsClassifier.fit(X_train, y_train)"
   ]
  },
  {
   "cell_type": "code",
   "execution_count": 27,
   "id": "cb94d10c",
   "metadata": {},
   "outputs": [],
   "source": [
    "y_pred2 = KNeighborsClassifier.predict(X_test)"
   ]
  },
  {
   "cell_type": "code",
   "execution_count": 28,
   "id": "4f9d466c",
   "metadata": {},
   "outputs": [
    {
     "name": "stdout",
     "output_type": "stream",
     "text": [
      "Accuracy is: 90.40641669178648\n"
     ]
    }
   ],
   "source": [
    "from sklearn.metrics import accuracy_score\n",
    "accuracy = {accuracy_score(y_test, y_pred2)}\n",
    "print(f\"Accuracy is: {accuracy_score(y_test, y_pred2)* 100}\")"
   ]
  },
  {
   "cell_type": "code",
   "execution_count": 29,
   "id": "b28ae637",
   "metadata": {},
   "outputs": [
    {
     "name": "stdout",
     "output_type": "stream",
     "text": [
      "\u001b[1mClassification report : \u001b[0m\n",
      "               precision    recall  f1-score   support\n",
      "\n",
      "           0       0.90      0.97      0.94     35294\n",
      "           1       0.89      0.87      0.88      2483\n",
      "           2       0.91      0.88      0.89      2337\n",
      "           3       0.91      0.86      0.89      2284\n",
      "           4       0.91      0.84      0.87      2142\n",
      "           5       0.87      0.80      0.83      2448\n",
      "           6       0.93      0.88      0.91      2195\n",
      "           7       0.88      0.83      0.86      2517\n",
      "           8       0.90      0.81      0.85      2756\n",
      "           9       0.89      0.81      0.85      2446\n",
      "          10       0.91      0.83      0.87      2278\n",
      "          11       0.91      0.86      0.89      2523\n",
      "          12       0.93      0.88      0.90      2434\n",
      "          13       0.93      0.86      0.90      1369\n",
      "          14       0.90      0.84      0.87      1324\n",
      "          15       0.88      0.76      0.82      1375\n",
      "          16       0.93      0.88      0.90      1520\n",
      "          17       0.89      0.74      0.80      1651\n",
      "          18       0.91      0.79      0.85       748\n",
      "          19       0.89      0.83      0.86       832\n",
      "          20       0.98      0.97      0.97       877\n",
      "          21       0.94      0.84      0.89       761\n",
      "          22       0.96      0.84      0.90       781\n",
      "          23       0.97      0.92      0.94       926\n",
      "\n",
      "    accuracy                           0.90     76301\n",
      "   macro avg       0.91      0.85      0.88     76301\n",
      "weighted avg       0.90      0.90      0.90     76301\n",
      "\n",
      "\u001b[1mConfusion Matrix : \u001b[0m\n"
     ]
    },
    {
     "data": {
      "image/png": "[encoded data removed]",
      "text/plain": [
       "<Figure size 432x288 with 2 Axes>"
      ]
     },
     "metadata": {
      "needs_background": "light"
     },
     "output_type": "display_data"
    }
   ],
   "source": [
    "print('\\033[1m' +'Classification report : '+ '\\033[0m\\n', classification_report(y_test, y_pred2))\n",
    "\n",
    "cm = confusion_matrix(y_pred2, y_test)\n",
    "print('\\033[1m' +'Confusion Matrix : '+ '\\033[0m')\n",
    "sns.heatmap(cm, cmap = 'OrRd',annot = True, fmt='d')\n",
    "plt.show()"
   ]
  },
  {
   "cell_type": "markdown",
   "id": "094b157e",
   "metadata": {},
   "source": [
    "# Evaluation -- KNeighborsClassifier"
   ]
  },
  {
   "cell_type": "code",
   "execution_count": 30,
   "id": "75ecd7ea",
   "metadata": {},
   "outputs": [
    {
     "name": "stdout",
     "output_type": "stream",
     "text": [
      "MAE: 0.7862806516297296\n",
      "MSE: 9.412615824170063\n",
      "RMSE: 3.06799866756328\n"
     ]
    }
   ],
   "source": [
    "from sklearn import metrics\n",
    "\n",
    "print('MAE:', metrics.mean_absolute_error(y_test,y_pred2))\n",
    "print('MSE:', metrics.mean_squared_error(y_test, y_pred2))\n",
    "print('RMSE:', np.sqrt(metrics.mean_squared_error(y_test, y_pred2)))"
   ]
  },
  {
   "cell_type": "code",
   "execution_count": 31,
   "id": "1abb6ec2",
   "metadata": {},
   "outputs": [
    {
     "name": "stdout",
     "output_type": "stream",
     "text": [
      "Precision Score :  0.9042988282280435\n",
      "Recall Score :  0.9040641669178647\n",
      "f1_score :  0.9026590714660706\n"
     ]
    }
   ],
   "source": [
    "from sklearn.metrics import precision_score\n",
    "print(\"Precision Score : \",precision_score(y_test, y_pred2, average='weighted'))\n",
    "\n",
    "\n",
    "from sklearn.metrics import recall_score\n",
    "print(\"Recall Score : \",recall_score(y_test, y_pred2,average='weighted'))\n",
    "\n",
    "\n",
    "from sklearn.metrics import f1_score\n",
    "print(\"f1_score : \",f1_score(y_test, y_pred2,average='weighted'))"
   ]
  },
  {
   "cell_type": "markdown",
   "id": "8fdcff29",
   "metadata": {},
   "source": [
    "# ExtraTreesClassifier"
   ]
  },
  {
   "cell_type": "code",
   "execution_count": 32,
   "id": "a8bb8e91",
   "metadata": {},
   "outputs": [
    {
     "data": {
      "text/plain": [
       "ExtraTreesClassifier()"
      ]
     },
     "execution_count": 32,
     "metadata": {},
     "output_type": "execute_result"
    }
   ],
   "source": [
    "from sklearn.ensemble import ExtraTreesClassifier\n",
    "extratree = ExtraTreesClassifier()\n",
    "extratree.fit(X_train, y_train)"
   ]
  },
  {
   "cell_type": "code",
   "execution_count": 33,
   "id": "bf05f679",
   "metadata": {},
   "outputs": [],
   "source": [
    "y_pred5 = extratree.predict(X_test)"
   ]
  },
  {
   "cell_type": "code",
   "execution_count": 34,
   "id": "dc1d301e",
   "metadata": {},
   "outputs": [
    {
     "name": "stdout",
     "output_type": "stream",
     "text": [
      "Accuracy is: 92.3198909581788\n"
     ]
    }
   ],
   "source": [
    "from sklearn.metrics import accuracy_score\n",
    "accuracy = {accuracy_score(y_test, y_pred5)}\n",
    "print(f\"Accuracy is: {accuracy_score(y_test, y_pred5)* 100}\")"
   ]
  },
  {
   "cell_type": "code",
   "execution_count": 35,
   "id": "5300e4d7",
   "metadata": {},
   "outputs": [
    {
     "name": "stdout",
     "output_type": "stream",
     "text": [
      "\u001b[1mClassification report : \u001b[0m\n",
      "               precision    recall  f1-score   support\n",
      "\n",
      "           0       0.88      0.99      0.93     35294\n",
      "           1       0.97      0.86      0.91      2483\n",
      "           2       0.98      0.89      0.93      2337\n",
      "           3       0.98      0.87      0.92      2284\n",
      "           4       0.97      0.83      0.90      2142\n",
      "           5       0.96      0.81      0.88      2448\n",
      "           6       0.98      0.89      0.93      2195\n",
      "           7       0.95      0.84      0.89      2517\n",
      "           8       0.94      0.83      0.89      2756\n",
      "           9       0.97      0.84      0.90      2446\n",
      "          10       0.97      0.87      0.92      2278\n",
      "          11       0.97      0.90      0.93      2523\n",
      "          12       0.97      0.90      0.93      2434\n",
      "          13       0.98      0.89      0.94      1369\n",
      "          14       0.96      0.84      0.89      1324\n",
      "          15       0.96      0.75      0.84      1375\n",
      "          16       0.98      0.91      0.94      1520\n",
      "          17       0.97      0.75      0.84      1651\n",
      "          18       0.98      0.86      0.91       748\n",
      "          19       0.94      0.85      0.89       832\n",
      "          20       0.99      0.98      0.99       877\n",
      "          21       0.98      0.93      0.95       761\n",
      "          22       0.99      0.92      0.96       781\n",
      "          23       0.99      0.95      0.97       926\n",
      "\n",
      "    accuracy                           0.92     76301\n",
      "   macro avg       0.97      0.87      0.92     76301\n",
      "weighted avg       0.93      0.92      0.92     76301\n",
      "\n",
      "\u001b[1mConfusion Matrix : \u001b[0m\n"
     ]
    },
    {
     "data": {
      "image/png": "[encoded data removed]",
      "text/plain": [
       "<Figure size 432x288 with 2 Axes>"
      ]
     },
     "metadata": {
      "needs_background": "light"
     },
     "output_type": "display_data"
    }
   ],
   "source": [
    "print('\\033[1m' +'Classification report : '+ '\\033[0m\\n', classification_report(y_test, y_pred5))\n",
    "\n",
    "cm = confusion_matrix(y_pred5, y_test)\n",
    "print('\\033[1m' +'Confusion Matrix : '+ '\\033[0m')\n",
    "sns.heatmap(cm, cmap = 'OrRd',annot = True, fmt='d')\n",
    "plt.show()"
   ]
  },
  {
   "cell_type": "markdown",
   "id": "1e516628",
   "metadata": {},
   "source": [
    "# Evaluation -- ExtraTreesClassifier"
   ]
  },
  {
   "cell_type": "code",
   "execution_count": 36,
   "id": "dfbde802",
   "metadata": {},
   "outputs": [
    {
     "name": "stdout",
     "output_type": "stream",
     "text": [
      "MAE: 0.6722978728981271\n",
      "MSE: 8.236733463519482\n",
      "RMSE: 2.869970986529216\n"
     ]
    }
   ],
   "source": [
    "from sklearn import metrics\n",
    "\n",
    "print('MAE:', metrics.mean_absolute_error(y_test,y_pred5))\n",
    "print('MSE:', metrics.mean_squared_error(y_test, y_pred5))\n",
    "print('RMSE:', np.sqrt(metrics.mean_squared_error(y_test, y_pred5)))"
   ]
  },
  {
   "cell_type": "code",
   "execution_count": 37,
   "id": "a66f67fb",
   "metadata": {},
   "outputs": [
    {
     "name": "stdout",
     "output_type": "stream",
     "text": [
      "Precision Score :  0.9283524882117841\n",
      "Recall Score :  0.923198909581788\n",
      "f1_score :  0.9221789127921923\n"
     ]
    }
   ],
   "source": [
    "from sklearn.metrics import precision_score\n",
    "print(\"Precision Score : \",precision_score(y_test, y_pred5, average='weighted'))\n",
    "\n",
    "\n",
    "from sklearn.metrics import recall_score\n",
    "print(\"Recall Score : \",recall_score(y_test, y_pred5,average='weighted'))\n",
    "\n",
    "\n",
    "from sklearn.metrics import f1_score\n",
    "print(\"f1_score : \",f1_score(y_test, y_pred5,average='weighted'))"
   ]
  },
  {
   "cell_type": "markdown",
   "id": "5dc7f95e",
   "metadata": {},
   "source": [
    "# Random Forest"
   ]
  },
  {
   "cell_type": "code",
   "execution_count": 38,
   "id": "763a6ba8",
   "metadata": {},
   "outputs": [
    {
     "data": {
      "text/plain": [
       "RandomForestClassifier()"
      ]
     },
     "execution_count": 38,
     "metadata": {},
     "output_type": "execute_result"
    }
   ],
   "source": [
    "from sklearn.ensemble import RandomForestClassifier\n",
    "RandomForestClassifier = RandomForestClassifier()\n",
    "RandomForestClassifier.fit(X_train, y_train)"
   ]
  },
  {
   "cell_type": "code",
   "execution_count": 39,
   "id": "24817338",
   "metadata": {},
   "outputs": [],
   "source": [
    "y_pred3 = RandomForestClassifier.predict(X_test)"
   ]
  },
  {
   "cell_type": "code",
   "execution_count": 40,
   "id": "37089ca4",
   "metadata": {},
   "outputs": [
    {
     "name": "stdout",
     "output_type": "stream",
     "text": [
      "Accuracy is: 90.73406639493584\n"
     ]
    }
   ],
   "source": [
    "from sklearn.metrics import accuracy_score\n",
    "accuracy = {accuracy_score(y_test, y_pred3)}\n",
    "print(f\"Accuracy is: {accuracy_score(y_test, y_pred3)* 100}\")"
   ]
  },
  {
   "cell_type": "code",
   "execution_count": 41,
   "id": "5358b685",
   "metadata": {},
   "outputs": [
    {
     "name": "stdout",
     "output_type": "stream",
     "text": [
      "\u001b[1mClassification report : \u001b[0m\n",
      "               precision    recall  f1-score   support\n",
      "\n",
      "           0       0.87      0.99      0.93     35294\n",
      "           1       0.95      0.84      0.89      2483\n",
      "           2       0.95      0.87      0.91      2337\n",
      "           3       0.96      0.83      0.89      2284\n",
      "           4       0.96      0.80      0.87      2142\n",
      "           5       0.94      0.78      0.85      2448\n",
      "           6       0.97      0.87      0.91      2195\n",
      "           7       0.93      0.81      0.87      2517\n",
      "           8       0.92      0.81      0.86      2756\n",
      "           9       0.94      0.81      0.87      2446\n",
      "          10       0.95      0.83      0.89      2278\n",
      "          11       0.95      0.88      0.91      2523\n",
      "          12       0.95      0.87      0.91      2434\n",
      "          13       0.98      0.86      0.92      1369\n",
      "          14       0.93      0.81      0.86      1324\n",
      "          15       0.94      0.72      0.82      1375\n",
      "          16       0.96      0.89      0.93      1520\n",
      "          17       0.95      0.72      0.82      1651\n",
      "          18       0.96      0.83      0.89       748\n",
      "          19       0.93      0.82      0.87       832\n",
      "          20       0.98      0.98      0.98       877\n",
      "          21       0.95      0.89      0.92       761\n",
      "          22       0.99      0.89      0.93       781\n",
      "          23       0.98      0.94      0.96       926\n",
      "\n",
      "    accuracy                           0.91     76301\n",
      "   macro avg       0.95      0.85      0.89     76301\n",
      "weighted avg       0.91      0.91      0.91     76301\n",
      "\n",
      "\u001b[1mConfusion Matrix : \u001b[0m\n"
     ]
    },
    {
     "data": {
      "image/png": "[encoded data removed]",
      "text/plain": [
       "<Figure size 432x288 with 2 Axes>"
      ]
     },
     "metadata": {
      "needs_background": "light"
     },
     "output_type": "display_data"
    }
   ],
   "source": [
    "print('\\033[1m' +'Classification report : '+ '\\033[0m\\n', classification_report(y_test, y_pred3))\n",
    "\n",
    "cm = confusion_matrix(y_pred3, y_test)\n",
    "print('\\033[1m' +'Confusion Matrix : '+ '\\033[0m')\n",
    "sns.heatmap(cm, cmap = 'OrRd',annot = True, fmt='d')\n",
    "plt.show()"
   ]
  },
  {
   "cell_type": "markdown",
   "id": "75f7fe8b",
   "metadata": {},
   "source": [
    "# Evaluation -- Random Forest"
   ]
  },
  {
   "cell_type": "code",
   "execution_count": 42,
   "id": "29a1cece",
   "metadata": {},
   "outputs": [
    {
     "name": "stdout",
     "output_type": "stream",
     "text": [
      "MAE: 0.7890984390768142\n",
      "MSE: 9.54130352157901\n",
      "RMSE: 3.0889000504352695\n"
     ]
    }
   ],
   "source": [
    "from sklearn import metrics\n",
    "\n",
    "print('MAE:', metrics.mean_absolute_error(y_test,y_pred3))\n",
    "print('MSE:', metrics.mean_squared_error(y_test, y_pred3))\n",
    "print('RMSE:', np.sqrt(metrics.mean_squared_error(y_test, y_pred3)))"
   ]
  },
  {
   "cell_type": "code",
   "execution_count": 43,
   "id": "ebada233",
   "metadata": {},
   "outputs": [
    {
     "name": "stdout",
     "output_type": "stream",
     "text": [
      "Precision Score :  0.9122372180146124\n",
      "Recall Score :  0.9073406639493584\n",
      "f1_score :  0.9056873322064259\n"
     ]
    }
   ],
   "source": [
    "from sklearn.metrics import precision_score\n",
    "print(\"Precision Score : \",precision_score(y_test, y_pred3, average='weighted'))\n",
    "\n",
    "\n",
    "from sklearn.metrics import recall_score\n",
    "print(\"Recall Score : \",recall_score(y_test, y_pred3,average='weighted'))\n",
    "\n",
    "\n",
    "from sklearn.metrics import f1_score\n",
    "print(\"f1_score : \",f1_score(y_test, y_pred3,average='weighted'))"
   ]
  },
  {
   "cell_type": "markdown",
   "id": "c3cac0b4",
   "metadata": {},
   "source": [
    "# XGBoost"
   ]
  },
  {
   "cell_type": "code",
   "execution_count": 44,
   "id": "d28fa486",
   "metadata": {},
   "outputs": [
    {
     "name": "stderr",
     "output_type": "stream",
     "text": [
      "E:\\MachineLearning\\lib\\site-packages\\xgboost\\sklearn.py:1224: UserWarning: The use of label encoder in XGBClassifier is deprecated and will be removed in a future release. To remove this warning, do the following: 1) Pass option use_label_encoder=False when constructing XGBClassifier object; and 2) Encode your labels (y) as integers starting with 0, i.e. 0, 1, 2, ..., [num_class - 1].\n",
      "  warnings.warn(label_encoder_deprecation_msg, UserWarning)\n"
     ]
    },
    {
     "name": "stdout",
     "output_type": "stream",
     "text": [
      "[15:07:33] WARNING: D:\\bld\\xgboost-split_1645118015404\\work\\src\\learner.cc:1115: Starting in XGBoost 1.3.0, the default evaluation metric used with the objective 'multi:softprob' was changed from 'merror' to 'mlogloss'. Explicitly set eval_metric if you'd like to restore the old behavior.\n"
     ]
    },
    {
     "data": {
      "text/plain": [
       "XGBClassifier(base_score=0.5, booster='gbtree', colsample_bylevel=1,\n",
       "              colsample_bynode=1, colsample_bytree=1, enable_categorical=False,\n",
       "              gamma=0, gpu_id=-1, importance_type=None,\n",
       "              interaction_constraints='', learning_rate=0.300000012,\n",
       "              max_delta_step=0, max_depth=6, min_child_weight=1, missing=nan,\n",
       "              monotone_constraints='()', n_estimators=100, n_jobs=12,\n",
       "              num_parallel_tree=1, objective='multi:softprob', predictor='auto',\n",
       "              random_state=0, reg_alpha=0, reg_lambda=1, scale_pos_weight=None,\n",
       "              subsample=1, tree_method='exact', validate_parameters=1,\n",
       "              verbosity=None)"
      ]
     },
     "execution_count": 44,
     "metadata": {},
     "output_type": "execute_result"
    }
   ],
   "source": [
    "from xgboost import XGBClassifier\n",
    "xgb = XGBClassifier()\n",
    "xgb.fit(X_train, y_train)"
   ]
  },
  {
   "cell_type": "code",
   "execution_count": 45,
   "id": "7b89e617",
   "metadata": {},
   "outputs": [],
   "source": [
    "y_pred4 = xgb.predict(X_test)"
   ]
  },
  {
   "cell_type": "code",
   "execution_count": 46,
   "id": "336cd24a",
   "metadata": {},
   "outputs": [
    {
     "name": "stdout",
     "output_type": "stream",
     "text": [
      "Accuracy is: 82.2898782453703\n"
     ]
    }
   ],
   "source": [
    "from sklearn.metrics import accuracy_score\n",
    "accuracy = {accuracy_score(y_test, y_pred4)}\n",
    "print(f\"Accuracy is: {accuracy_score(y_test, y_pred4)* 100}\")"
   ]
  },
  {
   "cell_type": "code",
   "execution_count": 47,
   "id": "2092f3be",
   "metadata": {},
   "outputs": [
    {
     "name": "stdout",
     "output_type": "stream",
     "text": [
      "\u001b[1mClassification report : \u001b[0m\n",
      "               precision    recall  f1-score   support\n",
      "\n",
      "           0       0.82      0.96      0.89     35294\n",
      "           1       0.83      0.72      0.77      2483\n",
      "           2       0.84      0.72      0.78      2337\n",
      "           3       0.85      0.67      0.75      2284\n",
      "           4       0.84      0.65      0.73      2142\n",
      "           5       0.81      0.65      0.72      2448\n",
      "           6       0.88      0.75      0.81      2195\n",
      "           7       0.80      0.67      0.73      2517\n",
      "           8       0.72      0.65      0.68      2756\n",
      "           9       0.77      0.63      0.69      2446\n",
      "          10       0.80      0.66      0.73      2278\n",
      "          11       0.81      0.71      0.75      2523\n",
      "          12       0.81      0.72      0.76      2434\n",
      "          13       0.87      0.72      0.79      1369\n",
      "          14       0.82      0.69      0.75      1324\n",
      "          15       0.82      0.65      0.72      1375\n",
      "          16       0.85      0.76      0.81      1520\n",
      "          17       0.84      0.62      0.71      1651\n",
      "          18       0.81      0.64      0.72       748\n",
      "          19       0.86      0.79      0.82       832\n",
      "          20       0.96      0.96      0.96       877\n",
      "          21       0.78      0.75      0.77       761\n",
      "          22       0.94      0.85      0.89       781\n",
      "          23       0.92      0.88      0.90       926\n",
      "\n",
      "    accuracy                           0.82     76301\n",
      "   macro avg       0.84      0.73      0.78     76301\n",
      "weighted avg       0.82      0.82      0.82     76301\n",
      "\n",
      "\u001b[1mConfusion Matrix : \u001b[0m\n"
     ]
    },
    {
     "data": {
      "image/png": "[encoded data removed]",
      "text/plain": [
       "<Figure size 432x288 with 2 Axes>"
      ]
     },
     "metadata": {
      "needs_background": "light"
     },
     "output_type": "display_data"
    }
   ],
   "source": [
    "print('\\033[1m' +'Classification report : '+ '\\033[0m\\n', classification_report(y_test, y_pred4))\n",
    "\n",
    "cm = confusion_matrix(y_pred4, y_test)\n",
    "print('\\033[1m' +'Confusion Matrix : '+ '\\033[0m')\n",
    "sns.heatmap(cm, cmap = 'OrRd',annot = True, fmt='d')\n",
    "plt.show()"
   ]
  },
  {
   "cell_type": "markdown",
   "id": "4c8e2e10",
   "metadata": {},
   "source": [
    "# Evaluation -- XGBoost"
   ]
  },
  {
   "cell_type": "code",
   "execution_count": 48,
   "id": "5eef5c67",
   "metadata": {},
   "outputs": [
    {
     "name": "stdout",
     "output_type": "stream",
     "text": [
      "MAE: 1.3870853593006645\n",
      "MSE: 16.031113615811066\n",
      "RMSE: 4.003887313076015\n"
     ]
    }
   ],
   "source": [
    "from sklearn import metrics\n",
    "\n",
    "print('MAE:', metrics.mean_absolute_error(y_test,y_pred4))\n",
    "print('MSE:', metrics.mean_squared_error(y_test, y_pred4))\n",
    "print('RMSE:', np.sqrt(metrics.mean_squared_error(y_test, y_pred4)))"
   ]
  },
  {
   "cell_type": "code",
   "execution_count": 49,
   "id": "22aae28f",
   "metadata": {},
   "outputs": [
    {
     "name": "stdout",
     "output_type": "stream",
     "text": [
      "Precision Score :  0.8230070597944188\n",
      "Recall Score :  0.8228987824537031\n",
      "f1_score :  0.8171276731640894\n"
     ]
    }
   ],
   "source": [
    "from sklearn.metrics import precision_score\n",
    "print(\"Precision Score : \",precision_score(y_test, y_pred4, average='weighted'))\n",
    "\n",
    "\n",
    "from sklearn.metrics import recall_score\n",
    "print(\"Recall Score : \",recall_score(y_test, y_pred4,average='weighted'))\n",
    "\n",
    "\n",
    "from sklearn.metrics import f1_score\n",
    "print(\"f1_score : \",f1_score(y_test, y_pred4,average='weighted'))"
   ]
  },
  {
   "cell_type": "code",
   "execution_count": null,
   "id": "9e052c75",
   "metadata": {},
   "outputs": [],
   "source": []
  },
  {
   "cell_type": "code",
   "execution_count": null,
   "id": "b3f42aaa",
   "metadata": {},
   "outputs": [],
   "source": []
  }
 ],
 "metadata": {
  "kernelspec": {
   "display_name": "Python 3 (ipykernel)",
   "language": "python",
   "name": "python3"
  },
  "language_info": {
   "codemirror_mode": {
    "name": "ipython",
    "version": 3
   },
   "file_extension": ".py",
   "mimetype": "text/x-python",
   "name": "python",
   "nbconvert_exporter": "python",
   "pygments_lexer": "ipython3",
   "version": "3.8.12"
  }
 },
 "nbformat": 4,
 "nbformat_minor": 5
}
