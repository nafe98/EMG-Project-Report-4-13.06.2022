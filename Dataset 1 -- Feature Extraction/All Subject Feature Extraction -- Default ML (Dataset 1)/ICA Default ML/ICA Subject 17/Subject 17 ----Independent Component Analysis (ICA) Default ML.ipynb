{
 "cells": [
  {
   "cell_type": "markdown",
   "id": "f9e9d302",
   "metadata": {},
   "source": [
    "# Importing Libraries"
   ]
  },
  {
   "cell_type": "code",
   "execution_count": 1,
   "id": "8981c1e9",
   "metadata": {},
   "outputs": [],
   "source": [
    "import numpy as np\n",
    "import pandas as pd\n",
    "import matplotlib.pyplot as plt\n",
    "import seaborn as sns\n",
    "from sklearn.model_selection import train_test_split\n",
    "from sklearn.metrics import confusion_matrix, f1_score, accuracy_score, classification_report"
   ]
  },
  {
   "cell_type": "markdown",
   "id": "8bfa8885",
   "metadata": {},
   "source": [
    "# Exploratory Data Analysis"
   ]
  },
  {
   "cell_type": "code",
   "execution_count": 2,
   "id": "ff1116c8",
   "metadata": {},
   "outputs": [
    {
     "data": {
      "text/html": [
       "<div>\n",
       "<style scoped>\n",
       "    .dataframe tbody tr th:only-of-type {\n",
       "        vertical-align: middle;\n",
       "    }\n",
       "\n",
       "    .dataframe tbody tr th {\n",
       "        vertical-align: top;\n",
       "    }\n",
       "\n",
       "    .dataframe thead th {\n",
       "        text-align: right;\n",
       "    }\n",
       "</style>\n",
       "<table border=\"1\" class=\"dataframe\">\n",
       "  <thead>\n",
       "    <tr style=\"text-align: right;\">\n",
       "      <th></th>\n",
       "      <th>Emg1</th>\n",
       "      <th>Emg2</th>\n",
       "      <th>Emg3</th>\n",
       "      <th>Emg4</th>\n",
       "      <th>Emg5</th>\n",
       "      <th>Emg6</th>\n",
       "      <th>Emg7</th>\n",
       "      <th>Emg8</th>\n",
       "      <th>Emg9</th>\n",
       "      <th>Emg10</th>\n",
       "      <th>repetition</th>\n",
       "      <th>rerepetition</th>\n",
       "      <th>stimulus</th>\n",
       "      <th>restimulus</th>\n",
       "    </tr>\n",
       "  </thead>\n",
       "  <tbody>\n",
       "    <tr>\n",
       "      <th>172713</th>\n",
       "      <td>0.4224</td>\n",
       "      <td>1.1719</td>\n",
       "      <td>0.3223</td>\n",
       "      <td>0.2710</td>\n",
       "      <td>0.4492</td>\n",
       "      <td>0.2441</td>\n",
       "      <td>0.8179</td>\n",
       "      <td>1.0449</td>\n",
       "      <td>1.4478</td>\n",
       "      <td>1.0181</td>\n",
       "      <td>4</td>\n",
       "      <td>4</td>\n",
       "      <td>9</td>\n",
       "      <td>9</td>\n",
       "    </tr>\n",
       "    <tr>\n",
       "      <th>291401</th>\n",
       "      <td>0.0269</td>\n",
       "      <td>0.0024</td>\n",
       "      <td>0.0024</td>\n",
       "      <td>0.0024</td>\n",
       "      <td>0.0024</td>\n",
       "      <td>0.0024</td>\n",
       "      <td>0.0024</td>\n",
       "      <td>0.0317</td>\n",
       "      <td>0.0024</td>\n",
       "      <td>0.0073</td>\n",
       "      <td>0</td>\n",
       "      <td>0</td>\n",
       "      <td>0</td>\n",
       "      <td>0</td>\n",
       "    </tr>\n",
       "    <tr>\n",
       "      <th>445918</th>\n",
       "      <td>0.0024</td>\n",
       "      <td>0.0024</td>\n",
       "      <td>0.0024</td>\n",
       "      <td>0.0024</td>\n",
       "      <td>0.0024</td>\n",
       "      <td>0.0391</td>\n",
       "      <td>0.1025</td>\n",
       "      <td>0.0586</td>\n",
       "      <td>0.0024</td>\n",
       "      <td>0.0146</td>\n",
       "      <td>8</td>\n",
       "      <td>0</td>\n",
       "      <td>21</td>\n",
       "      <td>0</td>\n",
       "    </tr>\n",
       "    <tr>\n",
       "      <th>291111</th>\n",
       "      <td>0.0146</td>\n",
       "      <td>0.0024</td>\n",
       "      <td>0.0024</td>\n",
       "      <td>0.0439</td>\n",
       "      <td>0.0024</td>\n",
       "      <td>0.0024</td>\n",
       "      <td>0.1050</td>\n",
       "      <td>0.1733</td>\n",
       "      <td>0.0024</td>\n",
       "      <td>0.1147</td>\n",
       "      <td>9</td>\n",
       "      <td>9</td>\n",
       "      <td>5</td>\n",
       "      <td>5</td>\n",
       "    </tr>\n",
       "    <tr>\n",
       "      <th>183222</th>\n",
       "      <td>0.2686</td>\n",
       "      <td>0.0537</td>\n",
       "      <td>0.0024</td>\n",
       "      <td>0.0024</td>\n",
       "      <td>0.0024</td>\n",
       "      <td>0.0024</td>\n",
       "      <td>0.0024</td>\n",
       "      <td>0.1440</td>\n",
       "      <td>0.0024</td>\n",
       "      <td>0.0024</td>\n",
       "      <td>0</td>\n",
       "      <td>0</td>\n",
       "      <td>0</td>\n",
       "      <td>0</td>\n",
       "    </tr>\n",
       "  </tbody>\n",
       "</table>\n",
       "</div>"
      ],
      "text/plain": [
       "          Emg1    Emg2    Emg3    Emg4    Emg5    Emg6    Emg7    Emg8  \\\n",
       "172713  0.4224  1.1719  0.3223  0.2710  0.4492  0.2441  0.8179  1.0449   \n",
       "291401  0.0269  0.0024  0.0024  0.0024  0.0024  0.0024  0.0024  0.0317   \n",
       "445918  0.0024  0.0024  0.0024  0.0024  0.0024  0.0391  0.1025  0.0586   \n",
       "291111  0.0146  0.0024  0.0024  0.0439  0.0024  0.0024  0.1050  0.1733   \n",
       "183222  0.2686  0.0537  0.0024  0.0024  0.0024  0.0024  0.0024  0.1440   \n",
       "\n",
       "          Emg9   Emg10  repetition  rerepetition  stimulus  restimulus  \n",
       "172713  1.4478  1.0181           4             4         9           9  \n",
       "291401  0.0024  0.0073           0             0         0           0  \n",
       "445918  0.0024  0.0146           8             0        21           0  \n",
       "291111  0.0024  0.1147           9             9         5           5  \n",
       "183222  0.0024  0.0024           0             0         0           0  "
      ]
     },
     "execution_count": 2,
     "metadata": {},
     "output_type": "execute_result"
    }
   ],
   "source": [
    "raw_data = pd.read_excel('Dataset 1 Patient 17.xlsx')\n",
    "raw_data.sample(5)"
   ]
  },
  {
   "cell_type": "code",
   "execution_count": 3,
   "id": "abaa902c",
   "metadata": {},
   "outputs": [
    {
     "data": {
      "text/plain": [
       "(473988, 14)"
      ]
     },
     "execution_count": 3,
     "metadata": {},
     "output_type": "execute_result"
    }
   ],
   "source": [
    "raw_data.shape"
   ]
  },
  {
   "cell_type": "code",
   "execution_count": 4,
   "id": "4c5eb0e0",
   "metadata": {},
   "outputs": [
    {
     "data": {
      "text/plain": [
       "Index(['Emg1', 'Emg2', 'Emg3', 'Emg4', 'Emg5', 'Emg6', 'Emg7', 'Emg8', 'Emg9',\n",
       "       'Emg10', 'repetition', 'rerepetition', 'stimulus', 'restimulus'],\n",
       "      dtype='object')"
      ]
     },
     "execution_count": 4,
     "metadata": {},
     "output_type": "execute_result"
    }
   ],
   "source": [
    "raw_data.columns"
   ]
  },
  {
   "cell_type": "code",
   "execution_count": 5,
   "id": "4154dd68",
   "metadata": {},
   "outputs": [
    {
     "name": "stdout",
     "output_type": "stream",
     "text": [
      "<class 'pandas.core.frame.DataFrame'>\n",
      "RangeIndex: 473988 entries, 0 to 473987\n",
      "Data columns (total 14 columns):\n",
      " #   Column        Non-Null Count   Dtype  \n",
      "---  ------        --------------   -----  \n",
      " 0   Emg1          473988 non-null  float64\n",
      " 1   Emg2          473988 non-null  float64\n",
      " 2   Emg3          473988 non-null  float64\n",
      " 3   Emg4          473988 non-null  float64\n",
      " 4   Emg5          473988 non-null  float64\n",
      " 5   Emg6          473988 non-null  float64\n",
      " 6   Emg7          473988 non-null  float64\n",
      " 7   Emg8          473988 non-null  float64\n",
      " 8   Emg9          473988 non-null  float64\n",
      " 9   Emg10         473988 non-null  float64\n",
      " 10  repetition    473988 non-null  int64  \n",
      " 11  rerepetition  473988 non-null  int64  \n",
      " 12  stimulus      473988 non-null  int64  \n",
      " 13  restimulus    473988 non-null  int64  \n",
      "dtypes: float64(10), int64(4)\n",
      "memory usage: 50.6 MB\n"
     ]
    }
   ],
   "source": [
    "raw_data.info()"
   ]
  },
  {
   "cell_type": "code",
   "execution_count": 6,
   "id": "9ad2648b",
   "metadata": {},
   "outputs": [
    {
     "data": {
      "text/html": [
       "<div>\n",
       "<style scoped>\n",
       "    .dataframe tbody tr th:only-of-type {\n",
       "        vertical-align: middle;\n",
       "    }\n",
       "\n",
       "    .dataframe tbody tr th {\n",
       "        vertical-align: top;\n",
       "    }\n",
       "\n",
       "    .dataframe thead th {\n",
       "        text-align: right;\n",
       "    }\n",
       "</style>\n",
       "<table border=\"1\" class=\"dataframe\">\n",
       "  <thead>\n",
       "    <tr style=\"text-align: right;\">\n",
       "      <th></th>\n",
       "      <th>Emg1</th>\n",
       "      <th>Emg2</th>\n",
       "      <th>Emg3</th>\n",
       "      <th>Emg4</th>\n",
       "      <th>Emg5</th>\n",
       "      <th>Emg6</th>\n",
       "      <th>Emg7</th>\n",
       "      <th>Emg8</th>\n",
       "      <th>Emg9</th>\n",
       "      <th>Emg10</th>\n",
       "      <th>repetition</th>\n",
       "      <th>rerepetition</th>\n",
       "      <th>stimulus</th>\n",
       "      <th>restimulus</th>\n",
       "    </tr>\n",
       "  </thead>\n",
       "  <tbody>\n",
       "    <tr>\n",
       "      <th>count</th>\n",
       "      <td>473988.000000</td>\n",
       "      <td>473988.000000</td>\n",
       "      <td>473988.000000</td>\n",
       "      <td>473988.000000</td>\n",
       "      <td>473988.000000</td>\n",
       "      <td>473988.000000</td>\n",
       "      <td>473988.000000</td>\n",
       "      <td>473988.000000</td>\n",
       "      <td>473988.000000</td>\n",
       "      <td>473988.000000</td>\n",
       "      <td>473988.000000</td>\n",
       "      <td>473988.000000</td>\n",
       "      <td>473988.000000</td>\n",
       "      <td>473988.000000</td>\n",
       "    </tr>\n",
       "    <tr>\n",
       "      <th>mean</th>\n",
       "      <td>0.237301</td>\n",
       "      <td>0.176670</td>\n",
       "      <td>0.174632</td>\n",
       "      <td>0.053067</td>\n",
       "      <td>0.016055</td>\n",
       "      <td>0.038061</td>\n",
       "      <td>0.259480</td>\n",
       "      <td>0.299283</td>\n",
       "      <td>0.189452</td>\n",
       "      <td>0.211255</td>\n",
       "      <td>3.135710</td>\n",
       "      <td>2.152799</td>\n",
       "      <td>5.556793</td>\n",
       "      <td>4.003823</td>\n",
       "    </tr>\n",
       "    <tr>\n",
       "      <th>std</th>\n",
       "      <td>0.385633</td>\n",
       "      <td>0.397342</td>\n",
       "      <td>0.506173</td>\n",
       "      <td>0.206251</td>\n",
       "      <td>0.073030</td>\n",
       "      <td>0.115458</td>\n",
       "      <td>0.551616</td>\n",
       "      <td>0.466489</td>\n",
       "      <td>0.547019</td>\n",
       "      <td>0.427989</td>\n",
       "      <td>3.481578</td>\n",
       "      <td>3.222700</td>\n",
       "      <td>6.570595</td>\n",
       "      <td>6.269613</td>\n",
       "    </tr>\n",
       "    <tr>\n",
       "      <th>min</th>\n",
       "      <td>0.000000</td>\n",
       "      <td>0.000000</td>\n",
       "      <td>0.002400</td>\n",
       "      <td>0.000000</td>\n",
       "      <td>0.002400</td>\n",
       "      <td>0.000000</td>\n",
       "      <td>0.002400</td>\n",
       "      <td>0.000000</td>\n",
       "      <td>0.000000</td>\n",
       "      <td>0.000000</td>\n",
       "      <td>0.000000</td>\n",
       "      <td>0.000000</td>\n",
       "      <td>0.000000</td>\n",
       "      <td>0.000000</td>\n",
       "    </tr>\n",
       "    <tr>\n",
       "      <th>25%</th>\n",
       "      <td>0.024400</td>\n",
       "      <td>0.002400</td>\n",
       "      <td>0.002400</td>\n",
       "      <td>0.002400</td>\n",
       "      <td>0.002400</td>\n",
       "      <td>0.002400</td>\n",
       "      <td>0.002400</td>\n",
       "      <td>0.046400</td>\n",
       "      <td>0.002400</td>\n",
       "      <td>0.002400</td>\n",
       "      <td>0.000000</td>\n",
       "      <td>0.000000</td>\n",
       "      <td>0.000000</td>\n",
       "      <td>0.000000</td>\n",
       "    </tr>\n",
       "    <tr>\n",
       "      <th>50%</th>\n",
       "      <td>0.114700</td>\n",
       "      <td>0.002400</td>\n",
       "      <td>0.002400</td>\n",
       "      <td>0.002400</td>\n",
       "      <td>0.002400</td>\n",
       "      <td>0.002400</td>\n",
       "      <td>0.061000</td>\n",
       "      <td>0.134300</td>\n",
       "      <td>0.002400</td>\n",
       "      <td>0.036600</td>\n",
       "      <td>2.000000</td>\n",
       "      <td>0.000000</td>\n",
       "      <td>3.000000</td>\n",
       "      <td>0.000000</td>\n",
       "    </tr>\n",
       "    <tr>\n",
       "      <th>75%</th>\n",
       "      <td>0.297900</td>\n",
       "      <td>0.127000</td>\n",
       "      <td>0.075700</td>\n",
       "      <td>0.002400</td>\n",
       "      <td>0.002400</td>\n",
       "      <td>0.022000</td>\n",
       "      <td>0.261200</td>\n",
       "      <td>0.341800</td>\n",
       "      <td>0.070800</td>\n",
       "      <td>0.227100</td>\n",
       "      <td>6.000000</td>\n",
       "      <td>4.000000</td>\n",
       "      <td>10.000000</td>\n",
       "      <td>7.000000</td>\n",
       "    </tr>\n",
       "    <tr>\n",
       "      <th>max</th>\n",
       "      <td>4.660600</td>\n",
       "      <td>4.660600</td>\n",
       "      <td>4.658200</td>\n",
       "      <td>4.658200</td>\n",
       "      <td>3.474100</td>\n",
       "      <td>2.683100</td>\n",
       "      <td>4.660600</td>\n",
       "      <td>4.663100</td>\n",
       "      <td>4.660600</td>\n",
       "      <td>4.658200</td>\n",
       "      <td>10.000000</td>\n",
       "      <td>10.000000</td>\n",
       "      <td>23.000000</td>\n",
       "      <td>23.000000</td>\n",
       "    </tr>\n",
       "  </tbody>\n",
       "</table>\n",
       "</div>"
      ],
      "text/plain": [
       "                Emg1           Emg2           Emg3           Emg4  \\\n",
       "count  473988.000000  473988.000000  473988.000000  473988.000000   \n",
       "mean        0.237301       0.176670       0.174632       0.053067   \n",
       "std         0.385633       0.397342       0.506173       0.206251   \n",
       "min         0.000000       0.000000       0.002400       0.000000   \n",
       "25%         0.024400       0.002400       0.002400       0.002400   \n",
       "50%         0.114700       0.002400       0.002400       0.002400   \n",
       "75%         0.297900       0.127000       0.075700       0.002400   \n",
       "max         4.660600       4.660600       4.658200       4.658200   \n",
       "\n",
       "                Emg5           Emg6           Emg7           Emg8  \\\n",
       "count  473988.000000  473988.000000  473988.000000  473988.000000   \n",
       "mean        0.016055       0.038061       0.259480       0.299283   \n",
       "std         0.073030       0.115458       0.551616       0.466489   \n",
       "min         0.002400       0.000000       0.002400       0.000000   \n",
       "25%         0.002400       0.002400       0.002400       0.046400   \n",
       "50%         0.002400       0.002400       0.061000       0.134300   \n",
       "75%         0.002400       0.022000       0.261200       0.341800   \n",
       "max         3.474100       2.683100       4.660600       4.663100   \n",
       "\n",
       "                Emg9          Emg10     repetition   rerepetition  \\\n",
       "count  473988.000000  473988.000000  473988.000000  473988.000000   \n",
       "mean        0.189452       0.211255       3.135710       2.152799   \n",
       "std         0.547019       0.427989       3.481578       3.222700   \n",
       "min         0.000000       0.000000       0.000000       0.000000   \n",
       "25%         0.002400       0.002400       0.000000       0.000000   \n",
       "50%         0.002400       0.036600       2.000000       0.000000   \n",
       "75%         0.070800       0.227100       6.000000       4.000000   \n",
       "max         4.660600       4.658200      10.000000      10.000000   \n",
       "\n",
       "            stimulus     restimulus  \n",
       "count  473988.000000  473988.000000  \n",
       "mean        5.556793       4.003823  \n",
       "std         6.570595       6.269613  \n",
       "min         0.000000       0.000000  \n",
       "25%         0.000000       0.000000  \n",
       "50%         3.000000       0.000000  \n",
       "75%        10.000000       7.000000  \n",
       "max        23.000000      23.000000  "
      ]
     },
     "execution_count": 6,
     "metadata": {},
     "output_type": "execute_result"
    }
   ],
   "source": [
    "raw_data.describe(include='all')"
   ]
  },
  {
   "cell_type": "code",
   "execution_count": 7,
   "id": "ccb02915",
   "metadata": {},
   "outputs": [
    {
     "name": "stdout",
     "output_type": "stream",
     "text": [
      "Unique Dependent values and their counts :\n",
      "0     203806\n",
      "4      15675\n",
      "8      15627\n",
      "7      15627\n",
      "6      15619\n",
      "5      15610\n",
      "12     15602\n",
      "2      15591\n",
      "11     15575\n",
      "9      15571\n",
      "3      15546\n",
      "10     15539\n",
      "1      15500\n",
      "14     10419\n",
      "13     10416\n",
      "17     10410\n",
      "15     10370\n",
      "16     10335\n",
      "21      5221\n",
      "18      5214\n",
      "19      5206\n",
      "23      5175\n",
      "20      5174\n",
      "22      5160\n",
      "Name: stimulus, dtype: int64\n"
     ]
    }
   ],
   "source": [
    "print(\"Unique Dependent values and their counts :\")\n",
    "print(raw_data[\"stimulus\"].value_counts())"
   ]
  },
  {
   "cell_type": "code",
   "execution_count": 8,
   "id": "4bfaf7c1",
   "metadata": {},
   "outputs": [
    {
     "data": {
      "text/plain": [
       "Text(0, 0.5, 'Frequency')"
      ]
     },
     "execution_count": 8,
     "metadata": {},
     "output_type": "execute_result"
    },
    {
     "data": {
      "image/png": "[encoded data removed]",
      "text/plain": [
       "<Figure size 432x288 with 1 Axes>"
      ]
     },
     "metadata": {
      "needs_background": "light"
     },
     "output_type": "display_data"
    }
   ],
   "source": [
    "count_classes = pd.value_counts(raw_data['stimulus'], sort = True)\n",
    "\n",
    "count_classes.plot(kind = 'bar', rot=0)\n",
    "\n",
    "plt.title(\"stimulus Class Distribution\")\n",
    "\n",
    "plt.xlabel(\"Class\")\n",
    "\n",
    "plt.ylabel(\"Frequency\")"
   ]
  },
  {
   "cell_type": "markdown",
   "id": "631d4bd5",
   "metadata": {},
   "source": [
    "# Data Cleaning and Exploratory Data Analysis with New Data"
   ]
  },
  {
   "cell_type": "code",
   "execution_count": 9,
   "id": "77a8fee4",
   "metadata": {},
   "outputs": [],
   "source": [
    "index_names = raw_data[ (raw_data['stimulus'] != raw_data['restimulus'])].index\n",
    "raw_data.drop(index_names, inplace = True)"
   ]
  },
  {
   "cell_type": "code",
   "execution_count": 10,
   "id": "e1ca9001",
   "metadata": {},
   "outputs": [],
   "source": [
    "index_names = raw_data[ (raw_data['repetition'] != raw_data['rerepetition'])].index\n",
    "raw_data.drop(index_names, inplace = True)"
   ]
  },
  {
   "cell_type": "code",
   "execution_count": 11,
   "id": "eb95b5d8",
   "metadata": {},
   "outputs": [
    {
     "data": {
      "text/html": [
       "<div>\n",
       "<style scoped>\n",
       "    .dataframe tbody tr th:only-of-type {\n",
       "        vertical-align: middle;\n",
       "    }\n",
       "\n",
       "    .dataframe tbody tr th {\n",
       "        vertical-align: top;\n",
       "    }\n",
       "\n",
       "    .dataframe thead th {\n",
       "        text-align: right;\n",
       "    }\n",
       "</style>\n",
       "<table border=\"1\" class=\"dataframe\">\n",
       "  <thead>\n",
       "    <tr style=\"text-align: right;\">\n",
       "      <th></th>\n",
       "      <th>Emg1</th>\n",
       "      <th>Emg2</th>\n",
       "      <th>Emg3</th>\n",
       "      <th>Emg4</th>\n",
       "      <th>Emg5</th>\n",
       "      <th>Emg6</th>\n",
       "      <th>Emg7</th>\n",
       "      <th>Emg8</th>\n",
       "      <th>Emg9</th>\n",
       "      <th>Emg10</th>\n",
       "      <th>repetition</th>\n",
       "      <th>rerepetition</th>\n",
       "      <th>stimulus</th>\n",
       "      <th>restimulus</th>\n",
       "    </tr>\n",
       "  </thead>\n",
       "  <tbody>\n",
       "    <tr>\n",
       "      <th>301650</th>\n",
       "      <td>0.2612</td>\n",
       "      <td>0.6274</td>\n",
       "      <td>0.0513</td>\n",
       "      <td>0.0024</td>\n",
       "      <td>0.0024</td>\n",
       "      <td>0.0586</td>\n",
       "      <td>0.2930</td>\n",
       "      <td>0.5005</td>\n",
       "      <td>0.2759</td>\n",
       "      <td>0.1929</td>\n",
       "      <td>10</td>\n",
       "      <td>10</td>\n",
       "      <td>6</td>\n",
       "      <td>6</td>\n",
       "    </tr>\n",
       "    <tr>\n",
       "      <th>166504</th>\n",
       "      <td>0.0439</td>\n",
       "      <td>0.0244</td>\n",
       "      <td>0.0024</td>\n",
       "      <td>0.0024</td>\n",
       "      <td>0.0024</td>\n",
       "      <td>0.0024</td>\n",
       "      <td>0.0024</td>\n",
       "      <td>0.0293</td>\n",
       "      <td>0.0024</td>\n",
       "      <td>0.0024</td>\n",
       "      <td>0</td>\n",
       "      <td>0</td>\n",
       "      <td>0</td>\n",
       "      <td>0</td>\n",
       "    </tr>\n",
       "    <tr>\n",
       "      <th>208233</th>\n",
       "      <td>0.4736</td>\n",
       "      <td>1.0522</td>\n",
       "      <td>2.0557</td>\n",
       "      <td>2.0459</td>\n",
       "      <td>0.2417</td>\n",
       "      <td>0.0708</td>\n",
       "      <td>0.1563</td>\n",
       "      <td>0.4761</td>\n",
       "      <td>2.0898</td>\n",
       "      <td>0.1001</td>\n",
       "      <td>6</td>\n",
       "      <td>6</td>\n",
       "      <td>13</td>\n",
       "      <td>13</td>\n",
       "    </tr>\n",
       "    <tr>\n",
       "      <th>164178</th>\n",
       "      <td>0.0806</td>\n",
       "      <td>0.5859</td>\n",
       "      <td>0.1001</td>\n",
       "      <td>0.0049</td>\n",
       "      <td>0.0024</td>\n",
       "      <td>0.0171</td>\n",
       "      <td>0.4883</td>\n",
       "      <td>0.3223</td>\n",
       "      <td>0.5957</td>\n",
       "      <td>0.6079</td>\n",
       "      <td>4</td>\n",
       "      <td>4</td>\n",
       "      <td>8</td>\n",
       "      <td>8</td>\n",
       "    </tr>\n",
       "    <tr>\n",
       "      <th>14908</th>\n",
       "      <td>0.2466</td>\n",
       "      <td>0.7202</td>\n",
       "      <td>0.3125</td>\n",
       "      <td>0.0024</td>\n",
       "      <td>0.0024</td>\n",
       "      <td>0.0342</td>\n",
       "      <td>0.8789</td>\n",
       "      <td>0.3882</td>\n",
       "      <td>0.6519</td>\n",
       "      <td>1.1084</td>\n",
       "      <td>8</td>\n",
       "      <td>8</td>\n",
       "      <td>2</td>\n",
       "      <td>2</td>\n",
       "    </tr>\n",
       "  </tbody>\n",
       "</table>\n",
       "</div>"
      ],
      "text/plain": [
       "          Emg1    Emg2    Emg3    Emg4    Emg5    Emg6    Emg7    Emg8  \\\n",
       "301650  0.2612  0.6274  0.0513  0.0024  0.0024  0.0586  0.2930  0.5005   \n",
       "166504  0.0439  0.0244  0.0024  0.0024  0.0024  0.0024  0.0024  0.0293   \n",
       "208233  0.4736  1.0522  2.0557  2.0459  0.2417  0.0708  0.1563  0.4761   \n",
       "164178  0.0806  0.5859  0.1001  0.0049  0.0024  0.0171  0.4883  0.3223   \n",
       "14908   0.2466  0.7202  0.3125  0.0024  0.0024  0.0342  0.8789  0.3882   \n",
       "\n",
       "          Emg9   Emg10  repetition  rerepetition  stimulus  restimulus  \n",
       "301650  0.2759  0.1929          10            10         6           6  \n",
       "166504  0.0024  0.0024           0             0         0           0  \n",
       "208233  2.0898  0.1001           6             6        13          13  \n",
       "164178  0.5957  0.6079           4             4         8           8  \n",
       "14908   0.6519  1.1084           8             8         2           2  "
      ]
     },
     "execution_count": 11,
     "metadata": {},
     "output_type": "execute_result"
    }
   ],
   "source": [
    "raw_data.sample(5)"
   ]
  },
  {
   "cell_type": "code",
   "execution_count": 12,
   "id": "f0aa807e",
   "metadata": {},
   "outputs": [
    {
     "data": {
      "text/plain": [
       "(387904, 14)"
      ]
     },
     "execution_count": 12,
     "metadata": {},
     "output_type": "execute_result"
    }
   ],
   "source": [
    "raw_data.shape"
   ]
  },
  {
   "cell_type": "code",
   "execution_count": 13,
   "id": "8dd504b5",
   "metadata": {},
   "outputs": [
    {
     "name": "stdout",
     "output_type": "stream",
     "text": [
      "<class 'pandas.core.frame.DataFrame'>\n",
      "Int64Index: 387904 entries, 0 to 473987\n",
      "Data columns (total 14 columns):\n",
      " #   Column        Non-Null Count   Dtype  \n",
      "---  ------        --------------   -----  \n",
      " 0   Emg1          387904 non-null  float64\n",
      " 1   Emg2          387904 non-null  float64\n",
      " 2   Emg3          387904 non-null  float64\n",
      " 3   Emg4          387904 non-null  float64\n",
      " 4   Emg5          387904 non-null  float64\n",
      " 5   Emg6          387904 non-null  float64\n",
      " 6   Emg7          387904 non-null  float64\n",
      " 7   Emg8          387904 non-null  float64\n",
      " 8   Emg9          387904 non-null  float64\n",
      " 9   Emg10         387904 non-null  float64\n",
      " 10  repetition    387904 non-null  int64  \n",
      " 11  rerepetition  387904 non-null  int64  \n",
      " 12  stimulus      387904 non-null  int64  \n",
      " 13  restimulus    387904 non-null  int64  \n",
      "dtypes: float64(10), int64(4)\n",
      "memory usage: 44.4 MB\n"
     ]
    }
   ],
   "source": [
    "raw_data.info()"
   ]
  },
  {
   "cell_type": "code",
   "execution_count": 14,
   "id": "8613e6c0",
   "metadata": {},
   "outputs": [
    {
     "name": "stdout",
     "output_type": "stream",
     "text": [
      "Emg1            False\n",
      "Emg2            False\n",
      "Emg3            False\n",
      "Emg4            False\n",
      "Emg5            False\n",
      "Emg6            False\n",
      "Emg7            False\n",
      "Emg8            False\n",
      "Emg9            False\n",
      "Emg10           False\n",
      "repetition      False\n",
      "rerepetition    False\n",
      "stimulus        False\n",
      "restimulus      False\n",
      "dtype: bool\n"
     ]
    }
   ],
   "source": [
    "print(raw_data.isnull().any())"
   ]
  },
  {
   "cell_type": "code",
   "execution_count": 15,
   "id": "e4f2afdb",
   "metadata": {},
   "outputs": [],
   "source": [
    "X = raw_data.iloc[:,0:10]\n",
    "y = raw_data.stimulus"
   ]
  },
  {
   "cell_type": "markdown",
   "id": "82fcb689",
   "metadata": {},
   "source": [
    "# Scalling Data"
   ]
  },
  {
   "cell_type": "code",
   "execution_count": 16,
   "id": "9805af20",
   "metadata": {},
   "outputs": [],
   "source": [
    "from sklearn.preprocessing import StandardScaler"
   ]
  },
  {
   "cell_type": "code",
   "execution_count": 17,
   "id": "f3de76a5",
   "metadata": {},
   "outputs": [],
   "source": [
    "X = StandardScaler().fit_transform(X)"
   ]
  },
  {
   "cell_type": "markdown",
   "id": "00f28aad",
   "metadata": {},
   "source": [
    "# Indipendent Component Analysis (ICA)"
   ]
  },
  {
   "cell_type": "markdown",
   "id": "61dfd812",
   "metadata": {},
   "source": [
    "https://www.nmr.mgh.harvard.edu/mne/0.14/manual/preprocessing/ica.html"
   ]
  },
  {
   "cell_type": "code",
   "execution_count": 18,
   "id": "0a603cf6",
   "metadata": {},
   "outputs": [],
   "source": [
    "from sklearn.decomposition import FastICA\n",
    "\n",
    "ica = FastICA(n_components=10)\n",
    "X_ica = ica.fit_transform(X)"
   ]
  },
  {
   "cell_type": "code",
   "execution_count": 19,
   "id": "bf27b986",
   "metadata": {},
   "outputs": [],
   "source": [
    "# Splitting data for training and testing\n",
    "X_train, X_test, y_train, y_test = train_test_split(X_ica, y, test_size = 0.2, random_state = 39)"
   ]
  },
  {
   "cell_type": "markdown",
   "id": "cf4fd4a4",
   "metadata": {},
   "source": [
    "# Machine Learning Models"
   ]
  },
  {
   "cell_type": "code",
   "execution_count": 20,
   "id": "ee87f20f",
   "metadata": {},
   "outputs": [
    {
     "data": {
      "text/plain": [
       "DecisionTreeClassifier()"
      ]
     },
     "execution_count": 20,
     "metadata": {},
     "output_type": "execute_result"
    }
   ],
   "source": [
    "from sklearn import tree\n",
    "tree = tree.DecisionTreeClassifier()\n",
    "tree.fit(X_train, y_train)"
   ]
  },
  {
   "cell_type": "code",
   "execution_count": 21,
   "id": "e6352c65",
   "metadata": {},
   "outputs": [],
   "source": [
    "y_pred1 = tree.predict(X_test)"
   ]
  },
  {
   "cell_type": "code",
   "execution_count": 22,
   "id": "a3327a44",
   "metadata": {},
   "outputs": [
    {
     "name": "stdout",
     "output_type": "stream",
     "text": [
      "Accuracy is: 84.02959487503384\n"
     ]
    }
   ],
   "source": [
    "from sklearn.metrics import accuracy_score\n",
    "accuracy = {accuracy_score(y_test, y_pred1)}\n",
    "print(f\"Accuracy is: {accuracy_score(y_test, y_pred1)* 100}\")"
   ]
  },
  {
   "cell_type": "code",
   "execution_count": 23,
   "id": "915a5654",
   "metadata": {},
   "outputs": [
    {
     "name": "stdout",
     "output_type": "stream",
     "text": [
      "\u001b[1mClassification report : \u001b[0m\n",
      "               precision    recall  f1-score   support\n",
      "\n",
      "           0       0.94      0.94      0.94     40602\n",
      "           1       0.77      0.76      0.76      1971\n",
      "           2       0.76      0.75      0.75      1947\n",
      "           3       0.70      0.72      0.71      2180\n",
      "           4       0.76      0.76      0.76      2106\n",
      "           5       0.73      0.75      0.74      1946\n",
      "           6       0.79      0.80      0.79      1892\n",
      "           7       0.72      0.71      0.71      1942\n",
      "           8       0.74      0.73      0.74      2024\n",
      "           9       0.73      0.70      0.72      2113\n",
      "          10       0.73      0.72      0.73      1882\n",
      "          11       0.73      0.75      0.74      2151\n",
      "          12       0.71      0.70      0.70      2177\n",
      "          13       0.71      0.66      0.68      1454\n",
      "          14       0.66      0.67      0.66      1529\n",
      "          15       0.69      0.71      0.70      1481\n",
      "          16       0.67      0.69      0.68      1555\n",
      "          17       0.77      0.75      0.76      1749\n",
      "          18       0.73      0.74      0.74       856\n",
      "          19       0.77      0.78      0.78       808\n",
      "          20       0.89      0.90      0.90       769\n",
      "          21       0.70      0.75      0.73       724\n",
      "          22       0.72      0.73      0.73       822\n",
      "          23       0.76      0.76      0.76       901\n",
      "\n",
      "    accuracy                           0.84     77581\n",
      "   macro avg       0.75      0.75      0.75     77581\n",
      "weighted avg       0.84      0.84      0.84     77581\n",
      "\n",
      "\u001b[1mConfusion Matrix : \u001b[0m\n"
     ]
    },
    {
     "data": {
      "image/png": "[encoded data removed]",
      "text/plain": [
       "<Figure size 432x288 with 2 Axes>"
      ]
     },
     "metadata": {
      "needs_background": "light"
     },
     "output_type": "display_data"
    }
   ],
   "source": [
    "print('\\033[1m' +'Classification report : '+ '\\033[0m\\n', classification_report(y_test, y_pred1))\n",
    "\n",
    "cm = confusion_matrix(y_pred1, y_test)\n",
    "print('\\033[1m' +'Confusion Matrix : '+ '\\033[0m')\n",
    "sns.heatmap(cm, cmap = 'OrRd',annot = True, fmt='d')\n",
    "plt.show()"
   ]
  },
  {
   "cell_type": "markdown",
   "id": "4ef9004a",
   "metadata": {},
   "source": [
    "# Evaluation -- Decision Tree"
   ]
  },
  {
   "cell_type": "code",
   "execution_count": 24,
   "id": "2c142e08",
   "metadata": {},
   "outputs": [
    {
     "name": "stdout",
     "output_type": "stream",
     "text": [
      "MAE: 1.2855338291592013\n",
      "MSE: 15.094636573387813\n",
      "RMSE: 3.8851816654292772\n"
     ]
    }
   ],
   "source": [
    "from sklearn import metrics\n",
    "\n",
    "print('MAE:', metrics.mean_absolute_error(y_test,y_pred1))\n",
    "print('MSE:', metrics.mean_squared_error(y_test, y_pred1))\n",
    "print('RMSE:', np.sqrt(metrics.mean_squared_error(y_test, y_pred1)))"
   ]
  },
  {
   "cell_type": "code",
   "execution_count": 25,
   "id": "124d29fe",
   "metadata": {},
   "outputs": [
    {
     "name": "stdout",
     "output_type": "stream",
     "text": [
      "Precision Score :  0.8402280721633179\n",
      "Recall Score :  0.8402959487503383\n",
      "f1_score :  0.8402083784836415\n"
     ]
    }
   ],
   "source": [
    "from sklearn.metrics import precision_score\n",
    "print(\"Precision Score : \",precision_score(y_test, y_pred1, average='weighted'))\n",
    "\n",
    "\n",
    "from sklearn.metrics import recall_score\n",
    "print(\"Recall Score : \",recall_score(y_test, y_pred1,average='weighted'))\n",
    "\n",
    "\n",
    "from sklearn.metrics import f1_score\n",
    "print(\"f1_score : \",f1_score(y_test, y_pred1,average='weighted'))"
   ]
  },
  {
   "cell_type": "markdown",
   "id": "c1e0290e",
   "metadata": {},
   "source": [
    "# KNeighborsClassifier"
   ]
  },
  {
   "cell_type": "code",
   "execution_count": 26,
   "id": "d9cda07b",
   "metadata": {},
   "outputs": [
    {
     "data": {
      "text/plain": [
       "KNeighborsClassifier()"
      ]
     },
     "execution_count": 26,
     "metadata": {},
     "output_type": "execute_result"
    }
   ],
   "source": [
    "from sklearn.neighbors import KNeighborsClassifier\n",
    "KNeighborsClassifier = KNeighborsClassifier()\n",
    "KNeighborsClassifier.fit(X_train, y_train)"
   ]
  },
  {
   "cell_type": "code",
   "execution_count": 27,
   "id": "cb94d10c",
   "metadata": {},
   "outputs": [],
   "source": [
    "y_pred2 = KNeighborsClassifier.predict(X_test)"
   ]
  },
  {
   "cell_type": "code",
   "execution_count": 28,
   "id": "4f9d466c",
   "metadata": {},
   "outputs": [
    {
     "name": "stdout",
     "output_type": "stream",
     "text": [
      "Accuracy is: 91.71188822005388\n"
     ]
    }
   ],
   "source": [
    "from sklearn.metrics import accuracy_score\n",
    "accuracy = {accuracy_score(y_test, y_pred2)}\n",
    "print(f\"Accuracy is: {accuracy_score(y_test, y_pred2)* 100}\")"
   ]
  },
  {
   "cell_type": "code",
   "execution_count": 29,
   "id": "b28ae637",
   "metadata": {},
   "outputs": [
    {
     "name": "stdout",
     "output_type": "stream",
     "text": [
      "\u001b[1mClassification report : \u001b[0m\n",
      "               precision    recall  f1-score   support\n",
      "\n",
      "           0       0.93      0.99      0.96     40602\n",
      "           1       0.89      0.88      0.89      1971\n",
      "           2       0.89      0.88      0.88      1947\n",
      "           3       0.90      0.84      0.87      2180\n",
      "           4       0.92      0.90      0.91      2106\n",
      "           5       0.91      0.88      0.89      1946\n",
      "           6       0.92      0.90      0.91      1892\n",
      "           7       0.90      0.78      0.83      1942\n",
      "           8       0.88      0.85      0.86      2024\n",
      "           9       0.91      0.81      0.86      2113\n",
      "          10       0.91      0.82      0.86      1882\n",
      "          11       0.94      0.84      0.89      2151\n",
      "          12       0.90      0.82      0.86      2177\n",
      "          13       0.88      0.80      0.84      1454\n",
      "          14       0.85      0.76      0.81      1529\n",
      "          15       0.88      0.79      0.83      1481\n",
      "          16       0.89      0.80      0.84      1555\n",
      "          17       0.92      0.84      0.88      1749\n",
      "          18       0.88      0.82      0.85       856\n",
      "          19       0.94      0.87      0.90       808\n",
      "          20       0.97      0.94      0.96       769\n",
      "          21       0.91      0.85      0.88       724\n",
      "          22       0.96      0.88      0.92       822\n",
      "          23       0.94      0.84      0.89       901\n",
      "\n",
      "    accuracy                           0.92     77581\n",
      "   macro avg       0.91      0.85      0.88     77581\n",
      "weighted avg       0.92      0.92      0.92     77581\n",
      "\n",
      "\u001b[1mConfusion Matrix : \u001b[0m\n"
     ]
    },
    {
     "data": {
      "image/png": "[encoded data removed]",
      "text/plain": [
       "<Figure size 432x288 with 2 Axes>"
      ]
     },
     "metadata": {
      "needs_background": "light"
     },
     "output_type": "display_data"
    }
   ],
   "source": [
    "print('\\033[1m' +'Classification report : '+ '\\033[0m\\n', classification_report(y_test, y_pred2))\n",
    "\n",
    "cm = confusion_matrix(y_pred2, y_test)\n",
    "print('\\033[1m' +'Confusion Matrix : '+ '\\033[0m')\n",
    "sns.heatmap(cm, cmap = 'OrRd',annot = True, fmt='d')\n",
    "plt.show()"
   ]
  },
  {
   "cell_type": "markdown",
   "id": "094b157e",
   "metadata": {},
   "source": [
    "# Evaluation -- KNeighborsClassifier"
   ]
  },
  {
   "cell_type": "code",
   "execution_count": 30,
   "id": "75ecd7ea",
   "metadata": {},
   "outputs": [
    {
     "name": "stdout",
     "output_type": "stream",
     "text": [
      "MAE: 0.7135767778193114\n",
      "MSE: 8.646575836867274\n",
      "RMSE: 2.940506051152977\n"
     ]
    }
   ],
   "source": [
    "from sklearn import metrics\n",
    "\n",
    "print('MAE:', metrics.mean_absolute_error(y_test,y_pred2))\n",
    "print('MSE:', metrics.mean_squared_error(y_test, y_pred2))\n",
    "print('RMSE:', np.sqrt(metrics.mean_squared_error(y_test, y_pred2)))"
   ]
  },
  {
   "cell_type": "code",
   "execution_count": 31,
   "id": "1abb6ec2",
   "metadata": {},
   "outputs": [
    {
     "name": "stdout",
     "output_type": "stream",
     "text": [
      "Precision Score :  0.9163701420726874\n",
      "Recall Score :  0.9171188822005388\n",
      "f1_score :  0.9155500047639038\n"
     ]
    }
   ],
   "source": [
    "from sklearn.metrics import precision_score\n",
    "print(\"Precision Score : \",precision_score(y_test, y_pred2, average='weighted'))\n",
    "\n",
    "\n",
    "from sklearn.metrics import recall_score\n",
    "print(\"Recall Score : \",recall_score(y_test, y_pred2,average='weighted'))\n",
    "\n",
    "\n",
    "from sklearn.metrics import f1_score\n",
    "print(\"f1_score : \",f1_score(y_test, y_pred2,average='weighted'))"
   ]
  },
  {
   "cell_type": "markdown",
   "id": "8fdcff29",
   "metadata": {},
   "source": [
    "# ExtraTreesClassifier"
   ]
  },
  {
   "cell_type": "code",
   "execution_count": 32,
   "id": "a8bb8e91",
   "metadata": {},
   "outputs": [
    {
     "data": {
      "text/plain": [
       "ExtraTreesClassifier()"
      ]
     },
     "execution_count": 32,
     "metadata": {},
     "output_type": "execute_result"
    }
   ],
   "source": [
    "from sklearn.ensemble import ExtraTreesClassifier\n",
    "extratree = ExtraTreesClassifier()\n",
    "extratree.fit(X_train, y_train)"
   ]
  },
  {
   "cell_type": "code",
   "execution_count": 33,
   "id": "bf05f679",
   "metadata": {},
   "outputs": [],
   "source": [
    "y_pred5 = extratree.predict(X_test)"
   ]
  },
  {
   "cell_type": "code",
   "execution_count": 34,
   "id": "dc1d301e",
   "metadata": {},
   "outputs": [
    {
     "name": "stdout",
     "output_type": "stream",
     "text": [
      "Accuracy is: 94.02688802670757\n"
     ]
    }
   ],
   "source": [
    "from sklearn.metrics import accuracy_score\n",
    "accuracy = {accuracy_score(y_test, y_pred5)}\n",
    "print(f\"Accuracy is: {accuracy_score(y_test, y_pred5)* 100}\")"
   ]
  },
  {
   "cell_type": "code",
   "execution_count": 35,
   "id": "5300e4d7",
   "metadata": {},
   "outputs": [
    {
     "name": "stdout",
     "output_type": "stream",
     "text": [
      "\u001b[1mClassification report : \u001b[0m\n",
      "               precision    recall  f1-score   support\n",
      "\n",
      "           0       0.93      0.99      0.96     40602\n",
      "           1       0.96      0.91      0.93      1971\n",
      "           2       0.94      0.92      0.93      1947\n",
      "           3       0.95      0.87      0.91      2180\n",
      "           4       0.98      0.92      0.95      2106\n",
      "           5       0.97      0.92      0.95      1946\n",
      "           6       0.97      0.91      0.94      1892\n",
      "           7       0.93      0.80      0.86      1942\n",
      "           8       0.92      0.89      0.90      2024\n",
      "           9       0.96      0.86      0.90      2113\n",
      "          10       0.95      0.85      0.90      1882\n",
      "          11       0.97      0.89      0.93      2151\n",
      "          12       0.94      0.88      0.91      2177\n",
      "          13       0.94      0.85      0.89      1454\n",
      "          14       0.90      0.83      0.86      1529\n",
      "          15       0.90      0.85      0.88      1481\n",
      "          16       0.95      0.85      0.90      1555\n",
      "          17       0.96      0.88      0.92      1749\n",
      "          18       0.94      0.88      0.91       856\n",
      "          19       0.97      0.92      0.95       808\n",
      "          20       0.99      0.98      0.98       769\n",
      "          21       0.98      0.93      0.95       724\n",
      "          22       0.99      0.94      0.96       822\n",
      "          23       0.94      0.90      0.92       901\n",
      "\n",
      "    accuracy                           0.94     77581\n",
      "   macro avg       0.95      0.89      0.92     77581\n",
      "weighted avg       0.94      0.94      0.94     77581\n",
      "\n",
      "\u001b[1mConfusion Matrix : \u001b[0m\n"
     ]
    },
    {
     "data": {
      "image/png": "[encoded data removed]",
      "text/plain": [
       "<Figure size 432x288 with 2 Axes>"
      ]
     },
     "metadata": {
      "needs_background": "light"
     },
     "output_type": "display_data"
    }
   ],
   "source": [
    "print('\\033[1m' +'Classification report : '+ '\\033[0m\\n', classification_report(y_test, y_pred5))\n",
    "\n",
    "cm = confusion_matrix(y_pred5, y_test)\n",
    "print('\\033[1m' +'Confusion Matrix : '+ '\\033[0m')\n",
    "sns.heatmap(cm, cmap = 'OrRd',annot = True, fmt='d')\n",
    "plt.show()"
   ]
  },
  {
   "cell_type": "markdown",
   "id": "1e516628",
   "metadata": {},
   "source": [
    "# Evaluation -- ExtraTreesClassifier"
   ]
  },
  {
   "cell_type": "code",
   "execution_count": 36,
   "id": "dfbde802",
   "metadata": {},
   "outputs": [
    {
     "name": "stdout",
     "output_type": "stream",
     "text": [
      "MAE: 0.5344220878823424\n",
      "MSE: 6.589641793738157\n",
      "RMSE: 2.567029760976323\n"
     ]
    }
   ],
   "source": [
    "from sklearn import metrics\n",
    "\n",
    "print('MAE:', metrics.mean_absolute_error(y_test,y_pred5))\n",
    "print('MSE:', metrics.mean_squared_error(y_test, y_pred5))\n",
    "print('RMSE:', np.sqrt(metrics.mean_squared_error(y_test, y_pred5)))"
   ]
  },
  {
   "cell_type": "code",
   "execution_count": 37,
   "id": "a66f67fb",
   "metadata": {},
   "outputs": [
    {
     "name": "stdout",
     "output_type": "stream",
     "text": [
      "Precision Score :  0.9408217887336584\n",
      "Recall Score :  0.9402688802670757\n",
      "f1_score :  0.9393820433988699\n"
     ]
    }
   ],
   "source": [
    "from sklearn.metrics import precision_score\n",
    "print(\"Precision Score : \",precision_score(y_test, y_pred5, average='weighted'))\n",
    "\n",
    "\n",
    "from sklearn.metrics import recall_score\n",
    "print(\"Recall Score : \",recall_score(y_test, y_pred5,average='weighted'))\n",
    "\n",
    "\n",
    "from sklearn.metrics import f1_score\n",
    "print(\"f1_score : \",f1_score(y_test, y_pred5,average='weighted'))"
   ]
  },
  {
   "cell_type": "markdown",
   "id": "5dc7f95e",
   "metadata": {},
   "source": [
    "# Random Forest"
   ]
  },
  {
   "cell_type": "code",
   "execution_count": 38,
   "id": "763a6ba8",
   "metadata": {},
   "outputs": [
    {
     "data": {
      "text/plain": [
       "RandomForestClassifier()"
      ]
     },
     "execution_count": 38,
     "metadata": {},
     "output_type": "execute_result"
    }
   ],
   "source": [
    "from sklearn.ensemble import RandomForestClassifier\n",
    "RandomForestClassifier = RandomForestClassifier()\n",
    "RandomForestClassifier.fit(X_train, y_train)"
   ]
  },
  {
   "cell_type": "code",
   "execution_count": 39,
   "id": "24817338",
   "metadata": {},
   "outputs": [],
   "source": [
    "y_pred3 = RandomForestClassifier.predict(X_test)"
   ]
  },
  {
   "cell_type": "code",
   "execution_count": 40,
   "id": "37089ca4",
   "metadata": {},
   "outputs": [
    {
     "name": "stdout",
     "output_type": "stream",
     "text": [
      "Accuracy is: 93.28314922468131\n"
     ]
    }
   ],
   "source": [
    "from sklearn.metrics import accuracy_score\n",
    "accuracy = {accuracy_score(y_test, y_pred3)}\n",
    "print(f\"Accuracy is: {accuracy_score(y_test, y_pred3)* 100}\")"
   ]
  },
  {
   "cell_type": "code",
   "execution_count": 41,
   "id": "5358b685",
   "metadata": {},
   "outputs": [
    {
     "name": "stdout",
     "output_type": "stream",
     "text": [
      "\u001b[1mClassification report : \u001b[0m\n",
      "               precision    recall  f1-score   support\n",
      "\n",
      "           0       0.93      0.99      0.96     40602\n",
      "           1       0.95      0.89      0.92      1971\n",
      "           2       0.93      0.91      0.92      1947\n",
      "           3       0.93      0.85      0.89      2180\n",
      "           4       0.97      0.91      0.94      2106\n",
      "           5       0.95      0.90      0.93      1946\n",
      "           6       0.96      0.91      0.93      1892\n",
      "           7       0.92      0.80      0.86      1942\n",
      "           8       0.90      0.88      0.89      2024\n",
      "           9       0.94      0.84      0.89      2113\n",
      "          10       0.94      0.84      0.89      1882\n",
      "          11       0.96      0.88      0.92      2151\n",
      "          12       0.93      0.87      0.90      2177\n",
      "          13       0.93      0.83      0.87      1454\n",
      "          14       0.88      0.79      0.83      1529\n",
      "          15       0.87      0.84      0.86      1481\n",
      "          16       0.92      0.84      0.88      1555\n",
      "          17       0.95      0.87      0.91      1749\n",
      "          18       0.92      0.87      0.89       856\n",
      "          19       0.96      0.90      0.93       808\n",
      "          20       0.98      0.97      0.98       769\n",
      "          21       0.96      0.90      0.93       724\n",
      "          22       0.98      0.92      0.95       822\n",
      "          23       0.93      0.90      0.91       901\n",
      "\n",
      "    accuracy                           0.93     77581\n",
      "   macro avg       0.94      0.88      0.91     77581\n",
      "weighted avg       0.93      0.93      0.93     77581\n",
      "\n",
      "\u001b[1mConfusion Matrix : \u001b[0m\n"
     ]
    },
    {
     "data": {
      "image/png": "[encoded data removed]",
      "text/plain": [
       "<Figure size 432x288 with 2 Axes>"
      ]
     },
     "metadata": {
      "needs_background": "light"
     },
     "output_type": "display_data"
    }
   ],
   "source": [
    "print('\\033[1m' +'Classification report : '+ '\\033[0m\\n', classification_report(y_test, y_pred3))\n",
    "\n",
    "cm = confusion_matrix(y_pred3, y_test)\n",
    "print('\\033[1m' +'Confusion Matrix : '+ '\\033[0m')\n",
    "sns.heatmap(cm, cmap = 'OrRd',annot = True, fmt='d')\n",
    "plt.show()"
   ]
  },
  {
   "cell_type": "markdown",
   "id": "75f7fe8b",
   "metadata": {},
   "source": [
    "# Evaluation -- Random Forest"
   ]
  },
  {
   "cell_type": "code",
   "execution_count": 42,
   "id": "29a1cece",
   "metadata": {},
   "outputs": [
    {
     "name": "stdout",
     "output_type": "stream",
     "text": [
      "MAE: 0.5858264265735167\n",
      "MSE: 7.174991299416094\n",
      "RMSE: 2.678617423115159\n"
     ]
    }
   ],
   "source": [
    "from sklearn import metrics\n",
    "\n",
    "print('MAE:', metrics.mean_absolute_error(y_test,y_pred3))\n",
    "print('MSE:', metrics.mean_squared_error(y_test, y_pred3))\n",
    "print('RMSE:', np.sqrt(metrics.mean_squared_error(y_test, y_pred3)))"
   ]
  },
  {
   "cell_type": "code",
   "execution_count": 43,
   "id": "ebada233",
   "metadata": {},
   "outputs": [
    {
     "name": "stdout",
     "output_type": "stream",
     "text": [
      "Precision Score :  0.9329981057746949\n",
      "Recall Score :  0.932831492246813\n",
      "f1_score :  0.9317242381428109\n"
     ]
    }
   ],
   "source": [
    "from sklearn.metrics import precision_score\n",
    "print(\"Precision Score : \",precision_score(y_test, y_pred3, average='weighted'))\n",
    "\n",
    "\n",
    "from sklearn.metrics import recall_score\n",
    "print(\"Recall Score : \",recall_score(y_test, y_pred3,average='weighted'))\n",
    "\n",
    "\n",
    "from sklearn.metrics import f1_score\n",
    "print(\"f1_score : \",f1_score(y_test, y_pred3,average='weighted'))"
   ]
  },
  {
   "cell_type": "markdown",
   "id": "c3cac0b4",
   "metadata": {},
   "source": [
    "# XGBoost"
   ]
  },
  {
   "cell_type": "code",
   "execution_count": 44,
   "id": "d28fa486",
   "metadata": {},
   "outputs": [
    {
     "name": "stderr",
     "output_type": "stream",
     "text": [
      "E:\\MachineLearning\\envs\\gpu\\lib\\site-packages\\xgboost\\compat.py:36: FutureWarning: pandas.Int64Index is deprecated and will be removed from pandas in a future version. Use pandas.Index with the appropriate dtype instead.\n",
      "  from pandas import MultiIndex, Int64Index\n",
      "E:\\MachineLearning\\envs\\gpu\\lib\\site-packages\\xgboost\\sklearn.py:1224: UserWarning: The use of label encoder in XGBClassifier is deprecated and will be removed in a future release. To remove this warning, do the following: 1) Pass option use_label_encoder=False when constructing XGBClassifier object; and 2) Encode your labels (y) as integers starting with 0, i.e. 0, 1, 2, ..., [num_class - 1].\n",
      "  warnings.warn(label_encoder_deprecation_msg, UserWarning)\n"
     ]
    },
    {
     "name": "stdout",
     "output_type": "stream",
     "text": [
      "[16:21:53] WARNING: C:/Users/Administrator/workspace/xgboost-win64_release_1.5.1/src/learner.cc:1115: Starting in XGBoost 1.3.0, the default evaluation metric used with the objective 'multi:softprob' was changed from 'merror' to 'mlogloss'. Explicitly set eval_metric if you'd like to restore the old behavior.\n"
     ]
    },
    {
     "data": {
      "text/plain": [
       "XGBClassifier(base_score=0.5, booster='gbtree', colsample_bylevel=1,\n",
       "              colsample_bynode=1, colsample_bytree=1, enable_categorical=False,\n",
       "              gamma=0, gpu_id=-1, importance_type=None,\n",
       "              interaction_constraints='', learning_rate=0.300000012,\n",
       "              max_delta_step=0, max_depth=6, min_child_weight=1, missing=nan,\n",
       "              monotone_constraints='()', n_estimators=100, n_jobs=12,\n",
       "              num_parallel_tree=1, objective='multi:softprob', predictor='auto',\n",
       "              random_state=0, reg_alpha=0, reg_lambda=1, scale_pos_weight=None,\n",
       "              subsample=1, tree_method='exact', validate_parameters=1,\n",
       "              verbosity=None)"
      ]
     },
     "execution_count": 44,
     "metadata": {},
     "output_type": "execute_result"
    }
   ],
   "source": [
    "from xgboost import XGBClassifier\n",
    "xgb = XGBClassifier()\n",
    "xgb.fit(X_train, y_train)"
   ]
  },
  {
   "cell_type": "code",
   "execution_count": 45,
   "id": "7b89e617",
   "metadata": {},
   "outputs": [],
   "source": [
    "y_pred4 = xgb.predict(X_test)"
   ]
  },
  {
   "cell_type": "code",
   "execution_count": 46,
   "id": "336cd24a",
   "metadata": {},
   "outputs": [
    {
     "name": "stdout",
     "output_type": "stream",
     "text": [
      "Accuracy is: 86.77253451231616\n"
     ]
    }
   ],
   "source": [
    "from sklearn.metrics import accuracy_score\n",
    "accuracy = {accuracy_score(y_test, y_pred4)}\n",
    "print(f\"Accuracy is: {accuracy_score(y_test, y_pred4)* 100}\")"
   ]
  },
  {
   "cell_type": "code",
   "execution_count": 47,
   "id": "2092f3be",
   "metadata": {},
   "outputs": [
    {
     "name": "stdout",
     "output_type": "stream",
     "text": [
      "\u001b[1mClassification report : \u001b[0m\n",
      "               precision    recall  f1-score   support\n",
      "\n",
      "           0       0.90      0.98      0.94     40602\n",
      "           1       0.86      0.79      0.82      1971\n",
      "           2       0.79      0.78      0.79      1947\n",
      "           3       0.83      0.73      0.77      2180\n",
      "           4       0.88      0.77      0.82      2106\n",
      "           5       0.85      0.74      0.79      1946\n",
      "           6       0.88      0.79      0.84      1892\n",
      "           7       0.86      0.72      0.78      1942\n",
      "           8       0.79      0.78      0.79      2024\n",
      "           9       0.81      0.68      0.74      2113\n",
      "          10       0.83      0.73      0.77      1882\n",
      "          11       0.85      0.73      0.79      2151\n",
      "          12       0.76      0.68      0.72      2177\n",
      "          13       0.80      0.64      0.71      1454\n",
      "          14       0.74      0.67      0.71      1529\n",
      "          15       0.74      0.75      0.75      1481\n",
      "          16       0.79      0.67      0.72      1555\n",
      "          17       0.83      0.76      0.79      1749\n",
      "          18       0.82      0.74      0.78       856\n",
      "          19       0.89      0.82      0.85       808\n",
      "          20       0.97      0.92      0.94       769\n",
      "          21       0.88      0.78      0.83       724\n",
      "          22       0.88      0.81      0.85       822\n",
      "          23       0.83      0.80      0.81       901\n",
      "\n",
      "    accuracy                           0.87     77581\n",
      "   macro avg       0.84      0.76      0.80     77581\n",
      "weighted avg       0.86      0.87      0.86     77581\n",
      "\n",
      "\u001b[1mConfusion Matrix : \u001b[0m\n"
     ]
    },
    {
     "data": {
      "image/png": "[encoded data removed]",
      "text/plain": [
       "<Figure size 432x288 with 2 Axes>"
      ]
     },
     "metadata": {
      "needs_background": "light"
     },
     "output_type": "display_data"
    }
   ],
   "source": [
    "print('\\033[1m' +'Classification report : '+ '\\033[0m\\n', classification_report(y_test, y_pred4))\n",
    "\n",
    "cm = confusion_matrix(y_pred4, y_test)\n",
    "print('\\033[1m' +'Confusion Matrix : '+ '\\033[0m')\n",
    "sns.heatmap(cm, cmap = 'OrRd',annot = True, fmt='d')\n",
    "plt.show()"
   ]
  },
  {
   "cell_type": "markdown",
   "id": "4c8e2e10",
   "metadata": {},
   "source": [
    "# Evaluation -- XGBoost"
   ]
  },
  {
   "cell_type": "code",
   "execution_count": 48,
   "id": "5eef5c67",
   "metadata": {},
   "outputs": [
    {
     "name": "stdout",
     "output_type": "stream",
     "text": [
      "MAE: 1.0803418362743455\n",
      "MSE: 12.846057668759103\n",
      "RMSE: 3.584139739011176\n"
     ]
    }
   ],
   "source": [
    "from sklearn import metrics\n",
    "\n",
    "print('MAE:', metrics.mean_absolute_error(y_test,y_pred4))\n",
    "print('MSE:', metrics.mean_squared_error(y_test, y_pred4))\n",
    "print('RMSE:', np.sqrt(metrics.mean_squared_error(y_test, y_pred4)))"
   ]
  },
  {
   "cell_type": "code",
   "execution_count": 49,
   "id": "22aae28f",
   "metadata": {},
   "outputs": [
    {
     "name": "stdout",
     "output_type": "stream",
     "text": [
      "Precision Score :  0.8645815851350523\n",
      "Recall Score :  0.8677253451231616\n",
      "f1_score :  0.8637363497060471\n"
     ]
    }
   ],
   "source": [
    "from sklearn.metrics import precision_score\n",
    "print(\"Precision Score : \",precision_score(y_test, y_pred4, average='weighted'))\n",
    "\n",
    "\n",
    "from sklearn.metrics import recall_score\n",
    "print(\"Recall Score : \",recall_score(y_test, y_pred4,average='weighted'))\n",
    "\n",
    "\n",
    "from sklearn.metrics import f1_score\n",
    "print(\"f1_score : \",f1_score(y_test, y_pred4,average='weighted'))"
   ]
  },
  {
   "cell_type": "code",
   "execution_count": null,
   "id": "9e052c75",
   "metadata": {},
   "outputs": [],
   "source": []
  },
  {
   "cell_type": "code",
   "execution_count": null,
   "id": "b3f42aaa",
   "metadata": {},
   "outputs": [],
   "source": []
  }
 ],
 "metadata": {
  "kernelspec": {
   "display_name": "Python 3 (ipykernel)",
   "language": "python",
   "name": "python3"
  },
  "language_info": {
   "codemirror_mode": {
    "name": "ipython",
    "version": 3
   },
   "file_extension": ".py",
   "mimetype": "text/x-python",
   "name": "python",
   "nbconvert_exporter": "python",
   "pygments_lexer": "ipython3",
   "version": "3.8.12"
  }
 },
 "nbformat": 4,
 "nbformat_minor": 5
}
