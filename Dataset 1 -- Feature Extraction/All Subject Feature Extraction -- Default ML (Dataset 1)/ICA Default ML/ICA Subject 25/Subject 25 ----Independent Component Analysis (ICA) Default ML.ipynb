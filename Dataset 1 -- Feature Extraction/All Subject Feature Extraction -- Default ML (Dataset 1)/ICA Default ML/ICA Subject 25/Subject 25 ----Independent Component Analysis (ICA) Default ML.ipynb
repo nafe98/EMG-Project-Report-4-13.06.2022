{
 "cells": [
  {
   "cell_type": "markdown",
   "id": "f9e9d302",
   "metadata": {},
   "source": [
    "# Importing Libraries"
   ]
  },
  {
   "cell_type": "code",
   "execution_count": 1,
   "id": "8981c1e9",
   "metadata": {},
   "outputs": [],
   "source": [
    "import numpy as np\n",
    "import pandas as pd\n",
    "import matplotlib.pyplot as plt\n",
    "import seaborn as sns\n",
    "from sklearn.model_selection import train_test_split\n",
    "from sklearn.metrics import confusion_matrix, f1_score, accuracy_score, classification_report"
   ]
  },
  {
   "cell_type": "markdown",
   "id": "8bfa8885",
   "metadata": {},
   "source": [
    "# Exploratory Data Analysis"
   ]
  },
  {
   "cell_type": "code",
   "execution_count": 2,
   "id": "ff1116c8",
   "metadata": {},
   "outputs": [
    {
     "data": {
      "text/html": [
       "<div>\n",
       "<style scoped>\n",
       "    .dataframe tbody tr th:only-of-type {\n",
       "        vertical-align: middle;\n",
       "    }\n",
       "\n",
       "    .dataframe tbody tr th {\n",
       "        vertical-align: top;\n",
       "    }\n",
       "\n",
       "    .dataframe thead th {\n",
       "        text-align: right;\n",
       "    }\n",
       "</style>\n",
       "<table border=\"1\" class=\"dataframe\">\n",
       "  <thead>\n",
       "    <tr style=\"text-align: right;\">\n",
       "      <th></th>\n",
       "      <th>Emg1</th>\n",
       "      <th>Emg2</th>\n",
       "      <th>Emg3</th>\n",
       "      <th>Emg4</th>\n",
       "      <th>Emg5</th>\n",
       "      <th>Emg6</th>\n",
       "      <th>Emg7</th>\n",
       "      <th>Emg8</th>\n",
       "      <th>Emg9</th>\n",
       "      <th>Emg10</th>\n",
       "      <th>repetition</th>\n",
       "      <th>rerepetition</th>\n",
       "      <th>stimulus</th>\n",
       "      <th>restimulus</th>\n",
       "    </tr>\n",
       "  </thead>\n",
       "  <tbody>\n",
       "    <tr>\n",
       "      <th>147427</th>\n",
       "      <td>0.0049</td>\n",
       "      <td>0.0024</td>\n",
       "      <td>0.0049</td>\n",
       "      <td>0.0024</td>\n",
       "      <td>0.0049</td>\n",
       "      <td>0.0024</td>\n",
       "      <td>0.0684</td>\n",
       "      <td>0.0610</td>\n",
       "      <td>0.0049</td>\n",
       "      <td>0.1147</td>\n",
       "      <td>0</td>\n",
       "      <td>0</td>\n",
       "      <td>0</td>\n",
       "      <td>0</td>\n",
       "    </tr>\n",
       "    <tr>\n",
       "      <th>84018</th>\n",
       "      <td>0.3882</td>\n",
       "      <td>0.0952</td>\n",
       "      <td>0.0024</td>\n",
       "      <td>0.0049</td>\n",
       "      <td>0.0024</td>\n",
       "      <td>0.0586</td>\n",
       "      <td>0.2344</td>\n",
       "      <td>1.3623</td>\n",
       "      <td>0.0049</td>\n",
       "      <td>0.1147</td>\n",
       "      <td>10</td>\n",
       "      <td>10</td>\n",
       "      <td>10</td>\n",
       "      <td>10</td>\n",
       "    </tr>\n",
       "    <tr>\n",
       "      <th>372600</th>\n",
       "      <td>0.0708</td>\n",
       "      <td>0.0024</td>\n",
       "      <td>0.0049</td>\n",
       "      <td>0.0024</td>\n",
       "      <td>0.0049</td>\n",
       "      <td>0.0024</td>\n",
       "      <td>0.0171</td>\n",
       "      <td>0.1489</td>\n",
       "      <td>0.0024</td>\n",
       "      <td>0.0317</td>\n",
       "      <td>0</td>\n",
       "      <td>0</td>\n",
       "      <td>0</td>\n",
       "      <td>0</td>\n",
       "    </tr>\n",
       "    <tr>\n",
       "      <th>448427</th>\n",
       "      <td>0.0073</td>\n",
       "      <td>0.0024</td>\n",
       "      <td>0.0049</td>\n",
       "      <td>0.0049</td>\n",
       "      <td>0.0049</td>\n",
       "      <td>0.0049</td>\n",
       "      <td>0.0977</td>\n",
       "      <td>0.0122</td>\n",
       "      <td>0.0269</td>\n",
       "      <td>0.0024</td>\n",
       "      <td>0</td>\n",
       "      <td>0</td>\n",
       "      <td>0</td>\n",
       "      <td>0</td>\n",
       "    </tr>\n",
       "    <tr>\n",
       "      <th>406293</th>\n",
       "      <td>0.8032</td>\n",
       "      <td>0.0195</td>\n",
       "      <td>0.0220</td>\n",
       "      <td>0.0806</td>\n",
       "      <td>0.0122</td>\n",
       "      <td>0.0439</td>\n",
       "      <td>0.1025</td>\n",
       "      <td>0.5273</td>\n",
       "      <td>0.0195</td>\n",
       "      <td>0.0195</td>\n",
       "      <td>4</td>\n",
       "      <td>4</td>\n",
       "      <td>18</td>\n",
       "      <td>18</td>\n",
       "    </tr>\n",
       "  </tbody>\n",
       "</table>\n",
       "</div>"
      ],
      "text/plain": [
       "          Emg1    Emg2    Emg3    Emg4    Emg5    Emg6    Emg7    Emg8  \\\n",
       "147427  0.0049  0.0024  0.0049  0.0024  0.0049  0.0024  0.0684  0.0610   \n",
       "84018   0.3882  0.0952  0.0024  0.0049  0.0024  0.0586  0.2344  1.3623   \n",
       "372600  0.0708  0.0024  0.0049  0.0024  0.0049  0.0024  0.0171  0.1489   \n",
       "448427  0.0073  0.0024  0.0049  0.0049  0.0049  0.0049  0.0977  0.0122   \n",
       "406293  0.8032  0.0195  0.0220  0.0806  0.0122  0.0439  0.1025  0.5273   \n",
       "\n",
       "          Emg9   Emg10  repetition  rerepetition  stimulus  restimulus  \n",
       "147427  0.0049  0.1147           0             0         0           0  \n",
       "84018   0.0049  0.1147          10            10        10          10  \n",
       "372600  0.0024  0.0317           0             0         0           0  \n",
       "448427  0.0269  0.0024           0             0         0           0  \n",
       "406293  0.0195  0.0195           4             4        18          18  "
      ]
     },
     "execution_count": 2,
     "metadata": {},
     "output_type": "execute_result"
    }
   ],
   "source": [
    "raw_data = pd.read_excel('Dataset 1 Patient 25.xlsx')\n",
    "raw_data.sample(5)"
   ]
  },
  {
   "cell_type": "code",
   "execution_count": 3,
   "id": "abaa902c",
   "metadata": {},
   "outputs": [
    {
     "data": {
      "text/plain": [
       "(469821, 14)"
      ]
     },
     "execution_count": 3,
     "metadata": {},
     "output_type": "execute_result"
    }
   ],
   "source": [
    "raw_data.shape"
   ]
  },
  {
   "cell_type": "code",
   "execution_count": 4,
   "id": "4c5eb0e0",
   "metadata": {},
   "outputs": [
    {
     "data": {
      "text/plain": [
       "Index(['Emg1', 'Emg2', 'Emg3', 'Emg4', 'Emg5', 'Emg6', 'Emg7', 'Emg8', 'Emg9',\n",
       "       'Emg10', 'repetition', 'rerepetition', 'stimulus', 'restimulus'],\n",
       "      dtype='object')"
      ]
     },
     "execution_count": 4,
     "metadata": {},
     "output_type": "execute_result"
    }
   ],
   "source": [
    "raw_data.columns"
   ]
  },
  {
   "cell_type": "code",
   "execution_count": 5,
   "id": "4154dd68",
   "metadata": {},
   "outputs": [
    {
     "name": "stdout",
     "output_type": "stream",
     "text": [
      "<class 'pandas.core.frame.DataFrame'>\n",
      "RangeIndex: 469821 entries, 0 to 469820\n",
      "Data columns (total 14 columns):\n",
      " #   Column        Non-Null Count   Dtype  \n",
      "---  ------        --------------   -----  \n",
      " 0   Emg1          469821 non-null  float64\n",
      " 1   Emg2          469821 non-null  float64\n",
      " 2   Emg3          469821 non-null  float64\n",
      " 3   Emg4          469821 non-null  float64\n",
      " 4   Emg5          469821 non-null  float64\n",
      " 5   Emg6          469821 non-null  float64\n",
      " 6   Emg7          469821 non-null  float64\n",
      " 7   Emg8          469821 non-null  float64\n",
      " 8   Emg9          469821 non-null  float64\n",
      " 9   Emg10         469821 non-null  float64\n",
      " 10  repetition    469821 non-null  int64  \n",
      " 11  rerepetition  469821 non-null  int64  \n",
      " 12  stimulus      469821 non-null  int64  \n",
      " 13  restimulus    469821 non-null  int64  \n",
      "dtypes: float64(10), int64(4)\n",
      "memory usage: 50.2 MB\n"
     ]
    }
   ],
   "source": [
    "raw_data.info()"
   ]
  },
  {
   "cell_type": "code",
   "execution_count": 6,
   "id": "9ad2648b",
   "metadata": {},
   "outputs": [
    {
     "data": {
      "text/html": [
       "<div>\n",
       "<style scoped>\n",
       "    .dataframe tbody tr th:only-of-type {\n",
       "        vertical-align: middle;\n",
       "    }\n",
       "\n",
       "    .dataframe tbody tr th {\n",
       "        vertical-align: top;\n",
       "    }\n",
       "\n",
       "    .dataframe thead th {\n",
       "        text-align: right;\n",
       "    }\n",
       "</style>\n",
       "<table border=\"1\" class=\"dataframe\">\n",
       "  <thead>\n",
       "    <tr style=\"text-align: right;\">\n",
       "      <th></th>\n",
       "      <th>Emg1</th>\n",
       "      <th>Emg2</th>\n",
       "      <th>Emg3</th>\n",
       "      <th>Emg4</th>\n",
       "      <th>Emg5</th>\n",
       "      <th>Emg6</th>\n",
       "      <th>Emg7</th>\n",
       "      <th>Emg8</th>\n",
       "      <th>Emg9</th>\n",
       "      <th>Emg10</th>\n",
       "      <th>repetition</th>\n",
       "      <th>rerepetition</th>\n",
       "      <th>stimulus</th>\n",
       "      <th>restimulus</th>\n",
       "    </tr>\n",
       "  </thead>\n",
       "  <tbody>\n",
       "    <tr>\n",
       "      <th>count</th>\n",
       "      <td>469821.000000</td>\n",
       "      <td>469821.000000</td>\n",
       "      <td>469821.000000</td>\n",
       "      <td>469821.000000</td>\n",
       "      <td>469821.000000</td>\n",
       "      <td>469821.000000</td>\n",
       "      <td>469821.000000</td>\n",
       "      <td>469821.000000</td>\n",
       "      <td>469821.000000</td>\n",
       "      <td>469821.000000</td>\n",
       "      <td>469821.000000</td>\n",
       "      <td>469821.000000</td>\n",
       "      <td>469821.000000</td>\n",
       "      <td>469821.000000</td>\n",
       "    </tr>\n",
       "    <tr>\n",
       "      <th>mean</th>\n",
       "      <td>0.268114</td>\n",
       "      <td>0.156607</td>\n",
       "      <td>0.128820</td>\n",
       "      <td>0.109278</td>\n",
       "      <td>0.020653</td>\n",
       "      <td>0.037569</td>\n",
       "      <td>0.349515</td>\n",
       "      <td>0.402672</td>\n",
       "      <td>0.131860</td>\n",
       "      <td>0.270130</td>\n",
       "      <td>3.156387</td>\n",
       "      <td>2.382701</td>\n",
       "      <td>5.594729</td>\n",
       "      <td>4.278744</td>\n",
       "    </tr>\n",
       "    <tr>\n",
       "      <th>std</th>\n",
       "      <td>0.324583</td>\n",
       "      <td>0.297356</td>\n",
       "      <td>0.288758</td>\n",
       "      <td>0.312210</td>\n",
       "      <td>0.053065</td>\n",
       "      <td>0.090803</td>\n",
       "      <td>0.522189</td>\n",
       "      <td>0.513143</td>\n",
       "      <td>0.335658</td>\n",
       "      <td>0.439442</td>\n",
       "      <td>3.483117</td>\n",
       "      <td>3.324333</td>\n",
       "      <td>6.577557</td>\n",
       "      <td>6.291936</td>\n",
       "    </tr>\n",
       "    <tr>\n",
       "      <th>min</th>\n",
       "      <td>0.002400</td>\n",
       "      <td>0.002400</td>\n",
       "      <td>0.002400</td>\n",
       "      <td>0.002400</td>\n",
       "      <td>0.002400</td>\n",
       "      <td>0.002400</td>\n",
       "      <td>0.002400</td>\n",
       "      <td>0.002400</td>\n",
       "      <td>0.002400</td>\n",
       "      <td>0.002400</td>\n",
       "      <td>0.000000</td>\n",
       "      <td>0.000000</td>\n",
       "      <td>0.000000</td>\n",
       "      <td>0.000000</td>\n",
       "    </tr>\n",
       "    <tr>\n",
       "      <th>25%</th>\n",
       "      <td>0.061000</td>\n",
       "      <td>0.002400</td>\n",
       "      <td>0.004900</td>\n",
       "      <td>0.002400</td>\n",
       "      <td>0.004900</td>\n",
       "      <td>0.002400</td>\n",
       "      <td>0.078100</td>\n",
       "      <td>0.102500</td>\n",
       "      <td>0.002400</td>\n",
       "      <td>0.012200</td>\n",
       "      <td>0.000000</td>\n",
       "      <td>0.000000</td>\n",
       "      <td>0.000000</td>\n",
       "      <td>0.000000</td>\n",
       "    </tr>\n",
       "    <tr>\n",
       "      <th>50%</th>\n",
       "      <td>0.153800</td>\n",
       "      <td>0.019500</td>\n",
       "      <td>0.004900</td>\n",
       "      <td>0.004900</td>\n",
       "      <td>0.004900</td>\n",
       "      <td>0.007300</td>\n",
       "      <td>0.178200</td>\n",
       "      <td>0.251500</td>\n",
       "      <td>0.004900</td>\n",
       "      <td>0.100100</td>\n",
       "      <td>2.000000</td>\n",
       "      <td>0.000000</td>\n",
       "      <td>3.000000</td>\n",
       "      <td>0.000000</td>\n",
       "    </tr>\n",
       "    <tr>\n",
       "      <th>75%</th>\n",
       "      <td>0.361300</td>\n",
       "      <td>0.168500</td>\n",
       "      <td>0.144000</td>\n",
       "      <td>0.048800</td>\n",
       "      <td>0.007300</td>\n",
       "      <td>0.036600</td>\n",
       "      <td>0.397900</td>\n",
       "      <td>0.488300</td>\n",
       "      <td>0.112300</td>\n",
       "      <td>0.356400</td>\n",
       "      <td>6.000000</td>\n",
       "      <td>5.000000</td>\n",
       "      <td>10.000000</td>\n",
       "      <td>8.000000</td>\n",
       "    </tr>\n",
       "    <tr>\n",
       "      <th>max</th>\n",
       "      <td>4.643600</td>\n",
       "      <td>4.147900</td>\n",
       "      <td>4.638700</td>\n",
       "      <td>4.643600</td>\n",
       "      <td>1.992200</td>\n",
       "      <td>2.661100</td>\n",
       "      <td>4.641100</td>\n",
       "      <td>4.646000</td>\n",
       "      <td>4.638700</td>\n",
       "      <td>4.638700</td>\n",
       "      <td>10.000000</td>\n",
       "      <td>10.000000</td>\n",
       "      <td>23.000000</td>\n",
       "      <td>23.000000</td>\n",
       "    </tr>\n",
       "  </tbody>\n",
       "</table>\n",
       "</div>"
      ],
      "text/plain": [
       "                Emg1           Emg2           Emg3           Emg4  \\\n",
       "count  469821.000000  469821.000000  469821.000000  469821.000000   \n",
       "mean        0.268114       0.156607       0.128820       0.109278   \n",
       "std         0.324583       0.297356       0.288758       0.312210   \n",
       "min         0.002400       0.002400       0.002400       0.002400   \n",
       "25%         0.061000       0.002400       0.004900       0.002400   \n",
       "50%         0.153800       0.019500       0.004900       0.004900   \n",
       "75%         0.361300       0.168500       0.144000       0.048800   \n",
       "max         4.643600       4.147900       4.638700       4.643600   \n",
       "\n",
       "                Emg5           Emg6           Emg7           Emg8  \\\n",
       "count  469821.000000  469821.000000  469821.000000  469821.000000   \n",
       "mean        0.020653       0.037569       0.349515       0.402672   \n",
       "std         0.053065       0.090803       0.522189       0.513143   \n",
       "min         0.002400       0.002400       0.002400       0.002400   \n",
       "25%         0.004900       0.002400       0.078100       0.102500   \n",
       "50%         0.004900       0.007300       0.178200       0.251500   \n",
       "75%         0.007300       0.036600       0.397900       0.488300   \n",
       "max         1.992200       2.661100       4.641100       4.646000   \n",
       "\n",
       "                Emg9          Emg10     repetition   rerepetition  \\\n",
       "count  469821.000000  469821.000000  469821.000000  469821.000000   \n",
       "mean        0.131860       0.270130       3.156387       2.382701   \n",
       "std         0.335658       0.439442       3.483117       3.324333   \n",
       "min         0.002400       0.002400       0.000000       0.000000   \n",
       "25%         0.002400       0.012200       0.000000       0.000000   \n",
       "50%         0.004900       0.100100       2.000000       0.000000   \n",
       "75%         0.112300       0.356400       6.000000       5.000000   \n",
       "max         4.638700       4.638700      10.000000      10.000000   \n",
       "\n",
       "            stimulus     restimulus  \n",
       "count  469821.000000  469821.000000  \n",
       "mean        5.594729       4.278744  \n",
       "std         6.577557       6.291936  \n",
       "min         0.000000       0.000000  \n",
       "25%         0.000000       0.000000  \n",
       "50%         3.000000       0.000000  \n",
       "75%        10.000000       8.000000  \n",
       "max        23.000000      23.000000  "
      ]
     },
     "execution_count": 6,
     "metadata": {},
     "output_type": "execute_result"
    }
   ],
   "source": [
    "raw_data.describe(include='all')"
   ]
  },
  {
   "cell_type": "code",
   "execution_count": 7,
   "id": "ccb02915",
   "metadata": {},
   "outputs": [
    {
     "name": "stdout",
     "output_type": "stream",
     "text": [
      "Unique Dependent values and their counts :\n",
      "0     200217\n",
      "8      15593\n",
      "7      15585\n",
      "2      15581\n",
      "4      15579\n",
      "12     15577\n",
      "9      15553\n",
      "11     15552\n",
      "6      15541\n",
      "5      15533\n",
      "3      15531\n",
      "10     15525\n",
      "1      15505\n",
      "14     10403\n",
      "17     10402\n",
      "13     10386\n",
      "15     10360\n",
      "16     10325\n",
      "18      5198\n",
      "21      5198\n",
      "19      5193\n",
      "23      5163\n",
      "20      5161\n",
      "22      5160\n",
      "Name: stimulus, dtype: int64\n"
     ]
    }
   ],
   "source": [
    "print(\"Unique Dependent values and their counts :\")\n",
    "print(raw_data[\"stimulus\"].value_counts())"
   ]
  },
  {
   "cell_type": "code",
   "execution_count": 8,
   "id": "4bfaf7c1",
   "metadata": {},
   "outputs": [
    {
     "data": {
      "text/plain": [
       "Text(0, 0.5, 'Frequency')"
      ]
     },
     "execution_count": 8,
     "metadata": {},
     "output_type": "execute_result"
    },
    {
     "data": {
      "image/png": "[encoded data removed]",
      "text/plain": [
       "<Figure size 432x288 with 1 Axes>"
      ]
     },
     "metadata": {
      "needs_background": "light"
     },
     "output_type": "display_data"
    }
   ],
   "source": [
    "count_classes = pd.value_counts(raw_data['stimulus'], sort = True)\n",
    "\n",
    "count_classes.plot(kind = 'bar', rot=0)\n",
    "\n",
    "plt.title(\"stimulus Class Distribution\")\n",
    "\n",
    "plt.xlabel(\"Class\")\n",
    "\n",
    "plt.ylabel(\"Frequency\")"
   ]
  },
  {
   "cell_type": "markdown",
   "id": "631d4bd5",
   "metadata": {},
   "source": [
    "# Data Cleaning and Exploratory Data Analysis with New Data"
   ]
  },
  {
   "cell_type": "code",
   "execution_count": 9,
   "id": "77a8fee4",
   "metadata": {},
   "outputs": [],
   "source": [
    "index_names = raw_data[ (raw_data['stimulus'] != raw_data['restimulus'])].index\n",
    "raw_data.drop(index_names, inplace = True)"
   ]
  },
  {
   "cell_type": "code",
   "execution_count": 10,
   "id": "e1ca9001",
   "metadata": {},
   "outputs": [],
   "source": [
    "index_names = raw_data[ (raw_data['repetition'] != raw_data['rerepetition'])].index\n",
    "raw_data.drop(index_names, inplace = True)"
   ]
  },
  {
   "cell_type": "code",
   "execution_count": 11,
   "id": "eb95b5d8",
   "metadata": {},
   "outputs": [
    {
     "data": {
      "text/html": [
       "<div>\n",
       "<style scoped>\n",
       "    .dataframe tbody tr th:only-of-type {\n",
       "        vertical-align: middle;\n",
       "    }\n",
       "\n",
       "    .dataframe tbody tr th {\n",
       "        vertical-align: top;\n",
       "    }\n",
       "\n",
       "    .dataframe thead th {\n",
       "        text-align: right;\n",
       "    }\n",
       "</style>\n",
       "<table border=\"1\" class=\"dataframe\">\n",
       "  <thead>\n",
       "    <tr style=\"text-align: right;\">\n",
       "      <th></th>\n",
       "      <th>Emg1</th>\n",
       "      <th>Emg2</th>\n",
       "      <th>Emg3</th>\n",
       "      <th>Emg4</th>\n",
       "      <th>Emg5</th>\n",
       "      <th>Emg6</th>\n",
       "      <th>Emg7</th>\n",
       "      <th>Emg8</th>\n",
       "      <th>Emg9</th>\n",
       "      <th>Emg10</th>\n",
       "      <th>repetition</th>\n",
       "      <th>rerepetition</th>\n",
       "      <th>stimulus</th>\n",
       "      <th>restimulus</th>\n",
       "    </tr>\n",
       "  </thead>\n",
       "  <tbody>\n",
       "    <tr>\n",
       "      <th>448993</th>\n",
       "      <td>0.0342</td>\n",
       "      <td>0.0024</td>\n",
       "      <td>0.0049</td>\n",
       "      <td>0.0513</td>\n",
       "      <td>0.0415</td>\n",
       "      <td>0.0635</td>\n",
       "      <td>0.0049</td>\n",
       "      <td>0.1855</td>\n",
       "      <td>0.0024</td>\n",
       "      <td>0.0366</td>\n",
       "      <td>0</td>\n",
       "      <td>0</td>\n",
       "      <td>0</td>\n",
       "      <td>0</td>\n",
       "    </tr>\n",
       "    <tr>\n",
       "      <th>434752</th>\n",
       "      <td>0.0024</td>\n",
       "      <td>0.0024</td>\n",
       "      <td>0.0049</td>\n",
       "      <td>0.0049</td>\n",
       "      <td>0.0024</td>\n",
       "      <td>0.0049</td>\n",
       "      <td>0.0024</td>\n",
       "      <td>0.0024</td>\n",
       "      <td>0.0024</td>\n",
       "      <td>0.0024</td>\n",
       "      <td>0</td>\n",
       "      <td>0</td>\n",
       "      <td>0</td>\n",
       "      <td>0</td>\n",
       "    </tr>\n",
       "    <tr>\n",
       "      <th>143608</th>\n",
       "      <td>0.5176</td>\n",
       "      <td>0.5737</td>\n",
       "      <td>0.5713</td>\n",
       "      <td>0.8203</td>\n",
       "      <td>0.0806</td>\n",
       "      <td>0.1001</td>\n",
       "      <td>2.0264</td>\n",
       "      <td>1.0791</td>\n",
       "      <td>0.4028</td>\n",
       "      <td>1.3428</td>\n",
       "      <td>10</td>\n",
       "      <td>10</td>\n",
       "      <td>5</td>\n",
       "      <td>5</td>\n",
       "    </tr>\n",
       "    <tr>\n",
       "      <th>312099</th>\n",
       "      <td>0.6836</td>\n",
       "      <td>0.2856</td>\n",
       "      <td>0.0049</td>\n",
       "      <td>0.1245</td>\n",
       "      <td>0.0049</td>\n",
       "      <td>0.0488</td>\n",
       "      <td>0.1172</td>\n",
       "      <td>0.2808</td>\n",
       "      <td>0.0024</td>\n",
       "      <td>0.2368</td>\n",
       "      <td>1</td>\n",
       "      <td>1</td>\n",
       "      <td>8</td>\n",
       "      <td>8</td>\n",
       "    </tr>\n",
       "    <tr>\n",
       "      <th>263605</th>\n",
       "      <td>0.0171</td>\n",
       "      <td>0.0024</td>\n",
       "      <td>0.0024</td>\n",
       "      <td>0.0024</td>\n",
       "      <td>0.0049</td>\n",
       "      <td>0.0024</td>\n",
       "      <td>0.0659</td>\n",
       "      <td>0.2930</td>\n",
       "      <td>0.0024</td>\n",
       "      <td>0.0684</td>\n",
       "      <td>0</td>\n",
       "      <td>0</td>\n",
       "      <td>0</td>\n",
       "      <td>0</td>\n",
       "    </tr>\n",
       "  </tbody>\n",
       "</table>\n",
       "</div>"
      ],
      "text/plain": [
       "          Emg1    Emg2    Emg3    Emg4    Emg5    Emg6    Emg7    Emg8  \\\n",
       "448993  0.0342  0.0024  0.0049  0.0513  0.0415  0.0635  0.0049  0.1855   \n",
       "434752  0.0024  0.0024  0.0049  0.0049  0.0024  0.0049  0.0024  0.0024   \n",
       "143608  0.5176  0.5737  0.5713  0.8203  0.0806  0.1001  2.0264  1.0791   \n",
       "312099  0.6836  0.2856  0.0049  0.1245  0.0049  0.0488  0.1172  0.2808   \n",
       "263605  0.0171  0.0024  0.0024  0.0024  0.0049  0.0024  0.0659  0.2930   \n",
       "\n",
       "          Emg9   Emg10  repetition  rerepetition  stimulus  restimulus  \n",
       "448993  0.0024  0.0366           0             0         0           0  \n",
       "434752  0.0024  0.0024           0             0         0           0  \n",
       "143608  0.4028  1.3428          10            10         5           5  \n",
       "312099  0.0024  0.2368           1             1         8           8  \n",
       "263605  0.0024  0.0684           0             0         0           0  "
      ]
     },
     "execution_count": 11,
     "metadata": {},
     "output_type": "execute_result"
    }
   ],
   "source": [
    "raw_data.sample(5)"
   ]
  },
  {
   "cell_type": "code",
   "execution_count": 12,
   "id": "f0aa807e",
   "metadata": {},
   "outputs": [
    {
     "data": {
      "text/plain": [
       "(394034, 14)"
      ]
     },
     "execution_count": 12,
     "metadata": {},
     "output_type": "execute_result"
    }
   ],
   "source": [
    "raw_data.shape"
   ]
  },
  {
   "cell_type": "code",
   "execution_count": 13,
   "id": "8dd504b5",
   "metadata": {},
   "outputs": [
    {
     "name": "stdout",
     "output_type": "stream",
     "text": [
      "<class 'pandas.core.frame.DataFrame'>\n",
      "Int64Index: 394034 entries, 0 to 469820\n",
      "Data columns (total 14 columns):\n",
      " #   Column        Non-Null Count   Dtype  \n",
      "---  ------        --------------   -----  \n",
      " 0   Emg1          394034 non-null  float64\n",
      " 1   Emg2          394034 non-null  float64\n",
      " 2   Emg3          394034 non-null  float64\n",
      " 3   Emg4          394034 non-null  float64\n",
      " 4   Emg5          394034 non-null  float64\n",
      " 5   Emg6          394034 non-null  float64\n",
      " 6   Emg7          394034 non-null  float64\n",
      " 7   Emg8          394034 non-null  float64\n",
      " 8   Emg9          394034 non-null  float64\n",
      " 9   Emg10         394034 non-null  float64\n",
      " 10  repetition    394034 non-null  int64  \n",
      " 11  rerepetition  394034 non-null  int64  \n",
      " 12  stimulus      394034 non-null  int64  \n",
      " 13  restimulus    394034 non-null  int64  \n",
      "dtypes: float64(10), int64(4)\n",
      "memory usage: 45.1 MB\n"
     ]
    }
   ],
   "source": [
    "raw_data.info()"
   ]
  },
  {
   "cell_type": "code",
   "execution_count": 14,
   "id": "8613e6c0",
   "metadata": {},
   "outputs": [
    {
     "name": "stdout",
     "output_type": "stream",
     "text": [
      "Emg1            False\n",
      "Emg2            False\n",
      "Emg3            False\n",
      "Emg4            False\n",
      "Emg5            False\n",
      "Emg6            False\n",
      "Emg7            False\n",
      "Emg8            False\n",
      "Emg9            False\n",
      "Emg10           False\n",
      "repetition      False\n",
      "rerepetition    False\n",
      "stimulus        False\n",
      "restimulus      False\n",
      "dtype: bool\n"
     ]
    }
   ],
   "source": [
    "print(raw_data.isnull().any())"
   ]
  },
  {
   "cell_type": "code",
   "execution_count": 15,
   "id": "e4f2afdb",
   "metadata": {},
   "outputs": [],
   "source": [
    "X = raw_data.iloc[:,0:10]\n",
    "y = raw_data.stimulus"
   ]
  },
  {
   "cell_type": "markdown",
   "id": "82fcb689",
   "metadata": {},
   "source": [
    "# Scalling Data"
   ]
  },
  {
   "cell_type": "code",
   "execution_count": 16,
   "id": "9805af20",
   "metadata": {},
   "outputs": [],
   "source": [
    "from sklearn.preprocessing import StandardScaler"
   ]
  },
  {
   "cell_type": "code",
   "execution_count": 17,
   "id": "f3de76a5",
   "metadata": {},
   "outputs": [],
   "source": [
    "X = StandardScaler().fit_transform(X)"
   ]
  },
  {
   "cell_type": "markdown",
   "id": "00f28aad",
   "metadata": {},
   "source": [
    "# Indipendent Component Analysis (ICA)"
   ]
  },
  {
   "cell_type": "markdown",
   "id": "61dfd812",
   "metadata": {},
   "source": [
    "https://www.nmr.mgh.harvard.edu/mne/0.14/manual/preprocessing/ica.html"
   ]
  },
  {
   "cell_type": "code",
   "execution_count": 18,
   "id": "0a603cf6",
   "metadata": {},
   "outputs": [],
   "source": [
    "from sklearn.decomposition import FastICA\n",
    "\n",
    "ica = FastICA(n_components=10)\n",
    "X_ica = ica.fit_transform(X)"
   ]
  },
  {
   "cell_type": "code",
   "execution_count": 19,
   "id": "bf27b986",
   "metadata": {},
   "outputs": [],
   "source": [
    "# Splitting data for training and testing\n",
    "X_train, X_test, y_train, y_test = train_test_split(X_ica, y, test_size = 0.2, random_state = 39)"
   ]
  },
  {
   "cell_type": "markdown",
   "id": "cf4fd4a4",
   "metadata": {},
   "source": [
    "# Machine Learning Models"
   ]
  },
  {
   "cell_type": "code",
   "execution_count": 20,
   "id": "ee87f20f",
   "metadata": {},
   "outputs": [
    {
     "data": {
      "text/plain": [
       "DecisionTreeClassifier()"
      ]
     },
     "execution_count": 20,
     "metadata": {},
     "output_type": "execute_result"
    }
   ],
   "source": [
    "from sklearn import tree\n",
    "tree = tree.DecisionTreeClassifier()\n",
    "tree.fit(X_train, y_train)"
   ]
  },
  {
   "cell_type": "code",
   "execution_count": 21,
   "id": "e6352c65",
   "metadata": {},
   "outputs": [],
   "source": [
    "y_pred1 = tree.predict(X_test)"
   ]
  },
  {
   "cell_type": "code",
   "execution_count": 22,
   "id": "a3327a44",
   "metadata": {},
   "outputs": [
    {
     "name": "stdout",
     "output_type": "stream",
     "text": [
      "Accuracy is: 85.8210565051328\n"
     ]
    }
   ],
   "source": [
    "from sklearn.metrics import accuracy_score\n",
    "accuracy = {accuracy_score(y_test, y_pred1)}\n",
    "print(f\"Accuracy is: {accuracy_score(y_test, y_pred1)* 100}\")"
   ]
  },
  {
   "cell_type": "code",
   "execution_count": 23,
   "id": "915a5654",
   "metadata": {},
   "outputs": [
    {
     "name": "stdout",
     "output_type": "stream",
     "text": [
      "\u001b[1mClassification report : \u001b[0m\n",
      "               precision    recall  f1-score   support\n",
      "\n",
      "           0       0.94      0.94      0.94     39171\n",
      "           1       0.77      0.77      0.77      1948\n",
      "           2       0.79      0.78      0.79      2393\n",
      "           3       0.75      0.76      0.76      2279\n",
      "           4       0.78      0.79      0.79      2303\n",
      "           5       0.75      0.78      0.76      2129\n",
      "           6       0.87      0.86      0.86      2103\n",
      "           7       0.81      0.80      0.81      2131\n",
      "           8       0.81      0.81      0.81      2256\n",
      "           9       0.72      0.73      0.73      2332\n",
      "          10       0.63      0.65      0.64      2518\n",
      "          11       0.82      0.81      0.81      2252\n",
      "          12       0.70      0.72      0.71      2438\n",
      "          13       0.80      0.80      0.80      1487\n",
      "          14       0.79      0.80      0.79      1393\n",
      "          15       0.75      0.74      0.74      1511\n",
      "          16       0.81      0.81      0.81      1565\n",
      "          17       0.80      0.81      0.81      1684\n",
      "          18       0.81      0.83      0.82       838\n",
      "          19       0.85      0.81      0.83       766\n",
      "          20       0.84      0.86      0.85       882\n",
      "          21       0.78      0.76      0.77       688\n",
      "          22       0.87      0.84      0.85       862\n",
      "          23       0.82      0.82      0.82       878\n",
      "\n",
      "    accuracy                           0.86     78807\n",
      "   macro avg       0.80      0.79      0.80     78807\n",
      "weighted avg       0.86      0.86      0.86     78807\n",
      "\n",
      "\u001b[1mConfusion Matrix : \u001b[0m\n"
     ]
    },
    {
     "data": {
      "image/png": "[encoded data removed]",
      "text/plain": [
       "<Figure size 432x288 with 2 Axes>"
      ]
     },
     "metadata": {
      "needs_background": "light"
     },
     "output_type": "display_data"
    }
   ],
   "source": [
    "print('\\033[1m' +'Classification report : '+ '\\033[0m\\n', classification_report(y_test, y_pred1))\n",
    "\n",
    "cm = confusion_matrix(y_pred1, y_test)\n",
    "print('\\033[1m' +'Confusion Matrix : '+ '\\033[0m')\n",
    "sns.heatmap(cm, cmap = 'OrRd',annot = True, fmt='d')\n",
    "plt.show()"
   ]
  },
  {
   "cell_type": "markdown",
   "id": "4ef9004a",
   "metadata": {},
   "source": [
    "# Evaluation -- Decision Tree"
   ]
  },
  {
   "cell_type": "code",
   "execution_count": 24,
   "id": "2c142e08",
   "metadata": {},
   "outputs": [
    {
     "name": "stdout",
     "output_type": "stream",
     "text": [
      "MAE: 1.0282208433261004\n",
      "MSE: 11.133566815130635\n",
      "RMSE: 3.3366999887809263\n"
     ]
    }
   ],
   "source": [
    "from sklearn import metrics\n",
    "\n",
    "print('MAE:', metrics.mean_absolute_error(y_test,y_pred1))\n",
    "print('MSE:', metrics.mean_squared_error(y_test, y_pred1))\n",
    "print('RMSE:', np.sqrt(metrics.mean_squared_error(y_test, y_pred1)))"
   ]
  },
  {
   "cell_type": "code",
   "execution_count": 25,
   "id": "124d29fe",
   "metadata": {},
   "outputs": [
    {
     "name": "stdout",
     "output_type": "stream",
     "text": [
      "Precision Score :  0.858788161901637\n",
      "Recall Score :  0.858210565051328\n",
      "f1_score :  0.8584671146234414\n"
     ]
    }
   ],
   "source": [
    "from sklearn.metrics import precision_score\n",
    "print(\"Precision Score : \",precision_score(y_test, y_pred1, average='weighted'))\n",
    "\n",
    "\n",
    "from sklearn.metrics import recall_score\n",
    "print(\"Recall Score : \",recall_score(y_test, y_pred1,average='weighted'))\n",
    "\n",
    "\n",
    "from sklearn.metrics import f1_score\n",
    "print(\"f1_score : \",f1_score(y_test, y_pred1,average='weighted'))"
   ]
  },
  {
   "cell_type": "markdown",
   "id": "c1e0290e",
   "metadata": {},
   "source": [
    "# KNeighborsClassifier"
   ]
  },
  {
   "cell_type": "code",
   "execution_count": 26,
   "id": "d9cda07b",
   "metadata": {},
   "outputs": [
    {
     "data": {
      "text/plain": [
       "KNeighborsClassifier()"
      ]
     },
     "execution_count": 26,
     "metadata": {},
     "output_type": "execute_result"
    }
   ],
   "source": [
    "from sklearn.neighbors import KNeighborsClassifier\n",
    "KNeighborsClassifier = KNeighborsClassifier()\n",
    "KNeighborsClassifier.fit(X_train, y_train)"
   ]
  },
  {
   "cell_type": "code",
   "execution_count": 27,
   "id": "cb94d10c",
   "metadata": {},
   "outputs": [],
   "source": [
    "y_pred2 = KNeighborsClassifier.predict(X_test)"
   ]
  },
  {
   "cell_type": "code",
   "execution_count": 28,
   "id": "4f9d466c",
   "metadata": {},
   "outputs": [
    {
     "name": "stdout",
     "output_type": "stream",
     "text": [
      "Accuracy is: 94.71366756760187\n"
     ]
    }
   ],
   "source": [
    "from sklearn.metrics import accuracy_score\n",
    "accuracy = {accuracy_score(y_test, y_pred2)}\n",
    "print(f\"Accuracy is: {accuracy_score(y_test, y_pred2)* 100}\")"
   ]
  },
  {
   "cell_type": "code",
   "execution_count": 29,
   "id": "b28ae637",
   "metadata": {},
   "outputs": [
    {
     "name": "stdout",
     "output_type": "stream",
     "text": [
      "\u001b[1mClassification report : \u001b[0m\n",
      "               precision    recall  f1-score   support\n",
      "\n",
      "           0       0.95      0.99      0.97     39171\n",
      "           1       0.93      0.92      0.93      1948\n",
      "           2       0.95      0.91      0.93      2393\n",
      "           3       0.93      0.90      0.92      2279\n",
      "           4       0.95      0.91      0.93      2303\n",
      "           5       0.95      0.92      0.94      2129\n",
      "           6       0.98      0.96      0.97      2103\n",
      "           7       0.95      0.90      0.92      2131\n",
      "           8       0.95      0.93      0.94      2256\n",
      "           9       0.94      0.89      0.91      2332\n",
      "          10       0.89      0.80      0.84      2518\n",
      "          11       0.95      0.94      0.95      2252\n",
      "          12       0.91      0.82      0.86      2438\n",
      "          13       0.97      0.94      0.96      1487\n",
      "          14       0.95      0.91      0.93      1393\n",
      "          15       0.93      0.90      0.91      1511\n",
      "          16       0.96      0.93      0.95      1565\n",
      "          17       0.95      0.92      0.94      1684\n",
      "          18       0.97      0.91      0.94       838\n",
      "          19       0.98      0.92      0.95       766\n",
      "          20       0.98      0.94      0.96       882\n",
      "          21       0.98      0.95      0.96       688\n",
      "          22       0.99      0.94      0.96       862\n",
      "          23       0.98      0.94      0.96       878\n",
      "\n",
      "    accuracy                           0.95     78807\n",
      "   macro avg       0.95      0.92      0.93     78807\n",
      "weighted avg       0.95      0.95      0.95     78807\n",
      "\n",
      "\u001b[1mConfusion Matrix : \u001b[0m\n"
     ]
    },
    {
     "data": {
      "image/png": "[encoded data removed]",
      "text/plain": [
       "<Figure size 432x288 with 2 Axes>"
      ]
     },
     "metadata": {
      "needs_background": "light"
     },
     "output_type": "display_data"
    }
   ],
   "source": [
    "print('\\033[1m' +'Classification report : '+ '\\033[0m\\n', classification_report(y_test, y_pred2))\n",
    "\n",
    "cm = confusion_matrix(y_pred2, y_test)\n",
    "print('\\033[1m' +'Confusion Matrix : '+ '\\033[0m')\n",
    "sns.heatmap(cm, cmap = 'OrRd',annot = True, fmt='d')\n",
    "plt.show()"
   ]
  },
  {
   "cell_type": "markdown",
   "id": "094b157e",
   "metadata": {},
   "source": [
    "# Evaluation -- KNeighborsClassifier"
   ]
  },
  {
   "cell_type": "code",
   "execution_count": 30,
   "id": "75ecd7ea",
   "metadata": {},
   "outputs": [
    {
     "name": "stdout",
     "output_type": "stream",
     "text": [
      "MAE: 0.4184019186112909\n",
      "MSE: 4.669724770642202\n",
      "RMSE: 2.1609545970802353\n"
     ]
    }
   ],
   "source": [
    "from sklearn import metrics\n",
    "\n",
    "print('MAE:', metrics.mean_absolute_error(y_test,y_pred2))\n",
    "print('MSE:', metrics.mean_squared_error(y_test, y_pred2))\n",
    "print('RMSE:', np.sqrt(metrics.mean_squared_error(y_test, y_pred2)))"
   ]
  },
  {
   "cell_type": "code",
   "execution_count": 31,
   "id": "1abb6ec2",
   "metadata": {},
   "outputs": [
    {
     "name": "stdout",
     "output_type": "stream",
     "text": [
      "Precision Score :  0.9469693644207043\n",
      "Recall Score :  0.9471366756760187\n",
      "f1_score :  0.9465319674399008\n"
     ]
    }
   ],
   "source": [
    "from sklearn.metrics import precision_score\n",
    "print(\"Precision Score : \",precision_score(y_test, y_pred2, average='weighted'))\n",
    "\n",
    "\n",
    "from sklearn.metrics import recall_score\n",
    "print(\"Recall Score : \",recall_score(y_test, y_pred2,average='weighted'))\n",
    "\n",
    "\n",
    "from sklearn.metrics import f1_score\n",
    "print(\"f1_score : \",f1_score(y_test, y_pred2,average='weighted'))"
   ]
  },
  {
   "cell_type": "markdown",
   "id": "8fdcff29",
   "metadata": {},
   "source": [
    "# ExtraTreesClassifier"
   ]
  },
  {
   "cell_type": "code",
   "execution_count": 32,
   "id": "a8bb8e91",
   "metadata": {},
   "outputs": [
    {
     "data": {
      "text/plain": [
       "ExtraTreesClassifier()"
      ]
     },
     "execution_count": 32,
     "metadata": {},
     "output_type": "execute_result"
    }
   ],
   "source": [
    "from sklearn.ensemble import ExtraTreesClassifier\n",
    "extratree = ExtraTreesClassifier()\n",
    "extratree.fit(X_train, y_train)"
   ]
  },
  {
   "cell_type": "code",
   "execution_count": 33,
   "id": "bf05f679",
   "metadata": {},
   "outputs": [],
   "source": [
    "y_pred5 = extratree.predict(X_test)"
   ]
  },
  {
   "cell_type": "code",
   "execution_count": 34,
   "id": "dc1d301e",
   "metadata": {},
   "outputs": [
    {
     "name": "stdout",
     "output_type": "stream",
     "text": [
      "Accuracy is: 95.48263479132565\n"
     ]
    }
   ],
   "source": [
    "from sklearn.metrics import accuracy_score\n",
    "accuracy = {accuracy_score(y_test, y_pred5)}\n",
    "print(f\"Accuracy is: {accuracy_score(y_test, y_pred5)* 100}\")"
   ]
  },
  {
   "cell_type": "code",
   "execution_count": 35,
   "id": "5300e4d7",
   "metadata": {},
   "outputs": [
    {
     "name": "stdout",
     "output_type": "stream",
     "text": [
      "\u001b[1mClassification report : \u001b[0m\n",
      "               precision    recall  f1-score   support\n",
      "\n",
      "           0       0.94      0.99      0.97     39171\n",
      "           1       0.98      0.92      0.95      1948\n",
      "           2       0.98      0.91      0.94      2393\n",
      "           3       0.97      0.89      0.92      2279\n",
      "           4       0.98      0.92      0.95      2303\n",
      "           5       0.97      0.94      0.96      2129\n",
      "           6       0.99      0.97      0.98      2103\n",
      "           7       0.97      0.90      0.93      2131\n",
      "           8       0.98      0.93      0.95      2256\n",
      "           9       0.96      0.90      0.93      2332\n",
      "          10       0.93      0.81      0.87      2518\n",
      "          11       0.97      0.96      0.96      2252\n",
      "          12       0.95      0.83      0.88      2438\n",
      "          13       0.99      0.94      0.97      1487\n",
      "          14       0.97      0.93      0.95      1393\n",
      "          15       0.96      0.90      0.93      1511\n",
      "          16       0.99      0.96      0.97      1565\n",
      "          17       0.98      0.93      0.95      1684\n",
      "          18       0.99      0.94      0.96       838\n",
      "          19       1.00      0.95      0.97       766\n",
      "          20       1.00      0.96      0.98       882\n",
      "          21       1.00      0.97      0.98       688\n",
      "          22       0.99      0.97      0.98       862\n",
      "          23       0.98      0.96      0.97       878\n",
      "\n",
      "    accuracy                           0.95     78807\n",
      "   macro avg       0.98      0.93      0.95     78807\n",
      "weighted avg       0.96      0.95      0.95     78807\n",
      "\n",
      "\u001b[1mConfusion Matrix : \u001b[0m\n"
     ]
    },
    {
     "data": {
      "image/png": "[encoded data removed]",
      "text/plain": [
       "<Figure size 432x288 with 2 Axes>"
      ]
     },
     "metadata": {
      "needs_background": "light"
     },
     "output_type": "display_data"
    }
   ],
   "source": [
    "print('\\033[1m' +'Classification report : '+ '\\033[0m\\n', classification_report(y_test, y_pred5))\n",
    "\n",
    "cm = confusion_matrix(y_pred5, y_test)\n",
    "print('\\033[1m' +'Confusion Matrix : '+ '\\033[0m')\n",
    "sns.heatmap(cm, cmap = 'OrRd',annot = True, fmt='d')\n",
    "plt.show()"
   ]
  },
  {
   "cell_type": "markdown",
   "id": "1e516628",
   "metadata": {},
   "source": [
    "# Evaluation -- ExtraTreesClassifier"
   ]
  },
  {
   "cell_type": "code",
   "execution_count": 36,
   "id": "dfbde802",
   "metadata": {},
   "outputs": [
    {
     "name": "stdout",
     "output_type": "stream",
     "text": [
      "MAE: 0.37329171266511857\n",
      "MSE: 4.227974672300684\n",
      "RMSE: 2.0562039471561873\n"
     ]
    }
   ],
   "source": [
    "from sklearn import metrics\n",
    "\n",
    "print('MAE:', metrics.mean_absolute_error(y_test,y_pred5))\n",
    "print('MSE:', metrics.mean_squared_error(y_test, y_pred5))\n",
    "print('RMSE:', np.sqrt(metrics.mean_squared_error(y_test, y_pred5)))"
   ]
  },
  {
   "cell_type": "code",
   "execution_count": 37,
   "id": "a66f67fb",
   "metadata": {},
   "outputs": [
    {
     "name": "stdout",
     "output_type": "stream",
     "text": [
      "Precision Score :  0.9556723752419938\n",
      "Recall Score :  0.9548263479132565\n",
      "f1_score :  0.9542445400198114\n"
     ]
    }
   ],
   "source": [
    "from sklearn.metrics import precision_score\n",
    "print(\"Precision Score : \",precision_score(y_test, y_pred5, average='weighted'))\n",
    "\n",
    "\n",
    "from sklearn.metrics import recall_score\n",
    "print(\"Recall Score : \",recall_score(y_test, y_pred5,average='weighted'))\n",
    "\n",
    "\n",
    "from sklearn.metrics import f1_score\n",
    "print(\"f1_score : \",f1_score(y_test, y_pred5,average='weighted'))"
   ]
  },
  {
   "cell_type": "markdown",
   "id": "5dc7f95e",
   "metadata": {},
   "source": [
    "# Random Forest"
   ]
  },
  {
   "cell_type": "code",
   "execution_count": 38,
   "id": "763a6ba8",
   "metadata": {},
   "outputs": [
    {
     "data": {
      "text/plain": [
       "RandomForestClassifier()"
      ]
     },
     "execution_count": 38,
     "metadata": {},
     "output_type": "execute_result"
    }
   ],
   "source": [
    "from sklearn.ensemble import RandomForestClassifier\n",
    "RandomForestClassifier = RandomForestClassifier()\n",
    "RandomForestClassifier.fit(X_train, y_train)"
   ]
  },
  {
   "cell_type": "code",
   "execution_count": 39,
   "id": "24817338",
   "metadata": {},
   "outputs": [],
   "source": [
    "y_pred3 = RandomForestClassifier.predict(X_test)"
   ]
  },
  {
   "cell_type": "code",
   "execution_count": 40,
   "id": "37089ca4",
   "metadata": {},
   "outputs": [
    {
     "name": "stdout",
     "output_type": "stream",
     "text": [
      "Accuracy is: 94.5004885352824\n"
     ]
    }
   ],
   "source": [
    "from sklearn.metrics import accuracy_score\n",
    "accuracy = {accuracy_score(y_test, y_pred3)}\n",
    "print(f\"Accuracy is: {accuracy_score(y_test, y_pred3)* 100}\")"
   ]
  },
  {
   "cell_type": "code",
   "execution_count": 41,
   "id": "5358b685",
   "metadata": {},
   "outputs": [
    {
     "name": "stdout",
     "output_type": "stream",
     "text": [
      "\u001b[1mClassification report : \u001b[0m\n",
      "               precision    recall  f1-score   support\n",
      "\n",
      "           0       0.94      0.99      0.96     39171\n",
      "           1       0.96      0.91      0.93      1948\n",
      "           2       0.96      0.90      0.92      2393\n",
      "           3       0.95      0.87      0.91      2279\n",
      "           4       0.95      0.89      0.92      2303\n",
      "           5       0.95      0.92      0.94      2129\n",
      "           6       0.98      0.96      0.97      2103\n",
      "           7       0.94      0.89      0.91      2131\n",
      "           8       0.96      0.91      0.93      2256\n",
      "           9       0.94      0.88      0.91      2332\n",
      "          10       0.89      0.79      0.84      2518\n",
      "          11       0.96      0.94      0.95      2252\n",
      "          12       0.92      0.81      0.87      2438\n",
      "          13       0.98      0.92      0.95      1487\n",
      "          14       0.96      0.92      0.94      1393\n",
      "          15       0.94      0.89      0.91      1511\n",
      "          16       0.96      0.94      0.95      1565\n",
      "          17       0.97      0.91      0.94      1684\n",
      "          18       0.98      0.91      0.95       838\n",
      "          19       0.99      0.93      0.96       766\n",
      "          20       0.99      0.94      0.97       882\n",
      "          21       0.98      0.94      0.96       688\n",
      "          22       0.98      0.96      0.97       862\n",
      "          23       0.97      0.94      0.95       878\n",
      "\n",
      "    accuracy                           0.95     78807\n",
      "   macro avg       0.96      0.91      0.93     78807\n",
      "weighted avg       0.95      0.95      0.94     78807\n",
      "\n",
      "\u001b[1mConfusion Matrix : \u001b[0m\n"
     ]
    },
    {
     "data": {
      "image/png": "[encoded data removed]",
      "text/plain": [
       "<Figure size 432x288 with 2 Axes>"
      ]
     },
     "metadata": {
      "needs_background": "light"
     },
     "output_type": "display_data"
    }
   ],
   "source": [
    "print('\\033[1m' +'Classification report : '+ '\\033[0m\\n', classification_report(y_test, y_pred3))\n",
    "\n",
    "cm = confusion_matrix(y_pred3, y_test)\n",
    "print('\\033[1m' +'Confusion Matrix : '+ '\\033[0m')\n",
    "sns.heatmap(cm, cmap = 'OrRd',annot = True, fmt='d')\n",
    "plt.show()"
   ]
  },
  {
   "cell_type": "markdown",
   "id": "75f7fe8b",
   "metadata": {},
   "source": [
    "# Evaluation -- Random Forest"
   ]
  },
  {
   "cell_type": "code",
   "execution_count": 42,
   "id": "29a1cece",
   "metadata": {},
   "outputs": [
    {
     "name": "stdout",
     "output_type": "stream",
     "text": [
      "MAE: 0.4327280571522834\n",
      "MSE: 4.8409151471316\n",
      "RMSE: 2.2002079781537924\n"
     ]
    }
   ],
   "source": [
    "from sklearn import metrics\n",
    "\n",
    "print('MAE:', metrics.mean_absolute_error(y_test,y_pred3))\n",
    "print('MSE:', metrics.mean_squared_error(y_test, y_pred3))\n",
    "print('RMSE:', np.sqrt(metrics.mean_squared_error(y_test, y_pred3)))"
   ]
  },
  {
   "cell_type": "code",
   "execution_count": 43,
   "id": "ebada233",
   "metadata": {},
   "outputs": [
    {
     "name": "stdout",
     "output_type": "stream",
     "text": [
      "Precision Score :  0.9452624858248369\n",
      "Recall Score :  0.945004885352824\n",
      "f1_score :  0.9442364367427335\n"
     ]
    }
   ],
   "source": [
    "from sklearn.metrics import precision_score\n",
    "print(\"Precision Score : \",precision_score(y_test, y_pred3, average='weighted'))\n",
    "\n",
    "\n",
    "from sklearn.metrics import recall_score\n",
    "print(\"Recall Score : \",recall_score(y_test, y_pred3,average='weighted'))\n",
    "\n",
    "\n",
    "from sklearn.metrics import f1_score\n",
    "print(\"f1_score : \",f1_score(y_test, y_pred3,average='weighted'))"
   ]
  },
  {
   "cell_type": "markdown",
   "id": "c3cac0b4",
   "metadata": {},
   "source": [
    "# XGBoost"
   ]
  },
  {
   "cell_type": "code",
   "execution_count": 44,
   "id": "d28fa486",
   "metadata": {},
   "outputs": [
    {
     "name": "stderr",
     "output_type": "stream",
     "text": [
      "E:\\MachineLearning\\envs\\gpu\\lib\\site-packages\\xgboost\\compat.py:36: FutureWarning: pandas.Int64Index is deprecated and will be removed from pandas in a future version. Use pandas.Index with the appropriate dtype instead.\n",
      "  from pandas import MultiIndex, Int64Index\n",
      "E:\\MachineLearning\\envs\\gpu\\lib\\site-packages\\xgboost\\sklearn.py:1224: UserWarning: The use of label encoder in XGBClassifier is deprecated and will be removed in a future release. To remove this warning, do the following: 1) Pass option use_label_encoder=False when constructing XGBClassifier object; and 2) Encode your labels (y) as integers starting with 0, i.e. 0, 1, 2, ..., [num_class - 1].\n",
      "  warnings.warn(label_encoder_deprecation_msg, UserWarning)\n"
     ]
    },
    {
     "name": "stdout",
     "output_type": "stream",
     "text": [
      "[18:21:00] WARNING: C:/Users/Administrator/workspace/xgboost-win64_release_1.5.1/src/learner.cc:1115: Starting in XGBoost 1.3.0, the default evaluation metric used with the objective 'multi:softprob' was changed from 'merror' to 'mlogloss'. Explicitly set eval_metric if you'd like to restore the old behavior.\n"
     ]
    },
    {
     "data": {
      "text/plain": [
       "XGBClassifier(base_score=0.5, booster='gbtree', colsample_bylevel=1,\n",
       "              colsample_bynode=1, colsample_bytree=1, enable_categorical=False,\n",
       "              gamma=0, gpu_id=-1, importance_type=None,\n",
       "              interaction_constraints='', learning_rate=0.300000012,\n",
       "              max_delta_step=0, max_depth=6, min_child_weight=1, missing=nan,\n",
       "              monotone_constraints='()', n_estimators=100, n_jobs=12,\n",
       "              num_parallel_tree=1, objective='multi:softprob', predictor='auto',\n",
       "              random_state=0, reg_alpha=0, reg_lambda=1, scale_pos_weight=None,\n",
       "              subsample=1, tree_method='exact', validate_parameters=1,\n",
       "              verbosity=None)"
      ]
     },
     "execution_count": 44,
     "metadata": {},
     "output_type": "execute_result"
    }
   ],
   "source": [
    "from xgboost import XGBClassifier\n",
    "xgb = XGBClassifier()\n",
    "xgb.fit(X_train, y_train)"
   ]
  },
  {
   "cell_type": "code",
   "execution_count": 45,
   "id": "7b89e617",
   "metadata": {},
   "outputs": [],
   "source": [
    "y_pred4 = xgb.predict(X_test)"
   ]
  },
  {
   "cell_type": "code",
   "execution_count": 46,
   "id": "336cd24a",
   "metadata": {},
   "outputs": [
    {
     "name": "stdout",
     "output_type": "stream",
     "text": [
      "Accuracy is: 89.6760440062431\n"
     ]
    }
   ],
   "source": [
    "from sklearn.metrics import accuracy_score\n",
    "accuracy = {accuracy_score(y_test, y_pred4)}\n",
    "print(f\"Accuracy is: {accuracy_score(y_test, y_pred4)* 100}\")"
   ]
  },
  {
   "cell_type": "code",
   "execution_count": 47,
   "id": "2092f3be",
   "metadata": {},
   "outputs": [
    {
     "name": "stdout",
     "output_type": "stream",
     "text": [
      "\u001b[1mClassification report : \u001b[0m\n",
      "               precision    recall  f1-score   support\n",
      "\n",
      "           0       0.92      0.98      0.95     39171\n",
      "           1       0.89      0.81      0.85      1948\n",
      "           2       0.90      0.82      0.86      2393\n",
      "           3       0.86      0.78      0.82      2279\n",
      "           4       0.87      0.80      0.84      2303\n",
      "           5       0.85      0.81      0.83      2129\n",
      "           6       0.94      0.91      0.92      2103\n",
      "           7       0.87      0.83      0.85      2131\n",
      "           8       0.89      0.82      0.85      2256\n",
      "           9       0.80      0.72      0.76      2332\n",
      "          10       0.75      0.65      0.70      2518\n",
      "          11       0.88      0.85      0.86      2252\n",
      "          12       0.83      0.72      0.77      2438\n",
      "          13       0.90      0.84      0.87      1487\n",
      "          14       0.87      0.84      0.85      1393\n",
      "          15       0.83      0.80      0.81      1511\n",
      "          16       0.89      0.84      0.87      1565\n",
      "          17       0.93      0.87      0.90      1684\n",
      "          18       0.94      0.89      0.92       838\n",
      "          19       0.97      0.90      0.93       766\n",
      "          20       0.96      0.92      0.94       882\n",
      "          21       0.94      0.88      0.91       688\n",
      "          22       0.96      0.94      0.95       862\n",
      "          23       0.92      0.90      0.91       878\n",
      "\n",
      "    accuracy                           0.90     78807\n",
      "   macro avg       0.89      0.84      0.86     78807\n",
      "weighted avg       0.89      0.90      0.89     78807\n",
      "\n",
      "\u001b[1mConfusion Matrix : \u001b[0m\n"
     ]
    },
    {
     "data": {
      "image/png": "[encoded data removed]",
      "text/plain": [
       "<Figure size 432x288 with 2 Axes>"
      ]
     },
     "metadata": {
      "needs_background": "light"
     },
     "output_type": "display_data"
    }
   ],
   "source": [
    "print('\\033[1m' +'Classification report : '+ '\\033[0m\\n', classification_report(y_test, y_pred4))\n",
    "\n",
    "cm = confusion_matrix(y_pred4, y_test)\n",
    "print('\\033[1m' +'Confusion Matrix : '+ '\\033[0m')\n",
    "sns.heatmap(cm, cmap = 'OrRd',annot = True, fmt='d')\n",
    "plt.show()"
   ]
  },
  {
   "cell_type": "markdown",
   "id": "4c8e2e10",
   "metadata": {},
   "source": [
    "# Evaluation -- XGBoost"
   ]
  },
  {
   "cell_type": "code",
   "execution_count": 48,
   "id": "5eef5c67",
   "metadata": {},
   "outputs": [
    {
     "name": "stdout",
     "output_type": "stream",
     "text": [
      "MAE: 0.7330947758447853\n",
      "MSE: 7.792848351034807\n",
      "RMSE: 2.791567364588361\n"
     ]
    }
   ],
   "source": [
    "from sklearn import metrics\n",
    "\n",
    "print('MAE:', metrics.mean_absolute_error(y_test,y_pred4))\n",
    "print('MSE:', metrics.mean_squared_error(y_test, y_pred4))\n",
    "print('RMSE:', np.sqrt(metrics.mean_squared_error(y_test, y_pred4)))"
   ]
  },
  {
   "cell_type": "code",
   "execution_count": 49,
   "id": "22aae28f",
   "metadata": {},
   "outputs": [
    {
     "name": "stdout",
     "output_type": "stream",
     "text": [
      "Precision Score :  0.8948227161114496\n",
      "Recall Score :  0.896760440062431\n",
      "f1_score :  0.8945666174347329\n"
     ]
    }
   ],
   "source": [
    "from sklearn.metrics import precision_score\n",
    "print(\"Precision Score : \",precision_score(y_test, y_pred4, average='weighted'))\n",
    "\n",
    "\n",
    "from sklearn.metrics import recall_score\n",
    "print(\"Recall Score : \",recall_score(y_test, y_pred4,average='weighted'))\n",
    "\n",
    "\n",
    "from sklearn.metrics import f1_score\n",
    "print(\"f1_score : \",f1_score(y_test, y_pred4,average='weighted'))"
   ]
  },
  {
   "cell_type": "code",
   "execution_count": null,
   "id": "9e052c75",
   "metadata": {},
   "outputs": [],
   "source": []
  },
  {
   "cell_type": "code",
   "execution_count": null,
   "id": "b3f42aaa",
   "metadata": {},
   "outputs": [],
   "source": []
  }
 ],
 "metadata": {
  "kernelspec": {
   "display_name": "Python 3 (ipykernel)",
   "language": "python",
   "name": "python3"
  },
  "language_info": {
   "codemirror_mode": {
    "name": "ipython",
    "version": 3
   },
   "file_extension": ".py",
   "mimetype": "text/x-python",
   "name": "python",
   "nbconvert_exporter": "python",
   "pygments_lexer": "ipython3",
   "version": "3.8.12"
  }
 },
 "nbformat": 4,
 "nbformat_minor": 5
}
